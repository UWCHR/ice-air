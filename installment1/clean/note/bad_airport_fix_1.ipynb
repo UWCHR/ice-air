{
 "cells": [
  {
   "cell_type": "code",
   "execution_count": 152,
   "metadata": {},
   "outputs": [],
   "source": [
    "import pandas as pd\n",
    "import yaml"
   ]
  },
  {
   "cell_type": "code",
   "execution_count": 153,
   "metadata": {},
   "outputs": [],
   "source": [
    "with open('../input/dtypes.yaml', 'r') as yamlfile:\n",
    "    dtypes = yaml.load(yamlfile)"
   ]
  },
  {
   "cell_type": "code",
   "execution_count": 154,
   "metadata": {},
   "outputs": [],
   "source": [
    "read_csv_opts = {'sep': '|',\n",
    "                 'quotechar': '\"',\n",
    "                 'compression': 'gzip',\n",
    "                 'encoding': 'utf-8',\n",
    "                 'dtype': dtypes,\n",
    "                 'parse_dates': ['MissionDate'],\n",
    "                 'infer_datetime_format': True}"
   ]
  },
  {
   "cell_type": "code",
   "execution_count": 155,
   "metadata": {},
   "outputs": [],
   "source": [
    "fy11 = '../input/ARTS_Passenger_Data_FY11.csv.gz'\n",
    "fy12 = '../input/ARTS_Passenger_Data_FY12.csv.gz'\n",
    "fy13 = '../input/ARTS_Passenger_Data_FY13.csv.gz'\n",
    "fy14 = '../input/ARTS_Passenger_Data_FY14.csv.gz'\n",
    "fy15 = '../input/ARTS_Passenger_Data_FY15.csv.gz'\n",
    "fy16 = '../input/ARTS_Passenger_Data_FY16.csv.gz'\n",
    "fy17 = '../input/ARTS_Passenger_Data_FY17.csv.gz'\n",
    "fy18 = '../input/ARTS_Passenger_Data_FY18.csv.gz'\n",
    "fy19 = '../input/ARTS_Passenger_Data_FY19.csv.gz'"
   ]
  },
  {
   "cell_type": "code",
   "execution_count": 156,
   "metadata": {},
   "outputs": [],
   "source": [
    "arts_fy11 = pd.read_csv(fy11, **read_csv_opts)\n",
    "arts_fy12 = pd.read_csv(fy12, **read_csv_opts)\n",
    "arts_fy13 = pd.read_csv(fy13, **read_csv_opts)\n",
    "arts_fy14 = pd.read_csv(fy14, **read_csv_opts)\n",
    "arts_fy15 = pd.read_csv(fy15, **read_csv_opts)\n",
    "arts_fy16 = pd.read_csv(fy16, **read_csv_opts)\n",
    "arts_fy17 = pd.read_csv(fy17, **read_csv_opts)\n",
    "arts_fy18 = pd.read_csv(fy18, **read_csv_opts)\n",
    "arts_fy19 = pd.read_csv(fy19, **read_csv_opts)"
   ]
  },
  {
   "cell_type": "code",
   "execution_count": 157,
   "metadata": {},
   "outputs": [],
   "source": [
    "files = [arts_fy11,\n",
    "         arts_fy12,\n",
    "         arts_fy13,\n",
    "         arts_fy14,\n",
    "         arts_fy15,\n",
    "         arts_fy16,\n",
    "         arts_fy17,\n",
    "         arts_fy18,\n",
    "         arts_fy19]"
   ]
  },
  {
   "cell_type": "code",
   "execution_count": 158,
   "metadata": {},
   "outputs": [],
   "source": [
    "df = pd.concat(files, sort=False)"
   ]
  },
  {
   "cell_type": "code",
   "execution_count": 159,
   "metadata": {},
   "outputs": [],
   "source": [
    "duplicated = df[df.duplicated('AlienMasterID')]"
   ]
  },
  {
   "cell_type": "code",
   "execution_count": 160,
   "metadata": {},
   "outputs": [],
   "source": [
    "bad_puloc = list(duplicated['PULOC'].unique())"
   ]
  },
  {
   "cell_type": "code",
   "execution_count": 161,
   "metadata": {},
   "outputs": [],
   "source": [
    "bad_droploc = list(duplicated['DropLoc'].unique())"
   ]
  },
  {
   "cell_type": "code",
   "execution_count": 162,
   "metadata": {},
   "outputs": [],
   "source": [
    "bad_airports = pd.read_csv('../hand/bad_airports.csv')"
   ]
  },
  {
   "cell_type": "code",
   "execution_count": 163,
   "metadata": {},
   "outputs": [
    {
     "data": {
      "text/plain": [
       "Index(['Status', 'Sex', 'Convictions', 'GangMember', 'ClassLvl', 'Age',\n",
       "       'MissionDate', 'MissionNumber', 'PULOC', 'DropLoc', 'StrikeFromList',\n",
       "       'ReasonStruck', 'R-T', 'Code', 'CountryOfCitizenship', 'Juvenile',\n",
       "       'MissionWeek', 'MissionQuarter', 'MissionYear', 'MissionMonth',\n",
       "       'Criminality', 'FamilyUnitFlag', 'UnaccompaniedFlag', 'AlienMasterID',\n",
       "       'MissionID', 'air_AirportID', 'air_AirportName', 'air_City',\n",
       "       'st_StateID', 'st_StateAbbr', 'AOR_AORID', 'AOR_AOR', 'AOR_AORName',\n",
       "       'air_Country', 'air2_AirportID', 'air2_AirportName', 'air2_City',\n",
       "       'st2_StateID', 'st2_StateAbbr', 'aor2_AORID', 'aor2_AOR',\n",
       "       'aor2_AORName', 'air2_Country'],\n",
       "      dtype='object')"
      ]
     },
     "execution_count": 163,
     "metadata": {},
     "output_type": "execute_result"
    }
   ],
   "source": [
    "df.columns"
   ]
  },
  {
   "cell_type": "code",
   "execution_count": 164,
   "metadata": {},
   "outputs": [],
   "source": [
    "df['PULOC'] = df['PULOC'].str.upper()\n",
    "df['DropLoc'] = df['DropLoc'].str.upper()"
   ]
  },
  {
   "cell_type": "code",
   "execution_count": 165,
   "metadata": {},
   "outputs": [],
   "source": [
    "metadata = ['PULOC', 'DropLoc','air_AirportID', 'air_AirportName', 'air_City',\n",
    "            'st_StateID', 'st_StateAbbr', 'AOR_AORID', 'AOR_AOR', 'AOR_AORName',\n",
    "            'air_Country', 'air2_AirportID', 'air2_AirportName', 'air2_City',\n",
    "            'st2_StateID', 'st2_StateAbbr', 'aor2_AORID', 'aor2_AOR',\n",
    "            'aor2_AORName', 'air2_Country']"
   ]
  },
  {
   "cell_type": "code",
   "execution_count": 166,
   "metadata": {},
   "outputs": [],
   "source": [
    "pu_metadata = ['PULOC', 'air_AirportID', 'air_AirportName', 'air_City',\n",
    "            'st_StateID', 'st_StateAbbr', 'AOR_AORID', 'AOR_AOR', 'AOR_AORName',\n",
    "            'air_Country']"
   ]
  },
  {
   "cell_type": "code",
   "execution_count": 167,
   "metadata": {},
   "outputs": [],
   "source": [
    "do_metadata = ['DropLoc','air2_AirportID', 'air2_AirportName', 'air2_City',\n",
    "            'st2_StateID', 'st2_StateAbbr', 'aor2_AORID', 'aor2_AOR',\n",
    "            'aor2_AORName', 'air2_Country']"
   ]
  },
  {
   "cell_type": "code",
   "execution_count": 168,
   "metadata": {},
   "outputs": [],
   "source": [
    "standard_metadata = ['AirportCode', 'AirportID', 'AirportName', 'City',\n",
    "            'StateID', 'StateAbbr', 'AORID', 'AOR',\n",
    "            'AORName', 'Country']"
   ]
  },
  {
   "cell_type": "code",
   "execution_count": 169,
   "metadata": {},
   "outputs": [],
   "source": [
    "dup_meta = df[df.duplicated('AlienMasterID', keep=False)][metadata].drop_duplicates()"
   ]
  },
  {
   "cell_type": "code",
   "execution_count": 170,
   "metadata": {},
   "outputs": [],
   "source": [
    "pu_dup_meta = dup_meta[pu_metadata]\n",
    "do_dup_meta = dup_meta[do_metadata]"
   ]
  },
  {
   "cell_type": "code",
   "execution_count": 171,
   "metadata": {},
   "outputs": [],
   "source": [
    "pu_dup_meta.columns = standard_metadata\n",
    "do_dup_meta.columns = standard_metadata"
   ]
  },
  {
   "cell_type": "code",
   "execution_count": 172,
   "metadata": {},
   "outputs": [],
   "source": [
    "dup_meta = pd.concat([pu_dup_meta, do_dup_meta]).drop_duplicates()"
   ]
  },
  {
   "cell_type": "code",
   "execution_count": 173,
   "metadata": {},
   "outputs": [],
   "source": [
    "dup_meta = dup_meta.sort_values(by='AirportCode')"
   ]
  },
  {
   "cell_type": "code",
   "execution_count": 174,
   "metadata": {},
   "outputs": [
    {
     "data": {
      "text/html": [
       "<div>\n",
       "<style scoped>\n",
       "    .dataframe tbody tr th:only-of-type {\n",
       "        vertical-align: middle;\n",
       "    }\n",
       "\n",
       "    .dataframe tbody tr th {\n",
       "        vertical-align: top;\n",
       "    }\n",
       "\n",
       "    .dataframe thead th {\n",
       "        text-align: right;\n",
       "    }\n",
       "</style>\n",
       "<table border=\"1\" class=\"dataframe\">\n",
       "  <thead>\n",
       "    <tr style=\"text-align: right;\">\n",
       "      <th></th>\n",
       "      <th>AirportCode</th>\n",
       "      <th>AirportID</th>\n",
       "      <th>AirportName</th>\n",
       "      <th>City</th>\n",
       "      <th>StateID</th>\n",
       "      <th>StateAbbr</th>\n",
       "      <th>AORID</th>\n",
       "      <th>AOR</th>\n",
       "      <th>AORName</th>\n",
       "      <th>Country</th>\n",
       "    </tr>\n",
       "  </thead>\n",
       "  <tbody>\n",
       "    <tr>\n",
       "      <th>47132</th>\n",
       "      <td>HAAB</td>\n",
       "      <td>29.0</td>\n",
       "      <td>Bole International Airport</td>\n",
       "      <td>Addis Ababa</td>\n",
       "      <td>NaN</td>\n",
       "      <td>NaN</td>\n",
       "      <td>NaN</td>\n",
       "      <td>NaN</td>\n",
       "      <td>NaN</td>\n",
       "      <td>Ethiopia</td>\n",
       "    </tr>\n",
       "    <tr>\n",
       "      <th>47133</th>\n",
       "      <td>HAAB</td>\n",
       "      <td>244.0</td>\n",
       "      <td>Addis Ababa Bole International Airport</td>\n",
       "      <td>Bole</td>\n",
       "      <td>NaN</td>\n",
       "      <td>NaN</td>\n",
       "      <td>NaN</td>\n",
       "      <td>NaN</td>\n",
       "      <td>NaN</td>\n",
       "      <td>Ethiopia</td>\n",
       "    </tr>\n",
       "    <tr>\n",
       "      <th>86918</th>\n",
       "      <td>KMHR</td>\n",
       "      <td>NaN</td>\n",
       "      <td>NaN</td>\n",
       "      <td>NaN</td>\n",
       "      <td>NaN</td>\n",
       "      <td>NaN</td>\n",
       "      <td>NaN</td>\n",
       "      <td>NaN</td>\n",
       "      <td>NaN</td>\n",
       "      <td>NaN</td>\n",
       "    </tr>\n",
       "    <tr>\n",
       "      <th>192703</th>\n",
       "      <td>KNYL</td>\n",
       "      <td>91.0</td>\n",
       "      <td>Yuma MCAS/Yuma International Airport</td>\n",
       "      <td>Yuma Naval</td>\n",
       "      <td>4.0</td>\n",
       "      <td>AZ</td>\n",
       "      <td>17.0</td>\n",
       "      <td>PHO</td>\n",
       "      <td>Phoenix</td>\n",
       "      <td>USA</td>\n",
       "    </tr>\n",
       "    <tr>\n",
       "      <th>192704</th>\n",
       "      <td>KNYL</td>\n",
       "      <td>90.0</td>\n",
       "      <td>Yuma MCAS/Yuma International Airport</td>\n",
       "      <td>Yuma</td>\n",
       "      <td>3.0</td>\n",
       "      <td>AR</td>\n",
       "      <td>17.0</td>\n",
       "      <td>PHO</td>\n",
       "      <td>Phoenix</td>\n",
       "      <td>USA</td>\n",
       "    </tr>\n",
       "    <tr>\n",
       "      <th>105634</th>\n",
       "      <td>ORBI</td>\n",
       "      <td>289.0</td>\n",
       "      <td>Baghdad International Airport</td>\n",
       "      <td>Baghdad</td>\n",
       "      <td>NaN</td>\n",
       "      <td>NaN</td>\n",
       "      <td>NaN</td>\n",
       "      <td>NaN</td>\n",
       "      <td>NaN</td>\n",
       "      <td>Iraq</td>\n",
       "    </tr>\n",
       "    <tr>\n",
       "      <th>105635</th>\n",
       "      <td>ORBI</td>\n",
       "      <td>165.0</td>\n",
       "      <td>Baghdad International Airport</td>\n",
       "      <td>Baghdad</td>\n",
       "      <td>NaN</td>\n",
       "      <td>NaN</td>\n",
       "      <td>NaN</td>\n",
       "      <td>NaN</td>\n",
       "      <td>NaN</td>\n",
       "      <td>Iraq</td>\n",
       "    </tr>\n",
       "  </tbody>\n",
       "</table>\n",
       "</div>"
      ],
      "text/plain": [
       "       AirportCode  AirportID                             AirportName  \\\n",
       "47132         HAAB       29.0              Bole International Airport   \n",
       "47133         HAAB      244.0  Addis Ababa Bole International Airport   \n",
       "86918         KMHR        NaN                                     NaN   \n",
       "192703        KNYL       91.0    Yuma MCAS/Yuma International Airport   \n",
       "192704        KNYL       90.0    Yuma MCAS/Yuma International Airport   \n",
       "105634        ORBI      289.0           Baghdad International Airport   \n",
       "105635        ORBI      165.0           Baghdad International Airport   \n",
       "\n",
       "               City  StateID StateAbbr  AORID  AOR  AORName   Country  \n",
       "47132   Addis Ababa      NaN       NaN    NaN  NaN      NaN  Ethiopia  \n",
       "47133          Bole      NaN       NaN    NaN  NaN      NaN  Ethiopia  \n",
       "86918           NaN      NaN       NaN    NaN  NaN      NaN       NaN  \n",
       "192703   Yuma Naval      4.0        AZ   17.0  PHO  Phoenix       USA  \n",
       "192704         Yuma      3.0        AR   17.0  PHO  Phoenix       USA  \n",
       "105634      Baghdad      NaN       NaN    NaN  NaN      NaN      Iraq  \n",
       "105635      Baghdad      NaN       NaN    NaN  NaN      NaN      Iraq  "
      ]
     },
     "execution_count": 174,
     "metadata": {},
     "output_type": "execute_result"
    }
   ],
   "source": [
    "dup_meta[dup_meta.AirportCode.isin(bad_airports.airport_code)]"
   ]
  },
  {
   "cell_type": "code",
   "execution_count": 175,
   "metadata": {},
   "outputs": [
    {
     "data": {
      "text/plain": [
       "1733555"
      ]
     },
     "execution_count": 175,
     "metadata": {},
     "output_type": "execute_result"
    }
   ],
   "source": [
    "len(df.drop_duplicates('AlienMasterID'))"
   ]
  },
  {
   "cell_type": "code",
   "execution_count": 176,
   "metadata": {},
   "outputs": [],
   "source": [
    "df = df[~df['air_AirportID'].isin([29.0, 90.0, 165.0])]\n",
    "df = df[~df['air2_AirportID'].isin([29.0, 90.0, 165.0])]"
   ]
  },
  {
   "cell_type": "code",
   "execution_count": 177,
   "metadata": {},
   "outputs": [
    {
     "data": {
      "text/plain": [
       "1733555"
      ]
     },
     "execution_count": 177,
     "metadata": {},
     "output_type": "execute_result"
    }
   ],
   "source": [
    "len(df)"
   ]
  },
  {
   "cell_type": "code",
   "execution_count": null,
   "metadata": {},
   "outputs": [],
   "source": []
  }
 ],
 "metadata": {
  "kernelspec": {
   "display_name": "Python 3",
   "language": "python",
   "name": "python3"
  },
  "language_info": {
   "codemirror_mode": {
    "name": "ipython",
    "version": 3
   },
   "file_extension": ".py",
   "mimetype": "text/x-python",
   "name": "python",
   "nbconvert_exporter": "python",
   "pygments_lexer": "ipython3",
   "version": "3.7.1"
  }
 },
 "nbformat": 4,
 "nbformat_minor": 2
}
