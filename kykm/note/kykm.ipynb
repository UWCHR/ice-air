{
 "cells": [
  {
   "cell_type": "code",
   "execution_count": 1,
   "metadata": {},
   "outputs": [],
   "source": [
    "import pandas as pd\n",
    "import numpy as np\n",
    "import yaml\n",
    "import matplotlib.pyplot as plt\n",
    "import matplotlib.ticker as ticker"
   ]
  },
  {
   "cell_type": "code",
   "execution_count": 2,
   "metadata": {},
   "outputs": [],
   "source": [
    "with open('../input/passenger-dtypes.yaml', 'r') as yamlfile:\n",
    "    column_types = yaml.load(yamlfile)\n",
    "\n",
    "read_csv_opts = {'sep': '|',\n",
    "                 'quotechar': '\"',\n",
    "                 'compression': 'gzip',\n",
    "                 'encoding': 'utf-8',\n",
    "                 'dtype': column_types,\n",
    "                 'parse_dates': ['MissionDate'],\n",
    "                 'infer_datetime_format': True}\n",
    "\n",
    "df = pd.read_csv('../input/ice-air-passengers.csv.gz', **read_csv_opts)"
   ]
  },
  {
   "cell_type": "code",
   "execution_count": 3,
   "metadata": {},
   "outputs": [],
   "source": [
    "pickups = df['PULOC'] == 'KBFI'\n",
    "dropoffs = df['DropLoc'] == 'KBFI'\n",
    "kbfi = df.loc[pickups | dropoffs]"
   ]
  },
  {
   "cell_type": "code",
   "execution_count": 4,
   "metadata": {},
   "outputs": [],
   "source": [
    "kbfi.set_index('MissionDate', inplace=True)"
   ]
  },
  {
   "cell_type": "code",
   "execution_count": 5,
   "metadata": {},
   "outputs": [],
   "source": [
    "kbfi = kbfi['2018-10-01':]"
   ]
  },
  {
   "cell_type": "code",
   "execution_count": 6,
   "metadata": {},
   "outputs": [],
   "source": [
    "del df"
   ]
  },
  {
   "cell_type": "code",
   "execution_count": 7,
   "metadata": {},
   "outputs": [],
   "source": [
    "# kykm = pd.read_csv('../input/ICEAirKYKM20191016.csv', header=1)\n",
    "# kykm = pd.read_csv('../input/ICEAirKYKM20191226.csv', header=1)\n",
    "kykm = pd.read_csv('../input/ICEAirKYKM20191231.csv', header=1)"
   ]
  },
  {
   "cell_type": "code",
   "execution_count": 8,
   "metadata": {},
   "outputs": [
    {
     "data": {
      "text/plain": [
       "Index(['Date', 'Flight count', 'Flight number', 'Tail number', 'Operator',\n",
       "       'Owner', 'Previous Airport', 'Next Airport',\n",
       "       'From NWDC - Boarded Plane', 'From Plane - Boarded Bus to NWDC',\n",
       "       'From NWDC - Boarded Plane.1', 'From Plane - Boarded Bus to NWDC.1',\n",
       "       'Snoq Pass', 'White Pass', '# Buses', 'Observations', 'Link'],\n",
       "      dtype='object')"
      ]
     },
     "execution_count": 8,
     "metadata": {},
     "output_type": "execute_result"
    }
   ],
   "source": [
    "kykm.columns"
   ]
  },
  {
   "cell_type": "code",
   "execution_count": 9,
   "metadata": {},
   "outputs": [],
   "source": [
    "kykm = kykm.drop(['From NWDC - Boarded Plane.1', 'From Plane - Boarded Bus to NWDC.1'], axis=1)"
   ]
  },
  {
   "cell_type": "code",
   "execution_count": 10,
   "metadata": {},
   "outputs": [],
   "source": [
    "kykm = kykm.rename({'From NWDC - Boarded Plane': 'Pickups', 'From Plane - Boarded Bus to NWDC': 'Dropoffs'}, axis=1)"
   ]
  },
  {
   "cell_type": "code",
   "execution_count": 11,
   "metadata": {},
   "outputs": [],
   "source": [
    "kykm = kykm.drop(range(46, len(kykm)))"
   ]
  },
  {
   "cell_type": "code",
   "execution_count": 12,
   "metadata": {},
   "outputs": [],
   "source": [
    "kykm['Date'] = pd.to_datetime(kykm['Date'])"
   ]
  },
  {
   "cell_type": "code",
   "execution_count": 13,
   "metadata": {},
   "outputs": [],
   "source": [
    "kykm.set_index('Date', inplace=True)"
   ]
  },
  {
   "cell_type": "code",
   "execution_count": 14,
   "metadata": {},
   "outputs": [],
   "source": [
    "kykm = kykm[['Pickups', 'Dropoffs']]"
   ]
  },
  {
   "cell_type": "code",
   "execution_count": 15,
   "metadata": {},
   "outputs": [],
   "source": [
    "kykm['Airport'] = 'KYKM'"
   ]
  },
  {
   "cell_type": "code",
   "execution_count": 16,
   "metadata": {},
   "outputs": [],
   "source": [
    "kykm.loc[:,['Pickups', 'Dropoffs']] = kykm[['Pickups', 'Dropoffs']].replace('-', np.nan)"
   ]
  },
  {
   "cell_type": "code",
   "execution_count": 17,
   "metadata": {},
   "outputs": [],
   "source": [
    "kykm.loc[:,['Pickups', 'Dropoffs']] = kykm.loc[:,['Pickups', 'Dropoffs']].astype(float)"
   ]
  },
  {
   "cell_type": "code",
   "execution_count": 18,
   "metadata": {},
   "outputs": [
    {
     "data": {
      "image/png": "[encoded data removed]",
      "text/plain": [
       "<Figure size 432x288 with 1 Axes>"
      ]
     },
     "metadata": {
      "needs_background": "light"
     },
     "output_type": "display_data"
    }
   ],
   "source": [
    "kykm.resample('M')[['Pickups', 'Dropoffs']].sum().plot(kind='bar', stacked=True);"
   ]
  },
  {
   "cell_type": "code",
   "execution_count": 19,
   "metadata": {
    "scrolled": false
   },
   "outputs": [
    {
     "data": {
      "image/png": "[encoded data removed]",
      "text/plain": [
       "<Figure size 432x288 with 1 Axes>"
      ]
     },
     "metadata": {
      "needs_background": "light"
     },
     "output_type": "display_data"
    }
   ],
   "source": [
    "kykm.resample('M')[['Pickups', 'Dropoffs']].sum().plot(kind='bar', stacked=True);"
   ]
  },
  {
   "cell_type": "code",
   "execution_count": 20,
   "metadata": {},
   "outputs": [],
   "source": [
    "pickups = kbfi['PULOC'] == 'KBFI'\n",
    "dropoffs = kbfi['DropLoc'] == 'KBFI'"
   ]
  },
  {
   "cell_type": "code",
   "execution_count": 21,
   "metadata": {},
   "outputs": [],
   "source": [
    "d = {'Pickups': kbfi[pickups].resample('D').size(), 'Dropoffs': kbfi[dropoffs].resample('D').size()}"
   ]
  },
  {
   "cell_type": "code",
   "execution_count": 22,
   "metadata": {},
   "outputs": [],
   "source": [
    "kbfi = pd.DataFrame(d)\n",
    "kbfi = kbfi[(kbfi.T != 0).any()]"
   ]
  },
  {
   "cell_type": "code",
   "execution_count": 23,
   "metadata": {},
   "outputs": [],
   "source": [
    "kbfi['Airport'] = 'KBFI'"
   ]
  },
  {
   "cell_type": "code",
   "execution_count": 24,
   "metadata": {},
   "outputs": [
    {
     "data": {
      "image/png": "[encoded data removed]",
      "text/plain": [
       "<Figure size 432x288 with 1 Axes>"
      ]
     },
     "metadata": {
      "needs_background": "light"
     },
     "output_type": "display_data"
    }
   ],
   "source": [
    "kbfi.resample('W')[['Pickups', 'Dropoffs']].sum().plot(kind='bar', stacked=True);"
   ]
  },
  {
   "cell_type": "code",
   "execution_count": 25,
   "metadata": {},
   "outputs": [
    {
     "data": {
      "text/html": [
       "<div>\n",
       "<style scoped>\n",
       "    .dataframe tbody tr th:only-of-type {\n",
       "        vertical-align: middle;\n",
       "    }\n",
       "\n",
       "    .dataframe tbody tr th {\n",
       "        vertical-align: top;\n",
       "    }\n",
       "\n",
       "    .dataframe thead th {\n",
       "        text-align: right;\n",
       "    }\n",
       "</style>\n",
       "<table border=\"1\" class=\"dataframe\">\n",
       "  <thead>\n",
       "    <tr style=\"text-align: right;\">\n",
       "      <th></th>\n",
       "      <th>Pickups</th>\n",
       "      <th>Dropoffs</th>\n",
       "    </tr>\n",
       "    <tr>\n",
       "      <th>MissionDate</th>\n",
       "      <th></th>\n",
       "      <th></th>\n",
       "    </tr>\n",
       "  </thead>\n",
       "  <tbody>\n",
       "    <tr>\n",
       "      <th>2019-01-31</th>\n",
       "      <td>369</td>\n",
       "      <td>315</td>\n",
       "    </tr>\n",
       "    <tr>\n",
       "      <th>2019-02-28</th>\n",
       "      <td>246</td>\n",
       "      <td>171</td>\n",
       "    </tr>\n",
       "    <tr>\n",
       "      <th>2019-03-31</th>\n",
       "      <td>346</td>\n",
       "      <td>235</td>\n",
       "    </tr>\n",
       "    <tr>\n",
       "      <th>2019-04-30</th>\n",
       "      <td>398</td>\n",
       "      <td>365</td>\n",
       "    </tr>\n",
       "  </tbody>\n",
       "</table>\n",
       "</div>"
      ],
      "text/plain": [
       "             Pickups  Dropoffs\n",
       "MissionDate                   \n",
       "2019-01-31       369       315\n",
       "2019-02-28       246       171\n",
       "2019-03-31       346       235\n",
       "2019-04-30       398       365"
      ]
     },
     "execution_count": 25,
     "metadata": {},
     "output_type": "execute_result"
    }
   ],
   "source": [
    "kbfi.loc['2019'].resample('M')[['Pickups', 'Dropoffs']].sum()"
   ]
  },
  {
   "cell_type": "code",
   "execution_count": 26,
   "metadata": {},
   "outputs": [],
   "source": [
    "temp = pd.concat([kbfi, kykm])"
   ]
  },
  {
   "cell_type": "code",
   "execution_count": 27,
   "metadata": {},
   "outputs": [],
   "source": [
    "temp = temp.fillna(0)"
   ]
  },
  {
   "cell_type": "code",
   "execution_count": 28,
   "metadata": {},
   "outputs": [],
   "source": [
    "temp = temp['2019-1-01':]"
   ]
  },
  {
   "cell_type": "code",
   "execution_count": 29,
   "metadata": {},
   "outputs": [
    {
     "data": {
      "image/png": "[encoded data removed]",
      "text/plain": [
       "<Figure size 432x288 with 1 Axes>"
      ]
     },
     "metadata": {
      "needs_background": "light"
     },
     "output_type": "display_data"
    }
   ],
   "source": [
    "temp.resample('W')[['Pickups', 'Dropoffs']].sum().plot(kind='bar', stacked=True);"
   ]
  },
  {
   "cell_type": "code",
   "execution_count": 30,
   "metadata": {},
   "outputs": [],
   "source": [
    "data = temp.resample('M')[['Pickups', 'Dropoffs']].sum()"
   ]
  },
  {
   "cell_type": "code",
   "execution_count": 31,
   "metadata": {},
   "outputs": [],
   "source": [
    "data.index = data.index.month_name().str[0:3]"
   ]
  },
  {
   "cell_type": "code",
   "execution_count": 32,
   "metadata": {},
   "outputs": [
    {
     "data": {
      "text/plain": [
       "Pickups     3439.0\n",
       "Dropoffs    2205.0\n",
       "dtype: float64"
      ]
     },
     "execution_count": 32,
     "metadata": {},
     "output_type": "execute_result"
    }
   ],
   "source": [
    "data.sum()"
   ]
  },
  {
   "cell_type": "code",
   "execution_count": 33,
   "metadata": {},
   "outputs": [
    {
     "data": {
      "text/html": [
       "<div>\n",
       "<style scoped>\n",
       "    .dataframe tbody tr th:only-of-type {\n",
       "        vertical-align: middle;\n",
       "    }\n",
       "\n",
       "    .dataframe tbody tr th {\n",
       "        vertical-align: top;\n",
       "    }\n",
       "\n",
       "    .dataframe thead th {\n",
       "        text-align: right;\n",
       "    }\n",
       "</style>\n",
       "<table border=\"1\" class=\"dataframe\">\n",
       "  <thead>\n",
       "    <tr style=\"text-align: right;\">\n",
       "      <th></th>\n",
       "      <th>Pickups</th>\n",
       "      <th>Dropoffs</th>\n",
       "      <th>Airport</th>\n",
       "    </tr>\n",
       "    <tr>\n",
       "      <th>MissionDate</th>\n",
       "      <th></th>\n",
       "      <th></th>\n",
       "      <th></th>\n",
       "    </tr>\n",
       "  </thead>\n",
       "  <tbody>\n",
       "    <tr>\n",
       "      <th>2018-10-02</th>\n",
       "      <td>56</td>\n",
       "      <td>41</td>\n",
       "      <td>KBFI</td>\n",
       "    </tr>\n",
       "    <tr>\n",
       "      <th>2018-10-09</th>\n",
       "      <td>43</td>\n",
       "      <td>60</td>\n",
       "      <td>KBFI</td>\n",
       "    </tr>\n",
       "    <tr>\n",
       "      <th>2018-10-16</th>\n",
       "      <td>56</td>\n",
       "      <td>39</td>\n",
       "      <td>KBFI</td>\n",
       "    </tr>\n",
       "    <tr>\n",
       "      <th>2018-10-23</th>\n",
       "      <td>87</td>\n",
       "      <td>0</td>\n",
       "      <td>KBFI</td>\n",
       "    </tr>\n",
       "    <tr>\n",
       "      <th>2018-10-30</th>\n",
       "      <td>89</td>\n",
       "      <td>75</td>\n",
       "      <td>KBFI</td>\n",
       "    </tr>\n",
       "    <tr>\n",
       "      <th>2018-11-06</th>\n",
       "      <td>54</td>\n",
       "      <td>48</td>\n",
       "      <td>KBFI</td>\n",
       "    </tr>\n",
       "    <tr>\n",
       "      <th>2018-11-13</th>\n",
       "      <td>68</td>\n",
       "      <td>0</td>\n",
       "      <td>KBFI</td>\n",
       "    </tr>\n",
       "    <tr>\n",
       "      <th>2018-11-20</th>\n",
       "      <td>69</td>\n",
       "      <td>91</td>\n",
       "      <td>KBFI</td>\n",
       "    </tr>\n",
       "    <tr>\n",
       "      <th>2018-11-27</th>\n",
       "      <td>64</td>\n",
       "      <td>42</td>\n",
       "      <td>KBFI</td>\n",
       "    </tr>\n",
       "    <tr>\n",
       "      <th>2018-12-04</th>\n",
       "      <td>66</td>\n",
       "      <td>14</td>\n",
       "      <td>KBFI</td>\n",
       "    </tr>\n",
       "    <tr>\n",
       "      <th>2018-12-11</th>\n",
       "      <td>63</td>\n",
       "      <td>108</td>\n",
       "      <td>KBFI</td>\n",
       "    </tr>\n",
       "    <tr>\n",
       "      <th>2018-12-18</th>\n",
       "      <td>103</td>\n",
       "      <td>81</td>\n",
       "      <td>KBFI</td>\n",
       "    </tr>\n",
       "    <tr>\n",
       "      <th>2018-12-26</th>\n",
       "      <td>80</td>\n",
       "      <td>0</td>\n",
       "      <td>KBFI</td>\n",
       "    </tr>\n",
       "    <tr>\n",
       "      <th>2019-01-02</th>\n",
       "      <td>36</td>\n",
       "      <td>123</td>\n",
       "      <td>KBFI</td>\n",
       "    </tr>\n",
       "    <tr>\n",
       "      <th>2019-01-08</th>\n",
       "      <td>43</td>\n",
       "      <td>0</td>\n",
       "      <td>KBFI</td>\n",
       "    </tr>\n",
       "    <tr>\n",
       "      <th>2019-01-15</th>\n",
       "      <td>84</td>\n",
       "      <td>83</td>\n",
       "      <td>KBFI</td>\n",
       "    </tr>\n",
       "    <tr>\n",
       "      <th>2019-01-22</th>\n",
       "      <td>129</td>\n",
       "      <td>34</td>\n",
       "      <td>KBFI</td>\n",
       "    </tr>\n",
       "    <tr>\n",
       "      <th>2019-01-29</th>\n",
       "      <td>77</td>\n",
       "      <td>75</td>\n",
       "      <td>KBFI</td>\n",
       "    </tr>\n",
       "    <tr>\n",
       "      <th>2019-02-07</th>\n",
       "      <td>65</td>\n",
       "      <td>80</td>\n",
       "      <td>KBFI</td>\n",
       "    </tr>\n",
       "    <tr>\n",
       "      <th>2019-02-14</th>\n",
       "      <td>27</td>\n",
       "      <td>39</td>\n",
       "      <td>KBFI</td>\n",
       "    </tr>\n",
       "    <tr>\n",
       "      <th>2019-02-19</th>\n",
       "      <td>58</td>\n",
       "      <td>0</td>\n",
       "      <td>KBFI</td>\n",
       "    </tr>\n",
       "    <tr>\n",
       "      <th>2019-02-26</th>\n",
       "      <td>96</td>\n",
       "      <td>52</td>\n",
       "      <td>KBFI</td>\n",
       "    </tr>\n",
       "    <tr>\n",
       "      <th>2019-03-05</th>\n",
       "      <td>91</td>\n",
       "      <td>39</td>\n",
       "      <td>KBFI</td>\n",
       "    </tr>\n",
       "    <tr>\n",
       "      <th>2019-03-12</th>\n",
       "      <td>91</td>\n",
       "      <td>53</td>\n",
       "      <td>KBFI</td>\n",
       "    </tr>\n",
       "    <tr>\n",
       "      <th>2019-03-19</th>\n",
       "      <td>98</td>\n",
       "      <td>82</td>\n",
       "      <td>KBFI</td>\n",
       "    </tr>\n",
       "    <tr>\n",
       "      <th>2019-03-26</th>\n",
       "      <td>66</td>\n",
       "      <td>61</td>\n",
       "      <td>KBFI</td>\n",
       "    </tr>\n",
       "    <tr>\n",
       "      <th>2019-04-02</th>\n",
       "      <td>100</td>\n",
       "      <td>40</td>\n",
       "      <td>KBFI</td>\n",
       "    </tr>\n",
       "    <tr>\n",
       "      <th>2019-04-09</th>\n",
       "      <td>108</td>\n",
       "      <td>106</td>\n",
       "      <td>KBFI</td>\n",
       "    </tr>\n",
       "    <tr>\n",
       "      <th>2019-04-16</th>\n",
       "      <td>54</td>\n",
       "      <td>75</td>\n",
       "      <td>KBFI</td>\n",
       "    </tr>\n",
       "    <tr>\n",
       "      <th>2019-04-23</th>\n",
       "      <td>86</td>\n",
       "      <td>54</td>\n",
       "      <td>KBFI</td>\n",
       "    </tr>\n",
       "    <tr>\n",
       "      <th>2019-04-29</th>\n",
       "      <td>50</td>\n",
       "      <td>90</td>\n",
       "      <td>KBFI</td>\n",
       "    </tr>\n",
       "  </tbody>\n",
       "</table>\n",
       "</div>"
      ],
      "text/plain": [
       "             Pickups  Dropoffs Airport\n",
       "MissionDate                           \n",
       "2018-10-02        56        41    KBFI\n",
       "2018-10-09        43        60    KBFI\n",
       "2018-10-16        56        39    KBFI\n",
       "2018-10-23        87         0    KBFI\n",
       "2018-10-30        89        75    KBFI\n",
       "2018-11-06        54        48    KBFI\n",
       "2018-11-13        68         0    KBFI\n",
       "2018-11-20        69        91    KBFI\n",
       "2018-11-27        64        42    KBFI\n",
       "2018-12-04        66        14    KBFI\n",
       "2018-12-11        63       108    KBFI\n",
       "2018-12-18       103        81    KBFI\n",
       "2018-12-26        80         0    KBFI\n",
       "2019-01-02        36       123    KBFI\n",
       "2019-01-08        43         0    KBFI\n",
       "2019-01-15        84        83    KBFI\n",
       "2019-01-22       129        34    KBFI\n",
       "2019-01-29        77        75    KBFI\n",
       "2019-02-07        65        80    KBFI\n",
       "2019-02-14        27        39    KBFI\n",
       "2019-02-19        58         0    KBFI\n",
       "2019-02-26        96        52    KBFI\n",
       "2019-03-05        91        39    KBFI\n",
       "2019-03-12        91        53    KBFI\n",
       "2019-03-19        98        82    KBFI\n",
       "2019-03-26        66        61    KBFI\n",
       "2019-04-02       100        40    KBFI\n",
       "2019-04-09       108       106    KBFI\n",
       "2019-04-16        54        75    KBFI\n",
       "2019-04-23        86        54    KBFI\n",
       "2019-04-29        50        90    KBFI"
      ]
     },
     "execution_count": 33,
     "metadata": {},
     "output_type": "execute_result"
    }
   ],
   "source": [
    "kbfi"
   ]
  },
  {
   "cell_type": "code",
   "execution_count": 34,
   "metadata": {},
   "outputs": [],
   "source": [
    "temp.groupby(['Airport', pd.Grouper(freq='MS')]).sum().to_csv('ICEAirKBFIKYKM2019.csv')"
   ]
  },
  {
   "cell_type": "code",
   "execution_count": 35,
   "metadata": {},
   "outputs": [
    {
     "name": "stdout",
     "output_type": "stream",
     "text": [
      "                    Pickups  Dropoffs\n",
      "Airport                              \n",
      "KBFI    2019-01-01    369.0     315.0\n",
      "        2019-02-01    246.0     171.0\n",
      "        2019-03-01    346.0     235.0\n",
      "        2019-04-01    398.0     365.0\n",
      "KYKM    2019-05-01    283.0     256.0\n",
      "        2019-06-01    273.0     275.0\n",
      "        2019-07-01    342.0     217.0\n",
      "        2019-08-01    281.0     225.0\n",
      "        2019-09-01    238.0      79.0\n",
      "        2019-10-01    237.0      56.0\n",
      "        2019-11-01    234.0       6.0\n",
      "        2019-12-01    192.0       5.0\n"
     ]
    }
   ],
   "source": [
    "print(temp.groupby(['Airport', pd.Grouper(freq='MS')]).sum())"
   ]
  },
  {
   "cell_type": "code",
   "execution_count": 36,
   "metadata": {},
   "outputs": [],
   "source": [
    "def bar_chart(data, airport=str, airport_name=str, filename=str, title=str):\n",
    "    fig, ax = plt.subplots()\n",
    "    \n",
    "    # FY shading\n",
    "#     ax.axvspan(-2, 6.5, facecolor='g', alpha=0.1)\n",
    "#     ax.axvspan(6.5, 14, facecolor='y', alpha=0.1)\n",
    "    \n",
    "    # CY shading\n",
    "    ax.axvspan(-2, 3.5, facecolor='g', alpha=0.1)\n",
    "    ax.axvspan(3.5, 14, facecolor='y', alpha=0.1)\n",
    "    \n",
    "    data.plot(kind='bar',\n",
    "              ax=ax,\n",
    "              stacked=True,\n",
    "              title=f'{airport_name}',\n",
    "              grid=True,\n",
    "              figsize=(8,6),\n",
    "              fontsize=14,\n",
    "#               color=['g','y'],\n",
    "              alpha=1)\n",
    "    ax.set_axisbelow(True)\n",
    "    ax.set_facecolor('#EEEEEE')\n",
    "    ax.grid(color='#FFFFFF')\n",
    "    ax.set_ylabel('Number of Passengers', fontsize=16)\n",
    "    ax.set_ylim(0)\n",
    "#     ax.set_xlabel('Month, FY19', fontsize=16)\n",
    "\n",
    "    ax.set_title(f'{title}', fontsize=18)\n",
    "    ax.tick_params(labelsize=14, labelrotation=0)\n",
    "    \n",
    "\n",
    "    \n",
    "    ax.legend(bbox_to_anchor=(1.25, 1), loc='upper right', fontsize=14)\n",
    "    \n",
    "    plt.figtext(.225, .825, 'KBFI (ICE data)', horizontalalignment='center', fontsize=16)\n",
    "    plt.figtext(.75, .825, 'KYKM (YIRN obs.)', horizontalalignment='center', fontsize=16)\n",
    "    \n",
    "    txt='UW Center for Human Rights, Yakima Immigrant Response Network \\n(Observations missing for 1 flight in Sep. 2019)'\n",
    "    plt.figtext(1, 0, txt, wrap=True, horizontalalignment='right', fontsize=12)\n",
    "    \n",
    "#     plt.tight_layout()\n",
    "    \n",
    "    fig.set_size_inches(10, 8)\n",
    "    fig.savefig(f'../output/KYKM_2019.png', bbox_inches='tight')\n",
    "    plt.show()\n",
    "    plt.close()"
   ]
  },
  {
   "cell_type": "code",
   "execution_count": 37,
   "metadata": {},
   "outputs": [
    {
     "data": {
      "image/png": "[encoded data removed]",
      "text/plain": [
       "<Figure size 720x576 with 1 Axes>"
      ]
     },
     "metadata": {
      "needs_background": "light"
     },
     "output_type": "display_data"
    }
   ],
   "source": [
    "title = 'ICE Air passenger totals, CY2019 \\n King County International Airport (KBFI)\\n and Yakima Air Terminal (KYKM)'\n",
    "bar_chart(data, title=title)"
   ]
  },
  {
   "cell_type": "code",
   "execution_count": 38,
   "metadata": {},
   "outputs": [
    {
     "data": {
      "text/plain": [
       "<matplotlib.axes._subplots.AxesSubplot at 0x12a24bfd0>"
      ]
     },
     "execution_count": 38,
     "metadata": {},
     "output_type": "execute_result"
    },
    {
     "data": {
      "image/png": "[encoded data removed]",
      "text/plain": [
       "<Figure size 432x288 with 1 Axes>"
      ]
     },
     "metadata": {
      "needs_background": "light"
     },
     "output_type": "display_data"
    }
   ],
   "source": [
    "temp[:'2019-9-30'].groupby([pd.Grouper(freq='Q')]).mean().plot()"
   ]
  },
  {
   "cell_type": "code",
   "execution_count": null,
   "metadata": {},
   "outputs": [],
   "source": []
  }
 ],
 "metadata": {
  "kernelspec": {
   "display_name": "Python 3",
   "language": "python",
   "name": "python3"
  },
  "language_info": {
   "codemirror_mode": {
    "name": "ipython",
    "version": 3
   },
   "file_extension": ".py",
   "mimetype": "text/x-python",
   "name": "python",
   "nbconvert_exporter": "python",
   "pygments_lexer": "ipython3",
   "version": "3.7.1"
  }
 },
 "nbformat": 4,
 "nbformat_minor": 2
}
