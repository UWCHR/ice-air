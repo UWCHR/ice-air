{
 "cells": [
  {
   "cell_type": "code",
   "execution_count": 1,
   "metadata": {},
   "outputs": [],
   "source": [
    "import numpy as np\n",
    "import pandas as pd\n",
    "import yaml\n",
    "import matplotlib.pyplot as plt"
   ]
  },
  {
   "cell_type": "markdown",
   "metadata": {},
   "source": [
    "# Import\n",
    "\n",
    "First we open a file containing a dictionary of columns and associated data types generated in `../../optimize/`, then we read input file."
   ]
  },
  {
   "cell_type": "code",
   "execution_count": 2,
   "metadata": {},
   "outputs": [
    {
     "name": "stdout",
     "output_type": "stream",
     "text": [
      "<class 'pandas.core.frame.DataFrame'>\n",
      "RangeIndex: 1763020 entries, 0 to 1763019\n",
      "Data columns (total 43 columns):\n",
      "Status                  category\n",
      "Sex                     category\n",
      "Convictions             category\n",
      "GangMember              category\n",
      "ClassLvl                float32\n",
      "Age                     float32\n",
      "MissionDate             datetime64[ns]\n",
      "MissionNumber           uint32\n",
      "PULOC                   category\n",
      "DropLoc                 category\n",
      "StrikeFromList          float32\n",
      "ReasonStruck            category\n",
      "R-T                     category\n",
      "Code                    category\n",
      "CountryOfCitizenship    category\n",
      "Juvenile                bool\n",
      "MissionWeek             uint8\n",
      "MissionQuarter          uint8\n",
      "MissionYear             uint16\n",
      "MissionMonth            uint8\n",
      "Criminality             category\n",
      "FamilyUnitFlag          float32\n",
      "UnaccompaniedFlag       float32\n",
      "AlienMasterID           uint32\n",
      "MissionID               uint16\n",
      "air_AirportID           float32\n",
      "air_AirportName         category\n",
      "air_City                category\n",
      "st_StateID              float32\n",
      "st_StateAbbr            category\n",
      "AOR_AORID               float32\n",
      "AOR_AOR                 category\n",
      "AOR_AORName             category\n",
      "air_Country             category\n",
      "air2_AirportID          float32\n",
      "air2_AirportName        category\n",
      "air2_City               category\n",
      "st2_StateID             float32\n",
      "st2_StateAbbr           category\n",
      "aor2_AORID              float32\n",
      "aor2_AOR                category\n",
      "aor2_AORName            category\n",
      "air2_Country            category\n",
      "dtypes: bool(1), category(23), datetime64[ns](1), float32(11), uint16(2), uint32(2), uint8(3)\n",
      "memory usage: 166.9 MB\n"
     ]
    }
   ],
   "source": [
    "with open('../input/dtypes.yaml', 'r') as yamlfile:\n",
    "    column_types = yaml.load(yamlfile)\n",
    "\n",
    "read_csv_opts = {'sep': '|',\n",
    "                 'quotechar': '\"',\n",
    "                 'compression': 'gzip',\n",
    "                 'encoding': 'utf-8',\n",
    "                 'dtype': column_types,\n",
    "                 'parse_dates': ['MissionDate'],\n",
    "                 'infer_datetime_format': True}\n",
    "\n",
    "df = pd.read_csv('../input/ice-air.csv.gz', **read_csv_opts)\n",
    "\n",
    "df.info(memory_usage='deep')"
   ]
  },
  {
   "cell_type": "code",
   "execution_count": 3,
   "metadata": {},
   "outputs": [],
   "source": [
    "with open('../output/airport_dict.yaml', 'r') as yamlfile:\n",
    "    airport_dict = yaml.load(yamlfile)"
   ]
  },
  {
   "cell_type": "code",
   "execution_count": 4,
   "metadata": {},
   "outputs": [],
   "source": [
    "df['NonCriminal'] = df['Criminality'] == 'NC'"
   ]
  },
  {
   "cell_type": "markdown",
   "metadata": {},
   "source": [
    "# Airport report\n",
    "\n",
    "For a given airport IATA code represented in the ICE Air data, output a uniform set of variables, tables, and figures."
   ]
  },
  {
   "cell_type": "code",
   "execution_count": 5,
   "metadata": {},
   "outputs": [],
   "source": [
    "airport = 'KBFI'\n",
    "airport_name = airport_dict[airport]"
   ]
  },
  {
   "cell_type": "code",
   "execution_count": 6,
   "metadata": {},
   "outputs": [],
   "source": [
    "pickup = df['PULOC'] == airport\n",
    "dropoff = df['DropLoc'] == airport"
   ]
  },
  {
   "cell_type": "code",
   "execution_count": 7,
   "metadata": {},
   "outputs": [],
   "source": [
    "pickup_df = df[pickup]\n",
    "dropoff_df = df[dropoff]"
   ]
  },
  {
   "cell_type": "code",
   "execution_count": 8,
   "metadata": {},
   "outputs": [],
   "source": [
    "pickup_df.set_index('MissionDate', inplace=True)\n",
    "dropoff_df.set_index('MissionDate', inplace=True)"
   ]
  },
  {
   "cell_type": "code",
   "execution_count": 9,
   "metadata": {},
   "outputs": [
    {
     "name": "stdout",
     "output_type": "stream",
     "text": [
      "34443 pickups, 15191 dropoffs.\n"
     ]
    }
   ],
   "source": [
    "unique_pickups = len(set(pickup_df['AlienMasterID']))\n",
    "unique_dropoffs = len(set(dropoff_df['AlienMasterID']))\n",
    "print(f'{unique_pickups} pickups, {unique_dropoffs} dropoffs.')"
   ]
  },
  {
   "cell_type": "code",
   "execution_count": 10,
   "metadata": {},
   "outputs": [],
   "source": [
    "weekly_pickups = pickup_df['AlienMasterID'].resample('W').nunique()\n",
    "weekly_dropoffs = dropoff_df['AlienMasterID'].resample('W').nunique()\n",
    "monthly_pickups = pickup_df['AlienMasterID'].resample('M').nunique()\n",
    "monthly_dropoffs = dropoff_df['AlienMasterID'].resample('M').nunique()\n",
    "monthly_pickup_flights = pickup_df['MissionID'].resample('M').nunique()\n",
    "monthly_dropoff_flights = dropoff_df['MissionID'].resample('M').nunique()\n",
    "annual_pickups = pickup_df['AlienMasterID'].resample('AS-OCT').nunique()\n",
    "annual_dropoffs = dropoff_df['AlienMasterID'].resample('AS-OCT').nunique()\n",
    "annual_pickup_flights = pickup_df['MissionID'].resample('AS-OCT').nunique()\n",
    "annual_dropoff_flights = dropoff_df['MissionID'].resample('AS-OCT').nunique()"
   ]
  },
  {
   "cell_type": "markdown",
   "metadata": {},
   "source": [
    "# Annual trends (by fiscal year)"
   ]
  },
  {
   "cell_type": "code",
   "execution_count": 11,
   "metadata": {},
   "outputs": [
    {
     "data": {
      "text/plain": [
       "MissionDate\n",
       "2010-10-01    6629\n",
       "2011-10-01    5664\n",
       "2012-10-01    4797\n",
       "2013-10-01    3955\n",
       "2014-10-01    2732\n",
       "2015-10-01    3129\n",
       "2016-10-01    3390\n",
       "2017-10-01    3495\n",
       "2018-10-01     652\n",
       "Freq: AS-OCT, Name: Total pickups, dtype: int64"
      ]
     },
     "execution_count": 11,
     "metadata": {},
     "output_type": "execute_result"
    }
   ],
   "source": [
    "annual_pickups.rename('Total pickups', inplace=True)\n",
    "annual_pickups"
   ]
  },
  {
   "cell_type": "code",
   "execution_count": 12,
   "metadata": {},
   "outputs": [
    {
     "data": {
      "text/plain": [
       "MissionDate\n",
       "2010-10-01     552\n",
       "2011-10-01    1175\n",
       "2012-10-01    2153\n",
       "2013-10-01    2247\n",
       "2014-10-01    1926\n",
       "2015-10-01    2737\n",
       "2016-10-01    1487\n",
       "2017-10-01    2504\n",
       "2018-10-01     410\n",
       "Freq: AS-OCT, Name: Total dropoffs, dtype: int64"
      ]
     },
     "execution_count": 12,
     "metadata": {},
     "output_type": "execute_result"
    }
   ],
   "source": [
    "annual_dropoffs.rename('Total dropoffs', inplace=True)\n",
    "annual_dropoffs"
   ]
  },
  {
   "cell_type": "code",
   "execution_count": 13,
   "metadata": {},
   "outputs": [
    {
     "data": {
      "text/plain": [
       "MissionDate\n",
       "2010-10-01    99\n",
       "2011-10-01    70\n",
       "2012-10-01    50\n",
       "2013-10-01    51\n",
       "2014-10-01    33\n",
       "2015-10-01    47\n",
       "2016-10-01    53\n",
       "2017-10-01    53\n",
       "2018-10-01    10\n",
       "Freq: AS-OCT, Name: Total pickup flights, dtype: int64"
      ]
     },
     "execution_count": 13,
     "metadata": {},
     "output_type": "execute_result"
    }
   ],
   "source": [
    "annual_pickup_flights.rename('Total pickup flights', inplace=True)\n",
    "annual_pickup_flights"
   ]
  },
  {
   "cell_type": "code",
   "execution_count": 14,
   "metadata": {},
   "outputs": [
    {
     "data": {
      "text/plain": [
       "MissionDate\n",
       "2010-10-01    47\n",
       "2011-10-01    51\n",
       "2012-10-01    44\n",
       "2013-10-01    48\n",
       "2014-10-01    37\n",
       "2015-10-01    44\n",
       "2016-10-01    42\n",
       "2017-10-01    50\n",
       "2018-10-01     8\n",
       "Freq: AS-OCT, Name: Total dropoff flights, dtype: int64"
      ]
     },
     "execution_count": 14,
     "metadata": {},
     "output_type": "execute_result"
    }
   ],
   "source": [
    "annual_dropoff_flights.rename('Total dropoff flights', inplace=True)\n",
    "annual_dropoff_flights"
   ]
  },
  {
   "cell_type": "code",
   "execution_count": 15,
   "metadata": {},
   "outputs": [
    {
     "data": {
      "image/png": "[encoded data removed]",
      "text/plain": [
       "<Figure size 720x576 with 1 Axes>"
      ]
     },
     "metadata": {
      "needs_background": "light"
     },
     "output_type": "display_data"
    }
   ],
   "source": [
    "def pickup_dropoff_trend(data):\n",
    "    \n",
    "    fig, ax = plt.subplots()\n",
    "    \n",
    "    for datum in data:\n",
    "        ax = datum.plot(legend=True)\n",
    "    \n",
    "    ax.set_ylabel('Number of Passengers', fontsize=16)\n",
    "    ax.set_ylim(0)\n",
    "    ax.set_xticklabels([f'FY{str(x)[2:4]}' for x in range(2010,2019)])\n",
    "    ax.set_xlabel('Fiscal Year', fontsize=16)\n",
    "    ax.set_title(f'{airport_name}', fontsize=18)\n",
    "    ax.tick_params(labelsize=14)\n",
    "    ax.legend(fontsize=14)\n",
    "    \n",
    "    fig.set_size_inches(10, 8)\n",
    "    fig.savefig(f'../output/{airport}ICEAirPassengers.png', dpi=100)\n",
    "    return fig, ax\n",
    "\n",
    "plot = pickup_dropoff_trend([annual_pickups['2010':'2017'], annual_dropoffs['2010':'2017']]);"
   ]
  },
  {
   "cell_type": "markdown",
   "metadata": {},
   "source": [
    "# Annual pickup rate, by criminal conviction status"
   ]
  },
  {
   "cell_type": "code",
   "execution_count": 16,
   "metadata": {},
   "outputs": [],
   "source": [
    "annual_non_criminal = pickup_df[['NonCriminal']].resample('AS-OCT').sum()"
   ]
  },
  {
   "cell_type": "code",
   "execution_count": 17,
   "metadata": {},
   "outputs": [],
   "source": [
    "annual_non_criminal['total'] = annual_pickups\n",
    "annual_non_criminal['percent'] = annual_non_criminal['NonCriminal']/annual_pickups*100"
   ]
  },
  {
   "cell_type": "code",
   "execution_count": 18,
   "metadata": {},
   "outputs": [
    {
     "data": {
      "image/png": "[encoded data removed]",
      "text/plain": [
       "<Figure size 720x576 with 2 Axes>"
      ]
     },
     "metadata": {
      "needs_background": "light"
     },
     "output_type": "display_data"
    }
   ],
   "source": [
    "annual_data = annual_non_criminal['2010':'2017']\n",
    "annual_data.index = [f'FY{str(x)[2:4]}' for x in range(2011,2019)]\n",
    "\n",
    "plt.style.use([{'legend.frameon': True}])\n",
    "plt.rc(\"font\", family=\"Times New Roman\")\n",
    "\n",
    "fig, ax1 = plt.subplots()\n",
    "\n",
    "ax2 = ax1.twinx()\n",
    "\n",
    "lns1 = ax1.plot(annual_data['total'], label='Total pickups')\n",
    "lns2 = ax1.plot(annual_data['NonCriminal'], label='Non-criminal pickups')\n",
    "ax1_max = annual_data['total'].max()\n",
    "ax1.set_ylim(0, (ax1_max * 1.1))\n",
    "ax1.set_ylabel(f'Annual {airport} pickups', fontsize=16)\n",
    "ax1.tick_params(axis='x', labelsize=14)\n",
    "ax1.tick_params(axis='y', labelsize=14)\n",
    "\n",
    "lns3 = ax2.plot(annual_data['percent'], label='% non-criminal', linestyle=':', color='green')\n",
    "ax2_max = annual_data['percent'].max()\n",
    "ax2.set_ylim(0, (ax2_max * 1.25))\n",
    "ax2.set_ylabel('% non-criminal', fontsize=16)\n",
    "ax2.tick_params(axis='y', labelsize=14)\n",
    "# ax2.set_xticklabels([f'FY{str(x)[2:4]}' for x in range(2011,2019)])\n",
    "\n",
    "lns = [lns1[0], lns2[0], lns3[0]]\n",
    "labs = [l.get_label() for l in lns]\n",
    "ax1.legend(lns, labs, loc=0, fontsize=14)\n",
    "\n",
    "ax1.set_title(f'ICE pickups at {airport_name}\\n% with no criminal conviction', fontsize=20)\n",
    "\n",
    "fig.set_size_inches(10, 8)\n",
    "\n",
    "plt.show()\n",
    "fig.savefig(f'../output/{airport}_NoCrim.png', dpi=100)"
   ]
  },
  {
   "cell_type": "markdown",
   "metadata": {},
   "source": [
    "# Monthly averages (by calendar year)"
   ]
  },
  {
   "cell_type": "code",
   "execution_count": 19,
   "metadata": {},
   "outputs": [],
   "source": [
    "monthly_means = pd.DataFrame()\n",
    "for year in range(2010, 2019):\n",
    "    mean_pickups = monthly_pickups[f'{year}'].mean()\n",
    "    mean_pickup_flights = monthly_pickup_flights[f'{year}'].mean()\n",
    "    mean_dropoffs = monthly_dropoffs[f'{year}'].mean()\n",
    "    mean_dropoff_flights = monthly_dropoff_flights[f'{year}'].mean()\n",
    "    monthly_means = monthly_means.append({'calendar_year':year,\n",
    "                                          'monthly_mean_pickups':mean_pickups,\n",
    "                                          'monthly_mean_dropoffs':mean_dropoffs,\n",
    "                                          'monthly_mean_pickup_flights':mean_pickup_flights,\n",
    "                                          'monthly_mean_dropoff_flights':mean_dropoff_flights,\n",
    "                                         }, ignore_index=True)\n",
    "monthly_means['calendar_year'] = monthly_means['calendar_year'].astype(int)\n",
    "monthly_means = monthly_means.set_index('calendar_year')"
   ]
  },
  {
   "cell_type": "code",
   "execution_count": 20,
   "metadata": {},
   "outputs": [
    {
     "data": {
      "text/html": [
       "<div>\n",
       "<style scoped>\n",
       "    .dataframe tbody tr th:only-of-type {\n",
       "        vertical-align: middle;\n",
       "    }\n",
       "\n",
       "    .dataframe tbody tr th {\n",
       "        vertical-align: top;\n",
       "    }\n",
       "\n",
       "    .dataframe thead th {\n",
       "        text-align: right;\n",
       "    }\n",
       "</style>\n",
       "<table border=\"1\" class=\"dataframe\">\n",
       "  <thead>\n",
       "    <tr style=\"text-align: right;\">\n",
       "      <th></th>\n",
       "      <th>monthly_mean_dropoff_flights</th>\n",
       "      <th>monthly_mean_dropoffs</th>\n",
       "      <th>monthly_mean_pickup_flights</th>\n",
       "      <th>monthly_mean_pickups</th>\n",
       "    </tr>\n",
       "    <tr>\n",
       "      <th>calendar_year</th>\n",
       "      <th></th>\n",
       "      <th></th>\n",
       "      <th></th>\n",
       "      <th></th>\n",
       "    </tr>\n",
       "  </thead>\n",
       "  <tbody>\n",
       "    <tr>\n",
       "      <th>2010</th>\n",
       "      <td>4.00</td>\n",
       "      <td>39.33</td>\n",
       "      <td>7.67</td>\n",
       "      <td>512.67</td>\n",
       "    </tr>\n",
       "    <tr>\n",
       "      <th>2011</th>\n",
       "      <td>4.42</td>\n",
       "      <td>59.00</td>\n",
       "      <td>8.33</td>\n",
       "      <td>544.17</td>\n",
       "    </tr>\n",
       "    <tr>\n",
       "      <th>2012</th>\n",
       "      <td>3.92</td>\n",
       "      <td>115.42</td>\n",
       "      <td>4.83</td>\n",
       "      <td>450.17</td>\n",
       "    </tr>\n",
       "    <tr>\n",
       "      <th>2013</th>\n",
       "      <td>3.17</td>\n",
       "      <td>165.25</td>\n",
       "      <td>4.08</td>\n",
       "      <td>383.58</td>\n",
       "    </tr>\n",
       "    <tr>\n",
       "      <th>2014</th>\n",
       "      <td>3.83</td>\n",
       "      <td>161.92</td>\n",
       "      <td>3.92</td>\n",
       "      <td>300.00</td>\n",
       "    </tr>\n",
       "    <tr>\n",
       "      <th>2015</th>\n",
       "      <td>3.17</td>\n",
       "      <td>209.00</td>\n",
       "      <td>2.83</td>\n",
       "      <td>237.67</td>\n",
       "    </tr>\n",
       "    <tr>\n",
       "      <th>2016</th>\n",
       "      <td>4.17</td>\n",
       "      <td>231.50</td>\n",
       "      <td>4.50</td>\n",
       "      <td>264.83</td>\n",
       "    </tr>\n",
       "    <tr>\n",
       "      <th>2017</th>\n",
       "      <td>3.50</td>\n",
       "      <td>120.92</td>\n",
       "      <td>4.25</td>\n",
       "      <td>288.50</td>\n",
       "    </tr>\n",
       "    <tr>\n",
       "      <th>2018</th>\n",
       "      <td>3.75</td>\n",
       "      <td>193.08</td>\n",
       "      <td>4.17</td>\n",
       "      <td>273.17</td>\n",
       "    </tr>\n",
       "  </tbody>\n",
       "</table>\n",
       "</div>"
      ],
      "text/plain": [
       "               monthly_mean_dropoff_flights  monthly_mean_dropoffs  \\\n",
       "calendar_year                                                        \n",
       "2010                                   4.00                  39.33   \n",
       "2011                                   4.42                  59.00   \n",
       "2012                                   3.92                 115.42   \n",
       "2013                                   3.17                 165.25   \n",
       "2014                                   3.83                 161.92   \n",
       "2015                                   3.17                 209.00   \n",
       "2016                                   4.17                 231.50   \n",
       "2017                                   3.50                 120.92   \n",
       "2018                                   3.75                 193.08   \n",
       "\n",
       "               monthly_mean_pickup_flights  monthly_mean_pickups  \n",
       "calendar_year                                                     \n",
       "2010                                  7.67                512.67  \n",
       "2011                                  8.33                544.17  \n",
       "2012                                  4.83                450.17  \n",
       "2013                                  4.08                383.58  \n",
       "2014                                  3.92                300.00  \n",
       "2015                                  2.83                237.67  \n",
       "2016                                  4.50                264.83  \n",
       "2017                                  4.25                288.50  \n",
       "2018                                  4.17                273.17  "
      ]
     },
     "execution_count": 20,
     "metadata": {},
     "output_type": "execute_result"
    }
   ],
   "source": [
    "monthly_means.round(2)"
   ]
  },
  {
   "cell_type": "markdown",
   "metadata": {},
   "source": [
    "# Top nationalities"
   ]
  },
  {
   "cell_type": "code",
   "execution_count": 21,
   "metadata": {},
   "outputs": [],
   "source": [
    "# Change groupby to `dropoff_df` to get table/figure of dropoff nationalities\n",
    "g = pickup_df.groupby(['PULOC', pd.Grouper(freq='AS-OCT', sort=True), 'CountryOfCitizenship'])['AlienMasterID', 'MissionID'].nunique()\n",
    "country_of_citizenship_by_year = g.reset_index()\n",
    "country_of_citizenship_by_year.rename({'MissionDate': 'FY'}, axis='columns', inplace=True)\n",
    "\n",
    "# country_of_citizenship_by_year.to_csv(f'../output/{airport}_country_of_citizenship_by_year.csv', index=True)"
   ]
  },
  {
   "cell_type": "code",
   "execution_count": 22,
   "metadata": {},
   "outputs": [],
   "source": [
    "country_of_citizenship_by_year.set_index('FY', inplace=True)"
   ]
  },
  {
   "cell_type": "code",
   "execution_count": 23,
   "metadata": {},
   "outputs": [],
   "source": [
    "country_of_citizenship_by_year.sort_values(by='AlienMasterID', ascending=False, inplace=True)"
   ]
  },
  {
   "cell_type": "code",
   "execution_count": 24,
   "metadata": {},
   "outputs": [],
   "source": [
    "top_5_df = pd.DataFrame()\n",
    "\n",
    "for year in country_of_citizenship_by_year.index.unique():\n",
    "    temp = country_of_citizenship_by_year.loc[f'{year}'][['CountryOfCitizenship', 'AlienMasterID']]\n",
    "    temp_top_5 = temp[0:5]\n",
    "    if len(temp) > 5:\n",
    "        all_other_count = sum(temp['AlienMasterID'][5:])\n",
    "    else:\n",
    "        all_other_count = 0\n",
    "    other_df = pd.DataFrame([['ALL OTHERS', all_other_count]], columns=['CountryOfCitizenship', 'AlienMasterID'], index=[year])\n",
    "    temp_top_5 = temp_top_5.append(other_df)\n",
    "    top_5_df = top_5_df.append(temp_top_5)"
   ]
  },
  {
   "cell_type": "code",
   "execution_count": 25,
   "metadata": {},
   "outputs": [
    {
     "data": {
      "image/png": "[encoded data removed]",
      "text/plain": [
       "<Figure size 720x576 with 1 Axes>"
      ]
     },
     "metadata": {
      "needs_background": "light"
     },
     "output_type": "display_data"
    }
   ],
   "source": [
    "pivot = pd.pivot_table(data=top_5_df,\n",
    "                       index=top_5_df.index,\n",
    "                       columns='CountryOfCitizenship',\n",
    "                       values='AlienMasterID',\n",
    "                       aggfunc=np.sum,\n",
    "                       fill_value=0)\n",
    "\n",
    "pivot = pivot.reindex(pivot.sum().sort_values(ascending=False).index, axis=1)\n",
    "cols = list(pivot.columns)\n",
    "cols.remove('ALL OTHERS')\n",
    "cols.append('ALL OTHERS')\n",
    "pivot = pivot[cols]\n",
    "\n",
    "fig = pivot.plot(kind='bar', stacked=True, figsize=(10, 8))"
   ]
  },
  {
   "cell_type": "code",
   "execution_count": 26,
   "metadata": {},
   "outputs": [
    {
     "data": {
      "text/html": [
       "<div>\n",
       "<style scoped>\n",
       "    .dataframe tbody tr th:only-of-type {\n",
       "        vertical-align: middle;\n",
       "    }\n",
       "\n",
       "    .dataframe tbody tr th {\n",
       "        vertical-align: top;\n",
       "    }\n",
       "\n",
       "    .dataframe thead th {\n",
       "        text-align: right;\n",
       "    }\n",
       "</style>\n",
       "<table border=\"1\" class=\"dataframe\">\n",
       "  <thead>\n",
       "    <tr style=\"text-align: right;\">\n",
       "      <th>CountryOfCitizenship</th>\n",
       "      <th>MEXICO</th>\n",
       "      <th>GUATEMALA</th>\n",
       "      <th>EL SALVADOR</th>\n",
       "      <th>HONDURAS</th>\n",
       "      <th>HAITI</th>\n",
       "      <th>CAMBODIA</th>\n",
       "      <th>ECUADOR</th>\n",
       "      <th>NICARAGUA</th>\n",
       "      <th>RUSSIA</th>\n",
       "      <th>ALL OTHERS</th>\n",
       "    </tr>\n",
       "  </thead>\n",
       "  <tbody>\n",
       "    <tr>\n",
       "      <th>2010-10-01</th>\n",
       "      <td>5818</td>\n",
       "      <td>381</td>\n",
       "      <td>183</td>\n",
       "      <td>178</td>\n",
       "      <td>0</td>\n",
       "      <td>0</td>\n",
       "      <td>28</td>\n",
       "      <td>0</td>\n",
       "      <td>0</td>\n",
       "      <td>41</td>\n",
       "    </tr>\n",
       "    <tr>\n",
       "      <th>2011-10-01</th>\n",
       "      <td>4540</td>\n",
       "      <td>635</td>\n",
       "      <td>216</td>\n",
       "      <td>225</td>\n",
       "      <td>0</td>\n",
       "      <td>0</td>\n",
       "      <td>14</td>\n",
       "      <td>0</td>\n",
       "      <td>0</td>\n",
       "      <td>34</td>\n",
       "    </tr>\n",
       "    <tr>\n",
       "      <th>2012-10-01</th>\n",
       "      <td>3368</td>\n",
       "      <td>478</td>\n",
       "      <td>476</td>\n",
       "      <td>428</td>\n",
       "      <td>0</td>\n",
       "      <td>0</td>\n",
       "      <td>0</td>\n",
       "      <td>16</td>\n",
       "      <td>0</td>\n",
       "      <td>31</td>\n",
       "    </tr>\n",
       "    <tr>\n",
       "      <th>2013-10-01</th>\n",
       "      <td>2683</td>\n",
       "      <td>325</td>\n",
       "      <td>656</td>\n",
       "      <td>213</td>\n",
       "      <td>0</td>\n",
       "      <td>23</td>\n",
       "      <td>0</td>\n",
       "      <td>0</td>\n",
       "      <td>0</td>\n",
       "      <td>55</td>\n",
       "    </tr>\n",
       "    <tr>\n",
       "      <th>2014-10-01</th>\n",
       "      <td>1875</td>\n",
       "      <td>278</td>\n",
       "      <td>307</td>\n",
       "      <td>194</td>\n",
       "      <td>0</td>\n",
       "      <td>0</td>\n",
       "      <td>24</td>\n",
       "      <td>0</td>\n",
       "      <td>0</td>\n",
       "      <td>54</td>\n",
       "    </tr>\n",
       "    <tr>\n",
       "      <th>2015-10-01</th>\n",
       "      <td>1654</td>\n",
       "      <td>549</td>\n",
       "      <td>406</td>\n",
       "      <td>275</td>\n",
       "      <td>0</td>\n",
       "      <td>57</td>\n",
       "      <td>0</td>\n",
       "      <td>0</td>\n",
       "      <td>0</td>\n",
       "      <td>188</td>\n",
       "    </tr>\n",
       "    <tr>\n",
       "      <th>2016-10-01</th>\n",
       "      <td>2189</td>\n",
       "      <td>273</td>\n",
       "      <td>209</td>\n",
       "      <td>211</td>\n",
       "      <td>421</td>\n",
       "      <td>0</td>\n",
       "      <td>0</td>\n",
       "      <td>0</td>\n",
       "      <td>0</td>\n",
       "      <td>87</td>\n",
       "    </tr>\n",
       "    <tr>\n",
       "      <th>2017-10-01</th>\n",
       "      <td>2551</td>\n",
       "      <td>377</td>\n",
       "      <td>168</td>\n",
       "      <td>236</td>\n",
       "      <td>37</td>\n",
       "      <td>0</td>\n",
       "      <td>0</td>\n",
       "      <td>0</td>\n",
       "      <td>0</td>\n",
       "      <td>126</td>\n",
       "    </tr>\n",
       "    <tr>\n",
       "      <th>2018-10-01</th>\n",
       "      <td>455</td>\n",
       "      <td>70</td>\n",
       "      <td>39</td>\n",
       "      <td>63</td>\n",
       "      <td>0</td>\n",
       "      <td>0</td>\n",
       "      <td>0</td>\n",
       "      <td>0</td>\n",
       "      <td>5</td>\n",
       "      <td>20</td>\n",
       "    </tr>\n",
       "  </tbody>\n",
       "</table>\n",
       "</div>"
      ],
      "text/plain": [
       "CountryOfCitizenship  MEXICO  GUATEMALA  EL SALVADOR  HONDURAS  HAITI  \\\n",
       "2010-10-01              5818        381          183       178      0   \n",
       "2011-10-01              4540        635          216       225      0   \n",
       "2012-10-01              3368        478          476       428      0   \n",
       "2013-10-01              2683        325          656       213      0   \n",
       "2014-10-01              1875        278          307       194      0   \n",
       "2015-10-01              1654        549          406       275      0   \n",
       "2016-10-01              2189        273          209       211    421   \n",
       "2017-10-01              2551        377          168       236     37   \n",
       "2018-10-01               455         70           39        63      0   \n",
       "\n",
       "CountryOfCitizenship  CAMBODIA  ECUADOR  NICARAGUA  RUSSIA  ALL OTHERS  \n",
       "2010-10-01                   0       28          0       0          41  \n",
       "2011-10-01                   0       14          0       0          34  \n",
       "2012-10-01                   0        0         16       0          31  \n",
       "2013-10-01                  23        0          0       0          55  \n",
       "2014-10-01                   0       24          0       0          54  \n",
       "2015-10-01                  57        0          0       0         188  \n",
       "2016-10-01                   0        0          0       0          87  \n",
       "2017-10-01                   0        0          0       0         126  \n",
       "2018-10-01                   0        0          0       5          20  "
      ]
     },
     "execution_count": 26,
     "metadata": {},
     "output_type": "execute_result"
    }
   ],
   "source": [
    "pivot"
   ]
  },
  {
   "cell_type": "code",
   "execution_count": 27,
   "metadata": {},
   "outputs": [],
   "source": [
    "g = pickup_df.groupby(['PULOC', pd.Grouper(freq='AS-OCT', sort=True), 'air2_AirportName'])['AlienMasterID','MissionID'].nunique()\n",
    "drop_locs_by_year = g.reset_index()\n",
    "drop_locs_by_year.rename({'MissionDate': 'FY'}, axis='columns', inplace=True)\n",
    "\n",
    "# drop_locs_by_year.to_csv(f'../output/{airport}_drop_locs_by_year.csv', index=True)"
   ]
  },
  {
   "cell_type": "markdown",
   "metadata": {},
   "source": [
    "# Juveniles (by fiscal year)"
   ]
  },
  {
   "cell_type": "code",
   "execution_count": 28,
   "metadata": {},
   "outputs": [
    {
     "data": {
      "text/html": [
       "<div>\n",
       "<style scoped>\n",
       "    .dataframe tbody tr th:only-of-type {\n",
       "        vertical-align: middle;\n",
       "    }\n",
       "\n",
       "    .dataframe tbody tr th {\n",
       "        vertical-align: top;\n",
       "    }\n",
       "\n",
       "    .dataframe thead th {\n",
       "        text-align: right;\n",
       "    }\n",
       "</style>\n",
       "<table border=\"1\" class=\"dataframe\">\n",
       "  <thead>\n",
       "    <tr style=\"text-align: right;\">\n",
       "      <th></th>\n",
       "      <th>Juvenile</th>\n",
       "      <th>False</th>\n",
       "      <th>True</th>\n",
       "      <th>percent</th>\n",
       "    </tr>\n",
       "    <tr>\n",
       "      <th>PULOC</th>\n",
       "      <th>MissionDate</th>\n",
       "      <th></th>\n",
       "      <th></th>\n",
       "      <th></th>\n",
       "    </tr>\n",
       "  </thead>\n",
       "  <tbody>\n",
       "    <tr>\n",
       "      <th rowspan=\"9\" valign=\"top\">KBFI</th>\n",
       "      <th>2010-10-01</th>\n",
       "      <td>6613.0</td>\n",
       "      <td>16.0</td>\n",
       "      <td>0.241948</td>\n",
       "    </tr>\n",
       "    <tr>\n",
       "      <th>2011-10-01</th>\n",
       "      <td>5653.0</td>\n",
       "      <td>11.0</td>\n",
       "      <td>0.194587</td>\n",
       "    </tr>\n",
       "    <tr>\n",
       "      <th>2012-10-01</th>\n",
       "      <td>4795.0</td>\n",
       "      <td>2.0</td>\n",
       "      <td>0.041710</td>\n",
       "    </tr>\n",
       "    <tr>\n",
       "      <th>2013-10-01</th>\n",
       "      <td>3953.0</td>\n",
       "      <td>2.0</td>\n",
       "      <td>0.050594</td>\n",
       "    </tr>\n",
       "    <tr>\n",
       "      <th>2014-10-01</th>\n",
       "      <td>2732.0</td>\n",
       "      <td>NaN</td>\n",
       "      <td>NaN</td>\n",
       "    </tr>\n",
       "    <tr>\n",
       "      <th>2015-10-01</th>\n",
       "      <td>3129.0</td>\n",
       "      <td>NaN</td>\n",
       "      <td>NaN</td>\n",
       "    </tr>\n",
       "    <tr>\n",
       "      <th>2016-10-01</th>\n",
       "      <td>3381.0</td>\n",
       "      <td>9.0</td>\n",
       "      <td>0.266193</td>\n",
       "    </tr>\n",
       "    <tr>\n",
       "      <th>2017-10-01</th>\n",
       "      <td>3490.0</td>\n",
       "      <td>5.0</td>\n",
       "      <td>0.143266</td>\n",
       "    </tr>\n",
       "    <tr>\n",
       "      <th>2018-10-01</th>\n",
       "      <td>652.0</td>\n",
       "      <td>NaN</td>\n",
       "      <td>NaN</td>\n",
       "    </tr>\n",
       "  </tbody>\n",
       "</table>\n",
       "</div>"
      ],
      "text/plain": [
       "Juvenile            False  True   percent\n",
       "PULOC MissionDate                        \n",
       "KBFI  2010-10-01   6613.0  16.0  0.241948\n",
       "      2011-10-01   5653.0  11.0  0.194587\n",
       "      2012-10-01   4795.0   2.0  0.041710\n",
       "      2013-10-01   3953.0   2.0  0.050594\n",
       "      2014-10-01   2732.0   NaN       NaN\n",
       "      2015-10-01   3129.0   NaN       NaN\n",
       "      2016-10-01   3381.0   9.0  0.266193\n",
       "      2017-10-01   3490.0   5.0  0.143266\n",
       "      2018-10-01    652.0   NaN       NaN"
      ]
     },
     "execution_count": 28,
     "metadata": {},
     "output_type": "execute_result"
    }
   ],
   "source": [
    "g = pickup_df.groupby(['PULOC', pd.Grouper(freq='AS-OCT', sort=True), 'Juvenile'])['AlienMasterID'].nunique()\n",
    "juvenile_pickups = g.unstack()\n",
    "juvenile_pickups['percent'] = juvenile_pickups[True] / juvenile_pickups[False] * 100\n",
    "juvenile_pickups"
   ]
  },
  {
   "cell_type": "code",
   "execution_count": 29,
   "metadata": {},
   "outputs": [
    {
     "data": {
      "text/html": [
       "<div>\n",
       "<style scoped>\n",
       "    .dataframe tbody tr th:only-of-type {\n",
       "        vertical-align: middle;\n",
       "    }\n",
       "\n",
       "    .dataframe tbody tr th {\n",
       "        vertical-align: top;\n",
       "    }\n",
       "\n",
       "    .dataframe thead th {\n",
       "        text-align: right;\n",
       "    }\n",
       "</style>\n",
       "<table border=\"1\" class=\"dataframe\">\n",
       "  <thead>\n",
       "    <tr style=\"text-align: right;\">\n",
       "      <th></th>\n",
       "      <th>Juvenile</th>\n",
       "      <th>False</th>\n",
       "      <th>True</th>\n",
       "      <th>percent</th>\n",
       "    </tr>\n",
       "    <tr>\n",
       "      <th>DropLoc</th>\n",
       "      <th>MissionDate</th>\n",
       "      <th></th>\n",
       "      <th></th>\n",
       "      <th></th>\n",
       "    </tr>\n",
       "  </thead>\n",
       "  <tbody>\n",
       "    <tr>\n",
       "      <th rowspan=\"9\" valign=\"top\">KBFI</th>\n",
       "      <th>2010-10-01</th>\n",
       "      <td>550.0</td>\n",
       "      <td>2.0</td>\n",
       "      <td>0.363636</td>\n",
       "    </tr>\n",
       "    <tr>\n",
       "      <th>2011-10-01</th>\n",
       "      <td>1172.0</td>\n",
       "      <td>3.0</td>\n",
       "      <td>0.255973</td>\n",
       "    </tr>\n",
       "    <tr>\n",
       "      <th>2012-10-01</th>\n",
       "      <td>2151.0</td>\n",
       "      <td>2.0</td>\n",
       "      <td>0.092980</td>\n",
       "    </tr>\n",
       "    <tr>\n",
       "      <th>2013-10-01</th>\n",
       "      <td>2177.0</td>\n",
       "      <td>70.0</td>\n",
       "      <td>3.215434</td>\n",
       "    </tr>\n",
       "    <tr>\n",
       "      <th>2014-10-01</th>\n",
       "      <td>1926.0</td>\n",
       "      <td>NaN</td>\n",
       "      <td>NaN</td>\n",
       "    </tr>\n",
       "    <tr>\n",
       "      <th>2015-10-01</th>\n",
       "      <td>2737.0</td>\n",
       "      <td>NaN</td>\n",
       "      <td>NaN</td>\n",
       "    </tr>\n",
       "    <tr>\n",
       "      <th>2016-10-01</th>\n",
       "      <td>1487.0</td>\n",
       "      <td>NaN</td>\n",
       "      <td>NaN</td>\n",
       "    </tr>\n",
       "    <tr>\n",
       "      <th>2017-10-01</th>\n",
       "      <td>2504.0</td>\n",
       "      <td>NaN</td>\n",
       "      <td>NaN</td>\n",
       "    </tr>\n",
       "    <tr>\n",
       "      <th>2018-10-01</th>\n",
       "      <td>410.0</td>\n",
       "      <td>NaN</td>\n",
       "      <td>NaN</td>\n",
       "    </tr>\n",
       "  </tbody>\n",
       "</table>\n",
       "</div>"
      ],
      "text/plain": [
       "Juvenile              False  True   percent\n",
       "DropLoc MissionDate                        \n",
       "KBFI    2010-10-01    550.0   2.0  0.363636\n",
       "        2011-10-01   1172.0   3.0  0.255973\n",
       "        2012-10-01   2151.0   2.0  0.092980\n",
       "        2013-10-01   2177.0  70.0  3.215434\n",
       "        2014-10-01   1926.0   NaN       NaN\n",
       "        2015-10-01   2737.0   NaN       NaN\n",
       "        2016-10-01   1487.0   NaN       NaN\n",
       "        2017-10-01   2504.0   NaN       NaN\n",
       "        2018-10-01    410.0   NaN       NaN"
      ]
     },
     "execution_count": 29,
     "metadata": {},
     "output_type": "execute_result"
    }
   ],
   "source": [
    "g = dropoff_df.groupby(['DropLoc', pd.Grouper(freq='AS-OCT', sort=True), 'Juvenile'])['AlienMasterID'].nunique()\n",
    "juvenile_dropoffs = g.unstack()\n",
    "juvenile_dropoffs['percent'] = juvenile_dropoffs[True] / juvenile_dropoffs[False] * 100\n",
    "juvenile_dropoffs"
   ]
  },
  {
   "cell_type": "code",
   "execution_count": null,
   "metadata": {},
   "outputs": [],
   "source": []
  }
 ],
 "metadata": {
  "kernelspec": {
   "display_name": "Python 3",
   "language": "python",
   "name": "python3"
  },
  "language_info": {
   "codemirror_mode": {
    "name": "ipython",
    "version": 3
   },
   "file_extension": ".py",
   "mimetype": "text/x-python",
   "name": "python",
   "nbconvert_exporter": "python",
   "pygments_lexer": "ipython3",
   "version": "3.7.2"
  }
 },
 "nbformat": 4,
 "nbformat_minor": 2
}
