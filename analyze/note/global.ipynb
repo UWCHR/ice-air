{
 "cells": [
  {
   "cell_type": "code",
   "execution_count": 1,
   "metadata": {},
   "outputs": [],
   "source": [
    "import numpy as np\n",
    "import pandas as pd\n",
    "import yaml\n",
    "import matplotlib.pyplot as plt\n",
    "import matplotlib.mlab as mlab\n",
    "import seaborn as sns"
   ]
  },
  {
   "cell_type": "markdown",
   "metadata": {},
   "source": [
    "# Import\n",
    "\n",
    "First we open a file containing a dictionary of columns and associated data types generated in `../../optimize/`, then we read input file."
   ]
  },
  {
   "cell_type": "code",
   "execution_count": 3,
   "metadata": {},
   "outputs": [
    {
     "name": "stdout",
     "output_type": "stream",
     "text": [
      "<class 'pandas.core.frame.DataFrame'>\n",
      "RangeIndex: 1763020 entries, 0 to 1763019\n",
      "Data columns (total 44 columns):\n",
      "Status                  category\n",
      "Sex                     category\n",
      "Convictions             category\n",
      "GangMember              category\n",
      "ClassLvl                float32\n",
      "Age                     float32\n",
      "MissionDate             datetime64[ns]\n",
      "MissionNumber           uint32\n",
      "PULOC                   category\n",
      "DropLoc                 category\n",
      "StrikeFromList          float32\n",
      "ReasonStruck            category\n",
      "R-T                     category\n",
      "Code                    category\n",
      "CountryOfCitizenship    category\n",
      "Juvenile                bool\n",
      "MissionWeek             uint8\n",
      "MissionQuarter          uint8\n",
      "MissionYear             uint16\n",
      "MissionMonth            uint8\n",
      "Criminality             category\n",
      "FamilyUnitFlag          float32\n",
      "UnaccompaniedFlag       float32\n",
      "AlienMasterID           uint32\n",
      "MissionID               uint16\n",
      "air_AirportID           float32\n",
      "air_AirportName         category\n",
      "air_City                category\n",
      "st_StateID              float32\n",
      "st_StateAbbr            category\n",
      "AOR_AORID               float32\n",
      "AOR_AOR                 category\n",
      "AOR_AORName             category\n",
      "air_Country             category\n",
      "air2_AirportID          float32\n",
      "air2_AirportName        category\n",
      "air2_City               category\n",
      "st2_StateID             float32\n",
      "st2_StateAbbr           category\n",
      "aor2_AORID              float32\n",
      "aor2_AOR                category\n",
      "aor2_AORName            category\n",
      "air2_Country            category\n",
      "NonCriminal             bool\n",
      "dtypes: bool(2), category(23), datetime64[ns](1), float32(11), uint16(2), uint32(2), uint8(3)\n",
      "memory usage: 168.6 MB\n"
     ]
    }
   ],
   "source": [
    "with open('../input/dtypes.yaml', 'r') as yamlfile:\n",
    "    column_types = yaml.load(yamlfile)\n",
    "\n",
    "read_csv_opts = {'sep': '|',\n",
    "                 'quotechar': '\"',\n",
    "                 'compression': 'gzip',\n",
    "                 'encoding': 'utf-8',\n",
    "                 'dtype': column_types,\n",
    "                 'parse_dates': ['MissionDate'],\n",
    "                 'infer_datetime_format': True}\n",
    "\n",
    "df = pd.read_csv('../input/ice-air.csv.gz', **read_csv_opts)\n",
    "\n",
    "df.info(memory_usage='deep')"
   ]
  },
  {
   "cell_type": "markdown",
   "metadata": {},
   "source": [
    "# Global variables"
   ]
  },
  {
   "cell_type": "code",
   "execution_count": 4,
   "metadata": {},
   "outputs": [],
   "source": [
    "pre_drop = len(df)\n",
    "df = df.drop_duplicates()\n",
    "post_drop = len(df)\n",
    "assert pre_drop == post_drop"
   ]
  },
  {
   "cell_type": "code",
   "execution_count": 5,
   "metadata": {},
   "outputs": [
    {
     "name": "stdout",
     "output_type": "stream",
     "text": [
      "Number of records: 1763020\n"
     ]
    }
   ],
   "source": [
    "number_of_records = len(df)\n",
    "print(f'Number of records: {number_of_records}')"
   ]
  },
  {
   "cell_type": "markdown",
   "metadata": {},
   "source": [
    "No missing values in ID fields. IDs repeat."
   ]
  },
  {
   "cell_type": "code",
   "execution_count": 6,
   "metadata": {},
   "outputs": [
    {
     "name": "stdout",
     "output_type": "stream",
     "text": [
      "Unique MissionID values: 14973\n"
     ]
    }
   ],
   "source": [
    "unique_MissionID = len(set(df['MissionID']))\n",
    "assert sum(df['MissionID'].isnull()) == 0\n",
    "print(f\"Unique MissionID values: {unique_MissionID}\")"
   ]
  },
  {
   "cell_type": "code",
   "execution_count": 7,
   "metadata": {},
   "outputs": [
    {
     "name": "stdout",
     "output_type": "stream",
     "text": [
      "Unique MissionNumber values: 14973\n"
     ]
    }
   ],
   "source": [
    "unique_MissionNumber = len(set(df['MissionNumber']))\n",
    "assert sum(df['MissionNumber'].isnull()) == 0\n",
    "print(f\"Unique MissionNumber values: {unique_MissionNumber}\")"
   ]
  },
  {
   "cell_type": "markdown",
   "metadata": {},
   "source": [
    "One to one relationship of MissionID to MissionNumber. These fields seem to be equivalent."
   ]
  },
  {
   "cell_type": "code",
   "execution_count": 8,
   "metadata": {},
   "outputs": [],
   "source": [
    "assert sum(df.groupby(['MissionID', 'MissionNumber'])['MissionNumber'].nunique() > 1) == 0"
   ]
  },
  {
   "cell_type": "code",
   "execution_count": 9,
   "metadata": {},
   "outputs": [],
   "source": [
    "assert sum(df.groupby(['MissionNumber', 'MissionID'])['MissionID'].nunique() > 1) == 0"
   ]
  },
  {
   "cell_type": "code",
   "execution_count": 21,
   "metadata": {
    "scrolled": false
   },
   "outputs": [
    {
     "data": {
      "text/plain": [
       "MissionDate  MissionNumber  PULOC  DropLoc\n",
       "2010-10-01   110001         KDEN   KHRL        42\n",
       "                                   KIWA         3\n",
       "                            KELP   KHRL        46\n",
       "                                   KIWA         1\n",
       "             110002         KBFL   KIWA         3\n",
       "                                   KSAN        21\n",
       "                            KOAK   KIWA        13\n",
       "                                   KSAN        48\n",
       "                            KSAN   KIWA        29\n",
       "             110003         KIWA   MGGT       121\n",
       "             110004         KCSG   MSLP        33\n",
       "                            KIAH   MSLP        86\n",
       "             110005         KMDT   KAEX       122\n",
       "             110006         KHRL   MGGT        67\n",
       "                            KSAT   MGGT        37\n",
       "             110007         KAEX   MHLM        97\n",
       "             110008         KMCI   KAEX        10\n",
       "                                   KHRL        35\n",
       "                            KORD   KAEX        25\n",
       "                                   KHRL        63\n",
       "2010-10-02   110046         KBFI   KIWA         1\n",
       "                                   KSAN        53\n",
       "                            KIWA   KBFI        26\n",
       "2010-10-04   110009         KBFL   KIWA        13\n",
       "                                   KSAN         4\n",
       "                            KIWA   KSAN         1\n",
       "                            KOAK   KIWA         6\n",
       "                                   KSAN        72\n",
       "                            KSAN   KELP         4\n",
       "                                   KIWA        69\n",
       "                                             ... \n",
       "2018-12-04   190336         KAEX   KAEX         1\n",
       "                                   KLRD         1\n",
       "                                   KEWR        19\n",
       "                            KLRD   KAEX         8\n",
       "                            KEWR   KAEX        35\n",
       "                                   KLRD        13\n",
       "                            KPSM   KAEX        22\n",
       "                                   KLRD         8\n",
       "             190354         KIWA   MGGT        85\n",
       "                                   MHLM        32\n",
       "             190355         KIWA   KIAH        37\n",
       "                            KONT   KIWA        90\n",
       "2018-12-05   190337         KIWA   MGGT        95\n",
       "             190338         KIWA   MHLM       121\n",
       "             190340         KAEX   MSLP        39\n",
       "                            KIWA   KAEX        40\n",
       "                                   MSLP        38\n",
       "             190341         KBRO   MGGT       128\n",
       "             190342         KAEX   KMSP         1\n",
       "                                   KOMA         2\n",
       "                            KMCI   KAEX         5\n",
       "                                   KBRO        16\n",
       "                            KMSP   KAEX        24\n",
       "                                   KBRO        18\n",
       "                            KOMA   KAEX         5\n",
       "                                   KBRO        12\n",
       "                            KBRO   KAEX         1\n",
       "             190356         KATL   MGGT        75\n",
       "                            KIAH   MGGT        32\n",
       "                            KMIA   MGGT        26\n",
       "Name: AlienMasterID, Length: 41210, dtype: int64"
      ]
     },
     "execution_count": 21,
     "metadata": {},
     "output_type": "execute_result"
    }
   ],
   "source": [
    "df.groupby(['MissionDate', 'MissionNumber', 'PULOC', 'DropLoc'])['AlienMasterID'].nunique()"
   ]
  },
  {
   "cell_type": "code",
   "execution_count": 10,
   "metadata": {},
   "outputs": [
    {
     "name": "stdout",
     "output_type": "stream",
     "text": [
      "Unique AlienMasterID values: 1733555\n"
     ]
    }
   ],
   "source": [
    "unique_AlienMasterID = len(set(df['AlienMasterID']))\n",
    "assert sum(df['AlienMasterID'].isnull()) == 0\n",
    "print(f\"Unique AlienMasterID values: {unique_AlienMasterID}\")"
   ]
  },
  {
   "cell_type": "code",
   "execution_count": 11,
   "metadata": {},
   "outputs": [
    {
     "name": "stdout",
     "output_type": "stream",
     "text": [
      "Earliest record: 2010-10-01 00:00:00\n"
     ]
    }
   ],
   "source": [
    "earliest_record = df['MissionDate'].min()\n",
    "print(f'Earliest record: {earliest_record}')"
   ]
  },
  {
   "cell_type": "code",
   "execution_count": 12,
   "metadata": {},
   "outputs": [
    {
     "name": "stdout",
     "output_type": "stream",
     "text": [
      "Earliest record: 2018-12-05 00:00:00\n"
     ]
    }
   ],
   "source": [
    "latest_record = df['MissionDate'].max()\n",
    "print(f'Earliest record: {latest_record}')"
   ]
  },
  {
   "cell_type": "code",
   "execution_count": 13,
   "metadata": {},
   "outputs": [
    {
     "name": "stdout",
     "output_type": "stream",
     "text": [
      "Number of pickup airports: 84\n",
      "Number of dropoff airports: 207\n"
     ]
    }
   ],
   "source": [
    "number_of_pickup_airports = len(set(df['PULOC']))\n",
    "number_of_dropoff_airports = len(set(df['DropLoc']))\n",
    "print(f'Number of pickup airports: {number_of_pickup_airports}')\n",
    "print(f'Number of dropoff airports: {number_of_dropoff_airports}')"
   ]
  },
  {
   "cell_type": "code",
   "execution_count": 22,
   "metadata": {},
   "outputs": [],
   "source": [
    "year_counts = []\n",
    "for year in df['MissionYear'].unique():\n",
    "    puloc_count = len(set(df.loc[df['MissionYear'] == year, 'PULOC']))\n",
    "    droploc_count = len(set(df.loc[df['MissionYear'] == year, 'DropLoc']))\n",
    "    year_counts.append((year, puloc_count, droploc_count))"
   ]
  },
  {
   "cell_type": "code",
   "execution_count": 23,
   "metadata": {},
   "outputs": [],
   "source": [
    "expansion = pd.DataFrame(year_counts, columns=['FY', 'Unique pickup aiports', 'Unique dropoff aiports']).set_index('FY')"
   ]
  },
  {
   "cell_type": "code",
   "execution_count": 24,
   "metadata": {},
   "outputs": [
    {
     "data": {
      "text/html": [
       "<div>\n",
       "<style scoped>\n",
       "    .dataframe tbody tr th:only-of-type {\n",
       "        vertical-align: middle;\n",
       "    }\n",
       "\n",
       "    .dataframe tbody tr th {\n",
       "        vertical-align: top;\n",
       "    }\n",
       "\n",
       "    .dataframe thead th {\n",
       "        text-align: right;\n",
       "    }\n",
       "</style>\n",
       "<table border=\"1\" class=\"dataframe\">\n",
       "  <thead>\n",
       "    <tr style=\"text-align: right;\">\n",
       "      <th></th>\n",
       "      <th>Unique pickup aiports</th>\n",
       "      <th>Unique dropoff aiports</th>\n",
       "    </tr>\n",
       "    <tr>\n",
       "      <th>FY</th>\n",
       "      <th></th>\n",
       "      <th></th>\n",
       "    </tr>\n",
       "  </thead>\n",
       "  <tbody>\n",
       "    <tr>\n",
       "      <th>2010</th>\n",
       "      <td>33</td>\n",
       "      <td>48</td>\n",
       "    </tr>\n",
       "    <tr>\n",
       "      <th>2011</th>\n",
       "      <td>44</td>\n",
       "      <td>76</td>\n",
       "    </tr>\n",
       "    <tr>\n",
       "      <th>2012</th>\n",
       "      <td>46</td>\n",
       "      <td>67</td>\n",
       "    </tr>\n",
       "    <tr>\n",
       "      <th>2013</th>\n",
       "      <td>47</td>\n",
       "      <td>51</td>\n",
       "    </tr>\n",
       "    <tr>\n",
       "      <th>2014</th>\n",
       "      <td>41</td>\n",
       "      <td>62</td>\n",
       "    </tr>\n",
       "    <tr>\n",
       "      <th>2015</th>\n",
       "      <td>35</td>\n",
       "      <td>62</td>\n",
       "    </tr>\n",
       "    <tr>\n",
       "      <th>2016</th>\n",
       "      <td>40</td>\n",
       "      <td>100</td>\n",
       "    </tr>\n",
       "    <tr>\n",
       "      <th>2017</th>\n",
       "      <td>39</td>\n",
       "      <td>89</td>\n",
       "    </tr>\n",
       "    <tr>\n",
       "      <th>2018</th>\n",
       "      <td>40</td>\n",
       "      <td>100</td>\n",
       "    </tr>\n",
       "  </tbody>\n",
       "</table>\n",
       "</div>"
      ],
      "text/plain": [
       "      Unique pickup aiports  Unique dropoff aiports\n",
       "FY                                                 \n",
       "2010                     33                      48\n",
       "2011                     44                      76\n",
       "2012                     46                      67\n",
       "2013                     47                      51\n",
       "2014                     41                      62\n",
       "2015                     35                      62\n",
       "2016                     40                     100\n",
       "2017                     39                      89\n",
       "2018                     40                     100"
      ]
     },
     "execution_count": 24,
     "metadata": {},
     "output_type": "execute_result"
    }
   ],
   "source": [
    "expansion"
   ]
  },
  {
   "cell_type": "code",
   "execution_count": 25,
   "metadata": {},
   "outputs": [],
   "source": [
    "expansion.to_csv('../output/iceair-expansion.csv')"
   ]
  },
  {
   "cell_type": "markdown",
   "metadata": {},
   "source": [
    "# Most common pickup, dropoff airports"
   ]
  },
  {
   "cell_type": "code",
   "execution_count": 26,
   "metadata": {},
   "outputs": [
    {
     "data": {
      "text/plain": [
       "Alexandria International Airport                        239911\n",
       "Brownsville South Padre Island International Airport    204895\n",
       "Phoenix-Mesa-Gateway Airport                            196150\n",
       "Valley International Airport                            154138\n",
       "El Paso International Airport                           136127\n",
       "San Antonio International Airport                       107434\n",
       "Columbus Metropolitan Airport                            80797\n",
       "Harrisburg International Airport                         76348\n",
       "Laredo International Airport                             56409\n",
       "Miami International Airport                              55588\n",
       "Name: air_AirportName, dtype: int64"
      ]
     },
     "execution_count": 26,
     "metadata": {},
     "output_type": "execute_result"
    }
   ],
   "source": [
    "df['air_AirportName'].value_counts().head(10)"
   ]
  },
  {
   "cell_type": "code",
   "execution_count": 27,
   "metadata": {},
   "outputs": [
    {
     "data": {
      "text/plain": [
       "La Aurora Airport                                       327010\n",
       "Ramon Villeda Morales International Airport             202955\n",
       "Alexandria International Airport                        169316\n",
       "El Salvador International Airport                       157773\n",
       "Valley International Airport                            148700\n",
       "Phoenix-Mesa-Gateway Airport                             93892\n",
       "El Paso International Airport                            87408\n",
       "Licenciado Benito Juarez International Airport           85584\n",
       "Brownsville South Padre Island International Airport     66444\n",
       "San Diego International Airport                          62943\n",
       "Name: air2_AirportName, dtype: int64"
      ]
     },
     "execution_count": 27,
     "metadata": {},
     "output_type": "execute_result"
    }
   ],
   "source": [
    "df['air2_AirportName'].value_counts().head(10)"
   ]
  },
  {
   "cell_type": "code",
   "execution_count": 33,
   "metadata": {},
   "outputs": [
    {
     "name": "stdout",
     "output_type": "stream",
     "text": [
      "Number of pickup countries: 10\n"
     ]
    }
   ],
   "source": [
    "pickup_countries = set(df['air_Country'].dropna())\n",
    "print(f'Number of pickup countries: {len(pickup_countries)}')"
   ]
  },
  {
   "cell_type": "code",
   "execution_count": 34,
   "metadata": {},
   "outputs": [
    {
     "name": "stdout",
     "output_type": "stream",
     "text": [
      "Number of dropoff countries: 119\n"
     ]
    }
   ],
   "source": [
    "dropoff_countries = set(df['air2_Country'].dropna())\n",
    "print(f'Number of dropoff countries: {len(dropoff_countries)}')"
   ]
  },
  {
   "cell_type": "code",
   "execution_count": 35,
   "metadata": {},
   "outputs": [
    {
     "name": "stdout",
     "output_type": "stream",
     "text": [
      "Total countries in ICE Air network (including US): 119\n"
     ]
    }
   ],
   "source": [
    "all_countries = pickup_countries.union(dropoff_countries)\n",
    "print(f'Total countries in ICE Air network (including US): {len(dropoff_countries)}')"
   ]
  },
  {
   "cell_type": "markdown",
   "metadata": {},
   "source": [
    "Top nationalities:"
   ]
  },
  {
   "cell_type": "code",
   "execution_count": 59,
   "metadata": {},
   "outputs": [
    {
     "data": {
      "text/plain": [
       "MEXICO                568039\n",
       "GUATEMALA             421411\n",
       "HONDURAS              304685\n",
       "EL SALVADOR           256834\n",
       "DOMINICAN REPUBLIC     31704\n",
       "ECUADOR                25688\n",
       "HAITI                  23308\n",
       "NICARAGUA              18679\n",
       "COLOMBIA               14520\n",
       "JAMAICA                12800\n",
       "INDIA                   8952\n",
       "CHINA                   4459\n",
       "CUBA                    3658\n",
       "BANGLADESH              2790\n",
       "SOMALIA                 2659\n",
       "Name: CountryOfCitizenship, dtype: int64"
      ]
     },
     "execution_count": 59,
     "metadata": {},
     "output_type": "execute_result"
    }
   ],
   "source": [
    "df.drop_duplicates(subset='AlienMasterID')['CountryOfCitizenship'].value_counts().head(15)"
   ]
  },
  {
   "cell_type": "markdown",
   "metadata": {},
   "source": [
    "# Removal versus transfer rates"
   ]
  },
  {
   "cell_type": "code",
   "execution_count": 49,
   "metadata": {},
   "outputs": [],
   "source": [
    "removal_count = df.loc[df['R-T'] == 'R'].drop_duplicates(subset='AlienMasterID')['CountryOfCitizenship'].value_counts()"
   ]
  },
  {
   "cell_type": "code",
   "execution_count": 50,
   "metadata": {},
   "outputs": [],
   "source": [
    "transfer_count =  df.loc[df['R-T'] == 'T'].drop_duplicates(subset='AlienMasterID')['CountryOfCitizenship'].value_counts()"
   ]
  },
  {
   "cell_type": "code",
   "execution_count": 61,
   "metadata": {},
   "outputs": [],
   "source": [
    "transfer_rate = (transfer_count / removal_count).sort_values(ascending = False)"
   ]
  },
  {
   "cell_type": "code",
   "execution_count": 84,
   "metadata": {},
   "outputs": [
    {
     "name": "stdout",
     "output_type": "stream",
     "text": [
      "94628\n",
      "326783\n"
     ]
    }
   ],
   "source": [
    "country = \"GUATEMALA\"\n",
    "print(transfer_count[country])\n",
    "print(removal_count[country])"
   ]
  },
  {
   "cell_type": "code",
   "execution_count": 85,
   "metadata": {},
   "outputs": [
    {
     "data": {
      "text/plain": [
       "VENEZUELA      449.000000\n",
       "COSTA RICA     249.000000\n",
       "BRAZIL         123.000000\n",
       "NEPAL          100.277778\n",
       "NEW ZEALAND    100.000000\n",
       "Name: CountryOfCitizenship, dtype: float64"
      ]
     },
     "execution_count": 85,
     "metadata": {},
     "output_type": "execute_result"
    }
   ],
   "source": [
    "valid_comparisons = transfer_rate[transfer_rate != np.inf]\n",
    "valid_comparisons.head()"
   ]
  },
  {
   "cell_type": "code",
   "execution_count": 86,
   "metadata": {},
   "outputs": [
    {
     "data": {
      "text/plain": [
       "0.28957442706627945"
      ]
     },
     "execution_count": 86,
     "metadata": {},
     "output_type": "execute_result"
    }
   ],
   "source": [
    "valid_comparisons[country]"
   ]
  },
  {
   "cell_type": "markdown",
   "metadata": {},
   "source": [
    "# Finding repeat `AlienMasterID` values"
   ]
  },
  {
   "cell_type": "code",
   "execution_count": 23,
   "metadata": {},
   "outputs": [],
   "source": [
    "count = df.groupby(['AlienMasterID']).size().reset_index(name='count')\n",
    "\n",
    "count.set_index('AlienMasterID', inplace=True)\n",
    "\n",
    "df.set_index('AlienMasterID', inplace=True)\n",
    "\n",
    "df = df.join(count, how='left')\n",
    "\n",
    "more_than_one = df['count'] > 1\n",
    "\n",
    "multiple_alienID = df[more_than_one]\n",
    "\n",
    "multiple_alienID.to_csv('../output/multiple_alienID.csv.gz', compression='gzip', sep='|')"
   ]
  },
  {
   "cell_type": "code",
   "execution_count": 24,
   "metadata": {},
   "outputs": [],
   "source": [
    "df.reset_index(inplace=True)"
   ]
  },
  {
   "cell_type": "markdown",
   "metadata": {},
   "source": [
    "# Most common, most passenger flight paths"
   ]
  },
  {
   "cell_type": "code",
   "execution_count": 25,
   "metadata": {},
   "outputs": [],
   "source": [
    "most_common_flight_path = df.groupby(['PULOC','DropLoc'])['MissionID'].nunique().idxmax()\n",
    "most_common_flight_path_count =  df.groupby(['PULOC','DropLoc'])['MissionID'].nunique()[most_common_flight_path]\n",
    "most_passenger_flight_path = df.groupby(['PULOC','DropLoc'])['AlienMasterID'].nunique().idxmax()\n",
    "most_passenger_flight_path_count = df.groupby(['PULOC','DropLoc'])['AlienMasterID'].nunique()[most_passenger_flight_path]"
   ]
  },
  {
   "cell_type": "code",
   "execution_count": 26,
   "metadata": {},
   "outputs": [
    {
     "name": "stdout",
     "output_type": "stream",
     "text": [
      "Most frequent flight path: ('KOAK', 'KSAN'), 919 missions\n",
      "Flight path with most passengers: ('KBRO', 'MGGT'), 91714 passengers\n"
     ]
    }
   ],
   "source": [
    "print(f'Most frequent flight path: {most_common_flight_path}, {most_common_flight_path_count} missions')\n",
    "print(f'Flight path with most passengers: {most_passenger_flight_path}, {most_passenger_flight_path_count} passengers')"
   ]
  },
  {
   "cell_type": "code",
   "execution_count": 27,
   "metadata": {},
   "outputs": [
    {
     "data": {
      "text/plain": [
       "917"
      ]
     },
     "execution_count": 27,
     "metadata": {},
     "output_type": "execute_result"
    }
   ],
   "source": [
    "df.groupby(['PULOC','DropLoc'])['MissionNumber'].nunique()[most_passenger_flight_path]"
   ]
  },
  {
   "cell_type": "code",
   "execution_count": 2,
   "metadata": {},
   "outputs": [
    {
     "data": {
      "text/plain": [
       "35694225"
      ]
     },
     "execution_count": 2,
     "metadata": {},
     "output_type": "execute_result"
    }
   ],
   "source": [
    "5 * 917 * 7785"
   ]
  },
  {
   "cell_type": "markdown",
   "metadata": {},
   "source": [
    "# Trends"
   ]
  },
  {
   "cell_type": "code",
   "execution_count": 88,
   "metadata": {},
   "outputs": [],
   "source": [
    "removal_df = df.loc[df['R-T'] == 'R']\n",
    "transfer_df = df.loc[df['R-T'] == 'T']"
   ]
  },
  {
   "cell_type": "code",
   "execution_count": 90,
   "metadata": {},
   "outputs": [],
   "source": [
    "removal_df.set_index('MissionDate', inplace=True)\n",
    "transfer_df.set_index('MissionDate', inplace=True)"
   ]
  },
  {
   "cell_type": "code",
   "execution_count": 91,
   "metadata": {},
   "outputs": [],
   "source": [
    "weekly_removals = removal_df['AlienMasterID'].resample('W').nunique()\n",
    "weekly_transfers = transfer_df['AlienMasterID'].resample('W').nunique()\n",
    "monthly_removals = removal_df['AlienMasterID'].resample('M').nunique()\n",
    "monthly_transfers = transfer_df['AlienMasterID'].resample('M').nunique()\n",
    "monthly_removal_flights = removal_df['MissionID'].resample('M').nunique()\n",
    "monthly_transfer_flights = transfer_df['MissionID'].resample('M').nunique()\n",
    "annual_removals = removal_df['AlienMasterID'].resample('AS-OCT').nunique()\n",
    "annual_transfers = transfer_df['AlienMasterID'].resample('AS-OCT').nunique()\n",
    "annual_removal_flights = removal_df['MissionID'].resample('AS-OCT').nunique()\n",
    "annual_transfer_flights = transfer_df['MissionID'].resample('AS-OCT').nunique()"
   ]
  },
  {
   "cell_type": "code",
   "execution_count": 94,
   "metadata": {},
   "outputs": [
    {
     "data": {
      "text/plain": [
       "MissionDate\n",
       "2010-10-01    45175\n",
       "2011-10-01    58528\n",
       "2012-10-01    68065\n",
       "2013-10-01    82989\n",
       "2014-10-01    48392\n",
       "2015-10-01    61352\n",
       "2016-10-01    64097\n",
       "2017-10-01    58355\n",
       "2018-10-01    12018\n",
       "Freq: AS-OCT, Name: Total transfers, dtype: int64"
      ]
     },
     "execution_count": 94,
     "metadata": {},
     "output_type": "execute_result"
    }
   ],
   "source": [
    "annual_removals.rename('Total removals', inplace=True)\n",
    "annual_transfers.rename('Total transfers', inplace=True)"
   ]
  },
  {
   "cell_type": "code",
   "execution_count": 96,
   "metadata": {},
   "outputs": [
    {
     "data": {
      "image/png": "[encoded data removed]",
      "text/plain": [
       "<Figure size 720x576 with 1 Axes>"
      ]
     },
     "metadata": {
      "needs_background": "light"
     },
     "output_type": "display_data"
    }
   ],
   "source": [
    "def pickup_dropoff_trend(data):\n",
    "    \n",
    "    fig, ax = plt.subplots()\n",
    "    \n",
    "    for datum in data:\n",
    "        ax = datum.plot(legend=True)\n",
    "    \n",
    "    ax.set_ylabel('Number of Passengers', fontsize=16)\n",
    "    ax.set_ylim(0)\n",
    "    ax.set_xticklabels([f'FY{str(x)[2:4]}' for x in range(2010,2019)])\n",
    "    ax.set_xlabel('Fiscal Year', fontsize=16)\n",
    "    ax.set_title(f'ICE Air', fontsize=18)\n",
    "    ax.tick_params(labelsize=14)\n",
    "    ax.legend(fontsize=14)\n",
    "    \n",
    "    fig.set_size_inches(10, 8)\n",
    "#     fig.savefig(f'../output/{airport}-ICE-Air-Passengers.png', dpi=100)\n",
    "    return fig, ax\n",
    "\n",
    "plot = pickup_dropoff_trend([annual_removals['2010':'2017'], annual_transfers['2010':'2017']]);"
   ]
  },
  {
   "cell_type": "code",
   "execution_count": 97,
   "metadata": {},
   "outputs": [],
   "source": [
    "# Change groupby to `dropoff_df` to get table/figure of dropoff nationalities\n",
    "g = removal_df.groupby([pd.Grouper(freq='AS-OCT', sort=True), 'CountryOfCitizenship'])['AlienMasterID', 'MissionID'].nunique()\n",
    "country_of_citizenship_by_year = g.reset_index()\n",
    "country_of_citizenship_by_year.rename({'MissionDate': 'FY'}, axis='columns', inplace=True)\n",
    "\n",
    "# country_of_citizenship_by_year.to_csv(f'../output/{airport}_country_of_citizenship_by_year.csv', index=True)"
   ]
  },
  {
   "cell_type": "code",
   "execution_count": 98,
   "metadata": {},
   "outputs": [],
   "source": [
    "country_of_citizenship_by_year.set_index('FY', inplace=True)"
   ]
  },
  {
   "cell_type": "code",
   "execution_count": 99,
   "metadata": {},
   "outputs": [],
   "source": [
    "country_of_citizenship_by_year.sort_values(by='AlienMasterID', ascending=False, inplace=True)"
   ]
  },
  {
   "cell_type": "code",
   "execution_count": 100,
   "metadata": {},
   "outputs": [],
   "source": [
    "top_5_df = pd.DataFrame()\n",
    "\n",
    "for year in country_of_citizenship_by_year.index.unique():\n",
    "    temp = country_of_citizenship_by_year.loc[f'{year}'][['CountryOfCitizenship', 'AlienMasterID']]\n",
    "    temp_top_5 = temp[0:5]\n",
    "    if len(temp) > 5:\n",
    "        all_other_count = sum(temp['AlienMasterID'][5:])\n",
    "    else:\n",
    "        all_other_count = 0\n",
    "    other_df = pd.DataFrame([['ALL OTHERS', all_other_count]], columns=['CountryOfCitizenship', 'AlienMasterID'], index=[year])\n",
    "    temp_top_5 = temp_top_5.append(other_df)\n",
    "    top_5_df = top_5_df.append(temp_top_5)"
   ]
  },
  {
   "cell_type": "code",
   "execution_count": 101,
   "metadata": {},
   "outputs": [
    {
     "data": {
      "image/png": "[encoded data removed]",
      "text/plain": [
       "<Figure size 720x576 with 1 Axes>"
      ]
     },
     "metadata": {
      "needs_background": "light"
     },
     "output_type": "display_data"
    }
   ],
   "source": [
    "pivot = pd.pivot_table(data=top_5_df,\n",
    "                       index=top_5_df.index,\n",
    "                       columns='CountryOfCitizenship',\n",
    "                       values='AlienMasterID',\n",
    "                       aggfunc=np.sum,\n",
    "                       fill_value=0)\n",
    "\n",
    "pivot = pivot.reindex(pivot.sum().sort_values(ascending=False).index, axis=1)\n",
    "cols = list(pivot.columns)\n",
    "cols.remove('ALL OTHERS')\n",
    "cols.append('ALL OTHERS')\n",
    "pivot = pivot[cols]\n",
    "\n",
    "fig = pivot.plot(kind='bar', stacked=True, figsize=(10, 8))"
   ]
  },
  {
   "cell_type": "code",
   "execution_count": null,
   "metadata": {},
   "outputs": [],
   "source": []
  }
 ],
 "metadata": {
  "kernelspec": {
   "display_name": "Python 3",
   "language": "python",
   "name": "python3"
  },
  "language_info": {
   "codemirror_mode": {
    "name": "ipython",
    "version": 3
   },
   "file_extension": ".py",
   "mimetype": "text/x-python",
   "name": "python",
   "nbconvert_exporter": "python",
   "pygments_lexer": "ipython3",
   "version": "3.7.2"
  }
 },
 "nbformat": 4,
 "nbformat_minor": 2
}
