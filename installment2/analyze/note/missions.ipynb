{
 "cells": [
  {
   "cell_type": "code",
   "execution_count": 114,
   "metadata": {},
   "outputs": [],
   "source": [
    "import pandas as pd\n",
    "import numpy as np\n",
    "import yaml\n",
    "import matplotlib.pyplot as plt"
   ]
  },
  {
   "cell_type": "code",
   "execution_count": 115,
   "metadata": {},
   "outputs": [],
   "source": [
    "path = '../input/'"
   ]
  },
  {
   "cell_type": "code",
   "execution_count": 116,
   "metadata": {},
   "outputs": [],
   "source": [
    "fy11 = pd.read_csv(f'{path}ARTS_Data_FY11-reviewed.csv.gz', sep='|', quotechar='\"')\n",
    "fy12 = pd.read_csv(f'{path}ARTS_Data_FY12-reviewed.csv.gz', sep='|', quotechar='\"')\n",
    "fy13 = pd.read_csv(f'{path}ARTS_Data_FY13-reviewed.csv.gz', sep='|', quotechar='\"')\n",
    "fy14 = pd.read_csv(f'{path}ARTS_Data_FY14-reviewed.csv.gz', sep='|', quotechar='\"')\n",
    "fy15 = pd.read_csv(f'{path}ARTS_Data_FY15-reviewed.csv.gz', sep='|', quotechar='\"')\n",
    "fy16 = pd.read_csv(f'{path}ARTS_Data_FY16-reviewed.csv.gz', sep='|', quotechar='\"')\n",
    "fy17 = pd.read_csv(f'{path}ARTS_Data_FY17-reviewed.csv.gz', sep='|', quotechar='\"')\n",
    "fy18 = pd.read_csv(f'{path}ARTS_Data_FY18-reviewed.csv.gz', sep='|', quotechar='\"')\n",
    "fy19 = pd.read_csv(f'{path}ARTS_Data_FY19_Year_To_Date-reviewed.csv.gz', sep='|', quotechar='\"')"
   ]
  },
  {
   "cell_type": "code",
   "execution_count": 117,
   "metadata": {},
   "outputs": [],
   "source": [
    "files = [fy11,\n",
    "         fy12,\n",
    "         fy13,\n",
    "         fy14,\n",
    "         fy15,\n",
    "         fy16,\n",
    "         fy17,\n",
    "         fy18,\n",
    "         fy19]"
   ]
  },
  {
   "cell_type": "code",
   "execution_count": 118,
   "metadata": {},
   "outputs": [],
   "source": [
    "df = pd.concat(files, sort=False)"
   ]
  },
  {
   "cell_type": "code",
   "execution_count": 119,
   "metadata": {},
   "outputs": [],
   "source": [
    "df.reset_index(drop=True, inplace=True)"
   ]
  },
  {
   "cell_type": "code",
   "execution_count": 120,
   "metadata": {},
   "outputs": [],
   "source": [
    "# df_obj = df.select_dtypes(include=['object']).copy()\n",
    "# converted_obj = pd.DataFrame()\n",
    "\n",
    "# for col in df_obj.columns:\n",
    "#     num_unique_values = len(df_obj[col].unique())\n",
    "#     num_total_values = len(df_obj[col])\n",
    "#     if num_unique_values / num_total_values < 0.5:\n",
    "#         converted_obj.loc[:, col] = df_obj[col].astype('category')\n",
    "#     else:\n",
    "#         converted_obj.loc[:, col] = df_obj[col]\n",
    "\n",
    "# df[converted_obj.columns] = converted_obj\n",
    "# del df_obj, converted_obj"
   ]
  },
  {
   "cell_type": "code",
   "execution_count": 121,
   "metadata": {},
   "outputs": [
    {
     "data": {
      "text/html": [
       "<div>\n",
       "<style scoped>\n",
       "    .dataframe tbody tr th:only-of-type {\n",
       "        vertical-align: middle;\n",
       "    }\n",
       "\n",
       "    .dataframe tbody tr th {\n",
       "        vertical-align: top;\n",
       "    }\n",
       "\n",
       "    .dataframe thead th {\n",
       "        text-align: right;\n",
       "    }\n",
       "</style>\n",
       "<table border=\"1\" class=\"dataframe\">\n",
       "  <thead>\n",
       "    <tr style=\"text-align: right;\">\n",
       "      <th></th>\n",
       "      <th>MissionID</th>\n",
       "      <th>MissionNumber</th>\n",
       "      <th>MsnTailNumber</th>\n",
       "      <th>MissionDate</th>\n",
       "      <th>MissionFY</th>\n",
       "      <th>MissionMonth</th>\n",
       "      <th>MissionWeek</th>\n",
       "      <th>MsnStart</th>\n",
       "      <th>MsnStpOne</th>\n",
       "      <th>MsnStpTwo</th>\n",
       "      <th>...</th>\n",
       "      <th>MissionQuarter</th>\n",
       "      <th>MissionYear</th>\n",
       "      <th>MissionTotalCost</th>\n",
       "      <th>MissionPassengers</th>\n",
       "      <th>LegPassengers</th>\n",
       "      <th>MissionUtilization</th>\n",
       "      <th>LegUtilization</th>\n",
       "      <th>ManifestedPassengers</th>\n",
       "      <th>StruckPassengers</th>\n",
       "      <th>PlannedMissionUtilization</th>\n",
       "    </tr>\n",
       "  </thead>\n",
       "  <tbody>\n",
       "    <tr>\n",
       "      <th>0</th>\n",
       "      <td>105</td>\n",
       "      <td>110005</td>\n",
       "      <td>N772AS</td>\n",
       "      <td>10/1/2010</td>\n",
       "      <td>2011</td>\n",
       "      <td>10</td>\n",
       "      <td>40</td>\n",
       "      <td>KSAT</td>\n",
       "      <td>KMDT</td>\n",
       "      <td>KAEX</td>\n",
       "      <td>...</td>\n",
       "      <td>4</td>\n",
       "      <td>2010</td>\n",
       "      <td>0.00</td>\n",
       "      <td>125</td>\n",
       "      <td>NaN</td>\n",
       "      <td>NaN</td>\n",
       "      <td>NaN</td>\n",
       "      <td>NaN</td>\n",
       "      <td>NaN</td>\n",
       "      <td>NaN</td>\n",
       "    </tr>\n",
       "    <tr>\n",
       "      <th>1</th>\n",
       "      <td>106</td>\n",
       "      <td>110006</td>\n",
       "      <td>N125MN</td>\n",
       "      <td>10/1/2010</td>\n",
       "      <td>2011</td>\n",
       "      <td>10</td>\n",
       "      <td>40</td>\n",
       "      <td>KSAT</td>\n",
       "      <td>KHRL</td>\n",
       "      <td>MGGT</td>\n",
       "      <td>...</td>\n",
       "      <td>4</td>\n",
       "      <td>2010</td>\n",
       "      <td>0.00</td>\n",
       "      <td>136</td>\n",
       "      <td>NaN</td>\n",
       "      <td>NaN</td>\n",
       "      <td>NaN</td>\n",
       "      <td>NaN</td>\n",
       "      <td>NaN</td>\n",
       "      <td>NaN</td>\n",
       "    </tr>\n",
       "    <tr>\n",
       "      <th>2</th>\n",
       "      <td>107</td>\n",
       "      <td>110007</td>\n",
       "      <td>N743VA</td>\n",
       "      <td>10/1/2010</td>\n",
       "      <td>2011</td>\n",
       "      <td>10</td>\n",
       "      <td>40</td>\n",
       "      <td>KAEX</td>\n",
       "      <td>MHLM</td>\n",
       "      <td>NaN</td>\n",
       "      <td>...</td>\n",
       "      <td>4</td>\n",
       "      <td>2010</td>\n",
       "      <td>0.00</td>\n",
       "      <td>100</td>\n",
       "      <td>NaN</td>\n",
       "      <td>NaN</td>\n",
       "      <td>NaN</td>\n",
       "      <td>NaN</td>\n",
       "      <td>NaN</td>\n",
       "      <td>NaN</td>\n",
       "    </tr>\n",
       "    <tr>\n",
       "      <th>3</th>\n",
       "      <td>108</td>\n",
       "      <td>110008</td>\n",
       "      <td>N974AS</td>\n",
       "      <td>10/1/2010</td>\n",
       "      <td>2011</td>\n",
       "      <td>10</td>\n",
       "      <td>40</td>\n",
       "      <td>KAEX</td>\n",
       "      <td>KORD</td>\n",
       "      <td>KMCI</td>\n",
       "      <td>...</td>\n",
       "      <td>4</td>\n",
       "      <td>2010</td>\n",
       "      <td>50,641.50</td>\n",
       "      <td>139</td>\n",
       "      <td>NaN</td>\n",
       "      <td>NaN</td>\n",
       "      <td>NaN</td>\n",
       "      <td>NaN</td>\n",
       "      <td>NaN</td>\n",
       "      <td>NaN</td>\n",
       "    </tr>\n",
       "    <tr>\n",
       "      <th>4</th>\n",
       "      <td>131</td>\n",
       "      <td>110002</td>\n",
       "      <td>N120MN</td>\n",
       "      <td>10/1/2010</td>\n",
       "      <td>2011</td>\n",
       "      <td>10</td>\n",
       "      <td>40</td>\n",
       "      <td>KIWA</td>\n",
       "      <td>KOAK</td>\n",
       "      <td>KBFL</td>\n",
       "      <td>...</td>\n",
       "      <td>4</td>\n",
       "      <td>2010</td>\n",
       "      <td>42,191.10</td>\n",
       "      <td>114</td>\n",
       "      <td>NaN</td>\n",
       "      <td>NaN</td>\n",
       "      <td>NaN</td>\n",
       "      <td>NaN</td>\n",
       "      <td>NaN</td>\n",
       "      <td>NaN</td>\n",
       "    </tr>\n",
       "  </tbody>\n",
       "</table>\n",
       "<p>5 rows × 39 columns</p>\n",
       "</div>"
      ],
      "text/plain": [
       "   MissionID  MissionNumber MsnTailNumber MissionDate  MissionFY  \\\n",
       "0        105         110005        N772AS   10/1/2010       2011   \n",
       "1        106         110006        N125MN   10/1/2010       2011   \n",
       "2        107         110007        N743VA   10/1/2010       2011   \n",
       "3        108         110008        N974AS   10/1/2010       2011   \n",
       "4        131         110002        N120MN   10/1/2010       2011   \n",
       "\n",
       "   MissionMonth  MissionWeek MsnStart MsnStpOne MsnStpTwo  \\\n",
       "0            10           40     KSAT      KMDT      KAEX   \n",
       "1            10           40     KSAT      KHRL      MGGT   \n",
       "2            10           40     KAEX      MHLM       NaN   \n",
       "3            10           40     KAEX      KORD      KMCI   \n",
       "4            10           40     KIWA      KOAK      KBFL   \n",
       "\n",
       "             ...            MissionQuarter MissionYear MissionTotalCost  \\\n",
       "0            ...                         4        2010             0.00   \n",
       "1            ...                         4        2010             0.00   \n",
       "2            ...                         4        2010             0.00   \n",
       "3            ...                         4        2010        50,641.50   \n",
       "4            ...                         4        2010        42,191.10   \n",
       "\n",
       "  MissionPassengers LegPassengers MissionUtilization LegUtilization  \\\n",
       "0               125           NaN                NaN            NaN   \n",
       "1               136           NaN                NaN            NaN   \n",
       "2               100           NaN                NaN            NaN   \n",
       "3               139           NaN                NaN            NaN   \n",
       "4               114           NaN                NaN            NaN   \n",
       "\n",
       "  ManifestedPassengers StruckPassengers PlannedMissionUtilization  \n",
       "0                  NaN              NaN                       NaN  \n",
       "1                  NaN              NaN                       NaN  \n",
       "2                  NaN              NaN                       NaN  \n",
       "3                  NaN              NaN                       NaN  \n",
       "4                  NaN              NaN                       NaN  \n",
       "\n",
       "[5 rows x 39 columns]"
      ]
     },
     "execution_count": 121,
     "metadata": {},
     "output_type": "execute_result"
    }
   ],
   "source": [
    "df.head()"
   ]
  },
  {
   "cell_type": "code",
   "execution_count": 122,
   "metadata": {},
   "outputs": [
    {
     "name": "stdout",
     "output_type": "stream",
     "text": [
      "<class 'pandas.core.frame.DataFrame'>\n",
      "RangeIndex: 16967 entries, 0 to 16966\n",
      "Data columns (total 39 columns):\n",
      "MissionID                    16967 non-null int64\n",
      "MissionNumber                16967 non-null int64\n",
      "MsnTailNumber                16966 non-null object\n",
      "MissionDate                  16967 non-null object\n",
      "MissionFY                    16967 non-null int64\n",
      "MissionMonth                 16967 non-null int64\n",
      "MissionWeek                  16967 non-null int64\n",
      "MsnStart                     16967 non-null object\n",
      "MsnStpOne                    16838 non-null object\n",
      "MsnStpTwo                    12421 non-null object\n",
      "MsnStpThree                  5376 non-null object\n",
      "MsnStpFour                   1664 non-null object\n",
      "MsnStpFive                   179 non-null object\n",
      "MsnStpSix                    39 non-null object\n",
      "MsnStpSeven                  21 non-null object\n",
      "MsnStpEight                  9 non-null object\n",
      "MsnEnd                       16962 non-null object\n",
      "msnDelayReason               121 non-null object\n",
      "msnCancelReason              1054 non-null object\n",
      "msnFlightODCCost             16965 non-null object\n",
      "msnProposedFines             16967 non-null object\n",
      "msnEnforcedFines             16964 non-null object\n",
      "msnGeneralFlightCost         16965 non-null object\n",
      "msnFlightHoursPlanned        16958 non-null float64\n",
      "msnFlightHoursActual         16954 non-null float64\n",
      "msnCharterDesignation        16962 non-null object\n",
      "Status                       0 non-null float64\n",
      "msnVendor                    10202 non-null object\n",
      "msnInvoiceNumber             13800 non-null object\n",
      "MissionQuarter               16967 non-null int64\n",
      "MissionYear                  16967 non-null int64\n",
      "MissionTotalCost             16960 non-null object\n",
      "MissionPassengers            16967 non-null int64\n",
      "LegPassengers                0 non-null float64\n",
      "MissionUtilization           1122 non-null float64\n",
      "LegUtilization               0 non-null float64\n",
      "ManifestedPassengers         1122 non-null float64\n",
      "StruckPassengers             1122 non-null float64\n",
      "PlannedMissionUtilization    1122 non-null float64\n",
      "dtypes: float64(9), int64(8), object(22)\n",
      "memory usage: 5.0+ MB\n"
     ]
    }
   ],
   "source": [
    "df.info()"
   ]
  },
  {
   "cell_type": "code",
   "execution_count": 123,
   "metadata": {},
   "outputs": [
    {
     "data": {
      "text/plain": [
       "Index(['MissionID', 'MissionNumber', 'MsnTailNumber', 'MissionDate',\n",
       "       'MissionFY', 'MissionMonth', 'MissionWeek', 'MsnStart', 'MsnStpOne',\n",
       "       'MsnStpTwo', 'MsnStpThree', 'MsnStpFour', 'MsnStpFive', 'MsnStpSix',\n",
       "       'MsnStpSeven', 'MsnStpEight', 'MsnEnd', 'msnDelayReason',\n",
       "       'msnCancelReason', 'msnFlightODCCost', 'msnProposedFines',\n",
       "       'msnEnforcedFines', 'msnGeneralFlightCost', 'msnFlightHoursPlanned',\n",
       "       'msnFlightHoursActual', 'msnCharterDesignation', 'Status', 'msnVendor',\n",
       "       'msnInvoiceNumber', 'MissionQuarter', 'MissionYear', 'MissionTotalCost',\n",
       "       'MissionPassengers', 'LegPassengers', 'MissionUtilization',\n",
       "       'LegUtilization', 'ManifestedPassengers', 'StruckPassengers',\n",
       "       'PlannedMissionUtilization'],\n",
       "      dtype='object')"
      ]
     },
     "execution_count": 123,
     "metadata": {},
     "output_type": "execute_result"
    }
   ],
   "source": [
    "df.columns"
   ]
  },
  {
   "cell_type": "code",
   "execution_count": 124,
   "metadata": {},
   "outputs": [
    {
     "data": {
      "text/plain": [
       "MissionID                          107\n",
       "MissionNumber                   110007\n",
       "MsnTailNumber                   N743VA\n",
       "MissionDate                  10/1/2010\n",
       "MissionFY                         2011\n",
       "MissionMonth                        10\n",
       "MissionWeek                         40\n",
       "MsnStart                          KAEX\n",
       "MsnStpOne                         MHLM\n",
       "MsnStpTwo                          NaN\n",
       "MsnStpThree                        NaN\n",
       "MsnStpFour                         NaN\n",
       "MsnStpFive                         NaN\n",
       "MsnStpSix                          NaN\n",
       "MsnStpSeven                        NaN\n",
       "MsnStpEight                        NaN\n",
       "MsnEnd                            KAEX\n",
       "msnDelayReason                     NaN\n",
       "msnCancelReason                    NaN\n",
       "msnFlightODCCost                  0.00\n",
       "msnProposedFines                  0.00\n",
       "msnEnforcedFines                  0.00\n",
       "msnGeneralFlightCost              0.00\n",
       "msnFlightHoursPlanned                6\n",
       "msnFlightHoursActual               6.2\n",
       "msnCharterDesignation           AEX #1\n",
       "Status                             NaN\n",
       "msnVendor                          NaN\n",
       "msnInvoiceNumber                   NaN\n",
       "MissionQuarter                       4\n",
       "MissionYear                       2010\n",
       "MissionTotalCost                  0.00\n",
       "MissionPassengers                  100\n",
       "LegPassengers                      NaN\n",
       "MissionUtilization                 NaN\n",
       "LegUtilization                     NaN\n",
       "ManifestedPassengers               NaN\n",
       "StruckPassengers                   NaN\n",
       "PlannedMissionUtilization          NaN\n",
       "Name: 2, dtype: object"
      ]
     },
     "execution_count": 124,
     "metadata": {},
     "output_type": "execute_result"
    }
   ],
   "source": [
    "df.loc[2, :]"
   ]
  },
  {
   "cell_type": "code",
   "execution_count": 125,
   "metadata": {},
   "outputs": [],
   "source": [
    "df['MissionTotalCost'] = df['MissionTotalCost'].fillna(0)"
   ]
  },
  {
   "cell_type": "code",
   "execution_count": 126,
   "metadata": {},
   "outputs": [],
   "source": [
    "df['MissionTotalCost'] = df['MissionTotalCost'].str.replace(',', '')"
   ]
  },
  {
   "cell_type": "code",
   "execution_count": 127,
   "metadata": {},
   "outputs": [],
   "source": [
    "df['MissionTotalCost'] = df['MissionTotalCost'].astype(float)"
   ]
  },
  {
   "cell_type": "code",
   "execution_count": 128,
   "metadata": {},
   "outputs": [
    {
     "data": {
      "text/plain": [
       "-80287.2"
      ]
     },
     "execution_count": 128,
     "metadata": {},
     "output_type": "execute_result"
    }
   ],
   "source": [
    "df['MissionTotalCost'].min()"
   ]
  },
  {
   "cell_type": "code",
   "execution_count": 129,
   "metadata": {},
   "outputs": [
    {
     "data": {
      "text/plain": [
       "1492806.04"
      ]
     },
     "execution_count": 129,
     "metadata": {},
     "output_type": "execute_result"
    }
   ],
   "source": [
    "df['MissionTotalCost'].max()"
   ]
  },
  {
   "cell_type": "code",
   "execution_count": 130,
   "metadata": {},
   "outputs": [
    {
     "data": {
      "text/plain": [
       "count    1.696000e+04\n",
       "mean     5.802397e+04\n",
       "std      5.016311e+04\n",
       "min     -8.028720e+04\n",
       "25%      4.651560e+04\n",
       "50%      5.846310e+04\n",
       "75%      7.052851e+04\n",
       "max      1.492806e+06\n",
       "Name: MissionTotalCost, dtype: float64"
      ]
     },
     "execution_count": 130,
     "metadata": {},
     "output_type": "execute_result"
    }
   ],
   "source": [
    "df['MissionTotalCost'].describe()"
   ]
  },
  {
   "cell_type": "code",
   "execution_count": 131,
   "metadata": {},
   "outputs": [
    {
     "data": {
      "text/html": [
       "<div>\n",
       "<style scoped>\n",
       "    .dataframe tbody tr th:only-of-type {\n",
       "        vertical-align: middle;\n",
       "    }\n",
       "\n",
       "    .dataframe tbody tr th {\n",
       "        vertical-align: top;\n",
       "    }\n",
       "\n",
       "    .dataframe thead th {\n",
       "        text-align: right;\n",
       "    }\n",
       "</style>\n",
       "<table border=\"1\" class=\"dataframe\">\n",
       "  <thead>\n",
       "    <tr style=\"text-align: right;\">\n",
       "      <th></th>\n",
       "      <th>MissionID</th>\n",
       "      <th>MissionNumber</th>\n",
       "      <th>MsnTailNumber</th>\n",
       "      <th>MissionDate</th>\n",
       "      <th>MissionFY</th>\n",
       "      <th>MissionMonth</th>\n",
       "      <th>MissionWeek</th>\n",
       "      <th>MsnStart</th>\n",
       "      <th>MsnStpOne</th>\n",
       "      <th>MsnStpTwo</th>\n",
       "      <th>...</th>\n",
       "      <th>MissionQuarter</th>\n",
       "      <th>MissionYear</th>\n",
       "      <th>MissionTotalCost</th>\n",
       "      <th>MissionPassengers</th>\n",
       "      <th>LegPassengers</th>\n",
       "      <th>MissionUtilization</th>\n",
       "      <th>LegUtilization</th>\n",
       "      <th>ManifestedPassengers</th>\n",
       "      <th>StruckPassengers</th>\n",
       "      <th>PlannedMissionUtilization</th>\n",
       "    </tr>\n",
       "  </thead>\n",
       "  <tbody>\n",
       "    <tr>\n",
       "      <th>12397</th>\n",
       "      <td>13087</td>\n",
       "      <td>161523</td>\n",
       "      <td>N807WA</td>\n",
       "      <td>9/14/2016</td>\n",
       "      <td>2016</td>\n",
       "      <td>9</td>\n",
       "      <td>38</td>\n",
       "      <td>KAEX</td>\n",
       "      <td>KBRO</td>\n",
       "      <td>MGGT</td>\n",
       "      <td>...</td>\n",
       "      <td>3</td>\n",
       "      <td>2016</td>\n",
       "      <td>-43391.20</td>\n",
       "      <td>0</td>\n",
       "      <td>NaN</td>\n",
       "      <td>NaN</td>\n",
       "      <td>NaN</td>\n",
       "      <td>NaN</td>\n",
       "      <td>NaN</td>\n",
       "      <td>NaN</td>\n",
       "    </tr>\n",
       "    <tr>\n",
       "      <th>15888</th>\n",
       "      <td>47161</td>\n",
       "      <td>190053</td>\n",
       "      <td>N420US</td>\n",
       "      <td>10/10/2018</td>\n",
       "      <td>2019</td>\n",
       "      <td>10</td>\n",
       "      <td>41</td>\n",
       "      <td>KIWA</td>\n",
       "      <td>KELP</td>\n",
       "      <td>KBRO</td>\n",
       "      <td>...</td>\n",
       "      <td>4</td>\n",
       "      <td>2018</td>\n",
       "      <td>-22797.62</td>\n",
       "      <td>73</td>\n",
       "      <td>NaN</td>\n",
       "      <td>0.540741</td>\n",
       "      <td>NaN</td>\n",
       "      <td>140.0</td>\n",
       "      <td>67.0</td>\n",
       "      <td>1.037037</td>\n",
       "    </tr>\n",
       "    <tr>\n",
       "      <th>15934</th>\n",
       "      <td>47206</td>\n",
       "      <td>190099</td>\n",
       "      <td>N802WA</td>\n",
       "      <td>10/19/2018</td>\n",
       "      <td>2019</td>\n",
       "      <td>10</td>\n",
       "      <td>42</td>\n",
       "      <td>KBRO</td>\n",
       "      <td>KEWR</td>\n",
       "      <td>KGYY</td>\n",
       "      <td>...</td>\n",
       "      <td>4</td>\n",
       "      <td>2018</td>\n",
       "      <td>-72322.20</td>\n",
       "      <td>0</td>\n",
       "      <td>NaN</td>\n",
       "      <td>0.000000</td>\n",
       "      <td>NaN</td>\n",
       "      <td>0.0</td>\n",
       "      <td>0.0</td>\n",
       "      <td>0.000000</td>\n",
       "    </tr>\n",
       "    <tr>\n",
       "      <th>15980</th>\n",
       "      <td>47255</td>\n",
       "      <td>190168</td>\n",
       "      <td>N802WA</td>\n",
       "      <td>10/30/2018</td>\n",
       "      <td>2019</td>\n",
       "      <td>10</td>\n",
       "      <td>44</td>\n",
       "      <td>KELP</td>\n",
       "      <td>KBRO</td>\n",
       "      <td>KELP</td>\n",
       "      <td>...</td>\n",
       "      <td>4</td>\n",
       "      <td>2018</td>\n",
       "      <td>-15530.66</td>\n",
       "      <td>112</td>\n",
       "      <td>NaN</td>\n",
       "      <td>0.829630</td>\n",
       "      <td>NaN</td>\n",
       "      <td>114.0</td>\n",
       "      <td>2.0</td>\n",
       "      <td>0.844444</td>\n",
       "    </tr>\n",
       "    <tr>\n",
       "      <th>16077</th>\n",
       "      <td>47353</td>\n",
       "      <td>190257</td>\n",
       "      <td>N802WA</td>\n",
       "      <td>11/19/2018</td>\n",
       "      <td>2019</td>\n",
       "      <td>11</td>\n",
       "      <td>47</td>\n",
       "      <td>KELP</td>\n",
       "      <td>NaN</td>\n",
       "      <td>NaN</td>\n",
       "      <td>...</td>\n",
       "      <td>4</td>\n",
       "      <td>2018</td>\n",
       "      <td>-47994.95</td>\n",
       "      <td>122</td>\n",
       "      <td>NaN</td>\n",
       "      <td>0.903704</td>\n",
       "      <td>NaN</td>\n",
       "      <td>125.0</td>\n",
       "      <td>3.0</td>\n",
       "      <td>0.925926</td>\n",
       "    </tr>\n",
       "    <tr>\n",
       "      <th>16101</th>\n",
       "      <td>47377</td>\n",
       "      <td>190277</td>\n",
       "      <td>N418US</td>\n",
       "      <td>11/23/2018</td>\n",
       "      <td>2019</td>\n",
       "      <td>11</td>\n",
       "      <td>47</td>\n",
       "      <td>KIWA</td>\n",
       "      <td>KMEM</td>\n",
       "      <td>NaN</td>\n",
       "      <td>...</td>\n",
       "      <td>4</td>\n",
       "      <td>2018</td>\n",
       "      <td>-48427.20</td>\n",
       "      <td>109</td>\n",
       "      <td>NaN</td>\n",
       "      <td>0.807407</td>\n",
       "      <td>NaN</td>\n",
       "      <td>136.0</td>\n",
       "      <td>27.0</td>\n",
       "      <td>1.007407</td>\n",
       "    </tr>\n",
       "    <tr>\n",
       "      <th>16110</th>\n",
       "      <td>47385</td>\n",
       "      <td>190320</td>\n",
       "      <td>N529AU</td>\n",
       "      <td>11/26/2018</td>\n",
       "      <td>2019</td>\n",
       "      <td>11</td>\n",
       "      <td>48</td>\n",
       "      <td>KELP</td>\n",
       "      <td>KBRO</td>\n",
       "      <td>MGGT</td>\n",
       "      <td>...</td>\n",
       "      <td>4</td>\n",
       "      <td>2018</td>\n",
       "      <td>-23500.00</td>\n",
       "      <td>0</td>\n",
       "      <td>NaN</td>\n",
       "      <td>0.000000</td>\n",
       "      <td>NaN</td>\n",
       "      <td>0.0</td>\n",
       "      <td>0.0</td>\n",
       "      <td>0.000000</td>\n",
       "    </tr>\n",
       "    <tr>\n",
       "      <th>16282</th>\n",
       "      <td>47562</td>\n",
       "      <td>190466</td>\n",
       "      <td>N803WA</td>\n",
       "      <td>12/28/2018</td>\n",
       "      <td>2019</td>\n",
       "      <td>12</td>\n",
       "      <td>52</td>\n",
       "      <td>KBRO</td>\n",
       "      <td>MGGT</td>\n",
       "      <td>NaN</td>\n",
       "      <td>...</td>\n",
       "      <td>4</td>\n",
       "      <td>2018</td>\n",
       "      <td>-41816.00</td>\n",
       "      <td>0</td>\n",
       "      <td>NaN</td>\n",
       "      <td>0.000000</td>\n",
       "      <td>NaN</td>\n",
       "      <td>0.0</td>\n",
       "      <td>0.0</td>\n",
       "      <td>0.000000</td>\n",
       "    </tr>\n",
       "    <tr>\n",
       "      <th>16295</th>\n",
       "      <td>47605</td>\n",
       "      <td>190484</td>\n",
       "      <td>N313XA</td>\n",
       "      <td>1/2/2019</td>\n",
       "      <td>2019</td>\n",
       "      <td>1</td>\n",
       "      <td>1</td>\n",
       "      <td>KAEX</td>\n",
       "      <td>KRIC</td>\n",
       "      <td>KTOL</td>\n",
       "      <td>...</td>\n",
       "      <td>1</td>\n",
       "      <td>2019</td>\n",
       "      <td>-34000.00</td>\n",
       "      <td>0</td>\n",
       "      <td>NaN</td>\n",
       "      <td>0.000000</td>\n",
       "      <td>NaN</td>\n",
       "      <td>0.0</td>\n",
       "      <td>0.0</td>\n",
       "      <td>0.000000</td>\n",
       "    </tr>\n",
       "    <tr>\n",
       "      <th>16298</th>\n",
       "      <td>47608</td>\n",
       "      <td>190487</td>\n",
       "      <td>N531AU</td>\n",
       "      <td>1/3/2019</td>\n",
       "      <td>2019</td>\n",
       "      <td>1</td>\n",
       "      <td>1</td>\n",
       "      <td>KIWA</td>\n",
       "      <td>KAEX</td>\n",
       "      <td>MSLP</td>\n",
       "      <td>...</td>\n",
       "      <td>1</td>\n",
       "      <td>2019</td>\n",
       "      <td>-80287.20</td>\n",
       "      <td>0</td>\n",
       "      <td>NaN</td>\n",
       "      <td>0.000000</td>\n",
       "      <td>NaN</td>\n",
       "      <td>0.0</td>\n",
       "      <td>0.0</td>\n",
       "      <td>0.000000</td>\n",
       "    </tr>\n",
       "    <tr>\n",
       "      <th>16324</th>\n",
       "      <td>47634</td>\n",
       "      <td>190513</td>\n",
       "      <td>N801WA</td>\n",
       "      <td>1/8/2019</td>\n",
       "      <td>2019</td>\n",
       "      <td>1</td>\n",
       "      <td>2</td>\n",
       "      <td>KBRO</td>\n",
       "      <td>KTOL</td>\n",
       "      <td>KRIC</td>\n",
       "      <td>...</td>\n",
       "      <td>1</td>\n",
       "      <td>2019</td>\n",
       "      <td>-23000.00</td>\n",
       "      <td>0</td>\n",
       "      <td>NaN</td>\n",
       "      <td>0.000000</td>\n",
       "      <td>NaN</td>\n",
       "      <td>0.0</td>\n",
       "      <td>0.0</td>\n",
       "      <td>0.000000</td>\n",
       "    </tr>\n",
       "    <tr>\n",
       "      <th>16433</th>\n",
       "      <td>47745</td>\n",
       "      <td>190648</td>\n",
       "      <td>N804WA</td>\n",
       "      <td>1/29/2019</td>\n",
       "      <td>2019</td>\n",
       "      <td>1</td>\n",
       "      <td>5</td>\n",
       "      <td>KSAT</td>\n",
       "      <td>KLRD</td>\n",
       "      <td>KDEN</td>\n",
       "      <td>...</td>\n",
       "      <td>1</td>\n",
       "      <td>2019</td>\n",
       "      <td>-33750.00</td>\n",
       "      <td>0</td>\n",
       "      <td>NaN</td>\n",
       "      <td>0.000000</td>\n",
       "      <td>NaN</td>\n",
       "      <td>0.0</td>\n",
       "      <td>0.0</td>\n",
       "      <td>0.000000</td>\n",
       "    </tr>\n",
       "    <tr>\n",
       "      <th>16467</th>\n",
       "      <td>47780</td>\n",
       "      <td>190660</td>\n",
       "      <td>N803WA</td>\n",
       "      <td>2/5/2019</td>\n",
       "      <td>2019</td>\n",
       "      <td>2</td>\n",
       "      <td>6</td>\n",
       "      <td>KMIA</td>\n",
       "      <td>KIAH</td>\n",
       "      <td>MGGT</td>\n",
       "      <td>...</td>\n",
       "      <td>1</td>\n",
       "      <td>2019</td>\n",
       "      <td>-24250.00</td>\n",
       "      <td>0</td>\n",
       "      <td>NaN</td>\n",
       "      <td>0.000000</td>\n",
       "      <td>NaN</td>\n",
       "      <td>0.0</td>\n",
       "      <td>0.0</td>\n",
       "      <td>0.000000</td>\n",
       "    </tr>\n",
       "    <tr>\n",
       "      <th>16538</th>\n",
       "      <td>47853</td>\n",
       "      <td>190738</td>\n",
       "      <td>N801WA</td>\n",
       "      <td>2/18/2019</td>\n",
       "      <td>2019</td>\n",
       "      <td>2</td>\n",
       "      <td>8</td>\n",
       "      <td>KMIA</td>\n",
       "      <td>NaN</td>\n",
       "      <td>NaN</td>\n",
       "      <td>...</td>\n",
       "      <td>1</td>\n",
       "      <td>2019</td>\n",
       "      <td>-14050.20</td>\n",
       "      <td>29</td>\n",
       "      <td>NaN</td>\n",
       "      <td>0.214815</td>\n",
       "      <td>NaN</td>\n",
       "      <td>111.0</td>\n",
       "      <td>82.0</td>\n",
       "      <td>0.822222</td>\n",
       "    </tr>\n",
       "    <tr>\n",
       "      <th>16559</th>\n",
       "      <td>47874</td>\n",
       "      <td>190751</td>\n",
       "      <td>N441US</td>\n",
       "      <td>2/21/2019</td>\n",
       "      <td>2019</td>\n",
       "      <td>2</td>\n",
       "      <td>8</td>\n",
       "      <td>KIWA</td>\n",
       "      <td>NaN</td>\n",
       "      <td>NaN</td>\n",
       "      <td>...</td>\n",
       "      <td>1</td>\n",
       "      <td>2019</td>\n",
       "      <td>-65711.25</td>\n",
       "      <td>0</td>\n",
       "      <td>NaN</td>\n",
       "      <td>0.000000</td>\n",
       "      <td>NaN</td>\n",
       "      <td>0.0</td>\n",
       "      <td>0.0</td>\n",
       "      <td>0.000000</td>\n",
       "    </tr>\n",
       "    <tr>\n",
       "      <th>16711</th>\n",
       "      <td>48068</td>\n",
       "      <td>190911</td>\n",
       "      <td>N625SW</td>\n",
       "      <td>3/20/2019</td>\n",
       "      <td>2019</td>\n",
       "      <td>3</td>\n",
       "      <td>12</td>\n",
       "      <td>KAEX</td>\n",
       "      <td>MGGT</td>\n",
       "      <td>MNMG</td>\n",
       "      <td>...</td>\n",
       "      <td>1</td>\n",
       "      <td>2019</td>\n",
       "      <td>-32750.00</td>\n",
       "      <td>0</td>\n",
       "      <td>NaN</td>\n",
       "      <td>0.000000</td>\n",
       "      <td>NaN</td>\n",
       "      <td>0.0</td>\n",
       "      <td>0.0</td>\n",
       "      <td>0.000000</td>\n",
       "    </tr>\n",
       "  </tbody>\n",
       "</table>\n",
       "<p>16 rows × 39 columns</p>\n",
       "</div>"
      ],
      "text/plain": [
       "       MissionID  MissionNumber MsnTailNumber MissionDate  MissionFY  \\\n",
       "12397      13087         161523        N807WA   9/14/2016       2016   \n",
       "15888      47161         190053        N420US  10/10/2018       2019   \n",
       "15934      47206         190099        N802WA  10/19/2018       2019   \n",
       "15980      47255         190168        N802WA  10/30/2018       2019   \n",
       "16077      47353         190257        N802WA  11/19/2018       2019   \n",
       "16101      47377         190277        N418US  11/23/2018       2019   \n",
       "16110      47385         190320        N529AU  11/26/2018       2019   \n",
       "16282      47562         190466        N803WA  12/28/2018       2019   \n",
       "16295      47605         190484        N313XA    1/2/2019       2019   \n",
       "16298      47608         190487        N531AU    1/3/2019       2019   \n",
       "16324      47634         190513        N801WA    1/8/2019       2019   \n",
       "16433      47745         190648        N804WA   1/29/2019       2019   \n",
       "16467      47780         190660        N803WA    2/5/2019       2019   \n",
       "16538      47853         190738        N801WA   2/18/2019       2019   \n",
       "16559      47874         190751        N441US   2/21/2019       2019   \n",
       "16711      48068         190911        N625SW   3/20/2019       2019   \n",
       "\n",
       "       MissionMonth  MissionWeek MsnStart MsnStpOne MsnStpTwo  \\\n",
       "12397             9           38     KAEX      KBRO      MGGT   \n",
       "15888            10           41     KIWA      KELP      KBRO   \n",
       "15934            10           42     KBRO      KEWR      KGYY   \n",
       "15980            10           44     KELP      KBRO      KELP   \n",
       "16077            11           47     KELP       NaN       NaN   \n",
       "16101            11           47     KIWA      KMEM       NaN   \n",
       "16110            11           48     KELP      KBRO      MGGT   \n",
       "16282            12           52     KBRO      MGGT       NaN   \n",
       "16295             1            1     KAEX      KRIC      KTOL   \n",
       "16298             1            1     KIWA      KAEX      MSLP   \n",
       "16324             1            2     KBRO      KTOL      KRIC   \n",
       "16433             1            5     KSAT      KLRD      KDEN   \n",
       "16467             2            6     KMIA      KIAH      MGGT   \n",
       "16538             2            8     KMIA       NaN       NaN   \n",
       "16559             2            8     KIWA       NaN       NaN   \n",
       "16711             3           12     KAEX      MGGT      MNMG   \n",
       "\n",
       "                 ...            MissionQuarter MissionYear MissionTotalCost  \\\n",
       "12397            ...                         3        2016        -43391.20   \n",
       "15888            ...                         4        2018        -22797.62   \n",
       "15934            ...                         4        2018        -72322.20   \n",
       "15980            ...                         4        2018        -15530.66   \n",
       "16077            ...                         4        2018        -47994.95   \n",
       "16101            ...                         4        2018        -48427.20   \n",
       "16110            ...                         4        2018        -23500.00   \n",
       "16282            ...                         4        2018        -41816.00   \n",
       "16295            ...                         1        2019        -34000.00   \n",
       "16298            ...                         1        2019        -80287.20   \n",
       "16324            ...                         1        2019        -23000.00   \n",
       "16433            ...                         1        2019        -33750.00   \n",
       "16467            ...                         1        2019        -24250.00   \n",
       "16538            ...                         1        2019        -14050.20   \n",
       "16559            ...                         1        2019        -65711.25   \n",
       "16711            ...                         1        2019        -32750.00   \n",
       "\n",
       "      MissionPassengers LegPassengers MissionUtilization LegUtilization  \\\n",
       "12397                 0           NaN                NaN            NaN   \n",
       "15888                73           NaN           0.540741            NaN   \n",
       "15934                 0           NaN           0.000000            NaN   \n",
       "15980               112           NaN           0.829630            NaN   \n",
       "16077               122           NaN           0.903704            NaN   \n",
       "16101               109           NaN           0.807407            NaN   \n",
       "16110                 0           NaN           0.000000            NaN   \n",
       "16282                 0           NaN           0.000000            NaN   \n",
       "16295                 0           NaN           0.000000            NaN   \n",
       "16298                 0           NaN           0.000000            NaN   \n",
       "16324                 0           NaN           0.000000            NaN   \n",
       "16433                 0           NaN           0.000000            NaN   \n",
       "16467                 0           NaN           0.000000            NaN   \n",
       "16538                29           NaN           0.214815            NaN   \n",
       "16559                 0           NaN           0.000000            NaN   \n",
       "16711                 0           NaN           0.000000            NaN   \n",
       "\n",
       "      ManifestedPassengers StruckPassengers PlannedMissionUtilization  \n",
       "12397                  NaN              NaN                       NaN  \n",
       "15888                140.0             67.0                  1.037037  \n",
       "15934                  0.0              0.0                  0.000000  \n",
       "15980                114.0              2.0                  0.844444  \n",
       "16077                125.0              3.0                  0.925926  \n",
       "16101                136.0             27.0                  1.007407  \n",
       "16110                  0.0              0.0                  0.000000  \n",
       "16282                  0.0              0.0                  0.000000  \n",
       "16295                  0.0              0.0                  0.000000  \n",
       "16298                  0.0              0.0                  0.000000  \n",
       "16324                  0.0              0.0                  0.000000  \n",
       "16433                  0.0              0.0                  0.000000  \n",
       "16467                  0.0              0.0                  0.000000  \n",
       "16538                111.0             82.0                  0.822222  \n",
       "16559                  0.0              0.0                  0.000000  \n",
       "16711                  0.0              0.0                  0.000000  \n",
       "\n",
       "[16 rows x 39 columns]"
      ]
     },
     "execution_count": 131,
     "metadata": {},
     "output_type": "execute_result"
    }
   ],
   "source": [
    "df[df['MissionTotalCost'] < 0]"
   ]
  },
  {
   "cell_type": "code",
   "execution_count": 132,
   "metadata": {},
   "outputs": [
    {
     "data": {
      "text/plain": [
       "984086606.05"
      ]
     },
     "execution_count": 132,
     "metadata": {},
     "output_type": "execute_result"
    }
   ],
   "source": [
    "df['MissionTotalCost'].sum()"
   ]
  },
  {
   "cell_type": "code",
   "execution_count": 133,
   "metadata": {},
   "outputs": [
    {
     "data": {
      "text/plain": [
       "1560"
      ]
     },
     "execution_count": 133,
     "metadata": {},
     "output_type": "execute_result"
    }
   ],
   "source": [
    "len(df[df['MissionTotalCost'] == 0])"
   ]
  },
  {
   "cell_type": "code",
   "execution_count": 134,
   "metadata": {},
   "outputs": [
    {
     "data": {
      "text/plain": [
       "1239"
      ]
     },
     "execution_count": 134,
     "metadata": {},
     "output_type": "execute_result"
    }
   ],
   "source": [
    "len(df[df['MissionPassengers'] == 0])"
   ]
  },
  {
   "cell_type": "code",
   "execution_count": 135,
   "metadata": {},
   "outputs": [
    {
     "data": {
      "text/plain": [
       "count    16967.000000\n",
       "mean       116.740555\n",
       "std         52.181480\n",
       "min          0.000000\n",
       "25%         94.000000\n",
       "50%        126.000000\n",
       "75%        142.000000\n",
       "max        476.000000\n",
       "Name: MissionPassengers, dtype: float64"
      ]
     },
     "execution_count": 135,
     "metadata": {},
     "output_type": "execute_result"
    }
   ],
   "source": [
    "df['MissionPassengers'].describe()"
   ]
  },
  {
   "cell_type": "code",
   "execution_count": 136,
   "metadata": {},
   "outputs": [],
   "source": [
    "df['CostPerPassenger'] = df['MissionTotalCost'] / df['MissionPassengers']"
   ]
  },
  {
   "cell_type": "code",
   "execution_count": 137,
   "metadata": {},
   "outputs": [],
   "source": [
    "df['CostPerPassenger'] = df['CostPerPassenger'].replace([np.inf, -np.inf], np.nan)"
   ]
  },
  {
   "cell_type": "code",
   "execution_count": 138,
   "metadata": {},
   "outputs": [
    {
     "data": {
      "text/plain": [
       "count     15722.000000\n",
       "mean        828.765561\n",
       "std        4494.658058\n",
       "min        -484.489655\n",
       "25%         362.661250\n",
       "50%         471.251048\n",
       "75%         624.670758\n",
       "max      328000.000000\n",
       "Name: CostPerPassenger, dtype: float64"
      ]
     },
     "execution_count": 138,
     "metadata": {},
     "output_type": "execute_result"
    }
   ],
   "source": [
    "df['CostPerPassenger'].describe()"
   ]
  },
  {
   "cell_type": "code",
   "execution_count": 139,
   "metadata": {},
   "outputs": [],
   "source": [
    "df['MissionDate'] = pd.to_datetime(df['MissionDate'])"
   ]
  },
  {
   "cell_type": "code",
   "execution_count": 140,
   "metadata": {},
   "outputs": [],
   "source": [
    "df = df.set_index('MissionDate')"
   ]
  },
  {
   "cell_type": "code",
   "execution_count": 141,
   "metadata": {},
   "outputs": [
    {
     "data": {
      "text/plain": [
       "<matplotlib.axes._subplots.AxesSubplot at 0x12c122470>"
      ]
     },
     "execution_count": 141,
     "metadata": {},
     "output_type": "execute_result"
    },
    {
     "data": {
      "image/png": "[encoded data removed]",
      "text/plain": [
       "<Figure size 432x288 with 1 Axes>"
      ]
     },
     "metadata": {
      "needs_background": "light"
     },
     "output_type": "display_data"
    }
   ],
   "source": [
    "df['MissionTotalCost'].plot()"
   ]
  },
  {
   "cell_type": "code",
   "execution_count": 142,
   "metadata": {},
   "outputs": [
    {
     "data": {
      "text/plain": [
       "<matplotlib.axes._subplots.AxesSubplot at 0x127d1d550>"
      ]
     },
     "execution_count": 142,
     "metadata": {},
     "output_type": "execute_result"
    },
    {
     "data": {
      "image/png": "[encoded data removed]",
      "text/plain": [
       "<Figure size 432x288 with 1 Axes>"
      ]
     },
     "metadata": {
      "needs_background": "light"
     },
     "output_type": "display_data"
    }
   ],
   "source": [
    "df['CostPerPassenger'].plot()"
   ]
  },
  {
   "cell_type": "code",
   "execution_count": 143,
   "metadata": {},
   "outputs": [
    {
     "data": {
      "text/plain": [
       "<matplotlib.axes._subplots.AxesSubplot at 0x12c77fc50>"
      ]
     },
     "execution_count": 143,
     "metadata": {},
     "output_type": "execute_result"
    },
    {
     "data": {
      "image/png": "[encoded data removed]",
      "text/plain": [
       "<Figure size 432x288 with 1 Axes>"
      ]
     },
     "metadata": {
      "needs_background": "light"
     },
     "output_type": "display_data"
    }
   ],
   "source": [
    "df['MissionPassengers'].plot()"
   ]
  },
  {
   "cell_type": "code",
   "execution_count": 144,
   "metadata": {},
   "outputs": [
    {
     "data": {
      "text/plain": [
       "Index(['MissionID', 'MissionNumber', 'MsnTailNumber', 'MissionFY',\n",
       "       'MissionMonth', 'MissionWeek', 'MsnStart', 'MsnStpOne', 'MsnStpTwo',\n",
       "       'MsnStpThree', 'MsnStpFour', 'MsnStpFive', 'MsnStpSix', 'MsnStpSeven',\n",
       "       'MsnStpEight', 'MsnEnd', 'msnDelayReason', 'msnCancelReason',\n",
       "       'msnFlightODCCost', 'msnProposedFines', 'msnEnforcedFines',\n",
       "       'msnGeneralFlightCost', 'msnFlightHoursPlanned', 'msnFlightHoursActual',\n",
       "       'msnCharterDesignation', 'Status', 'msnVendor', 'msnInvoiceNumber',\n",
       "       'MissionQuarter', 'MissionYear', 'MissionTotalCost',\n",
       "       'MissionPassengers', 'LegPassengers', 'MissionUtilization',\n",
       "       'LegUtilization', 'ManifestedPassengers', 'StruckPassengers',\n",
       "       'PlannedMissionUtilization', 'CostPerPassenger'],\n",
       "      dtype='object')"
      ]
     },
     "execution_count": 144,
     "metadata": {},
     "output_type": "execute_result"
    }
   ],
   "source": [
    "df.columns"
   ]
  },
  {
   "cell_type": "code",
   "execution_count": 145,
   "metadata": {},
   "outputs": [
    {
     "data": {
      "text/plain": [
       "IWA #3           2374\n",
       "AEX #1           2073\n",
       "SAT #1           2021\n",
       "IWA #1           1972\n",
       "AEX #2           1890\n",
       "MIA              1703\n",
       "IWA #2           1576\n",
       "SAT #2           1308\n",
       "BRO #1           1086\n",
       "BRO #2            404\n",
       "LRIC              230\n",
       "SAT #3            135\n",
       "MIRP               78\n",
       "IWA #4             53\n",
       "MIA #2             28\n",
       "Cuba Contract      11\n",
       "AEX #3              8\n",
       "MIA #1              3\n",
       "mirp                2\n",
       "IWA3                1\n",
       "Mia                 1\n",
       "IWA#2               1\n",
       "IWA#3               1\n",
       "Iwa #2              1\n",
       "Aex #2              1\n",
       "sat #2              1\n",
       "Name: msnCharterDesignation, dtype: int64"
      ]
     },
     "execution_count": 145,
     "metadata": {},
     "output_type": "execute_result"
    }
   ],
   "source": [
    "df['msnCharterDesignation'].value_counts()"
   ]
  },
  {
   "cell_type": "code",
   "execution_count": 146,
   "metadata": {},
   "outputs": [
    {
     "data": {
      "text/html": [
       "<div>\n",
       "<style scoped>\n",
       "    .dataframe tbody tr th:only-of-type {\n",
       "        vertical-align: middle;\n",
       "    }\n",
       "\n",
       "    .dataframe tbody tr th {\n",
       "        vertical-align: top;\n",
       "    }\n",
       "\n",
       "    .dataframe thead th {\n",
       "        text-align: right;\n",
       "    }\n",
       "</style>\n",
       "<table border=\"1\" class=\"dataframe\">\n",
       "  <thead>\n",
       "    <tr style=\"text-align: right;\">\n",
       "      <th>MissionDate</th>\n",
       "      <th>2019-05-03 00:00:00</th>\n",
       "      <th>2019-05-03 00:00:00</th>\n",
       "      <th>2019-05-04 00:00:00</th>\n",
       "      <th>2019-05-04 00:00:00</th>\n",
       "      <th>2019-05-04 00:00:00</th>\n",
       "    </tr>\n",
       "  </thead>\n",
       "  <tbody>\n",
       "    <tr>\n",
       "      <th>MissionID</th>\n",
       "      <td>48330</td>\n",
       "      <td>48331</td>\n",
       "      <td>48332</td>\n",
       "      <td>48334</td>\n",
       "      <td>48335</td>\n",
       "    </tr>\n",
       "    <tr>\n",
       "      <th>MissionNumber</th>\n",
       "      <td>191167</td>\n",
       "      <td>191168</td>\n",
       "      <td>191188</td>\n",
       "      <td>191228</td>\n",
       "      <td>191227</td>\n",
       "    </tr>\n",
       "    <tr>\n",
       "      <th>MsnTailNumber</th>\n",
       "      <td>N804TJ</td>\n",
       "      <td>N629SW</td>\n",
       "      <td>N529AU</td>\n",
       "      <td>N801WA</td>\n",
       "      <td>N441US</td>\n",
       "    </tr>\n",
       "    <tr>\n",
       "      <th>MissionFY</th>\n",
       "      <td>2019</td>\n",
       "      <td>2019</td>\n",
       "      <td>2019</td>\n",
       "      <td>2019</td>\n",
       "      <td>2019</td>\n",
       "    </tr>\n",
       "    <tr>\n",
       "      <th>MissionMonth</th>\n",
       "      <td>5</td>\n",
       "      <td>5</td>\n",
       "      <td>5</td>\n",
       "      <td>5</td>\n",
       "      <td>5</td>\n",
       "    </tr>\n",
       "    <tr>\n",
       "      <th>MissionWeek</th>\n",
       "      <td>18</td>\n",
       "      <td>18</td>\n",
       "      <td>18</td>\n",
       "      <td>18</td>\n",
       "      <td>18</td>\n",
       "    </tr>\n",
       "    <tr>\n",
       "      <th>MsnStart</th>\n",
       "      <td>KAEX</td>\n",
       "      <td>KAEX</td>\n",
       "      <td>KIWA</td>\n",
       "      <td>KBRO</td>\n",
       "      <td>KIWA</td>\n",
       "    </tr>\n",
       "    <tr>\n",
       "      <th>MsnStpOne</th>\n",
       "      <td>MHLM</td>\n",
       "      <td>KIAH</td>\n",
       "      <td>KMEM</td>\n",
       "      <td>KMSP</td>\n",
       "      <td>KDEN</td>\n",
       "    </tr>\n",
       "    <tr>\n",
       "      <th>MsnStpTwo</th>\n",
       "      <td>NaN</td>\n",
       "      <td>MSLP</td>\n",
       "      <td>NaN</td>\n",
       "      <td>KORD</td>\n",
       "      <td>NaN</td>\n",
       "    </tr>\n",
       "    <tr>\n",
       "      <th>MsnStpThree</th>\n",
       "      <td>NaN</td>\n",
       "      <td>NaN</td>\n",
       "      <td>NaN</td>\n",
       "      <td>KAEX</td>\n",
       "      <td>NaN</td>\n",
       "    </tr>\n",
       "    <tr>\n",
       "      <th>MsnStpFour</th>\n",
       "      <td>NaN</td>\n",
       "      <td>NaN</td>\n",
       "      <td>NaN</td>\n",
       "      <td>NaN</td>\n",
       "      <td>NaN</td>\n",
       "    </tr>\n",
       "    <tr>\n",
       "      <th>MsnStpFive</th>\n",
       "      <td>NaN</td>\n",
       "      <td>NaN</td>\n",
       "      <td>NaN</td>\n",
       "      <td>NaN</td>\n",
       "      <td>NaN</td>\n",
       "    </tr>\n",
       "    <tr>\n",
       "      <th>MsnStpSix</th>\n",
       "      <td>NaN</td>\n",
       "      <td>NaN</td>\n",
       "      <td>NaN</td>\n",
       "      <td>NaN</td>\n",
       "      <td>NaN</td>\n",
       "    </tr>\n",
       "    <tr>\n",
       "      <th>MsnStpSeven</th>\n",
       "      <td>NaN</td>\n",
       "      <td>NaN</td>\n",
       "      <td>NaN</td>\n",
       "      <td>NaN</td>\n",
       "      <td>NaN</td>\n",
       "    </tr>\n",
       "    <tr>\n",
       "      <th>MsnStpEight</th>\n",
       "      <td>NaN</td>\n",
       "      <td>NaN</td>\n",
       "      <td>NaN</td>\n",
       "      <td>NaN</td>\n",
       "      <td>NaN</td>\n",
       "    </tr>\n",
       "    <tr>\n",
       "      <th>MsnEnd</th>\n",
       "      <td>KAEX</td>\n",
       "      <td>KAEX</td>\n",
       "      <td>KIWA</td>\n",
       "      <td>KBRO</td>\n",
       "      <td>KIWA</td>\n",
       "    </tr>\n",
       "    <tr>\n",
       "      <th>msnDelayReason</th>\n",
       "      <td>NaN</td>\n",
       "      <td>NaN</td>\n",
       "      <td>NaN</td>\n",
       "      <td>NaN</td>\n",
       "      <td>NaN</td>\n",
       "    </tr>\n",
       "    <tr>\n",
       "      <th>msnCancelReason</th>\n",
       "      <td>NaN</td>\n",
       "      <td>NaN</td>\n",
       "      <td>NaN</td>\n",
       "      <td>NaN</td>\n",
       "      <td>NaN</td>\n",
       "    </tr>\n",
       "    <tr>\n",
       "      <th>msnFlightODCCost</th>\n",
       "      <td>0.00</td>\n",
       "      <td>0.00</td>\n",
       "      <td>0.00</td>\n",
       "      <td>0.00</td>\n",
       "      <td>0.00</td>\n",
       "    </tr>\n",
       "    <tr>\n",
       "      <th>msnProposedFines</th>\n",
       "      <td>0</td>\n",
       "      <td>0</td>\n",
       "      <td>0</td>\n",
       "      <td>0</td>\n",
       "      <td>0</td>\n",
       "    </tr>\n",
       "    <tr>\n",
       "      <th>msnEnforcedFines</th>\n",
       "      <td>0.00</td>\n",
       "      <td>0.00</td>\n",
       "      <td>0.00</td>\n",
       "      <td>0.00</td>\n",
       "      <td>0.00</td>\n",
       "    </tr>\n",
       "    <tr>\n",
       "      <th>msnGeneralFlightCost</th>\n",
       "      <td>0.00</td>\n",
       "      <td>0.00</td>\n",
       "      <td>0.00</td>\n",
       "      <td>0.00</td>\n",
       "      <td>0.00</td>\n",
       "    </tr>\n",
       "    <tr>\n",
       "      <th>msnFlightHoursPlanned</th>\n",
       "      <td>5.75</td>\n",
       "      <td>7.08</td>\n",
       "      <td>6.58</td>\n",
       "      <td>8.17</td>\n",
       "      <td>3.42</td>\n",
       "    </tr>\n",
       "    <tr>\n",
       "      <th>msnFlightHoursActual</th>\n",
       "      <td>0</td>\n",
       "      <td>0</td>\n",
       "      <td>0</td>\n",
       "      <td>0</td>\n",
       "      <td>0</td>\n",
       "    </tr>\n",
       "    <tr>\n",
       "      <th>msnCharterDesignation</th>\n",
       "      <td>AEX #1</td>\n",
       "      <td>AEX #2</td>\n",
       "      <td>IWA #1</td>\n",
       "      <td>BRO #2</td>\n",
       "      <td>IWA #3</td>\n",
       "    </tr>\n",
       "    <tr>\n",
       "      <th>Status</th>\n",
       "      <td>NaN</td>\n",
       "      <td>NaN</td>\n",
       "      <td>NaN</td>\n",
       "      <td>NaN</td>\n",
       "      <td>NaN</td>\n",
       "    </tr>\n",
       "    <tr>\n",
       "      <th>msnVendor</th>\n",
       "      <td>NaN</td>\n",
       "      <td>NaN</td>\n",
       "      <td>NaN</td>\n",
       "      <td>NaN</td>\n",
       "      <td>NaN</td>\n",
       "    </tr>\n",
       "    <tr>\n",
       "      <th>msnInvoiceNumber</th>\n",
       "      <td>NaN</td>\n",
       "      <td>NaN</td>\n",
       "      <td>NaN</td>\n",
       "      <td>NaN</td>\n",
       "      <td>NaN</td>\n",
       "    </tr>\n",
       "    <tr>\n",
       "      <th>MissionQuarter</th>\n",
       "      <td>2</td>\n",
       "      <td>2</td>\n",
       "      <td>2</td>\n",
       "      <td>2</td>\n",
       "      <td>2</td>\n",
       "    </tr>\n",
       "    <tr>\n",
       "      <th>MissionYear</th>\n",
       "      <td>2019</td>\n",
       "      <td>2019</td>\n",
       "      <td>2019</td>\n",
       "      <td>2019</td>\n",
       "      <td>2019</td>\n",
       "    </tr>\n",
       "    <tr>\n",
       "      <th>MissionTotalCost</th>\n",
       "      <td>0</td>\n",
       "      <td>0</td>\n",
       "      <td>0</td>\n",
       "      <td>0</td>\n",
       "      <td>0</td>\n",
       "    </tr>\n",
       "    <tr>\n",
       "      <th>MissionPassengers</th>\n",
       "      <td>90</td>\n",
       "      <td>125</td>\n",
       "      <td>58</td>\n",
       "      <td>225</td>\n",
       "      <td>70</td>\n",
       "    </tr>\n",
       "    <tr>\n",
       "      <th>LegPassengers</th>\n",
       "      <td>NaN</td>\n",
       "      <td>NaN</td>\n",
       "      <td>NaN</td>\n",
       "      <td>NaN</td>\n",
       "      <td>NaN</td>\n",
       "    </tr>\n",
       "    <tr>\n",
       "      <th>MissionUtilization</th>\n",
       "      <td>0.666667</td>\n",
       "      <td>0.925926</td>\n",
       "      <td>0.42963</td>\n",
       "      <td>1.66667</td>\n",
       "      <td>0.518519</td>\n",
       "    </tr>\n",
       "    <tr>\n",
       "      <th>LegUtilization</th>\n",
       "      <td>NaN</td>\n",
       "      <td>NaN</td>\n",
       "      <td>NaN</td>\n",
       "      <td>NaN</td>\n",
       "      <td>NaN</td>\n",
       "    </tr>\n",
       "    <tr>\n",
       "      <th>ManifestedPassengers</th>\n",
       "      <td>102</td>\n",
       "      <td>145</td>\n",
       "      <td>120</td>\n",
       "      <td>235</td>\n",
       "      <td>75</td>\n",
       "    </tr>\n",
       "    <tr>\n",
       "      <th>StruckPassengers</th>\n",
       "      <td>12</td>\n",
       "      <td>20</td>\n",
       "      <td>62</td>\n",
       "      <td>10</td>\n",
       "      <td>5</td>\n",
       "    </tr>\n",
       "    <tr>\n",
       "      <th>PlannedMissionUtilization</th>\n",
       "      <td>0.755556</td>\n",
       "      <td>1.07407</td>\n",
       "      <td>0.888889</td>\n",
       "      <td>1.74074</td>\n",
       "      <td>0.555556</td>\n",
       "    </tr>\n",
       "    <tr>\n",
       "      <th>CostPerPassenger</th>\n",
       "      <td>0</td>\n",
       "      <td>0</td>\n",
       "      <td>0</td>\n",
       "      <td>0</td>\n",
       "      <td>0</td>\n",
       "    </tr>\n",
       "  </tbody>\n",
       "</table>\n",
       "</div>"
      ],
      "text/plain": [
       "MissionDate               2019-05-03 2019-05-03 2019-05-04 2019-05-04  \\\n",
       "MissionID                      48330      48331      48332      48334   \n",
       "MissionNumber                 191167     191168     191188     191228   \n",
       "MsnTailNumber                 N804TJ     N629SW     N529AU     N801WA   \n",
       "MissionFY                       2019       2019       2019       2019   \n",
       "MissionMonth                       5          5          5          5   \n",
       "MissionWeek                       18         18         18         18   \n",
       "MsnStart                        KAEX       KAEX       KIWA       KBRO   \n",
       "MsnStpOne                       MHLM       KIAH       KMEM       KMSP   \n",
       "MsnStpTwo                        NaN       MSLP        NaN       KORD   \n",
       "MsnStpThree                      NaN        NaN        NaN       KAEX   \n",
       "MsnStpFour                       NaN        NaN        NaN        NaN   \n",
       "MsnStpFive                       NaN        NaN        NaN        NaN   \n",
       "MsnStpSix                        NaN        NaN        NaN        NaN   \n",
       "MsnStpSeven                      NaN        NaN        NaN        NaN   \n",
       "MsnStpEight                      NaN        NaN        NaN        NaN   \n",
       "MsnEnd                          KAEX       KAEX       KIWA       KBRO   \n",
       "msnDelayReason                   NaN        NaN        NaN        NaN   \n",
       "msnCancelReason                  NaN        NaN        NaN        NaN   \n",
       "msnFlightODCCost                0.00       0.00       0.00       0.00   \n",
       "msnProposedFines                   0          0          0          0   \n",
       "msnEnforcedFines                0.00       0.00       0.00       0.00   \n",
       "msnGeneralFlightCost            0.00       0.00       0.00       0.00   \n",
       "msnFlightHoursPlanned           5.75       7.08       6.58       8.17   \n",
       "msnFlightHoursActual               0          0          0          0   \n",
       "msnCharterDesignation         AEX #1     AEX #2     IWA #1     BRO #2   \n",
       "Status                           NaN        NaN        NaN        NaN   \n",
       "msnVendor                        NaN        NaN        NaN        NaN   \n",
       "msnInvoiceNumber                 NaN        NaN        NaN        NaN   \n",
       "MissionQuarter                     2          2          2          2   \n",
       "MissionYear                     2019       2019       2019       2019   \n",
       "MissionTotalCost                   0          0          0          0   \n",
       "MissionPassengers                 90        125         58        225   \n",
       "LegPassengers                    NaN        NaN        NaN        NaN   \n",
       "MissionUtilization          0.666667   0.925926    0.42963    1.66667   \n",
       "LegUtilization                   NaN        NaN        NaN        NaN   \n",
       "ManifestedPassengers             102        145        120        235   \n",
       "StruckPassengers                  12         20         62         10   \n",
       "PlannedMissionUtilization   0.755556    1.07407   0.888889    1.74074   \n",
       "CostPerPassenger                   0          0          0          0   \n",
       "\n",
       "MissionDate               2019-05-04  \n",
       "MissionID                      48335  \n",
       "MissionNumber                 191227  \n",
       "MsnTailNumber                 N441US  \n",
       "MissionFY                       2019  \n",
       "MissionMonth                       5  \n",
       "MissionWeek                       18  \n",
       "MsnStart                        KIWA  \n",
       "MsnStpOne                       KDEN  \n",
       "MsnStpTwo                        NaN  \n",
       "MsnStpThree                      NaN  \n",
       "MsnStpFour                       NaN  \n",
       "MsnStpFive                       NaN  \n",
       "MsnStpSix                        NaN  \n",
       "MsnStpSeven                      NaN  \n",
       "MsnStpEight                      NaN  \n",
       "MsnEnd                          KIWA  \n",
       "msnDelayReason                   NaN  \n",
       "msnCancelReason                  NaN  \n",
       "msnFlightODCCost                0.00  \n",
       "msnProposedFines                   0  \n",
       "msnEnforcedFines                0.00  \n",
       "msnGeneralFlightCost            0.00  \n",
       "msnFlightHoursPlanned           3.42  \n",
       "msnFlightHoursActual               0  \n",
       "msnCharterDesignation         IWA #3  \n",
       "Status                           NaN  \n",
       "msnVendor                        NaN  \n",
       "msnInvoiceNumber                 NaN  \n",
       "MissionQuarter                     2  \n",
       "MissionYear                     2019  \n",
       "MissionTotalCost                   0  \n",
       "MissionPassengers                 70  \n",
       "LegPassengers                    NaN  \n",
       "MissionUtilization          0.518519  \n",
       "LegUtilization                   NaN  \n",
       "ManifestedPassengers              75  \n",
       "StruckPassengers                   5  \n",
       "PlannedMissionUtilization   0.555556  \n",
       "CostPerPassenger                   0  "
      ]
     },
     "execution_count": 146,
     "metadata": {},
     "output_type": "execute_result"
    }
   ],
   "source": [
    "df.tail().T"
   ]
  },
  {
   "cell_type": "code",
   "execution_count": 147,
   "metadata": {},
   "outputs": [],
   "source": [
    "df['msnVendor'] = df['msnVendor'].str.upper()"
   ]
  },
  {
   "cell_type": "code",
   "execution_count": 148,
   "metadata": {},
   "outputs": [
    {
     "data": {
      "text/plain": [
       "CSI                       8432\n",
       "CAC                       1408\n",
       "ACT                        226\n",
       "ATS                         66\n",
       "PJS                         19\n",
       "ZEPHYR                      17\n",
       "AIR PARTNER                 14\n",
       "JEFT EDGE                    6\n",
       "7962                         1\n",
       "9003A                        1\n",
       "AIR CHARTER SERVICE          1\n",
       "VDI                          1\n",
       "AIR AMBULACE                 1\n",
       "8.92                         1\n",
       "ATC                          1\n",
       "-                            1\n",
       "OCS                          1\n",
       "6.05                         1\n",
       "PEGASUS ELITE AVIATION       1\n",
       "MIAMI AIR INTL               1\n",
       "EXECUTIVE FLIGHTWAYS         1\n",
       "ADVANCE AIR AMBULANCE        1\n",
       "Name: msnVendor, dtype: int64"
      ]
     },
     "execution_count": 148,
     "metadata": {},
     "output_type": "execute_result"
    }
   ],
   "source": [
    "df['msnVendor'].value_counts()"
   ]
  },
  {
   "cell_type": "code",
   "execution_count": 149,
   "metadata": {},
   "outputs": [],
   "source": [
    "df['MsnTailNumber'] = df['MsnTailNumber'].str.upper()"
   ]
  },
  {
   "cell_type": "code",
   "execution_count": 150,
   "metadata": {},
   "outputs": [
    {
     "data": {
      "text/plain": [
       "N804WA    1079\n",
       "N125MN    1008\n",
       "N836NK     977\n",
       "N806WA     866\n",
       "N418US     855\n",
       "N593AN     725\n",
       "N43XA      712\n",
       "N305FA     685\n",
       "N803WA     649\n",
       "N802WA     555\n",
       "Name: MsnTailNumber, dtype: int64"
      ]
     },
     "execution_count": 150,
     "metadata": {},
     "output_type": "execute_result"
    }
   ],
   "source": [
    "df['MsnTailNumber'].value_counts().head(10)"
   ]
  },
  {
   "cell_type": "code",
   "execution_count": 151,
   "metadata": {},
   "outputs": [
    {
     "data": {
      "text/plain": [
       "<matplotlib.axes._subplots.AxesSubplot at 0x12d2acb70>"
      ]
     },
     "execution_count": 151,
     "metadata": {},
     "output_type": "execute_result"
    },
    {
     "data": {
      "image/png": "[encoded data removed]",
      "text/plain": [
       "<Figure size 432x288 with 1 Axes>"
      ]
     },
     "metadata": {
      "needs_background": "light"
     },
     "output_type": "display_data"
    }
   ],
   "source": [
    "df['MissionTotalCost'].plot()"
   ]
  },
  {
   "cell_type": "code",
   "execution_count": 152,
   "metadata": {},
   "outputs": [
    {
     "data": {
      "text/plain": [
       "<matplotlib.axes._subplots.AxesSubplot at 0x12d3a8320>"
      ]
     },
     "execution_count": 152,
     "metadata": {},
     "output_type": "execute_result"
    },
    {
     "data": {
      "image/png": "[encoded data removed]",
      "text/plain": [
       "<Figure size 432x288 with 1 Axes>"
      ]
     },
     "metadata": {
      "needs_background": "light"
     },
     "output_type": "display_data"
    }
   ],
   "source": [
    "df['MissionTotalCost'].resample('AS-OCT').mean().plot()"
   ]
  },
  {
   "cell_type": "code",
   "execution_count": 153,
   "metadata": {},
   "outputs": [
    {
     "data": {
      "text/plain": [
       "<matplotlib.axes._subplots.AxesSubplot at 0x12d464be0>"
      ]
     },
     "execution_count": 153,
     "metadata": {},
     "output_type": "execute_result"
    },
    {
     "data": {
      "image/png": "[encoded data removed]",
      "text/plain": [
       "<Figure size 432x288 with 1 Axes>"
      ]
     },
     "metadata": {
      "needs_background": "light"
     },
     "output_type": "display_data"
    }
   ],
   "source": [
    "df['MissionPassengers'].resample('AS-OCT').mean().plot()"
   ]
  },
  {
   "cell_type": "code",
   "execution_count": 154,
   "metadata": {},
   "outputs": [
    {
     "data": {
      "text/plain": [
       "<matplotlib.axes._subplots.AxesSubplot at 0x12dc84cf8>"
      ]
     },
     "execution_count": 154,
     "metadata": {},
     "output_type": "execute_result"
    },
    {
     "data": {
      "image/png": "[encoded data removed]",
      "text/plain": [
       "<Figure size 432x288 with 1 Axes>"
      ]
     },
     "metadata": {
      "needs_background": "light"
     },
     "output_type": "display_data"
    }
   ],
   "source": [
    "df['CostPerPassenger'].resample('AS-OCT').mean().plot()"
   ]
  },
  {
   "cell_type": "code",
   "execution_count": 155,
   "metadata": {},
   "outputs": [
    {
     "data": {
      "text/plain": [
       "<matplotlib.axes._subplots.AxesSubplot at 0x12d39c1d0>"
      ]
     },
     "execution_count": 155,
     "metadata": {},
     "output_type": "execute_result"
    },
    {
     "data": {
      "image/png": "[encoded data removed]",
      "text/plain": [
       "<Figure size 432x288 with 1 Axes>"
      ]
     },
     "metadata": {
      "needs_background": "light"
     },
     "output_type": "display_data"
    }
   ],
   "source": [
    "df['msnFlightHoursPlanned'].plot()"
   ]
  },
  {
   "cell_type": "code",
   "execution_count": 156,
   "metadata": {},
   "outputs": [
    {
     "data": {
      "text/plain": [
       "<matplotlib.axes._subplots.AxesSubplot at 0x12df34358>"
      ]
     },
     "execution_count": 156,
     "metadata": {},
     "output_type": "execute_result"
    },
    {
     "data": {
      "image/png": "[encoded data removed]",
      "text/plain": [
       "<Figure size 432x288 with 1 Axes>"
      ]
     },
     "metadata": {
      "needs_background": "light"
     },
     "output_type": "display_data"
    }
   ],
   "source": [
    "df['msnFlightHoursActual'].plot()"
   ]
  },
  {
   "cell_type": "code",
   "execution_count": 157,
   "metadata": {},
   "outputs": [
    {
     "data": {
      "text/plain": [
       "<matplotlib.axes._subplots.AxesSubplot at 0x12dd2de10>"
      ]
     },
     "execution_count": 157,
     "metadata": {},
     "output_type": "execute_result"
    },
    {
     "data": {
      "image/png": "[encoded data removed]",
      "text/plain": [
       "<Figure size 432x288 with 1 Axes>"
      ]
     },
     "metadata": {
      "needs_background": "light"
     },
     "output_type": "display_data"
    }
   ],
   "source": [
    "df['msnFlightHoursActual'].resample('AS-OCT').mean().plot()"
   ]
  },
  {
   "cell_type": "code",
   "execution_count": 158,
   "metadata": {},
   "outputs": [],
   "source": [
    "df['CostPerFlightHour'] = df['MissionTotalCost'] / df['msnFlightHoursActual']\n",
    "df['CostPerFlightHour'] = df['CostPerFlightHour'].replace([np.inf, -np.inf], np.nan)"
   ]
  },
  {
   "cell_type": "code",
   "execution_count": 159,
   "metadata": {},
   "outputs": [
    {
     "data": {
      "text/plain": [
       "<matplotlib.axes._subplots.AxesSubplot at 0x12e9946d8>"
      ]
     },
     "execution_count": 159,
     "metadata": {},
     "output_type": "execute_result"
    },
    {
     "data": {
      "image/png": "[encoded data removed]",
      "text/plain": [
       "<Figure size 432x288 with 1 Axes>"
      ]
     },
     "metadata": {
      "needs_background": "light"
     },
     "output_type": "display_data"
    }
   ],
   "source": [
    "df['CostPerFlightHour'].resample('AS-OCT').mean().plot()"
   ]
  },
  {
   "cell_type": "code",
   "execution_count": 160,
   "metadata": {},
   "outputs": [],
   "source": [
    "vendor = df.groupby('msnVendor')"
   ]
  },
  {
   "cell_type": "code",
   "execution_count": 161,
   "metadata": {},
   "outputs": [
    {
     "data": {
      "text/plain": [
       "msnVendor\n",
       "AIR CHARTER SERVICE       455000.000000\n",
       "MIAMI AIR INTL             12265.036332\n",
       "AIR AMBULACE               10092.307692\n",
       "CSI                         8525.645586\n",
       "PEGASUS ELITE AVIATION      8250.655022\n",
       "OCS                         8153.760252\n",
       "ACT                         8039.399143\n",
       "VDI                         7997.000000\n",
       "7962                        7897.000000\n",
       "6.05                        7891.362819\n",
       "9003A                       7837.000000\n",
       "CAC                         7754.022311\n",
       "AIR PARTNER                 7734.987496\n",
       "8.92                        7665.000000\n",
       "ATC                         6674.480366\n",
       "PJS                         6649.897983\n",
       "ATS                         6604.582119\n",
       "JEFT EDGE                   6531.085485\n",
       "ZEPHYR                      4586.000000\n",
       "-                                   NaN\n",
       "ADVANCE AIR AMBULANCE               NaN\n",
       "EXECUTIVE FLIGHTWAYS                NaN\n",
       "Name: CostPerFlightHour, dtype: float64"
      ]
     },
     "execution_count": 161,
     "metadata": {},
     "output_type": "execute_result"
    }
   ],
   "source": [
    "vendor['CostPerFlightHour'].mean().sort_values(ascending=False)"
   ]
  },
  {
   "cell_type": "code",
   "execution_count": 196,
   "metadata": {},
   "outputs": [
    {
     "data": {
      "text/plain": [
       "msnVendor\n",
       "AIR AMBULACE              328000.000000\n",
       "ATC                        50993.030000\n",
       "JEFT EDGE                  35629.672500\n",
       "EXECUTIVE FLIGHTWAYS       35321.758333\n",
       "ATS                        32611.682500\n",
       "AIR PARTNER                32301.571429\n",
       "PEGASUS ELITE AVIATION     31490.000000\n",
       "PJS                        27071.470000\n",
       "AIR CHARTER SERVICE        10111.111111\n",
       "MIAMI AIR INTL              4027.949432\n",
       "ZEPHYR                      2641.666667\n",
       "OCS                          635.592295\n",
       "6.05                         521.142475\n",
       "CSI                          485.206842\n",
       "CAC                          466.037234\n",
       "7962                         464.110574\n",
       "ACT                          450.139175\n",
       "8.92                         409.500000\n",
       "9003A                        262.460604\n",
       "VDI                          242.871852\n",
       "ADVANCE AIR AMBULANCE          0.000000\n",
       "-                                   NaN\n",
       "Name: CostPerPassenger, dtype: float64"
      ]
     },
     "execution_count": 196,
     "metadata": {},
     "output_type": "execute_result"
    }
   ],
   "source": [
    "vendor['CostPerPassenger'].median().sort_values(ascending=False)"
   ]
  },
  {
   "cell_type": "code",
   "execution_count": 163,
   "metadata": {},
   "outputs": [
    {
     "data": {
      "text/plain": [
       "msnVendor\n",
       "AIR CHARTER SERVICE       455000.000\n",
       "MIAMI AIR INTL            354459.550\n",
       "AIR AMBULACE              328000.000\n",
       "ATC                       305958.180\n",
       "ATS                       253323.845\n",
       "JEFT EDGE                 230478.510\n",
       "AIR PARTNER               225958.115\n",
       "PJS                       220811.450\n",
       "EXECUTIVE FLIGHTWAYS      211930.550\n",
       "PEGASUS ELITE AVIATION    188940.000\n",
       "Name: MissionTotalCost, dtype: float64"
      ]
     },
     "execution_count": 163,
     "metadata": {},
     "output_type": "execute_result"
    }
   ],
   "source": [
    "vendor['MissionTotalCost'].median().sort_values(ascending=False).head(10)"
   ]
  },
  {
   "cell_type": "code",
   "execution_count": 166,
   "metadata": {},
   "outputs": [
    {
     "data": {
      "text/plain": [
       "msnVendor\n",
       "ATC                       45.840\n",
       "ATS                       37.715\n",
       "JEFT EDGE                 36.650\n",
       "PJS                       36.170\n",
       "AIR AMBULACE              32.500\n",
       "MIAMI AIR INTL            28.900\n",
       "AIR PARTNER               27.500\n",
       "PEGASUS ELITE AVIATION    22.900\n",
       "OCS                        9.510\n",
       "ACT                        7.920\n",
       "8.92                       7.800\n",
       "CAC                        7.450\n",
       "Name: msnFlightHoursActual, dtype: float64"
      ]
     },
     "execution_count": 166,
     "metadata": {},
     "output_type": "execute_result"
    }
   ],
   "source": [
    "vendor['msnFlightHoursActual'].median().sort_values(ascending=False).head(12)"
   ]
  },
  {
   "cell_type": "code",
   "execution_count": 169,
   "metadata": {},
   "outputs": [
    {
     "data": {
      "text/plain": [
       "msnVendor\n",
       "CSI                       8432\n",
       "CAC                       1408\n",
       "ACT                        226\n",
       "ATS                         66\n",
       "PJS                         19\n",
       "ZEPHYR                      17\n",
       "AIR PARTNER                 14\n",
       "JEFT EDGE                    6\n",
       "AIR AMBULACE                 1\n",
       "6.05                         1\n",
       "7962                         1\n",
       "8.92                         1\n",
       "9003A                        1\n",
       "ADVANCE AIR AMBULANCE        1\n",
       "ATC                          1\n",
       "AIR CHARTER SERVICE          1\n",
       "VDI                          1\n",
       "EXECUTIVE FLIGHTWAYS         1\n",
       "MIAMI AIR INTL               1\n",
       "OCS                          1\n",
       "PEGASUS ELITE AVIATION       1\n",
       "-                            1\n",
       "Name: MissionID, dtype: int64"
      ]
     },
     "execution_count": 169,
     "metadata": {},
     "output_type": "execute_result"
    }
   ],
   "source": [
    "vendor['MissionID'].count().sort_values(ascending=False)"
   ]
  },
  {
   "cell_type": "code",
   "execution_count": 173,
   "metadata": {},
   "outputs": [
    {
     "data": {
      "text/plain": [
       "6765"
      ]
     },
     "execution_count": 173,
     "metadata": {},
     "output_type": "execute_result"
    }
   ],
   "source": [
    "sum(df['msnVendor'].isnull())"
   ]
  },
  {
   "cell_type": "code",
   "execution_count": 174,
   "metadata": {},
   "outputs": [
    {
     "data": {
      "text/plain": [
       "16967"
      ]
     },
     "execution_count": 174,
     "metadata": {},
     "output_type": "execute_result"
    }
   ],
   "source": [
    "len(df)"
   ]
  },
  {
   "cell_type": "code",
   "execution_count": 195,
   "metadata": {},
   "outputs": [
    {
     "data": {
      "text/html": [
       "<div>\n",
       "<style scoped>\n",
       "    .dataframe tbody tr th:only-of-type {\n",
       "        vertical-align: middle;\n",
       "    }\n",
       "\n",
       "    .dataframe tbody tr th {\n",
       "        vertical-align: top;\n",
       "    }\n",
       "\n",
       "    .dataframe thead th {\n",
       "        text-align: right;\n",
       "    }\n",
       "</style>\n",
       "<table border=\"1\" class=\"dataframe\">\n",
       "  <thead>\n",
       "    <tr style=\"text-align: right;\">\n",
       "      <th>MissionDate</th>\n",
       "      <th>2010-10-01 00:00:00</th>\n",
       "      <th>2011-10-01 00:00:00</th>\n",
       "      <th>2012-10-01 00:00:00</th>\n",
       "      <th>2013-10-01 00:00:00</th>\n",
       "      <th>2014-10-01 00:00:00</th>\n",
       "      <th>2015-10-01 00:00:00</th>\n",
       "      <th>2016-10-01 00:00:00</th>\n",
       "      <th>2017-10-01 00:00:00</th>\n",
       "      <th>2018-10-01 00:00:00</th>\n",
       "    </tr>\n",
       "    <tr>\n",
       "      <th>msnVendor</th>\n",
       "      <th></th>\n",
       "      <th></th>\n",
       "      <th></th>\n",
       "      <th></th>\n",
       "      <th></th>\n",
       "      <th></th>\n",
       "      <th></th>\n",
       "      <th></th>\n",
       "      <th></th>\n",
       "    </tr>\n",
       "  </thead>\n",
       "  <tbody>\n",
       "    <tr>\n",
       "      <th>-</th>\n",
       "      <td>NaN</td>\n",
       "      <td>NaN</td>\n",
       "      <td>1.0</td>\n",
       "      <td>NaN</td>\n",
       "      <td>NaN</td>\n",
       "      <td>NaN</td>\n",
       "      <td>NaN</td>\n",
       "      <td>NaN</td>\n",
       "      <td>NaN</td>\n",
       "    </tr>\n",
       "    <tr>\n",
       "      <th>6.05</th>\n",
       "      <td>NaN</td>\n",
       "      <td>NaN</td>\n",
       "      <td>NaN</td>\n",
       "      <td>NaN</td>\n",
       "      <td>1.0</td>\n",
       "      <td>NaN</td>\n",
       "      <td>NaN</td>\n",
       "      <td>NaN</td>\n",
       "      <td>NaN</td>\n",
       "    </tr>\n",
       "    <tr>\n",
       "      <th>7962</th>\n",
       "      <td>NaN</td>\n",
       "      <td>NaN</td>\n",
       "      <td>1.0</td>\n",
       "      <td>NaN</td>\n",
       "      <td>NaN</td>\n",
       "      <td>NaN</td>\n",
       "      <td>NaN</td>\n",
       "      <td>NaN</td>\n",
       "      <td>NaN</td>\n",
       "    </tr>\n",
       "    <tr>\n",
       "      <th>8.92</th>\n",
       "      <td>NaN</td>\n",
       "      <td>NaN</td>\n",
       "      <td>NaN</td>\n",
       "      <td>NaN</td>\n",
       "      <td>1.0</td>\n",
       "      <td>NaN</td>\n",
       "      <td>NaN</td>\n",
       "      <td>NaN</td>\n",
       "      <td>NaN</td>\n",
       "    </tr>\n",
       "    <tr>\n",
       "      <th>9003A</th>\n",
       "      <td>NaN</td>\n",
       "      <td>NaN</td>\n",
       "      <td>NaN</td>\n",
       "      <td>NaN</td>\n",
       "      <td>1.0</td>\n",
       "      <td>NaN</td>\n",
       "      <td>NaN</td>\n",
       "      <td>NaN</td>\n",
       "      <td>NaN</td>\n",
       "    </tr>\n",
       "    <tr>\n",
       "      <th>ACT</th>\n",
       "      <td>NaN</td>\n",
       "      <td>NaN</td>\n",
       "      <td>119.0</td>\n",
       "      <td>107.0</td>\n",
       "      <td>NaN</td>\n",
       "      <td>NaN</td>\n",
       "      <td>NaN</td>\n",
       "      <td>NaN</td>\n",
       "      <td>NaN</td>\n",
       "    </tr>\n",
       "    <tr>\n",
       "      <th>ADVANCE AIR AMBULANCE</th>\n",
       "      <td>NaN</td>\n",
       "      <td>1.0</td>\n",
       "      <td>NaN</td>\n",
       "      <td>NaN</td>\n",
       "      <td>NaN</td>\n",
       "      <td>NaN</td>\n",
       "      <td>NaN</td>\n",
       "      <td>NaN</td>\n",
       "      <td>NaN</td>\n",
       "    </tr>\n",
       "    <tr>\n",
       "      <th>AIR AMBULACE</th>\n",
       "      <td>1.0</td>\n",
       "      <td>NaN</td>\n",
       "      <td>NaN</td>\n",
       "      <td>NaN</td>\n",
       "      <td>NaN</td>\n",
       "      <td>NaN</td>\n",
       "      <td>NaN</td>\n",
       "      <td>NaN</td>\n",
       "      <td>NaN</td>\n",
       "    </tr>\n",
       "    <tr>\n",
       "      <th>AIR CHARTER SERVICE</th>\n",
       "      <td>NaN</td>\n",
       "      <td>NaN</td>\n",
       "      <td>NaN</td>\n",
       "      <td>NaN</td>\n",
       "      <td>1.0</td>\n",
       "      <td>NaN</td>\n",
       "      <td>NaN</td>\n",
       "      <td>NaN</td>\n",
       "      <td>NaN</td>\n",
       "    </tr>\n",
       "    <tr>\n",
       "      <th>AIR PARTNER</th>\n",
       "      <td>1.0</td>\n",
       "      <td>12.0</td>\n",
       "      <td>1.0</td>\n",
       "      <td>NaN</td>\n",
       "      <td>NaN</td>\n",
       "      <td>NaN</td>\n",
       "      <td>NaN</td>\n",
       "      <td>NaN</td>\n",
       "      <td>NaN</td>\n",
       "    </tr>\n",
       "    <tr>\n",
       "      <th>ATC</th>\n",
       "      <td>NaN</td>\n",
       "      <td>NaN</td>\n",
       "      <td>NaN</td>\n",
       "      <td>NaN</td>\n",
       "      <td>NaN</td>\n",
       "      <td>NaN</td>\n",
       "      <td>NaN</td>\n",
       "      <td>1.0</td>\n",
       "      <td>NaN</td>\n",
       "    </tr>\n",
       "    <tr>\n",
       "      <th>ATS</th>\n",
       "      <td>NaN</td>\n",
       "      <td>NaN</td>\n",
       "      <td>NaN</td>\n",
       "      <td>NaN</td>\n",
       "      <td>NaN</td>\n",
       "      <td>NaN</td>\n",
       "      <td>25.0</td>\n",
       "      <td>30.0</td>\n",
       "      <td>11.0</td>\n",
       "    </tr>\n",
       "    <tr>\n",
       "      <th>CAC</th>\n",
       "      <td>NaN</td>\n",
       "      <td>NaN</td>\n",
       "      <td>NaN</td>\n",
       "      <td>NaN</td>\n",
       "      <td>NaN</td>\n",
       "      <td>NaN</td>\n",
       "      <td>NaN</td>\n",
       "      <td>423.0</td>\n",
       "      <td>985.0</td>\n",
       "    </tr>\n",
       "    <tr>\n",
       "      <th>CSI</th>\n",
       "      <td>26.0</td>\n",
       "      <td>2295.0</td>\n",
       "      <td>2066.0</td>\n",
       "      <td>1118.0</td>\n",
       "      <td>NaN</td>\n",
       "      <td>177.0</td>\n",
       "      <td>1557.0</td>\n",
       "      <td>1193.0</td>\n",
       "      <td>NaN</td>\n",
       "    </tr>\n",
       "    <tr>\n",
       "      <th>EXECUTIVE FLIGHTWAYS</th>\n",
       "      <td>1.0</td>\n",
       "      <td>NaN</td>\n",
       "      <td>NaN</td>\n",
       "      <td>NaN</td>\n",
       "      <td>NaN</td>\n",
       "      <td>NaN</td>\n",
       "      <td>NaN</td>\n",
       "      <td>NaN</td>\n",
       "      <td>NaN</td>\n",
       "    </tr>\n",
       "    <tr>\n",
       "      <th>JEFT EDGE</th>\n",
       "      <td>NaN</td>\n",
       "      <td>NaN</td>\n",
       "      <td>NaN</td>\n",
       "      <td>5.0</td>\n",
       "      <td>1.0</td>\n",
       "      <td>NaN</td>\n",
       "      <td>NaN</td>\n",
       "      <td>NaN</td>\n",
       "      <td>NaN</td>\n",
       "    </tr>\n",
       "    <tr>\n",
       "      <th>MIAMI AIR INTL</th>\n",
       "      <td>1.0</td>\n",
       "      <td>NaN</td>\n",
       "      <td>NaN</td>\n",
       "      <td>NaN</td>\n",
       "      <td>NaN</td>\n",
       "      <td>NaN</td>\n",
       "      <td>NaN</td>\n",
       "      <td>NaN</td>\n",
       "      <td>NaN</td>\n",
       "    </tr>\n",
       "    <tr>\n",
       "      <th>OCS</th>\n",
       "      <td>NaN</td>\n",
       "      <td>1.0</td>\n",
       "      <td>NaN</td>\n",
       "      <td>NaN</td>\n",
       "      <td>NaN</td>\n",
       "      <td>NaN</td>\n",
       "      <td>NaN</td>\n",
       "      <td>NaN</td>\n",
       "      <td>NaN</td>\n",
       "    </tr>\n",
       "    <tr>\n",
       "      <th>PEGASUS ELITE AVIATION</th>\n",
       "      <td>1.0</td>\n",
       "      <td>NaN</td>\n",
       "      <td>NaN</td>\n",
       "      <td>NaN</td>\n",
       "      <td>NaN</td>\n",
       "      <td>NaN</td>\n",
       "      <td>NaN</td>\n",
       "      <td>NaN</td>\n",
       "      <td>NaN</td>\n",
       "    </tr>\n",
       "    <tr>\n",
       "      <th>PJS</th>\n",
       "      <td>NaN</td>\n",
       "      <td>NaN</td>\n",
       "      <td>NaN</td>\n",
       "      <td>NaN</td>\n",
       "      <td>8.0</td>\n",
       "      <td>11.0</td>\n",
       "      <td>NaN</td>\n",
       "      <td>NaN</td>\n",
       "      <td>NaN</td>\n",
       "    </tr>\n",
       "    <tr>\n",
       "      <th>VDI</th>\n",
       "      <td>NaN</td>\n",
       "      <td>1.0</td>\n",
       "      <td>NaN</td>\n",
       "      <td>NaN</td>\n",
       "      <td>NaN</td>\n",
       "      <td>NaN</td>\n",
       "      <td>NaN</td>\n",
       "      <td>NaN</td>\n",
       "      <td>NaN</td>\n",
       "    </tr>\n",
       "    <tr>\n",
       "      <th>ZEPHYR</th>\n",
       "      <td>NaN</td>\n",
       "      <td>NaN</td>\n",
       "      <td>1.0</td>\n",
       "      <td>NaN</td>\n",
       "      <td>7.0</td>\n",
       "      <td>7.0</td>\n",
       "      <td>2.0</td>\n",
       "      <td>NaN</td>\n",
       "      <td>NaN</td>\n",
       "    </tr>\n",
       "  </tbody>\n",
       "</table>\n",
       "</div>"
      ],
      "text/plain": [
       "MissionDate             2010-10-01  2011-10-01  2012-10-01  2013-10-01  \\\n",
       "msnVendor                                                                \n",
       "-                              NaN         NaN         1.0         NaN   \n",
       "6.05                           NaN         NaN         NaN         NaN   \n",
       "7962                           NaN         NaN         1.0         NaN   \n",
       "8.92                           NaN         NaN         NaN         NaN   \n",
       "9003A                          NaN         NaN         NaN         NaN   \n",
       "ACT                            NaN         NaN       119.0       107.0   \n",
       "ADVANCE AIR AMBULANCE          NaN         1.0         NaN         NaN   \n",
       "AIR AMBULACE                   1.0         NaN         NaN         NaN   \n",
       "AIR CHARTER SERVICE            NaN         NaN         NaN         NaN   \n",
       "AIR PARTNER                    1.0        12.0         1.0         NaN   \n",
       "ATC                            NaN         NaN         NaN         NaN   \n",
       "ATS                            NaN         NaN         NaN         NaN   \n",
       "CAC                            NaN         NaN         NaN         NaN   \n",
       "CSI                           26.0      2295.0      2066.0      1118.0   \n",
       "EXECUTIVE FLIGHTWAYS           1.0         NaN         NaN         NaN   \n",
       "JEFT EDGE                      NaN         NaN         NaN         5.0   \n",
       "MIAMI AIR INTL                 1.0         NaN         NaN         NaN   \n",
       "OCS                            NaN         1.0         NaN         NaN   \n",
       "PEGASUS ELITE AVIATION         1.0         NaN         NaN         NaN   \n",
       "PJS                            NaN         NaN         NaN         NaN   \n",
       "VDI                            NaN         1.0         NaN         NaN   \n",
       "ZEPHYR                         NaN         NaN         1.0         NaN   \n",
       "\n",
       "MissionDate             2014-10-01  2015-10-01  2016-10-01  2017-10-01  \\\n",
       "msnVendor                                                                \n",
       "-                              NaN         NaN         NaN         NaN   \n",
       "6.05                           1.0         NaN         NaN         NaN   \n",
       "7962                           NaN         NaN         NaN         NaN   \n",
       "8.92                           1.0         NaN         NaN         NaN   \n",
       "9003A                          1.0         NaN         NaN         NaN   \n",
       "ACT                            NaN         NaN         NaN         NaN   \n",
       "ADVANCE AIR AMBULANCE          NaN         NaN         NaN         NaN   \n",
       "AIR AMBULACE                   NaN         NaN         NaN         NaN   \n",
       "AIR CHARTER SERVICE            1.0         NaN         NaN         NaN   \n",
       "AIR PARTNER                    NaN         NaN         NaN         NaN   \n",
       "ATC                            NaN         NaN         NaN         1.0   \n",
       "ATS                            NaN         NaN        25.0        30.0   \n",
       "CAC                            NaN         NaN         NaN       423.0   \n",
       "CSI                            NaN       177.0      1557.0      1193.0   \n",
       "EXECUTIVE FLIGHTWAYS           NaN         NaN         NaN         NaN   \n",
       "JEFT EDGE                      1.0         NaN         NaN         NaN   \n",
       "MIAMI AIR INTL                 NaN         NaN         NaN         NaN   \n",
       "OCS                            NaN         NaN         NaN         NaN   \n",
       "PEGASUS ELITE AVIATION         NaN         NaN         NaN         NaN   \n",
       "PJS                            8.0        11.0         NaN         NaN   \n",
       "VDI                            NaN         NaN         NaN         NaN   \n",
       "ZEPHYR                         7.0         7.0         2.0         NaN   \n",
       "\n",
       "MissionDate             2018-10-01  \n",
       "msnVendor                           \n",
       "-                              NaN  \n",
       "6.05                           NaN  \n",
       "7962                           NaN  \n",
       "8.92                           NaN  \n",
       "9003A                          NaN  \n",
       "ACT                            NaN  \n",
       "ADVANCE AIR AMBULANCE          NaN  \n",
       "AIR AMBULACE                   NaN  \n",
       "AIR CHARTER SERVICE            NaN  \n",
       "AIR PARTNER                    NaN  \n",
       "ATC                            NaN  \n",
       "ATS                           11.0  \n",
       "CAC                          985.0  \n",
       "CSI                            NaN  \n",
       "EXECUTIVE FLIGHTWAYS           NaN  \n",
       "JEFT EDGE                      NaN  \n",
       "MIAMI AIR INTL                 NaN  \n",
       "OCS                            NaN  \n",
       "PEGASUS ELITE AVIATION         NaN  \n",
       "PJS                            NaN  \n",
       "VDI                            NaN  \n",
       "ZEPHYR                         NaN  "
      ]
     },
     "execution_count": 195,
     "metadata": {},
     "output_type": "execute_result"
    }
   ],
   "source": [
    "df.groupby([pd.Grouper(freq='AS-OCT'), 'msnVendor'])['MissionID'].count().unstack().T"
   ]
  },
  {
   "cell_type": "code",
   "execution_count": null,
   "metadata": {},
   "outputs": [],
   "source": []
  }
 ],
 "metadata": {
  "kernelspec": {
   "display_name": "Python 3",
   "language": "python",
   "name": "python3"
  },
  "language_info": {
   "codemirror_mode": {
    "name": "ipython",
    "version": 3
   },
   "file_extension": ".py",
   "mimetype": "text/x-python",
   "name": "python",
   "nbconvert_exporter": "python",
   "pygments_lexer": "ipython3",
   "version": "3.7.1"
  }
 },
 "nbformat": 4,
 "nbformat_minor": 2
}
