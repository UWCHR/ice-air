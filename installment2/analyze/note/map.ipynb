{
 "cells": [
  {
   "cell_type": "code",
   "execution_count": 1,
   "metadata": {},
   "outputs": [],
   "source": [
    "import pandas as pd\n",
    "import numpy as np\n",
    "import networkx as nx\n",
    "import matplotlib.pyplot as plt\n",
    "import matplotlib as mpl\n",
    "import matplotlib.colors as colors\n",
    "from matplotlib.pyplot import cm\n",
    "from mpl_toolkits.axes_grid1 import make_axes_locatable\n",
    "from matplotlib.ticker import LogFormatter\n",
    "import cartopy.crs as ccrs\n",
    "import cartopy.io.shapereader as shpreader\n",
    "import cartopy.feature as cfeature\n",
    "import yaml\n",
    "from collections import Counter"
   ]
  },
  {
   "cell_type": "code",
   "execution_count": 2,
   "metadata": {},
   "outputs": [],
   "source": [
    "with open('../input/mission-dtypes.yaml', 'r') as yamlfile:\n",
    "    column_types = yaml.load(yamlfile)\n",
    "\n",
    "read_csv_opts = {'sep': '|',\n",
    "                 'quotechar': '\"',\n",
    "                 'compression': 'gzip',\n",
    "                 'encoding': 'utf-8',\n",
    "                 'dtype': column_types,\n",
    "                 'parse_dates': ['MissionDate'],\n",
    "                 'infer_datetime_format': True}\n",
    "\n",
    "df = pd.read_csv('../input/ice-air-missions.csv.gz', **read_csv_opts)"
   ]
  },
  {
   "cell_type": "code",
   "execution_count": 3,
   "metadata": {},
   "outputs": [],
   "source": [
    "with open('../input/airport_dict.yaml', 'r') as yamlfile:\n",
    "    airport_dict = yaml.load(yamlfile)"
   ]
  },
  {
   "cell_type": "code",
   "execution_count": 4,
   "metadata": {},
   "outputs": [],
   "source": [
    "# Need to doublecheck or redo how airport_dict is generated, missing needed airports\n",
    "\n",
    "pgum = {'AirportName': 'Antonio B. Won Pat International Airport',\n",
    "  'City': 'Barrigada and Tamuning',\n",
    "  'Country': 'Guam',\n",
    "  'LatitudeDecimalDegrees': 13.484,\n",
    "  'LongitudeDecimalDegrees': 144.797,\n",
    "  'State': np.nan}\n",
    "\n",
    "msss = {'AirportName': 'Ilopango International Airport',\n",
    "  'City': 'San Salvador',\n",
    "  'Country': 'El Salvador',\n",
    "  'LatitudeDecimalDegrees': 13.691667,\n",
    "  'LongitudeDecimalDegrees': -89.125556,\n",
    "  'State': np.nan}\n",
    "\n",
    "airport_dict['PGUM'] = pgum\n",
    "airport_dict['MSSS'] = msss"
   ]
  },
  {
   "cell_type": "code",
   "execution_count": 5,
   "metadata": {},
   "outputs": [],
   "source": [
    "stop_cols = ['MsnStart',\n",
    "             'MsnStpOne',\n",
    "             'MsnStpTwo',\n",
    "             'MsnStpThree',\n",
    "             'MsnStpFour',\n",
    "             'MsnStpFive',\n",
    "             'MsnStpSix',\n",
    "             'MsnStpSeven',\n",
    "             'MsnStpEight',\n",
    "             'MsnEnd']"
   ]
  },
  {
   "cell_type": "code",
   "execution_count": 6,
   "metadata": {},
   "outputs": [],
   "source": [
    "def lat_long_lookup(data=pd.DataFrame):\n",
    "    for i, v in data.iteritems():\n",
    "        try:\n",
    "            lat = airport_dict[v]['LatitudeDecimalDegrees']\n",
    "            lon = airport_dict[v]['LongitudeDecimalDegrees']\n",
    "            return (lat, lon)\n",
    "#             print(lat,lon)\n",
    "        except:\n",
    "            pass"
   ]
  },
  {
   "cell_type": "code",
   "execution_count": 7,
   "metadata": {},
   "outputs": [],
   "source": [
    "# for i in range(len(df)):\n",
    "#     try:\n",
    "#         [(airport_dict[x]['LatitudeDecimalDegrees'], airport_dict[x]['LongitudeDecimalDegrees']) for x in df[stop_cols].loc[i] if pd.notnull(x)]\n",
    "#     except:\n",
    "#         pass"
   ]
  },
  {
   "cell_type": "code",
   "execution_count": 8,
   "metadata": {},
   "outputs": [],
   "source": [
    "# [(airport_dict[x]['LongitudeDecimalDegrees'], airport_dict[x]['LatitudeDecimalDegrees']) for x in df[stop_cols].loc[0] if pd.notnull(x)]"
   ]
  },
  {
   "cell_type": "code",
   "execution_count": 9,
   "metadata": {},
   "outputs": [],
   "source": [
    "df.reset_index(inplace=True)"
   ]
  },
  {
   "cell_type": "code",
   "execution_count": 10,
   "metadata": {},
   "outputs": [],
   "source": [
    "# df.set_index('MissionDate', inplace=True)\n",
    "df.set_index('MissionID', inplace=True)"
   ]
  },
  {
   "cell_type": "code",
   "execution_count": 11,
   "metadata": {},
   "outputs": [],
   "source": [
    "# df_to_plot = pd.DataFrame(df.loc[df['MissionTotalCost'].idxmax()]).T\n",
    "# df_to_plot = pd.DataFrame(df.loc['2019'])\n",
    "# df_to_plot = pd.DataFrame(df.loc[47735]).T\n",
    "df_to_plot = df.sort_values(by='MissionTotalCost', ascending=False).tail(100)\n",
    "# df_to_plot.reset_index(inplace=True)"
   ]
  },
  {
   "cell_type": "code",
   "execution_count": 12,
   "metadata": {},
   "outputs": [
    {
     "data": {
      "text/html": [
       "<div>\n",
       "<style scoped>\n",
       "    .dataframe tbody tr th:only-of-type {\n",
       "        vertical-align: middle;\n",
       "    }\n",
       "\n",
       "    .dataframe tbody tr th {\n",
       "        vertical-align: top;\n",
       "    }\n",
       "\n",
       "    .dataframe thead th {\n",
       "        text-align: right;\n",
       "    }\n",
       "</style>\n",
       "<table border=\"1\" class=\"dataframe\">\n",
       "  <thead>\n",
       "    <tr style=\"text-align: right;\">\n",
       "      <th></th>\n",
       "      <th>index</th>\n",
       "      <th>MissionNumber</th>\n",
       "      <th>MsnTailNumber</th>\n",
       "      <th>MissionDate</th>\n",
       "      <th>MissionFY</th>\n",
       "      <th>MissionMonth</th>\n",
       "      <th>MissionWeek</th>\n",
       "      <th>MsnStart</th>\n",
       "      <th>MsnStpOne</th>\n",
       "      <th>MsnStpTwo</th>\n",
       "      <th>...</th>\n",
       "      <th>MissionQuarter</th>\n",
       "      <th>MissionYear</th>\n",
       "      <th>MissionTotalCost</th>\n",
       "      <th>MissionPassengers</th>\n",
       "      <th>LegPassengers</th>\n",
       "      <th>MissionUtilization</th>\n",
       "      <th>LegUtilization</th>\n",
       "      <th>ManifestedPassengers</th>\n",
       "      <th>StruckPassengers</th>\n",
       "      <th>PlannedMissionUtilization</th>\n",
       "    </tr>\n",
       "    <tr>\n",
       "      <th>MissionID</th>\n",
       "      <th></th>\n",
       "      <th></th>\n",
       "      <th></th>\n",
       "      <th></th>\n",
       "      <th></th>\n",
       "      <th></th>\n",
       "      <th></th>\n",
       "      <th></th>\n",
       "      <th></th>\n",
       "      <th></th>\n",
       "      <th></th>\n",
       "      <th></th>\n",
       "      <th></th>\n",
       "      <th></th>\n",
       "      <th></th>\n",
       "      <th></th>\n",
       "      <th></th>\n",
       "      <th></th>\n",
       "      <th></th>\n",
       "      <th></th>\n",
       "      <th></th>\n",
       "    </tr>\n",
       "  </thead>\n",
       "  <tbody>\n",
       "    <tr>\n",
       "      <th>9318</th>\n",
       "      <td>9053</td>\n",
       "      <td>142245</td>\n",
       "      <td>N306FA</td>\n",
       "      <td>2014-08-27</td>\n",
       "      <td>2014</td>\n",
       "      <td>8</td>\n",
       "      <td>35</td>\n",
       "      <td>KIWA</td>\n",
       "      <td>KDEN</td>\n",
       "      <td>KIWA</td>\n",
       "      <td>...</td>\n",
       "      <td>3</td>\n",
       "      <td>2014</td>\n",
       "      <td>0.0</td>\n",
       "      <td>0</td>\n",
       "      <td>NaN</td>\n",
       "      <td>NaN</td>\n",
       "      <td>NaN</td>\n",
       "      <td>NaN</td>\n",
       "      <td>NaN</td>\n",
       "      <td>NaN</td>\n",
       "    </tr>\n",
       "    <tr>\n",
       "      <th>9301</th>\n",
       "      <td>9056</td>\n",
       "      <td>142259</td>\n",
       "      <td>N421US</td>\n",
       "      <td>2014-08-28</td>\n",
       "      <td>2014</td>\n",
       "      <td>8</td>\n",
       "      <td>35</td>\n",
       "      <td>KROW</td>\n",
       "      <td>KBRO</td>\n",
       "      <td>MGGT</td>\n",
       "      <td>...</td>\n",
       "      <td>3</td>\n",
       "      <td>2014</td>\n",
       "      <td>0.0</td>\n",
       "      <td>0</td>\n",
       "      <td>NaN</td>\n",
       "      <td>NaN</td>\n",
       "      <td>NaN</td>\n",
       "      <td>NaN</td>\n",
       "      <td>NaN</td>\n",
       "      <td>NaN</td>\n",
       "    </tr>\n",
       "    <tr>\n",
       "      <th>9326</th>\n",
       "      <td>9074</td>\n",
       "      <td>142276</td>\n",
       "      <td>N421US</td>\n",
       "      <td>2014-09-01</td>\n",
       "      <td>2014</td>\n",
       "      <td>9</td>\n",
       "      <td>36</td>\n",
       "      <td>KBRO</td>\n",
       "      <td>KELP</td>\n",
       "      <td>NaN</td>\n",
       "      <td>...</td>\n",
       "      <td>3</td>\n",
       "      <td>2014</td>\n",
       "      <td>0.0</td>\n",
       "      <td>0</td>\n",
       "      <td>NaN</td>\n",
       "      <td>NaN</td>\n",
       "      <td>NaN</td>\n",
       "      <td>NaN</td>\n",
       "      <td>NaN</td>\n",
       "      <td>NaN</td>\n",
       "    </tr>\n",
       "    <tr>\n",
       "      <th>9339</th>\n",
       "      <td>9088</td>\n",
       "      <td>142290</td>\n",
       "      <td>N306FA</td>\n",
       "      <td>2014-09-03</td>\n",
       "      <td>2014</td>\n",
       "      <td>9</td>\n",
       "      <td>36</td>\n",
       "      <td>KIWA</td>\n",
       "      <td>KDEN</td>\n",
       "      <td>KIWA</td>\n",
       "      <td>...</td>\n",
       "      <td>3</td>\n",
       "      <td>2014</td>\n",
       "      <td>0.0</td>\n",
       "      <td>0</td>\n",
       "      <td>NaN</td>\n",
       "      <td>NaN</td>\n",
       "      <td>NaN</td>\n",
       "      <td>NaN</td>\n",
       "      <td>NaN</td>\n",
       "      <td>NaN</td>\n",
       "    </tr>\n",
       "    <tr>\n",
       "      <th>9351</th>\n",
       "      <td>9101</td>\n",
       "      <td>142302</td>\n",
       "      <td>N421US</td>\n",
       "      <td>2014-09-04</td>\n",
       "      <td>2014</td>\n",
       "      <td>9</td>\n",
       "      <td>36</td>\n",
       "      <td>KBRO</td>\n",
       "      <td>MGGT</td>\n",
       "      <td>NaN</td>\n",
       "      <td>...</td>\n",
       "      <td>3</td>\n",
       "      <td>2014</td>\n",
       "      <td>0.0</td>\n",
       "      <td>0</td>\n",
       "      <td>NaN</td>\n",
       "      <td>NaN</td>\n",
       "      <td>NaN</td>\n",
       "      <td>NaN</td>\n",
       "      <td>NaN</td>\n",
       "      <td>NaN</td>\n",
       "    </tr>\n",
       "  </tbody>\n",
       "</table>\n",
       "<p>5 rows × 39 columns</p>\n",
       "</div>"
      ],
      "text/plain": [
       "           index  MissionNumber MsnTailNumber MissionDate  MissionFY  \\\n",
       "MissionID                                                              \n",
       "9318        9053         142245        N306FA  2014-08-27       2014   \n",
       "9301        9056         142259        N421US  2014-08-28       2014   \n",
       "9326        9074         142276        N421US  2014-09-01       2014   \n",
       "9339        9088         142290        N306FA  2014-09-03       2014   \n",
       "9351        9101         142302        N421US  2014-09-04       2014   \n",
       "\n",
       "           MissionMonth  MissionWeek MsnStart MsnStpOne MsnStpTwo  \\\n",
       "MissionID                                                           \n",
       "9318                  8           35     KIWA      KDEN      KIWA   \n",
       "9301                  8           35     KROW      KBRO      MGGT   \n",
       "9326                  9           36     KBRO      KELP       NaN   \n",
       "9339                  9           36     KIWA      KDEN      KIWA   \n",
       "9351                  9           36     KBRO      MGGT       NaN   \n",
       "\n",
       "                     ...             MissionQuarter MissionYear  \\\n",
       "MissionID            ...                                          \n",
       "9318                 ...                          3        2014   \n",
       "9301                 ...                          3        2014   \n",
       "9326                 ...                          3        2014   \n",
       "9339                 ...                          3        2014   \n",
       "9351                 ...                          3        2014   \n",
       "\n",
       "          MissionTotalCost MissionPassengers LegPassengers MissionUtilization  \\\n",
       "MissionID                                                                       \n",
       "9318                   0.0                 0           NaN                NaN   \n",
       "9301                   0.0                 0           NaN                NaN   \n",
       "9326                   0.0                 0           NaN                NaN   \n",
       "9339                   0.0                 0           NaN                NaN   \n",
       "9351                   0.0                 0           NaN                NaN   \n",
       "\n",
       "          LegUtilization ManifestedPassengers StruckPassengers  \\\n",
       "MissionID                                                        \n",
       "9318                 NaN                  NaN              NaN   \n",
       "9301                 NaN                  NaN              NaN   \n",
       "9326                 NaN                  NaN              NaN   \n",
       "9339                 NaN                  NaN              NaN   \n",
       "9351                 NaN                  NaN              NaN   \n",
       "\n",
       "           PlannedMissionUtilization  \n",
       "MissionID                             \n",
       "9318                             NaN  \n",
       "9301                             NaN  \n",
       "9326                             NaN  \n",
       "9339                             NaN  \n",
       "9351                             NaN  \n",
       "\n",
       "[5 rows x 39 columns]"
      ]
     },
     "execution_count": 12,
     "metadata": {},
     "output_type": "execute_result"
    }
   ],
   "source": [
    "df_to_plot.head()"
   ]
  },
  {
   "cell_type": "code",
   "execution_count": 13,
   "metadata": {},
   "outputs": [],
   "source": [
    "df_to_plot['MissionPassengers'] = df_to_plot['MissionPassengers'].fillna(0)"
   ]
  },
  {
   "cell_type": "code",
   "execution_count": 14,
   "metadata": {},
   "outputs": [],
   "source": [
    "df_to_plot['MissionTotalCost'] = round(df_to_plot['MissionTotalCost'])\n",
    "df_to_plot['MissionTotalCost'] = df_to_plot['MissionTotalCost'].fillna(0)\n",
    "df_to_plot['MissionTotalCost'] = df_to_plot['MissionTotalCost'].astype(int)"
   ]
  },
  {
   "cell_type": "code",
   "execution_count": 15,
   "metadata": {},
   "outputs": [
    {
     "ename": "IndexError",
     "evalue": "index 0 is out of bounds for axis 0 with size 0",
     "output_type": "error",
     "traceback": [
      "\u001b[0;31m---------------------------------------------------------------------------\u001b[0m",
      "\u001b[0;31mIndexError\u001b[0m                                Traceback (most recent call last)",
      "\u001b[0;32m<ipython-input-15-93b160cb212f>\u001b[0m in \u001b[0;36m<module>\u001b[0;34m\u001b[0m\n\u001b[1;32m     22\u001b[0m     \u001b[0;32mif\u001b[0m \u001b[0mcounter\u001b[0m \u001b[0;34m>\u001b[0m \u001b[0mlimit\u001b[0m\u001b[0;34m:\u001b[0m\u001b[0;34m\u001b[0m\u001b[0;34m\u001b[0m\u001b[0m\n\u001b[1;32m     23\u001b[0m         \u001b[0;32mbreak\u001b[0m\u001b[0;34m\u001b[0m\u001b[0;34m\u001b[0m\u001b[0m\n\u001b[0;32m---> 24\u001b[0;31m     \u001b[0mc\u001b[0m\u001b[0;34m=\u001b[0m\u001b[0mcolor\u001b[0m\u001b[0;34m[\u001b[0m\u001b[0mrow\u001b[0m\u001b[0;34m[\u001b[0m\u001b[0;34m'MissionPassengers'\u001b[0m\u001b[0;34m]\u001b[0m\u001b[0;34m]\u001b[0m\u001b[0;34m\u001b[0m\u001b[0;34m\u001b[0m\u001b[0m\n\u001b[0m\u001b[1;32m     25\u001b[0m     \u001b[0mitinerary\u001b[0m \u001b[0;34m=\u001b[0m \u001b[0mrow\u001b[0m\u001b[0;34m[\u001b[0m\u001b[0mstop_cols\u001b[0m\u001b[0;34m]\u001b[0m\u001b[0;34m\u001b[0m\u001b[0;34m\u001b[0m\u001b[0m\n\u001b[1;32m     26\u001b[0m     \u001b[0mitinerary\u001b[0m\u001b[0;34m.\u001b[0m\u001b[0mdropna\u001b[0m\u001b[0;34m(\u001b[0m\u001b[0minplace\u001b[0m\u001b[0;34m=\u001b[0m\u001b[0;32mTrue\u001b[0m\u001b[0;34m)\u001b[0m\u001b[0;34m\u001b[0m\u001b[0;34m\u001b[0m\u001b[0m\n",
      "\u001b[0;31mIndexError\u001b[0m: index 0 is out of bounds for axis 0 with size 0"
     ]
    },
    {
     "data": {
      "image/png": "[encoded data removed]",
      "text/plain": [
       "<Figure size 864x576 with 1 Axes>"
      ]
     },
     "metadata": {
      "needs_background": "light"
     },
     "output_type": "display_data"
    }
   ],
   "source": [
    "cm_lon=-125\n",
    "ax_proj = ccrs.PlateCarree(central_longitude=cm_lon)\n",
    "\n",
    "fig, ax = plt.subplots(\n",
    "    1, 1, figsize=(12, 8),\n",
    "    subplot_kw=dict(projection=ax_proj))\n",
    "# ax.stock_img()\n",
    "ax.set_global()\n",
    "ax.coastlines(alpha=.4)\n",
    "ax.add_feature(cfeature.BORDERS, alpha=.4)\n",
    "ax.add_feature(cfeature.STATES, alpha=.2)\n",
    "\n",
    "# Extent of continental US.\n",
    "# ax.set_extent([-128, -62, 10, 50])\n",
    "\n",
    "limit = 100\n",
    "counter = 0\n",
    "\n",
    "color=cm.viridis(np.linspace(0,1,df_to_plot['MissionTotalCost'].max())+1)\n",
    "\n",
    "for i, row in df_to_plot.iterrows():\n",
    "    if counter > limit:\n",
    "        break\n",
    "    c=color[row['MissionPassengers']]\n",
    "    itinerary = row[stop_cols]\n",
    "    itinerary.dropna(inplace=True)\n",
    "    len_stops = len(itinerary)\n",
    "    for i in range(len_stops): #Add something to stop when reaching last airport\n",
    "        try:\n",
    "            point_1_code = itinerary[i]\n",
    "            point_1_lon = airport_dict[point_1_code]['LongitudeDecimalDegrees']\n",
    "            point_1_lat = airport_dict[point_1_code]['LatitudeDecimalDegrees']\n",
    "            \n",
    "            point_2_code = itinerary[i+1]\n",
    "            point_2_lon = airport_dict[point_2_code]['LongitudeDecimalDegrees']\n",
    "            point_2_lat = airport_dict[point_2_code]['LatitudeDecimalDegrees']\n",
    "            \n",
    "            if point_1_code == point_2_code:\n",
    "                break\n",
    "            \n",
    "            # Only want this to trigger if crossing dateline (-180)\n",
    "            # Current implementation arbitrarily separates flights on either side of 45 degress long\n",
    "            # May cause problem if any flights cross 45\n",
    "            if point_1_lon < 0 and point_2_lon > 0 and point_2_lon > 45:\n",
    "                point_2_lon = point_2_lon - 360\n",
    "                \n",
    "            if point_1_lon > 0 and point_2_lon < 0 and point_2_lon > 45:\n",
    "                point_2_lon = point_2_lon + 360\n",
    "            \n",
    "            npts = 2\n",
    "            x, y = np.linspace(point_1_lon, point_2_lon, npts), np.linspace(point_1_lat, point_2_lat, npts)\n",
    "\n",
    "            # Plate Carree\n",
    "#             plt.plot(x+cm_lon, y,\n",
    "#             color=c, marker='o', linewidth=2, transform=ax_proj)\n",
    "            \n",
    "#             plt.text(point_1_lon + cm_lon + 1, point_1_lat + 1, point_1_code,\n",
    "#             horizontalalignment='right',\n",
    "#             transform=ax_proj)\n",
    "            \n",
    "#             plt.text(point_2_lon + cm_lon + 1, point_2_lat + 1, point_2_code,\n",
    "#             horizontalalignment='right',\n",
    "#             transform=ax_proj)\n",
    "            \n",
    "            # Geodetic (automatically understands longitude offset?!)\n",
    "            plt.plot(x, y,\n",
    "            color=c, linewidth=2, transform=ccrs.Geodetic())\n",
    "            \n",
    "            plt.text(point_1_lon + 1, point_1_lat + 1, point_1_code,\n",
    "            horizontalalignment='right',\n",
    "            transform=ccrs.Geodetic())\n",
    "            \n",
    "            plt.text(point_2_lon + 1, point_2_lat + 1, point_2_code,\n",
    "            horizontalalignment='right',\n",
    "            transform=ccrs.Geodetic())\n",
    "\n",
    "        except:\n",
    "#             print(f'Could not plot {point_1_code}->{point_2_code}')\n",
    "            pass\n",
    "    counter=counter + 1\n",
    "\n",
    "# plt.text(point_2_lon +.1, point_2_lat +.1, 'point_2',\n",
    "#          horizontalalignment='left',\n",
    "#          transform=ccrs.PlateCarree())\n",
    "\n",
    "plt.show()"
   ]
  },
  {
   "cell_type": "code",
   "execution_count": 16,
   "metadata": {},
   "outputs": [],
   "source": [
    "# Mapping most common itineraries. Could adapt this for # of passengers, etc."
   ]
  },
  {
   "cell_type": "code",
   "execution_count": 17,
   "metadata": {},
   "outputs": [
    {
     "data": {
      "text/plain": [
       "Index(['index', 'MissionNumber', 'MsnTailNumber', 'MissionDate', 'MissionFY',\n",
       "       'MissionMonth', 'MissionWeek', 'MsnStart', 'MsnStpOne', 'MsnStpTwo',\n",
       "       'MsnStpThree', 'MsnStpFour', 'MsnStpFive', 'MsnStpSix', 'MsnStpSeven',\n",
       "       'MsnStpEight', 'MsnEnd', 'msnDelayReason', 'msnCancelReason',\n",
       "       'msnFlightODCCost', 'msnProposedFines', 'msnEnforcedFines',\n",
       "       'msnGeneralFlightCost', 'msnFlightHoursPlanned', 'msnFlightHoursActual',\n",
       "       'msnCharterDesignation', 'Status', 'msnVendor', 'msnInvoiceNumber',\n",
       "       'MissionQuarter', 'MissionYear', 'MissionTotalCost',\n",
       "       'MissionPassengers', 'LegPassengers', 'MissionUtilization',\n",
       "       'LegUtilization', 'ManifestedPassengers', 'StruckPassengers',\n",
       "       'PlannedMissionUtilization'],\n",
       "      dtype='object')"
      ]
     },
     "execution_count": 17,
     "metadata": {},
     "output_type": "execute_result"
    }
   ],
   "source": [
    "df.columns"
   ]
  },
  {
   "cell_type": "code",
   "execution_count": 18,
   "metadata": {},
   "outputs": [],
   "source": [
    "stop_cols = ['MsnStart',\n",
    "             'MsnStpOne',\n",
    "             'MsnStpTwo',\n",
    "             'MsnStpThree',\n",
    "             'MsnStpFour',\n",
    "             'MsnStpFive',\n",
    "             'MsnStpSix',\n",
    "             'MsnStpSeven',\n",
    "             'MsnStpEight',\n",
    "             'MsnEnd']"
   ]
  },
  {
   "cell_type": "code",
   "execution_count": 19,
   "metadata": {},
   "outputs": [],
   "source": [
    "stops = df[stop_cols].apply(lambda x: x.astype(object))\n",
    "\n",
    "stops = stops.fillna('-')\n",
    "\n",
    "loop_count = stops.groupby(stops.columns.tolist()).size().reset_index().\\\n",
    "    rename(columns={0:'records'})\n",
    "\n",
    "loop_count = loop_count.sort_values(by='records', ascending=True)\n",
    "\n",
    "loop_count = loop_count.replace({'-': np.nan})"
   ]
  },
  {
   "cell_type": "code",
   "execution_count": 20,
   "metadata": {},
   "outputs": [
    {
     "data": {
      "text/html": [
       "<div>\n",
       "<style scoped>\n",
       "    .dataframe tbody tr th:only-of-type {\n",
       "        vertical-align: middle;\n",
       "    }\n",
       "\n",
       "    .dataframe tbody tr th {\n",
       "        vertical-align: top;\n",
       "    }\n",
       "\n",
       "    .dataframe thead th {\n",
       "        text-align: right;\n",
       "    }\n",
       "</style>\n",
       "<table border=\"1\" class=\"dataframe\">\n",
       "  <thead>\n",
       "    <tr style=\"text-align: right;\">\n",
       "      <th></th>\n",
       "      <th>MsnStart</th>\n",
       "      <th>MsnStpOne</th>\n",
       "      <th>MsnStpTwo</th>\n",
       "      <th>MsnStpThree</th>\n",
       "      <th>MsnStpFour</th>\n",
       "      <th>MsnStpFive</th>\n",
       "      <th>MsnStpSix</th>\n",
       "      <th>MsnStpSeven</th>\n",
       "      <th>MsnStpEight</th>\n",
       "      <th>MsnEnd</th>\n",
       "      <th>records</th>\n",
       "    </tr>\n",
       "  </thead>\n",
       "  <tbody>\n",
       "    <tr>\n",
       "      <th>0</th>\n",
       "      <td>EDDF</td>\n",
       "      <td>LTFJ</td>\n",
       "      <td>VCBI</td>\n",
       "      <td>LTBA</td>\n",
       "      <td>NaN</td>\n",
       "      <td>NaN</td>\n",
       "      <td>NaN</td>\n",
       "      <td>NaN</td>\n",
       "      <td>NaN</td>\n",
       "      <td>EGKB</td>\n",
       "      <td>1</td>\n",
       "    </tr>\n",
       "    <tr>\n",
       "      <th>1666</th>\n",
       "      <td>KIWA</td>\n",
       "      <td>KSAT</td>\n",
       "      <td>MGGT</td>\n",
       "      <td>MHLM</td>\n",
       "      <td>NaN</td>\n",
       "      <td>NaN</td>\n",
       "      <td>NaN</td>\n",
       "      <td>NaN</td>\n",
       "      <td>NaN</td>\n",
       "      <td>KIWA</td>\n",
       "      <td>1</td>\n",
       "    </tr>\n",
       "    <tr>\n",
       "      <th>1664</th>\n",
       "      <td>KIWA</td>\n",
       "      <td>KSAT</td>\n",
       "      <td>MGGT</td>\n",
       "      <td>NaN</td>\n",
       "      <td>NaN</td>\n",
       "      <td>NaN</td>\n",
       "      <td>NaN</td>\n",
       "      <td>NaN</td>\n",
       "      <td>NaN</td>\n",
       "      <td>KBRO</td>\n",
       "      <td>1</td>\n",
       "    </tr>\n",
       "    <tr>\n",
       "      <th>1663</th>\n",
       "      <td>KIWA</td>\n",
       "      <td>KSAT</td>\n",
       "      <td>KVCV</td>\n",
       "      <td>NaN</td>\n",
       "      <td>NaN</td>\n",
       "      <td>NaN</td>\n",
       "      <td>NaN</td>\n",
       "      <td>NaN</td>\n",
       "      <td>NaN</td>\n",
       "      <td>KIWA</td>\n",
       "      <td>1</td>\n",
       "    </tr>\n",
       "    <tr>\n",
       "      <th>1662</th>\n",
       "      <td>KIWA</td>\n",
       "      <td>KSAT</td>\n",
       "      <td>KSLC</td>\n",
       "      <td>KOAK</td>\n",
       "      <td>NaN</td>\n",
       "      <td>NaN</td>\n",
       "      <td>NaN</td>\n",
       "      <td>NaN</td>\n",
       "      <td>NaN</td>\n",
       "      <td>KIWA</td>\n",
       "      <td>1</td>\n",
       "    </tr>\n",
       "  </tbody>\n",
       "</table>\n",
       "</div>"
      ],
      "text/plain": [
       "     MsnStart MsnStpOne MsnStpTwo MsnStpThree MsnStpFour MsnStpFive MsnStpSix  \\\n",
       "0        EDDF      LTFJ      VCBI        LTBA        NaN        NaN       NaN   \n",
       "1666     KIWA      KSAT      MGGT        MHLM        NaN        NaN       NaN   \n",
       "1664     KIWA      KSAT      MGGT         NaN        NaN        NaN       NaN   \n",
       "1663     KIWA      KSAT      KVCV         NaN        NaN        NaN       NaN   \n",
       "1662     KIWA      KSAT      KSLC        KOAK        NaN        NaN       NaN   \n",
       "\n",
       "     MsnStpSeven MsnStpEight MsnEnd  records  \n",
       "0            NaN         NaN   EGKB        1  \n",
       "1666         NaN         NaN   KIWA        1  \n",
       "1664         NaN         NaN   KBRO        1  \n",
       "1663         NaN         NaN   KIWA        1  \n",
       "1662         NaN         NaN   KIWA        1  "
      ]
     },
     "execution_count": 20,
     "metadata": {},
     "output_type": "execute_result"
    }
   ],
   "source": [
    "loop_count.head()"
   ]
  },
  {
   "cell_type": "code",
   "execution_count": 23,
   "metadata": {},
   "outputs": [],
   "source": [
    "loop_count = loop_count.tail(20).sort_values(by='records', ascending=True)"
   ]
  },
  {
   "cell_type": "code",
   "execution_count": 24,
   "metadata": {},
   "outputs": [
    {
     "data": {
      "image/png": "[encoded data removed]",
      "text/plain": [
       "<Figure size 864x576 with 1 Axes>"
      ]
     },
     "metadata": {
      "needs_background": "light"
     },
     "output_type": "display_data"
    }
   ],
   "source": [
    "cm_lon=-109\n",
    "ax_proj = ccrs.PlateCarree(central_longitude=cm_lon)\n",
    "\n",
    "fig, ax = plt.subplots(\n",
    "    1, 1, figsize=(12, 8),\n",
    "    subplot_kw=dict(projection=ax_proj))\n",
    "# ax.stock_img()\n",
    "ax.set_global()\n",
    "ax.coastlines(alpha=.4)\n",
    "ax.add_feature(cfeature.BORDERS, alpha=.4)\n",
    "ax.add_feature(cfeature.STATES, alpha=.2)\n",
    "\n",
    "# Extent of continental US.\n",
    "# ax.set_extent([-128, -62, 10, 50])\n",
    "ax.set_extent([-128, -62, -5, 50])\n",
    "\n",
    "limit = len(loop_count)\n",
    "counter = 0\n",
    "\n",
    "color=cm.viridis(np.linspace(0,1,loop_count['records'].max()+1))\n",
    "\n",
    "for i, row in loop_count.iterrows():\n",
    "    if counter > limit:\n",
    "        break\n",
    "    c=color[row['records']]\n",
    "    itinerary = row[stop_cols]\n",
    "    itinerary.dropna(inplace=True)\n",
    "    len_stops = len(itinerary)\n",
    "    for i in range(len_stops): # Add something to stop when reaching last airport\n",
    "        try:\n",
    "            point_1_code = itinerary[i]\n",
    "            point_1_lon = airport_dict[point_1_code]['LongitudeDecimalDegrees']\n",
    "            point_1_lat = airport_dict[point_1_code]['LatitudeDecimalDegrees']\n",
    "            \n",
    "            point_2_code = itinerary[i+1]\n",
    "            point_2_lon = airport_dict[point_2_code]['LongitudeDecimalDegrees']\n",
    "            point_2_lat = airport_dict[point_2_code]['LatitudeDecimalDegrees']\n",
    "            \n",
    "            if point_1_code == point_2_code:\n",
    "                break\n",
    "            \n",
    "            # Only want this to trigger if crossing dateline (-180)\n",
    "            # Current implementation arbitrarily separates flights on either side of 45 degress long\n",
    "            # May cause problem if any flights cross 45\n",
    "            if point_1_lon < 0 and point_2_lon > 0 and point_2_lon > 45:\n",
    "                point_2_lon = point_2_lon - 360\n",
    "                \n",
    "            if point_1_lon > 0 and point_2_lon < 0 and point_2_lon > 45:\n",
    "                point_2_lon = point_2_lon + 360\n",
    "            \n",
    "            npts = 2\n",
    "            x, y = np.linspace(point_1_lon, point_2_lon, npts), np.linspace(point_1_lat, point_2_lat, npts)\n",
    "\n",
    "            # Plate Carree\n",
    "#             plt.plot(x+cm_lon, y,\n",
    "#             color=c, marker='o', linewidth=2, transform=ax_proj)\n",
    "            \n",
    "#             plt.text(point_1_lon + cm_lon + 1, point_1_lat + 1, point_1_code,\n",
    "#             horizontalalignment='right',\n",
    "#             transform=ax_proj)\n",
    "            \n",
    "#             plt.text(point_2_lon + cm_lon + 1, point_2_lat + 1, point_2_code,\n",
    "#             horizontalalignment='right',\n",
    "#             transform=ax_proj)\n",
    "            \n",
    "            # Geodetic (automatically understands longitude offset?!)\n",
    "            plt.plot(x, y,\n",
    "            color=c, linewidth=2, transform=ccrs.Geodetic())\n",
    "            \n",
    "            plt.text(point_1_lon + .5, point_1_lat + .5, point_1_code,\n",
    "            horizontalalignment='right',\n",
    "            transform=ccrs.Geodetic())\n",
    "            \n",
    "            plt.text(point_2_lon + .5, point_2_lat + .5, point_2_code,\n",
    "            horizontalalignment='right',\n",
    "            transform=ccrs.Geodetic())\n",
    "\n",
    "        except:\n",
    "#             print(f'Could not plot {point_1_code}->{point_2_code}')\n",
    "            pass\n",
    "    counter=counter + 1\n",
    "\n",
    "# plt.text(point_2_lon +.1, point_2_lat +.1, 'point_2',\n",
    "#          horizontalalignment='left',\n",
    "#          transform=ccrs.PlateCarree())\n",
    "\n",
    "plt.show()"
   ]
  },
  {
   "cell_type": "code",
   "execution_count": null,
   "metadata": {},
   "outputs": [],
   "source": []
  },
  {
   "cell_type": "code",
   "execution_count": 25,
   "metadata": {},
   "outputs": [],
   "source": [
    "itineraries = {}\n",
    "connections = []\n",
    "for index, row in df.iterrows():\n",
    "    stops = row[stop_cols].dropna()\n",
    "#     print(stops)\n",
    "    legs = []\n",
    "    n_stops = len(stops)\n",
    "#     print(n_stops)\n",
    "    for n in range(n_stops):\n",
    "        if n < n_stops-1:\n",
    "#             print(stops[n])\n",
    "            leg = (stops[n], stops[n+1])\n",
    "        else:\n",
    "            pass\n",
    "        legs.append(leg)\n",
    "    connections.append(leg)\n",
    "    itineraries[row['MissionNumber']] = [legs]\n",
    "#     itineraries[row['MissionNumber']] = [legs], row['MissionPassengers']"
   ]
  },
  {
   "cell_type": "code",
   "execution_count": 26,
   "metadata": {},
   "outputs": [],
   "source": [
    "legs = Counter(connections)"
   ]
  },
  {
   "cell_type": "code",
   "execution_count": 27,
   "metadata": {},
   "outputs": [
    {
     "data": {
      "text/plain": [
       "[(('KELP', 'KIWA'), 1412),\n",
       " (('MGGT', 'KIWA'), 1031),\n",
       " (('MGGT', 'KSAT'), 778),\n",
       " (('MHLM', 'KSAT'), 651),\n",
       " (('KLRD', 'KAEX'), 576),\n",
       " (('MSLP', 'KSAT'), 515),\n",
       " (('MHLM', 'KIWA'), 479),\n",
       " (('MSLP', 'KAEX'), 470),\n",
       " (('KHRL', 'KSAT'), 464),\n",
       " (('MMMX', 'KIWA'), 459),\n",
       " (('KAEX', 'KBRO'), 459),\n",
       " (('MHLM', 'KMIA'), 445),\n",
       " (('MGGT', 'KBRO'), 445),\n",
       " (('MGGT', 'KMIA'), 430),\n",
       " (('MSLP', 'KIWA'), 425),\n",
       " (('KSAN', 'KIWA'), 419),\n",
       " (('KMDT', 'KAEX'), 369),\n",
       " (('KHRL', 'KAEX'), 360),\n",
       " (('MGGT', 'KAEX'), 360),\n",
       " (('KELP', 'KHRL'), 305),\n",
       " (('KNYL', 'KIWA'), 303),\n",
       " (('KBRO', 'KMIA'), 293),\n",
       " (('MHLM', 'KAEX'), 252),\n",
       " (('KHRL', 'KIWA'), 230),\n",
       " (('KNJK', 'KIWA'), 196),\n",
       " (('MHLM', 'KBRO'), 190),\n",
       " (('KMDT', 'KBRO'), 179),\n",
       " (('KBRO', 'KAEX'), 167),\n",
       " (('KEWR', 'KAEX'), 157),\n",
       " (('SEGU', 'KAEX'), 156),\n",
       " (('MDSD', 'KAEX'), 141),\n",
       " (('KIWA', 'KELP'), 139),\n",
       " (('MHTG', 'KSAT'), 137),\n",
       " (('MNMG', 'KAEX'), 137),\n",
       " (('MSLP', 'KBRO'), 133),\n",
       " (('KHRL', 'KMIA'), 131),\n",
       " (('KELP', 'KAEX'), 97),\n",
       " (('KIWA', 'KHRL'), 88),\n",
       " (('KELP', 'KSAT'), 87),\n",
       " (('KLRD', 'KSAT'), 87),\n",
       " (('MKJP', 'KAEX'), 85),\n",
       " (('SKBO', 'KAEX'), 80),\n",
       " (('MMMX', 'KTUS'), 79),\n",
       " (('KAEX', 'KSAT'), 76),\n",
       " (('MTPP', 'KAEX'), 73),\n",
       " (('MUHA', 'KMIA'), 67),\n",
       " (('KBRO', 'KSAT'), 58),\n",
       " (('KSAN', 'KSAT'), 58),\n",
       " (('MMMX', 'KAEX'), 58),\n",
       " (('MNMG', 'KSAT'), 55),\n",
       " (('MSLP', 'KMIA'), 54),\n",
       " (('KELP', 'KBRO'), 51),\n",
       " (('KAEX', 'KIWA'), 48),\n",
       " (('MDSD', 'KMIA'), 48),\n",
       " (('KSAN', 'KHRL'), 46),\n",
       " (('KIWA', 'KAEX'), 45),\n",
       " (('KBRO', 'KIWA'), 41),\n",
       " (('KONT', 'KIWA'), 40),\n",
       " (('KMIA', 'KAEX'), 38),\n",
       " (('MGGT', 'KHRL'), 37),\n",
       " (('KGYY', 'KBRO'), 36),\n",
       " (('KLRD', 'KIWA'), 32),\n",
       " (('KAEX', 'KMIA'), 32),\n",
       " (('MMMX', 'KSAT'), 27),\n",
       " (('MTPP', 'KMIA'), 24),\n",
       " (('MMMX', 'KELP'), 23),\n",
       " (('KBFI', 'KSAT'), 22),\n",
       " (('KEWR', 'KSAT'), 21),\n",
       " (('KCSG', 'KAEX'), 21),\n",
       " (('KEWR', 'KBRO'), 21),\n",
       " (('KOMA', 'KAEX'), 21),\n",
       " (('KMEM', 'KIWA'), 21),\n",
       " (('KBUF', 'KAEX'), 20),\n",
       " (('KBFI', 'KIWA'), 20),\n",
       " (('KAEX', 'KHRL'), 20),\n",
       " (('KIAH', 'KIWA'), 19),\n",
       " (('KMSP', 'KAEX'), 19),\n",
       " (('KBOS', 'KAEX'), 18),\n",
       " (('KCSG', 'KBRO'), 18),\n",
       " (('KMEM', 'KSAT'), 18),\n",
       " (('KSAT', 'KAEX'), 17),\n",
       " (('MSLP', 'KHRL'), 17),\n",
       " (('MHTG', 'KIWA'), 16),\n",
       " (('KIAH', 'KAEX'), 15),\n",
       " (('KDEN', 'KIWA'), 15),\n",
       " (('KMDT', 'KIWA'), 14),\n",
       " (('MGGT', 'KELP'), 14),\n",
       " (('MHLM', 'KELP'), 14),\n",
       " (('MHLM', 'KHRL'), 14),\n",
       " (('KCSG', 'KSAT'), 14),\n",
       " (('PHNL', 'KIWA'), 14),\n",
       " (('KIWA', 'KSAT'), 13),\n",
       " (('KEWR', 'KIWA'), 13),\n",
       " (('KPSM', 'KIWA'), 13),\n",
       " (('MHTG', 'KAEX'), 12),\n",
       " (('MMMX', 'KBRO'), 12),\n",
       " (('KBFI', 'KBRO'), 12),\n",
       " (('KLAS', 'KIWA'), 11),\n",
       " (('KMIA', 'KIWA'), 11),\n",
       " (('MSLP', 'KELP'), 10),\n",
       " (('KATL', 'KBRO'), 10),\n",
       " (('KMIA', 'KBRO'), 10),\n",
       " (('KMEM', 'KBRO'), 10),\n",
       " (('KLAW', 'KIWA'), 10),\n",
       " (('KNTD', 'KIWA'), 10),\n",
       " (('KBUF', 'KBRO'), 10),\n",
       " (('TBPB', 'KIWA'), 10),\n",
       " (('TTPP', 'KAEX'), 9),\n",
       " (('KBUF', 'KSAT'), 9),\n",
       " (('KTOL', 'KAEX'), 9),\n",
       " (('KIAH', 'KSAT'), 8),\n",
       " (('MKJP', 'KSAT'), 8),\n",
       " (('KJAX', 'KIWA'), 8),\n",
       " (('KSAT', 'KMIA'), 8),\n",
       " (('KAEX', 'KAEX'), 8),\n",
       " (('KIWA', 'KIWA'), 8),\n",
       " (('MGGT', 'KIAH'), 8),\n",
       " (('KPSM', 'KAEX'), 8),\n",
       " (('MHLM', 'KLRD'), 7),\n",
       " (('KHRL', 'KELP'), 7),\n",
       " (('KBFI', 'KAEX'), 7),\n",
       " (('KSAT', 'KBRO'), 7),\n",
       " (('KCSG', 'KIWA'), 7),\n",
       " (('KJAX', 'KBRO'), 7),\n",
       " (('TJSJ', 'KIWA'), 6),\n",
       " (('MDSD', 'KSAT'), 6),\n",
       " (('KMDT', 'KSAT'), 6),\n",
       " (('KBFL', 'KIWA'), 6),\n",
       " (('KAEX', 'KMDT'), 6),\n",
       " (('KCOS', 'KSAT'), 6),\n",
       " (('KTUS', 'KIWA'), 6),\n",
       " (('KATL', 'KIWA'), 6),\n",
       " (('KIAH', 'KMIA'), 6),\n",
       " (('SEGU', 'KSAT'), 6),\n",
       " (('MGGT', 'KLRD'), 6),\n",
       " (('KGYY', 'KAEX'), 6),\n",
       " (('KBRO', 'MGGT'), 6),\n",
       " (('KIWA', 'KBRO'), 6),\n",
       " (('KSKF', 'KIWA'), 6),\n",
       " (('KVCV', 'KBRO'), 6),\n",
       " (('KJAX', 'KMIA'), 6),\n",
       " (('KLRD', 'KBRO'), 6),\n",
       " (('KYNG', 'KBRO'), 6),\n",
       " (('KJAX', 'KAEX'), 5),\n",
       " (('KBFL', 'KSAT'), 5),\n",
       " (('KATL', 'KMIA'), 5),\n",
       " (('KNYL', 'KSAT'), 5),\n",
       " (('MSLP', 'KIAH'), 5),\n",
       " (('MYNN', 'KAEX'), 5),\n",
       " (('KBRO', 'KELP'), 5),\n",
       " (('KBRO', 'KBRO'), 5),\n",
       " (('KOAK', 'KSAT'), 5),\n",
       " (('TJSJ', 'KOPF'), 5),\n",
       " (('KELP', 'KROW'), 5),\n",
       " (('KGYY', 'KIWA'), 5),\n",
       " (('KSAT', 'KIWA'), 5),\n",
       " (('KVCV', 'KAEX'), 5),\n",
       " (('MPTO', 'KAEX'), 5),\n",
       " (('MUHA', 'KIWA'), 4),\n",
       " (('KOAK', 'KIWA'), 4),\n",
       " (('KJAX', 'KSAT'), 4),\n",
       " (('KORD', 'KSAT'), 4),\n",
       " (('KSAN', 'KAEX'), 4),\n",
       " (('MNMG', 'KIWA'), 4),\n",
       " (('TJSJ', 'KMIA'), 4),\n",
       " (('TJSJ', 'KAEX'), 4),\n",
       " (('KCSG', 'KMIA'), 4),\n",
       " (('KSLC', 'KSAT'), 4),\n",
       " (('KMIA', 'KSAT'), 4),\n",
       " (('KIAH', 'KBRO'), 4),\n",
       " (('KMSP', 'KSAT'), 4),\n",
       " (('KMCI', 'KAEX'), 4),\n",
       " (('KOAK', 'KAEX'), 4),\n",
       " (('KDEN', 'KBRO'), 4),\n",
       " (('KIWA', 'KROW'), 4),\n",
       " (('KRIC', 'KAEX'), 4),\n",
       " (('MTPP', 'KBRO'), 4),\n",
       " (('KABQ', 'KIWA'), 4),\n",
       " (('GOOY', 'KAEX'), 4),\n",
       " (('TLPL', 'KAEX'), 4),\n",
       " (('KBOS', 'KIWA'), 3),\n",
       " (('KDAL', 'KSAT'), 3),\n",
       " (('KHRL', 'KHRL'), 3),\n",
       " (('KABI', 'KSAT'), 3),\n",
       " (('KLRD', 'KMIA'), 3),\n",
       " (('EINN', 'KIAG'), 3),\n",
       " (('KMDT', 'KHRL'), 3),\n",
       " (('KSAT', 'KHRL'), 3),\n",
       " (('KONT', 'KSAT'), 3),\n",
       " (('KSAT', 'KBFI'), 3),\n",
       " (('MKJP', 'KMIA'), 3),\n",
       " (('KSAT', 'KELP'), 3),\n",
       " (('KATL', 'KSAT'), 3),\n",
       " (('MGGT', 'KATL'), 3),\n",
       " (('SYCJ', 'KMIA'), 3),\n",
       " (('KEWR', 'KMIA'), 3),\n",
       " (('KGYY', 'KSAT'), 3),\n",
       " (('KTOL', 'KBRO'), 3),\n",
       " (('KELP', 'KELP'), 3),\n",
       " (('MGGT', 'MGGT'), 3),\n",
       " (('KRIC', 'KSAT'), 3),\n",
       " (('KSLC', 'KBRO'), 3),\n",
       " (('KMIA', 'KCSG'), 3),\n",
       " (('KAEX', 'KCSG'), 3),\n",
       " (('KBOS', 'KBRO'), 3),\n",
       " (('MHSC', 'KIWA'), 3),\n",
       " (('KRIC', 'KBRO'), 3),\n",
       " (('KDEN', 'KSAT'), 3),\n",
       " (('MNMG', 'KBRO'), 3),\n",
       " (('KBUF', 'KIWA'), 3),\n",
       " (('MZBZ', 'KIWA'), 3),\n",
       " (('KTOL', 'KIWA'), 3),\n",
       " (('KCHS', 'KIWA'), 3),\n",
       " (('GOOY', 'KIWA'), 3),\n",
       " (('KYNG', 'KIWA'), 3),\n",
       " (('FAMU', 'KIWA'), 3),\n",
       " (('HSSS', 'KIWA'), 3),\n",
       " (('KELP', 'KMIA'), 3),\n",
       " (('PHNL', 'KELP'), 3),\n",
       " (('MGGT', 'KONT'), 3),\n",
       " (('KALB', 'KIWA'), 3),\n",
       " (('KRNO', 'KIWA'), 2),\n",
       " (('LPPD', 'KMDT'), 2),\n",
       " (('SKBO', 'KSAT'), 2),\n",
       " (('RJCC', 'RJBB'), 2),\n",
       " (('KNYL', 'KHRL'), 2),\n",
       " (('EINN', 'KTEB'), 2),\n",
       " (('KNYL', 'KAEX'), 2),\n",
       " (('KCSG', 'KHRL'), 2),\n",
       " (('GOOY', 'KTEB'), 2),\n",
       " (('MHTG', 'KATL'), 2),\n",
       " (('KIWA', 'KONT'), 2),\n",
       " (('MNMG', 'KELP'), 2),\n",
       " (('KAEX', 'MHLM'), 2),\n",
       " (('MHLM', 'KIAH'), 2),\n",
       " (('KATL', 'KAEX'), 2),\n",
       " (('KEWR', 'KMDT'), 2),\n",
       " (('SEGU', 'KHRL'), 2),\n",
       " (('TJBQ', 'KMIA'), 2),\n",
       " (('KLRD', 'KLRD'), 2),\n",
       " (('KGYY', 'KHRL'), 2),\n",
       " (('MHLM', 'KDAL'), 2),\n",
       " (('KBFI', 'KELP'), 2),\n",
       " (('KSAT', 'KSAT'), 2),\n",
       " (('KDEN', 'KELP'), 2),\n",
       " (('GVAC', 'KMIA'), 2),\n",
       " (('KBRO', 'KEWR'), 2),\n",
       " (('KBED', 'KSAT'), 2),\n",
       " (('KOMA', 'KIWA'), 2),\n",
       " (('KSAT', 'KMDT'), 2),\n",
       " (('KBED', 'KAEX'), 2),\n",
       " (('KTUS', 'KSAT'), 2),\n",
       " (('MSLP', 'KSAN'), 2),\n",
       " (('KTUS', 'KAEX'), 2),\n",
       " (('KIWA', 'KBFI'), 2),\n",
       " (('KBOS', 'KSAT'), 2),\n",
       " (('KLAW', 'KTUS'), 2),\n",
       " (('KVCV', 'KSAT'), 2),\n",
       " (('KMDT', 'KMDT'), 2),\n",
       " (('KIWA', 'KMIA'), 2),\n",
       " (('KIAH', 'MGGT'), 2),\n",
       " (('GMMN', 'KIAG'), 2),\n",
       " (('KSAT', 'KGYY'), 2),\n",
       " (('SEGU', 'KMIA'), 2),\n",
       " (('VIDP', 'KIWA'), 2),\n",
       " (('KLAS', 'KSAT'), 2),\n",
       " (('KDAL', 'KAEX'), 2),\n",
       " (('KRIC', 'KIWA'), 2),\n",
       " (('KDEN', 'KAEX'), 2),\n",
       " (('KBGR', 'KAEX'), 2),\n",
       " (('KCHS', 'KAEX'), 2),\n",
       " (('GLRB', 'KAEX'), 2),\n",
       " (('MTPP', 'KSAT'), 2),\n",
       " (('KYNG', 'KSAT'), 2),\n",
       " (('VDPP', 'KIWA'), 2),\n",
       " (('KBGR', 'KIWA'), 2),\n",
       " (('DGAA', 'KIWA'), 2),\n",
       " (('KABQ', 'KBRO'), 2),\n",
       " (('TAPA', 'KAEX'), 2),\n",
       " (('SPJC', 'KAEX'), 2),\n",
       " (('KVCV', 'KIWA'), 2),\n",
       " (('MNMG', 'KIAH'), 2),\n",
       " (('KAEX', 'KELP'), 2),\n",
       " (('ORBI', 'KIWA'), 2),\n",
       " (('HAAB', 'KIWA'), 2),\n",
       " (('SBBR', 'SBCF'), 2),\n",
       " (('KCHS', 'KSAT'), 2),\n",
       " (('TKPK', 'KAEX'), 2),\n",
       " (('KORD', 'KAEX'), 1),\n",
       " (('KSAN', 'KELP'), 1),\n",
       " (('MDSD', 'KIWA'), 1),\n",
       " (('GVAC', 'KIWA'), 1),\n",
       " (('KSMF', 'KSAT'), 1),\n",
       " (('MKJP', 'KIWA'), 1),\n",
       " (('MSSS', 'KAEX'), 1),\n",
       " (('KDAL', 'KMIA'), 1),\n",
       " (('KABI', 'KAEX'), 1),\n",
       " (('SBGR', 'KMIA'), 1),\n",
       " (('SKBO', 'KMIA'), 1),\n",
       " (('KSAN', 'KMIA'), 1),\n",
       " (('EHAM', 'KMDT'), 1),\n",
       " (('KHRL', 'KATL'), 1),\n",
       " (('KBFL', 'KSAN'), 1),\n",
       " (('PANC', 'KSEA'), 1),\n",
       " (('KPQI', 'KVPC'), 1),\n",
       " (('PADU', 'PANC'), 1),\n",
       " (('GCTS', 'KTEB'), 1),\n",
       " (('EGGW', 'KTEB'), 1),\n",
       " (('GVAC', 'KTEB'), 1),\n",
       " (('RJTT', 'KSEA'), 1),\n",
       " (('KELP', 'KNYL'), 1),\n",
       " (('SPIM', 'KFLL'), 1),\n",
       " (('KSHV', 'KAEX'), 1),\n",
       " (('EDDF', 'KHOU'), 1),\n",
       " (('EGLF', 'KTEB'), 1),\n",
       " (('KNYL', 'KNYL'), 1),\n",
       " (('KLRD', 'KHRL'), 1),\n",
       " (('BIKF', 'KMDT'), 1),\n",
       " (('KMIA', 'KHRL'), 1),\n",
       " (('KSAT', 'MSLP'), 1),\n",
       " (('LTBA', 'EGKB'), 1),\n",
       " (('KPAE', 'KSAT'), 1),\n",
       " (('MGGT', 'TJSJ'), 1),\n",
       " (('KMWA', 'KAEX'), 1),\n",
       " (('KAEX', 'KIAH'), 1),\n",
       " (('LHBP', 'KTEB'), 1),\n",
       " (('KHRL', 'KMDT'), 1),\n",
       " (('MMMX', 'KHRL'), 1),\n",
       " (('EGKK', 'KTEB'), 1),\n",
       " (('KCOS', 'KAEX'), 1),\n",
       " (('KNJK', 'KHRL'), 1),\n",
       " (('KSAN', 'KSAN'), 1),\n",
       " (('KHRL', 'KNJK'), 1),\n",
       " (('MHLM', 'MHLM'), 1),\n",
       " (('MDSD', 'KHRL'), 1),\n",
       " (('KORD', 'KHRL'), 1),\n",
       " (('KPBI', 'KMIA'), 1),\n",
       " (('MHLM', 'KAUS'), 1),\n",
       " (('MZBZ', 'KSAT'), 1),\n",
       " (('MSLP', 'KLRD'), 1),\n",
       " (('KEWR', 'KHRL'), 1),\n",
       " (('MHLM', 'MGGT'), 1),\n",
       " (('MMMD', 'KAEX'), 1),\n",
       " (('MGGT', 'KCRP'), 1),\n",
       " (('DNMM', 'KJFK'), 1),\n",
       " (('KLIT', 'KAEX'), 1),\n",
       " (('KBRO', 'KMDT'), 1),\n",
       " (('SEGU', 'SEGU'), 1),\n",
       " (('KEWR', 'KCMH'), 1),\n",
       " (('CYYT', 'KTEB'), 1),\n",
       " (('KAEX', 'KMOB'), 1),\n",
       " (('KEWR', 'KTOL'), 1),\n",
       " (('KLRD', 'KCSG'), 1),\n",
       " (('KBRO', 'KTOL'), 1),\n",
       " (('TVSV', 'KMIA'), 1),\n",
       " (('KAUS', 'KDEN'), 1),\n",
       " (('MDSD', 'KBRO'), 1),\n",
       " (('MKJP', 'KBRO'), 1),\n",
       " (('KMEM', 'KELP'), 1),\n",
       " (('HKJK', 'KMIA'), 1),\n",
       " (('KCSG', 'KLRD'), 1),\n",
       " (('KBNA', 'KAEX'), 1),\n",
       " (('KLAW', 'KSAT'), 1),\n",
       " (('SPIM', 'SEGU'), 1),\n",
       " (('KNTD', 'KTUS'), 1),\n",
       " (('KIWA', 'KOAK'), 1),\n",
       " (('KLAW', 'KBRO'), 1),\n",
       " (('KELP', 'MSLP'), 1),\n",
       " (('KSKF', 'KTUS'), 1),\n",
       " (('KMEM', 'KEWR'), 1),\n",
       " (('KTUS', 'KBRO'), 1),\n",
       " (('KROW', 'KIWA'), 1),\n",
       " (('KROW', 'KBRO'), 1),\n",
       " (('MHSC', 'KELP'), 1),\n",
       " (('MHLM', 'KROW'), 1),\n",
       " (('KELP', 'KIAD'), 1),\n",
       " (('KELP', 'KSAN'), 1),\n",
       " (('MHSC', 'KBRO'), 1),\n",
       " (('CYQX', 'KBOS'), 1),\n",
       " (('KIAD', 'KELP'), 1),\n",
       " (('KMIA', 'KMIA'), 1),\n",
       " (('KROW', 'KSAT'), 1),\n",
       " (('KCRP', 'KBRO'), 1),\n",
       " (('FLKK', 'KMIA'), 1),\n",
       " (('KORD', 'KBRO'), 1),\n",
       " (('KBGR', 'KBOS'), 1),\n",
       " (('KELP', 'KBFI'), 1),\n",
       " (('EINN', 'KBOS'), 1),\n",
       " (('MHSC', 'KSAT'), 1),\n",
       " (('KIWA', 'MGGT'), 1),\n",
       " (('KOAK', 'KSAN'), 1),\n",
       " (('KGYY', 'KLRD'), 1),\n",
       " (('MGGT', 'KMSY'), 1),\n",
       " (('KMSY', 'KAEX'), 1),\n",
       " (('KBWI', 'KAEX'), 1),\n",
       " (('MGGT', 'MHLM'), 1),\n",
       " (('KDAL', 'KELP'), 1),\n",
       " (('KLRD', 'MSLP'), 1),\n",
       " (('KELP', 'MGGT'), 1),\n",
       " (('KLAS', 'KELP'), 1),\n",
       " (('PANC', 'KIWA'), 1),\n",
       " (('EPWA', 'KIAG'), 1),\n",
       " (('TKPK', 'KOPF'), 1),\n",
       " (('FWKI', 'KOPF'), 1),\n",
       " (('EYVI', 'KIAG'), 1),\n",
       " (('KFLL', 'KMIA'), 1),\n",
       " (('DNMM', 'KMIA'), 1),\n",
       " (('KTOL', 'KSAT'), 1),\n",
       " (('KAEX', 'MGGT'), 1),\n",
       " (('VIDP', 'KAEX'), 1),\n",
       " (('KBRO', 'MSLP'), 1),\n",
       " (('GUCY', 'KOPF'), 1),\n",
       " (('PHNL', 'KSDM'), 1),\n",
       " (('FALA', 'KFLL'), 1),\n",
       " (('KMEM', 'KAEX'), 1),\n",
       " (('KYKM', 'KIWA'), 1),\n",
       " (('TTPP', 'KMIA'), 1),\n",
       " (('VGHS', 'KIWA'), 1),\n",
       " (('FKKD', 'KAEX'), 1),\n",
       " (('GBYD', 'KAEX'), 1),\n",
       " (('GQNO', 'KAEX'), 1),\n",
       " (('PHNL', 'KAEX'), 1),\n",
       " (('KELP', 'FAMU'), 1),\n",
       " (('KCHS', 'KBRO'), 1),\n",
       " (('KAEX', 'KEWR'), 1),\n",
       " (('KCLT', 'KAEX'), 1),\n",
       " (('LIRA', 'KAEX'), 1),\n",
       " (('KLAS', 'KBRO'), 1),\n",
       " (('UUWW', 'KAEX'), 1),\n",
       " (('KMHR', 'KIWA'), 1),\n",
       " (('MHLM', 'KMDT'), 1),\n",
       " (('TGPY', 'KMIA'), 1),\n",
       " (('FAMU', 'KSAT'), 1),\n",
       " (('SMJP', 'KMIA'), 1),\n",
       " (('TISX', 'KAEX'), 1),\n",
       " (('EPWA', 'KAEX'), 1),\n",
       " (('PGUM', 'KIWA'), 1),\n",
       " (('KCAE', 'KMIA'), 1),\n",
       " (('KCSG', 'KDTW'), 1),\n",
       " (('KCSG', 'KIAH'), 1),\n",
       " (('KGSO', 'KAEX'), 1),\n",
       " (('KMIA', 'KMDT'), 1),\n",
       " (('KABQ', 'KAEX'), 1),\n",
       " (('KOPF', 'KELP'), 1),\n",
       " (('KABQ', 'KSAT'), 1),\n",
       " (('KMSY', 'KABQ'), 1),\n",
       " (('OAKB', 'KIWA'), 1),\n",
       " (('MHLM', 'KRIC'), 1),\n",
       " (('KMEM', 'KMIA'), 1),\n",
       " (('KAEX', 'MSLP'), 1),\n",
       " (('SBGR', 'SEGU'), 1),\n",
       " (('SBGR', 'KAEX'), 1),\n",
       " (('SAEZ', 'KIWA'), 1),\n",
       " (('FKKD', 'KIWA'), 1),\n",
       " (('KAEX', 'KLRD'), 1),\n",
       " (('KIAH', 'MHLM'), 1),\n",
       " (('GOBD', 'KELP'), 1),\n",
       " (('KYNG', 'KAEX'), 1),\n",
       " (('KMDT', 'KMIA'), 1),\n",
       " (('OMDW', 'KIWA'), 1),\n",
       " (('HSSJ', 'KELP'), 1),\n",
       " (('GOBD', 'KAEX'), 1),\n",
       " (('OPRN', 'KIWA'), 1),\n",
       " (('KTUL', 'KSAT'), 1),\n",
       " (('OJAI', 'KIWA'), 1),\n",
       " (('DNMM', 'KELP'), 1),\n",
       " (('KAEX', 'SKBO'), 1),\n",
       " (('HKJK', 'KIWA'), 1),\n",
       " (('KIWA', 'KJAX'), 1),\n",
       " (('MGGT', 'MSLP'), 1),\n",
       " (('MGGT', 'KSAN'), 1),\n",
       " (('LIRA', 'KIWA'), 1),\n",
       " (('MSLP', 'SPJC'), 1),\n",
       " (('FZAA', 'KAEX'), 1),\n",
       " (('VYYY', 'KELP'), 1),\n",
       " (('GUCY', 'KIWA'), 1),\n",
       " (('FYWH', 'KIWA'), 1),\n",
       " (('KATL', 'KATL'), 1),\n",
       " (('KMFE', 'KBRO'), 1),\n",
       " (('KDAL', 'KBRO'), 1),\n",
       " (('SEGU', 'SBBR'), 1),\n",
       " (('KAEX', 'SBBR'), 1),\n",
       " (('GBYD', 'KIWA'), 1),\n",
       " (('HSSJ', 'KIWA'), 1),\n",
       " (('KBRO', 'KNYL'), 1),\n",
       " (('TBPB', 'KAEX'), 1),\n",
       " (('FCBB', 'KIWA'), 1),\n",
       " (('MNMG', 'KMIA'), 1),\n",
       " (('VNKT', 'KIWA'), 1),\n",
       " (('OJAM', 'KIWA'), 1),\n",
       " (('KONT', 'KBRO'), 1),\n",
       " (('KMFE', 'KAEX'), 1),\n",
       " (('KCMI', 'KIWA'), 1),\n",
       " (('KAEX', 'KPSM'), 1),\n",
       " (('FNLU', 'KIWA'), 1),\n",
       " (('KPSM', 'KSAT'), 1),\n",
       " (('DNMM', 'KIWA'), 1),\n",
       " (('KPVD', 'KAEX'), 1),\n",
       " (('FOGR', 'KIWA'), 1),\n",
       " (('KBRO', 'KLRD'), 1),\n",
       " (('HCMM', 'KAEX'), 1),\n",
       " (('KMCI', 'KIWA'), 1),\n",
       " (('FVFA', 'KIWA'), 1),\n",
       " (('KIAH', 'KELP'), 1),\n",
       " (('KPVD', 'KSAT'), 1)]"
      ]
     },
     "execution_count": 27,
     "metadata": {},
     "output_type": "execute_result"
    }
   ],
   "source": [
    "legs.most_common()"
   ]
  },
  {
   "cell_type": "code",
   "execution_count": 28,
   "metadata": {},
   "outputs": [],
   "source": [
    "legs = dict(legs.most_common()[::-1])"
   ]
  },
  {
   "cell_type": "code",
   "execution_count": 30,
   "metadata": {},
   "outputs": [
    {
     "data": {
      "image/png": "[encoded data removed]",
      "text/plain": [
       "<Figure size 864x576 with 1 Axes>"
      ]
     },
     "metadata": {
      "needs_background": "light"
     },
     "output_type": "display_data"
    }
   ],
   "source": [
    "cm_lon=-109\n",
    "ax_proj = ccrs.PlateCarree(central_longitude=cm_lon)\n",
    "\n",
    "fig, ax = plt.subplots(\n",
    "    1, 1, figsize=(12, 8),\n",
    "    subplot_kw=dict(projection=ax_proj))\n",
    "# ax.stock_img()\n",
    "ax.set_global()\n",
    "ax.coastlines(alpha=.4)\n",
    "ax.add_feature(cfeature.BORDERS, alpha=.4)\n",
    "ax.add_feature(cfeature.STATES, alpha=.2)\n",
    "\n",
    "# Extent of continental US.\n",
    "# ax.set_extent([-128, -62, 10, 50])\n",
    "\n",
    "limit = len(loop_count)\n",
    "counter = 0\n",
    "\n",
    "color=cm.viridis(np.linspace(0,1,max(legs.values())+1))\n",
    "\n",
    "for k in legs.keys():\n",
    "    if counter > limit:\n",
    "        break\n",
    "    try:\n",
    "        c=color[legs[k]]\n",
    "    #     itinerary = row[stop_cols]\n",
    "    #     itinerary.dropna(inplace=True)\n",
    "    #     len_stops = len(itinerary)\n",
    "        point_1_code = k[0]\n",
    "        point_1_lon = airport_dict[point_1_code]['LongitudeDecimalDegrees']\n",
    "        point_1_lat = airport_dict[point_1_code]['LatitudeDecimalDegrees']\n",
    "\n",
    "        point_2_code = k[1]\n",
    "        point_2_lon = airport_dict[point_2_code]['LongitudeDecimalDegrees']\n",
    "        point_2_lat = airport_dict[point_2_code]['LatitudeDecimalDegrees']\n",
    "\n",
    "    #     if point_1_code == point_2_code:\n",
    "    #         break\n",
    "\n",
    "        # Only want this to trigger if crossing dateline (-180)\n",
    "        # Current implementation arbitrarily separates flights on either side of 45 degress long\n",
    "        # May cause problem if any flights cross 45\n",
    "        if point_1_lon < 0 and point_2_lon > 0 and point_2_lon > 45:\n",
    "            point_2_lon = point_2_lon - 360\n",
    "\n",
    "        if point_1_lon > 0 and point_2_lon < 0 and point_2_lon > 45:\n",
    "            point_2_lon = point_2_lon + 360\n",
    "\n",
    "        npts = 2\n",
    "        x, y = np.linspace(point_1_lon, point_2_lon, npts), np.linspace(point_1_lat, point_2_lat, npts)\n",
    "\n",
    "        # Plate Carree\n",
    "    #             plt.plot(x+cm_lon, y,\n",
    "    #             color=c, marker='o', linewidth=2, transform=ax_proj)\n",
    "\n",
    "    #             plt.text(point_1_lon + cm_lon + 1, point_1_lat + 1, point_1_code,\n",
    "    #             horizontalalignment='right',\n",
    "    #             transform=ax_proj)\n",
    "\n",
    "    #             plt.text(point_2_lon + cm_lon + 1, point_2_lat + 1, point_2_code,\n",
    "    #             horizontalalignment='right',\n",
    "    #             transform=ax_proj)\n",
    "\n",
    "        # Geodetic (automatically understands longitude offset?!)\n",
    "        plt.plot(x, y,\n",
    "        color=c, linewidth=2, transform=ccrs.Geodetic())\n",
    "\n",
    "#         plt.text(point_1_lon + .5, point_1_lat + .5, point_1_code,\n",
    "#         horizontalalignment='right',\n",
    "#         transform=ccrs.Geodetic())\n",
    "\n",
    "#         plt.text(point_2_lon + .5, point_2_lat + .5, point_2_code,\n",
    "#         horizontalalignment='right',\n",
    "#         transform=ccrs.Geodetic())\n",
    "    except:\n",
    "        pass\n",
    "\n",
    "    counter=counter + 1\n",
    "\n",
    "# plt.text(point_2_lon +.1, point_2_lat +.1, 'point_2',\n",
    "#          horizontalalignment='left',\n",
    "#          transform=ccrs.PlateCarree())\n",
    "\n",
    "plt.show()"
   ]
  },
  {
   "cell_type": "code",
   "execution_count": null,
   "metadata": {},
   "outputs": [],
   "source": []
  },
  {
   "cell_type": "code",
   "execution_count": 4,
   "metadata": {},
   "outputs": [],
   "source": [
    "df['FiscalYear'] = df['MissionDate'].copy()\n",
    "df.set_index('MissionDate', drop=False, inplace=True)\n",
    "df.index.name = 'FiscalYear'\n",
    "\n",
    "# Grouping records by exact date, fiscal year, MissionID,\n",
    "# removal or transfer status, unique pickup/dropoff, juvenile status.\n",
    "# Can't group by nationality here or it splits flights up and obscures trends\n",
    "g = df.groupby([pd.Grouper(freq='AS-OCT'),\n",
    "                'MissionDate',\n",
    "                'R-T',\n",
    "                'PULOC',\n",
    "                'DropLoc',\n",
    "                'air_LatitudeDecimalDegrees',\n",
    "                'air_LongitudeDecimalDegrees',\n",
    "                'air2_LatitudeDecimalDegrees',\n",
    "                'air2_LongitudeDecimalDegrees'])"
   ]
  },
  {
   "cell_type": "code",
   "execution_count": 5,
   "metadata": {},
   "outputs": [],
   "source": [
    "flights = g[['AlienMasterID']].nunique().reset_index()"
   ]
  },
  {
   "cell_type": "code",
   "execution_count": 6,
   "metadata": {},
   "outputs": [],
   "source": [
    "# flights = flights[flights['FiscalYear'] == '2017-10-01']"
   ]
  },
  {
   "cell_type": "code",
   "execution_count": 7,
   "metadata": {},
   "outputs": [],
   "source": [
    "flights.set_index('MissionDate', inplace=True)"
   ]
  },
  {
   "cell_type": "code",
   "execution_count": 8,
   "metadata": {},
   "outputs": [],
   "source": [
    "# table.columns = ['year', 'R-T', 'pickup_airport', 'dropoff_airport', 'passengers', 'flights']\n",
    "# all_kbfi = (table['pickup_airport'] == 'KBFI') | (table['dropoff_airport'] == 'KBFI')\n",
    "# table.to_csv('../output/flight_summary.csv.gz', index=False, compression='gzip', encoding='utf-8', sep='|')"
   ]
  },
  {
   "cell_type": "code",
   "execution_count": 9,
   "metadata": {},
   "outputs": [],
   "source": [
    "# flights = table\n",
    "# flights = table[all_kbfi]\n",
    "# flights = pd.read_csv('../output/flight_summary.csv.gz', compression='gzip', sep='|')\n",
    "# flights = pd.read_csv('../output/guatemala_transfers.csv.gz', compression='gzip', sep='|')"
   ]
  },
  {
   "cell_type": "code",
   "execution_count": 10,
   "metadata": {},
   "outputs": [],
   "source": [
    "# flights['pickup_airport'] = flights['pickup_airport'].str.upper()\n",
    "# flights['dropoff_airport'] = flights['dropoff_airport'].str.upper()\n",
    "# flights['pickup_airport'] = flights['PULOC'].str.upper()\n",
    "# flights['dropoff_airport'] = flights['DropLoc'].str.upper()"
   ]
  },
  {
   "cell_type": "code",
   "execution_count": 11,
   "metadata": {},
   "outputs": [],
   "source": [
    "flights_loc = set(pd.concat([flights['PULOC'], flights['DropLoc']]))"
   ]
  },
  {
   "cell_type": "code",
   "execution_count": 12,
   "metadata": {},
   "outputs": [],
   "source": [
    "bad_airports = ['KKBL']"
   ]
  },
  {
   "cell_type": "code",
   "execution_count": 13,
   "metadata": {},
   "outputs": [],
   "source": [
    "flights = flights[~flights['PULOC'].isin(bad_airports)]\n",
    "flights = flights[~flights['DropLoc'].isin(bad_airports)]"
   ]
  },
  {
   "cell_type": "code",
   "execution_count": 14,
   "metadata": {},
   "outputs": [],
   "source": [
    "# airports = pd.read_csv('../../share/hand/GlobalAirportDatabase.csv.gz', compression='gzip', sep='|')"
   ]
  },
  {
   "cell_type": "code",
   "execution_count": 15,
   "metadata": {},
   "outputs": [],
   "source": [
    "# airports.head()"
   ]
  },
  {
   "cell_type": "code",
   "execution_count": 16,
   "metadata": {},
   "outputs": [],
   "source": [
    "# airports_loc = set(airports['ICAOCode'])"
   ]
  },
  {
   "cell_type": "code",
   "execution_count": 17,
   "metadata": {},
   "outputs": [],
   "source": [
    "# airports.set_index('ICAOCode', inplace=True)"
   ]
  },
  {
   "cell_type": "code",
   "execution_count": 18,
   "metadata": {},
   "outputs": [],
   "source": [
    "# airports_missing_loc = ['FLKK', 'FWKI', 'KABQ', 'VTBS']"
   ]
  },
  {
   "cell_type": "code",
   "execution_count": 19,
   "metadata": {},
   "outputs": [],
   "source": [
    "# airports = airports[~airports.index.isin(['FLKK', 'FWKI', 'KABQ', 'VTBS'])]"
   ]
  },
  {
   "cell_type": "code",
   "execution_count": 20,
   "metadata": {},
   "outputs": [],
   "source": [
    "# additional_airports = pd.read_csv('../../share/hand/locations.csv', quotechar='\"')"
   ]
  },
  {
   "cell_type": "code",
   "execution_count": 21,
   "metadata": {},
   "outputs": [],
   "source": [
    "# additional_airports.columns = ['ICAOCode', 'CountryISO', 'State', 'City', 'LatitudeDecimalDegrees', 'LongitudeDecimalDegrees']\n",
    "# additional_airports.set_index('ICAOCode', inplace=True)\n",
    "# additional_airports.head()"
   ]
  },
  {
   "cell_type": "code",
   "execution_count": 22,
   "metadata": {},
   "outputs": [],
   "source": [
    "# missing_airports = list(flights_loc.difference(airports_loc))\n",
    "# missing_airports.extend(airports_missing_loc)"
   ]
  },
  {
   "cell_type": "code",
   "execution_count": 23,
   "metadata": {},
   "outputs": [],
   "source": [
    "# airports_2 = additional_airports[additional_airports.index.isin(missing_airports)].copy()"
   ]
  },
  {
   "cell_type": "code",
   "execution_count": 24,
   "metadata": {},
   "outputs": [],
   "source": [
    "# airports_2.head()"
   ]
  },
  {
   "cell_type": "code",
   "execution_count": 25,
   "metadata": {},
   "outputs": [],
   "source": [
    "# airports_2 = airports_2[['LatitudeDecimalDegrees', 'LongitudeDecimalDegrees']]"
   ]
  },
  {
   "cell_type": "code",
   "execution_count": 26,
   "metadata": {},
   "outputs": [],
   "source": [
    "# airports = pd.concat([airports, airports_2])"
   ]
  },
  {
   "cell_type": "code",
   "execution_count": 27,
   "metadata": {},
   "outputs": [],
   "source": [
    "# arts_airports = list(set(df['PULOC'].append(df['DropLoc'])))"
   ]
  },
  {
   "cell_type": "code",
   "execution_count": 28,
   "metadata": {},
   "outputs": [],
   "source": [
    "# airports_to_merge = airports[airports.index.isin(arts_airports)][['LatitudeDecimalDegrees', 'LongitudeDecimalDegrees']]\n",
    "\n",
    "# # "
   ]
  },
  {
   "cell_type": "code",
   "execution_count": 29,
   "metadata": {},
   "outputs": [],
   "source": [
    "# airports_to_merge.to_csv('../output/airports_to_merge.csv')"
   ]
  },
  {
   "cell_type": "code",
   "execution_count": 30,
   "metadata": {},
   "outputs": [],
   "source": [
    "# airports.head()"
   ]
  },
  {
   "cell_type": "code",
   "execution_count": 31,
   "metadata": {},
   "outputs": [],
   "source": [
    "edges = flights[['PULOC', 'DropLoc']].values"
   ]
  },
  {
   "cell_type": "code",
   "execution_count": 32,
   "metadata": {},
   "outputs": [
    {
     "data": {
      "text/plain": [
       "array([['KAEX', 'MHLM'],\n",
       "       ['KBFL', 'KSAN'],\n",
       "       ['KCSG', 'MSLP'],\n",
       "       ...,\n",
       "       ['KMSP', 'KAEX'],\n",
       "       ['KOMA', 'KAEX'],\n",
       "       ['KBRO', 'KAEX']], dtype=object)"
      ]
     },
     "execution_count": 32,
     "metadata": {},
     "output_type": "execute_result"
    }
   ],
   "source": [
    "edges"
   ]
  },
  {
   "cell_type": "code",
   "execution_count": 33,
   "metadata": {},
   "outputs": [],
   "source": [
    "g = nx.from_edgelist(edges)"
   ]
  },
  {
   "cell_type": "code",
   "execution_count": 34,
   "metadata": {},
   "outputs": [
    {
     "data": {
      "text/plain": [
       "(221, 721)"
      ]
     },
     "execution_count": 34,
     "metadata": {},
     "output_type": "execute_result"
    }
   ],
   "source": [
    "len(g.nodes()), len(g.edges())"
   ]
  },
  {
   "cell_type": "code",
   "execution_count": 35,
   "metadata": {},
   "outputs": [],
   "source": [
    "sg = next(nx.connected_component_subgraphs(g))"
   ]
  },
  {
   "cell_type": "code",
   "execution_count": 36,
   "metadata": {},
   "outputs": [
    {
     "data": {
      "text/plain": [
       "NodeView(('OLBA', 'KTEB'))"
      ]
     },
     "execution_count": 36,
     "metadata": {},
     "output_type": "execute_result"
    }
   ],
   "source": [
    "list(nx.connected_component_subgraphs(g))[1].nodes"
   ]
  },
  {
   "cell_type": "code",
   "execution_count": 37,
   "metadata": {},
   "outputs": [
    {
     "data": {
      "text/plain": [
       "NodeView(('NZWN', 'NFTF', 'YSSY', 'KSDM'))"
      ]
     },
     "execution_count": 37,
     "metadata": {},
     "output_type": "execute_result"
    }
   ],
   "source": [
    "list(nx.connected_component_subgraphs(g))[2].nodes"
   ]
  },
  {
   "cell_type": "code",
   "execution_count": 38,
   "metadata": {},
   "outputs": [
    {
     "data": {
      "text/plain": [
       "{'AirportName': 'Boeing Field King County International Airport',\n",
       " 'City': 'Seattle',\n",
       " 'Country': 'USA',\n",
       " 'LatitudeDecimalDegrees': 47.53,\n",
       " 'LongitudeDecimalDegrees': -122.302,\n",
       " 'State': 'WA'}"
      ]
     },
     "execution_count": 38,
     "metadata": {},
     "output_type": "execute_result"
    }
   ],
   "source": [
    "airport_dict['KBFI']"
   ]
  },
  {
   "cell_type": "code",
   "execution_count": 39,
   "metadata": {},
   "outputs": [],
   "source": [
    "pos = {airport: (v['LongitudeDecimalDegrees'], v['LatitudeDecimalDegrees'])\n",
    "       for airport, v in\n",
    "       airport_dict.items()}"
   ]
  },
  {
   "cell_type": "code",
   "execution_count": 40,
   "metadata": {},
   "outputs": [],
   "source": [
    "# Dropping unknown locations\n",
    "pos_unknown = {k:v for k, v in pos.items() if v == (0.0, 0.0)}"
   ]
  },
  {
   "cell_type": "code",
   "execution_count": 41,
   "metadata": {},
   "outputs": [],
   "source": [
    "# This is a dumb workaround to avoid issue with concatenating objects with different categories\n",
    "# Do something to set each airport code column to include all airports instead?\n",
    "flights['pickup'] = flights['PULOC'].astype(str)\n",
    "flights['dropoff'] = flights['DropLoc'].astype(str)"
   ]
  },
  {
   "cell_type": "code",
   "execution_count": 42,
   "metadata": {},
   "outputs": [],
   "source": [
    "airport_vars = pd.read_csv('../output/all_airport_vars.csv', index_col='Unnamed: 0')"
   ]
  },
  {
   "cell_type": "code",
   "execution_count": 43,
   "metadata": {},
   "outputs": [
    {
     "data": {
      "text/html": [
       "<div>\n",
       "<style scoped>\n",
       "    .dataframe tbody tr th:only-of-type {\n",
       "        vertical-align: middle;\n",
       "    }\n",
       "\n",
       "    .dataframe tbody tr th {\n",
       "        vertical-align: top;\n",
       "    }\n",
       "\n",
       "    .dataframe thead th {\n",
       "        text-align: right;\n",
       "    }\n",
       "</style>\n",
       "<table border=\"1\" class=\"dataframe\">\n",
       "  <thead>\n",
       "    <tr style=\"text-align: right;\">\n",
       "      <th></th>\n",
       "      <th>Airport Name</th>\n",
       "      <th>City</th>\n",
       "      <th>Country</th>\n",
       "      <th>Latitude</th>\n",
       "      <th>Longitude</th>\n",
       "      <th>Removal Percent</th>\n",
       "      <th>State</th>\n",
       "      <th>Total Dropoff Flights</th>\n",
       "      <th>Total Dropoffs</th>\n",
       "      <th>Total Flights</th>\n",
       "      <th>Total Passengers</th>\n",
       "      <th>Total Pickup Flights</th>\n",
       "      <th>Total Pickups</th>\n",
       "      <th>Total Removals</th>\n",
       "      <th>Total Transfers</th>\n",
       "      <th>Transfer Percent</th>\n",
       "    </tr>\n",
       "  </thead>\n",
       "  <tbody>\n",
       "    <tr>\n",
       "      <th>VVTS</th>\n",
       "      <td>Tan So'n Nhat International Airport</td>\n",
       "      <td>Ho Chi Minh</td>\n",
       "      <td>Vietnam</td>\n",
       "      <td>10.820</td>\n",
       "      <td>106.662</td>\n",
       "      <td>100.0</td>\n",
       "      <td>NaN</td>\n",
       "      <td>5</td>\n",
       "      <td>73</td>\n",
       "      <td>5</td>\n",
       "      <td>73</td>\n",
       "      <td>0</td>\n",
       "      <td>0</td>\n",
       "      <td>73</td>\n",
       "      <td>0</td>\n",
       "      <td>0.0</td>\n",
       "    </tr>\n",
       "    <tr>\n",
       "      <th>VYYY</th>\n",
       "      <td>Yangon International Airport</td>\n",
       "      <td>Yangon</td>\n",
       "      <td>Myanmar</td>\n",
       "      <td>16.907</td>\n",
       "      <td>96.133</td>\n",
       "      <td>100.0</td>\n",
       "      <td>NaN</td>\n",
       "      <td>1</td>\n",
       "      <td>7</td>\n",
       "      <td>1</td>\n",
       "      <td>7</td>\n",
       "      <td>0</td>\n",
       "      <td>0</td>\n",
       "      <td>7</td>\n",
       "      <td>0</td>\n",
       "      <td>0.0</td>\n",
       "    </tr>\n",
       "    <tr>\n",
       "      <th>YSSY</th>\n",
       "      <td>Sydney Kingsford Smith Airport</td>\n",
       "      <td>Sydney</td>\n",
       "      <td>Australia</td>\n",
       "      <td>-33.946</td>\n",
       "      <td>151.177</td>\n",
       "      <td>100.0</td>\n",
       "      <td>NaN</td>\n",
       "      <td>1</td>\n",
       "      <td>2</td>\n",
       "      <td>1</td>\n",
       "      <td>2</td>\n",
       "      <td>0</td>\n",
       "      <td>0</td>\n",
       "      <td>2</td>\n",
       "      <td>0</td>\n",
       "      <td>0.0</td>\n",
       "    </tr>\n",
       "    <tr>\n",
       "      <th>ZBAA</th>\n",
       "      <td>Beijing Capital International Airport</td>\n",
       "      <td>Beijing</td>\n",
       "      <td>China</td>\n",
       "      <td>40.080</td>\n",
       "      <td>116.584</td>\n",
       "      <td>100.0</td>\n",
       "      <td>NaN</td>\n",
       "      <td>1</td>\n",
       "      <td>6</td>\n",
       "      <td>1</td>\n",
       "      <td>6</td>\n",
       "      <td>0</td>\n",
       "      <td>0</td>\n",
       "      <td>6</td>\n",
       "      <td>0</td>\n",
       "      <td>0.0</td>\n",
       "    </tr>\n",
       "    <tr>\n",
       "      <th>ZSFZ</th>\n",
       "      <td>Fuzhou Changle International Airport</td>\n",
       "      <td>Fuzhou</td>\n",
       "      <td>China</td>\n",
       "      <td>25.933</td>\n",
       "      <td>119.662</td>\n",
       "      <td>100.0</td>\n",
       "      <td>NaN</td>\n",
       "      <td>4</td>\n",
       "      <td>156</td>\n",
       "      <td>4</td>\n",
       "      <td>156</td>\n",
       "      <td>0</td>\n",
       "      <td>0</td>\n",
       "      <td>156</td>\n",
       "      <td>0</td>\n",
       "      <td>0.0</td>\n",
       "    </tr>\n",
       "  </tbody>\n",
       "</table>\n",
       "</div>"
      ],
      "text/plain": [
       "                               Airport Name         City    Country  Latitude  \\\n",
       "VVTS    Tan So'n Nhat International Airport  Ho Chi Minh    Vietnam    10.820   \n",
       "VYYY           Yangon International Airport       Yangon    Myanmar    16.907   \n",
       "YSSY         Sydney Kingsford Smith Airport       Sydney  Australia   -33.946   \n",
       "ZBAA  Beijing Capital International Airport      Beijing      China    40.080   \n",
       "ZSFZ   Fuzhou Changle International Airport       Fuzhou      China    25.933   \n",
       "\n",
       "      Longitude  Removal Percent State  Total Dropoff Flights  Total Dropoffs  \\\n",
       "VVTS    106.662            100.0   NaN                      5              73   \n",
       "VYYY     96.133            100.0   NaN                      1               7   \n",
       "YSSY    151.177            100.0   NaN                      1               2   \n",
       "ZBAA    116.584            100.0   NaN                      1               6   \n",
       "ZSFZ    119.662            100.0   NaN                      4             156   \n",
       "\n",
       "      Total Flights  Total Passengers  Total Pickup Flights  Total Pickups  \\\n",
       "VVTS              5                73                     0              0   \n",
       "VYYY              1                 7                     0              0   \n",
       "YSSY              1                 2                     0              0   \n",
       "ZBAA              1                 6                     0              0   \n",
       "ZSFZ              4               156                     0              0   \n",
       "\n",
       "      Total Removals  Total Transfers  Transfer Percent  \n",
       "VVTS              73                0               0.0  \n",
       "VYYY               7                0               0.0  \n",
       "YSSY               2                0               0.0  \n",
       "ZBAA               6                0               0.0  \n",
       "ZSFZ             156                0               0.0  "
      ]
     },
     "execution_count": 43,
     "metadata": {},
     "output_type": "execute_result"
    }
   ],
   "source": [
    "airport_vars.tail()"
   ]
  },
  {
   "cell_type": "code",
   "execution_count": 44,
   "metadata": {},
   "outputs": [],
   "source": [
    "# khrl_kbro_avg = (airport_vars.loc['KHRL', 'removal_percent'] + airport_vars.loc['KBRO', 'removal_percent'])/2"
   ]
  },
  {
   "cell_type": "code",
   "execution_count": 45,
   "metadata": {},
   "outputs": [],
   "source": [
    "# airport_vars.loc['KHRL-KBRO', 'removal_percent'] = khrl_kbro_avg"
   ]
  },
  {
   "cell_type": "code",
   "execution_count": 46,
   "metadata": {},
   "outputs": [],
   "source": [
    "# airport_vars.loc['KBFI', 'removal_percent']"
   ]
  },
  {
   "cell_type": "code",
   "execution_count": 47,
   "metadata": {},
   "outputs": [],
   "source": [
    "pickup_totals = flights.groupby('pickup')['AlienMasterID'].sum()\n",
    "dropoff_totals = flights.groupby('dropoff')['AlienMasterID'].sum()"
   ]
  },
  {
   "cell_type": "code",
   "execution_count": 48,
   "metadata": {},
   "outputs": [],
   "source": [
    "passenger_totals = pd.concat([pickup_totals, dropoff_totals])"
   ]
  },
  {
   "cell_type": "code",
   "execution_count": 49,
   "metadata": {},
   "outputs": [
    {
     "data": {
      "text/plain": [
       "273673"
      ]
     },
     "execution_count": 49,
     "metadata": {},
     "output_type": "execute_result"
    }
   ],
   "source": [
    "passenger_totals['KHRL'].sum()"
   ]
  },
  {
   "cell_type": "code",
   "execution_count": 50,
   "metadata": {},
   "outputs": [
    {
     "data": {
      "text/plain": [
       "271328"
      ]
     },
     "execution_count": 50,
     "metadata": {},
     "output_type": "execute_result"
    }
   ],
   "source": [
    "passenger_totals['KBRO'].sum()"
   ]
  },
  {
   "cell_type": "code",
   "execution_count": 51,
   "metadata": {},
   "outputs": [],
   "source": [
    "passenger_totals['KHRL-KBRO'] = passenger_totals['KHRL'].sum() + passenger_totals['KBRO'].sum()"
   ]
  },
  {
   "cell_type": "code",
   "execution_count": 52,
   "metadata": {},
   "outputs": [
    {
     "data": {
      "text/plain": [
       "545001"
      ]
     },
     "execution_count": 52,
     "metadata": {},
     "output_type": "execute_result"
    }
   ],
   "source": [
    "passenger_totals['KHRL-KBRO']"
   ]
  },
  {
   "cell_type": "code",
   "execution_count": 53,
   "metadata": {},
   "outputs": [],
   "source": [
    "pos['KHRL-KBRO'] = pos['KHRL']"
   ]
  },
  {
   "cell_type": "code",
   "execution_count": 54,
   "metadata": {},
   "outputs": [],
   "source": [
    "passenger_totals = passenger_totals.drop(['KHRL', 'KBRO'])"
   ]
  },
  {
   "cell_type": "code",
   "execution_count": 55,
   "metadata": {},
   "outputs": [
    {
     "data": {
      "text/plain": [
       "3465176"
      ]
     },
     "execution_count": 55,
     "metadata": {},
     "output_type": "execute_result"
    }
   ],
   "source": [
    "passenger_totals.sum()"
   ]
  },
  {
   "cell_type": "code",
   "execution_count": 56,
   "metadata": {},
   "outputs": [],
   "source": [
    "sg = nx.contracted_nodes(sg, 'KHRL', 'KBRO')"
   ]
  },
  {
   "cell_type": "code",
   "execution_count": 57,
   "metadata": {},
   "outputs": [],
   "source": [
    "sg = nx.relabel_nodes(sg, {'KHRL': 'KHRL-KBRO'})"
   ]
  },
  {
   "cell_type": "code",
   "execution_count": 58,
   "metadata": {},
   "outputs": [
    {
     "data": {
      "text/plain": [
       "False"
      ]
     },
     "execution_count": 58,
     "metadata": {},
     "output_type": "execute_result"
    }
   ],
   "source": [
    "'KBRO' in sg.nodes"
   ]
  },
  {
   "cell_type": "code",
   "execution_count": 59,
   "metadata": {},
   "outputs": [],
   "source": [
    "passenger_total = pd.Series(passenger_totals[icao].sum() for icao in sg.nodes)"
   ]
  },
  {
   "cell_type": "code",
   "execution_count": 60,
   "metadata": {},
   "outputs": [
    {
     "ename": "KeyError",
     "evalue": "'the label [removal_percent] is not in the [index]'",
     "output_type": "error",
     "traceback": [
      "\u001b[0;31m---------------------------------------------------------------------------\u001b[0m",
      "\u001b[0;31mKeyError\u001b[0m                                  Traceback (most recent call last)",
      "\u001b[0;32m~/anaconda3/lib/python3.7/site-packages/pandas/core/indexing.py\u001b[0m in \u001b[0;36m_validate_key\u001b[0;34m(self, key, axis)\u001b[0m\n\u001b[1;32m   1789\u001b[0m                 \u001b[0;32mif\u001b[0m \u001b[0;32mnot\u001b[0m \u001b[0max\u001b[0m\u001b[0;34m.\u001b[0m\u001b[0mcontains\u001b[0m\u001b[0;34m(\u001b[0m\u001b[0mkey\u001b[0m\u001b[0;34m)\u001b[0m\u001b[0;34m:\u001b[0m\u001b[0;34m\u001b[0m\u001b[0;34m\u001b[0m\u001b[0m\n\u001b[0;32m-> 1790\u001b[0;31m                     \u001b[0merror\u001b[0m\u001b[0;34m(\u001b[0m\u001b[0;34m)\u001b[0m\u001b[0;34m\u001b[0m\u001b[0;34m\u001b[0m\u001b[0m\n\u001b[0m\u001b[1;32m   1791\u001b[0m             \u001b[0;32mexcept\u001b[0m \u001b[0mTypeError\u001b[0m \u001b[0;32mas\u001b[0m \u001b[0me\u001b[0m\u001b[0;34m:\u001b[0m\u001b[0;34m\u001b[0m\u001b[0;34m\u001b[0m\u001b[0m\n",
      "\u001b[0;32m~/anaconda3/lib/python3.7/site-packages/pandas/core/indexing.py\u001b[0m in \u001b[0;36merror\u001b[0;34m()\u001b[0m\n\u001b[1;32m   1784\u001b[0m                                .format(key=key,\n\u001b[0;32m-> 1785\u001b[0;31m                                        axis=self.obj._get_axis_name(axis)))\n\u001b[0m\u001b[1;32m   1786\u001b[0m \u001b[0;34m\u001b[0m\u001b[0m\n",
      "\u001b[0;31mKeyError\u001b[0m: 'the label [removal_percent] is not in the [index]'",
      "\nDuring handling of the above exception, another exception occurred:\n",
      "\u001b[0;31mKeyError\u001b[0m                                  Traceback (most recent call last)",
      "\u001b[0;32m<ipython-input-60-ce31d171f7e3>\u001b[0m in \u001b[0;36m<module>\u001b[0;34m\u001b[0m\n\u001b[0;32m----> 1\u001b[0;31m \u001b[0mremoval_percent\u001b[0m \u001b[0;34m=\u001b[0m \u001b[0mpd\u001b[0m\u001b[0;34m.\u001b[0m\u001b[0mSeries\u001b[0m\u001b[0;34m(\u001b[0m\u001b[0mairport_vars\u001b[0m\u001b[0;34m.\u001b[0m\u001b[0mloc\u001b[0m\u001b[0;34m[\u001b[0m\u001b[0micao\u001b[0m\u001b[0;34m,\u001b[0m \u001b[0;34m'removal_percent'\u001b[0m\u001b[0;34m]\u001b[0m \u001b[0;34m*\u001b[0m \u001b[0;36m100\u001b[0m \u001b[0;32mfor\u001b[0m \u001b[0micao\u001b[0m \u001b[0;32min\u001b[0m \u001b[0msg\u001b[0m\u001b[0;34m.\u001b[0m\u001b[0mnodes\u001b[0m\u001b[0;34m)\u001b[0m\u001b[0;34m\u001b[0m\u001b[0;34m\u001b[0m\u001b[0m\n\u001b[0m",
      "\u001b[0;32m~/anaconda3/lib/python3.7/site-packages/pandas/core/series.py\u001b[0m in \u001b[0;36m__init__\u001b[0;34m(self, data, index, dtype, name, copy, fastpath)\u001b[0m\n\u001b[1;32m    237\u001b[0m             elif (isinstance(data, types.GeneratorType) or\n\u001b[1;32m    238\u001b[0m                   (compat.PY3 and isinstance(data, map))):\n\u001b[0;32m--> 239\u001b[0;31m                 \u001b[0mdata\u001b[0m \u001b[0;34m=\u001b[0m \u001b[0mlist\u001b[0m\u001b[0;34m(\u001b[0m\u001b[0mdata\u001b[0m\u001b[0;34m)\u001b[0m\u001b[0;34m\u001b[0m\u001b[0;34m\u001b[0m\u001b[0m\n\u001b[0m\u001b[1;32m    240\u001b[0m             \u001b[0;32melif\u001b[0m \u001b[0misinstance\u001b[0m\u001b[0;34m(\u001b[0m\u001b[0mdata\u001b[0m\u001b[0;34m,\u001b[0m \u001b[0;34m(\u001b[0m\u001b[0mset\u001b[0m\u001b[0;34m,\u001b[0m \u001b[0mfrozenset\u001b[0m\u001b[0;34m)\u001b[0m\u001b[0;34m)\u001b[0m\u001b[0;34m:\u001b[0m\u001b[0;34m\u001b[0m\u001b[0;34m\u001b[0m\u001b[0m\n\u001b[1;32m    241\u001b[0m                 raise TypeError(\"{0!r} type is unordered\"\n",
      "\u001b[0;32m<ipython-input-60-ce31d171f7e3>\u001b[0m in \u001b[0;36m<genexpr>\u001b[0;34m(.0)\u001b[0m\n\u001b[0;32m----> 1\u001b[0;31m \u001b[0mremoval_percent\u001b[0m \u001b[0;34m=\u001b[0m \u001b[0mpd\u001b[0m\u001b[0;34m.\u001b[0m\u001b[0mSeries\u001b[0m\u001b[0;34m(\u001b[0m\u001b[0mairport_vars\u001b[0m\u001b[0;34m.\u001b[0m\u001b[0mloc\u001b[0m\u001b[0;34m[\u001b[0m\u001b[0micao\u001b[0m\u001b[0;34m,\u001b[0m \u001b[0;34m'removal_percent'\u001b[0m\u001b[0;34m]\u001b[0m \u001b[0;34m*\u001b[0m \u001b[0;36m100\u001b[0m \u001b[0;32mfor\u001b[0m \u001b[0micao\u001b[0m \u001b[0;32min\u001b[0m \u001b[0msg\u001b[0m\u001b[0;34m.\u001b[0m\u001b[0mnodes\u001b[0m\u001b[0;34m)\u001b[0m\u001b[0;34m\u001b[0m\u001b[0;34m\u001b[0m\u001b[0m\n\u001b[0m",
      "\u001b[0;32m~/anaconda3/lib/python3.7/site-packages/pandas/core/indexing.py\u001b[0m in \u001b[0;36m__getitem__\u001b[0;34m(self, key)\u001b[0m\n\u001b[1;32m   1470\u001b[0m             \u001b[0;32mexcept\u001b[0m \u001b[0;34m(\u001b[0m\u001b[0mKeyError\u001b[0m\u001b[0;34m,\u001b[0m \u001b[0mIndexError\u001b[0m\u001b[0;34m)\u001b[0m\u001b[0;34m:\u001b[0m\u001b[0;34m\u001b[0m\u001b[0;34m\u001b[0m\u001b[0m\n\u001b[1;32m   1471\u001b[0m                 \u001b[0;32mpass\u001b[0m\u001b[0;34m\u001b[0m\u001b[0;34m\u001b[0m\u001b[0m\n\u001b[0;32m-> 1472\u001b[0;31m             \u001b[0;32mreturn\u001b[0m \u001b[0mself\u001b[0m\u001b[0;34m.\u001b[0m\u001b[0m_getitem_tuple\u001b[0m\u001b[0;34m(\u001b[0m\u001b[0mkey\u001b[0m\u001b[0;34m)\u001b[0m\u001b[0;34m\u001b[0m\u001b[0;34m\u001b[0m\u001b[0m\n\u001b[0m\u001b[1;32m   1473\u001b[0m         \u001b[0;32melse\u001b[0m\u001b[0;34m:\u001b[0m\u001b[0;34m\u001b[0m\u001b[0;34m\u001b[0m\u001b[0m\n\u001b[1;32m   1474\u001b[0m             \u001b[0;31m# we by definition only have the 0th axis\u001b[0m\u001b[0;34m\u001b[0m\u001b[0;34m\u001b[0m\u001b[0;34m\u001b[0m\u001b[0m\n",
      "\u001b[0;32m~/anaconda3/lib/python3.7/site-packages/pandas/core/indexing.py\u001b[0m in \u001b[0;36m_getitem_tuple\u001b[0;34m(self, tup)\u001b[0m\n\u001b[1;32m    868\u001b[0m     \u001b[0;32mdef\u001b[0m \u001b[0m_getitem_tuple\u001b[0m\u001b[0;34m(\u001b[0m\u001b[0mself\u001b[0m\u001b[0;34m,\u001b[0m \u001b[0mtup\u001b[0m\u001b[0;34m)\u001b[0m\u001b[0;34m:\u001b[0m\u001b[0;34m\u001b[0m\u001b[0;34m\u001b[0m\u001b[0m\n\u001b[1;32m    869\u001b[0m         \u001b[0;32mtry\u001b[0m\u001b[0;34m:\u001b[0m\u001b[0;34m\u001b[0m\u001b[0;34m\u001b[0m\u001b[0m\n\u001b[0;32m--> 870\u001b[0;31m             \u001b[0;32mreturn\u001b[0m \u001b[0mself\u001b[0m\u001b[0;34m.\u001b[0m\u001b[0m_getitem_lowerdim\u001b[0m\u001b[0;34m(\u001b[0m\u001b[0mtup\u001b[0m\u001b[0;34m)\u001b[0m\u001b[0;34m\u001b[0m\u001b[0;34m\u001b[0m\u001b[0m\n\u001b[0m\u001b[1;32m    871\u001b[0m         \u001b[0;32mexcept\u001b[0m \u001b[0mIndexingError\u001b[0m\u001b[0;34m:\u001b[0m\u001b[0;34m\u001b[0m\u001b[0;34m\u001b[0m\u001b[0m\n\u001b[1;32m    872\u001b[0m             \u001b[0;32mpass\u001b[0m\u001b[0;34m\u001b[0m\u001b[0;34m\u001b[0m\u001b[0m\n",
      "\u001b[0;32m~/anaconda3/lib/python3.7/site-packages/pandas/core/indexing.py\u001b[0m in \u001b[0;36m_getitem_lowerdim\u001b[0;34m(self, tup)\u001b[0m\n\u001b[1;32m   1025\u001b[0m                     \u001b[0;32mreturn\u001b[0m \u001b[0msection\u001b[0m\u001b[0;34m\u001b[0m\u001b[0;34m\u001b[0m\u001b[0m\n\u001b[1;32m   1026\u001b[0m                 \u001b[0;31m# This is an elided recursive call to iloc/loc/etc'\u001b[0m\u001b[0;34m\u001b[0m\u001b[0;34m\u001b[0m\u001b[0;34m\u001b[0m\u001b[0m\n\u001b[0;32m-> 1027\u001b[0;31m                 \u001b[0;32mreturn\u001b[0m \u001b[0mgetattr\u001b[0m\u001b[0;34m(\u001b[0m\u001b[0msection\u001b[0m\u001b[0;34m,\u001b[0m \u001b[0mself\u001b[0m\u001b[0;34m.\u001b[0m\u001b[0mname\u001b[0m\u001b[0;34m)\u001b[0m\u001b[0;34m[\u001b[0m\u001b[0mnew_key\u001b[0m\u001b[0;34m]\u001b[0m\u001b[0;34m\u001b[0m\u001b[0;34m\u001b[0m\u001b[0m\n\u001b[0m\u001b[1;32m   1028\u001b[0m \u001b[0;34m\u001b[0m\u001b[0m\n\u001b[1;32m   1029\u001b[0m         \u001b[0;32mraise\u001b[0m \u001b[0mIndexingError\u001b[0m\u001b[0;34m(\u001b[0m\u001b[0;34m'not applicable'\u001b[0m\u001b[0;34m)\u001b[0m\u001b[0;34m\u001b[0m\u001b[0;34m\u001b[0m\u001b[0m\n",
      "\u001b[0;32m~/anaconda3/lib/python3.7/site-packages/pandas/core/indexing.py\u001b[0m in \u001b[0;36m__getitem__\u001b[0;34m(self, key)\u001b[0m\n\u001b[1;32m   1476\u001b[0m \u001b[0;34m\u001b[0m\u001b[0m\n\u001b[1;32m   1477\u001b[0m             \u001b[0mmaybe_callable\u001b[0m \u001b[0;34m=\u001b[0m \u001b[0mcom\u001b[0m\u001b[0;34m.\u001b[0m\u001b[0m_apply_if_callable\u001b[0m\u001b[0;34m(\u001b[0m\u001b[0mkey\u001b[0m\u001b[0;34m,\u001b[0m \u001b[0mself\u001b[0m\u001b[0;34m.\u001b[0m\u001b[0mobj\u001b[0m\u001b[0;34m)\u001b[0m\u001b[0;34m\u001b[0m\u001b[0;34m\u001b[0m\u001b[0m\n\u001b[0;32m-> 1478\u001b[0;31m             \u001b[0;32mreturn\u001b[0m \u001b[0mself\u001b[0m\u001b[0;34m.\u001b[0m\u001b[0m_getitem_axis\u001b[0m\u001b[0;34m(\u001b[0m\u001b[0mmaybe_callable\u001b[0m\u001b[0;34m,\u001b[0m \u001b[0maxis\u001b[0m\u001b[0;34m=\u001b[0m\u001b[0maxis\u001b[0m\u001b[0;34m)\u001b[0m\u001b[0;34m\u001b[0m\u001b[0;34m\u001b[0m\u001b[0m\n\u001b[0m\u001b[1;32m   1479\u001b[0m \u001b[0;34m\u001b[0m\u001b[0m\n\u001b[1;32m   1480\u001b[0m     \u001b[0;32mdef\u001b[0m \u001b[0m_is_scalar_access\u001b[0m\u001b[0;34m(\u001b[0m\u001b[0mself\u001b[0m\u001b[0;34m,\u001b[0m \u001b[0mkey\u001b[0m\u001b[0;34m)\u001b[0m\u001b[0;34m:\u001b[0m\u001b[0;34m\u001b[0m\u001b[0;34m\u001b[0m\u001b[0m\n",
      "\u001b[0;32m~/anaconda3/lib/python3.7/site-packages/pandas/core/indexing.py\u001b[0m in \u001b[0;36m_getitem_axis\u001b[0;34m(self, key, axis)\u001b[0m\n\u001b[1;32m   1909\u001b[0m \u001b[0;34m\u001b[0m\u001b[0m\n\u001b[1;32m   1910\u001b[0m         \u001b[0;31m# fall thru to straight lookup\u001b[0m\u001b[0;34m\u001b[0m\u001b[0;34m\u001b[0m\u001b[0;34m\u001b[0m\u001b[0m\n\u001b[0;32m-> 1911\u001b[0;31m         \u001b[0mself\u001b[0m\u001b[0;34m.\u001b[0m\u001b[0m_validate_key\u001b[0m\u001b[0;34m(\u001b[0m\u001b[0mkey\u001b[0m\u001b[0;34m,\u001b[0m \u001b[0maxis\u001b[0m\u001b[0;34m)\u001b[0m\u001b[0;34m\u001b[0m\u001b[0;34m\u001b[0m\u001b[0m\n\u001b[0m\u001b[1;32m   1912\u001b[0m         \u001b[0;32mreturn\u001b[0m \u001b[0mself\u001b[0m\u001b[0;34m.\u001b[0m\u001b[0m_get_label\u001b[0m\u001b[0;34m(\u001b[0m\u001b[0mkey\u001b[0m\u001b[0;34m,\u001b[0m \u001b[0maxis\u001b[0m\u001b[0;34m=\u001b[0m\u001b[0maxis\u001b[0m\u001b[0;34m)\u001b[0m\u001b[0;34m\u001b[0m\u001b[0;34m\u001b[0m\u001b[0m\n\u001b[1;32m   1913\u001b[0m \u001b[0;34m\u001b[0m\u001b[0m\n",
      "\u001b[0;32m~/anaconda3/lib/python3.7/site-packages/pandas/core/indexing.py\u001b[0m in \u001b[0;36m_validate_key\u001b[0;34m(self, key, axis)\u001b[0m\n\u001b[1;32m   1796\u001b[0m                 \u001b[0;32mraise\u001b[0m\u001b[0;34m\u001b[0m\u001b[0;34m\u001b[0m\u001b[0m\n\u001b[1;32m   1797\u001b[0m             \u001b[0;32mexcept\u001b[0m\u001b[0;34m:\u001b[0m\u001b[0;34m\u001b[0m\u001b[0;34m\u001b[0m\u001b[0m\n\u001b[0;32m-> 1798\u001b[0;31m                 \u001b[0merror\u001b[0m\u001b[0;34m(\u001b[0m\u001b[0;34m)\u001b[0m\u001b[0;34m\u001b[0m\u001b[0;34m\u001b[0m\u001b[0m\n\u001b[0m\u001b[1;32m   1799\u001b[0m \u001b[0;34m\u001b[0m\u001b[0m\n\u001b[1;32m   1800\u001b[0m     \u001b[0;32mdef\u001b[0m \u001b[0m_is_scalar_access\u001b[0m\u001b[0;34m(\u001b[0m\u001b[0mself\u001b[0m\u001b[0;34m,\u001b[0m \u001b[0mkey\u001b[0m\u001b[0;34m)\u001b[0m\u001b[0;34m:\u001b[0m\u001b[0;34m\u001b[0m\u001b[0;34m\u001b[0m\u001b[0m\n",
      "\u001b[0;32m~/anaconda3/lib/python3.7/site-packages/pandas/core/indexing.py\u001b[0m in \u001b[0;36merror\u001b[0;34m()\u001b[0m\n\u001b[1;32m   1783\u001b[0m                 raise KeyError(u\"the label [{key}] is not in the [{axis}]\"\n\u001b[1;32m   1784\u001b[0m                                .format(key=key,\n\u001b[0;32m-> 1785\u001b[0;31m                                        axis=self.obj._get_axis_name(axis)))\n\u001b[0m\u001b[1;32m   1786\u001b[0m \u001b[0;34m\u001b[0m\u001b[0m\n\u001b[1;32m   1787\u001b[0m             \u001b[0;32mtry\u001b[0m\u001b[0;34m:\u001b[0m\u001b[0;34m\u001b[0m\u001b[0;34m\u001b[0m\u001b[0m\n",
      "\u001b[0;31mKeyError\u001b[0m: 'the label [removal_percent] is not in the [index]'"
     ]
    }
   ],
   "source": [
    "removal_percent = pd.Series(airport_vars.loc[icao, 'removal_percent'] * 100 for icao in sg.nodes)"
   ]
  },
  {
   "cell_type": "code",
   "execution_count": null,
   "metadata": {},
   "outputs": [],
   "source": [
    "deg = nx.degree(sg)\n",
    "sizes = [passenger_totals[icao].sum() / 500 for icao in sg.nodes]"
   ]
  },
  {
   "cell_type": "code",
   "execution_count": null,
   "metadata": {},
   "outputs": [],
   "source": [
    "passenger_total.index = sg.nodes"
   ]
  },
  {
   "cell_type": "code",
   "execution_count": null,
   "metadata": {},
   "outputs": [],
   "source": [
    "top_10_list = list(passenger_total.sort_values(ascending=False).head(10).index)"
   ]
  },
  {
   "cell_type": "code",
   "execution_count": null,
   "metadata": {},
   "outputs": [],
   "source": [
    "top_10_list"
   ]
  },
  {
   "cell_type": "code",
   "execution_count": null,
   "metadata": {},
   "outputs": [],
   "source": [
    "labels = {icao: icao if passenger_totals[icao].sum() >= 35000 else ''\n",
    "          for icao in sg.nodes}\n",
    "no_labels = {icao: '' for icao in sg.nodes}\n",
    "top_10 = {icao: icao if icao in top_10_list else ''\n",
    "          for icao in sg.nodes}"
   ]
  },
  {
   "cell_type": "code",
   "execution_count": null,
   "metadata": {},
   "outputs": [],
   "source": [
    "pos['HKJK']"
   ]
  },
  {
   "cell_type": "code",
   "execution_count": null,
   "metadata": {},
   "outputs": [],
   "source": [
    "# Map projection\n",
    "crs = ccrs.PlateCarree(central_longitude=0)\n",
    "\n",
    "fig, ax = plt.subplots(\n",
    "    1, 1, figsize=(12, 8),\n",
    "    subplot_kw=dict(projection=crs))\n",
    "# ax.stock_img()\n",
    "ax.coastlines(alpha=.5)\n",
    "ax.add_feature(cfeature.BORDERS, alpha=.5)\n",
    "ax.add_feature(cfeature.STATES, alpha=.2)\n",
    "\n",
    "# Extent of continental US.\n",
    "ax.set_extent([-128, -62, 10, 50])\n",
    "# Global\n",
    "# ax.set_extent(ax.get_extent(crs))\n",
    "\n",
    "cmap = plt.cm.viridis\n",
    "\n",
    "nx.draw_networkx(sg, ax=ax,\n",
    "                 font_size=16,\n",
    "                 alpha=1,\n",
    "                 width=.075,\n",
    "                 node_size=sizes,\n",
    "                 node_color=passenger_total,\n",
    "                 labels=top_10,\n",
    "                 pos=pos,\n",
    "                 cmap=cmap)\n",
    "\n",
    "vmin = passenger_total.min()\n",
    "vmax = passenger_total.max()\n",
    "\n",
    "l1 = plt.scatter([0],[0], s=(50000/500), c=[list(np.array(cmap(50000 / vmax)))], cmap=cmap, edgecolors='none')\n",
    "l2 = plt.scatter([0],[0], s=(200000/500), c=[list(np.array(cmap(200000 / vmax)))], cmap=cmap, edgecolors='none')\n",
    "l3 = plt.scatter([0],[0], s=(350000/500), c=[list(np.array(cmap(350000 / vmax)))], cmap=cmap, edgecolors='none')\n",
    "l4 = plt.scatter([0],[0], s=(550000/500), c=[list(np.array(cmap(550000 / vmax)))], cmap=cmap, edgecolors='none')\n",
    "\n",
    "labels = [\"50K\", \"150K\", \"350K\", \"550K\"]\n",
    "\n",
    "lgd = plt.legend([l1, l2, l3, l4], labels, ncol=4, frameon=True, fontsize=12,\n",
    "handlelength=2, loc = 9, borderpad = 1,\n",
    "handletextpad=1, title='Total passengers', scatterpoints = 1)\n",
    "\n",
    "\n",
    "sm = plt.cm.ScalarMappable(cmap=cmap, norm=plt.Normalize(vmin = vmin, vmax=vmax))\n",
    "sm._A = []\n",
    "plt.colorbar(sm, shrink=.8)\n",
    "plt.title(\"ICE Air: Total passengers per airport and flight paths\", size=18)\n",
    "\n",
    "msg = \"(KHRL & KBRO airports combined for clarity)\"\n",
    "txt = plt.figtext(0.29, 0.2, msg, wrap=True, horizontalalignment='center', fontsize=12)\n",
    "\n",
    "msg = '(Source: UW Center for Human Rights, ICE Air ARTS database)'\n",
    "txt = plt.figtext(0.65, .125, msg, wrap=True, horizontalalignment='center', fontsize=12)\n",
    "\n",
    "fig.savefig(f'../output/map-total-passengers.png', dpi=100, bbox_extra_artists=(lgd,txt), bbox_inches='tight')\n",
    "\n",
    "plt.show()"
   ]
  },
  {
   "cell_type": "code",
   "execution_count": null,
   "metadata": {},
   "outputs": [],
   "source": [
    "# Map projection\n",
    "crs = ccrs.PlateCarree(central_longitude=0.0)\n",
    "\n",
    "fig, ax = plt.subplots(\n",
    "    1, 1, figsize=(12, 8),\n",
    "    subplot_kw=dict(projection=crs))\n",
    "# ax.stock_img()\n",
    "ax.coastlines(alpha=.5)\n",
    "ax.add_feature(cfeature.BORDERS, alpha=.5)\n",
    "ax.add_feature(cfeature.STATES, alpha=.2)\n",
    "\n",
    "# Extent of continental US.\n",
    "ax.set_extent([-128, -62, 10, 50])\n",
    "# Global\n",
    "# ax.set_extent([-180, 180, -60, 90])\n",
    "\n",
    "cmap = plt.cm.viridis\n",
    "\n",
    "nx.draw_networkx(sg, ax=ax,\n",
    "                 font_size=16,\n",
    "                 alpha=1,\n",
    "                 width=0.05,\n",
    "                 node_size=sizes,\n",
    "                 node_color=removal_percent,\n",
    "                 labels=no_labels,\n",
    "                 pos=pos,\n",
    "                 cmap=cmap)\n",
    "\n",
    "sm = plt.cm.ScalarMappable(cmap=cmap, norm=plt.Normalize(vmin = 0, vmax=100))\n",
    "sm._A = []\n",
    "plt.colorbar(sm, shrink=.8)\n",
    "plt.title(\"Removals as percent of passengers for ICE Air airports\", size=18)\n",
    "\n",
    "txt=\"(KHRL & KBRO airports combined for clarity)\"\n",
    "plt.figtext(0.29, 0.2, txt, wrap=True, horizontalalignment='center', fontsize=12)\n",
    "\n",
    "fig.savefig(f'../output/map-removal-percent.png', dpi=100, bbox_inches='tight')\n",
    "\n",
    "plt.show()"
   ]
  },
  {
   "cell_type": "markdown",
   "metadata": {},
   "source": [
    "# Choropleth"
   ]
  },
  {
   "cell_type": "code",
   "execution_count": null,
   "metadata": {},
   "outputs": [],
   "source": [
    "cmap = mpl.cm.Blues\n",
    "# Countries is a dictionary of {\"country_name\": number of users}, for example\n",
    "countries = df[df['R-T'] == 'R'].groupby(['CountryOfCitizenship'])['AlienMasterID'].nunique().to_dict()\n",
    "\n",
    "min_passengers = float(min(countries.values()))\n",
    "max_passengers = float(max(countries.values()))\n",
    "shapename = 'admin_0_countries'\n",
    "countries_shp = shpreader.natural_earth(resolution='110m', category='cultural', name=shapename)\n",
    "ax = plt.axes(projection=ccrs.Robinson())\n",
    "ax.coastlines()\n",
    "\n",
    "for country in shpreader.Reader(countries_shp).records():\n",
    "    name = country.attributes['NAME_LONG'].upper()\n",
    "    try:\n",
    "        num_passengers = countries[name]\n",
    "        ax.add_geometries(country.geometry, ccrs.PlateCarree(),\n",
    "                    facecolor=cmap(np.log(num_passengers)/np.log(max_passengers)))\n",
    "    except:\n",
    "        num_passengers = 0\n",
    "        ax.add_geometries(country.geometry, ccrs.PlateCarree(),\n",
    "                    facecolor=cmap(num_passengers))\n",
    "        pass\n",
    "\n",
    "# formatter = LogFormatter(labelOnlyBase=False) \n",
    "    \n",
    "sm = plt.cm.ScalarMappable(cmap=cmap,norm=colors.LogNorm(vmin=1, vmax=max_passengers))\n",
    "sm._A = []\n",
    "plt.colorbar(sm, ax=ax, shrink=.66, extend='max')\n",
    "\n",
    "plt.title('ICE Air global removals (logged),\\nOct. 2010 - Dec. 2018')\n",
    "\n",
    "plt.savefig('../output/removal_choropleth.png', transparent=True, dpi=900)"
   ]
  },
  {
   "cell_type": "markdown",
   "metadata": {},
   "source": [
    "## Directed graph"
   ]
  },
  {
   "cell_type": "code",
   "execution_count": 61,
   "metadata": {},
   "outputs": [],
   "source": [
    "airport = 'KOAK'\n",
    "\n",
    "PU = df['PULOC'] == airport\n",
    "DO = df['DropLoc'] == airport\n",
    "\n",
    "air_pickups = df[PU].groupby([pd.Grouper(freq='AS-OCT'),\n",
    "                'R-T',\n",
    "                'PULOC',\n",
    "                'DropLoc',\n",
    "                'air_LatitudeDecimalDegrees',\n",
    "                'air_LongitudeDecimalDegrees',\n",
    "                'air2_LatitudeDecimalDegrees',\n",
    "                'air2_LongitudeDecimalDegrees'])['AlienMasterID'].nunique().reset_index()\n",
    "air_dropoffs = df[DO].groupby([pd.Grouper(freq='AS-OCT'),\n",
    "                'R-T',\n",
    "                'PULOC',\n",
    "                'DropLoc',\n",
    "                'air_LatitudeDecimalDegrees',\n",
    "                'air_LongitudeDecimalDegrees',\n",
    "                'air2_LatitudeDecimalDegrees',\n",
    "                'air2_LongitudeDecimalDegrees'])['AlienMasterID'].nunique().reset_index()\n",
    "air_all = df[PU | DO].groupby([pd.Grouper(freq='AS-OCT'),\n",
    "                'R-T',\n",
    "                'PULOC',\n",
    "                'DropLoc',\n",
    "                'air_LatitudeDecimalDegrees',\n",
    "                'air_LongitudeDecimalDegrees',\n",
    "                'air2_LatitudeDecimalDegrees',\n",
    "                'air2_LongitudeDecimalDegrees'])['AlienMasterID'].nunique().reset_index()"
   ]
  },
  {
   "cell_type": "code",
   "execution_count": 62,
   "metadata": {},
   "outputs": [],
   "source": [
    "air_pickups.set_index('FiscalYear', inplace=True)\n",
    "air_dropoffs.set_index('FiscalYear', inplace=True)\n",
    "air_all.set_index('FiscalYear', inplace=True)"
   ]
  },
  {
   "cell_type": "code",
   "execution_count": 67,
   "metadata": {},
   "outputs": [
    {
     "data": {
      "image/png": "[encoded data removed]",
      "text/plain": [
       "<Figure size 864x576 with 2 Axes>"
      ]
     },
     "metadata": {
      "needs_background": "light"
     },
     "output_type": "display_data"
    }
   ],
   "source": [
    "year = '2017'\n",
    "vmax = air_all[year].groupby(['PULOC', 'DropLoc'])['AlienMasterID'].sum().max()\n",
    "vmin = air_all[year].groupby(['PULOC', 'DropLoc'])['AlienMasterID'].sum().min()\n",
    "\n",
    "if pd.notnull(year):\n",
    "    edges = air_pickups[year][['PULOC', 'DropLoc']].values\n",
    "    weights = air_pickups[year].groupby(['PULOC', 'DropLoc'])['AlienMasterID'].sum().reset_index()\n",
    "else:\n",
    "    edges = air_pickups[['PULOC', 'DropLoc']].values\n",
    "    weights = air_pickups.groupby(['PULOC', 'DropLoc'])['AlienMasterID'].sum().reset_index()\n",
    "\n",
    "G = nx.DiGraph()\n",
    "\n",
    "for row in weights.values:\n",
    "    G.add_edge(row[0], row[1], weight=row[2])\n",
    "    \n",
    "weights = pd.Series([c for (u, v, c) in G.edges.data('weight', default=0)])\n",
    "\n",
    "# sizes = [passenger_totals[icao].sum() / 500 for icao in G.nodes]\n",
    "\n",
    "pos_higher = {}\n",
    "y_off = -1  # offset on the y axis\n",
    "x_off = 1\n",
    "air_y_off = 1\n",
    "air_x_off = 1\n",
    "\n",
    "for k, v in pos.items():\n",
    "    if k == 'air':\n",
    "        pos_higher[k] = (v[0]+air_x_off, v[1]+air_y_off)\n",
    "    else:\n",
    "        pos_higher[k] = (v[0]+x_off, v[1]+y_off)\n",
    "        \n",
    "labels = {icao: icao for icao in G.nodes}\n",
    "edge_weights = {edge: G.get_edge_data(edge[0], edge[1])['weight'] for edge in G.edges}\n",
    "\n",
    "# Map projection\n",
    "crs = ccrs.PlateCarree(central_longitude=0.0)\n",
    "\n",
    "fig, ax = plt.subplots(\n",
    "    1, 1, figsize=(12, 8),\n",
    "    subplot_kw=dict(projection=crs))\n",
    "ax.coastlines(alpha=.2)\n",
    "ax.add_feature(cfeature.BORDERS, alpha=.2)\n",
    "ax.add_feature(cfeature.STATES, alpha=.2)\n",
    "\n",
    "# Extent of continental US.\n",
    "# ax.set_extent([-128, -62, 10, 50])\n",
    "# KBFI\n",
    "# ax.set_extent([-128, -90, 24, 50])\n",
    "# KCSG\n",
    "# ax.set_extent([-118, -62, 10, 40]) \n",
    "# KOAK\n",
    "ax.set_extent([-128, -100, 24, 40])\n",
    "\n",
    "M = G.number_of_edges()\n",
    "edge_colors = [weight / max(weights) for weight in weights]\n",
    "edge_alphas = 1\n",
    "\n",
    "nodes = nx.draw_networkx_nodes(G, pos, ax=ax, node_size=15, node_color='black')\n",
    "edges = nx.draw_networkx_edges(G, pos, ax=ax, node_size=15, arrowstyle='->',\n",
    "                               arrowsize=20,\n",
    "                               edge_color=edge_colors,\n",
    "                               edge_cmap=plt.cm.viridis,\n",
    "                               width=2)\n",
    "edge_labels=nx.draw_networkx_edge_labels(G,pos, edge_labels=edge_weights, label_pos=.4, font_size=12)\n",
    "labels = nx.draw_networkx_labels(G, pos_higher, ax=ax, labels=labels, font_size=14)\n",
    "\n",
    "pc = mpl.collections.PatchCollection(edges, cmap=plt.cm.viridis,\n",
    "                                     norm=plt.Normalize(vmin=vmin, vmax=vmax))\n",
    "pc.set_array(edge_colors)\n",
    "plt.colorbar(pc, ax=ax, shrink=.75)\n",
    "\n",
    "plt.title(f\"ICE Air: {airport} departure destinations, FY {int(year)+1}\", size=18)\n",
    "\n",
    "msg = '(Source: UW Center for Human Rights, ICE Air ARTS database)'\n",
    "txt = plt.figtext(0.65, .125, msg, wrap=True, horizontalalignment='center', fontsize=12)\n",
    "draft = plt.figtext(.4, .3, 'DRAFT', wrap=True, horizontalalignment='center', fontsize=120, alpha=.1)\n",
    "\n",
    "fig.savefig(f'../output/map-{airport}-destinations.png', dpi=100, bbox_extra_artists=(pc,txt), bbox_inches='tight')\n",
    "\n",
    "ax = plt.gca()\n",
    "ax.set_axis_off()\n",
    "plt.show()"
   ]
  },
  {
   "cell_type": "code",
   "execution_count": null,
   "metadata": {},
   "outputs": [],
   "source": []
  },
  {
   "cell_type": "code",
   "execution_count": 69,
   "metadata": {},
   "outputs": [
    {
     "data": {
      "image/png": "[encoded data removed]",
      "text/plain": [
       "<Figure size 864x576 with 2 Axes>"
      ]
     },
     "metadata": {
      "needs_background": "light"
     },
     "output_type": "display_data"
    }
   ],
   "source": [
    "year = '2017'\n",
    "vmax = air_all[year].groupby(['PULOC', 'DropLoc'])['AlienMasterID'].sum().max()\n",
    "vmin = air_all[year].groupby(['PULOC', 'DropLoc'])['AlienMasterID'].sum().min()\n",
    "\n",
    "if pd.notnull(year):\n",
    "    edges = air_dropoffs[year][['PULOC', 'DropLoc']].values\n",
    "    weights = air_dropoffs[year].groupby(['PULOC', 'DropLoc'])['AlienMasterID'].sum().reset_index()\n",
    "else:\n",
    "    edges = air_dropoffs[['PULOC', 'DropLoc']].values\n",
    "    weights = air_dropoffs.groupby(['PULOC', 'DropLoc'])['AlienMasterID'].sum().reset_index()\n",
    "\n",
    "G = nx.DiGraph()\n",
    "\n",
    "for row in weights.values:\n",
    "    G.add_edge(row[0], row[1], weight=row[2])\n",
    "    \n",
    "weights = pd.Series([c for (u, v, c) in G.edges.data('weight', default=0)])\n",
    "\n",
    "# sizes = [passenger_totals[icao].sum() / 500 for icao in G.nodes]\n",
    "\n",
    "pos_higher = {}\n",
    "y_off = 1\n",
    "x_off = -1\n",
    "air_y_off = 1\n",
    "air_x_off = 1\n",
    "\n",
    "for k, v in pos.items():\n",
    "    if k == 'air':\n",
    "        pos_higher[k] = (v[0]+air_x_off, v[1]+air_y_off)\n",
    "    else:\n",
    "        pos_higher[k] = (v[0]+x_off, v[1]+y_off)\n",
    "        \n",
    "labels = {icao: icao for icao in G.nodes}\n",
    "edge_weights = {edge: G.get_edge_data(edge[0], edge[1])['weight'] for edge in G.edges}\n",
    "\n",
    "special_edge = ('KSAT', 'KBFI')\n",
    "special_edge_weights = {special_edge: edge_weights.pop(special_edge, None)}\n",
    "\n",
    "# Map projection\n",
    "crs = ccrs.PlateCarree(central_longitude=0.0)\n",
    "\n",
    "fig, ax = plt.subplots(\n",
    "    1, 1, figsize=(12, 8),\n",
    "    subplot_kw=dict(projection=crs))\n",
    "ax.coastlines(alpha=.2)\n",
    "ax.add_feature(cfeature.BORDERS, alpha=.2)\n",
    "ax.add_feature(cfeature.STATES, alpha=.2)\n",
    "\n",
    "\n",
    "# Extent of continental US.\n",
    "# ax.set_extent([-128, -62, 10, 50])\n",
    "# KBFI\n",
    "# ax.set_extent([-128, -90, 24, 50])\n",
    "# KCSG\n",
    "# ax.set_extent([-114, -75, 18, 36]) \n",
    "# KOAK\n",
    "ax.set_extent([-128, -100, 24, 40])\n",
    "\n",
    "M = G.number_of_edges()\n",
    "edge_colors = [weight / max(weights) for weight in weights]\n",
    "edge_alphas = 1\n",
    "\n",
    "nodes = nx.draw_networkx_nodes(G, pos, ax=ax, node_size=15, node_color='black')\n",
    "edges = nx.draw_networkx_edges(G, pos, ax=ax, node_size=15, arrowstyle='->',\n",
    "                               arrowsize=20,\n",
    "                               edge_color=edge_colors,\n",
    "                               edge_cmap=plt.cm.viridis,\n",
    "                               width=2)\n",
    "labels = nx.draw_networkx_labels(G, pos_higher, ax=ax, labels=labels, font_size=14)\n",
    "edge_labels=nx.draw_networkx_edge_labels(G, pos, label_pos=.6, edge_labels=edge_weights, font_size=12)\n",
    "# edge_labels=nx.draw_networkx_edge_labels(G, pos, label_pos=.8, edge_labels=special_edge_weights, font_size=12)\n",
    "\n",
    "pc = mpl.collections.PatchCollection(edges, cmap=plt.cm.viridis,\n",
    "                                     norm=plt.Normalize(vmin=vmin, vmax=vmax))\n",
    "pc.set_array(edge_colors)\n",
    "plt.colorbar(pc, ax=ax, shrink=.75)\n",
    "\n",
    "plt.title(f\"ICE Air: {airport} dropoff sources, FY {int(year)+1}\", size=18)\n",
    "msg = '(Source: UW Center for Human Rights, ICE Air ARTS database)'\n",
    "txt = plt.figtext(0.65, .125, msg, wrap=True, horizontalalignment='center', fontsize=12)\n",
    "draft = plt.figtext(.4, .3, 'DRAFT', wrap=True, horizontalalignment='center', fontsize=120, alpha=.1)\n",
    "\n",
    "fig.savefig(f'../output/map-{airport}-sources.png', dpi=100, bbox_extra_artists=(pc,txt), bbox_inches='tight')\n",
    "\n",
    "ax = plt.gca()\n",
    "ax.set_axis_off()\n",
    "plt.show()"
   ]
  },
  {
   "cell_type": "markdown",
   "metadata": {},
   "source": [
    "### Netgraph experiment"
   ]
  },
  {
   "cell_type": "code",
   "execution_count": null,
   "metadata": {},
   "outputs": [],
   "source": [
    "year = '2017'\n",
    "if pd.notnull(year):\n",
    "    edges = kbfi_all[year][['PULOC', 'DropLoc']].values\n",
    "    weights = kbfi_all[year].groupby(['PULOC', 'DropLoc'])['AlienMasterID'].sum().reset_index()\n",
    "else:\n",
    "    edges = kbfi_all[['PULOC', 'DropLoc']].values\n",
    "    weights = kbfi_all.groupby(['PULOC', 'DropLoc'])['AlienMasterID'].sum().reset_index()\n",
    "\n",
    "G = nx.DiGraph()\n",
    "\n",
    "for row in weights.values:\n",
    "    G.add_edge(row[0], row[1], weight=row[2])\n",
    "    \n",
    "weights = pd.Series([c for (u, v, c) in G.edges.data('weight', default=0)])\n",
    "\n",
    "# sizes = [passenger_totals[icao].sum() / 500 for icao in G.nodes]\n",
    "\n",
    "pos_higher = {}\n",
    "y_off = -1\n",
    "x_off = 2.66\n",
    "kbfi_y_off = 1\n",
    "kbfi_x_off = 1\n",
    "\n",
    "for k, v in pos.items():\n",
    "    if k == 'KBFI':\n",
    "        pos_higher[k] = (v[0]+kbfi_x_off, v[1]+kbfi_y_off)\n",
    "    else:\n",
    "        pos_higher[k] = (v[0]+x_off, v[1]+y_off)\n",
    "        \n",
    "labels = {icao: icao for icao in G.nodes}\n",
    "edge_weights = {edge: G.get_edge_data(edge[0], edge[1])['weight'] for edge in G.edges}\n",
    "\n",
    "# Map projection\n",
    "crs = ccrs.PlateCarree(central_longitude=0.0)\n",
    "\n",
    "fig, ax = plt.subplots(\n",
    "    1, 1, figsize=(12, 8),\n",
    "    subplot_kw=dict(projection=crs))\n",
    "ax.coastlines(alpha=.2)\n",
    "ax.add_feature(cfeature.BORDERS, alpha=.2)\n",
    "\n",
    "# Extent of continental US.\n",
    "ax.set_extent([-128, -62, 10, 50])\n",
    "\n",
    "M = G.number_of_edges()\n",
    "edge_colors = [weight / max(weights) for weight in weights]\n",
    "edge_alphas = 1\n",
    "\n",
    "net = netgraph.draw(G, pos,\n",
    "                    ax=ax,\n",
    "                    width=20,\n",
    "                    edge_width=20,\n",
    "                    edge_color='black',\n",
    "                    node_edge_width=1,\n",
    "                    node_edge_alpha=0)\n",
    "\n",
    "# nodes = netgraph.draw_nodes(G, pos, ax=ax, node_size=15, node_color='black')\n",
    "# edges = netgraph.draw_edges(G, pos, ax=ax, node_size=15, arrowstyle='->',\n",
    "#                                arrowsize=20,\n",
    "#                                edge_color=edge_colors,\n",
    "#                                edge_cmap=plt.cm.viridis,\n",
    "#                                width=np.log(weights)/2+.25)\n",
    "# edge_labels=nx.draw_networkx_edge_labels(G, pos, label_pos=.8, edge_labels=edge_weights,\n",
    "#                                         bbox=dict(facecolor='white', edgecolor='black'))\n",
    "# labels = nx.draw_networkx_labels(G, pos_higher, ax=ax, labels=labels, font_size=14)\n",
    "\n",
    "# pc = mpl.collections.PatchCollection(edges, cmap=plt.cm.viridis,\n",
    "#                                      norm=plt.Normalize(vmin=weights.min(), vmax=weights.max()))\n",
    "# pc.set_array(edge_colors)\n",
    "# plt.colorbar(pc, ax=ax, shrink=.75)\n",
    "\n",
    "plt.title(f\"ICE Air: Boeing Field, FY {int(year)+1}\", size=18)\n",
    "ax = plt.gca()\n",
    "ax.set_axis_off()\n",
    "plt.show()"
   ]
  },
  {
   "cell_type": "markdown",
   "metadata": {},
   "source": [
    "### Experiment with multiple axes"
   ]
  },
  {
   "cell_type": "code",
   "execution_count": null,
   "metadata": {},
   "outputs": [],
   "source": [
    "# Map projection\n",
    "crs = ccrs.PlateCarree(central_longitude=0.0)\n",
    "\n",
    "fig, ax = plt.subplots(\n",
    "    1, 2, figsize=(12, 8),\n",
    "    subplot_kw=dict(projection=crs))\n",
    "\n",
    "for i, ax in enumerate(fig.axes):\n",
    "    fig.axes[i].coastlines(alpha=.2)\n",
    "    fig.axes[i].add_feature(cfeature.BORDERS, alpha=.2)\n",
    "    fig.axes[i].set_extent([-128, -90, 10, 50])\n",
    "\n",
    "pc = mpl.collections.PatchCollection(edges, cmap=plt.cm.viridis,\n",
    "                                     norm=plt.Normalize(vmin=vmin, vmax=vmax))\n",
    "pc.set_array(edge_colors)\n",
    "plt.colorbar(pc, shrink=.75)"
   ]
  },
  {
   "cell_type": "code",
   "execution_count": null,
   "metadata": {},
   "outputs": [],
   "source": []
  }
 ],
 "metadata": {
  "kernelspec": {
   "display_name": "Python 3",
   "language": "python",
   "name": "python3"
  },
  "language_info": {
   "codemirror_mode": {
    "name": "ipython",
    "version": 3
   },
   "file_extension": ".py",
   "mimetype": "text/x-python",
   "name": "python",
   "nbconvert_exporter": "python",
   "pygments_lexer": "ipython3",
   "version": "3.7.1"
  }
 },
 "nbformat": 4,
 "nbformat_minor": 2
}
