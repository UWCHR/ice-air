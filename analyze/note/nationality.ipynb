{
 "cells": [
  {
   "cell_type": "code",
   "execution_count": 1,
   "metadata": {},
   "outputs": [],
   "source": [
    "import numpy as np\n",
    "import pandas as pd\n",
    "import yaml\n",
    "import matplotlib.pyplot as plt\n",
    "import matplotlib.mlab as mlab\n",
    "import seaborn as sns"
   ]
  },
  {
   "cell_type": "markdown",
   "metadata": {},
   "source": [
    "# Import\n",
    "\n",
    "First we open a file containing a dictionary of columns and associated data types generated in `../../optimize/`, then we read input file."
   ]
  },
  {
   "cell_type": "code",
   "execution_count": 2,
   "metadata": {},
   "outputs": [
    {
     "name": "stdout",
     "output_type": "stream",
     "text": [
      "<class 'pandas.core.frame.DataFrame'>\n",
      "RangeIndex: 1732625 entries, 0 to 1732624\n",
      "Data columns (total 48 columns):\n",
      "Status                          category\n",
      "Sex                             category\n",
      "Convictions                     category\n",
      "GangMember                      category\n",
      "ClassLvl                        float32\n",
      "Age                             float32\n",
      "MissionDate                     datetime64[ns]\n",
      "MissionNumber                   uint32\n",
      "PULOC                           category\n",
      "DropLoc                         category\n",
      "StrikeFromList                  float32\n",
      "ReasonStruck                    category\n",
      "R-T                             category\n",
      "Code                            category\n",
      "CountryOfCitizenship            category\n",
      "Juvenile                        bool\n",
      "MissionWeek                     uint8\n",
      "MissionQuarter                  uint8\n",
      "MissionYear                     uint16\n",
      "MissionMonth                    uint8\n",
      "Criminality                     category\n",
      "FamilyUnitFlag                  float32\n",
      "UnaccompaniedFlag               float32\n",
      "AlienMasterID                   uint32\n",
      "MissionID                       uint16\n",
      "air_AirportID                   float32\n",
      "air_AirportName                 category\n",
      "air_City                        category\n",
      "st_StateID                      float32\n",
      "st_StateAbbr                    category\n",
      "AOR_AORID                       float32\n",
      "AOR_AOR                         category\n",
      "AOR_AORName                     category\n",
      "air_Country                     category\n",
      "air2_AirportID                  float32\n",
      "air2_AirportName                category\n",
      "air2_City                       category\n",
      "st2_StateID                     float32\n",
      "st2_StateAbbr                   category\n",
      "aor2_AORID                      float32\n",
      "aor2_AOR                        category\n",
      "aor2_AORName                    category\n",
      "air2_Country                    category\n",
      "air_LatitudeDecimalDegrees      float64\n",
      "air_LongitudeDecimalDegrees     float64\n",
      "air2_LatitudeDecimalDegrees     float64\n",
      "air2_LongitudeDecimalDegrees    float64\n",
      "NonCriminal                     bool\n",
      "dtypes: bool(2), category(23), datetime64[ns](1), float32(11), float64(4), uint16(2), uint32(2), uint8(3)\n",
      "memory usage: 218.4 MB\n"
     ]
    }
   ],
   "source": [
    "with open('../input/dtypes.yaml', 'r') as yamlfile:\n",
    "    column_types = yaml.load(yamlfile)\n",
    "\n",
    "read_csv_opts = {'sep': '|',\n",
    "                 'quotechar': '\"',\n",
    "                 'compression': 'gzip',\n",
    "                 'encoding': 'utf-8',\n",
    "                 'dtype': column_types,\n",
    "                 'parse_dates': ['MissionDate'],\n",
    "                 'infer_datetime_format': True}\n",
    "\n",
    "df = pd.read_csv('../input/ice-air.csv.gz', **read_csv_opts)\n",
    "\n",
    "df.info(memory_usage='deep')"
   ]
  },
  {
   "cell_type": "markdown",
   "metadata": {},
   "source": [
    "# By country of citizenship"
   ]
  },
  {
   "cell_type": "markdown",
   "metadata": {},
   "source": [
    "Define target nationality, check if represented in dataset."
   ]
  },
  {
   "cell_type": "code",
   "execution_count": 3,
   "metadata": {},
   "outputs": [],
   "source": [
    "nationality = 'MEXICO'"
   ]
  },
  {
   "cell_type": "code",
   "execution_count": 4,
   "metadata": {},
   "outputs": [],
   "source": [
    "errormsg = f'{nationality} not represented in dataset'\n",
    "assert nationality.upper() in df['CountryOfCitizenship'].str.upper().unique(), errormsg"
   ]
  },
  {
   "cell_type": "markdown",
   "metadata": {},
   "source": [
    "Create DataFrames for removals and transfers, removing duplicate `AlienMasterID` values."
   ]
  },
  {
   "cell_type": "code",
   "execution_count": 5,
   "metadata": {},
   "outputs": [],
   "source": [
    "removal_df = df[df['R-T'] == 'R'].drop_duplicates(subset='AlienMasterID')\n",
    "transfer_df = df[df['R-T'] == 'T'].drop_duplicates(subset='AlienMasterID')"
   ]
  },
  {
   "cell_type": "markdown",
   "metadata": {},
   "source": [
    "Ranking total removals by `CountryOfCitizenship`. Should implement other comparative statistics."
   ]
  },
  {
   "cell_type": "code",
   "execution_count": 6,
   "metadata": {},
   "outputs": [
    {
     "name": "stdout",
     "output_type": "stream",
     "text": [
      "MEXICO: ranked 1 of 204 countries, with 466108 total removals.\n"
     ]
    }
   ],
   "source": [
    "all_nationalities = removal_df.groupby(['CountryOfCitizenship'])['AlienMasterID'].nunique()\n",
    "all_nationalities = all_nationalities.sort_values(ascending=False)\n",
    "all_nationalities = all_nationalities.reset_index().reset_index()\n",
    "all_nationalities['Rank'] = all_nationalities['index'] + 1\n",
    "all_nationalities.drop('index', axis=1, inplace=True)\n",
    "target = all_nationalities.loc[all_nationalities['CountryOfCitizenship'] == nationality].reset_index()\n",
    "print(f\"{nationality}: ranked {target.loc[0, 'Rank']} of {len(all_nationalities)} countries, with {target.loc[0, 'AlienMasterID']} total removals.\")\n",
    "# Probably a better way to do this than with index"
   ]
  },
  {
   "cell_type": "markdown",
   "metadata": {},
   "source": [
    "Create a DataFrame filtered for target nationality only."
   ]
  },
  {
   "cell_type": "code",
   "execution_count": 7,
   "metadata": {},
   "outputs": [],
   "source": [
    "nationality_df = df[df['CountryOfCitizenship'] == nationality.upper()]"
   ]
  },
  {
   "cell_type": "code",
   "execution_count": 8,
   "metadata": {},
   "outputs": [
    {
     "data": {
      "text/plain": [
       "El Paso International Airport                     90303\n",
       "Alexandria International Airport                  57558\n",
       "Valley International Airport                      57010\n",
       "Columbus Metropolitan Airport                     49389\n",
       "Metropolitan Oakland International Airport        32938\n",
       "Harrisburg International Airport                  28315\n",
       "Boeing Field King County International Airport    25133\n",
       "San Diego International Airport                   23543\n",
       "Meadows Field                                     20494\n",
       "Miami International Airport                       20043\n",
       "Name: air_AirportName, dtype: int64"
      ]
     },
     "execution_count": 8,
     "metadata": {},
     "output_type": "execute_result"
    }
   ],
   "source": [
    "# Top pickup airports (removals and transfers)\n",
    "nationality_df['air_AirportName'].value_counts().head(10)"
   ]
  },
  {
   "cell_type": "code",
   "execution_count": 9,
   "metadata": {},
   "outputs": [
    {
     "data": {
      "text/plain": [
       "Valley International Airport                            146847\n",
       "Licenciado Benito Juarez International Airport           85584\n",
       "El Paso International Airport                            65239\n",
       "Brownsville South Padre Island International Airport     63458\n",
       "San Diego International Airport                          59677\n",
       "Laredo International Airport                             46149\n",
       "Yuma MCAS/Yuma International Airport                     29060\n",
       "El Centro Naf Airport                                    20356\n",
       "Phoenix-Mesa-Gateway Airport                             18186\n",
       "Alexandria International Airport                         16249\n",
       "Name: air2_AirportName, dtype: int64"
      ]
     },
     "execution_count": 9,
     "metadata": {},
     "output_type": "execute_result"
    }
   ],
   "source": [
    "# Top dropoff airports (removals and transfers)\n",
    "nationality_df['air2_AirportName'].value_counts().head(10)"
   ]
  },
  {
   "cell_type": "code",
   "execution_count": 10,
   "metadata": {},
   "outputs": [],
   "source": [
    "nationality_df.set_index('MissionDate', inplace=True)"
   ]
  },
  {
   "cell_type": "code",
   "execution_count": 17,
   "metadata": {},
   "outputs": [
    {
     "data": {
      "text/plain": [
       "USA                                 0.816377\n",
       "Mexico                              0.183614\n",
       "Honduras                            0.000004\n",
       "El Salvador                         0.000002\n",
       "Guatemala                           0.000002\n",
       "Hungary                             0.000000\n",
       "Trinidad and Tobago                 0.000000\n",
       "Serbia                              0.000000\n",
       "Montenegro                          0.000000\n",
       "Israel                              0.000000\n",
       "Republic of the Congo               0.000000\n",
       "Ethiopia                            0.000000\n",
       "Cameroon                            0.000000\n",
       "Democratic Republic of Congo        0.000000\n",
       "Bermuda                             0.000000\n",
       "Yemen                               0.000000\n",
       "China                               0.000000\n",
       "United Kingdom                      0.000000\n",
       "Guyana                              0.000000\n",
       "Guinea                              0.000000\n",
       "South Sudan                         0.000000\n",
       "Mali                                0.000000\n",
       "Niger                               0.000000\n",
       "Bolivia                             0.000000\n",
       "Germany                             0.000000\n",
       "Peru                                0.000000\n",
       "Poland                              0.000000\n",
       "Russia                              0.000000\n",
       "Lebanon                             0.000000\n",
       "Sri Lanka                           0.000000\n",
       "                                      ...   \n",
       "Australia                           0.000000\n",
       "St Vincent                          0.000000\n",
       "France                              0.000000\n",
       "Gabon                               0.000000\n",
       "Malawi                              0.000000\n",
       "Tanzania                            0.000000\n",
       "Zambia                              0.000000\n",
       "Czech Republic                      0.000000\n",
       "Turkey                              0.000000\n",
       "Uzbekistan                          0.000000\n",
       "Sudan                               0.000000\n",
       "Uganda                              0.000000\n",
       "Chad                                0.000000\n",
       "Argentina                           0.000000\n",
       "Cambodia                            0.000000\n",
       "Republic of the Marshall Islands    0.000000\n",
       "Togo                                0.000000\n",
       "Uruguay                             0.000000\n",
       "Vietnam                             0.000000\n",
       "Bangladesh                          0.000000\n",
       "Barbados                            0.000000\n",
       "India                               0.000000\n",
       "Nepal                               0.000000\n",
       "Philippines                         0.000000\n",
       "St. Kitts                           0.000000\n",
       "St. Vincent                         0.000000\n",
       "Taiwan                              0.000000\n",
       "Equatorial Guinea                   0.000000\n",
       "Lithuania                           0.000000\n",
       "Colombia                            0.000000\n",
       "Name: air2_Country, Length: 119, dtype: float64"
      ]
     },
     "execution_count": 17,
     "metadata": {},
     "output_type": "execute_result"
    }
   ],
   "source": [
    "nationality_df[nationality_df['R-T'] == 'R']['air2_Country'].value_counts() / len(nationality_df[nationality_df['R-T'] == 'R'])"
   ]
  },
  {
   "cell_type": "code",
   "execution_count": 11,
   "metadata": {},
   "outputs": [],
   "source": [
    "g = nationality_df.groupby(['CountryOfCitizenship', 'MissionDate', 'R-T', 'PULOC', 'DropLoc'])\n",
    "# g = nationality_df.groupby(['CountryOfCitizenship', 'MissionDate', 'R-T', 'Juvenile', 'NonCriminal'])"
   ]
  },
  {
   "cell_type": "code",
   "execution_count": 12,
   "metadata": {},
   "outputs": [],
   "source": [
    "# We can improve construction of this table, look at other notebooks\n",
    "table = g['AlienMasterID'].nunique().reset_index(name='AlienMasterIDCount')\n",
    "table['MissionIDCount'] = g['MissionID'].nunique().reset_index(name='MissionIDCount')['MissionIDCount']\n",
    "table['JuvenileCount'] = g['Juvenile'].sum().reset_index(name='JuvenileCount')['JuvenileCount']\n",
    "table['JuvPercent'] = table['JuvenileCount'] / table['AlienMasterIDCount']\n",
    "table['NCCount'] = g['NonCriminal'].sum().reset_index(name='NCCount')['NCCount']\n",
    "table['NCPercent'] = table['NCCount'] / table['AlienMasterIDCount'] * 100"
   ]
  },
  {
   "cell_type": "code",
   "execution_count": 52,
   "metadata": {},
   "outputs": [],
   "source": [
    "removals = table[table['R-T'] == 'R'].copy()\n",
    "transfers = table[table['R-T'] == 'T'].copy()"
   ]
  },
  {
   "cell_type": "code",
   "execution_count": 53,
   "metadata": {},
   "outputs": [],
   "source": [
    "removals.set_index('MissionDate', inplace=True)\n",
    "transfers.set_index('MissionDate', inplace=True)"
   ]
  },
  {
   "cell_type": "code",
   "execution_count": 54,
   "metadata": {},
   "outputs": [
    {
     "data": {
      "text/plain": [
       "580"
      ]
     },
     "execution_count": 54,
     "metadata": {},
     "output_type": "execute_result"
    }
   ],
   "source": [
    "# Total removals\n",
    "removals['AlienMasterIDCount'].sum()"
   ]
  },
  {
   "cell_type": "code",
   "execution_count": 55,
   "metadata": {},
   "outputs": [
    {
     "data": {
      "text/plain": [
       "11"
      ]
     },
     "execution_count": 55,
     "metadata": {},
     "output_type": "execute_result"
    }
   ],
   "source": [
    "# Total removal missions\n",
    "removals['MissionIDCount'].sum()"
   ]
  },
  {
   "cell_type": "code",
   "execution_count": 56,
   "metadata": {},
   "outputs": [
    {
     "data": {
      "text/plain": [
       "2079"
      ]
     },
     "execution_count": 56,
     "metadata": {},
     "output_type": "execute_result"
    }
   ],
   "source": [
    "# Total transfers\n",
    "transfers['AlienMasterIDCount'].sum()"
   ]
  },
  {
   "cell_type": "code",
   "execution_count": 57,
   "metadata": {},
   "outputs": [],
   "source": [
    "weekly_removals = removals['AlienMasterIDCount'].resample('W').sum()\n",
    "weekly_transfers = transfers['AlienMasterIDCount'].resample('W').sum()\n",
    "monthly_removals = removals['AlienMasterIDCount'].resample('M').sum()\n",
    "monthly_transfers = transfers['AlienMasterIDCount'].resample('M').sum()\n",
    "monthly_removal_flights = removals['MissionIDCount'].resample('M').sum()\n",
    "monthly_transfers_flights = transfers['MissionIDCount'].resample('M').sum()\n",
    "annual_removals = removals['AlienMasterIDCount'].resample('AS-OCT').sum()\n",
    "annual_transfers = transfers['AlienMasterIDCount'].resample('AS-OCT').sum()\n",
    "annual_removal_flights = removals['MissionIDCount'].resample('AS-OCT').sum()\n",
    "annual_transfer_flights = transfers['MissionIDCount'].resample('AS-OCT').sum()\n",
    "annual_juvenile_removals = removals['JuvenileCount'].resample('AS-OCT').sum()"
   ]
  },
  {
   "cell_type": "code",
   "execution_count": 88,
   "metadata": {},
   "outputs": [
    {
     "data": {
      "text/plain": [
       "580"
      ]
     },
     "execution_count": 88,
     "metadata": {},
     "output_type": "execute_result"
    }
   ],
   "source": [
    "annual_removals.sum()"
   ]
  },
  {
   "cell_type": "code",
   "execution_count": 59,
   "metadata": {},
   "outputs": [
    {
     "data": {
      "text/plain": [
       "MissionDate\n",
       "2010-10-01     56\n",
       "2011-10-01     25\n",
       "2012-10-01    101\n",
       "2013-10-01    112\n",
       "2014-10-01    354\n",
       "2015-10-01    320\n",
       "2016-10-01    479\n",
       "2017-10-01    520\n",
       "2018-10-01    112\n",
       "Freq: AS-OCT, Name: AlienMasterIDCount, dtype: int64"
      ]
     },
     "execution_count": 59,
     "metadata": {},
     "output_type": "execute_result"
    }
   ],
   "source": [
    "annual_transfers"
   ]
  },
  {
   "cell_type": "code",
   "execution_count": 60,
   "metadata": {},
   "outputs": [
    {
     "data": {
      "text/plain": [
       "MissionDate\n",
       "2011-10-01    False\n",
       "2012-10-01    False\n",
       "2013-10-01    False\n",
       "2014-10-01    False\n",
       "2015-10-01    False\n",
       "2016-10-01    False\n",
       "2017-10-01    False\n",
       "2018-10-01    False\n",
       "Freq: AS-OCT, Name: JuvenileCount, dtype: bool"
      ]
     },
     "execution_count": 60,
     "metadata": {},
     "output_type": "execute_result"
    }
   ],
   "source": [
    "annual_juvenile_removals"
   ]
  },
  {
   "cell_type": "code",
   "execution_count": 61,
   "metadata": {},
   "outputs": [],
   "source": [
    "removals.reset_index(inplace=True, drop=False)\n",
    "transfers.reset_index(inplace=True, drop=False)"
   ]
  },
  {
   "cell_type": "code",
   "execution_count": 62,
   "metadata": {},
   "outputs": [
    {
     "data": {
      "text/html": [
       "<div>\n",
       "<style scoped>\n",
       "    .dataframe tbody tr th:only-of-type {\n",
       "        vertical-align: middle;\n",
       "    }\n",
       "\n",
       "    .dataframe tbody tr th {\n",
       "        vertical-align: top;\n",
       "    }\n",
       "\n",
       "    .dataframe thead th {\n",
       "        text-align: right;\n",
       "    }\n",
       "</style>\n",
       "<table border=\"1\" class=\"dataframe\">\n",
       "  <thead>\n",
       "    <tr style=\"text-align: right;\">\n",
       "      <th></th>\n",
       "      <th>MissionDate</th>\n",
       "      <th>CountryOfCitizenship</th>\n",
       "      <th>R-T</th>\n",
       "      <th>PULOC</th>\n",
       "      <th>DropLoc</th>\n",
       "      <th>AlienMasterIDCount</th>\n",
       "      <th>MissionIDCount</th>\n",
       "      <th>JuvenileCount</th>\n",
       "      <th>JuvPercent</th>\n",
       "      <th>NCCount</th>\n",
       "      <th>NCPercent</th>\n",
       "    </tr>\n",
       "  </thead>\n",
       "  <tbody>\n",
       "    <tr>\n",
       "      <th>0</th>\n",
       "      <td>2012-04-15</td>\n",
       "      <td>SOMALIA</td>\n",
       "      <td>R</td>\n",
       "      <td>KAEX</td>\n",
       "      <td>HKJK</td>\n",
       "      <td>9</td>\n",
       "      <td>1</td>\n",
       "      <td>False</td>\n",
       "      <td>0.0</td>\n",
       "      <td>9.0</td>\n",
       "      <td>100.000000</td>\n",
       "    </tr>\n",
       "    <tr>\n",
       "      <th>1</th>\n",
       "      <td>2012-11-17</td>\n",
       "      <td>SOMALIA</td>\n",
       "      <td>R</td>\n",
       "      <td>KAEX</td>\n",
       "      <td>HKJK</td>\n",
       "      <td>10</td>\n",
       "      <td>1</td>\n",
       "      <td>False</td>\n",
       "      <td>0.0</td>\n",
       "      <td>1.0</td>\n",
       "      <td>10.000000</td>\n",
       "    </tr>\n",
       "    <tr>\n",
       "      <th>2</th>\n",
       "      <td>2014-06-03</td>\n",
       "      <td>SOMALIA</td>\n",
       "      <td>R</td>\n",
       "      <td>KMIA</td>\n",
       "      <td>HKJK</td>\n",
       "      <td>2</td>\n",
       "      <td>1</td>\n",
       "      <td>False</td>\n",
       "      <td>0.0</td>\n",
       "      <td>2.0</td>\n",
       "      <td>100.000000</td>\n",
       "    </tr>\n",
       "    <tr>\n",
       "      <th>3</th>\n",
       "      <td>2017-01-24</td>\n",
       "      <td>SOMALIA</td>\n",
       "      <td>R</td>\n",
       "      <td>KAEX</td>\n",
       "      <td>HCMM</td>\n",
       "      <td>90</td>\n",
       "      <td>1</td>\n",
       "      <td>False</td>\n",
       "      <td>0.0</td>\n",
       "      <td>60.0</td>\n",
       "      <td>66.666667</td>\n",
       "    </tr>\n",
       "    <tr>\n",
       "      <th>4</th>\n",
       "      <td>2017-03-09</td>\n",
       "      <td>SOMALIA</td>\n",
       "      <td>R</td>\n",
       "      <td>KAEX</td>\n",
       "      <td>HCMM</td>\n",
       "      <td>68</td>\n",
       "      <td>1</td>\n",
       "      <td>False</td>\n",
       "      <td>0.0</td>\n",
       "      <td>56.0</td>\n",
       "      <td>82.352941</td>\n",
       "    </tr>\n",
       "    <tr>\n",
       "      <th>5</th>\n",
       "      <td>2017-05-11</td>\n",
       "      <td>SOMALIA</td>\n",
       "      <td>R</td>\n",
       "      <td>KAEX</td>\n",
       "      <td>HCMM</td>\n",
       "      <td>67</td>\n",
       "      <td>1</td>\n",
       "      <td>False</td>\n",
       "      <td>0.0</td>\n",
       "      <td>47.0</td>\n",
       "      <td>70.149254</td>\n",
       "    </tr>\n",
       "    <tr>\n",
       "      <th>6</th>\n",
       "      <td>2017-05-25</td>\n",
       "      <td>SOMALIA</td>\n",
       "      <td>R</td>\n",
       "      <td>KIWA</td>\n",
       "      <td>HCMM</td>\n",
       "      <td>50</td>\n",
       "      <td>1</td>\n",
       "      <td>False</td>\n",
       "      <td>0.0</td>\n",
       "      <td>21.0</td>\n",
       "      <td>42.000000</td>\n",
       "    </tr>\n",
       "    <tr>\n",
       "      <th>7</th>\n",
       "      <td>2017-07-27</td>\n",
       "      <td>SOMALIA</td>\n",
       "      <td>R</td>\n",
       "      <td>KAEX</td>\n",
       "      <td>HCMM</td>\n",
       "      <td>67</td>\n",
       "      <td>1</td>\n",
       "      <td>False</td>\n",
       "      <td>0.0</td>\n",
       "      <td>19.0</td>\n",
       "      <td>28.358209</td>\n",
       "    </tr>\n",
       "    <tr>\n",
       "      <th>8</th>\n",
       "      <td>2018-03-29</td>\n",
       "      <td>SOMALIA</td>\n",
       "      <td>R</td>\n",
       "      <td>KELP</td>\n",
       "      <td>HCMM</td>\n",
       "      <td>68</td>\n",
       "      <td>1</td>\n",
       "      <td>False</td>\n",
       "      <td>0.0</td>\n",
       "      <td>25.0</td>\n",
       "      <td>36.764706</td>\n",
       "    </tr>\n",
       "    <tr>\n",
       "      <th>9</th>\n",
       "      <td>2018-06-28</td>\n",
       "      <td>SOMALIA</td>\n",
       "      <td>R</td>\n",
       "      <td>KAEX</td>\n",
       "      <td>HCMM</td>\n",
       "      <td>83</td>\n",
       "      <td>1</td>\n",
       "      <td>False</td>\n",
       "      <td>0.0</td>\n",
       "      <td>28.0</td>\n",
       "      <td>33.734940</td>\n",
       "    </tr>\n",
       "    <tr>\n",
       "      <th>10</th>\n",
       "      <td>2018-11-29</td>\n",
       "      <td>SOMALIA</td>\n",
       "      <td>R</td>\n",
       "      <td>KELP</td>\n",
       "      <td>HCMM</td>\n",
       "      <td>66</td>\n",
       "      <td>1</td>\n",
       "      <td>False</td>\n",
       "      <td>0.0</td>\n",
       "      <td>17.0</td>\n",
       "      <td>25.757576</td>\n",
       "    </tr>\n",
       "  </tbody>\n",
       "</table>\n",
       "</div>"
      ],
      "text/plain": [
       "   MissionDate CountryOfCitizenship R-T PULOC DropLoc  AlienMasterIDCount  \\\n",
       "0   2012-04-15              SOMALIA   R  KAEX    HKJK                   9   \n",
       "1   2012-11-17              SOMALIA   R  KAEX    HKJK                  10   \n",
       "2   2014-06-03              SOMALIA   R  KMIA    HKJK                   2   \n",
       "3   2017-01-24              SOMALIA   R  KAEX    HCMM                  90   \n",
       "4   2017-03-09              SOMALIA   R  KAEX    HCMM                  68   \n",
       "5   2017-05-11              SOMALIA   R  KAEX    HCMM                  67   \n",
       "6   2017-05-25              SOMALIA   R  KIWA    HCMM                  50   \n",
       "7   2017-07-27              SOMALIA   R  KAEX    HCMM                  67   \n",
       "8   2018-03-29              SOMALIA   R  KELP    HCMM                  68   \n",
       "9   2018-06-28              SOMALIA   R  KAEX    HCMM                  83   \n",
       "10  2018-11-29              SOMALIA   R  KELP    HCMM                  66   \n",
       "\n",
       "    MissionIDCount  JuvenileCount  JuvPercent  NCCount   NCPercent  \n",
       "0                1          False         0.0      9.0  100.000000  \n",
       "1                1          False         0.0      1.0   10.000000  \n",
       "2                1          False         0.0      2.0  100.000000  \n",
       "3                1          False         0.0     60.0   66.666667  \n",
       "4                1          False         0.0     56.0   82.352941  \n",
       "5                1          False         0.0     47.0   70.149254  \n",
       "6                1          False         0.0     21.0   42.000000  \n",
       "7                1          False         0.0     19.0   28.358209  \n",
       "8                1          False         0.0     25.0   36.764706  \n",
       "9                1          False         0.0     28.0   33.734940  \n",
       "10               1          False         0.0     17.0   25.757576  "
      ]
     },
     "execution_count": 62,
     "metadata": {},
     "output_type": "execute_result"
    }
   ],
   "source": [
    "removals.tail(20)"
   ]
  },
  {
   "cell_type": "code",
   "execution_count": 63,
   "metadata": {},
   "outputs": [],
   "source": [
    "removals.to_csv(f'../output/{nationality}_removal_flights.csv')"
   ]
  },
  {
   "cell_type": "code",
   "execution_count": 64,
   "metadata": {},
   "outputs": [
    {
     "data": {
      "text/html": [
       "<div>\n",
       "<style scoped>\n",
       "    .dataframe tbody tr th:only-of-type {\n",
       "        vertical-align: middle;\n",
       "    }\n",
       "\n",
       "    .dataframe tbody tr th {\n",
       "        vertical-align: top;\n",
       "    }\n",
       "\n",
       "    .dataframe thead th {\n",
       "        text-align: right;\n",
       "    }\n",
       "</style>\n",
       "<table border=\"1\" class=\"dataframe\">\n",
       "  <thead>\n",
       "    <tr style=\"text-align: right;\">\n",
       "      <th></th>\n",
       "      <th>MissionDate</th>\n",
       "      <th>CountryOfCitizenship</th>\n",
       "      <th>R-T</th>\n",
       "      <th>PULOC</th>\n",
       "      <th>DropLoc</th>\n",
       "      <th>AlienMasterIDCount</th>\n",
       "      <th>MissionIDCount</th>\n",
       "      <th>JuvenileCount</th>\n",
       "      <th>JuvPercent</th>\n",
       "      <th>NCCount</th>\n",
       "      <th>NCPercent</th>\n",
       "    </tr>\n",
       "  </thead>\n",
       "  <tbody>\n",
       "    <tr>\n",
       "      <th>0</th>\n",
       "      <td>2010-10-01</td>\n",
       "      <td>SOMALIA</td>\n",
       "      <td>T</td>\n",
       "      <td>KSAN</td>\n",
       "      <td>KIWA</td>\n",
       "      <td>3</td>\n",
       "      <td>1</td>\n",
       "      <td>False</td>\n",
       "      <td>0.0</td>\n",
       "      <td>0.0</td>\n",
       "      <td>0.0</td>\n",
       "    </tr>\n",
       "    <tr>\n",
       "      <th>1</th>\n",
       "      <td>2010-10-02</td>\n",
       "      <td>SOMALIA</td>\n",
       "      <td>T</td>\n",
       "      <td>KIWA</td>\n",
       "      <td>KBFI</td>\n",
       "      <td>3</td>\n",
       "      <td>1</td>\n",
       "      <td>False</td>\n",
       "      <td>0.0</td>\n",
       "      <td>0.0</td>\n",
       "      <td>0.0</td>\n",
       "    </tr>\n",
       "    <tr>\n",
       "      <th>2</th>\n",
       "      <td>2010-10-15</td>\n",
       "      <td>SOMALIA</td>\n",
       "      <td>T</td>\n",
       "      <td>KONT</td>\n",
       "      <td>KIWA</td>\n",
       "      <td>9</td>\n",
       "      <td>1</td>\n",
       "      <td>False</td>\n",
       "      <td>0.0</td>\n",
       "      <td>0.0</td>\n",
       "      <td>0.0</td>\n",
       "    </tr>\n",
       "    <tr>\n",
       "      <th>3</th>\n",
       "      <td>2010-10-16</td>\n",
       "      <td>SOMALIA</td>\n",
       "      <td>T</td>\n",
       "      <td>KIWA</td>\n",
       "      <td>KBFI</td>\n",
       "      <td>9</td>\n",
       "      <td>1</td>\n",
       "      <td>False</td>\n",
       "      <td>0.0</td>\n",
       "      <td>0.0</td>\n",
       "      <td>0.0</td>\n",
       "    </tr>\n",
       "    <tr>\n",
       "      <th>4</th>\n",
       "      <td>2010-11-09</td>\n",
       "      <td>SOMALIA</td>\n",
       "      <td>T</td>\n",
       "      <td>KSAN</td>\n",
       "      <td>KIWA</td>\n",
       "      <td>1</td>\n",
       "      <td>1</td>\n",
       "      <td>False</td>\n",
       "      <td>0.0</td>\n",
       "      <td>1.0</td>\n",
       "      <td>100.0</td>\n",
       "    </tr>\n",
       "  </tbody>\n",
       "</table>\n",
       "</div>"
      ],
      "text/plain": [
       "  MissionDate CountryOfCitizenship R-T PULOC DropLoc  AlienMasterIDCount  \\\n",
       "0  2010-10-01              SOMALIA   T  KSAN    KIWA                   3   \n",
       "1  2010-10-02              SOMALIA   T  KIWA    KBFI                   3   \n",
       "2  2010-10-15              SOMALIA   T  KONT    KIWA                   9   \n",
       "3  2010-10-16              SOMALIA   T  KIWA    KBFI                   9   \n",
       "4  2010-11-09              SOMALIA   T  KSAN    KIWA                   1   \n",
       "\n",
       "   MissionIDCount  JuvenileCount  JuvPercent  NCCount  NCPercent  \n",
       "0               1          False         0.0      0.0        0.0  \n",
       "1               1          False         0.0      0.0        0.0  \n",
       "2               1          False         0.0      0.0        0.0  \n",
       "3               1          False         0.0      0.0        0.0  \n",
       "4               1          False         0.0      1.0      100.0  "
      ]
     },
     "execution_count": 64,
     "metadata": {},
     "output_type": "execute_result"
    }
   ],
   "source": [
    "transfers.head()"
   ]
  },
  {
   "cell_type": "code",
   "execution_count": 65,
   "metadata": {},
   "outputs": [],
   "source": [
    "# transfers.to_csv(f'../output/{nationality.lower()}_transfers.csv.gz', compression='gzip', sep='|', index=False)\n",
    "# removals.to_csv(f'../output/{nationality.lower()}_repatriations.csv.gz', compression='gzip', sep='|', index=False)"
   ]
  },
  {
   "cell_type": "code",
   "execution_count": 66,
   "metadata": {},
   "outputs": [],
   "source": [
    "removals.set_index('MissionDate', inplace=True)"
   ]
  },
  {
   "cell_type": "code",
   "execution_count": 67,
   "metadata": {},
   "outputs": [],
   "source": [
    "transfers.set_index('MissionDate', inplace=True)"
   ]
  },
  {
   "cell_type": "code",
   "execution_count": 68,
   "metadata": {},
   "outputs": [],
   "source": [
    "r_cum = removals['AlienMasterIDCount'].cumsum()\n",
    "t_cum = transfers['AlienMasterIDCount'].cumsum()"
   ]
  },
  {
   "cell_type": "code",
   "execution_count": 69,
   "metadata": {},
   "outputs": [
    {
     "data": {
      "text/plain": [
       "<matplotlib.axes._subplots.AxesSubplot at 0x1a1af0c898>"
      ]
     },
     "execution_count": 69,
     "metadata": {},
     "output_type": "execute_result"
    },
    {
     "data": {
      "image/png": "[encoded data removed]",
      "text/plain": [
       "<Figure size 432x288 with 1 Axes>"
      ]
     },
     "metadata": {
      "needs_background": "light"
     },
     "output_type": "display_data"
    }
   ],
   "source": [
    "# Cumulative removals\n",
    "# Based on density of removals, decide whether to use points or line\n",
    "# r_cum.plot(style='o-')\n",
    "r_cum.plot(style='-')"
   ]
  },
  {
   "cell_type": "code",
   "execution_count": 70,
   "metadata": {},
   "outputs": [
    {
     "data": {
      "text/plain": [
       "<matplotlib.axes._subplots.AxesSubplot at 0x1a1b04aba8>"
      ]
     },
     "execution_count": 70,
     "metadata": {},
     "output_type": "execute_result"
    },
    {
     "data": {
      "image/png": "[encoded data removed]",
      "text/plain": [
       "<Figure size 432x288 with 1 Axes>"
      ]
     },
     "metadata": {
      "needs_background": "light"
     },
     "output_type": "display_data"
    }
   ],
   "source": [
    "# Cumulative transfers\n",
    "t_cum.plot()"
   ]
  },
  {
   "cell_type": "code",
   "execution_count": 71,
   "metadata": {},
   "outputs": [],
   "source": [
    "g = nationality_df.groupby([pd.Grouper(freq='AS-OCT', sort=True), 'R-T', 'air_AirportName', 'air2_AirportName', 'air2_Country'])[['AlienMasterID', 'MissionID']].nunique()\n",
    "g.reset_index(inplace=True)\n",
    "removal_dropoff_airports = g[g['R-T'] == 'R'].copy()\n",
    "transfer_dropoff_airports = g[g['R-T'] == 'T'].copy()"
   ]
  },
  {
   "cell_type": "code",
   "execution_count": 72,
   "metadata": {},
   "outputs": [],
   "source": [
    "removal_dropoff_airports.sort_values(by=['MissionDate', 'AlienMasterID'], ascending=[True, False], inplace=True)\n",
    "transfer_dropoff_airports.sort_values(by=['MissionDate', 'AlienMasterID'], ascending=[True, False], inplace=True)"
   ]
  },
  {
   "cell_type": "code",
   "execution_count": 73,
   "metadata": {},
   "outputs": [
    {
     "data": {
      "text/html": [
       "<div>\n",
       "<style scoped>\n",
       "    .dataframe tbody tr th:only-of-type {\n",
       "        vertical-align: middle;\n",
       "    }\n",
       "\n",
       "    .dataframe tbody tr th {\n",
       "        vertical-align: top;\n",
       "    }\n",
       "\n",
       "    .dataframe thead th {\n",
       "        text-align: right;\n",
       "    }\n",
       "</style>\n",
       "<table border=\"1\" class=\"dataframe\">\n",
       "  <thead>\n",
       "    <tr style=\"text-align: right;\">\n",
       "      <th></th>\n",
       "      <th>MissionDate</th>\n",
       "      <th>R-T</th>\n",
       "      <th>air_AirportName</th>\n",
       "      <th>air2_AirportName</th>\n",
       "      <th>air2_Country</th>\n",
       "      <th>AlienMasterID</th>\n",
       "      <th>MissionID</th>\n",
       "    </tr>\n",
       "  </thead>\n",
       "  <tbody>\n",
       "    <tr>\n",
       "      <th>12</th>\n",
       "      <td>2011-10-01</td>\n",
       "      <td>R</td>\n",
       "      <td>Alexandria International Airport</td>\n",
       "      <td>Jomo Kenyatta International Airport</td>\n",
       "      <td>Kenya</td>\n",
       "      <td>9</td>\n",
       "      <td>1</td>\n",
       "    </tr>\n",
       "    <tr>\n",
       "      <th>25</th>\n",
       "      <td>2012-10-01</td>\n",
       "      <td>R</td>\n",
       "      <td>Alexandria International Airport</td>\n",
       "      <td>Jomo Kenyatta International Airport</td>\n",
       "      <td>Kenya</td>\n",
       "      <td>10</td>\n",
       "      <td>1</td>\n",
       "    </tr>\n",
       "    <tr>\n",
       "      <th>55</th>\n",
       "      <td>2013-10-01</td>\n",
       "      <td>R</td>\n",
       "      <td>Miami International Airport</td>\n",
       "      <td>Jomo Kenyatta International Airport</td>\n",
       "      <td>Kenya</td>\n",
       "      <td>2</td>\n",
       "      <td>1</td>\n",
       "    </tr>\n",
       "    <tr>\n",
       "      <th>154</th>\n",
       "      <td>2016-10-01</td>\n",
       "      <td>R</td>\n",
       "      <td>Alexandria International Airport</td>\n",
       "      <td>Aden Adde International Airport</td>\n",
       "      <td>Somalia</td>\n",
       "      <td>292</td>\n",
       "      <td>4</td>\n",
       "    </tr>\n",
       "    <tr>\n",
       "      <th>155</th>\n",
       "      <td>2016-10-01</td>\n",
       "      <td>R</td>\n",
       "      <td>Phoenix-Mesa-Gateway Airport</td>\n",
       "      <td>Aden Adde International Airport</td>\n",
       "      <td>Somalia</td>\n",
       "      <td>50</td>\n",
       "      <td>1</td>\n",
       "    </tr>\n",
       "  </tbody>\n",
       "</table>\n",
       "</div>"
      ],
      "text/plain": [
       "    MissionDate R-T                   air_AirportName  \\\n",
       "12   2011-10-01   R  Alexandria International Airport   \n",
       "25   2012-10-01   R  Alexandria International Airport   \n",
       "55   2013-10-01   R       Miami International Airport   \n",
       "154  2016-10-01   R  Alexandria International Airport   \n",
       "155  2016-10-01   R      Phoenix-Mesa-Gateway Airport   \n",
       "\n",
       "                        air2_AirportName air2_Country  AlienMasterID  \\\n",
       "12   Jomo Kenyatta International Airport        Kenya              9   \n",
       "25   Jomo Kenyatta International Airport        Kenya             10   \n",
       "55   Jomo Kenyatta International Airport        Kenya              2   \n",
       "154      Aden Adde International Airport      Somalia            292   \n",
       "155      Aden Adde International Airport      Somalia             50   \n",
       "\n",
       "     MissionID  \n",
       "12           1  \n",
       "25           1  \n",
       "55           1  \n",
       "154          4  \n",
       "155          1  "
      ]
     },
     "execution_count": 73,
     "metadata": {},
     "output_type": "execute_result"
    }
   ],
   "source": [
    "removal_dropoff_airports.head()"
   ]
  },
  {
   "cell_type": "code",
   "execution_count": 74,
   "metadata": {},
   "outputs": [
    {
     "data": {
      "text/html": [
       "<div>\n",
       "<style scoped>\n",
       "    .dataframe tbody tr th:only-of-type {\n",
       "        vertical-align: middle;\n",
       "    }\n",
       "\n",
       "    .dataframe tbody tr th {\n",
       "        vertical-align: top;\n",
       "    }\n",
       "\n",
       "    .dataframe thead th {\n",
       "        text-align: right;\n",
       "    }\n",
       "</style>\n",
       "<table border=\"1\" class=\"dataframe\">\n",
       "  <thead>\n",
       "    <tr style=\"text-align: right;\">\n",
       "      <th></th>\n",
       "      <th>MissionDate</th>\n",
       "      <th>R-T</th>\n",
       "      <th>air_AirportName</th>\n",
       "      <th>air2_AirportName</th>\n",
       "      <th>air2_Country</th>\n",
       "      <th>AlienMasterID</th>\n",
       "      <th>MissionID</th>\n",
       "    </tr>\n",
       "  </thead>\n",
       "  <tbody>\n",
       "    <tr>\n",
       "      <th>5</th>\n",
       "      <td>2010-10-01</td>\n",
       "      <td>T</td>\n",
       "      <td>Phoenix-Mesa-Gateway Airport</td>\n",
       "      <td>Boeing Field King County International Airport</td>\n",
       "      <td>USA</td>\n",
       "      <td>12</td>\n",
       "      <td>2</td>\n",
       "    </tr>\n",
       "    <tr>\n",
       "      <th>11</th>\n",
       "      <td>2010-10-01</td>\n",
       "      <td>T</td>\n",
       "      <td>San Diego International Airport</td>\n",
       "      <td>Phoenix-Mesa-Gateway Airport</td>\n",
       "      <td>USA</td>\n",
       "      <td>11</td>\n",
       "      <td>3</td>\n",
       "    </tr>\n",
       "    <tr>\n",
       "      <th>4</th>\n",
       "      <td>2010-10-01</td>\n",
       "      <td>T</td>\n",
       "      <td>Ontario International Airport</td>\n",
       "      <td>Phoenix-Mesa-Gateway Airport</td>\n",
       "      <td>USA</td>\n",
       "      <td>10</td>\n",
       "      <td>2</td>\n",
       "    </tr>\n",
       "    <tr>\n",
       "      <th>7</th>\n",
       "      <td>2010-10-01</td>\n",
       "      <td>T</td>\n",
       "      <td>Phoenix-Mesa-Gateway Airport</td>\n",
       "      <td>Valley International Airport</td>\n",
       "      <td>USA</td>\n",
       "      <td>7</td>\n",
       "      <td>1</td>\n",
       "    </tr>\n",
       "    <tr>\n",
       "      <th>0</th>\n",
       "      <td>2010-10-01</td>\n",
       "      <td>T</td>\n",
       "      <td>El Paso International Airport</td>\n",
       "      <td>Phoenix-Mesa-Gateway Airport</td>\n",
       "      <td>USA</td>\n",
       "      <td>4</td>\n",
       "      <td>1</td>\n",
       "    </tr>\n",
       "    <tr>\n",
       "      <th>8</th>\n",
       "      <td>2010-10-01</td>\n",
       "      <td>T</td>\n",
       "      <td>Phoenix-Mesa-Gateway Airport</td>\n",
       "      <td>Abilene Regional Airport</td>\n",
       "      <td>USA</td>\n",
       "      <td>4</td>\n",
       "      <td>1</td>\n",
       "    </tr>\n",
       "    <tr>\n",
       "      <th>3</th>\n",
       "      <td>2010-10-01</td>\n",
       "      <td>T</td>\n",
       "      <td>Ontario International Airport</td>\n",
       "      <td>George Bush Intercontinental Houston Airport</td>\n",
       "      <td>USA</td>\n",
       "      <td>2</td>\n",
       "      <td>1</td>\n",
       "    </tr>\n",
       "    <tr>\n",
       "      <th>6</th>\n",
       "      <td>2010-10-01</td>\n",
       "      <td>T</td>\n",
       "      <td>Phoenix-Mesa-Gateway Airport</td>\n",
       "      <td>McCarran International Airport</td>\n",
       "      <td>USA</td>\n",
       "      <td>2</td>\n",
       "      <td>2</td>\n",
       "    </tr>\n",
       "    <tr>\n",
       "      <th>1</th>\n",
       "      <td>2010-10-01</td>\n",
       "      <td>T</td>\n",
       "      <td>Harrisburg International Airport</td>\n",
       "      <td>Alexandria International Airport</td>\n",
       "      <td>USA</td>\n",
       "      <td>1</td>\n",
       "      <td>1</td>\n",
       "    </tr>\n",
       "    <tr>\n",
       "      <th>2</th>\n",
       "      <td>2010-10-01</td>\n",
       "      <td>T</td>\n",
       "      <td>Meadows Field</td>\n",
       "      <td>San Diego International Airport</td>\n",
       "      <td>USA</td>\n",
       "      <td>1</td>\n",
       "      <td>1</td>\n",
       "    </tr>\n",
       "  </tbody>\n",
       "</table>\n",
       "</div>"
      ],
      "text/plain": [
       "   MissionDate R-T                   air_AirportName  \\\n",
       "5   2010-10-01   T      Phoenix-Mesa-Gateway Airport   \n",
       "11  2010-10-01   T   San Diego International Airport   \n",
       "4   2010-10-01   T     Ontario International Airport   \n",
       "7   2010-10-01   T      Phoenix-Mesa-Gateway Airport   \n",
       "0   2010-10-01   T     El Paso International Airport   \n",
       "8   2010-10-01   T      Phoenix-Mesa-Gateway Airport   \n",
       "3   2010-10-01   T     Ontario International Airport   \n",
       "6   2010-10-01   T      Phoenix-Mesa-Gateway Airport   \n",
       "1   2010-10-01   T  Harrisburg International Airport   \n",
       "2   2010-10-01   T                     Meadows Field   \n",
       "\n",
       "                                  air2_AirportName air2_Country  \\\n",
       "5   Boeing Field King County International Airport          USA   \n",
       "11                    Phoenix-Mesa-Gateway Airport          USA   \n",
       "4                     Phoenix-Mesa-Gateway Airport          USA   \n",
       "7                     Valley International Airport          USA   \n",
       "0                     Phoenix-Mesa-Gateway Airport          USA   \n",
       "8                         Abilene Regional Airport          USA   \n",
       "3     George Bush Intercontinental Houston Airport          USA   \n",
       "6                   McCarran International Airport          USA   \n",
       "1                 Alexandria International Airport          USA   \n",
       "2                  San Diego International Airport          USA   \n",
       "\n",
       "    AlienMasterID  MissionID  \n",
       "5              12          2  \n",
       "11             11          3  \n",
       "4              10          2  \n",
       "7               7          1  \n",
       "0               4          1  \n",
       "8               4          1  \n",
       "3               2          1  \n",
       "6               2          2  \n",
       "1               1          1  \n",
       "2               1          1  "
      ]
     },
     "execution_count": 74,
     "metadata": {},
     "output_type": "execute_result"
    }
   ],
   "source": [
    "transfer_dropoff_airports.head(10)"
   ]
  },
  {
   "cell_type": "code",
   "execution_count": 75,
   "metadata": {},
   "outputs": [],
   "source": [
    "# removal_dropoff_airports.to_csv(f'../output/{nationality}_repatriation_dropoff_airports.csv')\n",
    "# transfer_dropoff_airports.to_csv(f'../output/{nationality}_transfer_dropoff_airports.csv')"
   ]
  },
  {
   "cell_type": "code",
   "execution_count": 76,
   "metadata": {},
   "outputs": [],
   "source": [
    "removal_dropoff_airports = removal_dropoff_airports.set_index('MissionDate')"
   ]
  },
  {
   "cell_type": "code",
   "execution_count": 77,
   "metadata": {},
   "outputs": [],
   "source": [
    "removal_sum = removal_dropoff_airports.groupby([pd.Grouper(freq='AS-OCT'), 'air2_AirportName'])[['AlienMasterID']].sum()"
   ]
  },
  {
   "cell_type": "code",
   "execution_count": 78,
   "metadata": {},
   "outputs": [],
   "source": [
    "removal_sum.reset_index(inplace=True)\n",
    "removal_sum = removal_sum.sort_values(by=['MissionDate', 'AlienMasterID'], ascending=[True, False])"
   ]
  },
  {
   "cell_type": "code",
   "execution_count": 79,
   "metadata": {},
   "outputs": [],
   "source": [
    "removal_sum.set_index('MissionDate', inplace=True)"
   ]
  },
  {
   "cell_type": "code",
   "execution_count": 80,
   "metadata": {},
   "outputs": [],
   "source": [
    "removal_sum = removal_sum.dropna()"
   ]
  },
  {
   "cell_type": "code",
   "execution_count": 86,
   "metadata": {},
   "outputs": [],
   "source": [
    "top_5_df = pd.DataFrame()\n",
    "\n",
    "for year in removal_sum.index.unique():\n",
    "    temp = removal_sum.loc[f'{year}'][['air2_AirportName', 'AlienMasterID']]\n",
    "    temp_top_5 = temp[0:5]\n",
    "    if len(temp) > 5:\n",
    "        all_other_count = sum(temp['AlienMasterID'][5:])\n",
    "    else:\n",
    "        all_other_count = 0\n",
    "    other_df = pd.DataFrame([['ALL OTHERS', all_other_count]], columns=['air2_AirportName', 'AlienMasterID'], index=[year])\n",
    "    temp_top_5 = temp_top_5.append(other_df)\n",
    "    top_5_df = top_5_df.append(temp_top_5)"
   ]
  },
  {
   "cell_type": "code",
   "execution_count": 87,
   "metadata": {},
   "outputs": [
    {
     "data": {
      "text/html": [
       "<div>\n",
       "<style scoped>\n",
       "    .dataframe tbody tr th:only-of-type {\n",
       "        vertical-align: middle;\n",
       "    }\n",
       "\n",
       "    .dataframe tbody tr th {\n",
       "        vertical-align: top;\n",
       "    }\n",
       "\n",
       "    .dataframe thead th {\n",
       "        text-align: right;\n",
       "    }\n",
       "</style>\n",
       "<table border=\"1\" class=\"dataframe\">\n",
       "  <thead>\n",
       "    <tr style=\"text-align: right;\">\n",
       "      <th></th>\n",
       "      <th>0</th>\n",
       "      <th>air2_AirportName</th>\n",
       "      <th>AlienMasterID</th>\n",
       "    </tr>\n",
       "  </thead>\n",
       "  <tbody>\n",
       "    <tr>\n",
       "      <th>air2_AirportName</th>\n",
       "      <td>Jomo Kenyatta International Airport</td>\n",
       "      <td>NaN</td>\n",
       "      <td>NaN</td>\n",
       "    </tr>\n",
       "    <tr>\n",
       "      <th>AlienMasterID</th>\n",
       "      <td>9</td>\n",
       "      <td>NaN</td>\n",
       "      <td>NaN</td>\n",
       "    </tr>\n",
       "    <tr>\n",
       "      <th>2011-10-01 00:00:00</th>\n",
       "      <td>NaN</td>\n",
       "      <td>ALL OTHERS</td>\n",
       "      <td>0.0</td>\n",
       "    </tr>\n",
       "    <tr>\n",
       "      <th>air2_AirportName</th>\n",
       "      <td>Jomo Kenyatta International Airport</td>\n",
       "      <td>NaN</td>\n",
       "      <td>NaN</td>\n",
       "    </tr>\n",
       "    <tr>\n",
       "      <th>AlienMasterID</th>\n",
       "      <td>10</td>\n",
       "      <td>NaN</td>\n",
       "      <td>NaN</td>\n",
       "    </tr>\n",
       "    <tr>\n",
       "      <th>2012-10-01 00:00:00</th>\n",
       "      <td>NaN</td>\n",
       "      <td>ALL OTHERS</td>\n",
       "      <td>0.0</td>\n",
       "    </tr>\n",
       "    <tr>\n",
       "      <th>air2_AirportName</th>\n",
       "      <td>Jomo Kenyatta International Airport</td>\n",
       "      <td>NaN</td>\n",
       "      <td>NaN</td>\n",
       "    </tr>\n",
       "    <tr>\n",
       "      <th>AlienMasterID</th>\n",
       "      <td>2</td>\n",
       "      <td>NaN</td>\n",
       "      <td>NaN</td>\n",
       "    </tr>\n",
       "    <tr>\n",
       "      <th>2013-10-01 00:00:00</th>\n",
       "      <td>NaN</td>\n",
       "      <td>ALL OTHERS</td>\n",
       "      <td>0.0</td>\n",
       "    </tr>\n",
       "    <tr>\n",
       "      <th>air2_AirportName</th>\n",
       "      <td>Aden Adde International Airport</td>\n",
       "      <td>NaN</td>\n",
       "      <td>NaN</td>\n",
       "    </tr>\n",
       "    <tr>\n",
       "      <th>AlienMasterID</th>\n",
       "      <td>342</td>\n",
       "      <td>NaN</td>\n",
       "      <td>NaN</td>\n",
       "    </tr>\n",
       "    <tr>\n",
       "      <th>2016-10-01 00:00:00</th>\n",
       "      <td>NaN</td>\n",
       "      <td>ALL OTHERS</td>\n",
       "      <td>0.0</td>\n",
       "    </tr>\n",
       "    <tr>\n",
       "      <th>air2_AirportName</th>\n",
       "      <td>Aden Adde International Airport</td>\n",
       "      <td>NaN</td>\n",
       "      <td>NaN</td>\n",
       "    </tr>\n",
       "    <tr>\n",
       "      <th>AlienMasterID</th>\n",
       "      <td>151</td>\n",
       "      <td>NaN</td>\n",
       "      <td>NaN</td>\n",
       "    </tr>\n",
       "    <tr>\n",
       "      <th>2017-10-01 00:00:00</th>\n",
       "      <td>NaN</td>\n",
       "      <td>ALL OTHERS</td>\n",
       "      <td>0.0</td>\n",
       "    </tr>\n",
       "    <tr>\n",
       "      <th>air2_AirportName</th>\n",
       "      <td>Aden Adde International Airport</td>\n",
       "      <td>NaN</td>\n",
       "      <td>NaN</td>\n",
       "    </tr>\n",
       "    <tr>\n",
       "      <th>AlienMasterID</th>\n",
       "      <td>66</td>\n",
       "      <td>NaN</td>\n",
       "      <td>NaN</td>\n",
       "    </tr>\n",
       "    <tr>\n",
       "      <th>2018-10-01 00:00:00</th>\n",
       "      <td>NaN</td>\n",
       "      <td>ALL OTHERS</td>\n",
       "      <td>0.0</td>\n",
       "    </tr>\n",
       "  </tbody>\n",
       "</table>\n",
       "</div>"
      ],
      "text/plain": [
       "                                                       0 air2_AirportName  \\\n",
       "air2_AirportName     Jomo Kenyatta International Airport              NaN   \n",
       "AlienMasterID                                          9              NaN   \n",
       "2011-10-01 00:00:00                                  NaN       ALL OTHERS   \n",
       "air2_AirportName     Jomo Kenyatta International Airport              NaN   \n",
       "AlienMasterID                                         10              NaN   \n",
       "2012-10-01 00:00:00                                  NaN       ALL OTHERS   \n",
       "air2_AirportName     Jomo Kenyatta International Airport              NaN   \n",
       "AlienMasterID                                          2              NaN   \n",
       "2013-10-01 00:00:00                                  NaN       ALL OTHERS   \n",
       "air2_AirportName         Aden Adde International Airport              NaN   \n",
       "AlienMasterID                                        342              NaN   \n",
       "2016-10-01 00:00:00                                  NaN       ALL OTHERS   \n",
       "air2_AirportName         Aden Adde International Airport              NaN   \n",
       "AlienMasterID                                        151              NaN   \n",
       "2017-10-01 00:00:00                                  NaN       ALL OTHERS   \n",
       "air2_AirportName         Aden Adde International Airport              NaN   \n",
       "AlienMasterID                                         66              NaN   \n",
       "2018-10-01 00:00:00                                  NaN       ALL OTHERS   \n",
       "\n",
       "                     AlienMasterID  \n",
       "air2_AirportName               NaN  \n",
       "AlienMasterID                  NaN  \n",
       "2011-10-01 00:00:00            0.0  \n",
       "air2_AirportName               NaN  \n",
       "AlienMasterID                  NaN  \n",
       "2012-10-01 00:00:00            0.0  \n",
       "air2_AirportName               NaN  \n",
       "AlienMasterID                  NaN  \n",
       "2013-10-01 00:00:00            0.0  \n",
       "air2_AirportName               NaN  \n",
       "AlienMasterID                  NaN  \n",
       "2016-10-01 00:00:00            0.0  \n",
       "air2_AirportName               NaN  \n",
       "AlienMasterID                  NaN  \n",
       "2017-10-01 00:00:00            0.0  \n",
       "air2_AirportName               NaN  \n",
       "AlienMasterID                  NaN  \n",
       "2018-10-01 00:00:00            0.0  "
      ]
     },
     "execution_count": 87,
     "metadata": {},
     "output_type": "execute_result"
    }
   ],
   "source": [
    "top_5_df"
   ]
  },
  {
   "cell_type": "code",
   "execution_count": 82,
   "metadata": {},
   "outputs": [
    {
     "ename": "AttributeError",
     "evalue": "'Index' object has no attribute 'year'",
     "output_type": "error",
     "traceback": [
      "\u001b[0;31m---------------------------------------------------------------------------\u001b[0m",
      "\u001b[0;31mAttributeError\u001b[0m                            Traceback (most recent call last)",
      "\u001b[0;32m<ipython-input-82-ad0aeecb4429>\u001b[0m in \u001b[0;36m<module>\u001b[0;34m\u001b[0m\n\u001b[0;32m----> 1\u001b[0;31m \u001b[0mtop_5_df\u001b[0m\u001b[0;34m.\u001b[0m\u001b[0mindex\u001b[0m \u001b[0;34m=\u001b[0m \u001b[0;34m[\u001b[0m\u001b[0;34mf'FY{str(x)[2:4]}'\u001b[0m \u001b[0;32mfor\u001b[0m \u001b[0mx\u001b[0m \u001b[0;32min\u001b[0m \u001b[0mtop_5_df\u001b[0m\u001b[0;34m.\u001b[0m\u001b[0mindex\u001b[0m\u001b[0;34m.\u001b[0m\u001b[0myear\u001b[0m \u001b[0;34m+\u001b[0m \u001b[0;36m1\u001b[0m\u001b[0;34m]\u001b[0m\u001b[0;34m\u001b[0m\u001b[0;34m\u001b[0m\u001b[0m\n\u001b[0m",
      "\u001b[0;31mAttributeError\u001b[0m: 'Index' object has no attribute 'year'"
     ]
    }
   ],
   "source": [
    "top_5_df.index = [f'FY{str(x)[2:4]}' for x in top_5_df.index.year + 1]"
   ]
  },
  {
   "cell_type": "code",
   "execution_count": null,
   "metadata": {},
   "outputs": [],
   "source": [
    "pivot = pd.pivot_table(data=top_5_df,\n",
    "                       index=top_5_df.index,\n",
    "                       columns='air2_AirportName',\n",
    "                       values='AlienMasterID',\n",
    "                       aggfunc=np.sum,\n",
    "                       fill_value=0)\n",
    "\n",
    "pivot = pivot.reindex(pivot.sum().sort_values(ascending=False).index, axis=1)\n",
    "cols = list(pivot.columns)\n",
    "cols.remove('ALL OTHERS')\n",
    "cols.append('ALL OTHERS')\n",
    "pivot = pivot[cols]\n",
    "pivot.columns = pivot.columns.str.title()\n",
    "pivot.columns.name = 'Drop-off Airport'"
   ]
  },
  {
   "cell_type": "code",
   "execution_count": null,
   "metadata": {},
   "outputs": [],
   "source": [
    "def airport_trend(data, title=str, filename=str, xlabel=str, ylabel=str):\n",
    "    \n",
    "    fig, ax = plt.subplots()\n",
    "    \n",
    "    data.plot(kind='bar', stacked=True, legend=True, ax=ax).legend(bbox_to_anchor=(1,1))\n",
    "\n",
    "    ax.set_ylabel(ylabel, fontsize=16)\n",
    "    ax.set_xlabel(xlabel, fontsize=16)\n",
    "    ax.legend(fontsize=12)\n",
    "    ax.set_title(title, fontsize=18)\n",
    "    ax.tick_params(labelsize=14)\n",
    "    plt.xticks(rotation=0)\n",
    "\n",
    "    fig.set_size_inches(10, 8)\n",
    "    fig.savefig(f'../output/{filename}.png', dpi=100, bbox_inches='tight')\n",
    "    return fig, ax"
   ]
  },
  {
   "cell_type": "code",
   "execution_count": null,
   "metadata": {},
   "outputs": [],
   "source": [
    "airport_trend(pivot,\n",
    "              title=f'{nationality.title()} \\n Top Dropoff Airports for Removals',\n",
    "              filename=f'{nationality}_top_removal_airports',\n",
    "              ylabel='Total Removals',\n",
    "              xlabel='Fiscal Year');"
   ]
  },
  {
   "cell_type": "markdown",
   "metadata": {},
   "source": [
    "## Juveniles only"
   ]
  },
  {
   "cell_type": "code",
   "execution_count": null,
   "metadata": {},
   "outputs": [],
   "source": [
    "juv_r_cum = removals['JuvenileCount'].cumsum()"
   ]
  },
  {
   "cell_type": "code",
   "execution_count": null,
   "metadata": {},
   "outputs": [],
   "source": [
    "juv_r_cum.plot()"
   ]
  },
  {
   "cell_type": "code",
   "execution_count": null,
   "metadata": {},
   "outputs": [],
   "source": [
    "removals.tail(20)"
   ]
  },
  {
   "cell_type": "code",
   "execution_count": null,
   "metadata": {},
   "outputs": [],
   "source": [
    "removals['JuvPercent'].plot();"
   ]
  },
  {
   "cell_type": "code",
   "execution_count": null,
   "metadata": {},
   "outputs": [],
   "source": [
    "removals['JuvenileCount'].plot();"
   ]
  },
  {
   "cell_type": "code",
   "execution_count": null,
   "metadata": {
    "scrolled": true
   },
   "outputs": [],
   "source": [
    "removals[removals['JuvPercent'] > .5]"
   ]
  },
  {
   "cell_type": "code",
   "execution_count": null,
   "metadata": {},
   "outputs": [],
   "source": [
    "transfers['JuvenileCount'].value_counts()"
   ]
  },
  {
   "cell_type": "code",
   "execution_count": null,
   "metadata": {},
   "outputs": [],
   "source": [
    "removals[removals['JuvenileCount'] > 20]"
   ]
  },
  {
   "cell_type": "markdown",
   "metadata": {},
   "source": [
    "# KBFI only"
   ]
  },
  {
   "cell_type": "code",
   "execution_count": null,
   "metadata": {},
   "outputs": [],
   "source": [
    "airport = 'KBFI'"
   ]
  },
  {
   "cell_type": "code",
   "execution_count": null,
   "metadata": {},
   "outputs": [],
   "source": [
    "airport_removals = pd.concat([removals[removals['PULOC'] == airport], removals[removals['DropLoc'] == airport]])"
   ]
  },
  {
   "cell_type": "code",
   "execution_count": null,
   "metadata": {},
   "outputs": [],
   "source": [
    "airport_removals"
   ]
  },
  {
   "cell_type": "code",
   "execution_count": null,
   "metadata": {},
   "outputs": [],
   "source": [
    "airport_transfers = pd.concat([transfers[transfers['PULOC'] == airport], transfers[transfers['DropLoc'] == airport]])"
   ]
  },
  {
   "cell_type": "code",
   "execution_count": null,
   "metadata": {},
   "outputs": [],
   "source": [
    "airport_transfers.to_csv(f'../output/{nationality}_transfers_tofrom_{airport}.csv')"
   ]
  },
  {
   "cell_type": "code",
   "execution_count": null,
   "metadata": {},
   "outputs": [],
   "source": [
    "airport_weekly_removals = airport_removals['AlienMasterIDCount'].resample('W').nunique()\n",
    "airport_weekly_transfers = airport_transfers['AlienMasterIDCount'].resample('W').nunique()\n",
    "airport_monthly_removals = airport_removals['AlienMasterIDCount'].resample('M').nunique()\n",
    "airport_monthly_transfers = airport_transfers['AlienMasterIDCount'].resample('M').nunique()\n",
    "airport_monthly_removal_flights = airport_removals['MissionIDCount'].resample('M').nunique()\n",
    "airport_monthly_transfers_flights = airport_transfers['MissionIDCount'].resample('M').nunique()\n",
    "airport_annual_removals = airport_removals['AlienMasterIDCount'].resample('AS-OCT').nunique()\n",
    "airport_annual_transfers = airport_transfers['AlienMasterIDCount'].resample('AS-OCT').nunique()\n",
    "airport_annual_removal_flights = airport_removals['MissionIDCount'].resample('AS-OCT').nunique()\n",
    "airport_annual_transfer_flights = airport_transfers['MissionIDCount'].resample('AS-OCT').nunique()\n",
    "airport_annual_juvenile_removals = airport_removals['JuvenileCount'].resample('AS-OCT').sum()\n",
    "airport_annual_juvenile_transfers = airport_transfers['JuvenileCount'].resample('AS-OCT').sum()"
   ]
  },
  {
   "cell_type": "code",
   "execution_count": null,
   "metadata": {},
   "outputs": [],
   "source": [
    "airport_annual_removals"
   ]
  },
  {
   "cell_type": "code",
   "execution_count": null,
   "metadata": {},
   "outputs": [],
   "source": [
    "airport_annual_removal_flights"
   ]
  },
  {
   "cell_type": "code",
   "execution_count": null,
   "metadata": {},
   "outputs": [],
   "source": [
    "airport_annual_juvenile_removals"
   ]
  },
  {
   "cell_type": "code",
   "execution_count": null,
   "metadata": {},
   "outputs": [],
   "source": [
    "airport_annual_transfers"
   ]
  },
  {
   "cell_type": "code",
   "execution_count": null,
   "metadata": {},
   "outputs": [],
   "source": [
    "airport_annual_transfer_flights"
   ]
  },
  {
   "cell_type": "code",
   "execution_count": null,
   "metadata": {},
   "outputs": [],
   "source": [
    "airport_annual_juvenile_transfers"
   ]
  },
  {
   "cell_type": "markdown",
   "metadata": {},
   "source": [
    "# Criminal status"
   ]
  },
  {
   "cell_type": "markdown",
   "metadata": {},
   "source": [
    " `Criminality` is not fully consistent with `Convictions`; especially in FY2010. "
   ]
  },
  {
   "cell_type": "code",
   "execution_count": null,
   "metadata": {},
   "outputs": [],
   "source": [
    "removals['NCPercent']"
   ]
  },
  {
   "cell_type": "code",
   "execution_count": null,
   "metadata": {},
   "outputs": [],
   "source": [
    "removals['NCCount'].resample('AS-OCT').sum()"
   ]
  },
  {
   "cell_type": "code",
   "execution_count": null,
   "metadata": {},
   "outputs": [],
   "source": [
    "removals['AlienMasterIDCount'].resample('AS-OCT').sum()"
   ]
  },
  {
   "cell_type": "code",
   "execution_count": null,
   "metadata": {},
   "outputs": [],
   "source": []
  }
 ],
 "metadata": {
  "kernelspec": {
   "display_name": "Python 3",
   "language": "python",
   "name": "python3"
  },
  "language_info": {
   "codemirror_mode": {
    "name": "ipython",
    "version": 3
   },
   "file_extension": ".py",
   "mimetype": "text/x-python",
   "name": "python",
   "nbconvert_exporter": "python",
   "pygments_lexer": "ipython3",
   "version": "3.7.1"
  }
 },
 "nbformat": 4,
 "nbformat_minor": 2
}
