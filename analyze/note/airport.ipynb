{
 "cells": [
  {
   "cell_type": "code",
   "execution_count": 102,
   "metadata": {},
   "outputs": [],
   "source": [
    "import numpy as np\n",
    "import pandas as pd\n",
    "import yaml\n",
    "import matplotlib.pyplot as plt"
   ]
  },
  {
   "cell_type": "markdown",
   "metadata": {},
   "source": [
    "# Import\n",
    "\n",
    "First we open a file containing a dictionary of columns and associated data types generated in `../../optimize/`, then we read input file."
   ]
  },
  {
   "cell_type": "code",
   "execution_count": 103,
   "metadata": {},
   "outputs": [
    {
     "name": "stdout",
     "output_type": "stream",
     "text": [
      "<class 'pandas.core.frame.DataFrame'>\n",
      "RangeIndex: 1763020 entries, 0 to 1763019\n",
      "Data columns (total 44 columns):\n",
      "Status                  category\n",
      "Sex                     category\n",
      "Convictions             category\n",
      "GangMember              category\n",
      "ClassLvl                float32\n",
      "Age                     float32\n",
      "MissionDate             datetime64[ns]\n",
      "MissionNumber           uint32\n",
      "PULOC                   category\n",
      "DropLoc                 category\n",
      "StrikeFromList          float32\n",
      "ReasonStruck            category\n",
      "R-T                     category\n",
      "Code                    category\n",
      "CountryOfCitizenship    category\n",
      "Juvenile                bool\n",
      "MissionWeek             uint8\n",
      "MissionQuarter          uint8\n",
      "MissionYear             uint16\n",
      "MissionMonth            uint8\n",
      "Criminality             category\n",
      "FamilyUnitFlag          float32\n",
      "UnaccompaniedFlag       float32\n",
      "AlienMasterID           uint32\n",
      "MissionID               uint16\n",
      "air_AirportID           float32\n",
      "air_AirportName         category\n",
      "air_City                category\n",
      "st_StateID              float32\n",
      "st_StateAbbr            category\n",
      "AOR_AORID               float32\n",
      "AOR_AOR                 category\n",
      "AOR_AORName             category\n",
      "air_Country             category\n",
      "air2_AirportID          float32\n",
      "air2_AirportName        category\n",
      "air2_City               category\n",
      "st2_StateID             float32\n",
      "st2_StateAbbr           category\n",
      "aor2_AORID              float32\n",
      "aor2_AOR                category\n",
      "aor2_AORName            category\n",
      "air2_Country            category\n",
      "NonCriminal             bool\n",
      "dtypes: bool(2), category(23), datetime64[ns](1), float32(11), uint16(2), uint32(2), uint8(3)\n",
      "memory usage: 168.6 MB\n"
     ]
    }
   ],
   "source": [
    "with open('../input/dtypes.yaml', 'r') as yamlfile:\n",
    "    column_types = yaml.load(yamlfile)\n",
    "\n",
    "read_csv_opts = {'sep': '|',\n",
    "                 'quotechar': '\"',\n",
    "                 'compression': 'gzip',\n",
    "                 'encoding': 'utf-8',\n",
    "                 'dtype': column_types,\n",
    "                 'parse_dates': ['MissionDate'],\n",
    "                 'infer_datetime_format': True}\n",
    "\n",
    "df = pd.read_csv('../input/ice-air.csv.gz', **read_csv_opts)\n",
    "\n",
    "df.info(memory_usage='deep')"
   ]
  },
  {
   "cell_type": "code",
   "execution_count": 104,
   "metadata": {},
   "outputs": [],
   "source": [
    "with open('../input/airport_dict.yaml', 'r') as yamlfile:\n",
    "    airport_dict = yaml.load(yamlfile)"
   ]
  },
  {
   "cell_type": "markdown",
   "metadata": {},
   "source": [
    "# Airport report\n",
    "\n",
    "For a given airport ICAO code represented in the ICE Air data, output a uniform set of variables, tables, and figures."
   ]
  },
  {
   "cell_type": "code",
   "execution_count": 105,
   "metadata": {},
   "outputs": [],
   "source": [
    "airport = 'KMSP'\n",
    "if airport.upper() in airport_dict.keys():\n",
    "    pass\n",
    "else:\n",
    "    print(f'{airport} not represented in dataset')\n",
    "airport_name = airport_dict[airport]\n",
    "pickup = df['PULOC'] == airport\n",
    "dropoff = df['DropLoc'] == airport\n",
    "\n",
    "pickup_df = df[pickup]\n",
    "dropoff_df = df[dropoff]\n",
    "\n",
    "pickup_df.set_index('MissionDate', inplace=True)\n",
    "dropoff_df.set_index('MissionDate', inplace=True)\n",
    "\n",
    "# pickup_df.to_csv(f'../output/{airport}_pickups.csv')\n",
    "# dropoff_df.to_csv(f'../output/{airport}_dropoffs.csv')\n",
    "\n",
    "all_df = pd.concat([pickup_df, dropoff_df]).drop_duplicates()\n",
    "\n",
    "# This grouped table would work for mapping flights from specific airports.\n",
    "all_missions = all_df.groupby(['MissionDate', 'MissionID', 'PULOC', 'DropLoc'])['AlienMasterID'].nunique()\n",
    "# all_missions.to)csv(f'../output/{airport}_all_missions.csv')"
   ]
  },
  {
   "cell_type": "code",
   "execution_count": 106,
   "metadata": {},
   "outputs": [],
   "source": [
    "weekly_pickups = pickup_df['AlienMasterID'].resample('W').nunique()\n",
    "weekly_dropoffs = dropoff_df['AlienMasterID'].resample('W').nunique()\n",
    "monthly_pickups = pickup_df['AlienMasterID'].resample('M').nunique()\n",
    "monthly_dropoffs = dropoff_df['AlienMasterID'].resample('M').nunique()\n",
    "monthly_pickup_flights = pickup_df['MissionID'].resample('M').nunique()\n",
    "monthly_dropoff_flights = dropoff_df['MissionID'].resample('M').nunique()\n",
    "annual_pickups = pickup_df['AlienMasterID'].resample('AS-OCT').nunique()\n",
    "annual_dropoffs = dropoff_df['AlienMasterID'].resample('AS-OCT').nunique()\n",
    "annual_pickup_flights = pickup_df['MissionID'].resample('AS-OCT').nunique()\n",
    "annual_dropoff_flights = dropoff_df['MissionID'].resample('AS-OCT').nunique()"
   ]
  },
  {
   "cell_type": "code",
   "execution_count": 107,
   "metadata": {},
   "outputs": [
    {
     "name": "stdout",
     "output_type": "stream",
     "text": [
      "KMSP (Minneapolis-St Paul International/Wold-Chamberlain Airport)\n",
      "---------------------------------------------------------\n",
      "12158 passengers picked up, 655 passengers dropped off.\n",
      "12813 total unique passengers.\n",
      "6.68 average dropoffs per month.\n",
      "122.81 average pickups per month.\n",
      "\n",
      "301 pickup flights, 82 dropoff flights.\n",
      "307 total missions.\n",
      "0.84 average dropoff flights per month.\n",
      "3.04 average pickup flights per month.\n"
     ]
    }
   ],
   "source": [
    "print(f'{airport} ({airport_name})')\n",
    "print(f'---------------------------------------------------------')\n",
    "unique_pickups = len(set(pickup_df['AlienMasterID']))\n",
    "unique_dropoffs = len(set(dropoff_df['AlienMasterID']))\n",
    "print(f'{unique_pickups} passengers picked up, {unique_dropoffs} passengers dropped off.')\n",
    "print(f\"{all_df['AlienMasterID'].nunique()} total unique passengers.\")\n",
    "print(f'{round(monthly_dropoffs.mean(), 2)} average dropoffs per month.')\n",
    "print(f'{round(monthly_pickups.mean(), 2)} average pickups per month.')\n",
    "print()\n",
    "unique_pickup_flights = len(set(pickup_df['MissionID']))\n",
    "unique_dropoff_flights = len(set(dropoff_df['MissionID']))\n",
    "print(f'{unique_pickup_flights} pickup flights, {unique_dropoff_flights} dropoff flights.')\n",
    "print(f\"{all_df['MissionID'].nunique()} total missions.\")\n",
    "print(f'{round(monthly_dropoff_flights.mean(), 2)} average dropoff flights per month.')\n",
    "print(f'{round(monthly_pickup_flights.mean(), 2)} average pickup flights per month.')"
   ]
  },
  {
   "cell_type": "markdown",
   "metadata": {},
   "source": [
    "# Annual trends (by fiscal year)"
   ]
  },
  {
   "cell_type": "code",
   "execution_count": 108,
   "metadata": {},
   "outputs": [
    {
     "data": {
      "text/plain": [
       "MissionDate\n",
       "2010-10-01    2505\n",
       "2011-10-01    2070\n",
       "2012-10-01    1638\n",
       "2013-10-01    1241\n",
       "2014-10-01     785\n",
       "2015-10-01     770\n",
       "2016-10-01    1248\n",
       "2017-10-01    1592\n",
       "2018-10-01     309\n",
       "Freq: AS-OCT, Name: Total pickups, dtype: int64"
      ]
     },
     "execution_count": 108,
     "metadata": {},
     "output_type": "execute_result"
    }
   ],
   "source": [
    "annual_pickups.rename('Total pickups', inplace=True)\n",
    "annual_pickups"
   ]
  },
  {
   "cell_type": "code",
   "execution_count": 109,
   "metadata": {},
   "outputs": [
    {
     "data": {
      "text/plain": [
       "MissionDate\n",
       "2010-10-01     10\n",
       "2011-10-01      4\n",
       "2012-10-01     13\n",
       "2013-10-01    267\n",
       "2014-10-01     43\n",
       "2015-10-01    130\n",
       "2016-10-01     62\n",
       "2017-10-01     48\n",
       "2018-10-01     78\n",
       "Freq: AS-OCT, Name: Total dropoffs, dtype: int64"
      ]
     },
     "execution_count": 109,
     "metadata": {},
     "output_type": "execute_result"
    }
   ],
   "source": [
    "annual_dropoffs.rename('Total dropoffs', inplace=True)\n",
    "annual_dropoffs"
   ]
  },
  {
   "cell_type": "code",
   "execution_count": 110,
   "metadata": {},
   "outputs": [
    {
     "data": {
      "text/plain": [
       "MissionDate\n",
       "2010-10-01    50\n",
       "2011-10-01    51\n",
       "2012-10-01    35\n",
       "2013-10-01    32\n",
       "2014-10-01    18\n",
       "2015-10-01    25\n",
       "2016-10-01    30\n",
       "2017-10-01    49\n",
       "2018-10-01    11\n",
       "Freq: AS-OCT, Name: Total pickup flights, dtype: int64"
      ]
     },
     "execution_count": 110,
     "metadata": {},
     "output_type": "execute_result"
    }
   ],
   "source": [
    "annual_pickup_flights.rename('Total pickup flights', inplace=True)\n",
    "annual_pickup_flights"
   ]
  },
  {
   "cell_type": "code",
   "execution_count": 111,
   "metadata": {},
   "outputs": [
    {
     "data": {
      "text/plain": [
       "MissionDate\n",
       "2010-10-01     5\n",
       "2011-10-01     3\n",
       "2012-10-01     8\n",
       "2013-10-01    13\n",
       "2014-10-01     6\n",
       "2015-10-01     9\n",
       "2016-10-01    15\n",
       "2017-10-01    18\n",
       "2018-10-01     5\n",
       "Freq: AS-OCT, Name: Total dropoff flights, dtype: int64"
      ]
     },
     "execution_count": 111,
     "metadata": {},
     "output_type": "execute_result"
    }
   ],
   "source": [
    "annual_dropoff_flights.rename('Total dropoff flights', inplace=True)\n",
    "annual_dropoff_flights"
   ]
  },
  {
   "cell_type": "code",
   "execution_count": 112,
   "metadata": {},
   "outputs": [],
   "source": [
    "annual_summary = pd.DataFrame({'Annual Pickups': annual_pickups,\n",
    "              'Annual Pickup Flights': annual_pickup_flights,\n",
    "              'Annual Dropoffs': annual_dropoffs,\n",
    "             ' Annual Pickup Flights': annual_dropoff_flights,})"
   ]
  },
  {
   "cell_type": "code",
   "execution_count": 113,
   "metadata": {},
   "outputs": [],
   "source": [
    "annual_summary.index = annual_summary.index.year+1 \n",
    "annual_summary.index.name = 'FiscalYear'"
   ]
  },
  {
   "cell_type": "code",
   "execution_count": 114,
   "metadata": {},
   "outputs": [],
   "source": [
    "annual_summary.to_csv(f'../output/{airport}_annual_summary.csv')"
   ]
  },
  {
   "cell_type": "code",
   "execution_count": 115,
   "metadata": {},
   "outputs": [
    {
     "data": {
      "text/plain": [
       "383"
      ]
     },
     "execution_count": 115,
     "metadata": {},
     "output_type": "execute_result"
    }
   ],
   "source": [
    "sum(annual_pickup_flights) + sum(annual_dropoff_flights)"
   ]
  },
  {
   "cell_type": "code",
   "execution_count": 116,
   "metadata": {},
   "outputs": [
    {
     "data": {
      "image/png": "[encoded data removed]",
      "text/plain": [
       "<Figure size 720x576 with 1 Axes>"
      ]
     },
     "metadata": {
      "needs_background": "light"
     },
     "output_type": "display_data"
    }
   ],
   "source": [
    "def pickup_dropoff_trend(data):\n",
    "    \n",
    "    fig, ax = plt.subplots()\n",
    "    \n",
    "    for datum in data:\n",
    "        ax = datum.plot(legend=True)\n",
    "    \n",
    "    ax.set_ylabel('Number of Passengers', fontsize=16)\n",
    "    ax.set_ylim(0)\n",
    "    ax.set_xticklabels([f'FY{str(x)[2:4]}' for x in range(2010,2019)])\n",
    "    ax.set_xlabel('Fiscal Year', fontsize=16)\n",
    "    ax.set_title(f'{airport_name}', fontsize=18)\n",
    "    ax.tick_params(labelsize=14)\n",
    "    ax.legend(fontsize=14)\n",
    "    \n",
    "    fig.set_size_inches(10, 8)\n",
    "    fig.savefig(f'../output/{airport}-ICE-Air-Passengers.png', dpi=100)\n",
    "    return fig, ax\n",
    "\n",
    "plot = pickup_dropoff_trend([annual_pickups['2010':'2017'], annual_dropoffs['2010':'2017']]);"
   ]
  },
  {
   "cell_type": "markdown",
   "metadata": {},
   "source": [
    "# Annual pickup rate, by criminal conviction status"
   ]
  },
  {
   "cell_type": "markdown",
   "metadata": {},
   "source": [
    "WARNING: Criminal conviction data is not consistently recorded by ICE, especially in FY 11."
   ]
  },
  {
   "cell_type": "code",
   "execution_count": 117,
   "metadata": {},
   "outputs": [],
   "source": [
    "annual_non_criminal = pickup_df[['NonCriminal']].resample('AS-OCT').sum()"
   ]
  },
  {
   "cell_type": "code",
   "execution_count": 118,
   "metadata": {},
   "outputs": [],
   "source": [
    "annual_non_criminal['total'] = annual_pickups\n",
    "annual_non_criminal['percent'] = annual_non_criminal['NonCriminal']/annual_pickups*100"
   ]
  },
  {
   "cell_type": "code",
   "execution_count": 119,
   "metadata": {},
   "outputs": [
    {
     "data": {
      "image/png": "[encoded data removed]",
      "text/plain": [
       "<Figure size 720x576 with 2 Axes>"
      ]
     },
     "metadata": {
      "needs_background": "light"
     },
     "output_type": "display_data"
    }
   ],
   "source": [
    "annual_data = annual_non_criminal['2010':'2017']\n",
    "annual_data.index = [f'FY{str(x)[2:4]}' for x in range(2011,2019)]\n",
    "\n",
    "plt.style.use([{'legend.frameon': True}])\n",
    "plt.rc(\"font\", family=\"Times New Roman\")\n",
    "\n",
    "fig, ax1 = plt.subplots()\n",
    "\n",
    "ax2 = ax1.twinx()\n",
    "\n",
    "lns1 = ax1.plot(annual_data['total'], label='Total pickups')\n",
    "lns2 = ax1.plot(annual_data['NonCriminal'], label='Non-criminal pickups')\n",
    "ax1_max = annual_data['total'].max()\n",
    "ax1.set_ylim(0, (ax1_max * 1.1))\n",
    "ax1.set_ylabel(f'Annual {airport} pickups', fontsize=16)\n",
    "ax1.tick_params(axis='x', labelsize=14)\n",
    "ax1.tick_params(axis='y', labelsize=14)\n",
    "\n",
    "lns3 = ax2.plot(annual_data['percent'], label='% non-criminal', linestyle=':', color='green')\n",
    "ax2_max = annual_data['percent'].max()\n",
    "ax2.set_ylim(0, (ax2_max * 1.25))\n",
    "ax2.set_ylabel('% non-criminal', fontsize=16)\n",
    "ax2.tick_params(axis='y', labelsize=14)\n",
    "# ax2.set_xticklabels([f'FY{str(x)[2:4]}' for x in range(2011,2019)])\n",
    "\n",
    "lns = [lns1[0], lns2[0], lns3[0]]\n",
    "labs = [l.get_label() for l in lns]\n",
    "ax1.legend(lns, labs, loc=0, fontsize=14)\n",
    "\n",
    "ax1.set_title(f'ICE pickups at {airport_name}\\n% with no criminal conviction', fontsize=20)\n",
    "\n",
    "fig.set_size_inches(10, 8)\n",
    "\n",
    "plt.show()\n",
    "fig.savefig(f'../output/{airport}_NoCrim.png', dpi=100)"
   ]
  },
  {
   "cell_type": "markdown",
   "metadata": {},
   "source": [
    "# Monthly averages (by calendar year)"
   ]
  },
  {
   "cell_type": "code",
   "execution_count": 120,
   "metadata": {},
   "outputs": [],
   "source": [
    "monthly_means = pd.DataFrame()\n",
    "for year in range(2010, 2019):\n",
    "    mean_pickups = monthly_pickups[f'{year}'].mean()\n",
    "    mean_pickup_flights = monthly_pickup_flights[f'{year}'].mean()\n",
    "    mean_dropoffs = monthly_dropoffs[f'{year}'].mean()\n",
    "    mean_dropoff_flights = monthly_dropoff_flights[f'{year}'].mean()\n",
    "    monthly_means = monthly_means.append({'calendar_year':year,\n",
    "                                          'monthly_mean_pickups':mean_pickups,\n",
    "                                          'monthly_mean_dropoffs':mean_dropoffs,\n",
    "                                          'monthly_mean_pickup_flights':mean_pickup_flights,\n",
    "                                          'monthly_mean_dropoff_flights':mean_dropoff_flights,\n",
    "                                         }, ignore_index=True)\n",
    "monthly_means['calendar_year'] = monthly_means['calendar_year'].astype(int)\n",
    "monthly_means = monthly_means.set_index('calendar_year')"
   ]
  },
  {
   "cell_type": "code",
   "execution_count": 121,
   "metadata": {},
   "outputs": [
    {
     "data": {
      "text/html": [
       "<div>\n",
       "<style scoped>\n",
       "    .dataframe tbody tr th:only-of-type {\n",
       "        vertical-align: middle;\n",
       "    }\n",
       "\n",
       "    .dataframe tbody tr th {\n",
       "        vertical-align: top;\n",
       "    }\n",
       "\n",
       "    .dataframe thead th {\n",
       "        text-align: right;\n",
       "    }\n",
       "</style>\n",
       "<table border=\"1\" class=\"dataframe\">\n",
       "  <thead>\n",
       "    <tr style=\"text-align: right;\">\n",
       "      <th></th>\n",
       "      <th>monthly_mean_dropoff_flights</th>\n",
       "      <th>monthly_mean_dropoffs</th>\n",
       "      <th>monthly_mean_pickup_flights</th>\n",
       "      <th>monthly_mean_pickups</th>\n",
       "    </tr>\n",
       "    <tr>\n",
       "      <th>calendar_year</th>\n",
       "      <th></th>\n",
       "      <th></th>\n",
       "      <th></th>\n",
       "      <th></th>\n",
       "    </tr>\n",
       "  </thead>\n",
       "  <tbody>\n",
       "    <tr>\n",
       "      <th>2010</th>\n",
       "      <td>1.00</td>\n",
       "      <td>2.00</td>\n",
       "      <td>4.00</td>\n",
       "      <td>218.33</td>\n",
       "    </tr>\n",
       "    <tr>\n",
       "      <th>2011</th>\n",
       "      <td>0.25</td>\n",
       "      <td>0.50</td>\n",
       "      <td>4.25</td>\n",
       "      <td>201.42</td>\n",
       "    </tr>\n",
       "    <tr>\n",
       "      <th>2012</th>\n",
       "      <td>0.50</td>\n",
       "      <td>1.00</td>\n",
       "      <td>4.17</td>\n",
       "      <td>162.50</td>\n",
       "    </tr>\n",
       "    <tr>\n",
       "      <th>2013</th>\n",
       "      <td>0.67</td>\n",
       "      <td>0.75</td>\n",
       "      <td>2.67</td>\n",
       "      <td>124.67</td>\n",
       "    </tr>\n",
       "    <tr>\n",
       "      <th>2014</th>\n",
       "      <td>0.83</td>\n",
       "      <td>21.92</td>\n",
       "      <td>2.17</td>\n",
       "      <td>92.92</td>\n",
       "    </tr>\n",
       "    <tr>\n",
       "      <th>2015</th>\n",
       "      <td>0.58</td>\n",
       "      <td>8.00</td>\n",
       "      <td>1.75</td>\n",
       "      <td>63.25</td>\n",
       "    </tr>\n",
       "    <tr>\n",
       "      <th>2016</th>\n",
       "      <td>0.92</td>\n",
       "      <td>7.25</td>\n",
       "      <td>2.17</td>\n",
       "      <td>71.33</td>\n",
       "    </tr>\n",
       "    <tr>\n",
       "      <th>2017</th>\n",
       "      <td>1.33</td>\n",
       "      <td>5.75</td>\n",
       "      <td>2.83</td>\n",
       "      <td>115.25</td>\n",
       "    </tr>\n",
       "    <tr>\n",
       "      <th>2018</th>\n",
       "      <td>1.58</td>\n",
       "      <td>9.08</td>\n",
       "      <td>4.08</td>\n",
       "      <td>127.25</td>\n",
       "    </tr>\n",
       "  </tbody>\n",
       "</table>\n",
       "</div>"
      ],
      "text/plain": [
       "               monthly_mean_dropoff_flights  monthly_mean_dropoffs  \\\n",
       "calendar_year                                                        \n",
       "2010                                   1.00                   2.00   \n",
       "2011                                   0.25                   0.50   \n",
       "2012                                   0.50                   1.00   \n",
       "2013                                   0.67                   0.75   \n",
       "2014                                   0.83                  21.92   \n",
       "2015                                   0.58                   8.00   \n",
       "2016                                   0.92                   7.25   \n",
       "2017                                   1.33                   5.75   \n",
       "2018                                   1.58                   9.08   \n",
       "\n",
       "               monthly_mean_pickup_flights  monthly_mean_pickups  \n",
       "calendar_year                                                     \n",
       "2010                                  4.00                218.33  \n",
       "2011                                  4.25                201.42  \n",
       "2012                                  4.17                162.50  \n",
       "2013                                  2.67                124.67  \n",
       "2014                                  2.17                 92.92  \n",
       "2015                                  1.75                 63.25  \n",
       "2016                                  2.17                 71.33  \n",
       "2017                                  2.83                115.25  \n",
       "2018                                  4.08                127.25  "
      ]
     },
     "execution_count": 121,
     "metadata": {},
     "output_type": "execute_result"
    }
   ],
   "source": [
    "monthly_means.round(2)"
   ]
  },
  {
   "cell_type": "code",
   "execution_count": 122,
   "metadata": {},
   "outputs": [],
   "source": [
    "monthly_means.to_csv(f'../output/{airport}_monthly_means.csv')"
   ]
  },
  {
   "cell_type": "markdown",
   "metadata": {},
   "source": [
    "# Top nationalities"
   ]
  },
  {
   "cell_type": "code",
   "execution_count": 123,
   "metadata": {},
   "outputs": [
    {
     "data": {
      "text/plain": [
       "MEXICO         8176\n",
       "GUATEMALA      1480\n",
       "HONDURAS        796\n",
       "EL SALVADOR     736\n",
       "ECUADOR         289\n",
       "SOMALIA         186\n",
       "NICARAGUA       116\n",
       "LIBERIA          67\n",
       "SOUTH SUDAN      39\n",
       "CAMBODIA         33\n",
       "Name: CountryOfCitizenship, dtype: int64"
      ]
     },
     "execution_count": 123,
     "metadata": {},
     "output_type": "execute_result"
    }
   ],
   "source": [
    "pickup_df.drop_duplicates(subset='AlienMasterID')['CountryOfCitizenship'].value_counts().head(10)"
   ]
  },
  {
   "cell_type": "code",
   "execution_count": 124,
   "metadata": {},
   "outputs": [
    {
     "data": {
      "text/plain": [
       "EL SALVADOR    161\n",
       "CHINA           47\n",
       "SOMALIA         47\n",
       "HONDURAS        45\n",
       "MEXICO          44\n",
       "Name: CountryOfCitizenship, dtype: int64"
      ]
     },
     "execution_count": 124,
     "metadata": {},
     "output_type": "execute_result"
    }
   ],
   "source": [
    "dropoff_df.drop_duplicates(subset='AlienMasterID')['CountryOfCitizenship'].value_counts().head(5)"
   ]
  },
  {
   "cell_type": "code",
   "execution_count": 125,
   "metadata": {},
   "outputs": [
    {
     "data": {
      "text/plain": [
       "MEXICO         27411\n",
       "EL SALVADOR     6090\n",
       "GUATEMALA       5920\n",
       "HONDURAS        3809\n",
       "INDIA           1543\n",
       "Name: CountryOfCitizenship, dtype: int64"
      ]
     },
     "execution_count": 125,
     "metadata": {},
     "output_type": "execute_result"
    }
   ],
   "source": [
    "airport_all.drop_duplicates(subset='AlienMasterID')['CountryOfCitizenship'].value_counts().head(5)"
   ]
  },
  {
   "cell_type": "code",
   "execution_count": 127,
   "metadata": {},
   "outputs": [],
   "source": [
    "# airport_all.set_index('MissionDate', inplace=True)"
   ]
  },
  {
   "cell_type": "markdown",
   "metadata": {},
   "source": [
    "# Chart of top nationalities per year\n",
    "\n",
    "This chart shows the top five `CountryOfCitizenship` values for each fiscal year. It can be misleading because values are summed in \"ALL OTHERS\" for years in which a particular nationalitiy is not in the top 5, but it makes clear things like which years certain groups come into or leave the top 5.\n",
    "\n",
    "Charts can be generated for pickups, dropoffs, or all records; this could also be reworked to focus on removal or transfer flights."
   ]
  },
  {
   "cell_type": "code",
   "execution_count": 128,
   "metadata": {},
   "outputs": [],
   "source": [
    "# Change groupby to `dropoff_df` to get table/figure of dropoff nationalities\n",
    "# g = pickup_df.groupby(['PULOC', pd.Grouper(freq='AS-OCT', sort=True), 'CountryOfCitizenship'])['AlienMasterID', 'MissionID'].nunique()\n",
    "g = airport_all.groupby([pd.Grouper(freq='AS-OCT', sort=True), 'CountryOfCitizenship'])['AlienMasterID', 'MissionID'].nunique()\n",
    "country_of_citizenship_by_year = g.reset_index()\n",
    "country_of_citizenship_by_year.rename({'MissionDate': 'FY'}, axis='columns', inplace=True)\n",
    "\n",
    "# country_of_citizenship_by_year.to_csv(f'../output/{airport}_country_of_citizenship_by_year.csv', index=True)"
   ]
  },
  {
   "cell_type": "code",
   "execution_count": 129,
   "metadata": {},
   "outputs": [],
   "source": [
    "country_of_citizenship_by_year.set_index('FY', inplace=True)"
   ]
  },
  {
   "cell_type": "code",
   "execution_count": 130,
   "metadata": {},
   "outputs": [],
   "source": [
    "country_of_citizenship_by_year.sort_values(by='AlienMasterID', ascending=False, inplace=True)"
   ]
  },
  {
   "cell_type": "code",
   "execution_count": 131,
   "metadata": {},
   "outputs": [],
   "source": [
    "top_5_df = pd.DataFrame()\n",
    "\n",
    "for year in country_of_citizenship_by_year.index.unique():\n",
    "    temp = country_of_citizenship_by_year.loc[f'{year}'][['CountryOfCitizenship', 'AlienMasterID']]\n",
    "    temp_top_5 = temp[0:5]\n",
    "    if len(temp) > 5:\n",
    "        all_other_count = sum(temp['AlienMasterID'][5:])\n",
    "    else:\n",
    "        all_other_count = 0\n",
    "    other_df = pd.DataFrame([['ALL OTHERS', all_other_count]], columns=['CountryOfCitizenship', 'AlienMasterID'], index=[year])\n",
    "    temp_top_5 = temp_top_5.append(other_df)\n",
    "    top_5_df = top_5_df.append(temp_top_5)"
   ]
  },
  {
   "cell_type": "code",
   "execution_count": 132,
   "metadata": {},
   "outputs": [],
   "source": [
    "top_5_df.sort_index(inplace=True)\n",
    "top_5_df.index = [f'FY{str(x)[2:4]}' for x in top_5_df.index.year + 1]\n",
    "\n",
    "top_5_data = pd.pivot_table(data=top_5_df,\n",
    "                       index=top_5_df.index,\n",
    "                       columns='CountryOfCitizenship',\n",
    "                       values='AlienMasterID',\n",
    "                       aggfunc=np.sum,\n",
    "                       fill_value=0)\n",
    "\n",
    "top_5_data = top_5_data.reindex(pivot.sum().sort_values(ascending=False).index, axis=1)\n",
    "cols = list(top_5_data.columns)\n",
    "cols.remove('ALL OTHERS')\n",
    "cols.append('ALL OTHERS')\n",
    "top_5_data = top_5_data[cols]\n",
    "\n",
    "top_5_data.columns = top_5_data.columns.str.title()\n",
    "top_5_data.columns.name = 'Country of Citizenship'"
   ]
  },
  {
   "cell_type": "code",
   "execution_count": 143,
   "metadata": {},
   "outputs": [
    {
     "data": {
      "image/png": "[encoded data removed]",
      "text/plain": [
       "<Figure size 720x576 with 1 Axes>"
      ]
     },
     "metadata": {
      "needs_background": "light"
     },
     "output_type": "display_data"
    }
   ],
   "source": [
    "def country_of_citizenship_trend(data, title=str, filename=str, xlabel=str, ylabel=str):\n",
    "    \n",
    "    fig, ax = plt.subplots()\n",
    "    \n",
    "    data.plot(kind='bar', stacked=True, legend=True, ax=ax)\n",
    "\n",
    "    ax.set_ylabel(ylabel, fontsize=16)\n",
    "    ax.set_xlabel(xlabel, fontsize=16)\n",
    "    ax.set_title(title, fontsize=18)\n",
    "    ax.tick_params(labelsize=14)\n",
    "    plt.xticks(rotation=0)\n",
    "\n",
    "    fig.set_size_inches(10, 8)\n",
    "    fig.savefig(f'../output/{filename}.png', dpi=100)\n",
    "    return fig, ax\n",
    "\n",
    "country_of_citizenship_trend(top_5_data,\n",
    "                             title=f'{airport_name} \\n ICE Air Passengers by Country of Citizenship \\n (Top 5 per year)',\n",
    "                             filename=f'{airport}_top5_nationalities',\n",
    "                             ylabel='Total Passengers',\n",
    "                             xlabel='Fiscal Year');"
   ]
  },
  {
   "cell_type": "code",
   "execution_count": 137,
   "metadata": {},
   "outputs": [],
   "source": [
    "g = pickup_df.groupby(['PULOC', pd.Grouper(freq='AS-OCT', sort=True), 'air2_AirportName'])['AlienMasterID','MissionID'].nunique()\n",
    "drop_locs_by_year = g.reset_index()\n",
    "drop_locs_by_year.rename({'MissionDate': 'FY'}, axis='columns', inplace=True)\n",
    "\n",
    "# drop_locs_by_year.to_csv(f'../output/{airport}_drop_locs_by_year.csv', index=True)"
   ]
  },
  {
   "cell_type": "markdown",
   "metadata": {},
   "source": [
    "# Alternate plot of top nationalities"
   ]
  },
  {
   "cell_type": "markdown",
   "metadata": {},
   "source": [
    "Since selecting top 5 for each year is a bit counterintuitive, we can instead select here an aribtrary set of nationalities to display for all years, while summing others. This can be based on most common values or could be some other arbitrary list. (See also implementation in `global.ipynb` for plotting all values that break top 5 for any year.)\n",
    "\n",
    "Currently set up to focus on pickups but could be reworked for dropoffs, all passengers, or removals/transfers. Remember to update corresponding chart labels."
   ]
  },
  {
   "cell_type": "code",
   "execution_count": null,
   "metadata": {},
   "outputs": [],
   "source": [
    "annual = pickup_df.groupby([pd.Grouper(freq='AS-OCT', sort=True), 'CountryOfCitizenship'])['AlienMasterID'].nunique()\n",
    "# annual = dropoff_df.groupby([pd.Grouper(freq='AS-OCT', sort=True), 'CountryOfCitizenship'])['AlienMasterID'].nunique()\n",
    "# annual = airport_all.groupby([pd.Grouper(freq='AS-OCT', sort=True), 'CountryOfCitizenship'])['AlienMasterID'].nunique()"
   ]
  },
  {
   "cell_type": "code",
   "execution_count": null,
   "metadata": {},
   "outputs": [],
   "source": [
    "annual = annual.reset_index()\n",
    "annual.set_index('MissionDate', inplace=True)"
   ]
  },
  {
   "cell_type": "code",
   "execution_count": null,
   "metadata": {},
   "outputs": [],
   "source": [
    "top6 = list(annual.groupby(['CountryOfCitizenship'])['AlienMasterID'].sum().sort_values(ascending=False).head(6).index)\n",
    "\n",
    "top_6_df = pd.DataFrame()\n",
    "top_6_df = top_6_df.append(annual[annual['CountryOfCitizenship'].isin(top6)])\n",
    "top_6_df.index = top_6_df.index.year\n",
    "\n",
    "for year in annual.index.year.unique():\n",
    "    temp = annual[f'{year}']\n",
    "    temp2 = temp[~temp['CountryOfCitizenship'].isin(top6)]\n",
    "    all_other_count = temp2['AlienMasterID'].sum()\n",
    "    other_df = pd.DataFrame([['ALL OTHERS', all_other_count]],\n",
    "                            columns=['CountryOfCitizenship',\n",
    "                                     'AlienMasterID'],\n",
    "                            index=[year])\n",
    "    top_6_df = top_6_df.append(other_df)\n",
    "\n",
    "top_6_df.sort_index(inplace=True)\n",
    "top_6_df.index = [f'FY{str(x)[2:4]}' for x in top_6_df.index + 1]\n",
    "\n",
    "top_6_df['CountryOfCitizenship'] = top_6_df['CountryOfCitizenship'].astype('category')\n",
    "\n",
    "top_6_data = pd.pivot_table(data=top_6_df,\n",
    "                       index=top_6_df.index,\n",
    "                       columns='CountryOfCitizenship',\n",
    "                       values='AlienMasterID',\n",
    "                       aggfunc=np.sum,\n",
    "                       fill_value=0)\n",
    "top_6_data = top_6_data.reindex(top_6_data.sum().sort_values(ascending=False).index, axis=1)\n",
    "cols = list(top_6_data.columns)\n",
    "cols.remove('ALL OTHERS')\n",
    "cols.append('ALL OTHERS')\n",
    "top_6_data = top_6_data[cols]"
   ]
  },
  {
   "cell_type": "code",
   "execution_count": 146,
   "metadata": {},
   "outputs": [
    {
     "data": {
      "image/png": "[encoded data removed]",
      "text/plain": [
       "<Figure size 720x576 with 1 Axes>"
      ]
     },
     "metadata": {
      "needs_background": "light"
     },
     "output_type": "display_data"
    }
   ],
   "source": [
    "country_of_citizenship_trend(top_6_data,\n",
    "                             title=f'ICE Air Pickups at {airport} by Country of Citizenship',\n",
    "                             filename=f'{airport}_pickup_nationalities',\n",
    "                             ylabel='Total Pickups',\n",
    "                             xlabel='Fiscal Year');"
   ]
  },
  {
   "cell_type": "markdown",
   "metadata": {},
   "source": [
    "# Juveniles (by fiscal year)\n",
    "\n",
    "Table of just juveniles for pickups, dropoffs. Currently will fail if no juveniles."
   ]
  },
  {
   "cell_type": "code",
   "execution_count": null,
   "metadata": {},
   "outputs": [],
   "source": [
    "assert sum(airport_all['Juvenile']) > 0, f\"No juveniles in dataset for {airport}\""
   ]
  },
  {
   "cell_type": "code",
   "execution_count": null,
   "metadata": {},
   "outputs": [],
   "source": [
    "g = pickup_df.groupby(['PULOC', pd.Grouper(freq='AS-OCT', sort=True), 'Juvenile'])['AlienMasterID'].nunique()\n",
    "juvenile_pickups = g.unstack()\n",
    "juvenile_pickups['percent'] = juvenile_pickups[True] / juvenile_pickups[False] * 100\n",
    "juvenile_pickups"
   ]
  },
  {
   "cell_type": "code",
   "execution_count": null,
   "metadata": {},
   "outputs": [],
   "source": [
    "g = dropoff_df.groupby(['DropLoc', pd.Grouper(freq='AS-OCT', sort=True), 'Juvenile'])['AlienMasterID'].nunique()\n",
    "juvenile_pickups = g.unstack()"
   ]
  },
  {
   "cell_type": "code",
   "execution_count": null,
   "metadata": {},
   "outputs": [],
   "source": [
    "juvenile_pickups"
   ]
  },
  {
   "cell_type": "code",
   "execution_count": null,
   "metadata": {},
   "outputs": [],
   "source": [
    "juvenile_pickups['percent'] = juvenile_pickups[True] / juvenile_pickups[False] * 100\n",
    "juvenile_pickups"
   ]
  },
  {
   "cell_type": "code",
   "execution_count": null,
   "metadata": {},
   "outputs": [],
   "source": []
  },
  {
   "cell_type": "code",
   "execution_count": null,
   "metadata": {},
   "outputs": [],
   "source": []
  }
 ],
 "metadata": {
  "kernelspec": {
   "display_name": "Python 3",
   "language": "python",
   "name": "python3"
  },
  "language_info": {
   "codemirror_mode": {
    "name": "ipython",
    "version": 3
   },
   "file_extension": ".py",
   "mimetype": "text/x-python",
   "name": "python",
   "nbconvert_exporter": "python",
   "pygments_lexer": "ipython3",
   "version": "3.7.1"
  }
 },
 "nbformat": 4,
 "nbformat_minor": 2
}
