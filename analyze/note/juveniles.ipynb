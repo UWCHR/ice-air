{
 "cells": [
  {
   "cell_type": "code",
   "execution_count": 88,
   "metadata": {},
   "outputs": [],
   "source": [
    "import numpy as np\n",
    "import pandas as pd\n",
    "import yaml\n",
    "import matplotlib.pyplot as plt\n",
    "import matplotlib.mlab as mlab\n",
    "import seaborn as sns"
   ]
  },
  {
   "cell_type": "markdown",
   "metadata": {},
   "source": [
    "# Import\n",
    "\n",
    "First we open a file containing a dictionary of columns and associated data types generated in `../../optimize/`, then we read input file."
   ]
  },
  {
   "cell_type": "code",
   "execution_count": 98,
   "metadata": {},
   "outputs": [
    {
     "name": "stdout",
     "output_type": "stream",
     "text": [
      "<class 'pandas.core.frame.DataFrame'>\n",
      "RangeIndex: 1763020 entries, 0 to 1763019\n",
      "Data columns (total 44 columns):\n",
      "Status                  category\n",
      "Sex                     category\n",
      "Convictions             category\n",
      "GangMember              category\n",
      "ClassLvl                float32\n",
      "Age                     float32\n",
      "MissionDate             datetime64[ns]\n",
      "MissionNumber           uint32\n",
      "PULOC                   category\n",
      "DropLoc                 category\n",
      "StrikeFromList          float32\n",
      "ReasonStruck            category\n",
      "R-T                     category\n",
      "Code                    category\n",
      "CountryOfCitizenship    category\n",
      "Juvenile                bool\n",
      "MissionWeek             uint8\n",
      "MissionQuarter          uint8\n",
      "MissionYear             uint16\n",
      "MissionMonth            uint8\n",
      "Criminality             category\n",
      "FamilyUnitFlag          float32\n",
      "UnaccompaniedFlag       float32\n",
      "AlienMasterID           uint32\n",
      "MissionID               uint16\n",
      "air_AirportID           float32\n",
      "air_AirportName         category\n",
      "air_City                category\n",
      "st_StateID              float32\n",
      "st_StateAbbr            category\n",
      "AOR_AORID               float32\n",
      "AOR_AOR                 category\n",
      "AOR_AORName             category\n",
      "air_Country             category\n",
      "air2_AirportID          float32\n",
      "air2_AirportName        category\n",
      "air2_City               category\n",
      "st2_StateID             float32\n",
      "st2_StateAbbr           category\n",
      "aor2_AORID              float32\n",
      "aor2_AOR                category\n",
      "aor2_AORName            category\n",
      "air2_Country            category\n",
      "NonCriminal             bool\n",
      "dtypes: bool(2), category(23), datetime64[ns](1), float32(11), uint16(2), uint32(2), uint8(3)\n",
      "memory usage: 168.6 MB\n"
     ]
    }
   ],
   "source": [
    "with open('../input/dtypes.yaml', 'r') as yamlfile:\n",
    "    column_types = yaml.load(yamlfile)\n",
    "\n",
    "read_csv_opts = {'sep': '|',\n",
    "                 'quotechar': '\"',\n",
    "                 'compression': 'gzip',\n",
    "                 'encoding': 'utf-8',\n",
    "                 'dtype': column_types,\n",
    "                 'parse_dates': ['MissionDate'],\n",
    "                 'infer_datetime_format': True}\n",
    "\n",
    "df = pd.read_csv('../input/ice-air.csv.gz', **read_csv_opts)\n",
    "\n",
    "df.info(memory_usage='deep')"
   ]
  },
  {
   "cell_type": "code",
   "execution_count": 99,
   "metadata": {},
   "outputs": [
    {
     "data": {
      "text/plain": [
       " 17.0    7343\n",
       " 16.0    4883\n",
       " 15.0    3084\n",
       " 14.0    2040\n",
       " 13.0    1461\n",
       " 12.0    1126\n",
       " 11.0     857\n",
       " 10.0     853\n",
       " 9.0      723\n",
       " 8.0      599\n",
       " 7.0      492\n",
       " 4.0      475\n",
       " 3.0      457\n",
       " 5.0      439\n",
       " 6.0      433\n",
       " 2.0      429\n",
       " 1.0      249\n",
       " 0.0      199\n",
       "NaN        55\n",
       "Name: Age, dtype: int64"
      ]
     },
     "execution_count": 99,
     "metadata": {},
     "output_type": "execute_result"
    }
   ],
   "source": [
    "df[df['Juvenile'] == True]['Age'].value_counts(dropna=False)"
   ]
  },
  {
   "cell_type": "code",
   "execution_count": 91,
   "metadata": {},
   "outputs": [],
   "source": [
    "df['FiscalYear'] = df['MissionDate']"
   ]
  },
  {
   "cell_type": "code",
   "execution_count": 100,
   "metadata": {},
   "outputs": [],
   "source": [
    "df.set_index('MissionDate', drop=False, inplace=True)\n",
    "df.index.name = 'FiscalYear'"
   ]
  },
  {
   "cell_type": "code",
   "execution_count": 105,
   "metadata": {},
   "outputs": [],
   "source": [
    "g = df.groupby(['CountryOfCitizenship','MissionDate', pd.Grouper(freq='AS-OCT'), 'MissionID', 'R-T', 'PULOC', 'DropLoc', 'Juvenile'])"
   ]
  },
  {
   "cell_type": "code",
   "execution_count": 106,
   "metadata": {},
   "outputs": [],
   "source": [
    "t = g.agg({'AlienMasterID': pd.Series.nunique})"
   ]
  },
  {
   "cell_type": "code",
   "execution_count": 107,
   "metadata": {},
   "outputs": [],
   "source": [
    "t = t.unstack('Juvenile')"
   ]
  },
  {
   "cell_type": "code",
   "execution_count": 108,
   "metadata": {},
   "outputs": [
    {
     "data": {
      "text/html": [
       "<div>\n",
       "<style scoped>\n",
       "    .dataframe tbody tr th:only-of-type {\n",
       "        vertical-align: middle;\n",
       "    }\n",
       "\n",
       "    .dataframe tbody tr th {\n",
       "        vertical-align: top;\n",
       "    }\n",
       "\n",
       "    .dataframe thead tr th {\n",
       "        text-align: left;\n",
       "    }\n",
       "\n",
       "    .dataframe thead tr:last-of-type th {\n",
       "        text-align: right;\n",
       "    }\n",
       "</style>\n",
       "<table border=\"1\" class=\"dataframe\">\n",
       "  <thead>\n",
       "    <tr>\n",
       "      <th></th>\n",
       "      <th></th>\n",
       "      <th></th>\n",
       "      <th></th>\n",
       "      <th></th>\n",
       "      <th></th>\n",
       "      <th></th>\n",
       "      <th colspan=\"2\" halign=\"left\">AlienMasterID</th>\n",
       "    </tr>\n",
       "    <tr>\n",
       "      <th></th>\n",
       "      <th></th>\n",
       "      <th></th>\n",
       "      <th></th>\n",
       "      <th></th>\n",
       "      <th></th>\n",
       "      <th>Juvenile</th>\n",
       "      <th>False</th>\n",
       "      <th>True</th>\n",
       "    </tr>\n",
       "    <tr>\n",
       "      <th>CountryOfCitizenship</th>\n",
       "      <th>MissionDate</th>\n",
       "      <th>FiscalYear</th>\n",
       "      <th>MissionID</th>\n",
       "      <th>R-T</th>\n",
       "      <th>PULOC</th>\n",
       "      <th>DropLoc</th>\n",
       "      <th></th>\n",
       "      <th></th>\n",
       "    </tr>\n",
       "  </thead>\n",
       "  <tbody>\n",
       "    <tr>\n",
       "      <th rowspan=\"30\" valign=\"top\">ALGERIA</th>\n",
       "      <th>2010-10-14</th>\n",
       "      <th>2010-10-01</th>\n",
       "      <th>182</th>\n",
       "      <th>T</th>\n",
       "      <th>KMDT</th>\n",
       "      <th>KHRL</th>\n",
       "      <td>1.0</td>\n",
       "      <td>NaN</td>\n",
       "    </tr>\n",
       "    <tr>\n",
       "      <th>2010-10-15</th>\n",
       "      <th>2010-10-01</th>\n",
       "      <th>187</th>\n",
       "      <th>T</th>\n",
       "      <th>KBFL</th>\n",
       "      <th>KIWA</th>\n",
       "      <td>1.0</td>\n",
       "      <td>NaN</td>\n",
       "    </tr>\n",
       "    <tr>\n",
       "      <th>2011-01-31</th>\n",
       "      <th>2010-10-01</th>\n",
       "      <th>769</th>\n",
       "      <th>T</th>\n",
       "      <th>KAEX</th>\n",
       "      <th>KMDT</th>\n",
       "      <td>1.0</td>\n",
       "      <td>NaN</td>\n",
       "    </tr>\n",
       "    <tr>\n",
       "      <th>2012-12-18</th>\n",
       "      <th>2012-10-01</th>\n",
       "      <th>5297</th>\n",
       "      <th>T</th>\n",
       "      <th>KEWR</th>\n",
       "      <th>KAEX</th>\n",
       "      <td>1.0</td>\n",
       "      <td>NaN</td>\n",
       "    </tr>\n",
       "    <tr>\n",
       "      <th>2014-07-14</th>\n",
       "      <th>2013-10-01</th>\n",
       "      <th>9022</th>\n",
       "      <th>T</th>\n",
       "      <th>KEWR</th>\n",
       "      <th>KAEX</th>\n",
       "      <td>1.0</td>\n",
       "      <td>NaN</td>\n",
       "    </tr>\n",
       "    <tr>\n",
       "      <th>2016-03-22</th>\n",
       "      <th>2015-10-01</th>\n",
       "      <th>12168</th>\n",
       "      <th>T</th>\n",
       "      <th>KBFI</th>\n",
       "      <th>KIWA</th>\n",
       "      <td>1.0</td>\n",
       "      <td>NaN</td>\n",
       "    </tr>\n",
       "    <tr>\n",
       "      <th rowspan=\"2\" valign=\"top\">2016-03-24</th>\n",
       "      <th rowspan=\"2\" valign=\"top\">2015-10-01</th>\n",
       "      <th>12175</th>\n",
       "      <th>T</th>\n",
       "      <th>KIWA</th>\n",
       "      <th>KAEX</th>\n",
       "      <td>1.0</td>\n",
       "      <td>NaN</td>\n",
       "    </tr>\n",
       "    <tr>\n",
       "      <th>12176</th>\n",
       "      <th>T</th>\n",
       "      <th>KAEX</th>\n",
       "      <th>KMIA</th>\n",
       "      <td>1.0</td>\n",
       "      <td>NaN</td>\n",
       "    </tr>\n",
       "    <tr>\n",
       "      <th rowspan=\"2\" valign=\"top\">2016-03-31</th>\n",
       "      <th rowspan=\"2\" valign=\"top\">2015-10-01</th>\n",
       "      <th>12200</th>\n",
       "      <th>T</th>\n",
       "      <th>KAEX</th>\n",
       "      <th>KIWA</th>\n",
       "      <td>1.0</td>\n",
       "      <td>NaN</td>\n",
       "    </tr>\n",
       "    <tr>\n",
       "      <th>12202</th>\n",
       "      <th>T</th>\n",
       "      <th>KMIA</th>\n",
       "      <th>KAEX</th>\n",
       "      <td>1.0</td>\n",
       "      <td>NaN</td>\n",
       "    </tr>\n",
       "    <tr>\n",
       "      <th>2016-04-05</th>\n",
       "      <th>2015-10-01</th>\n",
       "      <th>12274</th>\n",
       "      <th>T</th>\n",
       "      <th>KIWA</th>\n",
       "      <th>KBFI</th>\n",
       "      <td>1.0</td>\n",
       "      <td>NaN</td>\n",
       "    </tr>\n",
       "    <tr>\n",
       "      <th>2016-05-05</th>\n",
       "      <th>2015-10-01</th>\n",
       "      <th>12421</th>\n",
       "      <th>T</th>\n",
       "      <th>KMIA</th>\n",
       "      <th>KAEX</th>\n",
       "      <td>1.0</td>\n",
       "      <td>NaN</td>\n",
       "    </tr>\n",
       "    <tr>\n",
       "      <th>2016-05-09</th>\n",
       "      <th>2015-10-01</th>\n",
       "      <th>12441</th>\n",
       "      <th>T</th>\n",
       "      <th>KAEX</th>\n",
       "      <th>KMDT</th>\n",
       "      <td>1.0</td>\n",
       "      <td>NaN</td>\n",
       "    </tr>\n",
       "    <tr>\n",
       "      <th>2016-05-16</th>\n",
       "      <th>2015-10-01</th>\n",
       "      <th>12498</th>\n",
       "      <th>T</th>\n",
       "      <th>KMDT</th>\n",
       "      <th>KAEX</th>\n",
       "      <td>1.0</td>\n",
       "      <td>NaN</td>\n",
       "    </tr>\n",
       "    <tr>\n",
       "      <th>2016-05-19</th>\n",
       "      <th>2015-10-01</th>\n",
       "      <th>12513</th>\n",
       "      <th>T</th>\n",
       "      <th>KAEX</th>\n",
       "      <th>KMIA</th>\n",
       "      <td>1.0</td>\n",
       "      <td>NaN</td>\n",
       "    </tr>\n",
       "    <tr>\n",
       "      <th>2016-06-16</th>\n",
       "      <th>2015-10-01</th>\n",
       "      <th>12669</th>\n",
       "      <th>T</th>\n",
       "      <th>KCSG</th>\n",
       "      <th>KAEX</th>\n",
       "      <td>1.0</td>\n",
       "      <td>NaN</td>\n",
       "    </tr>\n",
       "    <tr>\n",
       "      <th>2016-09-22</th>\n",
       "      <th>2015-10-01</th>\n",
       "      <th>13124</th>\n",
       "      <th>T</th>\n",
       "      <th>KMIA</th>\n",
       "      <th>KAEX</th>\n",
       "      <td>1.0</td>\n",
       "      <td>NaN</td>\n",
       "    </tr>\n",
       "    <tr>\n",
       "      <th>2016-09-27</th>\n",
       "      <th>2015-10-01</th>\n",
       "      <th>13148</th>\n",
       "      <th>T</th>\n",
       "      <th>KAEX</th>\n",
       "      <th>KTOL</th>\n",
       "      <td>1.0</td>\n",
       "      <td>NaN</td>\n",
       "    </tr>\n",
       "    <tr>\n",
       "      <th>2017-04-17</th>\n",
       "      <th>2016-10-01</th>\n",
       "      <th>38916</th>\n",
       "      <th>T</th>\n",
       "      <th>KAEX</th>\n",
       "      <th>KEWR</th>\n",
       "      <td>1.0</td>\n",
       "      <td>NaN</td>\n",
       "    </tr>\n",
       "    <tr>\n",
       "      <th>2017-07-06</th>\n",
       "      <th>2016-10-01</th>\n",
       "      <th>39238</th>\n",
       "      <th>T</th>\n",
       "      <th>KMIA</th>\n",
       "      <th>KAEX</th>\n",
       "      <td>1.0</td>\n",
       "      <td>NaN</td>\n",
       "    </tr>\n",
       "    <tr>\n",
       "      <th>2017-07-10</th>\n",
       "      <th>2016-10-01</th>\n",
       "      <th>39252</th>\n",
       "      <th>T</th>\n",
       "      <th>KAEX</th>\n",
       "      <th>KMDT</th>\n",
       "      <td>1.0</td>\n",
       "      <td>NaN</td>\n",
       "    </tr>\n",
       "    <tr>\n",
       "      <th>2017-07-17</th>\n",
       "      <th>2016-10-01</th>\n",
       "      <th>39279</th>\n",
       "      <th>T</th>\n",
       "      <th>KEWR</th>\n",
       "      <th>KAEX</th>\n",
       "      <td>2.0</td>\n",
       "      <td>NaN</td>\n",
       "    </tr>\n",
       "    <tr>\n",
       "      <th>2017-07-18</th>\n",
       "      <th>2016-10-01</th>\n",
       "      <th>39286</th>\n",
       "      <th>T</th>\n",
       "      <th>KTOL</th>\n",
       "      <th>KAEX</th>\n",
       "      <td>1.0</td>\n",
       "      <td>NaN</td>\n",
       "    </tr>\n",
       "    <tr>\n",
       "      <th>2017-07-20</th>\n",
       "      <th>2016-10-01</th>\n",
       "      <th>39292</th>\n",
       "      <th>T</th>\n",
       "      <th>KAEX</th>\n",
       "      <th>KIWA</th>\n",
       "      <td>3.0</td>\n",
       "      <td>NaN</td>\n",
       "    </tr>\n",
       "    <tr>\n",
       "      <th>2017-07-24</th>\n",
       "      <th>2016-10-01</th>\n",
       "      <th>39306</th>\n",
       "      <th>T</th>\n",
       "      <th>KEWR</th>\n",
       "      <th>KAEX</th>\n",
       "      <td>1.0</td>\n",
       "      <td>NaN</td>\n",
       "    </tr>\n",
       "    <tr>\n",
       "      <th>2017-07-25</th>\n",
       "      <th>2016-10-01</th>\n",
       "      <th>39314</th>\n",
       "      <th>R</th>\n",
       "      <th>KIWA</th>\n",
       "      <th>DAAG</th>\n",
       "      <td>3.0</td>\n",
       "      <td>NaN</td>\n",
       "    </tr>\n",
       "    <tr>\n",
       "      <th>2017-08-17</th>\n",
       "      <th>2016-10-01</th>\n",
       "      <th>39415</th>\n",
       "      <th>T</th>\n",
       "      <th>KJAX</th>\n",
       "      <th>KAEX</th>\n",
       "      <td>1.0</td>\n",
       "      <td>NaN</td>\n",
       "    </tr>\n",
       "    <tr>\n",
       "      <th>2017-08-21</th>\n",
       "      <th>2016-10-01</th>\n",
       "      <th>39427</th>\n",
       "      <th>T</th>\n",
       "      <th>KAEX</th>\n",
       "      <th>KEWR</th>\n",
       "      <td>1.0</td>\n",
       "      <td>NaN</td>\n",
       "    </tr>\n",
       "    <tr>\n",
       "      <th>2017-08-24</th>\n",
       "      <th>2016-10-01</th>\n",
       "      <th>39442</th>\n",
       "      <th>T</th>\n",
       "      <th>KJAX</th>\n",
       "      <th>KAEX</th>\n",
       "      <td>1.0</td>\n",
       "      <td>NaN</td>\n",
       "    </tr>\n",
       "    <tr>\n",
       "      <th>2017-11-27</th>\n",
       "      <th>2017-10-01</th>\n",
       "      <th>45631</th>\n",
       "      <th>T</th>\n",
       "      <th>KAEX</th>\n",
       "      <th>KEWR</th>\n",
       "      <td>1.0</td>\n",
       "      <td>NaN</td>\n",
       "    </tr>\n",
       "    <tr>\n",
       "      <th>...</th>\n",
       "      <th>...</th>\n",
       "      <th>...</th>\n",
       "      <th>...</th>\n",
       "      <th>...</th>\n",
       "      <th>...</th>\n",
       "      <th>...</th>\n",
       "      <td>...</td>\n",
       "      <td>...</td>\n",
       "    </tr>\n",
       "    <tr>\n",
       "      <th rowspan=\"4\" valign=\"top\">STATELESS</th>\n",
       "      <th>2018-10-03</th>\n",
       "      <th>2018-10-01</th>\n",
       "      <th>47125</th>\n",
       "      <th>T</th>\n",
       "      <th>KIWA</th>\n",
       "      <th>KAEX</th>\n",
       "      <td>1.0</td>\n",
       "      <td>NaN</td>\n",
       "    </tr>\n",
       "    <tr>\n",
       "      <th>2018-10-09</th>\n",
       "      <th>2018-10-01</th>\n",
       "      <th>47158</th>\n",
       "      <th>T</th>\n",
       "      <th>KAEX</th>\n",
       "      <th>KAEX</th>\n",
       "      <td>1.0</td>\n",
       "      <td>NaN</td>\n",
       "    </tr>\n",
       "    <tr>\n",
       "      <th>2018-10-12</th>\n",
       "      <th>2018-10-01</th>\n",
       "      <th>47175</th>\n",
       "      <th>T</th>\n",
       "      <th>KAEX</th>\n",
       "      <th>KIWA</th>\n",
       "      <td>1.0</td>\n",
       "      <td>NaN</td>\n",
       "    </tr>\n",
       "    <tr>\n",
       "      <th>2018-11-13</th>\n",
       "      <th>2018-10-01</th>\n",
       "      <th>47328</th>\n",
       "      <th>T</th>\n",
       "      <th>KEWR</th>\n",
       "      <th>KFTW</th>\n",
       "      <td>1.0</td>\n",
       "      <td>NaN</td>\n",
       "    </tr>\n",
       "    <tr>\n",
       "      <th rowspan=\"3\" valign=\"top\">BHUTAN</th>\n",
       "      <th>2017-03-03</th>\n",
       "      <th>2016-10-01</th>\n",
       "      <th>38727</th>\n",
       "      <th>T</th>\n",
       "      <th>KSLC</th>\n",
       "      <th>KLAS</th>\n",
       "      <td>1.0</td>\n",
       "      <td>NaN</td>\n",
       "    </tr>\n",
       "    <tr>\n",
       "      <th>2018-11-20</th>\n",
       "      <th>2018-10-01</th>\n",
       "      <th>47364</th>\n",
       "      <th>T</th>\n",
       "      <th>KEWR</th>\n",
       "      <th>KAEX</th>\n",
       "      <td>1.0</td>\n",
       "      <td>NaN</td>\n",
       "    </tr>\n",
       "    <tr>\n",
       "      <th>2018-11-21</th>\n",
       "      <th>2018-10-01</th>\n",
       "      <th>47373</th>\n",
       "      <th>T</th>\n",
       "      <th>KAEX</th>\n",
       "      <th>KOMA</th>\n",
       "      <td>1.0</td>\n",
       "      <td>NaN</td>\n",
       "    </tr>\n",
       "    <tr>\n",
       "      <th rowspan=\"7\" valign=\"top\">SURINAME</th>\n",
       "      <th>2017-03-27</th>\n",
       "      <th>2016-10-01</th>\n",
       "      <th>38834</th>\n",
       "      <th>T</th>\n",
       "      <th>KMDT</th>\n",
       "      <th>KAEX</th>\n",
       "      <td>2.0</td>\n",
       "      <td>NaN</td>\n",
       "    </tr>\n",
       "    <tr>\n",
       "      <th>2017-03-30</th>\n",
       "      <th>2016-10-01</th>\n",
       "      <th>38852</th>\n",
       "      <th>T</th>\n",
       "      <th>KAEX</th>\n",
       "      <th>KMIA</th>\n",
       "      <td>2.0</td>\n",
       "      <td>NaN</td>\n",
       "    </tr>\n",
       "    <tr>\n",
       "      <th>2017-04-07</th>\n",
       "      <th>2016-10-01</th>\n",
       "      <th>38897</th>\n",
       "      <th>R</th>\n",
       "      <th>KMIA</th>\n",
       "      <th>SMJP</th>\n",
       "      <td>2.0</td>\n",
       "      <td>NaN</td>\n",
       "    </tr>\n",
       "    <tr>\n",
       "      <th>2018-01-22</th>\n",
       "      <th>2017-10-01</th>\n",
       "      <th>45888</th>\n",
       "      <th>T</th>\n",
       "      <th>KAEX</th>\n",
       "      <th>KEWR</th>\n",
       "      <td>1.0</td>\n",
       "      <td>NaN</td>\n",
       "    </tr>\n",
       "    <tr>\n",
       "      <th>2018-02-20</th>\n",
       "      <th>2017-10-01</th>\n",
       "      <th>46018</th>\n",
       "      <th>T</th>\n",
       "      <th>KAEX</th>\n",
       "      <th>KEWR</th>\n",
       "      <td>1.0</td>\n",
       "      <td>NaN</td>\n",
       "    </tr>\n",
       "    <tr>\n",
       "      <th>2018-05-07</th>\n",
       "      <th>2017-10-01</th>\n",
       "      <th>46376</th>\n",
       "      <th>T</th>\n",
       "      <th>KAEX</th>\n",
       "      <th>KEWR</th>\n",
       "      <td>1.0</td>\n",
       "      <td>NaN</td>\n",
       "    </tr>\n",
       "    <tr>\n",
       "      <th>2018-10-09</th>\n",
       "      <th>2018-10-01</th>\n",
       "      <th>47158</th>\n",
       "      <th>T</th>\n",
       "      <th>KAEX</th>\n",
       "      <th>KEWR</th>\n",
       "      <td>1.0</td>\n",
       "      <td>NaN</td>\n",
       "    </tr>\n",
       "    <tr>\n",
       "      <th rowspan=\"2\" valign=\"top\">BELGIUM</th>\n",
       "      <th>2017-05-01</th>\n",
       "      <th>2016-10-01</th>\n",
       "      <th>38981</th>\n",
       "      <th>T</th>\n",
       "      <th>KMDT</th>\n",
       "      <th>KAEX</th>\n",
       "      <td>1.0</td>\n",
       "      <td>NaN</td>\n",
       "    </tr>\n",
       "    <tr>\n",
       "      <th>2018-02-05</th>\n",
       "      <th>2017-10-01</th>\n",
       "      <th>45945</th>\n",
       "      <th>T</th>\n",
       "      <th>KAEX</th>\n",
       "      <th>KEWR</th>\n",
       "      <td>1.0</td>\n",
       "      <td>NaN</td>\n",
       "    </tr>\n",
       "    <tr>\n",
       "      <th>TURKMENISTAN</th>\n",
       "      <th>2017-11-10</th>\n",
       "      <th>2017-10-01</th>\n",
       "      <th>45560</th>\n",
       "      <th>T</th>\n",
       "      <th>KBRO</th>\n",
       "      <th>KBOS</th>\n",
       "      <td>1.0</td>\n",
       "      <td>NaN</td>\n",
       "    </tr>\n",
       "    <tr>\n",
       "      <th>ARUBA</th>\n",
       "      <th>2017-11-27</th>\n",
       "      <th>2017-10-01</th>\n",
       "      <th>45631</th>\n",
       "      <th>T</th>\n",
       "      <th>KAEX</th>\n",
       "      <th>KEWR</th>\n",
       "      <td>1.0</td>\n",
       "      <td>NaN</td>\n",
       "    </tr>\n",
       "    <tr>\n",
       "      <th rowspan=\"5\" valign=\"top\">UNITED ARAB EMIRATES</th>\n",
       "      <th>2018-01-23</th>\n",
       "      <th>2017-10-01</th>\n",
       "      <th>45895</th>\n",
       "      <th>T</th>\n",
       "      <th>KMSP</th>\n",
       "      <th>KAEX</th>\n",
       "      <td>1.0</td>\n",
       "      <td>NaN</td>\n",
       "    </tr>\n",
       "    <tr>\n",
       "      <th>2018-01-30</th>\n",
       "      <th>2017-10-01</th>\n",
       "      <th>45922</th>\n",
       "      <th>T</th>\n",
       "      <th>KAEX</th>\n",
       "      <th>KMSP</th>\n",
       "      <td>1.0</td>\n",
       "      <td>NaN</td>\n",
       "    </tr>\n",
       "    <tr>\n",
       "      <th>2018-03-20</th>\n",
       "      <th>2017-10-01</th>\n",
       "      <th>46153</th>\n",
       "      <th>T</th>\n",
       "      <th>KMSP</th>\n",
       "      <th>KAEX</th>\n",
       "      <td>1.0</td>\n",
       "      <td>NaN</td>\n",
       "    </tr>\n",
       "    <tr>\n",
       "      <th>2018-03-22</th>\n",
       "      <th>2017-10-01</th>\n",
       "      <th>46162</th>\n",
       "      <th>T</th>\n",
       "      <th>KAEX</th>\n",
       "      <th>KIWA</th>\n",
       "      <td>1.0</td>\n",
       "      <td>NaN</td>\n",
       "    </tr>\n",
       "    <tr>\n",
       "      <th>2018-03-27</th>\n",
       "      <th>2017-10-01</th>\n",
       "      <th>46200</th>\n",
       "      <th>R</th>\n",
       "      <th>KIWA</th>\n",
       "      <th>OMDW</th>\n",
       "      <td>1.0</td>\n",
       "      <td>NaN</td>\n",
       "    </tr>\n",
       "    <tr>\n",
       "      <th>PAPUA NEW GUINEA</th>\n",
       "      <th>2018-03-13</th>\n",
       "      <th>2017-10-01</th>\n",
       "      <th>46115</th>\n",
       "      <th>T</th>\n",
       "      <th>KIWA</th>\n",
       "      <th>KBFI</th>\n",
       "      <td>1.0</td>\n",
       "      <td>NaN</td>\n",
       "    </tr>\n",
       "    <tr>\n",
       "      <th>PALESTINIAN</th>\n",
       "      <th>2018-05-29</th>\n",
       "      <th>2017-10-01</th>\n",
       "      <th>46513</th>\n",
       "      <th>R</th>\n",
       "      <th>KIWA</th>\n",
       "      <th>OJAI</th>\n",
       "      <td>4.0</td>\n",
       "      <td>NaN</td>\n",
       "    </tr>\n",
       "    <tr>\n",
       "      <th rowspan=\"4\" valign=\"top\">NAMIBIA</th>\n",
       "      <th>2018-06-18</th>\n",
       "      <th>2017-10-01</th>\n",
       "      <th>46599</th>\n",
       "      <th>T</th>\n",
       "      <th>KAEX</th>\n",
       "      <th>KRIC</th>\n",
       "      <td>1.0</td>\n",
       "      <td>NaN</td>\n",
       "    </tr>\n",
       "    <tr>\n",
       "      <th>2018-06-25</th>\n",
       "      <th>2017-10-01</th>\n",
       "      <th>46633</th>\n",
       "      <th>T</th>\n",
       "      <th>KRIC</th>\n",
       "      <th>KAEX</th>\n",
       "      <td>1.0</td>\n",
       "      <td>NaN</td>\n",
       "    </tr>\n",
       "    <tr>\n",
       "      <th>2018-08-30</th>\n",
       "      <th>2017-10-01</th>\n",
       "      <th>46953</th>\n",
       "      <th>T</th>\n",
       "      <th>KAEX</th>\n",
       "      <th>KIWA</th>\n",
       "      <td>1.0</td>\n",
       "      <td>NaN</td>\n",
       "    </tr>\n",
       "    <tr>\n",
       "      <th>2018-09-04</th>\n",
       "      <th>2017-10-01</th>\n",
       "      <th>47004</th>\n",
       "      <th>R</th>\n",
       "      <th>KIWA</th>\n",
       "      <th>FYWH</th>\n",
       "      <td>2.0</td>\n",
       "      <td>NaN</td>\n",
       "    </tr>\n",
       "    <tr>\n",
       "      <th>GUADELOUPE</th>\n",
       "      <th>2018-09-11</th>\n",
       "      <th>2017-10-01</th>\n",
       "      <th>47018</th>\n",
       "      <th>T</th>\n",
       "      <th>KEWR</th>\n",
       "      <th>KAEX</th>\n",
       "      <td>1.0</td>\n",
       "      <td>NaN</td>\n",
       "    </tr>\n",
       "  </tbody>\n",
       "</table>\n",
       "<p>94168 rows × 2 columns</p>\n",
       "</div>"
      ],
      "text/plain": [
       "                                                                        AlienMasterID  \\\n",
       "Juvenile                                                                        False   \n",
       "CountryOfCitizenship MissionDate FiscalYear MissionID R-T PULOC DropLoc                 \n",
       "ALGERIA              2010-10-14  2010-10-01 182       T   KMDT  KHRL              1.0   \n",
       "                     2010-10-15  2010-10-01 187       T   KBFL  KIWA              1.0   \n",
       "                     2011-01-31  2010-10-01 769       T   KAEX  KMDT              1.0   \n",
       "                     2012-12-18  2012-10-01 5297      T   KEWR  KAEX              1.0   \n",
       "                     2014-07-14  2013-10-01 9022      T   KEWR  KAEX              1.0   \n",
       "                     2016-03-22  2015-10-01 12168     T   KBFI  KIWA              1.0   \n",
       "                     2016-03-24  2015-10-01 12175     T   KIWA  KAEX              1.0   \n",
       "                                            12176     T   KAEX  KMIA              1.0   \n",
       "                     2016-03-31  2015-10-01 12200     T   KAEX  KIWA              1.0   \n",
       "                                            12202     T   KMIA  KAEX              1.0   \n",
       "                     2016-04-05  2015-10-01 12274     T   KIWA  KBFI              1.0   \n",
       "                     2016-05-05  2015-10-01 12421     T   KMIA  KAEX              1.0   \n",
       "                     2016-05-09  2015-10-01 12441     T   KAEX  KMDT              1.0   \n",
       "                     2016-05-16  2015-10-01 12498     T   KMDT  KAEX              1.0   \n",
       "                     2016-05-19  2015-10-01 12513     T   KAEX  KMIA              1.0   \n",
       "                     2016-06-16  2015-10-01 12669     T   KCSG  KAEX              1.0   \n",
       "                     2016-09-22  2015-10-01 13124     T   KMIA  KAEX              1.0   \n",
       "                     2016-09-27  2015-10-01 13148     T   KAEX  KTOL              1.0   \n",
       "                     2017-04-17  2016-10-01 38916     T   KAEX  KEWR              1.0   \n",
       "                     2017-07-06  2016-10-01 39238     T   KMIA  KAEX              1.0   \n",
       "                     2017-07-10  2016-10-01 39252     T   KAEX  KMDT              1.0   \n",
       "                     2017-07-17  2016-10-01 39279     T   KEWR  KAEX              2.0   \n",
       "                     2017-07-18  2016-10-01 39286     T   KTOL  KAEX              1.0   \n",
       "                     2017-07-20  2016-10-01 39292     T   KAEX  KIWA              3.0   \n",
       "                     2017-07-24  2016-10-01 39306     T   KEWR  KAEX              1.0   \n",
       "                     2017-07-25  2016-10-01 39314     R   KIWA  DAAG              3.0   \n",
       "                     2017-08-17  2016-10-01 39415     T   KJAX  KAEX              1.0   \n",
       "                     2017-08-21  2016-10-01 39427     T   KAEX  KEWR              1.0   \n",
       "                     2017-08-24  2016-10-01 39442     T   KJAX  KAEX              1.0   \n",
       "                     2017-11-27  2017-10-01 45631     T   KAEX  KEWR              1.0   \n",
       "...                                                                               ...   \n",
       "STATELESS            2018-10-03  2018-10-01 47125     T   KIWA  KAEX              1.0   \n",
       "                     2018-10-09  2018-10-01 47158     T   KAEX  KAEX              1.0   \n",
       "                     2018-10-12  2018-10-01 47175     T   KAEX  KIWA              1.0   \n",
       "                     2018-11-13  2018-10-01 47328     T   KEWR  KFTW              1.0   \n",
       "BHUTAN               2017-03-03  2016-10-01 38727     T   KSLC  KLAS              1.0   \n",
       "                     2018-11-20  2018-10-01 47364     T   KEWR  KAEX              1.0   \n",
       "                     2018-11-21  2018-10-01 47373     T   KAEX  KOMA              1.0   \n",
       "SURINAME             2017-03-27  2016-10-01 38834     T   KMDT  KAEX              2.0   \n",
       "                     2017-03-30  2016-10-01 38852     T   KAEX  KMIA              2.0   \n",
       "                     2017-04-07  2016-10-01 38897     R   KMIA  SMJP              2.0   \n",
       "                     2018-01-22  2017-10-01 45888     T   KAEX  KEWR              1.0   \n",
       "                     2018-02-20  2017-10-01 46018     T   KAEX  KEWR              1.0   \n",
       "                     2018-05-07  2017-10-01 46376     T   KAEX  KEWR              1.0   \n",
       "                     2018-10-09  2018-10-01 47158     T   KAEX  KEWR              1.0   \n",
       "BELGIUM              2017-05-01  2016-10-01 38981     T   KMDT  KAEX              1.0   \n",
       "                     2018-02-05  2017-10-01 45945     T   KAEX  KEWR              1.0   \n",
       "TURKMENISTAN         2017-11-10  2017-10-01 45560     T   KBRO  KBOS              1.0   \n",
       "ARUBA                2017-11-27  2017-10-01 45631     T   KAEX  KEWR              1.0   \n",
       "UNITED ARAB EMIRATES 2018-01-23  2017-10-01 45895     T   KMSP  KAEX              1.0   \n",
       "                     2018-01-30  2017-10-01 45922     T   KAEX  KMSP              1.0   \n",
       "                     2018-03-20  2017-10-01 46153     T   KMSP  KAEX              1.0   \n",
       "                     2018-03-22  2017-10-01 46162     T   KAEX  KIWA              1.0   \n",
       "                     2018-03-27  2017-10-01 46200     R   KIWA  OMDW              1.0   \n",
       "PAPUA NEW GUINEA     2018-03-13  2017-10-01 46115     T   KIWA  KBFI              1.0   \n",
       "PALESTINIAN          2018-05-29  2017-10-01 46513     R   KIWA  OJAI              4.0   \n",
       "NAMIBIA              2018-06-18  2017-10-01 46599     T   KAEX  KRIC              1.0   \n",
       "                     2018-06-25  2017-10-01 46633     T   KRIC  KAEX              1.0   \n",
       "                     2018-08-30  2017-10-01 46953     T   KAEX  KIWA              1.0   \n",
       "                     2018-09-04  2017-10-01 47004     R   KIWA  FYWH              2.0   \n",
       "GUADELOUPE           2018-09-11  2017-10-01 47018     T   KEWR  KAEX              1.0   \n",
       "\n",
       "                                                                               \n",
       "Juvenile                                                                True   \n",
       "CountryOfCitizenship MissionDate FiscalYear MissionID R-T PULOC DropLoc        \n",
       "ALGERIA              2010-10-14  2010-10-01 182       T   KMDT  KHRL      NaN  \n",
       "                     2010-10-15  2010-10-01 187       T   KBFL  KIWA      NaN  \n",
       "                     2011-01-31  2010-10-01 769       T   KAEX  KMDT      NaN  \n",
       "                     2012-12-18  2012-10-01 5297      T   KEWR  KAEX      NaN  \n",
       "                     2014-07-14  2013-10-01 9022      T   KEWR  KAEX      NaN  \n",
       "                     2016-03-22  2015-10-01 12168     T   KBFI  KIWA      NaN  \n",
       "                     2016-03-24  2015-10-01 12175     T   KIWA  KAEX      NaN  \n",
       "                                            12176     T   KAEX  KMIA      NaN  \n",
       "                     2016-03-31  2015-10-01 12200     T   KAEX  KIWA      NaN  \n",
       "                                            12202     T   KMIA  KAEX      NaN  \n",
       "                     2016-04-05  2015-10-01 12274     T   KIWA  KBFI      NaN  \n",
       "                     2016-05-05  2015-10-01 12421     T   KMIA  KAEX      NaN  \n",
       "                     2016-05-09  2015-10-01 12441     T   KAEX  KMDT      NaN  \n",
       "                     2016-05-16  2015-10-01 12498     T   KMDT  KAEX      NaN  \n",
       "                     2016-05-19  2015-10-01 12513     T   KAEX  KMIA      NaN  \n",
       "                     2016-06-16  2015-10-01 12669     T   KCSG  KAEX      NaN  \n",
       "                     2016-09-22  2015-10-01 13124     T   KMIA  KAEX      NaN  \n",
       "                     2016-09-27  2015-10-01 13148     T   KAEX  KTOL      NaN  \n",
       "                     2017-04-17  2016-10-01 38916     T   KAEX  KEWR      NaN  \n",
       "                     2017-07-06  2016-10-01 39238     T   KMIA  KAEX      NaN  \n",
       "                     2017-07-10  2016-10-01 39252     T   KAEX  KMDT      NaN  \n",
       "                     2017-07-17  2016-10-01 39279     T   KEWR  KAEX      NaN  \n",
       "                     2017-07-18  2016-10-01 39286     T   KTOL  KAEX      NaN  \n",
       "                     2017-07-20  2016-10-01 39292     T   KAEX  KIWA      NaN  \n",
       "                     2017-07-24  2016-10-01 39306     T   KEWR  KAEX      NaN  \n",
       "                     2017-07-25  2016-10-01 39314     R   KIWA  DAAG      NaN  \n",
       "                     2017-08-17  2016-10-01 39415     T   KJAX  KAEX      NaN  \n",
       "                     2017-08-21  2016-10-01 39427     T   KAEX  KEWR      NaN  \n",
       "                     2017-08-24  2016-10-01 39442     T   KJAX  KAEX      NaN  \n",
       "                     2017-11-27  2017-10-01 45631     T   KAEX  KEWR      NaN  \n",
       "...                                                                       ...  \n",
       "STATELESS            2018-10-03  2018-10-01 47125     T   KIWA  KAEX      NaN  \n",
       "                     2018-10-09  2018-10-01 47158     T   KAEX  KAEX      NaN  \n",
       "                     2018-10-12  2018-10-01 47175     T   KAEX  KIWA      NaN  \n",
       "                     2018-11-13  2018-10-01 47328     T   KEWR  KFTW      NaN  \n",
       "BHUTAN               2017-03-03  2016-10-01 38727     T   KSLC  KLAS      NaN  \n",
       "                     2018-11-20  2018-10-01 47364     T   KEWR  KAEX      NaN  \n",
       "                     2018-11-21  2018-10-01 47373     T   KAEX  KOMA      NaN  \n",
       "SURINAME             2017-03-27  2016-10-01 38834     T   KMDT  KAEX      NaN  \n",
       "                     2017-03-30  2016-10-01 38852     T   KAEX  KMIA      NaN  \n",
       "                     2017-04-07  2016-10-01 38897     R   KMIA  SMJP      NaN  \n",
       "                     2018-01-22  2017-10-01 45888     T   KAEX  KEWR      NaN  \n",
       "                     2018-02-20  2017-10-01 46018     T   KAEX  KEWR      NaN  \n",
       "                     2018-05-07  2017-10-01 46376     T   KAEX  KEWR      NaN  \n",
       "                     2018-10-09  2018-10-01 47158     T   KAEX  KEWR      NaN  \n",
       "BELGIUM              2017-05-01  2016-10-01 38981     T   KMDT  KAEX      NaN  \n",
       "                     2018-02-05  2017-10-01 45945     T   KAEX  KEWR      NaN  \n",
       "TURKMENISTAN         2017-11-10  2017-10-01 45560     T   KBRO  KBOS      NaN  \n",
       "ARUBA                2017-11-27  2017-10-01 45631     T   KAEX  KEWR      NaN  \n",
       "UNITED ARAB EMIRATES 2018-01-23  2017-10-01 45895     T   KMSP  KAEX      NaN  \n",
       "                     2018-01-30  2017-10-01 45922     T   KAEX  KMSP      NaN  \n",
       "                     2018-03-20  2017-10-01 46153     T   KMSP  KAEX      NaN  \n",
       "                     2018-03-22  2017-10-01 46162     T   KAEX  KIWA      NaN  \n",
       "                     2018-03-27  2017-10-01 46200     R   KIWA  OMDW      NaN  \n",
       "PAPUA NEW GUINEA     2018-03-13  2017-10-01 46115     T   KIWA  KBFI      NaN  \n",
       "PALESTINIAN          2018-05-29  2017-10-01 46513     R   KIWA  OJAI      NaN  \n",
       "NAMIBIA              2018-06-18  2017-10-01 46599     T   KAEX  KRIC      NaN  \n",
       "                     2018-06-25  2017-10-01 46633     T   KRIC  KAEX      NaN  \n",
       "                     2018-08-30  2017-10-01 46953     T   KAEX  KIWA      NaN  \n",
       "                     2018-09-04  2017-10-01 47004     R   KIWA  FYWH      NaN  \n",
       "GUADELOUPE           2018-09-11  2017-10-01 47018     T   KEWR  KAEX      NaN  \n",
       "\n",
       "[94168 rows x 2 columns]"
      ]
     },
     "execution_count": 108,
     "metadata": {},
     "output_type": "execute_result"
    }
   ],
   "source": [
    "t"
   ]
  },
  {
   "cell_type": "code",
   "execution_count": 109,
   "metadata": {},
   "outputs": [],
   "source": [
    "t = t['AlienMasterID'].reset_index()"
   ]
  },
  {
   "cell_type": "code",
   "execution_count": 110,
   "metadata": {},
   "outputs": [],
   "source": [
    "t.columns.name = None"
   ]
  },
  {
   "cell_type": "code",
   "execution_count": 111,
   "metadata": {},
   "outputs": [],
   "source": [
    "t = t.rename({False: 'AdultCount', True: 'JuvCount'}, axis=1)"
   ]
  },
  {
   "cell_type": "code",
   "execution_count": 112,
   "metadata": {},
   "outputs": [],
   "source": [
    "t[['AdultCount', 'JuvCount']] = t[['AdultCount', 'JuvCount']].fillna(0)"
   ]
  },
  {
   "cell_type": "code",
   "execution_count": 113,
   "metadata": {},
   "outputs": [],
   "source": [
    "t['TotalCount'] = t['AdultCount'] + t['JuvCount']"
   ]
  },
  {
   "cell_type": "code",
   "execution_count": 114,
   "metadata": {},
   "outputs": [],
   "source": [
    "t['JuvPercent'] = t['JuvCount'] / t['TotalCount']"
   ]
  },
  {
   "cell_type": "code",
   "execution_count": 115,
   "metadata": {},
   "outputs": [],
   "source": [
    "t.set_index('MissionDate', inplace=True)"
   ]
  },
  {
   "cell_type": "code",
   "execution_count": 116,
   "metadata": {},
   "outputs": [],
   "source": [
    "tr = t[t['R-T'] == 'R'].copy()\n",
    "tt = t[t['R-T'] == 'T'].copy()"
   ]
  },
  {
   "cell_type": "code",
   "execution_count": 117,
   "metadata": {},
   "outputs": [],
   "source": [
    "tr.sort_index(inplace=True)\n",
    "tt.sort_index(inplace=True)"
   ]
  },
  {
   "cell_type": "code",
   "execution_count": 118,
   "metadata": {},
   "outputs": [
    {
     "data": {
      "text/plain": [
       "<matplotlib.axes._subplots.AxesSubplot at 0x7fa7d0217278>"
      ]
     },
     "execution_count": 118,
     "metadata": {},
     "output_type": "execute_result"
    },
    {
     "data": {
      "image/png": "[encoded data removed]",
      "text/plain": [
       "<Figure size 432x288 with 1 Axes>"
      ]
     },
     "metadata": {
      "needs_background": "light"
     },
     "output_type": "display_data"
    }
   ],
   "source": [
    "tr['JuvPercent'].plot()"
   ]
  },
  {
   "cell_type": "code",
   "execution_count": 119,
   "metadata": {},
   "outputs": [
    {
     "data": {
      "text/plain": [
       "<matplotlib.axes._subplots.AxesSubplot at 0x7fa7d2332940>"
      ]
     },
     "execution_count": 119,
     "metadata": {},
     "output_type": "execute_result"
    },
    {
     "data": {
      "image/png": "[encoded data removed]",
      "text/plain": [
       "<Figure size 432x288 with 1 Axes>"
      ]
     },
     "metadata": {
      "needs_background": "light"
     },
     "output_type": "display_data"
    }
   ],
   "source": [
    "tr['JuvCount'].plot()"
   ]
  },
  {
   "cell_type": "code",
   "execution_count": 120,
   "metadata": {},
   "outputs": [
    {
     "data": {
      "text/plain": [
       "<matplotlib.axes._subplots.AxesSubplot at 0x7fa7d01ff7f0>"
      ]
     },
     "execution_count": 120,
     "metadata": {},
     "output_type": "execute_result"
    },
    {
     "data": {
      "image/png": "[encoded data removed]",
      "text/plain": [
       "<Figure size 432x288 with 1 Axes>"
      ]
     },
     "metadata": {
      "needs_background": "light"
     },
     "output_type": "display_data"
    }
   ],
   "source": [
    "tr['JuvCount'].cumsum().plot()"
   ]
  },
  {
   "cell_type": "code",
   "execution_count": 121,
   "metadata": {},
   "outputs": [
    {
     "data": {
      "text/plain": [
       "<matplotlib.axes._subplots.AxesSubplot at 0x7fa7d2cad2e8>"
      ]
     },
     "execution_count": 121,
     "metadata": {},
     "output_type": "execute_result"
    },
    {
     "data": {
      "image/png": "[encoded data removed]",
      "text/plain": [
       "<Figure size 432x288 with 1 Axes>"
      ]
     },
     "metadata": {
      "needs_background": "light"
     },
     "output_type": "display_data"
    }
   ],
   "source": [
    "tt['JuvPercent'].plot()"
   ]
  },
  {
   "cell_type": "code",
   "execution_count": 122,
   "metadata": {},
   "outputs": [
    {
     "data": {
      "text/plain": [
       "<matplotlib.axes._subplots.AxesSubplot at 0x7fa7d2b00048>"
      ]
     },
     "execution_count": 122,
     "metadata": {},
     "output_type": "execute_result"
    },
    {
     "data": {
      "image/png": "[encoded data removed]",
      "text/plain": [
       "<Figure size 432x288 with 1 Axes>"
      ]
     },
     "metadata": {
      "needs_background": "light"
     },
     "output_type": "display_data"
    }
   ],
   "source": [
    "tt['2013-01']['JuvPercent'].plot(style='o-')"
   ]
  },
  {
   "cell_type": "code",
   "execution_count": 123,
   "metadata": {},
   "outputs": [
    {
     "data": {
      "text/plain": [
       "<matplotlib.axes._subplots.AxesSubplot at 0x7fa7d2c75710>"
      ]
     },
     "execution_count": 123,
     "metadata": {},
     "output_type": "execute_result"
    },
    {
     "data": {
      "image/png": "[encoded data removed]",
      "text/plain": [
       "<Figure size 432x288 with 1 Axes>"
      ]
     },
     "metadata": {
      "needs_background": "light"
     },
     "output_type": "display_data"
    }
   ],
   "source": [
    "tt['JuvCount'].plot()"
   ]
  },
  {
   "cell_type": "code",
   "execution_count": 124,
   "metadata": {},
   "outputs": [],
   "source": [
    "all_juv_transfers = tt[tt['JuvPercent'] == 1]\n",
    "all_juv_removals = tr[tr['JuvPercent'] == 1]"
   ]
  },
  {
   "cell_type": "code",
   "execution_count": 125,
   "metadata": {},
   "outputs": [
    {
     "data": {
      "text/plain": [
       "1.2142857142857142"
      ]
     },
     "execution_count": 125,
     "metadata": {},
     "output_type": "execute_result"
    }
   ],
   "source": [
    "all_juv_removals['JuvCount'].mean()"
   ]
  },
  {
   "cell_type": "code",
   "execution_count": 126,
   "metadata": {},
   "outputs": [
    {
     "data": {
      "text/plain": [
       "1.0"
      ]
     },
     "execution_count": 126,
     "metadata": {},
     "output_type": "execute_result"
    }
   ],
   "source": [
    "all_juv_removals['JuvCount'].median()"
   ]
  },
  {
   "cell_type": "code",
   "execution_count": 127,
   "metadata": {},
   "outputs": [
    {
     "data": {
      "text/plain": [
       "3.0"
      ]
     },
     "execution_count": 127,
     "metadata": {},
     "output_type": "execute_result"
    }
   ],
   "source": [
    "all_juv_removals['JuvCount'].max()"
   ]
  },
  {
   "cell_type": "markdown",
   "metadata": {},
   "source": [
    "# Juveniles"
   ]
  },
  {
   "cell_type": "code",
   "execution_count": 128,
   "metadata": {},
   "outputs": [],
   "source": [
    "nationality = 'GUATEMALA'"
   ]
  },
  {
   "cell_type": "code",
   "execution_count": 129,
   "metadata": {},
   "outputs": [],
   "source": [
    "guate_removals = tr[tr['CountryOfCitizenship'] == nationality].copy()\n",
    "guate_transfers = tt[tt['CountryOfCitizenship'] == nationality].copy()"
   ]
  },
  {
   "cell_type": "code",
   "execution_count": 130,
   "metadata": {},
   "outputs": [
    {
     "data": {
      "text/html": [
       "<div>\n",
       "<style scoped>\n",
       "    .dataframe tbody tr th:only-of-type {\n",
       "        vertical-align: middle;\n",
       "    }\n",
       "\n",
       "    .dataframe tbody tr th {\n",
       "        vertical-align: top;\n",
       "    }\n",
       "\n",
       "    .dataframe thead th {\n",
       "        text-align: right;\n",
       "    }\n",
       "</style>\n",
       "<table border=\"1\" class=\"dataframe\">\n",
       "  <thead>\n",
       "    <tr style=\"text-align: right;\">\n",
       "      <th></th>\n",
       "      <th>CountryOfCitizenship</th>\n",
       "      <th>FiscalYear</th>\n",
       "      <th>MissionID</th>\n",
       "      <th>R-T</th>\n",
       "      <th>PULOC</th>\n",
       "      <th>DropLoc</th>\n",
       "      <th>AdultCount</th>\n",
       "      <th>JuvCount</th>\n",
       "      <th>TotalCount</th>\n",
       "      <th>JuvPercent</th>\n",
       "    </tr>\n",
       "    <tr>\n",
       "      <th>MissionDate</th>\n",
       "      <th></th>\n",
       "      <th></th>\n",
       "      <th></th>\n",
       "      <th></th>\n",
       "      <th></th>\n",
       "      <th></th>\n",
       "      <th></th>\n",
       "      <th></th>\n",
       "      <th></th>\n",
       "      <th></th>\n",
       "    </tr>\n",
       "  </thead>\n",
       "  <tbody>\n",
       "    <tr>\n",
       "      <th>2010-10-01</th>\n",
       "      <td>GUATEMALA</td>\n",
       "      <td>2010-10-01</td>\n",
       "      <td>132</td>\n",
       "      <td>R</td>\n",
       "      <td>KIWA</td>\n",
       "      <td>MGGT</td>\n",
       "      <td>121.0</td>\n",
       "      <td>0.0</td>\n",
       "      <td>121.0</td>\n",
       "      <td>0.000000</td>\n",
       "    </tr>\n",
       "    <tr>\n",
       "      <th>2010-10-01</th>\n",
       "      <td>GUATEMALA</td>\n",
       "      <td>2010-10-01</td>\n",
       "      <td>106</td>\n",
       "      <td>R</td>\n",
       "      <td>KSAT</td>\n",
       "      <td>MGGT</td>\n",
       "      <td>37.0</td>\n",
       "      <td>0.0</td>\n",
       "      <td>37.0</td>\n",
       "      <td>0.000000</td>\n",
       "    </tr>\n",
       "    <tr>\n",
       "      <th>2010-10-01</th>\n",
       "      <td>GUATEMALA</td>\n",
       "      <td>2010-10-01</td>\n",
       "      <td>106</td>\n",
       "      <td>R</td>\n",
       "      <td>KHRL</td>\n",
       "      <td>MGGT</td>\n",
       "      <td>67.0</td>\n",
       "      <td>0.0</td>\n",
       "      <td>67.0</td>\n",
       "      <td>0.000000</td>\n",
       "    </tr>\n",
       "    <tr>\n",
       "      <th>2010-10-04</th>\n",
       "      <td>GUATEMALA</td>\n",
       "      <td>2010-10-01</td>\n",
       "      <td>112</td>\n",
       "      <td>R</td>\n",
       "      <td>KMIA</td>\n",
       "      <td>MGGT</td>\n",
       "      <td>42.0</td>\n",
       "      <td>4.0</td>\n",
       "      <td>46.0</td>\n",
       "      <td>0.086957</td>\n",
       "    </tr>\n",
       "    <tr>\n",
       "      <th>2010-10-05</th>\n",
       "      <td>GUATEMALA</td>\n",
       "      <td>2010-10-01</td>\n",
       "      <td>115</td>\n",
       "      <td>R</td>\n",
       "      <td>KELP</td>\n",
       "      <td>MGGT</td>\n",
       "      <td>23.0</td>\n",
       "      <td>0.0</td>\n",
       "      <td>23.0</td>\n",
       "      <td>0.000000</td>\n",
       "    </tr>\n",
       "  </tbody>\n",
       "</table>\n",
       "</div>"
      ],
      "text/plain": [
       "            CountryOfCitizenship FiscalYear  MissionID R-T PULOC DropLoc  \\\n",
       "MissionDate                                                                \n",
       "2010-10-01             GUATEMALA 2010-10-01        132   R  KIWA    MGGT   \n",
       "2010-10-01             GUATEMALA 2010-10-01        106   R  KSAT    MGGT   \n",
       "2010-10-01             GUATEMALA 2010-10-01        106   R  KHRL    MGGT   \n",
       "2010-10-04             GUATEMALA 2010-10-01        112   R  KMIA    MGGT   \n",
       "2010-10-05             GUATEMALA 2010-10-01        115   R  KELP    MGGT   \n",
       "\n",
       "             AdultCount  JuvCount  TotalCount  JuvPercent  \n",
       "MissionDate                                                \n",
       "2010-10-01        121.0       0.0       121.0    0.000000  \n",
       "2010-10-01         37.0       0.0        37.0    0.000000  \n",
       "2010-10-01         67.0       0.0        67.0    0.000000  \n",
       "2010-10-04         42.0       4.0        46.0    0.086957  \n",
       "2010-10-05         23.0       0.0        23.0    0.000000  "
      ]
     },
     "execution_count": 130,
     "metadata": {},
     "output_type": "execute_result"
    }
   ],
   "source": [
    "guate_removals.head()"
   ]
  },
  {
   "cell_type": "code",
   "execution_count": 131,
   "metadata": {},
   "outputs": [
    {
     "data": {
      "text/plain": [
       "<matplotlib.axes._subplots.AxesSubplot at 0x7fa7d0c1a860>"
      ]
     },
     "execution_count": 131,
     "metadata": {},
     "output_type": "execute_result"
    },
    {
     "data": {
      "image/png": "[encoded data removed]",
      "text/plain": [
       "<Figure size 432x288 with 1 Axes>"
      ]
     },
     "metadata": {
      "needs_background": "light"
     },
     "output_type": "display_data"
    }
   ],
   "source": [
    "guate_removals['JuvCount'].cumsum().plot()"
   ]
  },
  {
   "cell_type": "code",
   "execution_count": 132,
   "metadata": {},
   "outputs": [
    {
     "data": {
      "image/png": "[encoded data removed]",
      "text/plain": [
       "<Figure size 432x288 with 1 Axes>"
      ]
     },
     "metadata": {
      "needs_background": "light"
     },
     "output_type": "display_data"
    }
   ],
   "source": [
    "r_cum = guate_removals['TotalCount'].cumsum()\n",
    "t_cum = guate_removals['TotalCount'].cumsum()\n",
    "\n",
    "r_cum.plot();"
   ]
  },
  {
   "cell_type": "code",
   "execution_count": 133,
   "metadata": {},
   "outputs": [
    {
     "data": {
      "text/plain": [
       "<matplotlib.axes._subplots.AxesSubplot at 0x7fa7d0294b00>"
      ]
     },
     "execution_count": 133,
     "metadata": {},
     "output_type": "execute_result"
    },
    {
     "data": {
      "image/png": "[encoded data removed]",
      "text/plain": [
       "<Figure size 432x288 with 1 Axes>"
      ]
     },
     "metadata": {
      "needs_background": "light"
     },
     "output_type": "display_data"
    }
   ],
   "source": [
    "juv_r_cum = guate_removals['JuvCount'].cumsum()\n",
    "\n",
    "juv_r_cum.plot()"
   ]
  },
  {
   "cell_type": "code",
   "execution_count": 134,
   "metadata": {},
   "outputs": [
    {
     "data": {
      "text/plain": [
       "25.0"
      ]
     },
     "execution_count": 134,
     "metadata": {},
     "output_type": "execute_result"
    }
   ],
   "source": [
    "guate_removals['JuvCount'].max()"
   ]
  },
  {
   "cell_type": "code",
   "execution_count": 135,
   "metadata": {},
   "outputs": [
    {
     "data": {
      "image/png": "[encoded data removed]",
      "text/plain": [
       "<Figure size 432x288 with 1 Axes>"
      ]
     },
     "metadata": {
      "needs_background": "light"
     },
     "output_type": "display_data"
    }
   ],
   "source": [
    "guate_removals['JuvPercent'].plot();"
   ]
  },
  {
   "cell_type": "code",
   "execution_count": 136,
   "metadata": {},
   "outputs": [
    {
     "data": {
      "text/html": [
       "<div>\n",
       "<style scoped>\n",
       "    .dataframe tbody tr th:only-of-type {\n",
       "        vertical-align: middle;\n",
       "    }\n",
       "\n",
       "    .dataframe tbody tr th {\n",
       "        vertical-align: top;\n",
       "    }\n",
       "\n",
       "    .dataframe thead th {\n",
       "        text-align: right;\n",
       "    }\n",
       "</style>\n",
       "<table border=\"1\" class=\"dataframe\">\n",
       "  <thead>\n",
       "    <tr style=\"text-align: right;\">\n",
       "      <th></th>\n",
       "      <th>CountryOfCitizenship</th>\n",
       "      <th>FiscalYear</th>\n",
       "      <th>MissionID</th>\n",
       "      <th>R-T</th>\n",
       "      <th>PULOC</th>\n",
       "      <th>DropLoc</th>\n",
       "      <th>AdultCount</th>\n",
       "      <th>JuvCount</th>\n",
       "      <th>TotalCount</th>\n",
       "      <th>JuvPercent</th>\n",
       "    </tr>\n",
       "    <tr>\n",
       "      <th>MissionDate</th>\n",
       "      <th></th>\n",
       "      <th></th>\n",
       "      <th></th>\n",
       "      <th></th>\n",
       "      <th></th>\n",
       "      <th></th>\n",
       "      <th></th>\n",
       "      <th></th>\n",
       "      <th></th>\n",
       "      <th></th>\n",
       "    </tr>\n",
       "  </thead>\n",
       "  <tbody>\n",
       "    <tr>\n",
       "      <th>2012-09-20</th>\n",
       "      <td>GUATEMALA</td>\n",
       "      <td>2011-10-01</td>\n",
       "      <td>4634</td>\n",
       "      <td>R</td>\n",
       "      <td>KMIA</td>\n",
       "      <td>MGGT</td>\n",
       "      <td>0.0</td>\n",
       "      <td>1.0</td>\n",
       "      <td>1.0</td>\n",
       "      <td>1.0</td>\n",
       "    </tr>\n",
       "    <tr>\n",
       "      <th>2012-10-18</th>\n",
       "      <td>GUATEMALA</td>\n",
       "      <td>2012-10-01</td>\n",
       "      <td>4835</td>\n",
       "      <td>R</td>\n",
       "      <td>KMIA</td>\n",
       "      <td>MGGT</td>\n",
       "      <td>0.0</td>\n",
       "      <td>3.0</td>\n",
       "      <td>3.0</td>\n",
       "      <td>1.0</td>\n",
       "    </tr>\n",
       "    <tr>\n",
       "      <th>2014-08-12</th>\n",
       "      <td>GUATEMALA</td>\n",
       "      <td>2013-10-01</td>\n",
       "      <td>9212</td>\n",
       "      <td>R</td>\n",
       "      <td>KSAT</td>\n",
       "      <td>MGGT</td>\n",
       "      <td>0.0</td>\n",
       "      <td>1.0</td>\n",
       "      <td>1.0</td>\n",
       "      <td>1.0</td>\n",
       "    </tr>\n",
       "    <tr>\n",
       "      <th>2014-09-12</th>\n",
       "      <td>GUATEMALA</td>\n",
       "      <td>2013-10-01</td>\n",
       "      <td>9411</td>\n",
       "      <td>R</td>\n",
       "      <td>KSAT</td>\n",
       "      <td>MGGT</td>\n",
       "      <td>0.0</td>\n",
       "      <td>1.0</td>\n",
       "      <td>1.0</td>\n",
       "      <td>1.0</td>\n",
       "    </tr>\n",
       "    <tr>\n",
       "      <th>2015-10-14</th>\n",
       "      <td>GUATEMALA</td>\n",
       "      <td>2015-10-01</td>\n",
       "      <td>11365</td>\n",
       "      <td>R</td>\n",
       "      <td>KSAT</td>\n",
       "      <td>MGGT</td>\n",
       "      <td>0.0</td>\n",
       "      <td>1.0</td>\n",
       "      <td>1.0</td>\n",
       "      <td>1.0</td>\n",
       "    </tr>\n",
       "    <tr>\n",
       "      <th>2016-04-05</th>\n",
       "      <td>GUATEMALA</td>\n",
       "      <td>2015-10-01</td>\n",
       "      <td>12277</td>\n",
       "      <td>R</td>\n",
       "      <td>KLRD</td>\n",
       "      <td>MGGT</td>\n",
       "      <td>0.0</td>\n",
       "      <td>1.0</td>\n",
       "      <td>1.0</td>\n",
       "      <td>1.0</td>\n",
       "    </tr>\n",
       "    <tr>\n",
       "      <th>2017-06-08</th>\n",
       "      <td>GUATEMALA</td>\n",
       "      <td>2016-10-01</td>\n",
       "      <td>39135</td>\n",
       "      <td>R</td>\n",
       "      <td>KBRO</td>\n",
       "      <td>MGGT</td>\n",
       "      <td>0.0</td>\n",
       "      <td>2.0</td>\n",
       "      <td>2.0</td>\n",
       "      <td>1.0</td>\n",
       "    </tr>\n",
       "    <tr>\n",
       "      <th>2018-04-02</th>\n",
       "      <td>GUATEMALA</td>\n",
       "      <td>2017-10-01</td>\n",
       "      <td>46205</td>\n",
       "      <td>R</td>\n",
       "      <td>KSAT</td>\n",
       "      <td>MGGT</td>\n",
       "      <td>0.0</td>\n",
       "      <td>1.0</td>\n",
       "      <td>1.0</td>\n",
       "      <td>1.0</td>\n",
       "    </tr>\n",
       "    <tr>\n",
       "      <th>2018-07-13</th>\n",
       "      <td>GUATEMALA</td>\n",
       "      <td>2017-10-01</td>\n",
       "      <td>46720</td>\n",
       "      <td>R</td>\n",
       "      <td>KSAT</td>\n",
       "      <td>MGGT</td>\n",
       "      <td>0.0</td>\n",
       "      <td>1.0</td>\n",
       "      <td>1.0</td>\n",
       "      <td>1.0</td>\n",
       "    </tr>\n",
       "  </tbody>\n",
       "</table>\n",
       "</div>"
      ],
      "text/plain": [
       "            CountryOfCitizenship FiscalYear  MissionID R-T PULOC DropLoc  \\\n",
       "MissionDate                                                                \n",
       "2012-09-20             GUATEMALA 2011-10-01       4634   R  KMIA    MGGT   \n",
       "2012-10-18             GUATEMALA 2012-10-01       4835   R  KMIA    MGGT   \n",
       "2014-08-12             GUATEMALA 2013-10-01       9212   R  KSAT    MGGT   \n",
       "2014-09-12             GUATEMALA 2013-10-01       9411   R  KSAT    MGGT   \n",
       "2015-10-14             GUATEMALA 2015-10-01      11365   R  KSAT    MGGT   \n",
       "2016-04-05             GUATEMALA 2015-10-01      12277   R  KLRD    MGGT   \n",
       "2017-06-08             GUATEMALA 2016-10-01      39135   R  KBRO    MGGT   \n",
       "2018-04-02             GUATEMALA 2017-10-01      46205   R  KSAT    MGGT   \n",
       "2018-07-13             GUATEMALA 2017-10-01      46720   R  KSAT    MGGT   \n",
       "\n",
       "             AdultCount  JuvCount  TotalCount  JuvPercent  \n",
       "MissionDate                                                \n",
       "2012-09-20          0.0       1.0         1.0         1.0  \n",
       "2012-10-18          0.0       3.0         3.0         1.0  \n",
       "2014-08-12          0.0       1.0         1.0         1.0  \n",
       "2014-09-12          0.0       1.0         1.0         1.0  \n",
       "2015-10-14          0.0       1.0         1.0         1.0  \n",
       "2016-04-05          0.0       1.0         1.0         1.0  \n",
       "2017-06-08          0.0       2.0         2.0         1.0  \n",
       "2018-04-02          0.0       1.0         1.0         1.0  \n",
       "2018-07-13          0.0       1.0         1.0         1.0  "
      ]
     },
     "execution_count": 136,
     "metadata": {},
     "output_type": "execute_result"
    }
   ],
   "source": [
    "guate_removals[guate_removals['JuvPercent'] == 1]"
   ]
  },
  {
   "cell_type": "code",
   "execution_count": 137,
   "metadata": {},
   "outputs": [],
   "source": [
    "only_guate_juveniles = list(guate_removals[guate_removals['JuvPercent'] == 1]['MissionID'])"
   ]
  },
  {
   "cell_type": "code",
   "execution_count": 138,
   "metadata": {},
   "outputs": [
    {
     "data": {
      "text/plain": [
       "[4634, 4835, 9212, 9411, 11365, 12277, 39135, 46205, 46720]"
      ]
     },
     "execution_count": 138,
     "metadata": {},
     "output_type": "execute_result"
    }
   ],
   "source": [
    "only_guate_juveniles"
   ]
  },
  {
   "cell_type": "code",
   "execution_count": 139,
   "metadata": {},
   "outputs": [
    {
     "data": {
      "text/html": [
       "<div>\n",
       "<style scoped>\n",
       "    .dataframe tbody tr th:only-of-type {\n",
       "        vertical-align: middle;\n",
       "    }\n",
       "\n",
       "    .dataframe tbody tr th {\n",
       "        vertical-align: top;\n",
       "    }\n",
       "\n",
       "    .dataframe thead th {\n",
       "        text-align: right;\n",
       "    }\n",
       "</style>\n",
       "<table border=\"1\" class=\"dataframe\">\n",
       "  <thead>\n",
       "    <tr style=\"text-align: right;\">\n",
       "      <th></th>\n",
       "      <th>CountryOfCitizenship</th>\n",
       "      <th>FiscalYear</th>\n",
       "      <th>MissionID</th>\n",
       "      <th>R-T</th>\n",
       "      <th>PULOC</th>\n",
       "      <th>DropLoc</th>\n",
       "      <th>AdultCount</th>\n",
       "      <th>JuvCount</th>\n",
       "      <th>TotalCount</th>\n",
       "      <th>JuvPercent</th>\n",
       "    </tr>\n",
       "    <tr>\n",
       "      <th>MissionDate</th>\n",
       "      <th></th>\n",
       "      <th></th>\n",
       "      <th></th>\n",
       "      <th></th>\n",
       "      <th></th>\n",
       "      <th></th>\n",
       "      <th></th>\n",
       "      <th></th>\n",
       "      <th></th>\n",
       "      <th></th>\n",
       "    </tr>\n",
       "  </thead>\n",
       "  <tbody>\n",
       "    <tr>\n",
       "      <th>2012-09-20</th>\n",
       "      <td>GUATEMALA</td>\n",
       "      <td>2011-10-01</td>\n",
       "      <td>4634</td>\n",
       "      <td>R</td>\n",
       "      <td>KAEX</td>\n",
       "      <td>MGGT</td>\n",
       "      <td>115.0</td>\n",
       "      <td>0.0</td>\n",
       "      <td>115.0</td>\n",
       "      <td>0.000000</td>\n",
       "    </tr>\n",
       "    <tr>\n",
       "      <th>2012-09-20</th>\n",
       "      <td>GUATEMALA</td>\n",
       "      <td>2011-10-01</td>\n",
       "      <td>4634</td>\n",
       "      <td>R</td>\n",
       "      <td>KMIA</td>\n",
       "      <td>MGGT</td>\n",
       "      <td>0.0</td>\n",
       "      <td>1.0</td>\n",
       "      <td>1.0</td>\n",
       "      <td>1.000000</td>\n",
       "    </tr>\n",
       "    <tr>\n",
       "      <th>2012-10-18</th>\n",
       "      <td>ECUADOR</td>\n",
       "      <td>2012-10-01</td>\n",
       "      <td>4835</td>\n",
       "      <td>T</td>\n",
       "      <td>KMIA</td>\n",
       "      <td>KAEX</td>\n",
       "      <td>1.0</td>\n",
       "      <td>0.0</td>\n",
       "      <td>1.0</td>\n",
       "      <td>0.000000</td>\n",
       "    </tr>\n",
       "    <tr>\n",
       "      <th>2012-10-18</th>\n",
       "      <td>GUATEMALA</td>\n",
       "      <td>2012-10-01</td>\n",
       "      <td>4835</td>\n",
       "      <td>R</td>\n",
       "      <td>KAEX</td>\n",
       "      <td>MGGT</td>\n",
       "      <td>123.0</td>\n",
       "      <td>0.0</td>\n",
       "      <td>123.0</td>\n",
       "      <td>0.000000</td>\n",
       "    </tr>\n",
       "    <tr>\n",
       "      <th>2012-10-18</th>\n",
       "      <td>GUATEMALA</td>\n",
       "      <td>2012-10-01</td>\n",
       "      <td>4835</td>\n",
       "      <td>R</td>\n",
       "      <td>KMIA</td>\n",
       "      <td>MGGT</td>\n",
       "      <td>0.0</td>\n",
       "      <td>3.0</td>\n",
       "      <td>3.0</td>\n",
       "      <td>1.000000</td>\n",
       "    </tr>\n",
       "    <tr>\n",
       "      <th>2014-08-12</th>\n",
       "      <td>GUATEMALA</td>\n",
       "      <td>2013-10-01</td>\n",
       "      <td>9212</td>\n",
       "      <td>R</td>\n",
       "      <td>KBRO</td>\n",
       "      <td>MGGT</td>\n",
       "      <td>121.0</td>\n",
       "      <td>1.0</td>\n",
       "      <td>122.0</td>\n",
       "      <td>0.008197</td>\n",
       "    </tr>\n",
       "    <tr>\n",
       "      <th>2014-08-12</th>\n",
       "      <td>GUATEMALA</td>\n",
       "      <td>2013-10-01</td>\n",
       "      <td>9212</td>\n",
       "      <td>R</td>\n",
       "      <td>KSAT</td>\n",
       "      <td>MGGT</td>\n",
       "      <td>0.0</td>\n",
       "      <td>1.0</td>\n",
       "      <td>1.0</td>\n",
       "      <td>1.000000</td>\n",
       "    </tr>\n",
       "    <tr>\n",
       "      <th>2014-09-12</th>\n",
       "      <td>GUATEMALA</td>\n",
       "      <td>2013-10-01</td>\n",
       "      <td>9411</td>\n",
       "      <td>R</td>\n",
       "      <td>KSAT</td>\n",
       "      <td>MGGT</td>\n",
       "      <td>0.0</td>\n",
       "      <td>1.0</td>\n",
       "      <td>1.0</td>\n",
       "      <td>1.000000</td>\n",
       "    </tr>\n",
       "    <tr>\n",
       "      <th>2014-09-12</th>\n",
       "      <td>GUATEMALA</td>\n",
       "      <td>2013-10-01</td>\n",
       "      <td>9411</td>\n",
       "      <td>R</td>\n",
       "      <td>KBRO</td>\n",
       "      <td>MGGT</td>\n",
       "      <td>134.0</td>\n",
       "      <td>0.0</td>\n",
       "      <td>134.0</td>\n",
       "      <td>0.000000</td>\n",
       "    </tr>\n",
       "    <tr>\n",
       "      <th>2015-10-14</th>\n",
       "      <td>GUATEMALA</td>\n",
       "      <td>2015-10-01</td>\n",
       "      <td>11365</td>\n",
       "      <td>R</td>\n",
       "      <td>KSAT</td>\n",
       "      <td>MGGT</td>\n",
       "      <td>0.0</td>\n",
       "      <td>1.0</td>\n",
       "      <td>1.0</td>\n",
       "      <td>1.000000</td>\n",
       "    </tr>\n",
       "    <tr>\n",
       "      <th>2015-10-14</th>\n",
       "      <td>GUATEMALA</td>\n",
       "      <td>2015-10-01</td>\n",
       "      <td>11365</td>\n",
       "      <td>R</td>\n",
       "      <td>KBRO</td>\n",
       "      <td>MGGT</td>\n",
       "      <td>129.0</td>\n",
       "      <td>0.0</td>\n",
       "      <td>129.0</td>\n",
       "      <td>0.000000</td>\n",
       "    </tr>\n",
       "    <tr>\n",
       "      <th>2016-04-05</th>\n",
       "      <td>EL SALVADOR</td>\n",
       "      <td>2015-10-01</td>\n",
       "      <td>12277</td>\n",
       "      <td>R</td>\n",
       "      <td>KLRD</td>\n",
       "      <td>MSLP</td>\n",
       "      <td>76.0</td>\n",
       "      <td>2.0</td>\n",
       "      <td>78.0</td>\n",
       "      <td>0.025641</td>\n",
       "    </tr>\n",
       "    <tr>\n",
       "      <th>2016-04-05</th>\n",
       "      <td>GUATEMALA</td>\n",
       "      <td>2015-10-01</td>\n",
       "      <td>12277</td>\n",
       "      <td>R</td>\n",
       "      <td>KBRO</td>\n",
       "      <td>MGGT</td>\n",
       "      <td>49.0</td>\n",
       "      <td>0.0</td>\n",
       "      <td>49.0</td>\n",
       "      <td>0.000000</td>\n",
       "    </tr>\n",
       "    <tr>\n",
       "      <th>2016-04-05</th>\n",
       "      <td>GUATEMALA</td>\n",
       "      <td>2015-10-01</td>\n",
       "      <td>12277</td>\n",
       "      <td>R</td>\n",
       "      <td>KLRD</td>\n",
       "      <td>MGGT</td>\n",
       "      <td>0.0</td>\n",
       "      <td>1.0</td>\n",
       "      <td>1.0</td>\n",
       "      <td>1.000000</td>\n",
       "    </tr>\n",
       "    <tr>\n",
       "      <th>2017-06-08</th>\n",
       "      <td>GUATEMALA</td>\n",
       "      <td>2016-10-01</td>\n",
       "      <td>39135</td>\n",
       "      <td>R</td>\n",
       "      <td>KBRO</td>\n",
       "      <td>MGGT</td>\n",
       "      <td>0.0</td>\n",
       "      <td>2.0</td>\n",
       "      <td>2.0</td>\n",
       "      <td>1.000000</td>\n",
       "    </tr>\n",
       "    <tr>\n",
       "      <th>2017-06-08</th>\n",
       "      <td>GUATEMALA</td>\n",
       "      <td>2016-10-01</td>\n",
       "      <td>39135</td>\n",
       "      <td>R</td>\n",
       "      <td>KLRD</td>\n",
       "      <td>MGGT</td>\n",
       "      <td>34.0</td>\n",
       "      <td>0.0</td>\n",
       "      <td>34.0</td>\n",
       "      <td>0.000000</td>\n",
       "    </tr>\n",
       "    <tr>\n",
       "      <th>2017-06-08</th>\n",
       "      <td>EL SALVADOR</td>\n",
       "      <td>2016-10-01</td>\n",
       "      <td>39135</td>\n",
       "      <td>R</td>\n",
       "      <td>KLRD</td>\n",
       "      <td>MSLP</td>\n",
       "      <td>96.0</td>\n",
       "      <td>2.0</td>\n",
       "      <td>98.0</td>\n",
       "      <td>0.020408</td>\n",
       "    </tr>\n",
       "    <tr>\n",
       "      <th>2018-04-02</th>\n",
       "      <td>GUATEMALA</td>\n",
       "      <td>2017-10-01</td>\n",
       "      <td>46205</td>\n",
       "      <td>R</td>\n",
       "      <td>KSAT</td>\n",
       "      <td>MGGT</td>\n",
       "      <td>0.0</td>\n",
       "      <td>1.0</td>\n",
       "      <td>1.0</td>\n",
       "      <td>1.000000</td>\n",
       "    </tr>\n",
       "    <tr>\n",
       "      <th>2018-04-02</th>\n",
       "      <td>GUATEMALA</td>\n",
       "      <td>2017-10-01</td>\n",
       "      <td>46205</td>\n",
       "      <td>R</td>\n",
       "      <td>KBRO</td>\n",
       "      <td>MGGT</td>\n",
       "      <td>134.0</td>\n",
       "      <td>0.0</td>\n",
       "      <td>134.0</td>\n",
       "      <td>0.000000</td>\n",
       "    </tr>\n",
       "    <tr>\n",
       "      <th>2018-07-13</th>\n",
       "      <td>GUATEMALA</td>\n",
       "      <td>2017-10-01</td>\n",
       "      <td>46720</td>\n",
       "      <td>R</td>\n",
       "      <td>KSAT</td>\n",
       "      <td>MGGT</td>\n",
       "      <td>0.0</td>\n",
       "      <td>1.0</td>\n",
       "      <td>1.0</td>\n",
       "      <td>1.000000</td>\n",
       "    </tr>\n",
       "    <tr>\n",
       "      <th>2018-07-13</th>\n",
       "      <td>GUATEMALA</td>\n",
       "      <td>2017-10-01</td>\n",
       "      <td>46720</td>\n",
       "      <td>R</td>\n",
       "      <td>KBRO</td>\n",
       "      <td>MGGT</td>\n",
       "      <td>104.0</td>\n",
       "      <td>1.0</td>\n",
       "      <td>105.0</td>\n",
       "      <td>0.009524</td>\n",
       "    </tr>\n",
       "  </tbody>\n",
       "</table>\n",
       "</div>"
      ],
      "text/plain": [
       "            CountryOfCitizenship FiscalYear  MissionID R-T PULOC DropLoc  \\\n",
       "MissionDate                                                                \n",
       "2012-09-20             GUATEMALA 2011-10-01       4634   R  KAEX    MGGT   \n",
       "2012-09-20             GUATEMALA 2011-10-01       4634   R  KMIA    MGGT   \n",
       "2012-10-18               ECUADOR 2012-10-01       4835   T  KMIA    KAEX   \n",
       "2012-10-18             GUATEMALA 2012-10-01       4835   R  KAEX    MGGT   \n",
       "2012-10-18             GUATEMALA 2012-10-01       4835   R  KMIA    MGGT   \n",
       "2014-08-12             GUATEMALA 2013-10-01       9212   R  KBRO    MGGT   \n",
       "2014-08-12             GUATEMALA 2013-10-01       9212   R  KSAT    MGGT   \n",
       "2014-09-12             GUATEMALA 2013-10-01       9411   R  KSAT    MGGT   \n",
       "2014-09-12             GUATEMALA 2013-10-01       9411   R  KBRO    MGGT   \n",
       "2015-10-14             GUATEMALA 2015-10-01      11365   R  KSAT    MGGT   \n",
       "2015-10-14             GUATEMALA 2015-10-01      11365   R  KBRO    MGGT   \n",
       "2016-04-05           EL SALVADOR 2015-10-01      12277   R  KLRD    MSLP   \n",
       "2016-04-05             GUATEMALA 2015-10-01      12277   R  KBRO    MGGT   \n",
       "2016-04-05             GUATEMALA 2015-10-01      12277   R  KLRD    MGGT   \n",
       "2017-06-08             GUATEMALA 2016-10-01      39135   R  KBRO    MGGT   \n",
       "2017-06-08             GUATEMALA 2016-10-01      39135   R  KLRD    MGGT   \n",
       "2017-06-08           EL SALVADOR 2016-10-01      39135   R  KLRD    MSLP   \n",
       "2018-04-02             GUATEMALA 2017-10-01      46205   R  KSAT    MGGT   \n",
       "2018-04-02             GUATEMALA 2017-10-01      46205   R  KBRO    MGGT   \n",
       "2018-07-13             GUATEMALA 2017-10-01      46720   R  KSAT    MGGT   \n",
       "2018-07-13             GUATEMALA 2017-10-01      46720   R  KBRO    MGGT   \n",
       "\n",
       "             AdultCount  JuvCount  TotalCount  JuvPercent  \n",
       "MissionDate                                                \n",
       "2012-09-20        115.0       0.0       115.0    0.000000  \n",
       "2012-09-20          0.0       1.0         1.0    1.000000  \n",
       "2012-10-18          1.0       0.0         1.0    0.000000  \n",
       "2012-10-18        123.0       0.0       123.0    0.000000  \n",
       "2012-10-18          0.0       3.0         3.0    1.000000  \n",
       "2014-08-12        121.0       1.0       122.0    0.008197  \n",
       "2014-08-12          0.0       1.0         1.0    1.000000  \n",
       "2014-09-12          0.0       1.0         1.0    1.000000  \n",
       "2014-09-12        134.0       0.0       134.0    0.000000  \n",
       "2015-10-14          0.0       1.0         1.0    1.000000  \n",
       "2015-10-14        129.0       0.0       129.0    0.000000  \n",
       "2016-04-05         76.0       2.0        78.0    0.025641  \n",
       "2016-04-05         49.0       0.0        49.0    0.000000  \n",
       "2016-04-05          0.0       1.0         1.0    1.000000  \n",
       "2017-06-08          0.0       2.0         2.0    1.000000  \n",
       "2017-06-08         34.0       0.0        34.0    0.000000  \n",
       "2017-06-08         96.0       2.0        98.0    0.020408  \n",
       "2018-04-02          0.0       1.0         1.0    1.000000  \n",
       "2018-04-02        134.0       0.0       134.0    0.000000  \n",
       "2018-07-13          0.0       1.0         1.0    1.000000  \n",
       "2018-07-13        104.0       1.0       105.0    0.009524  "
      ]
     },
     "execution_count": 139,
     "metadata": {},
     "output_type": "execute_result"
    }
   ],
   "source": [
    "t[t['MissionID'].isin(only_guate_juveniles)].sort_values(by='MissionID')"
   ]
  },
  {
   "cell_type": "markdown",
   "metadata": {},
   "source": [
    "# All juvenile removals"
   ]
  },
  {
   "cell_type": "code",
   "execution_count": 141,
   "metadata": {},
   "outputs": [
    {
     "data": {
      "text/html": [
       "<div>\n",
       "<style scoped>\n",
       "    .dataframe tbody tr th:only-of-type {\n",
       "        vertical-align: middle;\n",
       "    }\n",
       "\n",
       "    .dataframe tbody tr th {\n",
       "        vertical-align: top;\n",
       "    }\n",
       "\n",
       "    .dataframe thead th {\n",
       "        text-align: right;\n",
       "    }\n",
       "</style>\n",
       "<table border=\"1\" class=\"dataframe\">\n",
       "  <thead>\n",
       "    <tr style=\"text-align: right;\">\n",
       "      <th></th>\n",
       "      <th>CountryOfCitizenship</th>\n",
       "      <th>FiscalYear</th>\n",
       "      <th>MissionID</th>\n",
       "      <th>R-T</th>\n",
       "      <th>PULOC</th>\n",
       "      <th>DropLoc</th>\n",
       "      <th>AdultCount</th>\n",
       "      <th>JuvCount</th>\n",
       "      <th>TotalCount</th>\n",
       "      <th>JuvPercent</th>\n",
       "    </tr>\n",
       "    <tr>\n",
       "      <th>MissionDate</th>\n",
       "      <th></th>\n",
       "      <th></th>\n",
       "      <th></th>\n",
       "      <th></th>\n",
       "      <th></th>\n",
       "      <th></th>\n",
       "      <th></th>\n",
       "      <th></th>\n",
       "      <th></th>\n",
       "      <th></th>\n",
       "    </tr>\n",
       "  </thead>\n",
       "  <tbody>\n",
       "    <tr>\n",
       "      <th>2010-10-01</th>\n",
       "      <td>MEXICO</td>\n",
       "      <td>2010-10-01</td>\n",
       "      <td>1695</td>\n",
       "      <td>R</td>\n",
       "      <td>KELP</td>\n",
       "      <td>KHRL</td>\n",
       "      <td>46.0</td>\n",
       "      <td>0.0</td>\n",
       "      <td>46.0</td>\n",
       "      <td>0.0</td>\n",
       "    </tr>\n",
       "    <tr>\n",
       "      <th>2010-10-01</th>\n",
       "      <td>GUATEMALA</td>\n",
       "      <td>2010-10-01</td>\n",
       "      <td>132</td>\n",
       "      <td>R</td>\n",
       "      <td>KIWA</td>\n",
       "      <td>MGGT</td>\n",
       "      <td>121.0</td>\n",
       "      <td>0.0</td>\n",
       "      <td>121.0</td>\n",
       "      <td>0.0</td>\n",
       "    </tr>\n",
       "    <tr>\n",
       "      <th>2010-10-01</th>\n",
       "      <td>MEXICO</td>\n",
       "      <td>2010-10-01</td>\n",
       "      <td>131</td>\n",
       "      <td>R</td>\n",
       "      <td>KBFL</td>\n",
       "      <td>KSAN</td>\n",
       "      <td>13.0</td>\n",
       "      <td>0.0</td>\n",
       "      <td>13.0</td>\n",
       "      <td>0.0</td>\n",
       "    </tr>\n",
       "    <tr>\n",
       "      <th>2010-10-01</th>\n",
       "      <td>MEXICO</td>\n",
       "      <td>2010-10-01</td>\n",
       "      <td>131</td>\n",
       "      <td>R</td>\n",
       "      <td>KOAK</td>\n",
       "      <td>KSAN</td>\n",
       "      <td>43.0</td>\n",
       "      <td>0.0</td>\n",
       "      <td>43.0</td>\n",
       "      <td>0.0</td>\n",
       "    </tr>\n",
       "    <tr>\n",
       "      <th>2010-10-01</th>\n",
       "      <td>MEXICO</td>\n",
       "      <td>2010-10-01</td>\n",
       "      <td>108</td>\n",
       "      <td>R</td>\n",
       "      <td>KORD</td>\n",
       "      <td>KHRL</td>\n",
       "      <td>63.0</td>\n",
       "      <td>0.0</td>\n",
       "      <td>63.0</td>\n",
       "      <td>0.0</td>\n",
       "    </tr>\n",
       "  </tbody>\n",
       "</table>\n",
       "</div>"
      ],
      "text/plain": [
       "            CountryOfCitizenship FiscalYear  MissionID R-T PULOC DropLoc  \\\n",
       "MissionDate                                                                \n",
       "2010-10-01                MEXICO 2010-10-01       1695   R  KELP    KHRL   \n",
       "2010-10-01             GUATEMALA 2010-10-01        132   R  KIWA    MGGT   \n",
       "2010-10-01                MEXICO 2010-10-01        131   R  KBFL    KSAN   \n",
       "2010-10-01                MEXICO 2010-10-01        131   R  KOAK    KSAN   \n",
       "2010-10-01                MEXICO 2010-10-01        108   R  KORD    KHRL   \n",
       "\n",
       "             AdultCount  JuvCount  TotalCount  JuvPercent  \n",
       "MissionDate                                                \n",
       "2010-10-01         46.0       0.0        46.0         0.0  \n",
       "2010-10-01        121.0       0.0       121.0         0.0  \n",
       "2010-10-01         13.0       0.0        13.0         0.0  \n",
       "2010-10-01         43.0       0.0        43.0         0.0  \n",
       "2010-10-01         63.0       0.0        63.0         0.0  "
      ]
     },
     "execution_count": 141,
     "metadata": {},
     "output_type": "execute_result"
    }
   ],
   "source": [
    "tr.head()"
   ]
  },
  {
   "cell_type": "code",
   "execution_count": 216,
   "metadata": {},
   "outputs": [],
   "source": [
    "annual = tr.groupby(['FiscalYear', 'CountryOfCitizenship'])['JuvCount'].sum()"
   ]
  },
  {
   "cell_type": "code",
   "execution_count": 219,
   "metadata": {},
   "outputs": [],
   "source": [
    "annual = annual.reset_index()\n",
    "annual.set_index('FiscalYear', inplace=True)"
   ]
  },
  {
   "cell_type": "code",
   "execution_count": 241,
   "metadata": {},
   "outputs": [
    {
     "data": {
      "text/plain": [
       "Int64Index([2010, 2011, 2012, 2013, 2014, 2015, 2016, 2017, 2018], dtype='int64', name='FiscalYear')"
      ]
     },
     "execution_count": 241,
     "metadata": {},
     "output_type": "execute_result"
    }
   ],
   "source": [
    "annual.index.year.unique()"
   ]
  },
  {
   "cell_type": "code",
   "execution_count": 259,
   "metadata": {},
   "outputs": [],
   "source": [
    "top5 = list(annual.groupby(['CountryOfCitizenship'])['JuvCount'].sum().sort_values(ascending=False).head().index)"
   ]
  },
  {
   "cell_type": "code",
   "execution_count": 263,
   "metadata": {},
   "outputs": [
    {
     "data": {
      "text/plain": [
       "DatetimeIndex(['2010-10-01', '2011-10-01', '2012-10-01', '2013-10-01',\n",
       "               '2014-10-01', '2015-10-01', '2016-10-01', '2017-10-01',\n",
       "               '2018-10-01'],\n",
       "              dtype='datetime64[ns]', name='FiscalYear', freq=None)"
      ]
     },
     "execution_count": 263,
     "metadata": {},
     "output_type": "execute_result"
    }
   ],
   "source": [
    "annual.index.unique()"
   ]
  },
  {
   "cell_type": "code",
   "execution_count": 282,
   "metadata": {},
   "outputs": [],
   "source": [
    "top_5_df = pd.DataFrame()\n",
    "top_5_df = top_5_df.append(annual[annual['CountryOfCitizenship'].isin(top5)])\n",
    "top_5_df.index = top_5_df.index.year\n",
    "\n",
    "for year in annual.index.year.unique():\n",
    "    temp = annual[f'{year}']\n",
    "    temp2 = temp[~temp['CountryOfCitizenship'].isin(top5)]\n",
    "    all_other_count = temp2['JuvCount'].sum()\n",
    "    other_df = pd.DataFrame([['ALL OTHERS', all_other_count]],\n",
    "                            columns=['CountryOfCitizenship',\n",
    "                                     'JuvCount'],\n",
    "                            index=[year])\n",
    "    top_5_df = top_5_df.append(other_df)"
   ]
  },
  {
   "cell_type": "code",
   "execution_count": 283,
   "metadata": {},
   "outputs": [],
   "source": [
    "top_5_df.sort_index(inplace=True)\n",
    "top_5_df.index = [f'FY{str(x)[2:4]}' for x in top_5_df.index + 1]"
   ]
  },
  {
   "cell_type": "code",
   "execution_count": 293,
   "metadata": {},
   "outputs": [],
   "source": [
    "top_5_df['CountryOfCitizenship'] = top_5_df['CountryOfCitizenship'].astype('category')"
   ]
  },
  {
   "cell_type": "code",
   "execution_count": 300,
   "metadata": {},
   "outputs": [],
   "source": [
    "top_5_data = pd.pivot_table(data=top_5_df,\n",
    "                       index=top_5_df.index,\n",
    "                       columns='CountryOfCitizenship',\n",
    "                       values='JuvCount',\n",
    "                       aggfunc=np.sum,\n",
    "                       fill_value=0)"
   ]
  },
  {
   "cell_type": "code",
   "execution_count": 309,
   "metadata": {},
   "outputs": [
    {
     "data": {
      "text/html": [
       "<div>\n",
       "<style scoped>\n",
       "    .dataframe tbody tr th:only-of-type {\n",
       "        vertical-align: middle;\n",
       "    }\n",
       "\n",
       "    .dataframe tbody tr th {\n",
       "        vertical-align: top;\n",
       "    }\n",
       "\n",
       "    .dataframe thead th {\n",
       "        text-align: right;\n",
       "    }\n",
       "</style>\n",
       "<table border=\"1\" class=\"dataframe\">\n",
       "  <thead>\n",
       "    <tr style=\"text-align: right;\">\n",
       "      <th>CountryOfCitizenship</th>\n",
       "      <th>ALL OTHERS</th>\n",
       "      <th>EL SALVADOR</th>\n",
       "      <th>GUATEMALA</th>\n",
       "      <th>HAITI</th>\n",
       "      <th>HONDURAS</th>\n",
       "      <th>MEXICO</th>\n",
       "    </tr>\n",
       "  </thead>\n",
       "  <tbody>\n",
       "    <tr>\n",
       "      <th>FY11</th>\n",
       "      <td>15</td>\n",
       "      <td>44</td>\n",
       "      <td>330</td>\n",
       "      <td>0</td>\n",
       "      <td>43</td>\n",
       "      <td>422</td>\n",
       "    </tr>\n",
       "    <tr>\n",
       "      <th>FY12</th>\n",
       "      <td>3</td>\n",
       "      <td>8</td>\n",
       "      <td>251</td>\n",
       "      <td>3</td>\n",
       "      <td>17</td>\n",
       "      <td>49</td>\n",
       "    </tr>\n",
       "    <tr>\n",
       "      <th>FY13</th>\n",
       "      <td>0</td>\n",
       "      <td>4</td>\n",
       "      <td>229</td>\n",
       "      <td>0</td>\n",
       "      <td>7</td>\n",
       "      <td>19</td>\n",
       "    </tr>\n",
       "    <tr>\n",
       "      <th>FY14</th>\n",
       "      <td>3</td>\n",
       "      <td>41</td>\n",
       "      <td>149</td>\n",
       "      <td>0</td>\n",
       "      <td>124</td>\n",
       "      <td>11</td>\n",
       "    </tr>\n",
       "    <tr>\n",
       "      <th>FY15</th>\n",
       "      <td>0</td>\n",
       "      <td>71</td>\n",
       "      <td>92</td>\n",
       "      <td>0</td>\n",
       "      <td>29</td>\n",
       "      <td>27</td>\n",
       "    </tr>\n",
       "    <tr>\n",
       "      <th>FY16</th>\n",
       "      <td>0</td>\n",
       "      <td>77</td>\n",
       "      <td>160</td>\n",
       "      <td>0</td>\n",
       "      <td>13</td>\n",
       "      <td>19</td>\n",
       "    </tr>\n",
       "    <tr>\n",
       "      <th>FY17</th>\n",
       "      <td>0</td>\n",
       "      <td>89</td>\n",
       "      <td>226</td>\n",
       "      <td>14</td>\n",
       "      <td>0</td>\n",
       "      <td>0</td>\n",
       "    </tr>\n",
       "    <tr>\n",
       "      <th>FY18</th>\n",
       "      <td>2</td>\n",
       "      <td>36</td>\n",
       "      <td>363</td>\n",
       "      <td>0</td>\n",
       "      <td>1</td>\n",
       "      <td>5</td>\n",
       "    </tr>\n",
       "    <tr>\n",
       "      <th>FY19</th>\n",
       "      <td>2</td>\n",
       "      <td>2</td>\n",
       "      <td>133</td>\n",
       "      <td>0</td>\n",
       "      <td>0</td>\n",
       "      <td>0</td>\n",
       "    </tr>\n",
       "  </tbody>\n",
       "</table>\n",
       "</div>"
      ],
      "text/plain": [
       "CountryOfCitizenship  ALL OTHERS  EL SALVADOR  GUATEMALA  HAITI  HONDURAS  \\\n",
       "FY11                          15           44        330      0        43   \n",
       "FY12                           3            8        251      3        17   \n",
       "FY13                           0            4        229      0         7   \n",
       "FY14                           3           41        149      0       124   \n",
       "FY15                           0           71         92      0        29   \n",
       "FY16                           0           77        160      0        13   \n",
       "FY17                           0           89        226     14         0   \n",
       "FY18                           2           36        363      0         1   \n",
       "FY19                           2            2        133      0         0   \n",
       "\n",
       "CountryOfCitizenship  MEXICO  \n",
       "FY11                     422  \n",
       "FY12                      49  \n",
       "FY13                      19  \n",
       "FY14                      11  \n",
       "FY15                      27  \n",
       "FY16                      19  \n",
       "FY17                       0  \n",
       "FY18                       5  \n",
       "FY19                       0  "
      ]
     },
     "execution_count": 309,
     "metadata": {},
     "output_type": "execute_result"
    }
   ],
   "source": [
    "top_5_data"
   ]
  },
  {
   "cell_type": "code",
   "execution_count": 318,
   "metadata": {},
   "outputs": [],
   "source": [
    "top_5_data = top_5_data.reindex(top_5_data.sum().sort_values(ascending=False).index, axis=1)"
   ]
  },
  {
   "cell_type": "code",
   "execution_count": 319,
   "metadata": {},
   "outputs": [
    {
     "data": {
      "text/plain": [
       "<matplotlib.axes._subplots.AxesSubplot at 0x7fa7d0435828>"
      ]
     },
     "execution_count": 319,
     "metadata": {},
     "output_type": "execute_result"
    },
    {
     "data": {
      "image/png": "[encoded data removed]",
      "text/plain": [
       "<Figure size 432x288 with 1 Axes>"
      ]
     },
     "metadata": {
      "needs_background": "light"
     },
     "output_type": "display_data"
    }
   ],
   "source": [
    "top_5_data.plot(kind='bar', stacked=True)"
   ]
  },
  {
   "cell_type": "code",
   "execution_count": 320,
   "metadata": {},
   "outputs": [
    {
     "data": {
      "text/plain": [
       "<matplotlib.axes._subplots.AxesSubplot at 0x7fa7d04e58d0>"
      ]
     },
     "execution_count": 320,
     "metadata": {},
     "output_type": "execute_result"
    },
    {
     "data": {
      "image/png": "[encoded data removed]",
      "text/plain": [
       "<Figure size 432x288 with 1 Axes>"
      ]
     },
     "metadata": {
      "needs_background": "light"
     },
     "output_type": "display_data"
    }
   ],
   "source": [
    "top_5_data.cumsum().plot(kind='bar', stacked=True)"
   ]
  },
  {
   "cell_type": "code",
   "execution_count": 325,
   "metadata": {},
   "outputs": [
    {
     "data": {
      "text/plain": [
       "<matplotlib.axes._subplots.AxesSubplot at 0x7fa7d05ce9b0>"
      ]
     },
     "execution_count": 325,
     "metadata": {},
     "output_type": "execute_result"
    },
    {
     "data": {
      "image/png": "[encoded data removed]",
      "text/plain": [
       "<Figure size 432x288 with 1 Axes>"
      ]
     },
     "metadata": {
      "needs_background": "light"
     },
     "output_type": "display_data"
    }
   ],
   "source": [
    "top_5_data.cumsum().plot(kind='line', stacked=False)"
   ]
  },
  {
   "cell_type": "code",
   "execution_count": null,
   "metadata": {},
   "outputs": [],
   "source": []
  }
 ],
 "metadata": {
  "kernelspec": {
   "display_name": "Python 3",
   "language": "python",
   "name": "python3"
  },
  "language_info": {
   "codemirror_mode": {
    "name": "ipython",
    "version": 3
   },
   "file_extension": ".py",
   "mimetype": "text/x-python",
   "name": "python",
   "nbconvert_exporter": "python",
   "pygments_lexer": "ipython3",
   "version": "3.7.2"
  }
 },
 "nbformat": 4,
 "nbformat_minor": 2
}
