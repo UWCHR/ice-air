{
 "cells": [
  {
   "cell_type": "code",
   "execution_count": 68,
   "metadata": {},
   "outputs": [],
   "source": [
    "import pandas as pd\n",
    "import numpy as np\n",
    "import yaml\n",
    "import matplotlib.pyplot as plt\n",
    "import matplotlib.ticker as ticker\n",
    "\n",
    "from collections import Counter"
   ]
  },
  {
   "cell_type": "code",
   "execution_count": 69,
   "metadata": {},
   "outputs": [],
   "source": [
    "read_csv_opts = {'sep': '|',\n",
    "                 'quotechar': '\"',\n",
    "                 'compression': 'gzip',\n",
    "                 'encoding': 'utf-8',\n",
    "#                  'dtype': dtypes,\n",
    "                 'parse_dates': ['MissionDate'],\n",
    "                 'infer_datetime_format': True}"
   ]
  },
  {
   "cell_type": "code",
   "execution_count": 70,
   "metadata": {},
   "outputs": [
    {
     "name": "stderr",
     "output_type": "stream",
     "text": [
      "/home/philneff/anaconda3/lib/python3.7/site-packages/IPython/core/interactiveshell.py:2785: DtypeWarning: Columns (14,15,17) have mixed types.Specify dtype option on import or set low_memory=False.\n",
      "  interactivity=interactivity, compiler=compiler, result=result)\n"
     ]
    }
   ],
   "source": [
    "install2 = pd.read_csv('../input/ice-air-missions.csv.gz', **read_csv_opts)"
   ]
  },
  {
   "cell_type": "code",
   "execution_count": 71,
   "metadata": {},
   "outputs": [],
   "source": [
    "install3 = pd.read_csv('../input/ARTS_Missions-redacted.csv.gz', **read_csv_opts)"
   ]
  },
  {
   "cell_type": "code",
   "execution_count": 72,
   "metadata": {},
   "outputs": [],
   "source": [
    "df = pd.concat([install2, install3])"
   ]
  },
  {
   "cell_type": "code",
   "execution_count": 73,
   "metadata": {},
   "outputs": [
    {
     "name": "stdout",
     "output_type": "stream",
     "text": [
      "<class 'pandas.core.frame.DataFrame'>\n",
      "Int64Index: 20201 entries, 0 to 3233\n",
      "Data columns (total 49 columns):\n",
      " #   Column                     Non-Null Count  Dtype         \n",
      "---  ------                     --------------  -----         \n",
      " 0   MissionID                  20201 non-null  int64         \n",
      " 1   MissionNumber              20149 non-null  float64       \n",
      " 2   MsnTailNumber              20148 non-null  object        \n",
      " 3   MissionDate                20149 non-null  datetime64[ns]\n",
      " 4   MissionFY                  20149 non-null  float64       \n",
      " 5   MissionMonth               20149 non-null  float64       \n",
      " 6   MissionWeek                20149 non-null  float64       \n",
      " 7   MsnStart                   20149 non-null  object        \n",
      " 8   MsnStpOne                  19993 non-null  object        \n",
      " 9   MsnStpTwo                  14663 non-null  object        \n",
      " 10  MsnStpThree                6192 non-null   object        \n",
      " 11  MsnStpFour                 1816 non-null   object        \n",
      " 12  MsnStpFive                 220 non-null    object        \n",
      " 13  MsnStpSix                  60 non-null     object        \n",
      " 14  MsnStpSeven                34 non-null     object        \n",
      " 15  MsnStpEight                13 non-null     object        \n",
      " 16  MsnEnd                     20142 non-null  object        \n",
      " 17  msnDelayReason             125 non-null    object        \n",
      " 18  msnCancelReason            1259 non-null   object        \n",
      " 19  msnFlightODCCost           20147 non-null  object        \n",
      " 20  msnProposedFines           20149 non-null  float64       \n",
      " 21  msnEnforcedFines           20146 non-null  object        \n",
      " 22  msnGeneralFlightCost       20147 non-null  object        \n",
      " 23  msnFlightHoursPlanned      20123 non-null  float64       \n",
      " 24  msnFlightHoursActual       20136 non-null  float64       \n",
      " 25  msnCharterDesignation      20144 non-null  object        \n",
      " 26  Status                     0 non-null      float64       \n",
      " 27  msnVendor                  13139 non-null  object        \n",
      " 28  msnInvoiceNumber           16737 non-null  object        \n",
      " 29  MissionQuarter             20149 non-null  float64       \n",
      " 30  MissionYear                20149 non-null  float64       \n",
      " 31  MissionTotalCost           20142 non-null  object        \n",
      " 32  MissionPassengers          20149 non-null  float64       \n",
      " 33  LegPassengers              0 non-null      float64       \n",
      " 34  MissionUtilization         4304 non-null   float64       \n",
      " 35  LegUtilization             0 non-null      float64       \n",
      " 36  ManifestedPassengers       4304 non-null   float64       \n",
      " 37  StruckPassengers           4304 non-null   float64       \n",
      " 38  PlannedMissionUtilization  4304 non-null   float64       \n",
      " 39  puloc_1                    2965 non-null   object        \n",
      " 40  puloc_2                    1774 non-null   object        \n",
      " 41  puloc_3                    776 non-null    object        \n",
      " 42  puloc_4                    296 non-null    object        \n",
      " 43  puloc_5                    21 non-null     object        \n",
      " 44  droploc_1                  2964 non-null   object        \n",
      " 45  droploc_2                  1228 non-null   object        \n",
      " 46  droploc_3                  654 non-null    object        \n",
      " 47  droploc_4                  212 non-null    object        \n",
      " 48  droploc_5                  1 non-null      object        \n",
      "dtypes: datetime64[ns](1), float64(17), int64(1), object(30)\n",
      "memory usage: 7.7+ MB\n"
     ]
    }
   ],
   "source": [
    "df.info()"
   ]
  },
  {
   "cell_type": "code",
   "execution_count": 74,
   "metadata": {},
   "outputs": [
    {
     "data": {
      "text/plain": [
       "20201"
      ]
     },
     "execution_count": 74,
     "metadata": {},
     "output_type": "execute_result"
    }
   ],
   "source": [
    "len(df)"
   ]
  },
  {
   "cell_type": "code",
   "execution_count": 75,
   "metadata": {},
   "outputs": [],
   "source": [
    "df = df.set_index('MissionDate')"
   ]
  },
  {
   "cell_type": "code",
   "execution_count": 76,
   "metadata": {},
   "outputs": [
    {
     "data": {
      "text/plain": [
       "array([nan, 'low transfer/removal numbers', 'Mechanical', 'Sched Change',\n",
       "       'mechanical', 'Insufficient Numbers', 'holidays',\n",
       "       'Host Country Denied', 'weather', \"No TD's\", 'Weather',\n",
       "       'Lack of destination bedspace', 'Delay & Time Constraint',\n",
       "       'OOC Mission Priority', 'Medical', 'Aircraft/Security Crew Issues',\n",
       "       '10', '2', '1', '11', '18', '21', '8', '19', '20',\n",
       "       'Mission Moved CSI', 'Canceled by FO', 'Host Country Holiday',\n",
       "       'Airport Change', 'Civil unrest in foreign country',\n",
       "       'Aircraft/Security/ Crew Issues', 'Mission Moved'], dtype=object)"
      ]
     },
     "execution_count": 76,
     "metadata": {},
     "output_type": "execute_result"
    }
   ],
   "source": [
    "df['msnCancelReason'].unique()"
   ]
  },
  {
   "cell_type": "code",
   "execution_count": 77,
   "metadata": {},
   "outputs": [],
   "source": [
    "df = df[~pd.notnull(df['msnCancelReason'])]"
   ]
  },
  {
   "cell_type": "code",
   "execution_count": 78,
   "metadata": {},
   "outputs": [
    {
     "data": {
      "text/plain": [
       "18942"
      ]
     },
     "execution_count": 78,
     "metadata": {},
     "output_type": "execute_result"
    }
   ],
   "source": [
    "len(df)"
   ]
  },
  {
   "cell_type": "code",
   "execution_count": 79,
   "metadata": {},
   "outputs": [],
   "source": [
    "df = df.drop_duplicates('MissionNumber')"
   ]
  },
  {
   "cell_type": "code",
   "execution_count": 80,
   "metadata": {},
   "outputs": [
    {
     "data": {
      "text/plain": [
       "17817"
      ]
     },
     "execution_count": 80,
     "metadata": {},
     "output_type": "execute_result"
    }
   ],
   "source": [
    "len(df)"
   ]
  },
  {
   "cell_type": "code",
   "execution_count": 81,
   "metadata": {},
   "outputs": [],
   "source": [
    "data = df.groupby(pd.Grouper(freq='M'))['MissionNumber'].count()"
   ]
  },
  {
   "cell_type": "code",
   "execution_count": 82,
   "metadata": {},
   "outputs": [
    {
     "data": {
      "text/plain": [
       "<matplotlib.axes._subplots.AxesSubplot at 0x7ff4d662d0f0>"
      ]
     },
     "execution_count": 82,
     "metadata": {},
     "output_type": "execute_result"
    },
    {
     "data": {
      "image/png": "[encoded data removed]",
      "text/plain": [
       "<Figure size 432x288 with 1 Axes>"
      ]
     },
     "metadata": {
      "needs_background": "light"
     },
     "output_type": "display_data"
    }
   ],
   "source": [
    "data.plot()"
   ]
  },
  {
   "cell_type": "code",
   "execution_count": 83,
   "metadata": {},
   "outputs": [
    {
     "data": {
      "text/plain": [
       "count                   16967\n",
       "unique                   2566\n",
       "top       2012-06-27 00:00:00\n",
       "freq                       13\n",
       "first     2010-10-01 00:00:00\n",
       "last      2019-05-04 00:00:00\n",
       "Name: MissionDate, dtype: object"
      ]
     },
     "execution_count": 83,
     "metadata": {},
     "output_type": "execute_result"
    }
   ],
   "source": [
    "install2['MissionDate'].describe()"
   ]
  },
  {
   "cell_type": "code",
   "execution_count": 84,
   "metadata": {},
   "outputs": [
    {
     "data": {
      "text/plain": [
       "count                    3182\n",
       "unique                    491\n",
       "top       2019-11-05 00:00:00\n",
       "freq                       12\n",
       "first     2018-10-01 00:00:00\n",
       "last      2020-05-08 00:00:00\n",
       "Name: MissionDate, dtype: object"
      ]
     },
     "execution_count": 84,
     "metadata": {},
     "output_type": "execute_result"
    }
   ],
   "source": [
    "install3['MissionDate'].describe()"
   ]
  },
  {
   "cell_type": "code",
   "execution_count": 85,
   "metadata": {},
   "outputs": [
    {
     "data": {
      "text/plain": [
       "17816"
      ]
     },
     "execution_count": 85,
     "metadata": {},
     "output_type": "execute_result"
    }
   ],
   "source": [
    "df['MissionNumber'].nunique()"
   ]
  },
  {
   "cell_type": "code",
   "execution_count": 86,
   "metadata": {},
   "outputs": [],
   "source": [
    "data = df.groupby(pd.Grouper(freq='M'))['MissionPassengers'].sum()"
   ]
  },
  {
   "cell_type": "code",
   "execution_count": 87,
   "metadata": {},
   "outputs": [
    {
     "data": {
      "text/plain": [
       "<matplotlib.axes._subplots.AxesSubplot at 0x7ff4d64842b0>"
      ]
     },
     "execution_count": 87,
     "metadata": {},
     "output_type": "execute_result"
    },
    {
     "data": {
      "image/png": "[encoded data removed]",
      "text/plain": [
       "<Figure size 432x288 with 1 Axes>"
      ]
     },
     "metadata": {
      "needs_background": "light"
     },
     "output_type": "display_data"
    }
   ],
   "source": [
    "data.plot()"
   ]
  },
  {
   "cell_type": "code",
   "execution_count": 88,
   "metadata": {},
   "outputs": [
    {
     "data": {
      "text/plain": [
       "2177030.0"
      ]
     },
     "execution_count": 88,
     "metadata": {},
     "output_type": "execute_result"
    }
   ],
   "source": [
    "df['MissionPassengers'].sum()"
   ]
  },
  {
   "cell_type": "code",
   "execution_count": null,
   "metadata": {},
   "outputs": [],
   "source": []
  }
 ],
 "metadata": {
  "kernelspec": {
   "display_name": "Python 3",
   "language": "python",
   "name": "python3"
  },
  "language_info": {
   "codemirror_mode": {
    "name": "ipython",
    "version": 3
   },
   "file_extension": ".py",
   "mimetype": "text/x-python",
   "name": "python",
   "nbconvert_exporter": "python",
   "pygments_lexer": "ipython3",
   "version": "3.7.2"
  }
 },
 "nbformat": 4,
 "nbformat_minor": 2
}
