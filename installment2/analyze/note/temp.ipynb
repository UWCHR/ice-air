{
 "cells": [
  {
   "cell_type": "code",
   "execution_count": 98,
   "metadata": {},
   "outputs": [],
   "source": [
    "# Author: University of Washington Center for Human Rights\n",
    "# Date: 2019-11-25\n",
    "# License: GPL 3.0 or greater\n",
    "# Path: ice-air/installment2/analyze/note/global.ipynb\n",
    "\n",
    "import numpy as np\n",
    "import pandas as pd\n",
    "import yaml\n",
    "import matplotlib.pyplot as plt\n",
    "import matplotlib.mlab as mlab"
   ]
  },
  {
   "cell_type": "code",
   "execution_count": 99,
   "metadata": {},
   "outputs": [
    {
     "name": "stdout",
     "output_type": "stream",
     "text": [
      "<class 'pandas.core.frame.DataFrame'>\n",
      "RangeIndex: 1826402 entries, 0 to 1826401\n",
      "Data columns (total 52 columns):\n",
      "ANumber                         category\n",
      "LastName                        category\n",
      "FirstName                       category\n",
      "DOB                             category\n",
      "Status                          category\n",
      "Sex                             category\n",
      "Convictions                     category\n",
      "GangMember                      category\n",
      "ClassLvl                        float32\n",
      "Age                             float32\n",
      "MissionDate                     datetime64[ns]\n",
      "MissionNumber                   uint32\n",
      "PULOC                           category\n",
      "DropLoc                         category\n",
      "StrikeFromList                  float32\n",
      "ReasonStruck                    category\n",
      "R-T                             category\n",
      "Code                            category\n",
      "CountryOfCitizenship            category\n",
      "Juvenile                        bool\n",
      "MissionWeek                     uint8\n",
      "MissionQuarter                  uint8\n",
      "MissionYear                     uint16\n",
      "MissionMonth                    uint8\n",
      "Criminality                     category\n",
      "FamilyUnitFlag                  float32\n",
      "UnaccompaniedFlag               float32\n",
      "AlienMasterID                   int64\n",
      "MissionID                       uint16\n",
      "air_AirportID                   float32\n",
      "air_AirportName                 category\n",
      "air_City                        category\n",
      "st_StateID                      float32\n",
      "st_StateAbbr                    category\n",
      "AOR_AORID                       float32\n",
      "AOR_AOR                         category\n",
      "AOR_AORName                     category\n",
      "air_Country                     category\n",
      "air2_AirportID                  float32\n",
      "air2_AirportName                category\n",
      "air2_City                       category\n",
      "st2_StateID                     float32\n",
      "st2_StateAbbr                   category\n",
      "aor2_AORID                      float32\n",
      "aor2_AOR                        category\n",
      "aor2_AORName                    category\n",
      "air2_Country                    category\n",
      "air_LatitudeDecimalDegrees      float64\n",
      "air_LongitudeDecimalDegrees     float64\n",
      "air2_LatitudeDecimalDegrees     float64\n",
      "air2_LongitudeDecimalDegrees    float64\n",
      "NonCriminal                     bool\n",
      "dtypes: bool(2), category(27), datetime64[ns](1), float32(11), float64(4), int64(1), uint16(2), uint32(1), uint8(3)\n",
      "memory usage: 243.1 MB\n"
     ]
    }
   ],
   "source": [
    "with open('../input/passenger-dtypes.yaml', 'r') as yamlfile:\n",
    "    column_types = yaml.load(yamlfile)\n",
    "\n",
    "read_csv_opts = {'sep': '|',\n",
    "                 'quotechar': '\"',\n",
    "                 'compression': 'gzip',\n",
    "                 'encoding': 'utf-8',\n",
    "                 'dtype': column_types,\n",
    "                 'parse_dates': ['MissionDate'],\n",
    "                 'infer_datetime_format': True}\n",
    "\n",
    "df = pd.read_csv('../input/ice-air-passengers.csv.gz', **read_csv_opts)\n",
    "\n",
    "df.info()"
   ]
  },
  {
   "cell_type": "code",
   "execution_count": 100,
   "metadata": {},
   "outputs": [],
   "source": [
    "with open('../input/airport_dict.yaml', 'r') as yamlfile:\n",
    "    airport_dict = yaml.load(yamlfile)"
   ]
  },
  {
   "cell_type": "code",
   "execution_count": 101,
   "metadata": {},
   "outputs": [],
   "source": [
    "airport_metadata = pd.DataFrame(airport_dict).T"
   ]
  },
  {
   "cell_type": "code",
   "execution_count": 102,
   "metadata": {},
   "outputs": [],
   "source": [
    "# df.reset_index(inplace=True)"
   ]
  },
  {
   "cell_type": "code",
   "execution_count": 103,
   "metadata": {},
   "outputs": [],
   "source": [
    "df.set_index('MissionDate', inplace=True)"
   ]
  },
  {
   "cell_type": "code",
   "execution_count": 104,
   "metadata": {},
   "outputs": [],
   "source": [
    "df = df.loc['2018-10-01':'2019-5-30']"
   ]
  },
  {
   "cell_type": "code",
   "execution_count": 105,
   "metadata": {},
   "outputs": [],
   "source": [
    "pickups = df.groupby('PULOC')['AlienMasterID'].nunique()\n",
    "dropoffs = df.groupby('DropLoc')['AlienMasterID'].nunique()\n",
    "missions = df.groupby('PULOC')['MissionID'].nunique()"
   ]
  },
  {
   "cell_type": "code",
   "execution_count": 106,
   "metadata": {},
   "outputs": [],
   "source": [
    "pickups.name = 'total_pickups'\n",
    "dropoffs.name = 'total_dropoffs'\n",
    "# missions.name = 'total_missions'"
   ]
  },
  {
   "cell_type": "code",
   "execution_count": 107,
   "metadata": {},
   "outputs": [
    {
     "data": {
      "text/plain": [
       "<pandas.core.groupby.groupby.SeriesGroupBy object at 0x11eeb63c8>"
      ]
     },
     "execution_count": 107,
     "metadata": {},
     "output_type": "execute_result"
    }
   ],
   "source": [
    "df.groupby('PULOC')['air_AirportName']"
   ]
  },
  {
   "cell_type": "code",
   "execution_count": 108,
   "metadata": {},
   "outputs": [],
   "source": [
    "temp = pd.concat([pickups,dropoffs,airport_metadata], axis=1)"
   ]
  },
  {
   "cell_type": "code",
   "execution_count": 109,
   "metadata": {},
   "outputs": [],
   "source": [
    "temp = temp[temp['Country'] == 'USA'].sort_values(by='total_pickups', ascending=False)"
   ]
  },
  {
   "cell_type": "code",
   "execution_count": 110,
   "metadata": {},
   "outputs": [],
   "source": [
    "temp = temp.reset_index()"
   ]
  },
  {
   "cell_type": "code",
   "execution_count": 111,
   "metadata": {},
   "outputs": [],
   "source": [
    "temp = temp.rename({'index':'code'}, axis=1)"
   ]
  },
  {
   "cell_type": "code",
   "execution_count": 112,
   "metadata": {},
   "outputs": [],
   "source": [
    "temp['link'] = temp['code'].apply(lambda x: f'http://airnav.com/airport/{x}')"
   ]
  },
  {
   "cell_type": "code",
   "execution_count": 113,
   "metadata": {},
   "outputs": [],
   "source": [
    "temp = temp.drop(['LatitudeDecimalDegrees', 'LongitudeDecimalDegrees'], axis=1)"
   ]
  },
  {
   "cell_type": "code",
   "execution_count": 114,
   "metadata": {},
   "outputs": [
    {
     "data": {
      "text/plain": [
       "Index(['code', 'total_pickups', 'total_dropoffs', 'AirportName', 'City',\n",
       "       'Country', 'State', 'link'],\n",
       "      dtype='object')"
      ]
     },
     "execution_count": 114,
     "metadata": {},
     "output_type": "execute_result"
    }
   ],
   "source": [
    "temp.columns"
   ]
  },
  {
   "cell_type": "code",
   "execution_count": 115,
   "metadata": {},
   "outputs": [],
   "source": [
    "temp.columns = ['ICAOCode', 'TotalPickups', 'TotalDropoffs', 'AirportName', 'City',\n",
    "       'Country', 'State', 'Link']"
   ]
  },
  {
   "cell_type": "code",
   "execution_count": 116,
   "metadata": {},
   "outputs": [
    {
     "data": {
      "text/html": [
       "<div>\n",
       "<style scoped>\n",
       "    .dataframe tbody tr th:only-of-type {\n",
       "        vertical-align: middle;\n",
       "    }\n",
       "\n",
       "    .dataframe tbody tr th {\n",
       "        vertical-align: top;\n",
       "    }\n",
       "\n",
       "    .dataframe thead th {\n",
       "        text-align: right;\n",
       "    }\n",
       "</style>\n",
       "<table border=\"1\" class=\"dataframe\">\n",
       "  <thead>\n",
       "    <tr style=\"text-align: right;\">\n",
       "      <th></th>\n",
       "      <th>ICAOCode</th>\n",
       "      <th>TotalPickups</th>\n",
       "      <th>TotalDropoffs</th>\n",
       "      <th>AirportName</th>\n",
       "      <th>City</th>\n",
       "      <th>Country</th>\n",
       "      <th>State</th>\n",
       "      <th>Link</th>\n",
       "    </tr>\n",
       "  </thead>\n",
       "  <tbody>\n",
       "    <tr>\n",
       "      <th>0</th>\n",
       "      <td>KBRO</td>\n",
       "      <td>26987.0</td>\n",
       "      <td>13104.0</td>\n",
       "      <td>Brownsville South Padre Island International A...</td>\n",
       "      <td>Brownsville</td>\n",
       "      <td>USA</td>\n",
       "      <td>TX</td>\n",
       "      <td>http://airnav.com/airport/KBRO</td>\n",
       "    </tr>\n",
       "    <tr>\n",
       "      <th>1</th>\n",
       "      <td>KIWA</td>\n",
       "      <td>25098.0</td>\n",
       "      <td>8019.0</td>\n",
       "      <td>Phoenix-Mesa-Gateway Airport</td>\n",
       "      <td>Mesa</td>\n",
       "      <td>USA</td>\n",
       "      <td>AZ</td>\n",
       "      <td>http://airnav.com/airport/KIWA</td>\n",
       "    </tr>\n",
       "    <tr>\n",
       "      <th>2</th>\n",
       "      <td>KAEX</td>\n",
       "      <td>20273.0</td>\n",
       "      <td>11375.0</td>\n",
       "      <td>Alexandria International Airport</td>\n",
       "      <td>Alexandria</td>\n",
       "      <td>USA</td>\n",
       "      <td>LA</td>\n",
       "      <td>http://airnav.com/airport/KAEX</td>\n",
       "    </tr>\n",
       "    <tr>\n",
       "      <th>3</th>\n",
       "      <td>KELP</td>\n",
       "      <td>7026.0</td>\n",
       "      <td>3736.0</td>\n",
       "      <td>El Paso International Airport</td>\n",
       "      <td>El Paso</td>\n",
       "      <td>USA</td>\n",
       "      <td>TX</td>\n",
       "      <td>http://airnav.com/airport/KELP</td>\n",
       "    </tr>\n",
       "    <tr>\n",
       "      <th>4</th>\n",
       "      <td>KIAH</td>\n",
       "      <td>4800.0</td>\n",
       "      <td>1852.0</td>\n",
       "      <td>George Bush Intercontinental Houston Airport</td>\n",
       "      <td>Houston</td>\n",
       "      <td>USA</td>\n",
       "      <td>TX</td>\n",
       "      <td>http://airnav.com/airport/KIAH</td>\n",
       "    </tr>\n",
       "  </tbody>\n",
       "</table>\n",
       "</div>"
      ],
      "text/plain": [
       "  ICAOCode  TotalPickups  TotalDropoffs  \\\n",
       "0     KBRO       26987.0        13104.0   \n",
       "1     KIWA       25098.0         8019.0   \n",
       "2     KAEX       20273.0        11375.0   \n",
       "3     KELP        7026.0         3736.0   \n",
       "4     KIAH        4800.0         1852.0   \n",
       "\n",
       "                                         AirportName         City Country  \\\n",
       "0  Brownsville South Padre Island International A...  Brownsville     USA   \n",
       "1                       Phoenix-Mesa-Gateway Airport         Mesa     USA   \n",
       "2                   Alexandria International Airport   Alexandria     USA   \n",
       "3                      El Paso International Airport      El Paso     USA   \n",
       "4       George Bush Intercontinental Houston Airport      Houston     USA   \n",
       "\n",
       "  State                            Link  \n",
       "0    TX  http://airnav.com/airport/KBRO  \n",
       "1    AZ  http://airnav.com/airport/KIWA  \n",
       "2    LA  http://airnav.com/airport/KAEX  \n",
       "3    TX  http://airnav.com/airport/KELP  \n",
       "4    TX  http://airnav.com/airport/KIAH  "
      ]
     },
     "execution_count": 116,
     "metadata": {},
     "output_type": "execute_result"
    }
   ],
   "source": [
    "temp.head()"
   ]
  },
  {
   "cell_type": "code",
   "execution_count": 121,
   "metadata": {},
   "outputs": [],
   "source": [
    "temp[['TotalPickups', 'TotalDropoffs']] = temp[['TotalPickups', 'TotalDropoffs']].fillna(0)"
   ]
  },
  {
   "cell_type": "code",
   "execution_count": 128,
   "metadata": {},
   "outputs": [],
   "source": [
    "temp = temp[(temp['TotalPickups'] >= 1) & (temp['TotalDropoffs']) >= 1]"
   ]
  },
  {
   "cell_type": "code",
   "execution_count": 129,
   "metadata": {},
   "outputs": [],
   "source": [
    "temp.to_excel('../output/US-airports-FY19.xlsx')"
   ]
  },
  {
   "cell_type": "code",
   "execution_count": null,
   "metadata": {},
   "outputs": [],
   "source": []
  }
 ],
 "metadata": {
  "kernelspec": {
   "display_name": "Python 3",
   "language": "python",
   "name": "python3"
  },
  "language_info": {
   "codemirror_mode": {
    "name": "ipython",
    "version": 3
   },
   "file_extension": ".py",
   "mimetype": "text/x-python",
   "name": "python",
   "nbconvert_exporter": "python",
   "pygments_lexer": "ipython3",
   "version": "3.7.1"
  }
 },
 "nbformat": 4,
 "nbformat_minor": 2
}
