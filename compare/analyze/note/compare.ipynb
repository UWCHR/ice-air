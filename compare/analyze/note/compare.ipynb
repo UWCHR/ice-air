{
 "cells": [
  {
   "cell_type": "code",
   "execution_count": 2,
   "metadata": {},
   "outputs": [],
   "source": [
    "import pandas as pd\n",
    "import yaml"
   ]
  },
  {
   "cell_type": "code",
   "execution_count": 3,
   "metadata": {},
   "outputs": [],
   "source": [
    "read_csv_opts = {'sep': '|',\n",
    "                 'quotechar': '\"',\n",
    "                 'compression': 'gzip',\n",
    "                 'encoding': 'utf-8',\n",
    "                 'parse_dates': ['MissionDate'],\n",
    "                 'infer_datetime_format': True}"
   ]
  },
  {
   "cell_type": "code",
   "execution_count": 4,
   "metadata": {},
   "outputs": [],
   "source": [
    "with open('../input/passenger-dtypes-1.yaml', 'r') as yamlfile:\n",
    "    dtypes_1 = yaml.load(yamlfile)\n",
    "    \n",
    "with open('../input/passenger-dtypes-2.yaml', 'r') as yamlfile:\n",
    "    dtypes_2 = yaml.load(yamlfile)"
   ]
  },
  {
   "cell_type": "code",
   "execution_count": 9,
   "metadata": {},
   "outputs": [],
   "source": [
    "df_1 = pd.read_csv('../input/ice-air-passengers-1.csv.gz', dtype=dtypes_1, **read_csv_opts)"
   ]
  },
  {
   "cell_type": "code",
   "execution_count": 11,
   "metadata": {},
   "outputs": [],
   "source": [
    "df_2 = pd.read_csv('../input/ice-air-passengers-2.csv.gz', dtype=dtypes_2, **read_csv_opts)"
   ]
  },
  {
   "cell_type": "code",
   "execution_count": 15,
   "metadata": {},
   "outputs": [
    {
     "data": {
      "text/plain": [
       "count                 1732625\n",
       "unique                   2409\n",
       "top       2012-04-19 00:00:00\n",
       "freq                     1524\n",
       "first     2010-10-01 00:00:00\n",
       "last      2018-12-05 00:00:00\n",
       "Name: MissionDate, dtype: object"
      ]
     },
     "execution_count": 15,
     "metadata": {},
     "output_type": "execute_result"
    }
   ],
   "source": [
    "df_1['MissionDate'].describe()"
   ]
  },
  {
   "cell_type": "code",
   "execution_count": 16,
   "metadata": {},
   "outputs": [
    {
     "data": {
      "text/plain": [
       "count                 1826400\n",
       "unique                   2530\n",
       "top       2019-04-12 00:00:00\n",
       "freq                     1532\n",
       "first     2010-10-01 00:00:00\n",
       "last      2019-05-04 00:00:00\n",
       "Name: MissionDate, dtype: object"
      ]
     },
     "execution_count": 16,
     "metadata": {},
     "output_type": "execute_result"
    }
   ],
   "source": [
    "df_2['MissionDate'].describe()"
   ]
  },
  {
   "cell_type": "code",
   "execution_count": 31,
   "metadata": {},
   "outputs": [],
   "source": [
    "df_1.set_index('MissionDate', inplace=True)\n",
    "df_2.set_index('MissionDate', inplace=True)"
   ]
  },
  {
   "cell_type": "code",
   "execution_count": 41,
   "metadata": {},
   "outputs": [],
   "source": [
    "annual_total_1 = df_1['AlienMasterID'].resample('AS-OCT').count()\n",
    "annual_total_2 = df_2['AlienMasterID'].resample('AS-OCT').count()"
   ]
  },
  {
   "cell_type": "code",
   "execution_count": 42,
   "metadata": {},
   "outputs": [
    {
     "data": {
      "text/plain": [
       "MissionDate\n",
       "2010-10-01        0\n",
       "2011-10-01        0\n",
       "2012-10-01        0\n",
       "2013-10-01        0\n",
       "2014-10-01        0\n",
       "2015-10-01        0\n",
       "2016-10-01        0\n",
       "2017-10-01        0\n",
       "2018-10-01    93775\n",
       "Freq: AS-OCT, Name: AlienMasterID, dtype: int64"
      ]
     },
     "execution_count": 42,
     "metadata": {},
     "output_type": "execute_result"
    }
   ],
   "source": [
    "annual_total_2 - annual_total_1"
   ]
  },
  {
   "cell_type": "code",
   "execution_count": 44,
   "metadata": {},
   "outputs": [],
   "source": [
    "g_1 = df_1.groupby('MissionID')['AlienMasterID'].count()\n",
    "g_2 = df_2.groupby('MissionID')['AlienMasterID'].count()"
   ]
  },
  {
   "cell_type": "code",
   "execution_count": 58,
   "metadata": {},
   "outputs": [
    {
     "data": {
      "text/plain": [
       "MissionID\n",
       "105      0.0\n",
       "106      0.0\n",
       "107      0.0\n",
       "108      0.0\n",
       "110      0.0\n",
       "111      0.0\n",
       "112      0.0\n",
       "113      0.0\n",
       "114      0.0\n",
       "115      0.0\n",
       "116      0.0\n",
       "117      0.0\n",
       "118      0.0\n",
       "119      0.0\n",
       "121      0.0\n",
       "122      0.0\n",
       "123      0.0\n",
       "124      0.0\n",
       "125      0.0\n",
       "126      0.0\n",
       "127      0.0\n",
       "128      0.0\n",
       "130      0.0\n",
       "131      0.0\n",
       "132      0.0\n",
       "133      0.0\n",
       "137      0.0\n",
       "138      0.0\n",
       "140      0.0\n",
       "141      0.0\n",
       "        ... \n",
       "48304    NaN\n",
       "48305    NaN\n",
       "48306    NaN\n",
       "48307    NaN\n",
       "48308    NaN\n",
       "48309    NaN\n",
       "48310    NaN\n",
       "48311    NaN\n",
       "48312    NaN\n",
       "48313    NaN\n",
       "48314    NaN\n",
       "48315    NaN\n",
       "48316    NaN\n",
       "48317    NaN\n",
       "48318    NaN\n",
       "48319    NaN\n",
       "48320    NaN\n",
       "48321    NaN\n",
       "48322    NaN\n",
       "48323    NaN\n",
       "48324    NaN\n",
       "48325    NaN\n",
       "48326    NaN\n",
       "48328    NaN\n",
       "48329    NaN\n",
       "48330    NaN\n",
       "48331    NaN\n",
       "48332    NaN\n",
       "48334    NaN\n",
       "48335    NaN\n",
       "Name: AlienMasterID, Length: 15735, dtype: float64"
      ]
     },
     "execution_count": 58,
     "metadata": {},
     "output_type": "execute_result"
    }
   ],
   "source": [
    "g_2 - g_1"
   ]
  },
  {
   "cell_type": "code",
   "execution_count": 66,
   "metadata": {},
   "outputs": [],
   "source": [
    "new_puloc = set(df_2['PULOC']).difference(set(df_1['PULOC']))\n",
    "new_droploc = set(df_2['DropLoc']).difference(set(df_1['DropLoc']))"
   ]
  },
  {
   "cell_type": "code",
   "execution_count": 70,
   "metadata": {},
   "outputs": [
    {
     "name": "stdout",
     "output_type": "stream",
     "text": [
      "{'KPVD', 'FVRG', 'FEFF', 'GOBD', 'FNLU', 'DBBB'}\n"
     ]
    }
   ],
   "source": [
    "new_airports = new_puloc.union(new_droploc)\n",
    "print(new_airports)"
   ]
  },
  {
   "cell_type": "code",
   "execution_count": 75,
   "metadata": {},
   "outputs": [
    {
     "name": "stdout",
     "output_type": "stream",
     "text": [
      "{'GUATEMALAN', 'USC', 'ANGUILLA'}\n"
     ]
    }
   ],
   "source": [
    "new_country_of_citizenship = set(df_2['CountryOfCitizenship']).difference(set(df_1['CountryOfCitizenship']))\n",
    "print(new_country_of_citizenship)"
   ]
  },
  {
   "cell_type": "code",
   "execution_count": 74,
   "metadata": {},
   "outputs": [
    {
     "name": "stdout",
     "output_type": "stream",
     "text": [
      "{'HI', '169'}\n"
     ]
    }
   ],
   "source": [
    "new_status = set(df_2['Status']).difference(set(df_1['Status']))\n",
    "print(new_status)"
   ]
  },
  {
   "cell_type": "code",
   "execution_count": 76,
   "metadata": {},
   "outputs": [
    {
     "name": "stdout",
     "output_type": "stream",
     "text": [
      "set()\n"
     ]
    }
   ],
   "source": [
    "new_rt = set(df_2['R-T']).difference(set(df_1['R-T']))\n",
    "print(new_rt)"
   ]
  },
  {
   "cell_type": "code",
   "execution_count": 77,
   "metadata": {},
   "outputs": [
    {
     "name": "stdout",
     "output_type": "stream",
     "text": [
      "set()\n"
     ]
    }
   ],
   "source": [
    "new_sex = set(df_2['Sex']).difference(set(df_1['Sex']))\n",
    "print(new_sex)"
   ]
  },
  {
   "cell_type": "code",
   "execution_count": 78,
   "metadata": {},
   "outputs": [
    {
     "name": "stdout",
     "output_type": "stream",
     "text": [
      "set()\n"
     ]
    }
   ],
   "source": [
    "new_criminality = set(df_2['Criminality']).difference(set(df_1['Criminality']))\n",
    "print(new_criminality)"
   ]
  },
  {
   "cell_type": "code",
   "execution_count": 82,
   "metadata": {},
   "outputs": [],
   "source": [
    "airports = pd.read_csv('../input/GlobalAirportDatabase.csv.gz', sep='|')"
   ]
  },
  {
   "cell_type": "code",
   "execution_count": 88,
   "metadata": {},
   "outputs": [
    {
     "name": "stdout",
     "output_type": "stream",
     "text": [
      ",ICAOCode,LatitudeDecimalDegrees,LongitudeDecimalDegrees\n",
      "379,DBBB,6.357,2.384\n",
      "2248,FEFF,4.398,18.519000000000002\n",
      "2462,FNLU,-8.857999999999999,13.231\n",
      "3745,KPVD,41.724,-71.428\n",
      "\n"
     ]
    }
   ],
   "source": [
    "print(airports[airports['ICAOCode'].isin(list(new_airports))][['ICAOCode', 'LatitudeDecimalDegrees', 'LongitudeDecimalDegrees']].to_csv())"
   ]
  },
  {
   "cell_type": "code",
   "execution_count": null,
   "metadata": {},
   "outputs": [],
   "source": []
  }
 ],
 "metadata": {
  "kernelspec": {
   "display_name": "Python 3",
   "language": "python",
   "name": "python3"
  },
  "language_info": {
   "codemirror_mode": {
    "name": "ipython",
    "version": 3
   },
   "file_extension": ".py",
   "mimetype": "text/x-python",
   "name": "python",
   "nbconvert_exporter": "python",
   "pygments_lexer": "ipython3",
   "version": "3.7.1"
  }
 },
 "nbformat": 4,
 "nbformat_minor": 2
}
