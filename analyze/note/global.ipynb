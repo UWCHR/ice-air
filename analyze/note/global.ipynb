{
 "cells": [
  {
   "cell_type": "code",
   "execution_count": 1,
   "metadata": {},
   "outputs": [],
   "source": [
    "import numpy as np\n",
    "import pandas as pd\n",
    "import yaml\n",
    "import matplotlib.pyplot as plt\n",
    "import matplotlib.mlab as mlab\n",
    "import seaborn as sns"
   ]
  },
  {
   "cell_type": "markdown",
   "metadata": {},
   "source": [
    "# Import\n",
    "\n",
    "First we open a file containing a dictionary of columns and associated data types generated in `../../optimize/`, then we read input file."
   ]
  },
  {
   "cell_type": "code",
   "execution_count": 2,
   "metadata": {},
   "outputs": [
    {
     "name": "stdout",
     "output_type": "stream",
     "text": [
      "<class 'pandas.core.frame.DataFrame'>\n",
      "RangeIndex: 1763020 entries, 0 to 1763019\n",
      "Data columns (total 43 columns):\n",
      "Status                  category\n",
      "Sex                     category\n",
      "Convictions             category\n",
      "GangMember              category\n",
      "ClassLvl                float32\n",
      "Age                     float32\n",
      "MissionDate             datetime64[ns]\n",
      "MissionNumber           uint32\n",
      "PULOC                   category\n",
      "DropLoc                 category\n",
      "StrikeFromList          float32\n",
      "ReasonStruck            category\n",
      "R-T                     category\n",
      "Code                    category\n",
      "CountryOfCitizenship    category\n",
      "Juvenile                bool\n",
      "MissionWeek             uint8\n",
      "MissionQuarter          uint8\n",
      "MissionYear             uint16\n",
      "MissionMonth            uint8\n",
      "Criminality             category\n",
      "FamilyUnitFlag          float32\n",
      "UnaccompaniedFlag       float32\n",
      "AlienMasterID           uint32\n",
      "MissionID               uint16\n",
      "air_AirportID           float32\n",
      "air_AirportName         category\n",
      "air_City                category\n",
      "st_StateID              float32\n",
      "st_StateAbbr            category\n",
      "AOR_AORID               float32\n",
      "AOR_AOR                 category\n",
      "AOR_AORName             category\n",
      "air_Country             category\n",
      "air2_AirportID          float32\n",
      "air2_AirportName        category\n",
      "air2_City               category\n",
      "st2_StateID             float32\n",
      "st2_StateAbbr           category\n",
      "aor2_AORID              float32\n",
      "aor2_AOR                category\n",
      "aor2_AORName            category\n",
      "air2_Country            category\n",
      "dtypes: bool(1), category(23), datetime64[ns](1), float32(11), uint16(2), uint32(2), uint8(3)\n",
      "memory usage: 166.9 MB\n"
     ]
    }
   ],
   "source": [
    "with open('../input/dtypes.yaml', 'r') as yamlfile:\n",
    "    column_types = yaml.load(yamlfile)\n",
    "\n",
    "read_csv_opts = {'sep': '|',\n",
    "                 'quotechar': '\"',\n",
    "                 'compression': 'gzip',\n",
    "                 'encoding': 'utf-8',\n",
    "                 'dtype': column_types,\n",
    "                 'parse_dates': ['MissionDate'],\n",
    "                 'infer_datetime_format': True}\n",
    "\n",
    "df = pd.read_csv('../input/ice-air.csv.gz', **read_csv_opts)\n",
    "\n",
    "df.info(memory_usage='deep')"
   ]
  },
  {
   "cell_type": "markdown",
   "metadata": {},
   "source": [
    "# Global variables"
   ]
  },
  {
   "cell_type": "code",
   "execution_count": 3,
   "metadata": {},
   "outputs": [],
   "source": [
    "pre_drop = len(df)\n",
    "df = df.drop_duplicates()\n",
    "post_drop = len(df)\n",
    "assert pre_drop == post_drop"
   ]
  },
  {
   "cell_type": "code",
   "execution_count": 4,
   "metadata": {},
   "outputs": [
    {
     "name": "stdout",
     "output_type": "stream",
     "text": [
      "Number of records: 1763020\n"
     ]
    }
   ],
   "source": [
    "number_of_records = len(df)\n",
    "print(f'Number of records: {number_of_records}')"
   ]
  },
  {
   "cell_type": "markdown",
   "metadata": {},
   "source": [
    "No missing values in ID fields. IDs repeat."
   ]
  },
  {
   "cell_type": "code",
   "execution_count": 5,
   "metadata": {},
   "outputs": [
    {
     "name": "stdout",
     "output_type": "stream",
     "text": [
      "Unique MissionID values: 14973\n"
     ]
    }
   ],
   "source": [
    "unique_MissionID = len(set(df['MissionID']))\n",
    "assert sum(df['MissionID'].isnull()) == 0\n",
    "print(f\"Unique MissionID values: {unique_MissionID}\")"
   ]
  },
  {
   "cell_type": "code",
   "execution_count": 6,
   "metadata": {},
   "outputs": [
    {
     "name": "stdout",
     "output_type": "stream",
     "text": [
      "Unique MissionNumber values: 14973\n"
     ]
    }
   ],
   "source": [
    "unique_MissionNumber = len(set(df['MissionNumber']))\n",
    "assert sum(df['MissionNumber'].isnull()) == 0\n",
    "print(f\"Unique MissionNumber values: {unique_MissionNumber}\")"
   ]
  },
  {
   "cell_type": "markdown",
   "metadata": {},
   "source": [
    "One to one relationship of MissionID to MissionNumber. These fields seem to be equivalent."
   ]
  },
  {
   "cell_type": "code",
   "execution_count": 7,
   "metadata": {},
   "outputs": [],
   "source": [
    "assert sum(df.groupby(['MissionID', 'MissionNumber'])['MissionNumber'].nunique() > 1) == 0"
   ]
  },
  {
   "cell_type": "code",
   "execution_count": 8,
   "metadata": {},
   "outputs": [],
   "source": [
    "assert sum(df.groupby(['MissionNumber', 'MissionID'])['MissionID'].nunique() > 1) == 0"
   ]
  },
  {
   "cell_type": "code",
   "execution_count": 9,
   "metadata": {},
   "outputs": [
    {
     "name": "stdout",
     "output_type": "stream",
     "text": [
      "Unique AlienMasterID values: 1733555\n"
     ]
    }
   ],
   "source": [
    "unique_AlienMasterID = len(set(df['AlienMasterID']))\n",
    "assert sum(df['AlienMasterID'].isnull()) == 0\n",
    "print(f\"Unique AlienMasterID values: {unique_AlienMasterID}\")"
   ]
  },
  {
   "cell_type": "code",
   "execution_count": 10,
   "metadata": {},
   "outputs": [
    {
     "name": "stdout",
     "output_type": "stream",
     "text": [
      "Earliest record: 2010-10-01 00:00:00\n"
     ]
    }
   ],
   "source": [
    "earliest_record = df['MissionDate'].min()\n",
    "print(f'Earliest record: {earliest_record}')"
   ]
  },
  {
   "cell_type": "code",
   "execution_count": 11,
   "metadata": {},
   "outputs": [
    {
     "name": "stdout",
     "output_type": "stream",
     "text": [
      "Earliest record: 2018-12-05 00:00:00\n"
     ]
    }
   ],
   "source": [
    "latest_record = df['MissionDate'].max()\n",
    "print(f'Earliest record: {latest_record}')"
   ]
  },
  {
   "cell_type": "code",
   "execution_count": 12,
   "metadata": {},
   "outputs": [
    {
     "name": "stdout",
     "output_type": "stream",
     "text": [
      "Number of pickup airports: 84\n",
      "Number of dropoff airports: 207\n"
     ]
    }
   ],
   "source": [
    "number_of_pickup_airports = len(set(df['PULOC']))\n",
    "number_of_dropoff_airports = len(set(df['DropLoc']))\n",
    "print(f'Number of pickup airports: {number_of_pickup_airports}')\n",
    "print(f'Number of dropoff airports: {number_of_dropoff_airports}')"
   ]
  },
  {
   "cell_type": "code",
   "execution_count": 55,
   "metadata": {},
   "outputs": [],
   "source": [
    "year_counts = []\n",
    "for year in df['MissionYear'].unique():\n",
    "    puloc_count = len(set(df.loc[df['MissionYear'] == year, 'PULOC']))\n",
    "    droploc_count = len(set(df.loc[df['MissionYear'] == year, 'DropLoc']))\n",
    "    year_counts.append((year, puloc_count, droploc_count))"
   ]
  },
  {
   "cell_type": "code",
   "execution_count": 92,
   "metadata": {},
   "outputs": [],
   "source": [
    "expansion = pd.DataFrame(year_counts, columns=['FY', 'Unique pickup aiports', 'Unique dropoff aiports']).set_index('FY')"
   ]
  },
  {
   "cell_type": "code",
   "execution_count": 94,
   "metadata": {},
   "outputs": [],
   "source": [
    "expansion.to_csv('../output/iceair-expansion.csv')"
   ]
  },
  {
   "cell_type": "markdown",
   "metadata": {},
   "source": [
    "# Most common pickup, dropoff airports"
   ]
  },
  {
   "cell_type": "code",
   "execution_count": 15,
   "metadata": {},
   "outputs": [
    {
     "data": {
      "text/plain": [
       "Alexandria International Airport                        239911\n",
       "Brownsville South Padre Island International Airport    204895\n",
       "Phoenix-Mesa-Gateway Airport                            196150\n",
       "Valley International Airport                            154138\n",
       "El Paso International Airport                           136127\n",
       "San Antonio International Airport                       107434\n",
       "Columbus Metropolitan Airport                            80797\n",
       "Harrisburg International Airport                         76348\n",
       "Laredo International Airport                             56409\n",
       "Miami International Airport                              55588\n",
       "Name: air_AirportName, dtype: int64"
      ]
     },
     "execution_count": 15,
     "metadata": {},
     "output_type": "execute_result"
    }
   ],
   "source": [
    "df['air_AirportName'].value_counts().head(10)"
   ]
  },
  {
   "cell_type": "code",
   "execution_count": 16,
   "metadata": {},
   "outputs": [
    {
     "data": {
      "text/plain": [
       "La Aurora Airport                                       327010\n",
       "Ramon Villeda Morales International Airport             202955\n",
       "Alexandria International Airport                        169316\n",
       "El Salvador International Airport                       157773\n",
       "Valley International Airport                            148700\n",
       "Phoenix-Mesa-Gateway Airport                             93892\n",
       "El Paso International Airport                            87408\n",
       "Licenciado Benito Juarez International Airport           85584\n",
       "Brownsville South Padre Island International Airport     66444\n",
       "San Diego International Airport                          62943\n",
       "Name: air2_AirportName, dtype: int64"
      ]
     },
     "execution_count": 16,
     "metadata": {},
     "output_type": "execute_result"
    }
   ],
   "source": [
    "df['air2_AirportName'].value_counts().head(10)"
   ]
  },
  {
   "cell_type": "code",
   "execution_count": 17,
   "metadata": {},
   "outputs": [
    {
     "name": "stdout",
     "output_type": "stream",
     "text": [
      "Number of pickup countries: 11\n"
     ]
    }
   ],
   "source": [
    "pickup_countries = set(df['air_Country'])\n",
    "print(f'Number of pickup countries: {len(pickup_countries)}')"
   ]
  },
  {
   "cell_type": "code",
   "execution_count": 18,
   "metadata": {},
   "outputs": [
    {
     "name": "stdout",
     "output_type": "stream",
     "text": [
      "Number of dropoff countries: 120\n"
     ]
    }
   ],
   "source": [
    "dropoff_countries = set(df['air2_Country'])\n",
    "print(f'Number of dropoff countries: {len(dropoff_countries)}')"
   ]
  },
  {
   "cell_type": "code",
   "execution_count": 19,
   "metadata": {},
   "outputs": [
    {
     "name": "stdout",
     "output_type": "stream",
     "text": [
      "Total countries in ICE Air network (including US): 120\n"
     ]
    }
   ],
   "source": [
    "all_countries = pickup_countries.union(dropoff_countries)\n",
    "print(f'Total countries in ICE Air network (including US): {len(dropoff_countries)}')"
   ]
  },
  {
   "cell_type": "markdown",
   "metadata": {},
   "source": [
    "Top nationalities:"
   ]
  },
  {
   "cell_type": "code",
   "execution_count": 20,
   "metadata": {},
   "outputs": [
    {
     "data": {
      "text/plain": [
       "MEXICO                568039\n",
       "GUATEMALA             421411\n",
       "HONDURAS              304685\n",
       "EL SALVADOR           256834\n",
       "DOMINICAN REPUBLIC     31704\n",
       "ECUADOR                25688\n",
       "HAITI                  23308\n",
       "NICARAGUA              18679\n",
       "COLOMBIA               14520\n",
       "JAMAICA                12800\n",
       "INDIA                   8952\n",
       "CHINA                   4459\n",
       "CUBA                    3658\n",
       "BANGLADESH              2790\n",
       "SOMALIA                 2659\n",
       "Name: CountryOfCitizenship, dtype: int64"
      ]
     },
     "execution_count": 20,
     "metadata": {},
     "output_type": "execute_result"
    }
   ],
   "source": [
    "df.drop_duplicates(subset='AlienMasterID')['CountryOfCitizenship'].value_counts().head(15)"
   ]
  },
  {
   "cell_type": "markdown",
   "metadata": {},
   "source": [
    "# Dictionary of IATA codes to airport names\n",
    "\n",
    "Move to clean, elsewhere?"
   ]
  },
  {
   "cell_type": "code",
   "execution_count": 21,
   "metadata": {},
   "outputs": [],
   "source": [
    "pickup_names = df[['PULOC', 'air_AirportName']].drop_duplicates()\n",
    "pickup_names.set_index('PULOC', inplace=True)\n",
    "dropoff_names = df[['DropLoc', 'air2_AirportName']].drop_duplicates()\n",
    "dropoff_names.set_index('DropLoc', inplace=True)\n",
    "\n",
    "pickup_dict = pickup_names.to_dict()['air_AirportName']\n",
    "dropoff_dict = dropoff_names.to_dict()['air2_AirportName']\n",
    "\n",
    "airport_dict = {**pickup_dict, **dropoff_dict}\n",
    "\n",
    "with open('../output/airport_dict.yaml', 'w') as outfile:\n",
    "        yaml.dump(airport_dict, outfile, default_flow_style=False, allow_unicode=True)"
   ]
  },
  {
   "cell_type": "markdown",
   "metadata": {},
   "source": [
    "# Finding repeat `AlienMasterID` values"
   ]
  },
  {
   "cell_type": "code",
   "execution_count": 22,
   "metadata": {},
   "outputs": [],
   "source": [
    "count = df.groupby(['AlienMasterID']).size().reset_index(name='count')\n",
    "\n",
    "count.set_index('AlienMasterID', inplace=True)\n",
    "\n",
    "df.set_index('AlienMasterID', inplace=True)\n",
    "\n",
    "df = df.join(count, how='left')\n",
    "\n",
    "more_than_one = df['count'] > 1\n",
    "\n",
    "multiple_alienID = df[more_than_one]\n",
    "\n",
    "multiple_alienID.to_csv('../output/multiple_alienID.csv.gz', compression='gzip', sep='|')"
   ]
  },
  {
   "cell_type": "code",
   "execution_count": 74,
   "metadata": {},
   "outputs": [],
   "source": [
    "df.reset_index(inplace=True)"
   ]
  },
  {
   "cell_type": "markdown",
   "metadata": {},
   "source": [
    "# Most common, most passenger flight paths"
   ]
  },
  {
   "cell_type": "code",
   "execution_count": 101,
   "metadata": {},
   "outputs": [],
   "source": [
    "most_common_flight_path = df.groupby(['PULOC','DropLoc'])['MissionID'].nunique().idxmax()\n",
    "most_common_flight_path_count =  df.groupby(['PULOC','DropLoc'])['MissionID'].nunique()[most_common_flight_path]\n",
    "most_passenger_flight_path = df.groupby(['PULOC','DropLoc'])['AlienMasterID'].nunique().idxmax()\n",
    "most_passenger_flight_path_count = df.groupby(['PULOC','DropLoc'])['AlienMasterID'].nunique()[most_passenger_flight_path]"
   ]
  },
  {
   "cell_type": "code",
   "execution_count": 102,
   "metadata": {},
   "outputs": [
    {
     "name": "stdout",
     "output_type": "stream",
     "text": [
      "Most frequent flight path: ('KOAK', 'KSAN'), 919 missions\n",
      "Flight path with most passengers: ('KBRO', 'MGGT'), 91714 passengers\n"
     ]
    }
   ],
   "source": [
    "print(f'Most frequent flight path: {most_common_flight_path}, {most_common_flight_path_count} missions')\n",
    "print(f'Flight path with most passengers: {most_passenger_flight_path}, {most_passenger_flight_path_count} passengers')"
   ]
  },
  {
   "cell_type": "code",
   "execution_count": 103,
   "metadata": {},
   "outputs": [
    {
     "data": {
      "text/plain": [
       "917"
      ]
     },
     "execution_count": 103,
     "metadata": {},
     "output_type": "execute_result"
    }
   ],
   "source": [
    "df.groupby(['PULOC','DropLoc'])['MissionNumber'].nunique()[most_passenger_flight_path]"
   ]
  },
  {
   "cell_type": "code",
   "execution_count": null,
   "metadata": {},
   "outputs": [],
   "source": []
  }
 ],
 "metadata": {
  "kernelspec": {
   "display_name": "Python 3",
   "language": "python",
   "name": "python3"
  },
  "language_info": {
   "codemirror_mode": {
    "name": "ipython",
    "version": 3
   },
   "file_extension": ".py",
   "mimetype": "text/x-python",
   "name": "python",
   "nbconvert_exporter": "python",
   "pygments_lexer": "ipython3",
   "version": "3.7.1"
  }
 },
 "nbformat": 4,
 "nbformat_minor": 2
}
