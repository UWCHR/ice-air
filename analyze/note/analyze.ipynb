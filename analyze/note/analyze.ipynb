{
 "cells": [
  {
   "cell_type": "code",
   "execution_count": 28,
   "metadata": {},
   "outputs": [],
   "source": [
    "import numpy as np\n",
    "import pandas as pd\n",
    "import yaml\n",
    "import matplotlib.pyplot as plt\n",
    "import matplotlib.mlab as mlab\n",
    "import seaborn as sns"
   ]
  },
  {
   "cell_type": "markdown",
   "metadata": {},
   "source": [
    "# Import\n",
    "\n",
    "First we open a file containing a dictionary of columns and associated data types generated in `../../optimize/`, then we read input file."
   ]
  },
  {
   "cell_type": "code",
   "execution_count": 29,
   "metadata": {},
   "outputs": [],
   "source": [
    "with open('../input/dtypes.yaml', 'r') as yamlfile:\n",
    "    column_types = yaml.load(yamlfile)"
   ]
  },
  {
   "cell_type": "code",
   "execution_count": 30,
   "metadata": {},
   "outputs": [],
   "source": [
    "read_csv_opts = {'sep': '|',\n",
    "                 'quotechar': '\"',\n",
    "                 'compression': 'gzip',\n",
    "                 'encoding': 'utf-8',\n",
    "                 'dtype': column_types,\n",
    "                 'parse_dates': ['MissionDate'],\n",
    "                 'infer_datetime_format': True}"
   ]
  },
  {
   "cell_type": "code",
   "execution_count": 31,
   "metadata": {},
   "outputs": [
    {
     "name": "stderr",
     "output_type": "stream",
     "text": [
      "/Users/philneff/anaconda3/lib/python3.7/site-packages/IPython/core/interactiveshell.py:3020: DtypeWarning: Columns (15) have mixed types. Specify dtype option on import or set low_memory=False.\n",
      "  interactivity=interactivity, compiler=compiler, result=result)\n"
     ]
    }
   ],
   "source": [
    "df = pd.read_csv('../input/ice-air.csv.gz', **read_csv_opts)"
   ]
  },
  {
   "cell_type": "code",
   "execution_count": 32,
   "metadata": {
    "scrolled": true
   },
   "outputs": [
    {
     "name": "stdout",
     "output_type": "stream",
     "text": [
      "<class 'pandas.core.frame.DataFrame'>\n",
      "RangeIndex: 1763020 entries, 0 to 1763019\n",
      "Data columns (total 43 columns):\n",
      "Status                  category\n",
      "Sex                     category\n",
      "Convictions             category\n",
      "GangMember              category\n",
      "ClassLvl                float32\n",
      "Age                     float32\n",
      "MissionDate             datetime64[ns]\n",
      "MissionNumber           uint32\n",
      "PULOC                   category\n",
      "DropLoc                 category\n",
      "StrikeFromList          float32\n",
      "ReasonStruck            category\n",
      "R-T                     category\n",
      "Code                    category\n",
      "CountryOfCitizenship    category\n",
      "Juvenile                object\n",
      "MissionWeek             uint8\n",
      "MissionQuarter          uint8\n",
      "MissionYear             uint16\n",
      "MissionMonth            uint8\n",
      "Criminality             category\n",
      "FamilyUnitFlag          float32\n",
      "UnaccompaniedFlag       float32\n",
      "AlienMasterID           uint32\n",
      "MissionID               uint16\n",
      "air_AirportID           float32\n",
      "air_AirportName         category\n",
      "air_City                category\n",
      "st_StateID              float32\n",
      "st_StateAbbr            category\n",
      "AOR_AORID               float32\n",
      "AOR_AOR                 category\n",
      "AOR_AORName             category\n",
      "air_Country             category\n",
      "air2_AirportID          float32\n",
      "air2_AirportName        category\n",
      "air2_City               category\n",
      "st2_StateID             float32\n",
      "st2_StateAbbr           category\n",
      "aor2_AORID              float32\n",
      "aor2_AOR                category\n",
      "aor2_AORName            category\n",
      "air2_Country            category\n",
      "dtypes: category(23), datetime64[ns](1), float32(11), object(1), uint16(2), uint32(2), uint8(3)\n",
      "memory usage: 219.1 MB\n"
     ]
    }
   ],
   "source": [
    "df.info(memory_usage='deep')"
   ]
  },
  {
   "cell_type": "markdown",
   "metadata": {},
   "source": [
    "# Analyze"
   ]
  },
  {
   "cell_type": "code",
   "execution_count": 33,
   "metadata": {
    "scrolled": true
   },
   "outputs": [
    {
     "data": {
      "text/html": [
       "<div>\n",
       "<style scoped>\n",
       "    .dataframe tbody tr th:only-of-type {\n",
       "        vertical-align: middle;\n",
       "    }\n",
       "\n",
       "    .dataframe tbody tr th {\n",
       "        vertical-align: top;\n",
       "    }\n",
       "\n",
       "    .dataframe thead th {\n",
       "        text-align: right;\n",
       "    }\n",
       "</style>\n",
       "<table border=\"1\" class=\"dataframe\">\n",
       "  <thead>\n",
       "    <tr style=\"text-align: right;\">\n",
       "      <th></th>\n",
       "      <th>Status</th>\n",
       "      <th>Sex</th>\n",
       "      <th>Convictions</th>\n",
       "      <th>GangMember</th>\n",
       "      <th>ClassLvl</th>\n",
       "      <th>Age</th>\n",
       "      <th>MissionDate</th>\n",
       "      <th>MissionNumber</th>\n",
       "      <th>PULOC</th>\n",
       "      <th>DropLoc</th>\n",
       "      <th>...</th>\n",
       "      <th>air_Country</th>\n",
       "      <th>air2_AirportID</th>\n",
       "      <th>air2_AirportName</th>\n",
       "      <th>air2_City</th>\n",
       "      <th>st2_StateID</th>\n",
       "      <th>st2_StateAbbr</th>\n",
       "      <th>aor2_AORID</th>\n",
       "      <th>aor2_AOR</th>\n",
       "      <th>aor2_AORName</th>\n",
       "      <th>air2_Country</th>\n",
       "    </tr>\n",
       "  </thead>\n",
       "  <tbody>\n",
       "    <tr>\n",
       "      <th>0</th>\n",
       "      <td>Removal</td>\n",
       "      <td>M</td>\n",
       "      <td>Non-Criminal</td>\n",
       "      <td>No</td>\n",
       "      <td>1.0</td>\n",
       "      <td>18.0</td>\n",
       "      <td>2010-10-01</td>\n",
       "      <td>110003</td>\n",
       "      <td>KIWA</td>\n",
       "      <td>MGGT</td>\n",
       "      <td>...</td>\n",
       "      <td>USA</td>\n",
       "      <td>149.0</td>\n",
       "      <td>La Aurora Airport</td>\n",
       "      <td>Guatemala City</td>\n",
       "      <td>NaN</td>\n",
       "      <td>NaN</td>\n",
       "      <td>NaN</td>\n",
       "      <td>NaN</td>\n",
       "      <td>NaN</td>\n",
       "      <td>Guatemala</td>\n",
       "    </tr>\n",
       "    <tr>\n",
       "      <th>1</th>\n",
       "      <td>Removal</td>\n",
       "      <td>M</td>\n",
       "      <td>Non-Criminal</td>\n",
       "      <td>No</td>\n",
       "      <td>1.0</td>\n",
       "      <td>38.0</td>\n",
       "      <td>2010-10-01</td>\n",
       "      <td>110003</td>\n",
       "      <td>KIWA</td>\n",
       "      <td>MGGT</td>\n",
       "      <td>...</td>\n",
       "      <td>USA</td>\n",
       "      <td>149.0</td>\n",
       "      <td>La Aurora Airport</td>\n",
       "      <td>Guatemala City</td>\n",
       "      <td>NaN</td>\n",
       "      <td>NaN</td>\n",
       "      <td>NaN</td>\n",
       "      <td>NaN</td>\n",
       "      <td>NaN</td>\n",
       "      <td>Guatemala</td>\n",
       "    </tr>\n",
       "    <tr>\n",
       "      <th>2</th>\n",
       "      <td>Removal</td>\n",
       "      <td>M</td>\n",
       "      <td>Non-Criminal</td>\n",
       "      <td>No</td>\n",
       "      <td>1.0</td>\n",
       "      <td>20.0</td>\n",
       "      <td>2010-10-01</td>\n",
       "      <td>110003</td>\n",
       "      <td>KIWA</td>\n",
       "      <td>MGGT</td>\n",
       "      <td>...</td>\n",
       "      <td>USA</td>\n",
       "      <td>149.0</td>\n",
       "      <td>La Aurora Airport</td>\n",
       "      <td>Guatemala City</td>\n",
       "      <td>NaN</td>\n",
       "      <td>NaN</td>\n",
       "      <td>NaN</td>\n",
       "      <td>NaN</td>\n",
       "      <td>NaN</td>\n",
       "      <td>Guatemala</td>\n",
       "    </tr>\n",
       "    <tr>\n",
       "      <th>3</th>\n",
       "      <td>Removal</td>\n",
       "      <td>M</td>\n",
       "      <td>Non-Criminal</td>\n",
       "      <td>No</td>\n",
       "      <td>1.0</td>\n",
       "      <td>29.0</td>\n",
       "      <td>2010-10-01</td>\n",
       "      <td>110003</td>\n",
       "      <td>KIWA</td>\n",
       "      <td>MGGT</td>\n",
       "      <td>...</td>\n",
       "      <td>USA</td>\n",
       "      <td>149.0</td>\n",
       "      <td>La Aurora Airport</td>\n",
       "      <td>Guatemala City</td>\n",
       "      <td>NaN</td>\n",
       "      <td>NaN</td>\n",
       "      <td>NaN</td>\n",
       "      <td>NaN</td>\n",
       "      <td>NaN</td>\n",
       "      <td>Guatemala</td>\n",
       "    </tr>\n",
       "    <tr>\n",
       "      <th>4</th>\n",
       "      <td>Removal</td>\n",
       "      <td>M</td>\n",
       "      <td>Non-Criminal</td>\n",
       "      <td>No</td>\n",
       "      <td>1.0</td>\n",
       "      <td>21.0</td>\n",
       "      <td>2010-10-01</td>\n",
       "      <td>110003</td>\n",
       "      <td>KIWA</td>\n",
       "      <td>MGGT</td>\n",
       "      <td>...</td>\n",
       "      <td>USA</td>\n",
       "      <td>149.0</td>\n",
       "      <td>La Aurora Airport</td>\n",
       "      <td>Guatemala City</td>\n",
       "      <td>NaN</td>\n",
       "      <td>NaN</td>\n",
       "      <td>NaN</td>\n",
       "      <td>NaN</td>\n",
       "      <td>NaN</td>\n",
       "      <td>Guatemala</td>\n",
       "    </tr>\n",
       "  </tbody>\n",
       "</table>\n",
       "<p>5 rows × 43 columns</p>\n",
       "</div>"
      ],
      "text/plain": [
       "    Status Sex   Convictions GangMember  ClassLvl   Age MissionDate  \\\n",
       "0  Removal   M  Non-Criminal         No       1.0  18.0  2010-10-01   \n",
       "1  Removal   M  Non-Criminal         No       1.0  38.0  2010-10-01   \n",
       "2  Removal   M  Non-Criminal         No       1.0  20.0  2010-10-01   \n",
       "3  Removal   M  Non-Criminal         No       1.0  29.0  2010-10-01   \n",
       "4  Removal   M  Non-Criminal         No       1.0  21.0  2010-10-01   \n",
       "\n",
       "   MissionNumber PULOC DropLoc      ...       air_Country air2_AirportID  \\\n",
       "0         110003  KIWA    MGGT      ...               USA          149.0   \n",
       "1         110003  KIWA    MGGT      ...               USA          149.0   \n",
       "2         110003  KIWA    MGGT      ...               USA          149.0   \n",
       "3         110003  KIWA    MGGT      ...               USA          149.0   \n",
       "4         110003  KIWA    MGGT      ...               USA          149.0   \n",
       "\n",
       "    air2_AirportName       air2_City st2_StateID st2_StateAbbr  aor2_AORID  \\\n",
       "0  La Aurora Airport  Guatemala City         NaN           NaN         NaN   \n",
       "1  La Aurora Airport  Guatemala City         NaN           NaN         NaN   \n",
       "2  La Aurora Airport  Guatemala City         NaN           NaN         NaN   \n",
       "3  La Aurora Airport  Guatemala City         NaN           NaN         NaN   \n",
       "4  La Aurora Airport  Guatemala City         NaN           NaN         NaN   \n",
       "\n",
       "   aor2_AOR  aor2_AORName  air2_Country  \n",
       "0       NaN           NaN     Guatemala  \n",
       "1       NaN           NaN     Guatemala  \n",
       "2       NaN           NaN     Guatemala  \n",
       "3       NaN           NaN     Guatemala  \n",
       "4       NaN           NaN     Guatemala  \n",
       "\n",
       "[5 rows x 43 columns]"
      ]
     },
     "execution_count": 33,
     "metadata": {},
     "output_type": "execute_result"
    }
   ],
   "source": [
    "df.head()"
   ]
  },
  {
   "cell_type": "markdown",
   "metadata": {},
   "source": [
    "No duplicate records."
   ]
  },
  {
   "cell_type": "code",
   "execution_count": 34,
   "metadata": {},
   "outputs": [],
   "source": [
    "pre = len(df)\n",
    "df.drop_duplicates(inplace=True)\n",
    "post = len(df)\n",
    "assert (pre - post) == 0"
   ]
  },
  {
   "cell_type": "markdown",
   "metadata": {},
   "source": [
    "# By nationality"
   ]
  },
  {
   "cell_type": "code",
   "execution_count": 50,
   "metadata": {},
   "outputs": [
    {
     "data": {
      "text/plain": [
       "Index(['Status', 'Sex', 'Convictions', 'GangMember', 'ClassLvl', 'Age',\n",
       "       'MissionDate', 'MissionNumber', 'PULOC', 'DropLoc', 'StrikeFromList',\n",
       "       'ReasonStruck', 'R-T', 'Code', 'CountryOfCitizenship', 'Juvenile',\n",
       "       'MissionWeek', 'MissionQuarter', 'MissionYear', 'MissionMonth',\n",
       "       'Criminality', 'FamilyUnitFlag', 'UnaccompaniedFlag', 'AlienMasterID',\n",
       "       'MissionID', 'air_AirportID', 'air_AirportName', 'air_City',\n",
       "       'st_StateID', 'st_StateAbbr', 'AOR_AORID', 'AOR_AOR', 'AOR_AORName',\n",
       "       'air_Country', 'air2_AirportID', 'air2_AirportName', 'air2_City',\n",
       "       'st2_StateID', 'st2_StateAbbr', 'aor2_AORID', 'aor2_AOR',\n",
       "       'aor2_AORName', 'air2_Country', 'NonCriminal'],\n",
       "      dtype='object')"
      ]
     },
     "execution_count": 50,
     "metadata": {},
     "output_type": "execute_result"
    }
   ],
   "source": [
    "df.columns"
   ]
  },
  {
   "cell_type": "code",
   "execution_count": 51,
   "metadata": {},
   "outputs": [],
   "source": [
    "nationality = 'SOMALIA'"
   ]
  },
  {
   "cell_type": "code",
   "execution_count": 52,
   "metadata": {},
   "outputs": [],
   "source": [
    "nationality_df = df[df['CountryOfCitizenship'] == nationality]"
   ]
  },
  {
   "cell_type": "code",
   "execution_count": 53,
   "metadata": {},
   "outputs": [],
   "source": [
    "nationality_df.reset_index(inplace=True)"
   ]
  },
  {
   "cell_type": "code",
   "execution_count": 54,
   "metadata": {},
   "outputs": [],
   "source": [
    "groupby = nationality_df.groupby(['CountryOfCitizenship','MissionDate', 'R-T', 'PULOC', 'DropLoc'])"
   ]
  },
  {
   "cell_type": "code",
   "execution_count": 55,
   "metadata": {},
   "outputs": [],
   "source": [
    "table = groupby['AlienMasterID'].nunique().reset_index(name='AlienMasterIDCount')\n",
    "table['MissionIDCount'] = groupby['MissionID'].nunique().reset_index(name='MissionIDCount')['MissionIDCount']"
   ]
  },
  {
   "cell_type": "code",
   "execution_count": 56,
   "metadata": {},
   "outputs": [],
   "source": [
    "repatriations = table[table['R-T'] == 'R'].copy()\n",
    "transfers = table[table['R-T'] == 'T'].copy()"
   ]
  },
  {
   "cell_type": "code",
   "execution_count": 57,
   "metadata": {},
   "outputs": [
    {
     "data": {
      "text/html": [
       "<div>\n",
       "<style scoped>\n",
       "    .dataframe tbody tr th:only-of-type {\n",
       "        vertical-align: middle;\n",
       "    }\n",
       "\n",
       "    .dataframe tbody tr th {\n",
       "        vertical-align: top;\n",
       "    }\n",
       "\n",
       "    .dataframe thead th {\n",
       "        text-align: right;\n",
       "    }\n",
       "</style>\n",
       "<table border=\"1\" class=\"dataframe\">\n",
       "  <thead>\n",
       "    <tr style=\"text-align: right;\">\n",
       "      <th></th>\n",
       "      <th>CountryOfCitizenship</th>\n",
       "      <th>MissionDate</th>\n",
       "      <th>R-T</th>\n",
       "      <th>PULOC</th>\n",
       "      <th>DropLoc</th>\n",
       "      <th>AlienMasterIDCount</th>\n",
       "      <th>MissionIDCount</th>\n",
       "    </tr>\n",
       "  </thead>\n",
       "  <tbody>\n",
       "    <tr>\n",
       "      <th>0</th>\n",
       "      <td>SOMALIA</td>\n",
       "      <td>2010-10-01</td>\n",
       "      <td>T</td>\n",
       "      <td>KSAN</td>\n",
       "      <td>KIWA</td>\n",
       "      <td>3</td>\n",
       "      <td>1</td>\n",
       "    </tr>\n",
       "    <tr>\n",
       "      <th>1</th>\n",
       "      <td>SOMALIA</td>\n",
       "      <td>2010-10-02</td>\n",
       "      <td>T</td>\n",
       "      <td>KIWA</td>\n",
       "      <td>KBFI</td>\n",
       "      <td>3</td>\n",
       "      <td>1</td>\n",
       "    </tr>\n",
       "    <tr>\n",
       "      <th>2</th>\n",
       "      <td>SOMALIA</td>\n",
       "      <td>2010-10-15</td>\n",
       "      <td>T</td>\n",
       "      <td>KONT</td>\n",
       "      <td>KIWA</td>\n",
       "      <td>9</td>\n",
       "      <td>1</td>\n",
       "    </tr>\n",
       "    <tr>\n",
       "      <th>3</th>\n",
       "      <td>SOMALIA</td>\n",
       "      <td>2010-10-16</td>\n",
       "      <td>T</td>\n",
       "      <td>KIWA</td>\n",
       "      <td>KBFI</td>\n",
       "      <td>9</td>\n",
       "      <td>1</td>\n",
       "    </tr>\n",
       "    <tr>\n",
       "      <th>4</th>\n",
       "      <td>SOMALIA</td>\n",
       "      <td>2010-11-09</td>\n",
       "      <td>T</td>\n",
       "      <td>KSAN</td>\n",
       "      <td>KIWA</td>\n",
       "      <td>1</td>\n",
       "      <td>1</td>\n",
       "    </tr>\n",
       "  </tbody>\n",
       "</table>\n",
       "</div>"
      ],
      "text/plain": [
       "  CountryOfCitizenship MissionDate R-T PULOC DropLoc  AlienMasterIDCount  \\\n",
       "0              SOMALIA  2010-10-01   T  KSAN    KIWA                   3   \n",
       "1              SOMALIA  2010-10-02   T  KIWA    KBFI                   3   \n",
       "2              SOMALIA  2010-10-15   T  KONT    KIWA                   9   \n",
       "3              SOMALIA  2010-10-16   T  KIWA    KBFI                   9   \n",
       "4              SOMALIA  2010-11-09   T  KSAN    KIWA                   1   \n",
       "\n",
       "   MissionIDCount  \n",
       "0               1  \n",
       "1               1  \n",
       "2               1  \n",
       "3               1  \n",
       "4               1  "
      ]
     },
     "execution_count": 57,
     "metadata": {},
     "output_type": "execute_result"
    }
   ],
   "source": [
    "transfers.head()"
   ]
  },
  {
   "cell_type": "code",
   "execution_count": 58,
   "metadata": {},
   "outputs": [],
   "source": [
    "transfers.to_csv(f'../output/{nationality.lower()}_transfers.csv.gz', compression='gzip', sep='|', index=False)\n",
    "repatriations.to_csv(f'../output/{nationality.lower()}_repatriations.csv.gz', compression='gzip', sep='|', index=False)"
   ]
  },
  {
   "cell_type": "code",
   "execution_count": 59,
   "metadata": {},
   "outputs": [],
   "source": [
    "repatriations.set_index('MissionDate', inplace=True)"
   ]
  },
  {
   "cell_type": "code",
   "execution_count": 60,
   "metadata": {},
   "outputs": [],
   "source": [
    "r_cum = repatriations['AlienMasterIDCount'].cumsum()\n",
    "t_cum = transfers['AlienMasterIDCount'].cumsum()"
   ]
  },
  {
   "cell_type": "code",
   "execution_count": 61,
   "metadata": {},
   "outputs": [
    {
     "data": {
      "image/png": "[encoded data removed]",
      "text/plain": [
       "<Figure size 432x288 with 1 Axes>"
      ]
     },
     "metadata": {
      "needs_background": "light"
     },
     "output_type": "display_data"
    }
   ],
   "source": [
    "r_cum.plot();"
   ]
  },
  {
   "cell_type": "code",
   "execution_count": 62,
   "metadata": {},
   "outputs": [],
   "source": [
    "nationality_df.set_index('MissionDate', drop=False, inplace=True)"
   ]
  },
  {
   "cell_type": "code",
   "execution_count": 63,
   "metadata": {},
   "outputs": [],
   "source": [
    "g = nationality_df.groupby(['MissionYear', 'R-T', 'air2_Country', 'air2_AirportName'])[['AlienMasterID', 'MissionID']].nunique()\n",
    "g.reset_index(inplace=True)\n",
    "repatriation_dropoff_airports = g[g['R-T'] == 'R'].copy()\n",
    "transfer_dropoff_airports = g[g['R-T'] == 'T'].copy()"
   ]
  },
  {
   "cell_type": "code",
   "execution_count": 64,
   "metadata": {},
   "outputs": [],
   "source": [
    "repatriation_dropoff_airports.sort_values(by=['MissionYear', 'AlienMasterID'], ascending=[True, False], inplace=True)\n",
    "transfer_dropoff_airports.sort_values(by=['MissionYear', 'AlienMasterID'], ascending=[True, False], inplace=True)"
   ]
  },
  {
   "cell_type": "code",
   "execution_count": 65,
   "metadata": {},
   "outputs": [
    {
     "data": {
      "text/html": [
       "<div>\n",
       "<style scoped>\n",
       "    .dataframe tbody tr th:only-of-type {\n",
       "        vertical-align: middle;\n",
       "    }\n",
       "\n",
       "    .dataframe tbody tr th {\n",
       "        vertical-align: top;\n",
       "    }\n",
       "\n",
       "    .dataframe thead th {\n",
       "        text-align: right;\n",
       "    }\n",
       "</style>\n",
       "<table border=\"1\" class=\"dataframe\">\n",
       "  <thead>\n",
       "    <tr style=\"text-align: right;\">\n",
       "      <th></th>\n",
       "      <th>MissionYear</th>\n",
       "      <th>R-T</th>\n",
       "      <th>air2_Country</th>\n",
       "      <th>air2_AirportName</th>\n",
       "      <th>AlienMasterID</th>\n",
       "      <th>MissionID</th>\n",
       "    </tr>\n",
       "  </thead>\n",
       "  <tbody>\n",
       "    <tr>\n",
       "      <th>11</th>\n",
       "      <td>2012</td>\n",
       "      <td>R</td>\n",
       "      <td>Kenya</td>\n",
       "      <td>Jomo Kenyatta International Airport</td>\n",
       "      <td>19</td>\n",
       "      <td>2</td>\n",
       "    </tr>\n",
       "    <tr>\n",
       "      <th>33</th>\n",
       "      <td>2014</td>\n",
       "      <td>R</td>\n",
       "      <td>Kenya</td>\n",
       "      <td>Jomo Kenyatta International Airport</td>\n",
       "      <td>2</td>\n",
       "      <td>1</td>\n",
       "    </tr>\n",
       "    <tr>\n",
       "      <th>82</th>\n",
       "      <td>2017</td>\n",
       "      <td>R</td>\n",
       "      <td>Somalia</td>\n",
       "      <td>Aden Adde International Airport</td>\n",
       "      <td>342</td>\n",
       "      <td>5</td>\n",
       "    </tr>\n",
       "    <tr>\n",
       "      <th>103</th>\n",
       "      <td>2018</td>\n",
       "      <td>R</td>\n",
       "      <td>Somalia</td>\n",
       "      <td>Aden Adde International Airport</td>\n",
       "      <td>217</td>\n",
       "      <td>3</td>\n",
       "    </tr>\n",
       "  </tbody>\n",
       "</table>\n",
       "</div>"
      ],
      "text/plain": [
       "     MissionYear R-T air2_Country                     air2_AirportName  \\\n",
       "11          2012   R        Kenya  Jomo Kenyatta International Airport   \n",
       "33          2014   R        Kenya  Jomo Kenyatta International Airport   \n",
       "82          2017   R      Somalia      Aden Adde International Airport   \n",
       "103         2018   R      Somalia      Aden Adde International Airport   \n",
       "\n",
       "     AlienMasterID  MissionID  \n",
       "11              19          2  \n",
       "33               2          1  \n",
       "82             342          5  \n",
       "103            217          3  "
      ]
     },
     "execution_count": 65,
     "metadata": {},
     "output_type": "execute_result"
    }
   ],
   "source": [
    "repatriation_dropoff_airports.head(10)"
   ]
  },
  {
   "cell_type": "code",
   "execution_count": 66,
   "metadata": {},
   "outputs": [],
   "source": [
    "repatriation_dropoff_airports.to_csv(f'../output/{nationality}_repatriation_dropoff_airports.csv')\n",
    "transfer_dropoff_airports.to_csv(f'../output/{nationality}_transfer_dropoff_airports.csv')"
   ]
  },
  {
   "cell_type": "code",
   "execution_count": 67,
   "metadata": {},
   "outputs": [],
   "source": [
    "pivot = pd.pivot_table(data=repatriation_dropoff_airports,\n",
    "                       index='MissionYear',\n",
    "                       columns='air2_Country',\n",
    "                       values='MissionID',\n",
    "                       aggfunc=np.sum,\n",
    "                       fill_value=0)"
   ]
  },
  {
   "cell_type": "code",
   "execution_count": 68,
   "metadata": {},
   "outputs": [],
   "source": [
    "pivot = pivot.reindex(pivot.sum().sort_values(ascending=False).index, axis=1)"
   ]
  },
  {
   "cell_type": "code",
   "execution_count": 69,
   "metadata": {},
   "outputs": [
    {
     "data": {
      "image/png": "[encoded data removed]",
      "text/plain": [
       "<Figure size 720x576 with 1 Axes>"
      ]
     },
     "metadata": {
      "needs_background": "light"
     },
     "output_type": "display_data"
    }
   ],
   "source": [
    "title = f\"Top repatriation airport countries for country of citizenship {nationality.title()}\"\n",
    "fig = pivot.plot(kind='bar', stacked=True, figsize=(10, 8), title=title)\n"
   ]
  },
  {
   "cell_type": "markdown",
   "metadata": {},
   "source": [
    "## Juveniles only"
   ]
  },
  {
   "cell_type": "code",
   "execution_count": 70,
   "metadata": {},
   "outputs": [
    {
     "data": {
      "text/plain": [
       "False    1735639\n",
       "True       26197\n",
       "Name: Juvenile, dtype: int64"
      ]
     },
     "execution_count": 70,
     "metadata": {},
     "output_type": "execute_result"
    }
   ],
   "source": [
    "df['Juvenile'].value_counts()"
   ]
  },
  {
   "cell_type": "code",
   "execution_count": 71,
   "metadata": {},
   "outputs": [],
   "source": [
    "juv_table = groupby['Juvenile'].sum().reset_index(name='Juveniles')"
   ]
  },
  {
   "cell_type": "code",
   "execution_count": 72,
   "metadata": {},
   "outputs": [],
   "source": [
    "juv_repatriations = juv_table[juv_table['R-T'] == 'R'].copy()\n",
    "juv_transfers = juv_table[juv_table['R-T'] == 'T'].copy()"
   ]
  },
  {
   "cell_type": "code",
   "execution_count": 73,
   "metadata": {},
   "outputs": [],
   "source": [
    "juv_repatriations.set_index('MissionDate', inplace=True)"
   ]
  },
  {
   "cell_type": "code",
   "execution_count": 74,
   "metadata": {},
   "outputs": [],
   "source": [
    "juv_r_cum = juv_repatriations['Juveniles'].cumsum()"
   ]
  },
  {
   "cell_type": "code",
   "execution_count": 75,
   "metadata": {},
   "outputs": [
    {
     "data": {
      "text/plain": [
       "<matplotlib.axes._subplots.AxesSubplot at 0x1a145687b8>"
      ]
     },
     "execution_count": 75,
     "metadata": {},
     "output_type": "execute_result"
    },
    {
     "data": {
      "image/png": "[encoded data removed]",
      "text/plain": [
       "<Figure size 432x288 with 1 Axes>"
      ]
     },
     "metadata": {
      "needs_background": "light"
     },
     "output_type": "display_data"
    }
   ],
   "source": [
    "juv_r_cum.plot()"
   ]
  },
  {
   "cell_type": "code",
   "execution_count": 76,
   "metadata": {},
   "outputs": [],
   "source": [
    "repatriations['Juveniles'] = juv_repatriations['Juveniles']"
   ]
  },
  {
   "cell_type": "code",
   "execution_count": 79,
   "metadata": {},
   "outputs": [],
   "source": [
    "repatriations['JuvPercent'] = juv_repatriations['Juveniles'] / repatriations['AlienMasterIDCount']"
   ]
  },
  {
   "cell_type": "code",
   "execution_count": 80,
   "metadata": {},
   "outputs": [
    {
     "data": {
      "text/html": [
       "<div>\n",
       "<style scoped>\n",
       "    .dataframe tbody tr th:only-of-type {\n",
       "        vertical-align: middle;\n",
       "    }\n",
       "\n",
       "    .dataframe tbody tr th {\n",
       "        vertical-align: top;\n",
       "    }\n",
       "\n",
       "    .dataframe thead th {\n",
       "        text-align: right;\n",
       "    }\n",
       "</style>\n",
       "<table border=\"1\" class=\"dataframe\">\n",
       "  <thead>\n",
       "    <tr style=\"text-align: right;\">\n",
       "      <th></th>\n",
       "      <th>CountryOfCitizenship</th>\n",
       "      <th>R-T</th>\n",
       "      <th>PULOC</th>\n",
       "      <th>DropLoc</th>\n",
       "      <th>AlienMasterIDCount</th>\n",
       "      <th>MissionIDCount</th>\n",
       "      <th>Juveniles</th>\n",
       "      <th>JuvPercent</th>\n",
       "    </tr>\n",
       "    <tr>\n",
       "      <th>MissionDate</th>\n",
       "      <th></th>\n",
       "      <th></th>\n",
       "      <th></th>\n",
       "      <th></th>\n",
       "      <th></th>\n",
       "      <th></th>\n",
       "      <th></th>\n",
       "      <th></th>\n",
       "    </tr>\n",
       "  </thead>\n",
       "  <tbody>\n",
       "    <tr>\n",
       "      <th>2012-04-15</th>\n",
       "      <td>SOMALIA</td>\n",
       "      <td>R</td>\n",
       "      <td>KAEX</td>\n",
       "      <td>HKJK</td>\n",
       "      <td>9</td>\n",
       "      <td>1</td>\n",
       "      <td>0</td>\n",
       "      <td>0</td>\n",
       "    </tr>\n",
       "    <tr>\n",
       "      <th>2012-11-17</th>\n",
       "      <td>SOMALIA</td>\n",
       "      <td>R</td>\n",
       "      <td>KAEX</td>\n",
       "      <td>HKJK</td>\n",
       "      <td>10</td>\n",
       "      <td>1</td>\n",
       "      <td>0</td>\n",
       "      <td>0</td>\n",
       "    </tr>\n",
       "    <tr>\n",
       "      <th>2014-06-03</th>\n",
       "      <td>SOMALIA</td>\n",
       "      <td>R</td>\n",
       "      <td>KMIA</td>\n",
       "      <td>HKJK</td>\n",
       "      <td>2</td>\n",
       "      <td>1</td>\n",
       "      <td>0</td>\n",
       "      <td>0</td>\n",
       "    </tr>\n",
       "    <tr>\n",
       "      <th>2017-01-24</th>\n",
       "      <td>SOMALIA</td>\n",
       "      <td>R</td>\n",
       "      <td>KAEX</td>\n",
       "      <td>HCMM</td>\n",
       "      <td>90</td>\n",
       "      <td>1</td>\n",
       "      <td>0</td>\n",
       "      <td>0</td>\n",
       "    </tr>\n",
       "    <tr>\n",
       "      <th>2017-03-09</th>\n",
       "      <td>SOMALIA</td>\n",
       "      <td>R</td>\n",
       "      <td>KAEX</td>\n",
       "      <td>HCMM</td>\n",
       "      <td>68</td>\n",
       "      <td>1</td>\n",
       "      <td>0</td>\n",
       "      <td>0</td>\n",
       "    </tr>\n",
       "    <tr>\n",
       "      <th>2017-05-11</th>\n",
       "      <td>SOMALIA</td>\n",
       "      <td>R</td>\n",
       "      <td>KAEX</td>\n",
       "      <td>HCMM</td>\n",
       "      <td>67</td>\n",
       "      <td>1</td>\n",
       "      <td>0</td>\n",
       "      <td>0</td>\n",
       "    </tr>\n",
       "    <tr>\n",
       "      <th>2017-05-25</th>\n",
       "      <td>SOMALIA</td>\n",
       "      <td>R</td>\n",
       "      <td>KIWA</td>\n",
       "      <td>HCMM</td>\n",
       "      <td>50</td>\n",
       "      <td>1</td>\n",
       "      <td>0</td>\n",
       "      <td>0</td>\n",
       "    </tr>\n",
       "    <tr>\n",
       "      <th>2017-07-27</th>\n",
       "      <td>SOMALIA</td>\n",
       "      <td>R</td>\n",
       "      <td>KAEX</td>\n",
       "      <td>HCMM</td>\n",
       "      <td>67</td>\n",
       "      <td>1</td>\n",
       "      <td>0</td>\n",
       "      <td>0</td>\n",
       "    </tr>\n",
       "    <tr>\n",
       "      <th>2018-03-29</th>\n",
       "      <td>SOMALIA</td>\n",
       "      <td>R</td>\n",
       "      <td>KELP</td>\n",
       "      <td>HCMM</td>\n",
       "      <td>68</td>\n",
       "      <td>1</td>\n",
       "      <td>0</td>\n",
       "      <td>0</td>\n",
       "    </tr>\n",
       "    <tr>\n",
       "      <th>2018-06-28</th>\n",
       "      <td>SOMALIA</td>\n",
       "      <td>R</td>\n",
       "      <td>KAEX</td>\n",
       "      <td>HCMM</td>\n",
       "      <td>83</td>\n",
       "      <td>1</td>\n",
       "      <td>0</td>\n",
       "      <td>0</td>\n",
       "    </tr>\n",
       "    <tr>\n",
       "      <th>2018-11-29</th>\n",
       "      <td>SOMALIA</td>\n",
       "      <td>R</td>\n",
       "      <td>KELP</td>\n",
       "      <td>HCMM</td>\n",
       "      <td>66</td>\n",
       "      <td>1</td>\n",
       "      <td>0</td>\n",
       "      <td>0</td>\n",
       "    </tr>\n",
       "  </tbody>\n",
       "</table>\n",
       "</div>"
      ],
      "text/plain": [
       "            CountryOfCitizenship R-T PULOC DropLoc  AlienMasterIDCount  \\\n",
       "MissionDate                                                              \n",
       "2012-04-15               SOMALIA   R  KAEX    HKJK                   9   \n",
       "2012-11-17               SOMALIA   R  KAEX    HKJK                  10   \n",
       "2014-06-03               SOMALIA   R  KMIA    HKJK                   2   \n",
       "2017-01-24               SOMALIA   R  KAEX    HCMM                  90   \n",
       "2017-03-09               SOMALIA   R  KAEX    HCMM                  68   \n",
       "2017-05-11               SOMALIA   R  KAEX    HCMM                  67   \n",
       "2017-05-25               SOMALIA   R  KIWA    HCMM                  50   \n",
       "2017-07-27               SOMALIA   R  KAEX    HCMM                  67   \n",
       "2018-03-29               SOMALIA   R  KELP    HCMM                  68   \n",
       "2018-06-28               SOMALIA   R  KAEX    HCMM                  83   \n",
       "2018-11-29               SOMALIA   R  KELP    HCMM                  66   \n",
       "\n",
       "             MissionIDCount Juveniles JuvPercent  \n",
       "MissionDate                                       \n",
       "2012-04-15                1         0          0  \n",
       "2012-11-17                1         0          0  \n",
       "2014-06-03                1         0          0  \n",
       "2017-01-24                1         0          0  \n",
       "2017-03-09                1         0          0  \n",
       "2017-05-11                1         0          0  \n",
       "2017-05-25                1         0          0  \n",
       "2017-07-27                1         0          0  \n",
       "2018-03-29                1         0          0  \n",
       "2018-06-28                1         0          0  \n",
       "2018-11-29                1         0          0  "
      ]
     },
     "execution_count": 80,
     "metadata": {},
     "output_type": "execute_result"
    }
   ],
   "source": [
    "repatriations.tail(20)"
   ]
  },
  {
   "cell_type": "code",
   "execution_count": 81,
   "metadata": {},
   "outputs": [
    {
     "data": {
      "image/png": "[encoded data removed]",
      "text/plain": [
       "<Figure size 432x288 with 1 Axes>"
      ]
     },
     "metadata": {
      "needs_background": "light"
     },
     "output_type": "display_data"
    }
   ],
   "source": [
    "repatriations['JuvPercent'].plot();"
   ]
  },
  {
   "cell_type": "markdown",
   "metadata": {},
   "source": [
    "# Rate of flights"
   ]
  },
  {
   "cell_type": "markdown",
   "metadata": {},
   "source": [
    "## Global"
   ]
  },
  {
   "cell_type": "code",
   "execution_count": 82,
   "metadata": {},
   "outputs": [],
   "source": [
    "df.reset_index(inplace=True)\n",
    "df.set_index('MissionDate', inplace=True)"
   ]
  },
  {
   "cell_type": "code",
   "execution_count": 83,
   "metadata": {},
   "outputs": [],
   "source": [
    "daily_flights = df['MissionID'].resample('D').nunique()\n",
    "monthly_flights = df['MissionID'].resample('M').nunique()\n",
    "quarterly_flights = df['MissionID'].resample('Q').nunique()\n",
    "annual_flights = df.loc['2011':'2018']['MissionID'].resample('AS').nunique()"
   ]
  },
  {
   "cell_type": "code",
   "execution_count": 84,
   "metadata": {},
   "outputs": [
    {
     "data": {
      "text/plain": [
       "MissionDate\n",
       "2011-01-01    2117\n",
       "2012-01-01    2368\n",
       "2013-01-01    2041\n",
       "2014-01-01    2094\n",
       "2015-01-01    1306\n",
       "2016-01-01    1540\n",
       "2017-01-01    1514\n",
       "2018-01-01    1545\n",
       "Freq: AS-JAN, Name: MissionID, dtype: int64"
      ]
     },
     "execution_count": 84,
     "metadata": {},
     "output_type": "execute_result"
    }
   ],
   "source": [
    "annual_flights"
   ]
  },
  {
   "cell_type": "code",
   "execution_count": 85,
   "metadata": {},
   "outputs": [],
   "source": [
    "monthly_means = pd.DataFrame(columns=['year', 'monthly_mean_flights'])\n",
    "for year in range(2011, 2019):\n",
    "    mean = monthly_flights[f'{year}'].mean()\n",
    "    monthly_means = monthly_means.append({'year':year, 'monthly_mean_flights':mean}, ignore_index=True)"
   ]
  },
  {
   "cell_type": "code",
   "execution_count": 86,
   "metadata": {},
   "outputs": [
    {
     "data": {
      "text/html": [
       "<div>\n",
       "<style scoped>\n",
       "    .dataframe tbody tr th:only-of-type {\n",
       "        vertical-align: middle;\n",
       "    }\n",
       "\n",
       "    .dataframe tbody tr th {\n",
       "        vertical-align: top;\n",
       "    }\n",
       "\n",
       "    .dataframe thead th {\n",
       "        text-align: right;\n",
       "    }\n",
       "</style>\n",
       "<table border=\"1\" class=\"dataframe\">\n",
       "  <thead>\n",
       "    <tr style=\"text-align: right;\">\n",
       "      <th></th>\n",
       "      <th>year</th>\n",
       "      <th>monthly_mean_flights</th>\n",
       "    </tr>\n",
       "  </thead>\n",
       "  <tbody>\n",
       "    <tr>\n",
       "      <th>0</th>\n",
       "      <td>2011.0</td>\n",
       "      <td>176.416667</td>\n",
       "    </tr>\n",
       "    <tr>\n",
       "      <th>1</th>\n",
       "      <td>2012.0</td>\n",
       "      <td>197.333333</td>\n",
       "    </tr>\n",
       "    <tr>\n",
       "      <th>2</th>\n",
       "      <td>2013.0</td>\n",
       "      <td>170.083333</td>\n",
       "    </tr>\n",
       "    <tr>\n",
       "      <th>3</th>\n",
       "      <td>2014.0</td>\n",
       "      <td>174.500000</td>\n",
       "    </tr>\n",
       "    <tr>\n",
       "      <th>4</th>\n",
       "      <td>2015.0</td>\n",
       "      <td>108.833333</td>\n",
       "    </tr>\n",
       "    <tr>\n",
       "      <th>5</th>\n",
       "      <td>2016.0</td>\n",
       "      <td>128.333333</td>\n",
       "    </tr>\n",
       "    <tr>\n",
       "      <th>6</th>\n",
       "      <td>2017.0</td>\n",
       "      <td>126.166667</td>\n",
       "    </tr>\n",
       "    <tr>\n",
       "      <th>7</th>\n",
       "      <td>2018.0</td>\n",
       "      <td>128.750000</td>\n",
       "    </tr>\n",
       "  </tbody>\n",
       "</table>\n",
       "</div>"
      ],
      "text/plain": [
       "     year  monthly_mean_flights\n",
       "0  2011.0            176.416667\n",
       "1  2012.0            197.333333\n",
       "2  2013.0            170.083333\n",
       "3  2014.0            174.500000\n",
       "4  2015.0            108.833333\n",
       "5  2016.0            128.333333\n",
       "6  2017.0            126.166667\n",
       "7  2018.0            128.750000"
      ]
     },
     "execution_count": 86,
     "metadata": {},
     "output_type": "execute_result"
    }
   ],
   "source": [
    "monthly_means"
   ]
  },
  {
   "cell_type": "code",
   "execution_count": null,
   "metadata": {},
   "outputs": [],
   "source": []
  }
 ],
 "metadata": {
  "kernelspec": {
   "display_name": "Python 3",
   "language": "python",
   "name": "python3"
  },
  "language_info": {
   "codemirror_mode": {
    "name": "ipython",
    "version": 3
   },
   "file_extension": ".py",
   "mimetype": "text/x-python",
   "name": "python",
   "nbconvert_exporter": "python",
   "pygments_lexer": "ipython3",
   "version": "3.7.1"
  }
 },
 "nbformat": 4,
 "nbformat_minor": 2
}
