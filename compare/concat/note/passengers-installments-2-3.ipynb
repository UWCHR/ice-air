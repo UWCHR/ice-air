{
 "cells": [
  {
   "cell_type": "code",
   "execution_count": 9,
   "metadata": {},
   "outputs": [],
   "source": [
    "import numpy as np\n",
    "import pandas as pd\n",
    "import yaml"
   ]
  },
  {
   "cell_type": "code",
   "execution_count": 10,
   "metadata": {},
   "outputs": [],
   "source": [
    "with open('../input/passenger-dtypes.yaml', 'r') as yamlfile:\n",
    "    column_types = yaml.load(yamlfile)\n",
    "\n",
    "read_csv_opts = {'sep': '|',\n",
    "                 'quotechar': '\"',\n",
    "                 'compression': 'gzip',\n",
    "                 'encoding': 'utf-8',\n",
    "                 'dtype': column_types,\n",
    "                 'parse_dates': ['MissionDate'],\n",
    "                 'infer_datetime_format': True}\n",
    "\n",
    "df2 = pd.read_csv('../input/ice-air-passengers-2.csv.gz', **read_csv_opts)"
   ]
  },
  {
   "cell_type": "code",
   "execution_count": 11,
   "metadata": {},
   "outputs": [],
   "source": [
    "df3 = pd.read_csv('../input/ice-air-passengers-3.csv.gz', **read_csv_opts)"
   ]
  },
  {
   "cell_type": "code",
   "execution_count": 12,
   "metadata": {},
   "outputs": [
    {
     "name": "stdout",
     "output_type": "stream",
     "text": [
      "<class 'pandas.core.frame.DataFrame'>\n",
      "RangeIndex: 1826402 entries, 0 to 1826401\n",
      "Data columns (total 52 columns):\n",
      " #   Column                        Dtype         \n",
      "---  ------                        -----         \n",
      " 0   ANumber                       category      \n",
      " 1   LastName                      category      \n",
      " 2   FirstName                     category      \n",
      " 3   DOB                           category      \n",
      " 4   Status                        category      \n",
      " 5   Sex                           category      \n",
      " 6   Convictions                   category      \n",
      " 7   GangMember                    category      \n",
      " 8   ClassLvl                      float32       \n",
      " 9   Age                           float32       \n",
      " 10  MissionDate                   datetime64[ns]\n",
      " 11  MissionNumber                 uint32        \n",
      " 12  PULOC                         category      \n",
      " 13  DropLoc                       category      \n",
      " 14  StrikeFromList                float32       \n",
      " 15  ReasonStruck                  category      \n",
      " 16  R-T                           category      \n",
      " 17  Code                          category      \n",
      " 18  CountryOfCitizenship          category      \n",
      " 19  Juvenile                      bool          \n",
      " 20  MissionWeek                   uint8         \n",
      " 21  MissionQuarter                uint8         \n",
      " 22  MissionYear                   uint16        \n",
      " 23  MissionMonth                  uint8         \n",
      " 24  Criminality                   category      \n",
      " 25  FamilyUnitFlag                float32       \n",
      " 26  UnaccompaniedFlag             float32       \n",
      " 27  AlienMasterID                 int64         \n",
      " 28  MissionID                     uint16        \n",
      " 29  air_AirportID                 float32       \n",
      " 30  air_AirportName               category      \n",
      " 31  air_City                      category      \n",
      " 32  st_StateID                    float32       \n",
      " 33  st_StateAbbr                  category      \n",
      " 34  AOR_AORID                     float32       \n",
      " 35  AOR_AOR                       category      \n",
      " 36  AOR_AORName                   category      \n",
      " 37  air_Country                   category      \n",
      " 38  air2_AirportID                float32       \n",
      " 39  air2_AirportName              category      \n",
      " 40  air2_City                     category      \n",
      " 41  st2_StateID                   float32       \n",
      " 42  st2_StateAbbr                 category      \n",
      " 43  aor2_AORID                    float32       \n",
      " 44  aor2_AOR                      category      \n",
      " 45  aor2_AORName                  category      \n",
      " 46  air2_Country                  category      \n",
      " 47  air_LatitudeDecimalDegrees    float64       \n",
      " 48  air_LongitudeDecimalDegrees   float64       \n",
      " 49  air2_LatitudeDecimalDegrees   float64       \n",
      " 50  air2_LongitudeDecimalDegrees  float64       \n",
      " 51  NonCriminal                   bool          \n",
      "dtypes: bool(2), category(27), datetime64[ns](1), float32(11), float64(4), int64(1), uint16(2), uint32(1), uint8(3)\n",
      "memory usage: 242.9 MB\n"
     ]
    }
   ],
   "source": [
    "df2.info()"
   ]
  },
  {
   "cell_type": "code",
   "execution_count": 13,
   "metadata": {},
   "outputs": [
    {
     "name": "stdout",
     "output_type": "stream",
     "text": [
      "<class 'pandas.core.frame.DataFrame'>\n",
      "RangeIndex: 341082 entries, 0 to 341081\n",
      "Data columns (total 52 columns):\n",
      " #   Column                        Non-Null Count   Dtype         \n",
      "---  ------                        --------------   -----         \n",
      " 0   ANumber                       341082 non-null  category      \n",
      " 1   LastName                      341082 non-null  category      \n",
      " 2   FirstName                     341082 non-null  category      \n",
      " 3   DOB                           341082 non-null  category      \n",
      " 4   Status                        341082 non-null  category      \n",
      " 5   Sex                           341079 non-null  category      \n",
      " 6   Convictions                   333163 non-null  category      \n",
      " 7   GangMember                    333003 non-null  category      \n",
      " 8   ClassLvl                      68 non-null      float32       \n",
      " 9   Age                           340883 non-null  float32       \n",
      " 10  MissionDate                   341082 non-null  datetime64[ns]\n",
      " 11  MissionNumber                 341082 non-null  uint32        \n",
      " 12  PULOC                         341082 non-null  category      \n",
      " 13  DropLoc                       341082 non-null  category      \n",
      " 14  StrikeFromList                0 non-null       float32       \n",
      " 15  ReasonStruck                  28 non-null      category      \n",
      " 16  R-T                           341082 non-null  category      \n",
      " 17  Code                          341075 non-null  category      \n",
      " 18  CountryOfCitizenship          341082 non-null  category      \n",
      " 19  Juvenile                      341082 non-null  bool          \n",
      " 20  MissionWeek                   341082 non-null  uint8         \n",
      " 21  MissionQuarter                341082 non-null  uint8         \n",
      " 22  MissionYear                   341082 non-null  uint16        \n",
      " 23  MissionMonth                  341082 non-null  uint8         \n",
      " 24  Criminality                   341050 non-null  category      \n",
      " 25  FamilyUnitFlag                0 non-null       float32       \n",
      " 26  UnaccompaniedFlag             0 non-null       float32       \n",
      " 27  AlienMasterID                 341082 non-null  int64         \n",
      " 28  MissionID                     341082 non-null  uint16        \n",
      " 29  air_AirportID                 341082 non-null  float32       \n",
      " 30  air_AirportName               341082 non-null  category      \n",
      " 31  air_City                      341082 non-null  category      \n",
      " 32  st_StateID                    338749 non-null  float32       \n",
      " 33  st_StateAbbr                  338749 non-null  category      \n",
      " 34  AOR_AORID                     334894 non-null  float32       \n",
      " 35  AOR_AOR                       334894 non-null  category      \n",
      " 36  AOR_AORName                   334894 non-null  category      \n",
      " 37  air_Country                   341082 non-null  category      \n",
      " 38  air2_AirportID                341082 non-null  float32       \n",
      " 39  air2_AirportName              341082 non-null  category      \n",
      " 40  air2_City                     340249 non-null  category      \n",
      " 41  st2_StateID                   151188 non-null  float32       \n",
      " 42  st2_StateAbbr                 151188 non-null  category      \n",
      " 43  aor2_AORID                    144979 non-null  float32       \n",
      " 44  aor2_AOR                      144979 non-null  category      \n",
      " 45  aor2_AORName                  144979 non-null  category      \n",
      " 46  air2_Country                  341082 non-null  category      \n",
      " 47  air_LatitudeDecimalDegrees    340953 non-null  float64       \n",
      " 48  air_LongitudeDecimalDegrees   340953 non-null  float64       \n",
      " 49  air2_LatitudeDecimalDegrees   334891 non-null  float64       \n",
      " 50  air2_LongitudeDecimalDegrees  334891 non-null  float64       \n",
      " 51  NonCriminal                   341082 non-null  bool          \n",
      "dtypes: bool(2), category(27), datetime64[ns](1), float32(11), float64(4), int64(1), uint16(2), uint32(1), uint8(3)\n",
      "memory usage: 43.6 MB\n"
     ]
    }
   ],
   "source": [
    "df3.info()"
   ]
  },
  {
   "cell_type": "code",
   "execution_count": 14,
   "metadata": {},
   "outputs": [
    {
     "name": "stderr",
     "output_type": "stream",
     "text": [
      "/Users/philneff/anaconda3/lib/python3.7/site-packages/ipykernel_launcher.py:1: FutureWarning: Treating datetime data as categorical rather than numeric in `.describe` is deprecated and will be removed in a future version of pandas. Specify `datetime_is_numeric=True` to silence this warning and adopt the future behavior now.\n",
      "  \"\"\"Entry point for launching an IPython kernel.\n"
     ]
    },
    {
     "data": {
      "text/plain": [
       "count                 1826402\n",
       "unique                   2530\n",
       "top       2019-04-12 00:00:00\n",
       "freq                     1532\n",
       "first     2010-10-01 00:00:00\n",
       "last      2019-05-04 00:00:00\n",
       "Name: MissionDate, dtype: object"
      ]
     },
     "execution_count": 14,
     "metadata": {},
     "output_type": "execute_result"
    }
   ],
   "source": [
    "df2['MissionDate'].describe()"
   ]
  },
  {
   "cell_type": "code",
   "execution_count": 15,
   "metadata": {},
   "outputs": [
    {
     "data": {
      "text/plain": [
       "110001"
      ]
     },
     "execution_count": 15,
     "metadata": {},
     "output_type": "execute_result"
    }
   ],
   "source": [
    "df2['MissionNumber'].min()"
   ]
  },
  {
   "cell_type": "code",
   "execution_count": 16,
   "metadata": {},
   "outputs": [
    {
     "data": {
      "text/plain": [
       "191228"
      ]
     },
     "execution_count": 16,
     "metadata": {},
     "output_type": "execute_result"
    }
   ],
   "source": [
    "df2['MissionNumber'].max()"
   ]
  },
  {
   "cell_type": "code",
   "execution_count": 17,
   "metadata": {},
   "outputs": [
    {
     "data": {
      "text/plain": [
       "15735"
      ]
     },
     "execution_count": 17,
     "metadata": {},
     "output_type": "execute_result"
    }
   ],
   "source": [
    "len(set(df2['MissionNumber']))"
   ]
  },
  {
   "cell_type": "code",
   "execution_count": 18,
   "metadata": {},
   "outputs": [
    {
     "name": "stderr",
     "output_type": "stream",
     "text": [
      "/Users/philneff/anaconda3/lib/python3.7/site-packages/ipykernel_launcher.py:1: FutureWarning: Treating datetime data as categorical rather than numeric in `.describe` is deprecated and will be removed in a future version of pandas. Specify `datetime_is_numeric=True` to silence this warning and adopt the future behavior now.\n",
      "  \"\"\"Entry point for launching an IPython kernel.\n"
     ]
    },
    {
     "data": {
      "text/plain": [
       "count                  341082\n",
       "unique                    483\n",
       "top       2019-04-12 00:00:00\n",
       "freq                     1532\n",
       "first     2018-10-01 00:00:00\n",
       "last      2020-05-08 00:00:00\n",
       "Name: MissionDate, dtype: object"
      ]
     },
     "execution_count": 18,
     "metadata": {},
     "output_type": "execute_result"
    }
   ],
   "source": [
    "df3['MissionDate'].describe()"
   ]
  },
  {
   "cell_type": "code",
   "execution_count": 19,
   "metadata": {},
   "outputs": [
    {
     "data": {
      "text/plain": [
       "2965"
      ]
     },
     "execution_count": 19,
     "metadata": {},
     "output_type": "execute_result"
    }
   ],
   "source": [
    "len(set(df3['MissionNumber']))"
   ]
  },
  {
   "cell_type": "code",
   "execution_count": 20,
   "metadata": {},
   "outputs": [],
   "source": [
    "df2 = df2.loc[df2['MissionNumber'] < df3['MissionNumber'].min()]"
   ]
  },
  {
   "cell_type": "code",
   "execution_count": 21,
   "metadata": {},
   "outputs": [
    {
     "data": {
      "text/plain": [
       "14651"
      ]
     },
     "execution_count": 21,
     "metadata": {},
     "output_type": "execute_result"
    }
   ],
   "source": [
    "len(set(df2['MissionNumber']))"
   ]
  },
  {
   "cell_type": "code",
   "execution_count": 22,
   "metadata": {},
   "outputs": [],
   "source": [
    "df = pd.concat([df2, df3])"
   ]
  },
  {
   "cell_type": "code",
   "execution_count": 23,
   "metadata": {},
   "outputs": [
    {
     "data": {
      "text/plain": [
       "17616"
      ]
     },
     "execution_count": 23,
     "metadata": {},
     "output_type": "execute_result"
    }
   ],
   "source": [
    "len(set(df['MissionNumber']))"
   ]
  },
  {
   "cell_type": "code",
   "execution_count": 24,
   "metadata": {},
   "outputs": [
    {
     "name": "stdout",
     "output_type": "stream",
     "text": [
      "<class 'pandas.core.frame.DataFrame'>\n",
      "Int64Index: 2036458 entries, 0 to 341081\n",
      "Data columns (total 52 columns):\n",
      " #   Column                        Dtype         \n",
      "---  ------                        -----         \n",
      " 0   ANumber                       category      \n",
      " 1   LastName                      category      \n",
      " 2   FirstName                     category      \n",
      " 3   DOB                           category      \n",
      " 4   Status                        object        \n",
      " 5   Sex                           category      \n",
      " 6   Convictions                   object        \n",
      " 7   GangMember                    object        \n",
      " 8   ClassLvl                      float32       \n",
      " 9   Age                           float32       \n",
      " 10  MissionDate                   datetime64[ns]\n",
      " 11  MissionNumber                 uint32        \n",
      " 12  PULOC                         object        \n",
      " 13  DropLoc                       object        \n",
      " 14  StrikeFromList                float32       \n",
      " 15  ReasonStruck                  object        \n",
      " 16  R-T                           object        \n",
      " 17  Code                          object        \n",
      " 18  CountryOfCitizenship          object        \n",
      " 19  Juvenile                      bool          \n",
      " 20  MissionWeek                   uint8         \n",
      " 21  MissionQuarter                uint8         \n",
      " 22  MissionYear                   uint16        \n",
      " 23  MissionMonth                  uint8         \n",
      " 24  Criminality                   category      \n",
      " 25  FamilyUnitFlag                float32       \n",
      " 26  UnaccompaniedFlag             float32       \n",
      " 27  AlienMasterID                 int64         \n",
      " 28  MissionID                     uint16        \n",
      " 29  air_AirportID                 float32       \n",
      " 30  air_AirportName               object        \n",
      " 31  air_City                      object        \n",
      " 32  st_StateID                    float32       \n",
      " 33  st_StateAbbr                  object        \n",
      " 34  AOR_AORID                     float32       \n",
      " 35  AOR_AOR                       object        \n",
      " 36  AOR_AORName                   object        \n",
      " 37  air_Country                   object        \n",
      " 38  air2_AirportID                float32       \n",
      " 39  air2_AirportName              object        \n",
      " 40  air2_City                     object        \n",
      " 41  st2_StateID                   float32       \n",
      " 42  st2_StateAbbr                 object        \n",
      " 43  aor2_AORID                    float32       \n",
      " 44  aor2_AOR                      object        \n",
      " 45  aor2_AORName                  object        \n",
      " 46  air2_Country                  object        \n",
      " 47  air_LatitudeDecimalDegrees    float64       \n",
      " 48  air_LongitudeDecimalDegrees   float64       \n",
      " 49  air2_LatitudeDecimalDegrees   float64       \n",
      " 50  air2_LongitudeDecimalDegrees  float64       \n",
      " 51  NonCriminal                   bool          \n",
      "dtypes: bool(2), category(6), datetime64[ns](1), float32(11), float64(4), int64(1), object(21), uint16(2), uint32(1), uint8(3)\n",
      "memory usage: 557.4+ MB\n"
     ]
    }
   ],
   "source": [
    "df.info()"
   ]
  },
  {
   "cell_type": "code",
   "execution_count": 25,
   "metadata": {},
   "outputs": [],
   "source": [
    "repl = {'REMOVAL': 'R',\n",
    " 'TRANSFER': 'T'}\n",
    "\n",
    "df['R-T'] = df['R-T'].str.upper()\n",
    "df['R-T'] = df['R-T'].replace(repl)\n",
    "\n",
    "removals = df['R-T'] == 'R'\n",
    "transfers = df['R-T'] == 'T'\n",
    "\n",
    "status_count = df[removals]['Status'].str.upper().value_counts(dropna=False)\n",
    "\n",
    "status = pd.read_csv('../../../share/resources/status.csv')\n",
    "\n",
    "valid_status_codes = list(status['Code'])\n",
    "\n",
    "status_dict = dict(zip(status['Code'], status['Status']))\n",
    "\n",
    "pending = ['2A', '2B', '8A', '8B', '8D']\n",
    "benefit = ['5C', '5D']\n",
    "expedited_admin_rein = ['8F', '8G', '8H', '8I', '11', '16']\n",
    "problematic = pending + benefit + expedited_admin_rein"
   ]
  },
  {
   "cell_type": "code",
   "execution_count": 26,
   "metadata": {
    "scrolled": true
   },
   "outputs": [
    {
     "name": "stdout",
     "output_type": "stream",
     "text": [
      "ICE Air - All removals\n",
      "\n",
      "ICE status codes for passengers on direct removal flights.\n",
      "(Statuses which may raise due process concerns starred)\n",
      "\n",
      "1043531 valid values.\n",
      "396374 invalid values.\n",
      "\n",
      "[1A]: 55172 (Voluntary Departure – Un-Expired and Un-Extended Voluntary Departure.)\n",
      "[1B]: 291 (Voluntary Departure - Extended Departure Period)\n",
      "[1C]: 8 (Exipred Voluntary Departure Period - Referred to Investigation)\n",
      "[2A]: *2609* (Deportable – Under Adjudication by IJ)\n",
      "[2B]: *115* (Deportable – Under Adjudication by BIA)\n",
      "[3]: 26714 (Deportable – Administratively Final Order)\n",
      "[5A]: 16 (Referred for Investigation - No Show for Hearing - No Final O...)\n",
      "[5B]: 918 (Removable – ICE Fugitive)\n",
      "[5C]: *17* (Relief Granted – Withholding of Deportation/Removal)\n",
      "[5D]: *100* (Final Order of Deportation/Removal – Deferred Action Granted.)\n",
      "[5E]: 66 (Relief Granted – Extended Voluntary Departure)\n",
      "[5F]: 70 (Unable to Obtain Travel Document)\n",
      "[8A]: *2254* (Excludable/Inadmissible – Hearing Not Commenced)\n",
      "[8B]: *5636* (Excludable/Inadmissible – Under Adjudication by an Immigration Judge.)\n",
      "[8C]: 159475 (Excludable/Inadmissible – Administrative Final Order Issued.)\n",
      "[8D]: *309* (Excludable/Inadmissible – Under Adjudication by BIA)\n",
      "[8E]: 5185 (Inadmissible – ICE Fugitive)\n",
      "[8F]: *322264* (Expedited Removal)\n",
      "[8G]: *71456* (Expedited Removal – Credible Fear Referral)\n",
      "[8H]: *2389* (Expedited Removal – Status Claim Referral)\n",
      "[8I]: *1139* (Inadmissible – ICE Fugitive – Expedited Removal)\n",
      "[9]: 2625 (VR Under Safeguards)\n",
      "[10]: 137 (Visa Waiver Deportation/Removal)\n",
      "[11]: *22067* (Administrative Deportation/Removal)\n",
      "[12]: 3083 (Judicial Deportation / Removal)\n",
      "[13]: 20 (Section 250 Removal)\n",
      "[14]: 96 (Crewman, Stowaways, S-Visa Holders, 235 (c) cases)\n",
      "[15]: 87 (Terrorist Court Case (Title 5))\n",
      "[16]: *359213* (Reinstated Final Order)\n",
      "\n",
      "789568 total problematic cases.\n",
      "10923 with pending appeals.\n",
      "117 with benefit blocking deportation.\n",
      "778528 under expedited, administrative, reinstatement of removal.\n"
     ]
    }
   ],
   "source": [
    "problematic_count = 0\n",
    "valid = df[removals]['Status'].str.upper().isin(valid_status_codes)\n",
    "valid_count = sum(valid)\n",
    "invalid = ~df[removals]['Status'].str.upper().isin(valid_status_codes)\n",
    "invalid_count = sum(invalid)\n",
    "\n",
    "print(f'ICE Air - All removals')\n",
    "print()\n",
    "print(f'ICE status codes for passengers on direct removal flights.')\n",
    "print(f'(Statuses which may raise due process concerns starred)')\n",
    "print()\n",
    "print(f'{valid_count} valid values.')\n",
    "print(f'{invalid_count} invalid values.')\n",
    "print()\n",
    "for c in valid_status_codes:\n",
    "    \n",
    "    try:\n",
    "        count = status_count[c]\n",
    "    except KeyError:\n",
    "        count = 0\n",
    "    \n",
    "    if c in problematic:\n",
    "        problematic_count = problematic_count + count\n",
    "        print(f'[{c}]: *{count}* ({status_dict[c]})')\n",
    "    else:\n",
    "        print(f'[{c}]: {count} ({status_dict[c]})')\n",
    "        \n",
    "#assert sum(df[removals]['Status'].isin(problematic)) == problematic_count\n",
    "print()\n",
    "print(f'{problematic_count} total problematic cases.')\n",
    "print(f\"{sum(df.loc[removals, 'Status'].isin(pending))} with pending appeals.\")\n",
    "print(f\"{sum(df.loc[removals, 'Status'].isin(benefit))} with benefit blocking deportation.\")\n",
    "print(f\"{sum(df.loc[removals, 'Status'].isin(expedited_admin_rein))} under expedited, administrative, reinstatement of removal.\")"
   ]
  },
  {
   "cell_type": "code",
   "execution_count": 27,
   "metadata": {},
   "outputs": [
    {
     "name": "stderr",
     "output_type": "stream",
     "text": [
      "/Users/philneff/anaconda3/lib/python3.7/site-packages/ipykernel_launcher.py:1: FutureWarning: Treating datetime data as categorical rather than numeric in `.describe` is deprecated and will be removed in a future version of pandas. Specify `datetime_is_numeric=True` to silence this warning and adopt the future behavior now.\n",
      "  \"\"\"Entry point for launching an IPython kernel.\n"
     ]
    },
    {
     "data": {
      "text/plain": [
       "count                 2036458\n",
       "unique                   2840\n",
       "top       2019-04-12 00:00:00\n",
       "freq                     1532\n",
       "first     2010-10-01 00:00:00\n",
       "last      2020-05-08 00:00:00\n",
       "Name: MissionDate, dtype: object"
      ]
     },
     "execution_count": 27,
     "metadata": {},
     "output_type": "execute_result"
    }
   ],
   "source": [
    "df['MissionDate'].describe()"
   ]
  },
  {
   "cell_type": "code",
   "execution_count": 28,
   "metadata": {},
   "outputs": [
    {
     "data": {
      "text/plain": [
       "17616"
      ]
     },
     "execution_count": 28,
     "metadata": {},
     "output_type": "execute_result"
    }
   ],
   "source": [
    "len(set(df['MissionNumber']))"
   ]
  },
  {
   "cell_type": "code",
   "execution_count": null,
   "metadata": {},
   "outputs": [],
   "source": []
  }
 ],
 "metadata": {
  "kernelspec": {
   "display_name": "Python 3",
   "language": "python",
   "name": "python3"
  },
  "language_info": {
   "codemirror_mode": {
    "name": "ipython",
    "version": 3
   },
   "file_extension": ".py",
   "mimetype": "text/x-python",
   "name": "python",
   "nbconvert_exporter": "python",
   "pygments_lexer": "ipython3",
   "version": "3.7.1"
  }
 },
 "nbformat": 4,
 "nbformat_minor": 2
}
