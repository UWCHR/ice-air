{
 "cells": [
  {
   "cell_type": "code",
   "execution_count": 1,
   "metadata": {},
   "outputs": [],
   "source": [
    "import numpy as np\n",
    "import pandas as pd\n",
    "import yaml\n",
    "import matplotlib.pyplot as plt\n",
    "import matplotlib.mlab as mlab\n",
    "import seaborn as sns\n",
    "\n",
    "%matplotlib inline\n",
    "plt.rcParams['figure.figsize'] = (8, 6)"
   ]
  },
  {
   "cell_type": "markdown",
   "metadata": {},
   "source": [
    "# Reading and optimizing input files\n",
    "\n",
    "First we open a list of data types used in reading files, then we concatenate files and check memory usage."
   ]
  },
  {
   "cell_type": "code",
   "execution_count": 2,
   "metadata": {},
   "outputs": [],
   "source": [
    "with open('../input/dtypes.yaml', 'r') as yamlfile:\n",
    "    column_types = yaml.load(yamlfile)"
   ]
  },
  {
   "cell_type": "code",
   "execution_count": 3,
   "metadata": {},
   "outputs": [],
   "source": [
    "read_csv_opts = {'sep': '|',\n",
    "                 'quotechar': '\"',\n",
    "                 'compression': 'gzip',\n",
    "                 'encoding': 'utf-8',\n",
    "                 'dtype': column_types,\n",
    "                 'parse_dates': ['MissionDate'],\n",
    "                 'infer_datetime_format': True}"
   ]
  },
  {
   "cell_type": "code",
   "execution_count": 4,
   "metadata": {},
   "outputs": [],
   "source": [
    "arts_fy11 = pd.read_csv('../input/ARTS_Passenger_Data_FY11.csv.gz', **read_csv_opts)\n",
    "arts_fy12 = pd.read_csv('../input/ARTS_Passenger_Data_FY12.csv.gz', **read_csv_opts)\n",
    "arts_fy13 = pd.read_csv('../input/ARTS_Passenger_Data_FY13.csv.gz', **read_csv_opts)\n",
    "arts_fy14 = pd.read_csv('../input/ARTS_Passenger_Data_FY14.csv.gz', **read_csv_opts)\n",
    "arts_fy15 = pd.read_csv('../input/ARTS_Passenger_Data_FY15.csv.gz', **read_csv_opts)\n",
    "arts_fy16 = pd.read_csv('../input/ARTS_Passenger_Data_FY16.csv.gz', **read_csv_opts)\n",
    "arts_fy17 = pd.read_csv('../input/ARTS_Passenger_Data_FY17.csv.gz', **read_csv_opts)\n",
    "arts_fy18 = pd.read_csv('../input/ARTS_Passenger_Data_FY18.csv.gz', **read_csv_opts)\n",
    "arts_fy19 = pd.read_csv('../input/ARTS_Passenger_Data_FY19.csv.gz', **read_csv_opts)"
   ]
  },
  {
   "cell_type": "code",
   "execution_count": 5,
   "metadata": {},
   "outputs": [
    {
     "data": {
      "text/html": [
       "<div>\n",
       "<style scoped>\n",
       "    .dataframe tbody tr th:only-of-type {\n",
       "        vertical-align: middle;\n",
       "    }\n",
       "\n",
       "    .dataframe tbody tr th {\n",
       "        vertical-align: top;\n",
       "    }\n",
       "\n",
       "    .dataframe thead th {\n",
       "        text-align: right;\n",
       "    }\n",
       "</style>\n",
       "<table border=\"1\" class=\"dataframe\">\n",
       "  <thead>\n",
       "    <tr style=\"text-align: right;\">\n",
       "      <th></th>\n",
       "      <th>Status</th>\n",
       "      <th>Sex</th>\n",
       "      <th>Convictions</th>\n",
       "      <th>GangMember</th>\n",
       "      <th>ClassLvl</th>\n",
       "      <th>Age</th>\n",
       "      <th>MissionDate</th>\n",
       "      <th>MissionNumber</th>\n",
       "      <th>PULOC</th>\n",
       "      <th>DropLoc</th>\n",
       "      <th>...</th>\n",
       "      <th>air_Country</th>\n",
       "      <th>air2_AirportID</th>\n",
       "      <th>air2_AirportName</th>\n",
       "      <th>air2_City</th>\n",
       "      <th>st2_StateID</th>\n",
       "      <th>st2_StateAbbr</th>\n",
       "      <th>aor2_AORID</th>\n",
       "      <th>aor2_AOR</th>\n",
       "      <th>aor2_AORName</th>\n",
       "      <th>air2_Country</th>\n",
       "    </tr>\n",
       "  </thead>\n",
       "  <tbody>\n",
       "    <tr>\n",
       "      <th>0</th>\n",
       "      <td>Removal</td>\n",
       "      <td>MALE</td>\n",
       "      <td>Non-Criminal</td>\n",
       "      <td>No</td>\n",
       "      <td>1.0</td>\n",
       "      <td>18.0</td>\n",
       "      <td>2010-10-01</td>\n",
       "      <td>110003</td>\n",
       "      <td>KIWA</td>\n",
       "      <td>MGGT</td>\n",
       "      <td>...</td>\n",
       "      <td>USA</td>\n",
       "      <td>149.0</td>\n",
       "      <td>La Aurora Airport</td>\n",
       "      <td>Guatemala City</td>\n",
       "      <td>NaN</td>\n",
       "      <td>NaN</td>\n",
       "      <td>NaN</td>\n",
       "      <td>NaN</td>\n",
       "      <td>NaN</td>\n",
       "      <td>Guatemala</td>\n",
       "    </tr>\n",
       "    <tr>\n",
       "      <th>1</th>\n",
       "      <td>Removal</td>\n",
       "      <td>MALE</td>\n",
       "      <td>Non-Criminal</td>\n",
       "      <td>No</td>\n",
       "      <td>1.0</td>\n",
       "      <td>38.0</td>\n",
       "      <td>2010-10-01</td>\n",
       "      <td>110003</td>\n",
       "      <td>KIWA</td>\n",
       "      <td>MGGT</td>\n",
       "      <td>...</td>\n",
       "      <td>USA</td>\n",
       "      <td>149.0</td>\n",
       "      <td>La Aurora Airport</td>\n",
       "      <td>Guatemala City</td>\n",
       "      <td>NaN</td>\n",
       "      <td>NaN</td>\n",
       "      <td>NaN</td>\n",
       "      <td>NaN</td>\n",
       "      <td>NaN</td>\n",
       "      <td>Guatemala</td>\n",
       "    </tr>\n",
       "    <tr>\n",
       "      <th>2</th>\n",
       "      <td>Removal</td>\n",
       "      <td>MALE</td>\n",
       "      <td>Non-Criminal</td>\n",
       "      <td>No</td>\n",
       "      <td>1.0</td>\n",
       "      <td>20.0</td>\n",
       "      <td>2010-10-01</td>\n",
       "      <td>110003</td>\n",
       "      <td>KIWA</td>\n",
       "      <td>MGGT</td>\n",
       "      <td>...</td>\n",
       "      <td>USA</td>\n",
       "      <td>149.0</td>\n",
       "      <td>La Aurora Airport</td>\n",
       "      <td>Guatemala City</td>\n",
       "      <td>NaN</td>\n",
       "      <td>NaN</td>\n",
       "      <td>NaN</td>\n",
       "      <td>NaN</td>\n",
       "      <td>NaN</td>\n",
       "      <td>Guatemala</td>\n",
       "    </tr>\n",
       "    <tr>\n",
       "      <th>3</th>\n",
       "      <td>Removal</td>\n",
       "      <td>MALE</td>\n",
       "      <td>Non-Criminal</td>\n",
       "      <td>No</td>\n",
       "      <td>1.0</td>\n",
       "      <td>29.0</td>\n",
       "      <td>2010-10-01</td>\n",
       "      <td>110003</td>\n",
       "      <td>KIWA</td>\n",
       "      <td>MGGT</td>\n",
       "      <td>...</td>\n",
       "      <td>USA</td>\n",
       "      <td>149.0</td>\n",
       "      <td>La Aurora Airport</td>\n",
       "      <td>Guatemala City</td>\n",
       "      <td>NaN</td>\n",
       "      <td>NaN</td>\n",
       "      <td>NaN</td>\n",
       "      <td>NaN</td>\n",
       "      <td>NaN</td>\n",
       "      <td>Guatemala</td>\n",
       "    </tr>\n",
       "    <tr>\n",
       "      <th>4</th>\n",
       "      <td>Removal</td>\n",
       "      <td>MALE</td>\n",
       "      <td>Non-Criminal</td>\n",
       "      <td>No</td>\n",
       "      <td>1.0</td>\n",
       "      <td>21.0</td>\n",
       "      <td>2010-10-01</td>\n",
       "      <td>110003</td>\n",
       "      <td>KIWA</td>\n",
       "      <td>MGGT</td>\n",
       "      <td>...</td>\n",
       "      <td>USA</td>\n",
       "      <td>149.0</td>\n",
       "      <td>La Aurora Airport</td>\n",
       "      <td>Guatemala City</td>\n",
       "      <td>NaN</td>\n",
       "      <td>NaN</td>\n",
       "      <td>NaN</td>\n",
       "      <td>NaN</td>\n",
       "      <td>NaN</td>\n",
       "      <td>Guatemala</td>\n",
       "    </tr>\n",
       "  </tbody>\n",
       "</table>\n",
       "<p>5 rows × 43 columns</p>\n",
       "</div>"
      ],
      "text/plain": [
       "    Status   Sex   Convictions GangMember  ClassLvl   Age MissionDate  \\\n",
       "0  Removal  MALE  Non-Criminal         No       1.0  18.0  2010-10-01   \n",
       "1  Removal  MALE  Non-Criminal         No       1.0  38.0  2010-10-01   \n",
       "2  Removal  MALE  Non-Criminal         No       1.0  20.0  2010-10-01   \n",
       "3  Removal  MALE  Non-Criminal         No       1.0  29.0  2010-10-01   \n",
       "4  Removal  MALE  Non-Criminal         No       1.0  21.0  2010-10-01   \n",
       "\n",
       "   MissionNumber PULOC DropLoc      ...       air_Country air2_AirportID  \\\n",
       "0         110003  KIWA    MGGT      ...               USA          149.0   \n",
       "1         110003  KIWA    MGGT      ...               USA          149.0   \n",
       "2         110003  KIWA    MGGT      ...               USA          149.0   \n",
       "3         110003  KIWA    MGGT      ...               USA          149.0   \n",
       "4         110003  KIWA    MGGT      ...               USA          149.0   \n",
       "\n",
       "    air2_AirportName       air2_City st2_StateID st2_StateAbbr  aor2_AORID  \\\n",
       "0  La Aurora Airport  Guatemala City         NaN           NaN         NaN   \n",
       "1  La Aurora Airport  Guatemala City         NaN           NaN         NaN   \n",
       "2  La Aurora Airport  Guatemala City         NaN           NaN         NaN   \n",
       "3  La Aurora Airport  Guatemala City         NaN           NaN         NaN   \n",
       "4  La Aurora Airport  Guatemala City         NaN           NaN         NaN   \n",
       "\n",
       "   aor2_AOR  aor2_AORName  air2_Country  \n",
       "0       NaN           NaN     Guatemala  \n",
       "1       NaN           NaN     Guatemala  \n",
       "2       NaN           NaN     Guatemala  \n",
       "3       NaN           NaN     Guatemala  \n",
       "4       NaN           NaN     Guatemala  \n",
       "\n",
       "[5 rows x 43 columns]"
      ]
     },
     "execution_count": 5,
     "metadata": {},
     "output_type": "execute_result"
    }
   ],
   "source": [
    "arts_fy11.head()"
   ]
  },
  {
   "cell_type": "code",
   "execution_count": 6,
   "metadata": {},
   "outputs": [],
   "source": [
    "files = [arts_fy11,\n",
    "         arts_fy12,\n",
    "         arts_fy13,\n",
    "         arts_fy14,\n",
    "         arts_fy15,\n",
    "         arts_fy16,\n",
    "         arts_fy17,\n",
    "         arts_fy18,\n",
    "         arts_fy19]"
   ]
  },
  {
   "cell_type": "code",
   "execution_count": 7,
   "metadata": {},
   "outputs": [],
   "source": [
    "# Concatenating DataFrames converts 'category' columns back to 'object' when new values introduced\n",
    "df = pd.concat(files)"
   ]
  },
  {
   "cell_type": "code",
   "execution_count": 8,
   "metadata": {},
   "outputs": [],
   "source": [
    "df_obj = df.select_dtypes(include=['object']).copy()"
   ]
  },
  {
   "cell_type": "code",
   "execution_count": 9,
   "metadata": {},
   "outputs": [],
   "source": [
    "converted_obj = pd.DataFrame()\n",
    "\n",
    "for col in df_obj.columns:\n",
    "    num_unique_values = len(df_obj[col].unique())\n",
    "    num_total_values = len(df_obj[col])\n",
    "    if num_unique_values / num_total_values < 0.5:\n",
    "        converted_obj.loc[:,col] = df_obj[col].astype('category')\n",
    "    else:\n",
    "        converted_obj.loc[:,col] = df_obj[col]"
   ]
  },
  {
   "cell_type": "code",
   "execution_count": 10,
   "metadata": {},
   "outputs": [],
   "source": [
    "df[converted_obj.columns] = converted_obj"
   ]
  },
  {
   "cell_type": "code",
   "execution_count": 11,
   "metadata": {},
   "outputs": [],
   "source": [
    "# df = df.drop(['index'], axis=1)"
   ]
  },
  {
   "cell_type": "markdown",
   "metadata": {},
   "source": [
    "# Analyze"
   ]
  },
  {
   "cell_type": "code",
   "execution_count": 12,
   "metadata": {},
   "outputs": [
    {
     "name": "stdout",
     "output_type": "stream",
     "text": [
      "<class 'pandas.core.frame.DataFrame'>\n",
      "Int64Index: 1763020 entries, 0 to 37258\n",
      "Data columns (total 43 columns):\n",
      "Status                  category\n",
      "Sex                     category\n",
      "Convictions             category\n",
      "GangMember              category\n",
      "ClassLvl                float32\n",
      "Age                     float32\n",
      "MissionDate             datetime64[ns]\n",
      "MissionNumber           uint32\n",
      "PULOC                   category\n",
      "DropLoc                 category\n",
      "StrikeFromList          float32\n",
      "ReasonStruck            category\n",
      "R-T                     category\n",
      "Code                    category\n",
      "CountryOfCitizenship    category\n",
      "Juvenile                category\n",
      "MissionWeek             uint8\n",
      "MissionQuarter          uint8\n",
      "MissionYear             uint16\n",
      "MissionMonth            uint8\n",
      "Criminality             category\n",
      "FamilyUnitFlag          float32\n",
      "UnaccompaniedFlag       float32\n",
      "AlienMasterID           uint32\n",
      "MissionID               uint16\n",
      "air_AirportID           float32\n",
      "air_AirportName         category\n",
      "air_City                category\n",
      "st_StateID              float32\n",
      "st_StateAbbr            category\n",
      "AOR_AORID               float32\n",
      "AOR_AOR                 category\n",
      "AOR_AORName             category\n",
      "air_Country             category\n",
      "air2_AirportID          float32\n",
      "air2_AirportName        category\n",
      "air2_City               category\n",
      "st2_StateID             float32\n",
      "st2_StateAbbr           category\n",
      "aor2_AORID              float32\n",
      "aor2_AOR                category\n",
      "aor2_AORName            category\n",
      "air2_Country            category\n",
      "dtypes: category(24), datetime64[ns](1), float32(11), uint16(2), uint32(2), uint8(3)\n",
      "memory usage: 180.8 MB\n"
     ]
    }
   ],
   "source": [
    "df.info()"
   ]
  },
  {
   "cell_type": "code",
   "execution_count": 13,
   "metadata": {},
   "outputs": [
    {
     "data": {
      "text/html": [
       "<div>\n",
       "<style scoped>\n",
       "    .dataframe tbody tr th:only-of-type {\n",
       "        vertical-align: middle;\n",
       "    }\n",
       "\n",
       "    .dataframe tbody tr th {\n",
       "        vertical-align: top;\n",
       "    }\n",
       "\n",
       "    .dataframe thead th {\n",
       "        text-align: right;\n",
       "    }\n",
       "</style>\n",
       "<table border=\"1\" class=\"dataframe\">\n",
       "  <thead>\n",
       "    <tr style=\"text-align: right;\">\n",
       "      <th></th>\n",
       "      <th>Status</th>\n",
       "      <th>Sex</th>\n",
       "      <th>Convictions</th>\n",
       "      <th>GangMember</th>\n",
       "      <th>ClassLvl</th>\n",
       "      <th>Age</th>\n",
       "      <th>MissionDate</th>\n",
       "      <th>MissionNumber</th>\n",
       "      <th>PULOC</th>\n",
       "      <th>DropLoc</th>\n",
       "      <th>...</th>\n",
       "      <th>air_Country</th>\n",
       "      <th>air2_AirportID</th>\n",
       "      <th>air2_AirportName</th>\n",
       "      <th>air2_City</th>\n",
       "      <th>st2_StateID</th>\n",
       "      <th>st2_StateAbbr</th>\n",
       "      <th>aor2_AORID</th>\n",
       "      <th>aor2_AOR</th>\n",
       "      <th>aor2_AORName</th>\n",
       "      <th>air2_Country</th>\n",
       "    </tr>\n",
       "  </thead>\n",
       "  <tbody>\n",
       "    <tr>\n",
       "      <th>0</th>\n",
       "      <td>Removal</td>\n",
       "      <td>MALE</td>\n",
       "      <td>Non-Criminal</td>\n",
       "      <td>No</td>\n",
       "      <td>1.0</td>\n",
       "      <td>18.0</td>\n",
       "      <td>2010-10-01</td>\n",
       "      <td>110003</td>\n",
       "      <td>KIWA</td>\n",
       "      <td>MGGT</td>\n",
       "      <td>...</td>\n",
       "      <td>USA</td>\n",
       "      <td>149.0</td>\n",
       "      <td>La Aurora Airport</td>\n",
       "      <td>Guatemala City</td>\n",
       "      <td>NaN</td>\n",
       "      <td>NaN</td>\n",
       "      <td>NaN</td>\n",
       "      <td>NaN</td>\n",
       "      <td>NaN</td>\n",
       "      <td>Guatemala</td>\n",
       "    </tr>\n",
       "    <tr>\n",
       "      <th>1</th>\n",
       "      <td>Removal</td>\n",
       "      <td>MALE</td>\n",
       "      <td>Non-Criminal</td>\n",
       "      <td>No</td>\n",
       "      <td>1.0</td>\n",
       "      <td>38.0</td>\n",
       "      <td>2010-10-01</td>\n",
       "      <td>110003</td>\n",
       "      <td>KIWA</td>\n",
       "      <td>MGGT</td>\n",
       "      <td>...</td>\n",
       "      <td>USA</td>\n",
       "      <td>149.0</td>\n",
       "      <td>La Aurora Airport</td>\n",
       "      <td>Guatemala City</td>\n",
       "      <td>NaN</td>\n",
       "      <td>NaN</td>\n",
       "      <td>NaN</td>\n",
       "      <td>NaN</td>\n",
       "      <td>NaN</td>\n",
       "      <td>Guatemala</td>\n",
       "    </tr>\n",
       "    <tr>\n",
       "      <th>2</th>\n",
       "      <td>Removal</td>\n",
       "      <td>MALE</td>\n",
       "      <td>Non-Criminal</td>\n",
       "      <td>No</td>\n",
       "      <td>1.0</td>\n",
       "      <td>20.0</td>\n",
       "      <td>2010-10-01</td>\n",
       "      <td>110003</td>\n",
       "      <td>KIWA</td>\n",
       "      <td>MGGT</td>\n",
       "      <td>...</td>\n",
       "      <td>USA</td>\n",
       "      <td>149.0</td>\n",
       "      <td>La Aurora Airport</td>\n",
       "      <td>Guatemala City</td>\n",
       "      <td>NaN</td>\n",
       "      <td>NaN</td>\n",
       "      <td>NaN</td>\n",
       "      <td>NaN</td>\n",
       "      <td>NaN</td>\n",
       "      <td>Guatemala</td>\n",
       "    </tr>\n",
       "    <tr>\n",
       "      <th>3</th>\n",
       "      <td>Removal</td>\n",
       "      <td>MALE</td>\n",
       "      <td>Non-Criminal</td>\n",
       "      <td>No</td>\n",
       "      <td>1.0</td>\n",
       "      <td>29.0</td>\n",
       "      <td>2010-10-01</td>\n",
       "      <td>110003</td>\n",
       "      <td>KIWA</td>\n",
       "      <td>MGGT</td>\n",
       "      <td>...</td>\n",
       "      <td>USA</td>\n",
       "      <td>149.0</td>\n",
       "      <td>La Aurora Airport</td>\n",
       "      <td>Guatemala City</td>\n",
       "      <td>NaN</td>\n",
       "      <td>NaN</td>\n",
       "      <td>NaN</td>\n",
       "      <td>NaN</td>\n",
       "      <td>NaN</td>\n",
       "      <td>Guatemala</td>\n",
       "    </tr>\n",
       "    <tr>\n",
       "      <th>4</th>\n",
       "      <td>Removal</td>\n",
       "      <td>MALE</td>\n",
       "      <td>Non-Criminal</td>\n",
       "      <td>No</td>\n",
       "      <td>1.0</td>\n",
       "      <td>21.0</td>\n",
       "      <td>2010-10-01</td>\n",
       "      <td>110003</td>\n",
       "      <td>KIWA</td>\n",
       "      <td>MGGT</td>\n",
       "      <td>...</td>\n",
       "      <td>USA</td>\n",
       "      <td>149.0</td>\n",
       "      <td>La Aurora Airport</td>\n",
       "      <td>Guatemala City</td>\n",
       "      <td>NaN</td>\n",
       "      <td>NaN</td>\n",
       "      <td>NaN</td>\n",
       "      <td>NaN</td>\n",
       "      <td>NaN</td>\n",
       "      <td>Guatemala</td>\n",
       "    </tr>\n",
       "  </tbody>\n",
       "</table>\n",
       "<p>5 rows × 43 columns</p>\n",
       "</div>"
      ],
      "text/plain": [
       "    Status   Sex   Convictions GangMember  ClassLvl   Age MissionDate  \\\n",
       "0  Removal  MALE  Non-Criminal         No       1.0  18.0  2010-10-01   \n",
       "1  Removal  MALE  Non-Criminal         No       1.0  38.0  2010-10-01   \n",
       "2  Removal  MALE  Non-Criminal         No       1.0  20.0  2010-10-01   \n",
       "3  Removal  MALE  Non-Criminal         No       1.0  29.0  2010-10-01   \n",
       "4  Removal  MALE  Non-Criminal         No       1.0  21.0  2010-10-01   \n",
       "\n",
       "   MissionNumber PULOC DropLoc      ...       air_Country air2_AirportID  \\\n",
       "0         110003  KIWA    MGGT      ...               USA          149.0   \n",
       "1         110003  KIWA    MGGT      ...               USA          149.0   \n",
       "2         110003  KIWA    MGGT      ...               USA          149.0   \n",
       "3         110003  KIWA    MGGT      ...               USA          149.0   \n",
       "4         110003  KIWA    MGGT      ...               USA          149.0   \n",
       "\n",
       "    air2_AirportName       air2_City st2_StateID st2_StateAbbr  aor2_AORID  \\\n",
       "0  La Aurora Airport  Guatemala City         NaN           NaN         NaN   \n",
       "1  La Aurora Airport  Guatemala City         NaN           NaN         NaN   \n",
       "2  La Aurora Airport  Guatemala City         NaN           NaN         NaN   \n",
       "3  La Aurora Airport  Guatemala City         NaN           NaN         NaN   \n",
       "4  La Aurora Airport  Guatemala City         NaN           NaN         NaN   \n",
       "\n",
       "   aor2_AOR  aor2_AORName  air2_Country  \n",
       "0       NaN           NaN     Guatemala  \n",
       "1       NaN           NaN     Guatemala  \n",
       "2       NaN           NaN     Guatemala  \n",
       "3       NaN           NaN     Guatemala  \n",
       "4       NaN           NaN     Guatemala  \n",
       "\n",
       "[5 rows x 43 columns]"
      ]
     },
     "execution_count": 13,
     "metadata": {},
     "output_type": "execute_result"
    }
   ],
   "source": [
    "df.head()"
   ]
  },
  {
   "cell_type": "code",
   "execution_count": 14,
   "metadata": {},
   "outputs": [
    {
     "data": {
      "text/html": [
       "<div>\n",
       "<style scoped>\n",
       "    .dataframe tbody tr th:only-of-type {\n",
       "        vertical-align: middle;\n",
       "    }\n",
       "\n",
       "    .dataframe tbody tr th {\n",
       "        vertical-align: top;\n",
       "    }\n",
       "\n",
       "    .dataframe thead th {\n",
       "        text-align: right;\n",
       "    }\n",
       "</style>\n",
       "<table border=\"1\" class=\"dataframe\">\n",
       "  <thead>\n",
       "    <tr style=\"text-align: right;\">\n",
       "      <th></th>\n",
       "      <th>Status</th>\n",
       "      <th>Sex</th>\n",
       "      <th>Convictions</th>\n",
       "      <th>GangMember</th>\n",
       "      <th>ClassLvl</th>\n",
       "      <th>Age</th>\n",
       "      <th>MissionDate</th>\n",
       "      <th>MissionNumber</th>\n",
       "      <th>PULOC</th>\n",
       "      <th>DropLoc</th>\n",
       "      <th>...</th>\n",
       "      <th>air_Country</th>\n",
       "      <th>air2_AirportID</th>\n",
       "      <th>air2_AirportName</th>\n",
       "      <th>air2_City</th>\n",
       "      <th>st2_StateID</th>\n",
       "      <th>st2_StateAbbr</th>\n",
       "      <th>aor2_AORID</th>\n",
       "      <th>aor2_AOR</th>\n",
       "      <th>aor2_AORName</th>\n",
       "      <th>air2_Country</th>\n",
       "    </tr>\n",
       "  </thead>\n",
       "  <tbody>\n",
       "    <tr>\n",
       "      <th>0</th>\n",
       "      <td>Removal</td>\n",
       "      <td>MALE</td>\n",
       "      <td>Non-Criminal</td>\n",
       "      <td>No</td>\n",
       "      <td>1.0</td>\n",
       "      <td>18.0</td>\n",
       "      <td>2010-10-01</td>\n",
       "      <td>110003</td>\n",
       "      <td>KIWA</td>\n",
       "      <td>MGGT</td>\n",
       "      <td>...</td>\n",
       "      <td>USA</td>\n",
       "      <td>149.0</td>\n",
       "      <td>La Aurora Airport</td>\n",
       "      <td>Guatemala City</td>\n",
       "      <td>NaN</td>\n",
       "      <td>NaN</td>\n",
       "      <td>NaN</td>\n",
       "      <td>NaN</td>\n",
       "      <td>NaN</td>\n",
       "      <td>Guatemala</td>\n",
       "    </tr>\n",
       "    <tr>\n",
       "      <th>0</th>\n",
       "      <td>TRANSFER</td>\n",
       "      <td>MALE</td>\n",
       "      <td>DUI</td>\n",
       "      <td>NaN</td>\n",
       "      <td>1.0</td>\n",
       "      <td>30.0</td>\n",
       "      <td>2011-10-01</td>\n",
       "      <td>120001</td>\n",
       "      <td>KIWA</td>\n",
       "      <td>KBFI</td>\n",
       "      <td>...</td>\n",
       "      <td>USA</td>\n",
       "      <td>39.0</td>\n",
       "      <td>Boeing Field King County International Airport</td>\n",
       "      <td>Seattle</td>\n",
       "      <td>51.0</td>\n",
       "      <td>WA</td>\n",
       "      <td>22.0</td>\n",
       "      <td>SEA</td>\n",
       "      <td>Seattle</td>\n",
       "      <td>USA</td>\n",
       "    </tr>\n",
       "    <tr>\n",
       "      <th>0</th>\n",
       "      <td>RM</td>\n",
       "      <td>FEMALE</td>\n",
       "      <td>NC</td>\n",
       "      <td>N</td>\n",
       "      <td>NaN</td>\n",
       "      <td>21.0</td>\n",
       "      <td>2012-10-01</td>\n",
       "      <td>130005</td>\n",
       "      <td>KMIA</td>\n",
       "      <td>MHLM</td>\n",
       "      <td>...</td>\n",
       "      <td>USA</td>\n",
       "      <td>150.0</td>\n",
       "      <td>Ramon Villeda Morales International Airport</td>\n",
       "      <td>San Pedro Sula</td>\n",
       "      <td>NaN</td>\n",
       "      <td>NaN</td>\n",
       "      <td>NaN</td>\n",
       "      <td>NaN</td>\n",
       "      <td>NaN</td>\n",
       "      <td>Honduras</td>\n",
       "    </tr>\n",
       "    <tr>\n",
       "      <th>0</th>\n",
       "      <td>NaN</td>\n",
       "      <td>MALE</td>\n",
       "      <td>NaN</td>\n",
       "      <td>N</td>\n",
       "      <td>1.0</td>\n",
       "      <td>33.0</td>\n",
       "      <td>2013-10-01</td>\n",
       "      <td>140003</td>\n",
       "      <td>KELP</td>\n",
       "      <td>mmmx</td>\n",
       "      <td>...</td>\n",
       "      <td>USA</td>\n",
       "      <td>155.0</td>\n",
       "      <td>Licenciado Benito Juarez International Airport</td>\n",
       "      <td>Mexico City</td>\n",
       "      <td>NaN</td>\n",
       "      <td>NaN</td>\n",
       "      <td>NaN</td>\n",
       "      <td>NaN</td>\n",
       "      <td>NaN</td>\n",
       "      <td>Mexico</td>\n",
       "    </tr>\n",
       "    <tr>\n",
       "      <th>0</th>\n",
       "      <td>8F</td>\n",
       "      <td>MALE</td>\n",
       "      <td>IE</td>\n",
       "      <td>N</td>\n",
       "      <td>NaN</td>\n",
       "      <td>19.0</td>\n",
       "      <td>2014-10-01</td>\n",
       "      <td>150005</td>\n",
       "      <td>KSAT</td>\n",
       "      <td>MSLP</td>\n",
       "      <td>...</td>\n",
       "      <td>USA</td>\n",
       "      <td>157.0</td>\n",
       "      <td>El Salvador International Airport</td>\n",
       "      <td>San Salvador</td>\n",
       "      <td>NaN</td>\n",
       "      <td>NaN</td>\n",
       "      <td>NaN</td>\n",
       "      <td>NaN</td>\n",
       "      <td>NaN</td>\n",
       "      <td>El Salvador</td>\n",
       "    </tr>\n",
       "    <tr>\n",
       "      <th>0</th>\n",
       "      <td>16</td>\n",
       "      <td>M</td>\n",
       "      <td>Other - Non-Violent</td>\n",
       "      <td>N</td>\n",
       "      <td>NaN</td>\n",
       "      <td>27.0</td>\n",
       "      <td>2015-10-01</td>\n",
       "      <td>160001</td>\n",
       "      <td>KIWA</td>\n",
       "      <td>KELP</td>\n",
       "      <td>...</td>\n",
       "      <td>USA</td>\n",
       "      <td>57.0</td>\n",
       "      <td>El Paso International Airport</td>\n",
       "      <td>El Paso</td>\n",
       "      <td>46.0</td>\n",
       "      <td>TX</td>\n",
       "      <td>9.0</td>\n",
       "      <td>ELP</td>\n",
       "      <td>El Paso</td>\n",
       "      <td>USA</td>\n",
       "    </tr>\n",
       "    <tr>\n",
       "      <th>0</th>\n",
       "      <td>8G</td>\n",
       "      <td>M</td>\n",
       "      <td>NC</td>\n",
       "      <td>N</td>\n",
       "      <td>NaN</td>\n",
       "      <td>26.0</td>\n",
       "      <td>2016-12-22</td>\n",
       "      <td>170443</td>\n",
       "      <td>KMIA</td>\n",
       "      <td>KAEX</td>\n",
       "      <td>...</td>\n",
       "      <td>USA</td>\n",
       "      <td>35.0</td>\n",
       "      <td>Alexandria International Airport</td>\n",
       "      <td>Alexandria</td>\n",
       "      <td>20.0</td>\n",
       "      <td>LA</td>\n",
       "      <td>13.0</td>\n",
       "      <td>NOL</td>\n",
       "      <td>New Orleans</td>\n",
       "      <td>USA</td>\n",
       "    </tr>\n",
       "    <tr>\n",
       "      <th>0</th>\n",
       "      <td>8C</td>\n",
       "      <td>M</td>\n",
       "      <td>Drug Possession</td>\n",
       "      <td>N</td>\n",
       "      <td>NaN</td>\n",
       "      <td>22.0</td>\n",
       "      <td>2017-10-20</td>\n",
       "      <td>180072</td>\n",
       "      <td>KAEX</td>\n",
       "      <td>MHLM</td>\n",
       "      <td>...</td>\n",
       "      <td>USA</td>\n",
       "      <td>150.0</td>\n",
       "      <td>Ramon Villeda Morales International Airport</td>\n",
       "      <td>San Pedro Sula</td>\n",
       "      <td>NaN</td>\n",
       "      <td>NaN</td>\n",
       "      <td>NaN</td>\n",
       "      <td>NaN</td>\n",
       "      <td>NaN</td>\n",
       "      <td>Honduras</td>\n",
       "    </tr>\n",
       "    <tr>\n",
       "      <th>0</th>\n",
       "      <td>8C</td>\n",
       "      <td>F</td>\n",
       "      <td>NC</td>\n",
       "      <td>N</td>\n",
       "      <td>NaN</td>\n",
       "      <td>38.0</td>\n",
       "      <td>2018-10-01</td>\n",
       "      <td>190009</td>\n",
       "      <td>KATL</td>\n",
       "      <td>KBRO</td>\n",
       "      <td>...</td>\n",
       "      <td>USA</td>\n",
       "      <td>45.0</td>\n",
       "      <td>Brownsville South Padre Island International A...</td>\n",
       "      <td>Brownsville</td>\n",
       "      <td>46.0</td>\n",
       "      <td>TX</td>\n",
       "      <td>19.0</td>\n",
       "      <td>SNA</td>\n",
       "      <td>San Antonio</td>\n",
       "      <td>USA</td>\n",
       "    </tr>\n",
       "  </tbody>\n",
       "</table>\n",
       "<p>9 rows × 43 columns</p>\n",
       "</div>"
      ],
      "text/plain": [
       "     Status     Sex          Convictions GangMember  ClassLvl   Age  \\\n",
       "0   Removal    MALE         Non-Criminal         No       1.0  18.0   \n",
       "0  TRANSFER    MALE                  DUI        NaN       1.0  30.0   \n",
       "0        RM  FEMALE                   NC          N       NaN  21.0   \n",
       "0       NaN    MALE                  NaN          N       1.0  33.0   \n",
       "0        8F    MALE                   IE          N       NaN  19.0   \n",
       "0        16       M  Other - Non-Violent          N       NaN  27.0   \n",
       "0        8G       M                   NC          N       NaN  26.0   \n",
       "0        8C       M      Drug Possession          N       NaN  22.0   \n",
       "0        8C       F                   NC          N       NaN  38.0   \n",
       "\n",
       "  MissionDate  MissionNumber PULOC DropLoc      ...       air_Country  \\\n",
       "0  2010-10-01         110003  KIWA    MGGT      ...               USA   \n",
       "0  2011-10-01         120001  KIWA    KBFI      ...               USA   \n",
       "0  2012-10-01         130005  KMIA    MHLM      ...               USA   \n",
       "0  2013-10-01         140003  KELP    mmmx      ...               USA   \n",
       "0  2014-10-01         150005  KSAT    MSLP      ...               USA   \n",
       "0  2015-10-01         160001  KIWA    KELP      ...               USA   \n",
       "0  2016-12-22         170443  KMIA    KAEX      ...               USA   \n",
       "0  2017-10-20         180072  KAEX    MHLM      ...               USA   \n",
       "0  2018-10-01         190009  KATL    KBRO      ...               USA   \n",
       "\n",
       "  air2_AirportID                                   air2_AirportName  \\\n",
       "0          149.0                                  La Aurora Airport   \n",
       "0           39.0     Boeing Field King County International Airport   \n",
       "0          150.0        Ramon Villeda Morales International Airport   \n",
       "0          155.0     Licenciado Benito Juarez International Airport   \n",
       "0          157.0                  El Salvador International Airport   \n",
       "0           57.0                      El Paso International Airport   \n",
       "0           35.0                   Alexandria International Airport   \n",
       "0          150.0        Ramon Villeda Morales International Airport   \n",
       "0           45.0  Brownsville South Padre Island International A...   \n",
       "\n",
       "        air2_City st2_StateID st2_StateAbbr  aor2_AORID  aor2_AOR  \\\n",
       "0  Guatemala City         NaN           NaN         NaN       NaN   \n",
       "0         Seattle        51.0            WA        22.0       SEA   \n",
       "0  San Pedro Sula         NaN           NaN         NaN       NaN   \n",
       "0     Mexico City         NaN           NaN         NaN       NaN   \n",
       "0    San Salvador         NaN           NaN         NaN       NaN   \n",
       "0         El Paso        46.0            TX         9.0       ELP   \n",
       "0      Alexandria        20.0            LA        13.0       NOL   \n",
       "0  San Pedro Sula         NaN           NaN         NaN       NaN   \n",
       "0     Brownsville        46.0            TX        19.0       SNA   \n",
       "\n",
       "   aor2_AORName  air2_Country  \n",
       "0           NaN     Guatemala  \n",
       "0       Seattle           USA  \n",
       "0           NaN      Honduras  \n",
       "0           NaN        Mexico  \n",
       "0           NaN   El Salvador  \n",
       "0       El Paso           USA  \n",
       "0   New Orleans           USA  \n",
       "0           NaN      Honduras  \n",
       "0   San Antonio           USA  \n",
       "\n",
       "[9 rows x 43 columns]"
      ]
     },
     "execution_count": 14,
     "metadata": {},
     "output_type": "execute_result"
    }
   ],
   "source": [
    "df.loc[0]"
   ]
  },
  {
   "cell_type": "code",
   "execution_count": 15,
   "metadata": {},
   "outputs": [
    {
     "data": {
      "text/plain": [
       "1763020"
      ]
     },
     "execution_count": 15,
     "metadata": {},
     "output_type": "execute_result"
    }
   ],
   "source": [
    "len(df)"
   ]
  },
  {
   "cell_type": "markdown",
   "metadata": {},
   "source": [
    "No missing values in ID fields. IDs repeat."
   ]
  },
  {
   "cell_type": "code",
   "execution_count": 16,
   "metadata": {},
   "outputs": [
    {
     "data": {
      "text/plain": [
       "14973"
      ]
     },
     "execution_count": 16,
     "metadata": {},
     "output_type": "execute_result"
    }
   ],
   "source": [
    "len(set(df['MissionID']))"
   ]
  },
  {
   "cell_type": "code",
   "execution_count": 17,
   "metadata": {},
   "outputs": [
    {
     "data": {
      "text/plain": [
       "0"
      ]
     },
     "execution_count": 17,
     "metadata": {},
     "output_type": "execute_result"
    }
   ],
   "source": [
    "sum(df['MissionID'].isnull())"
   ]
  },
  {
   "cell_type": "code",
   "execution_count": 18,
   "metadata": {},
   "outputs": [
    {
     "data": {
      "text/plain": [
       "1733555"
      ]
     },
     "execution_count": 18,
     "metadata": {},
     "output_type": "execute_result"
    }
   ],
   "source": [
    "len(set(df['AlienMasterID']))"
   ]
  },
  {
   "cell_type": "code",
   "execution_count": 19,
   "metadata": {},
   "outputs": [
    {
     "data": {
      "text/plain": [
       "0"
      ]
     },
     "execution_count": 19,
     "metadata": {},
     "output_type": "execute_result"
    }
   ],
   "source": [
    "sum(df['AlienMasterID'].isnull())"
   ]
  },
  {
   "cell_type": "code",
   "execution_count": 20,
   "metadata": {},
   "outputs": [
    {
     "data": {
      "text/plain": [
       "Timestamp('2010-10-01 00:00:00')"
      ]
     },
     "execution_count": 20,
     "metadata": {},
     "output_type": "execute_result"
    }
   ],
   "source": [
    "df['MissionDate'].min()"
   ]
  },
  {
   "cell_type": "code",
   "execution_count": 21,
   "metadata": {},
   "outputs": [
    {
     "data": {
      "text/plain": [
       "Timestamp('2018-12-05 00:00:00')"
      ]
     },
     "execution_count": 21,
     "metadata": {},
     "output_type": "execute_result"
    }
   ],
   "source": [
    "df['MissionDate'].max()"
   ]
  },
  {
   "cell_type": "code",
   "execution_count": 22,
   "metadata": {},
   "outputs": [],
   "source": [
    "df.set_index('MissionDate', inplace=True)"
   ]
  },
  {
   "cell_type": "markdown",
   "metadata": {},
   "source": [
    "Top pickup airports."
   ]
  },
  {
   "cell_type": "code",
   "execution_count": 23,
   "metadata": {},
   "outputs": [
    {
     "data": {
      "text/plain": [
       "Alexandria International Airport                        239911\n",
       "Brownsville South Padre Island International Airport    204895\n",
       "Phoenix-Mesa-Gateway Airport                            196150\n",
       "Valley International Airport                            154138\n",
       "El Paso International Airport                           136127\n",
       "San Antonio International Airport                       107434\n",
       "Columbus Metropolitan Airport                            80797\n",
       "Harrisburg International Airport                         76348\n",
       "Laredo International Airport                             56409\n",
       "Miami International Airport                              55588\n",
       "Name: air_AirportName, dtype: int64"
      ]
     },
     "execution_count": 23,
     "metadata": {},
     "output_type": "execute_result"
    }
   ],
   "source": [
    "df['air_AirportName'].value_counts().head(10)"
   ]
  },
  {
   "cell_type": "markdown",
   "metadata": {},
   "source": [
    "Top dropoff airports."
   ]
  },
  {
   "cell_type": "code",
   "execution_count": 24,
   "metadata": {},
   "outputs": [
    {
     "data": {
      "text/plain": [
       "La Aurora Airport                                       327010\n",
       "Ramon Villeda Morales International Airport             202955\n",
       "Alexandria International Airport                        169316\n",
       "El Salvador International Airport                       157773\n",
       "Valley International Airport                            148700\n",
       "Phoenix-Mesa-Gateway Airport                             93892\n",
       "El Paso International Airport                            87408\n",
       "Licenciado Benito Juarez International Airport           85584\n",
       "Brownsville South Padre Island International Airport     66444\n",
       "San Diego International Airport                          62943\n",
       "Name: air2_AirportName, dtype: int64"
      ]
     },
     "execution_count": 24,
     "metadata": {},
     "output_type": "execute_result"
    }
   ],
   "source": [
    "df['air2_AirportName'].value_counts().head(10)"
   ]
  },
  {
   "cell_type": "code",
   "execution_count": 25,
   "metadata": {},
   "outputs": [
    {
     "data": {
      "text/plain": [
       "Removal       1110458\n",
       "Transfer       448753\n",
       "REMOVAL        147703\n",
       "transfer        28835\n",
       "TRANSFER        21765\n",
       "removal          5258\n",
       "RemovaL           117\n",
       "reMOVAL           110\n",
       "Ineligible          2\n",
       "No-show             1\n",
       "Name: R-T, dtype: int64"
      ]
     },
     "execution_count": 25,
     "metadata": {},
     "output_type": "execute_result"
    }
   ],
   "source": [
    "df['R-T'].value_counts()"
   ]
  },
  {
   "cell_type": "code",
   "execution_count": 26,
   "metadata": {},
   "outputs": [],
   "source": [
    "with open('../../share/hand/clean.yaml', 'r') as yamlfile:\n",
    "    clean = yaml.load(yamlfile)"
   ]
  },
  {
   "cell_type": "code",
   "execution_count": 27,
   "metadata": {},
   "outputs": [
    {
     "data": {
      "text/plain": [
       "R             1263646\n",
       "T              499353\n",
       "Ineligible          2\n",
       "No-show             1\n",
       "Name: R-T, dtype: int64"
      ]
     },
     "execution_count": 27,
     "metadata": {},
     "output_type": "execute_result"
    }
   ],
   "source": [
    "df['R-T'] = df['R-T'].replace(clean['R-T'])\n",
    "df['R-T'] = df['R-T'].astype('category')\n",
    "df['R-T'].value_counts()"
   ]
  },
  {
   "cell_type": "code",
   "execution_count": 28,
   "metadata": {},
   "outputs": [
    {
     "data": {
      "text/plain": [
       "M    1618577\n",
       "F     144302\n",
       "U        137\n",
       "Name: Sex, dtype: int64"
      ]
     },
     "execution_count": 28,
     "metadata": {},
     "output_type": "execute_result"
    }
   ],
   "source": [
    "df['Sex'] = df['Sex'].replace(clean['Sex'])\n",
    "df['Sex'] = df['Sex'].astype('category')\n",
    "df['Sex'].value_counts()"
   ]
  },
  {
   "cell_type": "code",
   "execution_count": 29,
   "metadata": {},
   "outputs": [],
   "source": [
    "df['Criminality'] = df['Criminality'].replace(clean['Criminality'])\n",
    "df['Criminality'] = df['Criminality'].astype('category')\n",
    "df['Criminality'].value_counts()\n",
    "df['NonCriminal'] = df['Criminality'] == 'NC'"
   ]
  },
  {
   "cell_type": "code",
   "execution_count": 30,
   "metadata": {},
   "outputs": [],
   "source": [
    "# Cleaned most important countries for analysis, may need to clean otheres\n",
    "df['CountryOfCitizenship'] = df['CountryOfCitizenship'].str.upper()"
   ]
  },
  {
   "cell_type": "code",
   "execution_count": 31,
   "metadata": {},
   "outputs": [],
   "source": [
    "countries = list(df['CountryOfCitizenship'].astype('str').unique())"
   ]
  },
  {
   "cell_type": "code",
   "execution_count": 32,
   "metadata": {},
   "outputs": [],
   "source": [
    "with open('../output/countries.yaml', 'w') as outfile:\n",
    "    yaml.dump(countries, outfile, default_flow_style=False)"
   ]
  },
  {
   "cell_type": "code",
   "execution_count": 33,
   "metadata": {},
   "outputs": [
    {
     "data": {
      "text/plain": [
       "MEXICO                597174\n",
       "GUATEMALA             421479\n",
       "HONDURAS              304779\n",
       "EL SALVADOR           256911\n",
       "DOMINICAN REPUBLIC     31704\n",
       "ECUADOR                25692\n",
       "HAITI                  23308\n",
       "NICARAGUA              18679\n",
       "COLOMBIA               14521\n",
       "JAMAICA                12801\n",
       "INDIA                   8952\n",
       "CHINA                   4460\n",
       "CUBA                    3658\n",
       "BANGLADESH              2831\n",
       "SOMALIA                 2668\n",
       "Name: CountryOfCitizenship, dtype: int64"
      ]
     },
     "execution_count": 33,
     "metadata": {},
     "output_type": "execute_result"
    }
   ],
   "source": [
    "df['CountryOfCitizenship'] = df['CountryOfCitizenship'].replace(clean['CountryOfCitizenship'])\n",
    "df['CountryOfCitizenship'] = df['CountryOfCitizenship'].astype('category')\n",
    "df['CountryOfCitizenship'].value_counts().head(15)"
   ]
  },
  {
   "cell_type": "code",
   "execution_count": 34,
   "metadata": {},
   "outputs": [],
   "source": [
    "out_of_bounds_high = df['Age'] > 99\n",
    "out_of_bounds_low = df['Age'] < 0\n",
    "df.loc[out_of_bounds_high, 'Age'] = np.nan\n",
    "df.loc[out_of_bounds_low, 'Age'] = np.nan"
   ]
  },
  {
   "cell_type": "code",
   "execution_count": 35,
   "metadata": {},
   "outputs": [],
   "source": [
    "juvenile = df['Age'] <= 18\n",
    "df['Juvenile'] = juvenile"
   ]
  },
  {
   "cell_type": "code",
   "execution_count": 36,
   "metadata": {},
   "outputs": [
    {
     "data": {
      "text/plain": [
       "False    1709360\n",
       "True       53660\n",
       "Name: Juvenile, dtype: int64"
      ]
     },
     "execution_count": 36,
     "metadata": {},
     "output_type": "execute_result"
    }
   ],
   "source": [
    "df['Juvenile'].value_counts()"
   ]
  },
  {
   "cell_type": "code",
   "execution_count": 37,
   "metadata": {},
   "outputs": [
    {
     "data": {
      "text/plain": [
       "N             1079547\n",
       "No             243020\n",
       "NO             120228\n",
       "NONE            91863\n",
       "Y               10891\n",
       "None             8675\n",
       "no               5201\n",
       "                 4960\n",
       "Yes              1677\n",
       "n                1061\n",
       "YES               795\n",
       "none              636\n",
       "NON               530\n",
       "None known        355\n",
       "SURENO            285\n",
       "Name: GangMember, dtype: int64"
      ]
     },
     "execution_count": 37,
     "metadata": {},
     "output_type": "execute_result"
    }
   ],
   "source": [
    "# This column had a bunch of random-seeming numeric strings, replace removes any string that's just numbers\n",
    "# I checked and there were no '13' or '15' or '18' values before replace\n",
    "# Numeric strings didn't seem to be result of data shifted into column but need to investigate more\n",
    "df['GangMember'] = df['GangMember'].str.replace('^[0-9]*$', '')\n",
    "df['GangMember'] = df['GangMember'].astype('category')\n",
    "df['GangMember'].value_counts().head(15)"
   ]
  },
  {
   "cell_type": "code",
   "execution_count": 38,
   "metadata": {},
   "outputs": [
    {
     "data": {
      "text/plain": [
       "KAEX    239911\n",
       "KBRO    204895\n",
       "KIWA    196150\n",
       "KHRL    154138\n",
       "KELP    136127\n",
       "KSAT    107434\n",
       "KCSG     80797\n",
       "KMDT     76348\n",
       "KLRD     56409\n",
       "KMIA     55588\n",
       "KSAN     53008\n",
       "KIAH     50378\n",
       "KOAK     40532\n",
       "KBFI     34466\n",
       "KEWR     31218\n",
       "Name: PULOC, dtype: int64"
      ]
     },
     "execution_count": 38,
     "metadata": {},
     "output_type": "execute_result"
    }
   ],
   "source": [
    "df['PULOC'] = df['PULOC'].str.upper()\n",
    "df['PULOC'] = df['PULOC'].astype('category')\n",
    "df['PULOC'].value_counts().head(15)"
   ]
  },
  {
   "cell_type": "code",
   "execution_count": 39,
   "metadata": {},
   "outputs": [
    {
     "data": {
      "text/plain": [
       "MGGT    327010\n",
       "MHLM    202955\n",
       "KAEX    169316\n",
       "MSLP    157773\n",
       "KHRL    148700\n",
       "KIWA     93892\n",
       "KELP     87408\n",
       "MMMX     85584\n",
       "KBRO     66444\n",
       "KSAN     62943\n",
       "KNYL     58124\n",
       "KLRD     46923\n",
       "KMIA     22657\n",
       "KNJK     20356\n",
       "MHTG     19944\n",
       "Name: DropLoc, dtype: int64"
      ]
     },
     "execution_count": 39,
     "metadata": {},
     "output_type": "execute_result"
    }
   ],
   "source": [
    "df['DropLoc'] = df['DropLoc'].str.upper()\n",
    "df['DropLoc'] = df['DropLoc'].astype('category')\n",
    "df['DropLoc'].value_counts().head(15)"
   ]
  },
  {
   "cell_type": "markdown",
   "metadata": {},
   "source": [
    "Status field is very messy, may be interesting?"
   ]
  },
  {
   "cell_type": "code",
   "execution_count": 40,
   "metadata": {},
   "outputs": [
    {
     "data": {
      "text/plain": [
       "16                324026\n",
       "8F                239232\n",
       "Removal           229049\n",
       "8C                169443\n",
       "8G                129502\n",
       "RM                 98768\n",
       "ER                 87668\n",
       "REMOVAL            63654\n",
       "VR                 63102\n",
       "3                  37389\n",
       "REINST             35197\n",
       "11                 29086\n",
       "Transfer - F/O     19596\n",
       "NTA-TFRD           15633\n",
       "8A                 13058\n",
       "Name: Status, dtype: int64"
      ]
     },
     "execution_count": 40,
     "metadata": {},
     "output_type": "execute_result"
    }
   ],
   "source": [
    "df['Status'].value_counts().head(15)"
   ]
  },
  {
   "cell_type": "code",
   "execution_count": 41,
   "metadata": {
    "scrolled": true
   },
   "outputs": [
    {
     "name": "stdout",
     "output_type": "stream",
     "text": [
      "Field: # of unique values\n",
      "-------------------------\n",
      "Status: 1163\n",
      "Sex: 4\n",
      "Convictions: 14735\n",
      "GangMember: 291\n",
      "ClassLvl: 392\n",
      "Age: 91\n",
      "MissionNumber: 14973\n",
      "PULOC: 84\n",
      "DropLoc: 208\n",
      "StrikeFromList: 1\n",
      "ReasonStruck: 14\n",
      "R-T: 5\n",
      "Code: 9\n",
      "CountryOfCitizenship: 205\n",
      "Juvenile: 2\n",
      "MissionWeek: 53\n",
      "MissionQuarter: 4\n",
      "MissionYear: 9\n",
      "MissionMonth: 12\n",
      "Criminality: 3\n",
      "FamilyUnitFlag: 1\n",
      "UnaccompaniedFlag: 1\n",
      "AlienMasterID: 1733555\n",
      "MissionID: 14973\n",
      "air_AirportID: 84\n",
      "air_AirportName: 83\n",
      "air_City: 79\n",
      "st_StateID: 33\n",
      "st_StateAbbr: 33\n",
      "AOR_AORID: 24\n",
      "AOR_AOR: 24\n",
      "AOR_AORName: 24\n",
      "air_Country: 11\n",
      "air2_AirportID: 203\n",
      "air2_AirportName: 200\n",
      "air2_City: 195\n",
      "st2_StateID: 34\n",
      "st2_StateAbbr: 34\n",
      "aor2_AORID: 23\n",
      "aor2_AOR: 23\n",
      "aor2_AORName: 23\n",
      "air2_Country: 116\n",
      "NonCriminal: 2\n"
     ]
    }
   ],
   "source": [
    "print('Field: # of unique values')\n",
    "print('-------------------------')\n",
    "for column in df.columns:\n",
    "    print(f'{column}: {len(df[column].unique())}')"
   ]
  },
  {
   "cell_type": "code",
   "execution_count": 42,
   "metadata": {},
   "outputs": [],
   "source": [
    "KBFI_pickup = df['PULOC'] == 'KBFI'\n",
    "KBFI_dropoff = df['DropLoc'] == 'KBFI'"
   ]
  },
  {
   "cell_type": "code",
   "execution_count": 43,
   "metadata": {},
   "outputs": [],
   "source": [
    "KBFI_pickups = df[KBFI_pickup]\n",
    "KBFI_dropoffs = df[KBFI_dropoff]"
   ]
  },
  {
   "cell_type": "code",
   "execution_count": 44,
   "metadata": {},
   "outputs": [
    {
     "data": {
      "text/plain": [
       "34443"
      ]
     },
     "execution_count": 44,
     "metadata": {},
     "output_type": "execute_result"
    }
   ],
   "source": [
    "len(set(KBFI_pickups['AlienMasterID']))"
   ]
  },
  {
   "cell_type": "code",
   "execution_count": 45,
   "metadata": {},
   "outputs": [
    {
     "data": {
      "text/plain": [
       "466"
      ]
     },
     "execution_count": 45,
     "metadata": {},
     "output_type": "execute_result"
    }
   ],
   "source": [
    "len(set(KBFI_pickups['MissionID']))"
   ]
  },
  {
   "cell_type": "code",
   "execution_count": 46,
   "metadata": {},
   "outputs": [],
   "source": [
    "# KBFI_pickups.set_index('MissionDate', inplace=True)\n",
    "# KBFI_dropoffs.set_index('MissionDate', inplace=True)"
   ]
  },
  {
   "cell_type": "code",
   "execution_count": 47,
   "metadata": {},
   "outputs": [],
   "source": [
    "weekly_KBFI_pickups = KBFI_pickups['AlienMasterID'].resample('W').nunique()\n",
    "weekly_KBFI_dropoffs = KBFI_dropoffs['AlienMasterID'].resample('W').nunique()\n",
    "monthly_KBFI_pickups = KBFI_pickups['AlienMasterID'].resample('M').nunique()\n",
    "monthly_KBFI_dropoffs = KBFI_dropoffs['AlienMasterID'].resample('M').nunique()\n",
    "annual_KBFI_pickups = KBFI_pickups['2011':'2018']['AlienMasterID'].resample('AS').nunique()\n",
    "annual_KBFI_dropoffs = KBFI_dropoffs['2011':'2018']['AlienMasterID'].resample('AS').nunique()"
   ]
  },
  {
   "cell_type": "code",
   "execution_count": 48,
   "metadata": {},
   "outputs": [
    {
     "data": {
      "text/plain": [
       "MissionDate\n",
       "2011-01-01    6530\n",
       "2012-01-01    5402\n",
       "2013-01-01    4603\n",
       "2014-01-01    3600\n",
       "2015-01-01    2852\n",
       "2016-01-01    3178\n",
       "2017-01-01    3462\n",
       "2018-01-01    3278\n",
       "Freq: AS-JAN, Name: AlienMasterID, dtype: int64"
      ]
     },
     "execution_count": 48,
     "metadata": {},
     "output_type": "execute_result"
    }
   ],
   "source": [
    "annual_KBFI_pickups"
   ]
  },
  {
   "cell_type": "code",
   "execution_count": 49,
   "metadata": {},
   "outputs": [
    {
     "data": {
      "text/plain": [
       "MissionDate\n",
       "2011-01-01     708\n",
       "2012-01-01    1385\n",
       "2013-01-01    1983\n",
       "2014-01-01    1943\n",
       "2015-01-01    2508\n",
       "2016-01-01    2778\n",
       "2017-01-01    1451\n",
       "2018-01-01    2317\n",
       "Freq: AS-JAN, Name: AlienMasterID, dtype: int64"
      ]
     },
     "execution_count": 49,
     "metadata": {},
     "output_type": "execute_result"
    }
   ],
   "source": [
    "annual_KBFI_dropoffs"
   ]
  },
  {
   "cell_type": "code",
   "execution_count": 50,
   "metadata": {},
   "outputs": [
    {
     "data": {
      "image/png": "[encoded data removed]",
      "text/plain": [
       "<Figure size 432x288 with 1 Axes>"
      ]
     },
     "metadata": {
      "needs_background": "light"
     },
     "output_type": "display_data"
    }
   ],
   "source": [
    "def plot(data):\n",
    "    \n",
    "    fig, ax = plt.subplots()\n",
    "    \n",
    "    for datum in data:\n",
    "        ax = datum.plot(legend=True)\n",
    "    \n",
    "    ax.set_ylabel('Number of Passengers', fontsize=12)\n",
    "    ax.set_ylim(0)\n",
    "    ax.set_xlabel('Year', fontsize=12)\n",
    "    ax.set_title('ICE Flights at Boeing Field', fontsize=18)\n",
    "    \n",
    "    fig.savefig('../output/ICEFlights.png')\n",
    "    return fig, ax\n",
    "\n",
    "annual_KBFI_pickups.rename('Total Pickups', inplace=True)\n",
    "annual_KBFI_dropoffs.rename('Total Dropoffs', inplace=True)\n",
    "\n",
    "plot = plot([annual_KBFI_pickups, annual_KBFI_dropoffs]);"
   ]
  },
  {
   "cell_type": "code",
   "execution_count": 51,
   "metadata": {},
   "outputs": [],
   "source": [
    "annual_non_criminal = KBFI_pickups[['NonCriminal']].resample('AS').sum()"
   ]
  },
  {
   "cell_type": "code",
   "execution_count": 52,
   "metadata": {},
   "outputs": [],
   "source": [
    "annual_non_criminal['total'] = annual_KBFI_pickups\n",
    "annual_non_criminal['percent'] = annual_non_criminal['NonCriminal']/annual_KBFI_pickups*100"
   ]
  },
  {
   "cell_type": "code",
   "execution_count": 53,
   "metadata": {},
   "outputs": [
    {
     "data": {
      "image/png": "[encoded data removed]",
      "text/plain": [
       "<Figure size 720x576 with 2 Axes>"
      ]
     },
     "metadata": {
      "needs_background": "light"
     },
     "output_type": "display_data"
    }
   ],
   "source": [
    "annual_data = annual_non_criminal['2011':'2018']\n",
    "# monthly_data = monthly_non_criminal\n",
    "\n",
    "plt.style.use([{'legend.frameon': True}])\n",
    "plt.rc(\"font\", family=\"Times New Roman\")\n",
    "\n",
    "fig, ax1 = plt.subplots()\n",
    "\n",
    "ax2 = ax1.twinx()\n",
    "\n",
    "lns1 = ax1.plot(annual_data['total'], label='Total pickups')\n",
    "lns2 = ax1.plot(annual_data['NonCriminal'], label='Non-criminal pickups')\n",
    "ax1.set_ylim(0, 7000)\n",
    "ax1.set_ylabel('Annual KBFI pickups', fontsize=16)\n",
    "ax1.tick_params(axis='x', labelsize=14)\n",
    "ax1.tick_params(axis='y', labelsize=14)\n",
    "\n",
    "lns3 = ax2.plot(annual_data['percent'], label='% non-criminal', linestyle=':', color='green')\n",
    "ax2.set_ylim(0,60)\n",
    "ax2.set_ylabel('% non-criminal', fontsize=16)\n",
    "ax2.tick_params(axis='y', labelsize=14)\n",
    "\n",
    "lns = [lns1[0], lns2[0], lns3[0]]\n",
    "labs = [l.get_label() for l in lns]\n",
    "ax1.legend(lns, labs, loc=0, fontsize=14)\n",
    "\n",
    "ax1.set_title('ICE pickups at Boeing Field\\n% with no criminal conviction', fontsize=20)\n",
    "\n",
    "fig.set_size_inches(10, 8)\n",
    "\n",
    "plt.show()\n",
    "fig.savefig('../output/NoCrim.png', dpi=100)"
   ]
  },
  {
   "cell_type": "markdown",
   "metadata": {},
   "source": [
    "# Mapping"
   ]
  },
  {
   "cell_type": "code",
   "execution_count": 54,
   "metadata": {},
   "outputs": [],
   "source": [
    "df.reset_index(inplace=True)"
   ]
  },
  {
   "cell_type": "code",
   "execution_count": 55,
   "metadata": {},
   "outputs": [],
   "source": [
    "groupby = df.groupby(['MissionYear', 'R-T', 'PULOC', 'DropLoc'])"
   ]
  },
  {
   "cell_type": "code",
   "execution_count": 56,
   "metadata": {},
   "outputs": [],
   "source": [
    "table = groupby.size().reset_index()"
   ]
  },
  {
   "cell_type": "code",
   "execution_count": 57,
   "metadata": {},
   "outputs": [],
   "source": [
    "flights = groupby['MissionID'].nunique().reset_index()['MissionID']"
   ]
  },
  {
   "cell_type": "code",
   "execution_count": 58,
   "metadata": {},
   "outputs": [],
   "source": [
    "table.columns = ['year', 'R-T', 'pickup_airport', 'dropoff_airport', 'passengers']"
   ]
  },
  {
   "cell_type": "code",
   "execution_count": 59,
   "metadata": {},
   "outputs": [],
   "source": [
    "table['flights'] = flights"
   ]
  },
  {
   "cell_type": "code",
   "execution_count": 60,
   "metadata": {},
   "outputs": [],
   "source": [
    "table.reset_index(drop=True, inplace=True)"
   ]
  },
  {
   "cell_type": "code",
   "execution_count": 61,
   "metadata": {},
   "outputs": [],
   "source": [
    "all_kbfi = (table['pickup_airport'] == 'KBFI') | (table['dropoff_airport'] == 'KBFI')"
   ]
  },
  {
   "cell_type": "code",
   "execution_count": 62,
   "metadata": {},
   "outputs": [],
   "source": [
    "table.to_csv('../output/flight_summary.csv.gz', index=False, compression='gzip', encoding='utf-8', sep='|')"
   ]
  },
  {
   "cell_type": "code",
   "execution_count": 63,
   "metadata": {},
   "outputs": [
    {
     "data": {
      "text/html": [
       "<div>\n",
       "<style scoped>\n",
       "    .dataframe tbody tr th:only-of-type {\n",
       "        vertical-align: middle;\n",
       "    }\n",
       "\n",
       "    .dataframe tbody tr th {\n",
       "        vertical-align: top;\n",
       "    }\n",
       "\n",
       "    .dataframe thead th {\n",
       "        text-align: right;\n",
       "    }\n",
       "</style>\n",
       "<table border=\"1\" class=\"dataframe\">\n",
       "  <thead>\n",
       "    <tr style=\"text-align: right;\">\n",
       "      <th></th>\n",
       "      <th>year</th>\n",
       "      <th>R-T</th>\n",
       "      <th>pickup_airport</th>\n",
       "      <th>dropoff_airport</th>\n",
       "      <th>passengers</th>\n",
       "      <th>flights</th>\n",
       "    </tr>\n",
       "  </thead>\n",
       "  <tbody>\n",
       "    <tr>\n",
       "      <th>0</th>\n",
       "      <td>2010</td>\n",
       "      <td>R</td>\n",
       "      <td>KAEX</td>\n",
       "      <td>KHRL</td>\n",
       "      <td>2025</td>\n",
       "      <td>23</td>\n",
       "    </tr>\n",
       "    <tr>\n",
       "      <th>1</th>\n",
       "      <td>2010</td>\n",
       "      <td>R</td>\n",
       "      <td>KAEX</td>\n",
       "      <td>KLRD</td>\n",
       "      <td>27</td>\n",
       "      <td>2</td>\n",
       "    </tr>\n",
       "    <tr>\n",
       "      <th>2</th>\n",
       "      <td>2010</td>\n",
       "      <td>R</td>\n",
       "      <td>KAEX</td>\n",
       "      <td>MDSD</td>\n",
       "      <td>549</td>\n",
       "      <td>6</td>\n",
       "    </tr>\n",
       "    <tr>\n",
       "      <th>3</th>\n",
       "      <td>2010</td>\n",
       "      <td>R</td>\n",
       "      <td>KAEX</td>\n",
       "      <td>MGGT</td>\n",
       "      <td>1441</td>\n",
       "      <td>13</td>\n",
       "    </tr>\n",
       "    <tr>\n",
       "      <th>4</th>\n",
       "      <td>2010</td>\n",
       "      <td>R</td>\n",
       "      <td>KAEX</td>\n",
       "      <td>MHLM</td>\n",
       "      <td>454</td>\n",
       "      <td>5</td>\n",
       "    </tr>\n",
       "    <tr>\n",
       "      <th>5</th>\n",
       "      <td>2010</td>\n",
       "      <td>R</td>\n",
       "      <td>KAEX</td>\n",
       "      <td>MHTG</td>\n",
       "      <td>756</td>\n",
       "      <td>8</td>\n",
       "    </tr>\n",
       "    <tr>\n",
       "      <th>6</th>\n",
       "      <td>2010</td>\n",
       "      <td>R</td>\n",
       "      <td>KAEX</td>\n",
       "      <td>MKJP</td>\n",
       "      <td>201</td>\n",
       "      <td>3</td>\n",
       "    </tr>\n",
       "    <tr>\n",
       "      <th>7</th>\n",
       "      <td>2010</td>\n",
       "      <td>R</td>\n",
       "      <td>KAEX</td>\n",
       "      <td>MSLP</td>\n",
       "      <td>438</td>\n",
       "      <td>5</td>\n",
       "    </tr>\n",
       "    <tr>\n",
       "      <th>8</th>\n",
       "      <td>2010</td>\n",
       "      <td>R</td>\n",
       "      <td>KAEX</td>\n",
       "      <td>SEGU</td>\n",
       "      <td>343</td>\n",
       "      <td>6</td>\n",
       "    </tr>\n",
       "    <tr>\n",
       "      <th>9</th>\n",
       "      <td>2010</td>\n",
       "      <td>R</td>\n",
       "      <td>KAEX</td>\n",
       "      <td>SKBO</td>\n",
       "      <td>244</td>\n",
       "      <td>3</td>\n",
       "    </tr>\n",
       "    <tr>\n",
       "      <th>10</th>\n",
       "      <td>2010</td>\n",
       "      <td>R</td>\n",
       "      <td>KATL</td>\n",
       "      <td>KHRL</td>\n",
       "      <td>652</td>\n",
       "      <td>12</td>\n",
       "    </tr>\n",
       "    <tr>\n",
       "      <th>11</th>\n",
       "      <td>2010</td>\n",
       "      <td>R</td>\n",
       "      <td>KBFI</td>\n",
       "      <td>KHRL</td>\n",
       "      <td>326</td>\n",
       "      <td>11</td>\n",
       "    </tr>\n",
       "    <tr>\n",
       "      <th>12</th>\n",
       "      <td>2010</td>\n",
       "      <td>R</td>\n",
       "      <td>KBFI</td>\n",
       "      <td>KSAN</td>\n",
       "      <td>1012</td>\n",
       "      <td>12</td>\n",
       "    </tr>\n",
       "    <tr>\n",
       "      <th>13</th>\n",
       "      <td>2010</td>\n",
       "      <td>R</td>\n",
       "      <td>KBFL</td>\n",
       "      <td>KIWA</td>\n",
       "      <td>43</td>\n",
       "      <td>3</td>\n",
       "    </tr>\n",
       "    <tr>\n",
       "      <th>14</th>\n",
       "      <td>2010</td>\n",
       "      <td>R</td>\n",
       "      <td>KBFL</td>\n",
       "      <td>KONT</td>\n",
       "      <td>128</td>\n",
       "      <td>5</td>\n",
       "    </tr>\n",
       "    <tr>\n",
       "      <th>15</th>\n",
       "      <td>2010</td>\n",
       "      <td>R</td>\n",
       "      <td>KBFL</td>\n",
       "      <td>KSAN</td>\n",
       "      <td>1181</td>\n",
       "      <td>51</td>\n",
       "    </tr>\n",
       "    <tr>\n",
       "      <th>16</th>\n",
       "      <td>2010</td>\n",
       "      <td>R</td>\n",
       "      <td>KCOS</td>\n",
       "      <td>KHRL</td>\n",
       "      <td>211</td>\n",
       "      <td>5</td>\n",
       "    </tr>\n",
       "    <tr>\n",
       "      <th>17</th>\n",
       "      <td>2010</td>\n",
       "      <td>R</td>\n",
       "      <td>KCSG</td>\n",
       "      <td>KHRL</td>\n",
       "      <td>1843</td>\n",
       "      <td>16</td>\n",
       "    </tr>\n",
       "    <tr>\n",
       "      <th>18</th>\n",
       "      <td>2010</td>\n",
       "      <td>R</td>\n",
       "      <td>KCSG</td>\n",
       "      <td>KLRD</td>\n",
       "      <td>1130</td>\n",
       "      <td>10</td>\n",
       "    </tr>\n",
       "    <tr>\n",
       "      <th>19</th>\n",
       "      <td>2010</td>\n",
       "      <td>R</td>\n",
       "      <td>KCSG</td>\n",
       "      <td>MGGT</td>\n",
       "      <td>395</td>\n",
       "      <td>6</td>\n",
       "    </tr>\n",
       "    <tr>\n",
       "      <th>20</th>\n",
       "      <td>2010</td>\n",
       "      <td>R</td>\n",
       "      <td>KCSG</td>\n",
       "      <td>MHLM</td>\n",
       "      <td>148</td>\n",
       "      <td>3</td>\n",
       "    </tr>\n",
       "    <tr>\n",
       "      <th>21</th>\n",
       "      <td>2010</td>\n",
       "      <td>R</td>\n",
       "      <td>KCSG</td>\n",
       "      <td>MHTG</td>\n",
       "      <td>198</td>\n",
       "      <td>3</td>\n",
       "    </tr>\n",
       "    <tr>\n",
       "      <th>22</th>\n",
       "      <td>2010</td>\n",
       "      <td>R</td>\n",
       "      <td>KCSG</td>\n",
       "      <td>MSLP</td>\n",
       "      <td>203</td>\n",
       "      <td>7</td>\n",
       "    </tr>\n",
       "    <tr>\n",
       "      <th>23</th>\n",
       "      <td>2010</td>\n",
       "      <td>R</td>\n",
       "      <td>KCVG</td>\n",
       "      <td>KHRL</td>\n",
       "      <td>28</td>\n",
       "      <td>1</td>\n",
       "    </tr>\n",
       "    <tr>\n",
       "      <th>24</th>\n",
       "      <td>2010</td>\n",
       "      <td>R</td>\n",
       "      <td>KDAL</td>\n",
       "      <td>MGGT</td>\n",
       "      <td>161</td>\n",
       "      <td>6</td>\n",
       "    </tr>\n",
       "    <tr>\n",
       "      <th>25</th>\n",
       "      <td>2010</td>\n",
       "      <td>R</td>\n",
       "      <td>KDAL</td>\n",
       "      <td>MHLM</td>\n",
       "      <td>23</td>\n",
       "      <td>1</td>\n",
       "    </tr>\n",
       "    <tr>\n",
       "      <th>26</th>\n",
       "      <td>2010</td>\n",
       "      <td>R</td>\n",
       "      <td>KDAL</td>\n",
       "      <td>MHTG</td>\n",
       "      <td>168</td>\n",
       "      <td>5</td>\n",
       "    </tr>\n",
       "    <tr>\n",
       "      <th>27</th>\n",
       "      <td>2010</td>\n",
       "      <td>R</td>\n",
       "      <td>KDEN</td>\n",
       "      <td>KELP</td>\n",
       "      <td>1</td>\n",
       "      <td>1</td>\n",
       "    </tr>\n",
       "    <tr>\n",
       "      <th>28</th>\n",
       "      <td>2010</td>\n",
       "      <td>R</td>\n",
       "      <td>KDEN</td>\n",
       "      <td>KHRL</td>\n",
       "      <td>811</td>\n",
       "      <td>19</td>\n",
       "    </tr>\n",
       "    <tr>\n",
       "      <th>29</th>\n",
       "      <td>2010</td>\n",
       "      <td>R</td>\n",
       "      <td>KELP</td>\n",
       "      <td>KHRL</td>\n",
       "      <td>1916</td>\n",
       "      <td>43</td>\n",
       "    </tr>\n",
       "    <tr>\n",
       "      <th>...</th>\n",
       "      <td>...</td>\n",
       "      <td>...</td>\n",
       "      <td>...</td>\n",
       "      <td>...</td>\n",
       "      <td>...</td>\n",
       "      <td>...</td>\n",
       "    </tr>\n",
       "    <tr>\n",
       "      <th>2682</th>\n",
       "      <td>2018</td>\n",
       "      <td>T</td>\n",
       "      <td>KRIC</td>\n",
       "      <td>KYNG</td>\n",
       "      <td>25</td>\n",
       "      <td>1</td>\n",
       "    </tr>\n",
       "    <tr>\n",
       "      <th>2683</th>\n",
       "      <td>2018</td>\n",
       "      <td>T</td>\n",
       "      <td>KSAN</td>\n",
       "      <td>KAEX</td>\n",
       "      <td>116</td>\n",
       "      <td>1</td>\n",
       "    </tr>\n",
       "    <tr>\n",
       "      <th>2684</th>\n",
       "      <td>2018</td>\n",
       "      <td>T</td>\n",
       "      <td>KSAN</td>\n",
       "      <td>KELP</td>\n",
       "      <td>266</td>\n",
       "      <td>2</td>\n",
       "    </tr>\n",
       "    <tr>\n",
       "      <th>2685</th>\n",
       "      <td>2018</td>\n",
       "      <td>T</td>\n",
       "      <td>KSAN</td>\n",
       "      <td>KFTW</td>\n",
       "      <td>46</td>\n",
       "      <td>1</td>\n",
       "    </tr>\n",
       "    <tr>\n",
       "      <th>2686</th>\n",
       "      <td>2018</td>\n",
       "      <td>T</td>\n",
       "      <td>KSAN</td>\n",
       "      <td>KIAH</td>\n",
       "      <td>146</td>\n",
       "      <td>2</td>\n",
       "    </tr>\n",
       "    <tr>\n",
       "      <th>2687</th>\n",
       "      <td>2018</td>\n",
       "      <td>T</td>\n",
       "      <td>KSAN</td>\n",
       "      <td>KIWA</td>\n",
       "      <td>2625</td>\n",
       "      <td>46</td>\n",
       "    </tr>\n",
       "    <tr>\n",
       "      <th>2688</th>\n",
       "      <td>2018</td>\n",
       "      <td>T</td>\n",
       "      <td>KSAN</td>\n",
       "      <td>KJAX</td>\n",
       "      <td>103</td>\n",
       "      <td>1</td>\n",
       "    </tr>\n",
       "    <tr>\n",
       "      <th>2689</th>\n",
       "      <td>2018</td>\n",
       "      <td>T</td>\n",
       "      <td>KSAN</td>\n",
       "      <td>KMEM</td>\n",
       "      <td>117</td>\n",
       "      <td>1</td>\n",
       "    </tr>\n",
       "    <tr>\n",
       "      <th>2690</th>\n",
       "      <td>2018</td>\n",
       "      <td>T</td>\n",
       "      <td>KSAN</td>\n",
       "      <td>KPDX</td>\n",
       "      <td>124</td>\n",
       "      <td>1</td>\n",
       "    </tr>\n",
       "    <tr>\n",
       "      <th>2691</th>\n",
       "      <td>2018</td>\n",
       "      <td>T</td>\n",
       "      <td>KSAT</td>\n",
       "      <td>KAEX</td>\n",
       "      <td>96</td>\n",
       "      <td>2</td>\n",
       "    </tr>\n",
       "    <tr>\n",
       "      <th>2692</th>\n",
       "      <td>2018</td>\n",
       "      <td>T</td>\n",
       "      <td>KSAT</td>\n",
       "      <td>KBFI</td>\n",
       "      <td>16</td>\n",
       "      <td>1</td>\n",
       "    </tr>\n",
       "    <tr>\n",
       "      <th>2693</th>\n",
       "      <td>2018</td>\n",
       "      <td>T</td>\n",
       "      <td>KSAT</td>\n",
       "      <td>KELP</td>\n",
       "      <td>171</td>\n",
       "      <td>5</td>\n",
       "    </tr>\n",
       "    <tr>\n",
       "      <th>2694</th>\n",
       "      <td>2018</td>\n",
       "      <td>T</td>\n",
       "      <td>KSAT</td>\n",
       "      <td>KIAH</td>\n",
       "      <td>2</td>\n",
       "      <td>1</td>\n",
       "    </tr>\n",
       "    <tr>\n",
       "      <th>2695</th>\n",
       "      <td>2018</td>\n",
       "      <td>T</td>\n",
       "      <td>KSAT</td>\n",
       "      <td>KIWA</td>\n",
       "      <td>49</td>\n",
       "      <td>1</td>\n",
       "    </tr>\n",
       "    <tr>\n",
       "      <th>2696</th>\n",
       "      <td>2018</td>\n",
       "      <td>T</td>\n",
       "      <td>KSAT</td>\n",
       "      <td>KJAX</td>\n",
       "      <td>107</td>\n",
       "      <td>1</td>\n",
       "    </tr>\n",
       "    <tr>\n",
       "      <th>2697</th>\n",
       "      <td>2018</td>\n",
       "      <td>T</td>\n",
       "      <td>KSAT</td>\n",
       "      <td>KMEM</td>\n",
       "      <td>356</td>\n",
       "      <td>5</td>\n",
       "    </tr>\n",
       "    <tr>\n",
       "      <th>2698</th>\n",
       "      <td>2018</td>\n",
       "      <td>T</td>\n",
       "      <td>KSAT</td>\n",
       "      <td>KTOL</td>\n",
       "      <td>26</td>\n",
       "      <td>1</td>\n",
       "    </tr>\n",
       "    <tr>\n",
       "      <th>2699</th>\n",
       "      <td>2018</td>\n",
       "      <td>T</td>\n",
       "      <td>KSAT</td>\n",
       "      <td>KVCV</td>\n",
       "      <td>133</td>\n",
       "      <td>1</td>\n",
       "    </tr>\n",
       "    <tr>\n",
       "      <th>2700</th>\n",
       "      <td>2018</td>\n",
       "      <td>T</td>\n",
       "      <td>KSLC</td>\n",
       "      <td>KCOS</td>\n",
       "      <td>16</td>\n",
       "      <td>1</td>\n",
       "    </tr>\n",
       "    <tr>\n",
       "      <th>2701</th>\n",
       "      <td>2018</td>\n",
       "      <td>T</td>\n",
       "      <td>KSLC</td>\n",
       "      <td>KDEN</td>\n",
       "      <td>257</td>\n",
       "      <td>20</td>\n",
       "    </tr>\n",
       "    <tr>\n",
       "      <th>2702</th>\n",
       "      <td>2018</td>\n",
       "      <td>T</td>\n",
       "      <td>KSLC</td>\n",
       "      <td>KELP</td>\n",
       "      <td>109</td>\n",
       "      <td>11</td>\n",
       "    </tr>\n",
       "    <tr>\n",
       "      <th>2703</th>\n",
       "      <td>2018</td>\n",
       "      <td>T</td>\n",
       "      <td>KSLC</td>\n",
       "      <td>KIWA</td>\n",
       "      <td>118</td>\n",
       "      <td>21</td>\n",
       "    </tr>\n",
       "    <tr>\n",
       "      <th>2704</th>\n",
       "      <td>2018</td>\n",
       "      <td>T</td>\n",
       "      <td>KSLC</td>\n",
       "      <td>KLAS</td>\n",
       "      <td>1</td>\n",
       "      <td>1</td>\n",
       "    </tr>\n",
       "    <tr>\n",
       "      <th>2705</th>\n",
       "      <td>2018</td>\n",
       "      <td>T</td>\n",
       "      <td>KTOL</td>\n",
       "      <td>KAEX</td>\n",
       "      <td>1462</td>\n",
       "      <td>49</td>\n",
       "    </tr>\n",
       "    <tr>\n",
       "      <th>2706</th>\n",
       "      <td>2018</td>\n",
       "      <td>T</td>\n",
       "      <td>KTOL</td>\n",
       "      <td>KBRO</td>\n",
       "      <td>1</td>\n",
       "      <td>1</td>\n",
       "    </tr>\n",
       "    <tr>\n",
       "      <th>2707</th>\n",
       "      <td>2018</td>\n",
       "      <td>T</td>\n",
       "      <td>KVCV</td>\n",
       "      <td>KBRO</td>\n",
       "      <td>87</td>\n",
       "      <td>1</td>\n",
       "    </tr>\n",
       "    <tr>\n",
       "      <th>2708</th>\n",
       "      <td>2018</td>\n",
       "      <td>T</td>\n",
       "      <td>KYNG</td>\n",
       "      <td>KAEX</td>\n",
       "      <td>9</td>\n",
       "      <td>2</td>\n",
       "    </tr>\n",
       "    <tr>\n",
       "      <th>2709</th>\n",
       "      <td>2018</td>\n",
       "      <td>T</td>\n",
       "      <td>MGGT</td>\n",
       "      <td>KBRO</td>\n",
       "      <td>3</td>\n",
       "      <td>2</td>\n",
       "    </tr>\n",
       "    <tr>\n",
       "      <th>2710</th>\n",
       "      <td>2018</td>\n",
       "      <td>T</td>\n",
       "      <td>MGGT</td>\n",
       "      <td>KMIA</td>\n",
       "      <td>1</td>\n",
       "      <td>1</td>\n",
       "    </tr>\n",
       "    <tr>\n",
       "      <th>2711</th>\n",
       "      <td>2018</td>\n",
       "      <td>T</td>\n",
       "      <td>MSLP</td>\n",
       "      <td>KAEX</td>\n",
       "      <td>2</td>\n",
       "      <td>2</td>\n",
       "    </tr>\n",
       "  </tbody>\n",
       "</table>\n",
       "<p>2712 rows × 6 columns</p>\n",
       "</div>"
      ],
      "text/plain": [
       "      year R-T pickup_airport dropoff_airport  passengers  flights\n",
       "0     2010   R           KAEX            KHRL        2025       23\n",
       "1     2010   R           KAEX            KLRD          27        2\n",
       "2     2010   R           KAEX            MDSD         549        6\n",
       "3     2010   R           KAEX            MGGT        1441       13\n",
       "4     2010   R           KAEX            MHLM         454        5\n",
       "5     2010   R           KAEX            MHTG         756        8\n",
       "6     2010   R           KAEX            MKJP         201        3\n",
       "7     2010   R           KAEX            MSLP         438        5\n",
       "8     2010   R           KAEX            SEGU         343        6\n",
       "9     2010   R           KAEX            SKBO         244        3\n",
       "10    2010   R           KATL            KHRL         652       12\n",
       "11    2010   R           KBFI            KHRL         326       11\n",
       "12    2010   R           KBFI            KSAN        1012       12\n",
       "13    2010   R           KBFL            KIWA          43        3\n",
       "14    2010   R           KBFL            KONT         128        5\n",
       "15    2010   R           KBFL            KSAN        1181       51\n",
       "16    2010   R           KCOS            KHRL         211        5\n",
       "17    2010   R           KCSG            KHRL        1843       16\n",
       "18    2010   R           KCSG            KLRD        1130       10\n",
       "19    2010   R           KCSG            MGGT         395        6\n",
       "20    2010   R           KCSG            MHLM         148        3\n",
       "21    2010   R           KCSG            MHTG         198        3\n",
       "22    2010   R           KCSG            MSLP         203        7\n",
       "23    2010   R           KCVG            KHRL          28        1\n",
       "24    2010   R           KDAL            MGGT         161        6\n",
       "25    2010   R           KDAL            MHLM          23        1\n",
       "26    2010   R           KDAL            MHTG         168        5\n",
       "27    2010   R           KDEN            KELP           1        1\n",
       "28    2010   R           KDEN            KHRL         811       19\n",
       "29    2010   R           KELP            KHRL        1916       43\n",
       "...    ...  ..            ...             ...         ...      ...\n",
       "2682  2018   T           KRIC            KYNG          25        1\n",
       "2683  2018   T           KSAN            KAEX         116        1\n",
       "2684  2018   T           KSAN            KELP         266        2\n",
       "2685  2018   T           KSAN            KFTW          46        1\n",
       "2686  2018   T           KSAN            KIAH         146        2\n",
       "2687  2018   T           KSAN            KIWA        2625       46\n",
       "2688  2018   T           KSAN            KJAX         103        1\n",
       "2689  2018   T           KSAN            KMEM         117        1\n",
       "2690  2018   T           KSAN            KPDX         124        1\n",
       "2691  2018   T           KSAT            KAEX          96        2\n",
       "2692  2018   T           KSAT            KBFI          16        1\n",
       "2693  2018   T           KSAT            KELP         171        5\n",
       "2694  2018   T           KSAT            KIAH           2        1\n",
       "2695  2018   T           KSAT            KIWA          49        1\n",
       "2696  2018   T           KSAT            KJAX         107        1\n",
       "2697  2018   T           KSAT            KMEM         356        5\n",
       "2698  2018   T           KSAT            KTOL          26        1\n",
       "2699  2018   T           KSAT            KVCV         133        1\n",
       "2700  2018   T           KSLC            KCOS          16        1\n",
       "2701  2018   T           KSLC            KDEN         257       20\n",
       "2702  2018   T           KSLC            KELP         109       11\n",
       "2703  2018   T           KSLC            KIWA         118       21\n",
       "2704  2018   T           KSLC            KLAS           1        1\n",
       "2705  2018   T           KTOL            KAEX        1462       49\n",
       "2706  2018   T           KTOL            KBRO           1        1\n",
       "2707  2018   T           KVCV            KBRO          87        1\n",
       "2708  2018   T           KYNG            KAEX           9        2\n",
       "2709  2018   T           MGGT            KBRO           3        2\n",
       "2710  2018   T           MGGT            KMIA           1        1\n",
       "2711  2018   T           MSLP            KAEX           2        2\n",
       "\n",
       "[2712 rows x 6 columns]"
      ]
     },
     "execution_count": 63,
     "metadata": {},
     "output_type": "execute_result"
    }
   ],
   "source": [
    "table"
   ]
  },
  {
   "cell_type": "markdown",
   "metadata": {},
   "source": [
    "# Tracking individual"
   ]
  },
  {
   "cell_type": "code",
   "execution_count": 64,
   "metadata": {},
   "outputs": [
    {
     "data": {
      "text/plain": [
       "Index(['MissionDate', 'Status', 'Sex', 'Convictions', 'GangMember', 'ClassLvl',\n",
       "       'Age', 'MissionNumber', 'PULOC', 'DropLoc', 'StrikeFromList',\n",
       "       'ReasonStruck', 'R-T', 'Code', 'CountryOfCitizenship', 'Juvenile',\n",
       "       'MissionWeek', 'MissionQuarter', 'MissionYear', 'MissionMonth',\n",
       "       'Criminality', 'FamilyUnitFlag', 'UnaccompaniedFlag', 'AlienMasterID',\n",
       "       'MissionID', 'air_AirportID', 'air_AirportName', 'air_City',\n",
       "       'st_StateID', 'st_StateAbbr', 'AOR_AORID', 'AOR_AOR', 'AOR_AORName',\n",
       "       'air_Country', 'air2_AirportID', 'air2_AirportName', 'air2_City',\n",
       "       'st2_StateID', 'st2_StateAbbr', 'aor2_AORID', 'aor2_AOR',\n",
       "       'aor2_AORName', 'air2_Country', 'NonCriminal'],\n",
       "      dtype='object')"
      ]
     },
     "execution_count": 64,
     "metadata": {},
     "output_type": "execute_result"
    }
   ],
   "source": [
    "df.columns"
   ]
  },
  {
   "cell_type": "code",
   "execution_count": 65,
   "metadata": {},
   "outputs": [
    {
     "data": {
      "text/html": [
       "<div>\n",
       "<style scoped>\n",
       "    .dataframe tbody tr th:only-of-type {\n",
       "        vertical-align: middle;\n",
       "    }\n",
       "\n",
       "    .dataframe tbody tr th {\n",
       "        vertical-align: top;\n",
       "    }\n",
       "\n",
       "    .dataframe thead th {\n",
       "        text-align: right;\n",
       "    }\n",
       "</style>\n",
       "<table border=\"1\" class=\"dataframe\">\n",
       "  <thead>\n",
       "    <tr style=\"text-align: right;\">\n",
       "      <th></th>\n",
       "      <th>MissionDate</th>\n",
       "      <th>Status</th>\n",
       "      <th>Sex</th>\n",
       "      <th>Convictions</th>\n",
       "      <th>GangMember</th>\n",
       "      <th>ClassLvl</th>\n",
       "      <th>Age</th>\n",
       "      <th>MissionNumber</th>\n",
       "      <th>PULOC</th>\n",
       "      <th>DropLoc</th>\n",
       "      <th>...</th>\n",
       "      <th>air2_AirportID</th>\n",
       "      <th>air2_AirportName</th>\n",
       "      <th>air2_City</th>\n",
       "      <th>st2_StateID</th>\n",
       "      <th>st2_StateAbbr</th>\n",
       "      <th>aor2_AORID</th>\n",
       "      <th>aor2_AOR</th>\n",
       "      <th>aor2_AORName</th>\n",
       "      <th>air2_Country</th>\n",
       "      <th>NonCriminal</th>\n",
       "    </tr>\n",
       "  </thead>\n",
       "  <tbody>\n",
       "    <tr>\n",
       "      <th>0</th>\n",
       "      <td>2010-10-01</td>\n",
       "      <td>Removal</td>\n",
       "      <td>M</td>\n",
       "      <td>Non-Criminal</td>\n",
       "      <td>No</td>\n",
       "      <td>1.0</td>\n",
       "      <td>18.0</td>\n",
       "      <td>110003</td>\n",
       "      <td>KIWA</td>\n",
       "      <td>MGGT</td>\n",
       "      <td>...</td>\n",
       "      <td>149.0</td>\n",
       "      <td>La Aurora Airport</td>\n",
       "      <td>Guatemala City</td>\n",
       "      <td>NaN</td>\n",
       "      <td>NaN</td>\n",
       "      <td>NaN</td>\n",
       "      <td>NaN</td>\n",
       "      <td>NaN</td>\n",
       "      <td>Guatemala</td>\n",
       "      <td>False</td>\n",
       "    </tr>\n",
       "    <tr>\n",
       "      <th>1</th>\n",
       "      <td>2010-10-01</td>\n",
       "      <td>Removal</td>\n",
       "      <td>M</td>\n",
       "      <td>Non-Criminal</td>\n",
       "      <td>No</td>\n",
       "      <td>1.0</td>\n",
       "      <td>38.0</td>\n",
       "      <td>110003</td>\n",
       "      <td>KIWA</td>\n",
       "      <td>MGGT</td>\n",
       "      <td>...</td>\n",
       "      <td>149.0</td>\n",
       "      <td>La Aurora Airport</td>\n",
       "      <td>Guatemala City</td>\n",
       "      <td>NaN</td>\n",
       "      <td>NaN</td>\n",
       "      <td>NaN</td>\n",
       "      <td>NaN</td>\n",
       "      <td>NaN</td>\n",
       "      <td>Guatemala</td>\n",
       "      <td>False</td>\n",
       "    </tr>\n",
       "    <tr>\n",
       "      <th>2</th>\n",
       "      <td>2010-10-01</td>\n",
       "      <td>Removal</td>\n",
       "      <td>M</td>\n",
       "      <td>Non-Criminal</td>\n",
       "      <td>No</td>\n",
       "      <td>1.0</td>\n",
       "      <td>20.0</td>\n",
       "      <td>110003</td>\n",
       "      <td>KIWA</td>\n",
       "      <td>MGGT</td>\n",
       "      <td>...</td>\n",
       "      <td>149.0</td>\n",
       "      <td>La Aurora Airport</td>\n",
       "      <td>Guatemala City</td>\n",
       "      <td>NaN</td>\n",
       "      <td>NaN</td>\n",
       "      <td>NaN</td>\n",
       "      <td>NaN</td>\n",
       "      <td>NaN</td>\n",
       "      <td>Guatemala</td>\n",
       "      <td>False</td>\n",
       "    </tr>\n",
       "    <tr>\n",
       "      <th>3</th>\n",
       "      <td>2010-10-01</td>\n",
       "      <td>Removal</td>\n",
       "      <td>M</td>\n",
       "      <td>Non-Criminal</td>\n",
       "      <td>No</td>\n",
       "      <td>1.0</td>\n",
       "      <td>29.0</td>\n",
       "      <td>110003</td>\n",
       "      <td>KIWA</td>\n",
       "      <td>MGGT</td>\n",
       "      <td>...</td>\n",
       "      <td>149.0</td>\n",
       "      <td>La Aurora Airport</td>\n",
       "      <td>Guatemala City</td>\n",
       "      <td>NaN</td>\n",
       "      <td>NaN</td>\n",
       "      <td>NaN</td>\n",
       "      <td>NaN</td>\n",
       "      <td>NaN</td>\n",
       "      <td>Guatemala</td>\n",
       "      <td>False</td>\n",
       "    </tr>\n",
       "    <tr>\n",
       "      <th>4</th>\n",
       "      <td>2010-10-01</td>\n",
       "      <td>Removal</td>\n",
       "      <td>M</td>\n",
       "      <td>Non-Criminal</td>\n",
       "      <td>No</td>\n",
       "      <td>1.0</td>\n",
       "      <td>21.0</td>\n",
       "      <td>110003</td>\n",
       "      <td>KIWA</td>\n",
       "      <td>MGGT</td>\n",
       "      <td>...</td>\n",
       "      <td>149.0</td>\n",
       "      <td>La Aurora Airport</td>\n",
       "      <td>Guatemala City</td>\n",
       "      <td>NaN</td>\n",
       "      <td>NaN</td>\n",
       "      <td>NaN</td>\n",
       "      <td>NaN</td>\n",
       "      <td>NaN</td>\n",
       "      <td>Guatemala</td>\n",
       "      <td>False</td>\n",
       "    </tr>\n",
       "  </tbody>\n",
       "</table>\n",
       "<p>5 rows × 44 columns</p>\n",
       "</div>"
      ],
      "text/plain": [
       "  MissionDate   Status Sex   Convictions GangMember  ClassLvl   Age  \\\n",
       "0  2010-10-01  Removal   M  Non-Criminal         No       1.0  18.0   \n",
       "1  2010-10-01  Removal   M  Non-Criminal         No       1.0  38.0   \n",
       "2  2010-10-01  Removal   M  Non-Criminal         No       1.0  20.0   \n",
       "3  2010-10-01  Removal   M  Non-Criminal         No       1.0  29.0   \n",
       "4  2010-10-01  Removal   M  Non-Criminal         No       1.0  21.0   \n",
       "\n",
       "   MissionNumber PULOC DropLoc     ...       air2_AirportID  \\\n",
       "0         110003  KIWA    MGGT     ...                149.0   \n",
       "1         110003  KIWA    MGGT     ...                149.0   \n",
       "2         110003  KIWA    MGGT     ...                149.0   \n",
       "3         110003  KIWA    MGGT     ...                149.0   \n",
       "4         110003  KIWA    MGGT     ...                149.0   \n",
       "\n",
       "    air2_AirportName       air2_City st2_StateID st2_StateAbbr  aor2_AORID  \\\n",
       "0  La Aurora Airport  Guatemala City         NaN           NaN         NaN   \n",
       "1  La Aurora Airport  Guatemala City         NaN           NaN         NaN   \n",
       "2  La Aurora Airport  Guatemala City         NaN           NaN         NaN   \n",
       "3  La Aurora Airport  Guatemala City         NaN           NaN         NaN   \n",
       "4  La Aurora Airport  Guatemala City         NaN           NaN         NaN   \n",
       "\n",
       "   aor2_AOR  aor2_AORName  air2_Country  NonCriminal  \n",
       "0       NaN           NaN     Guatemala        False  \n",
       "1       NaN           NaN     Guatemala        False  \n",
       "2       NaN           NaN     Guatemala        False  \n",
       "3       NaN           NaN     Guatemala        False  \n",
       "4       NaN           NaN     Guatemala        False  \n",
       "\n",
       "[5 rows x 44 columns]"
      ]
     },
     "execution_count": 65,
     "metadata": {},
     "output_type": "execute_result"
    }
   ],
   "source": [
    "df.head()"
   ]
  },
  {
   "cell_type": "code",
   "execution_count": 66,
   "metadata": {},
   "outputs": [],
   "source": [
    "count = df.groupby(['AlienMasterID']).size().reset_index(name='count')"
   ]
  },
  {
   "cell_type": "code",
   "execution_count": 67,
   "metadata": {},
   "outputs": [],
   "source": [
    "count.set_index('AlienMasterID', inplace=True)"
   ]
  },
  {
   "cell_type": "code",
   "execution_count": 68,
   "metadata": {},
   "outputs": [],
   "source": [
    "df.set_index('AlienMasterID', inplace=True)"
   ]
  },
  {
   "cell_type": "code",
   "execution_count": 69,
   "metadata": {},
   "outputs": [],
   "source": [
    "df = df.join(count, how='left')"
   ]
  },
  {
   "cell_type": "code",
   "execution_count": 70,
   "metadata": {},
   "outputs": [],
   "source": [
    "more_than_one = df['count'] > 1"
   ]
  },
  {
   "cell_type": "code",
   "execution_count": 71,
   "metadata": {},
   "outputs": [],
   "source": [
    "multiple_alienID = df[more_than_one]"
   ]
  },
  {
   "cell_type": "code",
   "execution_count": 72,
   "metadata": {},
   "outputs": [],
   "source": [
    "multiple_alienID.to_csv('../output/multiple_alienID.csv.gz', compression='gzip', sep='|')"
   ]
  },
  {
   "cell_type": "markdown",
   "metadata": {},
   "source": [
    "# By nationality"
   ]
  },
  {
   "cell_type": "code",
   "execution_count": 73,
   "metadata": {},
   "outputs": [],
   "source": [
    "nationality = df['CountryOfCitizenship'] == 'GUATEMALA'"
   ]
  },
  {
   "cell_type": "code",
   "execution_count": 74,
   "metadata": {},
   "outputs": [],
   "source": [
    "nationality_df = df[nationality]"
   ]
  },
  {
   "cell_type": "code",
   "execution_count": 75,
   "metadata": {},
   "outputs": [],
   "source": [
    "nationality_df.reset_index(inplace=True)"
   ]
  },
  {
   "cell_type": "code",
   "execution_count": 76,
   "metadata": {},
   "outputs": [],
   "source": [
    "groupby = nationality_df.groupby(['MissionDate', 'R-T', 'PULOC', 'DropLoc'])"
   ]
  },
  {
   "cell_type": "code",
   "execution_count": 77,
   "metadata": {},
   "outputs": [],
   "source": [
    "table = groupby['AlienMasterID'].nunique().reset_index(name='Deportees')"
   ]
  },
  {
   "cell_type": "code",
   "execution_count": 78,
   "metadata": {},
   "outputs": [],
   "source": [
    "repatriations = table[table['R-T'] == 'R'].copy()\n",
    "transfers = table[table['R-T'] == 'T'].copy()"
   ]
  },
  {
   "cell_type": "code",
   "execution_count": 79,
   "metadata": {},
   "outputs": [],
   "source": [
    "repatriations.set_index('MissionDate', inplace=True)"
   ]
  },
  {
   "cell_type": "code",
   "execution_count": 80,
   "metadata": {},
   "outputs": [],
   "source": [
    "r_cum = repatriations['Deportees'].cumsum()"
   ]
  },
  {
   "cell_type": "code",
   "execution_count": 81,
   "metadata": {},
   "outputs": [
    {
     "data": {
      "image/png": "[encoded data removed]",
      "text/plain": [
       "<Figure size 432x288 with 1 Axes>"
      ]
     },
     "metadata": {
      "needs_background": "light"
     },
     "output_type": "display_data"
    }
   ],
   "source": [
    "r_cum.plot();"
   ]
  },
  {
   "cell_type": "markdown",
   "metadata": {},
   "source": [
    "## Juveniles only"
   ]
  },
  {
   "cell_type": "code",
   "execution_count": 82,
   "metadata": {},
   "outputs": [],
   "source": [
    "juv_table = groupby['Juvenile'].sum().reset_index(name='Juveniles')"
   ]
  },
  {
   "cell_type": "code",
   "execution_count": 83,
   "metadata": {},
   "outputs": [],
   "source": [
    "juv_repatriations = juv_table[juv_table['R-T'] == 'R'].copy()\n",
    "juv_transfers = juv_table[juv_table['R-T'] == 'T'].copy()"
   ]
  },
  {
   "cell_type": "code",
   "execution_count": 84,
   "metadata": {},
   "outputs": [],
   "source": [
    "juv_repatriations.set_index('MissionDate', inplace=True)"
   ]
  },
  {
   "cell_type": "code",
   "execution_count": 85,
   "metadata": {},
   "outputs": [],
   "source": [
    "juv_r_cum = juv_repatriations['Juveniles'].cumsum()"
   ]
  },
  {
   "cell_type": "code",
   "execution_count": 86,
   "metadata": {},
   "outputs": [
    {
     "data": {
      "text/plain": [
       "<matplotlib.axes._subplots.AxesSubplot at 0x1a21fa8f60>"
      ]
     },
     "execution_count": 86,
     "metadata": {},
     "output_type": "execute_result"
    },
    {
     "data": {
      "image/png": "[encoded data removed]",
      "text/plain": [
       "<Figure size 432x288 with 1 Axes>"
      ]
     },
     "metadata": {
      "needs_background": "light"
     },
     "output_type": "display_data"
    }
   ],
   "source": [
    "juv_r_cum.plot()"
   ]
  },
  {
   "cell_type": "code",
   "execution_count": 87,
   "metadata": {},
   "outputs": [],
   "source": [
    "repatriations['Juveniles'] = juv_repatriations['Juveniles']"
   ]
  },
  {
   "cell_type": "code",
   "execution_count": 88,
   "metadata": {},
   "outputs": [],
   "source": [
    "repatriations['JuvPercent'] = juv_repatriations['Juveniles'] / repatriations['Deportees']"
   ]
  },
  {
   "cell_type": "code",
   "execution_count": 90,
   "metadata": {},
   "outputs": [
    {
     "data": {
      "text/html": [
       "<div>\n",
       "<style scoped>\n",
       "    .dataframe tbody tr th:only-of-type {\n",
       "        vertical-align: middle;\n",
       "    }\n",
       "\n",
       "    .dataframe tbody tr th {\n",
       "        vertical-align: top;\n",
       "    }\n",
       "\n",
       "    .dataframe thead th {\n",
       "        text-align: right;\n",
       "    }\n",
       "</style>\n",
       "<table border=\"1\" class=\"dataframe\">\n",
       "  <thead>\n",
       "    <tr style=\"text-align: right;\">\n",
       "      <th></th>\n",
       "      <th>R-T</th>\n",
       "      <th>PULOC</th>\n",
       "      <th>DropLoc</th>\n",
       "      <th>Deportees</th>\n",
       "      <th>Juveniles</th>\n",
       "      <th>JuvPercent</th>\n",
       "    </tr>\n",
       "    <tr>\n",
       "      <th>MissionDate</th>\n",
       "      <th></th>\n",
       "      <th></th>\n",
       "      <th></th>\n",
       "      <th></th>\n",
       "      <th></th>\n",
       "      <th></th>\n",
       "    </tr>\n",
       "  </thead>\n",
       "  <tbody>\n",
       "    <tr>\n",
       "      <th>2010-10-01</th>\n",
       "      <td>R</td>\n",
       "      <td>KHRL</td>\n",
       "      <td>MGGT</td>\n",
       "      <td>67</td>\n",
       "      <td>5.0</td>\n",
       "      <td>0.074627</td>\n",
       "    </tr>\n",
       "    <tr>\n",
       "      <th>2010-10-01</th>\n",
       "      <td>R</td>\n",
       "      <td>KIWA</td>\n",
       "      <td>MGGT</td>\n",
       "      <td>121</td>\n",
       "      <td>4.0</td>\n",
       "      <td>0.033058</td>\n",
       "    </tr>\n",
       "    <tr>\n",
       "      <th>2010-10-01</th>\n",
       "      <td>R</td>\n",
       "      <td>KSAT</td>\n",
       "      <td>MGGT</td>\n",
       "      <td>37</td>\n",
       "      <td>0.0</td>\n",
       "      <td>0.000000</td>\n",
       "    </tr>\n",
       "    <tr>\n",
       "      <th>2010-10-04</th>\n",
       "      <td>R</td>\n",
       "      <td>KMIA</td>\n",
       "      <td>MGGT</td>\n",
       "      <td>46</td>\n",
       "      <td>3.0</td>\n",
       "      <td>0.065217</td>\n",
       "    </tr>\n",
       "    <tr>\n",
       "      <th>2010-10-05</th>\n",
       "      <td>R</td>\n",
       "      <td>KELP</td>\n",
       "      <td>MGGT</td>\n",
       "      <td>23</td>\n",
       "      <td>1.0</td>\n",
       "      <td>0.043478</td>\n",
       "    </tr>\n",
       "  </tbody>\n",
       "</table>\n",
       "</div>"
      ],
      "text/plain": [
       "            R-T PULOC DropLoc  Deportees  Juveniles  JuvPercent\n",
       "MissionDate                                                    \n",
       "2010-10-01    R  KHRL    MGGT         67        5.0    0.074627\n",
       "2010-10-01    R  KIWA    MGGT        121        4.0    0.033058\n",
       "2010-10-01    R  KSAT    MGGT         37        0.0    0.000000\n",
       "2010-10-04    R  KMIA    MGGT         46        3.0    0.065217\n",
       "2010-10-05    R  KELP    MGGT         23        1.0    0.043478"
      ]
     },
     "execution_count": 90,
     "metadata": {},
     "output_type": "execute_result"
    }
   ],
   "source": [
    "repatriations.head()"
   ]
  },
  {
   "cell_type": "markdown",
   "metadata": {},
   "source": [
    "# Rate of flights"
   ]
  },
  {
   "cell_type": "markdown",
   "metadata": {},
   "source": [
    "## Global"
   ]
  },
  {
   "cell_type": "code",
   "execution_count": 93,
   "metadata": {},
   "outputs": [],
   "source": [
    "df.reset_index(inplace=True)\n",
    "df.set_index('MissionDate', inplace=True)"
   ]
  },
  {
   "cell_type": "code",
   "execution_count": 100,
   "metadata": {},
   "outputs": [],
   "source": [
    "daily_flights = df['MissionID'].resample('D').nunique()\n",
    "monthly_flights = df['MissionID'].resample('M').nunique()\n",
    "quarterly_flights = df['MissionID'].resample('Q').nunique()\n",
    "annual_flights = df.loc['2011':'2018']['MissionID'].resample('AS').nunique()"
   ]
  },
  {
   "cell_type": "code",
   "execution_count": 101,
   "metadata": {},
   "outputs": [
    {
     "data": {
      "text/plain": [
       "MissionDate\n",
       "2011-01-01    2117\n",
       "2012-01-01    2368\n",
       "2013-01-01    2041\n",
       "2014-01-01    2094\n",
       "2015-01-01    1306\n",
       "2016-01-01    1540\n",
       "2017-01-01    1514\n",
       "2018-01-01    1545\n",
       "Freq: AS-JAN, Name: MissionID, dtype: int64"
      ]
     },
     "execution_count": 101,
     "metadata": {},
     "output_type": "execute_result"
    }
   ],
   "source": [
    "annual_flights"
   ]
  },
  {
   "cell_type": "code",
   "execution_count": 121,
   "metadata": {},
   "outputs": [],
   "source": [
    "monthly_means = pd.DataFrame(columns=['year', 'monthly_mean_flights'])\n",
    "for year in range(2011, 2019):\n",
    "    mean = monthly_flights[f'{year}'].mean()\n",
    "    monthly_means = monthly_means.append({'year':year, 'monthly_mean_flights':mean}, ignore_index=True)"
   ]
  },
  {
   "cell_type": "code",
   "execution_count": 122,
   "metadata": {},
   "outputs": [
    {
     "data": {
      "text/html": [
       "<div>\n",
       "<style scoped>\n",
       "    .dataframe tbody tr th:only-of-type {\n",
       "        vertical-align: middle;\n",
       "    }\n",
       "\n",
       "    .dataframe tbody tr th {\n",
       "        vertical-align: top;\n",
       "    }\n",
       "\n",
       "    .dataframe thead th {\n",
       "        text-align: right;\n",
       "    }\n",
       "</style>\n",
       "<table border=\"1\" class=\"dataframe\">\n",
       "  <thead>\n",
       "    <tr style=\"text-align: right;\">\n",
       "      <th></th>\n",
       "      <th>year</th>\n",
       "      <th>monthly_mean_flights</th>\n",
       "    </tr>\n",
       "  </thead>\n",
       "  <tbody>\n",
       "    <tr>\n",
       "      <th>0</th>\n",
       "      <td>2011.0</td>\n",
       "      <td>8.333333</td>\n",
       "    </tr>\n",
       "    <tr>\n",
       "      <th>1</th>\n",
       "      <td>2012.0</td>\n",
       "      <td>4.833333</td>\n",
       "    </tr>\n",
       "    <tr>\n",
       "      <th>2</th>\n",
       "      <td>2013.0</td>\n",
       "      <td>4.083333</td>\n",
       "    </tr>\n",
       "    <tr>\n",
       "      <th>3</th>\n",
       "      <td>2014.0</td>\n",
       "      <td>3.916667</td>\n",
       "    </tr>\n",
       "    <tr>\n",
       "      <th>4</th>\n",
       "      <td>2015.0</td>\n",
       "      <td>2.833333</td>\n",
       "    </tr>\n",
       "    <tr>\n",
       "      <th>5</th>\n",
       "      <td>2016.0</td>\n",
       "      <td>4.500000</td>\n",
       "    </tr>\n",
       "    <tr>\n",
       "      <th>6</th>\n",
       "      <td>2017.0</td>\n",
       "      <td>4.250000</td>\n",
       "    </tr>\n",
       "    <tr>\n",
       "      <th>7</th>\n",
       "      <td>2018.0</td>\n",
       "      <td>4.166667</td>\n",
       "    </tr>\n",
       "  </tbody>\n",
       "</table>\n",
       "</div>"
      ],
      "text/plain": [
       "     year  monthly_mean_flights\n",
       "0  2011.0              8.333333\n",
       "1  2012.0              4.833333\n",
       "2  2013.0              4.083333\n",
       "3  2014.0              3.916667\n",
       "4  2015.0              2.833333\n",
       "5  2016.0              4.500000\n",
       "6  2017.0              4.250000\n",
       "7  2018.0              4.166667"
      ]
     },
     "execution_count": 122,
     "metadata": {},
     "output_type": "execute_result"
    }
   ],
   "source": [
    "monthly_means"
   ]
  },
  {
   "cell_type": "markdown",
   "metadata": {},
   "source": [
    "## Specific airport"
   ]
  },
  {
   "cell_type": "code",
   "execution_count": 104,
   "metadata": {},
   "outputs": [],
   "source": [
    "airport = 'KBFI'"
   ]
  },
  {
   "cell_type": "code",
   "execution_count": 124,
   "metadata": {},
   "outputs": [],
   "source": [
    "pickup_airport_df = df[df['PULOC'] == airport]\n",
    "dropoff_airport_df = df[df['DropLoc'] == airport]"
   ]
  },
  {
   "cell_type": "code",
   "execution_count": 125,
   "metadata": {},
   "outputs": [],
   "source": [
    "daily_flights = pickup_airport_df['MissionID'].resample('D').nunique()\n",
    "monthly_flights = pickup_airport_df['MissionID'].resample('M').nunique()\n",
    "monthly_pickups = pickup_airport_df['AlienMasterID'].resample('M').nunique()\n",
    "monthly_dropoffs = dropoff_airport_df['AlienMasterID'].resample('M').nunique()\n",
    "quarterly_flights = pickup_airport_df['MissionID'].resample('Q').nunique()\n",
    "annual_flights = pickup_airport_df.loc['2011':'2018']['MissionID'].resample('AS').nunique()\n",
    "annual_pickups = pickup_airport_df.loc['2011':'2018']['AlienMasterID'].resample('AS').nunique()\n",
    "annual_dropoffs = pickup_airport_df.loc['2011':'2018']['AlienMasterID'].resample('AS').nunique()"
   ]
  },
  {
   "cell_type": "code",
   "execution_count": 126,
   "metadata": {},
   "outputs": [
    {
     "data": {
      "text/plain": [
       "MissionDate\n",
       "2011-01-01    100\n",
       "2012-01-01     58\n",
       "2013-01-01     49\n",
       "2014-01-01     47\n",
       "2015-01-01     34\n",
       "2016-01-01     54\n",
       "2017-01-01     51\n",
       "2018-01-01     50\n",
       "Freq: AS-JAN, Name: MissionID, dtype: int64"
      ]
     },
     "execution_count": 126,
     "metadata": {},
     "output_type": "execute_result"
    }
   ],
   "source": [
    "annual_flights"
   ]
  },
  {
   "cell_type": "code",
   "execution_count": 129,
   "metadata": {},
   "outputs": [],
   "source": [
    "monthly_mean_pickups = pd.DataFrame(columns=['year', 'monthly_mean_pickups'])\n",
    "for year in range(2011, 2019):\n",
    "    mean = monthly_pickups[f'{year}'].mean()\n",
    "    monthly_mean_pickups = monthly_mean_pickups.append({'year':year, 'monthly_mean_pickups':mean}, ignore_index=True)"
   ]
  },
  {
   "cell_type": "code",
   "execution_count": 130,
   "metadata": {},
   "outputs": [
    {
     "data": {
      "text/html": [
       "<div>\n",
       "<style scoped>\n",
       "    .dataframe tbody tr th:only-of-type {\n",
       "        vertical-align: middle;\n",
       "    }\n",
       "\n",
       "    .dataframe tbody tr th {\n",
       "        vertical-align: top;\n",
       "    }\n",
       "\n",
       "    .dataframe thead th {\n",
       "        text-align: right;\n",
       "    }\n",
       "</style>\n",
       "<table border=\"1\" class=\"dataframe\">\n",
       "  <thead>\n",
       "    <tr style=\"text-align: right;\">\n",
       "      <th></th>\n",
       "      <th>year</th>\n",
       "      <th>monthly_mean_pickups</th>\n",
       "    </tr>\n",
       "  </thead>\n",
       "  <tbody>\n",
       "    <tr>\n",
       "      <th>0</th>\n",
       "      <td>2011.0</td>\n",
       "      <td>544.166667</td>\n",
       "    </tr>\n",
       "    <tr>\n",
       "      <th>1</th>\n",
       "      <td>2012.0</td>\n",
       "      <td>450.166667</td>\n",
       "    </tr>\n",
       "    <tr>\n",
       "      <th>2</th>\n",
       "      <td>2013.0</td>\n",
       "      <td>383.583333</td>\n",
       "    </tr>\n",
       "    <tr>\n",
       "      <th>3</th>\n",
       "      <td>2014.0</td>\n",
       "      <td>300.000000</td>\n",
       "    </tr>\n",
       "    <tr>\n",
       "      <th>4</th>\n",
       "      <td>2015.0</td>\n",
       "      <td>237.666667</td>\n",
       "    </tr>\n",
       "    <tr>\n",
       "      <th>5</th>\n",
       "      <td>2016.0</td>\n",
       "      <td>264.833333</td>\n",
       "    </tr>\n",
       "    <tr>\n",
       "      <th>6</th>\n",
       "      <td>2017.0</td>\n",
       "      <td>288.500000</td>\n",
       "    </tr>\n",
       "    <tr>\n",
       "      <th>7</th>\n",
       "      <td>2018.0</td>\n",
       "      <td>273.166667</td>\n",
       "    </tr>\n",
       "  </tbody>\n",
       "</table>\n",
       "</div>"
      ],
      "text/plain": [
       "     year  monthly_mean_pickups\n",
       "0  2011.0            544.166667\n",
       "1  2012.0            450.166667\n",
       "2  2013.0            383.583333\n",
       "3  2014.0            300.000000\n",
       "4  2015.0            237.666667\n",
       "5  2016.0            264.833333\n",
       "6  2017.0            288.500000\n",
       "7  2018.0            273.166667"
      ]
     },
     "execution_count": 130,
     "metadata": {},
     "output_type": "execute_result"
    }
   ],
   "source": [
    "monthly_mean_pickups"
   ]
  },
  {
   "cell_type": "code",
   "execution_count": 134,
   "metadata": {},
   "outputs": [
    {
     "data": {
      "text/plain": [
       "MissionYear  R-T  CountryOfCitizenship\n",
       "2010         R    MEXICO                  1338\n",
       "             T    CAMBODIA                   1\n",
       "                  ECUADOR                   11\n",
       "                  EL SALVADOR               34\n",
       "                  GUATEMALA                 98\n",
       "                  HONDURAS                  52\n",
       "                  MEXICO                     1\n",
       "                  NICARAGUA                  3\n",
       "2011         R    CHINA                      6\n",
       "                  MEXICO                  5729\n",
       "             T    AFGHANISTAN                1\n",
       "                  ARGENTINA                  1\n",
       "                  BULGARIA                   1\n",
       "                  CAMBODIA                   1\n",
       "                  CHINA                      1\n",
       "                  COLOMBIA                   7\n",
       "                  DOMINICAN REPUBLIC         3\n",
       "                  ECUADOR                   19\n",
       "                  EL SALVADOR              189\n",
       "                  GUATEMALA                380\n",
       "                  HONDURAS                 160\n",
       "                  INDIA                      4\n",
       "                  JAMAICA                    3\n",
       "                  MEXICO                    10\n",
       "                  NICARAGUA                 11\n",
       "                  QATAR                      1\n",
       "                  RWANDA                     1\n",
       "                  TAIWAN                     1\n",
       "                  VIETNAM                    1\n",
       "2012         R    GUATEMALA                114\n",
       "                                          ... \n",
       "2018         T    CAMEROON                   1\n",
       "                  COLOMBIA                   9\n",
       "                  CUBA                       1\n",
       "                  DOMINICAN REPUBLIC         4\n",
       "                  ECUADOR                   14\n",
       "                  EL SALVADOR              167\n",
       "                  GAMBIA                     5\n",
       "                  GHANA                      2\n",
       "                  GUATEMALA                366\n",
       "                  GUINEA                     3\n",
       "                  HAITI                     15\n",
       "                  HONDURAS                 246\n",
       "                  INDIA                      4\n",
       "                  IRAQ                       1\n",
       "                  JAMAICA                    4\n",
       "                  KENYA                      2\n",
       "                  MEXICO                   939\n",
       "                  MOROCCO                    1\n",
       "                  NICARAGUA                 10\n",
       "                  PAKISTAN                   2\n",
       "                  PERU                       1\n",
       "                  ROMANIA                    1\n",
       "                  RUSSIA                     6\n",
       "                  SAMOA                      2\n",
       "                  SENEGAL                    1\n",
       "                  SIERRA LEONE               1\n",
       "                  SOMALIA                   16\n",
       "                  SOUTH SUDAN                2\n",
       "                  STATELESS                  1\n",
       "                  UNITED KINGDOM             1\n",
       "Name: AlienMasterID, Length: 221, dtype: int64"
      ]
     },
     "execution_count": 134,
     "metadata": {},
     "output_type": "execute_result"
    }
   ],
   "source": [
    "pickup_airport_df.groupby(['MissionYear', 'R-T', 'CountryOfCitizenship'])['AlienMasterID'].nunique()"
   ]
  },
  {
   "cell_type": "code",
   "execution_count": null,
   "metadata": {},
   "outputs": [],
   "source": []
  }
 ],
 "metadata": {
  "kernelspec": {
   "display_name": "Python 3",
   "language": "python",
   "name": "python3"
  },
  "language_info": {
   "codemirror_mode": {
    "name": "ipython",
    "version": 3
   },
   "file_extension": ".py",
   "mimetype": "text/x-python",
   "name": "python",
   "nbconvert_exporter": "python",
   "pygments_lexer": "ipython3",
   "version": "3.7.1"
  }
 },
 "nbformat": 4,
 "nbformat_minor": 2
}
