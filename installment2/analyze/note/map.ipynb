{
 "cells": [
  {
   "cell_type": "code",
   "execution_count": 7,
   "metadata": {},
   "outputs": [],
   "source": [
    "import pandas as pd\n",
    "import numpy as np\n",
    "import networkx as nx\n",
    "import matplotlib.pyplot as plt\n",
    "import matplotlib as mpl\n",
    "import matplotlib.colors as colors\n",
    "from matplotlib.pyplot import cm\n",
    "from mpl_toolkits.axes_grid1 import make_axes_locatable\n",
    "from matplotlib.ticker import LogFormatter\n",
    "import cartopy.crs as ccrs\n",
    "import cartopy.io.shapereader as shpreader\n",
    "import cartopy.feature as cfeature\n",
    "import yaml"
   ]
  },
  {
   "cell_type": "code",
   "execution_count": 8,
   "metadata": {},
   "outputs": [],
   "source": [
    "with open('../input/mission-dtypes.yaml', 'r') as yamlfile:\n",
    "    column_types = yaml.load(yamlfile)\n",
    "\n",
    "read_csv_opts = {'sep': '|',\n",
    "                 'quotechar': '\"',\n",
    "                 'compression': 'gzip',\n",
    "                 'encoding': 'utf-8',\n",
    "                 'dtype': column_types,\n",
    "                 'parse_dates': ['MissionDate'],\n",
    "                 'infer_datetime_format': True}\n",
    "\n",
    "df = pd.read_csv('../input/ice-air-missions.csv.gz', **read_csv_opts)"
   ]
  },
  {
   "cell_type": "code",
   "execution_count": 9,
   "metadata": {},
   "outputs": [],
   "source": [
    "with open('../input/airport_dict.yaml', 'r') as yamlfile:\n",
    "    airport_dict = yaml.load(yamlfile)"
   ]
  },
  {
   "cell_type": "code",
   "execution_count": 21,
   "metadata": {},
   "outputs": [],
   "source": [
    "# Need to doublecheck or redo how airport_dict is generated, missing needed airports\n",
    "\n",
    "pgum = {'AirportName': 'Antonio B. Won Pat International Airport',\n",
    "  'City': 'Barrigada and Tamuning',\n",
    "  'Country': 'Guam',\n",
    "  'LatitudeDecimalDegrees': 13.484,\n",
    "  'LongitudeDecimalDegrees': 144.797,\n",
    "  'State': np.nan}\n",
    "\n",
    "airport_dict['PGUM'] = pgum"
   ]
  },
  {
   "cell_type": "code",
   "execution_count": 10,
   "metadata": {},
   "outputs": [],
   "source": [
    "stop_cols = ['MsnStart',\n",
    "             'MsnStpOne',\n",
    "             'MsnStpTwo',\n",
    "             'MsnStpThree',\n",
    "             'MsnStpFour',\n",
    "             'MsnStpFive',\n",
    "             'MsnStpSix',\n",
    "             'MsnStpSeven',\n",
    "             'MsnStpEight',\n",
    "             'MsnEnd']"
   ]
  },
  {
   "cell_type": "code",
   "execution_count": 11,
   "metadata": {},
   "outputs": [],
   "source": [
    "def lat_long_lookup(data=pd.DataFrame):\n",
    "    for i, v in data.iteritems():\n",
    "        try:\n",
    "            lat = airport_dict[v]['LatitudeDecimalDegrees']\n",
    "            lon = airport_dict[v]['LongitudeDecimalDegrees']\n",
    "            return (lat, lon)\n",
    "#             print(lat,lon)\n",
    "        except:\n",
    "            pass"
   ]
  },
  {
   "cell_type": "code",
   "execution_count": 12,
   "metadata": {},
   "outputs": [],
   "source": [
    "# for i in range(len(df)):\n",
    "#     try:\n",
    "#         [(airport_dict[x]['LatitudeDecimalDegrees'], airport_dict[x]['LongitudeDecimalDegrees']) for x in df[stop_cols].loc[i] if pd.notnull(x)]\n",
    "#     except:\n",
    "#         pass"
   ]
  },
  {
   "cell_type": "code",
   "execution_count": 13,
   "metadata": {},
   "outputs": [],
   "source": [
    "# [(airport_dict[x]['LongitudeDecimalDegrees'], airport_dict[x]['LatitudeDecimalDegrees']) for x in df[stop_cols].loc[0] if pd.notnull(x)]"
   ]
  },
  {
   "cell_type": "code",
   "execution_count": 14,
   "metadata": {},
   "outputs": [],
   "source": [
    "# df.reset_index(inplace=True)"
   ]
  },
  {
   "cell_type": "code",
   "execution_count": 17,
   "metadata": {},
   "outputs": [],
   "source": [
    "df.set_index('MissionDate', inplace=True)\n",
    "# df.set_index('MissionID', inplace=True)"
   ]
  },
  {
   "cell_type": "code",
   "execution_count": 18,
   "metadata": {},
   "outputs": [],
   "source": [
    "# df_to_plot = pd.DataFrame(df.loc[df['MissionTotalCost'].idxmax()]).T\n",
    "df_to_plot = pd.DataFrame(df.loc['2019'])\n",
    "# df_to_plot = pd.DataFrame(df.loc[47735]).T\n",
    "# df_to_plot = df.sort_values(by='MissionTotalCost', ascending=False).head(20)\n",
    "# df_to_plot.reset_index(inplace=True)"
   ]
  },
  {
   "cell_type": "code",
   "execution_count": 19,
   "metadata": {},
   "outputs": [
    {
     "data": {
      "text/html": [
       "<div>\n",
       "<style scoped>\n",
       "    .dataframe tbody tr th:only-of-type {\n",
       "        vertical-align: middle;\n",
       "    }\n",
       "\n",
       "    .dataframe tbody tr th {\n",
       "        vertical-align: top;\n",
       "    }\n",
       "\n",
       "    .dataframe thead th {\n",
       "        text-align: right;\n",
       "    }\n",
       "</style>\n",
       "<table border=\"1\" class=\"dataframe\">\n",
       "  <thead>\n",
       "    <tr style=\"text-align: right;\">\n",
       "      <th></th>\n",
       "      <th>MsnStart</th>\n",
       "      <th>MsnStpOne</th>\n",
       "      <th>MsnStpTwo</th>\n",
       "      <th>MsnStpThree</th>\n",
       "      <th>MsnStpFour</th>\n",
       "      <th>MsnStpFive</th>\n",
       "      <th>MsnStpSix</th>\n",
       "      <th>MsnStpSeven</th>\n",
       "      <th>MsnStpEight</th>\n",
       "      <th>MsnEnd</th>\n",
       "    </tr>\n",
       "    <tr>\n",
       "      <th>MissionDate</th>\n",
       "      <th></th>\n",
       "      <th></th>\n",
       "      <th></th>\n",
       "      <th></th>\n",
       "      <th></th>\n",
       "      <th></th>\n",
       "      <th></th>\n",
       "      <th></th>\n",
       "      <th></th>\n",
       "      <th></th>\n",
       "    </tr>\n",
       "  </thead>\n",
       "  <tbody>\n",
       "    <tr>\n",
       "      <th>2019-01-02</th>\n",
       "      <td>KIWA</td>\n",
       "      <td>KBFI</td>\n",
       "      <td>KLAS</td>\n",
       "      <td>KELP</td>\n",
       "      <td>NaN</td>\n",
       "      <td>NaN</td>\n",
       "      <td>NaN</td>\n",
       "      <td>NaN</td>\n",
       "      <td>NaN</td>\n",
       "      <td>KIWA</td>\n",
       "    </tr>\n",
       "    <tr>\n",
       "      <th>2019-01-02</th>\n",
       "      <td>KIWA</td>\n",
       "      <td>KDAL</td>\n",
       "      <td>KONT</td>\n",
       "      <td>NaN</td>\n",
       "      <td>NaN</td>\n",
       "      <td>NaN</td>\n",
       "      <td>NaN</td>\n",
       "      <td>NaN</td>\n",
       "      <td>NaN</td>\n",
       "      <td>KIWA</td>\n",
       "    </tr>\n",
       "    <tr>\n",
       "      <th>2019-01-02</th>\n",
       "      <td>KBRO</td>\n",
       "      <td>MHLM</td>\n",
       "      <td>NaN</td>\n",
       "      <td>NaN</td>\n",
       "      <td>NaN</td>\n",
       "      <td>NaN</td>\n",
       "      <td>NaN</td>\n",
       "      <td>NaN</td>\n",
       "      <td>NaN</td>\n",
       "      <td>KBRO</td>\n",
       "    </tr>\n",
       "    <tr>\n",
       "      <th>2019-01-02</th>\n",
       "      <td>KAEX</td>\n",
       "      <td>KPSM</td>\n",
       "      <td>KEWR</td>\n",
       "      <td>NaN</td>\n",
       "      <td>NaN</td>\n",
       "      <td>NaN</td>\n",
       "      <td>NaN</td>\n",
       "      <td>NaN</td>\n",
       "      <td>NaN</td>\n",
       "      <td>KAEX</td>\n",
       "    </tr>\n",
       "    <tr>\n",
       "      <th>2019-01-02</th>\n",
       "      <td>KAEX</td>\n",
       "      <td>KRIC</td>\n",
       "      <td>KTOL</td>\n",
       "      <td>KBRO</td>\n",
       "      <td>NaN</td>\n",
       "      <td>NaN</td>\n",
       "      <td>NaN</td>\n",
       "      <td>NaN</td>\n",
       "      <td>NaN</td>\n",
       "      <td>KAEX</td>\n",
       "    </tr>\n",
       "  </tbody>\n",
       "</table>\n",
       "</div>"
      ],
      "text/plain": [
       "            MsnStart MsnStpOne MsnStpTwo MsnStpThree MsnStpFour MsnStpFive  \\\n",
       "MissionDate                                                                  \n",
       "2019-01-02      KIWA      KBFI      KLAS        KELP        NaN        NaN   \n",
       "2019-01-02      KIWA      KDAL      KONT         NaN        NaN        NaN   \n",
       "2019-01-02      KBRO      MHLM       NaN         NaN        NaN        NaN   \n",
       "2019-01-02      KAEX      KPSM      KEWR         NaN        NaN        NaN   \n",
       "2019-01-02      KAEX      KRIC      KTOL        KBRO        NaN        NaN   \n",
       "\n",
       "            MsnStpSix MsnStpSeven MsnStpEight MsnEnd  \n",
       "MissionDate                                           \n",
       "2019-01-02        NaN         NaN         NaN   KIWA  \n",
       "2019-01-02        NaN         NaN         NaN   KIWA  \n",
       "2019-01-02        NaN         NaN         NaN   KBRO  \n",
       "2019-01-02        NaN         NaN         NaN   KAEX  \n",
       "2019-01-02        NaN         NaN         NaN   KAEX  "
      ]
     },
     "execution_count": 19,
     "metadata": {},
     "output_type": "execute_result"
    }
   ],
   "source": [
    "df_to_plot[stop_cols].head()"
   ]
  },
  {
   "cell_type": "code",
   "execution_count": 36,
   "metadata": {},
   "outputs": [
    {
     "data": {
      "image/png": "[encoded data removed]",
      "text/plain": [
       "<Figure size 864x576 with 1 Axes>"
      ]
     },
     "metadata": {
      "needs_background": "light"
     },
     "output_type": "display_data"
    }
   ],
   "source": [
    "cm_lon=-109\n",
    "ax_proj = ccrs.PlateCarree(central_longitude=cm_lon)\n",
    "\n",
    "fig, ax = plt.subplots(\n",
    "    1, 1, figsize=(12, 8),\n",
    "    subplot_kw=dict(projection=ax_proj))\n",
    "# ax.stock_img()\n",
    "ax.set_global()\n",
    "ax.coastlines(alpha=.4)\n",
    "ax.add_feature(cfeature.BORDERS, alpha=.4)\n",
    "ax.add_feature(cfeature.STATES, alpha=.2)\n",
    "\n",
    "# Extent of continental US.\n",
    "# ax.set_extent([-128, -62, 10, 50])\n",
    "\n",
    "limit = len(df_to_plot)\n",
    "counter = 0\n",
    "\n",
    "color=iter(cm.rainbow(np.linspace(0,1,limit+1)))\n",
    "\n",
    "for i, row in df_to_plot[stop_cols].iterrows():\n",
    "    if counter > limit:\n",
    "        break\n",
    "    c=next(color)\n",
    "    itinerary = row[stop_cols]\n",
    "    itinerary.dropna(inplace=True)\n",
    "    len_stops = len(itinerary)\n",
    "    for i in range(len_stops): #Add something to stop when reaching last airport\n",
    "        try:\n",
    "            point_1_code = itinerary[i]\n",
    "            point_1_lon = airport_dict[point_1_code]['LongitudeDecimalDegrees']\n",
    "            point_1_lat = airport_dict[point_1_code]['LatitudeDecimalDegrees']\n",
    "            \n",
    "            point_2_code = itinerary[i+1]\n",
    "            point_2_lon = airport_dict[point_2_code]['LongitudeDecimalDegrees']\n",
    "            point_2_lat = airport_dict[point_2_code]['LatitudeDecimalDegrees']\n",
    "            \n",
    "            if point_1_code == point_2_code:\n",
    "                break\n",
    "            \n",
    "            # Only want this to trigger if crossing dateline (-180)\n",
    "            # Current implementation arbitrarily separates flights on either side of 45 degress long\n",
    "            # May cause problem if any flights cross 45\n",
    "            if point_1_lon < 0 and point_2_lon > 0 and point_2_lon > 45:\n",
    "                point_2_lon = point_2_lon - 360\n",
    "                \n",
    "            if point_1_lon > 0 and point_2_lon < 0 and point_2_lon > 45:\n",
    "                point_2_lon = point_2_lon + 360\n",
    "            \n",
    "            npts = 2\n",
    "            x, y = np.linspace(point_1_lon, point_2_lon, npts), np.linspace(point_1_lat, point_2_lat, npts)\n",
    "\n",
    "            # Plate Carree\n",
    "#             plt.plot(x+cm_lon, y,\n",
    "#             color=c, marker='o', linewidth=2, transform=ax_proj)\n",
    "            \n",
    "#             plt.text(point_1_lon + cm_lon + 1, point_1_lat + 1, point_1_code,\n",
    "#             horizontalalignment='right',\n",
    "#             transform=ax_proj)\n",
    "            \n",
    "#             plt.text(point_2_lon + cm_lon + 1, point_2_lat + 1, point_2_code,\n",
    "#             horizontalalignment='right',\n",
    "#             transform=ax_proj)\n",
    "            \n",
    "            # Geodetic (automatically understands longitude offset?!)\n",
    "            plt.plot(x, y,\n",
    "            color=c, linewidth=2, transform=ccrs.Geodetic())\n",
    "            \n",
    "#             plt.text(point_1_lon + 1, point_1_lat + 1, point_1_code,\n",
    "#             horizontalalignment='right',\n",
    "#             transform=ccrs.Geodetic())\n",
    "            \n",
    "#             plt.text(point_2_lon + 1, point_2_lat + 1, point_2_code,\n",
    "#             horizontalalignment='right',\n",
    "#             transform=ccrs.Geodetic())\n",
    "\n",
    "            \n",
    "            \n",
    "        except:\n",
    "#             print(f'Could not plot {point_1_code}->{point_2_code}')\n",
    "            pass\n",
    "    counter=counter + 1\n",
    "\n",
    "\n",
    "\n",
    "# plt.text(point_2_lon +.1, point_2_lat +.1, 'point_2',\n",
    "#          horizontalalignment='left',\n",
    "#          transform=ccrs.PlateCarree())\n",
    "\n",
    "plt.show()"
   ]
  },
  {
   "cell_type": "code",
   "execution_count": 37,
   "metadata": {},
   "outputs": [],
   "source": [
    "stops = df[stop_cols].apply(lambda x: x.astype(object))\n",
    "\n",
    "stops = stops.fillna('-')\n",
    "\n",
    "loop_count = stops.groupby(stops.columns.tolist()).size().reset_index().\\\n",
    "    rename(columns={0:'records'})\n",
    "\n",
    "loop_count = loop_count.sort_values(by='records', ascending=False)\n",
    "\n",
    "loop_count = loop_count.replace({'-': np.nan})"
   ]
  },
  {
   "cell_type": "code",
   "execution_count": null,
   "metadata": {},
   "outputs": [],
   "source": [
    "cm_lon=-109\n",
    "ax_proj = ccrs.PlateCarree(central_longitude=cm_lon)\n",
    "\n",
    "fig, ax = plt.subplots(\n",
    "    1, 1, figsize=(12, 8),\n",
    "    subplot_kw=dict(projection=ax_proj))\n",
    "# ax.stock_img()\n",
    "ax.set_global()\n",
    "ax.coastlines(alpha=.4)\n",
    "ax.add_feature(cfeature.BORDERS, alpha=.4)\n",
    "ax.add_feature(cfeature.STATES, alpha=.2)\n",
    "\n",
    "# Extent of continental US.\n",
    "# ax.set_extent([-128, -62, 10, 50])\n",
    "\n",
    "limit = len(loop_count)\n",
    "counter = 0\n",
    "\n",
    "color=iter(cm.viridis(np.linspace(0,1,limit+1)))\n",
    "\n",
    "for i, row in loop_count.iterrows():\n",
    "    if counter > limit:\n",
    "        break\n",
    "    c=row['records']\n",
    "    itinerary = row[stop_cols]\n",
    "    itinerary.dropna(inplace=True)\n",
    "    len_stops = len(itinerary)\n",
    "    for i in range(len_stops): #Add something to stop when reaching last airport\n",
    "        try:\n",
    "            point_1_code = itinerary[i]\n",
    "            point_1_lon = airport_dict[point_1_code]['LongitudeDecimalDegrees']\n",
    "            point_1_lat = airport_dict[point_1_code]['LatitudeDecimalDegrees']\n",
    "            \n",
    "            point_2_code = itinerary[i+1]\n",
    "            point_2_lon = airport_dict[point_2_code]['LongitudeDecimalDegrees']\n",
    "            point_2_lat = airport_dict[point_2_code]['LatitudeDecimalDegrees']\n",
    "            \n",
    "            if point_1_code == point_2_code:\n",
    "                break\n",
    "            \n",
    "            # Only want this to trigger if crossing dateline (-180)\n",
    "            # Current implementation arbitrarily separates flights on either side of 45 degress long\n",
    "            # May cause problem if any flights cross 45\n",
    "            if point_1_lon < 0 and point_2_lon > 0 and point_2_lon > 45:\n",
    "                point_2_lon = point_2_lon - 360\n",
    "                \n",
    "            if point_1_lon > 0 and point_2_lon < 0 and point_2_lon > 45:\n",
    "                point_2_lon = point_2_lon + 360\n",
    "            \n",
    "            npts = 2\n",
    "            x, y = np.linspace(point_1_lon, point_2_lon, npts), np.linspace(point_1_lat, point_2_lat, npts)\n",
    "\n",
    "            # Plate Carree\n",
    "#             plt.plot(x+cm_lon, y,\n",
    "#             color=c, marker='o', linewidth=2, transform=ax_proj)\n",
    "            \n",
    "#             plt.text(point_1_lon + cm_lon + 1, point_1_lat + 1, point_1_code,\n",
    "#             horizontalalignment='right',\n",
    "#             transform=ax_proj)\n",
    "            \n",
    "#             plt.text(point_2_lon + cm_lon + 1, point_2_lat + 1, point_2_code,\n",
    "#             horizontalalignment='right',\n",
    "#             transform=ax_proj)\n",
    "            \n",
    "            # Geodetic (automatically understands longitude offset?!)\n",
    "            plt.plot(x, y,\n",
    "            color=c, linewidth=2, transform=ccrs.Geodetic())\n",
    "            \n",
    "#             plt.text(point_1_lon + 1, point_1_lat + 1, point_1_code,\n",
    "#             horizontalalignment='right',\n",
    "#             transform=ccrs.Geodetic())\n",
    "            \n",
    "#             plt.text(point_2_lon + 1, point_2_lat + 1, point_2_code,\n",
    "#             horizontalalignment='right',\n",
    "#             transform=ccrs.Geodetic())\n",
    "\n",
    "            \n",
    "            \n",
    "        except:\n",
    "#             print(f'Could not plot {point_1_code}->{point_2_code}')\n",
    "            pass\n",
    "    counter=counter + 1\n",
    "\n",
    "\n",
    "\n",
    "# plt.text(point_2_lon +.1, point_2_lat +.1, 'point_2',\n",
    "#          horizontalalignment='left',\n",
    "#          transform=ccrs.PlateCarree())\n",
    "\n",
    "plt.show()"
   ]
  },
  {
   "cell_type": "code",
   "execution_count": null,
   "metadata": {},
   "outputs": [],
   "source": []
  },
  {
   "cell_type": "code",
   "execution_count": null,
   "metadata": {},
   "outputs": [],
   "source": []
  },
  {
   "cell_type": "code",
   "execution_count": null,
   "metadata": {},
   "outputs": [],
   "source": []
  },
  {
   "cell_type": "code",
   "execution_count": null,
   "metadata": {},
   "outputs": [],
   "source": []
  },
  {
   "cell_type": "code",
   "execution_count": null,
   "metadata": {},
   "outputs": [],
   "source": []
  },
  {
   "cell_type": "code",
   "execution_count": 4,
   "metadata": {},
   "outputs": [],
   "source": [
    "df['FiscalYear'] = df['MissionDate'].copy()\n",
    "df.set_index('MissionDate', drop=False, inplace=True)\n",
    "df.index.name = 'FiscalYear'\n",
    "\n",
    "# Grouping records by exact date, fiscal year, MissionID,\n",
    "# removal or transfer status, unique pickup/dropoff, juvenile status.\n",
    "# Can't group by nationality here or it splits flights up and obscures trends\n",
    "g = df.groupby([pd.Grouper(freq='AS-OCT'),\n",
    "                'MissionDate',\n",
    "                'R-T',\n",
    "                'PULOC',\n",
    "                'DropLoc',\n",
    "                'air_LatitudeDecimalDegrees',\n",
    "                'air_LongitudeDecimalDegrees',\n",
    "                'air2_LatitudeDecimalDegrees',\n",
    "                'air2_LongitudeDecimalDegrees'])"
   ]
  },
  {
   "cell_type": "code",
   "execution_count": 5,
   "metadata": {},
   "outputs": [],
   "source": [
    "flights = g[['AlienMasterID']].nunique().reset_index()"
   ]
  },
  {
   "cell_type": "code",
   "execution_count": 6,
   "metadata": {},
   "outputs": [],
   "source": [
    "# flights = flights[flights['FiscalYear'] == '2017-10-01']"
   ]
  },
  {
   "cell_type": "code",
   "execution_count": 7,
   "metadata": {},
   "outputs": [],
   "source": [
    "flights.set_index('MissionDate', inplace=True)"
   ]
  },
  {
   "cell_type": "code",
   "execution_count": 8,
   "metadata": {},
   "outputs": [],
   "source": [
    "# table.columns = ['year', 'R-T', 'pickup_airport', 'dropoff_airport', 'passengers', 'flights']\n",
    "# all_kbfi = (table['pickup_airport'] == 'KBFI') | (table['dropoff_airport'] == 'KBFI')\n",
    "# table.to_csv('../output/flight_summary.csv.gz', index=False, compression='gzip', encoding='utf-8', sep='|')"
   ]
  },
  {
   "cell_type": "code",
   "execution_count": 9,
   "metadata": {},
   "outputs": [],
   "source": [
    "# flights = table\n",
    "# flights = table[all_kbfi]\n",
    "# flights = pd.read_csv('../output/flight_summary.csv.gz', compression='gzip', sep='|')\n",
    "# flights = pd.read_csv('../output/guatemala_transfers.csv.gz', compression='gzip', sep='|')"
   ]
  },
  {
   "cell_type": "code",
   "execution_count": 10,
   "metadata": {},
   "outputs": [],
   "source": [
    "# flights['pickup_airport'] = flights['pickup_airport'].str.upper()\n",
    "# flights['dropoff_airport'] = flights['dropoff_airport'].str.upper()\n",
    "# flights['pickup_airport'] = flights['PULOC'].str.upper()\n",
    "# flights['dropoff_airport'] = flights['DropLoc'].str.upper()"
   ]
  },
  {
   "cell_type": "code",
   "execution_count": 11,
   "metadata": {},
   "outputs": [],
   "source": [
    "flights_loc = set(pd.concat([flights['PULOC'], flights['DropLoc']]))"
   ]
  },
  {
   "cell_type": "code",
   "execution_count": 12,
   "metadata": {},
   "outputs": [],
   "source": [
    "bad_airports = ['KKBL']"
   ]
  },
  {
   "cell_type": "code",
   "execution_count": 13,
   "metadata": {},
   "outputs": [],
   "source": [
    "flights = flights[~flights['PULOC'].isin(bad_airports)]\n",
    "flights = flights[~flights['DropLoc'].isin(bad_airports)]"
   ]
  },
  {
   "cell_type": "code",
   "execution_count": 14,
   "metadata": {},
   "outputs": [],
   "source": [
    "# airports = pd.read_csv('../../share/hand/GlobalAirportDatabase.csv.gz', compression='gzip', sep='|')"
   ]
  },
  {
   "cell_type": "code",
   "execution_count": 15,
   "metadata": {},
   "outputs": [],
   "source": [
    "# airports.head()"
   ]
  },
  {
   "cell_type": "code",
   "execution_count": 16,
   "metadata": {},
   "outputs": [],
   "source": [
    "# airports_loc = set(airports['ICAOCode'])"
   ]
  },
  {
   "cell_type": "code",
   "execution_count": 17,
   "metadata": {},
   "outputs": [],
   "source": [
    "# airports.set_index('ICAOCode', inplace=True)"
   ]
  },
  {
   "cell_type": "code",
   "execution_count": 18,
   "metadata": {},
   "outputs": [],
   "source": [
    "# airports_missing_loc = ['FLKK', 'FWKI', 'KABQ', 'VTBS']"
   ]
  },
  {
   "cell_type": "code",
   "execution_count": 19,
   "metadata": {},
   "outputs": [],
   "source": [
    "# airports = airports[~airports.index.isin(['FLKK', 'FWKI', 'KABQ', 'VTBS'])]"
   ]
  },
  {
   "cell_type": "code",
   "execution_count": 20,
   "metadata": {},
   "outputs": [],
   "source": [
    "# additional_airports = pd.read_csv('../../share/hand/locations.csv', quotechar='\"')"
   ]
  },
  {
   "cell_type": "code",
   "execution_count": 21,
   "metadata": {},
   "outputs": [],
   "source": [
    "# additional_airports.columns = ['ICAOCode', 'CountryISO', 'State', 'City', 'LatitudeDecimalDegrees', 'LongitudeDecimalDegrees']\n",
    "# additional_airports.set_index('ICAOCode', inplace=True)\n",
    "# additional_airports.head()"
   ]
  },
  {
   "cell_type": "code",
   "execution_count": 22,
   "metadata": {},
   "outputs": [],
   "source": [
    "# missing_airports = list(flights_loc.difference(airports_loc))\n",
    "# missing_airports.extend(airports_missing_loc)"
   ]
  },
  {
   "cell_type": "code",
   "execution_count": 23,
   "metadata": {},
   "outputs": [],
   "source": [
    "# airports_2 = additional_airports[additional_airports.index.isin(missing_airports)].copy()"
   ]
  },
  {
   "cell_type": "code",
   "execution_count": 24,
   "metadata": {},
   "outputs": [],
   "source": [
    "# airports_2.head()"
   ]
  },
  {
   "cell_type": "code",
   "execution_count": 25,
   "metadata": {},
   "outputs": [],
   "source": [
    "# airports_2 = airports_2[['LatitudeDecimalDegrees', 'LongitudeDecimalDegrees']]"
   ]
  },
  {
   "cell_type": "code",
   "execution_count": 26,
   "metadata": {},
   "outputs": [],
   "source": [
    "# airports = pd.concat([airports, airports_2])"
   ]
  },
  {
   "cell_type": "code",
   "execution_count": 27,
   "metadata": {},
   "outputs": [],
   "source": [
    "# arts_airports = list(set(df['PULOC'].append(df['DropLoc'])))"
   ]
  },
  {
   "cell_type": "code",
   "execution_count": 28,
   "metadata": {},
   "outputs": [],
   "source": [
    "# airports_to_merge = airports[airports.index.isin(arts_airports)][['LatitudeDecimalDegrees', 'LongitudeDecimalDegrees']]\n",
    "\n",
    "# # "
   ]
  },
  {
   "cell_type": "code",
   "execution_count": 29,
   "metadata": {},
   "outputs": [],
   "source": [
    "# airports_to_merge.to_csv('../output/airports_to_merge.csv')"
   ]
  },
  {
   "cell_type": "code",
   "execution_count": 30,
   "metadata": {},
   "outputs": [],
   "source": [
    "# airports.head()"
   ]
  },
  {
   "cell_type": "code",
   "execution_count": 31,
   "metadata": {},
   "outputs": [],
   "source": [
    "edges = flights[['PULOC', 'DropLoc']].values"
   ]
  },
  {
   "cell_type": "code",
   "execution_count": 32,
   "metadata": {},
   "outputs": [
    {
     "data": {
      "text/plain": [
       "array([['KAEX', 'MHLM'],\n",
       "       ['KBFL', 'KSAN'],\n",
       "       ['KCSG', 'MSLP'],\n",
       "       ...,\n",
       "       ['KMSP', 'KAEX'],\n",
       "       ['KOMA', 'KAEX'],\n",
       "       ['KBRO', 'KAEX']], dtype=object)"
      ]
     },
     "execution_count": 32,
     "metadata": {},
     "output_type": "execute_result"
    }
   ],
   "source": [
    "edges"
   ]
  },
  {
   "cell_type": "code",
   "execution_count": 33,
   "metadata": {},
   "outputs": [],
   "source": [
    "g = nx.from_edgelist(edges)"
   ]
  },
  {
   "cell_type": "code",
   "execution_count": 34,
   "metadata": {},
   "outputs": [
    {
     "data": {
      "text/plain": [
       "(221, 721)"
      ]
     },
     "execution_count": 34,
     "metadata": {},
     "output_type": "execute_result"
    }
   ],
   "source": [
    "len(g.nodes()), len(g.edges())"
   ]
  },
  {
   "cell_type": "code",
   "execution_count": 35,
   "metadata": {},
   "outputs": [],
   "source": [
    "sg = next(nx.connected_component_subgraphs(g))"
   ]
  },
  {
   "cell_type": "code",
   "execution_count": 36,
   "metadata": {},
   "outputs": [
    {
     "data": {
      "text/plain": [
       "NodeView(('OLBA', 'KTEB'))"
      ]
     },
     "execution_count": 36,
     "metadata": {},
     "output_type": "execute_result"
    }
   ],
   "source": [
    "list(nx.connected_component_subgraphs(g))[1].nodes"
   ]
  },
  {
   "cell_type": "code",
   "execution_count": 37,
   "metadata": {},
   "outputs": [
    {
     "data": {
      "text/plain": [
       "NodeView(('NZWN', 'NFTF', 'YSSY', 'KSDM'))"
      ]
     },
     "execution_count": 37,
     "metadata": {},
     "output_type": "execute_result"
    }
   ],
   "source": [
    "list(nx.connected_component_subgraphs(g))[2].nodes"
   ]
  },
  {
   "cell_type": "code",
   "execution_count": 38,
   "metadata": {},
   "outputs": [
    {
     "data": {
      "text/plain": [
       "{'AirportName': 'Boeing Field King County International Airport',\n",
       " 'City': 'Seattle',\n",
       " 'Country': 'USA',\n",
       " 'LatitudeDecimalDegrees': 47.53,\n",
       " 'LongitudeDecimalDegrees': -122.302,\n",
       " 'State': 'WA'}"
      ]
     },
     "execution_count": 38,
     "metadata": {},
     "output_type": "execute_result"
    }
   ],
   "source": [
    "airport_dict['KBFI']"
   ]
  },
  {
   "cell_type": "code",
   "execution_count": 39,
   "metadata": {},
   "outputs": [],
   "source": [
    "pos = {airport: (v['LongitudeDecimalDegrees'], v['LatitudeDecimalDegrees'])\n",
    "       for airport, v in\n",
    "       airport_dict.items()}"
   ]
  },
  {
   "cell_type": "code",
   "execution_count": 40,
   "metadata": {},
   "outputs": [],
   "source": [
    "# Dropping unknown locations\n",
    "pos_unknown = {k:v for k, v in pos.items() if v == (0.0, 0.0)}"
   ]
  },
  {
   "cell_type": "code",
   "execution_count": 41,
   "metadata": {},
   "outputs": [],
   "source": [
    "# This is a dumb workaround to avoid issue with concatenating objects with different categories\n",
    "# Do something to set each airport code column to include all airports instead?\n",
    "flights['pickup'] = flights['PULOC'].astype(str)\n",
    "flights['dropoff'] = flights['DropLoc'].astype(str)"
   ]
  },
  {
   "cell_type": "code",
   "execution_count": 42,
   "metadata": {},
   "outputs": [],
   "source": [
    "airport_vars = pd.read_csv('../output/all_airport_vars.csv', index_col='Unnamed: 0')"
   ]
  },
  {
   "cell_type": "code",
   "execution_count": 43,
   "metadata": {},
   "outputs": [
    {
     "data": {
      "text/html": [
       "<div>\n",
       "<style scoped>\n",
       "    .dataframe tbody tr th:only-of-type {\n",
       "        vertical-align: middle;\n",
       "    }\n",
       "\n",
       "    .dataframe tbody tr th {\n",
       "        vertical-align: top;\n",
       "    }\n",
       "\n",
       "    .dataframe thead th {\n",
       "        text-align: right;\n",
       "    }\n",
       "</style>\n",
       "<table border=\"1\" class=\"dataframe\">\n",
       "  <thead>\n",
       "    <tr style=\"text-align: right;\">\n",
       "      <th></th>\n",
       "      <th>Airport Name</th>\n",
       "      <th>City</th>\n",
       "      <th>Country</th>\n",
       "      <th>Latitude</th>\n",
       "      <th>Longitude</th>\n",
       "      <th>Removal Percent</th>\n",
       "      <th>State</th>\n",
       "      <th>Total Dropoff Flights</th>\n",
       "      <th>Total Dropoffs</th>\n",
       "      <th>Total Flights</th>\n",
       "      <th>Total Passengers</th>\n",
       "      <th>Total Pickup Flights</th>\n",
       "      <th>Total Pickups</th>\n",
       "      <th>Total Removals</th>\n",
       "      <th>Total Transfers</th>\n",
       "      <th>Transfer Percent</th>\n",
       "    </tr>\n",
       "  </thead>\n",
       "  <tbody>\n",
       "    <tr>\n",
       "      <th>VVTS</th>\n",
       "      <td>Tan So'n Nhat International Airport</td>\n",
       "      <td>Ho Chi Minh</td>\n",
       "      <td>Vietnam</td>\n",
       "      <td>10.820</td>\n",
       "      <td>106.662</td>\n",
       "      <td>100.0</td>\n",
       "      <td>NaN</td>\n",
       "      <td>5</td>\n",
       "      <td>73</td>\n",
       "      <td>5</td>\n",
       "      <td>73</td>\n",
       "      <td>0</td>\n",
       "      <td>0</td>\n",
       "      <td>73</td>\n",
       "      <td>0</td>\n",
       "      <td>0.0</td>\n",
       "    </tr>\n",
       "    <tr>\n",
       "      <th>VYYY</th>\n",
       "      <td>Yangon International Airport</td>\n",
       "      <td>Yangon</td>\n",
       "      <td>Myanmar</td>\n",
       "      <td>16.907</td>\n",
       "      <td>96.133</td>\n",
       "      <td>100.0</td>\n",
       "      <td>NaN</td>\n",
       "      <td>1</td>\n",
       "      <td>7</td>\n",
       "      <td>1</td>\n",
       "      <td>7</td>\n",
       "      <td>0</td>\n",
       "      <td>0</td>\n",
       "      <td>7</td>\n",
       "      <td>0</td>\n",
       "      <td>0.0</td>\n",
       "    </tr>\n",
       "    <tr>\n",
       "      <th>YSSY</th>\n",
       "      <td>Sydney Kingsford Smith Airport</td>\n",
       "      <td>Sydney</td>\n",
       "      <td>Australia</td>\n",
       "      <td>-33.946</td>\n",
       "      <td>151.177</td>\n",
       "      <td>100.0</td>\n",
       "      <td>NaN</td>\n",
       "      <td>1</td>\n",
       "      <td>2</td>\n",
       "      <td>1</td>\n",
       "      <td>2</td>\n",
       "      <td>0</td>\n",
       "      <td>0</td>\n",
       "      <td>2</td>\n",
       "      <td>0</td>\n",
       "      <td>0.0</td>\n",
       "    </tr>\n",
       "    <tr>\n",
       "      <th>ZBAA</th>\n",
       "      <td>Beijing Capital International Airport</td>\n",
       "      <td>Beijing</td>\n",
       "      <td>China</td>\n",
       "      <td>40.080</td>\n",
       "      <td>116.584</td>\n",
       "      <td>100.0</td>\n",
       "      <td>NaN</td>\n",
       "      <td>1</td>\n",
       "      <td>6</td>\n",
       "      <td>1</td>\n",
       "      <td>6</td>\n",
       "      <td>0</td>\n",
       "      <td>0</td>\n",
       "      <td>6</td>\n",
       "      <td>0</td>\n",
       "      <td>0.0</td>\n",
       "    </tr>\n",
       "    <tr>\n",
       "      <th>ZSFZ</th>\n",
       "      <td>Fuzhou Changle International Airport</td>\n",
       "      <td>Fuzhou</td>\n",
       "      <td>China</td>\n",
       "      <td>25.933</td>\n",
       "      <td>119.662</td>\n",
       "      <td>100.0</td>\n",
       "      <td>NaN</td>\n",
       "      <td>4</td>\n",
       "      <td>156</td>\n",
       "      <td>4</td>\n",
       "      <td>156</td>\n",
       "      <td>0</td>\n",
       "      <td>0</td>\n",
       "      <td>156</td>\n",
       "      <td>0</td>\n",
       "      <td>0.0</td>\n",
       "    </tr>\n",
       "  </tbody>\n",
       "</table>\n",
       "</div>"
      ],
      "text/plain": [
       "                               Airport Name         City    Country  Latitude  \\\n",
       "VVTS    Tan So'n Nhat International Airport  Ho Chi Minh    Vietnam    10.820   \n",
       "VYYY           Yangon International Airport       Yangon    Myanmar    16.907   \n",
       "YSSY         Sydney Kingsford Smith Airport       Sydney  Australia   -33.946   \n",
       "ZBAA  Beijing Capital International Airport      Beijing      China    40.080   \n",
       "ZSFZ   Fuzhou Changle International Airport       Fuzhou      China    25.933   \n",
       "\n",
       "      Longitude  Removal Percent State  Total Dropoff Flights  Total Dropoffs  \\\n",
       "VVTS    106.662            100.0   NaN                      5              73   \n",
       "VYYY     96.133            100.0   NaN                      1               7   \n",
       "YSSY    151.177            100.0   NaN                      1               2   \n",
       "ZBAA    116.584            100.0   NaN                      1               6   \n",
       "ZSFZ    119.662            100.0   NaN                      4             156   \n",
       "\n",
       "      Total Flights  Total Passengers  Total Pickup Flights  Total Pickups  \\\n",
       "VVTS              5                73                     0              0   \n",
       "VYYY              1                 7                     0              0   \n",
       "YSSY              1                 2                     0              0   \n",
       "ZBAA              1                 6                     0              0   \n",
       "ZSFZ              4               156                     0              0   \n",
       "\n",
       "      Total Removals  Total Transfers  Transfer Percent  \n",
       "VVTS              73                0               0.0  \n",
       "VYYY               7                0               0.0  \n",
       "YSSY               2                0               0.0  \n",
       "ZBAA               6                0               0.0  \n",
       "ZSFZ             156                0               0.0  "
      ]
     },
     "execution_count": 43,
     "metadata": {},
     "output_type": "execute_result"
    }
   ],
   "source": [
    "airport_vars.tail()"
   ]
  },
  {
   "cell_type": "code",
   "execution_count": 44,
   "metadata": {},
   "outputs": [],
   "source": [
    "# khrl_kbro_avg = (airport_vars.loc['KHRL', 'removal_percent'] + airport_vars.loc['KBRO', 'removal_percent'])/2"
   ]
  },
  {
   "cell_type": "code",
   "execution_count": 45,
   "metadata": {},
   "outputs": [],
   "source": [
    "# airport_vars.loc['KHRL-KBRO', 'removal_percent'] = khrl_kbro_avg"
   ]
  },
  {
   "cell_type": "code",
   "execution_count": 46,
   "metadata": {},
   "outputs": [],
   "source": [
    "# airport_vars.loc['KBFI', 'removal_percent']"
   ]
  },
  {
   "cell_type": "code",
   "execution_count": 47,
   "metadata": {},
   "outputs": [],
   "source": [
    "pickup_totals = flights.groupby('pickup')['AlienMasterID'].sum()\n",
    "dropoff_totals = flights.groupby('dropoff')['AlienMasterID'].sum()"
   ]
  },
  {
   "cell_type": "code",
   "execution_count": 48,
   "metadata": {},
   "outputs": [],
   "source": [
    "passenger_totals = pd.concat([pickup_totals, dropoff_totals])"
   ]
  },
  {
   "cell_type": "code",
   "execution_count": 49,
   "metadata": {},
   "outputs": [
    {
     "data": {
      "text/plain": [
       "273673"
      ]
     },
     "execution_count": 49,
     "metadata": {},
     "output_type": "execute_result"
    }
   ],
   "source": [
    "passenger_totals['KHRL'].sum()"
   ]
  },
  {
   "cell_type": "code",
   "execution_count": 50,
   "metadata": {},
   "outputs": [
    {
     "data": {
      "text/plain": [
       "271328"
      ]
     },
     "execution_count": 50,
     "metadata": {},
     "output_type": "execute_result"
    }
   ],
   "source": [
    "passenger_totals['KBRO'].sum()"
   ]
  },
  {
   "cell_type": "code",
   "execution_count": 51,
   "metadata": {},
   "outputs": [],
   "source": [
    "passenger_totals['KHRL-KBRO'] = passenger_totals['KHRL'].sum() + passenger_totals['KBRO'].sum()"
   ]
  },
  {
   "cell_type": "code",
   "execution_count": 52,
   "metadata": {},
   "outputs": [
    {
     "data": {
      "text/plain": [
       "545001"
      ]
     },
     "execution_count": 52,
     "metadata": {},
     "output_type": "execute_result"
    }
   ],
   "source": [
    "passenger_totals['KHRL-KBRO']"
   ]
  },
  {
   "cell_type": "code",
   "execution_count": 53,
   "metadata": {},
   "outputs": [],
   "source": [
    "pos['KHRL-KBRO'] = pos['KHRL']"
   ]
  },
  {
   "cell_type": "code",
   "execution_count": 54,
   "metadata": {},
   "outputs": [],
   "source": [
    "passenger_totals = passenger_totals.drop(['KHRL', 'KBRO'])"
   ]
  },
  {
   "cell_type": "code",
   "execution_count": 55,
   "metadata": {},
   "outputs": [
    {
     "data": {
      "text/plain": [
       "3465176"
      ]
     },
     "execution_count": 55,
     "metadata": {},
     "output_type": "execute_result"
    }
   ],
   "source": [
    "passenger_totals.sum()"
   ]
  },
  {
   "cell_type": "code",
   "execution_count": 56,
   "metadata": {},
   "outputs": [],
   "source": [
    "sg = nx.contracted_nodes(sg, 'KHRL', 'KBRO')"
   ]
  },
  {
   "cell_type": "code",
   "execution_count": 57,
   "metadata": {},
   "outputs": [],
   "source": [
    "sg = nx.relabel_nodes(sg, {'KHRL': 'KHRL-KBRO'})"
   ]
  },
  {
   "cell_type": "code",
   "execution_count": 58,
   "metadata": {},
   "outputs": [
    {
     "data": {
      "text/plain": [
       "False"
      ]
     },
     "execution_count": 58,
     "metadata": {},
     "output_type": "execute_result"
    }
   ],
   "source": [
    "'KBRO' in sg.nodes"
   ]
  },
  {
   "cell_type": "code",
   "execution_count": 59,
   "metadata": {},
   "outputs": [],
   "source": [
    "passenger_total = pd.Series(passenger_totals[icao].sum() for icao in sg.nodes)"
   ]
  },
  {
   "cell_type": "code",
   "execution_count": 60,
   "metadata": {},
   "outputs": [
    {
     "ename": "KeyError",
     "evalue": "'the label [removal_percent] is not in the [index]'",
     "output_type": "error",
     "traceback": [
      "\u001b[0;31m---------------------------------------------------------------------------\u001b[0m",
      "\u001b[0;31mKeyError\u001b[0m                                  Traceback (most recent call last)",
      "\u001b[0;32m~/anaconda3/lib/python3.7/site-packages/pandas/core/indexing.py\u001b[0m in \u001b[0;36m_validate_key\u001b[0;34m(self, key, axis)\u001b[0m\n\u001b[1;32m   1789\u001b[0m                 \u001b[0;32mif\u001b[0m \u001b[0;32mnot\u001b[0m \u001b[0max\u001b[0m\u001b[0;34m.\u001b[0m\u001b[0mcontains\u001b[0m\u001b[0;34m(\u001b[0m\u001b[0mkey\u001b[0m\u001b[0;34m)\u001b[0m\u001b[0;34m:\u001b[0m\u001b[0;34m\u001b[0m\u001b[0;34m\u001b[0m\u001b[0m\n\u001b[0;32m-> 1790\u001b[0;31m                     \u001b[0merror\u001b[0m\u001b[0;34m(\u001b[0m\u001b[0;34m)\u001b[0m\u001b[0;34m\u001b[0m\u001b[0;34m\u001b[0m\u001b[0m\n\u001b[0m\u001b[1;32m   1791\u001b[0m             \u001b[0;32mexcept\u001b[0m \u001b[0mTypeError\u001b[0m \u001b[0;32mas\u001b[0m \u001b[0me\u001b[0m\u001b[0;34m:\u001b[0m\u001b[0;34m\u001b[0m\u001b[0;34m\u001b[0m\u001b[0m\n",
      "\u001b[0;32m~/anaconda3/lib/python3.7/site-packages/pandas/core/indexing.py\u001b[0m in \u001b[0;36merror\u001b[0;34m()\u001b[0m\n\u001b[1;32m   1784\u001b[0m                                .format(key=key,\n\u001b[0;32m-> 1785\u001b[0;31m                                        axis=self.obj._get_axis_name(axis)))\n\u001b[0m\u001b[1;32m   1786\u001b[0m \u001b[0;34m\u001b[0m\u001b[0m\n",
      "\u001b[0;31mKeyError\u001b[0m: 'the label [removal_percent] is not in the [index]'",
      "\nDuring handling of the above exception, another exception occurred:\n",
      "\u001b[0;31mKeyError\u001b[0m                                  Traceback (most recent call last)",
      "\u001b[0;32m<ipython-input-60-ce31d171f7e3>\u001b[0m in \u001b[0;36m<module>\u001b[0;34m\u001b[0m\n\u001b[0;32m----> 1\u001b[0;31m \u001b[0mremoval_percent\u001b[0m \u001b[0;34m=\u001b[0m \u001b[0mpd\u001b[0m\u001b[0;34m.\u001b[0m\u001b[0mSeries\u001b[0m\u001b[0;34m(\u001b[0m\u001b[0mairport_vars\u001b[0m\u001b[0;34m.\u001b[0m\u001b[0mloc\u001b[0m\u001b[0;34m[\u001b[0m\u001b[0micao\u001b[0m\u001b[0;34m,\u001b[0m \u001b[0;34m'removal_percent'\u001b[0m\u001b[0;34m]\u001b[0m \u001b[0;34m*\u001b[0m \u001b[0;36m100\u001b[0m \u001b[0;32mfor\u001b[0m \u001b[0micao\u001b[0m \u001b[0;32min\u001b[0m \u001b[0msg\u001b[0m\u001b[0;34m.\u001b[0m\u001b[0mnodes\u001b[0m\u001b[0;34m)\u001b[0m\u001b[0;34m\u001b[0m\u001b[0;34m\u001b[0m\u001b[0m\n\u001b[0m",
      "\u001b[0;32m~/anaconda3/lib/python3.7/site-packages/pandas/core/series.py\u001b[0m in \u001b[0;36m__init__\u001b[0;34m(self, data, index, dtype, name, copy, fastpath)\u001b[0m\n\u001b[1;32m    237\u001b[0m             elif (isinstance(data, types.GeneratorType) or\n\u001b[1;32m    238\u001b[0m                   (compat.PY3 and isinstance(data, map))):\n\u001b[0;32m--> 239\u001b[0;31m                 \u001b[0mdata\u001b[0m \u001b[0;34m=\u001b[0m \u001b[0mlist\u001b[0m\u001b[0;34m(\u001b[0m\u001b[0mdata\u001b[0m\u001b[0;34m)\u001b[0m\u001b[0;34m\u001b[0m\u001b[0;34m\u001b[0m\u001b[0m\n\u001b[0m\u001b[1;32m    240\u001b[0m             \u001b[0;32melif\u001b[0m \u001b[0misinstance\u001b[0m\u001b[0;34m(\u001b[0m\u001b[0mdata\u001b[0m\u001b[0;34m,\u001b[0m \u001b[0;34m(\u001b[0m\u001b[0mset\u001b[0m\u001b[0;34m,\u001b[0m \u001b[0mfrozenset\u001b[0m\u001b[0;34m)\u001b[0m\u001b[0;34m)\u001b[0m\u001b[0;34m:\u001b[0m\u001b[0;34m\u001b[0m\u001b[0;34m\u001b[0m\u001b[0m\n\u001b[1;32m    241\u001b[0m                 raise TypeError(\"{0!r} type is unordered\"\n",
      "\u001b[0;32m<ipython-input-60-ce31d171f7e3>\u001b[0m in \u001b[0;36m<genexpr>\u001b[0;34m(.0)\u001b[0m\n\u001b[0;32m----> 1\u001b[0;31m \u001b[0mremoval_percent\u001b[0m \u001b[0;34m=\u001b[0m \u001b[0mpd\u001b[0m\u001b[0;34m.\u001b[0m\u001b[0mSeries\u001b[0m\u001b[0;34m(\u001b[0m\u001b[0mairport_vars\u001b[0m\u001b[0;34m.\u001b[0m\u001b[0mloc\u001b[0m\u001b[0;34m[\u001b[0m\u001b[0micao\u001b[0m\u001b[0;34m,\u001b[0m \u001b[0;34m'removal_percent'\u001b[0m\u001b[0;34m]\u001b[0m \u001b[0;34m*\u001b[0m \u001b[0;36m100\u001b[0m \u001b[0;32mfor\u001b[0m \u001b[0micao\u001b[0m \u001b[0;32min\u001b[0m \u001b[0msg\u001b[0m\u001b[0;34m.\u001b[0m\u001b[0mnodes\u001b[0m\u001b[0;34m)\u001b[0m\u001b[0;34m\u001b[0m\u001b[0;34m\u001b[0m\u001b[0m\n\u001b[0m",
      "\u001b[0;32m~/anaconda3/lib/python3.7/site-packages/pandas/core/indexing.py\u001b[0m in \u001b[0;36m__getitem__\u001b[0;34m(self, key)\u001b[0m\n\u001b[1;32m   1470\u001b[0m             \u001b[0;32mexcept\u001b[0m \u001b[0;34m(\u001b[0m\u001b[0mKeyError\u001b[0m\u001b[0;34m,\u001b[0m \u001b[0mIndexError\u001b[0m\u001b[0;34m)\u001b[0m\u001b[0;34m:\u001b[0m\u001b[0;34m\u001b[0m\u001b[0;34m\u001b[0m\u001b[0m\n\u001b[1;32m   1471\u001b[0m                 \u001b[0;32mpass\u001b[0m\u001b[0;34m\u001b[0m\u001b[0;34m\u001b[0m\u001b[0m\n\u001b[0;32m-> 1472\u001b[0;31m             \u001b[0;32mreturn\u001b[0m \u001b[0mself\u001b[0m\u001b[0;34m.\u001b[0m\u001b[0m_getitem_tuple\u001b[0m\u001b[0;34m(\u001b[0m\u001b[0mkey\u001b[0m\u001b[0;34m)\u001b[0m\u001b[0;34m\u001b[0m\u001b[0;34m\u001b[0m\u001b[0m\n\u001b[0m\u001b[1;32m   1473\u001b[0m         \u001b[0;32melse\u001b[0m\u001b[0;34m:\u001b[0m\u001b[0;34m\u001b[0m\u001b[0;34m\u001b[0m\u001b[0m\n\u001b[1;32m   1474\u001b[0m             \u001b[0;31m# we by definition only have the 0th axis\u001b[0m\u001b[0;34m\u001b[0m\u001b[0;34m\u001b[0m\u001b[0;34m\u001b[0m\u001b[0m\n",
      "\u001b[0;32m~/anaconda3/lib/python3.7/site-packages/pandas/core/indexing.py\u001b[0m in \u001b[0;36m_getitem_tuple\u001b[0;34m(self, tup)\u001b[0m\n\u001b[1;32m    868\u001b[0m     \u001b[0;32mdef\u001b[0m \u001b[0m_getitem_tuple\u001b[0m\u001b[0;34m(\u001b[0m\u001b[0mself\u001b[0m\u001b[0;34m,\u001b[0m \u001b[0mtup\u001b[0m\u001b[0;34m)\u001b[0m\u001b[0;34m:\u001b[0m\u001b[0;34m\u001b[0m\u001b[0;34m\u001b[0m\u001b[0m\n\u001b[1;32m    869\u001b[0m         \u001b[0;32mtry\u001b[0m\u001b[0;34m:\u001b[0m\u001b[0;34m\u001b[0m\u001b[0;34m\u001b[0m\u001b[0m\n\u001b[0;32m--> 870\u001b[0;31m             \u001b[0;32mreturn\u001b[0m \u001b[0mself\u001b[0m\u001b[0;34m.\u001b[0m\u001b[0m_getitem_lowerdim\u001b[0m\u001b[0;34m(\u001b[0m\u001b[0mtup\u001b[0m\u001b[0;34m)\u001b[0m\u001b[0;34m\u001b[0m\u001b[0;34m\u001b[0m\u001b[0m\n\u001b[0m\u001b[1;32m    871\u001b[0m         \u001b[0;32mexcept\u001b[0m \u001b[0mIndexingError\u001b[0m\u001b[0;34m:\u001b[0m\u001b[0;34m\u001b[0m\u001b[0;34m\u001b[0m\u001b[0m\n\u001b[1;32m    872\u001b[0m             \u001b[0;32mpass\u001b[0m\u001b[0;34m\u001b[0m\u001b[0;34m\u001b[0m\u001b[0m\n",
      "\u001b[0;32m~/anaconda3/lib/python3.7/site-packages/pandas/core/indexing.py\u001b[0m in \u001b[0;36m_getitem_lowerdim\u001b[0;34m(self, tup)\u001b[0m\n\u001b[1;32m   1025\u001b[0m                     \u001b[0;32mreturn\u001b[0m \u001b[0msection\u001b[0m\u001b[0;34m\u001b[0m\u001b[0;34m\u001b[0m\u001b[0m\n\u001b[1;32m   1026\u001b[0m                 \u001b[0;31m# This is an elided recursive call to iloc/loc/etc'\u001b[0m\u001b[0;34m\u001b[0m\u001b[0;34m\u001b[0m\u001b[0;34m\u001b[0m\u001b[0m\n\u001b[0;32m-> 1027\u001b[0;31m                 \u001b[0;32mreturn\u001b[0m \u001b[0mgetattr\u001b[0m\u001b[0;34m(\u001b[0m\u001b[0msection\u001b[0m\u001b[0;34m,\u001b[0m \u001b[0mself\u001b[0m\u001b[0;34m.\u001b[0m\u001b[0mname\u001b[0m\u001b[0;34m)\u001b[0m\u001b[0;34m[\u001b[0m\u001b[0mnew_key\u001b[0m\u001b[0;34m]\u001b[0m\u001b[0;34m\u001b[0m\u001b[0;34m\u001b[0m\u001b[0m\n\u001b[0m\u001b[1;32m   1028\u001b[0m \u001b[0;34m\u001b[0m\u001b[0m\n\u001b[1;32m   1029\u001b[0m         \u001b[0;32mraise\u001b[0m \u001b[0mIndexingError\u001b[0m\u001b[0;34m(\u001b[0m\u001b[0;34m'not applicable'\u001b[0m\u001b[0;34m)\u001b[0m\u001b[0;34m\u001b[0m\u001b[0;34m\u001b[0m\u001b[0m\n",
      "\u001b[0;32m~/anaconda3/lib/python3.7/site-packages/pandas/core/indexing.py\u001b[0m in \u001b[0;36m__getitem__\u001b[0;34m(self, key)\u001b[0m\n\u001b[1;32m   1476\u001b[0m \u001b[0;34m\u001b[0m\u001b[0m\n\u001b[1;32m   1477\u001b[0m             \u001b[0mmaybe_callable\u001b[0m \u001b[0;34m=\u001b[0m \u001b[0mcom\u001b[0m\u001b[0;34m.\u001b[0m\u001b[0m_apply_if_callable\u001b[0m\u001b[0;34m(\u001b[0m\u001b[0mkey\u001b[0m\u001b[0;34m,\u001b[0m \u001b[0mself\u001b[0m\u001b[0;34m.\u001b[0m\u001b[0mobj\u001b[0m\u001b[0;34m)\u001b[0m\u001b[0;34m\u001b[0m\u001b[0;34m\u001b[0m\u001b[0m\n\u001b[0;32m-> 1478\u001b[0;31m             \u001b[0;32mreturn\u001b[0m \u001b[0mself\u001b[0m\u001b[0;34m.\u001b[0m\u001b[0m_getitem_axis\u001b[0m\u001b[0;34m(\u001b[0m\u001b[0mmaybe_callable\u001b[0m\u001b[0;34m,\u001b[0m \u001b[0maxis\u001b[0m\u001b[0;34m=\u001b[0m\u001b[0maxis\u001b[0m\u001b[0;34m)\u001b[0m\u001b[0;34m\u001b[0m\u001b[0;34m\u001b[0m\u001b[0m\n\u001b[0m\u001b[1;32m   1479\u001b[0m \u001b[0;34m\u001b[0m\u001b[0m\n\u001b[1;32m   1480\u001b[0m     \u001b[0;32mdef\u001b[0m \u001b[0m_is_scalar_access\u001b[0m\u001b[0;34m(\u001b[0m\u001b[0mself\u001b[0m\u001b[0;34m,\u001b[0m \u001b[0mkey\u001b[0m\u001b[0;34m)\u001b[0m\u001b[0;34m:\u001b[0m\u001b[0;34m\u001b[0m\u001b[0;34m\u001b[0m\u001b[0m\n",
      "\u001b[0;32m~/anaconda3/lib/python3.7/site-packages/pandas/core/indexing.py\u001b[0m in \u001b[0;36m_getitem_axis\u001b[0;34m(self, key, axis)\u001b[0m\n\u001b[1;32m   1909\u001b[0m \u001b[0;34m\u001b[0m\u001b[0m\n\u001b[1;32m   1910\u001b[0m         \u001b[0;31m# fall thru to straight lookup\u001b[0m\u001b[0;34m\u001b[0m\u001b[0;34m\u001b[0m\u001b[0;34m\u001b[0m\u001b[0m\n\u001b[0;32m-> 1911\u001b[0;31m         \u001b[0mself\u001b[0m\u001b[0;34m.\u001b[0m\u001b[0m_validate_key\u001b[0m\u001b[0;34m(\u001b[0m\u001b[0mkey\u001b[0m\u001b[0;34m,\u001b[0m \u001b[0maxis\u001b[0m\u001b[0;34m)\u001b[0m\u001b[0;34m\u001b[0m\u001b[0;34m\u001b[0m\u001b[0m\n\u001b[0m\u001b[1;32m   1912\u001b[0m         \u001b[0;32mreturn\u001b[0m \u001b[0mself\u001b[0m\u001b[0;34m.\u001b[0m\u001b[0m_get_label\u001b[0m\u001b[0;34m(\u001b[0m\u001b[0mkey\u001b[0m\u001b[0;34m,\u001b[0m \u001b[0maxis\u001b[0m\u001b[0;34m=\u001b[0m\u001b[0maxis\u001b[0m\u001b[0;34m)\u001b[0m\u001b[0;34m\u001b[0m\u001b[0;34m\u001b[0m\u001b[0m\n\u001b[1;32m   1913\u001b[0m \u001b[0;34m\u001b[0m\u001b[0m\n",
      "\u001b[0;32m~/anaconda3/lib/python3.7/site-packages/pandas/core/indexing.py\u001b[0m in \u001b[0;36m_validate_key\u001b[0;34m(self, key, axis)\u001b[0m\n\u001b[1;32m   1796\u001b[0m                 \u001b[0;32mraise\u001b[0m\u001b[0;34m\u001b[0m\u001b[0;34m\u001b[0m\u001b[0m\n\u001b[1;32m   1797\u001b[0m             \u001b[0;32mexcept\u001b[0m\u001b[0;34m:\u001b[0m\u001b[0;34m\u001b[0m\u001b[0;34m\u001b[0m\u001b[0m\n\u001b[0;32m-> 1798\u001b[0;31m                 \u001b[0merror\u001b[0m\u001b[0;34m(\u001b[0m\u001b[0;34m)\u001b[0m\u001b[0;34m\u001b[0m\u001b[0;34m\u001b[0m\u001b[0m\n\u001b[0m\u001b[1;32m   1799\u001b[0m \u001b[0;34m\u001b[0m\u001b[0m\n\u001b[1;32m   1800\u001b[0m     \u001b[0;32mdef\u001b[0m \u001b[0m_is_scalar_access\u001b[0m\u001b[0;34m(\u001b[0m\u001b[0mself\u001b[0m\u001b[0;34m,\u001b[0m \u001b[0mkey\u001b[0m\u001b[0;34m)\u001b[0m\u001b[0;34m:\u001b[0m\u001b[0;34m\u001b[0m\u001b[0;34m\u001b[0m\u001b[0m\n",
      "\u001b[0;32m~/anaconda3/lib/python3.7/site-packages/pandas/core/indexing.py\u001b[0m in \u001b[0;36merror\u001b[0;34m()\u001b[0m\n\u001b[1;32m   1783\u001b[0m                 raise KeyError(u\"the label [{key}] is not in the [{axis}]\"\n\u001b[1;32m   1784\u001b[0m                                .format(key=key,\n\u001b[0;32m-> 1785\u001b[0;31m                                        axis=self.obj._get_axis_name(axis)))\n\u001b[0m\u001b[1;32m   1786\u001b[0m \u001b[0;34m\u001b[0m\u001b[0m\n\u001b[1;32m   1787\u001b[0m             \u001b[0;32mtry\u001b[0m\u001b[0;34m:\u001b[0m\u001b[0;34m\u001b[0m\u001b[0;34m\u001b[0m\u001b[0m\n",
      "\u001b[0;31mKeyError\u001b[0m: 'the label [removal_percent] is not in the [index]'"
     ]
    }
   ],
   "source": [
    "removal_percent = pd.Series(airport_vars.loc[icao, 'removal_percent'] * 100 for icao in sg.nodes)"
   ]
  },
  {
   "cell_type": "code",
   "execution_count": null,
   "metadata": {},
   "outputs": [],
   "source": [
    "deg = nx.degree(sg)\n",
    "sizes = [passenger_totals[icao].sum() / 500 for icao in sg.nodes]"
   ]
  },
  {
   "cell_type": "code",
   "execution_count": null,
   "metadata": {},
   "outputs": [],
   "source": [
    "passenger_total.index = sg.nodes"
   ]
  },
  {
   "cell_type": "code",
   "execution_count": null,
   "metadata": {},
   "outputs": [],
   "source": [
    "top_10_list = list(passenger_total.sort_values(ascending=False).head(10).index)"
   ]
  },
  {
   "cell_type": "code",
   "execution_count": null,
   "metadata": {},
   "outputs": [],
   "source": [
    "top_10_list"
   ]
  },
  {
   "cell_type": "code",
   "execution_count": null,
   "metadata": {},
   "outputs": [],
   "source": [
    "labels = {icao: icao if passenger_totals[icao].sum() >= 35000 else ''\n",
    "          for icao in sg.nodes}\n",
    "no_labels = {icao: '' for icao in sg.nodes}\n",
    "top_10 = {icao: icao if icao in top_10_list else ''\n",
    "          for icao in sg.nodes}"
   ]
  },
  {
   "cell_type": "code",
   "execution_count": null,
   "metadata": {},
   "outputs": [],
   "source": [
    "pos['HKJK']"
   ]
  },
  {
   "cell_type": "code",
   "execution_count": null,
   "metadata": {},
   "outputs": [],
   "source": [
    "# Map projection\n",
    "crs = ccrs.PlateCarree(central_longitude=0)\n",
    "\n",
    "fig, ax = plt.subplots(\n",
    "    1, 1, figsize=(12, 8),\n",
    "    subplot_kw=dict(projection=crs))\n",
    "# ax.stock_img()\n",
    "ax.coastlines(alpha=.5)\n",
    "ax.add_feature(cfeature.BORDERS, alpha=.5)\n",
    "ax.add_feature(cfeature.STATES, alpha=.2)\n",
    "\n",
    "# Extent of continental US.\n",
    "ax.set_extent([-128, -62, 10, 50])\n",
    "# Global\n",
    "# ax.set_extent(ax.get_extent(crs))\n",
    "\n",
    "cmap = plt.cm.viridis\n",
    "\n",
    "nx.draw_networkx(sg, ax=ax,\n",
    "                 font_size=16,\n",
    "                 alpha=1,\n",
    "                 width=.075,\n",
    "                 node_size=sizes,\n",
    "                 node_color=passenger_total,\n",
    "                 labels=top_10,\n",
    "                 pos=pos,\n",
    "                 cmap=cmap)\n",
    "\n",
    "vmin = passenger_total.min()\n",
    "vmax = passenger_total.max()\n",
    "\n",
    "l1 = plt.scatter([0],[0], s=(50000/500), c=[list(np.array(cmap(50000 / vmax)))], cmap=cmap, edgecolors='none')\n",
    "l2 = plt.scatter([0],[0], s=(200000/500), c=[list(np.array(cmap(200000 / vmax)))], cmap=cmap, edgecolors='none')\n",
    "l3 = plt.scatter([0],[0], s=(350000/500), c=[list(np.array(cmap(350000 / vmax)))], cmap=cmap, edgecolors='none')\n",
    "l4 = plt.scatter([0],[0], s=(550000/500), c=[list(np.array(cmap(550000 / vmax)))], cmap=cmap, edgecolors='none')\n",
    "\n",
    "labels = [\"50K\", \"150K\", \"350K\", \"550K\"]\n",
    "\n",
    "lgd = plt.legend([l1, l2, l3, l4], labels, ncol=4, frameon=True, fontsize=12,\n",
    "handlelength=2, loc = 9, borderpad = 1,\n",
    "handletextpad=1, title='Total passengers', scatterpoints = 1)\n",
    "\n",
    "\n",
    "sm = plt.cm.ScalarMappable(cmap=cmap, norm=plt.Normalize(vmin = vmin, vmax=vmax))\n",
    "sm._A = []\n",
    "plt.colorbar(sm, shrink=.8)\n",
    "plt.title(\"ICE Air: Total passengers per airport and flight paths\", size=18)\n",
    "\n",
    "msg = \"(KHRL & KBRO airports combined for clarity)\"\n",
    "txt = plt.figtext(0.29, 0.2, msg, wrap=True, horizontalalignment='center', fontsize=12)\n",
    "\n",
    "msg = '(Source: UW Center for Human Rights, ICE Air ARTS database)'\n",
    "txt = plt.figtext(0.65, .125, msg, wrap=True, horizontalalignment='center', fontsize=12)\n",
    "\n",
    "fig.savefig(f'../output/map-total-passengers.png', dpi=100, bbox_extra_artists=(lgd,txt), bbox_inches='tight')\n",
    "\n",
    "plt.show()"
   ]
  },
  {
   "cell_type": "code",
   "execution_count": null,
   "metadata": {},
   "outputs": [],
   "source": [
    "# Map projection\n",
    "crs = ccrs.PlateCarree(central_longitude=0.0)\n",
    "\n",
    "fig, ax = plt.subplots(\n",
    "    1, 1, figsize=(12, 8),\n",
    "    subplot_kw=dict(projection=crs))\n",
    "# ax.stock_img()\n",
    "ax.coastlines(alpha=.5)\n",
    "ax.add_feature(cfeature.BORDERS, alpha=.5)\n",
    "ax.add_feature(cfeature.STATES, alpha=.2)\n",
    "\n",
    "# Extent of continental US.\n",
    "ax.set_extent([-128, -62, 10, 50])\n",
    "# Global\n",
    "# ax.set_extent([-180, 180, -60, 90])\n",
    "\n",
    "cmap = plt.cm.viridis\n",
    "\n",
    "nx.draw_networkx(sg, ax=ax,\n",
    "                 font_size=16,\n",
    "                 alpha=1,\n",
    "                 width=0.05,\n",
    "                 node_size=sizes,\n",
    "                 node_color=removal_percent,\n",
    "                 labels=no_labels,\n",
    "                 pos=pos,\n",
    "                 cmap=cmap)\n",
    "\n",
    "sm = plt.cm.ScalarMappable(cmap=cmap, norm=plt.Normalize(vmin = 0, vmax=100))\n",
    "sm._A = []\n",
    "plt.colorbar(sm, shrink=.8)\n",
    "plt.title(\"Removals as percent of passengers for ICE Air airports\", size=18)\n",
    "\n",
    "txt=\"(KHRL & KBRO airports combined for clarity)\"\n",
    "plt.figtext(0.29, 0.2, txt, wrap=True, horizontalalignment='center', fontsize=12)\n",
    "\n",
    "fig.savefig(f'../output/map-removal-percent.png', dpi=100, bbox_inches='tight')\n",
    "\n",
    "plt.show()"
   ]
  },
  {
   "cell_type": "markdown",
   "metadata": {},
   "source": [
    "# Choropleth"
   ]
  },
  {
   "cell_type": "code",
   "execution_count": null,
   "metadata": {},
   "outputs": [],
   "source": [
    "cmap = mpl.cm.Blues\n",
    "# Countries is a dictionary of {\"country_name\": number of users}, for example\n",
    "countries = df[df['R-T'] == 'R'].groupby(['CountryOfCitizenship'])['AlienMasterID'].nunique().to_dict()\n",
    "\n",
    "min_passengers = float(min(countries.values()))\n",
    "max_passengers = float(max(countries.values()))\n",
    "shapename = 'admin_0_countries'\n",
    "countries_shp = shpreader.natural_earth(resolution='110m', category='cultural', name=shapename)\n",
    "ax = plt.axes(projection=ccrs.Robinson())\n",
    "ax.coastlines()\n",
    "\n",
    "for country in shpreader.Reader(countries_shp).records():\n",
    "    name = country.attributes['NAME_LONG'].upper()\n",
    "    try:\n",
    "        num_passengers = countries[name]\n",
    "        ax.add_geometries(country.geometry, ccrs.PlateCarree(),\n",
    "                    facecolor=cmap(np.log(num_passengers)/np.log(max_passengers)))\n",
    "    except:\n",
    "        num_passengers = 0\n",
    "        ax.add_geometries(country.geometry, ccrs.PlateCarree(),\n",
    "                    facecolor=cmap(num_passengers))\n",
    "        pass\n",
    "\n",
    "# formatter = LogFormatter(labelOnlyBase=False) \n",
    "    \n",
    "sm = plt.cm.ScalarMappable(cmap=cmap,norm=colors.LogNorm(vmin=1, vmax=max_passengers))\n",
    "sm._A = []\n",
    "plt.colorbar(sm, ax=ax, shrink=.66, extend='max')\n",
    "\n",
    "plt.title('ICE Air global removals (logged),\\nOct. 2010 - Dec. 2018')\n",
    "\n",
    "plt.savefig('../output/removal_choropleth.png', transparent=True, dpi=900)"
   ]
  },
  {
   "cell_type": "markdown",
   "metadata": {},
   "source": [
    "## Directed graph"
   ]
  },
  {
   "cell_type": "code",
   "execution_count": 61,
   "metadata": {},
   "outputs": [],
   "source": [
    "airport = 'KOAK'\n",
    "\n",
    "PU = df['PULOC'] == airport\n",
    "DO = df['DropLoc'] == airport\n",
    "\n",
    "air_pickups = df[PU].groupby([pd.Grouper(freq='AS-OCT'),\n",
    "                'R-T',\n",
    "                'PULOC',\n",
    "                'DropLoc',\n",
    "                'air_LatitudeDecimalDegrees',\n",
    "                'air_LongitudeDecimalDegrees',\n",
    "                'air2_LatitudeDecimalDegrees',\n",
    "                'air2_LongitudeDecimalDegrees'])['AlienMasterID'].nunique().reset_index()\n",
    "air_dropoffs = df[DO].groupby([pd.Grouper(freq='AS-OCT'),\n",
    "                'R-T',\n",
    "                'PULOC',\n",
    "                'DropLoc',\n",
    "                'air_LatitudeDecimalDegrees',\n",
    "                'air_LongitudeDecimalDegrees',\n",
    "                'air2_LatitudeDecimalDegrees',\n",
    "                'air2_LongitudeDecimalDegrees'])['AlienMasterID'].nunique().reset_index()\n",
    "air_all = df[PU | DO].groupby([pd.Grouper(freq='AS-OCT'),\n",
    "                'R-T',\n",
    "                'PULOC',\n",
    "                'DropLoc',\n",
    "                'air_LatitudeDecimalDegrees',\n",
    "                'air_LongitudeDecimalDegrees',\n",
    "                'air2_LatitudeDecimalDegrees',\n",
    "                'air2_LongitudeDecimalDegrees'])['AlienMasterID'].nunique().reset_index()"
   ]
  },
  {
   "cell_type": "code",
   "execution_count": 62,
   "metadata": {},
   "outputs": [],
   "source": [
    "air_pickups.set_index('FiscalYear', inplace=True)\n",
    "air_dropoffs.set_index('FiscalYear', inplace=True)\n",
    "air_all.set_index('FiscalYear', inplace=True)"
   ]
  },
  {
   "cell_type": "code",
   "execution_count": 67,
   "metadata": {},
   "outputs": [
    {
     "data": {
      "image/png": "[encoded data removed]",
      "text/plain": [
       "<Figure size 864x576 with 2 Axes>"
      ]
     },
     "metadata": {
      "needs_background": "light"
     },
     "output_type": "display_data"
    }
   ],
   "source": [
    "year = '2017'\n",
    "vmax = air_all[year].groupby(['PULOC', 'DropLoc'])['AlienMasterID'].sum().max()\n",
    "vmin = air_all[year].groupby(['PULOC', 'DropLoc'])['AlienMasterID'].sum().min()\n",
    "\n",
    "if pd.notnull(year):\n",
    "    edges = air_pickups[year][['PULOC', 'DropLoc']].values\n",
    "    weights = air_pickups[year].groupby(['PULOC', 'DropLoc'])['AlienMasterID'].sum().reset_index()\n",
    "else:\n",
    "    edges = air_pickups[['PULOC', 'DropLoc']].values\n",
    "    weights = air_pickups.groupby(['PULOC', 'DropLoc'])['AlienMasterID'].sum().reset_index()\n",
    "\n",
    "G = nx.DiGraph()\n",
    "\n",
    "for row in weights.values:\n",
    "    G.add_edge(row[0], row[1], weight=row[2])\n",
    "    \n",
    "weights = pd.Series([c for (u, v, c) in G.edges.data('weight', default=0)])\n",
    "\n",
    "# sizes = [passenger_totals[icao].sum() / 500 for icao in G.nodes]\n",
    "\n",
    "pos_higher = {}\n",
    "y_off = -1  # offset on the y axis\n",
    "x_off = 1\n",
    "air_y_off = 1\n",
    "air_x_off = 1\n",
    "\n",
    "for k, v in pos.items():\n",
    "    if k == 'air':\n",
    "        pos_higher[k] = (v[0]+air_x_off, v[1]+air_y_off)\n",
    "    else:\n",
    "        pos_higher[k] = (v[0]+x_off, v[1]+y_off)\n",
    "        \n",
    "labels = {icao: icao for icao in G.nodes}\n",
    "edge_weights = {edge: G.get_edge_data(edge[0], edge[1])['weight'] for edge in G.edges}\n",
    "\n",
    "# Map projection\n",
    "crs = ccrs.PlateCarree(central_longitude=0.0)\n",
    "\n",
    "fig, ax = plt.subplots(\n",
    "    1, 1, figsize=(12, 8),\n",
    "    subplot_kw=dict(projection=crs))\n",
    "ax.coastlines(alpha=.2)\n",
    "ax.add_feature(cfeature.BORDERS, alpha=.2)\n",
    "ax.add_feature(cfeature.STATES, alpha=.2)\n",
    "\n",
    "# Extent of continental US.\n",
    "# ax.set_extent([-128, -62, 10, 50])\n",
    "# KBFI\n",
    "# ax.set_extent([-128, -90, 24, 50])\n",
    "# KCSG\n",
    "# ax.set_extent([-118, -62, 10, 40]) \n",
    "# KOAK\n",
    "ax.set_extent([-128, -100, 24, 40])\n",
    "\n",
    "M = G.number_of_edges()\n",
    "edge_colors = [weight / max(weights) for weight in weights]\n",
    "edge_alphas = 1\n",
    "\n",
    "nodes = nx.draw_networkx_nodes(G, pos, ax=ax, node_size=15, node_color='black')\n",
    "edges = nx.draw_networkx_edges(G, pos, ax=ax, node_size=15, arrowstyle='->',\n",
    "                               arrowsize=20,\n",
    "                               edge_color=edge_colors,\n",
    "                               edge_cmap=plt.cm.viridis,\n",
    "                               width=2)\n",
    "edge_labels=nx.draw_networkx_edge_labels(G,pos, edge_labels=edge_weights, label_pos=.4, font_size=12)\n",
    "labels = nx.draw_networkx_labels(G, pos_higher, ax=ax, labels=labels, font_size=14)\n",
    "\n",
    "pc = mpl.collections.PatchCollection(edges, cmap=plt.cm.viridis,\n",
    "                                     norm=plt.Normalize(vmin=vmin, vmax=vmax))\n",
    "pc.set_array(edge_colors)\n",
    "plt.colorbar(pc, ax=ax, shrink=.75)\n",
    "\n",
    "plt.title(f\"ICE Air: {airport} departure destinations, FY {int(year)+1}\", size=18)\n",
    "\n",
    "msg = '(Source: UW Center for Human Rights, ICE Air ARTS database)'\n",
    "txt = plt.figtext(0.65, .125, msg, wrap=True, horizontalalignment='center', fontsize=12)\n",
    "draft = plt.figtext(.4, .3, 'DRAFT', wrap=True, horizontalalignment='center', fontsize=120, alpha=.1)\n",
    "\n",
    "fig.savefig(f'../output/map-{airport}-destinations.png', dpi=100, bbox_extra_artists=(pc,txt), bbox_inches='tight')\n",
    "\n",
    "ax = plt.gca()\n",
    "ax.set_axis_off()\n",
    "plt.show()"
   ]
  },
  {
   "cell_type": "code",
   "execution_count": null,
   "metadata": {},
   "outputs": [],
   "source": []
  },
  {
   "cell_type": "code",
   "execution_count": 69,
   "metadata": {},
   "outputs": [
    {
     "data": {
      "image/png": "[encoded data removed]",
      "text/plain": [
       "<Figure size 864x576 with 2 Axes>"
      ]
     },
     "metadata": {
      "needs_background": "light"
     },
     "output_type": "display_data"
    }
   ],
   "source": [
    "year = '2017'\n",
    "vmax = air_all[year].groupby(['PULOC', 'DropLoc'])['AlienMasterID'].sum().max()\n",
    "vmin = air_all[year].groupby(['PULOC', 'DropLoc'])['AlienMasterID'].sum().min()\n",
    "\n",
    "if pd.notnull(year):\n",
    "    edges = air_dropoffs[year][['PULOC', 'DropLoc']].values\n",
    "    weights = air_dropoffs[year].groupby(['PULOC', 'DropLoc'])['AlienMasterID'].sum().reset_index()\n",
    "else:\n",
    "    edges = air_dropoffs[['PULOC', 'DropLoc']].values\n",
    "    weights = air_dropoffs.groupby(['PULOC', 'DropLoc'])['AlienMasterID'].sum().reset_index()\n",
    "\n",
    "G = nx.DiGraph()\n",
    "\n",
    "for row in weights.values:\n",
    "    G.add_edge(row[0], row[1], weight=row[2])\n",
    "    \n",
    "weights = pd.Series([c for (u, v, c) in G.edges.data('weight', default=0)])\n",
    "\n",
    "# sizes = [passenger_totals[icao].sum() / 500 for icao in G.nodes]\n",
    "\n",
    "pos_higher = {}\n",
    "y_off = 1\n",
    "x_off = -1\n",
    "air_y_off = 1\n",
    "air_x_off = 1\n",
    "\n",
    "for k, v in pos.items():\n",
    "    if k == 'air':\n",
    "        pos_higher[k] = (v[0]+air_x_off, v[1]+air_y_off)\n",
    "    else:\n",
    "        pos_higher[k] = (v[0]+x_off, v[1]+y_off)\n",
    "        \n",
    "labels = {icao: icao for icao in G.nodes}\n",
    "edge_weights = {edge: G.get_edge_data(edge[0], edge[1])['weight'] for edge in G.edges}\n",
    "\n",
    "special_edge = ('KSAT', 'KBFI')\n",
    "special_edge_weights = {special_edge: edge_weights.pop(special_edge, None)}\n",
    "\n",
    "# Map projection\n",
    "crs = ccrs.PlateCarree(central_longitude=0.0)\n",
    "\n",
    "fig, ax = plt.subplots(\n",
    "    1, 1, figsize=(12, 8),\n",
    "    subplot_kw=dict(projection=crs))\n",
    "ax.coastlines(alpha=.2)\n",
    "ax.add_feature(cfeature.BORDERS, alpha=.2)\n",
    "ax.add_feature(cfeature.STATES, alpha=.2)\n",
    "\n",
    "\n",
    "# Extent of continental US.\n",
    "# ax.set_extent([-128, -62, 10, 50])\n",
    "# KBFI\n",
    "# ax.set_extent([-128, -90, 24, 50])\n",
    "# KCSG\n",
    "# ax.set_extent([-114, -75, 18, 36]) \n",
    "# KOAK\n",
    "ax.set_extent([-128, -100, 24, 40])\n",
    "\n",
    "M = G.number_of_edges()\n",
    "edge_colors = [weight / max(weights) for weight in weights]\n",
    "edge_alphas = 1\n",
    "\n",
    "nodes = nx.draw_networkx_nodes(G, pos, ax=ax, node_size=15, node_color='black')\n",
    "edges = nx.draw_networkx_edges(G, pos, ax=ax, node_size=15, arrowstyle='->',\n",
    "                               arrowsize=20,\n",
    "                               edge_color=edge_colors,\n",
    "                               edge_cmap=plt.cm.viridis,\n",
    "                               width=2)\n",
    "labels = nx.draw_networkx_labels(G, pos_higher, ax=ax, labels=labels, font_size=14)\n",
    "edge_labels=nx.draw_networkx_edge_labels(G, pos, label_pos=.6, edge_labels=edge_weights, font_size=12)\n",
    "# edge_labels=nx.draw_networkx_edge_labels(G, pos, label_pos=.8, edge_labels=special_edge_weights, font_size=12)\n",
    "\n",
    "pc = mpl.collections.PatchCollection(edges, cmap=plt.cm.viridis,\n",
    "                                     norm=plt.Normalize(vmin=vmin, vmax=vmax))\n",
    "pc.set_array(edge_colors)\n",
    "plt.colorbar(pc, ax=ax, shrink=.75)\n",
    "\n",
    "plt.title(f\"ICE Air: {airport} dropoff sources, FY {int(year)+1}\", size=18)\n",
    "msg = '(Source: UW Center for Human Rights, ICE Air ARTS database)'\n",
    "txt = plt.figtext(0.65, .125, msg, wrap=True, horizontalalignment='center', fontsize=12)\n",
    "draft = plt.figtext(.4, .3, 'DRAFT', wrap=True, horizontalalignment='center', fontsize=120, alpha=.1)\n",
    "\n",
    "fig.savefig(f'../output/map-{airport}-sources.png', dpi=100, bbox_extra_artists=(pc,txt), bbox_inches='tight')\n",
    "\n",
    "ax = plt.gca()\n",
    "ax.set_axis_off()\n",
    "plt.show()"
   ]
  },
  {
   "cell_type": "markdown",
   "metadata": {},
   "source": [
    "### Netgraph experiment"
   ]
  },
  {
   "cell_type": "code",
   "execution_count": null,
   "metadata": {},
   "outputs": [],
   "source": [
    "year = '2017'\n",
    "if pd.notnull(year):\n",
    "    edges = kbfi_all[year][['PULOC', 'DropLoc']].values\n",
    "    weights = kbfi_all[year].groupby(['PULOC', 'DropLoc'])['AlienMasterID'].sum().reset_index()\n",
    "else:\n",
    "    edges = kbfi_all[['PULOC', 'DropLoc']].values\n",
    "    weights = kbfi_all.groupby(['PULOC', 'DropLoc'])['AlienMasterID'].sum().reset_index()\n",
    "\n",
    "G = nx.DiGraph()\n",
    "\n",
    "for row in weights.values:\n",
    "    G.add_edge(row[0], row[1], weight=row[2])\n",
    "    \n",
    "weights = pd.Series([c for (u, v, c) in G.edges.data('weight', default=0)])\n",
    "\n",
    "# sizes = [passenger_totals[icao].sum() / 500 for icao in G.nodes]\n",
    "\n",
    "pos_higher = {}\n",
    "y_off = -1\n",
    "x_off = 2.66\n",
    "kbfi_y_off = 1\n",
    "kbfi_x_off = 1\n",
    "\n",
    "for k, v in pos.items():\n",
    "    if k == 'KBFI':\n",
    "        pos_higher[k] = (v[0]+kbfi_x_off, v[1]+kbfi_y_off)\n",
    "    else:\n",
    "        pos_higher[k] = (v[0]+x_off, v[1]+y_off)\n",
    "        \n",
    "labels = {icao: icao for icao in G.nodes}\n",
    "edge_weights = {edge: G.get_edge_data(edge[0], edge[1])['weight'] for edge in G.edges}\n",
    "\n",
    "# Map projection\n",
    "crs = ccrs.PlateCarree(central_longitude=0.0)\n",
    "\n",
    "fig, ax = plt.subplots(\n",
    "    1, 1, figsize=(12, 8),\n",
    "    subplot_kw=dict(projection=crs))\n",
    "ax.coastlines(alpha=.2)\n",
    "ax.add_feature(cfeature.BORDERS, alpha=.2)\n",
    "\n",
    "# Extent of continental US.\n",
    "ax.set_extent([-128, -62, 10, 50])\n",
    "\n",
    "M = G.number_of_edges()\n",
    "edge_colors = [weight / max(weights) for weight in weights]\n",
    "edge_alphas = 1\n",
    "\n",
    "net = netgraph.draw(G, pos,\n",
    "                    ax=ax,\n",
    "                    width=20,\n",
    "                    edge_width=20,\n",
    "                    edge_color='black',\n",
    "                    node_edge_width=1,\n",
    "                    node_edge_alpha=0)\n",
    "\n",
    "# nodes = netgraph.draw_nodes(G, pos, ax=ax, node_size=15, node_color='black')\n",
    "# edges = netgraph.draw_edges(G, pos, ax=ax, node_size=15, arrowstyle='->',\n",
    "#                                arrowsize=20,\n",
    "#                                edge_color=edge_colors,\n",
    "#                                edge_cmap=plt.cm.viridis,\n",
    "#                                width=np.log(weights)/2+.25)\n",
    "# edge_labels=nx.draw_networkx_edge_labels(G, pos, label_pos=.8, edge_labels=edge_weights,\n",
    "#                                         bbox=dict(facecolor='white', edgecolor='black'))\n",
    "# labels = nx.draw_networkx_labels(G, pos_higher, ax=ax, labels=labels, font_size=14)\n",
    "\n",
    "# pc = mpl.collections.PatchCollection(edges, cmap=plt.cm.viridis,\n",
    "#                                      norm=plt.Normalize(vmin=weights.min(), vmax=weights.max()))\n",
    "# pc.set_array(edge_colors)\n",
    "# plt.colorbar(pc, ax=ax, shrink=.75)\n",
    "\n",
    "plt.title(f\"ICE Air: Boeing Field, FY {int(year)+1}\", size=18)\n",
    "ax = plt.gca()\n",
    "ax.set_axis_off()\n",
    "plt.show()"
   ]
  },
  {
   "cell_type": "markdown",
   "metadata": {},
   "source": [
    "### Experiment with multiple axes"
   ]
  },
  {
   "cell_type": "code",
   "execution_count": null,
   "metadata": {},
   "outputs": [],
   "source": [
    "# Map projection\n",
    "crs = ccrs.PlateCarree(central_longitude=0.0)\n",
    "\n",
    "fig, ax = plt.subplots(\n",
    "    1, 2, figsize=(12, 8),\n",
    "    subplot_kw=dict(projection=crs))\n",
    "\n",
    "for i, ax in enumerate(fig.axes):\n",
    "    fig.axes[i].coastlines(alpha=.2)\n",
    "    fig.axes[i].add_feature(cfeature.BORDERS, alpha=.2)\n",
    "    fig.axes[i].set_extent([-128, -90, 10, 50])\n",
    "\n",
    "pc = mpl.collections.PatchCollection(edges, cmap=plt.cm.viridis,\n",
    "                                     norm=plt.Normalize(vmin=vmin, vmax=vmax))\n",
    "pc.set_array(edge_colors)\n",
    "plt.colorbar(pc, shrink=.75)"
   ]
  },
  {
   "cell_type": "code",
   "execution_count": null,
   "metadata": {},
   "outputs": [],
   "source": []
  }
 ],
 "metadata": {
  "kernelspec": {
   "display_name": "Python 3",
   "language": "python",
   "name": "python3"
  },
  "language_info": {
   "codemirror_mode": {
    "name": "ipython",
    "version": 3
   },
   "file_extension": ".py",
   "mimetype": "text/x-python",
   "name": "python",
   "nbconvert_exporter": "python",
   "pygments_lexer": "ipython3",
   "version": "3.7.1"
  }
 },
 "nbformat": 4,
 "nbformat_minor": 2
}
