{
 "cells": [
  {
   "cell_type": "code",
   "execution_count": 22,
   "metadata": {},
   "outputs": [],
   "source": [
    "# Author: University of Washington Center for Human Rights\n",
    "# Date: 2019-04-29\n",
    "# License: GPL 3.0 or greater\n",
    "# Path: ice-air/analyze/note/global.ipynb\n",
    "\n",
    "import numpy as np\n",
    "import pandas as pd\n",
    "import yaml\n",
    "import matplotlib.pyplot as plt\n",
    "import matplotlib.mlab as mlab"
   ]
  },
  {
   "cell_type": "markdown",
   "metadata": {},
   "source": [
    "This notebook and its outputs are of an exploratory nature only and do not necessarily reflect the final findings of UWCHR as published in the report [\"Hidden in Plain Sight: ICE Air and the Machinery of Mass Deportation\"](https://jsis.washington.edu/humanrights/2019/04/23/ice-air/)."
   ]
  },
  {
   "cell_type": "markdown",
   "metadata": {},
   "source": [
    "# Import\n",
    "\n",
    "First we open a file containing a dictionary of columns and associated data types generated in `../../optimize/`, then we read input file."
   ]
  },
  {
   "cell_type": "code",
   "execution_count": 23,
   "metadata": {},
   "outputs": [
    {
     "name": "stdout",
     "output_type": "stream",
     "text": [
      "<class 'pandas.core.frame.DataFrame'>\n",
      "RangeIndex: 1732625 entries, 0 to 1732624\n",
      "Data columns (total 48 columns):\n",
      "Status                          category\n",
      "Sex                             category\n",
      "Convictions                     category\n",
      "GangMember                      category\n",
      "ClassLvl                        float32\n",
      "Age                             float32\n",
      "MissionDate                     datetime64[ns]\n",
      "MissionNumber                   uint32\n",
      "PULOC                           category\n",
      "DropLoc                         category\n",
      "StrikeFromList                  float32\n",
      "ReasonStruck                    category\n",
      "R-T                             category\n",
      "Code                            category\n",
      "CountryOfCitizenship            category\n",
      "Juvenile                        bool\n",
      "MissionWeek                     uint8\n",
      "MissionQuarter                  uint8\n",
      "MissionYear                     uint16\n",
      "MissionMonth                    uint8\n",
      "Criminality                     category\n",
      "FamilyUnitFlag                  float32\n",
      "UnaccompaniedFlag               float32\n",
      "AlienMasterID                   uint32\n",
      "MissionID                       uint16\n",
      "air_AirportID                   float32\n",
      "air_AirportName                 category\n",
      "air_City                        category\n",
      "st_StateID                      float32\n",
      "st_StateAbbr                    category\n",
      "AOR_AORID                       float32\n",
      "AOR_AOR                         category\n",
      "AOR_AORName                     category\n",
      "air_Country                     category\n",
      "air2_AirportID                  float32\n",
      "air2_AirportName                category\n",
      "air2_City                       category\n",
      "st2_StateID                     float32\n",
      "st2_StateAbbr                   category\n",
      "aor2_AORID                      float32\n",
      "aor2_AOR                        category\n",
      "aor2_AORName                    category\n",
      "air2_Country                    category\n",
      "air_LatitudeDecimalDegrees      float64\n",
      "air_LongitudeDecimalDegrees     float64\n",
      "air2_LatitudeDecimalDegrees     float64\n",
      "air2_LongitudeDecimalDegrees    float64\n",
      "NonCriminal                     bool\n",
      "dtypes: bool(2), category(23), datetime64[ns](1), float32(11), float64(4), uint16(2), uint32(2), uint8(3)\n",
      "memory usage: 217.3 MB\n"
     ]
    }
   ],
   "source": [
    "with open('../input/dtypes.yaml', 'r') as yamlfile:\n",
    "    column_types = yaml.load(yamlfile)\n",
    "\n",
    "read_csv_opts = {'sep': '|',\n",
    "                 'quotechar': '\"',\n",
    "                 'compression': 'gzip',\n",
    "                 'encoding': 'utf-8',\n",
    "                 'dtype': column_types,\n",
    "                 'parse_dates': ['MissionDate'],\n",
    "                 'infer_datetime_format': True}\n",
    "\n",
    "df = pd.read_csv('../input/ice-air.csv.gz', **read_csv_opts)\n",
    "\n",
    "df.info()"
   ]
  },
  {
   "cell_type": "code",
   "execution_count": 24,
   "metadata": {},
   "outputs": [],
   "source": [
    "# Some column subsets that may be useful\n",
    "# Passenger characteristics:\n",
    "passenger_cols = ['AlienMasterID', 'Status', 'Sex', 'Convictions', 'GangMember',\n",
    "       'ClassLvl', 'Age', 'MissionNumber', 'PULOC', 'DropLoc',\n",
    "       'StrikeFromList', 'ReasonStruck', 'R-T', 'Code', 'CountryOfCitizenship',\n",
    "       'Juvenile', 'MissionWeek', 'MissionQuarter', 'MissionYear',\n",
    "       'MissionMonth', 'Criminality', 'FamilyUnitFlag', 'UnaccompaniedFlag',\n",
    "       'MissionID', 'MissionDate']\n",
    "# Airport metadata:\n",
    "airport_cols = ['air_AirportID', 'air_AirportName', 'air_City',\n",
    "       'st_StateID', 'st_StateAbbr', 'AOR_AORID', 'AOR_AOR', 'AOR_AORName',\n",
    "       'air_Country', 'air2_AirportID', 'air2_AirportName', 'air2_City',\n",
    "       'st2_StateID', 'st2_StateAbbr', 'aor2_AORID', 'aor2_AOR',\n",
    "       'aor2_AORName', 'air2_Country', 'air_LatitudeDecimalDegrees',\n",
    "       'air_LongitudeDecimalDegrees', 'air2_LatitudeDecimalDegrees',\n",
    "       'air2_LongitudeDecimalDegrees']\n",
    "# Pickup location ('PULOC') airport metadata:\n",
    "airport1_cols = ['air_AirportID', 'air_AirportName', 'air_City',\n",
    "       'st_StateID', 'st_StateAbbr', 'AOR_AORID', 'AOR_AOR', 'AOR_AORName',\n",
    "       'air_Country','air_LatitudeDecimalDegrees', 'air_LongitudeDecimalDegrees']\n",
    "# Dropoff location ('DropLoc') airport metadata:\n",
    "airport2_cols = ['air2_AirportID', 'air2_AirportName', 'air2_City',\n",
    "       'st2_StateID', 'st2_StateAbbr', 'aor2_AORID', 'aor2_AOR',\n",
    "       'aor2_AORName', 'air2_Country', 'air2_LatitudeDecimalDegrees',\n",
    "       'air2_LongitudeDecimalDegrees']"
   ]
  },
  {
   "cell_type": "markdown",
   "metadata": {},
   "source": [
    "# Global variables"
   ]
  },
  {
   "cell_type": "markdown",
   "metadata": {},
   "source": [
    "Here we calculate top-level data on the global scope of the ICE Air dataset. We assert that there are no duplicate records, and that each record has a unique non-null `AlienMasterID` value."
   ]
  },
  {
   "cell_type": "code",
   "execution_count": 25,
   "metadata": {},
   "outputs": [
    {
     "name": "stdout",
     "output_type": "stream",
     "text": [
      "Unique AlienMasterID values: 1732625\n"
     ]
    }
   ],
   "source": [
    "pre_drop = len(df)\n",
    "df = df.drop_duplicates()\n",
    "post_drop = len(df)\n",
    "assert pre_drop == post_drop\n",
    "\n",
    "assert sum(df['AlienMasterID'].isnull()) == 0\n",
    "assert len(df) == len(set(df['AlienMasterID']))\n",
    "\n",
    "print(f\"Unique AlienMasterID values: {len(set(df['AlienMasterID']))}\")"
   ]
  },
  {
   "cell_type": "code",
   "execution_count": 26,
   "metadata": {},
   "outputs": [
    {
     "name": "stdout",
     "output_type": "stream",
     "text": [
      "2042246\n"
     ]
    }
   ],
   "source": [
    "# Span of 'AlienMasterID' values is greater than number of unique values, so some must be skipped.\n",
    "print(df['AlienMasterID'].max() - df['AlienMasterID'].min())"
   ]
  },
  {
   "cell_type": "markdown",
   "metadata": {},
   "source": [
    "No missing values in `MissionID` and `MissionNumber` fields. "
   ]
  },
  {
   "cell_type": "code",
   "execution_count": 27,
   "metadata": {},
   "outputs": [
    {
     "name": "stdout",
     "output_type": "stream",
     "text": [
      "Unique MissionID values: 14961\n",
      "Unique MissionNumber values: 14961\n"
     ]
    }
   ],
   "source": [
    "unique_MissionID = len(set(df['MissionID']))\n",
    "assert sum(df['MissionID'].isnull()) == 0\n",
    "print(f\"Unique MissionID values: {unique_MissionID}\")\n",
    "\n",
    "unique_MissionNumber = len(set(df['MissionNumber']))\n",
    "assert sum(df['MissionNumber'].isnull()) == 0\n",
    "print(f\"Unique MissionNumber values: {unique_MissionNumber}\")"
   ]
  },
  {
   "cell_type": "markdown",
   "metadata": {},
   "source": [
    "We finda one to one relationship of `MissionID` to `MissionNumber`. These fields seem to be equivalent and non-hierarchical. Ordering does not affect calculations."
   ]
  },
  {
   "cell_type": "code",
   "execution_count": 28,
   "metadata": {},
   "outputs": [
    {
     "name": "stdout",
     "output_type": "stream",
     "text": [
      "41210 unique mission segments, grouped by mission and date.\n"
     ]
    }
   ],
   "source": [
    "assert sum(df.groupby(['MissionID'])['MissionNumber'].nunique() > 1) == 0\n",
    "assert sum(df.groupby(['MissionNumber'])['MissionID'].nunique() > 1) == 0\n",
    "\n",
    "missions = df.groupby(['MissionDate', 'MissionID', 'MissionNumber', 'PULOC', 'DropLoc'])\n",
    "missions_alt = df.groupby(['MissionDate', 'MissionNumber', 'MissionID',  'PULOC', 'DropLoc'])\n",
    "missions_alt_2 = df.groupby(['MissionNumber', 'MissionID', 'MissionDate',  'PULOC', 'DropLoc'])\n",
    "assert len(missions) == len(missions_alt)\n",
    "assert len(missions) == len(missions_alt_2)\n",
    "del missions_alt, missions_alt_2\n",
    "mission_segments = len(missions)\n",
    "print(f\"{mission_segments} unique mission segments, grouped by mission and date.\")"
   ]
  },
  {
   "cell_type": "code",
   "execution_count": 29,
   "metadata": {},
   "outputs": [
    {
     "name": "stdout",
     "output_type": "stream",
     "text": [
      "Lowest MissionID value: 105\n",
      "Highest MissionID value: 47456\n",
      "\n",
      "Lowest MissionNumber value: 110001\n",
      "Highest MissionNumber value: 190356\n"
     ]
    }
   ],
   "source": [
    "# MissionID and MissionNumber values do not have a clear logic.\n",
    "# MissionNumber does not correspond to flight numbers as asserted by ARTS data dictionary\n",
    "\n",
    "print(f\"Lowest MissionID value: {df['MissionID'].min()}\")\n",
    "print(f\"Highest MissionID value: {df['MissionID'].max()}\")\n",
    "print()\n",
    "print(f\"Lowest MissionNumber value: {df['MissionNumber'].min()}\")\n",
    "print(f\"Highest MissionNumber value: {df['MissionNumber'].max()}\")"
   ]
  },
  {
   "cell_type": "code",
   "execution_count": 30,
   "metadata": {},
   "outputs": [
    {
     "data": {
      "text/plain": [
       "270"
      ]
     },
     "execution_count": 30,
     "metadata": {},
     "output_type": "execute_result"
    }
   ],
   "source": [
    "missions['AlienMasterID'].nunique().max()"
   ]
  },
  {
   "cell_type": "code",
   "execution_count": 31,
   "metadata": {},
   "outputs": [
    {
     "data": {
      "text/plain": [
       "42.04380004853191"
      ]
     },
     "execution_count": 31,
     "metadata": {},
     "output_type": "execute_result"
    }
   ],
   "source": [
    "missions['AlienMasterID'].nunique().mean()"
   ]
  },
  {
   "cell_type": "code",
   "execution_count": 32,
   "metadata": {},
   "outputs": [
    {
     "data": {
      "text/plain": [
       "119.0"
      ]
     },
     "execution_count": 32,
     "metadata": {},
     "output_type": "execute_result"
    }
   ],
   "source": [
    "df.groupby('MissionID')['AlienMasterID'].nunique().median()"
   ]
  },
  {
   "cell_type": "markdown",
   "metadata": {},
   "source": [
    "The following is a glimpse of flight segments from the first day in the dataset, showing how flight segments are grouped by `MissionID`/`MissionNumber`. We cannot assume that a unique combination of `PULOC` and `DropLoc` on a given mission represents a specific flight path, only the pickup and dropoff locations of each passenger. Missions can include a combination of both removal (`R`) and transfer (`T`) flights.\n",
    "\n",
    "If we take ICE's Data Dictionary on its face, each `MissionID`/`MissionNumber` represents a single flight, possibly with multiple pickup and dropoff stops on its itinerary. Reconstructing the exact flight itinerary from this data may not be possible, given that there are no timestamp values below the day level, nor any other explicit indications of consecutive flight segments, other than the original ordering of the records."
   ]
  },
  {
   "cell_type": "code",
   "execution_count": 33,
   "metadata": {},
   "outputs": [
    {
     "data": {
      "text/plain": [
       "MissionDate  MissionID  MissionNumber  R-T  PULOC  DropLoc\n",
       "2010-10-01   105        110005         T    KMDT   KAEX       122\n",
       "             106        110006         R    KHRL   MGGT        67\n",
       "                                            KSAT   MGGT        37\n",
       "             107        110007         R    KAEX   MHLM        97\n",
       "             108        110008         R    KMCI   KHRL        35\n",
       "                                            KORD   KHRL        63\n",
       "                                       T    KMCI   KAEX        10\n",
       "                                            KORD   KAEX        25\n",
       "             131        110002         R    KBFL   KSAN        13\n",
       "                                            KOAK   KSAN        43\n",
       "                                       T    KBFL   KIWA         3\n",
       "                                                   KSAN         8\n",
       "                                            KOAK   KIWA        13\n",
       "                                                   KSAN         5\n",
       "                                            KSAN   KIWA        29\n",
       "Name: AlienMasterID, dtype: int64"
      ]
     },
     "execution_count": 33,
     "metadata": {},
     "output_type": "execute_result"
    }
   ],
   "source": [
    "missions_rt = df.groupby(['MissionDate', 'MissionID', 'MissionNumber', 'R-T', 'PULOC', 'DropLoc'])\n",
    "missions_rt['AlienMasterID'].nunique().head(15)"
   ]
  },
  {
   "cell_type": "code",
   "execution_count": 34,
   "metadata": {},
   "outputs": [
    {
     "name": "stdout",
     "output_type": "stream",
     "text": [
      "Earliest record: 2010-10-01\n",
      "Earliest record: 2018-12-05\n"
     ]
    }
   ],
   "source": [
    "earliest_record = df['MissionDate'].min()\n",
    "print(f'Earliest record: {earliest_record.date()}')\n",
    "latest_record = df['MissionDate'].max()\n",
    "print(f'Earliest record: {latest_record.date()}')"
   ]
  },
  {
   "cell_type": "code",
   "execution_count": 35,
   "metadata": {},
   "outputs": [
    {
     "name": "stdout",
     "output_type": "stream",
     "text": [
      "Number of pickup airports: 81\n",
      "Number of dropoff airports: 205\n",
      "Total airports: 222\n"
     ]
    }
   ],
   "source": [
    "number_of_pickup_airports = len(set(df['PULOC'].dropna()))\n",
    "number_of_dropoff_airports = len(set(df['DropLoc'].dropna()))\n",
    "total_airports = len(set(df['PULOC']).union(set(df['DropLoc'])))\n",
    "print(f'Number of pickup airports: {number_of_pickup_airports}')\n",
    "print(f'Number of dropoff airports: {number_of_dropoff_airports}')\n",
    "print(f'Total airports: {total_airports}')"
   ]
  },
  {
   "cell_type": "code",
   "execution_count": 36,
   "metadata": {},
   "outputs": [
    {
     "name": "stdout",
     "output_type": "stream",
     "text": [
      "Number of pickup countries: 10\n",
      "Number of dropoff countries: 119\n",
      "Total countries: 119\n"
     ]
    }
   ],
   "source": [
    "pickup_countries = set(df['air_Country'].dropna())\n",
    "dropoff_countries = set(df['air2_Country'].dropna())\n",
    "total_countries = len(set(df['air_Country']).union(set(df['air2_Country'])))\n",
    "print(f'Number of pickup countries: {len(pickup_countries)}')\n",
    "print(f'Number of dropoff countries: {len(dropoff_countries)}')\n",
    "print(f'Total countries: {total_countries}')"
   ]
  },
  {
   "cell_type": "markdown",
   "metadata": {},
   "source": [
    "## ICE Air network expansion"
   ]
  },
  {
   "cell_type": "markdown",
   "metadata": {},
   "source": [
    "The number of unique pickup and dropoff airports represented in the dataset per year can be interpreted as a metric for the expansion of the ICE Air network over time."
   ]
  },
  {
   "cell_type": "code",
   "execution_count": 37,
   "metadata": {},
   "outputs": [],
   "source": [
    "assert sum(df['DropLoc'].isnull()) == 0\n",
    "assert sum(df['PULOC'].isnull()) == 0"
   ]
  },
  {
   "cell_type": "code",
   "execution_count": 38,
   "metadata": {},
   "outputs": [],
   "source": [
    "droplocs_per_fy = df.resample('AS-OCT', on='MissionDate')['DropLoc']\n",
    "pulocs_per_fy = df.resample('AS-OCT', on='MissionDate')['PULOC']\n",
    "drop_countries_per_fy = df.resample('AS-OCT', on='MissionDate')['air2_Country']\n",
    "pu_countries_per_fy = df.resample('AS-OCT', on='MissionDate')['air_Country']"
   ]
  },
  {
   "cell_type": "code",
   "execution_count": 39,
   "metadata": {},
   "outputs": [
    {
     "data": {
      "text/html": [
       "<div>\n",
       "<style scoped>\n",
       "    .dataframe tbody tr th:only-of-type {\n",
       "        vertical-align: middle;\n",
       "    }\n",
       "\n",
       "    .dataframe tbody tr th {\n",
       "        vertical-align: top;\n",
       "    }\n",
       "\n",
       "    .dataframe thead th {\n",
       "        text-align: right;\n",
       "    }\n",
       "</style>\n",
       "<table border=\"1\" class=\"dataframe\">\n",
       "  <thead>\n",
       "    <tr style=\"text-align: right;\">\n",
       "      <th></th>\n",
       "      <th>Unique Pickup Airports</th>\n",
       "      <th>Unique Dropoff Airports</th>\n",
       "      <th>Unique Destination Countries</th>\n",
       "    </tr>\n",
       "    <tr>\n",
       "      <th>FY</th>\n",
       "      <th></th>\n",
       "      <th></th>\n",
       "      <th></th>\n",
       "    </tr>\n",
       "  </thead>\n",
       "  <tbody>\n",
       "    <tr>\n",
       "      <th>2011</th>\n",
       "      <td>41</td>\n",
       "      <td>69</td>\n",
       "      <td>35</td>\n",
       "    </tr>\n",
       "    <tr>\n",
       "      <th>2012</th>\n",
       "      <td>44</td>\n",
       "      <td>78</td>\n",
       "      <td>42</td>\n",
       "    </tr>\n",
       "    <tr>\n",
       "      <th>2013</th>\n",
       "      <td>45</td>\n",
       "      <td>48</td>\n",
       "      <td>16</td>\n",
       "    </tr>\n",
       "    <tr>\n",
       "      <th>2014</th>\n",
       "      <td>41</td>\n",
       "      <td>62</td>\n",
       "      <td>20</td>\n",
       "    </tr>\n",
       "    <tr>\n",
       "      <th>2015</th>\n",
       "      <td>36</td>\n",
       "      <td>60</td>\n",
       "      <td>32</td>\n",
       "    </tr>\n",
       "    <tr>\n",
       "      <th>2016</th>\n",
       "      <td>39</td>\n",
       "      <td>87</td>\n",
       "      <td>54</td>\n",
       "    </tr>\n",
       "    <tr>\n",
       "      <th>2017</th>\n",
       "      <td>40</td>\n",
       "      <td>85</td>\n",
       "      <td>49</td>\n",
       "    </tr>\n",
       "    <tr>\n",
       "      <th>2018</th>\n",
       "      <td>41</td>\n",
       "      <td>108</td>\n",
       "      <td>69</td>\n",
       "    </tr>\n",
       "    <tr>\n",
       "      <th>2019</th>\n",
       "      <td>31</td>\n",
       "      <td>52</td>\n",
       "      <td>23</td>\n",
       "    </tr>\n",
       "  </tbody>\n",
       "</table>\n",
       "</div>"
      ],
      "text/plain": [
       "      Unique Pickup Airports  Unique Dropoff Airports  \\\n",
       "FY                                                      \n",
       "2011                      41                       69   \n",
       "2012                      44                       78   \n",
       "2013                      45                       48   \n",
       "2014                      41                       62   \n",
       "2015                      36                       60   \n",
       "2016                      39                       87   \n",
       "2017                      40                       85   \n",
       "2018                      41                      108   \n",
       "2019                      31                       52   \n",
       "\n",
       "      Unique Destination Countries  \n",
       "FY                                  \n",
       "2011                            35  \n",
       "2012                            42  \n",
       "2013                            16  \n",
       "2014                            20  \n",
       "2015                            32  \n",
       "2016                            54  \n",
       "2017                            49  \n",
       "2018                            69  \n",
       "2019                            23  "
      ]
     },
     "execution_count": 39,
     "metadata": {},
     "output_type": "execute_result"
    }
   ],
   "source": [
    "unique_droplocs = droplocs_per_fy.nunique()\n",
    "unique_pulocs = pulocs_per_fy.nunique()\n",
    "unique_countries = drop_countries_per_fy.nunique()\n",
    "expansion = pd.DataFrame({'Unique Pickup Airports': unique_pulocs,\n",
    "                          'Unique Dropoff Airports': unique_droplocs,\n",
    "                          'Unique Destination Countries': unique_countries})\n",
    "expansion.index = expansion.index.year + 1\n",
    "expansion.index.name = 'FY'\n",
    "# expansion.to_csv('../output/iceair-expansion.csv')\n",
    "expansion"
   ]
  },
  {
   "cell_type": "code",
   "execution_count": 40,
   "metadata": {},
   "outputs": [],
   "source": [
    "usa_pu = set(df.loc[df['air_Country'] == 'USA']['PULOC'].dropna())\n",
    "usa_drop = set(df.loc[df['air2_Country'] == 'USA']['DropLoc'].dropna())\n",
    "foreign_pu = set(df.loc[df['air_Country'] != 'USA']['PULOC'].dropna())\n",
    "foreign_drop = set(df.loc[df['air2_Country'] != 'USA']['DropLoc'].dropna())"
   ]
  },
  {
   "cell_type": "code",
   "execution_count": 41,
   "metadata": {},
   "outputs": [
    {
     "name": "stdout",
     "output_type": "stream",
     "text": [
      "Total US airports: 88\n"
     ]
    }
   ],
   "source": [
    "print(f'Total US airports: {len(usa_pu.union(usa_drop))}')"
   ]
  },
  {
   "cell_type": "code",
   "execution_count": 42,
   "metadata": {},
   "outputs": [
    {
     "name": "stdout",
     "output_type": "stream",
     "text": [
      "Total international airports: 134\n"
     ]
    }
   ],
   "source": [
    "print(f'Total international airports: {len(foreign_pu.union(foreign_drop))}')"
   ]
  },
  {
   "cell_type": "markdown",
   "metadata": {},
   "source": [
    "# Most common pickup, dropoff airports"
   ]
  },
  {
   "cell_type": "markdown",
   "metadata": {},
   "source": [
    "By unique `AlienMasterID` values:"
   ]
  },
  {
   "cell_type": "code",
   "execution_count": 43,
   "metadata": {},
   "outputs": [
    {
     "data": {
      "text/plain": [
       "Alexandria International Airport                        239896\n",
       "Brownsville South Padre Island International Airport    204895\n",
       "Phoenix-Mesa-Gateway Airport                            196139\n",
       "El Paso International Airport                           136127\n",
       "Valley International Airport                            124994\n",
       "San Antonio International Airport                       107434\n",
       "Columbus Metropolitan Airport                            80797\n",
       "Harrisburg International Airport                         76348\n",
       "Laredo International Airport                             56409\n",
       "Miami International Airport                              55588\n",
       "Name: air_AirportName, dtype: int64"
      ]
     },
     "execution_count": 43,
     "metadata": {},
     "output_type": "execute_result"
    }
   ],
   "source": [
    "df.drop_duplicates('AlienMasterID')['air_AirportName'].value_counts().head(10)"
   ]
  },
  {
   "cell_type": "code",
   "execution_count": 44,
   "metadata": {},
   "outputs": [
    {
     "data": {
      "text/plain": [
       "La Aurora Airport                                       326875\n",
       "Ramon Villeda Morales International Airport             202955\n",
       "Alexandria International Airport                        169316\n",
       "El Salvador International Airport                       157773\n",
       "Valley International Airport                            148679\n",
       "Phoenix-Mesa-Gateway Airport                             93892\n",
       "El Paso International Airport                            87186\n",
       "Licenciado Benito Juarez International Airport           85584\n",
       "Brownsville South Padre Island International Airport     66444\n",
       "San Diego International Airport                          62942\n",
       "Name: air2_AirportName, dtype: int64"
      ]
     },
     "execution_count": 44,
     "metadata": {},
     "output_type": "execute_result"
    }
   ],
   "source": [
    "df.drop_duplicates('AlienMasterID')['air2_AirportName'].value_counts().head(10)"
   ]
  },
  {
   "cell_type": "code",
   "execution_count": 56,
   "metadata": {},
   "outputs": [
    {
     "data": {
      "text/plain": [
       "air_AirportName\n",
       "Alexandria International Airport                        4074\n",
       "Phoenix-Mesa-Gateway Airport                            3856\n",
       "Brownsville South Padre Island International Airport    2434\n",
       "El Paso International Airport                           2315\n",
       "San Antonio International Airport                       1858\n",
       "Valley International Airport                            1508\n",
       "Miami International Airport                             1454\n",
       "Columbus Metropolitan Airport                           1140\n",
       "San Diego International Airport                         1009\n",
       "Metropolitan Oakland International Airport               970\n",
       "Name: MissionID, dtype: int64"
      ]
     },
     "execution_count": 56,
     "metadata": {},
     "output_type": "execute_result"
    }
   ],
   "source": [
    "df.groupby('air_AirportName')['MissionID'].nunique().sort_values(ascending=False).head(10)"
   ]
  },
  {
   "cell_type": "code",
   "execution_count": 57,
   "metadata": {},
   "outputs": [
    {
     "data": {
      "text/plain": [
       "air2_AirportName\n",
       "Alexandria International Airport                        3033\n",
       "La Aurora Airport                                       3018\n",
       "Phoenix-Mesa-Gateway Airport                            2454\n",
       "Ramon Villeda Morales International Airport             2044\n",
       "El Paso International Airport                           1926\n",
       "Valley International Airport                            1734\n",
       "El Salvador International Airport                       1569\n",
       "San Diego International Airport                         1139\n",
       "Brownsville South Padre Island International Airport    1122\n",
       "Laredo International Airport                             660\n",
       "Name: MissionID, dtype: int64"
      ]
     },
     "execution_count": 57,
     "metadata": {},
     "output_type": "execute_result"
    }
   ],
   "source": [
    "df.groupby('air2_AirportName')['MissionID'].nunique().sort_values(ascending=False).head(10)"
   ]
  },
  {
   "cell_type": "code",
   "execution_count": 91,
   "metadata": {},
   "outputs": [
    {
     "name": "stdout",
     "output_type": "stream",
     "text": [
      "Number of pickup countries: 10\n",
      "Number of dropoff countries: 119\n",
      "Total countries in ICE Air network (including US): 119\n"
     ]
    }
   ],
   "source": [
    "pickup_countries = set(df['air_Country'].dropna())\n",
    "print(f'Number of pickup countries: {len(pickup_countries)}')\n",
    "dropoff_countries = set(df['air2_Country'].dropna())\n",
    "print(f'Number of dropoff countries: {len(dropoff_countries)}')\n",
    "all_countries = pickup_countries.union(dropoff_countries)\n",
    "print(f'Total countries in ICE Air network (including US): {len(dropoff_countries)}')"
   ]
  },
  {
   "cell_type": "markdown",
   "metadata": {},
   "source": [
    "Top nationalities:"
   ]
  },
  {
   "cell_type": "code",
   "execution_count": 92,
   "metadata": {},
   "outputs": [
    {
     "data": {
      "text/plain": [
       "MEXICO                567623\n",
       "GUATEMALA             421229\n",
       "HONDURAS              304548\n",
       "EL SALVADOR           256701\n",
       "DOMINICAN REPUBLIC     31703\n",
       "ECUADOR                25686\n",
       "HAITI                  23308\n",
       "NICARAGUA              18677\n",
       "COLOMBIA               14520\n",
       "JAMAICA                12798\n",
       "Name: CountryOfCitizenship, dtype: int64"
      ]
     },
     "execution_count": 92,
     "metadata": {},
     "output_type": "execute_result"
    }
   ],
   "source": [
    "df.drop_duplicates(subset='AlienMasterID')['CountryOfCitizenship'].value_counts().head(10)"
   ]
  },
  {
   "cell_type": "code",
   "execution_count": 218,
   "metadata": {},
   "outputs": [],
   "source": [
    "removals = df['R-T'] == 'R'\n",
    "transfers = df['R-T'] == 'T'\n",
    "\n",
    "removal_df = df[removals]\n",
    "transfer_df = df[transfers]"
   ]
  },
  {
   "cell_type": "markdown",
   "metadata": {},
   "source": [
    "Top nationalities for removals:"
   ]
  },
  {
   "cell_type": "code",
   "execution_count": 94,
   "metadata": {},
   "outputs": [
    {
     "data": {
      "text/plain": [
       "MEXICO                466108\n",
       "GUATEMALA             326643\n",
       "HONDURAS              223786\n",
       "EL SALVADOR           157538\n",
       "DOMINICAN REPUBLIC     14878\n",
       "ECUADOR                 9968\n",
       "HAITI                   8685\n",
       "NICARAGUA               8215\n",
       "COLOMBIA                7372\n",
       "JAMAICA                 6169\n",
       "Name: CountryOfCitizenship, dtype: int64"
      ]
     },
     "execution_count": 94,
     "metadata": {},
     "output_type": "execute_result"
    }
   ],
   "source": [
    "removal_df.drop_duplicates(subset='AlienMasterID')['CountryOfCitizenship'].value_counts().head(10)"
   ]
  },
  {
   "cell_type": "markdown",
   "metadata": {},
   "source": [
    "Top nationalities for transfers:"
   ]
  },
  {
   "cell_type": "code",
   "execution_count": 95,
   "metadata": {},
   "outputs": [
    {
     "data": {
      "text/plain": [
       "MEXICO                101514\n",
       "EL SALVADOR            99163\n",
       "GUATEMALA              94586\n",
       "HONDURAS               80749\n",
       "DOMINICAN REPUBLIC     16825\n",
       "ECUADOR                15717\n",
       "HAITI                  14623\n",
       "NICARAGUA              10462\n",
       "INDIA                   8557\n",
       "COLOMBIA                7148\n",
       "Name: CountryOfCitizenship, dtype: int64"
      ]
     },
     "execution_count": 95,
     "metadata": {},
     "output_type": "execute_result"
    }
   ],
   "source": [
    "transfer_df.drop_duplicates(subset='AlienMasterID')['CountryOfCitizenship'].value_counts().head(10)"
   ]
  },
  {
   "cell_type": "markdown",
   "metadata": {},
   "source": [
    "# Trend charts"
   ]
  },
  {
   "cell_type": "markdown",
   "metadata": {},
   "source": [
    "Charts for global trends in the ICE Air dataset, starting with simple plot of total removals and transfers per fiscal year (excluding FY19):"
   ]
  },
  {
   "cell_type": "code",
   "execution_count": 60,
   "metadata": {},
   "outputs": [],
   "source": [
    "removal_df = df.loc[df['R-T'] == 'R']\n",
    "transfer_df = df.loc[df['R-T'] == 'T']\n",
    "removal_df.set_index('MissionDate', inplace=True)\n",
    "transfer_df.set_index('MissionDate', inplace=True)"
   ]
  },
  {
   "cell_type": "code",
   "execution_count": 61,
   "metadata": {},
   "outputs": [
    {
     "data": {
      "text/plain": [
       "R             1233912\n",
       "T              498695\n",
       "NaN                15\n",
       "Ineligible          2\n",
       "No-show             1\n",
       "Name: R-T, dtype: int64"
      ]
     },
     "execution_count": 61,
     "metadata": {},
     "output_type": "execute_result"
    }
   ],
   "source": [
    "df['R-T'].value_counts(dropna=False)"
   ]
  },
  {
   "cell_type": "code",
   "execution_count": 62,
   "metadata": {},
   "outputs": [],
   "source": [
    "removal_percent = len(df.loc[df['R-T'] == 'R']) / len(df)\n",
    "transfer_percent = len(df.loc[df['R-T'] == 'T']) / len(df)"
   ]
  },
  {
   "cell_type": "code",
   "execution_count": 63,
   "metadata": {},
   "outputs": [],
   "source": [
    "df.name = 'Passengers'\n",
    "removal_df.name = 'Removals'\n",
    "transfer_df.name = 'Transfers'"
   ]
  },
  {
   "cell_type": "code",
   "execution_count": 64,
   "metadata": {},
   "outputs": [],
   "source": [
    "df.set_index('MissionDate', inplace=True)"
   ]
  },
  {
   "cell_type": "code",
   "execution_count": 65,
   "metadata": {},
   "outputs": [],
   "source": [
    "total_passengers = df['AlienMasterID'].resample('AS-OCT').nunique().rename('Total passengers', inplace=True)\n",
    "annual_removals = removal_df['AlienMasterID'].resample('AS-OCT').nunique().rename('Total removals', inplace=True)\n",
    "annual_transfers = transfer_df['AlienMasterID'].resample('AS-OCT').nunique().rename('Total transfers', inplace=True)\n",
    "annual_removal_flights = removal_df['MissionID'].resample('AS-OCT').nunique()\n",
    "annual_transfer_flights = transfer_df['MissionID'].resample('AS-OCT').nunique()"
   ]
  },
  {
   "cell_type": "code",
   "execution_count": 66,
   "metadata": {},
   "outputs": [],
   "source": [
    "r_t_annual = pd.DataFrame({'Removals': annual_removals['2010':'2017'], 'Transfers': annual_transfers['2010':'2017']})\n",
    "r_t_annual.index = [f'FY{str(x)[2:4]}' for x in r_t_annual.index.year + 1]"
   ]
  },
  {
   "cell_type": "code",
   "execution_count": 77,
   "metadata": {},
   "outputs": [],
   "source": [
    "def removal_transfer_bar(data, title=str, filename=str, xlabel=str, ylabel=str):\n",
    "    \n",
    "    fig, ax = plt.subplots()\n",
    "    \n",
    "    data.plot(kind='bar', stacked=True, legend=True, ax=ax).legend(bbox_to_anchor=(1,1))\n",
    "    \n",
    "    ax.set_axisbelow(True)\n",
    "    ax.set_ylabel(ylabel, fontsize=16)\n",
    "    ax.set_xlabel(xlabel, fontsize=16)\n",
    "    \n",
    "    ax.set_title(title, fontsize=18)\n",
    "    ax.tick_params(labelsize=14)\n",
    "    plt.xticks(rotation=0)\n",
    "    ax.set_facecolor('#EEEEEE')\n",
    "    ax.grid(color='#FFFFFF')\n",
    "    plt.legend(fontsize=14)\n",
    "    txt='(Source: UW Center for Human Rights, ICE Air ARTS database)'\n",
    "    plt.figtext(0.65, 0, txt, wrap=True, horizontalalignment='center', fontsize=12)\n",
    "    \n",
    "    fig.set_size_inches(10, 8)\n",
    "    fig.savefig(f'../output/{filename}.png', dpi=100)\n",
    "    return fig, ax"
   ]
  },
  {
   "cell_type": "code",
   "execution_count": 78,
   "metadata": {},
   "outputs": [
    {
     "data": {
      "image/png": "[encoded data removed]",
      "text/plain": [
       "<Figure size 720x576 with 1 Axes>"
      ]
     },
     "metadata": {
      "needs_background": "light"
     },
     "output_type": "display_data"
    }
   ],
   "source": [
    "removal_transfer_bar(r_t_annual,\n",
    "                     title=f'ICE Air Annual Passengers',\n",
    "                     filename=f'annual_passengers_bar',\n",
    "                     ylabel=f'Total Passengers',\n",
    "                     xlabel='Fiscal Year');"
   ]
  },
  {
   "cell_type": "markdown",
   "metadata": {},
   "source": [
    "# Charts of nationalities per year"
   ]
  },
  {
   "cell_type": "markdown",
   "metadata": {},
   "source": [
    "## Top 5 per year"
   ]
  },
  {
   "cell_type": "markdown",
   "metadata": {},
   "source": [
    "To look at removals or other variables by `CountryOfCitizenship` per fiscal year (excluding FY19), we will want to select most common values and sum the rest, in order to create a clean chart. Method below selects top 5 nationalities per year, and sums the rest as \"ALL OTHERS\".\n",
    "\n",
    "This is slightly counterintuitive, for example it creates illusion of no Dominican Republic removals in FY17. Maybe better solution would be to display for each year any nationality that is in top 5 for any given year. Alternatively, we could just plot top 5 values, or include several more over a certain threshold. Or we could plot all values for nationalities which are in the top 5 for any year."
   ]
  },
  {
   "cell_type": "code",
   "execution_count": 136,
   "metadata": {},
   "outputs": [],
   "source": [
    "# df.set_index('MissionDate', inplace=True)"
   ]
  },
  {
   "cell_type": "code",
   "execution_count": null,
   "metadata": {},
   "outputs": [],
   "source": []
  },
  {
   "cell_type": "code",
   "execution_count": 137,
   "metadata": {},
   "outputs": [],
   "source": [
    "# Set DataFrame or subset to chart here. Remember to set name as well.\n",
    "df_to_analyze = removal_df\n",
    "df_to_analyze.name = removal_df.name"
   ]
  },
  {
   "cell_type": "code",
   "execution_count": 138,
   "metadata": {},
   "outputs": [],
   "source": [
    "g = df_to_analyze.groupby([pd.Grouper(freq='AS-OCT', sort=True), 'CountryOfCitizenship'])['AlienMasterID', 'MissionID'].nunique()\n",
    "country_of_citizenship_by_year = g.reset_index()\n",
    "country_of_citizenship_by_year.rename({'MissionDate': 'FY'}, axis='columns', inplace=True)\n",
    "country_of_citizenship_by_year.set_index('FY', inplace=True)\n",
    "country_of_citizenship_by_year.sort_values(by='AlienMasterID', ascending=False, inplace=True)\n",
    "\n",
    "# country_of_citizenship_by_year.to_csv(f'../output/{airport}_country_of_citizenship_by_year.csv', index=True)"
   ]
  },
  {
   "cell_type": "code",
   "execution_count": 139,
   "metadata": {},
   "outputs": [],
   "source": [
    "# Selecting only years for which we have full data (FY2011 - FY2018).\n",
    "country_of_citizenship_by_year = country_of_citizenship_by_year['2010':'2017']"
   ]
  },
  {
   "cell_type": "code",
   "execution_count": 140,
   "metadata": {},
   "outputs": [],
   "source": [
    "removal_nationality_by_year = country_of_citizenship_by_year.groupby([pd.Grouper(freq='AS-OCT'),'CountryOfCitizenship'])[['AlienMasterID']].sum().dropna(how='all',axis=0).unstack()\n",
    "# removal_nationality_by_year.to_csv(f'../output/removal_nationality_by_year.csv')"
   ]
  },
  {
   "cell_type": "code",
   "execution_count": 141,
   "metadata": {},
   "outputs": [
    {
     "data": {
      "text/html": [
       "<div>\n",
       "<style scoped>\n",
       "    .dataframe tbody tr th:only-of-type {\n",
       "        vertical-align: middle;\n",
       "    }\n",
       "\n",
       "    .dataframe tbody tr th {\n",
       "        vertical-align: top;\n",
       "    }\n",
       "\n",
       "    .dataframe thead tr th {\n",
       "        text-align: left;\n",
       "    }\n",
       "\n",
       "    .dataframe thead tr:last-of-type th {\n",
       "        text-align: right;\n",
       "    }\n",
       "</style>\n",
       "<table border=\"1\" class=\"dataframe\">\n",
       "  <thead>\n",
       "    <tr>\n",
       "      <th></th>\n",
       "      <th colspan=\"21\" halign=\"left\">AlienMasterID</th>\n",
       "    </tr>\n",
       "    <tr>\n",
       "      <th>CountryOfCitizenship</th>\n",
       "      <th>BRAZIL</th>\n",
       "      <th>CAMEROON</th>\n",
       "      <th>CAPE VERDE</th>\n",
       "      <th>CHINA</th>\n",
       "      <th>COLOMBIA</th>\n",
       "      <th>CUBA</th>\n",
       "      <th>DOMINICAN REPUBLIC</th>\n",
       "      <th>ECUADOR</th>\n",
       "      <th>EL SALVADOR</th>\n",
       "      <th>GHANA</th>\n",
       "      <th>...</th>\n",
       "      <th>MOROCCO</th>\n",
       "      <th>SOUTH AFRICA</th>\n",
       "      <th>ST. LUCIA</th>\n",
       "      <th>BURKINA FASO</th>\n",
       "      <th>SOUTH SUDAN</th>\n",
       "      <th>ANTIGUA &amp; BARBUDA</th>\n",
       "      <th>BURMA</th>\n",
       "      <th>SAMOA</th>\n",
       "      <th>UNITED ARAB EMIRATES</th>\n",
       "      <th>NAMIBIA</th>\n",
       "    </tr>\n",
       "    <tr>\n",
       "      <th>FY</th>\n",
       "      <th></th>\n",
       "      <th></th>\n",
       "      <th></th>\n",
       "      <th></th>\n",
       "      <th></th>\n",
       "      <th></th>\n",
       "      <th></th>\n",
       "      <th></th>\n",
       "      <th></th>\n",
       "      <th></th>\n",
       "      <th></th>\n",
       "      <th></th>\n",
       "      <th></th>\n",
       "      <th></th>\n",
       "      <th></th>\n",
       "      <th></th>\n",
       "      <th></th>\n",
       "      <th></th>\n",
       "      <th></th>\n",
       "      <th></th>\n",
       "      <th></th>\n",
       "    </tr>\n",
       "  </thead>\n",
       "  <tbody>\n",
       "    <tr>\n",
       "      <th>2010-10-01</th>\n",
       "      <td>1.0</td>\n",
       "      <td>2.0</td>\n",
       "      <td>4.0</td>\n",
       "      <td>6.0</td>\n",
       "      <td>1059.0</td>\n",
       "      <td>31.0</td>\n",
       "      <td>2343.0</td>\n",
       "      <td>1436.0</td>\n",
       "      <td>15817.0</td>\n",
       "      <td>17.0</td>\n",
       "      <td>...</td>\n",
       "      <td>NaN</td>\n",
       "      <td>NaN</td>\n",
       "      <td>NaN</td>\n",
       "      <td>NaN</td>\n",
       "      <td>NaN</td>\n",
       "      <td>NaN</td>\n",
       "      <td>NaN</td>\n",
       "      <td>NaN</td>\n",
       "      <td>NaN</td>\n",
       "      <td>NaN</td>\n",
       "    </tr>\n",
       "    <tr>\n",
       "      <th>2011-10-01</th>\n",
       "      <td>NaN</td>\n",
       "      <td>1.0</td>\n",
       "      <td>NaN</td>\n",
       "      <td>NaN</td>\n",
       "      <td>1020.0</td>\n",
       "      <td>34.0</td>\n",
       "      <td>2281.0</td>\n",
       "      <td>1593.0</td>\n",
       "      <td>18107.0</td>\n",
       "      <td>14.0</td>\n",
       "      <td>...</td>\n",
       "      <td>NaN</td>\n",
       "      <td>NaN</td>\n",
       "      <td>NaN</td>\n",
       "      <td>NaN</td>\n",
       "      <td>NaN</td>\n",
       "      <td>NaN</td>\n",
       "      <td>NaN</td>\n",
       "      <td>NaN</td>\n",
       "      <td>NaN</td>\n",
       "      <td>NaN</td>\n",
       "    </tr>\n",
       "    <tr>\n",
       "      <th>2012-10-01</th>\n",
       "      <td>NaN</td>\n",
       "      <td>NaN</td>\n",
       "      <td>NaN</td>\n",
       "      <td>NaN</td>\n",
       "      <td>943.0</td>\n",
       "      <td>16.0</td>\n",
       "      <td>1849.0</td>\n",
       "      <td>1318.0</td>\n",
       "      <td>20178.0</td>\n",
       "      <td>NaN</td>\n",
       "      <td>...</td>\n",
       "      <td>NaN</td>\n",
       "      <td>NaN</td>\n",
       "      <td>NaN</td>\n",
       "      <td>NaN</td>\n",
       "      <td>NaN</td>\n",
       "      <td>NaN</td>\n",
       "      <td>NaN</td>\n",
       "      <td>NaN</td>\n",
       "      <td>NaN</td>\n",
       "      <td>NaN</td>\n",
       "    </tr>\n",
       "    <tr>\n",
       "      <th>2013-10-01</th>\n",
       "      <td>NaN</td>\n",
       "      <td>7.0</td>\n",
       "      <td>NaN</td>\n",
       "      <td>NaN</td>\n",
       "      <td>865.0</td>\n",
       "      <td>6.0</td>\n",
       "      <td>1747.0</td>\n",
       "      <td>1377.0</td>\n",
       "      <td>26507.0</td>\n",
       "      <td>NaN</td>\n",
       "      <td>...</td>\n",
       "      <td>NaN</td>\n",
       "      <td>NaN</td>\n",
       "      <td>NaN</td>\n",
       "      <td>NaN</td>\n",
       "      <td>NaN</td>\n",
       "      <td>NaN</td>\n",
       "      <td>NaN</td>\n",
       "      <td>NaN</td>\n",
       "      <td>NaN</td>\n",
       "      <td>NaN</td>\n",
       "    </tr>\n",
       "    <tr>\n",
       "      <th>2014-10-01</th>\n",
       "      <td>NaN</td>\n",
       "      <td>9.0</td>\n",
       "      <td>NaN</td>\n",
       "      <td>16.0</td>\n",
       "      <td>847.0</td>\n",
       "      <td>16.0</td>\n",
       "      <td>1552.0</td>\n",
       "      <td>1153.0</td>\n",
       "      <td>21378.0</td>\n",
       "      <td>NaN</td>\n",
       "      <td>...</td>\n",
       "      <td>NaN</td>\n",
       "      <td>NaN</td>\n",
       "      <td>NaN</td>\n",
       "      <td>NaN</td>\n",
       "      <td>NaN</td>\n",
       "      <td>NaN</td>\n",
       "      <td>NaN</td>\n",
       "      <td>NaN</td>\n",
       "      <td>NaN</td>\n",
       "      <td>NaN</td>\n",
       "    </tr>\n",
       "    <tr>\n",
       "      <th>2015-10-01</th>\n",
       "      <td>NaN</td>\n",
       "      <td>3.0</td>\n",
       "      <td>NaN</td>\n",
       "      <td>NaN</td>\n",
       "      <td>847.0</td>\n",
       "      <td>25.0</td>\n",
       "      <td>1556.0</td>\n",
       "      <td>980.0</td>\n",
       "      <td>20089.0</td>\n",
       "      <td>17.0</td>\n",
       "      <td>...</td>\n",
       "      <td>NaN</td>\n",
       "      <td>NaN</td>\n",
       "      <td>NaN</td>\n",
       "      <td>NaN</td>\n",
       "      <td>NaN</td>\n",
       "      <td>NaN</td>\n",
       "      <td>NaN</td>\n",
       "      <td>NaN</td>\n",
       "      <td>NaN</td>\n",
       "      <td>NaN</td>\n",
       "    </tr>\n",
       "    <tr>\n",
       "      <th>2016-10-01</th>\n",
       "      <td>NaN</td>\n",
       "      <td>5.0</td>\n",
       "      <td>NaN</td>\n",
       "      <td>47.0</td>\n",
       "      <td>795.0</td>\n",
       "      <td>53.0</td>\n",
       "      <td>1696.0</td>\n",
       "      <td>929.0</td>\n",
       "      <td>17970.0</td>\n",
       "      <td>172.0</td>\n",
       "      <td>...</td>\n",
       "      <td>NaN</td>\n",
       "      <td>NaN</td>\n",
       "      <td>NaN</td>\n",
       "      <td>NaN</td>\n",
       "      <td>NaN</td>\n",
       "      <td>NaN</td>\n",
       "      <td>NaN</td>\n",
       "      <td>NaN</td>\n",
       "      <td>NaN</td>\n",
       "      <td>NaN</td>\n",
       "    </tr>\n",
       "    <tr>\n",
       "      <th>2017-10-01</th>\n",
       "      <td>8.0</td>\n",
       "      <td>13.0</td>\n",
       "      <td>7.0</td>\n",
       "      <td>93.0</td>\n",
       "      <td>866.0</td>\n",
       "      <td>255.0</td>\n",
       "      <td>1520.0</td>\n",
       "      <td>1036.0</td>\n",
       "      <td>14516.0</td>\n",
       "      <td>130.0</td>\n",
       "      <td>...</td>\n",
       "      <td>1.0</td>\n",
       "      <td>1.0</td>\n",
       "      <td>2.0</td>\n",
       "      <td>5.0</td>\n",
       "      <td>61.0</td>\n",
       "      <td>3.0</td>\n",
       "      <td>33.0</td>\n",
       "      <td>6.0</td>\n",
       "      <td>1.0</td>\n",
       "      <td>2.0</td>\n",
       "    </tr>\n",
       "  </tbody>\n",
       "</table>\n",
       "<p>8 rows × 126 columns</p>\n",
       "</div>"
      ],
      "text/plain": [
       "                     AlienMasterID                                            \\\n",
       "CountryOfCitizenship        BRAZIL CAMEROON CAPE VERDE CHINA COLOMBIA   CUBA   \n",
       "FY                                                                             \n",
       "2010-10-01                     1.0      2.0        4.0   6.0   1059.0   31.0   \n",
       "2011-10-01                     NaN      1.0        NaN   NaN   1020.0   34.0   \n",
       "2012-10-01                     NaN      NaN        NaN   NaN    943.0   16.0   \n",
       "2013-10-01                     NaN      7.0        NaN   NaN    865.0    6.0   \n",
       "2014-10-01                     NaN      9.0        NaN  16.0    847.0   16.0   \n",
       "2015-10-01                     NaN      3.0        NaN   NaN    847.0   25.0   \n",
       "2016-10-01                     NaN      5.0        NaN  47.0    795.0   53.0   \n",
       "2017-10-01                     8.0     13.0        7.0  93.0    866.0  255.0   \n",
       "\n",
       "                                                                     ...    \\\n",
       "CountryOfCitizenship DOMINICAN REPUBLIC ECUADOR EL SALVADOR  GHANA   ...     \n",
       "FY                                                                   ...     \n",
       "2010-10-01                       2343.0  1436.0     15817.0   17.0   ...     \n",
       "2011-10-01                       2281.0  1593.0     18107.0   14.0   ...     \n",
       "2012-10-01                       1849.0  1318.0     20178.0    NaN   ...     \n",
       "2013-10-01                       1747.0  1377.0     26507.0    NaN   ...     \n",
       "2014-10-01                       1552.0  1153.0     21378.0    NaN   ...     \n",
       "2015-10-01                       1556.0   980.0     20089.0   17.0   ...     \n",
       "2016-10-01                       1696.0   929.0     17970.0  172.0   ...     \n",
       "2017-10-01                       1520.0  1036.0     14516.0  130.0   ...     \n",
       "\n",
       "                                                                              \\\n",
       "CountryOfCitizenship MOROCCO SOUTH AFRICA ST. LUCIA BURKINA FASO SOUTH SUDAN   \n",
       "FY                                                                             \n",
       "2010-10-01               NaN          NaN       NaN          NaN         NaN   \n",
       "2011-10-01               NaN          NaN       NaN          NaN         NaN   \n",
       "2012-10-01               NaN          NaN       NaN          NaN         NaN   \n",
       "2013-10-01               NaN          NaN       NaN          NaN         NaN   \n",
       "2014-10-01               NaN          NaN       NaN          NaN         NaN   \n",
       "2015-10-01               NaN          NaN       NaN          NaN         NaN   \n",
       "2016-10-01               NaN          NaN       NaN          NaN         NaN   \n",
       "2017-10-01               1.0          1.0       2.0          5.0        61.0   \n",
       "\n",
       "                                                                         \\\n",
       "CountryOfCitizenship ANTIGUA & BARBUDA BURMA SAMOA UNITED ARAB EMIRATES   \n",
       "FY                                                                        \n",
       "2010-10-01                         NaN   NaN   NaN                  NaN   \n",
       "2011-10-01                         NaN   NaN   NaN                  NaN   \n",
       "2012-10-01                         NaN   NaN   NaN                  NaN   \n",
       "2013-10-01                         NaN   NaN   NaN                  NaN   \n",
       "2014-10-01                         NaN   NaN   NaN                  NaN   \n",
       "2015-10-01                         NaN   NaN   NaN                  NaN   \n",
       "2016-10-01                         NaN   NaN   NaN                  NaN   \n",
       "2017-10-01                         3.0  33.0   6.0                  1.0   \n",
       "\n",
       "                              \n",
       "CountryOfCitizenship NAMIBIA  \n",
       "FY                            \n",
       "2010-10-01               NaN  \n",
       "2011-10-01               NaN  \n",
       "2012-10-01               NaN  \n",
       "2013-10-01               NaN  \n",
       "2014-10-01               NaN  \n",
       "2015-10-01               NaN  \n",
       "2016-10-01               NaN  \n",
       "2017-10-01               2.0  \n",
       "\n",
       "[8 rows x 126 columns]"
      ]
     },
     "execution_count": 141,
     "metadata": {},
     "output_type": "execute_result"
    }
   ],
   "source": [
    "removal_nationality_by_year"
   ]
  },
  {
   "cell_type": "code",
   "execution_count": 142,
   "metadata": {},
   "outputs": [],
   "source": [
    "top_5_df = pd.DataFrame()\n",
    "\n",
    "for year in country_of_citizenship_by_year.index.unique():\n",
    "    temp = country_of_citizenship_by_year.loc[f'{year}'][['CountryOfCitizenship', 'AlienMasterID']]\n",
    "    temp_top_5 = temp[0:5]\n",
    "    if len(temp) > 5:\n",
    "        all_other_count = sum(temp['AlienMasterID'][5:])\n",
    "    else:\n",
    "        all_other_count = 0\n",
    "    other_df = pd.DataFrame([['ALL OTHERS', all_other_count]],\n",
    "                            columns=['CountryOfCitizenship',\n",
    "                                     'AlienMasterID'],\n",
    "                            index=[year])\n",
    "    temp_top_5 = temp_top_5.append(other_df)\n",
    "    top_5_df = top_5_df.append(temp_top_5)\n",
    "\n",
    "top_5_df.sort_index(inplace=True)\n",
    "top_5_df.index = [f'FY{str(x)[2:4]}' for x in top_5_df.index.year + 1]\n",
    "\n",
    "top_5_data = pd.pivot_table(data=top_5_df,\n",
    "                       index=top_5_df.index,\n",
    "                       columns='CountryOfCitizenship',\n",
    "                       values='AlienMasterID',\n",
    "                       aggfunc=np.sum,\n",
    "                       fill_value=0)"
   ]
  },
  {
   "cell_type": "code",
   "execution_count": 143,
   "metadata": {},
   "outputs": [
    {
     "data": {
      "text/html": [
       "<div>\n",
       "<style scoped>\n",
       "    .dataframe tbody tr th:only-of-type {\n",
       "        vertical-align: middle;\n",
       "    }\n",
       "\n",
       "    .dataframe tbody tr th {\n",
       "        vertical-align: top;\n",
       "    }\n",
       "\n",
       "    .dataframe thead th {\n",
       "        text-align: right;\n",
       "    }\n",
       "</style>\n",
       "<table border=\"1\" class=\"dataframe\">\n",
       "  <thead>\n",
       "    <tr style=\"text-align: right;\">\n",
       "      <th>CountryOfCitizenship</th>\n",
       "      <th>ALL OTHERS</th>\n",
       "      <th>DOMINICAN REPUBLIC</th>\n",
       "      <th>EL SALVADOR</th>\n",
       "      <th>GUATEMALA</th>\n",
       "      <th>HAITI</th>\n",
       "      <th>HONDURAS</th>\n",
       "      <th>MEXICO</th>\n",
       "    </tr>\n",
       "  </thead>\n",
       "  <tbody>\n",
       "    <tr>\n",
       "      <th>FY11</th>\n",
       "      <td>4965</td>\n",
       "      <td>2343</td>\n",
       "      <td>15817</td>\n",
       "      <td>30472</td>\n",
       "      <td>0</td>\n",
       "      <td>21069</td>\n",
       "      <td>107781</td>\n",
       "    </tr>\n",
       "    <tr>\n",
       "      <th>FY12</th>\n",
       "      <td>5449</td>\n",
       "      <td>2281</td>\n",
       "      <td>18107</td>\n",
       "      <td>38399</td>\n",
       "      <td>0</td>\n",
       "      <td>30815</td>\n",
       "      <td>110763</td>\n",
       "    </tr>\n",
       "    <tr>\n",
       "      <th>FY13</th>\n",
       "      <td>4867</td>\n",
       "      <td>1849</td>\n",
       "      <td>20178</td>\n",
       "      <td>47955</td>\n",
       "      <td>0</td>\n",
       "      <td>35759</td>\n",
       "      <td>78651</td>\n",
       "    </tr>\n",
       "    <tr>\n",
       "      <th>FY14</th>\n",
       "      <td>4712</td>\n",
       "      <td>1747</td>\n",
       "      <td>26507</td>\n",
       "      <td>54135</td>\n",
       "      <td>0</td>\n",
       "      <td>39825</td>\n",
       "      <td>39278</td>\n",
       "    </tr>\n",
       "    <tr>\n",
       "      <th>FY15</th>\n",
       "      <td>3951</td>\n",
       "      <td>1552</td>\n",
       "      <td>21378</td>\n",
       "      <td>32599</td>\n",
       "      <td>0</td>\n",
       "      <td>19613</td>\n",
       "      <td>29461</td>\n",
       "    </tr>\n",
       "    <tr>\n",
       "      <th>FY16</th>\n",
       "      <td>3881</td>\n",
       "      <td>1556</td>\n",
       "      <td>20089</td>\n",
       "      <td>32963</td>\n",
       "      <td>0</td>\n",
       "      <td>21311</td>\n",
       "      <td>27082</td>\n",
       "    </tr>\n",
       "    <tr>\n",
       "      <th>FY17</th>\n",
       "      <td>6306</td>\n",
       "      <td>0</td>\n",
       "      <td>17970</td>\n",
       "      <td>32198</td>\n",
       "      <td>5549</td>\n",
       "      <td>21241</td>\n",
       "      <td>32967</td>\n",
       "    </tr>\n",
       "    <tr>\n",
       "      <th>FY18</th>\n",
       "      <td>5973</td>\n",
       "      <td>1520</td>\n",
       "      <td>14516</td>\n",
       "      <td>48765</td>\n",
       "      <td>0</td>\n",
       "      <td>27777</td>\n",
       "      <td>34738</td>\n",
       "    </tr>\n",
       "  </tbody>\n",
       "</table>\n",
       "</div>"
      ],
      "text/plain": [
       "CountryOfCitizenship  ALL OTHERS  DOMINICAN REPUBLIC  EL SALVADOR  GUATEMALA  \\\n",
       "FY11                        4965                2343        15817      30472   \n",
       "FY12                        5449                2281        18107      38399   \n",
       "FY13                        4867                1849        20178      47955   \n",
       "FY14                        4712                1747        26507      54135   \n",
       "FY15                        3951                1552        21378      32599   \n",
       "FY16                        3881                1556        20089      32963   \n",
       "FY17                        6306                   0        17970      32198   \n",
       "FY18                        5973                1520        14516      48765   \n",
       "\n",
       "CountryOfCitizenship  HAITI  HONDURAS  MEXICO  \n",
       "FY11                      0     21069  107781  \n",
       "FY12                      0     30815  110763  \n",
       "FY13                      0     35759   78651  \n",
       "FY14                      0     39825   39278  \n",
       "FY15                      0     19613   29461  \n",
       "FY16                      0     21311   27082  \n",
       "FY17                   5549     21241   32967  \n",
       "FY18                      0     27777   34738  "
      ]
     },
     "execution_count": 143,
     "metadata": {},
     "output_type": "execute_result"
    }
   ],
   "source": [
    "# Note 0 values in this version of chart. Missing values are included in \"ALL OTHERS\" category.\n",
    "top_5_data"
   ]
  },
  {
   "cell_type": "code",
   "execution_count": 144,
   "metadata": {},
   "outputs": [],
   "source": [
    "top_5_data = top_5_data.reindex(top_5_data.sum().sort_values(ascending=False).index, axis=1)\n",
    "cols = list(top_5_data.columns)\n",
    "cols.remove('ALL OTHERS')\n",
    "cols.append('ALL OTHERS')\n",
    "top_5_data = top_5_data[cols]\n",
    "top_5_data.columns = top_5_data.columns.str.title()\n",
    "top_5_data.columns.name = 'Country of Citizenship'"
   ]
  },
  {
   "cell_type": "code",
   "execution_count": 145,
   "metadata": {},
   "outputs": [],
   "source": [
    "def country_of_citizenship_trend(data, title=str, filename=str, xlabel=str, ylabel=str):\n",
    "    \n",
    "    fig, ax = plt.subplots()\n",
    "    \n",
    "    data.plot(kind='bar', stacked=True, legend=True, ax=ax).legend(bbox_to_anchor=(1,1))\n",
    "\n",
    "    ax.set_axisbelow(True)\n",
    "    ax.set_facecolor('#EEEEEE')\n",
    "    ax.grid(color='#FFFFFF')\n",
    "    ax.set_ylabel(ylabel, fontsize=16)\n",
    "    ax.set_xlabel(xlabel, fontsize=16)\n",
    "    ax.set_title(title, fontsize=18)\n",
    "    ax.tick_params(labelsize=14)\n",
    "    plt.xticks(rotation=0)\n",
    "    plt.legend(fontsize=14)\n",
    "\n",
    "    fig.set_size_inches(10, 8)\n",
    "    fig.savefig(f'../output/{filename}.png', dpi=100)\n",
    "    return fig, ax"
   ]
  },
  {
   "cell_type": "code",
   "execution_count": 146,
   "metadata": {},
   "outputs": [
    {
     "data": {
      "image/png": "[encoded data removed]",
      "text/plain": [
       "<Figure size 720x576 with 1 Axes>"
      ]
     },
     "metadata": {
      "needs_background": "light"
     },
     "output_type": "display_data"
    }
   ],
   "source": [
    "country_of_citizenship_trend(top_5_data,\n",
    "                             title=f'ICE Air {df_to_analyze.name} by Country of Citizenship \\n (Top 5 per year)',\n",
    "                             filename=f'top5_total_deportation_nationalities_per_year',\n",
    "                             ylabel=f'Total {df_to_analyze.name}',\n",
    "                             xlabel='Fiscal Year');"
   ]
  },
  {
   "cell_type": "markdown",
   "metadata": {},
   "source": [
    "## Top 5 any year"
   ]
  },
  {
   "cell_type": "markdown",
   "metadata": {},
   "source": [
    "Here's the alternate plot showing all nationalities which break the top 5 in any year. A bit messier, but outliers are still clear (El Salvador in FY14, Haiti in FY17, India in FY18), steady trends possibly clearer (Ecuador, Dominican Republic)."
   ]
  },
  {
   "cell_type": "code",
   "execution_count": 147,
   "metadata": {},
   "outputs": [],
   "source": [
    "in_top_5 = list()\n",
    "for year in country_of_citizenship_by_year.index.unique():\n",
    "    temp = country_of_citizenship_by_year.loc[f'{year}'][['CountryOfCitizenship', 'AlienMasterID']]\n",
    "    temp_top_5 = temp[0:5]\n",
    "    in_top_5.extend(list(temp_top_5['CountryOfCitizenship']))"
   ]
  },
  {
   "cell_type": "code",
   "execution_count": 148,
   "metadata": {},
   "outputs": [],
   "source": [
    "top_5_df = pd.DataFrame()\n",
    "\n",
    "for year in country_of_citizenship_by_year.index.unique():\n",
    "    temp = country_of_citizenship_by_year.loc[f'{year}'][['CountryOfCitizenship', 'AlienMasterID']]\n",
    "    temp_top_5 = temp[temp['CountryOfCitizenship'].isin(list(set(in_top_5)))]\n",
    "    if len(temp) > 5:\n",
    "        all_others = temp[~temp['CountryOfCitizenship'].isin(list(set(in_top_5)))]\n",
    "        all_other_count = sum(all_others['AlienMasterID'])\n",
    "    else:\n",
    "        all_other_count = 0\n",
    "    other_df = pd.DataFrame([['ALL OTHERS', all_other_count]],\n",
    "                            columns=['CountryOfCitizenship',\n",
    "                                     'AlienMasterID'],\n",
    "                            index=[year])\n",
    "    temp_top_5 = temp_top_5.append(other_df)\n",
    "    top_5_df = top_5_df.append(temp_top_5)\n",
    "\n",
    "top_5_df.sort_index(inplace=True)\n",
    "top_5_df.index = [f'FY{str(x)[2:4]}' for x in top_5_df.index.year + 1]\n",
    "\n",
    "top_5_data = pd.pivot_table(data=top_5_df,\n",
    "                       index=top_5_df.index,\n",
    "                       columns='CountryOfCitizenship',\n",
    "                       values='AlienMasterID',\n",
    "                       aggfunc=np.sum,\n",
    "                       fill_value=0)\n",
    "\n",
    "top_5_data = top_5_data.reindex(top_5_data.sum().sort_values(ascending=False).index, axis=1)\n",
    "cols = list(top_5_data.columns)\n",
    "cols.remove('ALL OTHERS')\n",
    "cols.append('ALL OTHERS')\n",
    "top_5_data = top_5_data[cols]\n",
    "top_5_data.columns = top_5_data.columns.str.title()\n",
    "top_5_data.columns.name = 'Country of Citizenship'"
   ]
  },
  {
   "cell_type": "code",
   "execution_count": 149,
   "metadata": {},
   "outputs": [
    {
     "data": {
      "text/html": [
       "<div>\n",
       "<style scoped>\n",
       "    .dataframe tbody tr th:only-of-type {\n",
       "        vertical-align: middle;\n",
       "    }\n",
       "\n",
       "    .dataframe tbody tr th {\n",
       "        vertical-align: top;\n",
       "    }\n",
       "\n",
       "    .dataframe thead th {\n",
       "        text-align: right;\n",
       "    }\n",
       "</style>\n",
       "<table border=\"1\" class=\"dataframe\">\n",
       "  <thead>\n",
       "    <tr style=\"text-align: right;\">\n",
       "      <th>Country of Citizenship</th>\n",
       "      <th>Mexico</th>\n",
       "      <th>Guatemala</th>\n",
       "      <th>Honduras</th>\n",
       "      <th>El Salvador</th>\n",
       "      <th>Dominican Republic</th>\n",
       "      <th>Haiti</th>\n",
       "      <th>All Others</th>\n",
       "    </tr>\n",
       "  </thead>\n",
       "  <tbody>\n",
       "    <tr>\n",
       "      <th>FY11</th>\n",
       "      <td>107781</td>\n",
       "      <td>30472</td>\n",
       "      <td>21069</td>\n",
       "      <td>15817</td>\n",
       "      <td>2343</td>\n",
       "      <td>228</td>\n",
       "      <td>4737</td>\n",
       "    </tr>\n",
       "    <tr>\n",
       "      <th>FY12</th>\n",
       "      <td>110763</td>\n",
       "      <td>38399</td>\n",
       "      <td>30815</td>\n",
       "      <td>18107</td>\n",
       "      <td>2281</td>\n",
       "      <td>547</td>\n",
       "      <td>4902</td>\n",
       "    </tr>\n",
       "    <tr>\n",
       "      <th>FY13</th>\n",
       "      <td>78651</td>\n",
       "      <td>47955</td>\n",
       "      <td>35759</td>\n",
       "      <td>20178</td>\n",
       "      <td>1849</td>\n",
       "      <td>452</td>\n",
       "      <td>4415</td>\n",
       "    </tr>\n",
       "    <tr>\n",
       "      <th>FY14</th>\n",
       "      <td>39278</td>\n",
       "      <td>54135</td>\n",
       "      <td>39825</td>\n",
       "      <td>26507</td>\n",
       "      <td>1747</td>\n",
       "      <td>338</td>\n",
       "      <td>4374</td>\n",
       "    </tr>\n",
       "    <tr>\n",
       "      <th>FY15</th>\n",
       "      <td>29461</td>\n",
       "      <td>32599</td>\n",
       "      <td>19613</td>\n",
       "      <td>21378</td>\n",
       "      <td>1552</td>\n",
       "      <td>369</td>\n",
       "      <td>3582</td>\n",
       "    </tr>\n",
       "    <tr>\n",
       "      <th>FY16</th>\n",
       "      <td>27082</td>\n",
       "      <td>32963</td>\n",
       "      <td>21311</td>\n",
       "      <td>20089</td>\n",
       "      <td>1556</td>\n",
       "      <td>267</td>\n",
       "      <td>3614</td>\n",
       "    </tr>\n",
       "    <tr>\n",
       "      <th>FY17</th>\n",
       "      <td>32967</td>\n",
       "      <td>32198</td>\n",
       "      <td>21241</td>\n",
       "      <td>17970</td>\n",
       "      <td>1696</td>\n",
       "      <td>5549</td>\n",
       "      <td>4610</td>\n",
       "    </tr>\n",
       "    <tr>\n",
       "      <th>FY18</th>\n",
       "      <td>34738</td>\n",
       "      <td>48765</td>\n",
       "      <td>27777</td>\n",
       "      <td>14516</td>\n",
       "      <td>1520</td>\n",
       "      <td>805</td>\n",
       "      <td>5168</td>\n",
       "    </tr>\n",
       "  </tbody>\n",
       "</table>\n",
       "</div>"
      ],
      "text/plain": [
       "Country of Citizenship  Mexico  Guatemala  Honduras  El Salvador  \\\n",
       "FY11                    107781      30472     21069        15817   \n",
       "FY12                    110763      38399     30815        18107   \n",
       "FY13                     78651      47955     35759        20178   \n",
       "FY14                     39278      54135     39825        26507   \n",
       "FY15                     29461      32599     19613        21378   \n",
       "FY16                     27082      32963     21311        20089   \n",
       "FY17                     32967      32198     21241        17970   \n",
       "FY18                     34738      48765     27777        14516   \n",
       "\n",
       "Country of Citizenship  Dominican Republic  Haiti  All Others  \n",
       "FY11                                  2343    228        4737  \n",
       "FY12                                  2281    547        4902  \n",
       "FY13                                  1849    452        4415  \n",
       "FY14                                  1747    338        4374  \n",
       "FY15                                  1552    369        3582  \n",
       "FY16                                  1556    267        3614  \n",
       "FY17                                  1696   5549        4610  \n",
       "FY18                                  1520    805        5168  "
      ]
     },
     "execution_count": 149,
     "metadata": {},
     "output_type": "execute_result"
    }
   ],
   "source": [
    "# Table for this version of chart is much better\n",
    "top_5_data"
   ]
  },
  {
   "cell_type": "code",
   "execution_count": 150,
   "metadata": {
    "scrolled": false
   },
   "outputs": [
    {
     "data": {
      "image/png": "[encoded data removed]",
      "text/plain": [
       "<Figure size 720x576 with 1 Axes>"
      ]
     },
     "metadata": {
      "needs_background": "light"
     },
     "output_type": "display_data"
    }
   ],
   "source": [
    "country_of_citizenship_trend(top_5_data,\n",
    "                             title=f'ICE Air {df_to_analyze.name.title()} by Country of Citizenship \\n (Top 5 any year)',\n",
    "                             filename=f'top5_total_{df_to_analyze.name.lower()}_nationalities_any_year',\n",
    "                             ylabel=f'Total {df_to_analyze.name.title()}',\n",
    "                             xlabel='Fiscal Year');"
   ]
  },
  {
   "cell_type": "code",
   "execution_count": 352,
   "metadata": {},
   "outputs": [
    {
     "data": {
      "text/plain": [
       "95.0"
      ]
     },
     "execution_count": 352,
     "metadata": {},
     "output_type": "execute_result"
    }
   ],
   "source": [
    "cent_am = ['MEXICO', 'GUATEMALA', 'HONDURAS', 'EL SALVADOR']\n",
    "cent_am = [i.title() for i in cent_am]\n",
    "round((top_5_data[cent_am].sum(axis=1) / top_5_data.sum(axis=1)).mean() * 100)"
   ]
  },
  {
   "cell_type": "code",
   "execution_count": 347,
   "metadata": {},
   "outputs": [
    {
     "data": {
      "text/html": [
       "<div>\n",
       "<style scoped>\n",
       "    .dataframe tbody tr th:only-of-type {\n",
       "        vertical-align: middle;\n",
       "    }\n",
       "\n",
       "    .dataframe tbody tr th {\n",
       "        vertical-align: top;\n",
       "    }\n",
       "\n",
       "    .dataframe thead th {\n",
       "        text-align: right;\n",
       "    }\n",
       "</style>\n",
       "<table border=\"1\" class=\"dataframe\">\n",
       "  <thead>\n",
       "    <tr style=\"text-align: right;\">\n",
       "      <th>Country of Citizenship</th>\n",
       "      <th>Mexico</th>\n",
       "      <th>Guatemala</th>\n",
       "      <th>Honduras</th>\n",
       "      <th>El Salvador</th>\n",
       "      <th>Dominican Republic</th>\n",
       "      <th>Haiti</th>\n",
       "      <th>All Others</th>\n",
       "    </tr>\n",
       "  </thead>\n",
       "  <tbody>\n",
       "    <tr>\n",
       "      <th>FY11</th>\n",
       "      <td>107781</td>\n",
       "      <td>30472</td>\n",
       "      <td>21069</td>\n",
       "      <td>15817</td>\n",
       "      <td>2343</td>\n",
       "      <td>228</td>\n",
       "      <td>4737</td>\n",
       "    </tr>\n",
       "    <tr>\n",
       "      <th>FY12</th>\n",
       "      <td>110763</td>\n",
       "      <td>38399</td>\n",
       "      <td>30815</td>\n",
       "      <td>18107</td>\n",
       "      <td>2281</td>\n",
       "      <td>547</td>\n",
       "      <td>4902</td>\n",
       "    </tr>\n",
       "    <tr>\n",
       "      <th>FY13</th>\n",
       "      <td>78651</td>\n",
       "      <td>47955</td>\n",
       "      <td>35759</td>\n",
       "      <td>20178</td>\n",
       "      <td>1849</td>\n",
       "      <td>452</td>\n",
       "      <td>4415</td>\n",
       "    </tr>\n",
       "    <tr>\n",
       "      <th>FY14</th>\n",
       "      <td>39278</td>\n",
       "      <td>54135</td>\n",
       "      <td>39825</td>\n",
       "      <td>26507</td>\n",
       "      <td>1747</td>\n",
       "      <td>338</td>\n",
       "      <td>4374</td>\n",
       "    </tr>\n",
       "    <tr>\n",
       "      <th>FY15</th>\n",
       "      <td>29461</td>\n",
       "      <td>32599</td>\n",
       "      <td>19613</td>\n",
       "      <td>21378</td>\n",
       "      <td>1552</td>\n",
       "      <td>369</td>\n",
       "      <td>3582</td>\n",
       "    </tr>\n",
       "    <tr>\n",
       "      <th>FY16</th>\n",
       "      <td>27082</td>\n",
       "      <td>32963</td>\n",
       "      <td>21311</td>\n",
       "      <td>20089</td>\n",
       "      <td>1556</td>\n",
       "      <td>267</td>\n",
       "      <td>3614</td>\n",
       "    </tr>\n",
       "    <tr>\n",
       "      <th>FY17</th>\n",
       "      <td>32967</td>\n",
       "      <td>32198</td>\n",
       "      <td>21241</td>\n",
       "      <td>17970</td>\n",
       "      <td>1696</td>\n",
       "      <td>5549</td>\n",
       "      <td>4610</td>\n",
       "    </tr>\n",
       "    <tr>\n",
       "      <th>FY18</th>\n",
       "      <td>34738</td>\n",
       "      <td>48765</td>\n",
       "      <td>27777</td>\n",
       "      <td>14516</td>\n",
       "      <td>1520</td>\n",
       "      <td>805</td>\n",
       "      <td>5168</td>\n",
       "    </tr>\n",
       "  </tbody>\n",
       "</table>\n",
       "</div>"
      ],
      "text/plain": [
       "Country of Citizenship  Mexico  Guatemala  Honduras  El Salvador  \\\n",
       "FY11                    107781      30472     21069        15817   \n",
       "FY12                    110763      38399     30815        18107   \n",
       "FY13                     78651      47955     35759        20178   \n",
       "FY14                     39278      54135     39825        26507   \n",
       "FY15                     29461      32599     19613        21378   \n",
       "FY16                     27082      32963     21311        20089   \n",
       "FY17                     32967      32198     21241        17970   \n",
       "FY18                     34738      48765     27777        14516   \n",
       "\n",
       "Country of Citizenship  Dominican Republic  Haiti  All Others  \n",
       "FY11                                  2343    228        4737  \n",
       "FY12                                  2281    547        4902  \n",
       "FY13                                  1849    452        4415  \n",
       "FY14                                  1747    338        4374  \n",
       "FY15                                  1552    369        3582  \n",
       "FY16                                  1556    267        3614  \n",
       "FY17                                  1696   5549        4610  \n",
       "FY18                                  1520    805        5168  "
      ]
     },
     "execution_count": 347,
     "metadata": {},
     "output_type": "execute_result"
    }
   ],
   "source": [
    "top_5_data"
   ]
  },
  {
   "cell_type": "code",
   "execution_count": 346,
   "metadata": {},
   "outputs": [
    {
     "data": {
      "text/plain": [
       "array([ True,  True,  True,  True, False, False, False])"
      ]
     },
     "execution_count": 346,
     "metadata": {},
     "output_type": "execute_result"
    }
   ],
   "source": [
    "top_5_data.columns.isin(cent_am)"
   ]
  },
  {
   "cell_type": "code",
   "execution_count": 151,
   "metadata": {},
   "outputs": [],
   "source": [
    "cent_am = ['MEXICO', 'GUATEMALA', 'HONDURAS', 'EL SALVADOR']\n",
    "\n",
    "cent_am_df = pd.DataFrame()\n",
    "\n",
    "for year in country_of_citizenship_by_year.index.unique():\n",
    "    temp = country_of_citizenship_by_year.loc[f'{year}'][['CountryOfCitizenship', 'AlienMasterID']]\n",
    "    temp_cent_am = temp[temp['CountryOfCitizenship'].isin(list(set(cent_am)))]\n",
    "    cent_am_count = sum(temp_cent_am['AlienMasterID'])\n",
    "    if len(temp) > 5:\n",
    "        all_others = temp[~temp['CountryOfCitizenship'].isin(list(set(cent_am)))]\n",
    "        all_other_count = sum(all_others['AlienMasterID'])\n",
    "    else:\n",
    "        all_other_count = 0\n",
    "    temp_df = pd.DataFrame([['MEXICO + NORTHERN TRIANGLE', cent_am_count],\n",
    "                            ['ALL OTHERS', all_other_count]],\n",
    "                            columns=['CountryOfCitizenship',\n",
    "                                     'AlienMasterID'],\n",
    "                            index=[year, year])\n",
    "    cent_am_df = cent_am_df.append(temp_df)\n",
    "    \n",
    "cent_am_df.sort_index(inplace=True)\n",
    "cent_am_df.index = [f'FY{str(x)[2:4]}' for x in cent_am_df.index.year + 1]\n",
    "\n",
    "cent_am_data = pd.pivot_table(data=cent_am_df,\n",
    "                       index=cent_am_df.index,\n",
    "                       columns='CountryOfCitizenship',\n",
    "                       values='AlienMasterID',\n",
    "                       aggfunc=np.sum,\n",
    "                       fill_value=0)\n",
    "\n",
    "cent_am_data = cent_am_data.reindex(cent_am_data.sum().sort_values(ascending=False).index, axis=1)\n",
    "cols = list(cent_am_data.columns)\n",
    "cols.remove('ALL OTHERS')\n",
    "cols.append('ALL OTHERS')\n",
    "cent_am_data = cent_am_data[cols]\n",
    "cent_am_data.columns = cent_am_data.columns.str.title()\n",
    "cent_am_data.columns.name = 'Country of Citizenship'"
   ]
  },
  {
   "cell_type": "code",
   "execution_count": 152,
   "metadata": {},
   "outputs": [
    {
     "data": {
      "text/plain": [
       "Country of Citizenship\n",
       "Mexico + Northern Triangle    94.853306\n",
       "All Others                     5.146694\n",
       "dtype: float64"
      ]
     },
     "execution_count": 152,
     "metadata": {},
     "output_type": "execute_result"
    }
   ],
   "source": [
    "(cent_am_data.div(cent_am_data.sum(axis=1), axis=0) * 100).mean()"
   ]
  },
  {
   "cell_type": "code",
   "execution_count": 153,
   "metadata": {},
   "outputs": [
    {
     "data": {
      "image/png": "[encoded data removed]",
      "text/plain": [
       "<Figure size 720x576 with 1 Axes>"
      ]
     },
     "metadata": {
      "needs_background": "light"
     },
     "output_type": "display_data"
    }
   ],
   "source": [
    "country_of_citizenship_trend(cent_am_data,\n",
    "                             title=f'Mexico, Guatemala, El Salvador, and Honduras\\n \\\n",
    "account for ~95% of ICE Air {df_to_analyze.name.title()}',\n",
    "                             filename=f'cent_am_removals',\n",
    "                             ylabel=f'Total {df_to_analyze.name.title()}',\n",
    "                             xlabel='Fiscal Year');"
   ]
  },
  {
   "cell_type": "code",
   "execution_count": 154,
   "metadata": {},
   "outputs": [
    {
     "data": {
      "text/plain": [
       "95.15062662491329"
      ]
     },
     "execution_count": 154,
     "metadata": {},
     "output_type": "execute_result"
    }
   ],
   "source": [
    "sum(removal_df['CountryOfCitizenship'].isin(cent_am)) / len(removal_df) * 100"
   ]
  },
  {
   "cell_type": "markdown",
   "metadata": {},
   "source": [
    "# Investigating other global variables"
   ]
  },
  {
   "cell_type": "code",
   "execution_count": 155,
   "metadata": {},
   "outputs": [
    {
     "data": {
      "text/plain": [
       "False    1706578\n",
       "True       26047\n",
       "Name: Juvenile, dtype: int64"
      ]
     },
     "execution_count": 155,
     "metadata": {},
     "output_type": "execute_result"
    }
   ],
   "source": [
    "df['Juvenile'].value_counts(dropna=False)"
   ]
  },
  {
   "cell_type": "code",
   "execution_count": 156,
   "metadata": {},
   "outputs": [
    {
     "data": {
      "text/plain": [
       "<matplotlib.axes._subplots.AxesSubplot at 0x1a38ddbef0>"
      ]
     },
     "execution_count": 156,
     "metadata": {},
     "output_type": "execute_result"
    },
    {
     "data": {
      "image/png": "[encoded data removed]",
      "text/plain": [
       "<Figure size 432x288 with 1 Axes>"
      ]
     },
     "metadata": {
      "needs_background": "light"
     },
     "output_type": "display_data"
    }
   ],
   "source": [
    "df['Age'].hist(bins=10)"
   ]
  },
  {
   "cell_type": "code",
   "execution_count": 157,
   "metadata": {},
   "outputs": [
    {
     "data": {
      "text/plain": [
       "CountryOfCitizenship            R-T\n",
       "ALGERIA                         R      35.666668\n",
       "                                T      36.555557\n",
       "ARGENTINA                       R      43.214287\n",
       "                                T      39.827587\n",
       "ARMENIA                         T      33.634750\n",
       "BANGLADESH                      R      33.669144\n",
       "                                T      30.253986\n",
       "BARBADOS                        R      42.500000\n",
       "                                T      39.729168\n",
       "BOLIVIA                         R      34.000000\n",
       "                                T      35.036083\n",
       "BOSNIA                          R      31.700001\n",
       "                                T      31.839506\n",
       "BRAZIL                          R      38.312500\n",
       "                                T      33.468433\n",
       "BRITISH VIRGIN ISLANDS          T      39.571430\n",
       "BULGARIA                        R      31.000000\n",
       "                                T      39.063492\n",
       "CAMBODIA                        R      41.174999\n",
       "                                T      39.813107\n",
       "CAMEROON                        R      36.000000\n",
       "                                T      31.811504\n",
       "CANADA                          T      41.752907\n",
       "CAPE VERDE                      R      40.526318\n",
       "                                T      37.081081\n",
       "CHINA                           R      35.203705\n",
       "                                T      30.487635\n",
       "COLOMBIA                        R      42.537018\n",
       "                                T      41.405460\n",
       "COTE D'IVORIE (IVORY COAST)     R      39.066666\n",
       "                                         ...    \n",
       "BURMA                           T      33.835819\n",
       "TONGA                           R      40.000000\n",
       "                                T      46.421051\n",
       "MARSHAL ISLANDS                 T      34.750000\n",
       "MARSHALL ISLANDS                R      40.500000\n",
       "ECUATORIAL GUINEA               T      37.000000\n",
       "EQUATORIAL GUINEA               R      37.000000\n",
       "                                T      29.000000\n",
       "KOREA                           T      42.222221\n",
       "CYPRUS                          T      33.000000\n",
       "EAST TIMOR                      T      33.500000\n",
       "MALTA                           T      21.000000\n",
       "DJIBOUTI                        T      28.000000\n",
       "GUINEA BISSAU                   T      32.466667\n",
       "FEDERATED STATES OF MICRONESIA  T      32.400002\n",
       "SAMOA                           R      43.166668\n",
       "                                T      42.555557\n",
       "STATELESS                       T      43.193550\n",
       "BHUTAN                          T      25.000000\n",
       "SURINAME                        R      29.500000\n",
       "                                T      37.250000\n",
       "BELGIUM                         T      43.000000\n",
       "ARUBA                           T      57.000000\n",
       "TURKMENISTAN                    T      25.000000\n",
       "UNITED ARAB EMIRATES            R      45.000000\n",
       "                                T      45.000000\n",
       "PAPUA NEW GUINEA                T      26.000000\n",
       "NAMIBIA                         R      50.000000\n",
       "                                T      50.000000\n",
       "GUADELOUPE                      T      31.000000\n",
       "Name: Age, Length: 333, dtype: float32"
      ]
     },
     "execution_count": 157,
     "metadata": {},
     "output_type": "execute_result"
    }
   ],
   "source": [
    "df.groupby(['CountryOfCitizenship', 'R-T'])['Age'].mean()"
   ]
  },
  {
   "cell_type": "code",
   "execution_count": 158,
   "metadata": {},
   "outputs": [
    {
     "data": {
      "text/plain": [
       "MissionDate\n",
       "2010-10-01    31.539486\n",
       "2011-10-01    31.316971\n",
       "2012-10-01    30.838612\n",
       "2013-10-01    29.555210\n",
       "2014-10-01    31.360340\n",
       "2015-10-01    31.364080\n",
       "2016-10-01    32.182800\n",
       "2017-10-01    31.831917\n",
       "2018-10-01    30.838182\n",
       "Freq: AS-OCT, Name: Age, dtype: float32"
      ]
     },
     "execution_count": 158,
     "metadata": {},
     "output_type": "execute_result"
    }
   ],
   "source": [
    "df.groupby([pd.Grouper(freq='AS-OCT')])['Age'].mean()"
   ]
  },
  {
   "cell_type": "code",
   "execution_count": 159,
   "metadata": {},
   "outputs": [
    {
     "data": {
      "text/plain": [
       "MissionDate  Sex\n",
       "2010-10-01   M      94.388953\n",
       "             F       5.608849\n",
       "             U       0.002198\n",
       "2011-10-01   M      94.875298\n",
       "             F       5.112213\n",
       "             U       0.012489\n",
       "2012-10-01   M      93.725031\n",
       "             F       6.263310\n",
       "             U       0.011658\n",
       "2013-10-01   M      86.789757\n",
       "             F      13.193388\n",
       "             U       0.016854\n",
       "2014-10-01   M      89.255019\n",
       "             F      10.738610\n",
       "             U       0.005734\n",
       "2015-10-01   M      90.129283\n",
       "             F       9.870717\n",
       "2016-10-01   M      90.430216\n",
       "             F       9.563684\n",
       "             U       0.006100\n",
       "2017-10-01   M      92.114587\n",
       "             F       7.883848\n",
       "             U       0.001565\n",
       "2018-10-01   M      92.010953\n",
       "             F       7.989047\n",
       "dtype: float64"
      ]
     },
     "execution_count": 159,
     "metadata": {},
     "output_type": "execute_result"
    }
   ],
   "source": [
    "df.groupby([pd.Grouper(freq='AS-OCT')])['Sex'].value_counts() / df.groupby([pd.Grouper(freq='AS-OCT')]).size() * 100"
   ]
  },
  {
   "cell_type": "markdown",
   "metadata": {},
   "source": [
    "# Different geographic subsets"
   ]
  },
  {
   "cell_type": "markdown",
   "metadata": {},
   "source": [
    "## US state"
   ]
  },
  {
   "cell_type": "code",
   "execution_count": 160,
   "metadata": {},
   "outputs": [
    {
     "data": {
      "text/plain": [
       "Index(['Status', 'Sex', 'Convictions', 'GangMember', 'ClassLvl', 'Age',\n",
       "       'MissionNumber', 'PULOC', 'DropLoc', 'StrikeFromList', 'ReasonStruck',\n",
       "       'R-T', 'Code', 'CountryOfCitizenship', 'Juvenile', 'MissionWeek',\n",
       "       'MissionQuarter', 'MissionYear', 'MissionMonth', 'Criminality',\n",
       "       'FamilyUnitFlag', 'UnaccompaniedFlag', 'AlienMasterID', 'MissionID',\n",
       "       'air_AirportID', 'air_AirportName', 'air_City', 'st_StateID',\n",
       "       'st_StateAbbr', 'AOR_AORID', 'AOR_AOR', 'AOR_AORName', 'air_Country',\n",
       "       'air2_AirportID', 'air2_AirportName', 'air2_City', 'st2_StateID',\n",
       "       'st2_StateAbbr', 'aor2_AORID', 'aor2_AOR', 'aor2_AORName',\n",
       "       'air2_Country', 'air_LatitudeDecimalDegrees',\n",
       "       'air_LongitudeDecimalDegrees', 'air2_LatitudeDecimalDegrees',\n",
       "       'air2_LongitudeDecimalDegrees', 'NonCriminal'],\n",
       "      dtype='object')"
      ]
     },
     "execution_count": 160,
     "metadata": {},
     "output_type": "execute_result"
    }
   ],
   "source": [
    "df.columns"
   ]
  },
  {
   "cell_type": "code",
   "execution_count": 161,
   "metadata": {},
   "outputs": [],
   "source": [
    "state = 'WA'"
   ]
  },
  {
   "cell_type": "code",
   "execution_count": 162,
   "metadata": {},
   "outputs": [],
   "source": [
    "state_pickup_df = df[df['st_StateAbbr'] == state]"
   ]
  },
  {
   "cell_type": "code",
   "execution_count": 163,
   "metadata": {},
   "outputs": [],
   "source": [
    "state_dropoff_df = df[df['st2_StateAbbr'] == state]"
   ]
  },
  {
   "cell_type": "code",
   "execution_count": 164,
   "metadata": {},
   "outputs": [
    {
     "data": {
      "text/plain": [
       "KBFI    34443\n",
       "KPAE      319\n",
       "KYKM      108\n",
       "KALB        0\n",
       "KCVG        0\n",
       "Name: PULOC, dtype: int64"
      ]
     },
     "execution_count": 164,
     "metadata": {},
     "output_type": "execute_result"
    }
   ],
   "source": [
    "state_pickup_df['PULOC'].value_counts().head(5)"
   ]
  },
  {
   "cell_type": "code",
   "execution_count": 165,
   "metadata": {},
   "outputs": [],
   "source": [
    "state_all = pd.concat([state_pickup_df, state_dropoff_df])"
   ]
  },
  {
   "cell_type": "markdown",
   "metadata": {},
   "source": [
    "## Country"
   ]
  },
  {
   "cell_type": "code",
   "execution_count": 166,
   "metadata": {},
   "outputs": [],
   "source": [
    "country = 'USA'"
   ]
  },
  {
   "cell_type": "code",
   "execution_count": 167,
   "metadata": {},
   "outputs": [],
   "source": [
    "country_pickup_df = df[df['air_Country'] == country]\n",
    "country_dropoff_df = df[df['air2_Country'] == country]\n",
    "country_all = pd.concat([country_pickup_df, country_dropoff_df])"
   ]
  },
  {
   "cell_type": "code",
   "execution_count": 168,
   "metadata": {},
   "outputs": [
    {
     "data": {
      "text/plain": [
       "PULOC  R-T\n",
       "KAEX   R      213674\n",
       "       T       26222\n",
       "KATL   R       14032\n",
       "       T        1112\n",
       "KBFI   R       16040\n",
       "       T       18403\n",
       "KBFL   R       16569\n",
       "       T        7821\n",
       "KCSG   R       60956\n",
       "       T       19841\n",
       "KDAL   R       11191\n",
       "       T         195\n",
       "KDEN   R        8880\n",
       "       T       11833\n",
       "KELP   R      117249\n",
       "       T       18878\n",
       "KHRL   R       95738\n",
       "       T       29256\n",
       "KIAH   R       49785\n",
       "       T         592\n",
       "KIWA   R      145909\n",
       "       T       50229\n",
       "KLAS   R        9389\n",
       "       T        9535\n",
       "KLRD   R       44022\n",
       "       T       12387\n",
       "KMCI   R        8451\n",
       "       T        4399\n",
       "KMDT   R       26494\n",
       "       T       49854\n",
       "               ...  \n",
       "KGYY   T       10558\n",
       "TJBQ   T         130\n",
       "KYIP   R          86\n",
       "       T          46\n",
       "KBED   R          19\n",
       "       T         250\n",
       "KSTL   R           5\n",
       "       T          60\n",
       "KSKF   T         246\n",
       "KNYL   T         378\n",
       "KROW   R         324\n",
       "KRIC   R         331\n",
       "       T        1562\n",
       "KOPF   R          38\n",
       "       T         354\n",
       "KCLT   T          11\n",
       "TIST   T          11\n",
       "KSDM   R           4\n",
       "KVCV   T         930\n",
       "KCHS   T          55\n",
       "KABQ   R        2264\n",
       "       T         671\n",
       "KYKM   T         108\n",
       "KMEM   T        1247\n",
       "KFTW   R        1181\n",
       "KPSM   R         126\n",
       "       T        1170\n",
       "KYNG   R          25\n",
       "       T           9\n",
       "KALB   R          12\n",
       "Name: AlienMasterID, Length: 124, dtype: int64"
      ]
     },
     "execution_count": 168,
     "metadata": {},
     "output_type": "execute_result"
    }
   ],
   "source": [
    "country_pickup_df.groupby(['PULOC', 'R-T'])['AlienMasterID'].nunique()"
   ]
  },
  {
   "cell_type": "code",
   "execution_count": 169,
   "metadata": {},
   "outputs": [
    {
     "data": {
      "text/plain": [
       "DropLoc  R-T    \n",
       "KAEX     R             846\n",
       "         T          168470\n",
       "KBFI     R              29\n",
       "         T           15162\n",
       "KBFL     R              45\n",
       "         T            2573\n",
       "KELP     R            5416\n",
       "         T           81770\n",
       "KHRL     R          146637\n",
       "         T            2042\n",
       "KIAH     R             116\n",
       "         T            3065\n",
       "KIWA     R            8403\n",
       "         T           85489\n",
       "KLAS     R              19\n",
       "         T            2223\n",
       "KLRD     R           46058\n",
       "         T             865\n",
       "KMCI     R               1\n",
       "         T             240\n",
       "KMDT     T           14789\n",
       "         No-show         1\n",
       "KMIA     R              36\n",
       "         T           22620\n",
       "KOAK     R               9\n",
       "         T            2494\n",
       "KONT     R            1556\n",
       "         T             805\n",
       "KSAN     R           57685\n",
       "         T            5257\n",
       "                     ...  \n",
       "KGYY     T            8345\n",
       "KRFD     T              20\n",
       "KDTW     T               4\n",
       "KLIT     T               1\n",
       "KBED     T             340\n",
       "KRIC     T             795\n",
       "KBNA     T              56\n",
       "KMEM     T            3976\n",
       "KSTL     T              87\n",
       "KLAW     T            1876\n",
       "KNTD     T            1177\n",
       "KSKF     T             624\n",
       "KVCV     T             879\n",
       "KROW     T              28\n",
       "KGFK     T               1\n",
       "KBWI     T              34\n",
       "KBLV     T              93\n",
       "KOPF     T               4\n",
       "KCHS     T             868\n",
       "KYKM     T             133\n",
       "KMDW     T              31\n",
       "KYNG     T            1103\n",
       "KABQ     T            1161\n",
       "KMHR     T              48\n",
       "KCLE     T             113\n",
       "KFTW     T              85\n",
       "KPSM     T             183\n",
       "PHNL     T               2\n",
       "KPDX     T             124\n",
       "KALB     T             337\n",
       "Name: AlienMasterID, Length: 94, dtype: int64"
      ]
     },
     "execution_count": 169,
     "metadata": {},
     "output_type": "execute_result"
    }
   ],
   "source": [
    "country_dropoff_df.groupby(['DropLoc', 'R-T'])['AlienMasterID'].nunique()"
   ]
  },
  {
   "cell_type": "code",
   "execution_count": 170,
   "metadata": {},
   "outputs": [],
   "source": [
    "country_removals = country_all[country_all['R-T'] == 'R']\n",
    "country_transfers = country_all[country_all['R-T'] == 'T']"
   ]
  },
  {
   "cell_type": "code",
   "execution_count": 171,
   "metadata": {},
   "outputs": [
    {
     "data": {
      "text/plain": [
       "KAEX    213674\n",
       "KBRO    147701\n",
       "KIWA    145909\n",
       "KELP    117249\n",
       "KHRL     95738\n",
       "KSAT     80048\n",
       "KCSG     60956\n",
       "KIAH     49785\n",
       "KLRD     44022\n",
       "KMIA     43555\n",
       "Name: PULOC, dtype: int64"
      ]
     },
     "execution_count": 171,
     "metadata": {},
     "output_type": "execute_result"
    }
   ],
   "source": [
    "country_removals.drop_duplicates(subset='AlienMasterID')['PULOC'].value_counts().head(10)"
   ]
  },
  {
   "cell_type": "code",
   "execution_count": 172,
   "metadata": {},
   "outputs": [
    {
     "data": {
      "text/plain": [
       "KBRO    57192\n",
       "KIWA    50229\n",
       "KMDT    49854\n",
       "KSAN    41385\n",
       "KHRL    29256\n",
       "KSAT    27376\n",
       "KAEX    26222\n",
       "KEWR    24130\n",
       "KCSG    19841\n",
       "KELP    18878\n",
       "Name: PULOC, dtype: int64"
      ]
     },
     "execution_count": 172,
     "metadata": {},
     "output_type": "execute_result"
    }
   ],
   "source": [
    "country_transfers.drop_duplicates(subset='AlienMasterID')['PULOC'].value_counts().head(10)"
   ]
  },
  {
   "cell_type": "markdown",
   "metadata": {},
   "source": [
    "# ICE total removal statistics"
   ]
  },
  {
   "cell_type": "code",
   "execution_count": 205,
   "metadata": {},
   "outputs": [],
   "source": [
    "ice_ero_totals = [396906,\n",
    "                  409849,\n",
    "                  368644,\n",
    "                  315943,\n",
    "                  235413,\n",
    "                  240255,\n",
    "                  226119,\n",
    "                  256086]"
   ]
  },
  {
   "cell_type": "code",
   "execution_count": 206,
   "metadata": {},
   "outputs": [],
   "source": [
    "ice_total_comparison = pd.DataFrame({'ICE Air Removals': list(annual_removals['2010':'2017']), 'ICE ERO Total Removals': ice_ero_totals},\n",
    "            index=annual_removals['2010':'2017'].index)"
   ]
  },
  {
   "cell_type": "code",
   "execution_count": 207,
   "metadata": {},
   "outputs": [],
   "source": [
    "ice_total_comparison.sort_index(inplace=True)\n",
    "ice_total_comparison.index = [f'FY{str(x)[2:4]}' for x in ice_total_comparison.index.year + 1]"
   ]
  },
  {
   "cell_type": "code",
   "execution_count": 209,
   "metadata": {},
   "outputs": [],
   "source": [
    "ice_total_comparison['Percent'] = ice_total_comparison['ICE Air Removals'] / ice_total_comparison['ICE ERO Total Removals']"
   ]
  },
  {
   "cell_type": "code",
   "execution_count": 214,
   "metadata": {},
   "outputs": [
    {
     "data": {
      "text/plain": [
       "44"
      ]
     },
     "execution_count": 214,
     "metadata": {},
     "output_type": "execute_result"
    }
   ],
   "source": [
    "int(round((ice_total_comparison['Percent'] * 100).min()))"
   ]
  },
  {
   "cell_type": "code",
   "execution_count": 211,
   "metadata": {},
   "outputs": [
    {
     "data": {
      "text/plain": [
       "52.60569153296639"
      ]
     },
     "execution_count": 211,
     "metadata": {},
     "output_type": "execute_result"
    }
   ],
   "source": [
    "(ice_total_comparison['Percent'] * 100).max()"
   ]
  },
  {
   "cell_type": "code",
   "execution_count": 176,
   "metadata": {},
   "outputs": [],
   "source": [
    "def ice_total_bar(data, title=str, filename=str, xlabel=str, ylabel=str):\n",
    "    \n",
    "    fig, ax = plt.subplots()\n",
    "    \n",
    "    data.plot(kind='bar', legend=True, ax=ax).legend(bbox_to_anchor=(1,1))\n",
    "    \n",
    "    ax.set_axisbelow(True)\n",
    "    ax.set_ylabel(ylabel, fontsize=16)\n",
    "    ax.set_xlabel(xlabel, fontsize=16)\n",
    "    \n",
    "    ax.set_title(title, fontsize=18)\n",
    "    ax.tick_params(labelsize=14)\n",
    "    plt.xticks(rotation=0)\n",
    "    ax.set_facecolor('#EEEEEE')\n",
    "    ax.grid(color='#FFFFFF')\n",
    "    plt.legend(fontsize=14)\n",
    "    \n",
    "    fig.set_size_inches(10, 8)\n",
    "    fig.savefig(f'../output/{filename}.png', dpi=100)\n",
    "    return fig, ax"
   ]
  },
  {
   "cell_type": "code",
   "execution_count": 177,
   "metadata": {},
   "outputs": [
    {
     "data": {
      "image/png": "[encoded data removed]",
      "text/plain": [
       "<Figure size 720x576 with 1 Axes>"
      ]
     },
     "metadata": {
      "needs_background": "light"
     },
     "output_type": "display_data"
    }
   ],
   "source": [
    "ice_total_bar(ice_total_comparison[['ICE Air Removals', 'ICE ERO Total Removals']],\n",
    "                     title=f'ICE Air removals versus total reported ICE ERO removals',\n",
    "                     filename=f'total_removals_comparison',\n",
    "                     ylabel=f'Total Removals',\n",
    "                     xlabel='Fiscal Year');"
   ]
  },
  {
   "cell_type": "code",
   "execution_count": 181,
   "metadata": {},
   "outputs": [],
   "source": [
    "ice_ero_fy17_fy18 = pd.read_csv('../input/FY2017andFY2018ICERemovalsbyCountryofCitizenship.csv')"
   ]
  },
  {
   "cell_type": "code",
   "execution_count": 182,
   "metadata": {},
   "outputs": [],
   "source": [
    "ice_ero_fy17_fy18['Source'] = 'ERO'"
   ]
  },
  {
   "cell_type": "code",
   "execution_count": 217,
   "metadata": {},
   "outputs": [
    {
     "data": {
      "text/html": [
       "<div>\n",
       "<style scoped>\n",
       "    .dataframe tbody tr th:only-of-type {\n",
       "        vertical-align: middle;\n",
       "    }\n",
       "\n",
       "    .dataframe tbody tr th {\n",
       "        vertical-align: top;\n",
       "    }\n",
       "\n",
       "    .dataframe thead th {\n",
       "        text-align: right;\n",
       "    }\n",
       "</style>\n",
       "<table border=\"1\" class=\"dataframe\">\n",
       "  <thead>\n",
       "    <tr style=\"text-align: right;\">\n",
       "      <th></th>\n",
       "      <th>Status</th>\n",
       "      <th>Sex</th>\n",
       "      <th>Convictions</th>\n",
       "      <th>GangMember</th>\n",
       "      <th>ClassLvl</th>\n",
       "      <th>Age</th>\n",
       "      <th>MissionNumber</th>\n",
       "      <th>PULOC</th>\n",
       "      <th>DropLoc</th>\n",
       "      <th>StrikeFromList</th>\n",
       "      <th>...</th>\n",
       "      <th>st2_StateAbbr</th>\n",
       "      <th>aor2_AORID</th>\n",
       "      <th>aor2_AOR</th>\n",
       "      <th>aor2_AORName</th>\n",
       "      <th>air2_Country</th>\n",
       "      <th>air_LatitudeDecimalDegrees</th>\n",
       "      <th>air_LongitudeDecimalDegrees</th>\n",
       "      <th>air2_LatitudeDecimalDegrees</th>\n",
       "      <th>air2_LongitudeDecimalDegrees</th>\n",
       "      <th>NonCriminal</th>\n",
       "    </tr>\n",
       "    <tr>\n",
       "      <th>MissionDate</th>\n",
       "      <th></th>\n",
       "      <th></th>\n",
       "      <th></th>\n",
       "      <th></th>\n",
       "      <th></th>\n",
       "      <th></th>\n",
       "      <th></th>\n",
       "      <th></th>\n",
       "      <th></th>\n",
       "      <th></th>\n",
       "      <th></th>\n",
       "      <th></th>\n",
       "      <th></th>\n",
       "      <th></th>\n",
       "      <th></th>\n",
       "      <th></th>\n",
       "      <th></th>\n",
       "      <th></th>\n",
       "      <th></th>\n",
       "      <th></th>\n",
       "      <th></th>\n",
       "    </tr>\n",
       "  </thead>\n",
       "  <tbody>\n",
       "    <tr>\n",
       "      <th>2010-10-01</th>\n",
       "      <td>REMOVAL</td>\n",
       "      <td>M</td>\n",
       "      <td>Non-Criminal</td>\n",
       "      <td>No</td>\n",
       "      <td>1.0</td>\n",
       "      <td>18.0</td>\n",
       "      <td>110003</td>\n",
       "      <td>KIWA</td>\n",
       "      <td>MGGT</td>\n",
       "      <td>NaN</td>\n",
       "      <td>...</td>\n",
       "      <td>NaN</td>\n",
       "      <td>NaN</td>\n",
       "      <td>NaN</td>\n",
       "      <td>NaN</td>\n",
       "      <td>Guatemala</td>\n",
       "      <td>33.307833</td>\n",
       "      <td>-111.655472</td>\n",
       "      <td>14.583</td>\n",
       "      <td>-90.528</td>\n",
       "      <td>False</td>\n",
       "    </tr>\n",
       "    <tr>\n",
       "      <th>2010-10-01</th>\n",
       "      <td>REMOVAL</td>\n",
       "      <td>M</td>\n",
       "      <td>Non-Criminal</td>\n",
       "      <td>No</td>\n",
       "      <td>1.0</td>\n",
       "      <td>38.0</td>\n",
       "      <td>110003</td>\n",
       "      <td>KIWA</td>\n",
       "      <td>MGGT</td>\n",
       "      <td>NaN</td>\n",
       "      <td>...</td>\n",
       "      <td>NaN</td>\n",
       "      <td>NaN</td>\n",
       "      <td>NaN</td>\n",
       "      <td>NaN</td>\n",
       "      <td>Guatemala</td>\n",
       "      <td>33.307833</td>\n",
       "      <td>-111.655472</td>\n",
       "      <td>14.583</td>\n",
       "      <td>-90.528</td>\n",
       "      <td>False</td>\n",
       "    </tr>\n",
       "    <tr>\n",
       "      <th>2010-10-01</th>\n",
       "      <td>REMOVAL</td>\n",
       "      <td>M</td>\n",
       "      <td>Non-Criminal</td>\n",
       "      <td>No</td>\n",
       "      <td>1.0</td>\n",
       "      <td>20.0</td>\n",
       "      <td>110003</td>\n",
       "      <td>KIWA</td>\n",
       "      <td>MGGT</td>\n",
       "      <td>NaN</td>\n",
       "      <td>...</td>\n",
       "      <td>NaN</td>\n",
       "      <td>NaN</td>\n",
       "      <td>NaN</td>\n",
       "      <td>NaN</td>\n",
       "      <td>Guatemala</td>\n",
       "      <td>33.307833</td>\n",
       "      <td>-111.655472</td>\n",
       "      <td>14.583</td>\n",
       "      <td>-90.528</td>\n",
       "      <td>False</td>\n",
       "    </tr>\n",
       "    <tr>\n",
       "      <th>2010-10-01</th>\n",
       "      <td>REMOVAL</td>\n",
       "      <td>M</td>\n",
       "      <td>Non-Criminal</td>\n",
       "      <td>No</td>\n",
       "      <td>1.0</td>\n",
       "      <td>29.0</td>\n",
       "      <td>110003</td>\n",
       "      <td>KIWA</td>\n",
       "      <td>MGGT</td>\n",
       "      <td>NaN</td>\n",
       "      <td>...</td>\n",
       "      <td>NaN</td>\n",
       "      <td>NaN</td>\n",
       "      <td>NaN</td>\n",
       "      <td>NaN</td>\n",
       "      <td>Guatemala</td>\n",
       "      <td>33.307833</td>\n",
       "      <td>-111.655472</td>\n",
       "      <td>14.583</td>\n",
       "      <td>-90.528</td>\n",
       "      <td>False</td>\n",
       "    </tr>\n",
       "    <tr>\n",
       "      <th>2010-10-01</th>\n",
       "      <td>REMOVAL</td>\n",
       "      <td>M</td>\n",
       "      <td>Non-Criminal</td>\n",
       "      <td>No</td>\n",
       "      <td>1.0</td>\n",
       "      <td>21.0</td>\n",
       "      <td>110003</td>\n",
       "      <td>KIWA</td>\n",
       "      <td>MGGT</td>\n",
       "      <td>NaN</td>\n",
       "      <td>...</td>\n",
       "      <td>NaN</td>\n",
       "      <td>NaN</td>\n",
       "      <td>NaN</td>\n",
       "      <td>NaN</td>\n",
       "      <td>Guatemala</td>\n",
       "      <td>33.307833</td>\n",
       "      <td>-111.655472</td>\n",
       "      <td>14.583</td>\n",
       "      <td>-90.528</td>\n",
       "      <td>False</td>\n",
       "    </tr>\n",
       "  </tbody>\n",
       "</table>\n",
       "<p>5 rows × 47 columns</p>\n",
       "</div>"
      ],
      "text/plain": [
       "              Status Sex   Convictions GangMember  ClassLvl   Age  \\\n",
       "MissionDate                                                         \n",
       "2010-10-01   REMOVAL   M  Non-Criminal         No       1.0  18.0   \n",
       "2010-10-01   REMOVAL   M  Non-Criminal         No       1.0  38.0   \n",
       "2010-10-01   REMOVAL   M  Non-Criminal         No       1.0  20.0   \n",
       "2010-10-01   REMOVAL   M  Non-Criminal         No       1.0  29.0   \n",
       "2010-10-01   REMOVAL   M  Non-Criminal         No       1.0  21.0   \n",
       "\n",
       "             MissionNumber PULOC DropLoc  StrikeFromList     ...      \\\n",
       "MissionDate                                                  ...       \n",
       "2010-10-01          110003  KIWA    MGGT             NaN     ...       \n",
       "2010-10-01          110003  KIWA    MGGT             NaN     ...       \n",
       "2010-10-01          110003  KIWA    MGGT             NaN     ...       \n",
       "2010-10-01          110003  KIWA    MGGT             NaN     ...       \n",
       "2010-10-01          110003  KIWA    MGGT             NaN     ...       \n",
       "\n",
       "            st2_StateAbbr aor2_AORID aor2_AOR aor2_AORName  air2_Country  \\\n",
       "MissionDate                                                                \n",
       "2010-10-01            NaN        NaN      NaN          NaN     Guatemala   \n",
       "2010-10-01            NaN        NaN      NaN          NaN     Guatemala   \n",
       "2010-10-01            NaN        NaN      NaN          NaN     Guatemala   \n",
       "2010-10-01            NaN        NaN      NaN          NaN     Guatemala   \n",
       "2010-10-01            NaN        NaN      NaN          NaN     Guatemala   \n",
       "\n",
       "             air_LatitudeDecimalDegrees  air_LongitudeDecimalDegrees  \\\n",
       "MissionDate                                                            \n",
       "2010-10-01                    33.307833                  -111.655472   \n",
       "2010-10-01                    33.307833                  -111.655472   \n",
       "2010-10-01                    33.307833                  -111.655472   \n",
       "2010-10-01                    33.307833                  -111.655472   \n",
       "2010-10-01                    33.307833                  -111.655472   \n",
       "\n",
       "             air2_LatitudeDecimalDegrees  air2_LongitudeDecimalDegrees  \\\n",
       "MissionDate                                                              \n",
       "2010-10-01                        14.583                       -90.528   \n",
       "2010-10-01                        14.583                       -90.528   \n",
       "2010-10-01                        14.583                       -90.528   \n",
       "2010-10-01                        14.583                       -90.528   \n",
       "2010-10-01                        14.583                       -90.528   \n",
       "\n",
       "            NonCriminal  \n",
       "MissionDate              \n",
       "2010-10-01        False  \n",
       "2010-10-01        False  \n",
       "2010-10-01        False  \n",
       "2010-10-01        False  \n",
       "2010-10-01        False  \n",
       "\n",
       "[5 rows x 47 columns]"
      ]
     },
     "execution_count": 217,
     "metadata": {},
     "output_type": "execute_result"
    }
   ],
   "source": [
    "df.head()"
   ]
  },
  {
   "cell_type": "code",
   "execution_count": 183,
   "metadata": {},
   "outputs": [],
   "source": [
    "coc_removals_by_fy = removal_df.groupby([pd.Grouper(freq='AS-OCT'), 'CountryOfCitizenship'])['AlienMasterID'].nunique()\n",
    "coc_removals_by_fy = coc_removals_by_fy.reset_index()\n",
    "coc_removals_by_fy['CountryOfCitizenship'] = coc_removals_by_fy['CountryOfCitizenship'].copy().astype(str)\n",
    "coc_removals_by_fy.set_index('MissionDate', inplace=True)\n",
    "coc_removals_by_fy = coc_removals_by_fy.loc['2016':'2017']\n",
    "coc_removals_by_fy['FY'] = [f'20{str(x)[2:4]}' for x in coc_removals_by_fy.index.year + 1]\n",
    "coc_removals_by_fy = coc_removals_by_fy.reset_index()\n",
    "coc_removals_by_fy = coc_removals_by_fy.drop('MissionDate', axis=1)"
   ]
  },
  {
   "cell_type": "code",
   "execution_count": 184,
   "metadata": {},
   "outputs": [
    {
     "data": {
      "text/html": [
       "<div>\n",
       "<style scoped>\n",
       "    .dataframe tbody tr th:only-of-type {\n",
       "        vertical-align: middle;\n",
       "    }\n",
       "\n",
       "    .dataframe tbody tr th {\n",
       "        vertical-align: top;\n",
       "    }\n",
       "\n",
       "    .dataframe thead th {\n",
       "        text-align: right;\n",
       "    }\n",
       "</style>\n",
       "<table border=\"1\" class=\"dataframe\">\n",
       "  <thead>\n",
       "    <tr style=\"text-align: right;\">\n",
       "      <th></th>\n",
       "      <th>CountryOfCitizenship</th>\n",
       "      <th>AlienMasterID</th>\n",
       "      <th>FY</th>\n",
       "    </tr>\n",
       "  </thead>\n",
       "  <tbody>\n",
       "    <tr>\n",
       "      <th>0</th>\n",
       "      <td>ALGERIA</td>\n",
       "      <td>3</td>\n",
       "      <td>2017</td>\n",
       "    </tr>\n",
       "    <tr>\n",
       "      <th>1</th>\n",
       "      <td>BANGLADESH</td>\n",
       "      <td>139</td>\n",
       "      <td>2017</td>\n",
       "    </tr>\n",
       "    <tr>\n",
       "      <th>2</th>\n",
       "      <td>BOSNIA</td>\n",
       "      <td>9</td>\n",
       "      <td>2017</td>\n",
       "    </tr>\n",
       "    <tr>\n",
       "      <th>3</th>\n",
       "      <td>CAMBODIA</td>\n",
       "      <td>28</td>\n",
       "      <td>2017</td>\n",
       "    </tr>\n",
       "    <tr>\n",
       "      <th>4</th>\n",
       "      <td>CAMEROON</td>\n",
       "      <td>5</td>\n",
       "      <td>2017</td>\n",
       "    </tr>\n",
       "  </tbody>\n",
       "</table>\n",
       "</div>"
      ],
      "text/plain": [
       "  CountryOfCitizenship  AlienMasterID    FY\n",
       "0              ALGERIA              3  2017\n",
       "1           BANGLADESH            139  2017\n",
       "2               BOSNIA              9  2017\n",
       "3             CAMBODIA             28  2017\n",
       "4             CAMEROON              5  2017"
      ]
     },
     "execution_count": 184,
     "metadata": {},
     "output_type": "execute_result"
    }
   ],
   "source": [
    "coc_removals_by_fy.head()"
   ]
  },
  {
   "cell_type": "code",
   "execution_count": 185,
   "metadata": {},
   "outputs": [],
   "source": [
    "coc_removals_by_fy = coc_removals_by_fy.pivot(index='CountryOfCitizenship', columns='FY')"
   ]
  },
  {
   "cell_type": "code",
   "execution_count": 186,
   "metadata": {},
   "outputs": [],
   "source": [
    "coc_removals_by_fy.columns = coc_removals_by_fy.columns.droplevel()"
   ]
  },
  {
   "cell_type": "code",
   "execution_count": 187,
   "metadata": {},
   "outputs": [],
   "source": [
    "coc_removals_by_fy = coc_removals_by_fy.reset_index()"
   ]
  },
  {
   "cell_type": "code",
   "execution_count": 188,
   "metadata": {},
   "outputs": [],
   "source": [
    "coc_removals_by_fy['Source'] = 'ARTS'"
   ]
  },
  {
   "cell_type": "code",
   "execution_count": 189,
   "metadata": {},
   "outputs": [],
   "source": [
    "# coc_removals_by_fy.fillna(0, inplace=True)\n",
    "# ice_ero_fy17_fy18.fillna(0, inplace=True)"
   ]
  },
  {
   "cell_type": "code",
   "execution_count": 190,
   "metadata": {},
   "outputs": [
    {
     "data": {
      "text/html": [
       "<div>\n",
       "<style scoped>\n",
       "    .dataframe tbody tr th:only-of-type {\n",
       "        vertical-align: middle;\n",
       "    }\n",
       "\n",
       "    .dataframe tbody tr th {\n",
       "        vertical-align: top;\n",
       "    }\n",
       "\n",
       "    .dataframe thead th {\n",
       "        text-align: right;\n",
       "    }\n",
       "</style>\n",
       "<table border=\"1\" class=\"dataframe\">\n",
       "  <thead>\n",
       "    <tr style=\"text-align: right;\">\n",
       "      <th>FY</th>\n",
       "      <th>CountryOfCitizenship</th>\n",
       "      <th>2017</th>\n",
       "      <th>2018</th>\n",
       "      <th>Source</th>\n",
       "    </tr>\n",
       "  </thead>\n",
       "  <tbody>\n",
       "    <tr>\n",
       "      <th>0</th>\n",
       "      <td>AFGHANISTAN</td>\n",
       "      <td>29.0</td>\n",
       "      <td>16.0</td>\n",
       "      <td>ARTS</td>\n",
       "    </tr>\n",
       "    <tr>\n",
       "      <th>1</th>\n",
       "      <td>ALGERIA</td>\n",
       "      <td>3.0</td>\n",
       "      <td>NaN</td>\n",
       "      <td>ARTS</td>\n",
       "    </tr>\n",
       "    <tr>\n",
       "      <th>2</th>\n",
       "      <td>ANTIGUA &amp; BARBUDA</td>\n",
       "      <td>NaN</td>\n",
       "      <td>3.0</td>\n",
       "      <td>ARTS</td>\n",
       "    </tr>\n",
       "    <tr>\n",
       "      <th>3</th>\n",
       "      <td>ARGENTINA</td>\n",
       "      <td>NaN</td>\n",
       "      <td>7.0</td>\n",
       "      <td>ARTS</td>\n",
       "    </tr>\n",
       "    <tr>\n",
       "      <th>4</th>\n",
       "      <td>BAHAMAS</td>\n",
       "      <td>NaN</td>\n",
       "      <td>1.0</td>\n",
       "      <td>ARTS</td>\n",
       "    </tr>\n",
       "  </tbody>\n",
       "</table>\n",
       "</div>"
      ],
      "text/plain": [
       "FY CountryOfCitizenship  2017  2018 Source\n",
       "0           AFGHANISTAN  29.0  16.0   ARTS\n",
       "1               ALGERIA   3.0   NaN   ARTS\n",
       "2     ANTIGUA & BARBUDA   NaN   3.0   ARTS\n",
       "3             ARGENTINA   NaN   7.0   ARTS\n",
       "4               BAHAMAS   NaN   1.0   ARTS"
      ]
     },
     "execution_count": 190,
     "metadata": {},
     "output_type": "execute_result"
    }
   ],
   "source": [
    "coc_removals_by_fy.head()"
   ]
  },
  {
   "cell_type": "code",
   "execution_count": 191,
   "metadata": {},
   "outputs": [
    {
     "data": {
      "text/html": [
       "<div>\n",
       "<style scoped>\n",
       "    .dataframe tbody tr th:only-of-type {\n",
       "        vertical-align: middle;\n",
       "    }\n",
       "\n",
       "    .dataframe tbody tr th {\n",
       "        vertical-align: top;\n",
       "    }\n",
       "\n",
       "    .dataframe thead th {\n",
       "        text-align: right;\n",
       "    }\n",
       "</style>\n",
       "<table border=\"1\" class=\"dataframe\">\n",
       "  <thead>\n",
       "    <tr style=\"text-align: right;\">\n",
       "      <th></th>\n",
       "      <th>CountryOfCitizenship</th>\n",
       "      <th>2017</th>\n",
       "      <th>2018</th>\n",
       "      <th>Source</th>\n",
       "    </tr>\n",
       "  </thead>\n",
       "  <tbody>\n",
       "    <tr>\n",
       "      <th>0</th>\n",
       "      <td>MEXICO</td>\n",
       "      <td>128765</td>\n",
       "      <td>141045</td>\n",
       "      <td>ERO</td>\n",
       "    </tr>\n",
       "    <tr>\n",
       "      <th>1</th>\n",
       "      <td>GUATEMALA</td>\n",
       "      <td>33570</td>\n",
       "      <td>50390</td>\n",
       "      <td>ERO</td>\n",
       "    </tr>\n",
       "    <tr>\n",
       "      <th>2</th>\n",
       "      <td>HONDURAS</td>\n",
       "      <td>22381</td>\n",
       "      <td>28894</td>\n",
       "      <td>ERO</td>\n",
       "    </tr>\n",
       "    <tr>\n",
       "      <th>3</th>\n",
       "      <td>EL SALVADOR</td>\n",
       "      <td>18838</td>\n",
       "      <td>15445</td>\n",
       "      <td>ERO</td>\n",
       "    </tr>\n",
       "    <tr>\n",
       "      <th>4</th>\n",
       "      <td>DOMINICAN REPUBLIC</td>\n",
       "      <td>1986</td>\n",
       "      <td>1769</td>\n",
       "      <td>ERO</td>\n",
       "    </tr>\n",
       "  </tbody>\n",
       "</table>\n",
       "</div>"
      ],
      "text/plain": [
       "  CountryOfCitizenship    2017    2018 Source\n",
       "0               MEXICO  128765  141045    ERO\n",
       "1            GUATEMALA   33570   50390    ERO\n",
       "2             HONDURAS   22381   28894    ERO\n",
       "3          EL SALVADOR   18838   15445    ERO\n",
       "4   DOMINICAN REPUBLIC    1986    1769    ERO"
      ]
     },
     "execution_count": 191,
     "metadata": {},
     "output_type": "execute_result"
    }
   ],
   "source": [
    "ice_ero_fy17_fy18.head()"
   ]
  },
  {
   "cell_type": "code",
   "execution_count": 192,
   "metadata": {},
   "outputs": [],
   "source": [
    "coc_removals_by_fy = coc_removals_by_fy.set_index(['CountryOfCitizenship', 'Source'])\n",
    "ice_ero_fy17_fy18 = ice_ero_fy17_fy18.set_index(['CountryOfCitizenship', 'Source'])"
   ]
  },
  {
   "cell_type": "code",
   "execution_count": 193,
   "metadata": {},
   "outputs": [],
   "source": [
    "# temp = coc_removals_by_fy.join(ice_ero_fy17_fy18, on='CountryOfCitizenship', how='outer', lsuffix='_ARTS', rsuffix='_ERO')\n",
    "temp = pd.concat([coc_removals_by_fy, ice_ero_fy17_fy18])"
   ]
  },
  {
   "cell_type": "code",
   "execution_count": 194,
   "metadata": {},
   "outputs": [],
   "source": [
    "temp = temp.reset_index()"
   ]
  },
  {
   "cell_type": "code",
   "execution_count": 195,
   "metadata": {},
   "outputs": [],
   "source": [
    "temp = temp.groupby(['CountryOfCitizenship', 'Source']).sum()"
   ]
  },
  {
   "cell_type": "code",
   "execution_count": 196,
   "metadata": {},
   "outputs": [],
   "source": [
    "table = temp.unstack().loc[['MEXICO', 'SOMALIA', 'CAMBODIA', 'CUBA', 'ERITREA']]"
   ]
  },
  {
   "cell_type": "code",
   "execution_count": 197,
   "metadata": {},
   "outputs": [],
   "source": [
    "table = table.fillna('0')"
   ]
  },
  {
   "cell_type": "code",
   "execution_count": 220,
   "metadata": {},
   "outputs": [
    {
     "data": {
      "text/html": [
       "<div>\n",
       "<style scoped>\n",
       "    .dataframe tbody tr th:only-of-type {\n",
       "        vertical-align: middle;\n",
       "    }\n",
       "\n",
       "    .dataframe tbody tr th {\n",
       "        vertical-align: top;\n",
       "    }\n",
       "\n",
       "    .dataframe thead tr th {\n",
       "        text-align: left;\n",
       "    }\n",
       "\n",
       "    .dataframe thead tr:last-of-type th {\n",
       "        text-align: right;\n",
       "    }\n",
       "</style>\n",
       "<table border=\"1\" class=\"dataframe\">\n",
       "  <thead>\n",
       "    <tr>\n",
       "      <th>FY</th>\n",
       "      <th colspan=\"2\" halign=\"left\">2017</th>\n",
       "      <th colspan=\"2\" halign=\"left\">2018</th>\n",
       "    </tr>\n",
       "    <tr>\n",
       "      <th>Source</th>\n",
       "      <th>ARTS</th>\n",
       "      <th>ERO</th>\n",
       "      <th>ARTS</th>\n",
       "      <th>ERO</th>\n",
       "    </tr>\n",
       "    <tr>\n",
       "      <th>CountryOfCitizenship</th>\n",
       "      <th></th>\n",
       "      <th></th>\n",
       "      <th></th>\n",
       "      <th></th>\n",
       "    </tr>\n",
       "  </thead>\n",
       "  <tbody>\n",
       "    <tr>\n",
       "      <th>MEXICO</th>\n",
       "      <td>32967</td>\n",
       "      <td>128765.0</td>\n",
       "      <td>34738</td>\n",
       "      <td>141045.0</td>\n",
       "    </tr>\n",
       "    <tr>\n",
       "      <th>SOMALIA</th>\n",
       "      <td>342</td>\n",
       "      <td>521.0</td>\n",
       "      <td>151</td>\n",
       "      <td>229.0</td>\n",
       "    </tr>\n",
       "    <tr>\n",
       "      <th>CAMBODIA</th>\n",
       "      <td>28</td>\n",
       "      <td>29.0</td>\n",
       "      <td>90</td>\n",
       "      <td>110.0</td>\n",
       "    </tr>\n",
       "    <tr>\n",
       "      <th>CUBA</th>\n",
       "      <td>53</td>\n",
       "      <td>160.0</td>\n",
       "      <td>255</td>\n",
       "      <td>463.0</td>\n",
       "    </tr>\n",
       "    <tr>\n",
       "      <th>ERITREA</th>\n",
       "      <td>0</td>\n",
       "      <td>41.0</td>\n",
       "      <td>0</td>\n",
       "      <td>62.0</td>\n",
       "    </tr>\n",
       "  </tbody>\n",
       "</table>\n",
       "</div>"
      ],
      "text/plain": [
       "FY                     2017             2018          \n",
       "Source                 ARTS       ERO   ARTS       ERO\n",
       "CountryOfCitizenship                                  \n",
       "MEXICO                32967  128765.0  34738  141045.0\n",
       "SOMALIA                 342     521.0    151     229.0\n",
       "CAMBODIA                 28      29.0     90     110.0\n",
       "CUBA                     53     160.0    255     463.0\n",
       "ERITREA                   0      41.0      0      62.0"
      ]
     },
     "execution_count": 220,
     "metadata": {},
     "output_type": "execute_result"
    }
   ],
   "source": [
    "table"
   ]
  },
  {
   "cell_type": "code",
   "execution_count": 242,
   "metadata": {},
   "outputs": [
    {
     "data": {
      "text/plain": [
       "41"
      ]
     },
     "execution_count": 242,
     "metadata": {},
     "output_type": "execute_result"
    }
   ],
   "source": [
    "int(table.loc['ERITREA','2017']['ERO'])"
   ]
  },
  {
   "cell_type": "code",
   "execution_count": 198,
   "metadata": {},
   "outputs": [],
   "source": [
    "table.to_csv('../output/arts-ero-comparison-table.csv')"
   ]
  },
  {
   "cell_type": "code",
   "execution_count": 199,
   "metadata": {},
   "outputs": [
    {
     "data": {
      "text/plain": [
       "<matplotlib.axes._subplots.AxesSubplot at 0x1a30b349e8>"
      ]
     },
     "execution_count": 199,
     "metadata": {},
     "output_type": "execute_result"
    },
    {
     "data": {
      "image/png": "[encoded data removed]",
      "text/plain": [
       "<Figure size 432x288 with 1 Axes>"
      ]
     },
     "metadata": {
      "needs_background": "light"
     },
     "output_type": "display_data"
    }
   ],
   "source": [
    "temp.loc['MEXICO'].T.plot(kind='bar')"
   ]
  },
  {
   "cell_type": "code",
   "execution_count": 200,
   "metadata": {},
   "outputs": [
    {
     "data": {
      "text/plain": [
       "<matplotlib.axes._subplots.AxesSubplot at 0x1a341a2860>"
      ]
     },
     "execution_count": 200,
     "metadata": {},
     "output_type": "execute_result"
    },
    {
     "data": {
      "image/png": "[encoded data removed]",
      "text/plain": [
       "<Figure size 432x288 with 1 Axes>"
      ]
     },
     "metadata": {
      "needs_background": "light"
     },
     "output_type": "display_data"
    }
   ],
   "source": [
    "temp.loc['SOMALIA'].T.plot(kind='bar')"
   ]
  },
  {
   "cell_type": "code",
   "execution_count": 202,
   "metadata": {},
   "outputs": [
    {
     "data": {
      "text/plain": [
       "<matplotlib.axes._subplots.AxesSubplot at 0x1a18a11c18>"
      ]
     },
     "execution_count": 202,
     "metadata": {},
     "output_type": "execute_result"
    },
    {
     "data": {
      "image/png": "[encoded data removed]",
      "text/plain": [
       "<Figure size 432x288 with 1 Axes>"
      ]
     },
     "metadata": {
      "needs_background": "light"
     },
     "output_type": "display_data"
    }
   ],
   "source": [
    "temp.loc['MEXICO'].plot(kind='bar')"
   ]
  }
 ],
 "metadata": {
  "kernelspec": {
   "display_name": "Python 3",
   "language": "python",
   "name": "python3"
  },
  "language_info": {
   "codemirror_mode": {
    "name": "ipython",
    "version": 3
   },
   "file_extension": ".py",
   "mimetype": "text/x-python",
   "name": "python",
   "nbconvert_exporter": "python",
   "pygments_lexer": "ipython3",
   "version": "3.7.1"
  }
 },
 "nbformat": 4,
 "nbformat_minor": 2
}
