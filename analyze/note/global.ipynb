{
 "cells": [
  {
   "cell_type": "code",
   "execution_count": 1,
   "metadata": {},
   "outputs": [],
   "source": [
    "import numpy as np\n",
    "import pandas as pd\n",
    "import yaml\n",
    "import matplotlib.pyplot as plt\n",
    "import matplotlib.mlab as mlab\n",
    "import seaborn as sns"
   ]
  },
  {
   "cell_type": "markdown",
   "metadata": {},
   "source": [
    "# Import\n",
    "\n",
    "First we open a file containing a dictionary of columns and associated data types generated in `../../optimize/`, then we read input file."
   ]
  },
  {
   "cell_type": "code",
   "execution_count": 2,
   "metadata": {},
   "outputs": [
    {
     "name": "stdout",
     "output_type": "stream",
     "text": [
      "<class 'pandas.core.frame.DataFrame'>\n",
      "RangeIndex: 1731580 entries, 0 to 1731579\n",
      "Data columns (total 44 columns):\n",
      "Status                  category\n",
      "Sex                     category\n",
      "Convictions             category\n",
      "GangMember              category\n",
      "ClassLvl                float32\n",
      "Age                     float32\n",
      "MissionDate             datetime64[ns]\n",
      "MissionNumber           uint32\n",
      "PULOC                   category\n",
      "DropLoc                 category\n",
      "StrikeFromList          float32\n",
      "ReasonStruck            category\n",
      "R-T                     category\n",
      "Code                    category\n",
      "CountryOfCitizenship    category\n",
      "Juvenile                bool\n",
      "MissionWeek             uint8\n",
      "MissionQuarter          uint8\n",
      "MissionYear             uint16\n",
      "MissionMonth            uint8\n",
      "Criminality             category\n",
      "FamilyUnitFlag          float32\n",
      "UnaccompaniedFlag       float32\n",
      "AlienMasterID           uint32\n",
      "MissionID               uint16\n",
      "air_AirportID           float32\n",
      "air_AirportName         category\n",
      "air_City                category\n",
      "st_StateID              float32\n",
      "st_StateAbbr            category\n",
      "AOR_AORID               float32\n",
      "AOR_AOR                 category\n",
      "AOR_AORName             category\n",
      "air_Country             category\n",
      "air2_AirportID          float32\n",
      "air2_AirportName        category\n",
      "air2_City               category\n",
      "st2_StateID             float32\n",
      "st2_StateAbbr           category\n",
      "aor2_AORID              float32\n",
      "aor2_AOR                category\n",
      "aor2_AORName            category\n",
      "air2_Country            category\n",
      "NonCriminal             bool\n",
      "dtypes: bool(2), category(23), datetime64[ns](1), float32(11), uint16(2), uint32(2), uint8(3)\n",
      "memory usage: 165.4 MB\n"
     ]
    }
   ],
   "source": [
    "with open('../input/dtypes.yaml', 'r') as yamlfile:\n",
    "    column_types = yaml.load(yamlfile)\n",
    "\n",
    "read_csv_opts = {'sep': '|',\n",
    "                 'quotechar': '\"',\n",
    "                 'compression': 'gzip',\n",
    "                 'encoding': 'utf-8',\n",
    "                 'dtype': column_types,\n",
    "                 'parse_dates': ['MissionDate'],\n",
    "                 'infer_datetime_format': True}\n",
    "\n",
    "df = pd.read_csv('../input/ice-air.csv.gz', **read_csv_opts)\n",
    "\n",
    "df.info(memory_usage='deep')"
   ]
  },
  {
   "cell_type": "code",
   "execution_count": 3,
   "metadata": {},
   "outputs": [],
   "source": [
    "passenger_cols = ['AlienMasterID', 'Status', 'Sex', 'Convictions', 'GangMember',\n",
    "       'ClassLvl', 'Age', 'MissionNumber', 'PULOC', 'DropLoc',\n",
    "       'StrikeFromList', 'ReasonStruck', 'R-T', 'Code', 'CountryOfCitizenship',\n",
    "       'Juvenile', 'MissionWeek', 'MissionQuarter', 'MissionYear',\n",
    "       'MissionMonth', 'Criminality', 'FamilyUnitFlag', 'UnaccompaniedFlag',\n",
    "       'MissionID', 'MissionDate']\n",
    "airport_cols = ['air_AirportID', 'air_AirportName', 'air_City',\n",
    "       'st_StateID', 'st_StateAbbr', 'AOR_AORID', 'AOR_AOR', 'AOR_AORName',\n",
    "       'air_Country', 'air2_AirportID', 'air2_AirportName', 'air2_City',\n",
    "       'st2_StateID', 'st2_StateAbbr', 'aor2_AORID', 'aor2_AOR',\n",
    "       'aor2_AORName', 'air2_Country']"
   ]
  },
  {
   "cell_type": "markdown",
   "metadata": {},
   "source": [
    "# Global variables"
   ]
  },
  {
   "cell_type": "markdown",
   "metadata": {},
   "source": [
    "Here we calculate top-level data on the global scope of the ICE Air dataset."
   ]
  },
  {
   "cell_type": "code",
   "execution_count": 4,
   "metadata": {},
   "outputs": [
    {
     "name": "stdout",
     "output_type": "stream",
     "text": [
      "Number of records: 1731580\n",
      "Unique AlienMasterID values: 1731580\n"
     ]
    }
   ],
   "source": [
    "pre_drop = len(df)\n",
    "df = df.drop_duplicates()\n",
    "post_drop = len(df)\n",
    "assert pre_drop == post_drop\n",
    "\n",
    "number_of_records = len(df)\n",
    "print(f'Number of records: {number_of_records}')\n",
    "\n",
    "unique_AlienMasterID = len(set(df['AlienMasterID']))\n",
    "assert sum(df['AlienMasterID'].isnull()) == 0\n",
    "print(f\"Unique AlienMasterID values: {unique_AlienMasterID}\")"
   ]
  },
  {
   "cell_type": "code",
   "execution_count": 5,
   "metadata": {},
   "outputs": [
    {
     "data": {
      "text/plain": [
       "2042246"
      ]
     },
     "execution_count": 5,
     "metadata": {},
     "output_type": "execute_result"
    }
   ],
   "source": [
    "# Span of AlienMaster ID values is greater than number of unique values, so some must be skipped.\n",
    "df['AlienMasterID'].max() - df['AlienMasterID'].min()"
   ]
  },
  {
   "cell_type": "markdown",
   "metadata": {},
   "source": [
    "No missing values in ID fields. IDs repeat."
   ]
  },
  {
   "cell_type": "code",
   "execution_count": 6,
   "metadata": {},
   "outputs": [
    {
     "name": "stdout",
     "output_type": "stream",
     "text": [
      "Unique MissionID values: 14961\n",
      "Unique MissionNumber values: 14961\n"
     ]
    }
   ],
   "source": [
    "unique_MissionID = len(set(df['MissionID']))\n",
    "assert sum(df['MissionID'].isnull()) == 0\n",
    "print(f\"Unique MissionID values: {unique_MissionID}\")\n",
    "\n",
    "unique_MissionNumber = len(set(df['MissionNumber']))\n",
    "assert sum(df['MissionNumber'].isnull()) == 0\n",
    "print(f\"Unique MissionNumber values: {unique_MissionNumber}\")"
   ]
  },
  {
   "cell_type": "markdown",
   "metadata": {},
   "source": [
    "One to one relationship of MissionID to MissionNumber. These fields seem to be equivalent. Ordering does not affect calculations."
   ]
  },
  {
   "cell_type": "code",
   "execution_count": 7,
   "metadata": {},
   "outputs": [
    {
     "name": "stdout",
     "output_type": "stream",
     "text": [
      "41172 unique flight segments, grouped by mission and date.\n"
     ]
    }
   ],
   "source": [
    "assert sum(df.groupby(['MissionID', 'MissionNumber'])['MissionNumber'].nunique() > 1) == 0\n",
    "assert sum(df.groupby(['MissionNumber', 'MissionID'])['MissionID'].nunique() > 1) == 0\n",
    "\n",
    "missions = df.groupby(['MissionDate', 'MissionID', 'MissionNumber', 'PULOC', 'DropLoc'])\n",
    "missions_alt = df.groupby(['MissionDate', 'MissionNumber', 'MissionID',  'PULOC', 'DropLoc'])\n",
    "assert len(missions) == len(missions_alt)\n",
    "del missions_alt\n",
    "mission_segments = len(missions)\n",
    "print(f\"{mission_segments} unique flight segments, grouped by mission and date.\")"
   ]
  },
  {
   "cell_type": "code",
   "execution_count": 8,
   "metadata": {},
   "outputs": [
    {
     "data": {
      "text/plain": [
       "2.7519550832163624"
      ]
     },
     "execution_count": 8,
     "metadata": {},
     "output_type": "execute_result"
    }
   ],
   "source": [
    "mission_segments / len(set(df['MissionID']))"
   ]
  },
  {
   "cell_type": "markdown",
   "metadata": {},
   "source": [
    "The following is a glimpse of flight segments from the first day in the dataset, showing how flight segments are grouped by `MissionID`/`MissionNumber`. We cannot assume that a unique combination of `PULOC` and `DropLoc` on a given mission represents a specific flight path, only the pickup and dropoff locations of each passenger. Missions can include a combination of both removal (`R`) and transfer (`T`) flights.\n",
    "\n",
    "If we take ICE's Data Dictionary on its face, each `MissionID`/`MissionNumber` represents a single flight, possibly with multiple pickup and dropoff stops on its itinerary. Reconstructing the exact flight itinerary from this data may not be possible, given that there are no timestamp values below the day level, nor any other explicit indications of consecutive flight segments, other than the original ordering of the records."
   ]
  },
  {
   "cell_type": "code",
   "execution_count": 9,
   "metadata": {},
   "outputs": [
    {
     "data": {
      "text/plain": [
       "MissionDate  MissionID  MissionNumber  R-T  PULOC  DropLoc\n",
       "2010-10-01   105        110005         T    KMDT   KAEX       122\n",
       "             106        110006         R    KHRL   MGGT        67\n",
       "                                            KSAT   MGGT        37\n",
       "             107        110007         R    KAEX   MHLM        97\n",
       "             108        110008         R    KMCI   KHRL        35\n",
       "                                            KORD   KHRL        63\n",
       "                                       T    KMCI   KAEX        10\n",
       "                                            KORD   KAEX        25\n",
       "             131        110002         R    KBFL   KSAN        13\n",
       "                                            KOAK   KSAN        43\n",
       "                                       T    KBFL   KIWA         3\n",
       "                                                   KSAN         8\n",
       "                                            KOAK   KIWA        13\n",
       "                                                   KSAN         5\n",
       "                                            KSAN   KIWA        29\n",
       "Name: AlienMasterID, dtype: int64"
      ]
     },
     "execution_count": 9,
     "metadata": {},
     "output_type": "execute_result"
    }
   ],
   "source": [
    "missions_rt = df.groupby(['MissionDate', 'MissionID', 'MissionNumber', 'R-T', 'PULOC', 'DropLoc'])\n",
    "missions_rt['AlienMasterID'].nunique().head(15)"
   ]
  },
  {
   "cell_type": "code",
   "execution_count": 10,
   "metadata": {},
   "outputs": [
    {
     "name": "stdout",
     "output_type": "stream",
     "text": [
      "Earliest record: 2010-10-01\n",
      "Earliest record: 2018-12-05\n"
     ]
    }
   ],
   "source": [
    "earliest_record = df['MissionDate'].min()\n",
    "print(f'Earliest record: {earliest_record.date()}')\n",
    "latest_record = df['MissionDate'].max()\n",
    "print(f'Earliest record: {latest_record.date()}')"
   ]
  },
  {
   "cell_type": "code",
   "execution_count": 11,
   "metadata": {},
   "outputs": [
    {
     "name": "stdout",
     "output_type": "stream",
     "text": [
      "Number of pickup airports: 81\n",
      "Number of dropoff airports: 206\n",
      "Total airports: 223\n"
     ]
    }
   ],
   "source": [
    "number_of_pickup_airports = len(set(df['PULOC'].dropna()))\n",
    "number_of_dropoff_airports = len(set(df['DropLoc'].dropna()))\n",
    "total_airports = len(set(df['PULOC']).union(set(df['DropLoc'])))\n",
    "print(f'Number of pickup airports: {number_of_pickup_airports}')\n",
    "print(f'Number of dropoff airports: {number_of_dropoff_airports}')\n",
    "print(f'Total airports: {total_airports}')"
   ]
  },
  {
   "cell_type": "code",
   "execution_count": 12,
   "metadata": {},
   "outputs": [
    {
     "name": "stdout",
     "output_type": "stream",
     "text": [
      "Number of pickup countries: 10\n",
      "Number of dropoff countries: 119\n",
      "Total countries: 119\n"
     ]
    }
   ],
   "source": [
    "number_of_pickup_countries = len(set(df['air_Country'].dropna()))\n",
    "number_of_dropoff_countries = len(set(df['air2_Country'].dropna()))\n",
    "total_countries = len(set(df['air_Country']).union(set(df['air2_Country'])))\n",
    "print(f'Number of pickup countries: {number_of_pickup_countries}')\n",
    "print(f'Number of dropoff countries: {number_of_dropoff_countries}')\n",
    "print(f'Total countries: {total_countries}')"
   ]
  },
  {
   "cell_type": "markdown",
   "metadata": {},
   "source": [
    "The number of unique pickup and dropoff airports represented in the dataset per year can be interpreted as a metric for the expansion of the ICE Air network over time."
   ]
  },
  {
   "cell_type": "code",
   "execution_count": 13,
   "metadata": {},
   "outputs": [],
   "source": [
    "droplocs_per_fy = df.resample('AS-OCT', on='MissionDate')['DropLoc']\n",
    "pulocs_per_fy = df.resample('AS-OCT', on='MissionDate')['PULOC']\n",
    "drop_countries_per_fy = df.resample('AS-OCT', on='MissionDate')['air2_Country']\n",
    "pu_countries_per_fy = df.resample('AS-OCT', on='MissionDate')['air_Country']"
   ]
  },
  {
   "cell_type": "code",
   "execution_count": 14,
   "metadata": {},
   "outputs": [],
   "source": [
    "assert sum(df['DropLoc'].isnull()) == 0\n",
    "assert sum(df['PULOC'].isnull()) == 0"
   ]
  },
  {
   "cell_type": "code",
   "execution_count": 15,
   "metadata": {},
   "outputs": [
    {
     "data": {
      "text/html": [
       "<div>\n",
       "<style scoped>\n",
       "    .dataframe tbody tr th:only-of-type {\n",
       "        vertical-align: middle;\n",
       "    }\n",
       "\n",
       "    .dataframe tbody tr th {\n",
       "        vertical-align: top;\n",
       "    }\n",
       "\n",
       "    .dataframe thead th {\n",
       "        text-align: right;\n",
       "    }\n",
       "</style>\n",
       "<table border=\"1\" class=\"dataframe\">\n",
       "  <thead>\n",
       "    <tr style=\"text-align: right;\">\n",
       "      <th></th>\n",
       "      <th>Unique Pickup Airports</th>\n",
       "      <th>Unique Dropoff Airports</th>\n",
       "      <th>Unique Destination Countries</th>\n",
       "    </tr>\n",
       "    <tr>\n",
       "      <th>FY</th>\n",
       "      <th></th>\n",
       "      <th></th>\n",
       "      <th></th>\n",
       "    </tr>\n",
       "  </thead>\n",
       "  <tbody>\n",
       "    <tr>\n",
       "      <th>2011</th>\n",
       "      <td>41</td>\n",
       "      <td>69</td>\n",
       "      <td>35</td>\n",
       "    </tr>\n",
       "    <tr>\n",
       "      <th>2012</th>\n",
       "      <td>44</td>\n",
       "      <td>78</td>\n",
       "      <td>42</td>\n",
       "    </tr>\n",
       "    <tr>\n",
       "      <th>2013</th>\n",
       "      <td>45</td>\n",
       "      <td>48</td>\n",
       "      <td>16</td>\n",
       "    </tr>\n",
       "    <tr>\n",
       "      <th>2014</th>\n",
       "      <td>41</td>\n",
       "      <td>62</td>\n",
       "      <td>20</td>\n",
       "    </tr>\n",
       "    <tr>\n",
       "      <th>2015</th>\n",
       "      <td>36</td>\n",
       "      <td>60</td>\n",
       "      <td>32</td>\n",
       "    </tr>\n",
       "    <tr>\n",
       "      <th>2016</th>\n",
       "      <td>39</td>\n",
       "      <td>86</td>\n",
       "      <td>53</td>\n",
       "    </tr>\n",
       "    <tr>\n",
       "      <th>2017</th>\n",
       "      <td>40</td>\n",
       "      <td>85</td>\n",
       "      <td>49</td>\n",
       "    </tr>\n",
       "    <tr>\n",
       "      <th>2018</th>\n",
       "      <td>40</td>\n",
       "      <td>107</td>\n",
       "      <td>69</td>\n",
       "    </tr>\n",
       "    <tr>\n",
       "      <th>2019</th>\n",
       "      <td>31</td>\n",
       "      <td>52</td>\n",
       "      <td>23</td>\n",
       "    </tr>\n",
       "  </tbody>\n",
       "</table>\n",
       "</div>"
      ],
      "text/plain": [
       "      Unique Pickup Airports  Unique Dropoff Airports  \\\n",
       "FY                                                      \n",
       "2011                      41                       69   \n",
       "2012                      44                       78   \n",
       "2013                      45                       48   \n",
       "2014                      41                       62   \n",
       "2015                      36                       60   \n",
       "2016                      39                       86   \n",
       "2017                      40                       85   \n",
       "2018                      40                      107   \n",
       "2019                      31                       52   \n",
       "\n",
       "      Unique Destination Countries  \n",
       "FY                                  \n",
       "2011                            35  \n",
       "2012                            42  \n",
       "2013                            16  \n",
       "2014                            20  \n",
       "2015                            32  \n",
       "2016                            53  \n",
       "2017                            49  \n",
       "2018                            69  \n",
       "2019                            23  "
      ]
     },
     "execution_count": 15,
     "metadata": {},
     "output_type": "execute_result"
    }
   ],
   "source": [
    "unique_droplocs = droplocs_per_fy.nunique()\n",
    "unique_pulocs = pulocs_per_fy.nunique()\n",
    "unique_countries = drop_countries_per_fy.nunique()\n",
    "expansion = pd.DataFrame({'Unique Pickup Airports': unique_pulocs,\n",
    "                          'Unique Dropoff Airports': unique_droplocs,\n",
    "                          'Unique Destination Countries': unique_countries})\n",
    "expansion.index = expansion.index.year + 1\n",
    "expansion.index.name = 'FY'\n",
    "# expansion.to_csv('../output/iceair-expansion.csv')\n",
    "expansion"
   ]
  },
  {
   "cell_type": "code",
   "execution_count": 16,
   "metadata": {},
   "outputs": [
    {
     "data": {
      "text/plain": [
       "40"
      ]
     },
     "execution_count": 16,
     "metadata": {},
     "output_type": "execute_result"
    }
   ],
   "source": [
    "expansion.loc[2018, 'Unique Pickup Airports']"
   ]
  },
  {
   "cell_type": "code",
   "execution_count": 17,
   "metadata": {},
   "outputs": [
    {
     "data": {
      "text/plain": [
       "<matplotlib.axes._subplots.AxesSubplot at 0x1a4ddc1f28>"
      ]
     },
     "execution_count": 17,
     "metadata": {},
     "output_type": "execute_result"
    },
    {
     "data": {
      "image/png": "[encoded data removed]",
      "text/plain": [
       "<Figure size 432x288 with 1 Axes>"
      ]
     },
     "metadata": {
      "needs_background": "light"
     },
     "output_type": "display_data"
    }
   ],
   "source": [
    "expansion.loc[2011:2018].plot()"
   ]
  },
  {
   "cell_type": "code",
   "execution_count": 18,
   "metadata": {},
   "outputs": [],
   "source": [
    "usa_pu = set(df.loc[df['air_Country'] == 'USA']['PULOC'])\n",
    "usa_drop = set(df.loc[df['air2_Country'] == 'USA']['DropLoc'])\n",
    "foreign_pu = set(df.loc[df['air_Country'] != 'USA']['PULOC'])\n",
    "foreign_drop = set(df.loc[df['air2_Country'] != 'USA']['DropLoc'])"
   ]
  },
  {
   "cell_type": "code",
   "execution_count": 19,
   "metadata": {},
   "outputs": [
    {
     "data": {
      "text/plain": [
       "88"
      ]
     },
     "execution_count": 19,
     "metadata": {},
     "output_type": "execute_result"
    }
   ],
   "source": [
    "len(usa_pu.union(usa_drop))"
   ]
  },
  {
   "cell_type": "code",
   "execution_count": 20,
   "metadata": {},
   "outputs": [
    {
     "data": {
      "text/plain": [
       "{'EDDF', 'MDSD', 'MGGT', 'MHLM', 'MKJP', 'MMMD', 'MSLP', 'MTPP', 'SEGU'}"
      ]
     },
     "execution_count": 20,
     "metadata": {},
     "output_type": "execute_result"
    }
   ],
   "source": [
    "foreign_pu"
   ]
  },
  {
   "cell_type": "code",
   "execution_count": 22,
   "metadata": {},
   "outputs": [
    {
     "data": {
      "text/plain": [
       "135"
      ]
     },
     "execution_count": 22,
     "metadata": {},
     "output_type": "execute_result"
    }
   ],
   "source": [
    "len(foreign_pu.union(foreign_drop))"
   ]
  },
  {
   "cell_type": "markdown",
   "metadata": {},
   "source": [
    "# Most common pickup, dropoff airports"
   ]
  },
  {
   "cell_type": "markdown",
   "metadata": {},
   "source": [
    "By unique `AlienMasterID` values:"
   ]
  },
  {
   "cell_type": "code",
   "execution_count": 23,
   "metadata": {},
   "outputs": [
    {
     "data": {
      "text/plain": [
       "Alexandria International Airport                        239893\n",
       "Brownsville South Padre Island International Airport    204895\n",
       "Phoenix-Mesa-Gateway Airport                            196139\n",
       "El Paso International Airport                           136127\n",
       "Valley International Airport                            124994\n",
       "San Antonio International Airport                       107434\n",
       "Columbus Metropolitan Airport                            80797\n",
       "Harrisburg International Airport                         76348\n",
       "Laredo International Airport                             56409\n",
       "Miami International Airport                              55588\n",
       "Name: air_AirportName, dtype: int64"
      ]
     },
     "execution_count": 23,
     "metadata": {},
     "output_type": "execute_result"
    }
   ],
   "source": [
    "df.drop_duplicates('AlienMasterID')['air_AirportName'].value_counts().head(10)"
   ]
  },
  {
   "cell_type": "code",
   "execution_count": 24,
   "metadata": {},
   "outputs": [
    {
     "data": {
      "text/plain": [
       "La Aurora Airport                                       326755\n",
       "Ramon Villeda Morales International Airport             202328\n",
       "Alexandria International Airport                        169316\n",
       "El Salvador International Airport                       157480\n",
       "Valley International Airport                            148679\n",
       "Phoenix-Mesa-Gateway Airport                             93892\n",
       "El Paso International Airport                            87186\n",
       "Licenciado Benito Juarez International Airport           85584\n",
       "Brownsville South Padre Island International Airport     66444\n",
       "San Diego International Airport                          62942\n",
       "Name: air2_AirportName, dtype: int64"
      ]
     },
     "execution_count": 24,
     "metadata": {},
     "output_type": "execute_result"
    }
   ],
   "source": [
    "df.drop_duplicates('AlienMasterID')['air2_AirportName'].value_counts().head(10)"
   ]
  },
  {
   "cell_type": "markdown",
   "metadata": {},
   "source": [
    "By unique `MissionID` values, an estimate of total number of flights (dropping duplicate date and mission values doesn't change calculation):"
   ]
  },
  {
   "cell_type": "code",
   "execution_count": 25,
   "metadata": {},
   "outputs": [
    {
     "data": {
      "text/plain": [
       "Phoenix-Mesa-Gateway Airport                            3185\n",
       "Alexandria International Airport                        3044\n",
       "Brownsville South Padre Island International Airport    1550\n",
       "San Antonio International Airport                       1475\n",
       "Miami International Airport                             1052\n",
       "Valley International Airport                             900\n",
       "El Paso International Airport                            750\n",
       "Columbus Metropolitan Airport                            369\n",
       "Laredo International Airport                             279\n",
       "Harrisburg International Airport                         259\n",
       "Name: air_AirportName, dtype: int64"
      ]
     },
     "execution_count": 25,
     "metadata": {},
     "output_type": "execute_result"
    }
   ],
   "source": [
    "count1 = df.drop_duplicates('MissionID')['air_AirportName'].value_counts()\n",
    "count2 = df.drop_duplicates(['MissionDate', 'MissionID'])['air_AirportName'].value_counts()\n",
    "assert sum(count1 == count2) == len(count1)\n",
    "del count1, count2\n",
    "df.drop_duplicates('MissionID')['air_AirportName'].value_counts().head(10)"
   ]
  },
  {
   "cell_type": "code",
   "execution_count": 26,
   "metadata": {},
   "outputs": [
    {
     "data": {
      "text/plain": [
       "La Aurora Airport                                 2924\n",
       "Ramon Villeda Morales International Airport       1735\n",
       "El Salvador International Airport                 1420\n",
       "Alexandria International Airport                   943\n",
       "Valley International Airport                       927\n",
       "Licenciado Benito Juarez International Airport     642\n",
       "San Diego International Airport                    623\n",
       "El Paso International Airport                      523\n",
       "Newark Liberty International Airport               403\n",
       "Harrisburg International Airport                   391\n",
       "Name: air2_AirportName, dtype: int64"
      ]
     },
     "execution_count": 26,
     "metadata": {},
     "output_type": "execute_result"
    }
   ],
   "source": [
    "count1 = df.drop_duplicates('MissionID')['air2_AirportName'].value_counts()\n",
    "count2 = df.drop_duplicates(['MissionDate', 'MissionID'])['air2_AirportName'].value_counts()\n",
    "assert sum(count1 == count2) == len(count1)\n",
    "del count1, count2\n",
    "df.drop_duplicates('MissionID')['air2_AirportName'].value_counts().head(10)"
   ]
  },
  {
   "cell_type": "code",
   "execution_count": 27,
   "metadata": {},
   "outputs": [
    {
     "name": "stdout",
     "output_type": "stream",
     "text": [
      "Number of pickup countries: 10\n",
      "Number of dropoff countries: 119\n",
      "Total countries in ICE Air network (including US): 119\n"
     ]
    }
   ],
   "source": [
    "pickup_countries = set(df['air_Country'].dropna())\n",
    "print(f'Number of pickup countries: {len(pickup_countries)}')\n",
    "dropoff_countries = set(df['air2_Country'].dropna())\n",
    "print(f'Number of dropoff countries: {len(dropoff_countries)}')\n",
    "all_countries = pickup_countries.union(dropoff_countries)\n",
    "print(f'Total countries in ICE Air network (including US): {len(dropoff_countries)}')"
   ]
  },
  {
   "cell_type": "markdown",
   "metadata": {},
   "source": [
    "Top nationalities:"
   ]
  },
  {
   "cell_type": "code",
   "execution_count": 28,
   "metadata": {},
   "outputs": [
    {
     "data": {
      "text/plain": [
       "MEXICO                567622\n",
       "GUATEMALA             421109\n",
       "HONDURAS              303920\n",
       "EL SALVADOR           256406\n",
       "DOMINICAN REPUBLIC     31703\n",
       "ECUADOR                25686\n",
       "HAITI                  23308\n",
       "NICARAGUA              18677\n",
       "COLOMBIA               14520\n",
       "JAMAICA                12798\n",
       "Name: CountryOfCitizenship, dtype: int64"
      ]
     },
     "execution_count": 28,
     "metadata": {},
     "output_type": "execute_result"
    }
   ],
   "source": [
    "df.drop_duplicates(subset='AlienMasterID')['CountryOfCitizenship'].value_counts().head(10)"
   ]
  },
  {
   "cell_type": "code",
   "execution_count": 29,
   "metadata": {},
   "outputs": [],
   "source": [
    "removals = df['R-T'] == 'R'\n",
    "transfers = df['R-T'] == 'T'\n",
    "\n",
    "removal_df = df[removals]\n",
    "transfer_df = df[transfers]"
   ]
  },
  {
   "cell_type": "markdown",
   "metadata": {},
   "source": [
    "Top nationalities for removals:"
   ]
  },
  {
   "cell_type": "code",
   "execution_count": 30,
   "metadata": {},
   "outputs": [
    {
     "data": {
      "text/plain": [
       "MEXICO                466107\n",
       "GUATEMALA             326523\n",
       "HONDURAS              223159\n",
       "EL SALVADOR           157245\n",
       "DOMINICAN REPUBLIC     14878\n",
       "ECUADOR                 9968\n",
       "HAITI                   8685\n",
       "NICARAGUA               8215\n",
       "COLOMBIA                7372\n",
       "JAMAICA                 6169\n",
       "Name: CountryOfCitizenship, dtype: int64"
      ]
     },
     "execution_count": 30,
     "metadata": {},
     "output_type": "execute_result"
    }
   ],
   "source": [
    "removal_df.drop_duplicates(subset='AlienMasterID')['CountryOfCitizenship'].value_counts().head(10)"
   ]
  },
  {
   "cell_type": "markdown",
   "metadata": {},
   "source": [
    "Top nationalities for transfers:"
   ]
  },
  {
   "cell_type": "code",
   "execution_count": 31,
   "metadata": {},
   "outputs": [
    {
     "data": {
      "text/plain": [
       "MEXICO                101514\n",
       "EL SALVADOR            99161\n",
       "GUATEMALA              94586\n",
       "HONDURAS               80748\n",
       "DOMINICAN REPUBLIC     16825\n",
       "ECUADOR                15717\n",
       "HAITI                  14623\n",
       "NICARAGUA              10462\n",
       "INDIA                   8557\n",
       "COLOMBIA                7148\n",
       "Name: CountryOfCitizenship, dtype: int64"
      ]
     },
     "execution_count": 31,
     "metadata": {},
     "output_type": "execute_result"
    }
   ],
   "source": [
    "transfer_df.drop_duplicates(subset='AlienMasterID')['CountryOfCitizenship'].value_counts().head(10)"
   ]
  },
  {
   "cell_type": "code",
   "execution_count": 148,
   "metadata": {},
   "outputs": [
    {
     "data": {
      "text/plain": [
       "4"
      ]
     },
     "execution_count": 148,
     "metadata": {},
     "output_type": "execute_result"
    }
   ],
   "source": [
    "removal_df.groupby('CountryOfCitizenship')['MissionID'].nunique()['MAURITANIA']"
   ]
  },
  {
   "cell_type": "code",
   "execution_count": 149,
   "metadata": {},
   "outputs": [
    {
     "data": {
      "text/plain": [
       "12"
      ]
     },
     "execution_count": 149,
     "metadata": {},
     "output_type": "execute_result"
    }
   ],
   "source": [
    "removal_df.groupby('CountryOfCitizenship')['AlienMasterID'].nunique()['MAURITANIA']"
   ]
  },
  {
   "cell_type": "code",
   "execution_count": 151,
   "metadata": {},
   "outputs": [
    {
     "data": {
      "text/plain": [
       "116"
      ]
     },
     "execution_count": 151,
     "metadata": {},
     "output_type": "execute_result"
    }
   ],
   "source": [
    "transfer_df.groupby('CountryOfCitizenship')['AlienMasterID'].nunique()['MAURITANIA']"
   ]
  },
  {
   "cell_type": "code",
   "execution_count": 164,
   "metadata": {},
   "outputs": [
    {
     "data": {
      "text/plain": [
       "R             1232870\n",
       "T              498692\n",
       "NaN                15\n",
       "Ineligible          2\n",
       "No-show             1\n",
       "Name: R-T, dtype: int64"
      ]
     },
     "execution_count": 164,
     "metadata": {},
     "output_type": "execute_result"
    }
   ],
   "source": [
    "df['R-T'].value_counts(dropna=False)"
   ]
  },
  {
   "cell_type": "code",
   "execution_count": 168,
   "metadata": {},
   "outputs": [
    {
     "data": {
      "text/plain": [
       "MissionDate\n",
       "2011-10-01    264230\n",
       "Freq: AS-OCT, Name: AlienMasterID, dtype: int64"
      ]
     },
     "execution_count": 168,
     "metadata": {},
     "output_type": "execute_result"
    }
   ],
   "source": [
    "rem"
   ]
  },
  {
   "cell_type": "markdown",
   "metadata": {},
   "source": [
    "# Status"
   ]
  },
  {
   "cell_type": "code",
   "execution_count": 32,
   "metadata": {},
   "outputs": [],
   "source": [
    "status_count = removal_df.drop_duplicates(subset='AlienMasterID')['Status'].str.upper().value_counts(dropna=False)"
   ]
  },
  {
   "cell_type": "code",
   "execution_count": 33,
   "metadata": {},
   "outputs": [],
   "source": [
    "status = pd.read_csv('../../share/resources/status.csv')"
   ]
  },
  {
   "cell_type": "code",
   "execution_count": 34,
   "metadata": {},
   "outputs": [],
   "source": [
    "valid_status_codes = list(status['Code'])"
   ]
  },
  {
   "cell_type": "code",
   "execution_count": 35,
   "metadata": {},
   "outputs": [],
   "source": [
    "status_dict = dict(zip(status['Code'], status['Status']))"
   ]
  },
  {
   "cell_type": "code",
   "execution_count": 36,
   "metadata": {},
   "outputs": [],
   "source": [
    "problematic = ['2A', '2B', '5C', '5D', '5E', '5F', '8A', '8B', '8D', '8G', '8H', '11']\n",
    "pending = ['2A', '2B', '8A', '8B', '8D']\n",
    "benefit = ['5C', '5D']\n",
    "expedited_admin = ['8F', '8G', '8H', '8I', '11']"
   ]
  },
  {
   "cell_type": "code",
   "execution_count": 37,
   "metadata": {},
   "outputs": [
    {
     "name": "stdout",
     "output_type": "stream",
     "text": [
      "ICE Air - All removals\n",
      "\n",
      "ICE status codes for passengers on direct removal flights.\n",
      "(Statuses which may raise due process concerns starred)\n",
      "\n",
      "838303 valid values.\n",
      "394567 invalid values.\n",
      "\n",
      "[1A]: 55093 (Voluntary Departure – Un-Expired and Un-Extended Voluntary Departure.)\n",
      "[1B]: 282 (Voluntary Departure - Extended Departure Period)\n",
      "[1C]: 8 (Exipred Voluntary Departure Period - Referred to Investigation)\n",
      "[2A]: *2223* (Deportable – Under Adjudication by IJ)\n",
      "[2B]: *96* (Deportable – Under Adjudication by BIA)\n",
      "[3]: 20557 (Deportable – Administratively Final Order)\n",
      "[5A]: 14 (Referred for Investigation - No Show for Hearing - No Final O...)\n",
      "[5B]: 797 (Removable – ICE Fugitive)\n",
      "[5C]: *16* (Relief Granted – Withholding of Deportation/Removal)\n",
      "[5D]: *86* (Final Order of Deportation/Removal – Deferred Action Granted.)\n",
      "[5E]: *32* (Relief Granted – Extended Voluntary Departure)\n",
      "[5F]: *57* (Unable to Obtain Travel Document)\n",
      "[8A]: *1489* (Excludable/Inadmissible – Hearing Not Commenced)\n",
      "[8B]: *4072* (Excludable/Inadmissible – Under Adjudication by an Immigration Judge.)\n",
      "[8C]: 116515 (Excludable/Inadmissible – Administrative Final Order Issued.)\n",
      "[8D]: *189* (Excludable/Inadmissible – Under Adjudication by BIA)\n",
      "[8E]: 3819 (Inadmissible – ICE Fugitive)\n",
      "[8F]: 265213 (Expedited Removal)\n",
      "[8G]: *45572* (Expedited Removal – Credible Fear Referral)\n",
      "[8H]: *2128* (Expedited Removal – Status Claim Referral)\n",
      "[8I]: 778 (Inadmissible – ICE Fugitive – Expedited Removal)\n",
      "[9]: 2599 (VR Under Safeguards)\n",
      "[10]: 105 (Visa Waiver Deportation/Removal)\n",
      "[11]: *19097* (Administrative Deportation/Removal)\n",
      "[12]: 3038 (Judicial Deportation / Removal)\n",
      "[13]: 18 (Section 250 Removal)\n",
      "[14]: 71 (Crewman, Stowaways, S-Visa Holders, 235 (c) cases)\n",
      "[15]: 85 (Terrorist Court Case (Title 5))\n",
      "[16]: 294254 (Reinstated Final Order)\n",
      "\n",
      "75057 problematic cases.\n"
     ]
    }
   ],
   "source": [
    "problematic_count = 0\n",
    "valid = removal_df['Status'].str.upper().isin(valid_status_codes)\n",
    "valid_count = sum(valid)\n",
    "invalid = ~removal_df['Status'].str.upper().isin(valid_status_codes)\n",
    "invalid_count = sum(invalid)\n",
    "\n",
    "print(f'ICE Air - All removals')\n",
    "print()\n",
    "print(f'ICE status codes for passengers on direct removal flights.')\n",
    "print(f'(Statuses which may raise due process concerns starred)')\n",
    "print()\n",
    "print(f'{valid_count} valid values.')\n",
    "print(f'{invalid_count} invalid values.')\n",
    "print()\n",
    "for c in valid_status_codes:\n",
    "    \n",
    "    try:\n",
    "        count = status_count[c]\n",
    "    except KeyError:\n",
    "        count = 0\n",
    "    \n",
    "    if c in problematic:\n",
    "        problematic_count = problematic_count + count\n",
    "        print(f'[{c}]: *{count}* ({status_dict[c]})')\n",
    "    else:\n",
    "        print(f'[{c}]: {count} ({status_dict[c]})')\n",
    "print()\n",
    "print(f'{problematic_count} problematic cases.')"
   ]
  },
  {
   "cell_type": "code",
   "execution_count": 38,
   "metadata": {},
   "outputs": [],
   "source": [
    "invalid_status = df[~df['Status'].isin(valid_status_codes)]\n",
    "status_counts = invalid_status['Status'].value_counts()\n",
    "bad_statuses = list(status_counts[status_counts > 0].index)"
   ]
  },
  {
   "cell_type": "code",
   "execution_count": 39,
   "metadata": {},
   "outputs": [
    {
     "data": {
      "text/plain": [
       "REMOVAL           231309\n",
       "RM                164378\n",
       "NO STATUS          50830\n",
       "NTA                20931\n",
       "TRANSFER - F/O     19507\n",
       "TRANSFER - NTA      9795\n",
       "REINSTATE           6819\n",
       "ER-TRANSFER         5917\n",
       "STAGER              4771\n",
       "NTA - TRANSFER      3036\n",
       "F/O - TRANSFER      2620\n",
       "TRANSFER            2174\n",
       "REINST              1800\n",
       "TRANSFER-NTA        1468\n",
       "WD                  1030\n",
       "FINAL ORDER          909\n",
       "JUVI                 845\n",
       "1/15/1900            747\n",
       "NTA-TRANSFER         680\n",
       "WA/NTA               666\n",
       "NTA-TRFD             663\n",
       "V/R                  635\n",
       "DEPORT               584\n",
       "REIN                 569\n",
       "RE-INSTATE           484\n",
       "Name: Status, dtype: int64"
      ]
     },
     "execution_count": 39,
     "metadata": {},
     "output_type": "execute_result"
    }
   ],
   "source": [
    "status_counts.head(25)"
   ]
  },
  {
   "cell_type": "markdown",
   "metadata": {},
   "source": [
    "## Status by FY for removals & transfers"
   ]
  },
  {
   "cell_type": "code",
   "execution_count": 40,
   "metadata": {},
   "outputs": [],
   "source": [
    "status_fy = removal_df.drop_duplicates(subset='AlienMasterID').resample('AS-OCT', on='MissionDate')['Status'].value_counts().unstack()"
   ]
  },
  {
   "cell_type": "code",
   "execution_count": 41,
   "metadata": {},
   "outputs": [],
   "source": [
    "total = removal_df.drop_duplicates(subset='AlienMasterID').resample('AS-OCT', on='MissionDate')['AlienMasterID'].nunique()"
   ]
  },
  {
   "cell_type": "code",
   "execution_count": 42,
   "metadata": {},
   "outputs": [
    {
     "data": {
      "text/html": [
       "<div>\n",
       "<style scoped>\n",
       "    .dataframe tbody tr th:only-of-type {\n",
       "        vertical-align: middle;\n",
       "    }\n",
       "\n",
       "    .dataframe tbody tr th {\n",
       "        vertical-align: top;\n",
       "    }\n",
       "\n",
       "    .dataframe thead th {\n",
       "        text-align: right;\n",
       "    }\n",
       "</style>\n",
       "<table border=\"1\" class=\"dataframe\">\n",
       "  <thead>\n",
       "    <tr style=\"text-align: right;\">\n",
       "      <th>Status</th>\n",
       "      <th>8F</th>\n",
       "      <th>8G</th>\n",
       "      <th>8H</th>\n",
       "      <th>8I</th>\n",
       "      <th>11</th>\n",
       "    </tr>\n",
       "    <tr>\n",
       "      <th>MissionDate</th>\n",
       "      <th></th>\n",
       "      <th></th>\n",
       "      <th></th>\n",
       "      <th></th>\n",
       "      <th></th>\n",
       "    </tr>\n",
       "  </thead>\n",
       "  <tbody>\n",
       "    <tr>\n",
       "      <th>2010-10-01</th>\n",
       "      <td>9899.0</td>\n",
       "      <td>1.0</td>\n",
       "      <td>NaN</td>\n",
       "      <td>NaN</td>\n",
       "      <td>174.0</td>\n",
       "    </tr>\n",
       "    <tr>\n",
       "      <th>2011-10-01</th>\n",
       "      <td>22038.0</td>\n",
       "      <td>NaN</td>\n",
       "      <td>NaN</td>\n",
       "      <td>NaN</td>\n",
       "      <td>92.0</td>\n",
       "    </tr>\n",
       "    <tr>\n",
       "      <th>2012-10-01</th>\n",
       "      <td>52132.0</td>\n",
       "      <td>462.0</td>\n",
       "      <td>9.0</td>\n",
       "      <td>5.0</td>\n",
       "      <td>2298.0</td>\n",
       "    </tr>\n",
       "    <tr>\n",
       "      <th>2013-10-01</th>\n",
       "      <td>53894.0</td>\n",
       "      <td>2556.0</td>\n",
       "      <td>164.0</td>\n",
       "      <td>33.0</td>\n",
       "      <td>3008.0</td>\n",
       "    </tr>\n",
       "    <tr>\n",
       "      <th>2014-10-01</th>\n",
       "      <td>32056.0</td>\n",
       "      <td>4049.0</td>\n",
       "      <td>61.0</td>\n",
       "      <td>80.0</td>\n",
       "      <td>3832.0</td>\n",
       "    </tr>\n",
       "    <tr>\n",
       "      <th>2015-10-01</th>\n",
       "      <td>29940.0</td>\n",
       "      <td>10335.0</td>\n",
       "      <td>246.0</td>\n",
       "      <td>128.0</td>\n",
       "      <td>3741.0</td>\n",
       "    </tr>\n",
       "    <tr>\n",
       "      <th>2016-10-01</th>\n",
       "      <td>26146.0</td>\n",
       "      <td>13062.0</td>\n",
       "      <td>1264.0</td>\n",
       "      <td>214.0</td>\n",
       "      <td>2913.0</td>\n",
       "    </tr>\n",
       "    <tr>\n",
       "      <th>2017-10-01</th>\n",
       "      <td>32818.0</td>\n",
       "      <td>12421.0</td>\n",
       "      <td>346.0</td>\n",
       "      <td>273.0</td>\n",
       "      <td>2640.0</td>\n",
       "    </tr>\n",
       "    <tr>\n",
       "      <th>2018-10-01</th>\n",
       "      <td>6290.0</td>\n",
       "      <td>2686.0</td>\n",
       "      <td>38.0</td>\n",
       "      <td>45.0</td>\n",
       "      <td>399.0</td>\n",
       "    </tr>\n",
       "  </tbody>\n",
       "</table>\n",
       "</div>"
      ],
      "text/plain": [
       "Status            8F       8G      8H     8I      11\n",
       "MissionDate                                         \n",
       "2010-10-01    9899.0      1.0     NaN    NaN   174.0\n",
       "2011-10-01   22038.0      NaN     NaN    NaN    92.0\n",
       "2012-10-01   52132.0    462.0     9.0    5.0  2298.0\n",
       "2013-10-01   53894.0   2556.0   164.0   33.0  3008.0\n",
       "2014-10-01   32056.0   4049.0    61.0   80.0  3832.0\n",
       "2015-10-01   29940.0  10335.0   246.0  128.0  3741.0\n",
       "2016-10-01   26146.0  13062.0  1264.0  214.0  2913.0\n",
       "2017-10-01   32818.0  12421.0   346.0  273.0  2640.0\n",
       "2018-10-01    6290.0   2686.0    38.0   45.0   399.0"
      ]
     },
     "execution_count": 42,
     "metadata": {},
     "output_type": "execute_result"
    }
   ],
   "source": [
    "status_fy[expedited_admin]"
   ]
  },
  {
   "cell_type": "code",
   "execution_count": 43,
   "metadata": {},
   "outputs": [],
   "source": [
    "status_fy[valid_status_codes].to_csv('../output/valid_status_by_year.csv')"
   ]
  },
  {
   "cell_type": "code",
   "execution_count": 44,
   "metadata": {},
   "outputs": [],
   "source": [
    "all_others = status_fy[status_fy.columns[~status_fy.columns.isin(valid_status_codes)]].sum(axis=1)\n",
    "all_others.name = 'all_others'"
   ]
  },
  {
   "cell_type": "code",
   "execution_count": 45,
   "metadata": {},
   "outputs": [],
   "source": [
    "status_table = pd.concat([status_fy[valid_status_codes], all_others], axis=1).T"
   ]
  },
  {
   "cell_type": "code",
   "execution_count": 46,
   "metadata": {},
   "outputs": [],
   "source": [
    "status_table.to_csv('../output/removal_status_by_year.csv')\n",
    "(status_table/total).to_csv('../output/removal_status_by_year_percent.csv')"
   ]
  },
  {
   "cell_type": "markdown",
   "metadata": {},
   "source": [
    "# Removal versus transfer rates\n",
    "\n",
    "We might be interested in whether some groups are disproportionately transferred prior to removal. However, these values will be highly skewed because some groups have very few total removals, and high rate of transfer does not necessarily imply rights violations."
   ]
  },
  {
   "cell_type": "code",
   "execution_count": 47,
   "metadata": {},
   "outputs": [],
   "source": [
    "removal_count = df.loc[df['R-T'] == 'R'].drop_duplicates(subset='AlienMasterID')['CountryOfCitizenship'].value_counts()\n",
    "transfer_count =  df.loc[df['R-T'] == 'T'].drop_duplicates(subset='AlienMasterID')['CountryOfCitizenship'].value_counts()\n",
    "transfer_rate = (transfer_count / removal_count).sort_values(ascending = False)\n",
    "valid_comparisons = transfer_rate[transfer_rate != np.inf]"
   ]
  },
  {
   "cell_type": "code",
   "execution_count": 48,
   "metadata": {},
   "outputs": [],
   "source": [
    "country = \"GUATEMALA\""
   ]
  },
  {
   "cell_type": "code",
   "execution_count": 49,
   "metadata": {},
   "outputs": [
    {
     "name": "stdout",
     "output_type": "stream",
     "text": [
      "GUATEMALA: 0.29 transfers per removal (94586/326523)\n"
     ]
    }
   ],
   "source": [
    "print(f'{country}: {round(valid_comparisons[country], 3)} transfers per removal ({transfer_count[country]}/{removal_count[country]})')"
   ]
  },
  {
   "cell_type": "markdown",
   "metadata": {},
   "source": [
    "# Most common, most passenger flight paths"
   ]
  },
  {
   "cell_type": "markdown",
   "metadata": {},
   "source": [
    "We can rank flight paths by number of missions or unique passengers, perhaps for calculating costs of a common flight path."
   ]
  },
  {
   "cell_type": "code",
   "execution_count": 50,
   "metadata": {},
   "outputs": [],
   "source": [
    "most_common_flight_paths = df.groupby(['PULOC','DropLoc'])['MissionID'].nunique()\n",
    "most_common_flight_path = most_common_flight_paths.idxmax()\n",
    "most_common_flight_path_count =  most_common_flight_paths[most_common_flight_path]\n",
    "most_passenger_flight_paths = df.groupby(['PULOC','DropLoc'])['AlienMasterID'].nunique()\n",
    "most_passenger_flight_path = most_passenger_flight_paths.idxmax()\n",
    "most_passenger_flight_path_count = most_passenger_flight_paths[most_passenger_flight_path]"
   ]
  },
  {
   "cell_type": "code",
   "execution_count": 51,
   "metadata": {},
   "outputs": [
    {
     "name": "stdout",
     "output_type": "stream",
     "text": [
      "Most frequent flight path: ('KOAK', 'KSAN'), 919 missions\n",
      "Flight path with most passengers: ('KBRO', 'MGGT'), 91714 passengers\n"
     ]
    }
   ],
   "source": [
    "print(f'Most frequent flight path: {most_common_flight_path}, {most_common_flight_path_count} missions')\n",
    "print(f'Flight path with most passengers: {most_passenger_flight_path}, {most_passenger_flight_path_count} passengers')"
   ]
  },
  {
   "cell_type": "code",
   "execution_count": 52,
   "metadata": {},
   "outputs": [],
   "source": [
    "most_passenger_flight_path_trips = df.groupby(['PULOC','DropLoc'])['MissionNumber'].nunique()[most_passenger_flight_path]"
   ]
  },
  {
   "cell_type": "code",
   "execution_count": 53,
   "metadata": {},
   "outputs": [],
   "source": [
    "cost_per_hour = 7785"
   ]
  },
  {
   "cell_type": "code",
   "execution_count": 54,
   "metadata": {},
   "outputs": [],
   "source": [
    "kbro_to_mggt_duration_hrs = 5"
   ]
  },
  {
   "cell_type": "code",
   "execution_count": 55,
   "metadata": {},
   "outputs": [
    {
     "data": {
      "text/plain": [
       "35694225"
      ]
     },
     "execution_count": 55,
     "metadata": {},
     "output_type": "execute_result"
    }
   ],
   "source": [
    "most_passenger_flight_path_trips * kbro_to_mggt_duration_hrs * cost_per_hour"
   ]
  },
  {
   "cell_type": "code",
   "execution_count": 56,
   "metadata": {},
   "outputs": [],
   "source": [
    "flight_path_rank = most_common_flight_paths.sort_values(ascending=False).reset_index()"
   ]
  },
  {
   "cell_type": "code",
   "execution_count": 57,
   "metadata": {},
   "outputs": [],
   "source": [
    "flight_path_cross_table = most_common_flight_paths.unstack()\n",
    "passenger_count_cross_table = most_passenger_flight_paths.unstack()"
   ]
  },
  {
   "cell_type": "markdown",
   "metadata": {},
   "source": [
    "This is probably not a super interesting way to display this info but..."
   ]
  },
  {
   "cell_type": "code",
   "execution_count": 58,
   "metadata": {},
   "outputs": [
    {
     "data": {
      "text/plain": [
       "<matplotlib.axes._subplots.AxesSubplot at 0x1a4ee10240>"
      ]
     },
     "execution_count": 58,
     "metadata": {},
     "output_type": "execute_result"
    },
    {
     "data": {
      "image/png": "[encoded data removed]",
      "text/plain": [
       "<Figure size 432x288 with 2 Axes>"
      ]
     },
     "metadata": {
      "needs_background": "light"
     },
     "output_type": "display_data"
    }
   ],
   "source": [
    "sns.heatmap(flight_path_cross_table)"
   ]
  },
  {
   "cell_type": "markdown",
   "metadata": {},
   "source": [
    "# Trend charts"
   ]
  },
  {
   "cell_type": "markdown",
   "metadata": {},
   "source": [
    "Charts for global trends in the ICE Air dataset, starting with simple plot of total removals and transfers per fiscal year (excluding FY19):"
   ]
  },
  {
   "cell_type": "code",
   "execution_count": 59,
   "metadata": {},
   "outputs": [],
   "source": [
    "removal_df = df.loc[df['R-T'] == 'R']\n",
    "transfer_df = df.loc[df['R-T'] == 'T']\n",
    "removal_df.set_index('MissionDate', inplace=True)\n",
    "transfer_df.set_index('MissionDate', inplace=True)"
   ]
  },
  {
   "cell_type": "code",
   "execution_count": 60,
   "metadata": {},
   "outputs": [],
   "source": [
    "removal_percent = len(df.loc[df['R-T'] == 'R']) / len(df)\n",
    "transfer_percent = len(df.loc[df['R-T'] == 'T']) / len(df)"
   ]
  },
  {
   "cell_type": "code",
   "execution_count": 61,
   "metadata": {},
   "outputs": [
    {
     "data": {
      "text/plain": [
       "15.0"
      ]
     },
     "execution_count": 61,
     "metadata": {},
     "output_type": "execute_result"
    }
   ],
   "source": [
    "round((len(set(df['MissionID'])) / 1000), 1)"
   ]
  },
  {
   "cell_type": "code",
   "execution_count": 62,
   "metadata": {},
   "outputs": [],
   "source": [
    "df.name = 'Passengers'\n",
    "removal_df.name = 'Removals'\n",
    "transfer_df.name = 'Transfers'"
   ]
  },
  {
   "cell_type": "code",
   "execution_count": 63,
   "metadata": {},
   "outputs": [],
   "source": [
    "df.set_index('MissionDate', inplace=True)"
   ]
  },
  {
   "cell_type": "code",
   "execution_count": 64,
   "metadata": {},
   "outputs": [],
   "source": [
    "total_passengers = df['AlienMasterID'].resample('AS-OCT').nunique().rename('Total passengers', inplace=True)\n",
    "annual_removals = removal_df['AlienMasterID'].resample('AS-OCT').nunique().rename('Total removals', inplace=True)\n",
    "annual_transfers = transfer_df['AlienMasterID'].resample('AS-OCT').nunique().rename('Total transfers', inplace=True)\n",
    "annual_removal_flights = removal_df['MissionID'].resample('AS-OCT').nunique()\n",
    "annual_transfer_flights = transfer_df['MissionID'].resample('AS-OCT').nunique()"
   ]
  },
  {
   "cell_type": "code",
   "execution_count": 121,
   "metadata": {},
   "outputs": [
    {
     "data": {
      "image/png": "[encoded data removed]",
      "text/plain": [
       "<Figure size 720x576 with 1 Axes>"
      ]
     },
     "metadata": {
      "needs_background": "light"
     },
     "output_type": "display_data"
    }
   ],
   "source": [
    "def pickup_dropoff_trend(data):\n",
    "    \n",
    "    fig, ax = plt.subplots()\n",
    "    \n",
    "    for datum in data:\n",
    "        ax = datum.plot(style='o-', legend=True)\n",
    "    \n",
    "    ax.set_axisbelow(True)\n",
    "    ax.set_ylabel('Total Passengers', fontsize=16)\n",
    "    ax.set_ylim(0)\n",
    "    ax.set_xticklabels([f'FY{str(x)[2:4]}' for x in range(2010,2019)])\n",
    "    ax.set_xlabel('Fiscal Year', fontsize=16)\n",
    "    ax.set_title(f'ICE Air Global Trends', fontsize=18)\n",
    "    ax.tick_params(labelsize=14)\n",
    "    ax.legend(fontsize=14)\n",
    "    ax.set_facecolor('#EEEEEE')\n",
    "    ax.grid(color='#FFFFFF')\n",
    "    \n",
    "    fig.set_size_inches(10, 8)\n",
    "    fig.savefig(f'../output/ICE-Air-Global-Trends.png', dpi=100)\n",
    "    return fig, ax\n",
    "\n",
    "plot = pickup_dropoff_trend([annual_removals['2010':'2017'], annual_transfers['2010':'2017']]);"
   ]
  },
  {
   "cell_type": "code",
   "execution_count": 82,
   "metadata": {},
   "outputs": [],
   "source": [
    "r_t_annual = pd.DataFrame({'Removals': annual_removals['2010':'2017'], 'Transfers': annual_transfers['2010':'2017']})\n",
    "r_t_annual.index = [f'FY{str(x)[2:4]}' for x in r_t_annual.index.year + 1]"
   ]
  },
  {
   "cell_type": "code",
   "execution_count": 172,
   "metadata": {},
   "outputs": [
    {
     "data": {
      "text/plain": [
       "264230"
      ]
     },
     "execution_count": 172,
     "metadata": {},
     "output_type": "execute_result"
    }
   ],
   "source": [
    "r_t_annual.loc['FY12'].sum()"
   ]
  },
  {
   "cell_type": "code",
   "execution_count": 128,
   "metadata": {},
   "outputs": [],
   "source": [
    "def removal_transfer_bar(data, title=str, filename=str, xlabel=str, ylabel=str):\n",
    "    \n",
    "    fig, ax = plt.subplots()\n",
    "    \n",
    "    data.plot(kind='bar', stacked=True, legend=True, ax=ax).legend(bbox_to_anchor=(1,1))\n",
    "    \n",
    "    ax.set_axisbelow(True)\n",
    "    ax.set_ylabel(ylabel, fontsize=16)\n",
    "    ax.set_xlabel(xlabel, fontsize=16)\n",
    "    \n",
    "    ax.set_title(title, fontsize=18)\n",
    "    ax.tick_params(labelsize=14)\n",
    "    plt.xticks(rotation=0)\n",
    "    ax.set_facecolor('#EEEEEE')\n",
    "    ax.grid(color='#FFFFFF')\n",
    "    \n",
    "    fig.set_size_inches(10, 8)\n",
    "    fig.savefig(f'../output/{filename}.png', dpi=100)\n",
    "    return fig, ax"
   ]
  },
  {
   "cell_type": "code",
   "execution_count": 129,
   "metadata": {},
   "outputs": [
    {
     "data": {
      "image/png": "[encoded data removed]",
      "text/plain": [
       "<Figure size 720x576 with 1 Axes>"
      ]
     },
     "metadata": {
      "needs_background": "light"
     },
     "output_type": "display_data"
    }
   ],
   "source": [
    "removal_transfer_bar(r_t_annual,\n",
    "                     title=f'ICE Air Annual Passengers',\n",
    "                     filename=f'annual_passengers_bar',\n",
    "                     ylabel=f'Total Passengers',\n",
    "                     xlabel='Fiscal Year');"
   ]
  },
  {
   "cell_type": "code",
   "execution_count": 179,
   "metadata": {},
   "outputs": [
    {
     "data": {
      "text/plain": [
       "'FY16'"
      ]
     },
     "execution_count": 179,
     "metadata": {},
     "output_type": "execute_result"
    }
   ],
   "source": [
    "r_t_annual['Removals'].idxmin()"
   ]
  },
  {
   "cell_type": "code",
   "execution_count": 180,
   "metadata": {},
   "outputs": [
    {
     "data": {
      "text/html": [
       "<div>\n",
       "<style scoped>\n",
       "    .dataframe tbody tr th:only-of-type {\n",
       "        vertical-align: middle;\n",
       "    }\n",
       "\n",
       "    .dataframe tbody tr th {\n",
       "        vertical-align: top;\n",
       "    }\n",
       "\n",
       "    .dataframe thead th {\n",
       "        text-align: right;\n",
       "    }\n",
       "</style>\n",
       "<table border=\"1\" class=\"dataframe\">\n",
       "  <thead>\n",
       "    <tr style=\"text-align: right;\">\n",
       "      <th></th>\n",
       "      <th>Removals</th>\n",
       "      <th>Transfers</th>\n",
       "    </tr>\n",
       "  </thead>\n",
       "  <tbody>\n",
       "    <tr>\n",
       "      <th>FY11</th>\n",
       "      <td>182447</td>\n",
       "      <td>45011</td>\n",
       "    </tr>\n",
       "    <tr>\n",
       "      <th>FY12</th>\n",
       "      <td>205814</td>\n",
       "      <td>58416</td>\n",
       "    </tr>\n",
       "    <tr>\n",
       "      <th>FY13</th>\n",
       "      <td>189259</td>\n",
       "      <td>68065</td>\n",
       "    </tr>\n",
       "    <tr>\n",
       "      <th>FY14</th>\n",
       "      <td>166204</td>\n",
       "      <td>82989</td>\n",
       "    </tr>\n",
       "    <tr>\n",
       "      <th>FY15</th>\n",
       "      <td>108554</td>\n",
       "      <td>48392</td>\n",
       "    </tr>\n",
       "    <tr>\n",
       "      <th>FY16</th>\n",
       "      <td>106880</td>\n",
       "      <td>61352</td>\n",
       "    </tr>\n",
       "    <tr>\n",
       "      <th>FY17</th>\n",
       "      <td>116231</td>\n",
       "      <td>64097</td>\n",
       "    </tr>\n",
       "    <tr>\n",
       "      <th>FY18</th>\n",
       "      <td>132249</td>\n",
       "      <td>58352</td>\n",
       "    </tr>\n",
       "  </tbody>\n",
       "</table>\n",
       "</div>"
      ],
      "text/plain": [
       "      Removals  Transfers\n",
       "FY11    182447      45011\n",
       "FY12    205814      58416\n",
       "FY13    189259      68065\n",
       "FY14    166204      82989\n",
       "FY15    108554      48392\n",
       "FY16    106880      61352\n",
       "FY17    116231      64097\n",
       "FY18    132249      58352"
      ]
     },
     "execution_count": 180,
     "metadata": {},
     "output_type": "execute_result"
    }
   ],
   "source": [
    "r_t_annual"
   ]
  },
  {
   "cell_type": "markdown",
   "metadata": {},
   "source": [
    "# Charts of nationalities per year"
   ]
  },
  {
   "cell_type": "markdown",
   "metadata": {},
   "source": [
    "## Top 5 per year"
   ]
  },
  {
   "cell_type": "markdown",
   "metadata": {},
   "source": [
    "To look at removals or other variables by `CountryOfCitizenship` per fiscal year (excluding FY19), we will want to select most common values and sum the rest, in order to create a clean chart. Method below selects top 5 nationalities per year, and sums the rest as \"ALL OTHERS\".\n",
    "\n",
    "This is slightly counterintuitive, for example it creates illusion of no Dominican Republic removals in FY17. Maybe better solution would be to display for each year any nationality that is in top 5 for any given year. Alternatively, we could just plot top 5 values, or include several more over a certain threshold. Or we could plot all values for nationalities which are in the top 5 for any year."
   ]
  },
  {
   "cell_type": "code",
   "execution_count": 130,
   "metadata": {},
   "outputs": [],
   "source": [
    "# df.set_index('MissionDate', inplace=True)"
   ]
  },
  {
   "cell_type": "code",
   "execution_count": 131,
   "metadata": {},
   "outputs": [],
   "source": [
    "# Set DataFrame or subset to chart here. Remember to set name as well.\n",
    "df_to_analyze = removal_df\n",
    "df_to_analyze.name = removal_df.name"
   ]
  },
  {
   "cell_type": "code",
   "execution_count": 132,
   "metadata": {},
   "outputs": [],
   "source": [
    "g = df_to_analyze.groupby([pd.Grouper(freq='AS-OCT', sort=True), 'CountryOfCitizenship'])['AlienMasterID', 'MissionID'].nunique()\n",
    "country_of_citizenship_by_year = g.reset_index()\n",
    "country_of_citizenship_by_year.rename({'MissionDate': 'FY'}, axis='columns', inplace=True)\n",
    "country_of_citizenship_by_year.set_index('FY', inplace=True)\n",
    "country_of_citizenship_by_year.sort_values(by='AlienMasterID', ascending=False, inplace=True)\n",
    "\n",
    "# country_of_citizenship_by_year.to_csv(f'../output/{airport}_country_of_citizenship_by_year.csv', index=True)"
   ]
  },
  {
   "cell_type": "code",
   "execution_count": 133,
   "metadata": {},
   "outputs": [],
   "source": [
    "# Selecting only years for which we have full data (FY2011 - FY2018).\n",
    "country_of_citizenship_by_year = country_of_citizenship_by_year['2010':'2017']"
   ]
  },
  {
   "cell_type": "code",
   "execution_count": 134,
   "metadata": {},
   "outputs": [],
   "source": [
    "removal_nationality_by_year = country_of_citizenship_by_year.groupby([pd.Grouper(freq='AS-OCT'),'CountryOfCitizenship'])[['AlienMasterID']].sum().dropna(how='all',axis=0).unstack()\n",
    "# removal_nationality_by_year.to_csv(f'../output/removal_nationality_by_year.csv')"
   ]
  },
  {
   "cell_type": "code",
   "execution_count": 135,
   "metadata": {},
   "outputs": [
    {
     "data": {
      "text/html": [
       "<div>\n",
       "<style scoped>\n",
       "    .dataframe tbody tr th:only-of-type {\n",
       "        vertical-align: middle;\n",
       "    }\n",
       "\n",
       "    .dataframe tbody tr th {\n",
       "        vertical-align: top;\n",
       "    }\n",
       "\n",
       "    .dataframe thead tr th {\n",
       "        text-align: left;\n",
       "    }\n",
       "\n",
       "    .dataframe thead tr:last-of-type th {\n",
       "        text-align: right;\n",
       "    }\n",
       "</style>\n",
       "<table border=\"1\" class=\"dataframe\">\n",
       "  <thead>\n",
       "    <tr>\n",
       "      <th></th>\n",
       "      <th colspan=\"21\" halign=\"left\">AlienMasterID</th>\n",
       "    </tr>\n",
       "    <tr>\n",
       "      <th>CountryOfCitizenship</th>\n",
       "      <th>BRAZIL</th>\n",
       "      <th>CAMEROON</th>\n",
       "      <th>CAPE VERDE</th>\n",
       "      <th>CHINA</th>\n",
       "      <th>COLOMBIA</th>\n",
       "      <th>CUBA</th>\n",
       "      <th>DOMINICAN REPUBLIC</th>\n",
       "      <th>ECUADOR</th>\n",
       "      <th>EL SALVADOR</th>\n",
       "      <th>GHANA</th>\n",
       "      <th>...</th>\n",
       "      <th>SOUTH AFRICA</th>\n",
       "      <th>ST. LUCIA</th>\n",
       "      <th>BURKINA FASO</th>\n",
       "      <th>SOUTH SUDAN</th>\n",
       "      <th>ANTIGUA &amp; BARBUDA</th>\n",
       "      <th>BURMA</th>\n",
       "      <th>SAMOA</th>\n",
       "      <th>UNITED ARAB EMIRATES</th>\n",
       "      <th>PALESTINIAN</th>\n",
       "      <th>NAMIBIA</th>\n",
       "    </tr>\n",
       "    <tr>\n",
       "      <th>FY</th>\n",
       "      <th></th>\n",
       "      <th></th>\n",
       "      <th></th>\n",
       "      <th></th>\n",
       "      <th></th>\n",
       "      <th></th>\n",
       "      <th></th>\n",
       "      <th></th>\n",
       "      <th></th>\n",
       "      <th></th>\n",
       "      <th></th>\n",
       "      <th></th>\n",
       "      <th></th>\n",
       "      <th></th>\n",
       "      <th></th>\n",
       "      <th></th>\n",
       "      <th></th>\n",
       "      <th></th>\n",
       "      <th></th>\n",
       "      <th></th>\n",
       "      <th></th>\n",
       "    </tr>\n",
       "  </thead>\n",
       "  <tbody>\n",
       "    <tr>\n",
       "      <th>2010-10-01</th>\n",
       "      <td>1.0</td>\n",
       "      <td>2.0</td>\n",
       "      <td>4.0</td>\n",
       "      <td>6.0</td>\n",
       "      <td>1059.0</td>\n",
       "      <td>31.0</td>\n",
       "      <td>2343.0</td>\n",
       "      <td>1436.0</td>\n",
       "      <td>15817.0</td>\n",
       "      <td>17.0</td>\n",
       "      <td>...</td>\n",
       "      <td>NaN</td>\n",
       "      <td>NaN</td>\n",
       "      <td>NaN</td>\n",
       "      <td>NaN</td>\n",
       "      <td>NaN</td>\n",
       "      <td>NaN</td>\n",
       "      <td>NaN</td>\n",
       "      <td>NaN</td>\n",
       "      <td>NaN</td>\n",
       "      <td>NaN</td>\n",
       "    </tr>\n",
       "    <tr>\n",
       "      <th>2011-10-01</th>\n",
       "      <td>NaN</td>\n",
       "      <td>1.0</td>\n",
       "      <td>NaN</td>\n",
       "      <td>NaN</td>\n",
       "      <td>1020.0</td>\n",
       "      <td>34.0</td>\n",
       "      <td>2281.0</td>\n",
       "      <td>1593.0</td>\n",
       "      <td>18107.0</td>\n",
       "      <td>14.0</td>\n",
       "      <td>...</td>\n",
       "      <td>NaN</td>\n",
       "      <td>NaN</td>\n",
       "      <td>NaN</td>\n",
       "      <td>NaN</td>\n",
       "      <td>NaN</td>\n",
       "      <td>NaN</td>\n",
       "      <td>NaN</td>\n",
       "      <td>NaN</td>\n",
       "      <td>NaN</td>\n",
       "      <td>NaN</td>\n",
       "    </tr>\n",
       "    <tr>\n",
       "      <th>2012-10-01</th>\n",
       "      <td>NaN</td>\n",
       "      <td>NaN</td>\n",
       "      <td>NaN</td>\n",
       "      <td>NaN</td>\n",
       "      <td>943.0</td>\n",
       "      <td>16.0</td>\n",
       "      <td>1849.0</td>\n",
       "      <td>1318.0</td>\n",
       "      <td>20178.0</td>\n",
       "      <td>NaN</td>\n",
       "      <td>...</td>\n",
       "      <td>NaN</td>\n",
       "      <td>NaN</td>\n",
       "      <td>NaN</td>\n",
       "      <td>NaN</td>\n",
       "      <td>NaN</td>\n",
       "      <td>NaN</td>\n",
       "      <td>NaN</td>\n",
       "      <td>NaN</td>\n",
       "      <td>NaN</td>\n",
       "      <td>NaN</td>\n",
       "    </tr>\n",
       "    <tr>\n",
       "      <th>2013-10-01</th>\n",
       "      <td>NaN</td>\n",
       "      <td>7.0</td>\n",
       "      <td>NaN</td>\n",
       "      <td>NaN</td>\n",
       "      <td>865.0</td>\n",
       "      <td>6.0</td>\n",
       "      <td>1747.0</td>\n",
       "      <td>1377.0</td>\n",
       "      <td>26507.0</td>\n",
       "      <td>NaN</td>\n",
       "      <td>...</td>\n",
       "      <td>NaN</td>\n",
       "      <td>NaN</td>\n",
       "      <td>NaN</td>\n",
       "      <td>NaN</td>\n",
       "      <td>NaN</td>\n",
       "      <td>NaN</td>\n",
       "      <td>NaN</td>\n",
       "      <td>NaN</td>\n",
       "      <td>NaN</td>\n",
       "      <td>NaN</td>\n",
       "    </tr>\n",
       "    <tr>\n",
       "      <th>2014-10-01</th>\n",
       "      <td>NaN</td>\n",
       "      <td>9.0</td>\n",
       "      <td>NaN</td>\n",
       "      <td>16.0</td>\n",
       "      <td>847.0</td>\n",
       "      <td>16.0</td>\n",
       "      <td>1552.0</td>\n",
       "      <td>1153.0</td>\n",
       "      <td>21378.0</td>\n",
       "      <td>NaN</td>\n",
       "      <td>...</td>\n",
       "      <td>NaN</td>\n",
       "      <td>NaN</td>\n",
       "      <td>NaN</td>\n",
       "      <td>NaN</td>\n",
       "      <td>NaN</td>\n",
       "      <td>NaN</td>\n",
       "      <td>NaN</td>\n",
       "      <td>NaN</td>\n",
       "      <td>NaN</td>\n",
       "      <td>NaN</td>\n",
       "    </tr>\n",
       "    <tr>\n",
       "      <th>2015-10-01</th>\n",
       "      <td>NaN</td>\n",
       "      <td>3.0</td>\n",
       "      <td>NaN</td>\n",
       "      <td>NaN</td>\n",
       "      <td>847.0</td>\n",
       "      <td>25.0</td>\n",
       "      <td>1556.0</td>\n",
       "      <td>980.0</td>\n",
       "      <td>20089.0</td>\n",
       "      <td>17.0</td>\n",
       "      <td>...</td>\n",
       "      <td>NaN</td>\n",
       "      <td>NaN</td>\n",
       "      <td>NaN</td>\n",
       "      <td>NaN</td>\n",
       "      <td>NaN</td>\n",
       "      <td>NaN</td>\n",
       "      <td>NaN</td>\n",
       "      <td>NaN</td>\n",
       "      <td>NaN</td>\n",
       "      <td>NaN</td>\n",
       "    </tr>\n",
       "    <tr>\n",
       "      <th>2016-10-01</th>\n",
       "      <td>NaN</td>\n",
       "      <td>5.0</td>\n",
       "      <td>NaN</td>\n",
       "      <td>47.0</td>\n",
       "      <td>795.0</td>\n",
       "      <td>53.0</td>\n",
       "      <td>1696.0</td>\n",
       "      <td>929.0</td>\n",
       "      <td>17970.0</td>\n",
       "      <td>172.0</td>\n",
       "      <td>...</td>\n",
       "      <td>NaN</td>\n",
       "      <td>NaN</td>\n",
       "      <td>NaN</td>\n",
       "      <td>NaN</td>\n",
       "      <td>NaN</td>\n",
       "      <td>NaN</td>\n",
       "      <td>NaN</td>\n",
       "      <td>NaN</td>\n",
       "      <td>NaN</td>\n",
       "      <td>NaN</td>\n",
       "    </tr>\n",
       "    <tr>\n",
       "      <th>2017-10-01</th>\n",
       "      <td>8.0</td>\n",
       "      <td>13.0</td>\n",
       "      <td>7.0</td>\n",
       "      <td>93.0</td>\n",
       "      <td>866.0</td>\n",
       "      <td>255.0</td>\n",
       "      <td>1520.0</td>\n",
       "      <td>1036.0</td>\n",
       "      <td>14223.0</td>\n",
       "      <td>130.0</td>\n",
       "      <td>...</td>\n",
       "      <td>1.0</td>\n",
       "      <td>2.0</td>\n",
       "      <td>5.0</td>\n",
       "      <td>61.0</td>\n",
       "      <td>3.0</td>\n",
       "      <td>33.0</td>\n",
       "      <td>6.0</td>\n",
       "      <td>1.0</td>\n",
       "      <td>4.0</td>\n",
       "      <td>2.0</td>\n",
       "    </tr>\n",
       "  </tbody>\n",
       "</table>\n",
       "<p>8 rows × 130 columns</p>\n",
       "</div>"
      ],
      "text/plain": [
       "                     AlienMasterID                                            \\\n",
       "CountryOfCitizenship        BRAZIL CAMEROON CAPE VERDE CHINA COLOMBIA   CUBA   \n",
       "FY                                                                             \n",
       "2010-10-01                     1.0      2.0        4.0   6.0   1059.0   31.0   \n",
       "2011-10-01                     NaN      1.0        NaN   NaN   1020.0   34.0   \n",
       "2012-10-01                     NaN      NaN        NaN   NaN    943.0   16.0   \n",
       "2013-10-01                     NaN      7.0        NaN   NaN    865.0    6.0   \n",
       "2014-10-01                     NaN      9.0        NaN  16.0    847.0   16.0   \n",
       "2015-10-01                     NaN      3.0        NaN   NaN    847.0   25.0   \n",
       "2016-10-01                     NaN      5.0        NaN  47.0    795.0   53.0   \n",
       "2017-10-01                     8.0     13.0        7.0  93.0    866.0  255.0   \n",
       "\n",
       "                                                                     ...    \\\n",
       "CountryOfCitizenship DOMINICAN REPUBLIC ECUADOR EL SALVADOR  GHANA   ...     \n",
       "FY                                                                   ...     \n",
       "2010-10-01                       2343.0  1436.0     15817.0   17.0   ...     \n",
       "2011-10-01                       2281.0  1593.0     18107.0   14.0   ...     \n",
       "2012-10-01                       1849.0  1318.0     20178.0    NaN   ...     \n",
       "2013-10-01                       1747.0  1377.0     26507.0    NaN   ...     \n",
       "2014-10-01                       1552.0  1153.0     21378.0    NaN   ...     \n",
       "2015-10-01                       1556.0   980.0     20089.0   17.0   ...     \n",
       "2016-10-01                       1696.0   929.0     17970.0  172.0   ...     \n",
       "2017-10-01                       1520.0  1036.0     14223.0  130.0   ...     \n",
       "\n",
       "                                                                      \\\n",
       "CountryOfCitizenship SOUTH AFRICA ST. LUCIA BURKINA FASO SOUTH SUDAN   \n",
       "FY                                                                     \n",
       "2010-10-01                    NaN       NaN          NaN         NaN   \n",
       "2011-10-01                    NaN       NaN          NaN         NaN   \n",
       "2012-10-01                    NaN       NaN          NaN         NaN   \n",
       "2013-10-01                    NaN       NaN          NaN         NaN   \n",
       "2014-10-01                    NaN       NaN          NaN         NaN   \n",
       "2015-10-01                    NaN       NaN          NaN         NaN   \n",
       "2016-10-01                    NaN       NaN          NaN         NaN   \n",
       "2017-10-01                    1.0       2.0          5.0        61.0   \n",
       "\n",
       "                                                                         \\\n",
       "CountryOfCitizenship ANTIGUA & BARBUDA BURMA SAMOA UNITED ARAB EMIRATES   \n",
       "FY                                                                        \n",
       "2010-10-01                         NaN   NaN   NaN                  NaN   \n",
       "2011-10-01                         NaN   NaN   NaN                  NaN   \n",
       "2012-10-01                         NaN   NaN   NaN                  NaN   \n",
       "2013-10-01                         NaN   NaN   NaN                  NaN   \n",
       "2014-10-01                         NaN   NaN   NaN                  NaN   \n",
       "2015-10-01                         NaN   NaN   NaN                  NaN   \n",
       "2016-10-01                         NaN   NaN   NaN                  NaN   \n",
       "2017-10-01                         3.0  33.0   6.0                  1.0   \n",
       "\n",
       "                                          \n",
       "CountryOfCitizenship PALESTINIAN NAMIBIA  \n",
       "FY                                        \n",
       "2010-10-01                   NaN     NaN  \n",
       "2011-10-01                   NaN     NaN  \n",
       "2012-10-01                   NaN     NaN  \n",
       "2013-10-01                   NaN     NaN  \n",
       "2014-10-01                   NaN     NaN  \n",
       "2015-10-01                   NaN     NaN  \n",
       "2016-10-01                   NaN     NaN  \n",
       "2017-10-01                   4.0     2.0  \n",
       "\n",
       "[8 rows x 130 columns]"
      ]
     },
     "execution_count": 135,
     "metadata": {},
     "output_type": "execute_result"
    }
   ],
   "source": [
    "removal_nationality_by_year"
   ]
  },
  {
   "cell_type": "code",
   "execution_count": 136,
   "metadata": {},
   "outputs": [],
   "source": [
    "top_5_df = pd.DataFrame()\n",
    "\n",
    "for year in country_of_citizenship_by_year.index.unique():\n",
    "    temp = country_of_citizenship_by_year.loc[f'{year}'][['CountryOfCitizenship', 'AlienMasterID']]\n",
    "    temp_top_5 = temp[0:5]\n",
    "    if len(temp) > 5:\n",
    "        all_other_count = sum(temp['AlienMasterID'][5:])\n",
    "    else:\n",
    "        all_other_count = 0\n",
    "    other_df = pd.DataFrame([['ALL OTHERS', all_other_count]],\n",
    "                            columns=['CountryOfCitizenship',\n",
    "                                     'AlienMasterID'],\n",
    "                            index=[year])\n",
    "    temp_top_5 = temp_top_5.append(other_df)\n",
    "    top_5_df = top_5_df.append(temp_top_5)\n",
    "\n",
    "top_5_df.sort_index(inplace=True)\n",
    "top_5_df.index = [f'FY{str(x)[2:4]}' for x in top_5_df.index.year + 1]\n",
    "\n",
    "top_5_data = pd.pivot_table(data=top_5_df,\n",
    "                       index=top_5_df.index,\n",
    "                       columns='CountryOfCitizenship',\n",
    "                       values='AlienMasterID',\n",
    "                       aggfunc=np.sum,\n",
    "                       fill_value=0)"
   ]
  },
  {
   "cell_type": "code",
   "execution_count": 137,
   "metadata": {},
   "outputs": [
    {
     "data": {
      "text/html": [
       "<div>\n",
       "<style scoped>\n",
       "    .dataframe tbody tr th:only-of-type {\n",
       "        vertical-align: middle;\n",
       "    }\n",
       "\n",
       "    .dataframe tbody tr th {\n",
       "        vertical-align: top;\n",
       "    }\n",
       "\n",
       "    .dataframe thead th {\n",
       "        text-align: right;\n",
       "    }\n",
       "</style>\n",
       "<table border=\"1\" class=\"dataframe\">\n",
       "  <thead>\n",
       "    <tr style=\"text-align: right;\">\n",
       "      <th>CountryOfCitizenship</th>\n",
       "      <th>ALL OTHERS</th>\n",
       "      <th>DOMINICAN REPUBLIC</th>\n",
       "      <th>EL SALVADOR</th>\n",
       "      <th>GUATEMALA</th>\n",
       "      <th>HAITI</th>\n",
       "      <th>HONDURAS</th>\n",
       "      <th>MEXICO</th>\n",
       "    </tr>\n",
       "  </thead>\n",
       "  <tbody>\n",
       "    <tr>\n",
       "      <th>FY11</th>\n",
       "      <td>4965</td>\n",
       "      <td>2343</td>\n",
       "      <td>15817</td>\n",
       "      <td>30472</td>\n",
       "      <td>0</td>\n",
       "      <td>21069</td>\n",
       "      <td>107781</td>\n",
       "    </tr>\n",
       "    <tr>\n",
       "      <th>FY12</th>\n",
       "      <td>5449</td>\n",
       "      <td>2281</td>\n",
       "      <td>18107</td>\n",
       "      <td>38399</td>\n",
       "      <td>0</td>\n",
       "      <td>30815</td>\n",
       "      <td>110763</td>\n",
       "    </tr>\n",
       "    <tr>\n",
       "      <th>FY13</th>\n",
       "      <td>4868</td>\n",
       "      <td>1849</td>\n",
       "      <td>20178</td>\n",
       "      <td>47955</td>\n",
       "      <td>0</td>\n",
       "      <td>35759</td>\n",
       "      <td>78650</td>\n",
       "    </tr>\n",
       "    <tr>\n",
       "      <th>FY14</th>\n",
       "      <td>4712</td>\n",
       "      <td>1747</td>\n",
       "      <td>26507</td>\n",
       "      <td>54135</td>\n",
       "      <td>0</td>\n",
       "      <td>39825</td>\n",
       "      <td>39278</td>\n",
       "    </tr>\n",
       "    <tr>\n",
       "      <th>FY15</th>\n",
       "      <td>3951</td>\n",
       "      <td>1552</td>\n",
       "      <td>21378</td>\n",
       "      <td>32599</td>\n",
       "      <td>0</td>\n",
       "      <td>19613</td>\n",
       "      <td>29461</td>\n",
       "    </tr>\n",
       "    <tr>\n",
       "      <th>FY16</th>\n",
       "      <td>3879</td>\n",
       "      <td>1556</td>\n",
       "      <td>20089</td>\n",
       "      <td>32963</td>\n",
       "      <td>0</td>\n",
       "      <td>21311</td>\n",
       "      <td>27082</td>\n",
       "    </tr>\n",
       "    <tr>\n",
       "      <th>FY17</th>\n",
       "      <td>6306</td>\n",
       "      <td>0</td>\n",
       "      <td>17970</td>\n",
       "      <td>32198</td>\n",
       "      <td>5549</td>\n",
       "      <td>21241</td>\n",
       "      <td>32967</td>\n",
       "    </tr>\n",
       "    <tr>\n",
       "      <th>FY18</th>\n",
       "      <td>5973</td>\n",
       "      <td>1520</td>\n",
       "      <td>14223</td>\n",
       "      <td>48645</td>\n",
       "      <td>0</td>\n",
       "      <td>27150</td>\n",
       "      <td>34738</td>\n",
       "    </tr>\n",
       "  </tbody>\n",
       "</table>\n",
       "</div>"
      ],
      "text/plain": [
       "CountryOfCitizenship  ALL OTHERS  DOMINICAN REPUBLIC  EL SALVADOR  GUATEMALA  \\\n",
       "FY11                        4965                2343        15817      30472   \n",
       "FY12                        5449                2281        18107      38399   \n",
       "FY13                        4868                1849        20178      47955   \n",
       "FY14                        4712                1747        26507      54135   \n",
       "FY15                        3951                1552        21378      32599   \n",
       "FY16                        3879                1556        20089      32963   \n",
       "FY17                        6306                   0        17970      32198   \n",
       "FY18                        5973                1520        14223      48645   \n",
       "\n",
       "CountryOfCitizenship  HAITI  HONDURAS  MEXICO  \n",
       "FY11                      0     21069  107781  \n",
       "FY12                      0     30815  110763  \n",
       "FY13                      0     35759   78650  \n",
       "FY14                      0     39825   39278  \n",
       "FY15                      0     19613   29461  \n",
       "FY16                      0     21311   27082  \n",
       "FY17                   5549     21241   32967  \n",
       "FY18                      0     27150   34738  "
      ]
     },
     "execution_count": 137,
     "metadata": {},
     "output_type": "execute_result"
    }
   ],
   "source": [
    "# Note 0 values in this version of chart. Missing values are included in \"ALL OTHERS\" category.\n",
    "top_5_data"
   ]
  },
  {
   "cell_type": "code",
   "execution_count": 138,
   "metadata": {},
   "outputs": [],
   "source": [
    "top_5_data = top_5_data.reindex(top_5_data.sum().sort_values(ascending=False).index, axis=1)\n",
    "cols = list(top_5_data.columns)\n",
    "cols.remove('ALL OTHERS')\n",
    "cols.append('ALL OTHERS')\n",
    "top_5_data = top_5_data[cols]\n",
    "top_5_data.columns = top_5_data.columns.str.title()\n",
    "top_5_data.columns.name = 'Country of Citizenship'"
   ]
  },
  {
   "cell_type": "code",
   "execution_count": 161,
   "metadata": {},
   "outputs": [],
   "source": [
    "def country_of_citizenship_trend(data, title=str, filename=str, xlabel=str, ylabel=str):\n",
    "    \n",
    "    fig, ax = plt.subplots()\n",
    "    \n",
    "    data.plot(kind='bar', stacked=True, legend=True, ax=ax).legend(bbox_to_anchor=(1,1))\n",
    "\n",
    "    \n",
    "    ax.set_axisbelow(True)\n",
    "    ax.set_facecolor('#EEEEEE')\n",
    "    ax.grid(color='#FFFFFF')\n",
    "    ax.set_ylabel(ylabel, fontsize=16)\n",
    "    ax.set_xlabel(xlabel, fontsize=16)\n",
    "    ax.set_title(title, fontsize=18)\n",
    "    ax.tick_params(labelsize=14)\n",
    "    plt.xticks(rotation=0)\n",
    "\n",
    "    fig.set_size_inches(10, 8)\n",
    "    fig.savefig(f'../output/{filename}.png', dpi=100)\n",
    "    return fig, ax"
   ]
  },
  {
   "cell_type": "code",
   "execution_count": 162,
   "metadata": {},
   "outputs": [
    {
     "data": {
      "image/png": "[encoded data removed]",
      "text/plain": [
       "<Figure size 720x576 with 1 Axes>"
      ]
     },
     "metadata": {
      "needs_background": "light"
     },
     "output_type": "display_data"
    }
   ],
   "source": [
    "country_of_citizenship_trend(top_5_data,\n",
    "                             title=f'ICE Air {df_to_analyze.name} by Country of Citizenship \\n (Top 5 per year)',\n",
    "                             filename=f'top5_total_deportation_nationalities_per_year',\n",
    "                             ylabel=f'Total {df_to_analyze.name}',\n",
    "                             xlabel='Fiscal Year');"
   ]
  },
  {
   "cell_type": "markdown",
   "metadata": {},
   "source": [
    "## Top 5 any year"
   ]
  },
  {
   "cell_type": "markdown",
   "metadata": {},
   "source": [
    "Here's the alternate plot showing all nationalities which break the top 5 in any year. A bit messier, but outliers are still clear (El Salvador in FY14, Haiti in FY17, India in FY18), steady trends possibly clearer (Ecuador, Dominican Republic)."
   ]
  },
  {
   "cell_type": "code",
   "execution_count": 143,
   "metadata": {},
   "outputs": [],
   "source": [
    "in_top_5 = list()\n",
    "for year in country_of_citizenship_by_year.index.unique():\n",
    "    temp = country_of_citizenship_by_year.loc[f'{year}'][['CountryOfCitizenship', 'AlienMasterID']]\n",
    "    temp_top_5 = temp[0:5]\n",
    "    in_top_5.extend(list(temp_top_5['CountryOfCitizenship']))"
   ]
  },
  {
   "cell_type": "code",
   "execution_count": 144,
   "metadata": {},
   "outputs": [],
   "source": [
    "top_5_df = pd.DataFrame()\n",
    "\n",
    "for year in country_of_citizenship_by_year.index.unique():\n",
    "    temp = country_of_citizenship_by_year.loc[f'{year}'][['CountryOfCitizenship', 'AlienMasterID']]\n",
    "    temp_top_5 = temp[temp['CountryOfCitizenship'].isin(list(set(in_top_5)))]\n",
    "    if len(temp) > 5:\n",
    "        all_others = temp[~temp['CountryOfCitizenship'].isin(list(set(in_top_5)))]\n",
    "        all_other_count = sum(all_others['AlienMasterID'])\n",
    "    else:\n",
    "        all_other_count = 0\n",
    "    other_df = pd.DataFrame([['ALL OTHERS', all_other_count]],\n",
    "                            columns=['CountryOfCitizenship',\n",
    "                                     'AlienMasterID'],\n",
    "                            index=[year])\n",
    "    temp_top_5 = temp_top_5.append(other_df)\n",
    "    top_5_df = top_5_df.append(temp_top_5)\n",
    "\n",
    "top_5_df.sort_index(inplace=True)\n",
    "top_5_df.index = [f'FY{str(x)[2:4]}' for x in top_5_df.index.year + 1]\n",
    "\n",
    "top_5_data = pd.pivot_table(data=top_5_df,\n",
    "                       index=top_5_df.index,\n",
    "                       columns='CountryOfCitizenship',\n",
    "                       values='AlienMasterID',\n",
    "                       aggfunc=np.sum,\n",
    "                       fill_value=0)\n",
    "\n",
    "top_5_data = top_5_data.reindex(top_5_data.sum().sort_values(ascending=False).index, axis=1)\n",
    "cols = list(top_5_data.columns)\n",
    "cols.remove('ALL OTHERS')\n",
    "cols.append('ALL OTHERS')\n",
    "top_5_data = top_5_data[cols]\n",
    "top_5_data.columns = top_5_data.columns.str.title()\n",
    "top_5_data.columns.name = 'Country of Citizenship'"
   ]
  },
  {
   "cell_type": "code",
   "execution_count": 145,
   "metadata": {},
   "outputs": [
    {
     "data": {
      "text/html": [
       "<div>\n",
       "<style scoped>\n",
       "    .dataframe tbody tr th:only-of-type {\n",
       "        vertical-align: middle;\n",
       "    }\n",
       "\n",
       "    .dataframe tbody tr th {\n",
       "        vertical-align: top;\n",
       "    }\n",
       "\n",
       "    .dataframe thead th {\n",
       "        text-align: right;\n",
       "    }\n",
       "</style>\n",
       "<table border=\"1\" class=\"dataframe\">\n",
       "  <thead>\n",
       "    <tr style=\"text-align: right;\">\n",
       "      <th>Country of Citizenship</th>\n",
       "      <th>Mexico</th>\n",
       "      <th>Guatemala</th>\n",
       "      <th>Honduras</th>\n",
       "      <th>El Salvador</th>\n",
       "      <th>Dominican Republic</th>\n",
       "      <th>Haiti</th>\n",
       "      <th>All Others</th>\n",
       "    </tr>\n",
       "  </thead>\n",
       "  <tbody>\n",
       "    <tr>\n",
       "      <th>FY11</th>\n",
       "      <td>107781</td>\n",
       "      <td>30472</td>\n",
       "      <td>21069</td>\n",
       "      <td>15817</td>\n",
       "      <td>2343</td>\n",
       "      <td>228</td>\n",
       "      <td>4737</td>\n",
       "    </tr>\n",
       "    <tr>\n",
       "      <th>FY12</th>\n",
       "      <td>110763</td>\n",
       "      <td>38399</td>\n",
       "      <td>30815</td>\n",
       "      <td>18107</td>\n",
       "      <td>2281</td>\n",
       "      <td>547</td>\n",
       "      <td>4902</td>\n",
       "    </tr>\n",
       "    <tr>\n",
       "      <th>FY13</th>\n",
       "      <td>78650</td>\n",
       "      <td>47955</td>\n",
       "      <td>35759</td>\n",
       "      <td>20178</td>\n",
       "      <td>1849</td>\n",
       "      <td>452</td>\n",
       "      <td>4416</td>\n",
       "    </tr>\n",
       "    <tr>\n",
       "      <th>FY14</th>\n",
       "      <td>39278</td>\n",
       "      <td>54135</td>\n",
       "      <td>39825</td>\n",
       "      <td>26507</td>\n",
       "      <td>1747</td>\n",
       "      <td>338</td>\n",
       "      <td>4374</td>\n",
       "    </tr>\n",
       "    <tr>\n",
       "      <th>FY15</th>\n",
       "      <td>29461</td>\n",
       "      <td>32599</td>\n",
       "      <td>19613</td>\n",
       "      <td>21378</td>\n",
       "      <td>1552</td>\n",
       "      <td>369</td>\n",
       "      <td>3582</td>\n",
       "    </tr>\n",
       "    <tr>\n",
       "      <th>FY16</th>\n",
       "      <td>27082</td>\n",
       "      <td>32963</td>\n",
       "      <td>21311</td>\n",
       "      <td>20089</td>\n",
       "      <td>1556</td>\n",
       "      <td>267</td>\n",
       "      <td>3612</td>\n",
       "    </tr>\n",
       "    <tr>\n",
       "      <th>FY17</th>\n",
       "      <td>32967</td>\n",
       "      <td>32198</td>\n",
       "      <td>21241</td>\n",
       "      <td>17970</td>\n",
       "      <td>1696</td>\n",
       "      <td>5549</td>\n",
       "      <td>4610</td>\n",
       "    </tr>\n",
       "    <tr>\n",
       "      <th>FY18</th>\n",
       "      <td>34738</td>\n",
       "      <td>48645</td>\n",
       "      <td>27150</td>\n",
       "      <td>14223</td>\n",
       "      <td>1520</td>\n",
       "      <td>805</td>\n",
       "      <td>5168</td>\n",
       "    </tr>\n",
       "  </tbody>\n",
       "</table>\n",
       "</div>"
      ],
      "text/plain": [
       "Country of Citizenship  Mexico  Guatemala  Honduras  El Salvador  \\\n",
       "FY11                    107781      30472     21069        15817   \n",
       "FY12                    110763      38399     30815        18107   \n",
       "FY13                     78650      47955     35759        20178   \n",
       "FY14                     39278      54135     39825        26507   \n",
       "FY15                     29461      32599     19613        21378   \n",
       "FY16                     27082      32963     21311        20089   \n",
       "FY17                     32967      32198     21241        17970   \n",
       "FY18                     34738      48645     27150        14223   \n",
       "\n",
       "Country of Citizenship  Dominican Republic  Haiti  All Others  \n",
       "FY11                                  2343    228        4737  \n",
       "FY12                                  2281    547        4902  \n",
       "FY13                                  1849    452        4416  \n",
       "FY14                                  1747    338        4374  \n",
       "FY15                                  1552    369        3582  \n",
       "FY16                                  1556    267        3612  \n",
       "FY17                                  1696   5549        4610  \n",
       "FY18                                  1520    805        5168  "
      ]
     },
     "execution_count": 145,
     "metadata": {},
     "output_type": "execute_result"
    }
   ],
   "source": [
    "# Table for this version of chart is much better\n",
    "top_5_data"
   ]
  },
  {
   "cell_type": "code",
   "execution_count": 146,
   "metadata": {
    "scrolled": true
   },
   "outputs": [
    {
     "data": {
      "image/png": "[encoded data removed]",
      "text/plain": [
       "<Figure size 720x576 with 1 Axes>"
      ]
     },
     "metadata": {
      "needs_background": "light"
     },
     "output_type": "display_data"
    }
   ],
   "source": [
    "country_of_citizenship_trend(top_5_data,\n",
    "                             title=f'ICE Air {df_to_analyze.name.title()} by Country of Citizenship \\n (Top 5 any year)',\n",
    "                             filename=f'top5_total_{df_to_analyze.name.lower()}_nationalities_any_year',\n",
    "                             ylabel=f'Total {df_to_analyze.name.title()}',\n",
    "                             xlabel='Fiscal Year');"
   ]
  },
  {
   "cell_type": "code",
   "execution_count": 212,
   "metadata": {},
   "outputs": [],
   "source": [
    "cent_am = ['MEXICO', 'GUATEMALA', 'HONDURAS', 'EL SALVADOR']\n",
    "\n",
    "cent_am_df = pd.DataFrame()\n",
    "\n",
    "for year in country_of_citizenship_by_year.index.unique():\n",
    "    temp = country_of_citizenship_by_year.loc[f'{year}'][['CountryOfCitizenship', 'AlienMasterID']]\n",
    "    temp_cent_am = temp[temp['CountryOfCitizenship'].isin(list(set(cent_am)))]\n",
    "    cent_am_count = sum(temp_cent_am['AlienMasterID'])\n",
    "    if len(temp) > 5:\n",
    "        all_others = temp[~temp['CountryOfCitizenship'].isin(list(set(cent_am)))]\n",
    "        all_other_count = sum(all_others['AlienMasterID'])\n",
    "    else:\n",
    "        all_other_count = 0\n",
    "    temp_df = pd.DataFrame([['MEXICO + NORTHERN TRIANGLE', cent_am_count],\n",
    "                            ['ALL OTHERS', all_other_count]],\n",
    "                            columns=['CountryOfCitizenship',\n",
    "                                     'AlienMasterID'],\n",
    "                            index=[year, year])\n",
    "    cent_am_df = cent_am_df.append(temp_df)\n",
    "    \n",
    "cent_am_df.sort_index(inplace=True)\n",
    "cent_am_df.index = [f'FY{str(x)[2:4]}' for x in cent_am_df.index.year + 1]\n",
    "\n",
    "cent_am_data = pd.pivot_table(data=cent_am_df,\n",
    "                       index=cent_am_df.index,\n",
    "                       columns='CountryOfCitizenship',\n",
    "                       values='AlienMasterID',\n",
    "                       aggfunc=np.sum,\n",
    "                       fill_value=0)\n",
    "\n",
    "cent_am_data = cent_am_data.reindex(cent_am_data.sum().sort_values(ascending=False).index, axis=1)\n",
    "cols = list(cent_am_data.columns)\n",
    "cols.remove('ALL OTHERS')\n",
    "cols.append('ALL OTHERS')\n",
    "cent_am_data = cent_am_data[cols]\n",
    "cent_am_data.columns = cent_am_data.columns.str.title()\n",
    "cent_am_data.columns.name = 'Country of Citizenship'"
   ]
  },
  {
   "cell_type": "code",
   "execution_count": 239,
   "metadata": {},
   "outputs": [
    {
     "data": {
      "text/plain": [
       "Country of Citizenship\n",
       "Mexico + Northern Triangle    94.847936\n",
       "All Others                     5.152064\n",
       "dtype: float64"
      ]
     },
     "execution_count": 239,
     "metadata": {},
     "output_type": "execute_result"
    }
   ],
   "source": [
    "(cent_am_data.div(cent_am_data.sum(axis=1), axis=0) * 100).mean()"
   ]
  },
  {
   "cell_type": "code",
   "execution_count": 216,
   "metadata": {},
   "outputs": [
    {
     "data": {
      "image/png": "[encoded data removed]",
      "text/plain": [
       "<Figure size 720x576 with 1 Axes>"
      ]
     },
     "metadata": {
      "needs_background": "light"
     },
     "output_type": "display_data"
    }
   ],
   "source": [
    "country_of_citizenship_trend(cent_am_data,\n",
    "                             title=f'ICE Air {df_to_analyze.name.title()} by Country of Citizenship \\n (Top 5 any year)',\n",
    "                             filename=f'top5_total_{df_to_analyze.name.lower()}_nationalities_any_year',\n",
    "                             ylabel=f'Total {df_to_analyze.name.title()}',\n",
    "                             xlabel='Fiscal Year');"
   ]
  },
  {
   "cell_type": "code",
   "execution_count": 244,
   "metadata": {},
   "outputs": [
    {
     "data": {
      "text/plain": [
       "95.14660913153861"
      ]
     },
     "execution_count": 244,
     "metadata": {},
     "output_type": "execute_result"
    }
   ],
   "source": [
    "sum(removal_df['CountryOfCitizenship'].isin(cent_am)) / len(removal_df) * 100"
   ]
  },
  {
   "cell_type": "markdown",
   "metadata": {},
   "source": [
    "# Investigating other global variables"
   ]
  },
  {
   "cell_type": "code",
   "execution_count": null,
   "metadata": {},
   "outputs": [],
   "source": [
    "df['Juvenile'].value_counts(dropna=False)"
   ]
  },
  {
   "cell_type": "code",
   "execution_count": null,
   "metadata": {},
   "outputs": [],
   "source": [
    "df['Age'].hist(bins=10)"
   ]
  },
  {
   "cell_type": "code",
   "execution_count": null,
   "metadata": {},
   "outputs": [],
   "source": [
    "df.groupby(['CountryOfCitizenship', 'R-T'])['Age'].mean()"
   ]
  },
  {
   "cell_type": "code",
   "execution_count": null,
   "metadata": {},
   "outputs": [],
   "source": [
    "df.groupby([pd.Grouper(freq='AS-OCT')])['Age'].mean()"
   ]
  },
  {
   "cell_type": "code",
   "execution_count": null,
   "metadata": {},
   "outputs": [],
   "source": [
    "df.groupby([pd.Grouper(freq='AS-OCT')])['Sex'].value_counts() / df.groupby([pd.Grouper(freq='AS-OCT')]).size() * 100"
   ]
  },
  {
   "cell_type": "markdown",
   "metadata": {},
   "source": [
    "# Different geographic subsets"
   ]
  },
  {
   "cell_type": "markdown",
   "metadata": {},
   "source": [
    "## US state"
   ]
  },
  {
   "cell_type": "code",
   "execution_count": null,
   "metadata": {},
   "outputs": [],
   "source": [
    "df.columns"
   ]
  },
  {
   "cell_type": "code",
   "execution_count": null,
   "metadata": {},
   "outputs": [],
   "source": [
    "state = 'WA'"
   ]
  },
  {
   "cell_type": "code",
   "execution_count": null,
   "metadata": {},
   "outputs": [],
   "source": [
    "state_pickup_df = df[df['st_StateAbbr'] == state]"
   ]
  },
  {
   "cell_type": "code",
   "execution_count": null,
   "metadata": {},
   "outputs": [],
   "source": [
    "state_dropoff_df = df[df['st2_StateAbbr'] == state]"
   ]
  },
  {
   "cell_type": "code",
   "execution_count": null,
   "metadata": {},
   "outputs": [],
   "source": [
    "state_pickup_df['PULOC'].value_counts().head(5)"
   ]
  },
  {
   "cell_type": "code",
   "execution_count": null,
   "metadata": {},
   "outputs": [],
   "source": [
    "state_all = pd.concat([state_pickup_df, state_dropoff_df])"
   ]
  },
  {
   "cell_type": "markdown",
   "metadata": {},
   "source": [
    "## Country"
   ]
  },
  {
   "cell_type": "code",
   "execution_count": null,
   "metadata": {},
   "outputs": [],
   "source": [
    "country = 'USA'"
   ]
  },
  {
   "cell_type": "code",
   "execution_count": null,
   "metadata": {},
   "outputs": [],
   "source": [
    "country_pickup_df = df[df['air_Country'] == country]\n",
    "country_dropoff_df = df[df['air2_Country'] == country]\n",
    "country_all = pd.concat([country_pickup_df, country_dropoff_df])"
   ]
  },
  {
   "cell_type": "code",
   "execution_count": null,
   "metadata": {},
   "outputs": [],
   "source": [
    "country_pickup_df.groupby(['PULOC', 'R-T'])['AlienMasterID'].nunique()"
   ]
  },
  {
   "cell_type": "code",
   "execution_count": null,
   "metadata": {},
   "outputs": [],
   "source": [
    "country_dropoff_df.groupby(['DropLoc', 'R-T'])['AlienMasterID'].nunique()"
   ]
  },
  {
   "cell_type": "code",
   "execution_count": null,
   "metadata": {},
   "outputs": [],
   "source": [
    "country_removals = country_all[country_all['R-T'] == 'R']\n",
    "country_transfers = country_all[country_all['R-T'] == 'T']"
   ]
  },
  {
   "cell_type": "code",
   "execution_count": null,
   "metadata": {},
   "outputs": [],
   "source": [
    "country_removals.drop_duplicates(subset='AlienMasterID')['PULOC'].value_counts().head(10)"
   ]
  },
  {
   "cell_type": "code",
   "execution_count": null,
   "metadata": {},
   "outputs": [],
   "source": [
    "country_transfers.drop_duplicates(subset='AlienMasterID')['PULOC'].value_counts().head(10)"
   ]
  },
  {
   "cell_type": "markdown",
   "metadata": {},
   "source": [
    "# ICE total removal statistics"
   ]
  },
  {
   "cell_type": "code",
   "execution_count": 220,
   "metadata": {},
   "outputs": [],
   "source": [
    "ice_ero_totals = [396906,\n",
    "                  409849,\n",
    "                  368644,\n",
    "                  315943,\n",
    "                  235413,\n",
    "                  240255,\n",
    "                  226119,\n",
    "                  256086]"
   ]
  },
  {
   "cell_type": "code",
   "execution_count": 234,
   "metadata": {},
   "outputs": [],
   "source": [
    "ice_total_comparison = pd.DataFrame({'ICE Air Removals': list(annual_removals['2010':'2017']), 'ICE ERO Total Removals': ice_ero_totals},\n",
    "            index=annual_removals['2010':'2017'].index)"
   ]
  },
  {
   "cell_type": "code",
   "execution_count": 235,
   "metadata": {},
   "outputs": [
    {
     "data": {
      "text/plain": [
       "<matplotlib.axes._subplots.AxesSubplot at 0x1a332eda90>"
      ]
     },
     "execution_count": 235,
     "metadata": {},
     "output_type": "execute_result"
    },
    {
     "data": {
      "image/png": "[encoded data removed]",
      "text/plain": [
       "<Figure size 432x288 with 1 Axes>"
      ]
     },
     "metadata": {
      "needs_background": "light"
     },
     "output_type": "display_data"
    }
   ],
   "source": [
    "ice_total_comparison.plot(kind='bar')"
   ]
  },
  {
   "cell_type": "code",
   "execution_count": 249,
   "metadata": {},
   "outputs": [],
   "source": [
    "ice_total_comparison['Percent'] = ice_total_comparison['ICE Air Removals'] / ice_total_comparison['ICE ERO Total Removals']"
   ]
  },
  {
   "cell_type": "code",
   "execution_count": 255,
   "metadata": {},
   "outputs": [
    {
     "data": {
      "text/plain": [
       "MissionDate\n",
       "2010-10-01    45.967307\n",
       "2011-10-01    50.217031\n",
       "2012-10-01    51.339232\n",
       "2013-10-01    52.605692\n",
       "2014-10-01    46.112152\n",
       "2015-10-01    44.486067\n",
       "2016-10-01    51.402580\n",
       "2017-10-01    51.642417\n",
       "Freq: AS-OCT, Name: Percent, dtype: float64"
      ]
     },
     "execution_count": 255,
     "metadata": {},
     "output_type": "execute_result"
    }
   ],
   "source": [
    "ice_total_comparison['Percent'] * 100"
   ]
  },
  {
   "cell_type": "code",
   "execution_count": null,
   "metadata": {},
   "outputs": [],
   "source": []
  }
 ],
 "metadata": {
  "kernelspec": {
   "display_name": "Python 3",
   "language": "python",
   "name": "python3"
  },
  "language_info": {
   "codemirror_mode": {
    "name": "ipython",
    "version": 3
   },
   "file_extension": ".py",
   "mimetype": "text/x-python",
   "name": "python",
   "nbconvert_exporter": "python",
   "pygments_lexer": "ipython3",
   "version": "3.7.1"
  }
 },
 "nbformat": 4,
 "nbformat_minor": 2
}
