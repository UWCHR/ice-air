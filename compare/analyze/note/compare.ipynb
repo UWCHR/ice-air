{
 "cells": [
  {
   "cell_type": "code",
   "execution_count": 1,
   "metadata": {},
   "outputs": [],
   "source": [
    "import pandas as pd\n",
    "import yaml"
   ]
  },
  {
   "cell_type": "code",
   "execution_count": 2,
   "metadata": {},
   "outputs": [],
   "source": [
    "read_csv_opts = {'sep': '|',\n",
    "                 'quotechar': '\"',\n",
    "                 'compression': 'gzip',\n",
    "                 'encoding': 'utf-8',\n",
    "                 'parse_dates': ['MissionDate'],\n",
    "                 'infer_datetime_format': True}"
   ]
  },
  {
   "cell_type": "code",
   "execution_count": 3,
   "metadata": {},
   "outputs": [],
   "source": [
    "with open('../input/passenger-dtypes-1.yaml', 'r') as yamlfile:\n",
    "    dtypes_1 = yaml.load(yamlfile)\n",
    "    \n",
    "with open('../input/passenger-dtypes-2.yaml', 'r') as yamlfile:\n",
    "    dtypes_2 = yaml.load(yamlfile)\n",
    "    \n",
    "with open('../input/mission-dtypes.yaml', 'r') as yamlfile:\n",
    "    dtypes_3 = yaml.load(yamlfile)"
   ]
  },
  {
   "cell_type": "code",
   "execution_count": 4,
   "metadata": {},
   "outputs": [],
   "source": [
    "df_1 = pd.read_csv('../input/ice-air-passengers-1.csv.gz', dtype=dtypes_1, **read_csv_opts)"
   ]
  },
  {
   "cell_type": "code",
   "execution_count": 5,
   "metadata": {},
   "outputs": [],
   "source": [
    "df_2 = pd.read_csv('../input/ice-air-passengers-2.csv.gz', dtype=dtypes_2, **read_csv_opts)"
   ]
  },
  {
   "cell_type": "code",
   "execution_count": 6,
   "metadata": {},
   "outputs": [],
   "source": [
    "missions = pd.read_csv('../input/ice-air-missions.csv.gz', dtype=dtypes_3, **read_csv_opts)"
   ]
  },
  {
   "cell_type": "code",
   "execution_count": 15,
   "metadata": {},
   "outputs": [
    {
     "data": {
      "text/plain": [
       "count                 1732625\n",
       "unique                   2409\n",
       "top       2012-04-19 00:00:00\n",
       "freq                     1524\n",
       "first     2010-10-01 00:00:00\n",
       "last      2018-12-05 00:00:00\n",
       "Name: MissionDate, dtype: object"
      ]
     },
     "execution_count": 15,
     "metadata": {},
     "output_type": "execute_result"
    }
   ],
   "source": [
    "df_1['MissionDate'].describe()"
   ]
  },
  {
   "cell_type": "code",
   "execution_count": 16,
   "metadata": {},
   "outputs": [
    {
     "data": {
      "text/plain": [
       "count                 1826400\n",
       "unique                   2530\n",
       "top       2019-04-12 00:00:00\n",
       "freq                     1532\n",
       "first     2010-10-01 00:00:00\n",
       "last      2019-05-04 00:00:00\n",
       "Name: MissionDate, dtype: object"
      ]
     },
     "execution_count": 16,
     "metadata": {},
     "output_type": "execute_result"
    }
   ],
   "source": [
    "df_2['MissionDate'].describe()"
   ]
  },
  {
   "cell_type": "code",
   "execution_count": 31,
   "metadata": {},
   "outputs": [],
   "source": [
    "df_1.set_index('MissionDate', inplace=True)\n",
    "df_2.set_index('MissionDate', inplace=True)"
   ]
  },
  {
   "cell_type": "code",
   "execution_count": 41,
   "metadata": {},
   "outputs": [],
   "source": [
    "annual_total_1 = df_1['AlienMasterID'].resample('AS-OCT').count()\n",
    "annual_total_2 = df_2['AlienMasterID'].resample('AS-OCT').count()"
   ]
  },
  {
   "cell_type": "code",
   "execution_count": 42,
   "metadata": {},
   "outputs": [
    {
     "data": {
      "text/plain": [
       "MissionDate\n",
       "2010-10-01        0\n",
       "2011-10-01        0\n",
       "2012-10-01        0\n",
       "2013-10-01        0\n",
       "2014-10-01        0\n",
       "2015-10-01        0\n",
       "2016-10-01        0\n",
       "2017-10-01        0\n",
       "2018-10-01    93775\n",
       "Freq: AS-OCT, Name: AlienMasterID, dtype: int64"
      ]
     },
     "execution_count": 42,
     "metadata": {},
     "output_type": "execute_result"
    }
   ],
   "source": [
    "annual_total_2 - annual_total_1"
   ]
  },
  {
   "cell_type": "code",
   "execution_count": 44,
   "metadata": {},
   "outputs": [],
   "source": [
    "g_1 = df_1.groupby('MissionID')['AlienMasterID'].count()\n",
    "g_2 = df_2.groupby('MissionID')['AlienMasterID'].count()"
   ]
  },
  {
   "cell_type": "code",
   "execution_count": 58,
   "metadata": {},
   "outputs": [
    {
     "data": {
      "text/plain": [
       "MissionID\n",
       "105      0.0\n",
       "106      0.0\n",
       "107      0.0\n",
       "108      0.0\n",
       "110      0.0\n",
       "111      0.0\n",
       "112      0.0\n",
       "113      0.0\n",
       "114      0.0\n",
       "115      0.0\n",
       "116      0.0\n",
       "117      0.0\n",
       "118      0.0\n",
       "119      0.0\n",
       "121      0.0\n",
       "122      0.0\n",
       "123      0.0\n",
       "124      0.0\n",
       "125      0.0\n",
       "126      0.0\n",
       "127      0.0\n",
       "128      0.0\n",
       "130      0.0\n",
       "131      0.0\n",
       "132      0.0\n",
       "133      0.0\n",
       "137      0.0\n",
       "138      0.0\n",
       "140      0.0\n",
       "141      0.0\n",
       "        ... \n",
       "48304    NaN\n",
       "48305    NaN\n",
       "48306    NaN\n",
       "48307    NaN\n",
       "48308    NaN\n",
       "48309    NaN\n",
       "48310    NaN\n",
       "48311    NaN\n",
       "48312    NaN\n",
       "48313    NaN\n",
       "48314    NaN\n",
       "48315    NaN\n",
       "48316    NaN\n",
       "48317    NaN\n",
       "48318    NaN\n",
       "48319    NaN\n",
       "48320    NaN\n",
       "48321    NaN\n",
       "48322    NaN\n",
       "48323    NaN\n",
       "48324    NaN\n",
       "48325    NaN\n",
       "48326    NaN\n",
       "48328    NaN\n",
       "48329    NaN\n",
       "48330    NaN\n",
       "48331    NaN\n",
       "48332    NaN\n",
       "48334    NaN\n",
       "48335    NaN\n",
       "Name: AlienMasterID, Length: 15735, dtype: float64"
      ]
     },
     "execution_count": 58,
     "metadata": {},
     "output_type": "execute_result"
    }
   ],
   "source": [
    "g_2 - g_1"
   ]
  },
  {
   "cell_type": "code",
   "execution_count": 66,
   "metadata": {},
   "outputs": [],
   "source": [
    "new_puloc = set(df_2['PULOC']).difference(set(df_1['PULOC']))\n",
    "new_droploc = set(df_2['DropLoc']).difference(set(df_1['DropLoc']))"
   ]
  },
  {
   "cell_type": "code",
   "execution_count": 70,
   "metadata": {},
   "outputs": [
    {
     "name": "stdout",
     "output_type": "stream",
     "text": [
      "{'KPVD', 'FVRG', 'FEFF', 'GOBD', 'FNLU', 'DBBB'}\n"
     ]
    }
   ],
   "source": [
    "new_airports = new_puloc.union(new_droploc)\n",
    "print(new_airports)"
   ]
  },
  {
   "cell_type": "code",
   "execution_count": 75,
   "metadata": {},
   "outputs": [
    {
     "name": "stdout",
     "output_type": "stream",
     "text": [
      "{'GUATEMALAN', 'USC', 'ANGUILLA'}\n"
     ]
    }
   ],
   "source": [
    "new_country_of_citizenship = set(df_2['CountryOfCitizenship']).difference(set(df_1['CountryOfCitizenship']))\n",
    "print(new_country_of_citizenship)"
   ]
  },
  {
   "cell_type": "code",
   "execution_count": 74,
   "metadata": {},
   "outputs": [
    {
     "name": "stdout",
     "output_type": "stream",
     "text": [
      "{'HI', '169'}\n"
     ]
    }
   ],
   "source": [
    "new_status = set(df_2['Status']).difference(set(df_1['Status']))\n",
    "print(new_status)"
   ]
  },
  {
   "cell_type": "code",
   "execution_count": 76,
   "metadata": {},
   "outputs": [
    {
     "name": "stdout",
     "output_type": "stream",
     "text": [
      "set()\n"
     ]
    }
   ],
   "source": [
    "new_rt = set(df_2['R-T']).difference(set(df_1['R-T']))\n",
    "print(new_rt)"
   ]
  },
  {
   "cell_type": "code",
   "execution_count": 77,
   "metadata": {},
   "outputs": [
    {
     "name": "stdout",
     "output_type": "stream",
     "text": [
      "set()\n"
     ]
    }
   ],
   "source": [
    "new_sex = set(df_2['Sex']).difference(set(df_1['Sex']))\n",
    "print(new_sex)"
   ]
  },
  {
   "cell_type": "code",
   "execution_count": 78,
   "metadata": {},
   "outputs": [
    {
     "name": "stdout",
     "output_type": "stream",
     "text": [
      "set()\n"
     ]
    }
   ],
   "source": [
    "new_criminality = set(df_2['Criminality']).difference(set(df_1['Criminality']))\n",
    "print(new_criminality)"
   ]
  },
  {
   "cell_type": "code",
   "execution_count": 87,
   "metadata": {},
   "outputs": [],
   "source": [
    "airport_db = pd.read_csv('../input/GlobalAirportDatabase.csv.gz', sep='|')"
   ]
  },
  {
   "cell_type": "code",
   "execution_count": 9,
   "metadata": {},
   "outputs": [],
   "source": [
    "stops = ['MsnStart', 'MsnStpOne','MsnStpTwo', 'MsnStpThree',\n",
    "         'MsnStpFour', 'MsnStpFive', 'MsnStpSix',\n",
    "         'MsnStpSeven', 'MsnStpEight', 'MsnEnd']"
   ]
  },
  {
   "cell_type": "code",
   "execution_count": 48,
   "metadata": {},
   "outputs": [],
   "source": [
    "passenger_airports = set(df_2['PULOC']).union(set(df_2['DropLoc']))"
   ]
  },
  {
   "cell_type": "code",
   "execution_count": 53,
   "metadata": {},
   "outputs": [],
   "source": [
    "mission_airports = set()\n",
    "for s in stops:\n",
    "    airport_codes = set(missions[s])\n",
    "    mission_airports = mission_airports.union(airport_codes)"
   ]
  },
  {
   "cell_type": "code",
   "execution_count": 58,
   "metadata": {},
   "outputs": [],
   "source": [
    "airports_to_merge = pd.read_csv('../../../share/hand/airports_to_merge.csv', sep=',')"
   ]
  },
  {
   "cell_type": "code",
   "execution_count": 80,
   "metadata": {},
   "outputs": [],
   "source": [
    "all_arts_airports = passenger_airports.union(mission_airports)"
   ]
  },
  {
   "cell_type": "code",
   "execution_count": 85,
   "metadata": {},
   "outputs": [],
   "source": [
    "new_airports = all_arts_airports.difference(airports_to_merge['ICAOCode'])"
   ]
  },
  {
   "cell_type": "code",
   "execution_count": 90,
   "metadata": {},
   "outputs": [
    {
     "data": {
      "text/plain": [
       "{'*Add ELP stop*',\n",
       " '*Times Updated*',\n",
       " '16',\n",
       " '69',\n",
       " '72',\n",
       " 'CYOX',\n",
       " 'DEN',\n",
       " 'DGGA',\n",
       " 'ELP',\n",
       " 'EPMO',\n",
       " 'FZZA',\n",
       " 'HKMM',\n",
       " 'KAFW',\n",
       " 'KAX',\n",
       " 'KCMI',\n",
       " 'KCSH',\n",
       " 'KGPT',\n",
       " 'KGSO',\n",
       " 'KHNL',\n",
       " 'KKBL',\n",
       " 'KMGM',\n",
       " 'KMGT',\n",
       " 'KSDF',\n",
       " 'KVPC',\n",
       " 'LBTA',\n",
       " 'LTFJ',\n",
       " 'MIA',\n",
       " 'RKSI',\n",
       " 'TBPD',\n",
       " 'TPBP',\n",
       " 'UDYZ',\n",
       " 'WIHH',\n",
       " nan}"
      ]
     },
     "execution_count": 90,
     "metadata": {},
     "output_type": "execute_result"
    }
   ],
   "source": [
    "new_airports.difference(airport_db['ICAOCode'])"
   ]
  },
  {
   "cell_type": "code",
   "execution_count": 107,
   "metadata": {},
   "outputs": [
    {
     "name": "stdout",
     "output_type": "stream",
     "text": [
      ",ICAOCode,LatitudeDecimalDegrees,LongitudeDecimalDegrees\n",
      "56,BIKF,63.985,-22.605999999999998\n",
      "221,CYQX,48.937,-54.568000000000005\n",
      "308,CYYT,47.619,-52.751999999999995\n",
      "502,DNMN,9.652000000000001,6.462000000000001\n",
      "1008,EFHK,60.32,24.956\n",
      "1150,EGKB,51.331,0.033\n",
      "1153,EGKK,51.148,-0.19\n",
      "1160,EGLF,51.276,-0.7759999999999999\n",
      "1330,EHAM,52.309,4.763999999999999\n",
      "1385,EINN,52.702,-8.925\n",
      "2005,FAMU,-27.625999999999998,32.044000000000004\n",
      "2030,FAOR,0.0,0.0\n",
      "2489,FOGR,-0.7040000000000001,10.245999999999999\n",
      "2576,FVFA,-18.096,25.839000000000002\n",
      "2937,GCTS,28.044,-16.572\n",
      "3319,HTKJ,-3.429,37.074\n",
      "3415,KBGR,44.806999999999995,-68.828\n",
      "3430,KBTR,30.533,-91.149\n",
      "3437,KCAE,33.939,-81.119\n",
      "3510,KFLL,26.072,-80.153\n",
      "3537,KGRB,44.485,-88.12899999999999\n",
      "3561,KHOU,29.645,-95.279\n",
      "3596,KJFK,40.64,-73.779\n",
      "3633,KMFE,26.176,-98.23899999999999\n",
      "3648,KMOB,30.691,-88.243\n",
      "3656,KMSY,29.993000000000002,-90.258\n",
      "3711,KOKC,35.393,-97.601\n",
      "3724,KPBI,26.683000000000003,-80.096\n",
      "3729,KPHX,33.434,-112.008\n",
      "3740,KPQI,46.68899999999999,-68.045\n",
      "3751,KRDU,35.876999999999995,-78.78699999999999\n",
      "3772,KSEA,47.449,-122.309\n",
      "3779,KSHV,32.446,-93.82600000000001\n",
      "3814,KTUL,36.198,-95.88799999999999\n",
      "4549,LICJ,38.176,13.091\n",
      "4685,LJLJ,46.224,14.457\n",
      "4896,LOWW,48.11,16.57\n",
      "4910,LPAZ,36.971,-25.171\n",
      "5148,LYPR,42.573,21.035999999999998\n",
      "5507,MSSS,13.7,-89.12\n",
      "6580,PADK,51.878,-176.646\n",
      "6583,PADU,53.9,-166.543\n",
      "6608,PANC,61.174,-149.996\n",
      "6642,PGUM,13.484000000000002,144.797\n",
      "6743,RJCC,42.775,141.692\n",
      "6830,RJTT,35.552,139.779\n",
      "7782,SPIM,-12.022,-77.11399999999999\n",
      "8021,TISX,17.702,-64.798\n",
      "8548,VTBU,12.68,101.005\n",
      "8616,VVNB,21.221999999999998,105.806\n",
      "\n"
     ]
    }
   ],
   "source": [
    "print(airport_db[airport_db['ICAOCode'].isin(list(new_airports))][['ICAOCode', 'LatitudeDecimalDegrees', 'LongitudeDecimalDegrees']].to_csv())"
   ]
  },
  {
   "cell_type": "code",
   "execution_count": 98,
   "metadata": {},
   "outputs": [
    {
     "data": {
      "text/plain": [
       "[KJAX]\n",
       "Categories (1, object): [KJAX]"
      ]
     },
     "execution_count": 98,
     "metadata": {},
     "output_type": "execute_result"
    }
   ],
   "source": [
    "df_2[df_2['air_AirportID'] == 72]['PULOC'].unique()"
   ]
  },
  {
   "cell_type": "code",
   "execution_count": 99,
   "metadata": {},
   "outputs": [
    {
     "data": {
      "text/plain": [
       "[KIAH]\n",
       "Categories (1, object): [KIAH]"
      ]
     },
     "execution_count": 99,
     "metadata": {},
     "output_type": "execute_result"
    }
   ],
   "source": [
    "df_2[df_2['air_AirportID'] == 69]['PULOC'].unique()"
   ]
  },
  {
   "cell_type": "code",
   "execution_count": 101,
   "metadata": {},
   "outputs": [
    {
     "data": {
      "text/plain": [
       "[], Categories (0, object): []"
      ]
     },
     "execution_count": 101,
     "metadata": {},
     "output_type": "execute_result"
    }
   ],
   "source": [
    "df_2[df_2['air2_AirportID'] == 16]['DropLoc'].unique()"
   ]
  },
  {
   "cell_type": "code",
   "execution_count": null,
   "metadata": {},
   "outputs": [],
   "source": []
  }
 ],
 "metadata": {
  "kernelspec": {
   "display_name": "Python 3",
   "language": "python",
   "name": "python3"
  },
  "language_info": {
   "codemirror_mode": {
    "name": "ipython",
    "version": 3
   },
   "file_extension": ".py",
   "mimetype": "text/x-python",
   "name": "python",
   "nbconvert_exporter": "python",
   "pygments_lexer": "ipython3",
   "version": "3.7.1"
  }
 },
 "nbformat": 4,
 "nbformat_minor": 2
}
