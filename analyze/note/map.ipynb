{
 "cells": [
  {
   "cell_type": "code",
   "execution_count": 1,
   "metadata": {},
   "outputs": [],
   "source": [
    "import pandas as pd\n",
    "import numpy as np\n",
    "import networkx as nx\n",
    "import matplotlib.pyplot as plt\n",
    "import matplotlib as mpl\n",
    "import matplotlib.colors as colors\n",
    "from mpl_toolkits.axes_grid1 import make_axes_locatable\n",
    "from matplotlib.ticker import LogFormatter \n",
    "import cartopy.crs as ccrs\n",
    "import cartopy.io.shapereader as shpreader\n",
    "import yaml"
   ]
  },
  {
   "cell_type": "code",
   "execution_count": 2,
   "metadata": {},
   "outputs": [],
   "source": [
    "with open('../input/dtypes.yaml', 'r') as yamlfile:\n",
    "    column_types = yaml.load(yamlfile)\n",
    "\n",
    "read_csv_opts = {'sep': '|',\n",
    "                 'quotechar': '\"',\n",
    "                 'compression': 'gzip',\n",
    "                 'encoding': 'utf-8',\n",
    "                 'dtype': column_types,\n",
    "                 'parse_dates': ['MissionDate'],\n",
    "                 'infer_datetime_format': True}\n",
    "\n",
    "df = pd.read_csv('../input/ice-air.csv.gz', **read_csv_opts)"
   ]
  },
  {
   "cell_type": "code",
   "execution_count": 3,
   "metadata": {},
   "outputs": [],
   "source": [
    "df['FiscalYear'] = df['MissionDate'].copy()\n",
    "df.set_index('MissionDate', drop=False, inplace=True)\n",
    "df.index.name = 'FiscalYear'\n",
    "\n",
    "# Grouping records by exact date, fiscal year, MissionID,\n",
    "# removal or transfer status, unique pickup/dropoff, juvenile status.\n",
    "# Can't group by nationality here or it splits flights up and obscures trends\n",
    "g = df.groupby([pd.Grouper(freq='AS-OCT'), 'MissionDate', 'R-T', 'PULOC', 'DropLoc'])"
   ]
  },
  {
   "cell_type": "code",
   "execution_count": 4,
   "metadata": {},
   "outputs": [],
   "source": [
    "table = g[['AlienMasterID', 'MissionID']].nunique().reset_index()"
   ]
  },
  {
   "cell_type": "code",
   "execution_count": 5,
   "metadata": {},
   "outputs": [
    {
     "data": {
      "text/html": [
       "<div>\n",
       "<style scoped>\n",
       "    .dataframe tbody tr th:only-of-type {\n",
       "        vertical-align: middle;\n",
       "    }\n",
       "\n",
       "    .dataframe tbody tr th {\n",
       "        vertical-align: top;\n",
       "    }\n",
       "\n",
       "    .dataframe thead th {\n",
       "        text-align: right;\n",
       "    }\n",
       "</style>\n",
       "<table border=\"1\" class=\"dataframe\">\n",
       "  <thead>\n",
       "    <tr style=\"text-align: right;\">\n",
       "      <th></th>\n",
       "      <th>FiscalYear</th>\n",
       "      <th>MissionDate</th>\n",
       "      <th>R-T</th>\n",
       "      <th>PULOC</th>\n",
       "      <th>DropLoc</th>\n",
       "      <th>AlienMasterID</th>\n",
       "      <th>MissionID</th>\n",
       "    </tr>\n",
       "  </thead>\n",
       "  <tbody>\n",
       "    <tr>\n",
       "      <th>0</th>\n",
       "      <td>2010-10-01</td>\n",
       "      <td>2010-10-01</td>\n",
       "      <td>R</td>\n",
       "      <td>KAEX</td>\n",
       "      <td>MHLM</td>\n",
       "      <td>97</td>\n",
       "      <td>1</td>\n",
       "    </tr>\n",
       "    <tr>\n",
       "      <th>1</th>\n",
       "      <td>2010-10-01</td>\n",
       "      <td>2010-10-01</td>\n",
       "      <td>R</td>\n",
       "      <td>KBFL</td>\n",
       "      <td>KSAN</td>\n",
       "      <td>13</td>\n",
       "      <td>1</td>\n",
       "    </tr>\n",
       "    <tr>\n",
       "      <th>2</th>\n",
       "      <td>2010-10-01</td>\n",
       "      <td>2010-10-01</td>\n",
       "      <td>R</td>\n",
       "      <td>KCSG</td>\n",
       "      <td>MSLP</td>\n",
       "      <td>33</td>\n",
       "      <td>1</td>\n",
       "    </tr>\n",
       "    <tr>\n",
       "      <th>3</th>\n",
       "      <td>2010-10-01</td>\n",
       "      <td>2010-10-01</td>\n",
       "      <td>R</td>\n",
       "      <td>KDEN</td>\n",
       "      <td>KHRL</td>\n",
       "      <td>42</td>\n",
       "      <td>1</td>\n",
       "    </tr>\n",
       "    <tr>\n",
       "      <th>4</th>\n",
       "      <td>2010-10-01</td>\n",
       "      <td>2010-10-01</td>\n",
       "      <td>R</td>\n",
       "      <td>KELP</td>\n",
       "      <td>KHRL</td>\n",
       "      <td>46</td>\n",
       "      <td>1</td>\n",
       "    </tr>\n",
       "  </tbody>\n",
       "</table>\n",
       "</div>"
      ],
      "text/plain": [
       "  FiscalYear MissionDate R-T PULOC DropLoc  AlienMasterID  MissionID\n",
       "0 2010-10-01  2010-10-01   R  KAEX    MHLM             97          1\n",
       "1 2010-10-01  2010-10-01   R  KBFL    KSAN             13          1\n",
       "2 2010-10-01  2010-10-01   R  KCSG    MSLP             33          1\n",
       "3 2010-10-01  2010-10-01   R  KDEN    KHRL             42          1\n",
       "4 2010-10-01  2010-10-01   R  KELP    KHRL             46          1"
      ]
     },
     "execution_count": 5,
     "metadata": {},
     "output_type": "execute_result"
    }
   ],
   "source": [
    "table.head()"
   ]
  },
  {
   "cell_type": "code",
   "execution_count": 6,
   "metadata": {},
   "outputs": [],
   "source": [
    "table.set_index('MissionDate', inplace=True)"
   ]
  },
  {
   "cell_type": "code",
   "execution_count": 7,
   "metadata": {},
   "outputs": [
    {
     "data": {
      "text/html": [
       "<div>\n",
       "<style scoped>\n",
       "    .dataframe tbody tr th:only-of-type {\n",
       "        vertical-align: middle;\n",
       "    }\n",
       "\n",
       "    .dataframe tbody tr th {\n",
       "        vertical-align: top;\n",
       "    }\n",
       "\n",
       "    .dataframe thead th {\n",
       "        text-align: right;\n",
       "    }\n",
       "</style>\n",
       "<table border=\"1\" class=\"dataframe\">\n",
       "  <thead>\n",
       "    <tr style=\"text-align: right;\">\n",
       "      <th></th>\n",
       "      <th>FiscalYear</th>\n",
       "      <th>R-T</th>\n",
       "      <th>PULOC</th>\n",
       "      <th>DropLoc</th>\n",
       "      <th>AlienMasterID</th>\n",
       "      <th>MissionID</th>\n",
       "    </tr>\n",
       "    <tr>\n",
       "      <th>MissionDate</th>\n",
       "      <th></th>\n",
       "      <th></th>\n",
       "      <th></th>\n",
       "      <th></th>\n",
       "      <th></th>\n",
       "      <th></th>\n",
       "    </tr>\n",
       "  </thead>\n",
       "  <tbody>\n",
       "    <tr>\n",
       "      <th>2010-10-01</th>\n",
       "      <td>2010-10-01</td>\n",
       "      <td>R</td>\n",
       "      <td>KAEX</td>\n",
       "      <td>MHLM</td>\n",
       "      <td>97</td>\n",
       "      <td>1</td>\n",
       "    </tr>\n",
       "    <tr>\n",
       "      <th>2010-10-01</th>\n",
       "      <td>2010-10-01</td>\n",
       "      <td>R</td>\n",
       "      <td>KBFL</td>\n",
       "      <td>KSAN</td>\n",
       "      <td>13</td>\n",
       "      <td>1</td>\n",
       "    </tr>\n",
       "    <tr>\n",
       "      <th>2010-10-01</th>\n",
       "      <td>2010-10-01</td>\n",
       "      <td>R</td>\n",
       "      <td>KCSG</td>\n",
       "      <td>MSLP</td>\n",
       "      <td>33</td>\n",
       "      <td>1</td>\n",
       "    </tr>\n",
       "    <tr>\n",
       "      <th>2010-10-01</th>\n",
       "      <td>2010-10-01</td>\n",
       "      <td>R</td>\n",
       "      <td>KDEN</td>\n",
       "      <td>KHRL</td>\n",
       "      <td>42</td>\n",
       "      <td>1</td>\n",
       "    </tr>\n",
       "    <tr>\n",
       "      <th>2010-10-01</th>\n",
       "      <td>2010-10-01</td>\n",
       "      <td>R</td>\n",
       "      <td>KELP</td>\n",
       "      <td>KHRL</td>\n",
       "      <td>46</td>\n",
       "      <td>1</td>\n",
       "    </tr>\n",
       "  </tbody>\n",
       "</table>\n",
       "</div>"
      ],
      "text/plain": [
       "            FiscalYear R-T PULOC DropLoc  AlienMasterID  MissionID\n",
       "MissionDate                                                       \n",
       "2010-10-01  2010-10-01   R  KAEX    MHLM             97          1\n",
       "2010-10-01  2010-10-01   R  KBFL    KSAN             13          1\n",
       "2010-10-01  2010-10-01   R  KCSG    MSLP             33          1\n",
       "2010-10-01  2010-10-01   R  KDEN    KHRL             42          1\n",
       "2010-10-01  2010-10-01   R  KELP    KHRL             46          1"
      ]
     },
     "execution_count": 7,
     "metadata": {},
     "output_type": "execute_result"
    }
   ],
   "source": [
    "table.head()"
   ]
  },
  {
   "cell_type": "code",
   "execution_count": 8,
   "metadata": {},
   "outputs": [],
   "source": [
    "table.columns = ['year', 'R-T', 'pickup_airport', 'dropoff_airport', 'passengers', 'flights']\n",
    "all_kbfi = (table['pickup_airport'] == 'KBFI') | (table['dropoff_airport'] == 'KBFI')\n",
    "# table.to_csv('../output/flight_summary.csv.gz', index=False, compression='gzip', encoding='utf-8', sep='|')"
   ]
  },
  {
   "cell_type": "code",
   "execution_count": 9,
   "metadata": {},
   "outputs": [],
   "source": [
    "flights = table\n",
    "# flights = table[all_kbfi]\n",
    "# flights = pd.read_csv('../output/flight_summary.csv.gz', compression='gzip', sep='|')\n",
    "# flights = pd.read_csv('../output/guatemala_transfers.csv.gz', compression='gzip', sep='|')"
   ]
  },
  {
   "cell_type": "code",
   "execution_count": 10,
   "metadata": {},
   "outputs": [
    {
     "data": {
      "text/html": [
       "<div>\n",
       "<style scoped>\n",
       "    .dataframe tbody tr th:only-of-type {\n",
       "        vertical-align: middle;\n",
       "    }\n",
       "\n",
       "    .dataframe tbody tr th {\n",
       "        vertical-align: top;\n",
       "    }\n",
       "\n",
       "    .dataframe thead th {\n",
       "        text-align: right;\n",
       "    }\n",
       "</style>\n",
       "<table border=\"1\" class=\"dataframe\">\n",
       "  <thead>\n",
       "    <tr style=\"text-align: right;\">\n",
       "      <th></th>\n",
       "      <th>year</th>\n",
       "      <th>R-T</th>\n",
       "      <th>pickup_airport</th>\n",
       "      <th>dropoff_airport</th>\n",
       "      <th>passengers</th>\n",
       "      <th>flights</th>\n",
       "    </tr>\n",
       "    <tr>\n",
       "      <th>MissionDate</th>\n",
       "      <th></th>\n",
       "      <th></th>\n",
       "      <th></th>\n",
       "      <th></th>\n",
       "      <th></th>\n",
       "      <th></th>\n",
       "    </tr>\n",
       "  </thead>\n",
       "  <tbody>\n",
       "    <tr>\n",
       "      <th>2010-10-01</th>\n",
       "      <td>2010-10-01</td>\n",
       "      <td>R</td>\n",
       "      <td>KAEX</td>\n",
       "      <td>MHLM</td>\n",
       "      <td>97</td>\n",
       "      <td>1</td>\n",
       "    </tr>\n",
       "    <tr>\n",
       "      <th>2010-10-01</th>\n",
       "      <td>2010-10-01</td>\n",
       "      <td>R</td>\n",
       "      <td>KBFL</td>\n",
       "      <td>KSAN</td>\n",
       "      <td>13</td>\n",
       "      <td>1</td>\n",
       "    </tr>\n",
       "    <tr>\n",
       "      <th>2010-10-01</th>\n",
       "      <td>2010-10-01</td>\n",
       "      <td>R</td>\n",
       "      <td>KCSG</td>\n",
       "      <td>MSLP</td>\n",
       "      <td>33</td>\n",
       "      <td>1</td>\n",
       "    </tr>\n",
       "    <tr>\n",
       "      <th>2010-10-01</th>\n",
       "      <td>2010-10-01</td>\n",
       "      <td>R</td>\n",
       "      <td>KDEN</td>\n",
       "      <td>KHRL</td>\n",
       "      <td>42</td>\n",
       "      <td>1</td>\n",
       "    </tr>\n",
       "    <tr>\n",
       "      <th>2010-10-01</th>\n",
       "      <td>2010-10-01</td>\n",
       "      <td>R</td>\n",
       "      <td>KELP</td>\n",
       "      <td>KHRL</td>\n",
       "      <td>46</td>\n",
       "      <td>1</td>\n",
       "    </tr>\n",
       "  </tbody>\n",
       "</table>\n",
       "</div>"
      ],
      "text/plain": [
       "                  year R-T pickup_airport dropoff_airport  passengers  flights\n",
       "MissionDate                                                                   \n",
       "2010-10-01  2010-10-01   R           KAEX            MHLM          97        1\n",
       "2010-10-01  2010-10-01   R           KBFL            KSAN          13        1\n",
       "2010-10-01  2010-10-01   R           KCSG            MSLP          33        1\n",
       "2010-10-01  2010-10-01   R           KDEN            KHRL          42        1\n",
       "2010-10-01  2010-10-01   R           KELP            KHRL          46        1"
      ]
     },
     "execution_count": 10,
     "metadata": {},
     "output_type": "execute_result"
    }
   ],
   "source": [
    "flights.head()"
   ]
  },
  {
   "cell_type": "code",
   "execution_count": 11,
   "metadata": {},
   "outputs": [],
   "source": [
    "flights['pickup_airport'] = flights['pickup_airport'].str.upper()\n",
    "flights['dropoff_airport'] = flights['dropoff_airport'].str.upper()\n",
    "# flights['pickup_airport'] = flights['PULOC'].str.upper()\n",
    "# flights['dropoff_airport'] = flights['DropLoc'].str.upper()"
   ]
  },
  {
   "cell_type": "code",
   "execution_count": 12,
   "metadata": {},
   "outputs": [],
   "source": [
    "flights_loc = set(pd.concat([flights['pickup_airport'], flights['dropoff_airport']]))"
   ]
  },
  {
   "cell_type": "code",
   "execution_count": 13,
   "metadata": {},
   "outputs": [],
   "source": [
    "bad_airports = ['KKBL']"
   ]
  },
  {
   "cell_type": "code",
   "execution_count": 14,
   "metadata": {},
   "outputs": [],
   "source": [
    "flights = flights[~flights['pickup_airport'].isin(bad_airports)]\n",
    "flights = flights[~flights['dropoff_airport'].isin(bad_airports)]"
   ]
  },
  {
   "cell_type": "code",
   "execution_count": 15,
   "metadata": {},
   "outputs": [],
   "source": [
    "airports = pd.read_csv('../../share/hand/GlobalAirportDatabase.csv.gz', compression='gzip', sep='|')"
   ]
  },
  {
   "cell_type": "code",
   "execution_count": 16,
   "metadata": {},
   "outputs": [
    {
     "data": {
      "text/html": [
       "<div>\n",
       "<style scoped>\n",
       "    .dataframe tbody tr th:only-of-type {\n",
       "        vertical-align: middle;\n",
       "    }\n",
       "\n",
       "    .dataframe tbody tr th {\n",
       "        vertical-align: top;\n",
       "    }\n",
       "\n",
       "    .dataframe thead th {\n",
       "        text-align: right;\n",
       "    }\n",
       "</style>\n",
       "<table border=\"1\" class=\"dataframe\">\n",
       "  <thead>\n",
       "    <tr style=\"text-align: right;\">\n",
       "      <th></th>\n",
       "      <th>ICAOCode</th>\n",
       "      <th>IATACode</th>\n",
       "      <th>AirportName</th>\n",
       "      <th>City</th>\n",
       "      <th>Country</th>\n",
       "      <th>LatitudeDegrees</th>\n",
       "      <th>LatitudeMinutes</th>\n",
       "      <th>LatitudeSeconds</th>\n",
       "      <th>LatitudeDirection</th>\n",
       "      <th>LongitudeDegrees</th>\n",
       "      <th>LongitudeMinutes</th>\n",
       "      <th>LongitudeSeconds</th>\n",
       "      <th>LongitudeDirection</th>\n",
       "      <th>Altitude</th>\n",
       "      <th>LatitudeDecimalDegrees</th>\n",
       "      <th>LongitudeDecimalDegrees</th>\n",
       "    </tr>\n",
       "  </thead>\n",
       "  <tbody>\n",
       "    <tr>\n",
       "      <th>0</th>\n",
       "      <td>AYGA</td>\n",
       "      <td>GKA</td>\n",
       "      <td>GOROKA</td>\n",
       "      <td>GOROKA</td>\n",
       "      <td>PAPUA NEW GUINEA</td>\n",
       "      <td>6</td>\n",
       "      <td>4</td>\n",
       "      <td>54</td>\n",
       "      <td>S</td>\n",
       "      <td>145</td>\n",
       "      <td>23</td>\n",
       "      <td>30</td>\n",
       "      <td>E</td>\n",
       "      <td>1610</td>\n",
       "      <td>-6.082</td>\n",
       "      <td>145.392</td>\n",
       "    </tr>\n",
       "    <tr>\n",
       "      <th>1</th>\n",
       "      <td>AYLA</td>\n",
       "      <td>LAE</td>\n",
       "      <td>NaN</td>\n",
       "      <td>LAE</td>\n",
       "      <td>PAPUA NEW GUINEA</td>\n",
       "      <td>0</td>\n",
       "      <td>0</td>\n",
       "      <td>0</td>\n",
       "      <td>U</td>\n",
       "      <td>0</td>\n",
       "      <td>0</td>\n",
       "      <td>0</td>\n",
       "      <td>U</td>\n",
       "      <td>0</td>\n",
       "      <td>0.000</td>\n",
       "      <td>0.000</td>\n",
       "    </tr>\n",
       "    <tr>\n",
       "      <th>2</th>\n",
       "      <td>AYMD</td>\n",
       "      <td>MAG</td>\n",
       "      <td>MADANG</td>\n",
       "      <td>MADANG</td>\n",
       "      <td>PAPUA NEW GUINEA</td>\n",
       "      <td>5</td>\n",
       "      <td>12</td>\n",
       "      <td>25</td>\n",
       "      <td>S</td>\n",
       "      <td>145</td>\n",
       "      <td>47</td>\n",
       "      <td>19</td>\n",
       "      <td>E</td>\n",
       "      <td>7</td>\n",
       "      <td>-5.207</td>\n",
       "      <td>145.789</td>\n",
       "    </tr>\n",
       "    <tr>\n",
       "      <th>3</th>\n",
       "      <td>AYMH</td>\n",
       "      <td>HGU</td>\n",
       "      <td>MOUNT HAGEN</td>\n",
       "      <td>MOUNT HAGEN</td>\n",
       "      <td>PAPUA NEW GUINEA</td>\n",
       "      <td>5</td>\n",
       "      <td>49</td>\n",
       "      <td>34</td>\n",
       "      <td>S</td>\n",
       "      <td>144</td>\n",
       "      <td>17</td>\n",
       "      <td>46</td>\n",
       "      <td>E</td>\n",
       "      <td>1643</td>\n",
       "      <td>-5.826</td>\n",
       "      <td>144.296</td>\n",
       "    </tr>\n",
       "    <tr>\n",
       "      <th>4</th>\n",
       "      <td>AYNZ</td>\n",
       "      <td>LAE</td>\n",
       "      <td>NADZAB</td>\n",
       "      <td>NADZAB</td>\n",
       "      <td>PAPUA NEW GUINEA</td>\n",
       "      <td>6</td>\n",
       "      <td>34</td>\n",
       "      <td>11</td>\n",
       "      <td>S</td>\n",
       "      <td>146</td>\n",
       "      <td>43</td>\n",
       "      <td>34</td>\n",
       "      <td>E</td>\n",
       "      <td>73</td>\n",
       "      <td>-6.570</td>\n",
       "      <td>146.726</td>\n",
       "    </tr>\n",
       "  </tbody>\n",
       "</table>\n",
       "</div>"
      ],
      "text/plain": [
       "  ICAOCode IATACode  AirportName         City           Country  \\\n",
       "0     AYGA      GKA       GOROKA       GOROKA  PAPUA NEW GUINEA   \n",
       "1     AYLA      LAE          NaN          LAE  PAPUA NEW GUINEA   \n",
       "2     AYMD      MAG       MADANG       MADANG  PAPUA NEW GUINEA   \n",
       "3     AYMH      HGU  MOUNT HAGEN  MOUNT HAGEN  PAPUA NEW GUINEA   \n",
       "4     AYNZ      LAE       NADZAB       NADZAB  PAPUA NEW GUINEA   \n",
       "\n",
       "   LatitudeDegrees  LatitudeMinutes  LatitudeSeconds LatitudeDirection  \\\n",
       "0                6                4               54                 S   \n",
       "1                0                0                0                 U   \n",
       "2                5               12               25                 S   \n",
       "3                5               49               34                 S   \n",
       "4                6               34               11                 S   \n",
       "\n",
       "   LongitudeDegrees  LongitudeMinutes  LongitudeSeconds LongitudeDirection  \\\n",
       "0               145                23                30                  E   \n",
       "1                 0                 0                 0                  U   \n",
       "2               145                47                19                  E   \n",
       "3               144                17                46                  E   \n",
       "4               146                43                34                  E   \n",
       "\n",
       "   Altitude  LatitudeDecimalDegrees  LongitudeDecimalDegrees  \n",
       "0      1610                  -6.082                  145.392  \n",
       "1         0                   0.000                    0.000  \n",
       "2         7                  -5.207                  145.789  \n",
       "3      1643                  -5.826                  144.296  \n",
       "4        73                  -6.570                  146.726  "
      ]
     },
     "execution_count": 16,
     "metadata": {},
     "output_type": "execute_result"
    }
   ],
   "source": [
    "airports.head()"
   ]
  },
  {
   "cell_type": "code",
   "execution_count": 17,
   "metadata": {},
   "outputs": [],
   "source": [
    "airports_loc = set(airports['ICAOCode'])"
   ]
  },
  {
   "cell_type": "code",
   "execution_count": 18,
   "metadata": {},
   "outputs": [],
   "source": [
    "airports.set_index('ICAOCode', inplace=True)"
   ]
  },
  {
   "cell_type": "code",
   "execution_count": 19,
   "metadata": {},
   "outputs": [],
   "source": [
    "airports_missing_loc = ['FLKK', 'FWKI', 'KABQ', 'VTBS']"
   ]
  },
  {
   "cell_type": "code",
   "execution_count": 20,
   "metadata": {},
   "outputs": [],
   "source": [
    "airports = airports[~airports.index.isin(['FLKK', 'FWKI', 'KABQ', 'VTBS'])]"
   ]
  },
  {
   "cell_type": "code",
   "execution_count": 21,
   "metadata": {},
   "outputs": [],
   "source": [
    "additional_airports = pd.read_csv('../../share/hand/locations.csv', quotechar='\"')"
   ]
  },
  {
   "cell_type": "code",
   "execution_count": 22,
   "metadata": {},
   "outputs": [
    {
     "data": {
      "text/html": [
       "<div>\n",
       "<style scoped>\n",
       "    .dataframe tbody tr th:only-of-type {\n",
       "        vertical-align: middle;\n",
       "    }\n",
       "\n",
       "    .dataframe tbody tr th {\n",
       "        vertical-align: top;\n",
       "    }\n",
       "\n",
       "    .dataframe thead th {\n",
       "        text-align: right;\n",
       "    }\n",
       "</style>\n",
       "<table border=\"1\" class=\"dataframe\">\n",
       "  <thead>\n",
       "    <tr style=\"text-align: right;\">\n",
       "      <th></th>\n",
       "      <th>CountryISO</th>\n",
       "      <th>State</th>\n",
       "      <th>City</th>\n",
       "      <th>LatitudeDecimalDegrees</th>\n",
       "      <th>LongitudeDecimalDegrees</th>\n",
       "    </tr>\n",
       "    <tr>\n",
       "      <th>ICAOCode</th>\n",
       "      <th></th>\n",
       "      <th></th>\n",
       "      <th></th>\n",
       "      <th></th>\n",
       "      <th></th>\n",
       "    </tr>\n",
       "  </thead>\n",
       "  <tbody>\n",
       "    <tr>\n",
       "      <th>BKPR</th>\n",
       "      <td>KS</td>\n",
       "      <td>Pristina</td>\n",
       "      <td>Slatina</td>\n",
       "      <td>42.572778</td>\n",
       "      <td>21.035833</td>\n",
       "    </tr>\n",
       "    <tr>\n",
       "      <th>EYVI</th>\n",
       "      <td>LT</td>\n",
       "      <td>Vilnius</td>\n",
       "      <td>Vilnius</td>\n",
       "      <td>54.636944</td>\n",
       "      <td>25.287778</td>\n",
       "    </tr>\n",
       "    <tr>\n",
       "      <th>FKYS</th>\n",
       "      <td>CM</td>\n",
       "      <td>Nsimalen</td>\n",
       "      <td>Nsimalen</td>\n",
       "      <td>3.722500</td>\n",
       "      <td>11.553333</td>\n",
       "    </tr>\n",
       "    <tr>\n",
       "      <th>FYWH</th>\n",
       "      <td>NaN</td>\n",
       "      <td>Windhoek</td>\n",
       "      <td>Windhoek</td>\n",
       "      <td>-22.486667</td>\n",
       "      <td>17.462500</td>\n",
       "    </tr>\n",
       "    <tr>\n",
       "      <th>GQNO</th>\n",
       "      <td>MR</td>\n",
       "      <td>Nouakchott</td>\n",
       "      <td>Nouakchott</td>\n",
       "      <td>18.310000</td>\n",
       "      <td>-15.969722</td>\n",
       "    </tr>\n",
       "  </tbody>\n",
       "</table>\n",
       "</div>"
      ],
      "text/plain": [
       "         CountryISO       State        City  LatitudeDecimalDegrees  \\\n",
       "ICAOCode                                                              \n",
       "BKPR             KS    Pristina     Slatina               42.572778   \n",
       "EYVI             LT     Vilnius     Vilnius               54.636944   \n",
       "FKYS             CM    Nsimalen    Nsimalen                3.722500   \n",
       "FYWH            NaN    Windhoek    Windhoek              -22.486667   \n",
       "GQNO             MR  Nouakchott  Nouakchott               18.310000   \n",
       "\n",
       "          LongitudeDecimalDegrees  \n",
       "ICAOCode                           \n",
       "BKPR                    21.035833  \n",
       "EYVI                    25.287778  \n",
       "FKYS                    11.553333  \n",
       "FYWH                    17.462500  \n",
       "GQNO                   -15.969722  "
      ]
     },
     "execution_count": 22,
     "metadata": {},
     "output_type": "execute_result"
    }
   ],
   "source": [
    "additional_airports.columns = ['ICAOCode', 'CountryISO', 'State', 'City', 'LatitudeDecimalDegrees', 'LongitudeDecimalDegrees']\n",
    "additional_airports.set_index('ICAOCode', inplace=True)\n",
    "additional_airports.head()"
   ]
  },
  {
   "cell_type": "code",
   "execution_count": 23,
   "metadata": {},
   "outputs": [],
   "source": [
    "missing_airports = list(flights_loc.difference(airports_loc))\n",
    "missing_airports.extend(airports_missing_loc)"
   ]
  },
  {
   "cell_type": "code",
   "execution_count": 24,
   "metadata": {},
   "outputs": [],
   "source": [
    "airports_2 = additional_airports[additional_airports.index.isin(missing_airports)].copy()"
   ]
  },
  {
   "cell_type": "code",
   "execution_count": 25,
   "metadata": {},
   "outputs": [
    {
     "data": {
      "text/html": [
       "<div>\n",
       "<style scoped>\n",
       "    .dataframe tbody tr th:only-of-type {\n",
       "        vertical-align: middle;\n",
       "    }\n",
       "\n",
       "    .dataframe tbody tr th {\n",
       "        vertical-align: top;\n",
       "    }\n",
       "\n",
       "    .dataframe thead th {\n",
       "        text-align: right;\n",
       "    }\n",
       "</style>\n",
       "<table border=\"1\" class=\"dataframe\">\n",
       "  <thead>\n",
       "    <tr style=\"text-align: right;\">\n",
       "      <th></th>\n",
       "      <th>CountryISO</th>\n",
       "      <th>State</th>\n",
       "      <th>City</th>\n",
       "      <th>LatitudeDecimalDegrees</th>\n",
       "      <th>LongitudeDecimalDegrees</th>\n",
       "    </tr>\n",
       "    <tr>\n",
       "      <th>ICAOCode</th>\n",
       "      <th></th>\n",
       "      <th></th>\n",
       "      <th></th>\n",
       "      <th></th>\n",
       "      <th></th>\n",
       "    </tr>\n",
       "  </thead>\n",
       "  <tbody>\n",
       "    <tr>\n",
       "      <th>BKPR</th>\n",
       "      <td>KS</td>\n",
       "      <td>Pristina</td>\n",
       "      <td>Slatina</td>\n",
       "      <td>42.572778</td>\n",
       "      <td>21.035833</td>\n",
       "    </tr>\n",
       "    <tr>\n",
       "      <th>EYVI</th>\n",
       "      <td>LT</td>\n",
       "      <td>Vilnius</td>\n",
       "      <td>Vilnius</td>\n",
       "      <td>54.636944</td>\n",
       "      <td>25.287778</td>\n",
       "    </tr>\n",
       "    <tr>\n",
       "      <th>FKYS</th>\n",
       "      <td>CM</td>\n",
       "      <td>Nsimalen</td>\n",
       "      <td>Nsimalen</td>\n",
       "      <td>3.722500</td>\n",
       "      <td>11.553333</td>\n",
       "    </tr>\n",
       "    <tr>\n",
       "      <th>FYWH</th>\n",
       "      <td>NaN</td>\n",
       "      <td>Windhoek</td>\n",
       "      <td>Windhoek</td>\n",
       "      <td>-22.486667</td>\n",
       "      <td>17.462500</td>\n",
       "    </tr>\n",
       "    <tr>\n",
       "      <th>GQNO</th>\n",
       "      <td>MR</td>\n",
       "      <td>Nouakchott</td>\n",
       "      <td>Nouakchott</td>\n",
       "      <td>18.310000</td>\n",
       "      <td>-15.969722</td>\n",
       "    </tr>\n",
       "  </tbody>\n",
       "</table>\n",
       "</div>"
      ],
      "text/plain": [
       "         CountryISO       State        City  LatitudeDecimalDegrees  \\\n",
       "ICAOCode                                                              \n",
       "BKPR             KS    Pristina     Slatina               42.572778   \n",
       "EYVI             LT     Vilnius     Vilnius               54.636944   \n",
       "FKYS             CM    Nsimalen    Nsimalen                3.722500   \n",
       "FYWH            NaN    Windhoek    Windhoek              -22.486667   \n",
       "GQNO             MR  Nouakchott  Nouakchott               18.310000   \n",
       "\n",
       "          LongitudeDecimalDegrees  \n",
       "ICAOCode                           \n",
       "BKPR                    21.035833  \n",
       "EYVI                    25.287778  \n",
       "FKYS                    11.553333  \n",
       "FYWH                    17.462500  \n",
       "GQNO                   -15.969722  "
      ]
     },
     "execution_count": 25,
     "metadata": {},
     "output_type": "execute_result"
    }
   ],
   "source": [
    "airports_2.head()"
   ]
  },
  {
   "cell_type": "code",
   "execution_count": 26,
   "metadata": {},
   "outputs": [],
   "source": [
    "airports_2 = airports_2[['LatitudeDecimalDegrees', 'LongitudeDecimalDegrees']]"
   ]
  },
  {
   "cell_type": "code",
   "execution_count": 27,
   "metadata": {},
   "outputs": [
    {
     "name": "stderr",
     "output_type": "stream",
     "text": [
      "/anaconda3/lib/python3.7/site-packages/ipykernel_launcher.py:1: FutureWarning: Sorting because non-concatenation axis is not aligned. A future version\n",
      "of pandas will change to not sort by default.\n",
      "\n",
      "To accept the future behavior, pass 'sort=False'.\n",
      "\n",
      "To retain the current behavior and silence the warning, pass 'sort=True'.\n",
      "\n",
      "  \"\"\"Entry point for launching an IPython kernel.\n"
     ]
    }
   ],
   "source": [
    "airports = pd.concat([airports, airports_2])"
   ]
  },
  {
   "cell_type": "code",
   "execution_count": 28,
   "metadata": {},
   "outputs": [],
   "source": [
    "arts_airports = list(set(df['PULOC'].append(df['DropLoc'])))"
   ]
  },
  {
   "cell_type": "code",
   "execution_count": 29,
   "metadata": {},
   "outputs": [],
   "source": [
    "airports_to_merge = airports[airports.index.isin(arts_airports)][['LatitudeDecimalDegrees', 'LongitudeDecimalDegrees']]\n",
    "\n"
   ]
  },
  {
   "cell_type": "code",
   "execution_count": 30,
   "metadata": {},
   "outputs": [],
   "source": [
    "airports_to_merge.to_csv('../output/airports_to_merge.csv')"
   ]
  },
  {
   "cell_type": "code",
   "execution_count": 31,
   "metadata": {},
   "outputs": [
    {
     "data": {
      "text/html": [
       "<div>\n",
       "<style scoped>\n",
       "    .dataframe tbody tr th:only-of-type {\n",
       "        vertical-align: middle;\n",
       "    }\n",
       "\n",
       "    .dataframe tbody tr th {\n",
       "        vertical-align: top;\n",
       "    }\n",
       "\n",
       "    .dataframe thead th {\n",
       "        text-align: right;\n",
       "    }\n",
       "</style>\n",
       "<table border=\"1\" class=\"dataframe\">\n",
       "  <thead>\n",
       "    <tr style=\"text-align: right;\">\n",
       "      <th></th>\n",
       "      <th>AirportName</th>\n",
       "      <th>Altitude</th>\n",
       "      <th>City</th>\n",
       "      <th>Country</th>\n",
       "      <th>IATACode</th>\n",
       "      <th>LatitudeDecimalDegrees</th>\n",
       "      <th>LatitudeDegrees</th>\n",
       "      <th>LatitudeDirection</th>\n",
       "      <th>LatitudeMinutes</th>\n",
       "      <th>LatitudeSeconds</th>\n",
       "      <th>LongitudeDecimalDegrees</th>\n",
       "      <th>LongitudeDegrees</th>\n",
       "      <th>LongitudeDirection</th>\n",
       "      <th>LongitudeMinutes</th>\n",
       "      <th>LongitudeSeconds</th>\n",
       "    </tr>\n",
       "    <tr>\n",
       "      <th>ICAOCode</th>\n",
       "      <th></th>\n",
       "      <th></th>\n",
       "      <th></th>\n",
       "      <th></th>\n",
       "      <th></th>\n",
       "      <th></th>\n",
       "      <th></th>\n",
       "      <th></th>\n",
       "      <th></th>\n",
       "      <th></th>\n",
       "      <th></th>\n",
       "      <th></th>\n",
       "      <th></th>\n",
       "      <th></th>\n",
       "      <th></th>\n",
       "    </tr>\n",
       "  </thead>\n",
       "  <tbody>\n",
       "    <tr>\n",
       "      <th>AYGA</th>\n",
       "      <td>GOROKA</td>\n",
       "      <td>1610.0</td>\n",
       "      <td>GOROKA</td>\n",
       "      <td>PAPUA NEW GUINEA</td>\n",
       "      <td>GKA</td>\n",
       "      <td>-6.082</td>\n",
       "      <td>6.0</td>\n",
       "      <td>S</td>\n",
       "      <td>4.0</td>\n",
       "      <td>54.0</td>\n",
       "      <td>145.392</td>\n",
       "      <td>145.0</td>\n",
       "      <td>E</td>\n",
       "      <td>23.0</td>\n",
       "      <td>30.0</td>\n",
       "    </tr>\n",
       "    <tr>\n",
       "      <th>AYLA</th>\n",
       "      <td>NaN</td>\n",
       "      <td>0.0</td>\n",
       "      <td>LAE</td>\n",
       "      <td>PAPUA NEW GUINEA</td>\n",
       "      <td>LAE</td>\n",
       "      <td>0.000</td>\n",
       "      <td>0.0</td>\n",
       "      <td>U</td>\n",
       "      <td>0.0</td>\n",
       "      <td>0.0</td>\n",
       "      <td>0.000</td>\n",
       "      <td>0.0</td>\n",
       "      <td>U</td>\n",
       "      <td>0.0</td>\n",
       "      <td>0.0</td>\n",
       "    </tr>\n",
       "    <tr>\n",
       "      <th>AYMD</th>\n",
       "      <td>MADANG</td>\n",
       "      <td>7.0</td>\n",
       "      <td>MADANG</td>\n",
       "      <td>PAPUA NEW GUINEA</td>\n",
       "      <td>MAG</td>\n",
       "      <td>-5.207</td>\n",
       "      <td>5.0</td>\n",
       "      <td>S</td>\n",
       "      <td>12.0</td>\n",
       "      <td>25.0</td>\n",
       "      <td>145.789</td>\n",
       "      <td>145.0</td>\n",
       "      <td>E</td>\n",
       "      <td>47.0</td>\n",
       "      <td>19.0</td>\n",
       "    </tr>\n",
       "    <tr>\n",
       "      <th>AYMH</th>\n",
       "      <td>MOUNT HAGEN</td>\n",
       "      <td>1643.0</td>\n",
       "      <td>MOUNT HAGEN</td>\n",
       "      <td>PAPUA NEW GUINEA</td>\n",
       "      <td>HGU</td>\n",
       "      <td>-5.826</td>\n",
       "      <td>5.0</td>\n",
       "      <td>S</td>\n",
       "      <td>49.0</td>\n",
       "      <td>34.0</td>\n",
       "      <td>144.296</td>\n",
       "      <td>144.0</td>\n",
       "      <td>E</td>\n",
       "      <td>17.0</td>\n",
       "      <td>46.0</td>\n",
       "    </tr>\n",
       "    <tr>\n",
       "      <th>AYNZ</th>\n",
       "      <td>NADZAB</td>\n",
       "      <td>73.0</td>\n",
       "      <td>NADZAB</td>\n",
       "      <td>PAPUA NEW GUINEA</td>\n",
       "      <td>LAE</td>\n",
       "      <td>-6.570</td>\n",
       "      <td>6.0</td>\n",
       "      <td>S</td>\n",
       "      <td>34.0</td>\n",
       "      <td>11.0</td>\n",
       "      <td>146.726</td>\n",
       "      <td>146.0</td>\n",
       "      <td>E</td>\n",
       "      <td>43.0</td>\n",
       "      <td>34.0</td>\n",
       "    </tr>\n",
       "  </tbody>\n",
       "</table>\n",
       "</div>"
      ],
      "text/plain": [
       "          AirportName  Altitude         City           Country IATACode  \\\n",
       "ICAOCode                                                                  \n",
       "AYGA           GOROKA    1610.0       GOROKA  PAPUA NEW GUINEA      GKA   \n",
       "AYLA              NaN       0.0          LAE  PAPUA NEW GUINEA      LAE   \n",
       "AYMD           MADANG       7.0       MADANG  PAPUA NEW GUINEA      MAG   \n",
       "AYMH      MOUNT HAGEN    1643.0  MOUNT HAGEN  PAPUA NEW GUINEA      HGU   \n",
       "AYNZ           NADZAB      73.0       NADZAB  PAPUA NEW GUINEA      LAE   \n",
       "\n",
       "          LatitudeDecimalDegrees  LatitudeDegrees LatitudeDirection  \\\n",
       "ICAOCode                                                              \n",
       "AYGA                      -6.082              6.0                 S   \n",
       "AYLA                       0.000              0.0                 U   \n",
       "AYMD                      -5.207              5.0                 S   \n",
       "AYMH                      -5.826              5.0                 S   \n",
       "AYNZ                      -6.570              6.0                 S   \n",
       "\n",
       "          LatitudeMinutes  LatitudeSeconds  LongitudeDecimalDegrees  \\\n",
       "ICAOCode                                                              \n",
       "AYGA                  4.0             54.0                  145.392   \n",
       "AYLA                  0.0              0.0                    0.000   \n",
       "AYMD                 12.0             25.0                  145.789   \n",
       "AYMH                 49.0             34.0                  144.296   \n",
       "AYNZ                 34.0             11.0                  146.726   \n",
       "\n",
       "          LongitudeDegrees LongitudeDirection  LongitudeMinutes  \\\n",
       "ICAOCode                                                          \n",
       "AYGA                 145.0                  E              23.0   \n",
       "AYLA                   0.0                  U               0.0   \n",
       "AYMD                 145.0                  E              47.0   \n",
       "AYMH                 144.0                  E              17.0   \n",
       "AYNZ                 146.0                  E              43.0   \n",
       "\n",
       "          LongitudeSeconds  \n",
       "ICAOCode                    \n",
       "AYGA                  30.0  \n",
       "AYLA                   0.0  \n",
       "AYMD                  19.0  \n",
       "AYMH                  46.0  \n",
       "AYNZ                  34.0  "
      ]
     },
     "execution_count": 31,
     "metadata": {},
     "output_type": "execute_result"
    }
   ],
   "source": [
    "airports.head()"
   ]
  },
  {
   "cell_type": "code",
   "execution_count": 32,
   "metadata": {},
   "outputs": [],
   "source": [
    "edges = flights[['pickup_airport', 'dropoff_airport']].values"
   ]
  },
  {
   "cell_type": "code",
   "execution_count": 33,
   "metadata": {},
   "outputs": [],
   "source": [
    "g = nx.from_edgelist(edges)"
   ]
  },
  {
   "cell_type": "code",
   "execution_count": 34,
   "metadata": {},
   "outputs": [
    {
     "data": {
      "text/plain": [
       "(221, 721)"
      ]
     },
     "execution_count": 34,
     "metadata": {},
     "output_type": "execute_result"
    }
   ],
   "source": [
    "len(g.nodes()), len(g.edges())"
   ]
  },
  {
   "cell_type": "code",
   "execution_count": 35,
   "metadata": {},
   "outputs": [
    {
     "name": "stderr",
     "output_type": "stream",
     "text": [
      "/anaconda3/lib/python3.7/site-packages/networkx/drawing/nx_pylab.py:611: MatplotlibDeprecationWarning: isinstance(..., numbers.Number)\n",
      "  if cb.is_numlike(alpha):\n"
     ]
    },
    {
     "data": {
      "image/png": "[encoded data removed]",
      "text/plain": [
       "<Figure size 432x432 with 1 Axes>"
      ]
     },
     "metadata": {
      "needs_background": "light"
     },
     "output_type": "display_data"
    }
   ],
   "source": [
    "fig, ax = plt.subplots(1, 1, figsize=(6, 6))\n",
    "nx.draw_networkx(g, ax=ax, node_size=5,\n",
    "                 font_size=6, alpha=.5,\n",
    "                 width=.5)\n",
    "ax.set_axis_off()"
   ]
  },
  {
   "cell_type": "code",
   "execution_count": 36,
   "metadata": {},
   "outputs": [],
   "source": [
    "sg = next(nx.connected_component_subgraphs(g))"
   ]
  },
  {
   "cell_type": "code",
   "execution_count": 45,
   "metadata": {},
   "outputs": [
    {
     "data": {
      "text/plain": [
       "<generator object connected_component_subgraphs at 0xa2ee49b88>"
      ]
     },
     "execution_count": 45,
     "metadata": {},
     "output_type": "execute_result"
    }
   ],
   "source": [
    "nx.connected_component_subgraphs(g)"
   ]
  },
  {
   "cell_type": "code",
   "execution_count": 52,
   "metadata": {},
   "outputs": [
    {
     "data": {
      "text/plain": [
       "NodeView(('OLBA', 'KTEB'))"
      ]
     },
     "execution_count": 52,
     "metadata": {},
     "output_type": "execute_result"
    }
   ],
   "source": [
    "list(nx.connected_component_subgraphs(g))[1].nodes"
   ]
  },
  {
   "cell_type": "code",
   "execution_count": 53,
   "metadata": {},
   "outputs": [
    {
     "data": {
      "text/plain": [
       "NodeView(('YSSY', 'NZWN', 'KSDM', 'NFTF'))"
      ]
     },
     "execution_count": 53,
     "metadata": {},
     "output_type": "execute_result"
    }
   ],
   "source": [
    "list(nx.connected_component_subgraphs(g))[2].nodes"
   ]
  },
  {
   "cell_type": "code",
   "execution_count": 37,
   "metadata": {},
   "outputs": [
    {
     "data": {
      "image/png": "[encoded data removed]",
      "text/plain": [
       "<Figure size 432x432 with 1 Axes>"
      ]
     },
     "metadata": {
      "needs_background": "light"
     },
     "output_type": "display_data"
    }
   ],
   "source": [
    "fig, ax = plt.subplots(1, 1, figsize=(6, 6))\n",
    "nx.draw_networkx(sg, ax=ax, with_labels=False,\n",
    "                 node_size=5, width=.5)\n",
    "ax.set_axis_off()"
   ]
  },
  {
   "cell_type": "code",
   "execution_count": 207,
   "metadata": {},
   "outputs": [],
   "source": [
    "pos = {airport: (v['LongitudeDecimalDegrees'], v['LatitudeDecimalDegrees'])\n",
    "       for airport, v in\n",
    "       airports.to_dict('index').items()}"
   ]
  },
  {
   "cell_type": "code",
   "execution_count": 208,
   "metadata": {},
   "outputs": [],
   "source": [
    "# Dropping unknown locations\n",
    "pos_unknown = {k:v for k, v in pos.items() if v == (0.0, 0.0)}"
   ]
  },
  {
   "cell_type": "code",
   "execution_count": 51,
   "metadata": {},
   "outputs": [],
   "source": [
    "pickup_totals = flights.groupby('pickup_airport')['passengers'].sum()\n",
    "dropoff_totals = flights.groupby('dropoff_airport')['passengers'].sum()"
   ]
  },
  {
   "cell_type": "code",
   "execution_count": 67,
   "metadata": {},
   "outputs": [],
   "source": [
    "passenger_totals = pd.concat([pickup_totals, dropoff_totals])"
   ]
  },
  {
   "cell_type": "code",
   "execution_count": 141,
   "metadata": {},
   "outputs": [],
   "source": [
    "passenger_total = pd.Series(passenger_totals[icao].sum() for icao in sg.nodes)"
   ]
  },
  {
   "cell_type": "code",
   "execution_count": 175,
   "metadata": {},
   "outputs": [],
   "source": [
    "deg = nx.degree(sg)\n",
    "sizes = [5 * deg[icao] for icao in sg.nodes]"
   ]
  },
  {
   "cell_type": "code",
   "execution_count": 178,
   "metadata": {},
   "outputs": [],
   "source": [
    "labels = {icao: icao if passenger_totals[icao].sum() >= 30000 else ''\n",
    "          for icao in sg.nodes}\n",
    "no_labels = {icao: '' for icao in sg.nodes}"
   ]
  },
  {
   "cell_type": "code",
   "execution_count": 211,
   "metadata": {},
   "outputs": [
    {
     "data": {
      "image/png": "[encoded data removed]",
      "text/plain": [
       "<Figure size 864x576 with 2 Axes>"
      ]
     },
     "metadata": {
      "needs_background": "light"
     },
     "output_type": "display_data"
    }
   ],
   "source": [
    "# Map projection\n",
    "crs = ccrs.PlateCarree(central_longitude=0.0)\n",
    "\n",
    "fig, ax = plt.subplots(\n",
    "    1, 1, figsize=(12, 8),\n",
    "    subplot_kw=dict(projection=crs))\n",
    "ax.coastlines()\n",
    "\n",
    "# Extent of continental US.\n",
    "# ax.set_extent([-128, -62, 10, 50])\n",
    "# Global\n",
    "ax.set_extent([-180, 180, -60, 90])\n",
    "\n",
    "cmap = plt.cm.autumn\n",
    "\n",
    "nx.draw_networkx(sg, ax=ax,\n",
    "                 font_size=16,\n",
    "                 alpha=.75,\n",
    "                 width=.075,\n",
    "                 node_size=sizes,\n",
    "                 node_color=passenger_total,\n",
    "                 labels=no_labels,\n",
    "                 pos=pos,\n",
    "                 cmap=cmap)\n",
    "\n",
    "vmin = passenger_total.min()\n",
    "vmax = passenger_total.max()\n",
    "\n",
    "sm = plt.cm.ScalarMappable(cmap=cmap, norm=plt.Normalize(vmin = vmin, vmax=vmax))\n",
    "sm._A = []\n",
    "plt.colorbar(sm, shrink=.75)\n",
    "plt.title(\"ICE Air: Total passengers per airport and flight paths\", size=18)\n",
    "plt.show()"
   ]
  },
  {
   "cell_type": "markdown",
   "metadata": {},
   "source": [
    "# Choropleth"
   ]
  },
  {
   "cell_type": "code",
   "execution_count": 237,
   "metadata": {},
   "outputs": [
    {
     "name": "stderr",
     "output_type": "stream",
     "text": [
      "/Users/philneff/anaconda3/lib/python3.7/site-packages/ipykernel_launcher.py:17: RuntimeWarning: divide by zero encountered in log\n"
     ]
    },
    {
     "data": {
      "image/png": "[encoded data removed]",
      "text/plain": [
       "<Figure size 432x288 with 2 Axes>"
      ]
     },
     "metadata": {
      "needs_background": "light"
     },
     "output_type": "display_data"
    }
   ],
   "source": [
    "cmap = mpl.cm.Blues\n",
    "# Countries is a dictionary of {\"country_name\": number of users}, for example\n",
    "countries = df[df['R-T'] == 'R'].groupby(['CountryOfCitizenship'])['AlienMasterID'].nunique().to_dict()\n",
    "\n",
    "min_passengers = float(min(countries.values()))\n",
    "max_passengers = float(max(countries.values()))\n",
    "shapename = 'admin_0_countries'\n",
    "countries_shp = shpreader.natural_earth(resolution='110m', category='cultural', name=shapename)\n",
    "ax = plt.axes(projection=ccrs.Robinson())\n",
    "ax.coastlines()\n",
    "\n",
    "for country in shpreader.Reader(countries_shp).records():\n",
    "    name = country.attributes['NAME_LONG'].upper()\n",
    "    try:\n",
    "        num_passengers = countries[name]\n",
    "        ax.add_geometries(country.geometry, ccrs.PlateCarree(),\n",
    "                    facecolor=cmap(np.log(num_passengers)/np.log(max_passengers)))\n",
    "    except:\n",
    "        num_passengers = 0\n",
    "        ax.add_geometries(country.geometry, ccrs.PlateCarree(),\n",
    "                    facecolor=cmap(num_passengers))\n",
    "        pass\n",
    "\n",
    "# formatter = LogFormatter(labelOnlyBase=False) \n",
    "    \n",
    "sm = plt.cm.ScalarMappable(cmap=cmap,norm=colors.LogNorm(vmin=1, vmax=max_passengers))\n",
    "sm._A = []\n",
    "plt.colorbar(sm, ax=ax, shrink=.66, extend='max')\n",
    "\n",
    "plt.title('ICE Air global removals (logged),\\nOct. 2010 - Dec. 2018')\n",
    "\n",
    "plt.savefig('../output/removal_choropleth.png', transparent=True, dpi=900)"
   ]
  },
  {
   "cell_type": "code",
   "execution_count": null,
   "metadata": {},
   "outputs": [],
   "source": []
  }
 ],
 "metadata": {
  "kernelspec": {
   "display_name": "Python 3",
   "language": "python",
   "name": "python3"
  },
  "language_info": {
   "codemirror_mode": {
    "name": "ipython",
    "version": 3
   },
   "file_extension": ".py",
   "mimetype": "text/x-python",
   "name": "python",
   "nbconvert_exporter": "python",
   "pygments_lexer": "ipython3",
   "version": "3.7.1"
  }
 },
 "nbformat": 4,
 "nbformat_minor": 2
}
