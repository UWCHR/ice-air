{
 "cells": [
  {
   "cell_type": "code",
   "execution_count": 1,
   "metadata": {},
   "outputs": [],
   "source": [
    "import numpy as np\n",
    "import pandas as pd\n",
    "import yaml\n",
    "import matplotlib.pyplot as plt\n",
    "import matplotlib.mlab as mlab\n",
    "import seaborn as sns"
   ]
  },
  {
   "cell_type": "markdown",
   "metadata": {},
   "source": [
    "# Import\n",
    "\n",
    "First we open a file containing a dictionary of columns and associated data types generated in `../../optimize/`, then we read input file."
   ]
  },
  {
   "cell_type": "code",
   "execution_count": 2,
   "metadata": {},
   "outputs": [
    {
     "name": "stdout",
     "output_type": "stream",
     "text": [
      "<class 'pandas.core.frame.DataFrame'>\n",
      "RangeIndex: 1763020 entries, 0 to 1763019\n",
      "Data columns (total 44 columns):\n",
      "Status                  category\n",
      "Sex                     category\n",
      "Convictions             category\n",
      "GangMember              category\n",
      "ClassLvl                float32\n",
      "Age                     float32\n",
      "MissionDate             datetime64[ns]\n",
      "MissionNumber           uint32\n",
      "PULOC                   category\n",
      "DropLoc                 category\n",
      "StrikeFromList          float32\n",
      "ReasonStruck            category\n",
      "R-T                     category\n",
      "Code                    category\n",
      "CountryOfCitizenship    category\n",
      "Juvenile                bool\n",
      "MissionWeek             uint8\n",
      "MissionQuarter          uint8\n",
      "MissionYear             uint16\n",
      "MissionMonth            uint8\n",
      "Criminality             category\n",
      "FamilyUnitFlag          float32\n",
      "UnaccompaniedFlag       float32\n",
      "AlienMasterID           uint32\n",
      "MissionID               uint16\n",
      "air_AirportID           float32\n",
      "air_AirportName         category\n",
      "air_City                category\n",
      "st_StateID              float32\n",
      "st_StateAbbr            category\n",
      "AOR_AORID               float32\n",
      "AOR_AOR                 category\n",
      "AOR_AORName             category\n",
      "air_Country             category\n",
      "air2_AirportID          float32\n",
      "air2_AirportName        category\n",
      "air2_City               category\n",
      "st2_StateID             float32\n",
      "st2_StateAbbr           category\n",
      "aor2_AORID              float32\n",
      "aor2_AOR                category\n",
      "aor2_AORName            category\n",
      "air2_Country            category\n",
      "NonCriminal             bool\n",
      "dtypes: bool(2), category(23), datetime64[ns](1), float32(11), uint16(2), uint32(2), uint8(3)\n",
      "memory usage: 168.6 MB\n"
     ]
    }
   ],
   "source": [
    "with open('../input/dtypes.yaml', 'r') as yamlfile:\n",
    "    column_types = yaml.load(yamlfile)\n",
    "\n",
    "read_csv_opts = {'sep': '|',\n",
    "                 'quotechar': '\"',\n",
    "                 'compression': 'gzip',\n",
    "                 'encoding': 'utf-8',\n",
    "                 'dtype': column_types,\n",
    "                 'parse_dates': ['MissionDate'],\n",
    "                 'infer_datetime_format': True}\n",
    "\n",
    "df = pd.read_csv('../input/ice-air.csv.gz', **read_csv_opts)\n",
    "\n",
    "df.info(memory_usage='deep')"
   ]
  },
  {
   "cell_type": "markdown",
   "metadata": {},
   "source": [
    "# By country of citizenship"
   ]
  },
  {
   "cell_type": "code",
   "execution_count": 3,
   "metadata": {},
   "outputs": [],
   "source": [
    "nationality = 'MAURITANIA'"
   ]
  },
  {
   "cell_type": "code",
   "execution_count": 29,
   "metadata": {},
   "outputs": [],
   "source": [
    "if nationality.upper() in df['CountryOfCitizenship'].str.upper().unique():\n",
    "    pass\n",
    "else:\n",
    "    print(f'{nationality} not represented in dataset')"
   ]
  },
  {
   "cell_type": "code",
   "execution_count": 32,
   "metadata": {},
   "outputs": [],
   "source": [
    "removal_df = df[df['R-T'] == 'R'].drop_duplicates(subset='AlienMasterID')\n",
    "transfer_df = df[df['R-T'] == 'T'].drop_duplicates(subset='AlienMasterID')"
   ]
  },
  {
   "cell_type": "code",
   "execution_count": 33,
   "metadata": {},
   "outputs": [
    {
     "data": {
      "text/html": [
       "<div>\n",
       "<style scoped>\n",
       "    .dataframe tbody tr th:only-of-type {\n",
       "        vertical-align: middle;\n",
       "    }\n",
       "\n",
       "    .dataframe tbody tr th {\n",
       "        vertical-align: top;\n",
       "    }\n",
       "\n",
       "    .dataframe thead th {\n",
       "        text-align: right;\n",
       "    }\n",
       "</style>\n",
       "<table border=\"1\" class=\"dataframe\">\n",
       "  <thead>\n",
       "    <tr style=\"text-align: right;\">\n",
       "      <th></th>\n",
       "      <th>CountryOfCitizenship</th>\n",
       "      <th>AlienMasterID</th>\n",
       "      <th>Rank</th>\n",
       "    </tr>\n",
       "  </thead>\n",
       "  <tbody>\n",
       "    <tr>\n",
       "      <th>52</th>\n",
       "      <td>MAURITANIA</td>\n",
       "      <td>12</td>\n",
       "      <td>53</td>\n",
       "    </tr>\n",
       "  </tbody>\n",
       "</table>\n",
       "</div>"
      ],
      "text/plain": [
       "   CountryOfCitizenship  AlienMasterID  Rank\n",
       "52           MAURITANIA             12    53"
      ]
     },
     "execution_count": 33,
     "metadata": {},
     "output_type": "execute_result"
    }
   ],
   "source": [
    "all_nationalities = removal_df.groupby(['CountryOfCitizenship'])['AlienMasterID'].nunique()\n",
    "all_nationalities = all_nationalities.sort_values(ascending=False)\n",
    "all_nationalities = all_nationalities.reset_index().reset_index()\n",
    "all_nationalities['Rank'] = all_nationalities['index'] + 1\n",
    "all_nationalities.drop('index', axis=1, inplace=True)\n",
    "all_nationalities[all_nationalities['CountryOfCitizenship'] == nationality]"
   ]
  },
  {
   "cell_type": "code",
   "execution_count": 34,
   "metadata": {},
   "outputs": [],
   "source": [
    "nationality_df = df[df['CountryOfCitizenship'] == nationality.upper()]"
   ]
  },
  {
   "cell_type": "code",
   "execution_count": 35,
   "metadata": {},
   "outputs": [
    {
     "data": {
      "text/plain": [
       "Alexandria International Airport         48\n",
       "Toledo Express Airport                   29\n",
       "Phoenix-Mesa-Gateway Airport             27\n",
       "Newark Liberty International Airport      9\n",
       "San Diego International Airport           5\n",
       "Harrisburg International Airport          3\n",
       "Laredo International Airport              1\n",
       "San Antonio International Airport         1\n",
       "Buffalo Niagara International Airport     1\n",
       "Columbus Metropolitan Airport             1\n",
       "Name: air_AirportName, dtype: int64"
      ]
     },
     "execution_count": 35,
     "metadata": {},
     "output_type": "execute_result"
    }
   ],
   "source": [
    "# Top pickup airports (removals and transfers)\n",
    "nationality_df['air_AirportName'].value_counts().head(10)"
   ]
  },
  {
   "cell_type": "code",
   "execution_count": 36,
   "metadata": {},
   "outputs": [
    {
     "data": {
      "text/plain": [
       "Alexandria International Airport                  51\n",
       "Newark Liberty International Airport              18\n",
       "Phoenix-Mesa-Gateway Airport                      14\n",
       "Toledo Express Airport                            12\n",
       "Nouakchott-Oumtounsy International Airport        12\n",
       "Denver International Airport                       5\n",
       "Boeing Field King County International Airport     3\n",
       "El Paso International Airport                      3\n",
       "Harrisburg International Airport                   2\n",
       "Portland International Airport                     2\n",
       "Name: air2_AirportName, dtype: int64"
      ]
     },
     "execution_count": 36,
     "metadata": {},
     "output_type": "execute_result"
    }
   ],
   "source": [
    "# Top dropoff airports (removals and transfers)\n",
    "nationality_df['air2_AirportName'].value_counts().head(10)"
   ]
  },
  {
   "cell_type": "code",
   "execution_count": 37,
   "metadata": {},
   "outputs": [],
   "source": [
    "nationality_df.set_index('MissionDate', inplace=True)"
   ]
  },
  {
   "cell_type": "code",
   "execution_count": 38,
   "metadata": {},
   "outputs": [],
   "source": [
    "g = nationality_df.groupby(['CountryOfCitizenship', 'MissionDate', 'R-T', 'PULOC', 'DropLoc'])"
   ]
  },
  {
   "cell_type": "code",
   "execution_count": 39,
   "metadata": {},
   "outputs": [],
   "source": [
    "table = g['AlienMasterID'].nunique().reset_index(name='AlienMasterIDCount')\n",
    "table['MissionIDCount'] = g['MissionID'].nunique().reset_index(name='MissionIDCount')['MissionIDCount']\n",
    "table['JuvenileCount'] = g['Juvenile'].sum().reset_index(name='JuvenileCount')['JuvenileCount']\n",
    "table['JuvPercent'] = table['JuvenileCount'] / table['AlienMasterIDCount']\n",
    "table['NCCount'] = g['NonCriminal'].sum().reset_index(name='NCCount')['NCCount']\n",
    "table['NCPercent'] = table['NCCount'] / table['AlienMasterIDCount'] * 100"
   ]
  },
  {
   "cell_type": "code",
   "execution_count": 40,
   "metadata": {},
   "outputs": [],
   "source": [
    "removals = table[table['R-T'] == 'R'].copy()\n",
    "transfers = table[table['R-T'] == 'T'].copy()"
   ]
  },
  {
   "cell_type": "code",
   "execution_count": 41,
   "metadata": {},
   "outputs": [],
   "source": [
    "removals.set_index('MissionDate', inplace=True)\n",
    "transfers.set_index('MissionDate', inplace=True)"
   ]
  },
  {
   "cell_type": "code",
   "execution_count": 42,
   "metadata": {},
   "outputs": [
    {
     "data": {
      "text/plain": [
       "12"
      ]
     },
     "execution_count": 42,
     "metadata": {},
     "output_type": "execute_result"
    }
   ],
   "source": [
    "# Total removals\n",
    "removals['AlienMasterIDCount'].sum()"
   ]
  },
  {
   "cell_type": "code",
   "execution_count": 43,
   "metadata": {},
   "outputs": [
    {
     "data": {
      "text/plain": [
       "4"
      ]
     },
     "execution_count": 43,
     "metadata": {},
     "output_type": "execute_result"
    }
   ],
   "source": [
    "# Total removal flights\n",
    "removals['MissionIDCount'].sum()"
   ]
  },
  {
   "cell_type": "code",
   "execution_count": 44,
   "metadata": {},
   "outputs": [
    {
     "data": {
      "text/plain": [
       "116"
      ]
     },
     "execution_count": 44,
     "metadata": {},
     "output_type": "execute_result"
    }
   ],
   "source": [
    "# Total transfers\n",
    "transfers['AlienMasterIDCount'].sum()"
   ]
  },
  {
   "cell_type": "code",
   "execution_count": 45,
   "metadata": {},
   "outputs": [],
   "source": [
    "weekly_removals = removals['AlienMasterIDCount'].resample('W').sum()\n",
    "weekly_transfers = transfers['AlienMasterIDCount'].resample('W').sum()\n",
    "monthly_removals = removals['AlienMasterIDCount'].resample('M').sum()\n",
    "monthly_transfers = transfers['AlienMasterIDCount'].resample('M').sum()\n",
    "monthly_removal_flights = removals['MissionIDCount'].resample('M').sum()\n",
    "monthly_transfers_flights = transfers['MissionIDCount'].resample('M').sum()\n",
    "annual_removals = removals['AlienMasterIDCount'].resample('AS-OCT').sum()\n",
    "annual_transfers = transfers['AlienMasterIDCount'].resample('AS-OCT').sum()\n",
    "annual_removal_flights = removals['MissionIDCount'].resample('AS-OCT').sum()\n",
    "annual_transfer_flights = transfers['MissionIDCount'].resample('AS-OCT').sum()\n",
    "annual_juvenile_removals = removals['JuvenileCount'].resample('AS-OCT').sum()"
   ]
  },
  {
   "cell_type": "code",
   "execution_count": 46,
   "metadata": {},
   "outputs": [
    {
     "data": {
      "text/plain": [
       "MissionDate\n",
       "2016-10-01    2\n",
       "2017-10-01    7\n",
       "2018-10-01    3\n",
       "Freq: AS-OCT, Name: AlienMasterIDCount, dtype: int64"
      ]
     },
     "execution_count": 46,
     "metadata": {},
     "output_type": "execute_result"
    }
   ],
   "source": [
    "annual_removals"
   ]
  },
  {
   "cell_type": "code",
   "execution_count": 47,
   "metadata": {},
   "outputs": [
    {
     "data": {
      "text/plain": [
       "MissionDate\n",
       "2010-10-01     1\n",
       "2011-10-01     1\n",
       "2012-10-01     0\n",
       "2013-10-01     0\n",
       "2014-10-01     0\n",
       "2015-10-01     3\n",
       "2016-10-01     8\n",
       "2017-10-01    89\n",
       "2018-10-01    14\n",
       "Freq: AS-OCT, Name: AlienMasterIDCount, dtype: int64"
      ]
     },
     "execution_count": 47,
     "metadata": {},
     "output_type": "execute_result"
    }
   ],
   "source": [
    "annual_transfers"
   ]
  },
  {
   "cell_type": "code",
   "execution_count": 48,
   "metadata": {},
   "outputs": [
    {
     "data": {
      "text/plain": [
       "MissionDate\n",
       "2016-10-01    False\n",
       "2017-10-01    False\n",
       "2018-10-01    False\n",
       "Freq: AS-OCT, Name: JuvenileCount, dtype: bool"
      ]
     },
     "execution_count": 48,
     "metadata": {},
     "output_type": "execute_result"
    }
   ],
   "source": [
    "annual_juvenile_removals"
   ]
  },
  {
   "cell_type": "code",
   "execution_count": 49,
   "metadata": {},
   "outputs": [],
   "source": [
    "removals.reset_index(inplace=True, drop=False)\n",
    "transfers.reset_index(inplace=True, drop=False)"
   ]
  },
  {
   "cell_type": "code",
   "execution_count": 50,
   "metadata": {},
   "outputs": [
    {
     "data": {
      "text/html": [
       "<div>\n",
       "<style scoped>\n",
       "    .dataframe tbody tr th:only-of-type {\n",
       "        vertical-align: middle;\n",
       "    }\n",
       "\n",
       "    .dataframe tbody tr th {\n",
       "        vertical-align: top;\n",
       "    }\n",
       "\n",
       "    .dataframe thead th {\n",
       "        text-align: right;\n",
       "    }\n",
       "</style>\n",
       "<table border=\"1\" class=\"dataframe\">\n",
       "  <thead>\n",
       "    <tr style=\"text-align: right;\">\n",
       "      <th></th>\n",
       "      <th>MissionDate</th>\n",
       "      <th>CountryOfCitizenship</th>\n",
       "      <th>R-T</th>\n",
       "      <th>PULOC</th>\n",
       "      <th>DropLoc</th>\n",
       "      <th>AlienMasterIDCount</th>\n",
       "      <th>MissionIDCount</th>\n",
       "      <th>JuvenileCount</th>\n",
       "      <th>JuvPercent</th>\n",
       "      <th>NCCount</th>\n",
       "      <th>NCPercent</th>\n",
       "    </tr>\n",
       "  </thead>\n",
       "  <tbody>\n",
       "    <tr>\n",
       "      <th>0</th>\n",
       "      <td>2016-11-15</td>\n",
       "      <td>MAURITANIA</td>\n",
       "      <td>R</td>\n",
       "      <td>KAEX</td>\n",
       "      <td>GQNO</td>\n",
       "      <td>2</td>\n",
       "      <td>1</td>\n",
       "      <td>False</td>\n",
       "      <td>0.0</td>\n",
       "      <td>0.0</td>\n",
       "      <td>0.000000</td>\n",
       "    </tr>\n",
       "    <tr>\n",
       "      <th>1</th>\n",
       "      <td>2018-04-10</td>\n",
       "      <td>MAURITANIA</td>\n",
       "      <td>R</td>\n",
       "      <td>KIWA</td>\n",
       "      <td>GQNO</td>\n",
       "      <td>2</td>\n",
       "      <td>1</td>\n",
       "      <td>False</td>\n",
       "      <td>0.0</td>\n",
       "      <td>1.0</td>\n",
       "      <td>50.000000</td>\n",
       "    </tr>\n",
       "    <tr>\n",
       "      <th>2</th>\n",
       "      <td>2018-06-11</td>\n",
       "      <td>MAURITANIA</td>\n",
       "      <td>R</td>\n",
       "      <td>KIWA</td>\n",
       "      <td>GQNO</td>\n",
       "      <td>5</td>\n",
       "      <td>1</td>\n",
       "      <td>False</td>\n",
       "      <td>0.0</td>\n",
       "      <td>2.0</td>\n",
       "      <td>40.000000</td>\n",
       "    </tr>\n",
       "    <tr>\n",
       "      <th>3</th>\n",
       "      <td>2018-10-16</td>\n",
       "      <td>MAURITANIA</td>\n",
       "      <td>R</td>\n",
       "      <td>KIWA</td>\n",
       "      <td>GQNO</td>\n",
       "      <td>3</td>\n",
       "      <td>1</td>\n",
       "      <td>False</td>\n",
       "      <td>0.0</td>\n",
       "      <td>2.0</td>\n",
       "      <td>66.666667</td>\n",
       "    </tr>\n",
       "  </tbody>\n",
       "</table>\n",
       "</div>"
      ],
      "text/plain": [
       "  MissionDate CountryOfCitizenship R-T PULOC DropLoc  AlienMasterIDCount  \\\n",
       "0  2016-11-15           MAURITANIA   R  KAEX    GQNO                   2   \n",
       "1  2018-04-10           MAURITANIA   R  KIWA    GQNO                   2   \n",
       "2  2018-06-11           MAURITANIA   R  KIWA    GQNO                   5   \n",
       "3  2018-10-16           MAURITANIA   R  KIWA    GQNO                   3   \n",
       "\n",
       "   MissionIDCount  JuvenileCount  JuvPercent  NCCount  NCPercent  \n",
       "0               1          False         0.0      0.0   0.000000  \n",
       "1               1          False         0.0      1.0  50.000000  \n",
       "2               1          False         0.0      2.0  40.000000  \n",
       "3               1          False         0.0      2.0  66.666667  "
      ]
     },
     "execution_count": 50,
     "metadata": {},
     "output_type": "execute_result"
    }
   ],
   "source": [
    "removals.tail(20)"
   ]
  },
  {
   "cell_type": "code",
   "execution_count": 51,
   "metadata": {},
   "outputs": [],
   "source": [
    "removals.to_csv(f'../output/{nationality}_removal_flights.csv')"
   ]
  },
  {
   "cell_type": "code",
   "execution_count": 52,
   "metadata": {},
   "outputs": [
    {
     "data": {
      "text/html": [
       "<div>\n",
       "<style scoped>\n",
       "    .dataframe tbody tr th:only-of-type {\n",
       "        vertical-align: middle;\n",
       "    }\n",
       "\n",
       "    .dataframe tbody tr th {\n",
       "        vertical-align: top;\n",
       "    }\n",
       "\n",
       "    .dataframe thead th {\n",
       "        text-align: right;\n",
       "    }\n",
       "</style>\n",
       "<table border=\"1\" class=\"dataframe\">\n",
       "  <thead>\n",
       "    <tr style=\"text-align: right;\">\n",
       "      <th></th>\n",
       "      <th>MissionDate</th>\n",
       "      <th>CountryOfCitizenship</th>\n",
       "      <th>R-T</th>\n",
       "      <th>PULOC</th>\n",
       "      <th>DropLoc</th>\n",
       "      <th>AlienMasterIDCount</th>\n",
       "      <th>MissionIDCount</th>\n",
       "      <th>JuvenileCount</th>\n",
       "      <th>JuvPercent</th>\n",
       "      <th>NCCount</th>\n",
       "      <th>NCPercent</th>\n",
       "    </tr>\n",
       "  </thead>\n",
       "  <tbody>\n",
       "    <tr>\n",
       "      <th>0</th>\n",
       "      <td>2010-12-08</td>\n",
       "      <td>MAURITANIA</td>\n",
       "      <td>T</td>\n",
       "      <td>KMDT</td>\n",
       "      <td>KAEX</td>\n",
       "      <td>1</td>\n",
       "      <td>1</td>\n",
       "      <td>False</td>\n",
       "      <td>0.0</td>\n",
       "      <td>0.0</td>\n",
       "      <td>0.0</td>\n",
       "    </tr>\n",
       "    <tr>\n",
       "      <th>1</th>\n",
       "      <td>2011-12-05</td>\n",
       "      <td>MAURITANIA</td>\n",
       "      <td>T</td>\n",
       "      <td>KMDT</td>\n",
       "      <td>KAEX</td>\n",
       "      <td>1</td>\n",
       "      <td>1</td>\n",
       "      <td>False</td>\n",
       "      <td>0.0</td>\n",
       "      <td>0.0</td>\n",
       "      <td>0.0</td>\n",
       "    </tr>\n",
       "    <tr>\n",
       "      <th>2</th>\n",
       "      <td>2016-04-07</td>\n",
       "      <td>MAURITANIA</td>\n",
       "      <td>T</td>\n",
       "      <td>KIWA</td>\n",
       "      <td>KAEX</td>\n",
       "      <td>1</td>\n",
       "      <td>1</td>\n",
       "      <td>False</td>\n",
       "      <td>0.0</td>\n",
       "      <td>1.0</td>\n",
       "      <td>100.0</td>\n",
       "    </tr>\n",
       "    <tr>\n",
       "      <th>3</th>\n",
       "      <td>2016-09-06</td>\n",
       "      <td>MAURITANIA</td>\n",
       "      <td>T</td>\n",
       "      <td>KEWR</td>\n",
       "      <td>KAEX</td>\n",
       "      <td>1</td>\n",
       "      <td>1</td>\n",
       "      <td>False</td>\n",
       "      <td>0.0</td>\n",
       "      <td>0.0</td>\n",
       "      <td>0.0</td>\n",
       "    </tr>\n",
       "    <tr>\n",
       "      <th>4</th>\n",
       "      <td>2016-09-07</td>\n",
       "      <td>MAURITANIA</td>\n",
       "      <td>T</td>\n",
       "      <td>KAEX</td>\n",
       "      <td>KTOL</td>\n",
       "      <td>1</td>\n",
       "      <td>1</td>\n",
       "      <td>False</td>\n",
       "      <td>0.0</td>\n",
       "      <td>0.0</td>\n",
       "      <td>0.0</td>\n",
       "    </tr>\n",
       "  </tbody>\n",
       "</table>\n",
       "</div>"
      ],
      "text/plain": [
       "  MissionDate CountryOfCitizenship R-T PULOC DropLoc  AlienMasterIDCount  \\\n",
       "0  2010-12-08           MAURITANIA   T  KMDT    KAEX                   1   \n",
       "1  2011-12-05           MAURITANIA   T  KMDT    KAEX                   1   \n",
       "2  2016-04-07           MAURITANIA   T  KIWA    KAEX                   1   \n",
       "3  2016-09-06           MAURITANIA   T  KEWR    KAEX                   1   \n",
       "4  2016-09-07           MAURITANIA   T  KAEX    KTOL                   1   \n",
       "\n",
       "   MissionIDCount  JuvenileCount  JuvPercent  NCCount  NCPercent  \n",
       "0               1          False         0.0      0.0        0.0  \n",
       "1               1          False         0.0      0.0        0.0  \n",
       "2               1          False         0.0      1.0      100.0  \n",
       "3               1          False         0.0      0.0        0.0  \n",
       "4               1          False         0.0      0.0        0.0  "
      ]
     },
     "execution_count": 52,
     "metadata": {},
     "output_type": "execute_result"
    }
   ],
   "source": [
    "transfers.head()"
   ]
  },
  {
   "cell_type": "code",
   "execution_count": 53,
   "metadata": {},
   "outputs": [],
   "source": [
    "# transfers.to_csv(f'../output/{nationality.lower()}_transfers.csv.gz', compression='gzip', sep='|', index=False)\n",
    "# removals.to_csv(f'../output/{nationality.lower()}_repatriations.csv.gz', compression='gzip', sep='|', index=False)"
   ]
  },
  {
   "cell_type": "code",
   "execution_count": 54,
   "metadata": {},
   "outputs": [],
   "source": [
    "removals.set_index('MissionDate', inplace=True)"
   ]
  },
  {
   "cell_type": "code",
   "execution_count": 55,
   "metadata": {},
   "outputs": [],
   "source": [
    "transfers.set_index('MissionDate', inplace=True)"
   ]
  },
  {
   "cell_type": "code",
   "execution_count": 56,
   "metadata": {},
   "outputs": [],
   "source": [
    "r_cum = removals['AlienMasterIDCount'].cumsum()\n",
    "t_cum = transfers['AlienMasterIDCount'].cumsum()"
   ]
  },
  {
   "cell_type": "code",
   "execution_count": 57,
   "metadata": {},
   "outputs": [
    {
     "data": {
      "text/plain": [
       "<matplotlib.axes._subplots.AxesSubplot at 0x7f285eb1de10>"
      ]
     },
     "execution_count": 57,
     "metadata": {},
     "output_type": "execute_result"
    },
    {
     "data": {
      "image/png": "[encoded data removed]",
      "text/plain": [
       "<Figure size 432x288 with 1 Axes>"
      ]
     },
     "metadata": {
      "needs_background": "light"
     },
     "output_type": "display_data"
    }
   ],
   "source": [
    "r_cum.plot(style='o-')"
   ]
  },
  {
   "cell_type": "code",
   "execution_count": 58,
   "metadata": {},
   "outputs": [
    {
     "data": {
      "text/plain": [
       "<matplotlib.axes._subplots.AxesSubplot at 0x7f285eab1278>"
      ]
     },
     "execution_count": 58,
     "metadata": {},
     "output_type": "execute_result"
    },
    {
     "data": {
      "image/png": "[encoded data removed]",
      "text/plain": [
       "<Figure size 432x288 with 1 Axes>"
      ]
     },
     "metadata": {
      "needs_background": "light"
     },
     "output_type": "display_data"
    }
   ],
   "source": [
    "t_cum.plot()"
   ]
  },
  {
   "cell_type": "code",
   "execution_count": 59,
   "metadata": {},
   "outputs": [],
   "source": [
    "g = nationality_df.groupby([pd.Grouper(freq='AS-OCT', sort=True), 'R-T', 'air_AirportName', 'air2_AirportName', 'air2_Country'])[['AlienMasterID', 'MissionID']].nunique()\n",
    "g.reset_index(inplace=True)\n",
    "removal_dropoff_airports = g[g['R-T'] == 'R'].copy()\n",
    "transfer_dropoff_airports = g[g['R-T'] == 'T'].copy()"
   ]
  },
  {
   "cell_type": "code",
   "execution_count": 60,
   "metadata": {},
   "outputs": [],
   "source": [
    "removal_dropoff_airports.sort_values(by=['MissionDate', 'AlienMasterID'], ascending=[True, False], inplace=True)\n",
    "transfer_dropoff_airports.sort_values(by=['MissionDate', 'AlienMasterID'], ascending=[True, False], inplace=True)"
   ]
  },
  {
   "cell_type": "code",
   "execution_count": 61,
   "metadata": {},
   "outputs": [
    {
     "data": {
      "text/html": [
       "<div>\n",
       "<style scoped>\n",
       "    .dataframe tbody tr th:only-of-type {\n",
       "        vertical-align: middle;\n",
       "    }\n",
       "\n",
       "    .dataframe tbody tr th {\n",
       "        vertical-align: top;\n",
       "    }\n",
       "\n",
       "    .dataframe thead th {\n",
       "        text-align: right;\n",
       "    }\n",
       "</style>\n",
       "<table border=\"1\" class=\"dataframe\">\n",
       "  <thead>\n",
       "    <tr style=\"text-align: right;\">\n",
       "      <th></th>\n",
       "      <th>MissionDate</th>\n",
       "      <th>R-T</th>\n",
       "      <th>air_AirportName</th>\n",
       "      <th>air2_AirportName</th>\n",
       "      <th>air2_Country</th>\n",
       "      <th>AlienMasterID</th>\n",
       "      <th>MissionID</th>\n",
       "    </tr>\n",
       "  </thead>\n",
       "  <tbody>\n",
       "    <tr>\n",
       "      <th>5</th>\n",
       "      <td>2016-10-01</td>\n",
       "      <td>R</td>\n",
       "      <td>Alexandria International Airport</td>\n",
       "      <td>Nouakchott-Oumtounsy International Airport</td>\n",
       "      <td>Mauritania</td>\n",
       "      <td>2</td>\n",
       "      <td>1</td>\n",
       "    </tr>\n",
       "    <tr>\n",
       "      <th>14</th>\n",
       "      <td>2017-10-01</td>\n",
       "      <td>R</td>\n",
       "      <td>Phoenix-Mesa-Gateway Airport</td>\n",
       "      <td>Nouakchott-Oumtounsy International Airport</td>\n",
       "      <td>Mauritania</td>\n",
       "      <td>7</td>\n",
       "      <td>2</td>\n",
       "    </tr>\n",
       "    <tr>\n",
       "      <th>29</th>\n",
       "      <td>2018-10-01</td>\n",
       "      <td>R</td>\n",
       "      <td>Phoenix-Mesa-Gateway Airport</td>\n",
       "      <td>Nouakchott-Oumtounsy International Airport</td>\n",
       "      <td>Mauritania</td>\n",
       "      <td>3</td>\n",
       "      <td>1</td>\n",
       "    </tr>\n",
       "  </tbody>\n",
       "</table>\n",
       "</div>"
      ],
      "text/plain": [
       "   MissionDate R-T                   air_AirportName  \\\n",
       "5   2016-10-01   R  Alexandria International Airport   \n",
       "14  2017-10-01   R      Phoenix-Mesa-Gateway Airport   \n",
       "29  2018-10-01   R      Phoenix-Mesa-Gateway Airport   \n",
       "\n",
       "                              air2_AirportName air2_Country  AlienMasterID  \\\n",
       "5   Nouakchott-Oumtounsy International Airport   Mauritania              2   \n",
       "14  Nouakchott-Oumtounsy International Airport   Mauritania              7   \n",
       "29  Nouakchott-Oumtounsy International Airport   Mauritania              3   \n",
       "\n",
       "    MissionID  \n",
       "5           1  \n",
       "14          2  \n",
       "29          1  "
      ]
     },
     "execution_count": 61,
     "metadata": {},
     "output_type": "execute_result"
    }
   ],
   "source": [
    "removal_dropoff_airports.head()"
   ]
  },
  {
   "cell_type": "code",
   "execution_count": 62,
   "metadata": {},
   "outputs": [
    {
     "data": {
      "text/html": [
       "<div>\n",
       "<style scoped>\n",
       "    .dataframe tbody tr th:only-of-type {\n",
       "        vertical-align: middle;\n",
       "    }\n",
       "\n",
       "    .dataframe tbody tr th {\n",
       "        vertical-align: top;\n",
       "    }\n",
       "\n",
       "    .dataframe thead th {\n",
       "        text-align: right;\n",
       "    }\n",
       "</style>\n",
       "<table border=\"1\" class=\"dataframe\">\n",
       "  <thead>\n",
       "    <tr style=\"text-align: right;\">\n",
       "      <th></th>\n",
       "      <th>MissionDate</th>\n",
       "      <th>R-T</th>\n",
       "      <th>air_AirportName</th>\n",
       "      <th>air2_AirportName</th>\n",
       "      <th>air2_Country</th>\n",
       "      <th>AlienMasterID</th>\n",
       "      <th>MissionID</th>\n",
       "    </tr>\n",
       "  </thead>\n",
       "  <tbody>\n",
       "    <tr>\n",
       "      <th>0</th>\n",
       "      <td>2010-10-01</td>\n",
       "      <td>T</td>\n",
       "      <td>Harrisburg International Airport</td>\n",
       "      <td>Alexandria International Airport</td>\n",
       "      <td>USA</td>\n",
       "      <td>1</td>\n",
       "      <td>1</td>\n",
       "    </tr>\n",
       "    <tr>\n",
       "      <th>1</th>\n",
       "      <td>2011-10-01</td>\n",
       "      <td>T</td>\n",
       "      <td>Harrisburg International Airport</td>\n",
       "      <td>Alexandria International Airport</td>\n",
       "      <td>USA</td>\n",
       "      <td>1</td>\n",
       "      <td>1</td>\n",
       "    </tr>\n",
       "    <tr>\n",
       "      <th>2</th>\n",
       "      <td>2015-10-01</td>\n",
       "      <td>T</td>\n",
       "      <td>Alexandria International Airport</td>\n",
       "      <td>Toledo Express Airport</td>\n",
       "      <td>USA</td>\n",
       "      <td>1</td>\n",
       "      <td>1</td>\n",
       "    </tr>\n",
       "    <tr>\n",
       "      <th>3</th>\n",
       "      <td>2015-10-01</td>\n",
       "      <td>T</td>\n",
       "      <td>Phoenix-Mesa-Gateway Airport</td>\n",
       "      <td>Alexandria International Airport</td>\n",
       "      <td>USA</td>\n",
       "      <td>1</td>\n",
       "      <td>1</td>\n",
       "    </tr>\n",
       "    <tr>\n",
       "      <th>4</th>\n",
       "      <td>2015-10-01</td>\n",
       "      <td>T</td>\n",
       "      <td>Newark Liberty International Airport</td>\n",
       "      <td>Alexandria International Airport</td>\n",
       "      <td>USA</td>\n",
       "      <td>1</td>\n",
       "      <td>1</td>\n",
       "    </tr>\n",
       "    <tr>\n",
       "      <th>6</th>\n",
       "      <td>2016-10-01</td>\n",
       "      <td>T</td>\n",
       "      <td>Alexandria International Airport</td>\n",
       "      <td>Harrisburg International Airport</td>\n",
       "      <td>USA</td>\n",
       "      <td>1</td>\n",
       "      <td>1</td>\n",
       "    </tr>\n",
       "    <tr>\n",
       "      <th>7</th>\n",
       "      <td>2016-10-01</td>\n",
       "      <td>T</td>\n",
       "      <td>Columbus Metropolitan Airport</td>\n",
       "      <td>Alexandria International Airport</td>\n",
       "      <td>USA</td>\n",
       "      <td>1</td>\n",
       "      <td>1</td>\n",
       "    </tr>\n",
       "    <tr>\n",
       "      <th>8</th>\n",
       "      <td>2016-10-01</td>\n",
       "      <td>T</td>\n",
       "      <td>Laredo International Airport</td>\n",
       "      <td>Youngston Warren Regional Airport</td>\n",
       "      <td>USA</td>\n",
       "      <td>1</td>\n",
       "      <td>1</td>\n",
       "    </tr>\n",
       "    <tr>\n",
       "      <th>9</th>\n",
       "      <td>2016-10-01</td>\n",
       "      <td>T</td>\n",
       "      <td>Phoenix-Mesa-Gateway Airport</td>\n",
       "      <td>Alexandria International Airport</td>\n",
       "      <td>USA</td>\n",
       "      <td>1</td>\n",
       "      <td>1</td>\n",
       "    </tr>\n",
       "    <tr>\n",
       "      <th>10</th>\n",
       "      <td>2016-10-01</td>\n",
       "      <td>T</td>\n",
       "      <td>Phoenix-Mesa-Gateway Airport</td>\n",
       "      <td>Boeing Field King County International Airport</td>\n",
       "      <td>USA</td>\n",
       "      <td>1</td>\n",
       "      <td>1</td>\n",
       "    </tr>\n",
       "  </tbody>\n",
       "</table>\n",
       "</div>"
      ],
      "text/plain": [
       "   MissionDate R-T                       air_AirportName  \\\n",
       "0   2010-10-01   T      Harrisburg International Airport   \n",
       "1   2011-10-01   T      Harrisburg International Airport   \n",
       "2   2015-10-01   T      Alexandria International Airport   \n",
       "3   2015-10-01   T          Phoenix-Mesa-Gateway Airport   \n",
       "4   2015-10-01   T  Newark Liberty International Airport   \n",
       "6   2016-10-01   T      Alexandria International Airport   \n",
       "7   2016-10-01   T         Columbus Metropolitan Airport   \n",
       "8   2016-10-01   T          Laredo International Airport   \n",
       "9   2016-10-01   T          Phoenix-Mesa-Gateway Airport   \n",
       "10  2016-10-01   T          Phoenix-Mesa-Gateway Airport   \n",
       "\n",
       "                                  air2_AirportName air2_Country  \\\n",
       "0                 Alexandria International Airport          USA   \n",
       "1                 Alexandria International Airport          USA   \n",
       "2                           Toledo Express Airport          USA   \n",
       "3                 Alexandria International Airport          USA   \n",
       "4                 Alexandria International Airport          USA   \n",
       "6                 Harrisburg International Airport          USA   \n",
       "7                 Alexandria International Airport          USA   \n",
       "8                Youngston Warren Regional Airport          USA   \n",
       "9                 Alexandria International Airport          USA   \n",
       "10  Boeing Field King County International Airport          USA   \n",
       "\n",
       "    AlienMasterID  MissionID  \n",
       "0               1          1  \n",
       "1               1          1  \n",
       "2               1          1  \n",
       "3               1          1  \n",
       "4               1          1  \n",
       "6               1          1  \n",
       "7               1          1  \n",
       "8               1          1  \n",
       "9               1          1  \n",
       "10              1          1  "
      ]
     },
     "execution_count": 62,
     "metadata": {},
     "output_type": "execute_result"
    }
   ],
   "source": [
    "transfer_dropoff_airports.head(10)"
   ]
  },
  {
   "cell_type": "code",
   "execution_count": 63,
   "metadata": {},
   "outputs": [],
   "source": [
    "# removal_dropoff_airports.to_csv(f'../output/{nationality}_repatriation_dropoff_airports.csv')\n",
    "# transfer_dropoff_airports.to_csv(f'../output/{nationality}_transfer_dropoff_airports.csv')"
   ]
  },
  {
   "cell_type": "code",
   "execution_count": 64,
   "metadata": {},
   "outputs": [],
   "source": [
    "removal_dropoff_airports = removal_dropoff_airports.set_index('MissionDate')"
   ]
  },
  {
   "cell_type": "code",
   "execution_count": 65,
   "metadata": {},
   "outputs": [],
   "source": [
    "removal_sum = removal_dropoff_airports.groupby([pd.Grouper(freq='AS-OCT'), 'air2_AirportName'])[['AlienMasterID']].sum()"
   ]
  },
  {
   "cell_type": "code",
   "execution_count": 66,
   "metadata": {},
   "outputs": [],
   "source": [
    "removal_sum.reset_index(inplace=True)\n",
    "removal_sum = removal_sum.sort_values(by=['MissionDate', 'AlienMasterID'], ascending=[True, False])"
   ]
  },
  {
   "cell_type": "code",
   "execution_count": 67,
   "metadata": {},
   "outputs": [],
   "source": [
    "removal_sum.set_index('MissionDate', inplace=True)"
   ]
  },
  {
   "cell_type": "code",
   "execution_count": 68,
   "metadata": {},
   "outputs": [],
   "source": [
    "removal_sum = removal_sum.dropna()"
   ]
  },
  {
   "cell_type": "code",
   "execution_count": 69,
   "metadata": {},
   "outputs": [
    {
     "name": "stderr",
     "output_type": "stream",
     "text": [
      "/home/philneff/anaconda3/lib/python3.7/site-packages/pandas/core/indexes/api.py:107: RuntimeWarning: '<' not supported between instances of 'int' and 'str', sort order is undefined for incomparable objects\n",
      "  result = result.union(other)\n"
     ]
    }
   ],
   "source": [
    "top_5_df = pd.DataFrame()\n",
    "\n",
    "for year in removal_sum.index.unique():\n",
    "    temp = removal_sum.loc[f'{year}'][['air2_AirportName', 'AlienMasterID']]\n",
    "    temp_top_5 = temp[0:5]\n",
    "    if len(temp) > 5:\n",
    "        all_other_count = sum(temp['AlienMasterID'][5:])\n",
    "    else:\n",
    "        all_other_count = 0\n",
    "    other_df = pd.DataFrame([['ALL OTHERS', all_other_count]], columns=['air2_AirportName', 'AlienMasterID'], index=[year])\n",
    "    temp_top_5 = temp_top_5.append(other_df)\n",
    "    top_5_df = top_5_df.append(temp_top_5)"
   ]
  },
  {
   "cell_type": "code",
   "execution_count": 70,
   "metadata": {},
   "outputs": [
    {
     "data": {
      "image/png": "[encoded data removed]",
      "text/plain": [
       "<Figure size 720x576 with 1 Axes>"
      ]
     },
     "metadata": {
      "needs_background": "light"
     },
     "output_type": "display_data"
    }
   ],
   "source": [
    "pivot = pd.pivot_table(data=top_5_df,\n",
    "                       index=top_5_df.index,\n",
    "                       columns='air2_AirportName',\n",
    "                       values='AlienMasterID',\n",
    "                       aggfunc=np.sum,\n",
    "                       fill_value=0)\n",
    "\n",
    "pivot = pivot.reindex(pivot.sum().sort_values(ascending=False).index, axis=1)\n",
    "cols = list(pivot.columns)\n",
    "cols.remove('ALL OTHERS')\n",
    "cols.append('ALL OTHERS')\n",
    "pivot = pivot[cols]\n",
    "\n",
    "fig = pivot.plot(kind='bar', stacked=True, figsize=(10, 8))"
   ]
  },
  {
   "cell_type": "markdown",
   "metadata": {},
   "source": [
    "## Juveniles only"
   ]
  },
  {
   "cell_type": "code",
   "execution_count": 71,
   "metadata": {},
   "outputs": [],
   "source": [
    "juv_r_cum = removals['JuvenileCount'].cumsum()"
   ]
  },
  {
   "cell_type": "code",
   "execution_count": 72,
   "metadata": {},
   "outputs": [
    {
     "data": {
      "text/plain": [
       "<matplotlib.axes._subplots.AxesSubplot at 0x7f285c9ff908>"
      ]
     },
     "execution_count": 72,
     "metadata": {},
     "output_type": "execute_result"
    },
    {
     "data": {
      "image/png": "[encoded data removed]",
      "text/plain": [
       "<Figure size 432x288 with 1 Axes>"
      ]
     },
     "metadata": {
      "needs_background": "light"
     },
     "output_type": "display_data"
    }
   ],
   "source": [
    "juv_r_cum.plot()"
   ]
  },
  {
   "cell_type": "code",
   "execution_count": 73,
   "metadata": {},
   "outputs": [
    {
     "data": {
      "text/html": [
       "<div>\n",
       "<style scoped>\n",
       "    .dataframe tbody tr th:only-of-type {\n",
       "        vertical-align: middle;\n",
       "    }\n",
       "\n",
       "    .dataframe tbody tr th {\n",
       "        vertical-align: top;\n",
       "    }\n",
       "\n",
       "    .dataframe thead th {\n",
       "        text-align: right;\n",
       "    }\n",
       "</style>\n",
       "<table border=\"1\" class=\"dataframe\">\n",
       "  <thead>\n",
       "    <tr style=\"text-align: right;\">\n",
       "      <th></th>\n",
       "      <th>CountryOfCitizenship</th>\n",
       "      <th>R-T</th>\n",
       "      <th>PULOC</th>\n",
       "      <th>DropLoc</th>\n",
       "      <th>AlienMasterIDCount</th>\n",
       "      <th>MissionIDCount</th>\n",
       "      <th>JuvenileCount</th>\n",
       "      <th>JuvPercent</th>\n",
       "      <th>NCCount</th>\n",
       "      <th>NCPercent</th>\n",
       "    </tr>\n",
       "    <tr>\n",
       "      <th>MissionDate</th>\n",
       "      <th></th>\n",
       "      <th></th>\n",
       "      <th></th>\n",
       "      <th></th>\n",
       "      <th></th>\n",
       "      <th></th>\n",
       "      <th></th>\n",
       "      <th></th>\n",
       "      <th></th>\n",
       "      <th></th>\n",
       "    </tr>\n",
       "  </thead>\n",
       "  <tbody>\n",
       "    <tr>\n",
       "      <th>2016-11-15</th>\n",
       "      <td>MAURITANIA</td>\n",
       "      <td>R</td>\n",
       "      <td>KAEX</td>\n",
       "      <td>GQNO</td>\n",
       "      <td>2</td>\n",
       "      <td>1</td>\n",
       "      <td>False</td>\n",
       "      <td>0.0</td>\n",
       "      <td>0.0</td>\n",
       "      <td>0.000000</td>\n",
       "    </tr>\n",
       "    <tr>\n",
       "      <th>2018-04-10</th>\n",
       "      <td>MAURITANIA</td>\n",
       "      <td>R</td>\n",
       "      <td>KIWA</td>\n",
       "      <td>GQNO</td>\n",
       "      <td>2</td>\n",
       "      <td>1</td>\n",
       "      <td>False</td>\n",
       "      <td>0.0</td>\n",
       "      <td>1.0</td>\n",
       "      <td>50.000000</td>\n",
       "    </tr>\n",
       "    <tr>\n",
       "      <th>2018-06-11</th>\n",
       "      <td>MAURITANIA</td>\n",
       "      <td>R</td>\n",
       "      <td>KIWA</td>\n",
       "      <td>GQNO</td>\n",
       "      <td>5</td>\n",
       "      <td>1</td>\n",
       "      <td>False</td>\n",
       "      <td>0.0</td>\n",
       "      <td>2.0</td>\n",
       "      <td>40.000000</td>\n",
       "    </tr>\n",
       "    <tr>\n",
       "      <th>2018-10-16</th>\n",
       "      <td>MAURITANIA</td>\n",
       "      <td>R</td>\n",
       "      <td>KIWA</td>\n",
       "      <td>GQNO</td>\n",
       "      <td>3</td>\n",
       "      <td>1</td>\n",
       "      <td>False</td>\n",
       "      <td>0.0</td>\n",
       "      <td>2.0</td>\n",
       "      <td>66.666667</td>\n",
       "    </tr>\n",
       "  </tbody>\n",
       "</table>\n",
       "</div>"
      ],
      "text/plain": [
       "            CountryOfCitizenship R-T PULOC DropLoc  AlienMasterIDCount  \\\n",
       "MissionDate                                                              \n",
       "2016-11-15            MAURITANIA   R  KAEX    GQNO                   2   \n",
       "2018-04-10            MAURITANIA   R  KIWA    GQNO                   2   \n",
       "2018-06-11            MAURITANIA   R  KIWA    GQNO                   5   \n",
       "2018-10-16            MAURITANIA   R  KIWA    GQNO                   3   \n",
       "\n",
       "             MissionIDCount  JuvenileCount  JuvPercent  NCCount  NCPercent  \n",
       "MissionDate                                                                 \n",
       "2016-11-15                1          False         0.0      0.0   0.000000  \n",
       "2018-04-10                1          False         0.0      1.0  50.000000  \n",
       "2018-06-11                1          False         0.0      2.0  40.000000  \n",
       "2018-10-16                1          False         0.0      2.0  66.666667  "
      ]
     },
     "execution_count": 73,
     "metadata": {},
     "output_type": "execute_result"
    }
   ],
   "source": [
    "removals.tail(20)"
   ]
  },
  {
   "cell_type": "code",
   "execution_count": 74,
   "metadata": {},
   "outputs": [
    {
     "data": {
      "image/png": "[encoded data removed]",
      "text/plain": [
       "<Figure size 432x288 with 1 Axes>"
      ]
     },
     "metadata": {
      "needs_background": "light"
     },
     "output_type": "display_data"
    }
   ],
   "source": [
    "removals['JuvPercent'].plot();"
   ]
  },
  {
   "cell_type": "code",
   "execution_count": 75,
   "metadata": {
    "scrolled": true
   },
   "outputs": [
    {
     "data": {
      "text/html": [
       "<div>\n",
       "<style scoped>\n",
       "    .dataframe tbody tr th:only-of-type {\n",
       "        vertical-align: middle;\n",
       "    }\n",
       "\n",
       "    .dataframe tbody tr th {\n",
       "        vertical-align: top;\n",
       "    }\n",
       "\n",
       "    .dataframe thead th {\n",
       "        text-align: right;\n",
       "    }\n",
       "</style>\n",
       "<table border=\"1\" class=\"dataframe\">\n",
       "  <thead>\n",
       "    <tr style=\"text-align: right;\">\n",
       "      <th></th>\n",
       "      <th>CountryOfCitizenship</th>\n",
       "      <th>R-T</th>\n",
       "      <th>PULOC</th>\n",
       "      <th>DropLoc</th>\n",
       "      <th>AlienMasterIDCount</th>\n",
       "      <th>MissionIDCount</th>\n",
       "      <th>JuvenileCount</th>\n",
       "      <th>JuvPercent</th>\n",
       "      <th>NCCount</th>\n",
       "      <th>NCPercent</th>\n",
       "    </tr>\n",
       "    <tr>\n",
       "      <th>MissionDate</th>\n",
       "      <th></th>\n",
       "      <th></th>\n",
       "      <th></th>\n",
       "      <th></th>\n",
       "      <th></th>\n",
       "      <th></th>\n",
       "      <th></th>\n",
       "      <th></th>\n",
       "      <th></th>\n",
       "      <th></th>\n",
       "    </tr>\n",
       "  </thead>\n",
       "  <tbody>\n",
       "  </tbody>\n",
       "</table>\n",
       "</div>"
      ],
      "text/plain": [
       "Empty DataFrame\n",
       "Columns: [CountryOfCitizenship, R-T, PULOC, DropLoc, AlienMasterIDCount, MissionIDCount, JuvenileCount, JuvPercent, NCCount, NCPercent]\n",
       "Index: []"
      ]
     },
     "execution_count": 75,
     "metadata": {},
     "output_type": "execute_result"
    }
   ],
   "source": [
    "removals[removals['JuvPercent'] > .5]"
   ]
  },
  {
   "cell_type": "code",
   "execution_count": 76,
   "metadata": {},
   "outputs": [
    {
     "data": {
      "text/plain": [
       "False    77\n",
       "Name: JuvenileCount, dtype: int64"
      ]
     },
     "execution_count": 76,
     "metadata": {},
     "output_type": "execute_result"
    }
   ],
   "source": [
    "transfers['JuvenileCount'].value_counts()"
   ]
  },
  {
   "cell_type": "code",
   "execution_count": 77,
   "metadata": {},
   "outputs": [
    {
     "data": {
      "text/html": [
       "<div>\n",
       "<style scoped>\n",
       "    .dataframe tbody tr th:only-of-type {\n",
       "        vertical-align: middle;\n",
       "    }\n",
       "\n",
       "    .dataframe tbody tr th {\n",
       "        vertical-align: top;\n",
       "    }\n",
       "\n",
       "    .dataframe thead th {\n",
       "        text-align: right;\n",
       "    }\n",
       "</style>\n",
       "<table border=\"1\" class=\"dataframe\">\n",
       "  <thead>\n",
       "    <tr style=\"text-align: right;\">\n",
       "      <th></th>\n",
       "      <th>CountryOfCitizenship</th>\n",
       "      <th>R-T</th>\n",
       "      <th>PULOC</th>\n",
       "      <th>DropLoc</th>\n",
       "      <th>AlienMasterIDCount</th>\n",
       "      <th>MissionIDCount</th>\n",
       "      <th>JuvenileCount</th>\n",
       "      <th>JuvPercent</th>\n",
       "      <th>NCCount</th>\n",
       "      <th>NCPercent</th>\n",
       "    </tr>\n",
       "    <tr>\n",
       "      <th>MissionDate</th>\n",
       "      <th></th>\n",
       "      <th></th>\n",
       "      <th></th>\n",
       "      <th></th>\n",
       "      <th></th>\n",
       "      <th></th>\n",
       "      <th></th>\n",
       "      <th></th>\n",
       "      <th></th>\n",
       "      <th></th>\n",
       "    </tr>\n",
       "  </thead>\n",
       "  <tbody>\n",
       "  </tbody>\n",
       "</table>\n",
       "</div>"
      ],
      "text/plain": [
       "Empty DataFrame\n",
       "Columns: [CountryOfCitizenship, R-T, PULOC, DropLoc, AlienMasterIDCount, MissionIDCount, JuvenileCount, JuvPercent, NCCount, NCPercent]\n",
       "Index: []"
      ]
     },
     "execution_count": 77,
     "metadata": {},
     "output_type": "execute_result"
    }
   ],
   "source": [
    "removals[removals['JuvenileCount'] > 20]"
   ]
  },
  {
   "cell_type": "markdown",
   "metadata": {},
   "source": [
    "# KBFI only"
   ]
  },
  {
   "cell_type": "code",
   "execution_count": 78,
   "metadata": {},
   "outputs": [],
   "source": [
    "airport = 'KBFI'"
   ]
  },
  {
   "cell_type": "code",
   "execution_count": 79,
   "metadata": {},
   "outputs": [],
   "source": [
    "airport_removals = pd.concat([removals[removals['PULOC'] == airport], removals[removals['DropLoc'] == airport]])"
   ]
  },
  {
   "cell_type": "code",
   "execution_count": 80,
   "metadata": {},
   "outputs": [
    {
     "data": {
      "text/html": [
       "<div>\n",
       "<style scoped>\n",
       "    .dataframe tbody tr th:only-of-type {\n",
       "        vertical-align: middle;\n",
       "    }\n",
       "\n",
       "    .dataframe tbody tr th {\n",
       "        vertical-align: top;\n",
       "    }\n",
       "\n",
       "    .dataframe thead th {\n",
       "        text-align: right;\n",
       "    }\n",
       "</style>\n",
       "<table border=\"1\" class=\"dataframe\">\n",
       "  <thead>\n",
       "    <tr style=\"text-align: right;\">\n",
       "      <th></th>\n",
       "      <th>CountryOfCitizenship</th>\n",
       "      <th>R-T</th>\n",
       "      <th>PULOC</th>\n",
       "      <th>DropLoc</th>\n",
       "      <th>AlienMasterIDCount</th>\n",
       "      <th>MissionIDCount</th>\n",
       "      <th>JuvenileCount</th>\n",
       "      <th>JuvPercent</th>\n",
       "      <th>NCCount</th>\n",
       "      <th>NCPercent</th>\n",
       "    </tr>\n",
       "    <tr>\n",
       "      <th>MissionDate</th>\n",
       "      <th></th>\n",
       "      <th></th>\n",
       "      <th></th>\n",
       "      <th></th>\n",
       "      <th></th>\n",
       "      <th></th>\n",
       "      <th></th>\n",
       "      <th></th>\n",
       "      <th></th>\n",
       "      <th></th>\n",
       "    </tr>\n",
       "  </thead>\n",
       "  <tbody>\n",
       "  </tbody>\n",
       "</table>\n",
       "</div>"
      ],
      "text/plain": [
       "Empty DataFrame\n",
       "Columns: [CountryOfCitizenship, R-T, PULOC, DropLoc, AlienMasterIDCount, MissionIDCount, JuvenileCount, JuvPercent, NCCount, NCPercent]\n",
       "Index: []"
      ]
     },
     "execution_count": 80,
     "metadata": {},
     "output_type": "execute_result"
    }
   ],
   "source": [
    "airport_removals"
   ]
  },
  {
   "cell_type": "code",
   "execution_count": 90,
   "metadata": {},
   "outputs": [],
   "source": [
    "airport_transfers = pd.concat([transfers[transfers['PULOC'] == airport], transfers[transfers['DropLoc'] == airport]])"
   ]
  },
  {
   "cell_type": "code",
   "execution_count": 91,
   "metadata": {},
   "outputs": [],
   "source": [
    "airport_transfers.to_csv(f'../output/{nationality}_transfers_tofrom_{airport}.csv')"
   ]
  },
  {
   "cell_type": "code",
   "execution_count": 83,
   "metadata": {},
   "outputs": [],
   "source": [
    "airport_weekly_removals = airport_removals['AlienMasterIDCount'].resample('W').nunique()\n",
    "airport_weekly_transfers = airport_transfers['AlienMasterIDCount'].resample('W').nunique()\n",
    "airport_monthly_removals = airport_removals['AlienMasterIDCount'].resample('M').nunique()\n",
    "airport_monthly_transfers = airport_transfers['AlienMasterIDCount'].resample('M').nunique()\n",
    "airport_monthly_removal_flights = airport_removals['MissionIDCount'].resample('M').nunique()\n",
    "airport_monthly_transfers_flights = airport_transfers['MissionIDCount'].resample('M').nunique()\n",
    "airport_annual_removals = airport_removals['AlienMasterIDCount'].resample('AS-OCT').nunique()\n",
    "airport_annual_transfers = airport_transfers['AlienMasterIDCount'].resample('AS-OCT').nunique()\n",
    "airport_annual_removal_flights = airport_removals['MissionIDCount'].resample('AS-OCT').nunique()\n",
    "airport_annual_transfer_flights = airport_transfers['MissionIDCount'].resample('AS-OCT').nunique()\n",
    "airport_annual_juvenile_removals = airport_removals['JuvenileCount'].resample('AS-OCT').sum()\n",
    "airport_annual_juvenile_transfers = airport_transfers['JuvenileCount'].resample('AS-OCT').sum()"
   ]
  },
  {
   "cell_type": "code",
   "execution_count": 84,
   "metadata": {},
   "outputs": [
    {
     "data": {
      "text/plain": [
       "Series([], Freq: AS-OCT, Name: AlienMasterIDCount, dtype: int64)"
      ]
     },
     "execution_count": 84,
     "metadata": {},
     "output_type": "execute_result"
    }
   ],
   "source": [
    "airport_annual_removals"
   ]
  },
  {
   "cell_type": "code",
   "execution_count": 85,
   "metadata": {},
   "outputs": [
    {
     "data": {
      "text/plain": [
       "Series([], Freq: AS-OCT, Name: MissionIDCount, dtype: int64)"
      ]
     },
     "execution_count": 85,
     "metadata": {},
     "output_type": "execute_result"
    }
   ],
   "source": [
    "airport_annual_removal_flights"
   ]
  },
  {
   "cell_type": "code",
   "execution_count": 86,
   "metadata": {},
   "outputs": [
    {
     "data": {
      "text/plain": [
       "Series([], Freq: AS-OCT, Name: JuvenileCount, dtype: bool)"
      ]
     },
     "execution_count": 86,
     "metadata": {},
     "output_type": "execute_result"
    }
   ],
   "source": [
    "airport_annual_juvenile_removals"
   ]
  },
  {
   "cell_type": "code",
   "execution_count": 87,
   "metadata": {},
   "outputs": [
    {
     "data": {
      "text/plain": [
       "MissionDate\n",
       "2016-10-01    1\n",
       "2017-10-01    1\n",
       "2018-10-01    1\n",
       "Freq: AS-OCT, Name: AlienMasterIDCount, dtype: int64"
      ]
     },
     "execution_count": 87,
     "metadata": {},
     "output_type": "execute_result"
    }
   ],
   "source": [
    "airport_annual_transfers"
   ]
  },
  {
   "cell_type": "code",
   "execution_count": 88,
   "metadata": {},
   "outputs": [
    {
     "data": {
      "text/plain": [
       "MissionDate\n",
       "2016-10-01    1\n",
       "2017-10-01    1\n",
       "2018-10-01    1\n",
       "Freq: AS-OCT, Name: MissionIDCount, dtype: int64"
      ]
     },
     "execution_count": 88,
     "metadata": {},
     "output_type": "execute_result"
    }
   ],
   "source": [
    "airport_annual_transfer_flights"
   ]
  },
  {
   "cell_type": "code",
   "execution_count": 89,
   "metadata": {},
   "outputs": [
    {
     "data": {
      "text/plain": [
       "MissionDate\n",
       "2016-10-01    False\n",
       "2017-10-01    False\n",
       "2018-10-01    False\n",
       "Freq: AS-OCT, Name: JuvenileCount, dtype: bool"
      ]
     },
     "execution_count": 89,
     "metadata": {},
     "output_type": "execute_result"
    }
   ],
   "source": [
    "airport_annual_juvenile_transfers"
   ]
  },
  {
   "cell_type": "markdown",
   "metadata": {},
   "source": [
    "# Criminal status"
   ]
  },
  {
   "cell_type": "markdown",
   "metadata": {},
   "source": [
    " `Criminality` is not fully consistent with `Convictions`; especially in FY2010. "
   ]
  },
  {
   "cell_type": "code",
   "execution_count": 62,
   "metadata": {},
   "outputs": [
    {
     "data": {
      "text/plain": [
       "MissionDate\n",
       "2016-11-15     0.000000\n",
       "2018-04-10    50.000000\n",
       "2018-06-11    40.000000\n",
       "2018-10-16    66.666667\n",
       "Name: NCPercent, dtype: float64"
      ]
     },
     "execution_count": 62,
     "metadata": {},
     "output_type": "execute_result"
    }
   ],
   "source": [
    "removals['NCPercent']"
   ]
  },
  {
   "cell_type": "code",
   "execution_count": 63,
   "metadata": {},
   "outputs": [
    {
     "data": {
      "text/plain": [
       "MissionDate\n",
       "2016-10-01    0.0\n",
       "2017-10-01    3.0\n",
       "2018-10-01    2.0\n",
       "Freq: AS-OCT, Name: NCCount, dtype: float64"
      ]
     },
     "execution_count": 63,
     "metadata": {},
     "output_type": "execute_result"
    }
   ],
   "source": [
    "removals['NCCount'].resample('AS-OCT').sum()"
   ]
  },
  {
   "cell_type": "code",
   "execution_count": 64,
   "metadata": {},
   "outputs": [
    {
     "data": {
      "text/plain": [
       "MissionDate\n",
       "2016-10-01    2\n",
       "2017-10-01    7\n",
       "2018-10-01    3\n",
       "Freq: AS-OCT, Name: AlienMasterIDCount, dtype: int64"
      ]
     },
     "execution_count": 64,
     "metadata": {},
     "output_type": "execute_result"
    }
   ],
   "source": [
    "removals['AlienMasterIDCount'].resample('AS-OCT').sum()"
   ]
  },
  {
   "cell_type": "code",
   "execution_count": null,
   "metadata": {},
   "outputs": [],
   "source": []
  }
 ],
 "metadata": {
  "kernelspec": {
   "display_name": "Python 3",
   "language": "python",
   "name": "python3"
  },
  "language_info": {
   "codemirror_mode": {
    "name": "ipython",
    "version": 3
   },
   "file_extension": ".py",
   "mimetype": "text/x-python",
   "name": "python",
   "nbconvert_exporter": "python",
   "pygments_lexer": "ipython3",
   "version": "3.7.2"
  }
 },
 "nbformat": 4,
 "nbformat_minor": 2
}
