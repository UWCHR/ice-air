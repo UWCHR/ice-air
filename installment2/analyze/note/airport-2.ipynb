{
 "cells": [
  {
   "cell_type": "code",
   "execution_count": 1,
   "metadata": {},
   "outputs": [],
   "source": [
    "# Author: University of Washington Center for Human Rights\n",
    "# Date: 2019-04-29\n",
    "# License: GPL 3.0 or greater\n",
    "# Path: ice-air/analyze/note/airport.ipynb\n",
    "\n",
    "import numpy as np\n",
    "import pandas as pd\n",
    "import yaml\n",
    "import matplotlib.pyplot as plt\n",
    "import seaborn as sns"
   ]
  },
  {
   "cell_type": "markdown",
   "metadata": {},
   "source": [
    "This notebook and its outputs are of an exploratory nature only and do not necessarily reflect the final findings of UWCHR as published in the report [\"Hidden in Plain Sight: ICE Air and the Machinery of Mass Deportation\"](https://jsis.washington.edu/humanrights/2019/04/23/ice-air/)."
   ]
  },
  {
   "cell_type": "markdown",
   "metadata": {},
   "source": [
    "# Import\n",
    "\n",
    "First we open a file containing a dictionary of columns and associated data types generated in `../../optimize/`, then we read input file."
   ]
  },
  {
   "cell_type": "code",
   "execution_count": 2,
   "metadata": {},
   "outputs": [
    {
     "name": "stdout",
     "output_type": "stream",
     "text": [
      "<class 'pandas.core.frame.DataFrame'>\n",
      "RangeIndex: 1826402 entries, 0 to 1826401\n",
      "Data columns (total 52 columns):\n",
      "ANumber                         category\n",
      "LastName                        category\n",
      "FirstName                       category\n",
      "DOB                             category\n",
      "Status                          category\n",
      "Sex                             category\n",
      "Convictions                     category\n",
      "GangMember                      category\n",
      "ClassLvl                        float32\n",
      "Age                             float32\n",
      "MissionDate                     datetime64[ns]\n",
      "MissionNumber                   uint32\n",
      "PULOC                           category\n",
      "DropLoc                         category\n",
      "StrikeFromList                  float32\n",
      "ReasonStruck                    category\n",
      "R-T                             category\n",
      "Code                            category\n",
      "CountryOfCitizenship            category\n",
      "Juvenile                        bool\n",
      "MissionWeek                     uint8\n",
      "MissionQuarter                  uint8\n",
      "MissionYear                     uint16\n",
      "MissionMonth                    uint8\n",
      "Criminality                     category\n",
      "FamilyUnitFlag                  float32\n",
      "UnaccompaniedFlag               float32\n",
      "AlienMasterID                   int64\n",
      "MissionID                       uint16\n",
      "air_AirportID                   float32\n",
      "air_AirportName                 category\n",
      "air_City                        category\n",
      "st_StateID                      float32\n",
      "st_StateAbbr                    category\n",
      "AOR_AORID                       float32\n",
      "AOR_AOR                         category\n",
      "AOR_AORName                     category\n",
      "air_Country                     category\n",
      "air2_AirportID                  float32\n",
      "air2_AirportName                category\n",
      "air2_City                       category\n",
      "st2_StateID                     float32\n",
      "st2_StateAbbr                   category\n",
      "aor2_AORID                      float32\n",
      "aor2_AOR                        category\n",
      "aor2_AORName                    category\n",
      "air2_Country                    category\n",
      "air_LatitudeDecimalDegrees      float64\n",
      "air_LongitudeDecimalDegrees     float64\n",
      "air2_LatitudeDecimalDegrees     float64\n",
      "air2_LongitudeDecimalDegrees    float64\n",
      "NonCriminal                     bool\n",
      "dtypes: bool(2), category(27), datetime64[ns](1), float32(11), float64(4), int64(1), uint16(2), uint32(1), uint8(3)\n",
      "memory usage: 244.2 MB\n"
     ]
    }
   ],
   "source": [
    "with open('../input/passenger-dtypes.yaml', 'r') as yamlfile:\n",
    "    column_types = yaml.load(yamlfile)\n",
    "\n",
    "read_csv_opts = {'sep': '|',\n",
    "                 'quotechar': '\"',\n",
    "                 'compression': 'gzip',\n",
    "                 'encoding': 'utf-8',\n",
    "                 'dtype': column_types,\n",
    "                 'parse_dates': ['MissionDate'],\n",
    "                 'infer_datetime_format': True}\n",
    "\n",
    "df = pd.read_csv('../input/ice-air-passengers.csv.gz', **read_csv_opts)\n",
    "\n",
    "df.info(memory_usage='deep')"
   ]
  },
  {
   "cell_type": "code",
   "execution_count": 3,
   "metadata": {},
   "outputs": [],
   "source": [
    "with open('../input/airport_dict.yaml', 'r') as yamlfile:\n",
    "    airport_dict = yaml.load(yamlfile)"
   ]
  },
  {
   "cell_type": "code",
   "execution_count": 4,
   "metadata": {},
   "outputs": [
    {
     "data": {
      "text/html": [
       "<div>\n",
       "<style scoped>\n",
       "    .dataframe tbody tr th:only-of-type {\n",
       "        vertical-align: middle;\n",
       "    }\n",
       "\n",
       "    .dataframe tbody tr th {\n",
       "        vertical-align: top;\n",
       "    }\n",
       "\n",
       "    .dataframe thead th {\n",
       "        text-align: right;\n",
       "    }\n",
       "</style>\n",
       "<table border=\"1\" class=\"dataframe\">\n",
       "  <thead>\n",
       "    <tr style=\"text-align: right;\">\n",
       "      <th></th>\n",
       "      <th>ANumber</th>\n",
       "      <th>LastName</th>\n",
       "      <th>FirstName</th>\n",
       "      <th>DOB</th>\n",
       "      <th>Status</th>\n",
       "      <th>Sex</th>\n",
       "      <th>Convictions</th>\n",
       "      <th>GangMember</th>\n",
       "      <th>ClassLvl</th>\n",
       "      <th>Age</th>\n",
       "      <th>...</th>\n",
       "      <th>st2_StateAbbr</th>\n",
       "      <th>aor2_AORID</th>\n",
       "      <th>aor2_AOR</th>\n",
       "      <th>aor2_AORName</th>\n",
       "      <th>air2_Country</th>\n",
       "      <th>air_LatitudeDecimalDegrees</th>\n",
       "      <th>air_LongitudeDecimalDegrees</th>\n",
       "      <th>air2_LatitudeDecimalDegrees</th>\n",
       "      <th>air2_LongitudeDecimalDegrees</th>\n",
       "      <th>NonCriminal</th>\n",
       "    </tr>\n",
       "  </thead>\n",
       "  <tbody>\n",
       "    <tr>\n",
       "      <th>1826397</th>\n",
       "      <td>(B)(6);(B)(7)(C)</td>\n",
       "      <td>(B)(6);(B)(7)(C)</td>\n",
       "      <td>(B)(6);(B)(7)(C)</td>\n",
       "      <td>(B)(6);(B)(7)(C)</td>\n",
       "      <td>8F</td>\n",
       "      <td>M</td>\n",
       "      <td>NC</td>\n",
       "      <td>N</td>\n",
       "      <td>NaN</td>\n",
       "      <td>20.0</td>\n",
       "      <td>...</td>\n",
       "      <td>NaN</td>\n",
       "      <td>NaN</td>\n",
       "      <td>NaN</td>\n",
       "      <td>NaN</td>\n",
       "      <td>Guatemala</td>\n",
       "      <td>25.907000</td>\n",
       "      <td>-97.426000</td>\n",
       "      <td>14.583</td>\n",
       "      <td>-90.528</td>\n",
       "      <td>True</td>\n",
       "    </tr>\n",
       "    <tr>\n",
       "      <th>1826398</th>\n",
       "      <td>(B)(6);(B)(7)(C)</td>\n",
       "      <td>(B)(6);(B)(7)(C)</td>\n",
       "      <td>(B)(6);(B)(7)(C)</td>\n",
       "      <td>(B)(6);(B)(7)(C)</td>\n",
       "      <td>8F</td>\n",
       "      <td>M</td>\n",
       "      <td>NC</td>\n",
       "      <td>N</td>\n",
       "      <td>NaN</td>\n",
       "      <td>34.0</td>\n",
       "      <td>...</td>\n",
       "      <td>NaN</td>\n",
       "      <td>NaN</td>\n",
       "      <td>NaN</td>\n",
       "      <td>NaN</td>\n",
       "      <td>Guatemala</td>\n",
       "      <td>25.907000</td>\n",
       "      <td>-97.426000</td>\n",
       "      <td>14.583</td>\n",
       "      <td>-90.528</td>\n",
       "      <td>True</td>\n",
       "    </tr>\n",
       "    <tr>\n",
       "      <th>1826399</th>\n",
       "      <td>(B)(6);(B)(7)(C)</td>\n",
       "      <td>(B)(6);(B)(7)(C)</td>\n",
       "      <td>(B)(6);(B)(7)(C)</td>\n",
       "      <td>(B)(6);(B)(7)(C)</td>\n",
       "      <td>8F</td>\n",
       "      <td>M</td>\n",
       "      <td>NC</td>\n",
       "      <td>N</td>\n",
       "      <td>NaN</td>\n",
       "      <td>19.0</td>\n",
       "      <td>...</td>\n",
       "      <td>NaN</td>\n",
       "      <td>NaN</td>\n",
       "      <td>NaN</td>\n",
       "      <td>NaN</td>\n",
       "      <td>Guatemala</td>\n",
       "      <td>25.907000</td>\n",
       "      <td>-97.426000</td>\n",
       "      <td>14.583</td>\n",
       "      <td>-90.528</td>\n",
       "      <td>True</td>\n",
       "    </tr>\n",
       "    <tr>\n",
       "      <th>1826400</th>\n",
       "      <td>(B)(6);(B)(7)(C)</td>\n",
       "      <td>(B)(6);(B)(7)(C)</td>\n",
       "      <td>(B)(6);(B)(7)(C)</td>\n",
       "      <td>(B)(6);(B)(7)(C)</td>\n",
       "      <td>8F</td>\n",
       "      <td>M</td>\n",
       "      <td>NC</td>\n",
       "      <td>N</td>\n",
       "      <td>NaN</td>\n",
       "      <td>33.0</td>\n",
       "      <td>...</td>\n",
       "      <td>NaN</td>\n",
       "      <td>NaN</td>\n",
       "      <td>NaN</td>\n",
       "      <td>NaN</td>\n",
       "      <td>Guatemala</td>\n",
       "      <td>25.907000</td>\n",
       "      <td>-97.426000</td>\n",
       "      <td>14.583</td>\n",
       "      <td>-90.528</td>\n",
       "      <td>True</td>\n",
       "    </tr>\n",
       "    <tr>\n",
       "      <th>1826401</th>\n",
       "      <td>(B)(6);(B)(7)(C)</td>\n",
       "      <td>(B)(6);(B)(7)(C)</td>\n",
       "      <td>(B)(6);(B)(7)(C)</td>\n",
       "      <td>(B)(6);(B)(7)(C)</td>\n",
       "      <td>8C</td>\n",
       "      <td>F</td>\n",
       "      <td>NC</td>\n",
       "      <td>N</td>\n",
       "      <td>NaN</td>\n",
       "      <td>24.0</td>\n",
       "      <td>...</td>\n",
       "      <td>NaN</td>\n",
       "      <td>NaN</td>\n",
       "      <td>NaN</td>\n",
       "      <td>NaN</td>\n",
       "      <td>Guatemala</td>\n",
       "      <td>33.307833</td>\n",
       "      <td>-111.655472</td>\n",
       "      <td>14.583</td>\n",
       "      <td>-90.528</td>\n",
       "      <td>True</td>\n",
       "    </tr>\n",
       "  </tbody>\n",
       "</table>\n",
       "<p>5 rows × 52 columns</p>\n",
       "</div>"
      ],
      "text/plain": [
       "                   ANumber           LastName          FirstName  \\\n",
       "1826397  (B)(6);(B)(7)(C)   (B)(6);(B)(7)(C)   (B)(6);(B)(7)(C)    \n",
       "1826398  (B)(6);(B)(7)(C)   (B)(6);(B)(7)(C)   (B)(6);(B)(7)(C)    \n",
       "1826399  (B)(6);(B)(7)(C)   (B)(6);(B)(7)(C)   (B)(6);(B)(7)(C)    \n",
       "1826400  (B)(6);(B)(7)(C)   (B)(6);(B)(7)(C)   (B)(6);(B)(7)(C)    \n",
       "1826401  (B)(6);(B)(7)(C)   (B)(6);(B)(7)(C)   (B)(6);(B)(7)(C)    \n",
       "\n",
       "                       DOB Status Sex Convictions GangMember  ClassLvl   Age  \\\n",
       "1826397  (B)(6);(B)(7)(C)      8F   M          NC          N       NaN  20.0   \n",
       "1826398  (B)(6);(B)(7)(C)      8F   M          NC          N       NaN  34.0   \n",
       "1826399  (B)(6);(B)(7)(C)      8F   M          NC          N       NaN  19.0   \n",
       "1826400  (B)(6);(B)(7)(C)      8F   M          NC          N       NaN  33.0   \n",
       "1826401  (B)(6);(B)(7)(C)      8C   F          NC          N       NaN  24.0   \n",
       "\n",
       "            ...      st2_StateAbbr  aor2_AORID aor2_AOR aor2_AORName  \\\n",
       "1826397     ...                NaN         NaN      NaN          NaN   \n",
       "1826398     ...                NaN         NaN      NaN          NaN   \n",
       "1826399     ...                NaN         NaN      NaN          NaN   \n",
       "1826400     ...                NaN         NaN      NaN          NaN   \n",
       "1826401     ...                NaN         NaN      NaN          NaN   \n",
       "\n",
       "         air2_Country air_LatitudeDecimalDegrees air_LongitudeDecimalDegrees  \\\n",
       "1826397     Guatemala                  25.907000                  -97.426000   \n",
       "1826398     Guatemala                  25.907000                  -97.426000   \n",
       "1826399     Guatemala                  25.907000                  -97.426000   \n",
       "1826400     Guatemala                  25.907000                  -97.426000   \n",
       "1826401     Guatemala                  33.307833                 -111.655472   \n",
       "\n",
       "        air2_LatitudeDecimalDegrees air2_LongitudeDecimalDegrees  NonCriminal  \n",
       "1826397                      14.583                      -90.528         True  \n",
       "1826398                      14.583                      -90.528         True  \n",
       "1826399                      14.583                      -90.528         True  \n",
       "1826400                      14.583                      -90.528         True  \n",
       "1826401                      14.583                      -90.528         True  \n",
       "\n",
       "[5 rows x 52 columns]"
      ]
     },
     "execution_count": 4,
     "metadata": {},
     "output_type": "execute_result"
    }
   ],
   "source": [
    "df.tail()"
   ]
  },
  {
   "cell_type": "markdown",
   "metadata": {},
   "source": [
    "# Specific airport"
   ]
  },
  {
   "cell_type": "code",
   "execution_count": 5,
   "metadata": {},
   "outputs": [],
   "source": [
    "# Select records for an airport represented in the database using its 4-character ICAO code\n",
    "airport = 'KEWR'"
   ]
  },
  {
   "cell_type": "code",
   "execution_count": 6,
   "metadata": {},
   "outputs": [],
   "source": [
    "airport_name = airport_dict[airport]['AirportName']\n",
    "\n",
    "# Creating DataFrames for pickup and dropoff records.\n",
    "# If memory usage is too great these can be deleted and assigned again as needed.\n",
    "pickup = df['PULOC'] == airport\n",
    "dropoff = df['DropLoc'] == airport\n",
    "pickup_df = df[pickup].copy()\n",
    "dropoff_df = df[dropoff].copy()\n",
    "\n",
    "first_pickup = pickup_df.MissionDate.min()\n",
    "last_pickup = pickup_df.MissionDate.max()\n",
    "first_dropoff = dropoff_df.MissionDate.min()\n",
    "last_dropoff = dropoff_df.MissionDate.max()\n",
    "\n",
    "pickup_df.set_index('MissionDate', inplace=True)\n",
    "dropoff_df.set_index('MissionDate', inplace=True)\n",
    "\n",
    "# DataFrame for all records relating to selected airport.\n",
    "all_df = pd.concat([pickup_df, dropoff_df]).drop_duplicates()\n",
    "\n",
    "# DataFrames for all records categorized as removals, transfers.\n",
    "removal = all_df['R-T'] == 'R'\n",
    "transfer = all_df['R-T'] == 'T'\n",
    "removal_df = all_df[removal].copy()\n",
    "transfer_df = all_df[transfer].copy()\n",
    "\n",
    "# Names here are used downstream in figure labels.\n",
    "all_df.name = 'Passengers'\n",
    "removal_df.name = 'Removals'\n",
    "transfer_df.name = 'Transfers'\n",
    "pickup_df.name = 'Departures'\n",
    "dropoff_df.name = 'Arrivals'\n",
    "\n",
    "# This grouped table would work for mapping flights from specific airports.\n",
    "all_missions = all_df.groupby(['MissionDate', 'MissionID', 'PULOC', 'DropLoc'])['AlienMasterID'].count()\n",
    "\n",
    "# Resampled counts of passengers and missions for different timeframes and types of record.\n",
    "weekly_pickups = pickup_df['AlienMasterID'].resample('W').count()\n",
    "weekly_dropoffs = dropoff_df['AlienMasterID'].resample('W').count()\n",
    "monthly_pickups = pickup_df['AlienMasterID'].resample('M').count()\n",
    "monthly_dropoffs = dropoff_df['AlienMasterID'].resample('M').count()\n",
    "monthly_pickup_missions = pickup_df['MissionID'].resample('M').count()\n",
    "monthly_dropoff_missions = dropoff_df['MissionID'].resample('M').count()\n",
    "annual_pickups = pickup_df['AlienMasterID'].resample('AS-OCT').count()\n",
    "annual_dropoffs = dropoff_df['AlienMasterID'].resample('AS-OCT').count()\n",
    "annual_removals = removal_df['AlienMasterID'].resample('AS-OCT').count()\n",
    "annual_transfers = transfer_df['AlienMasterID'].resample('AS-OCT').count()\n",
    "annual_total = all_df['AlienMasterID'].resample('AS-OCT').count()\n",
    "annual_pickup_missions = pickup_df['MissionID'].resample('AS-OCT').count()\n",
    "annual_dropoff_missions = dropoff_df['MissionID'].resample('AS-OCT').count()\n",
    "annual_total_missions = all_df['MissionID'].resample('AS-OCT').count()\n",
    "\n",
    "# Various descriptive statistics for selected airport\n",
    "unique_pickups = len(set(pickup_df['AlienMasterID']))\n",
    "unique_dropoffs = len(set(dropoff_df['AlienMasterID']))\n",
    "unique_removals = len(set(removal_df['AlienMasterID']))\n",
    "unique_transfers = len(set(transfer_df['AlienMasterID']))\n",
    "total_unique = len(set(all_df['AlienMasterID']))\n",
    "removal_percent = unique_removals / total_unique * 100\n",
    "transfer_percent = unique_transfers / total_unique * 100\n",
    "monthly_dropoff_avg = round(monthly_dropoffs.mean(), 2)\n",
    "monthly_pickup_avg = round(monthly_pickups.mean(), 2)\n",
    "monthly_dropoff_mission_avg = round(monthly_dropoff_missions.mean(), 2)\n",
    "monthly_pickup_mission_avg = round(monthly_pickup_missions.mean(), 2)\n",
    "unique_pickup_missions = len(set(pickup_df['MissionID']))\n",
    "unique_dropoff_missions = len(set(dropoff_df['MissionID']))"
   ]
  },
  {
   "cell_type": "code",
   "execution_count": 7,
   "metadata": {},
   "outputs": [
    {
     "data": {
      "text/plain": [
       "48684"
      ]
     },
     "execution_count": 7,
     "metadata": {},
     "output_type": "execute_result"
    }
   ],
   "source": [
    "total_unique"
   ]
  },
  {
   "cell_type": "code",
   "execution_count": 8,
   "metadata": {},
   "outputs": [
    {
     "data": {
      "text/plain": [
       "Brownsville South Padre Island International Airport    3432\n",
       "Valley International Airport                            3242\n",
       "Laredo International Airport                             475\n",
       "Ramon Villeda Morales International Airport              121\n",
       "El Salvador International Airport                         70\n",
       "San Antonio International Airport                         63\n",
       "Alexandria International Airport                          35\n",
       "Phoenix-Mesa-Gateway Airport                               3\n",
       "London Luton Airport                                       0\n",
       "Bâneasa International Airport                              0\n",
       "Name: air2_AirportName, dtype: int64"
      ]
     },
     "execution_count": 8,
     "metadata": {},
     "output_type": "execute_result"
    }
   ],
   "source": [
    "# Top destination airports for removals from selected airport\n",
    "pickup_df[pickup_df['R-T'] == 'R']['air2_AirportName'].value_counts().head(10)"
   ]
  },
  {
   "cell_type": "code",
   "execution_count": 9,
   "metadata": {},
   "outputs": [
    {
     "data": {
      "text/plain": [
       "Alexandria International Airport                        24562\n",
       "Phoenix-Mesa-Gateway Airport                              123\n",
       "Harrisburg International Airport                           79\n",
       "Brownsville South Padre Island International Airport       60\n",
       "Albuquerque International Sunport Airport                  56\n",
       "George Bush Intercontinental Houston Airport               39\n",
       "Fort Worth Meacham International Airport                   36\n",
       "San Antonio International Airport                          30\n",
       "Gary Chicago International Airport                         14\n",
       "El Paso International Airport                              10\n",
       "Name: air2_AirportName, dtype: int64"
      ]
     },
     "execution_count": 9,
     "metadata": {},
     "output_type": "execute_result"
    }
   ],
   "source": [
    "# Top destination airports for transfers from selected airport\n",
    "pickup_df[pickup_df['R-T'] == 'T']['air2_AirportName'].value_counts().head(10)"
   ]
  },
  {
   "cell_type": "code",
   "execution_count": 10,
   "metadata": {},
   "outputs": [],
   "source": [
    "missions_df = all_missions.reset_index()\n",
    "missions_df = missions_df.rename({\"AlienMasterID\": \"Passengers\"}, axis=1)"
   ]
  },
  {
   "cell_type": "code",
   "execution_count": 11,
   "metadata": {},
   "outputs": [],
   "source": [
    "# missions_df.to_csv(f'../output/{airport}_missions.csv', index=False)"
   ]
  },
  {
   "cell_type": "markdown",
   "metadata": {},
   "source": [
    "# Annual trends (by fiscal year)"
   ]
  },
  {
   "cell_type": "code",
   "execution_count": 12,
   "metadata": {},
   "outputs": [],
   "source": [
    "fy_index = pd.date_range(start='2010-10-01', end='2019-01-01', freq='AS-OCT')"
   ]
  },
  {
   "cell_type": "code",
   "execution_count": 13,
   "metadata": {},
   "outputs": [
    {
     "data": {
      "text/plain": [
       "MissionDate\n",
       "2010-10-01       55\n",
       "2011-10-01     7906\n",
       "2012-10-01     8226\n",
       "2013-10-01    10009\n",
       "2014-10-01     4577\n",
       "2015-10-01     4576\n",
       "2016-10-01     5830\n",
       "2017-10-01     4780\n",
       "2018-10-01     2725\n",
       "Freq: AS-OCT, Name: Total missions, dtype: int64"
      ]
     },
     "execution_count": 13,
     "metadata": {},
     "output_type": "execute_result"
    }
   ],
   "source": [
    "annual_pickups.rename('Total pickups', inplace=True)\n",
    "annual_dropoffs.rename('Total dropoffs', inplace=True)\n",
    "annual_removals.rename('Total removals', inplace=True)\n",
    "annual_transfers.rename('Total transfers', inplace=True)\n",
    "annual_total.rename('Total passengers', inplace=True)\n",
    "annual_pickup_missions.rename('Total pickup missions', inplace=True)\n",
    "annual_dropoff_missions.rename('Total dropoff missions', inplace=True)\n",
    "annual_total_missions.rename('Total missions', inplace=True)"
   ]
  },
  {
   "cell_type": "code",
   "execution_count": 14,
   "metadata": {},
   "outputs": [],
   "source": [
    "annual_summary = pd.DataFrame({'Annual Pickups': annual_pickups,\n",
    "              'Annual Pickup Missions': annual_pickup_missions,\n",
    "              'Annual Dropoffs': annual_dropoffs,\n",
    "              'Annual Dropoff Missions': annual_dropoff_missions,\n",
    "              'Annual Removals': annual_removals,\n",
    "              'Annual Transfers': annual_transfers,\n",
    "              'Annual Total Passengers': annual_total,\n",
    "              'Annual Total Missions': annual_total_missions}, index=fy_index)"
   ]
  },
  {
   "cell_type": "code",
   "execution_count": 15,
   "metadata": {},
   "outputs": [],
   "source": [
    "annual_summary.index = annual_summary.index.year+1 \n",
    "annual_summary.index.name = 'Fiscal Year'"
   ]
  },
  {
   "cell_type": "code",
   "execution_count": 16,
   "metadata": {},
   "outputs": [
    {
     "data": {
      "text/html": [
       "<div>\n",
       "<style scoped>\n",
       "    .dataframe tbody tr th:only-of-type {\n",
       "        vertical-align: middle;\n",
       "    }\n",
       "\n",
       "    .dataframe tbody tr th {\n",
       "        vertical-align: top;\n",
       "    }\n",
       "\n",
       "    .dataframe thead th {\n",
       "        text-align: right;\n",
       "    }\n",
       "</style>\n",
       "<table border=\"1\" class=\"dataframe\">\n",
       "  <thead>\n",
       "    <tr style=\"text-align: right;\">\n",
       "      <th></th>\n",
       "      <th>Annual Pickups</th>\n",
       "      <th>Annual Pickup Missions</th>\n",
       "      <th>Annual Dropoffs</th>\n",
       "      <th>Annual Dropoff Missions</th>\n",
       "      <th>Annual Removals</th>\n",
       "      <th>Annual Transfers</th>\n",
       "      <th>Annual Total Passengers</th>\n",
       "      <th>Annual Total Missions</th>\n",
       "    </tr>\n",
       "    <tr>\n",
       "      <th>Fiscal Year</th>\n",
       "      <th></th>\n",
       "      <th></th>\n",
       "      <th></th>\n",
       "      <th></th>\n",
       "      <th></th>\n",
       "      <th></th>\n",
       "      <th></th>\n",
       "      <th></th>\n",
       "    </tr>\n",
       "  </thead>\n",
       "  <tbody>\n",
       "    <tr>\n",
       "      <th>2011</th>\n",
       "      <td>55</td>\n",
       "      <td>55</td>\n",
       "      <td>NaN</td>\n",
       "      <td>NaN</td>\n",
       "      <td>55</td>\n",
       "      <td>NaN</td>\n",
       "      <td>55</td>\n",
       "      <td>55</td>\n",
       "    </tr>\n",
       "    <tr>\n",
       "      <th>2012</th>\n",
       "      <td>6996</td>\n",
       "      <td>6996</td>\n",
       "      <td>910.0</td>\n",
       "      <td>910.0</td>\n",
       "      <td>2192</td>\n",
       "      <td>5714.0</td>\n",
       "      <td>7906</td>\n",
       "      <td>7906</td>\n",
       "    </tr>\n",
       "    <tr>\n",
       "      <th>2013</th>\n",
       "      <td>5941</td>\n",
       "      <td>5941</td>\n",
       "      <td>2285.0</td>\n",
       "      <td>2285.0</td>\n",
       "      <td>1247</td>\n",
       "      <td>6979.0</td>\n",
       "      <td>8226</td>\n",
       "      <td>8226</td>\n",
       "    </tr>\n",
       "    <tr>\n",
       "      <th>2014</th>\n",
       "      <td>4880</td>\n",
       "      <td>4880</td>\n",
       "      <td>5129.0</td>\n",
       "      <td>5129.0</td>\n",
       "      <td>1288</td>\n",
       "      <td>8721.0</td>\n",
       "      <td>10009</td>\n",
       "      <td>10009</td>\n",
       "    </tr>\n",
       "    <tr>\n",
       "      <th>2015</th>\n",
       "      <td>2650</td>\n",
       "      <td>2650</td>\n",
       "      <td>1927.0</td>\n",
       "      <td>1927.0</td>\n",
       "      <td>482</td>\n",
       "      <td>4095.0</td>\n",
       "      <td>4577</td>\n",
       "      <td>4577</td>\n",
       "    </tr>\n",
       "    <tr>\n",
       "      <th>2016</th>\n",
       "      <td>2289</td>\n",
       "      <td>2289</td>\n",
       "      <td>2287.0</td>\n",
       "      <td>2287.0</td>\n",
       "      <td>187</td>\n",
       "      <td>4389.0</td>\n",
       "      <td>4576</td>\n",
       "      <td>4576</td>\n",
       "    </tr>\n",
       "    <tr>\n",
       "      <th>2017</th>\n",
       "      <td>4238</td>\n",
       "      <td>4238</td>\n",
       "      <td>1592.0</td>\n",
       "      <td>1592.0</td>\n",
       "      <td>542</td>\n",
       "      <td>5288.0</td>\n",
       "      <td>5830</td>\n",
       "      <td>5830</td>\n",
       "    </tr>\n",
       "    <tr>\n",
       "      <th>2018</th>\n",
       "      <td>3523</td>\n",
       "      <td>3523</td>\n",
       "      <td>1257.0</td>\n",
       "      <td>1257.0</td>\n",
       "      <td>954</td>\n",
       "      <td>3826.0</td>\n",
       "      <td>4780</td>\n",
       "      <td>4780</td>\n",
       "    </tr>\n",
       "    <tr>\n",
       "      <th>2019</th>\n",
       "      <td>1888</td>\n",
       "      <td>1888</td>\n",
       "      <td>837.0</td>\n",
       "      <td>837.0</td>\n",
       "      <td>495</td>\n",
       "      <td>2230.0</td>\n",
       "      <td>2725</td>\n",
       "      <td>2725</td>\n",
       "    </tr>\n",
       "  </tbody>\n",
       "</table>\n",
       "</div>"
      ],
      "text/plain": [
       "             Annual Pickups  Annual Pickup Missions  Annual Dropoffs  \\\n",
       "Fiscal Year                                                            \n",
       "2011                     55                      55              NaN   \n",
       "2012                   6996                    6996            910.0   \n",
       "2013                   5941                    5941           2285.0   \n",
       "2014                   4880                    4880           5129.0   \n",
       "2015                   2650                    2650           1927.0   \n",
       "2016                   2289                    2289           2287.0   \n",
       "2017                   4238                    4238           1592.0   \n",
       "2018                   3523                    3523           1257.0   \n",
       "2019                   1888                    1888            837.0   \n",
       "\n",
       "             Annual Dropoff Missions  Annual Removals  Annual Transfers  \\\n",
       "Fiscal Year                                                               \n",
       "2011                             NaN               55               NaN   \n",
       "2012                           910.0             2192            5714.0   \n",
       "2013                          2285.0             1247            6979.0   \n",
       "2014                          5129.0             1288            8721.0   \n",
       "2015                          1927.0              482            4095.0   \n",
       "2016                          2287.0              187            4389.0   \n",
       "2017                          1592.0              542            5288.0   \n",
       "2018                          1257.0              954            3826.0   \n",
       "2019                           837.0              495            2230.0   \n",
       "\n",
       "             Annual Total Passengers  Annual Total Missions  \n",
       "Fiscal Year                                                  \n",
       "2011                              55                     55  \n",
       "2012                            7906                   7906  \n",
       "2013                            8226                   8226  \n",
       "2014                           10009                  10009  \n",
       "2015                            4577                   4577  \n",
       "2016                            4576                   4576  \n",
       "2017                            5830                   5830  \n",
       "2018                            4780                   4780  \n",
       "2019                            2725                   2725  "
      ]
     },
     "execution_count": 16,
     "metadata": {},
     "output_type": "execute_result"
    }
   ],
   "source": [
    "annual_summary"
   ]
  },
  {
   "cell_type": "code",
   "execution_count": 17,
   "metadata": {},
   "outputs": [],
   "source": [
    "flat_summary = annual_summary.unstack().to_frame().T "
   ]
  },
  {
   "cell_type": "code",
   "execution_count": 18,
   "metadata": {},
   "outputs": [],
   "source": [
    "flat_summary.index = [airport]"
   ]
  },
  {
   "cell_type": "code",
   "execution_count": 19,
   "metadata": {
    "scrolled": true
   },
   "outputs": [],
   "source": [
    "flat_summary.columns = flat_summary.columns.tolist()"
   ]
  },
  {
   "cell_type": "code",
   "execution_count": 20,
   "metadata": {},
   "outputs": [],
   "source": [
    "# annual_summary.to_csv(f'../output/{airport}_annual_summary.csv')"
   ]
  },
  {
   "cell_type": "code",
   "execution_count": 21,
   "metadata": {},
   "outputs": [],
   "source": [
    "def bar_chart(data, airport=str, airport_name=str, filename=str, title=str):\n",
    "    fig, ax = plt.subplots()\n",
    "\n",
    "    data.plot(kind='bar',\n",
    "              ax=ax,\n",
    "              stacked=True,\n",
    "              title=f'{airport_name}',\n",
    "              rot=0,\n",
    "              grid=True,\n",
    "              figsize=(8,6),\n",
    "              fontsize=14)\n",
    "    ax.set_axisbelow(True)\n",
    "    ax.set_facecolor('#EEEEEE')\n",
    "    ax.grid(color='#FFFFFF')\n",
    "    ax.set_ylabel('Number of Passengers', fontsize=16)\n",
    "    ax.set_ylim(0)\n",
    "    ax.set_xlabel('Fiscal Year', fontsize=16)\n",
    "    ax.set_title(f'{title}', fontsize=18)\n",
    "    ax.tick_params(labelsize=14)\n",
    "    ax.legend(fontsize=14)\n",
    "    txt='(Source: UWCHR, ICE Air ARTS database)'\n",
    "    plt.figtext(0.7, .02, txt, wrap=True, horizontalalignment='center', fontsize=12)\n",
    "    \n",
    "    fig.set_size_inches(10, 8)\n",
    "    fig.savefig(f'../output/{airport}_{filename}.png')\n",
    "    plt.show()\n",
    "    plt.close()"
   ]
  },
  {
   "cell_type": "code",
   "execution_count": 22,
   "metadata": {},
   "outputs": [
    {
     "data": {
      "image/png": "[encoded data removed]",
      "text/plain": [
       "<Figure size 720x576 with 1 Axes>"
      ]
     },
     "metadata": {
      "needs_background": "light"
     },
     "output_type": "display_data"
    }
   ],
   "source": [
    "data = annual_summary[['Annual Pickups', 'Annual Dropoffs']]\n",
    "title = f'{airport_name} ({airport})\\nICE Air departures plus arrivals'\n",
    "bar_chart(data, airport, airport_name, 'pickup-dropoff', title)\n",
    "plt.show()"
   ]
  },
  {
   "cell_type": "code",
   "execution_count": 23,
   "metadata": {},
   "outputs": [
    {
     "data": {
      "image/png": "[encoded data removed]",
      "text/plain": [
       "<Figure size 720x576 with 1 Axes>"
      ]
     },
     "metadata": {
      "needs_background": "light"
     },
     "output_type": "display_data"
    }
   ],
   "source": [
    "data = annual_summary[['Annual Removals', 'Annual Transfers']]\n",
    "title = f'{airport_name} ({airport})\\nICE Air removals plus transfers'\n",
    "bar_chart(data, airport, airport_name, 'removal-transfer', title)\n",
    "plt.show()"
   ]
  },
  {
   "cell_type": "code",
   "execution_count": 24,
   "metadata": {},
   "outputs": [],
   "source": [
    "annual_summary[['Annual Pickups', 'Annual Dropoffs']].to_csv(f'../output/{airport}-AnnualDeparturesArrivals.csv')"
   ]
  },
  {
   "cell_type": "code",
   "execution_count": 25,
   "metadata": {},
   "outputs": [],
   "source": [
    "all_df.to_csv(f'../output/{airport}-allpassengers.csv')"
   ]
  },
  {
   "cell_type": "markdown",
   "metadata": {},
   "source": [
    "# Annual pickup rate, by criminal conviction status"
   ]
  },
  {
   "cell_type": "markdown",
   "metadata": {},
   "source": [
    "WARNING: Criminal conviction data is not consistently recorded by ICE, especially in FY 11."
   ]
  },
  {
   "cell_type": "code",
   "execution_count": 26,
   "metadata": {},
   "outputs": [],
   "source": [
    "annual_non_criminal = pickup_df[['NonCriminal']].resample('AS-OCT').sum()"
   ]
  },
  {
   "cell_type": "code",
   "execution_count": 27,
   "metadata": {},
   "outputs": [],
   "source": [
    "annual_non_criminal['total'] = annual_pickups\n",
    "annual_non_criminal['percent'] = annual_non_criminal['NonCriminal']/annual_pickups*100"
   ]
  },
  {
   "cell_type": "code",
   "execution_count": 28,
   "metadata": {},
   "outputs": [
    {
     "data": {
      "image/png": "[encoded data removed]",
      "text/plain": [
       "<Figure size 720x576 with 2 Axes>"
      ]
     },
     "metadata": {
      "needs_background": "light"
     },
     "output_type": "display_data"
    }
   ],
   "source": [
    "annual_data = annual_non_criminal['2010':'2017']\n",
    "annual_data.index = [f'FY{str(x)[2:4]}' for x in range(2011,2019)]\n",
    "\n",
    "# plt.style.use([{'legend.frameon': True}])\n",
    "plt.rc(\"font\", family=\"Sans-Serif\")\n",
    "\n",
    "fig, ax1 = plt.subplots()\n",
    "\n",
    "ax2 = ax1.twinx()\n",
    "\n",
    "lns1 = ax1.plot(annual_data['total'], label='Total pickups')\n",
    "lns2 = ax1.plot(annual_data['NonCriminal'], label='Non-criminal pickups')\n",
    "ax1_max = annual_data['total'].max()\n",
    "ax1.set_ylim(0, (ax1_max * 1.1))\n",
    "ax1.set_ylabel(f'Annual {airport} pickups', fontsize=16)\n",
    "ax1.tick_params(axis='x', labelsize=14)\n",
    "ax1.tick_params(axis='y', labelsize=14)\n",
    "ax2.grid(None)\n",
    "\n",
    "lns3 = ax2.plot(annual_data['percent'], label='% non-criminal', linestyle=':', color='green')\n",
    "ax2_max = annual_data['percent'].max()\n",
    "ax2.set_ylim(0, (ax2_max * 1.25))\n",
    "ax2.set_ylabel('% non-criminal', fontsize=16)\n",
    "ax2.tick_params(axis='y', labelsize=14)\n",
    "ax2.grid(None)\n",
    "# ax2.set_xticklabels([f'FY{str(x)[2:4]}' for x in range(2011,2019)])\n",
    "\n",
    "lns = [lns1[0], lns2[0], lns3[0]]\n",
    "labs = [l.get_label() for l in lns]\n",
    "ax1.legend(lns, labs, loc=0, fontsize=14)\n",
    "\n",
    "ax1.set_title(f'ICE pickups at {airport_name}\\n% with no criminal conviction', fontsize=20)\n",
    "\n",
    "fig.set_size_inches(10, 8)\n",
    "\n",
    "plt.show()\n",
    "fig.savefig(f'../output/{airport}_NoCrim.png', dpi=100)"
   ]
  },
  {
   "cell_type": "markdown",
   "metadata": {},
   "source": [
    "# Monthly averages (by FY)"
   ]
  },
  {
   "cell_type": "markdown",
   "metadata": {},
   "source": [
    "Calculating average rates of pickups, dropoffs, and flights for each calendar year in the dataset."
   ]
  },
  {
   "cell_type": "code",
   "execution_count": 30,
   "metadata": {},
   "outputs": [],
   "source": [
    "monthly_means = pd.DataFrame()\n",
    "for year in range(2011, 2019):\n",
    "    mean_pickups = monthly_pickups[f'{year}'].mean()\n",
    "    mean_pickup_missions = monthly_pickup_missions[f'{year}'].mean()\n",
    "    mean_dropoffs = monthly_dropoffs[f'{year}'].mean()\n",
    "    mean_dropoff_missions = monthly_dropoff_missions[f'{year}'].mean()\n",
    "    monthly_means = monthly_means.append({'calendar_year':year,\n",
    "                                          'monthly_mean_pickups':mean_pickups,\n",
    "                                          'monthly_mean_dropoffs':mean_dropoffs,\n",
    "                                          'monthly_mean_pickup_missions':mean_pickup_missions,\n",
    "                                          'monthly_mean_dropoff_missions':mean_dropoff_missions,\n",
    "                                         }, ignore_index=True)\n",
    "monthly_means['calendar_year'] = monthly_means['calendar_year'].astype(int)\n",
    "monthly_means = monthly_means.set_index('calendar_year')"
   ]
  },
  {
   "cell_type": "code",
   "execution_count": 31,
   "metadata": {},
   "outputs": [
    {
     "data": {
      "text/html": [
       "<div>\n",
       "<style scoped>\n",
       "    .dataframe tbody tr th:only-of-type {\n",
       "        vertical-align: middle;\n",
       "    }\n",
       "\n",
       "    .dataframe tbody tr th {\n",
       "        vertical-align: top;\n",
       "    }\n",
       "\n",
       "    .dataframe thead th {\n",
       "        text-align: right;\n",
       "    }\n",
       "</style>\n",
       "<table border=\"1\" class=\"dataframe\">\n",
       "  <thead>\n",
       "    <tr style=\"text-align: right;\">\n",
       "      <th></th>\n",
       "      <th>monthly_mean_dropoff_missions</th>\n",
       "      <th>monthly_mean_dropoffs</th>\n",
       "      <th>monthly_mean_pickup_missions</th>\n",
       "      <th>monthly_mean_pickups</th>\n",
       "    </tr>\n",
       "    <tr>\n",
       "      <th>calendar_year</th>\n",
       "      <th></th>\n",
       "      <th></th>\n",
       "      <th></th>\n",
       "      <th></th>\n",
       "    </tr>\n",
       "  </thead>\n",
       "  <tbody>\n",
       "    <tr>\n",
       "      <th>2011</th>\n",
       "      <td>34.67</td>\n",
       "      <td>34.67</td>\n",
       "      <td>328.25</td>\n",
       "      <td>328.25</td>\n",
       "    </tr>\n",
       "    <tr>\n",
       "      <th>2012</th>\n",
       "      <td>89.83</td>\n",
       "      <td>89.83</td>\n",
       "      <td>605.00</td>\n",
       "      <td>605.00</td>\n",
       "    </tr>\n",
       "    <tr>\n",
       "      <th>2013</th>\n",
       "      <td>248.08</td>\n",
       "      <td>248.08</td>\n",
       "      <td>475.25</td>\n",
       "      <td>475.25</td>\n",
       "    </tr>\n",
       "    <tr>\n",
       "      <th>2014</th>\n",
       "      <td>406.42</td>\n",
       "      <td>406.42</td>\n",
       "      <td>382.75</td>\n",
       "      <td>382.75</td>\n",
       "    </tr>\n",
       "    <tr>\n",
       "      <th>2015</th>\n",
       "      <td>159.25</td>\n",
       "      <td>159.25</td>\n",
       "      <td>189.00</td>\n",
       "      <td>189.00</td>\n",
       "    </tr>\n",
       "    <tr>\n",
       "      <th>2016</th>\n",
       "      <td>206.50</td>\n",
       "      <td>206.50</td>\n",
       "      <td>212.83</td>\n",
       "      <td>212.83</td>\n",
       "    </tr>\n",
       "    <tr>\n",
       "      <th>2017</th>\n",
       "      <td>81.25</td>\n",
       "      <td>81.25</td>\n",
       "      <td>353.25</td>\n",
       "      <td>353.25</td>\n",
       "    </tr>\n",
       "    <tr>\n",
       "      <th>2018</th>\n",
       "      <td>113.92</td>\n",
       "      <td>113.92</td>\n",
       "      <td>288.33</td>\n",
       "      <td>288.33</td>\n",
       "    </tr>\n",
       "  </tbody>\n",
       "</table>\n",
       "</div>"
      ],
      "text/plain": [
       "               monthly_mean_dropoff_missions  monthly_mean_dropoffs  \\\n",
       "calendar_year                                                         \n",
       "2011                                   34.67                  34.67   \n",
       "2012                                   89.83                  89.83   \n",
       "2013                                  248.08                 248.08   \n",
       "2014                                  406.42                 406.42   \n",
       "2015                                  159.25                 159.25   \n",
       "2016                                  206.50                 206.50   \n",
       "2017                                   81.25                  81.25   \n",
       "2018                                  113.92                 113.92   \n",
       "\n",
       "               monthly_mean_pickup_missions  monthly_mean_pickups  \n",
       "calendar_year                                                      \n",
       "2011                                 328.25                328.25  \n",
       "2012                                 605.00                605.00  \n",
       "2013                                 475.25                475.25  \n",
       "2014                                 382.75                382.75  \n",
       "2015                                 189.00                189.00  \n",
       "2016                                 212.83                212.83  \n",
       "2017                                 353.25                353.25  \n",
       "2018                                 288.33                288.33  "
      ]
     },
     "execution_count": 31,
     "metadata": {},
     "output_type": "execute_result"
    }
   ],
   "source": [
    "monthly_means.round(2)"
   ]
  },
  {
   "cell_type": "code",
   "execution_count": 32,
   "metadata": {},
   "outputs": [],
   "source": [
    "# monthly_means.to_csv(f'../output/{airport}_monthly_means.csv')"
   ]
  },
  {
   "cell_type": "markdown",
   "metadata": {},
   "source": [
    "# Top nationalities"
   ]
  },
  {
   "cell_type": "code",
   "execution_count": 43,
   "metadata": {},
   "outputs": [
    {
     "data": {
      "text/plain": [
       "MissionDate\n",
       "2014-10-27    MSLP\n",
       "2014-10-27    MSLP\n",
       "2014-10-27    MSLP\n",
       "2014-10-27    MSLP\n",
       "2014-10-27    MSLP\n",
       "2014-10-27    MSLP\n",
       "2014-10-27    MSLP\n",
       "2014-10-27    MSLP\n",
       "2014-10-27    MSLP\n",
       "2014-10-27    MSLP\n",
       "2014-10-27    MSLP\n",
       "2014-10-27    MSLP\n",
       "2014-10-27    MSLP\n",
       "2014-10-27    MSLP\n",
       "2014-10-27    MSLP\n",
       "2014-10-27    MSLP\n",
       "2014-10-27    MSLP\n",
       "2014-10-27    MSLP\n",
       "2014-10-27    MSLP\n",
       "2014-10-27    MSLP\n",
       "2014-10-27    MSLP\n",
       "2014-10-27    MSLP\n",
       "2014-10-27    MSLP\n",
       "2014-10-27    MSLP\n",
       "2014-10-27    MSLP\n",
       "2014-10-27    MSLP\n",
       "2014-10-27    MSLP\n",
       "2014-10-27    MSLP\n",
       "2014-10-27    MSLP\n",
       "2014-10-27    MSLP\n",
       "              ... \n",
       "2014-10-27    MSLP\n",
       "2014-10-27    MSLP\n",
       "2014-10-27    MSLP\n",
       "2014-10-27    MSLP\n",
       "2014-10-27    MSLP\n",
       "2014-10-27    MSLP\n",
       "2014-10-27    MSLP\n",
       "2014-10-27    MSLP\n",
       "2014-10-27    MSLP\n",
       "2014-10-27    MSLP\n",
       "2014-10-27    MSLP\n",
       "2014-10-27    MSLP\n",
       "2014-10-27    MSLP\n",
       "2014-10-27    MSLP\n",
       "2014-10-27    MSLP\n",
       "2014-10-27    MSLP\n",
       "2014-10-27    MSLP\n",
       "2014-10-27    MSLP\n",
       "2014-10-27    MSLP\n",
       "2014-10-27    MSLP\n",
       "2014-10-27    MSLP\n",
       "2014-10-27    MSLP\n",
       "2014-10-27    MSLP\n",
       "2014-10-27    MSLP\n",
       "2014-10-27    MSLP\n",
       "2014-10-27    MSLP\n",
       "2014-10-27    MSLP\n",
       "2014-10-27    MSLP\n",
       "2014-10-27    MSLP\n",
       "2014-10-27    MSLP\n",
       "Name: DropLoc, Length: 70, dtype: category\n",
       "Categories (211, object): [KAEX, KBFI, KBFL, KELP, ..., FNLU, KPVD, FEFF, FVRG]"
      ]
     },
     "execution_count": 43,
     "metadata": {},
     "output_type": "execute_result"
    }
   ],
   "source": [
    "removal_df[removal_df['CountryOfCitizenship'] == 'EL SALVADOR']['DropLoc']"
   ]
  },
  {
   "cell_type": "code",
   "execution_count": null,
   "metadata": {},
   "outputs": [],
   "source": [
    "pickup_df.drop_duplicates(subset='AlienMasterID')['CountryOfCitizenship'].value_counts().head(10)"
   ]
  },
  {
   "cell_type": "code",
   "execution_count": null,
   "metadata": {},
   "outputs": [],
   "source": [
    "dropoff_df.drop_duplicates(subset='AlienMasterID')['CountryOfCitizenship'].value_counts().head(5)"
   ]
  },
  {
   "cell_type": "code",
   "execution_count": null,
   "metadata": {},
   "outputs": [],
   "source": [
    "all_df.drop_duplicates(subset='AlienMasterID')['CountryOfCitizenship'].value_counts().head(5)"
   ]
  },
  {
   "cell_type": "code",
   "execution_count": null,
   "metadata": {},
   "outputs": [],
   "source": [
    "nat_percent = (df.groupby(['CountryOfCitizenship'])['AlienMasterID'].nunique() / len(df)).sort_values(ascending=False)"
   ]
  },
  {
   "cell_type": "code",
   "execution_count": null,
   "metadata": {},
   "outputs": [],
   "source": [
    "airport_nat_percent = (all_df.groupby(['CountryOfCitizenship'])['AlienMasterID'].nunique() / len(all_df)).sort_values(ascending=False)"
   ]
  },
  {
   "cell_type": "code",
   "execution_count": null,
   "metadata": {},
   "outputs": [],
   "source": [
    "pd.DataFrame({'Nationality as percent of dataset': nat_percent,\n",
    "              f'Nationality as percent of {airport}': airport_nat_percent}).to_csv(f'../output/{airport}_nationality_percent_comparison.csv')"
   ]
  },
  {
   "cell_type": "code",
   "execution_count": null,
   "metadata": {},
   "outputs": [],
   "source": [
    "removal_nationalities = removal_df.groupby([pd.Grouper(freq='AS-OCT'), 'CountryOfCitizenship'])['AlienMasterID'].nunique().unstack()\n",
    "removal_nationalities.to_csv(f'../output/{airport}_removal_nationalities.csv')"
   ]
  },
  {
   "cell_type": "markdown",
   "metadata": {},
   "source": [
    "# Chart of top nationalities per year\n",
    "\n",
    "This chart shows the top five `CountryOfCitizenship` values for each fiscal year. It can be misleading because values are summed in \"ALL OTHERS\" for years in which a particular nationalitiy is not in the top 5, but it makes clear things like which years certain groups come into or leave the top 5.\n",
    "\n",
    "Charts can be generated for pickups, dropoffs, removals, transfers, or all records."
   ]
  },
  {
   "cell_type": "code",
   "execution_count": null,
   "metadata": {},
   "outputs": [],
   "source": [
    "# Strangely, copying a DataFrame doesn't copy DataFrame.name\n",
    "# There's probably a better way to link dataframes to downstream chart labels, though\n",
    "df_to_analyze = pickup_df.copy()\n",
    "df_to_analyze.name = pickup_df.name"
   ]
  },
  {
   "cell_type": "code",
   "execution_count": null,
   "metadata": {},
   "outputs": [],
   "source": [
    "g = df_to_analyze.groupby([pd.Grouper(freq='AS-OCT', sort=True), 'CountryOfCitizenship'])['AlienMasterID', 'MissionID'].nunique()\n",
    "country_of_citizenship_by_year = g.reset_index()\n",
    "country_of_citizenship_by_year.rename({'MissionDate': 'FY'}, axis='columns', inplace=True)\n",
    "country_of_citizenship_by_year.set_index('FY', inplace=True)\n",
    "country_of_citizenship_by_year.sort_values(by='AlienMasterID', ascending=False, inplace=True)\n",
    "\n",
    "# country_of_citizenship_by_year.to_csv(f'../output/{airport}_country_of_citizenship_by_year.csv', index=True)"
   ]
  },
  {
   "cell_type": "code",
   "execution_count": null,
   "metadata": {},
   "outputs": [],
   "source": [
    "# Limiting to fiscal years with full data (FY2011-FY2018).\n",
    "country_of_citizenship_by_year = country_of_citizenship_by_year['2010':'2017']"
   ]
  },
  {
   "cell_type": "code",
   "execution_count": null,
   "metadata": {},
   "outputs": [],
   "source": [
    "all_passenger_nationality_by_year = country_of_citizenship_by_year.groupby([pd.Grouper(freq='AS-OCT'),'CountryOfCitizenship'])[['AlienMasterID']].sum().dropna(how='all',axis=0).unstack()\n",
    "all_passenger_nationality_by_year.to_csv(f'../output/{airport}_all_passenger_nationality_by_year.csv')"
   ]
  },
  {
   "cell_type": "code",
   "execution_count": null,
   "metadata": {},
   "outputs": [],
   "source": [
    "all_passenger_nationality_by_year.loc['2016':'2017'].T.dropna(how='all').to_csv('../output/kbfi_pickups_by_nationality.csv')"
   ]
  },
  {
   "cell_type": "code",
   "execution_count": null,
   "metadata": {},
   "outputs": [],
   "source": [
    "top_5_df = pd.DataFrame()\n",
    "\n",
    "for year in country_of_citizenship_by_year.index.unique():\n",
    "    temp = country_of_citizenship_by_year.loc[f'{year}'][['CountryOfCitizenship', 'AlienMasterID']]\n",
    "    temp_top_5 = temp[0:5]\n",
    "    if len(temp) > 5:\n",
    "        all_other_count = sum(temp['AlienMasterID'][5:])\n",
    "    else:\n",
    "        all_other_count = 0\n",
    "    other_df = pd.DataFrame([['ALL OTHERS', all_other_count]], columns=['CountryOfCitizenship', 'AlienMasterID'], index=[year])\n",
    "    temp_top_5 = temp_top_5.append(other_df)\n",
    "    top_5_df = top_5_df.append(temp_top_5)\n",
    "    \n",
    "top_5_df.sort_index(inplace=True)\n",
    "top_5_df.index = [f'FY{str(x)[2:4]}' for x in top_5_df.index.year + 1]\n",
    "\n",
    "top_5_data = pd.pivot_table(data=top_5_df,\n",
    "                       index=top_5_df.index,\n",
    "                       columns='CountryOfCitizenship',\n",
    "                       values='AlienMasterID',\n",
    "                       aggfunc=np.sum,\n",
    "                       fill_value=0)\n",
    "\n",
    "top_5_data = top_5_data.reindex(top_5_data.sum().sort_values(ascending=False).index, axis=1)\n",
    "cols = list(top_5_data.columns)\n",
    "cols.remove('ALL OTHERS')\n",
    "cols.append('ALL OTHERS')\n",
    "top_5_data = top_5_data[cols]\n",
    "\n",
    "top_5_data.columns = top_5_data.columns.str.title()\n",
    "top_5_data.columns.name = 'Country of Citizenship'"
   ]
  },
  {
   "cell_type": "code",
   "execution_count": null,
   "metadata": {},
   "outputs": [],
   "source": [
    "def country_of_citizenship_trend(data, title=str, filename=str, xlabel=str, ylabel=str):\n",
    "    \n",
    "    fig, ax = plt.subplots()\n",
    "    \n",
    "    data.plot(kind='bar', stacked=True, legend=True, ax=ax).legend(bbox_to_anchor=(1,1))\n",
    "\n",
    "    ax.set_axisbelow(True)\n",
    "    ax.set_facecolor('#EEEEEE')\n",
    "    ax.grid(color='#FFFFFF')\n",
    "    ax.set_ylabel(ylabel, fontsize=16)\n",
    "    ax.set_xlabel(xlabel, fontsize=16)\n",
    "    ax.set_title(title, fontsize=18)\n",
    "    ax.tick_params(labelsize=14)\n",
    "    plt.xticks(rotation=0)\n",
    "    txt='(Source: UWCHR, ICE Air ARTS database)'\n",
    "    txt=plt.figtext(0.7, -0.00, txt, wrap=True, horizontalalignment='center', fontsize=12)\n",
    "    lgd=plt.legend(fontsize=12)\n",
    "\n",
    "    fig.set_size_inches(10, 8)\n",
    "    fig.savefig(f'../output/{filename}.png', dpi=100, bbox_extra_artists=(lgd,txt), bbox_inches='tight')\n",
    "    return fig, ax"
   ]
  },
  {
   "cell_type": "code",
   "execution_count": null,
   "metadata": {},
   "outputs": [],
   "source": [
    "country_of_citizenship_trend(top_5_data,\n",
    "                             title=f'{airport_name} \\n ICE Air {df_to_analyze.name} by Country of Citizenship \\n (Top 5 per year)',\n",
    "                             filename=f'{airport}_top5_nationalities',\n",
    "                             ylabel=f'Total {df_to_analyze.name}',\n",
    "                             xlabel='Fiscal Year');"
   ]
  },
  {
   "cell_type": "code",
   "execution_count": null,
   "metadata": {},
   "outputs": [],
   "source": [
    "g = pickup_df.groupby(['PULOC', pd.Grouper(freq='AS-OCT', sort=True), 'air2_AirportName'])['AlienMasterID','MissionID'].nunique()\n",
    "drop_locs_by_year = g.reset_index()\n",
    "drop_locs_by_year.rename({'MissionDate': 'FY'}, axis='columns', inplace=True)\n",
    "\n",
    "# drop_locs_by_year.to_csv(f'../output/{airport}_drop_locs_by_year.csv', index=True)"
   ]
  },
  {
   "cell_type": "markdown",
   "metadata": {},
   "source": [
    "# Alternate plot of top nationalities"
   ]
  },
  {
   "cell_type": "markdown",
   "metadata": {},
   "source": [
    "Since selecting top 5 for each year is a bit counterintuitive, we can instead select here an aribtrary number of nationalities to display for all years, while summing others. This can be based on most common values or could be some other arbitrary list. (See also implementation in `global.ipynb` for plotting all values that break top 5 for any year.)"
   ]
  },
  {
   "cell_type": "code",
   "execution_count": null,
   "metadata": {},
   "outputs": [],
   "source": [
    "annual = df_to_analyze.groupby([pd.Grouper(freq='AS-OCT', sort=True), 'CountryOfCitizenship'])['AlienMasterID'].nunique()"
   ]
  },
  {
   "cell_type": "code",
   "execution_count": null,
   "metadata": {},
   "outputs": [],
   "source": [
    "# There is probably a better way to do this\n",
    "annual = annual.reset_index()\n",
    "annual.set_index('MissionDate', inplace=True)\n",
    "annual = annual['2010':'2017']"
   ]
  },
  {
   "cell_type": "code",
   "execution_count": null,
   "metadata": {},
   "outputs": [],
   "source": [
    "# Select arbitrary number of top values to display here\n",
    "number_of_top_values = 5\n",
    "annual_sum = annual.groupby(['CountryOfCitizenship'])['AlienMasterID'].sum()\n",
    "top = list(annual_sum.sort_values(ascending=False).head(number_of_top_values).index)\n",
    "\n",
    "top_df = pd.DataFrame()\n",
    "top_df = top_df.append(annual[annual['CountryOfCitizenship'].isin(top)])\n",
    "top_df.index = top_df.index.year\n",
    "\n",
    "for year in annual.index.year.unique():\n",
    "    temp = annual[f'{year}']\n",
    "    temp2 = temp[~temp['CountryOfCitizenship'].isin(top)]\n",
    "    all_other_count = temp2['AlienMasterID'].sum()\n",
    "    other_df = pd.DataFrame([['ALL OTHERS', all_other_count]],\n",
    "                            columns=['CountryOfCitizenship',\n",
    "                                     'AlienMasterID'],\n",
    "                            index=[year])\n",
    "    top_df = top_df.append(other_df)\n",
    "\n",
    "top_df.sort_index(inplace=True)\n",
    "top_df.index = [f'FY{str(x)[2:4]}' for x in top_df.index + 1]\n",
    "\n",
    "top_df['CountryOfCitizenship'] = top_df['CountryOfCitizenship'].astype('category')\n",
    "\n",
    "top_data = pd.pivot_table(data=top_df,\n",
    "                       index=top_df.index,\n",
    "                       columns='CountryOfCitizenship',\n",
    "                       values='AlienMasterID',\n",
    "                       aggfunc=np.sum,\n",
    "                       fill_value=0)\n",
    "top_data = top_data.reindex(top_data.sum().sort_values(ascending=False).index, axis=1)\n",
    "cols = list(top_data.columns)\n",
    "cols.remove('ALL OTHERS')\n",
    "cols.append('ALL OTHERS')\n",
    "top_data = top_data[cols]\n",
    "top_data.columns = top_data.columns.astype(str)\n",
    "top_data.columns = top_data.columns.str.title()"
   ]
  },
  {
   "cell_type": "code",
   "execution_count": null,
   "metadata": {},
   "outputs": [],
   "source": [
    "country_of_citizenship_trend(top_data,\n",
    "                             title=f'ICE Air Departures from King County Int’l Airport (Boeing Field)\\nby Country of Citizenship (Top 5 overall)',\n",
    "                             filename=f'{airport}_pickup_nationalities',\n",
    "                             ylabel=f'Total {df_to_analyze.name}',\n",
    "                             xlabel='Fiscal Year');"
   ]
  },
  {
   "cell_type": "markdown",
   "metadata": {},
   "source": [
    "# Not top nationalities"
   ]
  },
  {
   "cell_type": "code",
   "execution_count": null,
   "metadata": {},
   "outputs": [],
   "source": [
    "number_of_top_values = 5\n",
    "annual_sum = annual.groupby(['CountryOfCitizenship'])['AlienMasterID'].sum()\n",
    "top = list(annual_sum.sort_values(ascending=False).head(number_of_top_values).index)\n",
    "\n",
    "not_top_df = pd.DataFrame()\n",
    "not_top_df = not_top_df.append(annual[~annual['CountryOfCitizenship'].isin(top)])\n",
    "not_top_df.index = not_top_df.index.year"
   ]
  },
  {
   "cell_type": "code",
   "execution_count": null,
   "metadata": {},
   "outputs": [],
   "source": [
    "not_top_data = pd.pivot_table(data=not_top_df,\n",
    "                       index=not_top_df.index,\n",
    "                       columns='CountryOfCitizenship',\n",
    "                       values='AlienMasterID',\n",
    "                       aggfunc=np.sum,\n",
    "                       fill_value=0)\n",
    "not_top_data = not_top_data.reindex(not_top_data.sum().sort_values(ascending=False).index, axis=1)\n",
    "# cols = list(not_top_data.columns)\n",
    "# cols.remove('ALL OTHERS')\n",
    "# cols.append('ALL OTHERS')\n",
    "# not_top_data = not_top_data[cols]\n",
    "# not_top_data.columns = not_top_data.columns.astype(str)\n",
    "# not_top_data.columns = not_top_data.columns.str.title()"
   ]
  },
  {
   "cell_type": "code",
   "execution_count": null,
   "metadata": {},
   "outputs": [],
   "source": [
    "not_top_data.sum().head(15)"
   ]
  },
  {
   "cell_type": "code",
   "execution_count": null,
   "metadata": {},
   "outputs": [],
   "source": [
    "all_others = not_top_data.sum()[not_top_data.sum() < 50].index\n",
    "greater_than_x = not_top_data.sum()[not_top_data.sum() > 50].index\n",
    "to_plot = not_top_data[greater_than_x].copy()\n",
    "to_plot.columns = to_plot.columns.astype(str)\n",
    "to_plot['ALL OTHERS'] = not_top_data[all_others].sum(axis=1)"
   ]
  },
  {
   "cell_type": "code",
   "execution_count": null,
   "metadata": {},
   "outputs": [],
   "source": [
    "country_of_citizenship_trend(to_plot,\n",
    "                             title=f'ICE Air Departures from {airport_name}\\nby Country of Citizenship (Top 5 excluded)',\n",
    "                             filename=f'{airport}_pickup_nationalities_top_5_excluded',\n",
    "                             ylabel=f'Total {df_to_analyze.name}',\n",
    "                             xlabel='Fiscal Year');"
   ]
  },
  {
   "cell_type": "markdown",
   "metadata": {},
   "source": [
    "# Juveniles (by fiscal year)\n",
    "\n",
    "Table of just juveniles for pickups, dropoffs. Currently will fail if no juveniles."
   ]
  },
  {
   "cell_type": "code",
   "execution_count": null,
   "metadata": {},
   "outputs": [],
   "source": [
    "assert sum(all_df['Juvenile']) > 0, f\"No juveniles in dataset for {airport}\""
   ]
  },
  {
   "cell_type": "code",
   "execution_count": null,
   "metadata": {},
   "outputs": [],
   "source": [
    "g = pickup_df.groupby(['PULOC', pd.Grouper(freq='AS-OCT', sort=True), 'Juvenile'])['AlienMasterID'].nunique()\n",
    "juvenile_pickups = g.unstack()\n",
    "juvenile_pickups['percent'] = juvenile_pickups[True] / juvenile_pickups[False] * 100\n",
    "juvenile_pickups"
   ]
  },
  {
   "cell_type": "code",
   "execution_count": null,
   "metadata": {},
   "outputs": [],
   "source": [
    "g = dropoff_df.groupby(['DropLoc', pd.Grouper(freq='AS-OCT', sort=True), 'Juvenile'])['AlienMasterID'].nunique()\n",
    "juvenile_pickups = g.unstack()"
   ]
  },
  {
   "cell_type": "code",
   "execution_count": null,
   "metadata": {},
   "outputs": [],
   "source": [
    "juvenile_pickups"
   ]
  },
  {
   "cell_type": "code",
   "execution_count": null,
   "metadata": {},
   "outputs": [],
   "source": [
    "juvenile_pickups['percent'] = juvenile_pickups[True] / juvenile_pickups[False] * 100\n",
    "juvenile_pickups"
   ]
  },
  {
   "cell_type": "code",
   "execution_count": null,
   "metadata": {},
   "outputs": [],
   "source": [
    "g = all_df.groupby(['R-T', pd.Grouper(freq='AS-OCT', sort=True), 'Juvenile'])['AlienMasterID'].nunique()"
   ]
  },
  {
   "cell_type": "code",
   "execution_count": null,
   "metadata": {},
   "outputs": [],
   "source": [
    "juvenile_removal_transfer = g.unstack()\n",
    "juvenile_removal_transfer"
   ]
  },
  {
   "cell_type": "markdown",
   "metadata": {},
   "source": [
    "# Detainee status"
   ]
  },
  {
   "cell_type": "code",
   "execution_count": 33,
   "metadata": {},
   "outputs": [],
   "source": [
    "status_count = removal_df.drop_duplicates(subset='AlienMasterID')['Status'].str.upper().value_counts(dropna=False)"
   ]
  },
  {
   "cell_type": "code",
   "execution_count": 34,
   "metadata": {},
   "outputs": [],
   "source": [
    "status = pd.read_csv('../../../share/resources/status.csv')\n",
    "\n",
    "valid_status_codes = list(status['Code'])\n",
    "\n",
    "status_dict = dict(zip(status['Code'], status['Status']))\n",
    "\n",
    "pending = ['2A', '2B', '8A', '8B', '8D']\n",
    "benefit = ['5C', '5D']\n",
    "expedited_admin_rein = ['8F', '8G', '8H', '8I', '11', '16']\n",
    "problematic = pending + benefit + expedited_admin_rein"
   ]
  },
  {
   "cell_type": "code",
   "execution_count": 40,
   "metadata": {},
   "outputs": [
    {
     "name": "stdout",
     "output_type": "stream",
     "text": [
      "KEWR - Newark Liberty International Airport\n",
      "\n",
      "ICE status codes for passengers on direct removal flights.\n",
      "(Statuses which may raise due process concerns starred)\n",
      "\n",
      "3363 valid values.\n",
      "4079 invalid values.\n",
      "\n",
      "[1A]: 0 (Voluntary Departure – Un-Expired and Un-Extended Voluntary Departure.)\n",
      "[1B]: 0 (Voluntary Departure - Extended Departure Period)\n",
      "[1C]: 0 (Exipred Voluntary Departure Period - Referred to Investigation)\n",
      "[2A]: *4* (Deportable – Under Adjudication by IJ)\n",
      "[2B]: *1* (Deportable – Under Adjudication by BIA)\n",
      "[3]: 99 (Deportable – Administratively Final Order)\n",
      "[5A]: 0 (Referred for Investigation - No Show for Hearing - No Final O...)\n",
      "[5B]: 8 (Removable – ICE Fugitive)\n",
      "[5C]: *0* (Relief Granted – Withholding of Deportation/Removal)\n",
      "[5D]: *1* (Final Order of Deportation/Removal – Deferred Action Granted.)\n",
      "[5E]: 0 (Relief Granted – Extended Voluntary Departure)\n",
      "[5F]: 0 (Unable to Obtain Travel Document)\n",
      "[8A]: *17* (Excludable/Inadmissible – Hearing Not Commenced)\n",
      "[8B]: *86* (Excludable/Inadmissible – Under Adjudication by an Immigration Judge.)\n",
      "[8C]: 1578 (Excludable/Inadmissible – Administrative Final Order Issued.)\n",
      "[8D]: *12* (Excludable/Inadmissible – Under Adjudication by BIA)\n",
      "[8E]: 36 (Inadmissible – ICE Fugitive)\n",
      "[8F]: *64* (Expedited Removal)\n",
      "[8G]: *124* (Expedited Removal – Credible Fear Referral)\n",
      "[8H]: *0* (Expedited Removal – Status Claim Referral)\n",
      "[8I]: *6* (Inadmissible – ICE Fugitive – Expedited Removal)\n",
      "[9]: 0 (VR Under Safeguards)\n",
      "[10]: 0 (Visa Waiver Deportation/Removal)\n",
      "[11]: *346* (Administrative Deportation/Removal)\n",
      "[12]: 3 (Judicial Deportation / Removal)\n",
      "[13]: 0 (Section 250 Removal)\n",
      "[14]: 0 (Crewman, Stowaways, S-Visa Holders, 235 (c) cases)\n",
      "[15]: 2 (Terrorist Court Case (Title 5))\n",
      "[16]: *976* (Reinstated Final Order)\n",
      "\n",
      "1637 problematic cases.\n",
      "120 with pending appeals.\n",
      "1 with benefit blocking deportation.\n",
      "1516 under expedited, administrative, reinstatement of removal.\n"
     ]
    }
   ],
   "source": [
    "problematic_count = 0\n",
    "valid = removal_df['Status'].str.upper().isin(valid_status_codes)\n",
    "valid_count = sum(valid)\n",
    "invalid = ~removal_df['Status'].str.upper().isin(valid_status_codes)\n",
    "invalid_count = sum(invalid)\n",
    "\n",
    "print(f'{airport} - {airport_name}')\n",
    "print()\n",
    "print(f'ICE status codes for passengers on direct removal flights.')\n",
    "print(f'(Statuses which may raise due process concerns starred)')\n",
    "print()\n",
    "print(f'{valid_count} valid values.')\n",
    "print(f'{invalid_count} invalid values.')\n",
    "print()\n",
    "for c in valid_status_codes:\n",
    "    \n",
    "    try:\n",
    "        count = status_count[c]\n",
    "    except KeyError:\n",
    "        count = 0\n",
    "    \n",
    "    if c in problematic:\n",
    "        problematic_count = problematic_count + count\n",
    "        print(f'[{c}]: *{count}* ({status_dict[c]})')\n",
    "    else:\n",
    "        print(f'[{c}]: {count} ({status_dict[c]})')\n",
    "print()\n",
    "print(f'{problematic_count} problematic cases.')\n",
    "print(f\"{sum(removal_df['Status'].isin(pending))} with pending appeals.\")\n",
    "print(f\"{sum(removal_df['Status'].isin(benefit))} with benefit blocking deportation.\")\n",
    "print(f\"{sum(removal_df['Status'].isin(expedited_admin_rein))} under expedited, administrative, reinstatement of removal.\")"
   ]
  },
  {
   "cell_type": "code",
   "execution_count": 36,
   "metadata": {},
   "outputs": [
    {
     "data": {
      "text/plain": [
       "1516"
      ]
     },
     "execution_count": 36,
     "metadata": {},
     "output_type": "execute_result"
    }
   ],
   "source": [
    "sum(removal_df['Status'].isin(expedited_admin_rein))"
   ]
  },
  {
   "cell_type": "code",
   "execution_count": 37,
   "metadata": {},
   "outputs": [
    {
     "data": {
      "text/plain": [
       "120"
      ]
     },
     "execution_count": 37,
     "metadata": {},
     "output_type": "execute_result"
    }
   ],
   "source": [
    "sum(removal_df['Status'].isin(pending))"
   ]
  },
  {
   "cell_type": "code",
   "execution_count": 38,
   "metadata": {},
   "outputs": [
    {
     "data": {
      "text/plain": [
       "1"
      ]
     },
     "execution_count": 38,
     "metadata": {},
     "output_type": "execute_result"
    }
   ],
   "source": [
    "sum(removal_df['Status'].isin(benefit))"
   ]
  },
  {
   "cell_type": "code",
   "execution_count": null,
   "metadata": {},
   "outputs": [],
   "source": [
    "status_fy = removal_df.drop_duplicates(subset='AlienMasterID').resample('AS-OCT')['Status'].value_counts().unstack()\n",
    "status_fy_valid = status_fy[status_fy.columns[status_fy.columns.isin(valid_status_codes)]]\n",
    "\n",
    "total = removal_df.drop_duplicates(subset='AlienMasterID').resample('AS-OCT')['AlienMasterID'].nunique()\n",
    "\n",
    "status_fy_valid.T.to_csv(f'../output/{airport}_valid_status_by_year.csv')\n",
    "\n",
    "all_others = status_fy[status_fy.columns[~status_fy.columns.isin(valid_status_codes)]].sum(axis=1)\n",
    "all_others.name = 'all_others'\n",
    "\n",
    "status_table = pd.concat([status_fy_valid, all_others], axis=1).T\n",
    "\n",
    "status_table.to_csv(f'../output/{airport}_removal_status_by_year.csv')\n",
    "(status_table/total).to_csv(f'../output/{airport}_removal_status_by_year_percent.csv')"
   ]
  },
  {
   "cell_type": "code",
   "execution_count": null,
   "metadata": {},
   "outputs": [],
   "source": [
    "total"
   ]
  },
  {
   "cell_type": "code",
   "execution_count": null,
   "metadata": {},
   "outputs": [],
   "source": [
    "transfer_status = transfer_df['Status'].value_counts()"
   ]
  },
  {
   "cell_type": "code",
   "execution_count": null,
   "metadata": {},
   "outputs": [],
   "source": [
    "transfer_status[transfer_status >= 100]"
   ]
  },
  {
   "cell_type": "code",
   "execution_count": null,
   "metadata": {},
   "outputs": [],
   "source": [
    "pickup_transfer_status = pickup_df[pickup_df['R-T'] == 'T']['Status'].value_counts()"
   ]
  },
  {
   "cell_type": "code",
   "execution_count": null,
   "metadata": {
    "scrolled": true
   },
   "outputs": [],
   "source": [
    "pickup_transfer_status[pickup_transfer_status > 100]"
   ]
  },
  {
   "cell_type": "code",
   "execution_count": null,
   "metadata": {},
   "outputs": [],
   "source": [
    "dropoff_status = dropoff_df['Status'].value_counts()\n",
    "dropoff_status[dropoff_status > 1]"
   ]
  },
  {
   "cell_type": "markdown",
   "metadata": {},
   "source": [
    "## Finding most common day of week"
   ]
  },
  {
   "cell_type": "code",
   "execution_count": null,
   "metadata": {},
   "outputs": [],
   "source": [
    "all_df['MissionWeekday'] = all_df.index.weekday"
   ]
  },
  {
   "cell_type": "code",
   "execution_count": null,
   "metadata": {},
   "outputs": [],
   "source": [
    "index = range(0,7)"
   ]
  },
  {
   "cell_type": "code",
   "execution_count": null,
   "metadata": {},
   "outputs": [],
   "source": [
    "weekdays_2018 = all_df.loc['2018'].groupby(['MissionWeekday'])['MissionID'].nunique()"
   ]
  },
  {
   "cell_type": "code",
   "execution_count": null,
   "metadata": {},
   "outputs": [],
   "source": [
    "weekdays_2018 = weekdays_2018.reset_index()"
   ]
  },
  {
   "cell_type": "code",
   "execution_count": null,
   "metadata": {},
   "outputs": [],
   "source": [
    "weekdays_2018 = weekdays_2018.set_index('MissionWeekday')"
   ]
  },
  {
   "cell_type": "code",
   "execution_count": null,
   "metadata": {},
   "outputs": [],
   "source": [
    "weekdays_2018 = weekdays_2018.reindex(index=index)"
   ]
  },
  {
   "cell_type": "code",
   "execution_count": null,
   "metadata": {},
   "outputs": [],
   "source": [
    "weekdays_2018 = weekdays_2018.rename({'MissionID': 'Flights'}, axis=1)"
   ]
  },
  {
   "cell_type": "code",
   "execution_count": null,
   "metadata": {},
   "outputs": [],
   "source": [
    "weekdays_2018 = weekdays_2018.T\n",
    "weekdays_2018.columns = ['M', 'Tu', 'W', 'Th', 'F', 'Sa', 'Su']"
   ]
  },
  {
   "cell_type": "code",
   "execution_count": null,
   "metadata": {},
   "outputs": [],
   "source": [
    "weekdays_2018.fillna(0, inplace=True)"
   ]
  },
  {
   "cell_type": "code",
   "execution_count": null,
   "metadata": {},
   "outputs": [],
   "source": [
    "weekdays_2018"
   ]
  },
  {
   "cell_type": "code",
   "execution_count": null,
   "metadata": {},
   "outputs": [],
   "source": [
    "fig, ax = plt.subplots()\n",
    "fig.set_size_inches(7,1)\n",
    "ax = sns.heatmap(weekdays_2018, annot=True, annot_kws={\"size\": 20}, fmt='.0f', cmap=plt.cm.viridis, cbar=False)\n",
    "ax.tick_params(axis='x', labelsize=16)\n",
    "ax.tick_params(axis='y', labelsize=16, rotation=0)\n",
    "# ax.set_ylabel('Year', fontsize=14)\n",
    "# ax.set_xlabel('Weekday', fontsize=14)\n",
    "ax.set_title(f'Day of week of ICE Air flights at {airport_name} during 2018', fontsize=18, pad=10);\n",
    "fig.savefig(f'../output/{airport}-weekdays.png', dpi=100,  bbox_inches='tight')"
   ]
  },
  {
   "cell_type": "markdown",
   "metadata": {},
   "source": [
    "# Airport report\n",
    "\n",
    "For a each airport ICAO code represented in the ICE Air data, output a uniform set of variables, tables, and figures."
   ]
  },
  {
   "cell_type": "code",
   "execution_count": 86,
   "metadata": {},
   "outputs": [
    {
     "data": {
      "text/plain": [
       "'Boeing Field King County International Airport'"
      ]
     },
     "execution_count": 86,
     "metadata": {},
     "output_type": "execute_result"
    }
   ],
   "source": [
    "airport_dict['KBFI']['AirportName']"
   ]
  },
  {
   "cell_type": "code",
   "execution_count": 87,
   "metadata": {},
   "outputs": [
    {
     "data": {
      "text/plain": [
       "{'AirportName': 'Boeing Field King County International Airport',\n",
       " 'City': 'Seattle',\n",
       " 'Country': 'USA',\n",
       " 'LatitudeDecimalDegrees': 47.53,\n",
       " 'LongitudeDecimalDegrees': -122.302,\n",
       " 'State': 'WA'}"
      ]
     },
     "execution_count": 87,
     "metadata": {},
     "output_type": "execute_result"
    }
   ],
   "source": [
    "airport_dict['KBFI']"
   ]
  },
  {
   "cell_type": "code",
   "execution_count": 88,
   "metadata": {},
   "outputs": [],
   "source": [
    "def airport_report(airport_icao, print_report=False, figure=False):\n",
    "    airport = airport_icao\n",
    "    if airport.upper() in airport_dict.keys():\n",
    "        pass\n",
    "    else:\n",
    "        print(f'{airport} not represented in dataset')\n",
    "    airport_name = airport_dict[airport]['AirportName']\n",
    "    pickup = df['PULOC'] == airport\n",
    "    dropoff = df['DropLoc'] == airport\n",
    "\n",
    "    pickup_df = df[pickup]\n",
    "    dropoff_df = df[dropoff]\n",
    "\n",
    "    first_pickup = pickup_df.MissionDate.min()\n",
    "    last_pickup = pickup_df.MissionDate.max()\n",
    "    first_dropoff = dropoff_df.MissionDate.min()\n",
    "    last_dropoff = dropoff_df.MissionDate.max()\n",
    "\n",
    "    pickup_df.set_index('MissionDate', inplace=True)\n",
    "    dropoff_df.set_index('MissionDate', inplace=True)\n",
    "\n",
    "    all_df = pd.concat([pickup_df, dropoff_df]).drop_duplicates()\n",
    "\n",
    "    removal = all_df['R-T'] == 'R'\n",
    "    transfer = all_df['R-T'] == 'T'\n",
    "    removal_df = all_df[removal]\n",
    "    transfer_df = all_df[transfer]\n",
    "\n",
    "    all_df.name = 'Passengers'\n",
    "    removal_df.name = 'Removals'\n",
    "    transfer_df.name = 'Transfers'\n",
    "    pickup_df.name = 'Pickups'\n",
    "    dropoff_df.name = 'Dropoffs'\n",
    "\n",
    "    # This grouped table would work for mapping flights from specific airports.\n",
    "    all_missions = all_df.groupby(['MissionDate', 'MissionID', 'PULOC', 'DropLoc'])[['AlienMasterID']].nunique()\n",
    "    \n",
    "    monthly_pickups = pickup_df['AlienMasterID'].resample('M').nunique()\n",
    "    monthly_dropoffs = dropoff_df['AlienMasterID'].resample('M').nunique()\n",
    "    monthly_pickup_missions = pickup_df['MissionID'].resample('M').nunique()\n",
    "    monthly_dropoff_missions = dropoff_df['MissionID'].resample('M').nunique()\n",
    "    annual_pickups = pickup_df['AlienMasterID'].resample('AS-OCT').nunique()\n",
    "    annual_dropoffs = dropoff_df['AlienMasterID'].resample('AS-OCT').nunique()\n",
    "    annual_removals = removal_df['AlienMasterID'].resample('AS-OCT').nunique()\n",
    "    annual_transfers = transfer_df['AlienMasterID'].resample('AS-OCT').nunique()\n",
    "    annual_pickup_missions = pickup_df['MissionID'].resample('AS-OCT').nunique()\n",
    "    annual_dropoff_missions = dropoff_df['MissionID'].resample('AS-OCT').nunique()\n",
    "    annual_total = all_df['AlienMasterID'].resample('AS-OCT').nunique()\n",
    "    \n",
    "    unique_pickups = len(set(pickup_df['AlienMasterID']))\n",
    "    unique_dropoffs = len(set(dropoff_df['AlienMasterID']))\n",
    "    unique_removals = len(set(removal_df['AlienMasterID']))\n",
    "    unique_transfers = len(set(transfer_df['AlienMasterID']))\n",
    "    total_unique = len(set(all_df['AlienMasterID']))\n",
    "    removal_percent = round(unique_removals / total_unique * 100, 2)\n",
    "    transfer_percent = round(unique_transfers / total_unique * 100, 2)\n",
    "    monthly_dropoff_avg = round(monthly_dropoffs.mean(), 2)\n",
    "    monthly_pickup_avg = round(monthly_pickups.mean(), 2)\n",
    "    monthly_dropoff_mission_avg = round(monthly_dropoff_missions.mean(), 2)\n",
    "    monthly_pickup_mission_avg = round(monthly_pickup_missions.mean(), 2)\n",
    "    unique_pickup_missions = len(set(pickup_df['MissionID']))\n",
    "    unique_dropoff_missions = len(set(dropoff_df['MissionID']))\n",
    "    total_missions = len(set(all_df['MissionID']))\n",
    "    \n",
    "    airport_vars = {airport:\n",
    "                {'Airport Name': airport_name,\n",
    "                 'City': airport_dict[airport]['City'],\n",
    "                 'State': airport_dict[airport]['State'],\n",
    "                 'Country': airport_dict[airport]['Country'],\n",
    "                 'Latitude': airport_dict[airport]['LatitudeDecimalDegrees'],\n",
    "                 'Longitude': airport_dict[airport]['LongitudeDecimalDegrees'],\n",
    "                 'Total Pickups': unique_pickups,\n",
    "                 'Total Dropoffs': unique_dropoffs,\n",
    "                 'Total Removals': unique_removals,\n",
    "                 'Total Transfers': unique_transfers,\n",
    "                 'Total Passengers': total_unique,\n",
    "                 'Removal Percent': removal_percent,\n",
    "                 'Transfer Percent': transfer_percent,\n",
    "#                  'Avg. Monthly Dropoffs': monthly_dropoff_avg,\n",
    "#                  'Avg. Monthly Pickups': monthly_pickup_avg,\n",
    "#                  'Avg. Monthly Dropoff Flights': monthly_dropoff_mission_avg,\n",
    "#                  'Avg. Monthly Pickup Flights': monthly_pickup_mission_avg,\n",
    "                 'Total Pickup Flights': unique_pickup_missions,\n",
    "                 'Total Dropoff Flights': unique_dropoff_missions,\n",
    "                 'Total Flights': total_missions}}\n",
    "    \n",
    "    row = pd.DataFrame(airport_vars).T\n",
    "    \n",
    "    fy_index = pd.date_range(start='2010-10-01', end='2018-01-01', freq='AS-OCT')\n",
    "    annual_pickups.rename('Total pickups', inplace=True)\n",
    "    annual_dropoffs.rename('Total dropoffs', inplace=True)\n",
    "    annual_removals.rename('Total removals', inplace=True)\n",
    "    annual_transfers.rename('Total transfers', inplace=True)\n",
    "    annual_total.rename('Total passengers', inplace=True)\n",
    "    annual_pickup_missions.rename('Total pickup missions', inplace=True)\n",
    "    annual_dropoff_missions.rename('Total dropoff missions', inplace=True);\n",
    "    annual_summary = pd.DataFrame({'Annual Removals': annual_removals,\n",
    "                  'Annual Transfers': annual_transfers,\n",
    "                  'Annual Pickups': annual_pickups,\n",
    "                  'Annual Dropoffs': annual_dropoffs,\n",
    "                  'Annual Pickup Missions': annual_pickup_missions,                                   \n",
    "                  'Annual Dropoff Missions': annual_dropoff_missions,\n",
    "                  'Annual Total': annual_total}, index=fy_index)\n",
    "\n",
    "    annual_summary.index = annual_summary.index.year+1 \n",
    "    annual_summary.index.name = 'Fiscal Year'\n",
    "    flat_summary = annual_summary.unstack().to_frame().T \n",
    "    flat_summary.index = [airport]\n",
    "    flat_summary.index.name = 'Airport Code'\n",
    "    \n",
    "# Uncomment if we want to include flattened FY figures alongside total vars\n",
    "#     flat_summary.columns = flat_summary.columns.tolist()\n",
    "#     row = row.join(flat_summary)\n",
    "    \n",
    "    if print_report == True:\n",
    "        print(f'{airport} ({airport_name})')\n",
    "        print(f'---------------------------------------------------------')\n",
    "        print(f'{unique_pickups} passengers picked up, {unique_dropoffs} passengers dropped off.')\n",
    "        print(f'{unique_removals} removals, {unique_transfers} transfers.')\n",
    "        print(f\"{total_unique} total unique passengers.\")\n",
    "        print(f\"{removal_percent}% removals, {transfer_percent}% transfers\")\n",
    "        print(f'{monthly_dropoff_avg} average dropoffs per month.')\n",
    "        print(f'{monthly_pickup_avg} average pickups per month.')\n",
    "        print()\n",
    "        print(f'{unique_pickup_missions} pickup missions, {unique_dropoff_missions} dropoff missions.')\n",
    "        print(f\"{all_df['MissionID'].nunique()} total missions.\")\n",
    "        print(f'{monthly_dropoff_mission_avg} average dropoff missions per month.')\n",
    "        print(f'{monthly_pickup_mission_avg} average pickup missions per month.')\n",
    "        print(f'First pickup mission: {first_pickup}; Last pickup flight: {last_pickup}')\n",
    "        print(f'First dropoff mission: {first_dropoff}; Last dropoff mission: {last_dropoff}')\n",
    "        print()\n",
    "        print(monthly_dropoff_missions)\n",
    "\n",
    "    if figure == True:\n",
    "        fy_index = pd.date_range(start='2010-10-01', end='2018-01-01', freq='AS-OCT')\n",
    "        annual_removals.rename('Total removals', inplace=True)\n",
    "        annual_transfers.rename('Total transfers', inplace=True)\n",
    "        annual_summary = pd.DataFrame({\n",
    "              'Annual Removals': annual_removals,\n",
    "              'Annual Transfers': annual_transfers}, index=fy_index)\n",
    "        annual_summary.index = annual_summary.index.year+1 \n",
    "        annual_summary.index.name = 'Fiscal Year'\n",
    "        data = annual_summary[['Annual Removals', 'Annual Transfers']]\n",
    "        bar_chart(data, airport, airport_name, '_R-T')\n",
    "\n",
    "    return(row, flat_summary)"
   ]
  },
  {
   "cell_type": "code",
   "execution_count": 89,
   "metadata": {},
   "outputs": [],
   "source": [
    "airport_total_df = pd.DataFrame()\n",
    "airport_fy_df = pd.DataFrame()\n",
    "for key in airport_dict.keys():\n",
    "    try:\n",
    "        total, fy = airport_report(key)\n",
    "    except AttributeError:\n",
    "        pass\n",
    "    airport_total_df = airport_total_df.append(total)\n",
    "    airport_fy_df = airport_fy_df.append(fy)"
   ]
  },
  {
   "cell_type": "code",
   "execution_count": 90,
   "metadata": {},
   "outputs": [],
   "source": [
    "airport_metadata = airport_total_df[['Airport Name',\n",
    "'City',\n",
    "'State',\n",
    "'Country',\n",
    "'Latitude',\n",
    "'Longitude']]"
   ]
  },
  {
   "cell_type": "code",
   "execution_count": 91,
   "metadata": {},
   "outputs": [],
   "source": [
    "airport_metadata.columns = pd.MultiIndex.from_arrays([['Airport Location'] * len(airport_metadata.columns), airport_metadata.columns])"
   ]
  },
  {
   "cell_type": "code",
   "execution_count": 92,
   "metadata": {},
   "outputs": [
    {
     "data": {
      "text/plain": [
       "[MultiIndex(levels=[['Airport Location'], ['Airport Name', 'City', 'Country', 'Latitude', 'Longitude', 'State']],\n",
       "            labels=[[0, 0, 0, 0, 0, 0], [0, 1, 5, 2, 3, 4]]),\n",
       " ['Airport Location',\n",
       "  'Airport Location',\n",
       "  'Airport Location',\n",
       "  'Airport Location',\n",
       "  'Airport Location',\n",
       "  'Airport Location']]"
      ]
     },
     "execution_count": 92,
     "metadata": {},
     "output_type": "execute_result"
    }
   ],
   "source": [
    "[airport_metadata.columns, ['Airport Location'] * len(airport_metadata.columns)]"
   ]
  },
  {
   "cell_type": "code",
   "execution_count": 93,
   "metadata": {},
   "outputs": [],
   "source": [
    "airport_fy_df = airport_metadata.join(airport_fy_df)"
   ]
  },
  {
   "cell_type": "code",
   "execution_count": 94,
   "metadata": {},
   "outputs": [],
   "source": [
    "airport_fy_df.index.name = 'Airport Code'"
   ]
  },
  {
   "cell_type": "code",
   "execution_count": 95,
   "metadata": {},
   "outputs": [
    {
     "data": {
      "text/html": [
       "<div>\n",
       "<style scoped>\n",
       "    .dataframe tbody tr th:only-of-type {\n",
       "        vertical-align: middle;\n",
       "    }\n",
       "\n",
       "    .dataframe tbody tr th {\n",
       "        vertical-align: top;\n",
       "    }\n",
       "\n",
       "    .dataframe thead tr th {\n",
       "        text-align: left;\n",
       "    }\n",
       "\n",
       "    .dataframe thead tr:last-of-type th {\n",
       "        text-align: right;\n",
       "    }\n",
       "</style>\n",
       "<table border=\"1\" class=\"dataframe\">\n",
       "  <thead>\n",
       "    <tr>\n",
       "      <th></th>\n",
       "      <th colspan=\"6\" halign=\"left\">Airport Location</th>\n",
       "      <th colspan=\"4\" halign=\"left\">Annual Removals</th>\n",
       "      <th>...</th>\n",
       "      <th colspan=\"2\" halign=\"left\">Annual Dropoff Missions</th>\n",
       "      <th colspan=\"8\" halign=\"left\">Annual Total</th>\n",
       "    </tr>\n",
       "    <tr>\n",
       "      <th></th>\n",
       "      <th>Airport Name</th>\n",
       "      <th>City</th>\n",
       "      <th>State</th>\n",
       "      <th>Country</th>\n",
       "      <th>Latitude</th>\n",
       "      <th>Longitude</th>\n",
       "      <th>2011</th>\n",
       "      <th>2012</th>\n",
       "      <th>2013</th>\n",
       "      <th>2014</th>\n",
       "      <th>...</th>\n",
       "      <th>2017</th>\n",
       "      <th>2018</th>\n",
       "      <th>2011</th>\n",
       "      <th>2012</th>\n",
       "      <th>2013</th>\n",
       "      <th>2014</th>\n",
       "      <th>2015</th>\n",
       "      <th>2016</th>\n",
       "      <th>2017</th>\n",
       "      <th>2018</th>\n",
       "    </tr>\n",
       "    <tr>\n",
       "      <th>Airport Code</th>\n",
       "      <th></th>\n",
       "      <th></th>\n",
       "      <th></th>\n",
       "      <th></th>\n",
       "      <th></th>\n",
       "      <th></th>\n",
       "      <th></th>\n",
       "      <th></th>\n",
       "      <th></th>\n",
       "      <th></th>\n",
       "      <th></th>\n",
       "      <th></th>\n",
       "      <th></th>\n",
       "      <th></th>\n",
       "      <th></th>\n",
       "      <th></th>\n",
       "      <th></th>\n",
       "      <th></th>\n",
       "      <th></th>\n",
       "      <th></th>\n",
       "      <th></th>\n",
       "    </tr>\n",
       "  </thead>\n",
       "  <tbody>\n",
       "    <tr>\n",
       "      <th>BKPR</th>\n",
       "      <td>Pristina International Airport</td>\n",
       "      <td>Pristina</td>\n",
       "      <td>NaN</td>\n",
       "      <td>Kosovo</td>\n",
       "      <td>42.5728</td>\n",
       "      <td>21.0358</td>\n",
       "      <td>2.0</td>\n",
       "      <td>0.0</td>\n",
       "      <td>0.0</td>\n",
       "      <td>0.0</td>\n",
       "      <td>...</td>\n",
       "      <td>NaN</td>\n",
       "      <td>NaN</td>\n",
       "      <td>2.0</td>\n",
       "      <td>0.0</td>\n",
       "      <td>0.0</td>\n",
       "      <td>0.0</td>\n",
       "      <td>0.0</td>\n",
       "      <td>2.0</td>\n",
       "      <td>NaN</td>\n",
       "      <td>NaN</td>\n",
       "    </tr>\n",
       "    <tr>\n",
       "      <th>DAAG</th>\n",
       "      <td>Houari Boumediene Airport</td>\n",
       "      <td>Algiers</td>\n",
       "      <td>NaN</td>\n",
       "      <td>Algeria</td>\n",
       "      <td>36.691</td>\n",
       "      <td>3.215</td>\n",
       "      <td>NaN</td>\n",
       "      <td>NaN</td>\n",
       "      <td>NaN</td>\n",
       "      <td>NaN</td>\n",
       "      <td>...</td>\n",
       "      <td>1.0</td>\n",
       "      <td>NaN</td>\n",
       "      <td>NaN</td>\n",
       "      <td>NaN</td>\n",
       "      <td>NaN</td>\n",
       "      <td>NaN</td>\n",
       "      <td>NaN</td>\n",
       "      <td>NaN</td>\n",
       "      <td>3.0</td>\n",
       "      <td>NaN</td>\n",
       "    </tr>\n",
       "    <tr>\n",
       "      <th>DFFD</th>\n",
       "      <td>Ouagadougou Airport</td>\n",
       "      <td>Ouagadougou</td>\n",
       "      <td>NaN</td>\n",
       "      <td>Burkina Faso</td>\n",
       "      <td>12.353</td>\n",
       "      <td>-1.512</td>\n",
       "      <td>NaN</td>\n",
       "      <td>NaN</td>\n",
       "      <td>NaN</td>\n",
       "      <td>NaN</td>\n",
       "      <td>...</td>\n",
       "      <td>NaN</td>\n",
       "      <td>1.0</td>\n",
       "      <td>NaN</td>\n",
       "      <td>NaN</td>\n",
       "      <td>NaN</td>\n",
       "      <td>NaN</td>\n",
       "      <td>NaN</td>\n",
       "      <td>NaN</td>\n",
       "      <td>NaN</td>\n",
       "      <td>5.0</td>\n",
       "    </tr>\n",
       "    <tr>\n",
       "      <th>DGAA</th>\n",
       "      <td>Kotoka International Airport</td>\n",
       "      <td>Accra</td>\n",
       "      <td>NaN</td>\n",
       "      <td>Ghana</td>\n",
       "      <td>5.603</td>\n",
       "      <td>-0.168</td>\n",
       "      <td>17.0</td>\n",
       "      <td>14.0</td>\n",
       "      <td>0.0</td>\n",
       "      <td>0.0</td>\n",
       "      <td>...</td>\n",
       "      <td>3.0</td>\n",
       "      <td>2.0</td>\n",
       "      <td>17.0</td>\n",
       "      <td>14.0</td>\n",
       "      <td>0.0</td>\n",
       "      <td>0.0</td>\n",
       "      <td>0.0</td>\n",
       "      <td>17.0</td>\n",
       "      <td>172.0</td>\n",
       "      <td>130.0</td>\n",
       "    </tr>\n",
       "    <tr>\n",
       "      <th>DIAP</th>\n",
       "      <td>Port Bouet Airport</td>\n",
       "      <td>Abidjan</td>\n",
       "      <td>NaN</td>\n",
       "      <td>Ivory Coast</td>\n",
       "      <td>5.26</td>\n",
       "      <td>-3.926</td>\n",
       "      <td>11.0</td>\n",
       "      <td>0.0</td>\n",
       "      <td>0.0</td>\n",
       "      <td>0.0</td>\n",
       "      <td>...</td>\n",
       "      <td>0.0</td>\n",
       "      <td>3.0</td>\n",
       "      <td>11.0</td>\n",
       "      <td>0.0</td>\n",
       "      <td>0.0</td>\n",
       "      <td>0.0</td>\n",
       "      <td>0.0</td>\n",
       "      <td>5.0</td>\n",
       "      <td>0.0</td>\n",
       "      <td>13.0</td>\n",
       "    </tr>\n",
       "  </tbody>\n",
       "</table>\n",
       "<p>5 rows × 62 columns</p>\n",
       "</div>"
      ],
      "text/plain": [
       "                            Airport Location                                   \\\n",
       "                                Airport Name         City State       Country   \n",
       "Airport Code                                                                    \n",
       "BKPR          Pristina International Airport     Pristina   NaN        Kosovo   \n",
       "DAAG               Houari Boumediene Airport      Algiers   NaN       Algeria   \n",
       "DFFD                     Ouagadougou Airport  Ouagadougou   NaN  Burkina Faso   \n",
       "DGAA            Kotoka International Airport        Accra   NaN         Ghana   \n",
       "DIAP                      Port Bouet Airport      Abidjan   NaN   Ivory Coast   \n",
       "\n",
       "                                Annual Removals                  ...    \\\n",
       "             Latitude Longitude            2011  2012 2013 2014  ...     \n",
       "Airport Code                                                     ...     \n",
       "BKPR          42.5728   21.0358             2.0   0.0  0.0  0.0  ...     \n",
       "DAAG           36.691     3.215             NaN   NaN  NaN  NaN  ...     \n",
       "DFFD           12.353    -1.512             NaN   NaN  NaN  NaN  ...     \n",
       "DGAA            5.603    -0.168            17.0  14.0  0.0  0.0  ...     \n",
       "DIAP             5.26    -3.926            11.0   0.0  0.0  0.0  ...     \n",
       "\n",
       "             Annual Dropoff Missions      Annual Total                       \\\n",
       "                                2017 2018         2011  2012 2013 2014 2015   \n",
       "Airport Code                                                                  \n",
       "BKPR                             NaN  NaN          2.0   0.0  0.0  0.0  0.0   \n",
       "DAAG                             1.0  NaN          NaN   NaN  NaN  NaN  NaN   \n",
       "DFFD                             NaN  1.0          NaN   NaN  NaN  NaN  NaN   \n",
       "DGAA                             3.0  2.0         17.0  14.0  0.0  0.0  0.0   \n",
       "DIAP                             0.0  3.0         11.0   0.0  0.0  0.0  0.0   \n",
       "\n",
       "                                  \n",
       "              2016   2017   2018  \n",
       "Airport Code                      \n",
       "BKPR           2.0    NaN    NaN  \n",
       "DAAG           NaN    3.0    NaN  \n",
       "DFFD           NaN    NaN    5.0  \n",
       "DGAA          17.0  172.0  130.0  \n",
       "DIAP           5.0    0.0   13.0  \n",
       "\n",
       "[5 rows x 62 columns]"
      ]
     },
     "execution_count": 95,
     "metadata": {},
     "output_type": "execute_result"
    }
   ],
   "source": [
    "airport_fy_df.head()"
   ]
  },
  {
   "cell_type": "code",
   "execution_count": 96,
   "metadata": {},
   "outputs": [],
   "source": [
    "airport_total_df.to_csv('../output/airport_totals.csv')\n",
    "airport_fy_df.to_csv('../output/airport_fy.csv')\n",
    "airport_fy_df.to_excel('../output/airport_fy.xlsx')"
   ]
  },
  {
   "cell_type": "code",
   "execution_count": 97,
   "metadata": {},
   "outputs": [],
   "source": [
    "# Run this cell if you want to output tons of graphics.\n",
    "# for key in airport_dict.keys():\n",
    "#     try:\n",
    "#         airport_report(airport_icao=key, figure=True)\n",
    "#     except AttributeError:\n",
    "#         pass"
   ]
  },
  {
   "cell_type": "code",
   "execution_count": null,
   "metadata": {},
   "outputs": [],
   "source": []
  }
 ],
 "metadata": {
  "kernelspec": {
   "display_name": "Python 3",
   "language": "python",
   "name": "python3"
  },
  "language_info": {
   "codemirror_mode": {
    "name": "ipython",
    "version": 3
   },
   "file_extension": ".py",
   "mimetype": "text/x-python",
   "name": "python",
   "nbconvert_exporter": "python",
   "pygments_lexer": "ipython3",
   "version": "3.7.1"
  }
 },
 "nbformat": 4,
 "nbformat_minor": 2
}
