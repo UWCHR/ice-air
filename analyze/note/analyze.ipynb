{
 "cells": [
  {
   "cell_type": "code",
<<<<<<< HEAD
<<<<<<< HEAD
   "execution_count": 159,
=======
   "execution_count": 37,
>>>>>>> 954ab5d8f92b78825fd09f5f673d70144f549981
=======
   "execution_count": 1,
>>>>>>> parent of 1972d63... Finding records with multiple travel segments
   "metadata": {},
   "outputs": [],
   "source": [
    "import numpy as np\n",
    "import pandas as pd\n",
    "import yaml\n",
    "import matplotlib.pyplot as plt\n",
    "import matplotlib.mlab as mlab\n",
    "import seaborn as sns\n",
    "\n",
    "%matplotlib inline\n",
    "plt.rcParams['figure.figsize'] = (8, 6)"
   ]
  },
  {
   "cell_type": "markdown",
   "metadata": {},
   "source": [
    "# Reading and optimizing input files\n",
    "\n",
    "First we open a list of data types used in reading files, then we concatenate files and check memory usage."
   ]
  },
  {
   "cell_type": "code",
<<<<<<< HEAD
<<<<<<< HEAD
   "execution_count": 160,
=======
   "execution_count": 3,
>>>>>>> 954ab5d8f92b78825fd09f5f673d70144f549981
=======
   "execution_count": 2,
>>>>>>> parent of 1972d63... Finding records with multiple travel segments
   "metadata": {},
   "outputs": [],
   "source": [
    "with open('../input/dtypes.yaml', 'r') as yamlfile:\n",
    "    column_types = yaml.load(yamlfile)"
   ]
  },
  {
   "cell_type": "code",
<<<<<<< HEAD
<<<<<<< HEAD
   "execution_count": 161,
=======
   "execution_count": 4,
>>>>>>> 954ab5d8f92b78825fd09f5f673d70144f549981
=======
   "execution_count": 3,
>>>>>>> parent of 1972d63... Finding records with multiple travel segments
   "metadata": {},
   "outputs": [],
   "source": [
    "read_csv_opts = {'sep': '|',\n",
    "                 'quotechar': '\"',\n",
    "                 'compression': 'gzip',\n",
    "                 'encoding': 'utf-8',\n",
    "                 'dtype': column_types,\n",
    "                 'parse_dates': ['MissionDate'],\n",
    "                 'infer_datetime_format': True}"
   ]
  },
  {
   "cell_type": "code",
<<<<<<< HEAD
<<<<<<< HEAD
   "execution_count": 162,
=======
   "execution_count": 5,
>>>>>>> 954ab5d8f92b78825fd09f5f673d70144f549981
=======
   "execution_count": 4,
>>>>>>> parent of 1972d63... Finding records with multiple travel segments
   "metadata": {},
   "outputs": [],
   "source": [
    "arts_fy11 = pd.read_csv('../input/ARTS_Passenger_Data_FY11.csv.gz', **read_csv_opts)\n",
    "arts_fy12 = pd.read_csv('../input/ARTS_Passenger_Data_FY12.csv.gz', **read_csv_opts)\n",
    "arts_fy13 = pd.read_csv('../input/ARTS_Passenger_Data_FY13.csv.gz', **read_csv_opts)\n",
    "arts_fy14 = pd.read_csv('../input/ARTS_Passenger_Data_FY14.csv.gz', **read_csv_opts)\n",
    "arts_fy15 = pd.read_csv('../input/ARTS_Passenger_Data_FY15.csv.gz', **read_csv_opts)\n",
    "arts_fy16 = pd.read_csv('../input/ARTS_Passenger_Data_FY16.csv.gz', **read_csv_opts)\n",
    "arts_fy17 = pd.read_csv('../input/ARTS_Passenger_Data_FY17.csv.gz', **read_csv_opts)\n",
    "arts_fy18 = pd.read_csv('../input/ARTS_Passenger_Data_FY18.csv.gz', **read_csv_opts)\n",
    "arts_fy19 = pd.read_csv('../input/ARTS_Passenger_Data_FY19.csv.gz', **read_csv_opts)"
   ]
  },
  {
   "cell_type": "code",
<<<<<<< HEAD
<<<<<<< HEAD
   "execution_count": 163,
=======
   "execution_count": 6,
>>>>>>> 954ab5d8f92b78825fd09f5f673d70144f549981
=======
   "execution_count": 5,
>>>>>>> parent of 1972d63... Finding records with multiple travel segments
   "metadata": {},
   "outputs": [
    {
     "data": {
      "text/html": [
       "<div>\n",
       "<style scoped>\n",
       "    .dataframe tbody tr th:only-of-type {\n",
       "        vertical-align: middle;\n",
       "    }\n",
       "\n",
       "    .dataframe tbody tr th {\n",
       "        vertical-align: top;\n",
       "    }\n",
       "\n",
       "    .dataframe thead th {\n",
       "        text-align: right;\n",
       "    }\n",
       "</style>\n",
       "<table border=\"1\" class=\"dataframe\">\n",
       "  <thead>\n",
       "    <tr style=\"text-align: right;\">\n",
       "      <th></th>\n",
       "      <th>Status</th>\n",
       "      <th>Sex</th>\n",
       "      <th>Convictions</th>\n",
       "      <th>GangMember</th>\n",
       "      <th>ClassLvl</th>\n",
       "      <th>Age</th>\n",
       "      <th>MissionDate</th>\n",
       "      <th>MissionNumber</th>\n",
       "      <th>PULOC</th>\n",
       "      <th>DropLoc</th>\n",
       "      <th>...</th>\n",
       "      <th>air_Country</th>\n",
       "      <th>air2_AirportID</th>\n",
       "      <th>air2_AirportName</th>\n",
       "      <th>air2_City</th>\n",
       "      <th>st2_StateID</th>\n",
       "      <th>st2_StateAbbr</th>\n",
       "      <th>aor2_AORID</th>\n",
       "      <th>aor2_AOR</th>\n",
       "      <th>aor2_AORName</th>\n",
       "      <th>air2_Country</th>\n",
       "    </tr>\n",
       "  </thead>\n",
       "  <tbody>\n",
       "    <tr>\n",
       "      <th>0</th>\n",
       "      <td>Removal</td>\n",
       "      <td>MALE</td>\n",
       "      <td>Non-Criminal</td>\n",
       "      <td>No</td>\n",
       "      <td>1.0</td>\n",
       "      <td>18.0</td>\n",
       "      <td>2010-10-01</td>\n",
       "      <td>110003</td>\n",
       "      <td>KIWA</td>\n",
       "      <td>MGGT</td>\n",
       "      <td>...</td>\n",
       "      <td>USA</td>\n",
       "      <td>149.0</td>\n",
       "      <td>La Aurora Airport</td>\n",
       "      <td>Guatemala City</td>\n",
       "      <td>NaN</td>\n",
       "      <td>NaN</td>\n",
       "      <td>NaN</td>\n",
       "      <td>NaN</td>\n",
       "      <td>NaN</td>\n",
       "      <td>Guatemala</td>\n",
       "    </tr>\n",
       "    <tr>\n",
       "      <th>1</th>\n",
       "      <td>Removal</td>\n",
       "      <td>MALE</td>\n",
       "      <td>Non-Criminal</td>\n",
       "      <td>No</td>\n",
       "      <td>1.0</td>\n",
       "      <td>38.0</td>\n",
       "      <td>2010-10-01</td>\n",
       "      <td>110003</td>\n",
       "      <td>KIWA</td>\n",
       "      <td>MGGT</td>\n",
       "      <td>...</td>\n",
       "      <td>USA</td>\n",
       "      <td>149.0</td>\n",
       "      <td>La Aurora Airport</td>\n",
       "      <td>Guatemala City</td>\n",
       "      <td>NaN</td>\n",
       "      <td>NaN</td>\n",
       "      <td>NaN</td>\n",
       "      <td>NaN</td>\n",
       "      <td>NaN</td>\n",
       "      <td>Guatemala</td>\n",
       "    </tr>\n",
       "    <tr>\n",
       "      <th>2</th>\n",
       "      <td>Removal</td>\n",
       "      <td>MALE</td>\n",
       "      <td>Non-Criminal</td>\n",
       "      <td>No</td>\n",
       "      <td>1.0</td>\n",
       "      <td>20.0</td>\n",
       "      <td>2010-10-01</td>\n",
       "      <td>110003</td>\n",
       "      <td>KIWA</td>\n",
       "      <td>MGGT</td>\n",
       "      <td>...</td>\n",
       "      <td>USA</td>\n",
       "      <td>149.0</td>\n",
       "      <td>La Aurora Airport</td>\n",
       "      <td>Guatemala City</td>\n",
       "      <td>NaN</td>\n",
       "      <td>NaN</td>\n",
       "      <td>NaN</td>\n",
       "      <td>NaN</td>\n",
       "      <td>NaN</td>\n",
       "      <td>Guatemala</td>\n",
       "    </tr>\n",
       "    <tr>\n",
       "      <th>3</th>\n",
       "      <td>Removal</td>\n",
       "      <td>MALE</td>\n",
       "      <td>Non-Criminal</td>\n",
       "      <td>No</td>\n",
       "      <td>1.0</td>\n",
       "      <td>29.0</td>\n",
       "      <td>2010-10-01</td>\n",
       "      <td>110003</td>\n",
       "      <td>KIWA</td>\n",
       "      <td>MGGT</td>\n",
       "      <td>...</td>\n",
       "      <td>USA</td>\n",
       "      <td>149.0</td>\n",
       "      <td>La Aurora Airport</td>\n",
       "      <td>Guatemala City</td>\n",
       "      <td>NaN</td>\n",
       "      <td>NaN</td>\n",
       "      <td>NaN</td>\n",
       "      <td>NaN</td>\n",
       "      <td>NaN</td>\n",
       "      <td>Guatemala</td>\n",
       "    </tr>\n",
       "    <tr>\n",
       "      <th>4</th>\n",
       "      <td>Removal</td>\n",
       "      <td>MALE</td>\n",
       "      <td>Non-Criminal</td>\n",
       "      <td>No</td>\n",
       "      <td>1.0</td>\n",
       "      <td>21.0</td>\n",
       "      <td>2010-10-01</td>\n",
       "      <td>110003</td>\n",
       "      <td>KIWA</td>\n",
       "      <td>MGGT</td>\n",
       "      <td>...</td>\n",
       "      <td>USA</td>\n",
       "      <td>149.0</td>\n",
       "      <td>La Aurora Airport</td>\n",
       "      <td>Guatemala City</td>\n",
       "      <td>NaN</td>\n",
       "      <td>NaN</td>\n",
       "      <td>NaN</td>\n",
       "      <td>NaN</td>\n",
       "      <td>NaN</td>\n",
       "      <td>Guatemala</td>\n",
       "    </tr>\n",
       "  </tbody>\n",
       "</table>\n",
       "<p>5 rows × 43 columns</p>\n",
       "</div>"
      ],
      "text/plain": [
       "    Status   Sex   Convictions GangMember  ClassLvl   Age MissionDate  \\\n",
       "0  Removal  MALE  Non-Criminal         No       1.0  18.0  2010-10-01   \n",
       "1  Removal  MALE  Non-Criminal         No       1.0  38.0  2010-10-01   \n",
       "2  Removal  MALE  Non-Criminal         No       1.0  20.0  2010-10-01   \n",
       "3  Removal  MALE  Non-Criminal         No       1.0  29.0  2010-10-01   \n",
       "4  Removal  MALE  Non-Criminal         No       1.0  21.0  2010-10-01   \n",
       "\n",
       "   MissionNumber PULOC DropLoc      ...       air_Country air2_AirportID  \\\n",
       "0         110003  KIWA    MGGT      ...               USA          149.0   \n",
       "1         110003  KIWA    MGGT      ...               USA          149.0   \n",
       "2         110003  KIWA    MGGT      ...               USA          149.0   \n",
       "3         110003  KIWA    MGGT      ...               USA          149.0   \n",
       "4         110003  KIWA    MGGT      ...               USA          149.0   \n",
       "\n",
       "    air2_AirportName       air2_City st2_StateID st2_StateAbbr  aor2_AORID  \\\n",
       "0  La Aurora Airport  Guatemala City         NaN           NaN         NaN   \n",
       "1  La Aurora Airport  Guatemala City         NaN           NaN         NaN   \n",
       "2  La Aurora Airport  Guatemala City         NaN           NaN         NaN   \n",
       "3  La Aurora Airport  Guatemala City         NaN           NaN         NaN   \n",
       "4  La Aurora Airport  Guatemala City         NaN           NaN         NaN   \n",
       "\n",
       "   aor2_AOR  aor2_AORName  air2_Country  \n",
       "0       NaN           NaN     Guatemala  \n",
       "1       NaN           NaN     Guatemala  \n",
       "2       NaN           NaN     Guatemala  \n",
       "3       NaN           NaN     Guatemala  \n",
       "4       NaN           NaN     Guatemala  \n",
       "\n",
       "[5 rows x 43 columns]"
      ]
     },
<<<<<<< HEAD
<<<<<<< HEAD
     "execution_count": 163,
=======
     "execution_count": 6,
>>>>>>> 954ab5d8f92b78825fd09f5f673d70144f549981
=======
     "execution_count": 5,
>>>>>>> parent of 1972d63... Finding records with multiple travel segments
     "metadata": {},
     "output_type": "execute_result"
    }
   ],
   "source": [
    "arts_fy11.head()"
   ]
  },
  {
   "cell_type": "code",
<<<<<<< HEAD
<<<<<<< HEAD
   "execution_count": 164,
=======
   "execution_count": 7,
>>>>>>> 954ab5d8f92b78825fd09f5f673d70144f549981
=======
   "execution_count": 6,
>>>>>>> parent of 1972d63... Finding records with multiple travel segments
   "metadata": {},
   "outputs": [],
   "source": [
    "files = [arts_fy11,\n",
    "         arts_fy12,\n",
    "         arts_fy13,\n",
    "         arts_fy14,\n",
    "         arts_fy15,\n",
    "         arts_fy16,\n",
    "         arts_fy17,\n",
    "         arts_fy18,\n",
    "         arts_fy19]"
   ]
  },
  {
   "cell_type": "code",
<<<<<<< HEAD
<<<<<<< HEAD
   "execution_count": 165,
=======
   "execution_count": 8,
>>>>>>> 954ab5d8f92b78825fd09f5f673d70144f549981
=======
   "execution_count": 7,
>>>>>>> parent of 1972d63... Finding records with multiple travel segments
   "metadata": {},
   "outputs": [],
   "source": [
    "# Concatenating DataFrames converts 'category' columns back to 'object' when new values introduced\n",
    "df = pd.concat(files)"
   ]
  },
  {
   "cell_type": "code",
<<<<<<< HEAD
<<<<<<< HEAD
   "execution_count": 166,
=======
   "execution_count": 9,
>>>>>>> 954ab5d8f92b78825fd09f5f673d70144f549981
=======
   "execution_count": 8,
>>>>>>> parent of 1972d63... Finding records with multiple travel segments
   "metadata": {},
   "outputs": [],
   "source": [
    "df_obj = df.select_dtypes(include=['object']).copy()"
   ]
  },
  {
   "cell_type": "code",
<<<<<<< HEAD
<<<<<<< HEAD
   "execution_count": 167,
=======
   "execution_count": 10,
>>>>>>> 954ab5d8f92b78825fd09f5f673d70144f549981
=======
   "execution_count": 9,
>>>>>>> parent of 1972d63... Finding records with multiple travel segments
   "metadata": {},
   "outputs": [],
   "source": [
    "converted_obj = pd.DataFrame()\n",
    "\n",
    "for col in df_obj.columns:\n",
    "    num_unique_values = len(df_obj[col].unique())\n",
    "    num_total_values = len(df_obj[col])\n",
    "    if num_unique_values / num_total_values < 0.5:\n",
    "        converted_obj.loc[:,col] = df_obj[col].astype('category')\n",
    "    else:\n",
    "        converted_obj.loc[:,col] = df_obj[col]"
   ]
  },
  {
   "cell_type": "code",
<<<<<<< HEAD
<<<<<<< HEAD
   "execution_count": 168,
=======
   "execution_count": 11,
>>>>>>> 954ab5d8f92b78825fd09f5f673d70144f549981
=======
   "execution_count": 10,
>>>>>>> parent of 1972d63... Finding records with multiple travel segments
   "metadata": {},
   "outputs": [],
   "source": [
    "df[converted_obj.columns] = converted_obj"
   ]
  },
  {
   "cell_type": "code",
   "execution_count": 12,
   "metadata": {},
   "outputs": [],
   "source": [
    "# df = df.drop(['index'], axis=1)"
   ]
  },
  {
   "cell_type": "markdown",
   "metadata": {},
   "source": [
    "# Analyze"
   ]
  },
  {
   "cell_type": "code",
   "execution_count": 13,
   "metadata": {},
   "outputs": [
    {
     "name": "stdout",
     "output_type": "stream",
     "text": [
      "<class 'pandas.core.frame.DataFrame'>\n",
      "Int64Index: 1763020 entries, 0 to 37258\n",
      "Data columns (total 43 columns):\n",
      "Status                  category\n",
      "Sex                     category\n",
      "Convictions             category\n",
      "GangMember              category\n",
      "ClassLvl                float32\n",
      "Age                     float32\n",
      "MissionDate             datetime64[ns]\n",
      "MissionNumber           uint32\n",
      "PULOC                   category\n",
      "DropLoc                 category\n",
      "StrikeFromList          float32\n",
      "ReasonStruck            category\n",
      "R-T                     category\n",
      "Code                    category\n",
      "CountryOfCitizenship    category\n",
      "Juvenile                category\n",
      "MissionWeek             uint8\n",
      "MissionQuarter          uint8\n",
      "MissionYear             uint16\n",
      "MissionMonth            uint8\n",
      "Criminality             category\n",
      "FamilyUnitFlag          float32\n",
      "UnaccompaniedFlag       float32\n",
      "AlienMasterID           uint32\n",
      "MissionID               uint16\n",
      "air_AirportID           float32\n",
      "air_AirportName         category\n",
      "air_City                category\n",
      "st_StateID              float32\n",
      "st_StateAbbr            category\n",
      "AOR_AORID               float32\n",
      "AOR_AOR                 category\n",
      "AOR_AORName             category\n",
      "air_Country             category\n",
      "air2_AirportID          float32\n",
      "air2_AirportName        category\n",
      "air2_City               category\n",
      "st2_StateID             float32\n",
      "st2_StateAbbr           category\n",
      "aor2_AORID              float32\n",
      "aor2_AOR                category\n",
      "aor2_AORName            category\n",
      "air2_Country            category\n",
      "dtypes: category(24), datetime64[ns](1), float32(11), uint16(2), uint32(2), uint8(3)\n",
      "memory usage: 180.8 MB\n"
     ]
    }
   ],
   "source": [
    "df.info()"
   ]
  },
  {
   "cell_type": "code",
   "execution_count": 14,
   "metadata": {},
   "outputs": [
    {
     "data": {
      "text/html": [
       "<div>\n",
       "<style scoped>\n",
       "    .dataframe tbody tr th:only-of-type {\n",
       "        vertical-align: middle;\n",
       "    }\n",
       "\n",
       "    .dataframe tbody tr th {\n",
       "        vertical-align: top;\n",
       "    }\n",
       "\n",
       "    .dataframe thead th {\n",
       "        text-align: right;\n",
       "    }\n",
       "</style>\n",
       "<table border=\"1\" class=\"dataframe\">\n",
       "  <thead>\n",
       "    <tr style=\"text-align: right;\">\n",
       "      <th></th>\n",
       "      <th>Status</th>\n",
       "      <th>Sex</th>\n",
       "      <th>Convictions</th>\n",
       "      <th>GangMember</th>\n",
       "      <th>ClassLvl</th>\n",
       "      <th>Age</th>\n",
       "      <th>MissionDate</th>\n",
       "      <th>MissionNumber</th>\n",
       "      <th>PULOC</th>\n",
       "      <th>DropLoc</th>\n",
       "      <th>...</th>\n",
       "      <th>air_Country</th>\n",
       "      <th>air2_AirportID</th>\n",
       "      <th>air2_AirportName</th>\n",
       "      <th>air2_City</th>\n",
       "      <th>st2_StateID</th>\n",
       "      <th>st2_StateAbbr</th>\n",
       "      <th>aor2_AORID</th>\n",
       "      <th>aor2_AOR</th>\n",
       "      <th>aor2_AORName</th>\n",
       "      <th>air2_Country</th>\n",
       "    </tr>\n",
       "  </thead>\n",
       "  <tbody>\n",
       "    <tr>\n",
       "      <th>0</th>\n",
       "      <td>Removal</td>\n",
       "      <td>MALE</td>\n",
       "      <td>Non-Criminal</td>\n",
       "      <td>No</td>\n",
       "      <td>1.0</td>\n",
       "      <td>18.0</td>\n",
       "      <td>2010-10-01</td>\n",
       "      <td>110003</td>\n",
       "      <td>KIWA</td>\n",
       "      <td>MGGT</td>\n",
       "      <td>...</td>\n",
       "      <td>USA</td>\n",
       "      <td>149.0</td>\n",
       "      <td>La Aurora Airport</td>\n",
       "      <td>Guatemala City</td>\n",
       "      <td>NaN</td>\n",
       "      <td>NaN</td>\n",
       "      <td>NaN</td>\n",
       "      <td>NaN</td>\n",
       "      <td>NaN</td>\n",
       "      <td>Guatemala</td>\n",
       "    </tr>\n",
       "    <tr>\n",
       "      <th>1</th>\n",
       "      <td>Removal</td>\n",
       "      <td>MALE</td>\n",
       "      <td>Non-Criminal</td>\n",
       "      <td>No</td>\n",
       "      <td>1.0</td>\n",
       "      <td>38.0</td>\n",
       "      <td>2010-10-01</td>\n",
       "      <td>110003</td>\n",
       "      <td>KIWA</td>\n",
       "      <td>MGGT</td>\n",
       "      <td>...</td>\n",
       "      <td>USA</td>\n",
       "      <td>149.0</td>\n",
       "      <td>La Aurora Airport</td>\n",
       "      <td>Guatemala City</td>\n",
       "      <td>NaN</td>\n",
       "      <td>NaN</td>\n",
       "      <td>NaN</td>\n",
       "      <td>NaN</td>\n",
       "      <td>NaN</td>\n",
       "      <td>Guatemala</td>\n",
       "    </tr>\n",
       "    <tr>\n",
       "      <th>2</th>\n",
       "      <td>Removal</td>\n",
       "      <td>MALE</td>\n",
       "      <td>Non-Criminal</td>\n",
       "      <td>No</td>\n",
       "      <td>1.0</td>\n",
       "      <td>20.0</td>\n",
       "      <td>2010-10-01</td>\n",
       "      <td>110003</td>\n",
       "      <td>KIWA</td>\n",
       "      <td>MGGT</td>\n",
       "      <td>...</td>\n",
       "      <td>USA</td>\n",
       "      <td>149.0</td>\n",
       "      <td>La Aurora Airport</td>\n",
       "      <td>Guatemala City</td>\n",
       "      <td>NaN</td>\n",
       "      <td>NaN</td>\n",
       "      <td>NaN</td>\n",
       "      <td>NaN</td>\n",
       "      <td>NaN</td>\n",
       "      <td>Guatemala</td>\n",
       "    </tr>\n",
       "    <tr>\n",
       "      <th>3</th>\n",
       "      <td>Removal</td>\n",
       "      <td>MALE</td>\n",
       "      <td>Non-Criminal</td>\n",
       "      <td>No</td>\n",
       "      <td>1.0</td>\n",
       "      <td>29.0</td>\n",
       "      <td>2010-10-01</td>\n",
       "      <td>110003</td>\n",
       "      <td>KIWA</td>\n",
       "      <td>MGGT</td>\n",
       "      <td>...</td>\n",
       "      <td>USA</td>\n",
       "      <td>149.0</td>\n",
       "      <td>La Aurora Airport</td>\n",
       "      <td>Guatemala City</td>\n",
       "      <td>NaN</td>\n",
       "      <td>NaN</td>\n",
       "      <td>NaN</td>\n",
       "      <td>NaN</td>\n",
       "      <td>NaN</td>\n",
       "      <td>Guatemala</td>\n",
       "    </tr>\n",
       "    <tr>\n",
       "      <th>4</th>\n",
       "      <td>Removal</td>\n",
       "      <td>MALE</td>\n",
       "      <td>Non-Criminal</td>\n",
       "      <td>No</td>\n",
       "      <td>1.0</td>\n",
       "      <td>21.0</td>\n",
       "      <td>2010-10-01</td>\n",
       "      <td>110003</td>\n",
       "      <td>KIWA</td>\n",
       "      <td>MGGT</td>\n",
       "      <td>...</td>\n",
       "      <td>USA</td>\n",
       "      <td>149.0</td>\n",
       "      <td>La Aurora Airport</td>\n",
       "      <td>Guatemala City</td>\n",
       "      <td>NaN</td>\n",
       "      <td>NaN</td>\n",
       "      <td>NaN</td>\n",
       "      <td>NaN</td>\n",
       "      <td>NaN</td>\n",
       "      <td>Guatemala</td>\n",
       "    </tr>\n",
       "  </tbody>\n",
       "</table>\n",
       "<p>5 rows × 43 columns</p>\n",
       "</div>"
      ],
      "text/plain": [
       "    Status   Sex   Convictions GangMember  ClassLvl   Age MissionDate  \\\n",
       "0  Removal  MALE  Non-Criminal         No       1.0  18.0  2010-10-01   \n",
       "1  Removal  MALE  Non-Criminal         No       1.0  38.0  2010-10-01   \n",
       "2  Removal  MALE  Non-Criminal         No       1.0  20.0  2010-10-01   \n",
       "3  Removal  MALE  Non-Criminal         No       1.0  29.0  2010-10-01   \n",
       "4  Removal  MALE  Non-Criminal         No       1.0  21.0  2010-10-01   \n",
       "\n",
       "   MissionNumber PULOC DropLoc      ...       air_Country air2_AirportID  \\\n",
       "0         110003  KIWA    MGGT      ...               USA          149.0   \n",
       "1         110003  KIWA    MGGT      ...               USA          149.0   \n",
       "2         110003  KIWA    MGGT      ...               USA          149.0   \n",
       "3         110003  KIWA    MGGT      ...               USA          149.0   \n",
       "4         110003  KIWA    MGGT      ...               USA          149.0   \n",
       "\n",
       "    air2_AirportName       air2_City st2_StateID st2_StateAbbr  aor2_AORID  \\\n",
       "0  La Aurora Airport  Guatemala City         NaN           NaN         NaN   \n",
       "1  La Aurora Airport  Guatemala City         NaN           NaN         NaN   \n",
       "2  La Aurora Airport  Guatemala City         NaN           NaN         NaN   \n",
       "3  La Aurora Airport  Guatemala City         NaN           NaN         NaN   \n",
       "4  La Aurora Airport  Guatemala City         NaN           NaN         NaN   \n",
       "\n",
       "   aor2_AOR  aor2_AORName  air2_Country  \n",
       "0       NaN           NaN     Guatemala  \n",
       "1       NaN           NaN     Guatemala  \n",
       "2       NaN           NaN     Guatemala  \n",
       "3       NaN           NaN     Guatemala  \n",
       "4       NaN           NaN     Guatemala  \n",
       "\n",
       "[5 rows x 43 columns]"
      ]
     },
     "execution_count": 14,
     "metadata": {},
     "output_type": "execute_result"
    }
   ],
   "source": [
    "df.head()"
   ]
  },
  {
   "cell_type": "code",
   "execution_count": 15,
   "metadata": {},
   "outputs": [
    {
     "data": {
      "text/html": [
       "<div>\n",
       "<style scoped>\n",
       "    .dataframe tbody tr th:only-of-type {\n",
       "        vertical-align: middle;\n",
       "    }\n",
       "\n",
       "    .dataframe tbody tr th {\n",
       "        vertical-align: top;\n",
       "    }\n",
       "\n",
       "    .dataframe thead th {\n",
       "        text-align: right;\n",
       "    }\n",
       "</style>\n",
       "<table border=\"1\" class=\"dataframe\">\n",
       "  <thead>\n",
       "    <tr style=\"text-align: right;\">\n",
       "      <th></th>\n",
       "      <th>Status</th>\n",
       "      <th>Sex</th>\n",
       "      <th>Convictions</th>\n",
       "      <th>GangMember</th>\n",
       "      <th>ClassLvl</th>\n",
       "      <th>Age</th>\n",
       "      <th>MissionDate</th>\n",
       "      <th>MissionNumber</th>\n",
       "      <th>PULOC</th>\n",
       "      <th>DropLoc</th>\n",
       "      <th>...</th>\n",
       "      <th>air_Country</th>\n",
       "      <th>air2_AirportID</th>\n",
       "      <th>air2_AirportName</th>\n",
       "      <th>air2_City</th>\n",
       "      <th>st2_StateID</th>\n",
       "      <th>st2_StateAbbr</th>\n",
       "      <th>aor2_AORID</th>\n",
       "      <th>aor2_AOR</th>\n",
       "      <th>aor2_AORName</th>\n",
       "      <th>air2_Country</th>\n",
       "    </tr>\n",
       "  </thead>\n",
       "  <tbody>\n",
       "    <tr>\n",
       "      <th>0</th>\n",
       "      <td>Removal</td>\n",
       "      <td>MALE</td>\n",
       "      <td>Non-Criminal</td>\n",
       "      <td>No</td>\n",
       "      <td>1.0</td>\n",
       "      <td>18.0</td>\n",
       "      <td>2010-10-01</td>\n",
       "      <td>110003</td>\n",
       "      <td>KIWA</td>\n",
       "      <td>MGGT</td>\n",
       "      <td>...</td>\n",
       "      <td>USA</td>\n",
       "      <td>149.0</td>\n",
       "      <td>La Aurora Airport</td>\n",
       "      <td>Guatemala City</td>\n",
       "      <td>NaN</td>\n",
       "      <td>NaN</td>\n",
       "      <td>NaN</td>\n",
       "      <td>NaN</td>\n",
       "      <td>NaN</td>\n",
       "      <td>Guatemala</td>\n",
       "    </tr>\n",
       "    <tr>\n",
       "      <th>0</th>\n",
       "      <td>TRANSFER</td>\n",
       "      <td>MALE</td>\n",
       "      <td>DUI</td>\n",
       "      <td>NaN</td>\n",
       "      <td>1.0</td>\n",
       "      <td>30.0</td>\n",
       "      <td>2011-10-01</td>\n",
       "      <td>120001</td>\n",
       "      <td>KIWA</td>\n",
       "      <td>KBFI</td>\n",
       "      <td>...</td>\n",
       "      <td>USA</td>\n",
       "      <td>39.0</td>\n",
       "      <td>Boeing Field King County International Airport</td>\n",
       "      <td>Seattle</td>\n",
       "      <td>51.0</td>\n",
       "      <td>WA</td>\n",
       "      <td>22.0</td>\n",
       "      <td>SEA</td>\n",
       "      <td>Seattle</td>\n",
       "      <td>USA</td>\n",
       "    </tr>\n",
       "    <tr>\n",
       "      <th>0</th>\n",
       "      <td>RM</td>\n",
       "      <td>FEMALE</td>\n",
       "      <td>NC</td>\n",
       "      <td>N</td>\n",
       "      <td>NaN</td>\n",
       "      <td>21.0</td>\n",
       "      <td>2012-10-01</td>\n",
       "      <td>130005</td>\n",
       "      <td>KMIA</td>\n",
       "      <td>MHLM</td>\n",
       "      <td>...</td>\n",
       "      <td>USA</td>\n",
       "      <td>150.0</td>\n",
       "      <td>Ramon Villeda Morales International Airport</td>\n",
       "      <td>San Pedro Sula</td>\n",
       "      <td>NaN</td>\n",
       "      <td>NaN</td>\n",
       "      <td>NaN</td>\n",
       "      <td>NaN</td>\n",
       "      <td>NaN</td>\n",
       "      <td>Honduras</td>\n",
       "    </tr>\n",
       "    <tr>\n",
       "      <th>0</th>\n",
       "      <td>NaN</td>\n",
       "      <td>MALE</td>\n",
       "      <td>NaN</td>\n",
       "      <td>N</td>\n",
       "      <td>1.0</td>\n",
       "      <td>33.0</td>\n",
       "      <td>2013-10-01</td>\n",
       "      <td>140003</td>\n",
       "      <td>KELP</td>\n",
       "      <td>mmmx</td>\n",
       "      <td>...</td>\n",
       "      <td>USA</td>\n",
       "      <td>155.0</td>\n",
       "      <td>Licenciado Benito Juarez International Airport</td>\n",
       "      <td>Mexico City</td>\n",
       "      <td>NaN</td>\n",
       "      <td>NaN</td>\n",
       "      <td>NaN</td>\n",
       "      <td>NaN</td>\n",
       "      <td>NaN</td>\n",
       "      <td>Mexico</td>\n",
       "    </tr>\n",
       "    <tr>\n",
       "      <th>0</th>\n",
       "      <td>8F</td>\n",
       "      <td>MALE</td>\n",
       "      <td>IE</td>\n",
       "      <td>N</td>\n",
       "      <td>NaN</td>\n",
       "      <td>19.0</td>\n",
       "      <td>2014-10-01</td>\n",
       "      <td>150005</td>\n",
       "      <td>KSAT</td>\n",
       "      <td>MSLP</td>\n",
       "      <td>...</td>\n",
       "      <td>USA</td>\n",
       "      <td>157.0</td>\n",
       "      <td>El Salvador International Airport</td>\n",
       "      <td>San Salvador</td>\n",
       "      <td>NaN</td>\n",
       "      <td>NaN</td>\n",
       "      <td>NaN</td>\n",
       "      <td>NaN</td>\n",
       "      <td>NaN</td>\n",
       "      <td>El Salvador</td>\n",
       "    </tr>\n",
       "    <tr>\n",
       "      <th>0</th>\n",
       "      <td>16</td>\n",
       "      <td>M</td>\n",
       "      <td>Other - Non-Violent</td>\n",
       "      <td>N</td>\n",
       "      <td>NaN</td>\n",
       "      <td>27.0</td>\n",
       "      <td>2015-10-01</td>\n",
       "      <td>160001</td>\n",
       "      <td>KIWA</td>\n",
       "      <td>KELP</td>\n",
       "      <td>...</td>\n",
       "      <td>USA</td>\n",
       "      <td>57.0</td>\n",
       "      <td>El Paso International Airport</td>\n",
       "      <td>El Paso</td>\n",
       "      <td>46.0</td>\n",
       "      <td>TX</td>\n",
       "      <td>9.0</td>\n",
       "      <td>ELP</td>\n",
       "      <td>El Paso</td>\n",
       "      <td>USA</td>\n",
       "    </tr>\n",
       "    <tr>\n",
       "      <th>0</th>\n",
       "      <td>8G</td>\n",
       "      <td>M</td>\n",
       "      <td>NC</td>\n",
       "      <td>N</td>\n",
       "      <td>NaN</td>\n",
       "      <td>26.0</td>\n",
       "      <td>2016-12-22</td>\n",
       "      <td>170443</td>\n",
       "      <td>KMIA</td>\n",
       "      <td>KAEX</td>\n",
       "      <td>...</td>\n",
       "      <td>USA</td>\n",
       "      <td>35.0</td>\n",
       "      <td>Alexandria International Airport</td>\n",
       "      <td>Alexandria</td>\n",
       "      <td>20.0</td>\n",
       "      <td>LA</td>\n",
       "      <td>13.0</td>\n",
       "      <td>NOL</td>\n",
       "      <td>New Orleans</td>\n",
       "      <td>USA</td>\n",
       "    </tr>\n",
       "    <tr>\n",
       "      <th>0</th>\n",
       "      <td>8C</td>\n",
       "      <td>M</td>\n",
       "      <td>Drug Possession</td>\n",
       "      <td>N</td>\n",
       "      <td>NaN</td>\n",
       "      <td>22.0</td>\n",
       "      <td>2017-10-20</td>\n",
       "      <td>180072</td>\n",
       "      <td>KAEX</td>\n",
       "      <td>MHLM</td>\n",
       "      <td>...</td>\n",
       "      <td>USA</td>\n",
       "      <td>150.0</td>\n",
       "      <td>Ramon Villeda Morales International Airport</td>\n",
       "      <td>San Pedro Sula</td>\n",
       "      <td>NaN</td>\n",
       "      <td>NaN</td>\n",
       "      <td>NaN</td>\n",
       "      <td>NaN</td>\n",
       "      <td>NaN</td>\n",
       "      <td>Honduras</td>\n",
       "    </tr>\n",
       "    <tr>\n",
       "      <th>0</th>\n",
       "      <td>8C</td>\n",
       "      <td>F</td>\n",
       "      <td>NC</td>\n",
       "      <td>N</td>\n",
       "      <td>NaN</td>\n",
       "      <td>38.0</td>\n",
       "      <td>2018-10-01</td>\n",
       "      <td>190009</td>\n",
       "      <td>KATL</td>\n",
       "      <td>KBRO</td>\n",
       "      <td>...</td>\n",
       "      <td>USA</td>\n",
       "      <td>45.0</td>\n",
       "      <td>Brownsville South Padre Island International A...</td>\n",
       "      <td>Brownsville</td>\n",
       "      <td>46.0</td>\n",
       "      <td>TX</td>\n",
       "      <td>19.0</td>\n",
       "      <td>SNA</td>\n",
       "      <td>San Antonio</td>\n",
       "      <td>USA</td>\n",
       "    </tr>\n",
       "  </tbody>\n",
       "</table>\n",
       "<p>9 rows × 43 columns</p>\n",
       "</div>"
      ],
      "text/plain": [
       "     Status     Sex          Convictions GangMember  ClassLvl   Age  \\\n",
       "0   Removal    MALE         Non-Criminal         No       1.0  18.0   \n",
       "0  TRANSFER    MALE                  DUI        NaN       1.0  30.0   \n",
       "0        RM  FEMALE                   NC          N       NaN  21.0   \n",
       "0       NaN    MALE                  NaN          N       1.0  33.0   \n",
       "0        8F    MALE                   IE          N       NaN  19.0   \n",
       "0        16       M  Other - Non-Violent          N       NaN  27.0   \n",
       "0        8G       M                   NC          N       NaN  26.0   \n",
       "0        8C       M      Drug Possession          N       NaN  22.0   \n",
       "0        8C       F                   NC          N       NaN  38.0   \n",
       "\n",
       "  MissionDate  MissionNumber PULOC DropLoc      ...       air_Country  \\\n",
       "0  2010-10-01         110003  KIWA    MGGT      ...               USA   \n",
       "0  2011-10-01         120001  KIWA    KBFI      ...               USA   \n",
       "0  2012-10-01         130005  KMIA    MHLM      ...               USA   \n",
       "0  2013-10-01         140003  KELP    mmmx      ...               USA   \n",
       "0  2014-10-01         150005  KSAT    MSLP      ...               USA   \n",
       "0  2015-10-01         160001  KIWA    KELP      ...               USA   \n",
       "0  2016-12-22         170443  KMIA    KAEX      ...               USA   \n",
       "0  2017-10-20         180072  KAEX    MHLM      ...               USA   \n",
       "0  2018-10-01         190009  KATL    KBRO      ...               USA   \n",
       "\n",
       "  air2_AirportID                                   air2_AirportName  \\\n",
       "0          149.0                                  La Aurora Airport   \n",
       "0           39.0     Boeing Field King County International Airport   \n",
       "0          150.0        Ramon Villeda Morales International Airport   \n",
       "0          155.0     Licenciado Benito Juarez International Airport   \n",
       "0          157.0                  El Salvador International Airport   \n",
       "0           57.0                      El Paso International Airport   \n",
       "0           35.0                   Alexandria International Airport   \n",
       "0          150.0        Ramon Villeda Morales International Airport   \n",
       "0           45.0  Brownsville South Padre Island International A...   \n",
       "\n",
       "        air2_City st2_StateID st2_StateAbbr  aor2_AORID  aor2_AOR  \\\n",
       "0  Guatemala City         NaN           NaN         NaN       NaN   \n",
       "0         Seattle        51.0            WA        22.0       SEA   \n",
       "0  San Pedro Sula         NaN           NaN         NaN       NaN   \n",
       "0     Mexico City         NaN           NaN         NaN       NaN   \n",
       "0    San Salvador         NaN           NaN         NaN       NaN   \n",
       "0         El Paso        46.0            TX         9.0       ELP   \n",
       "0      Alexandria        20.0            LA        13.0       NOL   \n",
       "0  San Pedro Sula         NaN           NaN         NaN       NaN   \n",
       "0     Brownsville        46.0            TX        19.0       SNA   \n",
       "\n",
       "   aor2_AORName  air2_Country  \n",
       "0           NaN     Guatemala  \n",
       "0       Seattle           USA  \n",
       "0           NaN      Honduras  \n",
       "0           NaN        Mexico  \n",
       "0           NaN   El Salvador  \n",
       "0       El Paso           USA  \n",
       "0   New Orleans           USA  \n",
       "0           NaN      Honduras  \n",
       "0   San Antonio           USA  \n",
       "\n",
       "[9 rows x 43 columns]"
      ]
     },
     "execution_count": 15,
     "metadata": {},
     "output_type": "execute_result"
    }
   ],
   "source": [
    "df.loc[0]"
   ]
  },
  {
   "cell_type": "code",
   "execution_count": 16,
   "metadata": {},
   "outputs": [
    {
     "data": {
      "text/plain": [
       "1763020"
      ]
     },
     "execution_count": 16,
     "metadata": {},
     "output_type": "execute_result"
    }
   ],
   "source": [
    "len(df)"
   ]
  },
  {
   "cell_type": "markdown",
   "metadata": {},
   "source": [
    "No missing values in ID fields. IDs repeat."
   ]
  },
  {
   "cell_type": "code",
   "execution_count": 17,
   "metadata": {},
   "outputs": [
    {
     "data": {
      "text/plain": [
       "14973"
      ]
     },
     "execution_count": 17,
     "metadata": {},
     "output_type": "execute_result"
    }
   ],
   "source": [
    "len(set(df['MissionID']))"
   ]
  },
  {
   "cell_type": "code",
   "execution_count": 18,
   "metadata": {},
   "outputs": [
    {
     "data": {
      "text/plain": [
       "0"
      ]
     },
     "execution_count": 18,
     "metadata": {},
     "output_type": "execute_result"
    }
   ],
   "source": [
    "sum(df['MissionID'].isnull())"
   ]
  },
  {
   "cell_type": "code",
   "execution_count": 19,
   "metadata": {},
   "outputs": [
    {
     "data": {
      "text/plain": [
       "1733555"
      ]
     },
     "execution_count": 19,
     "metadata": {},
     "output_type": "execute_result"
    }
   ],
   "source": [
    "len(set(df['AlienMasterID']))"
   ]
  },
  {
   "cell_type": "code",
   "execution_count": 20,
   "metadata": {},
   "outputs": [
    {
     "data": {
      "text/plain": [
       "0"
      ]
     },
     "execution_count": 20,
     "metadata": {},
     "output_type": "execute_result"
    }
   ],
   "source": [
    "sum(df['AlienMasterID'].isnull())"
   ]
  },
  {
   "cell_type": "code",
   "execution_count": 21,
   "metadata": {},
   "outputs": [
    {
     "data": {
      "text/plain": [
       "Timestamp('2010-10-01 00:00:00')"
      ]
     },
     "execution_count": 21,
     "metadata": {},
     "output_type": "execute_result"
    }
   ],
   "source": [
    "df['MissionDate'].min()"
   ]
  },
  {
   "cell_type": "code",
   "execution_count": 22,
   "metadata": {},
   "outputs": [
    {
     "data": {
      "text/plain": [
       "Timestamp('2018-12-05 00:00:00')"
      ]
     },
     "execution_count": 22,
     "metadata": {},
     "output_type": "execute_result"
    }
   ],
   "source": [
    "df['MissionDate'].max()"
   ]
  },
  {
   "cell_type": "code",
   "execution_count": 23,
   "metadata": {},
   "outputs": [],
   "source": [
    "df.set_index('MissionDate', inplace=True)"
   ]
  },
  {
   "cell_type": "markdown",
   "metadata": {},
   "source": [
    "Top pickup airports."
   ]
  },
  {
   "cell_type": "code",
   "execution_count": 24,
   "metadata": {},
   "outputs": [
    {
     "data": {
      "text/plain": [
       "Alexandria International Airport                        239911\n",
       "Brownsville South Padre Island International Airport    204895\n",
       "Phoenix-Mesa-Gateway Airport                            196150\n",
       "Valley International Airport                            154138\n",
       "El Paso International Airport                           136127\n",
       "San Antonio International Airport                       107434\n",
       "Columbus Metropolitan Airport                            80797\n",
       "Harrisburg International Airport                         76348\n",
       "Laredo International Airport                             56409\n",
       "Miami International Airport                              55588\n",
       "Name: air_AirportName, dtype: int64"
      ]
     },
     "execution_count": 24,
     "metadata": {},
     "output_type": "execute_result"
    }
   ],
   "source": [
    "df['air_AirportName'].value_counts().head(10)"
   ]
  },
  {
   "cell_type": "markdown",
   "metadata": {},
   "source": [
    "Top dropoff airports."
   ]
  },
  {
   "cell_type": "code",
   "execution_count": 25,
   "metadata": {},
   "outputs": [
    {
     "data": {
      "text/plain": [
       "La Aurora Airport                                       327010\n",
       "Ramon Villeda Morales International Airport             202955\n",
       "Alexandria International Airport                        169316\n",
       "El Salvador International Airport                       157773\n",
       "Valley International Airport                            148700\n",
       "Phoenix-Mesa-Gateway Airport                             93892\n",
       "El Paso International Airport                            87408\n",
       "Licenciado Benito Juarez International Airport           85584\n",
       "Brownsville South Padre Island International Airport     66444\n",
       "San Diego International Airport                          62943\n",
       "Name: air2_AirportName, dtype: int64"
      ]
     },
     "execution_count": 25,
     "metadata": {},
     "output_type": "execute_result"
    }
   ],
   "source": [
    "df['air2_AirportName'].value_counts().head(10)"
   ]
  },
  {
   "cell_type": "code",
   "execution_count": 26,
   "metadata": {},
   "outputs": [
    {
     "data": {
      "text/plain": [
       "Removal       1110458\n",
       "Transfer       448753\n",
       "REMOVAL        147703\n",
       "transfer        28835\n",
       "TRANSFER        21765\n",
       "removal          5258\n",
       "RemovaL           117\n",
       "reMOVAL           110\n",
       "Ineligible          2\n",
       "No-show             1\n",
       "Name: R-T, dtype: int64"
      ]
     },
     "execution_count": 26,
     "metadata": {},
     "output_type": "execute_result"
    }
   ],
   "source": [
    "df['R-T'].value_counts()"
   ]
  },
  {
   "cell_type": "code",
   "execution_count": 27,
   "metadata": {},
   "outputs": [],
   "source": [
    "with open('../../share/hand/clean.yaml', 'r') as yamlfile:\n",
    "    clean = yaml.load(yamlfile)"
   ]
  },
  {
   "cell_type": "code",
<<<<<<< HEAD
<<<<<<< HEAD
   "execution_count": 185,
=======
   "execution_count": 28,
>>>>>>> 954ab5d8f92b78825fd09f5f673d70144f549981
=======
   "execution_count": 29,
>>>>>>> parent of 1972d63... Finding records with multiple travel segments
   "metadata": {},
   "outputs": [
    {
     "data": {
      "text/plain": [
       "R             1263646\n",
       "T              499353\n",
       "Ineligible          2\n",
       "No-show             1\n",
       "Name: R-T, dtype: int64"
      ]
     },
<<<<<<< HEAD
<<<<<<< HEAD
     "execution_count": 185,
=======
     "execution_count": 28,
>>>>>>> 954ab5d8f92b78825fd09f5f673d70144f549981
=======
     "execution_count": 29,
>>>>>>> parent of 1972d63... Finding records with multiple travel segments
     "metadata": {},
     "output_type": "execute_result"
    }
   ],
   "source": [
    "df['R-T'] = df['R-T'].replace(clean['R-T'])\n",
    "df['R-T'] = df['R-T'].astype('category')\n",
    "df['R-T'].value_counts()"
   ]
  },
  {
   "cell_type": "code",
<<<<<<< HEAD
<<<<<<< HEAD
   "execution_count": 186,
=======
   "execution_count": 29,
>>>>>>> 954ab5d8f92b78825fd09f5f673d70144f549981
=======
   "execution_count": 30,
>>>>>>> parent of 1972d63... Finding records with multiple travel segments
   "metadata": {},
   "outputs": [
    {
     "data": {
      "text/plain": [
       "M    1618577\n",
       "F     144302\n",
       "U        137\n",
       "Name: Sex, dtype: int64"
      ]
     },
<<<<<<< HEAD
<<<<<<< HEAD
     "execution_count": 186,
=======
     "execution_count": 29,
>>>>>>> 954ab5d8f92b78825fd09f5f673d70144f549981
=======
     "execution_count": 30,
>>>>>>> parent of 1972d63... Finding records with multiple travel segments
     "metadata": {},
     "output_type": "execute_result"
    }
   ],
   "source": [
    "df['Sex'] = df['Sex'].replace(clean['Sex'])\n",
    "df['Sex'] = df['Sex'].astype('category')\n",
    "df['Sex'].value_counts()"
   ]
  },
  {
   "cell_type": "code",
<<<<<<< HEAD
<<<<<<< HEAD
   "execution_count": 187,
=======
   "execution_count": 30,
>>>>>>> 954ab5d8f92b78825fd09f5f673d70144f549981
=======
   "execution_count": 31,
>>>>>>> parent of 1972d63... Finding records with multiple travel segments
   "metadata": {},
   "outputs": [],
   "source": [
    "df['Criminality'] = df['Criminality'].replace(clean['Criminality'])\n",
    "df['Criminality'] = df['Criminality'].astype('category')\n",
    "df['Criminality'].value_counts()\n",
    "df['NonCriminal'] = df['Criminality'] == 'NC'"
   ]
  },
  {
   "cell_type": "code",
<<<<<<< HEAD
<<<<<<< HEAD
   "execution_count": 188,
=======
   "execution_count": 31,
>>>>>>> 954ab5d8f92b78825fd09f5f673d70144f549981
=======
   "execution_count": 34,
>>>>>>> parent of 1972d63... Finding records with multiple travel segments
   "metadata": {},
   "outputs": [
    {
     "data": {
      "text/plain": [
       "N                 1079547\n",
       "No                 243020\n",
       "NO                 120228\n",
       "NONE                91863\n",
       "Y                   10891\n",
       "None                 8675\n",
       "no                   5201\n",
       "                     4960\n",
       "Yes                  1677\n",
       "n                    1061\n",
       "YES                   795\n",
       "none                  636\n",
       "NON                   530\n",
       "None known            355\n",
       "SURENO                285\n",
       "MT                    274\n",
       "MS-13                 118\n",
       "UNKNOWN                75\n",
       "LOW                    62\n",
       "NORTENO                55\n",
       "SUR                    47\n",
       "***                    46\n",
       "Non-Criminal           44\n",
       "yes                    41\n",
       "Non-Crim               35\n",
       "M                      35\n",
       "CODE 15                26\n",
       "DENVER                 23\n",
       "(SURENO)               21\n",
       "H                      17\n",
       "                   ...   \n",
       "SURENO D/O              1\n",
       "FCO                     1\n",
       "East L.A.               1\n",
       "SURENO/CODE 15          1\n",
       "EPC                     1\n",
       "EAZ                     1\n",
       "SURRENO                 1\n",
       "Delhi                   1\n",
       "Sex Offender            1\n",
       "DUI                     1\n",
       "NOR D-O                 1\n",
       "Gang Member             1\n",
       "SUR-13                  1\n",
       "SUR D.O.                1\n",
       "REINSTATE               1\n",
       "MALDITOS 13             1\n",
       "PIC                     1\n",
       "Latin Kings             1\n",
       "Paisa                   1\n",
       "LO                      1\n",
       "Prior ESCAPE            1\n",
       "KAN                     1\n",
       "HAS                     1\n",
       "JUVENILE                1\n",
       "SAT                     1\n",
       "SPG                     1\n",
       "SUR AFFIL               1\n",
       "SUR ASSOC.              1\n",
       "HEL                     1\n",
       "yes-18th                1\n",
       "Name: GangMember, Length: 290, dtype: int64"
      ]
     },
<<<<<<< HEAD
<<<<<<< HEAD
     "execution_count": 188,
=======
     "execution_count": 31,
>>>>>>> 954ab5d8f92b78825fd09f5f673d70144f549981
=======
     "execution_count": 34,
>>>>>>> parent of 1972d63... Finding records with multiple travel segments
     "metadata": {},
     "output_type": "execute_result"
    }
   ],
   "source": [
    "# This column had a bunch of random-seeming numeric strings, replace removes any string that's just numbers\n",
    "# I checked and there were no '13' or '15' or '18' values before replace\n",
    "# Numeric strings didn't seem to be result of data shifted into column but need to investigate more\n",
    "df['GangMember'] = df['GangMember'].str.replace('^[0-9]*$', '')\n",
    "df['GangMember'] = df['GangMember'].astype('category')\n",
    "df['GangMember'].value_counts()"
   ]
  },
  {
   "cell_type": "code",
<<<<<<< HEAD
<<<<<<< HEAD
   "execution_count": 189,
=======
   "execution_count": 32,
>>>>>>> 954ab5d8f92b78825fd09f5f673d70144f549981
=======
   "execution_count": 36,
>>>>>>> parent of 1972d63... Finding records with multiple travel segments
   "metadata": {},
   "outputs": [
    {
     "data": {
      "text/plain": [
       "MEXICO                127866\n",
       "GUATEMALA              41536\n",
       "HONDURAS               28366\n",
       "EL SALVADOR            23623\n",
       "DOMINICAN REPUBLIC      4619\n",
       "ECUADOR                 3109\n",
       "NICARAGUA               2516\n",
       "COLOMBIA                2125\n",
       "JAMAICA                 1943\n",
       "HAITI                   1033\n",
       "BRAZIL                   210\n",
       "PERU                     206\n",
       "CAMBODIA                 173\n",
       "PHILIPINNES              159\n",
       "INDIA                    151\n",
       "Name: CountryOfCitizenship, dtype: int64"
      ]
     },
<<<<<<< HEAD
<<<<<<< HEAD
     "execution_count": 189,
=======
     "execution_count": 32,
>>>>>>> 954ab5d8f92b78825fd09f5f673d70144f549981
=======
     "execution_count": 36,
>>>>>>> parent of 1972d63... Finding records with multiple travel segments
     "metadata": {},
     "output_type": "execute_result"
    }
   ],
   "source": [
    "# This field seems pretty clean, look for duplicates due to spelling or style\n",
    "df['CountryOfCitizenship'] = df['CountryOfCitizenship'].str.upper()\n",
    "df['CountryOfCitizenship'] = df['CountryOfCitizenship'].astype('category')\n",
    "df['CountryOfCitizenship'].value_counts().head(15)"
   ]
  },
  {
   "cell_type": "code",
<<<<<<< HEAD
<<<<<<< HEAD
   "execution_count": 190,
=======
   "execution_count": 33,
>>>>>>> 954ab5d8f92b78825fd09f5f673d70144f549981
=======
   "execution_count": 25,
>>>>>>> parent of 1972d63... Finding records with multiple travel segments
   "metadata": {},
   "outputs": [
    {
     "data": {
      "text/plain": [
       "KAEX    239911\n",
       "KBRO    204895\n",
       "KIWA    196150\n",
       "KHRL    154138\n",
       "KELP    136127\n",
       "KSAT    107434\n",
       "KCSG     80797\n",
       "KMDT     76348\n",
       "KLRD     56409\n",
       "KMIA     55588\n",
       "KSAN     53008\n",
       "KIAH     50378\n",
       "KOAK     40532\n",
       "KBFI     34466\n",
       "KEWR     31218\n",
       "Name: PULOC, dtype: int64"
      ]
     },
<<<<<<< HEAD
<<<<<<< HEAD
     "execution_count": 190,
=======
     "execution_count": 33,
>>>>>>> 954ab5d8f92b78825fd09f5f673d70144f549981
=======
     "execution_count": 25,
>>>>>>> parent of 1972d63... Finding records with multiple travel segments
     "metadata": {},
     "output_type": "execute_result"
    }
   ],
   "source": [
    "df['PULOC'] = df['PULOC'].str.upper()\n",
    "df['PULOC'] = df['PULOC'].astype('category')\n",
    "df['PULOC'].value_counts().head(15)"
   ]
  },
  {
   "cell_type": "code",
<<<<<<< HEAD
<<<<<<< HEAD
   "execution_count": 191,
=======
   "execution_count": 34,
>>>>>>> 954ab5d8f92b78825fd09f5f673d70144f549981
=======
   "execution_count": 41,
>>>>>>> parent of 1972d63... Finding records with multiple travel segments
   "metadata": {},
   "outputs": [
    {
     "data": {
      "text/plain": [
       "MGGT    327010\n",
       "MHLM    202955\n",
       "KAEX    169316\n",
       "MSLP    157773\n",
       "KHRL    148700\n",
       "KIWA     93892\n",
       "KELP     87408\n",
       "MMMX     85584\n",
       "KBRO     66444\n",
       "KSAN     62943\n",
       "KNYL     58124\n",
       "KLRD     46923\n",
       "KMIA     22657\n",
       "KNJK     20356\n",
       "MHTG     19944\n",
       "Name: DropLoc, dtype: int64"
      ]
     },
<<<<<<< HEAD
<<<<<<< HEAD
     "execution_count": 191,
=======
     "execution_count": 34,
>>>>>>> 954ab5d8f92b78825fd09f5f673d70144f549981
=======
     "execution_count": 41,
>>>>>>> parent of 1972d63... Finding records with multiple travel segments
     "metadata": {},
     "output_type": "execute_result"
    }
   ],
   "source": [
    "df['DropLoc'] = df['DropLoc'].str.upper()\n",
    "df['DropLoc'] = df['DropLoc'].astype('category')\n",
    "df['DropLoc'].value_counts().head(15)"
   ]
  },
  {
   "cell_type": "markdown",
   "metadata": {},
   "source": [
    "Status field is very messy, may be interesting?"
   ]
  },
  {
   "cell_type": "code",
<<<<<<< HEAD
<<<<<<< HEAD
   "execution_count": 192,
=======
   "execution_count": 35,
>>>>>>> 954ab5d8f92b78825fd09f5f673d70144f549981
=======
   "execution_count": 42,
>>>>>>> parent of 1972d63... Finding records with multiple travel segments
   "metadata": {},
   "outputs": [
    {
     "data": {
      "text/plain": [
       "16                324026\n",
       "8F                239232\n",
       "Removal           229049\n",
       "8C                169443\n",
       "8G                129502\n",
       "RM                 98768\n",
       "ER                 87668\n",
       "REMOVAL            63654\n",
       "VR                 63102\n",
       "3                  37389\n",
       "REINST             35197\n",
       "11                 29086\n",
       "Transfer - F/O     19596\n",
       "NTA-TFRD           15633\n",
       "8A                 13058\n",
       "Name: Status, dtype: int64"
      ]
     },
<<<<<<< HEAD
<<<<<<< HEAD
     "execution_count": 192,
=======
     "execution_count": 35,
>>>>>>> 954ab5d8f92b78825fd09f5f673d70144f549981
=======
     "execution_count": 42,
>>>>>>> parent of 1972d63... Finding records with multiple travel segments
     "metadata": {},
     "output_type": "execute_result"
    }
   ],
   "source": [
    "df['Status'].value_counts().head(15)"
   ]
  },
  {
   "cell_type": "code",
<<<<<<< HEAD
<<<<<<< HEAD
   "execution_count": 193,
=======
   "execution_count": 36,
>>>>>>> 954ab5d8f92b78825fd09f5f673d70144f549981
=======
   "execution_count": 43,
>>>>>>> parent of 1972d63... Finding records with multiple travel segments
   "metadata": {
    "scrolled": true
   },
   "outputs": [
    {
     "name": "stdout",
     "output_type": "stream",
     "text": [
      "Field: # of unique values\n",
      "-------------------------\n",
      "Status: 1163\n",
      "Sex: 4\n",
      "Convictions: 14735\n",
      "GangMember: 291\n",
      "ClassLvl: 392\n",
      "Age: 144\n",
      "MissionNumber: 14973\n",
      "PULOC: 133\n",
      "DropLoc: 208\n",
      "StrikeFromList: 1\n",
      "ReasonStruck: 14\n",
      "R-T: 5\n",
      "Code: 9\n",
      "CountryOfCitizenship: 215\n",
      "Juvenile: 3\n",
      "MissionWeek: 53\n",
      "MissionQuarter: 4\n",
      "MissionYear: 9\n",
      "MissionMonth: 12\n",
      "Criminality: 3\n",
      "FamilyUnitFlag: 1\n",
      "UnaccompaniedFlag: 1\n",
      "AlienMasterID: 1733555\n",
      "MissionID: 14973\n",
      "air_AirportID: 84\n",
      "air_AirportName: 83\n",
      "air_City: 79\n",
      "st_StateID: 33\n",
      "st_StateAbbr: 33\n",
      "AOR_AORID: 24\n",
      "AOR_AOR: 24\n",
      "AOR_AORName: 24\n",
      "air_Country: 11\n",
      "air2_AirportID: 203\n",
      "air2_AirportName: 200\n",
      "air2_City: 195\n",
      "st2_StateID: 34\n",
      "st2_StateAbbr: 34\n",
      "aor2_AORID: 23\n",
      "aor2_AOR: 23\n",
      "aor2_AORName: 23\n",
      "air2_Country: 116\n",
      "NonCriminal: 2\n"
     ]
    }
   ],
   "source": [
    "print('Field: # of unique values')\n",
    "print('-------------------------')\n",
    "for column in df.columns:\n",
    "    print(f'{column}: {len(df[column].unique())}')"
   ]
  },
  {
   "cell_type": "code",
<<<<<<< HEAD
<<<<<<< HEAD
   "execution_count": 194,
=======
   "execution_count": 43,
   "metadata": {},
   "outputs": [
    {
     "data": {
      "text/plain": [
       "Weather                           29\n",
       "Stay - Legal                      17\n",
       "Deficiency - Paperwork            16\n",
       "Deficiency - Medical              12\n",
       "Cred Fear                         10\n",
       "no show                            7\n",
       "No Show                            6\n",
       "Alternate                          5\n",
       "No-show                            3\n",
       "Deficiency - No TD present         2\n",
       "Medical                            1\n",
       "Deficiency - Wrong Nationality     1\n",
       "Deficiency - Property Issue        1\n",
       "Name: ReasonStruck, dtype: int64"
      ]
     },
     "execution_count": 43,
     "metadata": {},
     "output_type": "execute_result"
    }
   ],
   "source": [
    "df['ReasonStruck'].value_counts()"
   ]
  },
  {
   "cell_type": "code",
   "execution_count": 44,
>>>>>>> 954ab5d8f92b78825fd09f5f673d70144f549981
=======
   "execution_count": 44,
>>>>>>> parent of 1972d63... Finding records with multiple travel segments
   "metadata": {},
   "outputs": [],
   "source": [
    "KBFI_pickup = df['PULOC'] == 'KBFI'\n",
    "KBFI_dropoff = df['DropLoc'] == 'KBFI'"
   ]
  },
  {
   "cell_type": "code",
   "execution_count": 45,
   "metadata": {},
   "outputs": [],
   "source": [
    "KBFI_pickups = df[KBFI_pickup]\n",
    "KBFI_dropoffs = df[KBFI_dropoff]"
   ]
  },
  {
   "cell_type": "code",
   "execution_count": 59,
   "metadata": {},
   "outputs": [],
   "source": [
    "# KBFI_pickups.set_index('MissionDate', inplace=True)\n",
    "# KBFI_dropoffs.set_index('MissionDate', inplace=True)"
   ]
  },
  {
   "cell_type": "code",
   "execution_count": 60,
   "metadata": {},
   "outputs": [],
   "source": [
    "weekly_KBFI_pickups = KBFI_pickups['AlienMasterID'].resample('W').count()\n",
    "weekly_KBFI_dropoffs = KBFI_dropoffs['AlienMasterID'].resample('W').count()\n",
    "monthly_KBFI_pickups = KBFI_pickups['AlienMasterID'].resample('M').count()\n",
    "monthly_KBFI_dropoffs = KBFI_dropoffs['AlienMasterID'].resample('M').count()\n",
    "annual_KBFI_pickups = KBFI_pickups['2011':'2018']['AlienMasterID'].resample('AS').count()\n",
    "annual_KBFI_dropoffs = KBFI_dropoffs['2011':'2018']['AlienMasterID'].resample('AS').count()"
   ]
  },
  {
   "cell_type": "code",
   "execution_count": 61,
   "metadata": {},
   "outputs": [
    {
     "data": {
      "text/plain": [
       "MissionDate\n",
       "2011-01-01    5393\n",
       "2012-01-01    5020\n",
       "2013-01-01    3869\n",
       "2014-01-01    3480\n",
       "2015-01-01    2852\n",
       "2016-01-01    3178\n",
       "2017-01-01    3462\n",
       "2018-01-01    3278\n",
       "Freq: AS-JAN, Name: AlienMasterID, dtype: int64"
      ]
     },
     "execution_count": 61,
     "metadata": {},
     "output_type": "execute_result"
    }
   ],
   "source": [
    "annual_KBFI_pickups"
   ]
  },
  {
   "cell_type": "code",
   "execution_count": 62,
   "metadata": {},
   "outputs": [
    {
     "data": {
      "text/plain": [
       "MissionDate\n",
       "2011-01-01     708\n",
       "2012-01-01    1385\n",
       "2013-01-01    1983\n",
       "2014-01-01    1943\n",
       "2015-01-01    2508\n",
       "2016-01-01    2778\n",
       "2017-01-01    1451\n",
       "2018-01-01    2317\n",
       "Freq: AS-JAN, Name: AlienMasterID, dtype: int64"
      ]
     },
     "execution_count": 62,
     "metadata": {},
     "output_type": "execute_result"
    }
   ],
   "source": [
    "annual_KBFI_dropoffs"
   ]
  },
  {
   "cell_type": "code",
   "execution_count": 63,
   "metadata": {},
   "outputs": [
    {
     "data": {
      "image/png": "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\n",
      "text/plain": [
       "<Figure size 432x288 with 1 Axes>"
      ]
     },
     "metadata": {
      "needs_background": "light"
     },
     "output_type": "display_data"
    }
   ],
   "source": [
    "def plot(data):\n",
    "    \n",
    "    fig, ax = plt.subplots()\n",
    "    \n",
    "    for datum in data:\n",
    "        ax = datum.plot(legend=True)\n",
    "    \n",
    "    ax.set_ylabel('Number of Passengers', fontsize=12)\n",
    "    ax.set_ylim(0)\n",
    "    ax.set_xlabel('Year', fontsize=12)\n",
    "    ax.set_title('ICE Flights at Boeing Field', fontsize=18)\n",
    "    \n",
    "    fig.savefig('../output/ICEFlights.png')\n",
    "    return fig, ax\n",
    "\n",
    "annual_KBFI_pickups.rename('Total Pickups', inplace=True)\n",
    "annual_KBFI_dropoffs.rename('Total Dropoffs', inplace=True)\n",
    "\n",
    "plot = plot([annual_KBFI_pickups, annual_KBFI_dropoffs]);"
   ]
  },
  {
   "cell_type": "code",
   "execution_count": 64,
   "metadata": {},
   "outputs": [],
   "source": [
    "annual_non_criminal = KBFI_pickups[['NonCriminal']].resample('AS').sum()"
   ]
  },
  {
   "cell_type": "code",
   "execution_count": 65,
   "metadata": {},
   "outputs": [],
   "source": [
    "annual_non_criminal['total'] = annual_KBFI_pickups\n",
    "annual_non_criminal['percent'] = annual_non_criminal['NonCriminal']/annual_KBFI_pickups*100"
   ]
  },
  {
   "cell_type": "code",
   "execution_count": 66,
   "metadata": {},
   "outputs": [
    {
     "data": {
      "image/png": "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\n",
      "text/plain": [
       "<Figure size 720x576 with 2 Axes>"
      ]
     },
     "metadata": {
      "needs_background": "light"
     },
     "output_type": "display_data"
    }
   ],
   "source": [
    "annual_data = annual_non_criminal['2011':'2018']\n",
    "# monthly_data = monthly_non_criminal\n",
    "\n",
    "plt.style.use([{'legend.frameon': True}])\n",
    "plt.rc(\"font\", family=\"Times New Roman\")\n",
    "\n",
    "fig, ax1 = plt.subplots()\n",
    "\n",
    "ax2 = ax1.twinx()\n",
    "\n",
    "lns1 = ax1.plot(annual_data['total'], label='Total pickups')\n",
    "lns2 = ax1.plot(annual_data['NonCriminal'], label='Non-criminal pickups')\n",
    "ax1.set_ylim(0, 6000)\n",
    "ax1.set_ylabel('Annual KBFI pickups', fontsize=16)\n",
    "ax1.tick_params(axis='x', labelsize=14)\n",
    "ax1.tick_params(axis='y', labelsize=14)\n",
    "\n",
    "lns3 = ax2.plot(annual_data['percent'], label='% non-criminal', linestyle=':', color='green')\n",
    "ax2.set_ylim(0,60)\n",
    "ax2.set_ylabel('% non-criminal', fontsize=16)\n",
    "ax2.tick_params(axis='y', labelsize=14)\n",
    "\n",
    "lns = [lns1[0], lns2[0], lns3[0]]\n",
    "labs = [l.get_label() for l in lns]\n",
    "ax1.legend(lns, labs, loc=0, fontsize=14)\n",
    "\n",
    "ax1.set_title('ICE pickups at Boeing Field\\n% with no criminal conviction', fontsize=20)\n",
    "\n",
    "fig.set_size_inches(10, 8)\n",
    "\n",
    "plt.show()\n",
    "fig.savefig('../output/NoCrim.png', dpi=100)"
   ]
  },
  {
   "cell_type": "markdown",
   "metadata": {},
   "source": [
    "# Mapping"
   ]
  },
  {
   "cell_type": "code",
   "execution_count": 67,
   "metadata": {},
   "outputs": [],
   "source": [
    "df.reset_index(inplace=True)"
   ]
  },
  {
   "cell_type": "code",
   "execution_count": 68,
   "metadata": {},
   "outputs": [],
   "source": [
    "groupby = df.groupby(['MissionYear', 'R-T', 'PULOC', 'DropLoc'])"
   ]
  },
  {
   "cell_type": "code",
   "execution_count": 69,
   "metadata": {},
   "outputs": [],
   "source": [
    "table = groupby.size().reset_index()"
   ]
  },
  {
   "cell_type": "code",
   "execution_count": 70,
   "metadata": {},
   "outputs": [],
   "source": [
    "flights = groupby['MissionID'].nunique().reset_index()['MissionID']"
   ]
  },
  {
   "cell_type": "code",
   "execution_count": 71,
   "metadata": {},
   "outputs": [],
   "source": [
    "table.columns = ['year', 'R-T', 'pickup_airport', 'dropoff_airport', 'passengers']"
   ]
  },
  {
   "cell_type": "code",
   "execution_count": 72,
   "metadata": {},
   "outputs": [],
   "source": [
    "table['flights'] = flights"
   ]
  },
  {
   "cell_type": "code",
   "execution_count": 73,
   "metadata": {},
   "outputs": [],
   "source": [
    "table.reset_index(drop=True, inplace=True)"
   ]
  },
  {
   "cell_type": "code",
   "execution_count": 74,
   "metadata": {},
   "outputs": [],
   "source": [
    "all_kbfi = (table['pickup_airport'] == 'KBFI') | (table['dropoff_airport'] == 'KBFI')"
   ]
  },
  {
   "cell_type": "code",
   "execution_count": 75,
   "metadata": {},
   "outputs": [],
   "source": [
    "table.to_csv('../output/flight_summary.csv.gz', index=False, compression='gzip', encoding='utf-8', sep='|')"
   ]
  },
  {
   "cell_type": "code",
   "execution_count": null,
   "metadata": {},
   "outputs": [],
   "source": []
  }
 ],
 "metadata": {
  "kernelspec": {
   "display_name": "Python 3",
   "language": "python",
   "name": "python3"
  },
  "language_info": {
   "codemirror_mode": {
    "name": "ipython",
    "version": 3
   },
   "file_extension": ".py",
   "mimetype": "text/x-python",
   "name": "python",
   "nbconvert_exporter": "python",
   "pygments_lexer": "ipython3",
   "version": "3.7.1"
  }
 },
 "nbformat": 4,
 "nbformat_minor": 2
}
