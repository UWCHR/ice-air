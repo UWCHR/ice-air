{
 "cells": [
  {
   "cell_type": "code",
   "execution_count": 1,
   "metadata": {},
   "outputs": [],
   "source": [
    "import pandas as pd"
   ]
  },
  {
   "cell_type": "code",
   "execution_count": 4,
   "metadata": {},
   "outputs": [],
   "source": [
    "data = ['Snohomish County',\n",
    "'King County',\n",
    "'King County',\n",
    "'Clark County',\n",
    "'Snohomish County',\n",
    "'Clark County',\n",
    "'Lewis County',\n",
    "'Clark County',\n",
    "'Lewis County',\n",
    "'King County',\n",
    "'King County',\n",
    "'Snohomish County',\n",
    "'Clark County',\n",
    "'Clark County',\n",
    "'Snohomish County',\n",
    "'Snohomish County',\n",
    "'Snohomish County',\n",
    "'Snohomish County',\n",
    "'Clark County',\n",
    "'Pierce County',\n",
    "'King County',\n",
    "'King County',\n",
    "'Skagit County',\n",
    "'Thurston County',\n",
    "'King County',\n",
    "'Snohomish County',\n",
    "'Skagit County',\n",
    "'Pierce County',\n",
    "'Franklin County',\n",
    "'King County',\n",
    "'Franklin County',\n",
    "'Cowlitz County',\n",
    "'Franklin County',\n",
    "'King County',\n",
    "'King County',\n",
    "'Kitsap County',\n",
    "'King County',\n",
    "'Clark County',\n",
    "'Grays Harbor County',\n",
    "'Cowlitz County',\n",
    "'Clark County',\n",
    "'Clark County',\n",
    "'Pierce County',\n",
    "'Franklin County',\n",
    "'Pierce County',\n",
    "'Clark County',\n",
    "'King County',\n",
    "'Clark County',\n",
    "'King County',\n",
    "'King County',\n",
    "'Franklin County',\n",
    "'Clark County',\n",
    "'Whatcom County',\n",
    "'Cowlitz County',\n",
    "'King County',\n",
    "'Franklin County',\n",
    "'Grays Harbor County',\n",
    "'Franklin County']"
   ]
  },
  {
   "cell_type": "code",
   "execution_count": 7,
   "metadata": {},
   "outputs": [
    {
     "data": {
      "text/plain": [
       "King County            15\n",
       "Clark County           12\n",
       "Snohomish County        8\n",
       "Franklin County         7\n",
       "Pierce County           4\n",
       "Cowlitz County          3\n",
       "Lewis County            2\n",
       "Skagit County           2\n",
       "Grays Harbor County     2\n",
       "Thurston County         1\n",
       "Kitsap County           1\n",
       "Whatcom County          1\n",
       "dtype: int64"
      ]
     },
     "execution_count": 7,
     "metadata": {},
     "output_type": "execute_result"
    }
   ],
   "source": [
    "pd.Series(data).value_counts()"
   ]
  },
  {
   "cell_type": "code",
   "execution_count": null,
   "metadata": {},
   "outputs": [],
   "source": []
  }
 ],
 "metadata": {
  "kernelspec": {
   "display_name": "Python 3",
   "language": "python",
   "name": "python3"
  },
  "language_info": {
   "codemirror_mode": {
    "name": "ipython",
    "version": 3
   },
   "file_extension": ".py",
   "mimetype": "text/x-python",
   "name": "python",
   "nbconvert_exporter": "python",
   "pygments_lexer": "ipython3",
   "version": "3.7.2"
  }
 },
 "nbformat": 4,
 "nbformat_minor": 2
}
