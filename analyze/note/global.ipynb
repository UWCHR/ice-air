{
 "cells": [
  {
   "cell_type": "code",
   "execution_count": 94,
   "metadata": {},
   "outputs": [],
   "source": [
    "import numpy as np\n",
    "import pandas as pd\n",
    "import yaml\n",
    "import matplotlib.pyplot as plt\n",
    "import matplotlib.mlab as mlab\n",
    "import seaborn as sns"
   ]
  },
  {
   "cell_type": "markdown",
   "metadata": {},
   "source": [
    "# Import\n",
    "\n",
    "First we open a file containing a dictionary of columns and associated data types generated in `../../optimize/`, then we read input file."
   ]
  },
  {
   "cell_type": "code",
   "execution_count": 95,
   "metadata": {},
   "outputs": [
    {
     "name": "stdout",
     "output_type": "stream",
     "text": [
      "<class 'pandas.core.frame.DataFrame'>\n",
      "RangeIndex: 1763020 entries, 0 to 1763019\n",
      "Data columns (total 44 columns):\n",
      "Status                  category\n",
      "Sex                     category\n",
      "Convictions             category\n",
      "GangMember              category\n",
      "ClassLvl                float32\n",
      "Age                     float32\n",
      "MissionDate             datetime64[ns]\n",
      "MissionNumber           uint32\n",
      "PULOC                   category\n",
      "DropLoc                 category\n",
      "StrikeFromList          float32\n",
      "ReasonStruck            category\n",
      "R-T                     category\n",
      "Code                    category\n",
      "CountryOfCitizenship    category\n",
      "Juvenile                bool\n",
      "MissionWeek             uint8\n",
      "MissionQuarter          uint8\n",
      "MissionYear             uint16\n",
      "MissionMonth            uint8\n",
      "Criminality             category\n",
      "FamilyUnitFlag          float32\n",
      "UnaccompaniedFlag       float32\n",
      "AlienMasterID           uint32\n",
      "MissionID               uint16\n",
      "air_AirportID           float32\n",
      "air_AirportName         category\n",
      "air_City                category\n",
      "st_StateID              float32\n",
      "st_StateAbbr            category\n",
      "AOR_AORID               float32\n",
      "AOR_AOR                 category\n",
      "AOR_AORName             category\n",
      "air_Country             category\n",
      "air2_AirportID          float32\n",
      "air2_AirportName        category\n",
      "air2_City               category\n",
      "st2_StateID             float32\n",
      "st2_StateAbbr           category\n",
      "aor2_AORID              float32\n",
      "aor2_AOR                category\n",
      "aor2_AORName            category\n",
      "air2_Country            category\n",
      "NonCriminal             bool\n",
      "dtypes: bool(2), category(23), datetime64[ns](1), float32(11), uint16(2), uint32(2), uint8(3)\n",
      "memory usage: 168.4 MB\n"
     ]
    }
   ],
   "source": [
    "with open('../input/dtypes.yaml', 'r') as yamlfile:\n",
    "    column_types = yaml.load(yamlfile)\n",
    "\n",
    "read_csv_opts = {'sep': '|',\n",
    "                 'quotechar': '\"',\n",
    "                 'compression': 'gzip',\n",
    "                 'encoding': 'utf-8',\n",
    "                 'dtype': column_types,\n",
    "                 'parse_dates': ['MissionDate'],\n",
    "                 'infer_datetime_format': True}\n",
    "\n",
    "df = pd.read_csv('../input/ice-air.csv.gz', **read_csv_opts)\n",
    "\n",
    "df.info(memory_usage='deep')"
   ]
  },
  {
   "cell_type": "code",
   "execution_count": 96,
   "metadata": {},
   "outputs": [
    {
     "data": {
      "text/html": [
       "<div>\n",
       "<style scoped>\n",
       "    .dataframe tbody tr th:only-of-type {\n",
       "        vertical-align: middle;\n",
       "    }\n",
       "\n",
       "    .dataframe tbody tr th {\n",
       "        vertical-align: top;\n",
       "    }\n",
       "\n",
       "    .dataframe thead th {\n",
       "        text-align: right;\n",
       "    }\n",
       "</style>\n",
       "<table border=\"1\" class=\"dataframe\">\n",
       "  <thead>\n",
       "    <tr style=\"text-align: right;\">\n",
       "      <th></th>\n",
       "      <th>Status</th>\n",
       "      <th>Sex</th>\n",
       "      <th>Convictions</th>\n",
       "      <th>GangMember</th>\n",
       "      <th>ClassLvl</th>\n",
       "      <th>Age</th>\n",
       "      <th>MissionDate</th>\n",
       "      <th>MissionNumber</th>\n",
       "      <th>PULOC</th>\n",
       "      <th>DropLoc</th>\n",
       "      <th>...</th>\n",
       "      <th>air2_AirportID</th>\n",
       "      <th>air2_AirportName</th>\n",
       "      <th>air2_City</th>\n",
       "      <th>st2_StateID</th>\n",
       "      <th>st2_StateAbbr</th>\n",
       "      <th>aor2_AORID</th>\n",
       "      <th>aor2_AOR</th>\n",
       "      <th>aor2_AORName</th>\n",
       "      <th>air2_Country</th>\n",
       "      <th>NonCriminal</th>\n",
       "    </tr>\n",
       "  </thead>\n",
       "  <tbody>\n",
       "    <tr>\n",
       "      <th>0</th>\n",
       "      <td>REMOVAL</td>\n",
       "      <td>M</td>\n",
       "      <td>Non-Criminal</td>\n",
       "      <td>No</td>\n",
       "      <td>1.0</td>\n",
       "      <td>18.0</td>\n",
       "      <td>2010-10-01</td>\n",
       "      <td>110003</td>\n",
       "      <td>KIWA</td>\n",
       "      <td>MGGT</td>\n",
       "      <td>...</td>\n",
       "      <td>149.0</td>\n",
       "      <td>La Aurora Airport</td>\n",
       "      <td>Guatemala City</td>\n",
       "      <td>NaN</td>\n",
       "      <td>NaN</td>\n",
       "      <td>NaN</td>\n",
       "      <td>NaN</td>\n",
       "      <td>NaN</td>\n",
       "      <td>Guatemala</td>\n",
       "      <td>False</td>\n",
       "    </tr>\n",
       "    <tr>\n",
       "      <th>1</th>\n",
       "      <td>REMOVAL</td>\n",
       "      <td>M</td>\n",
       "      <td>Non-Criminal</td>\n",
       "      <td>No</td>\n",
       "      <td>1.0</td>\n",
       "      <td>38.0</td>\n",
       "      <td>2010-10-01</td>\n",
       "      <td>110003</td>\n",
       "      <td>KIWA</td>\n",
       "      <td>MGGT</td>\n",
       "      <td>...</td>\n",
       "      <td>149.0</td>\n",
       "      <td>La Aurora Airport</td>\n",
       "      <td>Guatemala City</td>\n",
       "      <td>NaN</td>\n",
       "      <td>NaN</td>\n",
       "      <td>NaN</td>\n",
       "      <td>NaN</td>\n",
       "      <td>NaN</td>\n",
       "      <td>Guatemala</td>\n",
       "      <td>False</td>\n",
       "    </tr>\n",
       "    <tr>\n",
       "      <th>2</th>\n",
       "      <td>REMOVAL</td>\n",
       "      <td>M</td>\n",
       "      <td>Non-Criminal</td>\n",
       "      <td>No</td>\n",
       "      <td>1.0</td>\n",
       "      <td>20.0</td>\n",
       "      <td>2010-10-01</td>\n",
       "      <td>110003</td>\n",
       "      <td>KIWA</td>\n",
       "      <td>MGGT</td>\n",
       "      <td>...</td>\n",
       "      <td>149.0</td>\n",
       "      <td>La Aurora Airport</td>\n",
       "      <td>Guatemala City</td>\n",
       "      <td>NaN</td>\n",
       "      <td>NaN</td>\n",
       "      <td>NaN</td>\n",
       "      <td>NaN</td>\n",
       "      <td>NaN</td>\n",
       "      <td>Guatemala</td>\n",
       "      <td>False</td>\n",
       "    </tr>\n",
       "    <tr>\n",
       "      <th>3</th>\n",
       "      <td>REMOVAL</td>\n",
       "      <td>M</td>\n",
       "      <td>Non-Criminal</td>\n",
       "      <td>No</td>\n",
       "      <td>1.0</td>\n",
       "      <td>29.0</td>\n",
       "      <td>2010-10-01</td>\n",
       "      <td>110003</td>\n",
       "      <td>KIWA</td>\n",
       "      <td>MGGT</td>\n",
       "      <td>...</td>\n",
       "      <td>149.0</td>\n",
       "      <td>La Aurora Airport</td>\n",
       "      <td>Guatemala City</td>\n",
       "      <td>NaN</td>\n",
       "      <td>NaN</td>\n",
       "      <td>NaN</td>\n",
       "      <td>NaN</td>\n",
       "      <td>NaN</td>\n",
       "      <td>Guatemala</td>\n",
       "      <td>False</td>\n",
       "    </tr>\n",
       "    <tr>\n",
       "      <th>4</th>\n",
       "      <td>REMOVAL</td>\n",
       "      <td>M</td>\n",
       "      <td>Non-Criminal</td>\n",
       "      <td>No</td>\n",
       "      <td>1.0</td>\n",
       "      <td>21.0</td>\n",
       "      <td>2010-10-01</td>\n",
       "      <td>110003</td>\n",
       "      <td>KIWA</td>\n",
       "      <td>MGGT</td>\n",
       "      <td>...</td>\n",
       "      <td>149.0</td>\n",
       "      <td>La Aurora Airport</td>\n",
       "      <td>Guatemala City</td>\n",
       "      <td>NaN</td>\n",
       "      <td>NaN</td>\n",
       "      <td>NaN</td>\n",
       "      <td>NaN</td>\n",
       "      <td>NaN</td>\n",
       "      <td>Guatemala</td>\n",
       "      <td>False</td>\n",
       "    </tr>\n",
       "  </tbody>\n",
       "</table>\n",
       "<p>5 rows × 44 columns</p>\n",
       "</div>"
      ],
      "text/plain": [
       "    Status Sex   Convictions GangMember  ClassLvl   Age MissionDate  \\\n",
       "0  REMOVAL   M  Non-Criminal         No       1.0  18.0  2010-10-01   \n",
       "1  REMOVAL   M  Non-Criminal         No       1.0  38.0  2010-10-01   \n",
       "2  REMOVAL   M  Non-Criminal         No       1.0  20.0  2010-10-01   \n",
       "3  REMOVAL   M  Non-Criminal         No       1.0  29.0  2010-10-01   \n",
       "4  REMOVAL   M  Non-Criminal         No       1.0  21.0  2010-10-01   \n",
       "\n",
       "   MissionNumber PULOC DropLoc     ...       air2_AirportID  \\\n",
       "0         110003  KIWA    MGGT     ...                149.0   \n",
       "1         110003  KIWA    MGGT     ...                149.0   \n",
       "2         110003  KIWA    MGGT     ...                149.0   \n",
       "3         110003  KIWA    MGGT     ...                149.0   \n",
       "4         110003  KIWA    MGGT     ...                149.0   \n",
       "\n",
       "    air2_AirportName       air2_City st2_StateID st2_StateAbbr  aor2_AORID  \\\n",
       "0  La Aurora Airport  Guatemala City         NaN           NaN         NaN   \n",
       "1  La Aurora Airport  Guatemala City         NaN           NaN         NaN   \n",
       "2  La Aurora Airport  Guatemala City         NaN           NaN         NaN   \n",
       "3  La Aurora Airport  Guatemala City         NaN           NaN         NaN   \n",
       "4  La Aurora Airport  Guatemala City         NaN           NaN         NaN   \n",
       "\n",
       "   aor2_AOR  aor2_AORName  air2_Country  NonCriminal  \n",
       "0       NaN           NaN     Guatemala        False  \n",
       "1       NaN           NaN     Guatemala        False  \n",
       "2       NaN           NaN     Guatemala        False  \n",
       "3       NaN           NaN     Guatemala        False  \n",
       "4       NaN           NaN     Guatemala        False  \n",
       "\n",
       "[5 rows x 44 columns]"
      ]
     },
     "execution_count": 96,
     "metadata": {},
     "output_type": "execute_result"
    }
   ],
   "source": [
    "df.drop_duplicates().head()"
   ]
  },
  {
   "cell_type": "markdown",
   "metadata": {},
   "source": [
    "# Global variables"
   ]
  },
  {
   "cell_type": "markdown",
   "metadata": {},
   "source": [
    "Here we calculate top-level data on the global scope of the ICE Air dataset."
   ]
  },
  {
   "cell_type": "code",
   "execution_count": 97,
   "metadata": {},
   "outputs": [
    {
     "name": "stdout",
     "output_type": "stream",
     "text": [
      "Number of records: 1763020\n",
      "Unique AlienMasterID values: 1733555\n"
     ]
    }
   ],
   "source": [
    "pre_drop = len(df)\n",
    "df = df.drop_duplicates()\n",
    "post_drop = len(df)\n",
    "assert pre_drop == post_drop\n",
    "\n",
    "number_of_records = len(df)\n",
    "print(f'Number of records: {number_of_records}')\n",
    "\n",
    "unique_AlienMasterID = len(set(df['AlienMasterID']))\n",
    "assert sum(df['AlienMasterID'].isnull()) == 0\n",
    "print(f\"Unique AlienMasterID values: {unique_AlienMasterID}\")"
   ]
  },
  {
   "cell_type": "markdown",
   "metadata": {},
   "source": [
    "No missing values in ID fields. IDs repeat."
   ]
  },
  {
   "cell_type": "code",
   "execution_count": 98,
   "metadata": {},
   "outputs": [
    {
     "name": "stdout",
     "output_type": "stream",
     "text": [
      "Unique MissionID values: 14973\n",
      "Unique MissionNumber values: 14973\n"
     ]
    }
   ],
   "source": [
    "unique_MissionID = len(set(df['MissionID']))\n",
    "assert sum(df['MissionID'].isnull()) == 0\n",
    "print(f\"Unique MissionID values: {unique_MissionID}\")\n",
    "\n",
    "unique_MissionNumber = len(set(df['MissionNumber']))\n",
    "assert sum(df['MissionNumber'].isnull()) == 0\n",
    "print(f\"Unique MissionNumber values: {unique_MissionNumber}\")"
   ]
  },
  {
   "cell_type": "markdown",
   "metadata": {},
   "source": [
    "One to one relationship of MissionID to MissionNumber. These fields seem to be equivalent. Ordering does not affect calculations."
   ]
  },
  {
   "cell_type": "code",
   "execution_count": 99,
   "metadata": {},
   "outputs": [
    {
     "name": "stdout",
     "output_type": "stream",
     "text": [
      "41247 unique flight segments, grouped by mission and date.\n"
     ]
    }
   ],
   "source": [
    "assert sum(df.groupby(['MissionID', 'MissionNumber'])['MissionNumber'].nunique() > 1) == 0\n",
    "assert sum(df.groupby(['MissionNumber', 'MissionID'])['MissionID'].nunique() > 1) == 0\n",
    "\n",
    "missions = df.groupby(['MissionDate', 'MissionID', 'MissionNumber', 'PULOC', 'DropLoc'])\n",
    "missions_alt = df.groupby(['MissionDate', 'MissionNumber', 'MissionID',  'PULOC', 'DropLoc'])\n",
    "assert len(missions) == len(missions_alt)\n",
    "del missions_alt\n",
    "mission_segments = len(missions)\n",
    "print(f\"{mission_segments} unique flight segments, grouped by mission and date.\")"
   ]
  },
  {
   "cell_type": "markdown",
   "metadata": {},
   "source": [
    "The following is a glimpse of flight segments from the first day in the dataset, showing how flight segments are grouped by `MissionID`/`MissionNumber`. We cannot assume that a unique combination of `PULOC` and `DropLoc` on a given mission represents a specific flight path, only the pickup and dropoff locations of each passenger. Missions can include a combination of both removal (`R`) and transfer (`T`) flights.\n",
    "\n",
    "If we take ICE's Data Dictionary on its face, each `MissionID`/`MissionNumber` represents a single flight, possibly with multiple pickup and dropoff stops on its itinerary. Reconstructing the exact flight itinerary from this data may not be possible, given that there are no timestamp values below the day level, nor any other explicit indications of consecutive flight segments, other than the original ordering of the records."
   ]
  },
  {
   "cell_type": "code",
   "execution_count": 100,
   "metadata": {},
   "outputs": [
    {
     "data": {
      "text/plain": [
       "MissionDate  MissionID  MissionNumber  R-T  PULOC  DropLoc\n",
       "2010-10-01   105        110005         T    KMDT   KAEX       122\n",
       "             106        110006         R    KHRL   MGGT        67\n",
       "                                            KSAT   MGGT        37\n",
       "             107        110007         R    KAEX   MHLM        97\n",
       "             108        110008         R    KMCI   KHRL        35\n",
       "                                            KORD   KHRL        63\n",
       "                                       T    KMCI   KAEX        10\n",
       "                                            KORD   KAEX        25\n",
       "             131        110002         R    KBFL   KSAN        13\n",
       "                                            KOAK   KSAN        43\n",
       "                                       T    KBFL   KIWA         3\n",
       "                                                   KSAN         8\n",
       "                                            KOAK   KIWA        13\n",
       "                                                   KSAN         5\n",
       "                                            KSAN   KIWA        29\n",
       "Name: AlienMasterID, dtype: int64"
      ]
     },
     "execution_count": 100,
     "metadata": {},
     "output_type": "execute_result"
    }
   ],
   "source": [
    "missions_rt = df.groupby(['MissionDate', 'MissionID', 'MissionNumber', 'R-T', 'PULOC', 'DropLoc'])\n",
    "missions_rt['AlienMasterID'].nunique().head(15)"
   ]
  },
  {
   "cell_type": "code",
   "execution_count": 101,
   "metadata": {},
   "outputs": [
    {
     "name": "stdout",
     "output_type": "stream",
     "text": [
      "Earliest record: 2010-10-01 00:00:00\n",
      "Earliest record: 2018-12-05 00:00:00\n"
     ]
    }
   ],
   "source": [
    "earliest_record = df['MissionDate'].min()\n",
    "print(f'Earliest record: {earliest_record}')\n",
    "latest_record = df['MissionDate'].max()\n",
    "print(f'Earliest record: {latest_record}')"
   ]
  },
  {
   "cell_type": "code",
   "execution_count": 102,
   "metadata": {},
   "outputs": [
    {
     "name": "stdout",
     "output_type": "stream",
     "text": [
      "Number of pickup airports: 83\n",
      "Number of dropoff airports: 206\n"
     ]
    }
   ],
   "source": [
    "number_of_pickup_airports = len(set(df['PULOC'].dropna()))\n",
    "number_of_dropoff_airports = len(set(df['DropLoc'].dropna()))\n",
    "print(f'Number of pickup airports: {number_of_pickup_airports}')\n",
    "print(f'Number of dropoff airports: {number_of_dropoff_airports}')"
   ]
  },
  {
   "cell_type": "markdown",
   "metadata": {},
   "source": [
    "The number of unique pickup and dropoff airports represented in the dataset per year can be interpreted as a metric for the expansion of the ICE Air network over time."
   ]
  },
  {
   "cell_type": "code",
   "execution_count": 103,
   "metadata": {},
   "outputs": [],
   "source": [
    "droplocs_per_fy = df.resample('AS-OCT', on='MissionDate')['DropLoc']\n",
    "pulocs_per_fy = df.resample('AS-OCT', on='MissionDate')['PULOC']"
   ]
  },
  {
   "cell_type": "code",
   "execution_count": 104,
   "metadata": {},
   "outputs": [
    {
     "data": {
      "text/html": [
       "<div>\n",
       "<style scoped>\n",
       "    .dataframe tbody tr th:only-of-type {\n",
       "        vertical-align: middle;\n",
       "    }\n",
       "\n",
       "    .dataframe tbody tr th {\n",
       "        vertical-align: top;\n",
       "    }\n",
       "\n",
       "    .dataframe thead th {\n",
       "        text-align: right;\n",
       "    }\n",
       "</style>\n",
       "<table border=\"1\" class=\"dataframe\">\n",
       "  <thead>\n",
       "    <tr style=\"text-align: right;\">\n",
       "      <th></th>\n",
       "      <th>Unique Pickup Airports</th>\n",
       "      <th>Unique Dropoff Airports</th>\n",
       "    </tr>\n",
       "    <tr>\n",
       "      <th>FY</th>\n",
       "      <th></th>\n",
       "      <th></th>\n",
       "    </tr>\n",
       "  </thead>\n",
       "  <tbody>\n",
       "    <tr>\n",
       "      <th>2011</th>\n",
       "      <td>41</td>\n",
       "      <td>69</td>\n",
       "    </tr>\n",
       "    <tr>\n",
       "      <th>2012</th>\n",
       "      <td>45</td>\n",
       "      <td>78</td>\n",
       "    </tr>\n",
       "    <tr>\n",
       "      <th>2013</th>\n",
       "      <td>46</td>\n",
       "      <td>48</td>\n",
       "    </tr>\n",
       "    <tr>\n",
       "      <th>2014</th>\n",
       "      <td>41</td>\n",
       "      <td>62</td>\n",
       "    </tr>\n",
       "    <tr>\n",
       "      <th>2015</th>\n",
       "      <td>36</td>\n",
       "      <td>60</td>\n",
       "    </tr>\n",
       "    <tr>\n",
       "      <th>2016</th>\n",
       "      <td>39</td>\n",
       "      <td>87</td>\n",
       "    </tr>\n",
       "    <tr>\n",
       "      <th>2017</th>\n",
       "      <td>40</td>\n",
       "      <td>85</td>\n",
       "    </tr>\n",
       "    <tr>\n",
       "      <th>2018</th>\n",
       "      <td>41</td>\n",
       "      <td>108</td>\n",
       "    </tr>\n",
       "    <tr>\n",
       "      <th>2019</th>\n",
       "      <td>31</td>\n",
       "      <td>52</td>\n",
       "    </tr>\n",
       "  </tbody>\n",
       "</table>\n",
       "</div>"
      ],
      "text/plain": [
       "      Unique Pickup Airports  Unique Dropoff Airports\n",
       "FY                                                   \n",
       "2011                      41                       69\n",
       "2012                      45                       78\n",
       "2013                      46                       48\n",
       "2014                      41                       62\n",
       "2015                      36                       60\n",
       "2016                      39                       87\n",
       "2017                      40                       85\n",
       "2018                      41                      108\n",
       "2019                      31                       52"
      ]
     },
     "execution_count": 104,
     "metadata": {},
     "output_type": "execute_result"
    }
   ],
   "source": [
    "unique_droplocs = droplocs_per_fy.nunique()\n",
    "unique_pulocs = pulocs_per_fy.nunique()\n",
    "expansion = pd.DataFrame({'Unique Pickup Airports': unique_pulocs, 'Unique Dropoff Airports': unique_droplocs})\n",
    "expansion.index = expansion.index.year + 1\n",
    "expansion.index.name = 'FY'\n",
    "# expansion.to_csv('../output/iceair-expansion.csv')\n",
    "expansion"
   ]
  },
  {
   "cell_type": "markdown",
   "metadata": {},
   "source": [
    "Or we could look at cumulative growth of network:"
   ]
  },
  {
   "cell_type": "code",
   "execution_count": 105,
   "metadata": {},
   "outputs": [],
   "source": [
    "# We could probably combine these two operations by moving them to a function.\n",
    "droplocs = set()\n",
    "droploc_growth = []\n",
    "droploc_count = droplocs_per_fy.value_counts().unstack()\n",
    "for year in droploc_count.index.year:\n",
    "    year_locs = droploc_count[f'{year}'].dropna(axis=1).columns.tolist()\n",
    "    droplocs.update(year_locs)\n",
    "    droploc_growth.append(len(droplocs))\n",
    "    \n",
    "pulocs = set()\n",
    "puloc_growth = []\n",
    "puloc_count = pulocs_per_fy.value_counts().unstack()\n",
    "for year in puloc_count.index.year:\n",
    "    year_locs = puloc_count[f'{year}'].dropna(axis=1).columns.tolist()\n",
    "    pulocs.update(year_locs)\n",
    "    puloc_growth.append(len(pulocs))"
   ]
  },
  {
   "cell_type": "code",
   "execution_count": 106,
   "metadata": {},
   "outputs": [
    {
     "data": {
      "text/html": [
       "<div>\n",
       "<style scoped>\n",
       "    .dataframe tbody tr th:only-of-type {\n",
       "        vertical-align: middle;\n",
       "    }\n",
       "\n",
       "    .dataframe tbody tr th {\n",
       "        vertical-align: top;\n",
       "    }\n",
       "\n",
       "    .dataframe thead th {\n",
       "        text-align: right;\n",
       "    }\n",
       "</style>\n",
       "<table border=\"1\" class=\"dataframe\">\n",
       "  <thead>\n",
       "    <tr style=\"text-align: right;\">\n",
       "      <th></th>\n",
       "      <th>Growth of Pickup Airports</th>\n",
       "      <th>Growth of Dropoff Airports</th>\n",
       "    </tr>\n",
       "    <tr>\n",
       "      <th>FY</th>\n",
       "      <th></th>\n",
       "      <th></th>\n",
       "    </tr>\n",
       "  </thead>\n",
       "  <tbody>\n",
       "    <tr>\n",
       "      <th>2011</th>\n",
       "      <td>41</td>\n",
       "      <td>69</td>\n",
       "    </tr>\n",
       "    <tr>\n",
       "      <th>2012</th>\n",
       "      <td>52</td>\n",
       "      <td>100</td>\n",
       "    </tr>\n",
       "    <tr>\n",
       "      <th>2013</th>\n",
       "      <td>61</td>\n",
       "      <td>105</td>\n",
       "    </tr>\n",
       "    <tr>\n",
       "      <th>2014</th>\n",
       "      <td>68</td>\n",
       "      <td>120</td>\n",
       "    </tr>\n",
       "    <tr>\n",
       "      <th>2015</th>\n",
       "      <td>70</td>\n",
       "      <td>135</td>\n",
       "    </tr>\n",
       "    <tr>\n",
       "      <th>2016</th>\n",
       "      <td>75</td>\n",
       "      <td>161</td>\n",
       "    </tr>\n",
       "    <tr>\n",
       "      <th>2017</th>\n",
       "      <td>79</td>\n",
       "      <td>183</td>\n",
       "    </tr>\n",
       "    <tr>\n",
       "      <th>2018</th>\n",
       "      <td>83</td>\n",
       "      <td>205</td>\n",
       "    </tr>\n",
       "    <tr>\n",
       "      <th>2019</th>\n",
       "      <td>83</td>\n",
       "      <td>206</td>\n",
       "    </tr>\n",
       "  </tbody>\n",
       "</table>\n",
       "</div>"
      ],
      "text/plain": [
       "      Growth of Pickup Airports  Growth of Dropoff Airports\n",
       "FY                                                         \n",
       "2011                         41                          69\n",
       "2012                         52                         100\n",
       "2013                         61                         105\n",
       "2014                         68                         120\n",
       "2015                         70                         135\n",
       "2016                         75                         161\n",
       "2017                         79                         183\n",
       "2018                         83                         205\n",
       "2019                         83                         206"
      ]
     },
     "execution_count": 106,
     "metadata": {},
     "output_type": "execute_result"
    }
   ],
   "source": [
    "growth = pd.DataFrame({'Growth of Pickup Airports': puloc_growth, 'Growth of Dropoff Airports': droploc_growth})\n",
    "growth.index = droploc_count.index.year + 1\n",
    "growth.index.name = 'FY'\n",
    "growth"
   ]
  },
  {
   "cell_type": "markdown",
   "metadata": {},
   "source": [
    "# Most common pickup, dropoff airports"
   ]
  },
  {
   "cell_type": "markdown",
   "metadata": {},
   "source": [
    "By unique `AlienMasterID` values:"
   ]
  },
  {
   "cell_type": "code",
   "execution_count": 107,
   "metadata": {},
   "outputs": [
    {
     "data": {
      "text/plain": [
       "Alexandria International Airport                        239903\n",
       "Brownsville South Padre Island International Airport    204895\n",
       "Phoenix-Mesa-Gateway Airport                            196139\n",
       "El Paso International Airport                           136127\n",
       "Valley International Airport                            125101\n",
       "San Antonio International Airport                       107434\n",
       "Columbus Metropolitan Airport                            80797\n",
       "Harrisburg International Airport                         76348\n",
       "Laredo International Airport                             56409\n",
       "Miami International Airport                              55588\n",
       "Name: air_AirportName, dtype: int64"
      ]
     },
     "execution_count": 107,
     "metadata": {},
     "output_type": "execute_result"
    }
   ],
   "source": [
    "df.drop_duplicates('AlienMasterID')['air_AirportName'].value_counts().head(10)"
   ]
  },
  {
   "cell_type": "code",
   "execution_count": 108,
   "metadata": {},
   "outputs": [
    {
     "data": {
      "text/plain": [
       "La Aurora Airport                                       327010\n",
       "Ramon Villeda Morales International Airport             202955\n",
       "Alexandria International Airport                        169316\n",
       "El Salvador International Airport                       157773\n",
       "Valley International Airport                            148700\n",
       "Phoenix-Mesa-Gateway Airport                             93892\n",
       "El Paso International Airport                            87186\n",
       "Licenciado Benito Juarez International Airport           85584\n",
       "Brownsville South Padre Island International Airport     66444\n",
       "San Diego International Airport                          62943\n",
       "Name: air2_AirportName, dtype: int64"
      ]
     },
     "execution_count": 108,
     "metadata": {},
     "output_type": "execute_result"
    }
   ],
   "source": [
    "df.drop_duplicates('AlienMasterID')['air2_AirportName'].value_counts().head(10)"
   ]
  },
  {
   "cell_type": "markdown",
   "metadata": {},
   "source": [
    "By unique `MissionID` values, an estimate of total number of flights (dropping duplicate date and mission values doesn't change calculation):"
   ]
  },
  {
   "cell_type": "code",
   "execution_count": 109,
   "metadata": {},
   "outputs": [
    {
     "data": {
      "text/plain": [
       "Phoenix-Mesa-Gateway Airport                            3183\n",
       "Alexandria International Airport                        3040\n",
       "Brownsville South Padre Island International Airport    1550\n",
       "San Antonio International Airport                       1475\n",
       "Miami International Airport                             1051\n",
       "Valley International Airport                             901\n",
       "El Paso International Airport                            750\n",
       "Columbus Metropolitan Airport                            369\n",
       "Laredo International Airport                             279\n",
       "Harrisburg International Airport                         259\n",
       "Name: air_AirportName, dtype: int64"
      ]
     },
     "execution_count": 109,
     "metadata": {},
     "output_type": "execute_result"
    }
   ],
   "source": [
    "count1 = df.drop_duplicates('MissionID')['air_AirportName'].value_counts()\n",
    "count2 = df.drop_duplicates(['MissionDate', 'MissionID'])['air_AirportName'].value_counts()\n",
    "assert sum(count1 == count2) == len(count1)\n",
    "del count1, count2\n",
    "df.drop_duplicates('MissionID')['air_AirportName'].value_counts().head(10)"
   ]
  },
  {
   "cell_type": "code",
   "execution_count": 110,
   "metadata": {},
   "outputs": [
    {
     "data": {
      "text/plain": [
       "La Aurora Airport                                 2924\n",
       "Ramon Villeda Morales International Airport       1734\n",
       "El Salvador International Airport                 1420\n",
       "Alexandria International Airport                   943\n",
       "Valley International Airport                       928\n",
       "Licenciado Benito Juarez International Airport     642\n",
       "San Diego International Airport                    623\n",
       "El Paso International Airport                      523\n",
       "Newark Liberty International Airport               403\n",
       "Harrisburg International Airport                   391\n",
       "Name: air2_AirportName, dtype: int64"
      ]
     },
     "execution_count": 110,
     "metadata": {},
     "output_type": "execute_result"
    }
   ],
   "source": [
    "count1 = df.drop_duplicates('MissionID')['air2_AirportName'].value_counts()\n",
    "count2 = df.drop_duplicates(['MissionDate', 'MissionID'])['air2_AirportName'].value_counts()\n",
    "assert sum(count1 == count2) == len(count1)\n",
    "del count1, count2\n",
    "df.drop_duplicates('MissionID')['air2_AirportName'].value_counts().head(10)"
   ]
  },
  {
   "cell_type": "code",
   "execution_count": 111,
   "metadata": {},
   "outputs": [
    {
     "name": "stdout",
     "output_type": "stream",
     "text": [
      "Number of pickup countries: 10\n",
      "Number of dropoff countries: 119\n",
      "Total countries in ICE Air network (including US): 119\n"
     ]
    }
   ],
   "source": [
    "pickup_countries = set(df['air_Country'].dropna())\n",
    "print(f'Number of pickup countries: {len(pickup_countries)}')\n",
    "dropoff_countries = set(df['air2_Country'].dropna())\n",
    "print(f'Number of dropoff countries: {len(dropoff_countries)}')\n",
    "all_countries = pickup_countries.union(dropoff_countries)\n",
    "print(f'Total countries in ICE Air network (including US): {len(dropoff_countries)}')"
   ]
  },
  {
   "cell_type": "markdown",
   "metadata": {},
   "source": [
    "Top nationalities:"
   ]
  },
  {
   "cell_type": "code",
   "execution_count": 112,
   "metadata": {},
   "outputs": [
    {
     "data": {
      "text/plain": [
       "MEXICO                568039\n",
       "GUATEMALA             421411\n",
       "HONDURAS              304685\n",
       "EL SALVADOR           256834\n",
       "DOMINICAN REPUBLIC     31704\n",
       "ECUADOR                25688\n",
       "HAITI                  23308\n",
       "NICARAGUA              18679\n",
       "COLOMBIA               14520\n",
       "JAMAICA                12800\n",
       "Name: CountryOfCitizenship, dtype: int64"
      ]
     },
     "execution_count": 112,
     "metadata": {},
     "output_type": "execute_result"
    }
   ],
   "source": [
    "df.drop_duplicates(subset='AlienMasterID')['CountryOfCitizenship'].value_counts().head(10)"
   ]
  },
  {
   "cell_type": "code",
   "execution_count": 113,
   "metadata": {},
   "outputs": [],
   "source": [
    "removals = df['R-T'] == 'R'\n",
    "transfers = df['R-T'] == 'T'\n",
    "\n",
    "removal_df = df[removals]\n",
    "transfer_df = df[transfers]"
   ]
  },
  {
   "cell_type": "markdown",
   "metadata": {},
   "source": [
    "Top nationalities for removals:"
   ]
  },
  {
   "cell_type": "code",
   "execution_count": 114,
   "metadata": {},
   "outputs": [
    {
     "data": {
      "text/plain": [
       "MEXICO                466455\n",
       "GUATEMALA             326783\n",
       "HONDURAS              223902\n",
       "EL SALVADOR           157540\n",
       "DOMINICAN REPUBLIC     14879\n",
       "ECUADOR                 9970\n",
       "HAITI                   8685\n",
       "NICARAGUA               8217\n",
       "COLOMBIA                7372\n",
       "JAMAICA                 6169\n",
       "Name: CountryOfCitizenship, dtype: int64"
      ]
     },
     "execution_count": 114,
     "metadata": {},
     "output_type": "execute_result"
    }
   ],
   "source": [
    "removal_df.drop_duplicates(subset='AlienMasterID')['CountryOfCitizenship'].value_counts().head(10)"
   ]
  },
  {
   "cell_type": "markdown",
   "metadata": {},
   "source": [
    "Top nationalities for transfers:"
   ]
  },
  {
   "cell_type": "code",
   "execution_count": 115,
   "metadata": {},
   "outputs": [
    {
     "data": {
      "text/plain": [
       "MEXICO                101583\n",
       "EL SALVADOR            99294\n",
       "GUATEMALA              94628\n",
       "HONDURAS               80770\n",
       "DOMINICAN REPUBLIC     16825\n",
       "ECUADOR                15717\n",
       "HAITI                  14623\n",
       "NICARAGUA              10462\n",
       "INDIA                   8557\n",
       "COLOMBIA                7148\n",
       "Name: CountryOfCitizenship, dtype: int64"
      ]
     },
     "execution_count": 115,
     "metadata": {},
     "output_type": "execute_result"
    }
   ],
   "source": [
    "transfer_df.drop_duplicates(subset='AlienMasterID')['CountryOfCitizenship'].value_counts().head(10)"
   ]
  },
  {
   "cell_type": "markdown",
   "metadata": {},
   "source": [
    "# Status"
   ]
  },
  {
   "cell_type": "code",
   "execution_count": 116,
   "metadata": {},
   "outputs": [],
   "source": [
    "status_count = removal_df.drop_duplicates(subset='AlienMasterID')['Status'].str.upper().value_counts()"
   ]
  },
  {
   "cell_type": "code",
   "execution_count": 117,
   "metadata": {},
   "outputs": [],
   "source": [
    "status = pd.read_csv('../../share/resources/status.csv')"
   ]
  },
  {
   "cell_type": "code",
   "execution_count": 118,
   "metadata": {},
   "outputs": [],
   "source": [
    "valid_status_codes = list(status['Code'])"
   ]
  },
  {
   "cell_type": "code",
   "execution_count": 119,
   "metadata": {},
   "outputs": [],
   "source": [
    "status_dict = dict(zip(status['Code'], status['Status']))"
   ]
  },
  {
   "cell_type": "code",
   "execution_count": 120,
   "metadata": {},
   "outputs": [],
   "source": [
    "problematic = ['2A', '2B', '5C', '5D', '5F', '8D']"
   ]
  },
  {
   "cell_type": "code",
   "execution_count": 121,
   "metadata": {},
   "outputs": [
    {
     "name": "stdout",
     "output_type": "stream",
     "text": [
      "ICE Air - All removals\n",
      "\n",
      "ICE status codes for passengers on direct removal flights.\n",
      "(Statuses which may raise due process concerns starred)\n",
      "\n",
      "670733 valid values.\n",
      "592913 invalid values.\n",
      "\n",
      "[1A]: 1324 (Voluntary Departure – Un-Expired and Un-Extended Voluntary Departure.)\n",
      "[1B]: 284 (Voluntary Departure - Extended Departure Period)\n",
      "[1C]: 8 (Exipred Voluntary Departure Period - Referred to Investigation)\n",
      "[2A]: *2224* (Deportable – Under Adjudication by IJ)\n",
      "[2B]: *96* (Deportable – Under Adjudication by BIA)\n",
      "[3]: 18669 (Deportable – Administratively Final Order)\n",
      "[5A]: 14 (Referred for Investigation - No Show for Hearing - No Final O...)\n",
      "[5B]: 797 (Removable – ICE Fugitive)\n",
      "[5C]: *16* (Relief Granted – Withholding of Deportation/Removal)\n",
      "[5D]: *86* (Final Order of Deportation/Removal – Deferred Action Granted.)\n",
      "[5E]: 32 (Relief Granted – Extended Voluntary Departure)\n",
      "[5F]: *57* (Unable to Obtain Travel Document)\n",
      "[8A]: 1489 (Excludable/Inadmissible – Hearing Not Commenced)\n",
      "[8B]: 4080 (Excludable/Inadmissible – Under Adjudication by an Immigration Judge.)\n",
      "[8C]: 116844 (Excludable/Inadmissible – Administrative Final Order Issued.)\n",
      "[8D]: *190* (Excludable/Inadmissible – Under Adjudication by BIA)\n",
      "[8E]: 3842 (Inadmissible – ICE Fugitive)\n",
      "[8F]: 195507 (Expedited Removal)\n",
      "[8G]: 45640 (Expedited Removal – Credible Fear Referral)\n",
      "[8H]: 2131 (Expedited Removal – Status Claim Referral)\n",
      "[8I]: 781 (Inadmissible – ICE Fugitive – Expedited Removal)\n",
      "[9]: 2599 (VR Under Safeguards)\n",
      "[10]: 105 (Visa Waiver Deportation/Removal)\n",
      "[11]: 18747 (Administrative Deportation/Removal)\n",
      "[12]: 3038 (Judicial Deportation / Removal)\n",
      "[13]: 18 (Section 250 Removal)\n",
      "[14]: 71 (Crewman, Stowaways, S-Visa Holders, 235 (c) cases)\n",
      "[15]: 85 (Terrorist Court Case (Title 5))\n",
      "[16]: 251912 (Reinstated Final Order)\n",
      "\n",
      "2669 problematic cases.\n"
     ]
    }
   ],
   "source": [
    "problematic_count = 0\n",
    "valid = removal_df['Status'].str.upper().isin(valid_status_codes)\n",
    "valid_count = sum(valid)\n",
    "invalid = ~removal_df['Status'].str.upper().isin(valid_status_codes)\n",
    "invalid_count = sum(invalid)\n",
    "\n",
    "print(f'ICE Air - All removals')\n",
    "print()\n",
    "print(f'ICE status codes for passengers on direct removal flights.')\n",
    "print(f'(Statuses which may raise due process concerns starred)')\n",
    "print()\n",
    "print(f'{valid_count} valid values.')\n",
    "print(f'{invalid_count} invalid values.')\n",
    "print()\n",
    "for c in valid_status_codes:\n",
    "    \n",
    "    try:\n",
    "        count = status_count[c]\n",
    "    except KeyError:\n",
    "        count = 0\n",
    "    \n",
    "    if c in problematic:\n",
    "        problematic_count = problematic_count + count\n",
    "        print(f'[{c}]: *{count}* ({status_dict[c]})')\n",
    "    else:\n",
    "        print(f'[{c}]: {count} ({status_dict[c]})')\n",
    "print()\n",
    "print(f'{problematic_count} problematic cases.')"
   ]
  },
  {
   "cell_type": "code",
   "execution_count": 122,
   "metadata": {},
   "outputs": [],
   "source": [
    "invalid_status = df[~df['Status'].isin(valid_status_codes)]\n",
    "status_counts = invalid_status['Status'].value_counts()\n",
    "bad_statuses = list(status_counts[status_counts > 0].index)"
   ]
  },
  {
   "cell_type": "code",
   "execution_count": 123,
   "metadata": {},
   "outputs": [
    {
     "data": {
      "text/plain": [
       "REMOVAL           295613\n",
       "RM                 98776\n",
       "ER                 87709\n",
       "VR                 63147\n",
       "REINST             37125\n",
       "TRANSFER - F/O     19869\n",
       "REINSTATE          18431\n",
       "NTA-TFRD           15633\n",
       "XFO                12290\n",
       "ER-NEW             10141\n",
       "TRANSFER - NTA      9967\n",
       "ER-TRANSFER         6129\n",
       "REIN                4829\n",
       "STAGER              4771\n",
       "NTA                 3149\n",
       "NTA - TRANSFER      3113\n",
       "F/O - TRANSFER      2690\n",
       "DEPORT              2637\n",
       "VD                  2309\n",
       "TRANSFER            2174\n",
       "ER/CF               1739\n",
       "REINS               1551\n",
       "TRANSFER-NTA        1468\n",
       "F/O                 1376\n",
       "XNTA                1274\n",
       "Name: Status, dtype: int64"
      ]
     },
     "execution_count": 123,
     "metadata": {},
     "output_type": "execute_result"
    }
   ],
   "source": [
    "status_counts.head(25)"
   ]
  },
  {
   "cell_type": "markdown",
   "metadata": {},
   "source": [
    "# Removal versus transfer rates\n",
    "\n",
    "We might be interested in whether some groups are disproportionately transferred prior to removal. However, these values will be highly skewed because some groups have very few total removals, and high rate of transfer does not necessarily imply rights violations."
   ]
  },
  {
   "cell_type": "code",
   "execution_count": 124,
   "metadata": {},
   "outputs": [],
   "source": [
    "removal_count = df.loc[df['R-T'] == 'R'].drop_duplicates(subset='AlienMasterID')['CountryOfCitizenship'].value_counts()\n",
    "transfer_count =  df.loc[df['R-T'] == 'T'].drop_duplicates(subset='AlienMasterID')['CountryOfCitizenship'].value_counts()\n",
    "transfer_rate = (transfer_count / removal_count).sort_values(ascending = False)\n",
    "valid_comparisons = transfer_rate[transfer_rate != np.inf]"
   ]
  },
  {
   "cell_type": "code",
   "execution_count": 125,
   "metadata": {},
   "outputs": [],
   "source": [
    "country = \"GUATEMALA\""
   ]
  },
  {
   "cell_type": "code",
   "execution_count": 126,
   "metadata": {},
   "outputs": [
    {
     "name": "stdout",
     "output_type": "stream",
     "text": [
      "GUATEMALA: 0.29 transfers per removal (94628/326783)\n"
     ]
    }
   ],
   "source": [
    "print(f'{country}: {round(valid_comparisons[country], 3)} transfers per removal ({transfer_count[country]}/{removal_count[country]})')"
   ]
  },
  {
   "cell_type": "markdown",
   "metadata": {},
   "source": [
    "# Finding repeat `AlienMasterID` values"
   ]
  },
  {
   "cell_type": "markdown",
   "metadata": {},
   "source": [
    "Unfortunately, `AlienMasterID` values only allow us to track at maximum 2 flight segments for a given ID."
   ]
  },
  {
   "cell_type": "code",
   "execution_count": 127,
   "metadata": {},
   "outputs": [
    {
     "name": "stdout",
     "output_type": "stream",
     "text": [
      "Max AlienMasterID repeats: 2\n"
     ]
    }
   ],
   "source": [
    "count = df.groupby(['AlienMasterID']).size().reset_index(name='count')\n",
    "count.set_index('AlienMasterID', inplace=True)\n",
    "df.set_index('AlienMasterID', inplace=True)\n",
    "df = df.join(count, how='left')\n",
    "print(f\"Max AlienMasterID repeats: {df['count'].max()}\")\n",
    "more_than_one = df['count'] > 1\n",
    "multiple_alienID = df[more_than_one]\n",
    "df.reset_index(inplace=True)\n",
    "\n",
    "# multiple_alienID.to_csv('../output/multiple_alienID.csv.gz', compression='gzip', sep='|')"
   ]
  },
  {
   "cell_type": "markdown",
   "metadata": {},
   "source": [
    "# Most common, most passenger flight paths"
   ]
  },
  {
   "cell_type": "markdown",
   "metadata": {},
   "source": [
    "We can rank flight paths by number of missions or unique passengers, perhaps for calculating costs of a common flight path."
   ]
  },
  {
   "cell_type": "code",
   "execution_count": 128,
   "metadata": {},
   "outputs": [],
   "source": [
    "most_common_flight_paths = df.groupby(['PULOC','DropLoc'])['MissionID'].nunique()\n",
    "most_common_flight_path = most_common_flight_paths.idxmax()\n",
    "most_common_flight_path_count =  most_common_flight_paths[most_common_flight_path]\n",
    "most_passenger_flight_paths = df.groupby(['PULOC','DropLoc'])['AlienMasterID'].nunique()\n",
    "most_passenger_flight_path = most_passenger_flight_paths.idxmax()\n",
    "most_passenger_flight_path_count = most_passenger_flight_paths[most_passenger_flight_path]"
   ]
  },
  {
   "cell_type": "code",
   "execution_count": 129,
   "metadata": {},
   "outputs": [
    {
     "name": "stdout",
     "output_type": "stream",
     "text": [
      "Most frequent flight path: ('KOAK', 'KSAN'), 919 missions\n",
      "Flight path with most passengers: ('KBRO', 'MGGT'), 91714 passengers\n"
     ]
    }
   ],
   "source": [
    "print(f'Most frequent flight path: {most_common_flight_path}, {most_common_flight_path_count} missions')\n",
    "print(f'Flight path with most passengers: {most_passenger_flight_path}, {most_passenger_flight_path_count} passengers')"
   ]
  },
  {
   "cell_type": "code",
   "execution_count": 130,
   "metadata": {},
   "outputs": [],
   "source": [
    "most_passenger_flight_path_trips = df.groupby(['PULOC','DropLoc'])['MissionNumber'].nunique()[most_passenger_flight_path]"
   ]
  },
  {
   "cell_type": "code",
   "execution_count": 131,
   "metadata": {},
   "outputs": [],
   "source": [
    "cost_per_hour = 7785"
   ]
  },
  {
   "cell_type": "code",
   "execution_count": 132,
   "metadata": {},
   "outputs": [],
   "source": [
    "kbro_to_mggt_duration_hrs = 5"
   ]
  },
  {
   "cell_type": "code",
   "execution_count": 133,
   "metadata": {},
   "outputs": [
    {
     "data": {
      "text/plain": [
       "35694225"
      ]
     },
     "execution_count": 133,
     "metadata": {},
     "output_type": "execute_result"
    }
   ],
   "source": [
    "most_passenger_flight_path_trips * kbro_to_mggt_duration_hrs * cost_per_hour"
   ]
  },
  {
   "cell_type": "code",
   "execution_count": 134,
   "metadata": {},
   "outputs": [],
   "source": [
    "flight_path_rank = most_common_flight_paths.sort_values(ascending=False).reset_index()"
   ]
  },
  {
   "cell_type": "code",
   "execution_count": 135,
   "metadata": {},
   "outputs": [],
   "source": [
    "flight_path_cross_table = most_common_flight_paths.unstack()\n",
    "passenger_count_cross_table = most_passenger_flight_paths.unstack()"
   ]
  },
  {
   "cell_type": "markdown",
   "metadata": {},
   "source": [
    "This is probably not a super interesting way to display this info but..."
   ]
  },
  {
   "cell_type": "code",
   "execution_count": 136,
   "metadata": {},
   "outputs": [
    {
     "data": {
      "text/plain": [
       "<matplotlib.axes._subplots.AxesSubplot at 0x1a2c6936a0>"
      ]
     },
     "execution_count": 136,
     "metadata": {},
     "output_type": "execute_result"
    },
    {
     "data": {
      "image/png": "[encoded data removed]",
      "text/plain": [
       "<Figure size 432x288 with 2 Axes>"
      ]
     },
     "metadata": {
      "needs_background": "light"
     },
     "output_type": "display_data"
    }
   ],
   "source": [
    "sns.heatmap(flight_path_cross_table)"
   ]
  },
  {
   "cell_type": "markdown",
   "metadata": {},
   "source": [
    "# Trend charts"
   ]
  },
  {
   "cell_type": "markdown",
   "metadata": {},
   "source": [
    "Charts for global trends in the ICE Air dataset, starting with simple plot of total removals and transfers per fiscal year (excluding FY19):"
   ]
  },
  {
   "cell_type": "code",
   "execution_count": 137,
   "metadata": {},
   "outputs": [],
   "source": [
    "removal_df = df.loc[df['R-T'] == 'R']\n",
    "transfer_df = df.loc[df['R-T'] == 'T']\n",
    "removal_df.set_index('MissionDate', inplace=True)\n",
    "transfer_df.set_index('MissionDate', inplace=True)"
   ]
  },
  {
   "cell_type": "code",
   "execution_count": 138,
   "metadata": {},
   "outputs": [],
   "source": [
    "df.name = 'Passengers'\n",
    "removal_df.name = 'Removals'\n",
    "transfer_df.name = 'Transfers'"
   ]
  },
  {
   "cell_type": "code",
   "execution_count": 139,
   "metadata": {},
   "outputs": [],
   "source": [
    "annual_removals = removal_df['AlienMasterID'].resample('AS-OCT').nunique().rename('Total removals', inplace=True)\n",
    "annual_transfers = transfer_df['AlienMasterID'].resample('AS-OCT').nunique().rename('Total transfers', inplace=True)\n",
    "annual_removal_flights = removal_df['MissionID'].resample('AS-OCT').nunique()\n",
    "annual_transfer_flights = transfer_df['MissionID'].resample('AS-OCT').nunique()"
   ]
  },
  {
   "cell_type": "code",
   "execution_count": 140,
   "metadata": {},
   "outputs": [
    {
     "data": {
      "text/plain": [
       "MissionDate\n",
       "2010-10-01    45175\n",
       "2011-10-01    58528\n",
       "2012-10-01    68065\n",
       "2013-10-01    82989\n",
       "2014-10-01    48392\n",
       "2015-10-01    61352\n",
       "2016-10-01    64097\n",
       "2017-10-01    58355\n",
       "2018-10-01    12018\n",
       "Freq: AS-OCT, Name: Total transfers, dtype: int64"
      ]
     },
     "execution_count": 140,
     "metadata": {},
     "output_type": "execute_result"
    }
   ],
   "source": [
    "annual_transfers"
   ]
  },
  {
   "cell_type": "code",
   "execution_count": 141,
   "metadata": {},
   "outputs": [
    {
     "data": {
      "image/png": "[encoded data removed]",
      "text/plain": [
       "<Figure size 720x576 with 1 Axes>"
      ]
     },
     "metadata": {
      "needs_background": "light"
     },
     "output_type": "display_data"
    }
   ],
   "source": [
    "def pickup_dropoff_trend(data):\n",
    "    \n",
    "    fig, ax = plt.subplots()\n",
    "    \n",
    "    for datum in data:\n",
    "        ax = datum.plot(style='o-', legend=True)\n",
    "    \n",
    "    ax.set_ylabel('Number of Passengers', fontsize=16)\n",
    "    ax.set_ylim(0)\n",
    "    ax.set_xticklabels([f'FY{str(x)[2:4]}' for x in range(2010,2019)])\n",
    "    ax.set_xlabel('Fiscal Year', fontsize=16)\n",
    "    ax.set_title(f'ICE Air Global Trends', fontsize=18)\n",
    "    ax.tick_params(labelsize=14)\n",
    "    ax.legend(fontsize=14)\n",
    "    \n",
    "    fig.set_size_inches(10, 8)\n",
    "    fig.savefig(f'../output/ICE-Air-Global-Trends.png', dpi=100)\n",
    "    return fig, ax\n",
    "\n",
    "plot = pickup_dropoff_trend([annual_removals['2010':'2017'], annual_transfers['2010':'2017']]);"
   ]
  },
  {
   "cell_type": "markdown",
   "metadata": {},
   "source": [
    "# Charts of nationalities per year"
   ]
  },
  {
   "cell_type": "markdown",
   "metadata": {},
   "source": [
    "## Top 5 per year"
   ]
  },
  {
   "cell_type": "markdown",
   "metadata": {},
   "source": [
    "To look at removals or other variables by `CountryOfCitizenship` per fiscal year (excluding FY19), we will want to select most common values and sum the rest, in order to create a clean chart. Method below selects top 5 nationalities per year, and sums the rest as \"ALL OTHERS\".\n",
    "\n",
    "This is slightly counterintuitive, for example it creates illusion of no Dominican Republic removals in FY17. Maybe better solution would be to display for each year any nationality that is in top 5 for any given year. Alternatively, we could just plot top 5 values, or include several more over a certain threshold. Or we could plot all values for nationalities which are in the top 5 for any year."
   ]
  },
  {
   "cell_type": "code",
   "execution_count": null,
   "metadata": {},
   "outputs": [],
   "source": [
    "df.set_index('MissionDate', inplace=True)"
   ]
  },
  {
   "cell_type": "code",
   "execution_count": 166,
   "metadata": {},
   "outputs": [],
   "source": [
    "# Set DataFrame or subset to chart here. Remember to set name as well.\n",
    "df_to_analyze = removal_df\n",
    "df_to_analyze.name = removal_df.name"
   ]
  },
  {
   "cell_type": "code",
   "execution_count": 167,
   "metadata": {},
   "outputs": [],
   "source": [
    "g = df_to_analyze.groupby([pd.Grouper(freq='AS-OCT', sort=True), 'CountryOfCitizenship'])['AlienMasterID', 'MissionID'].nunique()\n",
    "country_of_citizenship_by_year = g.reset_index()\n",
    "country_of_citizenship_by_year.rename({'MissionDate': 'FY'}, axis='columns', inplace=True)\n",
    "country_of_citizenship_by_year.set_index('FY', inplace=True)\n",
    "country_of_citizenship_by_year.sort_values(by='AlienMasterID', ascending=False, inplace=True)\n",
    "\n",
    "# country_of_citizenship_by_year.to_csv(f'../output/{airport}_country_of_citizenship_by_year.csv', index=True)"
   ]
  },
  {
   "cell_type": "code",
   "execution_count": 168,
   "metadata": {},
   "outputs": [],
   "source": [
    "# Selecting only years for which we have full data (FY2011 - FY2018).\n",
    "country_of_citizenship_by_year = country_of_citizenship_by_year['2010':'2017']"
   ]
  },
  {
   "cell_type": "code",
   "execution_count": 169,
   "metadata": {},
   "outputs": [],
   "source": [
    "removal_nationality_by_year = country_of_citizenship_by_year.groupby([pd.Grouper(freq='AS-OCT'),'CountryOfCitizenship'])[['AlienMasterID']].sum().dropna(how='all',axis=0).unstack()\n",
    "# removal_nationality_by_year.to_csv(f'../output/removal_nationality_by_year.csv')"
   ]
  },
  {
   "cell_type": "code",
   "execution_count": 170,
   "metadata": {},
   "outputs": [
    {
     "data": {
      "text/html": [
       "<div>\n",
       "<style scoped>\n",
       "    .dataframe tbody tr th:only-of-type {\n",
       "        vertical-align: middle;\n",
       "    }\n",
       "\n",
       "    .dataframe tbody tr th {\n",
       "        vertical-align: top;\n",
       "    }\n",
       "\n",
       "    .dataframe thead tr th {\n",
       "        text-align: left;\n",
       "    }\n",
       "\n",
       "    .dataframe thead tr:last-of-type th {\n",
       "        text-align: right;\n",
       "    }\n",
       "</style>\n",
       "<table border=\"1\" class=\"dataframe\">\n",
       "  <thead>\n",
       "    <tr>\n",
       "      <th></th>\n",
       "      <th colspan=\"21\" halign=\"left\">AlienMasterID</th>\n",
       "    </tr>\n",
       "    <tr>\n",
       "      <th>CountryOfCitizenship</th>\n",
       "      <th>BRAZIL</th>\n",
       "      <th>CAMEROON</th>\n",
       "      <th>CAPE VERDE</th>\n",
       "      <th>CHINA</th>\n",
       "      <th>COLOMBIA</th>\n",
       "      <th>CUBA</th>\n",
       "      <th>DOMINICAN REPUBLIC</th>\n",
       "      <th>ECUADOR</th>\n",
       "      <th>EL SALVADOR</th>\n",
       "      <th>GHANA</th>\n",
       "      <th>...</th>\n",
       "      <th>SOUTH AFRICA</th>\n",
       "      <th>ST. LUCIA</th>\n",
       "      <th>BURKINA FASO</th>\n",
       "      <th>SOUTH SUDAN</th>\n",
       "      <th>ANTIGUA &amp; BARBUDA</th>\n",
       "      <th>BURMA</th>\n",
       "      <th>SAMOA</th>\n",
       "      <th>UNITED ARAB EMIRATES</th>\n",
       "      <th>PALESTINIAN</th>\n",
       "      <th>NAMIBIA</th>\n",
       "    </tr>\n",
       "    <tr>\n",
       "      <th>FY</th>\n",
       "      <th></th>\n",
       "      <th></th>\n",
       "      <th></th>\n",
       "      <th></th>\n",
       "      <th></th>\n",
       "      <th></th>\n",
       "      <th></th>\n",
       "      <th></th>\n",
       "      <th></th>\n",
       "      <th></th>\n",
       "      <th></th>\n",
       "      <th></th>\n",
       "      <th></th>\n",
       "      <th></th>\n",
       "      <th></th>\n",
       "      <th></th>\n",
       "      <th></th>\n",
       "      <th></th>\n",
       "      <th></th>\n",
       "      <th></th>\n",
       "      <th></th>\n",
       "    </tr>\n",
       "  </thead>\n",
       "  <tbody>\n",
       "    <tr>\n",
       "      <th>2010-10-01</th>\n",
       "      <td>1.0</td>\n",
       "      <td>2.0</td>\n",
       "      <td>4.0</td>\n",
       "      <td>6.0</td>\n",
       "      <td>1059.0</td>\n",
       "      <td>31.0</td>\n",
       "      <td>2343.0</td>\n",
       "      <td>1436.0</td>\n",
       "      <td>15817.0</td>\n",
       "      <td>17.0</td>\n",
       "      <td>...</td>\n",
       "      <td>NaN</td>\n",
       "      <td>NaN</td>\n",
       "      <td>NaN</td>\n",
       "      <td>NaN</td>\n",
       "      <td>NaN</td>\n",
       "      <td>NaN</td>\n",
       "      <td>NaN</td>\n",
       "      <td>NaN</td>\n",
       "      <td>NaN</td>\n",
       "      <td>NaN</td>\n",
       "    </tr>\n",
       "    <tr>\n",
       "      <th>2011-10-01</th>\n",
       "      <td>NaN</td>\n",
       "      <td>1.0</td>\n",
       "      <td>NaN</td>\n",
       "      <td>4.0</td>\n",
       "      <td>1020.0</td>\n",
       "      <td>34.0</td>\n",
       "      <td>2281.0</td>\n",
       "      <td>1595.0</td>\n",
       "      <td>18108.0</td>\n",
       "      <td>14.0</td>\n",
       "      <td>...</td>\n",
       "      <td>NaN</td>\n",
       "      <td>NaN</td>\n",
       "      <td>NaN</td>\n",
       "      <td>NaN</td>\n",
       "      <td>NaN</td>\n",
       "      <td>NaN</td>\n",
       "      <td>NaN</td>\n",
       "      <td>NaN</td>\n",
       "      <td>NaN</td>\n",
       "      <td>NaN</td>\n",
       "    </tr>\n",
       "    <tr>\n",
       "      <th>2012-10-01</th>\n",
       "      <td>NaN</td>\n",
       "      <td>NaN</td>\n",
       "      <td>NaN</td>\n",
       "      <td>NaN</td>\n",
       "      <td>943.0</td>\n",
       "      <td>16.0</td>\n",
       "      <td>1849.0</td>\n",
       "      <td>1318.0</td>\n",
       "      <td>20178.0</td>\n",
       "      <td>NaN</td>\n",
       "      <td>...</td>\n",
       "      <td>NaN</td>\n",
       "      <td>NaN</td>\n",
       "      <td>NaN</td>\n",
       "      <td>NaN</td>\n",
       "      <td>NaN</td>\n",
       "      <td>NaN</td>\n",
       "      <td>NaN</td>\n",
       "      <td>NaN</td>\n",
       "      <td>NaN</td>\n",
       "      <td>NaN</td>\n",
       "    </tr>\n",
       "    <tr>\n",
       "      <th>2013-10-01</th>\n",
       "      <td>NaN</td>\n",
       "      <td>7.0</td>\n",
       "      <td>NaN</td>\n",
       "      <td>NaN</td>\n",
       "      <td>865.0</td>\n",
       "      <td>6.0</td>\n",
       "      <td>1748.0</td>\n",
       "      <td>1377.0</td>\n",
       "      <td>26508.0</td>\n",
       "      <td>NaN</td>\n",
       "      <td>...</td>\n",
       "      <td>NaN</td>\n",
       "      <td>NaN</td>\n",
       "      <td>NaN</td>\n",
       "      <td>NaN</td>\n",
       "      <td>NaN</td>\n",
       "      <td>NaN</td>\n",
       "      <td>NaN</td>\n",
       "      <td>NaN</td>\n",
       "      <td>NaN</td>\n",
       "      <td>NaN</td>\n",
       "    </tr>\n",
       "    <tr>\n",
       "      <th>2014-10-01</th>\n",
       "      <td>NaN</td>\n",
       "      <td>9.0</td>\n",
       "      <td>NaN</td>\n",
       "      <td>16.0</td>\n",
       "      <td>847.0</td>\n",
       "      <td>16.0</td>\n",
       "      <td>1552.0</td>\n",
       "      <td>1153.0</td>\n",
       "      <td>21378.0</td>\n",
       "      <td>NaN</td>\n",
       "      <td>...</td>\n",
       "      <td>NaN</td>\n",
       "      <td>NaN</td>\n",
       "      <td>NaN</td>\n",
       "      <td>NaN</td>\n",
       "      <td>NaN</td>\n",
       "      <td>NaN</td>\n",
       "      <td>NaN</td>\n",
       "      <td>NaN</td>\n",
       "      <td>NaN</td>\n",
       "      <td>NaN</td>\n",
       "    </tr>\n",
       "    <tr>\n",
       "      <th>2015-10-01</th>\n",
       "      <td>NaN</td>\n",
       "      <td>3.0</td>\n",
       "      <td>NaN</td>\n",
       "      <td>NaN</td>\n",
       "      <td>847.0</td>\n",
       "      <td>25.0</td>\n",
       "      <td>1556.0</td>\n",
       "      <td>980.0</td>\n",
       "      <td>20089.0</td>\n",
       "      <td>17.0</td>\n",
       "      <td>...</td>\n",
       "      <td>NaN</td>\n",
       "      <td>NaN</td>\n",
       "      <td>NaN</td>\n",
       "      <td>NaN</td>\n",
       "      <td>NaN</td>\n",
       "      <td>NaN</td>\n",
       "      <td>NaN</td>\n",
       "      <td>NaN</td>\n",
       "      <td>NaN</td>\n",
       "      <td>NaN</td>\n",
       "    </tr>\n",
       "    <tr>\n",
       "      <th>2016-10-01</th>\n",
       "      <td>NaN</td>\n",
       "      <td>5.0</td>\n",
       "      <td>NaN</td>\n",
       "      <td>47.0</td>\n",
       "      <td>795.0</td>\n",
       "      <td>53.0</td>\n",
       "      <td>1696.0</td>\n",
       "      <td>929.0</td>\n",
       "      <td>17970.0</td>\n",
       "      <td>172.0</td>\n",
       "      <td>...</td>\n",
       "      <td>NaN</td>\n",
       "      <td>NaN</td>\n",
       "      <td>NaN</td>\n",
       "      <td>NaN</td>\n",
       "      <td>NaN</td>\n",
       "      <td>NaN</td>\n",
       "      <td>NaN</td>\n",
       "      <td>NaN</td>\n",
       "      <td>NaN</td>\n",
       "      <td>NaN</td>\n",
       "    </tr>\n",
       "    <tr>\n",
       "      <th>2017-10-01</th>\n",
       "      <td>8.0</td>\n",
       "      <td>13.0</td>\n",
       "      <td>7.0</td>\n",
       "      <td>93.0</td>\n",
       "      <td>866.0</td>\n",
       "      <td>255.0</td>\n",
       "      <td>1520.0</td>\n",
       "      <td>1036.0</td>\n",
       "      <td>14516.0</td>\n",
       "      <td>130.0</td>\n",
       "      <td>...</td>\n",
       "      <td>1.0</td>\n",
       "      <td>2.0</td>\n",
       "      <td>5.0</td>\n",
       "      <td>61.0</td>\n",
       "      <td>3.0</td>\n",
       "      <td>33.0</td>\n",
       "      <td>6.0</td>\n",
       "      <td>1.0</td>\n",
       "      <td>4.0</td>\n",
       "      <td>2.0</td>\n",
       "    </tr>\n",
       "  </tbody>\n",
       "</table>\n",
       "<p>8 rows × 132 columns</p>\n",
       "</div>"
      ],
      "text/plain": [
       "                     AlienMasterID                                            \\\n",
       "CountryOfCitizenship        BRAZIL CAMEROON CAPE VERDE CHINA COLOMBIA   CUBA   \n",
       "FY                                                                             \n",
       "2010-10-01                     1.0      2.0        4.0   6.0   1059.0   31.0   \n",
       "2011-10-01                     NaN      1.0        NaN   4.0   1020.0   34.0   \n",
       "2012-10-01                     NaN      NaN        NaN   NaN    943.0   16.0   \n",
       "2013-10-01                     NaN      7.0        NaN   NaN    865.0    6.0   \n",
       "2014-10-01                     NaN      9.0        NaN  16.0    847.0   16.0   \n",
       "2015-10-01                     NaN      3.0        NaN   NaN    847.0   25.0   \n",
       "2016-10-01                     NaN      5.0        NaN  47.0    795.0   53.0   \n",
       "2017-10-01                     8.0     13.0        7.0  93.0    866.0  255.0   \n",
       "\n",
       "                                                                     ...    \\\n",
       "CountryOfCitizenship DOMINICAN REPUBLIC ECUADOR EL SALVADOR  GHANA   ...     \n",
       "FY                                                                   ...     \n",
       "2010-10-01                       2343.0  1436.0     15817.0   17.0   ...     \n",
       "2011-10-01                       2281.0  1595.0     18108.0   14.0   ...     \n",
       "2012-10-01                       1849.0  1318.0     20178.0    NaN   ...     \n",
       "2013-10-01                       1748.0  1377.0     26508.0    NaN   ...     \n",
       "2014-10-01                       1552.0  1153.0     21378.0    NaN   ...     \n",
       "2015-10-01                       1556.0   980.0     20089.0   17.0   ...     \n",
       "2016-10-01                       1696.0   929.0     17970.0  172.0   ...     \n",
       "2017-10-01                       1520.0  1036.0     14516.0  130.0   ...     \n",
       "\n",
       "                                                                      \\\n",
       "CountryOfCitizenship SOUTH AFRICA ST. LUCIA BURKINA FASO SOUTH SUDAN   \n",
       "FY                                                                     \n",
       "2010-10-01                    NaN       NaN          NaN         NaN   \n",
       "2011-10-01                    NaN       NaN          NaN         NaN   \n",
       "2012-10-01                    NaN       NaN          NaN         NaN   \n",
       "2013-10-01                    NaN       NaN          NaN         NaN   \n",
       "2014-10-01                    NaN       NaN          NaN         NaN   \n",
       "2015-10-01                    NaN       NaN          NaN         NaN   \n",
       "2016-10-01                    NaN       NaN          NaN         NaN   \n",
       "2017-10-01                    1.0       2.0          5.0        61.0   \n",
       "\n",
       "                                                                         \\\n",
       "CountryOfCitizenship ANTIGUA & BARBUDA BURMA SAMOA UNITED ARAB EMIRATES   \n",
       "FY                                                                        \n",
       "2010-10-01                         NaN   NaN   NaN                  NaN   \n",
       "2011-10-01                         NaN   NaN   NaN                  NaN   \n",
       "2012-10-01                         NaN   NaN   NaN                  NaN   \n",
       "2013-10-01                         NaN   NaN   NaN                  NaN   \n",
       "2014-10-01                         NaN   NaN   NaN                  NaN   \n",
       "2015-10-01                         NaN   NaN   NaN                  NaN   \n",
       "2016-10-01                         NaN   NaN   NaN                  NaN   \n",
       "2017-10-01                         3.0  33.0   6.0                  1.0   \n",
       "\n",
       "                                          \n",
       "CountryOfCitizenship PALESTINIAN NAMIBIA  \n",
       "FY                                        \n",
       "2010-10-01                   NaN     NaN  \n",
       "2011-10-01                   NaN     NaN  \n",
       "2012-10-01                   NaN     NaN  \n",
       "2013-10-01                   NaN     NaN  \n",
       "2014-10-01                   NaN     NaN  \n",
       "2015-10-01                   NaN     NaN  \n",
       "2016-10-01                   NaN     NaN  \n",
       "2017-10-01                   4.0     2.0  \n",
       "\n",
       "[8 rows x 132 columns]"
      ]
     },
     "execution_count": 170,
     "metadata": {},
     "output_type": "execute_result"
    }
   ],
   "source": [
    "removal_nationality_by_year"
   ]
  },
  {
   "cell_type": "code",
   "execution_count": 171,
   "metadata": {},
   "outputs": [],
   "source": [
    "top_5_df = pd.DataFrame()\n",
    "\n",
    "for year in country_of_citizenship_by_year.index.unique():\n",
    "    temp = country_of_citizenship_by_year.loc[f'{year}'][['CountryOfCitizenship', 'AlienMasterID']]\n",
    "    temp_top_5 = temp[0:5]\n",
    "    if len(temp) > 5:\n",
    "        all_other_count = sum(temp['AlienMasterID'][5:])\n",
    "    else:\n",
    "        all_other_count = 0\n",
    "    other_df = pd.DataFrame([['ALL OTHERS', all_other_count]],\n",
    "                            columns=['CountryOfCitizenship',\n",
    "                                     'AlienMasterID'],\n",
    "                            index=[year])\n",
    "    temp_top_5 = temp_top_5.append(other_df)\n",
    "    top_5_df = top_5_df.append(temp_top_5)\n",
    "\n",
    "top_5_df.sort_index(inplace=True)\n",
    "top_5_df.index = [f'FY{str(x)[2:4]}' for x in top_5_df.index.year + 1]\n",
    "\n",
    "top_5_data = pd.pivot_table(data=top_5_df,\n",
    "                       index=top_5_df.index,\n",
    "                       columns='CountryOfCitizenship',\n",
    "                       values='AlienMasterID',\n",
    "                       aggfunc=np.sum,\n",
    "                       fill_value=0)"
   ]
  },
  {
   "cell_type": "code",
   "execution_count": 172,
   "metadata": {},
   "outputs": [
    {
     "data": {
      "text/html": [
       "<div>\n",
       "<style scoped>\n",
       "    .dataframe tbody tr th:only-of-type {\n",
       "        vertical-align: middle;\n",
       "    }\n",
       "\n",
       "    .dataframe tbody tr th {\n",
       "        vertical-align: top;\n",
       "    }\n",
       "\n",
       "    .dataframe thead th {\n",
       "        text-align: right;\n",
       "    }\n",
       "</style>\n",
       "<table border=\"1\" class=\"dataframe\">\n",
       "  <thead>\n",
       "    <tr style=\"text-align: right;\">\n",
       "      <th>CountryOfCitizenship</th>\n",
       "      <th>ALL OTHERS</th>\n",
       "      <th>DOMINICAN REPUBLIC</th>\n",
       "      <th>EL SALVADOR</th>\n",
       "      <th>GUATEMALA</th>\n",
       "      <th>HAITI</th>\n",
       "      <th>HONDURAS</th>\n",
       "      <th>MEXICO</th>\n",
       "    </tr>\n",
       "  </thead>\n",
       "  <tbody>\n",
       "    <tr>\n",
       "      <th>FY11</th>\n",
       "      <td>4968</td>\n",
       "      <td>2343</td>\n",
       "      <td>15817</td>\n",
       "      <td>30475</td>\n",
       "      <td>0</td>\n",
       "      <td>21183</td>\n",
       "      <td>108021</td>\n",
       "    </tr>\n",
       "    <tr>\n",
       "      <th>FY12</th>\n",
       "      <td>5480</td>\n",
       "      <td>2281</td>\n",
       "      <td>18108</td>\n",
       "      <td>38400</td>\n",
       "      <td>0</td>\n",
       "      <td>30815</td>\n",
       "      <td>110870</td>\n",
       "    </tr>\n",
       "    <tr>\n",
       "      <th>FY13</th>\n",
       "      <td>4869</td>\n",
       "      <td>1849</td>\n",
       "      <td>20178</td>\n",
       "      <td>47956</td>\n",
       "      <td>0</td>\n",
       "      <td>35759</td>\n",
       "      <td>78650</td>\n",
       "    </tr>\n",
       "    <tr>\n",
       "      <th>FY14</th>\n",
       "      <td>4720</td>\n",
       "      <td>1748</td>\n",
       "      <td>26508</td>\n",
       "      <td>54270</td>\n",
       "      <td>0</td>\n",
       "      <td>39827</td>\n",
       "      <td>39279</td>\n",
       "    </tr>\n",
       "    <tr>\n",
       "      <th>FY15</th>\n",
       "      <td>3952</td>\n",
       "      <td>1552</td>\n",
       "      <td>21378</td>\n",
       "      <td>32599</td>\n",
       "      <td>0</td>\n",
       "      <td>19613</td>\n",
       "      <td>29461</td>\n",
       "    </tr>\n",
       "    <tr>\n",
       "      <th>FY16</th>\n",
       "      <td>3881</td>\n",
       "      <td>1556</td>\n",
       "      <td>20089</td>\n",
       "      <td>32963</td>\n",
       "      <td>0</td>\n",
       "      <td>21311</td>\n",
       "      <td>27082</td>\n",
       "    </tr>\n",
       "    <tr>\n",
       "      <th>FY17</th>\n",
       "      <td>6306</td>\n",
       "      <td>0</td>\n",
       "      <td>17970</td>\n",
       "      <td>32198</td>\n",
       "      <td>5549</td>\n",
       "      <td>21241</td>\n",
       "      <td>32967</td>\n",
       "    </tr>\n",
       "    <tr>\n",
       "      <th>FY18</th>\n",
       "      <td>5973</td>\n",
       "      <td>1520</td>\n",
       "      <td>14516</td>\n",
       "      <td>48765</td>\n",
       "      <td>0</td>\n",
       "      <td>27777</td>\n",
       "      <td>34738</td>\n",
       "    </tr>\n",
       "  </tbody>\n",
       "</table>\n",
       "</div>"
      ],
      "text/plain": [
       "CountryOfCitizenship  ALL OTHERS  DOMINICAN REPUBLIC  EL SALVADOR  GUATEMALA  \\\n",
       "FY11                        4968                2343        15817      30475   \n",
       "FY12                        5480                2281        18108      38400   \n",
       "FY13                        4869                1849        20178      47956   \n",
       "FY14                        4720                1748        26508      54270   \n",
       "FY15                        3952                1552        21378      32599   \n",
       "FY16                        3881                1556        20089      32963   \n",
       "FY17                        6306                   0        17970      32198   \n",
       "FY18                        5973                1520        14516      48765   \n",
       "\n",
       "CountryOfCitizenship  HAITI  HONDURAS  MEXICO  \n",
       "FY11                      0     21183  108021  \n",
       "FY12                      0     30815  110870  \n",
       "FY13                      0     35759   78650  \n",
       "FY14                      0     39827   39279  \n",
       "FY15                      0     19613   29461  \n",
       "FY16                      0     21311   27082  \n",
       "FY17                   5549     21241   32967  \n",
       "FY18                      0     27777   34738  "
      ]
     },
     "execution_count": 172,
     "metadata": {},
     "output_type": "execute_result"
    }
   ],
   "source": [
    "# Note 0 values in this version of chart. Missing values are included in \"ALL OTHERS\" category.\n",
    "top_5_data"
   ]
  },
  {
   "cell_type": "code",
   "execution_count": 173,
   "metadata": {},
   "outputs": [],
   "source": [
    "top_5_data = top_5_data.reindex(top_5_data.sum().sort_values(ascending=False).index, axis=1)\n",
    "cols = list(top_5_data.columns)\n",
    "cols.remove('ALL OTHERS')\n",
    "cols.append('ALL OTHERS')\n",
    "top_5_data = top_5_data[cols]\n",
    "top_5_data.columns = top_5_data.columns.str.title()\n",
    "top_5_data.columns.name = 'Country of Citizenship'"
   ]
  },
  {
   "cell_type": "code",
   "execution_count": 180,
   "metadata": {},
   "outputs": [],
   "source": [
    "def country_of_citizenship_trend(data, title=str, filename=str, xlabel=str, ylabel=str):\n",
    "    \n",
    "    fig, ax = plt.subplots()\n",
    "    \n",
    "    data.plot(kind='bar', stacked=True, legend=True, ax=ax).legend(bbox_to_anchor=(1,1))\n",
    "\n",
    "    ax.set_ylabel(ylabel, fontsize=16)\n",
    "    ax.set_xlabel(xlabel, fontsize=16)\n",
    "    ax.set_title(title, fontsize=18)\n",
    "    ax.tick_params(labelsize=14)\n",
    "    plt.xticks(rotation=0)\n",
    "\n",
    "    fig.set_size_inches(10, 8)\n",
    "    fig.savefig(f'../output/{filename}.png', dpi=100)\n",
    "    return fig, ax"
   ]
  },
  {
   "cell_type": "code",
   "execution_count": 181,
   "metadata": {},
   "outputs": [
    {
     "data": {
      "image/png": "[encoded data removed]",
      "text/plain": [
       "<Figure size 720x576 with 1 Axes>"
      ]
     },
     "metadata": {
      "needs_background": "light"
     },
     "output_type": "display_data"
    }
   ],
   "source": [
    "country_of_citizenship_trend(top_5_data,\n",
    "                             title=f'ICE Air {df_to_analyze.name} by Country of Citizenship \\n (Top 5 per year)',\n",
    "                             filename=f'top5_total_deportation_nationalities_per_year',\n",
    "                             ylabel=f'Total {df_to_analyze.name}',\n",
    "                             xlabel='Fiscal Year');"
   ]
  },
  {
   "cell_type": "markdown",
   "metadata": {},
   "source": [
    "## Top 5 any year"
   ]
  },
  {
   "cell_type": "markdown",
   "metadata": {},
   "source": [
    "Here's the alternate plot showing all nationalities which break the top 5 in any year. A bit messier, but outliers are still clear (El Salvador in FY14, Haiti in FY17, India in FY18), steady trends possibly clearer (Ecuador, Dominican Republic)."
   ]
  },
  {
   "cell_type": "code",
   "execution_count": 176,
   "metadata": {},
   "outputs": [],
   "source": [
    "in_top_5 = list()\n",
    "for year in country_of_citizenship_by_year.index.unique():\n",
    "    temp = country_of_citizenship_by_year.loc[f'{year}'][['CountryOfCitizenship', 'AlienMasterID']]\n",
    "    temp_top_5 = temp[0:5]\n",
    "    in_top_5.extend(list(temp_top_5['CountryOfCitizenship']))"
   ]
  },
  {
   "cell_type": "code",
   "execution_count": 177,
   "metadata": {},
   "outputs": [],
   "source": [
    "top_5_df = pd.DataFrame()\n",
    "\n",
    "for year in country_of_citizenship_by_year.index.unique():\n",
    "    temp = country_of_citizenship_by_year.loc[f'{year}'][['CountryOfCitizenship', 'AlienMasterID']]\n",
    "    temp_top_5 = temp[temp['CountryOfCitizenship'].isin(list(set(in_top_5)))]\n",
    "    if len(temp) > 5:\n",
    "        all_others = temp[~temp['CountryOfCitizenship'].isin(list(set(in_top_5)))]\n",
    "        all_other_count = sum(all_others['AlienMasterID'])\n",
    "    else:\n",
    "        all_other_count = 0\n",
    "    other_df = pd.DataFrame([['ALL OTHERS', all_other_count]],\n",
    "                            columns=['CountryOfCitizenship',\n",
    "                                     'AlienMasterID'],\n",
    "                            index=[year])\n",
    "    temp_top_5 = temp_top_5.append(other_df)\n",
    "    top_5_df = top_5_df.append(temp_top_5)\n",
    "\n",
    "top_5_df.sort_index(inplace=True)\n",
    "top_5_df.index = [f'FY{str(x)[2:4]}' for x in top_5_df.index.year + 1]\n",
    "\n",
    "top_5_data = pd.pivot_table(data=top_5_df,\n",
    "                       index=top_5_df.index,\n",
    "                       columns='CountryOfCitizenship',\n",
    "                       values='AlienMasterID',\n",
    "                       aggfunc=np.sum,\n",
    "                       fill_value=0)\n",
    "\n",
    "top_5_data = top_5_data.reindex(top_5_data.sum().sort_values(ascending=False).index, axis=1)\n",
    "cols = list(top_5_data.columns)\n",
    "cols.remove('ALL OTHERS')\n",
    "cols.append('ALL OTHERS')\n",
    "top_5_data = top_5_data[cols]\n",
    "top_5_data.columns = top_5_data.columns.str.title()\n",
    "top_5_data.columns.name = 'Country of Citizenship'"
   ]
  },
  {
   "cell_type": "code",
   "execution_count": 178,
   "metadata": {},
   "outputs": [
    {
     "data": {
      "text/html": [
       "<div>\n",
       "<style scoped>\n",
       "    .dataframe tbody tr th:only-of-type {\n",
       "        vertical-align: middle;\n",
       "    }\n",
       "\n",
       "    .dataframe tbody tr th {\n",
       "        vertical-align: top;\n",
       "    }\n",
       "\n",
       "    .dataframe thead th {\n",
       "        text-align: right;\n",
       "    }\n",
       "</style>\n",
       "<table border=\"1\" class=\"dataframe\">\n",
       "  <thead>\n",
       "    <tr style=\"text-align: right;\">\n",
       "      <th>Country of Citizenship</th>\n",
       "      <th>Mexico</th>\n",
       "      <th>Guatemala</th>\n",
       "      <th>Honduras</th>\n",
       "      <th>El Salvador</th>\n",
       "      <th>Dominican Republic</th>\n",
       "      <th>Haiti</th>\n",
       "      <th>All Others</th>\n",
       "    </tr>\n",
       "  </thead>\n",
       "  <tbody>\n",
       "    <tr>\n",
       "      <th>FY11</th>\n",
       "      <td>108021</td>\n",
       "      <td>30475</td>\n",
       "      <td>21183</td>\n",
       "      <td>15817</td>\n",
       "      <td>2343</td>\n",
       "      <td>228</td>\n",
       "      <td>4740</td>\n",
       "    </tr>\n",
       "    <tr>\n",
       "      <th>FY12</th>\n",
       "      <td>110870</td>\n",
       "      <td>38400</td>\n",
       "      <td>30815</td>\n",
       "      <td>18108</td>\n",
       "      <td>2281</td>\n",
       "      <td>547</td>\n",
       "      <td>4933</td>\n",
       "    </tr>\n",
       "    <tr>\n",
       "      <th>FY13</th>\n",
       "      <td>78650</td>\n",
       "      <td>47956</td>\n",
       "      <td>35759</td>\n",
       "      <td>20178</td>\n",
       "      <td>1849</td>\n",
       "      <td>452</td>\n",
       "      <td>4417</td>\n",
       "    </tr>\n",
       "    <tr>\n",
       "      <th>FY14</th>\n",
       "      <td>39279</td>\n",
       "      <td>54270</td>\n",
       "      <td>39827</td>\n",
       "      <td>26508</td>\n",
       "      <td>1748</td>\n",
       "      <td>338</td>\n",
       "      <td>4382</td>\n",
       "    </tr>\n",
       "    <tr>\n",
       "      <th>FY15</th>\n",
       "      <td>29461</td>\n",
       "      <td>32599</td>\n",
       "      <td>19613</td>\n",
       "      <td>21378</td>\n",
       "      <td>1552</td>\n",
       "      <td>369</td>\n",
       "      <td>3583</td>\n",
       "    </tr>\n",
       "    <tr>\n",
       "      <th>FY16</th>\n",
       "      <td>27082</td>\n",
       "      <td>32963</td>\n",
       "      <td>21311</td>\n",
       "      <td>20089</td>\n",
       "      <td>1556</td>\n",
       "      <td>267</td>\n",
       "      <td>3614</td>\n",
       "    </tr>\n",
       "    <tr>\n",
       "      <th>FY17</th>\n",
       "      <td>32967</td>\n",
       "      <td>32198</td>\n",
       "      <td>21241</td>\n",
       "      <td>17970</td>\n",
       "      <td>1696</td>\n",
       "      <td>5549</td>\n",
       "      <td>4610</td>\n",
       "    </tr>\n",
       "    <tr>\n",
       "      <th>FY18</th>\n",
       "      <td>34738</td>\n",
       "      <td>48765</td>\n",
       "      <td>27777</td>\n",
       "      <td>14516</td>\n",
       "      <td>1520</td>\n",
       "      <td>805</td>\n",
       "      <td>5168</td>\n",
       "    </tr>\n",
       "  </tbody>\n",
       "</table>\n",
       "</div>"
      ],
      "text/plain": [
       "Country of Citizenship  Mexico  Guatemala  Honduras  El Salvador  \\\n",
       "FY11                    108021      30475     21183        15817   \n",
       "FY12                    110870      38400     30815        18108   \n",
       "FY13                     78650      47956     35759        20178   \n",
       "FY14                     39279      54270     39827        26508   \n",
       "FY15                     29461      32599     19613        21378   \n",
       "FY16                     27082      32963     21311        20089   \n",
       "FY17                     32967      32198     21241        17970   \n",
       "FY18                     34738      48765     27777        14516   \n",
       "\n",
       "Country of Citizenship  Dominican Republic  Haiti  All Others  \n",
       "FY11                                  2343    228        4740  \n",
       "FY12                                  2281    547        4933  \n",
       "FY13                                  1849    452        4417  \n",
       "FY14                                  1748    338        4382  \n",
       "FY15                                  1552    369        3583  \n",
       "FY16                                  1556    267        3614  \n",
       "FY17                                  1696   5549        4610  \n",
       "FY18                                  1520    805        5168  "
      ]
     },
     "execution_count": 178,
     "metadata": {},
     "output_type": "execute_result"
    }
   ],
   "source": [
    "# Table for this version of chart is much better\n",
    "top_5_data"
   ]
  },
  {
   "cell_type": "code",
   "execution_count": 182,
   "metadata": {},
   "outputs": [
    {
     "data": {
      "image/png": "[encoded data removed]",
      "text/plain": [
       "<Figure size 720x576 with 1 Axes>"
      ]
     },
     "metadata": {
      "needs_background": "light"
     },
     "output_type": "display_data"
    }
   ],
   "source": [
    "country_of_citizenship_trend(top_5_data,\n",
    "                             title=f'ICE Air {df_to_analyze.name.title()} by Country of Citizenship \\n (Top 5 any year)',\n",
    "                             filename=f'top5_total_{df_to_analyze.name.lower()}_nationalities_any_year',\n",
    "                             ylabel=f'Total {df_to_analyze.name.title()}',\n",
    "                             xlabel='Fiscal Year');"
   ]
  },
  {
   "cell_type": "markdown",
   "metadata": {},
   "source": [
    "# Investigating other global variables"
   ]
  },
  {
   "cell_type": "code",
   "execution_count": 63,
   "metadata": {},
   "outputs": [
    {
     "data": {
      "text/plain": [
       "<matplotlib.axes._subplots.AxesSubplot at 0x1a46edd6d8>"
      ]
     },
     "execution_count": 63,
     "metadata": {},
     "output_type": "execute_result"
    },
    {
     "data": {
      "image/png": "[encoded data removed]",
      "text/plain": [
       "<Figure size 432x288 with 1 Axes>"
      ]
     },
     "metadata": {
      "needs_background": "light"
     },
     "output_type": "display_data"
    }
   ],
   "source": [
    "df['Age'].hist(bins=10)"
   ]
  },
  {
   "cell_type": "code",
   "execution_count": 64,
   "metadata": {},
   "outputs": [
    {
     "data": {
      "text/plain": [
       "CountryOfCitizenship            R-T\n",
       "ALGERIA                         R      35.666668\n",
       "                                T      36.555557\n",
       "ARGENTINA                       R      43.214287\n",
       "                                T      39.827587\n",
       "ARMENIA                         T      33.634750\n",
       "BANGLADESH                      R      33.685184\n",
       "                                T      30.207924\n",
       "BARBADOS                        R      42.500000\n",
       "                                T      39.705883\n",
       "BOLIVIA                         R      34.000000\n",
       "                                T      35.030769\n",
       "BOSNIA                          R      33.363636\n",
       "                                T      31.839506\n",
       "BRAZIL                          R      38.312500\n",
       "                                T      33.467175\n",
       "BRITISH VIRGIN ISLANDS          T      39.571430\n",
       "BULGARIA                        R      31.000000\n",
       "                                T      39.063492\n",
       "CAMBODIA                        R      41.174999\n",
       "                                T      39.813107\n",
       "CAMEROON                        R      36.000000\n",
       "                                T      31.808474\n",
       "CANADA                          T      41.752907\n",
       "CAPE VERDE                      R      40.526318\n",
       "                                T      37.081081\n",
       "CHINA                           R      35.313251\n",
       "                                T      30.484955\n",
       "COLOMBIA                        R      42.537018\n",
       "                                T      41.404984\n",
       "COTE D'IVORIE (IVORY COAST)     R      39.066666\n",
       "                                         ...    \n",
       "TONGA                           R      40.000000\n",
       "                                T      46.421051\n",
       "MARSHAL ISLANDS                 T      34.750000\n",
       "MARSHALL ISLANDS                R      40.500000\n",
       "ECUATORIAL GUINEA               T      37.000000\n",
       "EQUATORIAL GUINEA               R      37.000000\n",
       "                                T      29.000000\n",
       "KOREA                           T      42.222221\n",
       "CYPRUS                          T      33.000000\n",
       "EAST TIMOR                      T      33.500000\n",
       "MALTA                           T      21.000000\n",
       "DJIBOUTI                        T      28.000000\n",
       "GUINEA BISSAU                   T      32.466667\n",
       "FEDERATED STATES OF MICRONESIA  T      32.400002\n",
       "SAMOA                           R      43.166668\n",
       "                                T      42.555557\n",
       "STATELESS                       T      43.193550\n",
       "BHUTAN                          T      25.000000\n",
       "SURINAME                        R      29.500000\n",
       "                                T      37.250000\n",
       "BELGIUM                         T      43.000000\n",
       "TURKMENISTAN                    T      25.000000\n",
       "ARUBA                           T      57.000000\n",
       "UNITED ARAB EMIRATES            R      45.000000\n",
       "                                T      45.000000\n",
       "PAPUA NEW GUINEA                T      26.000000\n",
       "PALESTINIAN                     R      39.750000\n",
       "NAMIBIA                         R      50.000000\n",
       "                                T      50.000000\n",
       "GUADELOUPE                      T      31.000000\n",
       "Name: Age, Length: 341, dtype: float32"
      ]
     },
     "execution_count": 64,
     "metadata": {},
     "output_type": "execute_result"
    }
   ],
   "source": [
    "df.groupby(['CountryOfCitizenship', 'R-T'])['Age'].mean()"
   ]
  },
  {
   "cell_type": "code",
   "execution_count": 65,
   "metadata": {},
   "outputs": [
    {
     "data": {
      "text/plain": [
       "MissionDate\n",
       "2010-10-01    31.515244\n",
       "2011-10-01    31.245144\n",
       "2012-10-01    30.822685\n",
       "2013-10-01    29.544395\n",
       "2014-10-01    31.358904\n",
       "2015-10-01    31.364090\n",
       "2016-10-01    32.183548\n",
       "2017-10-01    31.832045\n",
       "2018-10-01    30.840059\n",
       "Freq: AS-OCT, Name: Age, dtype: float32"
      ]
     },
     "execution_count": 65,
     "metadata": {},
     "output_type": "execute_result"
    }
   ],
   "source": [
    "df.groupby([pd.Grouper(freq='AS-OCT')])['Age'].mean()"
   ]
  },
  {
   "cell_type": "code",
   "execution_count": 66,
   "metadata": {},
   "outputs": [
    {
     "data": {
      "text/plain": [
       "MissionDate  Sex\n",
       "2010-10-01   M      94.507017\n",
       "             F       5.489979\n",
       "             U       0.002145\n",
       "2011-10-01   M      95.185309\n",
       "             F       4.801934\n",
       "             U       0.012758\n",
       "2012-10-01   M      93.870367\n",
       "             F       6.118253\n",
       "             U       0.011380\n",
       "2013-10-01   M      86.746433\n",
       "             F      13.236738\n",
       "             U       0.016829\n",
       "2014-10-01   M      89.261271\n",
       "             F      10.731089\n",
       "             U       0.006367\n",
       "2015-10-01   M      90.129518\n",
       "             F       9.870482\n",
       "2016-10-01   M      90.432078\n",
       "             F       9.561824\n",
       "             U       0.006098\n",
       "2017-10-01   M      92.114710\n",
       "             F       7.883724\n",
       "             U       0.001565\n",
       "2018-10-01   M      92.012668\n",
       "             F       7.987332\n",
       "dtype: float64"
      ]
     },
     "execution_count": 66,
     "metadata": {},
     "output_type": "execute_result"
    }
   ],
   "source": [
    "df.groupby([pd.Grouper(freq='AS-OCT')])['Sex'].value_counts() / df.groupby([pd.Grouper(freq='AS-OCT')]).size() * 100"
   ]
  },
  {
   "cell_type": "markdown",
   "metadata": {},
   "source": [
    "# Different geographic subsets"
   ]
  },
  {
   "cell_type": "markdown",
   "metadata": {},
   "source": [
    "## US state"
   ]
  },
  {
   "cell_type": "code",
   "execution_count": 67,
   "metadata": {},
   "outputs": [
    {
     "data": {
      "text/plain": [
       "Index(['AlienMasterID', 'Status', 'Sex', 'Convictions', 'GangMember',\n",
       "       'ClassLvl', 'Age', 'MissionNumber', 'PULOC', 'DropLoc',\n",
       "       'StrikeFromList', 'ReasonStruck', 'R-T', 'Code', 'CountryOfCitizenship',\n",
       "       'Juvenile', 'MissionWeek', 'MissionQuarter', 'MissionYear',\n",
       "       'MissionMonth', 'Criminality', 'FamilyUnitFlag', 'UnaccompaniedFlag',\n",
       "       'MissionID', 'air_AirportID', 'air_AirportName', 'air_City',\n",
       "       'st_StateID', 'st_StateAbbr', 'AOR_AORID', 'AOR_AOR', 'AOR_AORName',\n",
       "       'air_Country', 'air2_AirportID', 'air2_AirportName', 'air2_City',\n",
       "       'st2_StateID', 'st2_StateAbbr', 'aor2_AORID', 'aor2_AOR',\n",
       "       'aor2_AORName', 'air2_Country', 'NonCriminal', 'count'],\n",
       "      dtype='object')"
      ]
     },
     "execution_count": 67,
     "metadata": {},
     "output_type": "execute_result"
    }
   ],
   "source": [
    "df.columns"
   ]
  },
  {
   "cell_type": "code",
   "execution_count": 68,
   "metadata": {},
   "outputs": [],
   "source": [
    "state = 'WA'"
   ]
  },
  {
   "cell_type": "code",
   "execution_count": 69,
   "metadata": {},
   "outputs": [],
   "source": [
    "state_pickup_df = df[df['st_StateAbbr'] == state]"
   ]
  },
  {
   "cell_type": "code",
   "execution_count": 70,
   "metadata": {},
   "outputs": [],
   "source": [
    "state_dropoff_df = df[df['st2_StateAbbr'] == state]"
   ]
  },
  {
   "cell_type": "code",
   "execution_count": 71,
   "metadata": {},
   "outputs": [
    {
     "data": {
      "text/plain": [
       "KBFI    34466\n",
       "KPAE      319\n",
       "KYKM      108\n",
       "KSEA        7\n",
       "KALB        0\n",
       "Name: PULOC, dtype: int64"
      ]
     },
     "execution_count": 71,
     "metadata": {},
     "output_type": "execute_result"
    }
   ],
   "source": [
    "state_pickup_df['PULOC'].value_counts().head(5)"
   ]
  },
  {
   "cell_type": "code",
   "execution_count": 72,
   "metadata": {},
   "outputs": [],
   "source": [
    "state_all = pd.concat([state_pickup_df, state_dropoff_df])"
   ]
  },
  {
   "cell_type": "markdown",
   "metadata": {},
   "source": [
    "## Country"
   ]
  },
  {
   "cell_type": "code",
   "execution_count": 73,
   "metadata": {},
   "outputs": [],
   "source": [
    "country = 'USA'"
   ]
  },
  {
   "cell_type": "code",
   "execution_count": 74,
   "metadata": {},
   "outputs": [],
   "source": [
    "country_pickup_df = df[df['air_Country'] == country]\n",
    "country_dropoff_df = df[df['air2_Country'] == country]\n",
    "country_all = pd.concat([country_pickup_df, country_dropoff_df])"
   ]
  },
  {
   "cell_type": "code",
   "execution_count": 75,
   "metadata": {},
   "outputs": [
    {
     "data": {
      "text/plain": [
       "PULOC  R-T\n",
       "KAEX   R      213681\n",
       "       T       26222\n",
       "KATL   R       14032\n",
       "       T        1112\n",
       "KBFI   R       16040\n",
       "       T       18403\n",
       "KBFL   R       16569\n",
       "       T        7821\n",
       "KCSG   R       60956\n",
       "       T       19841\n",
       "KDAL   R       11191\n",
       "       T         195\n",
       "KDEN   R        8880\n",
       "       T       11833\n",
       "KELP   R      117249\n",
       "       T       18878\n",
       "KHRL   R       95845\n",
       "       T       29256\n",
       "KIAH   R       49785\n",
       "       T         592\n",
       "KIWA   R      145909\n",
       "       T       50229\n",
       "KLAS   R        9389\n",
       "       T        9535\n",
       "KLRD   R       44022\n",
       "       T       12387\n",
       "KMCI   R        8451\n",
       "       T        4399\n",
       "KMDT   R       26494\n",
       "       T       49854\n",
       "               ...  \n",
       "KGYY   T       10558\n",
       "TJBQ   T         130\n",
       "KYIP   R          86\n",
       "       T          46\n",
       "KBED   R          19\n",
       "       T         250\n",
       "KSTL   R           5\n",
       "       T          60\n",
       "KSKF   T         246\n",
       "KNYL   T         378\n",
       "KROW   R         324\n",
       "KRIC   R         331\n",
       "       T        1562\n",
       "KOPF   R          38\n",
       "       T         354\n",
       "KCLT   T          11\n",
       "TIST   T          11\n",
       "KSDM   R           4\n",
       "KVCV   T         930\n",
       "KCHS   T          55\n",
       "KYKM   T         108\n",
       "KABQ   R        2264\n",
       "       T         671\n",
       "KMEM   T        1247\n",
       "KFTW   R         141\n",
       "KPSM   R         126\n",
       "       T        1170\n",
       "KYNG   R          25\n",
       "       T           9\n",
       "KALB   R          12\n",
       "Name: AlienMasterID, Length: 126, dtype: int64"
      ]
     },
     "execution_count": 75,
     "metadata": {},
     "output_type": "execute_result"
    }
   ],
   "source": [
    "country_pickup_df.groupby(['PULOC', 'R-T'])['AlienMasterID'].nunique()"
   ]
  },
  {
   "cell_type": "code",
   "execution_count": 76,
   "metadata": {},
   "outputs": [
    {
     "data": {
      "text/plain": [
       "DropLoc  R-T    \n",
       "KAEX     R             846\n",
       "         T          168470\n",
       "KBFI     R              29\n",
       "         T           15162\n",
       "KBFL     R              45\n",
       "         T            2573\n",
       "KELP     R            5416\n",
       "         T           81770\n",
       "KHRL     R          146658\n",
       "         T            2042\n",
       "KIAH     R             116\n",
       "         T            3065\n",
       "KIWA     R            8403\n",
       "         T           85489\n",
       "KLAS     R              19\n",
       "         T            2223\n",
       "KLRD     R           46058\n",
       "         T             865\n",
       "KMCI     R               1\n",
       "         T             240\n",
       "KMDT     T           14789\n",
       "         No-show         1\n",
       "KMIA     R              36\n",
       "         T           22620\n",
       "KOAK     R               9\n",
       "         T            2494\n",
       "KONT     R            1556\n",
       "         T             805\n",
       "KSAN     R           57686\n",
       "         T            5257\n",
       "                     ...  \n",
       "KGYY     T            8345\n",
       "KRFD     T              20\n",
       "KDTW     T               4\n",
       "KLIT     T               1\n",
       "KBED     T             340\n",
       "KRIC     T             795\n",
       "KBNA     T              56\n",
       "KLAW     T            1876\n",
       "KMEM     T            3976\n",
       "KSTL     T              87\n",
       "KNTD     T            1177\n",
       "KSKF     T             624\n",
       "KVCV     T             879\n",
       "KROW     T              28\n",
       "KGFK     T               1\n",
       "KBLV     T              93\n",
       "KBWI     T              34\n",
       "KOPF     T               4\n",
       "KCHS     T             868\n",
       "KYKM     T             133\n",
       "KMDW     T              31\n",
       "KYNG     T            1103\n",
       "KABQ     T            1161\n",
       "KMHR     T              48\n",
       "KCLE     T             113\n",
       "KFTW     T              82\n",
       "KPSM     T             183\n",
       "PHNL     T               2\n",
       "KPDX     T             124\n",
       "KALB     T             337\n",
       "Name: AlienMasterID, Length: 94, dtype: int64"
      ]
     },
     "execution_count": 76,
     "metadata": {},
     "output_type": "execute_result"
    }
   ],
   "source": [
    "country_dropoff_df.groupby(['DropLoc', 'R-T'])['AlienMasterID'].nunique()"
   ]
  },
  {
   "cell_type": "code",
   "execution_count": 77,
   "metadata": {},
   "outputs": [],
   "source": [
    "country_removals = country_all[country_all['R-T'] == 'R']\n",
    "country_transfers = country_all[country_all['R-T'] == 'T']"
   ]
  },
  {
   "cell_type": "code",
   "execution_count": 78,
   "metadata": {},
   "outputs": [
    {
     "data": {
      "text/plain": [
       "KAEX    213681\n",
       "KBRO    147701\n",
       "KIWA    145909\n",
       "KELP    117249\n",
       "KHRL     95845\n",
       "KSAT     80048\n",
       "KCSG     60956\n",
       "KIAH     49785\n",
       "KLRD     44022\n",
       "KMIA     43555\n",
       "Name: PULOC, dtype: int64"
      ]
     },
     "execution_count": 78,
     "metadata": {},
     "output_type": "execute_result"
    }
   ],
   "source": [
    "country_removals.drop_duplicates(subset='AlienMasterID')['PULOC'].value_counts().head(10)"
   ]
  },
  {
   "cell_type": "code",
   "execution_count": 79,
   "metadata": {},
   "outputs": [
    {
     "data": {
      "text/plain": [
       "KBRO    57192\n",
       "KIWA    50229\n",
       "KMDT    49854\n",
       "KSAN    41385\n",
       "KHRL    29256\n",
       "KSAT    27376\n",
       "KAEX    26222\n",
       "KEWR    24130\n",
       "KCSG    19841\n",
       "KELP    18878\n",
       "Name: PULOC, dtype: int64"
      ]
     },
     "execution_count": 79,
     "metadata": {},
     "output_type": "execute_result"
    }
   ],
   "source": [
    "country_transfers.drop_duplicates(subset='AlienMasterID')['PULOC'].value_counts().head(10)"
   ]
  },
  {
   "cell_type": "code",
   "execution_count": null,
   "metadata": {},
   "outputs": [],
   "source": []
  }
 ],
 "metadata": {
  "kernelspec": {
   "display_name": "Python 3",
   "language": "python",
   "name": "python3"
  },
  "language_info": {
   "codemirror_mode": {
    "name": "ipython",
    "version": 3
   },
   "file_extension": ".py",
   "mimetype": "text/x-python",
   "name": "python",
   "nbconvert_exporter": "python",
   "pygments_lexer": "ipython3",
   "version": "3.7.1"
  }
 },
 "nbformat": 4,
 "nbformat_minor": 2
}
