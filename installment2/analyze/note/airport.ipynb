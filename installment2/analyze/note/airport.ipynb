{
 "cells": [
  {
   "cell_type": "code",
   "execution_count": 166,
   "metadata": {},
   "outputs": [],
   "source": [
    "# Author: University of Washington Center for Human Rights\n",
    "# Date: 2019-04-29\n",
    "# License: GPL 3.0 or greater\n",
    "# Path: ice-air/analyze/note/airport.ipynb\n",
    "\n",
    "import numpy as np\n",
    "import pandas as pd\n",
    "import yaml\n",
    "import matplotlib.pyplot as plt\n",
    "import seaborn as sns"
   ]
  },
  {
   "cell_type": "markdown",
   "metadata": {},
   "source": [
    "This notebook and its outputs are of an exploratory nature only and do not necessarily reflect the final findings of UWCHR as published in the report [\"Hidden in Plain Sight: ICE Air and the Machinery of Mass Deportation\"](https://jsis.washington.edu/humanrights/2019/04/23/ice-air/)."
   ]
  },
  {
   "cell_type": "markdown",
   "metadata": {},
   "source": [
    "# Import\n",
    "\n",
    "First we open a file containing a dictionary of columns and associated data types generated in `../../optimize/`, then we read input file."
   ]
  },
  {
   "cell_type": "code",
   "execution_count": 167,
   "metadata": {},
   "outputs": [
    {
     "name": "stdout",
     "output_type": "stream",
     "text": [
      "<class 'pandas.core.frame.DataFrame'>\n",
      "RangeIndex: 1826402 entries, 0 to 1826401\n",
      "Data columns (total 52 columns):\n",
      "ANumber                         category\n",
      "LastName                        category\n",
      "FirstName                       category\n",
      "DOB                             category\n",
      "Status                          category\n",
      "Sex                             category\n",
      "Convictions                     category\n",
      "GangMember                      category\n",
      "ClassLvl                        float32\n",
      "Age                             float32\n",
      "MissionDate                     datetime64[ns]\n",
      "MissionNumber                   uint32\n",
      "PULOC                           category\n",
      "DropLoc                         category\n",
      "StrikeFromList                  float32\n",
      "ReasonStruck                    category\n",
      "R-T                             category\n",
      "Code                            category\n",
      "CountryOfCitizenship            category\n",
      "Juvenile                        bool\n",
      "MissionWeek                     uint8\n",
      "MissionQuarter                  uint8\n",
      "MissionYear                     uint16\n",
      "MissionMonth                    uint8\n",
      "Criminality                     category\n",
      "FamilyUnitFlag                  float32\n",
      "UnaccompaniedFlag               float32\n",
      "AlienMasterID                   int64\n",
      "MissionID                       uint16\n",
      "air_AirportID                   float32\n",
      "air_AirportName                 category\n",
      "air_City                        category\n",
      "st_StateID                      float32\n",
      "st_StateAbbr                    category\n",
      "AOR_AORID                       float32\n",
      "AOR_AOR                         category\n",
      "AOR_AORName                     category\n",
      "air_Country                     category\n",
      "air2_AirportID                  float32\n",
      "air2_AirportName                category\n",
      "air2_City                       category\n",
      "st2_StateID                     float32\n",
      "st2_StateAbbr                   category\n",
      "aor2_AORID                      float32\n",
      "aor2_AOR                        category\n",
      "aor2_AORName                    category\n",
      "air2_Country                    category\n",
      "air_LatitudeDecimalDegrees      float64\n",
      "air_LongitudeDecimalDegrees     float64\n",
      "air2_LatitudeDecimalDegrees     float64\n",
      "air2_LongitudeDecimalDegrees    float64\n",
      "NonCriminal                     bool\n",
      "dtypes: bool(2), category(27), datetime64[ns](1), float32(11), float64(4), int64(1), uint16(2), uint32(1), uint8(3)\n",
      "memory usage: 244.2 MB\n"
     ]
    }
   ],
   "source": [
    "with open('../input/passenger-dtypes.yaml', 'r') as yamlfile:\n",
    "    column_types = yaml.load(yamlfile)\n",
    "\n",
    "read_csv_opts = {'sep': '|',\n",
    "                 'quotechar': '\"',\n",
    "                 'compression': 'gzip',\n",
    "                 'encoding': 'utf-8',\n",
    "                 'dtype': column_types,\n",
    "                 'parse_dates': ['MissionDate'],\n",
    "                 'infer_datetime_format': True}\n",
    "\n",
    "df = pd.read_csv('../input/ice-air-passengers.csv.gz', **read_csv_opts)\n",
    "\n",
    "df.info(memory_usage='deep')"
   ]
  },
  {
   "cell_type": "code",
   "execution_count": 168,
   "metadata": {},
   "outputs": [],
   "source": [
    "with open('../input/airport_dict.yaml', 'r') as yamlfile:\n",
    "    airport_dict = yaml.load(yamlfile)"
   ]
  },
  {
   "cell_type": "code",
   "execution_count": 169,
   "metadata": {},
   "outputs": [
    {
     "data": {
      "text/html": [
       "<div>\n",
       "<style scoped>\n",
       "    .dataframe tbody tr th:only-of-type {\n",
       "        vertical-align: middle;\n",
       "    }\n",
       "\n",
       "    .dataframe tbody tr th {\n",
       "        vertical-align: top;\n",
       "    }\n",
       "\n",
       "    .dataframe thead th {\n",
       "        text-align: right;\n",
       "    }\n",
       "</style>\n",
       "<table border=\"1\" class=\"dataframe\">\n",
       "  <thead>\n",
       "    <tr style=\"text-align: right;\">\n",
       "      <th></th>\n",
       "      <th>ANumber</th>\n",
       "      <th>LastName</th>\n",
       "      <th>FirstName</th>\n",
       "      <th>DOB</th>\n",
       "      <th>Status</th>\n",
       "      <th>Sex</th>\n",
       "      <th>Convictions</th>\n",
       "      <th>GangMember</th>\n",
       "      <th>ClassLvl</th>\n",
       "      <th>Age</th>\n",
       "      <th>...</th>\n",
       "      <th>st2_StateAbbr</th>\n",
       "      <th>aor2_AORID</th>\n",
       "      <th>aor2_AOR</th>\n",
       "      <th>aor2_AORName</th>\n",
       "      <th>air2_Country</th>\n",
       "      <th>air_LatitudeDecimalDegrees</th>\n",
       "      <th>air_LongitudeDecimalDegrees</th>\n",
       "      <th>air2_LatitudeDecimalDegrees</th>\n",
       "      <th>air2_LongitudeDecimalDegrees</th>\n",
       "      <th>NonCriminal</th>\n",
       "    </tr>\n",
       "  </thead>\n",
       "  <tbody>\n",
       "    <tr>\n",
       "      <th>1826397</th>\n",
       "      <td>(B)(6);(B)(7)(C)</td>\n",
       "      <td>(B)(6);(B)(7)(C)</td>\n",
       "      <td>(B)(6);(B)(7)(C)</td>\n",
       "      <td>(B)(6);(B)(7)(C)</td>\n",
       "      <td>8F</td>\n",
       "      <td>M</td>\n",
       "      <td>NC</td>\n",
       "      <td>N</td>\n",
       "      <td>NaN</td>\n",
       "      <td>20.0</td>\n",
       "      <td>...</td>\n",
       "      <td>NaN</td>\n",
       "      <td>NaN</td>\n",
       "      <td>NaN</td>\n",
       "      <td>NaN</td>\n",
       "      <td>Guatemala</td>\n",
       "      <td>25.907000</td>\n",
       "      <td>-97.426000</td>\n",
       "      <td>14.583</td>\n",
       "      <td>-90.528</td>\n",
       "      <td>True</td>\n",
       "    </tr>\n",
       "    <tr>\n",
       "      <th>1826398</th>\n",
       "      <td>(B)(6);(B)(7)(C)</td>\n",
       "      <td>(B)(6);(B)(7)(C)</td>\n",
       "      <td>(B)(6);(B)(7)(C)</td>\n",
       "      <td>(B)(6);(B)(7)(C)</td>\n",
       "      <td>8F</td>\n",
       "      <td>M</td>\n",
       "      <td>NC</td>\n",
       "      <td>N</td>\n",
       "      <td>NaN</td>\n",
       "      <td>34.0</td>\n",
       "      <td>...</td>\n",
       "      <td>NaN</td>\n",
       "      <td>NaN</td>\n",
       "      <td>NaN</td>\n",
       "      <td>NaN</td>\n",
       "      <td>Guatemala</td>\n",
       "      <td>25.907000</td>\n",
       "      <td>-97.426000</td>\n",
       "      <td>14.583</td>\n",
       "      <td>-90.528</td>\n",
       "      <td>True</td>\n",
       "    </tr>\n",
       "    <tr>\n",
       "      <th>1826399</th>\n",
       "      <td>(B)(6);(B)(7)(C)</td>\n",
       "      <td>(B)(6);(B)(7)(C)</td>\n",
       "      <td>(B)(6);(B)(7)(C)</td>\n",
       "      <td>(B)(6);(B)(7)(C)</td>\n",
       "      <td>8F</td>\n",
       "      <td>M</td>\n",
       "      <td>NC</td>\n",
       "      <td>N</td>\n",
       "      <td>NaN</td>\n",
       "      <td>19.0</td>\n",
       "      <td>...</td>\n",
       "      <td>NaN</td>\n",
       "      <td>NaN</td>\n",
       "      <td>NaN</td>\n",
       "      <td>NaN</td>\n",
       "      <td>Guatemala</td>\n",
       "      <td>25.907000</td>\n",
       "      <td>-97.426000</td>\n",
       "      <td>14.583</td>\n",
       "      <td>-90.528</td>\n",
       "      <td>True</td>\n",
       "    </tr>\n",
       "    <tr>\n",
       "      <th>1826400</th>\n",
       "      <td>(B)(6);(B)(7)(C)</td>\n",
       "      <td>(B)(6);(B)(7)(C)</td>\n",
       "      <td>(B)(6);(B)(7)(C)</td>\n",
       "      <td>(B)(6);(B)(7)(C)</td>\n",
       "      <td>8F</td>\n",
       "      <td>M</td>\n",
       "      <td>NC</td>\n",
       "      <td>N</td>\n",
       "      <td>NaN</td>\n",
       "      <td>33.0</td>\n",
       "      <td>...</td>\n",
       "      <td>NaN</td>\n",
       "      <td>NaN</td>\n",
       "      <td>NaN</td>\n",
       "      <td>NaN</td>\n",
       "      <td>Guatemala</td>\n",
       "      <td>25.907000</td>\n",
       "      <td>-97.426000</td>\n",
       "      <td>14.583</td>\n",
       "      <td>-90.528</td>\n",
       "      <td>True</td>\n",
       "    </tr>\n",
       "    <tr>\n",
       "      <th>1826401</th>\n",
       "      <td>(B)(6);(B)(7)(C)</td>\n",
       "      <td>(B)(6);(B)(7)(C)</td>\n",
       "      <td>(B)(6);(B)(7)(C)</td>\n",
       "      <td>(B)(6);(B)(7)(C)</td>\n",
       "      <td>8C</td>\n",
       "      <td>F</td>\n",
       "      <td>NC</td>\n",
       "      <td>N</td>\n",
       "      <td>NaN</td>\n",
       "      <td>24.0</td>\n",
       "      <td>...</td>\n",
       "      <td>NaN</td>\n",
       "      <td>NaN</td>\n",
       "      <td>NaN</td>\n",
       "      <td>NaN</td>\n",
       "      <td>Guatemala</td>\n",
       "      <td>33.307833</td>\n",
       "      <td>-111.655472</td>\n",
       "      <td>14.583</td>\n",
       "      <td>-90.528</td>\n",
       "      <td>True</td>\n",
       "    </tr>\n",
       "  </tbody>\n",
       "</table>\n",
       "<p>5 rows × 52 columns</p>\n",
       "</div>"
      ],
      "text/plain": [
       "                   ANumber           LastName          FirstName  \\\n",
       "1826397  (B)(6);(B)(7)(C)   (B)(6);(B)(7)(C)   (B)(6);(B)(7)(C)    \n",
       "1826398  (B)(6);(B)(7)(C)   (B)(6);(B)(7)(C)   (B)(6);(B)(7)(C)    \n",
       "1826399  (B)(6);(B)(7)(C)   (B)(6);(B)(7)(C)   (B)(6);(B)(7)(C)    \n",
       "1826400  (B)(6);(B)(7)(C)   (B)(6);(B)(7)(C)   (B)(6);(B)(7)(C)    \n",
       "1826401  (B)(6);(B)(7)(C)   (B)(6);(B)(7)(C)   (B)(6);(B)(7)(C)    \n",
       "\n",
       "                       DOB Status Sex Convictions GangMember  ClassLvl   Age  \\\n",
       "1826397  (B)(6);(B)(7)(C)      8F   M          NC          N       NaN  20.0   \n",
       "1826398  (B)(6);(B)(7)(C)      8F   M          NC          N       NaN  34.0   \n",
       "1826399  (B)(6);(B)(7)(C)      8F   M          NC          N       NaN  19.0   \n",
       "1826400  (B)(6);(B)(7)(C)      8F   M          NC          N       NaN  33.0   \n",
       "1826401  (B)(6);(B)(7)(C)      8C   F          NC          N       NaN  24.0   \n",
       "\n",
       "            ...      st2_StateAbbr  aor2_AORID aor2_AOR aor2_AORName  \\\n",
       "1826397     ...                NaN         NaN      NaN          NaN   \n",
       "1826398     ...                NaN         NaN      NaN          NaN   \n",
       "1826399     ...                NaN         NaN      NaN          NaN   \n",
       "1826400     ...                NaN         NaN      NaN          NaN   \n",
       "1826401     ...                NaN         NaN      NaN          NaN   \n",
       "\n",
       "         air2_Country air_LatitudeDecimalDegrees air_LongitudeDecimalDegrees  \\\n",
       "1826397     Guatemala                  25.907000                  -97.426000   \n",
       "1826398     Guatemala                  25.907000                  -97.426000   \n",
       "1826399     Guatemala                  25.907000                  -97.426000   \n",
       "1826400     Guatemala                  25.907000                  -97.426000   \n",
       "1826401     Guatemala                  33.307833                 -111.655472   \n",
       "\n",
       "        air2_LatitudeDecimalDegrees air2_LongitudeDecimalDegrees  NonCriminal  \n",
       "1826397                      14.583                      -90.528         True  \n",
       "1826398                      14.583                      -90.528         True  \n",
       "1826399                      14.583                      -90.528         True  \n",
       "1826400                      14.583                      -90.528         True  \n",
       "1826401                      14.583                      -90.528         True  \n",
       "\n",
       "[5 rows x 52 columns]"
      ]
     },
     "execution_count": 169,
     "metadata": {},
     "output_type": "execute_result"
    }
   ],
   "source": [
    "df.tail()"
   ]
  },
  {
   "cell_type": "markdown",
   "metadata": {},
   "source": [
    "# Specific airport"
   ]
  },
  {
   "cell_type": "code",
   "execution_count": 170,
   "metadata": {},
   "outputs": [],
   "source": [
    "# Select records for an airport represented in the database using its 4-character ICAO code\n",
    "airport = 'KBFI'\n",
    "airport = str(airport).upper()"
   ]
  },
  {
   "cell_type": "code",
   "execution_count": 171,
   "metadata": {},
   "outputs": [
    {
     "ename": "KeyError",
     "evalue": "'KBIF'",
     "output_type": "error",
     "traceback": [
      "\u001b[0;31m---------------------------------------------------------------------------\u001b[0m",
      "\u001b[0;31mKeyError\u001b[0m                                  Traceback (most recent call last)",
      "\u001b[0;32m<ipython-input-171-786d323fc81c>\u001b[0m in \u001b[0;36m<module>\u001b[0;34m\u001b[0m\n\u001b[0;32m----> 1\u001b[0;31m \u001b[0mairport_name\u001b[0m \u001b[0;34m=\u001b[0m \u001b[0mairport_dict\u001b[0m\u001b[0;34m[\u001b[0m\u001b[0mairport\u001b[0m\u001b[0;34m]\u001b[0m\u001b[0;34m[\u001b[0m\u001b[0;34m'AirportName'\u001b[0m\u001b[0;34m]\u001b[0m\u001b[0;34m\u001b[0m\u001b[0;34m\u001b[0m\u001b[0m\n\u001b[0m\u001b[1;32m      2\u001b[0m \u001b[0;34m\u001b[0m\u001b[0m\n\u001b[1;32m      3\u001b[0m \u001b[0;31m# Creating DataFrames for pickup and dropoff records.\u001b[0m\u001b[0;34m\u001b[0m\u001b[0;34m\u001b[0m\u001b[0;34m\u001b[0m\u001b[0m\n\u001b[1;32m      4\u001b[0m \u001b[0;31m# If memory usage is too great these can be deleted and assigned again as needed.\u001b[0m\u001b[0;34m\u001b[0m\u001b[0;34m\u001b[0m\u001b[0;34m\u001b[0m\u001b[0m\n\u001b[1;32m      5\u001b[0m \u001b[0mpickup\u001b[0m \u001b[0;34m=\u001b[0m \u001b[0mdf\u001b[0m\u001b[0;34m[\u001b[0m\u001b[0;34m'PULOC'\u001b[0m\u001b[0;34m]\u001b[0m \u001b[0;34m==\u001b[0m \u001b[0mairport\u001b[0m\u001b[0;34m\u001b[0m\u001b[0;34m\u001b[0m\u001b[0m\n",
      "\u001b[0;31mKeyError\u001b[0m: 'KBIF'"
     ]
    }
   ],
   "source": [
    "airport_name = airport_dict[airport]['AirportName']\n",
    "\n",
    "# Creating DataFrames for pickup and dropoff records.\n",
    "# If memory usage is too great these can be deleted and assigned again as needed.\n",
    "pickup = df['PULOC'] == airport\n",
    "dropoff = df['DropLoc'] == airport\n",
    "pickup_df = df[pickup].copy()\n",
    "dropoff_df = df[dropoff].copy()\n",
    "\n",
    "first_pickup = pickup_df.MissionDate.min()\n",
    "last_pickup = pickup_df.MissionDate.max()\n",
    "first_dropoff = dropoff_df.MissionDate.min()\n",
    "last_dropoff = dropoff_df.MissionDate.max()\n",
    "\n",
    "pickup_df.set_index('MissionDate', inplace=True)\n",
    "dropoff_df.set_index('MissionDate', inplace=True)\n",
    "\n",
    "# DataFrame for all records relating to selected airport.\n",
    "all_df = pd.concat([pickup_df, dropoff_df]).drop_duplicates()\n",
    "\n",
    "# DataFrames for all records categorized as removals, transfers.\n",
    "removal = all_df['R-T'] == 'R'\n",
    "transfer = all_df['R-T'] == 'T'\n",
    "removal_df = all_df[removal].copy()\n",
    "transfer_df = all_df[transfer].copy()\n",
    "\n",
    "# Names here are used downstream in figure labels.\n",
    "all_df.name = 'Passengers'\n",
    "removal_df.name = 'Removals'\n",
    "transfer_df.name = 'Transfers'\n",
    "pickup_df.name = 'Departures'\n",
    "dropoff_df.name = 'Arrivals'\n",
    "\n",
    "# This grouped table would work for mapping flights from specific airports.\n",
    "all_missions = all_df.groupby(['MissionDate', 'MissionID', 'PULOC', 'DropLoc'])['AlienMasterID'].count()\n",
    "\n",
    "# Resampled counts of passengers and missions for different timeframes and types of record.\n",
    "weekly_pickups = pickup_df['AlienMasterID'].resample('W').count()\n",
    "weekly_dropoffs = dropoff_df['AlienMasterID'].resample('W').count()\n",
    "monthly_pickups = pickup_df['AlienMasterID'].resample('M').count()\n",
    "monthly_dropoffs = dropoff_df['AlienMasterID'].resample('M').count()\n",
    "monthly_pickup_missions = pickup_df['MissionID'].resample('M').nunique()\n",
    "monthly_dropoff_missions = dropoff_df['MissionID'].resample('M').nunique()\n",
    "annual_pickups = pickup_df['AlienMasterID'].resample('AS-OCT').count()\n",
    "annual_dropoffs = dropoff_df['AlienMasterID'].resample('AS-OCT').count()\n",
    "annual_removals = removal_df['AlienMasterID'].resample('AS-OCT').count()\n",
    "annual_transfers = transfer_df['AlienMasterID'].resample('AS-OCT').count()\n",
    "annual_total = all_df['AlienMasterID'].resample('AS-OCT').count()\n",
    "annual_pickup_missions = pickup_df['MissionID'].resample('AS-OCT').nunique()\n",
    "annual_dropoff_missions = dropoff_df['MissionID'].resample('AS-OCT').nunique()\n",
    "annual_total_missions = all_df['MissionID'].resample('AS-OCT').nunique()\n",
    "\n",
    "# Various descriptive statistics for selected airport\n",
    "unique_pickups = len(set(pickup_df['AlienMasterID']))\n",
    "unique_dropoffs = len(set(dropoff_df['AlienMasterID']))\n",
    "unique_removals = len(set(removal_df['AlienMasterID']))\n",
    "unique_transfers = len(set(transfer_df['AlienMasterID']))\n",
    "total_unique = len(set(all_df['AlienMasterID']))\n",
    "removal_percent = unique_removals / total_unique * 100\n",
    "transfer_percent = unique_transfers / total_unique * 100\n",
    "monthly_dropoff_avg = round(monthly_dropoffs.mean(), 2)\n",
    "monthly_pickup_avg = round(monthly_pickups.mean(), 2)\n",
    "monthly_dropoff_mission_avg = round(monthly_dropoff_missions.mean(), 2)\n",
    "monthly_pickup_mission_avg = round(monthly_pickup_missions.mean(), 2)\n",
    "unique_pickup_missions = len(set(pickup_df['MissionID']))\n",
    "unique_dropoff_missions = len(set(dropoff_df['MissionID']))"
   ]
  },
  {
   "cell_type": "code",
   "execution_count": 80,
   "metadata": {},
   "outputs": [
    {
     "data": {
      "text/plain": [
       "52514"
      ]
     },
     "execution_count": 80,
     "metadata": {},
     "output_type": "execute_result"
    }
   ],
   "source": [
    "total_unique"
   ]
  },
  {
   "cell_type": "code",
   "execution_count": 81,
   "metadata": {},
   "outputs": [
    {
     "data": {
      "text/plain": [
       "MissionDate\n",
       "2010-10-01    7181\n",
       "2011-10-01    6839\n",
       "2012-10-01    6950\n",
       "2013-10-01    6202\n",
       "2014-10-01    4658\n",
       "2015-10-01    5866\n",
       "2016-10-01    4877\n",
       "2017-10-01    5999\n",
       "2018-10-01    3942\n",
       "Freq: AS-OCT, Name: AlienMasterID, dtype: int64"
      ]
     },
     "execution_count": 81,
     "metadata": {},
     "output_type": "execute_result"
    }
   ],
   "source": [
    "annual_total"
   ]
  },
  {
   "cell_type": "code",
   "execution_count": 82,
   "metadata": {},
   "outputs": [
    {
     "data": {
      "text/plain": [
       "San Diego International Airport                         9588\n",
       "Valley International Airport                            3128\n",
       "El Paso International Airport                           2301\n",
       "Phoenix-Mesa-Gateway Airport                            1425\n",
       "El Centro Naf Airport                                    174\n",
       "La Aurora Airport                                        114\n",
       "El Salvador International Airport                         97\n",
       "San Antonio International Airport                         26\n",
       "Yuma MCAS/Yuma International Airport                      23\n",
       "Brownsville South Padre Island International Airport      17\n",
       "Name: air2_AirportName, dtype: int64"
      ]
     },
     "execution_count": 82,
     "metadata": {},
     "output_type": "execute_result"
    }
   ],
   "source": [
    "# Top destination airports for removals from selected airport\n",
    "pickup_df[pickup_df['R-T'] == 'R']['air2_AirportName'].value_counts().head(10)"
   ]
  },
  {
   "cell_type": "code",
   "execution_count": 83,
   "metadata": {},
   "outputs": [
    {
     "data": {
      "text/plain": [
       "Phoenix-Mesa-Gateway Airport                            9251\n",
       "El Paso International Airport                           9230\n",
       "Alexandria International Airport                         383\n",
       "San Antonio International Airport                        107\n",
       "San Diego International Airport                           64\n",
       "Brownsville South Padre Island International Airport      55\n",
       "Meadows Field                                             23\n",
       "George Bush Intercontinental Houston Airport              21\n",
       "Valley International Airport                              11\n",
       "McCarran International Airport                             2\n",
       "Name: air2_AirportName, dtype: int64"
      ]
     },
     "execution_count": 83,
     "metadata": {},
     "output_type": "execute_result"
    }
   ],
   "source": [
    "# Top destination airports for transfers from selected airport\n",
    "pickup_df[pickup_df['R-T'] == 'T']['air2_AirportName'].value_counts().head(10)"
   ]
  },
  {
   "cell_type": "code",
   "execution_count": 84,
   "metadata": {},
   "outputs": [],
   "source": [
    "missions_df = all_missions.reset_index()\n",
    "missions_df = missions_df.rename({\"AlienMasterID\": \"Passengers\"}, axis=1)"
   ]
  },
  {
   "cell_type": "code",
   "execution_count": 85,
   "metadata": {},
   "outputs": [],
   "source": [
    "missions_df.to_csv(f'../output/{airport}_missions.csv', index=False)"
   ]
  },
  {
   "cell_type": "code",
   "execution_count": 86,
   "metadata": {},
   "outputs": [
    {
     "data": {
      "text/html": [
       "<div>\n",
       "<style scoped>\n",
       "    .dataframe tbody tr th:only-of-type {\n",
       "        vertical-align: middle;\n",
       "    }\n",
       "\n",
       "    .dataframe tbody tr th {\n",
       "        vertical-align: top;\n",
       "    }\n",
       "\n",
       "    .dataframe thead th {\n",
       "        text-align: right;\n",
       "    }\n",
       "</style>\n",
       "<table border=\"1\" class=\"dataframe\">\n",
       "  <thead>\n",
       "    <tr style=\"text-align: right;\">\n",
       "      <th></th>\n",
       "      <th>MissionDate</th>\n",
       "      <th>MissionID</th>\n",
       "      <th>PULOC</th>\n",
       "      <th>DropLoc</th>\n",
       "      <th>Passengers</th>\n",
       "    </tr>\n",
       "  </thead>\n",
       "  <tbody>\n",
       "    <tr>\n",
       "      <th>0</th>\n",
       "      <td>2010-10-02</td>\n",
       "      <td>137</td>\n",
       "      <td>KBFI</td>\n",
       "      <td>KIWA</td>\n",
       "      <td>1</td>\n",
       "    </tr>\n",
       "    <tr>\n",
       "      <th>1</th>\n",
       "      <td>2010-10-02</td>\n",
       "      <td>137</td>\n",
       "      <td>KBFI</td>\n",
       "      <td>KSAN</td>\n",
       "      <td>53</td>\n",
       "    </tr>\n",
       "    <tr>\n",
       "      <th>2</th>\n",
       "      <td>2010-10-02</td>\n",
       "      <td>137</td>\n",
       "      <td>KIWA</td>\n",
       "      <td>KBFI</td>\n",
       "      <td>26</td>\n",
       "    </tr>\n",
       "    <tr>\n",
       "      <th>3</th>\n",
       "      <td>2010-10-06</td>\n",
       "      <td>117</td>\n",
       "      <td>KBFI</td>\n",
       "      <td>KHRL</td>\n",
       "      <td>18</td>\n",
       "    </tr>\n",
       "    <tr>\n",
       "      <th>4</th>\n",
       "      <td>2010-10-06</td>\n",
       "      <td>117</td>\n",
       "      <td>KBFI</td>\n",
       "      <td>KIWA</td>\n",
       "      <td>28</td>\n",
       "    </tr>\n",
       "    <tr>\n",
       "      <th>5</th>\n",
       "      <td>2010-10-06</td>\n",
       "      <td>117</td>\n",
       "      <td>KIWA</td>\n",
       "      <td>KBFI</td>\n",
       "      <td>1</td>\n",
       "    </tr>\n",
       "    <tr>\n",
       "      <th>6</th>\n",
       "      <td>2010-10-09</td>\n",
       "      <td>128</td>\n",
       "      <td>KBFI</td>\n",
       "      <td>KSAN</td>\n",
       "      <td>63</td>\n",
       "    </tr>\n",
       "    <tr>\n",
       "      <th>7</th>\n",
       "      <td>2010-10-09</td>\n",
       "      <td>128</td>\n",
       "      <td>KIWA</td>\n",
       "      <td>KBFI</td>\n",
       "      <td>17</td>\n",
       "    </tr>\n",
       "    <tr>\n",
       "      <th>8</th>\n",
       "      <td>2010-10-13</td>\n",
       "      <td>172</td>\n",
       "      <td>KBFI</td>\n",
       "      <td>KHRL</td>\n",
       "      <td>27</td>\n",
       "    </tr>\n",
       "    <tr>\n",
       "      <th>9</th>\n",
       "      <td>2010-10-13</td>\n",
       "      <td>172</td>\n",
       "      <td>KBFI</td>\n",
       "      <td>KIAH</td>\n",
       "      <td>21</td>\n",
       "    </tr>\n",
       "    <tr>\n",
       "      <th>10</th>\n",
       "      <td>2010-10-16</td>\n",
       "      <td>194</td>\n",
       "      <td>KBFI</td>\n",
       "      <td>KIWA</td>\n",
       "      <td>1</td>\n",
       "    </tr>\n",
       "    <tr>\n",
       "      <th>11</th>\n",
       "      <td>2010-10-16</td>\n",
       "      <td>194</td>\n",
       "      <td>KBFI</td>\n",
       "      <td>KSAN</td>\n",
       "      <td>47</td>\n",
       "    </tr>\n",
       "    <tr>\n",
       "      <th>12</th>\n",
       "      <td>2010-10-16</td>\n",
       "      <td>194</td>\n",
       "      <td>KIWA</td>\n",
       "      <td>KBFI</td>\n",
       "      <td>49</td>\n",
       "    </tr>\n",
       "    <tr>\n",
       "      <th>13</th>\n",
       "      <td>2010-10-23</td>\n",
       "      <td>230</td>\n",
       "      <td>KBFI</td>\n",
       "      <td>KIWA</td>\n",
       "      <td>1</td>\n",
       "    </tr>\n",
       "    <tr>\n",
       "      <th>14</th>\n",
       "      <td>2010-10-23</td>\n",
       "      <td>230</td>\n",
       "      <td>KBFI</td>\n",
       "      <td>KSAN</td>\n",
       "      <td>99</td>\n",
       "    </tr>\n",
       "    <tr>\n",
       "      <th>15</th>\n",
       "      <td>2010-10-23</td>\n",
       "      <td>230</td>\n",
       "      <td>KIWA</td>\n",
       "      <td>KBFI</td>\n",
       "      <td>2</td>\n",
       "    </tr>\n",
       "    <tr>\n",
       "      <th>16</th>\n",
       "      <td>2010-10-27</td>\n",
       "      <td>258</td>\n",
       "      <td>KBFI</td>\n",
       "      <td>KHRL</td>\n",
       "      <td>20</td>\n",
       "    </tr>\n",
       "    <tr>\n",
       "      <th>17</th>\n",
       "      <td>2010-10-27</td>\n",
       "      <td>258</td>\n",
       "      <td>KBFI</td>\n",
       "      <td>KIWA</td>\n",
       "      <td>44</td>\n",
       "    </tr>\n",
       "    <tr>\n",
       "      <th>18</th>\n",
       "      <td>2010-10-27</td>\n",
       "      <td>258</td>\n",
       "      <td>KIWA</td>\n",
       "      <td>KBFI</td>\n",
       "      <td>1</td>\n",
       "    </tr>\n",
       "    <tr>\n",
       "      <th>19</th>\n",
       "      <td>2010-10-30</td>\n",
       "      <td>268</td>\n",
       "      <td>KBFI</td>\n",
       "      <td>KSAN</td>\n",
       "      <td>92</td>\n",
       "    </tr>\n",
       "    <tr>\n",
       "      <th>20</th>\n",
       "      <td>2010-10-30</td>\n",
       "      <td>268</td>\n",
       "      <td>KIWA</td>\n",
       "      <td>KBFI</td>\n",
       "      <td>4</td>\n",
       "    </tr>\n",
       "    <tr>\n",
       "      <th>21</th>\n",
       "      <td>2010-11-03</td>\n",
       "      <td>283</td>\n",
       "      <td>KBFI</td>\n",
       "      <td>KHRL</td>\n",
       "      <td>47</td>\n",
       "    </tr>\n",
       "    <tr>\n",
       "      <th>22</th>\n",
       "      <td>2010-11-03</td>\n",
       "      <td>283</td>\n",
       "      <td>KBFI</td>\n",
       "      <td>KIWA</td>\n",
       "      <td>4</td>\n",
       "    </tr>\n",
       "    <tr>\n",
       "      <th>23</th>\n",
       "      <td>2010-11-03</td>\n",
       "      <td>283</td>\n",
       "      <td>KIWA</td>\n",
       "      <td>KBFI</td>\n",
       "      <td>1</td>\n",
       "    </tr>\n",
       "    <tr>\n",
       "      <th>24</th>\n",
       "      <td>2010-11-06</td>\n",
       "      <td>293</td>\n",
       "      <td>KBFI</td>\n",
       "      <td>KSAN</td>\n",
       "      <td>79</td>\n",
       "    </tr>\n",
       "    <tr>\n",
       "      <th>25</th>\n",
       "      <td>2010-11-06</td>\n",
       "      <td>293</td>\n",
       "      <td>KIWA</td>\n",
       "      <td>KBFI</td>\n",
       "      <td>1</td>\n",
       "    </tr>\n",
       "    <tr>\n",
       "      <th>26</th>\n",
       "      <td>2010-11-10</td>\n",
       "      <td>319</td>\n",
       "      <td>KBFI</td>\n",
       "      <td>KHRL</td>\n",
       "      <td>46</td>\n",
       "    </tr>\n",
       "    <tr>\n",
       "      <th>27</th>\n",
       "      <td>2010-11-10</td>\n",
       "      <td>319</td>\n",
       "      <td>KBFI</td>\n",
       "      <td>KIWA</td>\n",
       "      <td>5</td>\n",
       "    </tr>\n",
       "    <tr>\n",
       "      <th>28</th>\n",
       "      <td>2010-11-13</td>\n",
       "      <td>323</td>\n",
       "      <td>KBFI</td>\n",
       "      <td>KSAN</td>\n",
       "      <td>77</td>\n",
       "    </tr>\n",
       "    <tr>\n",
       "      <th>29</th>\n",
       "      <td>2010-11-17</td>\n",
       "      <td>370</td>\n",
       "      <td>KBFI</td>\n",
       "      <td>KHRL</td>\n",
       "      <td>18</td>\n",
       "    </tr>\n",
       "    <tr>\n",
       "      <th>...</th>\n",
       "      <td>...</td>\n",
       "      <td>...</td>\n",
       "      <td>...</td>\n",
       "      <td>...</td>\n",
       "      <td>...</td>\n",
       "    </tr>\n",
       "    <tr>\n",
       "      <th>1309</th>\n",
       "      <td>2019-02-26</td>\n",
       "      <td>47898</td>\n",
       "      <td>KBFI</td>\n",
       "      <td>KELP</td>\n",
       "      <td>61</td>\n",
       "    </tr>\n",
       "    <tr>\n",
       "      <th>1310</th>\n",
       "      <td>2019-02-26</td>\n",
       "      <td>47898</td>\n",
       "      <td>KBFI</td>\n",
       "      <td>KIWA</td>\n",
       "      <td>35</td>\n",
       "    </tr>\n",
       "    <tr>\n",
       "      <th>1311</th>\n",
       "      <td>2019-02-26</td>\n",
       "      <td>47898</td>\n",
       "      <td>KIWA</td>\n",
       "      <td>KBFI</td>\n",
       "      <td>52</td>\n",
       "    </tr>\n",
       "    <tr>\n",
       "      <th>1312</th>\n",
       "      <td>2019-03-05</td>\n",
       "      <td>47933</td>\n",
       "      <td>KBFI</td>\n",
       "      <td>KELP</td>\n",
       "      <td>67</td>\n",
       "    </tr>\n",
       "    <tr>\n",
       "      <th>1313</th>\n",
       "      <td>2019-03-05</td>\n",
       "      <td>47933</td>\n",
       "      <td>KBFI</td>\n",
       "      <td>KIWA</td>\n",
       "      <td>24</td>\n",
       "    </tr>\n",
       "    <tr>\n",
       "      <th>1314</th>\n",
       "      <td>2019-03-05</td>\n",
       "      <td>47933</td>\n",
       "      <td>KIWA</td>\n",
       "      <td>KBFI</td>\n",
       "      <td>39</td>\n",
       "    </tr>\n",
       "    <tr>\n",
       "      <th>1315</th>\n",
       "      <td>2019-03-12</td>\n",
       "      <td>47971</td>\n",
       "      <td>KBFI</td>\n",
       "      <td>KELP</td>\n",
       "      <td>56</td>\n",
       "    </tr>\n",
       "    <tr>\n",
       "      <th>1316</th>\n",
       "      <td>2019-03-12</td>\n",
       "      <td>47971</td>\n",
       "      <td>KBFI</td>\n",
       "      <td>KIWA</td>\n",
       "      <td>35</td>\n",
       "    </tr>\n",
       "    <tr>\n",
       "      <th>1317</th>\n",
       "      <td>2019-03-12</td>\n",
       "      <td>47971</td>\n",
       "      <td>KIWA</td>\n",
       "      <td>KBFI</td>\n",
       "      <td>53</td>\n",
       "    </tr>\n",
       "    <tr>\n",
       "      <th>1318</th>\n",
       "      <td>2019-03-19</td>\n",
       "      <td>48054</td>\n",
       "      <td>KBFI</td>\n",
       "      <td>KELP</td>\n",
       "      <td>56</td>\n",
       "    </tr>\n",
       "    <tr>\n",
       "      <th>1319</th>\n",
       "      <td>2019-03-19</td>\n",
       "      <td>48054</td>\n",
       "      <td>KBFI</td>\n",
       "      <td>KIWA</td>\n",
       "      <td>42</td>\n",
       "    </tr>\n",
       "    <tr>\n",
       "      <th>1320</th>\n",
       "      <td>2019-03-19</td>\n",
       "      <td>48054</td>\n",
       "      <td>KIWA</td>\n",
       "      <td>KBFI</td>\n",
       "      <td>82</td>\n",
       "    </tr>\n",
       "    <tr>\n",
       "      <th>1321</th>\n",
       "      <td>2019-03-26</td>\n",
       "      <td>48094</td>\n",
       "      <td>KBFI</td>\n",
       "      <td>KELP</td>\n",
       "      <td>37</td>\n",
       "    </tr>\n",
       "    <tr>\n",
       "      <th>1322</th>\n",
       "      <td>2019-03-26</td>\n",
       "      <td>48094</td>\n",
       "      <td>KBFI</td>\n",
       "      <td>KIWA</td>\n",
       "      <td>29</td>\n",
       "    </tr>\n",
       "    <tr>\n",
       "      <th>1323</th>\n",
       "      <td>2019-03-26</td>\n",
       "      <td>48094</td>\n",
       "      <td>KIWA</td>\n",
       "      <td>KBFI</td>\n",
       "      <td>61</td>\n",
       "    </tr>\n",
       "    <tr>\n",
       "      <th>1324</th>\n",
       "      <td>2019-04-02</td>\n",
       "      <td>48135</td>\n",
       "      <td>KBFI</td>\n",
       "      <td>KELP</td>\n",
       "      <td>21</td>\n",
       "    </tr>\n",
       "    <tr>\n",
       "      <th>1325</th>\n",
       "      <td>2019-04-02</td>\n",
       "      <td>48135</td>\n",
       "      <td>KBFI</td>\n",
       "      <td>KIWA</td>\n",
       "      <td>79</td>\n",
       "    </tr>\n",
       "    <tr>\n",
       "      <th>1326</th>\n",
       "      <td>2019-04-02</td>\n",
       "      <td>48135</td>\n",
       "      <td>KIWA</td>\n",
       "      <td>KBFI</td>\n",
       "      <td>40</td>\n",
       "    </tr>\n",
       "    <tr>\n",
       "      <th>1327</th>\n",
       "      <td>2019-04-09</td>\n",
       "      <td>48173</td>\n",
       "      <td>KBFI</td>\n",
       "      <td>KELP</td>\n",
       "      <td>55</td>\n",
       "    </tr>\n",
       "    <tr>\n",
       "      <th>1328</th>\n",
       "      <td>2019-04-09</td>\n",
       "      <td>48175</td>\n",
       "      <td>KBFI</td>\n",
       "      <td>KIWA</td>\n",
       "      <td>53</td>\n",
       "    </tr>\n",
       "    <tr>\n",
       "      <th>1329</th>\n",
       "      <td>2019-04-09</td>\n",
       "      <td>48175</td>\n",
       "      <td>KELP</td>\n",
       "      <td>KBFI</td>\n",
       "      <td>91</td>\n",
       "    </tr>\n",
       "    <tr>\n",
       "      <th>1330</th>\n",
       "      <td>2019-04-09</td>\n",
       "      <td>48175</td>\n",
       "      <td>KIWA</td>\n",
       "      <td>KBFI</td>\n",
       "      <td>15</td>\n",
       "    </tr>\n",
       "    <tr>\n",
       "      <th>1331</th>\n",
       "      <td>2019-04-16</td>\n",
       "      <td>48226</td>\n",
       "      <td>KBFI</td>\n",
       "      <td>KELP</td>\n",
       "      <td>54</td>\n",
       "    </tr>\n",
       "    <tr>\n",
       "      <th>1332</th>\n",
       "      <td>2019-04-16</td>\n",
       "      <td>48226</td>\n",
       "      <td>KIWA</td>\n",
       "      <td>KBFI</td>\n",
       "      <td>75</td>\n",
       "    </tr>\n",
       "    <tr>\n",
       "      <th>1333</th>\n",
       "      <td>2019-04-23</td>\n",
       "      <td>48249</td>\n",
       "      <td>KBFI</td>\n",
       "      <td>KELP</td>\n",
       "      <td>32</td>\n",
       "    </tr>\n",
       "    <tr>\n",
       "      <th>1334</th>\n",
       "      <td>2019-04-23</td>\n",
       "      <td>48249</td>\n",
       "      <td>KBFI</td>\n",
       "      <td>KIWA</td>\n",
       "      <td>54</td>\n",
       "    </tr>\n",
       "    <tr>\n",
       "      <th>1335</th>\n",
       "      <td>2019-04-23</td>\n",
       "      <td>48249</td>\n",
       "      <td>KIWA</td>\n",
       "      <td>KBFI</td>\n",
       "      <td>54</td>\n",
       "    </tr>\n",
       "    <tr>\n",
       "      <th>1336</th>\n",
       "      <td>2019-04-29</td>\n",
       "      <td>48291</td>\n",
       "      <td>KBFI</td>\n",
       "      <td>KELP</td>\n",
       "      <td>43</td>\n",
       "    </tr>\n",
       "    <tr>\n",
       "      <th>1337</th>\n",
       "      <td>2019-04-29</td>\n",
       "      <td>48291</td>\n",
       "      <td>KBFI</td>\n",
       "      <td>KIWA</td>\n",
       "      <td>7</td>\n",
       "    </tr>\n",
       "    <tr>\n",
       "      <th>1338</th>\n",
       "      <td>2019-04-29</td>\n",
       "      <td>48291</td>\n",
       "      <td>KIWA</td>\n",
       "      <td>KBFI</td>\n",
       "      <td>90</td>\n",
       "    </tr>\n",
       "  </tbody>\n",
       "</table>\n",
       "<p>1339 rows × 5 columns</p>\n",
       "</div>"
      ],
      "text/plain": [
       "     MissionDate  MissionID PULOC DropLoc  Passengers\n",
       "0     2010-10-02        137  KBFI    KIWA           1\n",
       "1     2010-10-02        137  KBFI    KSAN          53\n",
       "2     2010-10-02        137  KIWA    KBFI          26\n",
       "3     2010-10-06        117  KBFI    KHRL          18\n",
       "4     2010-10-06        117  KBFI    KIWA          28\n",
       "5     2010-10-06        117  KIWA    KBFI           1\n",
       "6     2010-10-09        128  KBFI    KSAN          63\n",
       "7     2010-10-09        128  KIWA    KBFI          17\n",
       "8     2010-10-13        172  KBFI    KHRL          27\n",
       "9     2010-10-13        172  KBFI    KIAH          21\n",
       "10    2010-10-16        194  KBFI    KIWA           1\n",
       "11    2010-10-16        194  KBFI    KSAN          47\n",
       "12    2010-10-16        194  KIWA    KBFI          49\n",
       "13    2010-10-23        230  KBFI    KIWA           1\n",
       "14    2010-10-23        230  KBFI    KSAN          99\n",
       "15    2010-10-23        230  KIWA    KBFI           2\n",
       "16    2010-10-27        258  KBFI    KHRL          20\n",
       "17    2010-10-27        258  KBFI    KIWA          44\n",
       "18    2010-10-27        258  KIWA    KBFI           1\n",
       "19    2010-10-30        268  KBFI    KSAN          92\n",
       "20    2010-10-30        268  KIWA    KBFI           4\n",
       "21    2010-11-03        283  KBFI    KHRL          47\n",
       "22    2010-11-03        283  KBFI    KIWA           4\n",
       "23    2010-11-03        283  KIWA    KBFI           1\n",
       "24    2010-11-06        293  KBFI    KSAN          79\n",
       "25    2010-11-06        293  KIWA    KBFI           1\n",
       "26    2010-11-10        319  KBFI    KHRL          46\n",
       "27    2010-11-10        319  KBFI    KIWA           5\n",
       "28    2010-11-13        323  KBFI    KSAN          77\n",
       "29    2010-11-17        370  KBFI    KHRL          18\n",
       "...          ...        ...   ...     ...         ...\n",
       "1309  2019-02-26      47898  KBFI    KELP          61\n",
       "1310  2019-02-26      47898  KBFI    KIWA          35\n",
       "1311  2019-02-26      47898  KIWA    KBFI          52\n",
       "1312  2019-03-05      47933  KBFI    KELP          67\n",
       "1313  2019-03-05      47933  KBFI    KIWA          24\n",
       "1314  2019-03-05      47933  KIWA    KBFI          39\n",
       "1315  2019-03-12      47971  KBFI    KELP          56\n",
       "1316  2019-03-12      47971  KBFI    KIWA          35\n",
       "1317  2019-03-12      47971  KIWA    KBFI          53\n",
       "1318  2019-03-19      48054  KBFI    KELP          56\n",
       "1319  2019-03-19      48054  KBFI    KIWA          42\n",
       "1320  2019-03-19      48054  KIWA    KBFI          82\n",
       "1321  2019-03-26      48094  KBFI    KELP          37\n",
       "1322  2019-03-26      48094  KBFI    KIWA          29\n",
       "1323  2019-03-26      48094  KIWA    KBFI          61\n",
       "1324  2019-04-02      48135  KBFI    KELP          21\n",
       "1325  2019-04-02      48135  KBFI    KIWA          79\n",
       "1326  2019-04-02      48135  KIWA    KBFI          40\n",
       "1327  2019-04-09      48173  KBFI    KELP          55\n",
       "1328  2019-04-09      48175  KBFI    KIWA          53\n",
       "1329  2019-04-09      48175  KELP    KBFI          91\n",
       "1330  2019-04-09      48175  KIWA    KBFI          15\n",
       "1331  2019-04-16      48226  KBFI    KELP          54\n",
       "1332  2019-04-16      48226  KIWA    KBFI          75\n",
       "1333  2019-04-23      48249  KBFI    KELP          32\n",
       "1334  2019-04-23      48249  KBFI    KIWA          54\n",
       "1335  2019-04-23      48249  KIWA    KBFI          54\n",
       "1336  2019-04-29      48291  KBFI    KELP          43\n",
       "1337  2019-04-29      48291  KBFI    KIWA           7\n",
       "1338  2019-04-29      48291  KIWA    KBFI          90\n",
       "\n",
       "[1339 rows x 5 columns]"
      ]
     },
     "execution_count": 86,
     "metadata": {},
     "output_type": "execute_result"
    }
   ],
   "source": [
    "missions_df"
   ]
  },
  {
   "cell_type": "markdown",
   "metadata": {},
   "source": [
    "# Annual trends (by fiscal year)"
   ]
  },
  {
   "cell_type": "code",
   "execution_count": 87,
   "metadata": {},
   "outputs": [],
   "source": [
    "fy_index = pd.date_range(start='2010-10-01', end='2019-01-01', freq='AS-OCT')"
   ]
  },
  {
   "cell_type": "code",
   "execution_count": 88,
   "metadata": {},
   "outputs": [
    {
     "data": {
      "text/plain": [
       "MissionDate\n",
       "2010-10-01    101\n",
       "2011-10-01     76\n",
       "2012-10-01     61\n",
       "2013-10-01     63\n",
       "2014-10-01     39\n",
       "2015-10-01     50\n",
       "2016-10-01     59\n",
       "2017-10-01     55\n",
       "2018-10-01     32\n",
       "Freq: AS-OCT, Name: Total missions, dtype: int64"
      ]
     },
     "execution_count": 88,
     "metadata": {},
     "output_type": "execute_result"
    }
   ],
   "source": [
    "annual_pickups.rename('Total pickups', inplace=True)\n",
    "annual_dropoffs.rename('Total dropoffs', inplace=True)\n",
    "annual_removals.rename('Total removals', inplace=True)\n",
    "annual_transfers.rename('Total transfers', inplace=True)\n",
    "annual_total.rename('Total passengers', inplace=True)\n",
    "annual_pickup_missions.rename('Total pickup missions', inplace=True)\n",
    "annual_dropoff_missions.rename('Total dropoff missions', inplace=True)\n",
    "annual_total_missions.rename('Total missions', inplace=True)"
   ]
  },
  {
   "cell_type": "code",
   "execution_count": 89,
   "metadata": {},
   "outputs": [],
   "source": [
    "annual_summary = pd.DataFrame({'Annual Pickups': annual_pickups,\n",
    "              'Annual Pickup Missions': annual_pickup_missions,\n",
    "              'Annual Dropoffs': annual_dropoffs,\n",
    "              'Annual Dropoff Missions': annual_dropoff_missions,\n",
    "              'Annual Removals': annual_removals,\n",
    "              'Annual Transfers': annual_transfers,\n",
    "              'Annual Total Passengers': annual_total,\n",
    "              'Annual Total Missions': annual_total_missions}, index=fy_index)"
   ]
  },
  {
   "cell_type": "code",
   "execution_count": 90,
   "metadata": {},
   "outputs": [
    {
     "data": {
      "text/plain": [
       "MissionDate\n",
       "2010-10-01    101\n",
       "2011-10-01     76\n",
       "2012-10-01     61\n",
       "2013-10-01     63\n",
       "2014-10-01     39\n",
       "2015-10-01     50\n",
       "2016-10-01     59\n",
       "2017-10-01     55\n",
       "2018-10-01     32\n",
       "Freq: AS-OCT, Name: Total missions, dtype: int64"
      ]
     },
     "execution_count": 90,
     "metadata": {},
     "output_type": "execute_result"
    }
   ],
   "source": [
    "annual_total_missions"
   ]
  },
  {
   "cell_type": "code",
   "execution_count": 91,
   "metadata": {},
   "outputs": [],
   "source": [
    "annual_summary.index = annual_summary.index.year+1 \n",
    "annual_summary.index.name = 'Fiscal Year'"
   ]
  },
  {
   "cell_type": "code",
   "execution_count": 92,
   "metadata": {},
   "outputs": [
    {
     "data": {
      "text/html": [
       "<div>\n",
       "<style scoped>\n",
       "    .dataframe tbody tr th:only-of-type {\n",
       "        vertical-align: middle;\n",
       "    }\n",
       "\n",
       "    .dataframe tbody tr th {\n",
       "        vertical-align: top;\n",
       "    }\n",
       "\n",
       "    .dataframe thead th {\n",
       "        text-align: right;\n",
       "    }\n",
       "</style>\n",
       "<table border=\"1\" class=\"dataframe\">\n",
       "  <thead>\n",
       "    <tr style=\"text-align: right;\">\n",
       "      <th></th>\n",
       "      <th>Annual Pickups</th>\n",
       "      <th>Annual Pickup Missions</th>\n",
       "      <th>Annual Dropoffs</th>\n",
       "      <th>Annual Dropoff Missions</th>\n",
       "      <th>Annual Removals</th>\n",
       "      <th>Annual Transfers</th>\n",
       "      <th>Annual Total Passengers</th>\n",
       "      <th>Annual Total Missions</th>\n",
       "    </tr>\n",
       "    <tr>\n",
       "      <th>Fiscal Year</th>\n",
       "      <th></th>\n",
       "      <th></th>\n",
       "      <th></th>\n",
       "      <th></th>\n",
       "      <th></th>\n",
       "      <th></th>\n",
       "      <th></th>\n",
       "      <th></th>\n",
       "    </tr>\n",
       "  </thead>\n",
       "  <tbody>\n",
       "    <tr>\n",
       "      <th>2011</th>\n",
       "      <td>6629</td>\n",
       "      <td>99</td>\n",
       "      <td>552</td>\n",
       "      <td>47</td>\n",
       "      <td>5815</td>\n",
       "      <td>1366</td>\n",
       "      <td>7181</td>\n",
       "      <td>101</td>\n",
       "    </tr>\n",
       "    <tr>\n",
       "      <th>2012</th>\n",
       "      <td>5664</td>\n",
       "      <td>70</td>\n",
       "      <td>1175</td>\n",
       "      <td>51</td>\n",
       "      <td>4638</td>\n",
       "      <td>2201</td>\n",
       "      <td>6839</td>\n",
       "      <td>76</td>\n",
       "    </tr>\n",
       "    <tr>\n",
       "      <th>2013</th>\n",
       "      <td>4797</td>\n",
       "      <td>50</td>\n",
       "      <td>2153</td>\n",
       "      <td>44</td>\n",
       "      <td>2460</td>\n",
       "      <td>4490</td>\n",
       "      <td>6950</td>\n",
       "      <td>61</td>\n",
       "    </tr>\n",
       "    <tr>\n",
       "      <th>2014</th>\n",
       "      <td>3955</td>\n",
       "      <td>51</td>\n",
       "      <td>2247</td>\n",
       "      <td>48</td>\n",
       "      <td>685</td>\n",
       "      <td>5517</td>\n",
       "      <td>6202</td>\n",
       "      <td>63</td>\n",
       "    </tr>\n",
       "    <tr>\n",
       "      <th>2015</th>\n",
       "      <td>2732</td>\n",
       "      <td>33</td>\n",
       "      <td>1926</td>\n",
       "      <td>37</td>\n",
       "      <td>313</td>\n",
       "      <td>4345</td>\n",
       "      <td>4658</td>\n",
       "      <td>39</td>\n",
       "    </tr>\n",
       "    <tr>\n",
       "      <th>2016</th>\n",
       "      <td>3129</td>\n",
       "      <td>47</td>\n",
       "      <td>2737</td>\n",
       "      <td>44</td>\n",
       "      <td>225</td>\n",
       "      <td>5641</td>\n",
       "      <td>5866</td>\n",
       "      <td>50</td>\n",
       "    </tr>\n",
       "    <tr>\n",
       "      <th>2017</th>\n",
       "      <td>3390</td>\n",
       "      <td>53</td>\n",
       "      <td>1487</td>\n",
       "      <td>42</td>\n",
       "      <td>406</td>\n",
       "      <td>4471</td>\n",
       "      <td>4877</td>\n",
       "      <td>59</td>\n",
       "    </tr>\n",
       "    <tr>\n",
       "      <th>2018</th>\n",
       "      <td>3495</td>\n",
       "      <td>53</td>\n",
       "      <td>2504</td>\n",
       "      <td>50</td>\n",
       "      <td>1075</td>\n",
       "      <td>4924</td>\n",
       "      <td>5999</td>\n",
       "      <td>55</td>\n",
       "    </tr>\n",
       "    <tr>\n",
       "      <th>2019</th>\n",
       "      <td>2257</td>\n",
       "      <td>32</td>\n",
       "      <td>1685</td>\n",
       "      <td>26</td>\n",
       "      <td>1311</td>\n",
       "      <td>2631</td>\n",
       "      <td>3942</td>\n",
       "      <td>32</td>\n",
       "    </tr>\n",
       "  </tbody>\n",
       "</table>\n",
       "</div>"
      ],
      "text/plain": [
       "             Annual Pickups  Annual Pickup Missions  Annual Dropoffs  \\\n",
       "Fiscal Year                                                            \n",
       "2011                   6629                      99              552   \n",
       "2012                   5664                      70             1175   \n",
       "2013                   4797                      50             2153   \n",
       "2014                   3955                      51             2247   \n",
       "2015                   2732                      33             1926   \n",
       "2016                   3129                      47             2737   \n",
       "2017                   3390                      53             1487   \n",
       "2018                   3495                      53             2504   \n",
       "2019                   2257                      32             1685   \n",
       "\n",
       "             Annual Dropoff Missions  Annual Removals  Annual Transfers  \\\n",
       "Fiscal Year                                                               \n",
       "2011                              47             5815              1366   \n",
       "2012                              51             4638              2201   \n",
       "2013                              44             2460              4490   \n",
       "2014                              48              685              5517   \n",
       "2015                              37              313              4345   \n",
       "2016                              44              225              5641   \n",
       "2017                              42              406              4471   \n",
       "2018                              50             1075              4924   \n",
       "2019                              26             1311              2631   \n",
       "\n",
       "             Annual Total Passengers  Annual Total Missions  \n",
       "Fiscal Year                                                  \n",
       "2011                            7181                    101  \n",
       "2012                            6839                     76  \n",
       "2013                            6950                     61  \n",
       "2014                            6202                     63  \n",
       "2015                            4658                     39  \n",
       "2016                            5866                     50  \n",
       "2017                            4877                     59  \n",
       "2018                            5999                     55  \n",
       "2019                            3942                     32  "
      ]
     },
     "execution_count": 92,
     "metadata": {},
     "output_type": "execute_result"
    }
   ],
   "source": [
    "annual_summary"
   ]
  },
  {
   "cell_type": "code",
   "execution_count": 93,
   "metadata": {},
   "outputs": [],
   "source": [
    "flat_summary = annual_summary.unstack().to_frame().T "
   ]
  },
  {
   "cell_type": "code",
   "execution_count": 94,
   "metadata": {},
   "outputs": [],
   "source": [
    "flat_summary.index = [airport]"
   ]
  },
  {
   "cell_type": "code",
   "execution_count": 95,
   "metadata": {
    "scrolled": true
   },
   "outputs": [],
   "source": [
    "flat_summary.columns = flat_summary.columns.tolist()"
   ]
  },
  {
   "cell_type": "code",
   "execution_count": 96,
   "metadata": {},
   "outputs": [],
   "source": [
    "# annual_summary.to_csv(f'../output/{airport}_annual_summary.csv')"
   ]
  },
  {
   "cell_type": "code",
   "execution_count": 97,
   "metadata": {},
   "outputs": [],
   "source": [
    "# annual_dropoffs.to_csv('../output/KBFI-dropoffs.csv')"
   ]
  },
  {
   "cell_type": "code",
   "execution_count": 98,
   "metadata": {},
   "outputs": [],
   "source": [
    "def bar_chart(data, airport=str, airport_name=str, filename=str, title=str):\n",
    "    fig, ax = plt.subplots()\n",
    "\n",
    "    data.plot(kind='bar',\n",
    "              ax=ax,\n",
    "              stacked=True,\n",
    "              title=f'{airport_name}',\n",
    "              rot=0,\n",
    "              grid=True,\n",
    "              figsize=(8,6),\n",
    "              fontsize=14)\n",
    "    ax.set_axisbelow(True)\n",
    "    ax.set_facecolor('#EEEEEE')\n",
    "    ax.grid(color='#FFFFFF')\n",
    "    ax.set_ylabel('Number of Passengers', fontsize=16)\n",
    "    ax.set_ylim(0)\n",
    "    ax.set_xlabel('Fiscal Year', fontsize=16)\n",
    "    ax.set_title(f'{title}', fontsize=18)\n",
    "    ax.tick_params(labelsize=14)\n",
    "    ax.legend(fontsize=14)\n",
    "    txt='(Source: UWCHR, ICE Air ARTS database)'\n",
    "    plt.figtext(0.7, .02, txt, wrap=True, horizontalalignment='center', fontsize=12)\n",
    "    \n",
    "    fig.set_size_inches(10, 8)\n",
    "#     fig.savefig(f'../output/{airport}_{filename}.png')\n",
    "    plt.show()\n",
    "    plt.close()"
   ]
  },
  {
   "cell_type": "code",
   "execution_count": 99,
   "metadata": {},
   "outputs": [
    {
     "data": {
      "image/png": "[encoded data removed]",
      "text/plain": [
       "<Figure size 720x576 with 1 Axes>"
      ]
     },
     "metadata": {
      "needs_background": "light"
     },
     "output_type": "display_data"
    }
   ],
   "source": [
    "data = annual_summary[['Annual Pickups', 'Annual Dropoffs']]\n",
    "title = f'{airport_name} ({airport})\\nICE Air departures plus arrivals'\n",
    "bar_chart(data, airport, airport_name, 'pickup-dropoff', title)\n",
    "plt.show()"
   ]
  },
  {
   "cell_type": "code",
   "execution_count": 100,
   "metadata": {},
   "outputs": [
    {
     "data": {
      "image/png": "[encoded data removed]",
      "text/plain": [
       "<Figure size 720x576 with 1 Axes>"
      ]
     },
     "metadata": {
      "needs_background": "light"
     },
     "output_type": "display_data"
    }
   ],
   "source": [
    "data = annual_summary[['Annual Removals', 'Annual Transfers']]\n",
    "title = f'{airport_name} ({airport})\\nICE Air removals plus transfers'\n",
    "bar_chart(data, airport, airport_name, 'removal-transfer', title)\n",
    "plt.show()"
   ]
  },
  {
   "cell_type": "code",
   "execution_count": 101,
   "metadata": {},
   "outputs": [],
   "source": [
    "annual_summary[['Annual Pickups', 'Annual Dropoffs']].to_csv(f'../output/{airport}-AnnualDeparturesArrivals.csv')"
   ]
  },
  {
   "cell_type": "code",
   "execution_count": 102,
   "metadata": {},
   "outputs": [],
   "source": [
    "# all_df.to_csv(f'../output/{airport}-allpassengers.csv')"
   ]
  },
  {
   "cell_type": "markdown",
   "metadata": {},
   "source": [
    "# Annual pickup rate, by criminal conviction status"
   ]
  },
  {
   "cell_type": "markdown",
   "metadata": {},
   "source": [
    "WARNING: Criminal conviction data is not consistently recorded by ICE, especially in FY 11."
   ]
  },
  {
   "cell_type": "code",
   "execution_count": 103,
   "metadata": {},
   "outputs": [],
   "source": [
    "annual_non_criminal = pickup_df[['NonCriminal']].resample('AS-OCT').sum()"
   ]
  },
  {
   "cell_type": "code",
   "execution_count": 104,
   "metadata": {},
   "outputs": [],
   "source": [
    "annual_non_criminal['total'] = annual_pickups\n",
    "annual_non_criminal['percent'] = annual_non_criminal['NonCriminal']/annual_pickups*100"
   ]
  },
  {
   "cell_type": "code",
   "execution_count": 105,
   "metadata": {},
   "outputs": [
    {
     "data": {
      "image/png": "[encoded data removed]",
      "text/plain": [
       "<Figure size 720x576 with 2 Axes>"
      ]
     },
     "metadata": {
      "needs_background": "light"
     },
     "output_type": "display_data"
    }
   ],
   "source": [
    "annual_data = annual_non_criminal['2010':'2017']\n",
    "annual_data.index = [f'FY{str(x)[2:4]}' for x in range(2011,2019)]\n",
    "\n",
    "# plt.style.use([{'legend.frameon': True}])\n",
    "plt.rc(\"font\", family=\"Sans-Serif\")\n",
    "\n",
    "fig, ax1 = plt.subplots()\n",
    "\n",
    "ax2 = ax1.twinx()\n",
    "\n",
    "lns1 = ax1.plot(annual_data['total'], label='Total pickups')\n",
    "lns2 = ax1.plot(annual_data['NonCriminal'], label='Non-criminal pickups')\n",
    "ax1_max = annual_data['total'].max()\n",
    "ax1.set_ylim(0, (ax1_max * 1.1))\n",
    "ax1.set_ylabel(f'Annual {airport} pickups', fontsize=16)\n",
    "ax1.tick_params(axis='x', labelsize=14)\n",
    "ax1.tick_params(axis='y', labelsize=14)\n",
    "ax2.grid(None)\n",
    "\n",
    "lns3 = ax2.plot(annual_data['percent'], label='% non-criminal', linestyle=':', color='green')\n",
    "ax2_max = annual_data['percent'].max()\n",
    "ax2.set_ylim(0, (ax2_max * 1.25))\n",
    "ax2.set_ylabel('% non-criminal', fontsize=16)\n",
    "ax2.tick_params(axis='y', labelsize=14)\n",
    "ax2.grid(None)\n",
    "# ax2.set_xticklabels([f'FY{str(x)[2:4]}' for x in range(2011,2019)])\n",
    "\n",
    "lns = [lns1[0], lns2[0], lns3[0]]\n",
    "labs = [l.get_label() for l in lns]\n",
    "ax1.legend(lns, labs, loc=0, fontsize=14)\n",
    "\n",
    "ax1.set_title(f'ICE pickups at {airport_name}\\n% with no criminal conviction', fontsize=20)\n",
    "\n",
    "fig.set_size_inches(10, 8)\n",
    "\n",
    "plt.show()\n",
    "fig.savefig(f'../output/{airport}_NoCrim.png', dpi=100)"
   ]
  },
  {
   "cell_type": "markdown",
   "metadata": {},
   "source": [
    "# Monthly averages (by FY)"
   ]
  },
  {
   "cell_type": "markdown",
   "metadata": {},
   "source": [
    "Calculating average rates of pickups, dropoffs, and flights for each calendar year in the dataset."
   ]
  },
  {
   "cell_type": "code",
   "execution_count": 106,
   "metadata": {},
   "outputs": [],
   "source": [
    "monthly_means = pd.DataFrame()\n",
    "for year in range(2011, 2019):\n",
    "    mean_pickups = monthly_pickups[f'{year}'].mean()\n",
    "    mean_pickup_missions = monthly_pickup_missions[f'{year}'].mean()\n",
    "    mean_dropoffs = monthly_dropoffs[f'{year}'].mean()\n",
    "    mean_dropoff_missions = monthly_dropoff_missions[f'{year}'].mean()\n",
    "    monthly_means = monthly_means.append({'calendar_year':year,\n",
    "                                          'monthly_mean_pickups':mean_pickups,\n",
    "                                          'monthly_mean_dropoffs':mean_dropoffs,\n",
    "                                          'monthly_mean_pickup_missions':mean_pickup_missions,\n",
    "                                          'monthly_mean_dropoff_missions':mean_dropoff_missions,\n",
    "                                         }, ignore_index=True)\n",
    "monthly_means['calendar_year'] = monthly_means['calendar_year'].astype(int)\n",
    "monthly_means = monthly_means.set_index('calendar_year')"
   ]
  },
  {
   "cell_type": "code",
   "execution_count": 107,
   "metadata": {},
   "outputs": [
    {
     "data": {
      "text/html": [
       "<div>\n",
       "<style scoped>\n",
       "    .dataframe tbody tr th:only-of-type {\n",
       "        vertical-align: middle;\n",
       "    }\n",
       "\n",
       "    .dataframe tbody tr th {\n",
       "        vertical-align: top;\n",
       "    }\n",
       "\n",
       "    .dataframe thead th {\n",
       "        text-align: right;\n",
       "    }\n",
       "</style>\n",
       "<table border=\"1\" class=\"dataframe\">\n",
       "  <thead>\n",
       "    <tr style=\"text-align: right;\">\n",
       "      <th></th>\n",
       "      <th>monthly_mean_dropoff_missions</th>\n",
       "      <th>monthly_mean_dropoffs</th>\n",
       "      <th>monthly_mean_pickup_missions</th>\n",
       "      <th>monthly_mean_pickups</th>\n",
       "    </tr>\n",
       "    <tr>\n",
       "      <th>calendar_year</th>\n",
       "      <th></th>\n",
       "      <th></th>\n",
       "      <th></th>\n",
       "      <th></th>\n",
       "    </tr>\n",
       "  </thead>\n",
       "  <tbody>\n",
       "    <tr>\n",
       "      <th>2011</th>\n",
       "      <td>4.42</td>\n",
       "      <td>59.00</td>\n",
       "      <td>8.33</td>\n",
       "      <td>544.17</td>\n",
       "    </tr>\n",
       "    <tr>\n",
       "      <th>2012</th>\n",
       "      <td>3.92</td>\n",
       "      <td>115.42</td>\n",
       "      <td>4.83</td>\n",
       "      <td>450.17</td>\n",
       "    </tr>\n",
       "    <tr>\n",
       "      <th>2013</th>\n",
       "      <td>3.17</td>\n",
       "      <td>165.25</td>\n",
       "      <td>4.08</td>\n",
       "      <td>383.58</td>\n",
       "    </tr>\n",
       "    <tr>\n",
       "      <th>2014</th>\n",
       "      <td>3.83</td>\n",
       "      <td>161.92</td>\n",
       "      <td>3.92</td>\n",
       "      <td>300.00</td>\n",
       "    </tr>\n",
       "    <tr>\n",
       "      <th>2015</th>\n",
       "      <td>3.17</td>\n",
       "      <td>209.00</td>\n",
       "      <td>2.83</td>\n",
       "      <td>237.67</td>\n",
       "    </tr>\n",
       "    <tr>\n",
       "      <th>2016</th>\n",
       "      <td>4.17</td>\n",
       "      <td>231.50</td>\n",
       "      <td>4.50</td>\n",
       "      <td>264.83</td>\n",
       "    </tr>\n",
       "    <tr>\n",
       "      <th>2017</th>\n",
       "      <td>3.50</td>\n",
       "      <td>120.92</td>\n",
       "      <td>4.25</td>\n",
       "      <td>288.50</td>\n",
       "    </tr>\n",
       "    <tr>\n",
       "      <th>2018</th>\n",
       "      <td>3.92</td>\n",
       "      <td>208.83</td>\n",
       "      <td>4.42</td>\n",
       "      <td>293.67</td>\n",
       "    </tr>\n",
       "  </tbody>\n",
       "</table>\n",
       "</div>"
      ],
      "text/plain": [
       "               monthly_mean_dropoff_missions  monthly_mean_dropoffs  \\\n",
       "calendar_year                                                         \n",
       "2011                                    4.42                  59.00   \n",
       "2012                                    3.92                 115.42   \n",
       "2013                                    3.17                 165.25   \n",
       "2014                                    3.83                 161.92   \n",
       "2015                                    3.17                 209.00   \n",
       "2016                                    4.17                 231.50   \n",
       "2017                                    3.50                 120.92   \n",
       "2018                                    3.92                 208.83   \n",
       "\n",
       "               monthly_mean_pickup_missions  monthly_mean_pickups  \n",
       "calendar_year                                                      \n",
       "2011                                   8.33                544.17  \n",
       "2012                                   4.83                450.17  \n",
       "2013                                   4.08                383.58  \n",
       "2014                                   3.92                300.00  \n",
       "2015                                   2.83                237.67  \n",
       "2016                                   4.50                264.83  \n",
       "2017                                   4.25                288.50  \n",
       "2018                                   4.42                293.67  "
      ]
     },
     "execution_count": 107,
     "metadata": {},
     "output_type": "execute_result"
    }
   ],
   "source": [
    "monthly_means.round(2)"
   ]
  },
  {
   "cell_type": "code",
   "execution_count": 108,
   "metadata": {},
   "outputs": [],
   "source": [
    "# monthly_means.to_csv(f'../output/{airport}_monthly_means.csv')"
   ]
  },
  {
   "cell_type": "markdown",
   "metadata": {},
   "source": [
    "# Top nationalities"
   ]
  },
  {
   "cell_type": "code",
   "execution_count": 109,
   "metadata": {},
   "outputs": [
    {
     "data": {
      "text/plain": [
       "MissionDate\n",
       "2014-06-02    MSLP\n",
       "2014-06-02    MSLP\n",
       "2014-06-02    MSLP\n",
       "2014-06-02    MSLP\n",
       "2014-06-02    MSLP\n",
       "2014-06-02    MSLP\n",
       "2014-06-02    MSLP\n",
       "2014-06-02    MSLP\n",
       "2014-06-02    MSLP\n",
       "2014-06-02    MSLP\n",
       "2014-06-02    MSLP\n",
       "2014-06-02    MSLP\n",
       "2014-06-02    MSLP\n",
       "2014-06-02    MSLP\n",
       "2014-06-02    MSLP\n",
       "2014-06-02    MSLP\n",
       "2014-06-02    MSLP\n",
       "2014-06-02    MSLP\n",
       "2014-06-02    MSLP\n",
       "2014-06-02    MSLP\n",
       "2014-06-02    MSLP\n",
       "2014-06-02    MSLP\n",
       "2014-06-02    MSLP\n",
       "2014-06-02    MSLP\n",
       "2014-06-02    MSLP\n",
       "2014-06-02    MSLP\n",
       "2014-06-02    MSLP\n",
       "2014-06-02    MSLP\n",
       "2014-06-02    MSLP\n",
       "2014-06-02    MSLP\n",
       "              ... \n",
       "2014-06-02    MSLP\n",
       "2014-06-02    MSLP\n",
       "2014-06-02    MSLP\n",
       "2014-06-02    MSLP\n",
       "2014-06-02    MSLP\n",
       "2014-06-02    MSLP\n",
       "2014-06-02    MSLP\n",
       "2014-06-02    MSLP\n",
       "2014-06-02    MSLP\n",
       "2014-06-02    MSLP\n",
       "2014-06-02    MSLP\n",
       "2014-06-02    MSLP\n",
       "2014-06-02    MSLP\n",
       "2014-06-02    MSLP\n",
       "2014-06-02    MSLP\n",
       "2014-06-02    MSLP\n",
       "2014-06-02    MSLP\n",
       "2014-06-02    MSLP\n",
       "2014-06-02    MSLP\n",
       "2014-06-02    MSLP\n",
       "2014-06-02    MSLP\n",
       "2014-06-02    MSLP\n",
       "2014-06-02    MSLP\n",
       "2014-06-09    KBFI\n",
       "2014-06-09    KBFI\n",
       "2014-06-09    KBFI\n",
       "2014-06-09    KBFI\n",
       "2014-06-09    KBFI\n",
       "2014-06-09    KBFI\n",
       "2014-06-09    KBFI\n",
       "Name: DropLoc, Length: 104, dtype: category\n",
       "Categories (211, object): [KAEX, KBFI, KBFL, KELP, ..., FNLU, KPVD, FEFF, FVRG]"
      ]
     },
     "execution_count": 109,
     "metadata": {},
     "output_type": "execute_result"
    }
   ],
   "source": [
    "removal_df[removal_df['CountryOfCitizenship'] == 'EL SALVADOR']['DropLoc']"
   ]
  },
  {
   "cell_type": "code",
   "execution_count": 110,
   "metadata": {},
   "outputs": [
    {
     "data": {
      "text/plain": [
       "MEXICO                26049\n",
       "GUATEMALA              3681\n",
       "EL SALVADOR            2741\n",
       "HONDURAS               2264\n",
       "HAITI                   462\n",
       "ECUADOR                 178\n",
       "NICARAGUA               130\n",
       "CAMBODIA                119\n",
       "COLOMBIA                 54\n",
       "DOMINICAN REPUBLIC       36\n",
       "Name: CountryOfCitizenship, dtype: int64"
      ]
     },
     "execution_count": 110,
     "metadata": {},
     "output_type": "execute_result"
    }
   ],
   "source": [
    "pickup_df.drop_duplicates(subset='AlienMasterID')['CountryOfCitizenship'].value_counts().head(10)"
   ]
  },
  {
   "cell_type": "code",
   "execution_count": 111,
   "metadata": {},
   "outputs": [
    {
     "data": {
      "text/plain": [
       "EL SALVADOR    3527\n",
       "GUATEMALA      2854\n",
       "MEXICO         2388\n",
       "HONDURAS       2070\n",
       "INDIA          1643\n",
       "Name: CountryOfCitizenship, dtype: int64"
      ]
     },
     "execution_count": 111,
     "metadata": {},
     "output_type": "execute_result"
    }
   ],
   "source": [
    "dropoff_df.drop_duplicates(subset='AlienMasterID')['CountryOfCitizenship'].value_counts().head(5)"
   ]
  },
  {
   "cell_type": "code",
   "execution_count": 112,
   "metadata": {},
   "outputs": [
    {
     "data": {
      "text/plain": [
       "MEXICO         28437\n",
       "GUATEMALA       6535\n",
       "EL SALVADOR     6268\n",
       "HONDURAS        4334\n",
       "INDIA           1675\n",
       "Name: CountryOfCitizenship, dtype: int64"
      ]
     },
     "execution_count": 112,
     "metadata": {},
     "output_type": "execute_result"
    }
   ],
   "source": [
    "all_df.drop_duplicates(subset='AlienMasterID')['CountryOfCitizenship'].value_counts().head(5)"
   ]
  },
  {
   "cell_type": "code",
   "execution_count": 113,
   "metadata": {},
   "outputs": [],
   "source": [
    "nat_percent = (df.groupby(['CountryOfCitizenship'])['AlienMasterID'].nunique() / len(df)).sort_values(ascending=False)"
   ]
  },
  {
   "cell_type": "code",
   "execution_count": 114,
   "metadata": {},
   "outputs": [],
   "source": [
    "airport_nat_percent = (all_df.groupby(['CountryOfCitizenship'])['AlienMasterID'].nunique() / len(all_df)).sort_values(ascending=False)"
   ]
  },
  {
   "cell_type": "code",
   "execution_count": 115,
   "metadata": {},
   "outputs": [],
   "source": [
    "pd.DataFrame({'Nationality as percent of dataset': nat_percent,\n",
    "              f'Nationality as percent of {airport}': airport_nat_percent}).to_csv(f'../output/{airport}_nationality_percent_comparison.csv')"
   ]
  },
  {
   "cell_type": "code",
   "execution_count": 116,
   "metadata": {},
   "outputs": [],
   "source": [
    "removal_nationalities = removal_df.groupby([pd.Grouper(freq='AS-OCT'), 'CountryOfCitizenship'])['AlienMasterID'].nunique().unstack()\n",
    "removal_nationalities.to_csv(f'../output/{airport}_removal_nationalities.csv')"
   ]
  },
  {
   "cell_type": "markdown",
   "metadata": {},
   "source": [
    "# Chart of top nationalities per year\n",
    "\n",
    "This chart shows the top five `CountryOfCitizenship` values for each fiscal year. It can be misleading because values are summed in \"ALL OTHERS\" for years in which a particular nationalitiy is not in the top 5, but it makes clear things like which years certain groups come into or leave the top 5.\n",
    "\n",
    "Charts can be generated for pickups, dropoffs, removals, transfers, or all records."
   ]
  },
  {
   "cell_type": "code",
   "execution_count": 117,
   "metadata": {},
   "outputs": [],
   "source": [
    "# Strangely, copying a DataFrame doesn't copy DataFrame.name\n",
    "# There's probably a better way to link dataframes to downstream chart labels, though\n",
    "df_to_analyze = pickup_df.copy()\n",
    "df_to_analyze.name = pickup_df.name"
   ]
  },
  {
   "cell_type": "code",
   "execution_count": 118,
   "metadata": {},
   "outputs": [],
   "source": [
    "g = df_to_analyze.groupby([pd.Grouper(freq='AS-OCT', sort=True), 'CountryOfCitizenship'])['AlienMasterID', 'MissionID'].nunique()\n",
    "country_of_citizenship_by_year = g.reset_index()\n",
    "country_of_citizenship_by_year.rename({'MissionDate': 'FY'}, axis='columns', inplace=True)\n",
    "country_of_citizenship_by_year.set_index('FY', inplace=True)\n",
    "country_of_citizenship_by_year.sort_values(by='AlienMasterID', ascending=False, inplace=True)\n",
    "\n",
    "# country_of_citizenship_by_year.to_csv(f'../output/{airport}_country_of_citizenship_by_year.csv', index=True)"
   ]
  },
  {
   "cell_type": "code",
   "execution_count": 119,
   "metadata": {},
   "outputs": [],
   "source": [
    "# Limiting to fiscal years with full data (FY2011-FY2018).\n",
    "country_of_citizenship_by_year = country_of_citizenship_by_year['2010':'2017']"
   ]
  },
  {
   "cell_type": "code",
   "execution_count": 120,
   "metadata": {},
   "outputs": [],
   "source": [
    "all_passenger_nationality_by_year = country_of_citizenship_by_year.groupby([pd.Grouper(freq='AS-OCT'),'CountryOfCitizenship'])[['AlienMasterID']].sum().dropna(how='all',axis=0).unstack()\n",
    "all_passenger_nationality_by_year.to_csv(f'../output/{airport}_all_passenger_nationality_by_year.csv')"
   ]
  },
  {
   "cell_type": "code",
   "execution_count": 121,
   "metadata": {},
   "outputs": [],
   "source": [
    "all_passenger_nationality_by_year.loc['2016':'2017'].T.dropna(how='all').to_csv('../output/kbfi_pickups_by_nationality.csv')"
   ]
  },
  {
   "cell_type": "code",
   "execution_count": 122,
   "metadata": {},
   "outputs": [],
   "source": [
    "top_5_df = pd.DataFrame()\n",
    "\n",
    "for year in country_of_citizenship_by_year.index.unique():\n",
    "    temp = country_of_citizenship_by_year.loc[f'{year}'][['CountryOfCitizenship', 'AlienMasterID']]\n",
    "    temp_top_5 = temp[0:5]\n",
    "    if len(temp) > 5:\n",
    "        all_other_count = sum(temp['AlienMasterID'][5:])\n",
    "    else:\n",
    "        all_other_count = 0\n",
    "    other_df = pd.DataFrame([['ALL OTHERS', all_other_count]], columns=['CountryOfCitizenship', 'AlienMasterID'], index=[year])\n",
    "    temp_top_5 = temp_top_5.append(other_df)\n",
    "    top_5_df = top_5_df.append(temp_top_5)\n",
    "    \n",
    "top_5_df.sort_index(inplace=True)\n",
    "top_5_df.index = [f'FY{str(x)[2:4]}' for x in top_5_df.index.year + 1]\n",
    "\n",
    "top_5_data = pd.pivot_table(data=top_5_df,\n",
    "                       index=top_5_df.index,\n",
    "                       columns='CountryOfCitizenship',\n",
    "                       values='AlienMasterID',\n",
    "                       aggfunc=np.sum,\n",
    "                       fill_value=0)\n",
    "\n",
    "top_5_data = top_5_data.reindex(top_5_data.sum().sort_values(ascending=False).index, axis=1)\n",
    "cols = list(top_5_data.columns)\n",
    "cols.remove('ALL OTHERS')\n",
    "cols.append('ALL OTHERS')\n",
    "top_5_data = top_5_data[cols]\n",
    "\n",
    "top_5_data.columns = top_5_data.columns.str.title()\n",
    "top_5_data.columns.name = 'Country of Citizenship'"
   ]
  },
  {
   "cell_type": "code",
   "execution_count": 123,
   "metadata": {},
   "outputs": [],
   "source": [
    "def country_of_citizenship_trend(data, title=str, filename=str, xlabel=str, ylabel=str):\n",
    "    \n",
    "    fig, ax = plt.subplots()\n",
    "    \n",
    "    data.plot(kind='bar', stacked=True, legend=True, ax=ax).legend(bbox_to_anchor=(1,1))\n",
    "\n",
    "    ax.set_axisbelow(True)\n",
    "    ax.set_facecolor('#EEEEEE')\n",
    "    ax.grid(color='#FFFFFF')\n",
    "    ax.set_ylabel(ylabel, fontsize=16)\n",
    "    ax.set_xlabel(xlabel, fontsize=16)\n",
    "    ax.set_title(title, fontsize=18)\n",
    "    ax.tick_params(labelsize=14)\n",
    "    plt.xticks(rotation=0)\n",
    "    txt='(Source: UWCHR, ICE Air ARTS database)'\n",
    "    txt=plt.figtext(0.7, -0.00, txt, wrap=True, horizontalalignment='center', fontsize=12)\n",
    "    lgd=plt.legend(fontsize=12)\n",
    "\n",
    "    fig.set_size_inches(10, 8)\n",
    "    fig.savefig(f'../output/{filename}.png', dpi=100, bbox_extra_artists=(lgd,txt), bbox_inches='tight')\n",
    "    return fig, ax"
   ]
  },
  {
   "cell_type": "code",
   "execution_count": 124,
   "metadata": {},
   "outputs": [
    {
     "data": {
      "image/png": "[encoded data removed]",
      "text/plain": [
       "<Figure size 720x576 with 1 Axes>"
      ]
     },
     "metadata": {
      "needs_background": "light"
     },
     "output_type": "display_data"
    }
   ],
   "source": [
    "country_of_citizenship_trend(top_5_data,\n",
    "                             title=f'{airport_name} \\n ICE Air {df_to_analyze.name} by Country of Citizenship \\n (Top 5 per year)',\n",
    "                             filename=f'{airport}_top5_nationalities',\n",
    "                             ylabel=f'Total {df_to_analyze.name}',\n",
    "                             xlabel='Fiscal Year');"
   ]
  },
  {
   "cell_type": "code",
   "execution_count": 125,
   "metadata": {},
   "outputs": [],
   "source": [
    "g = pickup_df.groupby(['PULOC', pd.Grouper(freq='AS-OCT', sort=True), 'air2_AirportName'])['AlienMasterID','MissionID'].nunique()\n",
    "drop_locs_by_year = g.reset_index()\n",
    "drop_locs_by_year.rename({'MissionDate': 'FY'}, axis='columns', inplace=True)\n",
    "\n",
    "# drop_locs_by_year.to_csv(f'../output/{airport}_drop_locs_by_year.csv', index=True)"
   ]
  },
  {
   "cell_type": "markdown",
   "metadata": {},
   "source": [
    "# Alternate plot of top nationalities"
   ]
  },
  {
   "cell_type": "markdown",
   "metadata": {},
   "source": [
    "Since selecting top 5 for each year is a bit counterintuitive, we can instead select here an aribtrary number of nationalities to display for all years, while summing others. This can be based on most common values or could be some other arbitrary list. (See also implementation in `global.ipynb` for plotting all values that break top 5 for any year.)"
   ]
  },
  {
   "cell_type": "code",
   "execution_count": 126,
   "metadata": {},
   "outputs": [],
   "source": [
    "annual = df_to_analyze.groupby([pd.Grouper(freq='AS-OCT', sort=True), 'CountryOfCitizenship'])['AlienMasterID'].nunique()"
   ]
  },
  {
   "cell_type": "code",
   "execution_count": 127,
   "metadata": {},
   "outputs": [],
   "source": [
    "# There is probably a better way to do this\n",
    "annual = annual.reset_index()\n",
    "annual.set_index('MissionDate', inplace=True)\n",
    "annual = annual['2010':'2017']"
   ]
  },
  {
   "cell_type": "code",
   "execution_count": 128,
   "metadata": {},
   "outputs": [],
   "source": [
    "# Select arbitrary number of top values to display here\n",
    "number_of_top_values = 5\n",
    "annual_sum = annual.groupby(['CountryOfCitizenship'])['AlienMasterID'].sum()\n",
    "top = list(annual_sum.sort_values(ascending=False).head(number_of_top_values).index)\n",
    "\n",
    "top_df = pd.DataFrame()\n",
    "top_df = top_df.append(annual[annual['CountryOfCitizenship'].isin(top)])\n",
    "top_df.index = top_df.index.year\n",
    "\n",
    "for year in annual.index.year.unique():\n",
    "    temp = annual[f'{year}']\n",
    "    temp2 = temp[~temp['CountryOfCitizenship'].isin(top)]\n",
    "    all_other_count = temp2['AlienMasterID'].sum()\n",
    "    other_df = pd.DataFrame([['ALL OTHERS', all_other_count]],\n",
    "                            columns=['CountryOfCitizenship',\n",
    "                                     'AlienMasterID'],\n",
    "                            index=[year])\n",
    "    top_df = top_df.append(other_df)\n",
    "\n",
    "top_df.sort_index(inplace=True)\n",
    "top_df.index = [f'FY{str(x)[2:4]}' for x in top_df.index + 1]\n",
    "\n",
    "top_df['CountryOfCitizenship'] = top_df['CountryOfCitizenship'].astype('category')\n",
    "\n",
    "top_data = pd.pivot_table(data=top_df,\n",
    "                       index=top_df.index,\n",
    "                       columns='CountryOfCitizenship',\n",
    "                       values='AlienMasterID',\n",
    "                       aggfunc=np.sum,\n",
    "                       fill_value=0)\n",
    "top_data = top_data.reindex(top_data.sum().sort_values(ascending=False).index, axis=1)\n",
    "cols = list(top_data.columns)\n",
    "cols.remove('ALL OTHERS')\n",
    "cols.append('ALL OTHERS')\n",
    "top_data = top_data[cols]\n",
    "top_data.columns = top_data.columns.astype(str)\n",
    "top_data.columns = top_data.columns.str.title()"
   ]
  },
  {
   "cell_type": "code",
   "execution_count": 129,
   "metadata": {},
   "outputs": [
    {
     "data": {
      "image/png": "[encoded data removed]",
      "text/plain": [
       "<Figure size 720x576 with 1 Axes>"
      ]
     },
     "metadata": {
      "needs_background": "light"
     },
     "output_type": "display_data"
    }
   ],
   "source": [
    "country_of_citizenship_trend(top_data,\n",
    "                             title=f'ICE Air Departures from King County Int’l Airport (Boeing Field)\\nby Country of Citizenship (Top 5 overall)',\n",
    "                             filename=f'{airport}_pickup_nationalities',\n",
    "                             ylabel=f'Total {df_to_analyze.name}',\n",
    "                             xlabel='Fiscal Year');"
   ]
  },
  {
   "cell_type": "markdown",
   "metadata": {},
   "source": [
    "# Not top nationalities"
   ]
  },
  {
   "cell_type": "code",
   "execution_count": 130,
   "metadata": {},
   "outputs": [],
   "source": [
    "number_of_top_values = 5\n",
    "annual_sum = annual.groupby(['CountryOfCitizenship'])['AlienMasterID'].sum()\n",
    "top = list(annual_sum.sort_values(ascending=False).head(number_of_top_values).index)\n",
    "\n",
    "not_top_df = pd.DataFrame()\n",
    "not_top_df = not_top_df.append(annual[~annual['CountryOfCitizenship'].isin(top)])\n",
    "not_top_df.index = not_top_df.index.year"
   ]
  },
  {
   "cell_type": "code",
   "execution_count": 131,
   "metadata": {},
   "outputs": [],
   "source": [
    "not_top_data = pd.pivot_table(data=not_top_df,\n",
    "                       index=not_top_df.index,\n",
    "                       columns='CountryOfCitizenship',\n",
    "                       values='AlienMasterID',\n",
    "                       aggfunc=np.sum,\n",
    "                       fill_value=0)\n",
    "not_top_data = not_top_data.reindex(not_top_data.sum().sort_values(ascending=False).index, axis=1)\n",
    "# cols = list(not_top_data.columns)\n",
    "# cols.remove('ALL OTHERS')\n",
    "# cols.append('ALL OTHERS')\n",
    "# not_top_data = not_top_data[cols]\n",
    "# not_top_data.columns = not_top_data.columns.astype(str)\n",
    "# not_top_data.columns = not_top_data.columns.str.title()"
   ]
  },
  {
   "cell_type": "code",
   "execution_count": 132,
   "metadata": {},
   "outputs": [
    {
     "data": {
      "text/plain": [
       "CountryOfCitizenship\n",
       "ECUADOR               169\n",
       "NICARAGUA             113\n",
       "CAMBODIA              109\n",
       "COLOMBIA               49\n",
       "DOMINICAN REPUBLIC     33\n",
       "INDIA                  30\n",
       "SOMALIA                27\n",
       "GUINEA                 26\n",
       "ERITREA                18\n",
       "MOLDOVA                15\n",
       "JAMAICA                14\n",
       "CHINA                  14\n",
       "GHANA                  13\n",
       "UKRAINE                13\n",
       "VIETNAM                 8\n",
       "dtype: int64"
      ]
     },
     "execution_count": 132,
     "metadata": {},
     "output_type": "execute_result"
    }
   ],
   "source": [
    "not_top_data.sum().head(15)"
   ]
  },
  {
   "cell_type": "code",
   "execution_count": 133,
   "metadata": {},
   "outputs": [],
   "source": [
    "all_others = not_top_data.sum()[not_top_data.sum() < 50].index\n",
    "greater_than_x = not_top_data.sum()[not_top_data.sum() > 50].index\n",
    "to_plot = not_top_data[greater_than_x].copy()\n",
    "to_plot.columns = to_plot.columns.astype(str)\n",
    "to_plot['ALL OTHERS'] = not_top_data[all_others].sum(axis=1)"
   ]
  },
  {
   "cell_type": "code",
   "execution_count": 134,
   "metadata": {},
   "outputs": [
    {
     "data": {
      "image/png": "[encoded data removed]",
      "text/plain": [
       "<Figure size 720x576 with 1 Axes>"
      ]
     },
     "metadata": {
      "needs_background": "light"
     },
     "output_type": "display_data"
    }
   ],
   "source": [
    "country_of_citizenship_trend(to_plot,\n",
    "                             title=f'ICE Air Departures from {airport_name}\\nby Country of Citizenship (Top 5 excluded)',\n",
    "                             filename=f'{airport}_pickup_nationalities_top_5_excluded',\n",
    "                             ylabel=f'Total {df_to_analyze.name}',\n",
    "                             xlabel='Fiscal Year');"
   ]
  },
  {
   "cell_type": "markdown",
   "metadata": {},
   "source": [
    "# Juveniles (by fiscal year)\n",
    "\n",
    "Table of just juveniles for pickups, dropoffs. Currently will fail if no juveniles."
   ]
  },
  {
   "cell_type": "code",
   "execution_count": 135,
   "metadata": {},
   "outputs": [],
   "source": [
    "assert sum(all_df['Juvenile']) > 0, f\"No juveniles in dataset for {airport}\""
   ]
  },
  {
   "cell_type": "code",
   "execution_count": 136,
   "metadata": {},
   "outputs": [
    {
     "data": {
      "text/html": [
       "<div>\n",
       "<style scoped>\n",
       "    .dataframe tbody tr th:only-of-type {\n",
       "        vertical-align: middle;\n",
       "    }\n",
       "\n",
       "    .dataframe tbody tr th {\n",
       "        vertical-align: top;\n",
       "    }\n",
       "\n",
       "    .dataframe thead th {\n",
       "        text-align: right;\n",
       "    }\n",
       "</style>\n",
       "<table border=\"1\" class=\"dataframe\">\n",
       "  <thead>\n",
       "    <tr style=\"text-align: right;\">\n",
       "      <th></th>\n",
       "      <th>Juvenile</th>\n",
       "      <th>False</th>\n",
       "      <th>True</th>\n",
       "      <th>percent</th>\n",
       "    </tr>\n",
       "    <tr>\n",
       "      <th>PULOC</th>\n",
       "      <th>MissionDate</th>\n",
       "      <th></th>\n",
       "      <th></th>\n",
       "      <th></th>\n",
       "    </tr>\n",
       "  </thead>\n",
       "  <tbody>\n",
       "    <tr>\n",
       "      <th rowspan=\"9\" valign=\"top\">KBFI</th>\n",
       "      <th>2010-10-01</th>\n",
       "      <td>6613.0</td>\n",
       "      <td>16.0</td>\n",
       "      <td>0.241948</td>\n",
       "    </tr>\n",
       "    <tr>\n",
       "      <th>2011-10-01</th>\n",
       "      <td>5653.0</td>\n",
       "      <td>11.0</td>\n",
       "      <td>0.194587</td>\n",
       "    </tr>\n",
       "    <tr>\n",
       "      <th>2012-10-01</th>\n",
       "      <td>4795.0</td>\n",
       "      <td>2.0</td>\n",
       "      <td>0.041710</td>\n",
       "    </tr>\n",
       "    <tr>\n",
       "      <th>2013-10-01</th>\n",
       "      <td>3953.0</td>\n",
       "      <td>2.0</td>\n",
       "      <td>0.050594</td>\n",
       "    </tr>\n",
       "    <tr>\n",
       "      <th>2014-10-01</th>\n",
       "      <td>2732.0</td>\n",
       "      <td>NaN</td>\n",
       "      <td>NaN</td>\n",
       "    </tr>\n",
       "    <tr>\n",
       "      <th>2015-10-01</th>\n",
       "      <td>3129.0</td>\n",
       "      <td>NaN</td>\n",
       "      <td>NaN</td>\n",
       "    </tr>\n",
       "    <tr>\n",
       "      <th>2016-10-01</th>\n",
       "      <td>3381.0</td>\n",
       "      <td>9.0</td>\n",
       "      <td>0.266193</td>\n",
       "    </tr>\n",
       "    <tr>\n",
       "      <th>2017-10-01</th>\n",
       "      <td>3490.0</td>\n",
       "      <td>5.0</td>\n",
       "      <td>0.143266</td>\n",
       "    </tr>\n",
       "    <tr>\n",
       "      <th>2018-10-01</th>\n",
       "      <td>2253.0</td>\n",
       "      <td>4.0</td>\n",
       "      <td>0.177541</td>\n",
       "    </tr>\n",
       "  </tbody>\n",
       "</table>\n",
       "</div>"
      ],
      "text/plain": [
       "Juvenile            False  True   percent\n",
       "PULOC MissionDate                        \n",
       "KBFI  2010-10-01   6613.0  16.0  0.241948\n",
       "      2011-10-01   5653.0  11.0  0.194587\n",
       "      2012-10-01   4795.0   2.0  0.041710\n",
       "      2013-10-01   3953.0   2.0  0.050594\n",
       "      2014-10-01   2732.0   NaN       NaN\n",
       "      2015-10-01   3129.0   NaN       NaN\n",
       "      2016-10-01   3381.0   9.0  0.266193\n",
       "      2017-10-01   3490.0   5.0  0.143266\n",
       "      2018-10-01   2253.0   4.0  0.177541"
      ]
     },
     "execution_count": 136,
     "metadata": {},
     "output_type": "execute_result"
    }
   ],
   "source": [
    "g = pickup_df.groupby(['PULOC', pd.Grouper(freq='AS-OCT', sort=True), 'Juvenile'])['AlienMasterID'].nunique()\n",
    "juvenile_pickups = g.unstack()\n",
    "juvenile_pickups['percent'] = juvenile_pickups[True] / juvenile_pickups[False] * 100\n",
    "juvenile_pickups"
   ]
  },
  {
   "cell_type": "code",
   "execution_count": 137,
   "metadata": {},
   "outputs": [],
   "source": [
    "g = dropoff_df.groupby(['DropLoc', pd.Grouper(freq='AS-OCT', sort=True), 'Juvenile'])['AlienMasterID'].nunique()\n",
    "juvenile_pickups = g.unstack()"
   ]
  },
  {
   "cell_type": "code",
   "execution_count": 138,
   "metadata": {},
   "outputs": [
    {
     "data": {
      "text/html": [
       "<div>\n",
       "<style scoped>\n",
       "    .dataframe tbody tr th:only-of-type {\n",
       "        vertical-align: middle;\n",
       "    }\n",
       "\n",
       "    .dataframe tbody tr th {\n",
       "        vertical-align: top;\n",
       "    }\n",
       "\n",
       "    .dataframe thead th {\n",
       "        text-align: right;\n",
       "    }\n",
       "</style>\n",
       "<table border=\"1\" class=\"dataframe\">\n",
       "  <thead>\n",
       "    <tr style=\"text-align: right;\">\n",
       "      <th></th>\n",
       "      <th>Juvenile</th>\n",
       "      <th>False</th>\n",
       "      <th>True</th>\n",
       "    </tr>\n",
       "    <tr>\n",
       "      <th>DropLoc</th>\n",
       "      <th>MissionDate</th>\n",
       "      <th></th>\n",
       "      <th></th>\n",
       "    </tr>\n",
       "  </thead>\n",
       "  <tbody>\n",
       "    <tr>\n",
       "      <th rowspan=\"9\" valign=\"top\">KBFI</th>\n",
       "      <th>2010-10-01</th>\n",
       "      <td>550.0</td>\n",
       "      <td>2.0</td>\n",
       "    </tr>\n",
       "    <tr>\n",
       "      <th>2011-10-01</th>\n",
       "      <td>1172.0</td>\n",
       "      <td>3.0</td>\n",
       "    </tr>\n",
       "    <tr>\n",
       "      <th>2012-10-01</th>\n",
       "      <td>2151.0</td>\n",
       "      <td>2.0</td>\n",
       "    </tr>\n",
       "    <tr>\n",
       "      <th>2013-10-01</th>\n",
       "      <td>2177.0</td>\n",
       "      <td>70.0</td>\n",
       "    </tr>\n",
       "    <tr>\n",
       "      <th>2014-10-01</th>\n",
       "      <td>1926.0</td>\n",
       "      <td>NaN</td>\n",
       "    </tr>\n",
       "    <tr>\n",
       "      <th>2015-10-01</th>\n",
       "      <td>2737.0</td>\n",
       "      <td>NaN</td>\n",
       "    </tr>\n",
       "    <tr>\n",
       "      <th>2016-10-01</th>\n",
       "      <td>1487.0</td>\n",
       "      <td>NaN</td>\n",
       "    </tr>\n",
       "    <tr>\n",
       "      <th>2017-10-01</th>\n",
       "      <td>2504.0</td>\n",
       "      <td>NaN</td>\n",
       "    </tr>\n",
       "    <tr>\n",
       "      <th>2018-10-01</th>\n",
       "      <td>1685.0</td>\n",
       "      <td>NaN</td>\n",
       "    </tr>\n",
       "  </tbody>\n",
       "</table>\n",
       "</div>"
      ],
      "text/plain": [
       "Juvenile              False  True \n",
       "DropLoc MissionDate               \n",
       "KBFI    2010-10-01    550.0    2.0\n",
       "        2011-10-01   1172.0    3.0\n",
       "        2012-10-01   2151.0    2.0\n",
       "        2013-10-01   2177.0   70.0\n",
       "        2014-10-01   1926.0    NaN\n",
       "        2015-10-01   2737.0    NaN\n",
       "        2016-10-01   1487.0    NaN\n",
       "        2017-10-01   2504.0    NaN\n",
       "        2018-10-01   1685.0    NaN"
      ]
     },
     "execution_count": 138,
     "metadata": {},
     "output_type": "execute_result"
    }
   ],
   "source": [
    "juvenile_pickups"
   ]
  },
  {
   "cell_type": "code",
   "execution_count": 139,
   "metadata": {},
   "outputs": [
    {
     "data": {
      "text/html": [
       "<div>\n",
       "<style scoped>\n",
       "    .dataframe tbody tr th:only-of-type {\n",
       "        vertical-align: middle;\n",
       "    }\n",
       "\n",
       "    .dataframe tbody tr th {\n",
       "        vertical-align: top;\n",
       "    }\n",
       "\n",
       "    .dataframe thead th {\n",
       "        text-align: right;\n",
       "    }\n",
       "</style>\n",
       "<table border=\"1\" class=\"dataframe\">\n",
       "  <thead>\n",
       "    <tr style=\"text-align: right;\">\n",
       "      <th></th>\n",
       "      <th>Juvenile</th>\n",
       "      <th>False</th>\n",
       "      <th>True</th>\n",
       "      <th>percent</th>\n",
       "    </tr>\n",
       "    <tr>\n",
       "      <th>DropLoc</th>\n",
       "      <th>MissionDate</th>\n",
       "      <th></th>\n",
       "      <th></th>\n",
       "      <th></th>\n",
       "    </tr>\n",
       "  </thead>\n",
       "  <tbody>\n",
       "    <tr>\n",
       "      <th rowspan=\"9\" valign=\"top\">KBFI</th>\n",
       "      <th>2010-10-01</th>\n",
       "      <td>550.0</td>\n",
       "      <td>2.0</td>\n",
       "      <td>0.363636</td>\n",
       "    </tr>\n",
       "    <tr>\n",
       "      <th>2011-10-01</th>\n",
       "      <td>1172.0</td>\n",
       "      <td>3.0</td>\n",
       "      <td>0.255973</td>\n",
       "    </tr>\n",
       "    <tr>\n",
       "      <th>2012-10-01</th>\n",
       "      <td>2151.0</td>\n",
       "      <td>2.0</td>\n",
       "      <td>0.092980</td>\n",
       "    </tr>\n",
       "    <tr>\n",
       "      <th>2013-10-01</th>\n",
       "      <td>2177.0</td>\n",
       "      <td>70.0</td>\n",
       "      <td>3.215434</td>\n",
       "    </tr>\n",
       "    <tr>\n",
       "      <th>2014-10-01</th>\n",
       "      <td>1926.0</td>\n",
       "      <td>NaN</td>\n",
       "      <td>NaN</td>\n",
       "    </tr>\n",
       "    <tr>\n",
       "      <th>2015-10-01</th>\n",
       "      <td>2737.0</td>\n",
       "      <td>NaN</td>\n",
       "      <td>NaN</td>\n",
       "    </tr>\n",
       "    <tr>\n",
       "      <th>2016-10-01</th>\n",
       "      <td>1487.0</td>\n",
       "      <td>NaN</td>\n",
       "      <td>NaN</td>\n",
       "    </tr>\n",
       "    <tr>\n",
       "      <th>2017-10-01</th>\n",
       "      <td>2504.0</td>\n",
       "      <td>NaN</td>\n",
       "      <td>NaN</td>\n",
       "    </tr>\n",
       "    <tr>\n",
       "      <th>2018-10-01</th>\n",
       "      <td>1685.0</td>\n",
       "      <td>NaN</td>\n",
       "      <td>NaN</td>\n",
       "    </tr>\n",
       "  </tbody>\n",
       "</table>\n",
       "</div>"
      ],
      "text/plain": [
       "Juvenile              False  True   percent\n",
       "DropLoc MissionDate                        \n",
       "KBFI    2010-10-01    550.0   2.0  0.363636\n",
       "        2011-10-01   1172.0   3.0  0.255973\n",
       "        2012-10-01   2151.0   2.0  0.092980\n",
       "        2013-10-01   2177.0  70.0  3.215434\n",
       "        2014-10-01   1926.0   NaN       NaN\n",
       "        2015-10-01   2737.0   NaN       NaN\n",
       "        2016-10-01   1487.0   NaN       NaN\n",
       "        2017-10-01   2504.0   NaN       NaN\n",
       "        2018-10-01   1685.0   NaN       NaN"
      ]
     },
     "execution_count": 139,
     "metadata": {},
     "output_type": "execute_result"
    }
   ],
   "source": [
    "juvenile_pickups['percent'] = juvenile_pickups[True] / juvenile_pickups[False] * 100\n",
    "juvenile_pickups"
   ]
  },
  {
   "cell_type": "code",
   "execution_count": 140,
   "metadata": {},
   "outputs": [],
   "source": [
    "g = all_df.groupby(['R-T', pd.Grouper(freq='AS-OCT', sort=True), 'Juvenile'])['AlienMasterID'].nunique()"
   ]
  },
  {
   "cell_type": "code",
   "execution_count": 141,
   "metadata": {},
   "outputs": [
    {
     "data": {
      "text/html": [
       "<div>\n",
       "<style scoped>\n",
       "    .dataframe tbody tr th:only-of-type {\n",
       "        vertical-align: middle;\n",
       "    }\n",
       "\n",
       "    .dataframe tbody tr th {\n",
       "        vertical-align: top;\n",
       "    }\n",
       "\n",
       "    .dataframe thead th {\n",
       "        text-align: right;\n",
       "    }\n",
       "</style>\n",
       "<table border=\"1\" class=\"dataframe\">\n",
       "  <thead>\n",
       "    <tr style=\"text-align: right;\">\n",
       "      <th></th>\n",
       "      <th>Juvenile</th>\n",
       "      <th>False</th>\n",
       "      <th>True</th>\n",
       "    </tr>\n",
       "    <tr>\n",
       "      <th>R-T</th>\n",
       "      <th>MissionDate</th>\n",
       "      <th></th>\n",
       "      <th></th>\n",
       "    </tr>\n",
       "  </thead>\n",
       "  <tbody>\n",
       "    <tr>\n",
       "      <th rowspan=\"9\" valign=\"top\">R</th>\n",
       "      <th>2010-10-01</th>\n",
       "      <td>5802.0</td>\n",
       "      <td>13.0</td>\n",
       "    </tr>\n",
       "    <tr>\n",
       "      <th>2011-10-01</th>\n",
       "      <td>4629.0</td>\n",
       "      <td>9.0</td>\n",
       "    </tr>\n",
       "    <tr>\n",
       "      <th>2012-10-01</th>\n",
       "      <td>2458.0</td>\n",
       "      <td>2.0</td>\n",
       "    </tr>\n",
       "    <tr>\n",
       "      <th>2013-10-01</th>\n",
       "      <td>685.0</td>\n",
       "      <td>NaN</td>\n",
       "    </tr>\n",
       "    <tr>\n",
       "      <th>2014-10-01</th>\n",
       "      <td>313.0</td>\n",
       "      <td>NaN</td>\n",
       "    </tr>\n",
       "    <tr>\n",
       "      <th>2015-10-01</th>\n",
       "      <td>225.0</td>\n",
       "      <td>NaN</td>\n",
       "    </tr>\n",
       "    <tr>\n",
       "      <th>2016-10-01</th>\n",
       "      <td>406.0</td>\n",
       "      <td>NaN</td>\n",
       "    </tr>\n",
       "    <tr>\n",
       "      <th>2017-10-01</th>\n",
       "      <td>1071.0</td>\n",
       "      <td>4.0</td>\n",
       "    </tr>\n",
       "    <tr>\n",
       "      <th>2018-10-01</th>\n",
       "      <td>1311.0</td>\n",
       "      <td>NaN</td>\n",
       "    </tr>\n",
       "    <tr>\n",
       "      <th rowspan=\"9\" valign=\"top\">T</th>\n",
       "      <th>2010-10-01</th>\n",
       "      <td>1361.0</td>\n",
       "      <td>5.0</td>\n",
       "    </tr>\n",
       "    <tr>\n",
       "      <th>2011-10-01</th>\n",
       "      <td>2196.0</td>\n",
       "      <td>5.0</td>\n",
       "    </tr>\n",
       "    <tr>\n",
       "      <th>2012-10-01</th>\n",
       "      <td>4488.0</td>\n",
       "      <td>2.0</td>\n",
       "    </tr>\n",
       "    <tr>\n",
       "      <th>2013-10-01</th>\n",
       "      <td>5445.0</td>\n",
       "      <td>72.0</td>\n",
       "    </tr>\n",
       "    <tr>\n",
       "      <th>2014-10-01</th>\n",
       "      <td>4345.0</td>\n",
       "      <td>NaN</td>\n",
       "    </tr>\n",
       "    <tr>\n",
       "      <th>2015-10-01</th>\n",
       "      <td>5641.0</td>\n",
       "      <td>NaN</td>\n",
       "    </tr>\n",
       "    <tr>\n",
       "      <th>2016-10-01</th>\n",
       "      <td>4462.0</td>\n",
       "      <td>9.0</td>\n",
       "    </tr>\n",
       "    <tr>\n",
       "      <th>2017-10-01</th>\n",
       "      <td>4923.0</td>\n",
       "      <td>1.0</td>\n",
       "    </tr>\n",
       "    <tr>\n",
       "      <th>2018-10-01</th>\n",
       "      <td>2627.0</td>\n",
       "      <td>4.0</td>\n",
       "    </tr>\n",
       "  </tbody>\n",
       "</table>\n",
       "</div>"
      ],
      "text/plain": [
       "Juvenile          False  True \n",
       "R-T MissionDate               \n",
       "R   2010-10-01   5802.0   13.0\n",
       "    2011-10-01   4629.0    9.0\n",
       "    2012-10-01   2458.0    2.0\n",
       "    2013-10-01    685.0    NaN\n",
       "    2014-10-01    313.0    NaN\n",
       "    2015-10-01    225.0    NaN\n",
       "    2016-10-01    406.0    NaN\n",
       "    2017-10-01   1071.0    4.0\n",
       "    2018-10-01   1311.0    NaN\n",
       "T   2010-10-01   1361.0    5.0\n",
       "    2011-10-01   2196.0    5.0\n",
       "    2012-10-01   4488.0    2.0\n",
       "    2013-10-01   5445.0   72.0\n",
       "    2014-10-01   4345.0    NaN\n",
       "    2015-10-01   5641.0    NaN\n",
       "    2016-10-01   4462.0    9.0\n",
       "    2017-10-01   4923.0    1.0\n",
       "    2018-10-01   2627.0    4.0"
      ]
     },
     "execution_count": 141,
     "metadata": {},
     "output_type": "execute_result"
    }
   ],
   "source": [
    "juvenile_removal_transfer = g.unstack()\n",
    "juvenile_removal_transfer"
   ]
  },
  {
   "cell_type": "markdown",
   "metadata": {},
   "source": [
    "# Detainee status"
   ]
  },
  {
   "cell_type": "code",
   "execution_count": 142,
   "metadata": {},
   "outputs": [],
   "source": [
    "status_count = removal_df.drop_duplicates(subset='AlienMasterID')['Status'].str.upper().value_counts(dropna=False)"
   ]
  },
  {
   "cell_type": "code",
   "execution_count": 143,
   "metadata": {},
   "outputs": [],
   "source": [
    "status = pd.read_csv('../../../share/resources/status.csv')\n",
    "\n",
    "valid_status_codes = list(status['Code'])\n",
    "\n",
    "status_dict = dict(zip(status['Code'], status['Status']))\n",
    "\n",
    "pending = ['2A', '2B', '8A', '8B', '8D']\n",
    "benefit = ['5C', '5D']\n",
    "expedited_admin_rein = ['8F', '8G', '8H', '8I', '11', '16']\n",
    "problematic = pending + benefit + expedited_admin_rein"
   ]
  },
  {
   "cell_type": "code",
   "execution_count": 144,
   "metadata": {},
   "outputs": [
    {
     "name": "stdout",
     "output_type": "stream",
     "text": [
      "KBFI - Boeing Field King County International Airport\n",
      "\n",
      "ICE status codes for passengers on direct removal flights.\n",
      "(Statuses which may raise due process concerns starred)\n",
      "\n",
      "8387 valid values.\n",
      "8541 invalid values.\n",
      "\n",
      "[1A]: 2446 (Voluntary Departure – Un-Expired and Un-Extended Voluntary Departure.)\n",
      "[1B]: 20 (Voluntary Departure - Extended Departure Period)\n",
      "[1C]: 0 (Exipred Voluntary Departure Period - Referred to Investigation)\n",
      "[2A]: *36* (Deportable – Under Adjudication by IJ)\n",
      "[2B]: *1* (Deportable – Under Adjudication by BIA)\n",
      "[3]: 229 (Deportable – Administratively Final Order)\n",
      "[5A]: 1 (Referred for Investigation - No Show for Hearing - No Final O...)\n",
      "[5B]: 20 (Removable – ICE Fugitive)\n",
      "[5C]: *1* (Relief Granted – Withholding of Deportation/Removal)\n",
      "[5D]: *1* (Final Order of Deportation/Removal – Deferred Action Granted.)\n",
      "[5E]: 3 (Relief Granted – Extended Voluntary Departure)\n",
      "[5F]: 0 (Unable to Obtain Travel Document)\n",
      "[8A]: *42* (Excludable/Inadmissible – Hearing Not Commenced)\n",
      "[8B]: *109* (Excludable/Inadmissible – Under Adjudication by an Immigration Judge.)\n",
      "[8C]: 1505 (Excludable/Inadmissible – Administrative Final Order Issued.)\n",
      "[8D]: *10* (Excludable/Inadmissible – Under Adjudication by BIA)\n",
      "[8E]: 34 (Inadmissible – ICE Fugitive)\n",
      "[8F]: *263* (Expedited Removal)\n",
      "[8G]: *333* (Expedited Removal – Credible Fear Referral)\n",
      "[8H]: *3* (Expedited Removal – Status Claim Referral)\n",
      "[8I]: *28* (Inadmissible – ICE Fugitive – Expedited Removal)\n",
      "[9]: 214 (VR Under Safeguards)\n",
      "[10]: 0 (Visa Waiver Deportation/Removal)\n",
      "[11]: *299* (Administrative Deportation/Removal)\n",
      "[12]: 786 (Judicial Deportation / Removal)\n",
      "[13]: 0 (Section 250 Removal)\n",
      "[14]: 0 (Crewman, Stowaways, S-Visa Holders, 235 (c) cases)\n",
      "[15]: 0 (Terrorist Court Case (Title 5))\n",
      "[16]: *2003* (Reinstated Final Order)\n",
      "\n",
      "3129 problematic cases.\n",
      "198 with pending appeals.\n",
      "2 with benefit blocking deportation.\n",
      "2929 under expedited, administrative, reinstatement of removal.\n"
     ]
    }
   ],
   "source": [
    "problematic_count = 0\n",
    "valid = removal_df['Status'].str.upper().isin(valid_status_codes)\n",
    "valid_count = sum(valid)\n",
    "invalid = ~removal_df['Status'].str.upper().isin(valid_status_codes)\n",
    "invalid_count = sum(invalid)\n",
    "\n",
    "print(f'{airport} - {airport_name}')\n",
    "print()\n",
    "print(f'ICE status codes for passengers on direct removal flights.')\n",
    "print(f'(Statuses which may raise due process concerns starred)')\n",
    "print()\n",
    "print(f'{valid_count} valid values.')\n",
    "print(f'{invalid_count} invalid values.')\n",
    "print()\n",
    "for c in valid_status_codes:\n",
    "    \n",
    "    try:\n",
    "        count = status_count[c]\n",
    "    except KeyError:\n",
    "        count = 0\n",
    "    \n",
    "    if c in problematic:\n",
    "        problematic_count = problematic_count + count\n",
    "        print(f'[{c}]: *{count}* ({status_dict[c]})')\n",
    "    else:\n",
    "        print(f'[{c}]: {count} ({status_dict[c]})')\n",
    "print()\n",
    "print(f'{problematic_count} problematic cases.')\n",
    "print(f\"{sum(removal_df['Status'].isin(pending))} with pending appeals.\")\n",
    "print(f\"{sum(removal_df['Status'].isin(benefit))} with benefit blocking deportation.\")\n",
    "print(f\"{sum(removal_df['Status'].isin(expedited_admin_rein))} under expedited, administrative, reinstatement of removal.\")"
   ]
  },
  {
   "cell_type": "code",
   "execution_count": 145,
   "metadata": {},
   "outputs": [
    {
     "data": {
      "text/plain": [
       "2929"
      ]
     },
     "execution_count": 145,
     "metadata": {},
     "output_type": "execute_result"
    }
   ],
   "source": [
    "sum(removal_df['Status'].isin(expedited_admin_rein))"
   ]
  },
  {
   "cell_type": "code",
   "execution_count": 146,
   "metadata": {},
   "outputs": [
    {
     "data": {
      "text/plain": [
       "198"
      ]
     },
     "execution_count": 146,
     "metadata": {},
     "output_type": "execute_result"
    }
   ],
   "source": [
    "sum(removal_df['Status'].isin(pending))"
   ]
  },
  {
   "cell_type": "code",
   "execution_count": 147,
   "metadata": {},
   "outputs": [
    {
     "data": {
      "text/plain": [
       "2"
      ]
     },
     "execution_count": 147,
     "metadata": {},
     "output_type": "execute_result"
    }
   ],
   "source": [
    "sum(removal_df['Status'].isin(benefit))"
   ]
  },
  {
   "cell_type": "code",
   "execution_count": 148,
   "metadata": {},
   "outputs": [],
   "source": [
    "status_fy = removal_df.drop_duplicates(subset='AlienMasterID').resample('AS-OCT')['Status'].value_counts().unstack()\n",
    "status_fy_valid = status_fy[status_fy.columns[status_fy.columns.isin(valid_status_codes)]]\n",
    "\n",
    "total = removal_df.drop_duplicates(subset='AlienMasterID').resample('AS-OCT')['AlienMasterID'].nunique()\n",
    "\n",
    "status_fy_valid.T.to_csv(f'../output/{airport}_valid_status_by_year.csv')\n",
    "\n",
    "all_others = status_fy[status_fy.columns[~status_fy.columns.isin(valid_status_codes)]].sum(axis=1)\n",
    "all_others.name = 'all_others'\n",
    "\n",
    "status_table = pd.concat([status_fy_valid, all_others], axis=1).T\n",
    "\n",
    "status_table.to_csv(f'../output/{airport}_removal_status_by_year.csv')\n",
    "(status_table/total).to_csv(f'../output/{airport}_removal_status_by_year_percent.csv')"
   ]
  },
  {
   "cell_type": "code",
   "execution_count": 149,
   "metadata": {},
   "outputs": [
    {
     "data": {
      "text/plain": [
       "MissionDate\n",
       "2010-10-01    5815\n",
       "2011-10-01    4638\n",
       "2012-10-01    2460\n",
       "2013-10-01     685\n",
       "2014-10-01     313\n",
       "2015-10-01     225\n",
       "2016-10-01     406\n",
       "2017-10-01    1075\n",
       "2018-10-01    1311\n",
       "Freq: AS-OCT, Name: AlienMasterID, dtype: int64"
      ]
     },
     "execution_count": 149,
     "metadata": {},
     "output_type": "execute_result"
    }
   ],
   "source": [
    "total"
   ]
  },
  {
   "cell_type": "code",
   "execution_count": 150,
   "metadata": {},
   "outputs": [],
   "source": [
    "transfer_status = transfer_df['Status'].value_counts()"
   ]
  },
  {
   "cell_type": "code",
   "execution_count": 151,
   "metadata": {},
   "outputs": [
    {
     "data": {
      "text/plain": [
       "8G                8729\n",
       "16                7454\n",
       "8F                6161\n",
       "8C                3885\n",
       "TRANSFER - F/O    2082\n",
       "11                1002\n",
       "NO STATUS          935\n",
       "8A                 814\n",
       "3                  626\n",
       "12                 577\n",
       "ER-TRANSFER        367\n",
       "2A                 357\n",
       "REMOVAL            334\n",
       "1A                 331\n",
       "TRANSFER - NTA     243\n",
       "8B                 243\n",
       "NTA                207\n",
       "8E                 158\n",
       "9                  139\n",
       "Name: Status, dtype: int64"
      ]
     },
     "execution_count": 151,
     "metadata": {},
     "output_type": "execute_result"
    }
   ],
   "source": [
    "transfer_status[transfer_status >= 100]"
   ]
  },
  {
   "cell_type": "code",
   "execution_count": 152,
   "metadata": {},
   "outputs": [],
   "source": [
    "pickup_transfer_status = pickup_df[pickup_df['R-T'] == 'T']['Status'].value_counts()"
   ]
  },
  {
   "cell_type": "code",
   "execution_count": 153,
   "metadata": {
    "scrolled": true
   },
   "outputs": [
    {
     "data": {
      "text/plain": [
       "16                5224\n",
       "8C                3801\n",
       "8F                2434\n",
       "TRANSFER - F/O    1927\n",
       "8G                1610\n",
       "11                 992\n",
       "12                 577\n",
       "3                  501\n",
       "1A                 328\n",
       "REMOVAL            309\n",
       "2A                 303\n",
       "8B                 215\n",
       "NO STATUS          153\n",
       "8E                 151\n",
       "9                  137\n",
       "Name: Status, dtype: int64"
      ]
     },
     "execution_count": 153,
     "metadata": {},
     "output_type": "execute_result"
    }
   ],
   "source": [
    "pickup_transfer_status[pickup_transfer_status > 100]"
   ]
  },
  {
   "cell_type": "code",
   "execution_count": 154,
   "metadata": {},
   "outputs": [
    {
     "data": {
      "text/plain": [
       "8G                  7138\n",
       "8F                  3732\n",
       "16                  2232\n",
       "NO STATUS            782\n",
       "8A                   735\n",
       "ER-TRANSFER          367\n",
       "TRANSFER - NTA       221\n",
       "NTA                  207\n",
       "TRANSFER - F/O       155\n",
       "3                    125\n",
       "TRANSFER-NTA          98\n",
       "TRANSFER              95\n",
       "8C                    84\n",
       "REINSTATE             61\n",
       "NTA-TRANSFER          59\n",
       "2A                    54\n",
       "NTA-NEW               32\n",
       "8B                    28\n",
       "REMOVAL               25\n",
       "X-NTA                 16\n",
       "1/15/1900             14\n",
       "8D                    13\n",
       "5F                    12\n",
       "10                    11\n",
       "RF                    11\n",
       "TRANSFER/SEA          10\n",
       "T-NTA                 10\n",
       "11                    10\n",
       "ER-NEW                 9\n",
       "TRANSFER -             9\n",
       "RM                     7\n",
       "8E                     7\n",
       "2B                     7\n",
       "ER/CRE.FR.             6\n",
       "WA/NTA                 5\n",
       "5B                     4\n",
       "RR-TRANSFER            4\n",
       "TRAN-NTA               4\n",
       "BIA PEND               3\n",
       "ER-TTRANSFER           3\n",
       "1A                     3\n",
       "BIA APP                3\n",
       "TRANSFER - FO          3\n",
       "TRANSFER-FO            2\n",
       "TRANSFER -  R&B        2\n",
       "TRANSFER-F/O           2\n",
       "TRANSFER-REMOVAL       2\n",
       "TRANSFER- NTA          2\n",
       "TRNASFER-FO            2\n",
       "8I                     2\n",
       "8H                     2\n",
       "MTR                    2\n",
       "9                      2\n",
       "TRANSFER -NTA          2\n",
       "T-REINSTATE            2\n",
       "Name: Status, dtype: int64"
      ]
     },
     "execution_count": 154,
     "metadata": {},
     "output_type": "execute_result"
    }
   ],
   "source": [
    "dropoff_status = dropoff_df['Status'].value_counts()\n",
    "dropoff_status[dropoff_status > 1]"
   ]
  },
  {
   "cell_type": "markdown",
   "metadata": {},
   "source": [
    "## Finding most common day of week"
   ]
  },
  {
   "cell_type": "code",
   "execution_count": 155,
   "metadata": {},
   "outputs": [],
   "source": [
    "all_df['MissionWeekday'] = all_df.index.weekday"
   ]
  },
  {
   "cell_type": "code",
   "execution_count": 156,
   "metadata": {},
   "outputs": [],
   "source": [
    "index = range(0,7)"
   ]
  },
  {
   "cell_type": "code",
   "execution_count": 157,
   "metadata": {},
   "outputs": [],
   "source": [
    "weekdays_2018 = all_df.loc['2018'].groupby(['MissionWeekday'])['MissionID'].nunique()"
   ]
  },
  {
   "cell_type": "code",
   "execution_count": 158,
   "metadata": {},
   "outputs": [],
   "source": [
    "weekdays_2018 = weekdays_2018.reset_index()"
   ]
  },
  {
   "cell_type": "code",
   "execution_count": 159,
   "metadata": {},
   "outputs": [],
   "source": [
    "weekdays_2018 = weekdays_2018.set_index('MissionWeekday')"
   ]
  },
  {
   "cell_type": "code",
   "execution_count": 160,
   "metadata": {},
   "outputs": [],
   "source": [
    "weekdays_2018 = weekdays_2018.reindex(index=index)"
   ]
  },
  {
   "cell_type": "code",
   "execution_count": 161,
   "metadata": {},
   "outputs": [],
   "source": [
    "weekdays_2018 = weekdays_2018.rename({'MissionID': 'Flights'}, axis=1)"
   ]
  },
  {
   "cell_type": "code",
   "execution_count": 162,
   "metadata": {},
   "outputs": [],
   "source": [
    "weekdays_2018 = weekdays_2018.T\n",
    "weekdays_2018.columns = ['M', 'Tu', 'W', 'Th', 'F', 'Sa', 'Su']"
   ]
  },
  {
   "cell_type": "code",
   "execution_count": 163,
   "metadata": {},
   "outputs": [],
   "source": [
    "weekdays_2018.fillna(0, inplace=True)"
   ]
  },
  {
   "cell_type": "code",
   "execution_count": 164,
   "metadata": {},
   "outputs": [
    {
     "data": {
      "text/html": [
       "<div>\n",
       "<style scoped>\n",
       "    .dataframe tbody tr th:only-of-type {\n",
       "        vertical-align: middle;\n",
       "    }\n",
       "\n",
       "    .dataframe tbody tr th {\n",
       "        vertical-align: top;\n",
       "    }\n",
       "\n",
       "    .dataframe thead th {\n",
       "        text-align: right;\n",
       "    }\n",
       "</style>\n",
       "<table border=\"1\" class=\"dataframe\">\n",
       "  <thead>\n",
       "    <tr style=\"text-align: right;\">\n",
       "      <th></th>\n",
       "      <th>M</th>\n",
       "      <th>Tu</th>\n",
       "      <th>W</th>\n",
       "      <th>Th</th>\n",
       "      <th>F</th>\n",
       "      <th>Sa</th>\n",
       "      <th>Su</th>\n",
       "    </tr>\n",
       "  </thead>\n",
       "  <tbody>\n",
       "    <tr>\n",
       "      <th>Flights</th>\n",
       "      <td>1.0</td>\n",
       "      <td>49.0</td>\n",
       "      <td>1.0</td>\n",
       "      <td>0.0</td>\n",
       "      <td>1.0</td>\n",
       "      <td>1.0</td>\n",
       "      <td>2.0</td>\n",
       "    </tr>\n",
       "  </tbody>\n",
       "</table>\n",
       "</div>"
      ],
      "text/plain": [
       "           M    Tu    W   Th    F   Sa   Su\n",
       "Flights  1.0  49.0  1.0  0.0  1.0  1.0  2.0"
      ]
     },
     "execution_count": 164,
     "metadata": {},
     "output_type": "execute_result"
    }
   ],
   "source": [
    "weekdays_2018"
   ]
  },
  {
   "cell_type": "code",
   "execution_count": 165,
   "metadata": {},
   "outputs": [
    {
     "data": {
      "image/png": "[encoded data removed]",
      "text/plain": [
       "<Figure size 504x72 with 1 Axes>"
      ]
     },
     "metadata": {
      "needs_background": "light"
     },
     "output_type": "display_data"
    }
   ],
   "source": [
    "fig, ax = plt.subplots()\n",
    "fig.set_size_inches(7,1)\n",
    "ax = sns.heatmap(weekdays_2018, annot=True, annot_kws={\"size\": 20}, fmt='.0f', cmap=plt.cm.viridis, cbar=False)\n",
    "ax.tick_params(axis='x', labelsize=16)\n",
    "ax.tick_params(axis='y', labelsize=16, rotation=0)\n",
    "# ax.set_ylabel('Year', fontsize=14)\n",
    "# ax.set_xlabel('Weekday', fontsize=14)\n",
    "ax.set_title(f'Day of week of ICE Air flights at {airport_name} during 2018', fontsize=18, pad=10);\n",
    "# fig.savefig(f'../output/{airport}-weekdays.png', dpi=100,  bbox_inches='tight')"
   ]
  },
  {
   "cell_type": "code",
   "execution_count": null,
   "metadata": {},
   "outputs": [],
   "source": []
  }
 ],
 "metadata": {
  "kernelspec": {
   "display_name": "Python 3",
   "language": "python",
   "name": "python3"
  },
  "language_info": {
   "codemirror_mode": {
    "name": "ipython",
    "version": 3
   },
   "file_extension": ".py",
   "mimetype": "text/x-python",
   "name": "python",
   "nbconvert_exporter": "python",
   "pygments_lexer": "ipython3",
   "version": "3.7.1"
  }
 },
 "nbformat": 4,
 "nbformat_minor": 2
}
