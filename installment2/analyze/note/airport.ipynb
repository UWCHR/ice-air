{
 "cells": [
  {
   "cell_type": "code",
   "execution_count": 142,
   "metadata": {},
   "outputs": [],
   "source": [
    "# Author: University of Washington Center for Human Rights\n",
    "# Date: 2019-04-29\n",
    "# License: GPL 3.0 or greater\n",
    "# Path: ice-air/analyze/note/airport.ipynb\n",
    "\n",
    "import numpy as np\n",
    "import pandas as pd\n",
    "import yaml\n",
    "import matplotlib.pyplot as plt\n",
    "import seaborn as sns"
   ]
  },
  {
   "cell_type": "markdown",
   "metadata": {},
   "source": [
    "This notebook and its outputs are of an exploratory nature only and do not necessarily reflect the final findings of UWCHR as published in the report [\"Hidden in Plain Sight: ICE Air and the Machinery of Mass Deportation\"](https://jsis.washington.edu/humanrights/2019/04/23/ice-air/)."
   ]
  },
  {
   "cell_type": "markdown",
   "metadata": {},
   "source": [
    "# Import\n",
    "\n",
    "First we open a file containing a dictionary of columns and associated data types generated in `../../optimize/`, then we read input file."
   ]
  },
  {
   "cell_type": "code",
   "execution_count": 143,
   "metadata": {},
   "outputs": [
    {
     "name": "stdout",
     "output_type": "stream",
     "text": [
      "<class 'pandas.core.frame.DataFrame'>\n",
      "RangeIndex: 1826402 entries, 0 to 1826401\n",
      "Data columns (total 52 columns):\n",
      "ANumber                         category\n",
      "LastName                        category\n",
      "FirstName                       category\n",
      "DOB                             category\n",
      "Status                          category\n",
      "Sex                             category\n",
      "Convictions                     category\n",
      "GangMember                      category\n",
      "ClassLvl                        float32\n",
      "Age                             float32\n",
      "MissionDate                     datetime64[ns]\n",
      "MissionNumber                   uint32\n",
      "PULOC                           category\n",
      "DropLoc                         category\n",
      "StrikeFromList                  float32\n",
      "ReasonStruck                    category\n",
      "R-T                             category\n",
      "Code                            category\n",
      "CountryOfCitizenship            category\n",
      "Juvenile                        bool\n",
      "MissionWeek                     uint8\n",
      "MissionQuarter                  uint8\n",
      "MissionYear                     uint16\n",
      "MissionMonth                    uint8\n",
      "Criminality                     category\n",
      "FamilyUnitFlag                  float32\n",
      "UnaccompaniedFlag               float32\n",
      "AlienMasterID                   int64\n",
      "MissionID                       uint16\n",
      "air_AirportID                   float32\n",
      "air_AirportName                 category\n",
      "air_City                        category\n",
      "st_StateID                      float32\n",
      "st_StateAbbr                    category\n",
      "AOR_AORID                       float32\n",
      "AOR_AOR                         category\n",
      "AOR_AORName                     category\n",
      "air_Country                     category\n",
      "air2_AirportID                  float32\n",
      "air2_AirportName                category\n",
      "air2_City                       category\n",
      "st2_StateID                     float32\n",
      "st2_StateAbbr                   category\n",
      "aor2_AORID                      float32\n",
      "aor2_AOR                        category\n",
      "aor2_AORName                    category\n",
      "air2_Country                    category\n",
      "air_LatitudeDecimalDegrees      float64\n",
      "air_LongitudeDecimalDegrees     float64\n",
      "air2_LatitudeDecimalDegrees     float64\n",
      "air2_LongitudeDecimalDegrees    float64\n",
      "NonCriminal                     bool\n",
      "dtypes: bool(2), category(27), datetime64[ns](1), float32(11), float64(4), int64(1), uint16(2), uint32(1), uint8(3)\n",
      "memory usage: 244.2 MB\n"
     ]
    }
   ],
   "source": [
    "with open('../input/passenger-dtypes.yaml', 'r') as yamlfile:\n",
    "    column_types = yaml.load(yamlfile)\n",
    "\n",
    "read_csv_opts = {'sep': '|',\n",
    "                 'quotechar': '\"',\n",
    "                 'compression': 'gzip',\n",
    "                 'encoding': 'utf-8',\n",
    "                 'dtype': column_types,\n",
    "                 'parse_dates': ['MissionDate'],\n",
    "                 'infer_datetime_format': True}\n",
    "\n",
    "df = pd.read_csv('../input/ice-air-passengers.csv.gz', **read_csv_opts)\n",
    "\n",
    "df.info(memory_usage='deep')"
   ]
  },
  {
   "cell_type": "code",
   "execution_count": 144,
   "metadata": {},
   "outputs": [],
   "source": [
    "with open('../input/airport_dict.yaml', 'r') as yamlfile:\n",
    "    airport_dict = yaml.load(yamlfile)"
   ]
  },
  {
   "cell_type": "code",
   "execution_count": 145,
   "metadata": {},
   "outputs": [
    {
     "data": {
      "text/html": [
       "<div>\n",
       "<style scoped>\n",
       "    .dataframe tbody tr th:only-of-type {\n",
       "        vertical-align: middle;\n",
       "    }\n",
       "\n",
       "    .dataframe tbody tr th {\n",
       "        vertical-align: top;\n",
       "    }\n",
       "\n",
       "    .dataframe thead th {\n",
       "        text-align: right;\n",
       "    }\n",
       "</style>\n",
       "<table border=\"1\" class=\"dataframe\">\n",
       "  <thead>\n",
       "    <tr style=\"text-align: right;\">\n",
       "      <th></th>\n",
       "      <th>ANumber</th>\n",
       "      <th>LastName</th>\n",
       "      <th>FirstName</th>\n",
       "      <th>DOB</th>\n",
       "      <th>Status</th>\n",
       "      <th>Sex</th>\n",
       "      <th>Convictions</th>\n",
       "      <th>GangMember</th>\n",
       "      <th>ClassLvl</th>\n",
       "      <th>Age</th>\n",
       "      <th>...</th>\n",
       "      <th>st2_StateAbbr</th>\n",
       "      <th>aor2_AORID</th>\n",
       "      <th>aor2_AOR</th>\n",
       "      <th>aor2_AORName</th>\n",
       "      <th>air2_Country</th>\n",
       "      <th>air_LatitudeDecimalDegrees</th>\n",
       "      <th>air_LongitudeDecimalDegrees</th>\n",
       "      <th>air2_LatitudeDecimalDegrees</th>\n",
       "      <th>air2_LongitudeDecimalDegrees</th>\n",
       "      <th>NonCriminal</th>\n",
       "    </tr>\n",
       "  </thead>\n",
       "  <tbody>\n",
       "    <tr>\n",
       "      <th>1826397</th>\n",
       "      <td>(B)(6);(B)(7)(C)</td>\n",
       "      <td>(B)(6);(B)(7)(C)</td>\n",
       "      <td>(B)(6);(B)(7)(C)</td>\n",
       "      <td>(B)(6);(B)(7)(C)</td>\n",
       "      <td>8F</td>\n",
       "      <td>M</td>\n",
       "      <td>NC</td>\n",
       "      <td>N</td>\n",
       "      <td>NaN</td>\n",
       "      <td>20.0</td>\n",
       "      <td>...</td>\n",
       "      <td>NaN</td>\n",
       "      <td>NaN</td>\n",
       "      <td>NaN</td>\n",
       "      <td>NaN</td>\n",
       "      <td>Guatemala</td>\n",
       "      <td>25.907000</td>\n",
       "      <td>-97.426000</td>\n",
       "      <td>14.583</td>\n",
       "      <td>-90.528</td>\n",
       "      <td>True</td>\n",
       "    </tr>\n",
       "    <tr>\n",
       "      <th>1826398</th>\n",
       "      <td>(B)(6);(B)(7)(C)</td>\n",
       "      <td>(B)(6);(B)(7)(C)</td>\n",
       "      <td>(B)(6);(B)(7)(C)</td>\n",
       "      <td>(B)(6);(B)(7)(C)</td>\n",
       "      <td>8F</td>\n",
       "      <td>M</td>\n",
       "      <td>NC</td>\n",
       "      <td>N</td>\n",
       "      <td>NaN</td>\n",
       "      <td>34.0</td>\n",
       "      <td>...</td>\n",
       "      <td>NaN</td>\n",
       "      <td>NaN</td>\n",
       "      <td>NaN</td>\n",
       "      <td>NaN</td>\n",
       "      <td>Guatemala</td>\n",
       "      <td>25.907000</td>\n",
       "      <td>-97.426000</td>\n",
       "      <td>14.583</td>\n",
       "      <td>-90.528</td>\n",
       "      <td>True</td>\n",
       "    </tr>\n",
       "    <tr>\n",
       "      <th>1826399</th>\n",
       "      <td>(B)(6);(B)(7)(C)</td>\n",
       "      <td>(B)(6);(B)(7)(C)</td>\n",
       "      <td>(B)(6);(B)(7)(C)</td>\n",
       "      <td>(B)(6);(B)(7)(C)</td>\n",
       "      <td>8F</td>\n",
       "      <td>M</td>\n",
       "      <td>NC</td>\n",
       "      <td>N</td>\n",
       "      <td>NaN</td>\n",
       "      <td>19.0</td>\n",
       "      <td>...</td>\n",
       "      <td>NaN</td>\n",
       "      <td>NaN</td>\n",
       "      <td>NaN</td>\n",
       "      <td>NaN</td>\n",
       "      <td>Guatemala</td>\n",
       "      <td>25.907000</td>\n",
       "      <td>-97.426000</td>\n",
       "      <td>14.583</td>\n",
       "      <td>-90.528</td>\n",
       "      <td>True</td>\n",
       "    </tr>\n",
       "    <tr>\n",
       "      <th>1826400</th>\n",
       "      <td>(B)(6);(B)(7)(C)</td>\n",
       "      <td>(B)(6);(B)(7)(C)</td>\n",
       "      <td>(B)(6);(B)(7)(C)</td>\n",
       "      <td>(B)(6);(B)(7)(C)</td>\n",
       "      <td>8F</td>\n",
       "      <td>M</td>\n",
       "      <td>NC</td>\n",
       "      <td>N</td>\n",
       "      <td>NaN</td>\n",
       "      <td>33.0</td>\n",
       "      <td>...</td>\n",
       "      <td>NaN</td>\n",
       "      <td>NaN</td>\n",
       "      <td>NaN</td>\n",
       "      <td>NaN</td>\n",
       "      <td>Guatemala</td>\n",
       "      <td>25.907000</td>\n",
       "      <td>-97.426000</td>\n",
       "      <td>14.583</td>\n",
       "      <td>-90.528</td>\n",
       "      <td>True</td>\n",
       "    </tr>\n",
       "    <tr>\n",
       "      <th>1826401</th>\n",
       "      <td>(B)(6);(B)(7)(C)</td>\n",
       "      <td>(B)(6);(B)(7)(C)</td>\n",
       "      <td>(B)(6);(B)(7)(C)</td>\n",
       "      <td>(B)(6);(B)(7)(C)</td>\n",
       "      <td>8C</td>\n",
       "      <td>F</td>\n",
       "      <td>NC</td>\n",
       "      <td>N</td>\n",
       "      <td>NaN</td>\n",
       "      <td>24.0</td>\n",
       "      <td>...</td>\n",
       "      <td>NaN</td>\n",
       "      <td>NaN</td>\n",
       "      <td>NaN</td>\n",
       "      <td>NaN</td>\n",
       "      <td>Guatemala</td>\n",
       "      <td>33.307833</td>\n",
       "      <td>-111.655472</td>\n",
       "      <td>14.583</td>\n",
       "      <td>-90.528</td>\n",
       "      <td>True</td>\n",
       "    </tr>\n",
       "  </tbody>\n",
       "</table>\n",
       "<p>5 rows × 52 columns</p>\n",
       "</div>"
      ],
      "text/plain": [
       "                   ANumber           LastName          FirstName  \\\n",
       "1826397  (B)(6);(B)(7)(C)   (B)(6);(B)(7)(C)   (B)(6);(B)(7)(C)    \n",
       "1826398  (B)(6);(B)(7)(C)   (B)(6);(B)(7)(C)   (B)(6);(B)(7)(C)    \n",
       "1826399  (B)(6);(B)(7)(C)   (B)(6);(B)(7)(C)   (B)(6);(B)(7)(C)    \n",
       "1826400  (B)(6);(B)(7)(C)   (B)(6);(B)(7)(C)   (B)(6);(B)(7)(C)    \n",
       "1826401  (B)(6);(B)(7)(C)   (B)(6);(B)(7)(C)   (B)(6);(B)(7)(C)    \n",
       "\n",
       "                       DOB Status Sex Convictions GangMember  ClassLvl   Age  \\\n",
       "1826397  (B)(6);(B)(7)(C)      8F   M          NC          N       NaN  20.0   \n",
       "1826398  (B)(6);(B)(7)(C)      8F   M          NC          N       NaN  34.0   \n",
       "1826399  (B)(6);(B)(7)(C)      8F   M          NC          N       NaN  19.0   \n",
       "1826400  (B)(6);(B)(7)(C)      8F   M          NC          N       NaN  33.0   \n",
       "1826401  (B)(6);(B)(7)(C)      8C   F          NC          N       NaN  24.0   \n",
       "\n",
       "            ...      st2_StateAbbr  aor2_AORID aor2_AOR aor2_AORName  \\\n",
       "1826397     ...                NaN         NaN      NaN          NaN   \n",
       "1826398     ...                NaN         NaN      NaN          NaN   \n",
       "1826399     ...                NaN         NaN      NaN          NaN   \n",
       "1826400     ...                NaN         NaN      NaN          NaN   \n",
       "1826401     ...                NaN         NaN      NaN          NaN   \n",
       "\n",
       "         air2_Country air_LatitudeDecimalDegrees air_LongitudeDecimalDegrees  \\\n",
       "1826397     Guatemala                  25.907000                  -97.426000   \n",
       "1826398     Guatemala                  25.907000                  -97.426000   \n",
       "1826399     Guatemala                  25.907000                  -97.426000   \n",
       "1826400     Guatemala                  25.907000                  -97.426000   \n",
       "1826401     Guatemala                  33.307833                 -111.655472   \n",
       "\n",
       "        air2_LatitudeDecimalDegrees air2_LongitudeDecimalDegrees  NonCriminal  \n",
       "1826397                      14.583                      -90.528         True  \n",
       "1826398                      14.583                      -90.528         True  \n",
       "1826399                      14.583                      -90.528         True  \n",
       "1826400                      14.583                      -90.528         True  \n",
       "1826401                      14.583                      -90.528         True  \n",
       "\n",
       "[5 rows x 52 columns]"
      ]
     },
     "execution_count": 145,
     "metadata": {},
     "output_type": "execute_result"
    }
   ],
   "source": [
    "df.tail()"
   ]
  },
  {
   "cell_type": "markdown",
   "metadata": {},
   "source": [
    "# Specific airport"
   ]
  },
  {
   "cell_type": "code",
   "execution_count": 146,
   "metadata": {},
   "outputs": [],
   "source": [
    "# Select records for an airport represented in the database using its 4-character ICAO code\n",
    "airport = 'KELP'\n",
    "airport = str(airport).upper()"
   ]
  },
  {
   "cell_type": "code",
   "execution_count": 147,
   "metadata": {},
   "outputs": [],
   "source": [
    "airport_name = airport_dict[airport]['AirportName']\n",
    "\n",
    "# Creating DataFrames for pickup and dropoff records.\n",
    "# If memory usage is too great these can be deleted and assigned again as needed.\n",
    "pickup = df['PULOC'] == airport\n",
    "dropoff = df['DropLoc'] == airport\n",
    "pickup_df = df[pickup].copy()\n",
    "dropoff_df = df[dropoff].copy()\n",
    "\n",
    "first_pickup = pickup_df.MissionDate.min()\n",
    "last_pickup = pickup_df.MissionDate.max()\n",
    "first_dropoff = dropoff_df.MissionDate.min()\n",
    "last_dropoff = dropoff_df.MissionDate.max()\n",
    "\n",
    "pickup_df.set_index('MissionDate', inplace=True)\n",
    "dropoff_df.set_index('MissionDate', inplace=True)\n",
    "\n",
    "# DataFrame for all records relating to selected airport.\n",
    "all_df = pd.concat([pickup_df, dropoff_df]).drop_duplicates()\n",
    "\n",
    "# DataFrames for all records categorized as removals, transfers.\n",
    "removal = all_df['R-T'] == 'R'\n",
    "transfer = all_df['R-T'] == 'T'\n",
    "removal_df = all_df[removal].copy()\n",
    "transfer_df = all_df[transfer].copy()\n",
    "\n",
    "# Names here are used downstream in figure labels.\n",
    "all_df.name = 'Passengers'\n",
    "removal_df.name = 'Removals'\n",
    "transfer_df.name = 'Transfers'\n",
    "pickup_df.name = 'Departures'\n",
    "dropoff_df.name = 'Arrivals'\n",
    "\n",
    "# This grouped table would work for mapping flights from specific airports.\n",
    "all_missions = all_df.groupby(['MissionDate', 'MissionID', 'PULOC', 'DropLoc'])['AlienMasterID'].count()\n",
    "\n",
    "# Resampled counts of passengers and missions for different timeframes and types of record.\n",
    "weekly_pickups = pickup_df['AlienMasterID'].resample('W').count()\n",
    "weekly_dropoffs = dropoff_df['AlienMasterID'].resample('W').count()\n",
    "monthly_pickups = pickup_df['AlienMasterID'].resample('M').count()\n",
    "monthly_dropoffs = dropoff_df['AlienMasterID'].resample('M').count()\n",
    "monthly_pickup_missions = pickup_df['MissionID'].resample('M').nunique()\n",
    "monthly_dropoff_missions = dropoff_df['MissionID'].resample('M').nunique()\n",
    "annual_pickups = pickup_df['AlienMasterID'].resample('AS-OCT').count()\n",
    "annual_dropoffs = dropoff_df['AlienMasterID'].resample('AS-OCT').count()\n",
    "annual_removals = removal_df['AlienMasterID'].resample('AS-OCT').count()\n",
    "annual_transfers = transfer_df['AlienMasterID'].resample('AS-OCT').count()\n",
    "annual_total = all_df['AlienMasterID'].resample('AS-OCT').count()\n",
    "annual_pickup_missions = pickup_df['MissionID'].resample('AS-OCT').nunique()\n",
    "annual_dropoff_missions = dropoff_df['MissionID'].resample('AS-OCT').nunique()\n",
    "annual_total_missions = all_df['MissionID'].resample('AS-OCT').nunique()\n",
    "\n",
    "# Various descriptive statistics for selected airport\n",
    "unique_pickups = len(set(pickup_df['AlienMasterID']))\n",
    "unique_dropoffs = len(set(dropoff_df['AlienMasterID']))\n",
    "unique_removals = len(set(removal_df['AlienMasterID']))\n",
    "unique_transfers = len(set(transfer_df['AlienMasterID']))\n",
    "total_unique = len(set(all_df['AlienMasterID']))\n",
    "removal_percent = unique_removals / total_unique * 100\n",
    "transfer_percent = unique_transfers / total_unique * 100\n",
    "monthly_dropoff_avg = round(monthly_dropoffs.mean(), 2)\n",
    "monthly_pickup_avg = round(monthly_pickups.mean(), 2)\n",
    "monthly_dropoff_mission_avg = round(monthly_dropoff_missions.mean(), 2)\n",
    "monthly_pickup_mission_avg = round(monthly_pickup_missions.mean(), 2)\n",
    "unique_pickup_missions = len(set(pickup_df['MissionID']))\n",
    "unique_dropoff_missions = len(set(dropoff_df['MissionID']))"
   ]
  },
  {
   "cell_type": "code",
   "execution_count": 148,
   "metadata": {},
   "outputs": [
    {
     "data": {
      "text/plain": [
       "230505"
      ]
     },
     "execution_count": 148,
     "metadata": {},
     "output_type": "execute_result"
    }
   ],
   "source": [
    "total_unique"
   ]
  },
  {
   "cell_type": "code",
   "execution_count": 19,
   "metadata": {},
   "outputs": [
    {
     "data": {
      "text/html": [
       "<div>\n",
       "<style scoped>\n",
       "    .dataframe tbody tr th:only-of-type {\n",
       "        vertical-align: middle;\n",
       "    }\n",
       "\n",
       "    .dataframe tbody tr th {\n",
       "        vertical-align: top;\n",
       "    }\n",
       "\n",
       "    .dataframe thead th {\n",
       "        text-align: right;\n",
       "    }\n",
       "</style>\n",
       "<table border=\"1\" class=\"dataframe\">\n",
       "  <thead>\n",
       "    <tr style=\"text-align: right;\">\n",
       "      <th></th>\n",
       "      <th>Annual Pickups</th>\n",
       "      <th>Annual Pickup Missions</th>\n",
       "      <th>Annual Dropoffs</th>\n",
       "      <th>Annual Dropoff Missions</th>\n",
       "      <th>Annual Removals</th>\n",
       "      <th>Annual Transfers</th>\n",
       "      <th>Annual Total Passengers</th>\n",
       "      <th>Annual Total Missions</th>\n",
       "    </tr>\n",
       "    <tr>\n",
       "      <th>Fiscal Year</th>\n",
       "      <th></th>\n",
       "      <th></th>\n",
       "      <th></th>\n",
       "      <th></th>\n",
       "      <th></th>\n",
       "      <th></th>\n",
       "      <th></th>\n",
       "      <th></th>\n",
       "    </tr>\n",
       "  </thead>\n",
       "  <tbody>\n",
       "    <tr>\n",
       "      <th>2011</th>\n",
       "      <td>11823</td>\n",
       "      <td>367</td>\n",
       "      <td>6118</td>\n",
       "      <td>224</td>\n",
       "      <td>11483</td>\n",
       "      <td>6458</td>\n",
       "      <td>17941</td>\n",
       "      <td>431</td>\n",
       "    </tr>\n",
       "    <tr>\n",
       "      <th>2012</th>\n",
       "      <td>15793</td>\n",
       "      <td>365</td>\n",
       "      <td>10194</td>\n",
       "      <td>312</td>\n",
       "      <td>13380</td>\n",
       "      <td>12606</td>\n",
       "      <td>25986</td>\n",
       "      <td>440</td>\n",
       "    </tr>\n",
       "    <tr>\n",
       "      <th>2013</th>\n",
       "      <td>16520</td>\n",
       "      <td>288</td>\n",
       "      <td>9649</td>\n",
       "      <td>262</td>\n",
       "      <td>14806</td>\n",
       "      <td>11363</td>\n",
       "      <td>26169</td>\n",
       "      <td>386</td>\n",
       "    </tr>\n",
       "    <tr>\n",
       "      <th>2014</th>\n",
       "      <td>17656</td>\n",
       "      <td>255</td>\n",
       "      <td>15244</td>\n",
       "      <td>321</td>\n",
       "      <td>15609</td>\n",
       "      <td>17282</td>\n",
       "      <td>32891</td>\n",
       "      <td>450</td>\n",
       "    </tr>\n",
       "    <tr>\n",
       "      <th>2015</th>\n",
       "      <td>16921</td>\n",
       "      <td>254</td>\n",
       "      <td>12584</td>\n",
       "      <td>240</td>\n",
       "      <td>15757</td>\n",
       "      <td>13748</td>\n",
       "      <td>29505</td>\n",
       "      <td>344</td>\n",
       "    </tr>\n",
       "    <tr>\n",
       "      <th>2016</th>\n",
       "      <td>20874</td>\n",
       "      <td>289</td>\n",
       "      <td>13738</td>\n",
       "      <td>216</td>\n",
       "      <td>18284</td>\n",
       "      <td>16328</td>\n",
       "      <td>34612</td>\n",
       "      <td>367</td>\n",
       "    </tr>\n",
       "    <tr>\n",
       "      <th>2017</th>\n",
       "      <td>18027</td>\n",
       "      <td>244</td>\n",
       "      <td>8342</td>\n",
       "      <td>151</td>\n",
       "      <td>14467</td>\n",
       "      <td>11902</td>\n",
       "      <td>26369</td>\n",
       "      <td>301</td>\n",
       "    </tr>\n",
       "    <tr>\n",
       "      <th>2018</th>\n",
       "      <td>16709</td>\n",
       "      <td>226</td>\n",
       "      <td>9797</td>\n",
       "      <td>176</td>\n",
       "      <td>16583</td>\n",
       "      <td>9923</td>\n",
       "      <td>26506</td>\n",
       "      <td>290</td>\n",
       "    </tr>\n",
       "    <tr>\n",
       "      <th>2019</th>\n",
       "      <td>7026</td>\n",
       "      <td>109</td>\n",
       "      <td>3736</td>\n",
       "      <td>69</td>\n",
       "      <td>7123</td>\n",
       "      <td>3405</td>\n",
       "      <td>10528</td>\n",
       "      <td>135</td>\n",
       "    </tr>\n",
       "  </tbody>\n",
       "</table>\n",
       "</div>"
      ],
      "text/plain": [
       "             Annual Pickups  Annual Pickup Missions  Annual Dropoffs  \\\n",
       "Fiscal Year                                                            \n",
       "2011                  11823                     367             6118   \n",
       "2012                  15793                     365            10194   \n",
       "2013                  16520                     288             9649   \n",
       "2014                  17656                     255            15244   \n",
       "2015                  16921                     254            12584   \n",
       "2016                  20874                     289            13738   \n",
       "2017                  18027                     244             8342   \n",
       "2018                  16709                     226             9797   \n",
       "2019                   7026                     109             3736   \n",
       "\n",
       "             Annual Dropoff Missions  Annual Removals  Annual Transfers  \\\n",
       "Fiscal Year                                                               \n",
       "2011                             224            11483              6458   \n",
       "2012                             312            13380             12606   \n",
       "2013                             262            14806             11363   \n",
       "2014                             321            15609             17282   \n",
       "2015                             240            15757             13748   \n",
       "2016                             216            18284             16328   \n",
       "2017                             151            14467             11902   \n",
       "2018                             176            16583              9923   \n",
       "2019                              69             7123              3405   \n",
       "\n",
       "             Annual Total Passengers  Annual Total Missions  \n",
       "Fiscal Year                                                  \n",
       "2011                           17941                    431  \n",
       "2012                           25986                    440  \n",
       "2013                           26169                    386  \n",
       "2014                           32891                    450  \n",
       "2015                           29505                    344  \n",
       "2016                           34612                    367  \n",
       "2017                           26369                    301  \n",
       "2018                           26506                    290  \n",
       "2019                           10528                    135  "
      ]
     },
     "execution_count": 19,
     "metadata": {},
     "output_type": "execute_result"
    }
   ],
   "source": [
    "annual_summary"
   ]
  },
  {
   "cell_type": "code",
   "execution_count": 149,
   "metadata": {},
   "outputs": [
    {
     "data": {
      "text/plain": [
       "MissionDate\n",
       "2010-10-01    17941\n",
       "2011-10-01    25986\n",
       "2012-10-01    26169\n",
       "2013-10-01    32891\n",
       "2014-10-01    29505\n",
       "2015-10-01    34612\n",
       "2016-10-01    26369\n",
       "2017-10-01    26506\n",
       "2018-10-01    10528\n",
       "Freq: AS-OCT, Name: AlienMasterID, dtype: int64"
      ]
     },
     "execution_count": 149,
     "metadata": {},
     "output_type": "execute_result"
    }
   ],
   "source": [
    "annual_total"
   ]
  },
  {
   "cell_type": "code",
   "execution_count": 242,
   "metadata": {},
   "outputs": [
    {
     "data": {
      "text/plain": [
       "7305"
      ]
     },
     "execution_count": 242,
     "metadata": {},
     "output_type": "execute_result"
    }
   ],
   "source": [
    "len(dropoff_df[dropoff_df['R-T'] == 'R'])"
   ]
  },
  {
   "cell_type": "code",
   "execution_count": 245,
   "metadata": {},
   "outputs": [
    {
     "data": {
      "text/plain": [
       "MEXICO                          7293\n",
       "ECUADOR                           11\n",
       "UNITED STATES OF AMERICA           1\n",
       "POLAND                             0\n",
       "SUDAN                              0\n",
       "SRI LANKA                          0\n",
       "SPAIN                              0\n",
       "SOUTH KOREA                        0\n",
       "SOMALIA                            0\n",
       "SLOVAKIA                           0\n",
       "RWANDA                             0\n",
       "RUSSIA                             0\n",
       "ROMANIA                            0\n",
       "PORTUGAL                           0\n",
       "PHILIPPINES                        0\n",
       "SYRIA                              0\n",
       "PERU                               0\n",
       "PARAGUAY                           0\n",
       "PANAMA                             0\n",
       "PAKISTAN                           0\n",
       "NIGERIA                            0\n",
       "NIGER                              0\n",
       "NICARAGUA                          0\n",
       "NEW ZEALAND                        0\n",
       "NEPAL                              0\n",
       "MOZAMBIQUE                         0\n",
       "SWEDEN                             0\n",
       "ANGUILLA                           0\n",
       "MONGOLIA                           0\n",
       "BELIZE                             0\n",
       "                                ... \n",
       "GREENLAND                          0\n",
       "ESTONIA                            0\n",
       "CONGO                              0\n",
       "BURUNDI                            0\n",
       "HUNGARY                            0\n",
       "MARTINIQUE                         0\n",
       "BELARUS                            0\n",
       "CENTRAL AFRICAN REPUBLIC           0\n",
       "MACEDONIA                          0\n",
       "MACAU                              0\n",
       "CROATIA                            0\n",
       "SLOVENIA                           0\n",
       "PALESTINE                          0\n",
       "HONG KONG                          0\n",
       "ZIMBABWE                           0\n",
       "MYANMAR                            0\n",
       "MOLDOVA                            0\n",
       "KOSOVO                             0\n",
       "CHAD                               0\n",
       "CAYMAN ISLANDS                     0\n",
       "QATAR                              0\n",
       "KYRGYSTAN                          0\n",
       "ST. VINCENT & THE GRENADINES       0\n",
       "OMAN                               0\n",
       "JAPAN                              0\n",
       "GUAM                               0\n",
       "AUSTRIA                            0\n",
       "SINGAPORE                          0\n",
       "NORWAY                             0\n",
       "ALGERIA                            0\n",
       "Name: CountryOfCitizenship, Length: 206, dtype: int64"
      ]
     },
     "execution_count": 245,
     "metadata": {},
     "output_type": "execute_result"
    }
   ],
   "source": [
    "dropoff_df.loc[dropoff_df['R-T'] == 'R', 'CountryOfCitizenship'].value_counts()"
   ]
  },
  {
   "cell_type": "code",
   "execution_count": 243,
   "metadata": {},
   "outputs": [
    {
     "data": {
      "text/plain": [
       "82097"
      ]
     },
     "execution_count": 243,
     "metadata": {},
     "output_type": "execute_result"
    }
   ],
   "source": [
    "len(dropoff_df[dropoff_df['R-T'] == 'T'])"
   ]
  },
  {
   "cell_type": "code",
   "execution_count": 150,
   "metadata": {},
   "outputs": [
    {
     "data": {
      "text/plain": [
       "Licenciado Benito Juarez International Airport        67669\n",
       "Valley International Airport                          21028\n",
       "La Aurora Airport                                     15545\n",
       "El Salvador International Airport                      7792\n",
       "Ramon Villeda Morales International Airport            4079\n",
       "Augusto C. Sandino (Managua) International Airport     2308\n",
       "Laredo International Airport                            249\n",
       "Phoenix-Mesa-Gateway Airport                            202\n",
       "Indira Gandhi International Airport                     181\n",
       "Aden Adde International Airport                         135\n",
       "Name: air2_AirportName, dtype: int64"
      ]
     },
     "execution_count": 150,
     "metadata": {},
     "output_type": "execute_result"
    }
   ],
   "source": [
    "# Top destination airports for removals from selected airport\n",
    "pickup_df[pickup_df['R-T'] == 'R']['air2_AirportName'].value_counts().head(10)"
   ]
  },
  {
   "cell_type": "code",
   "execution_count": 241,
   "metadata": {},
   "outputs": [
    {
     "data": {
      "text/plain": [
       "Boeing Field King County International Airport    2301\n",
       "Denver International Airport                      1676\n",
       "San Diego International Airport                   1208\n",
       "McCarran International Airport                    1126\n",
       "Salt Lake City International Airport               351\n",
       "Alexandria International Airport                   233\n",
       "Phoenix-Mesa-Gateway Airport                       187\n",
       "Miami International Airport                         73\n",
       "City of Colorado Springs Municipal Airport          35\n",
       "Reno Tahoe International Airport                    35\n",
       "Name: air_AirportName, dtype: int64"
      ]
     },
     "execution_count": 241,
     "metadata": {},
     "output_type": "execute_result"
    }
   ],
   "source": [
    "# Top sending airports for removals at selected airport\n",
    "dropoff_df[dropoff_df['R-T'] == 'R']['air_AirportName'].value_counts().head(10)"
   ]
  },
  {
   "cell_type": "code",
   "execution_count": 151,
   "metadata": {},
   "outputs": [
    {
     "data": {
      "text/plain": [
       "Phoenix-Mesa-Gateway Airport                            14705\n",
       "San Antonio International Airport                        2401\n",
       "Alexandria International Airport                         1454\n",
       "Miami International Airport                               490\n",
       "George Bush Intercontinental Houston Airport              298\n",
       "Columbus Metropolitan Airport                             289\n",
       "El Paso International Airport                             244\n",
       "Memphis International Airport                             236\n",
       "Valley International Airport                              211\n",
       "Brownsville South Padre Island International Airport      176\n",
       "Name: air2_AirportName, dtype: int64"
      ]
     },
     "execution_count": 151,
     "metadata": {},
     "output_type": "execute_result"
    }
   ],
   "source": [
    "# Top destination airports for transfers from selected airport\n",
    "pickup_df[pickup_df['R-T'] == 'T']['air2_AirportName'].value_counts().head(10)"
   ]
  },
  {
   "cell_type": "code",
   "execution_count": 240,
   "metadata": {},
   "outputs": [
    {
     "data": {
      "text/plain": [
       "Alexandria International Airport                        12311\n",
       "San Diego International Airport                         10757\n",
       "Columbus Metropolitan Airport                           10370\n",
       "Boeing Field King County International Airport           9230\n",
       "Phoenix-Mesa-Gateway Airport                             6462\n",
       "McCarran International Airport                           5862\n",
       "Denver International Airport                             5814\n",
       "Brownsville South Padre Island International Airport     5624\n",
       "Valley International Airport                             3545\n",
       "Salt Lake City International Airport                     2970\n",
       "Name: air_AirportName, dtype: int64"
      ]
     },
     "execution_count": 240,
     "metadata": {},
     "output_type": "execute_result"
    }
   ],
   "source": [
    "# Top sending airports for transfers to selected airport\n",
    "dropoff_df[dropoff_df['R-T'] == 'T']['air_AirportName'].value_counts().head(10)"
   ]
  },
  {
   "cell_type": "code",
   "execution_count": 152,
   "metadata": {},
   "outputs": [],
   "source": [
    "missions_df = all_missions.reset_index()\n",
    "missions_df = missions_df.rename({\"AlienMasterID\": \"Passengers\"}, axis=1)"
   ]
  },
  {
   "cell_type": "code",
   "execution_count": 153,
   "metadata": {},
   "outputs": [],
   "source": [
    "missions_df.to_csv(f'../output/{airport}_missions.csv', index=False)"
   ]
  },
  {
   "cell_type": "code",
   "execution_count": 154,
   "metadata": {},
   "outputs": [
    {
     "data": {
      "text/html": [
       "<div>\n",
       "<style scoped>\n",
       "    .dataframe tbody tr th:only-of-type {\n",
       "        vertical-align: middle;\n",
       "    }\n",
       "\n",
       "    .dataframe tbody tr th {\n",
       "        vertical-align: top;\n",
       "    }\n",
       "\n",
       "    .dataframe thead th {\n",
       "        text-align: right;\n",
       "    }\n",
       "</style>\n",
       "<table border=\"1\" class=\"dataframe\">\n",
       "  <thead>\n",
       "    <tr style=\"text-align: right;\">\n",
       "      <th></th>\n",
       "      <th>MissionDate</th>\n",
       "      <th>MissionID</th>\n",
       "      <th>PULOC</th>\n",
       "      <th>DropLoc</th>\n",
       "      <th>Passengers</th>\n",
       "    </tr>\n",
       "  </thead>\n",
       "  <tbody>\n",
       "    <tr>\n",
       "      <th>0</th>\n",
       "      <td>2010-10-01</td>\n",
       "      <td>1695</td>\n",
       "      <td>KELP</td>\n",
       "      <td>KHRL</td>\n",
       "      <td>46</td>\n",
       "    </tr>\n",
       "    <tr>\n",
       "      <th>1</th>\n",
       "      <td>2010-10-01</td>\n",
       "      <td>1695</td>\n",
       "      <td>KELP</td>\n",
       "      <td>KIWA</td>\n",
       "      <td>1</td>\n",
       "    </tr>\n",
       "    <tr>\n",
       "      <th>2</th>\n",
       "      <td>2010-10-04</td>\n",
       "      <td>110</td>\n",
       "      <td>KSAN</td>\n",
       "      <td>KELP</td>\n",
       "      <td>4</td>\n",
       "    </tr>\n",
       "    <tr>\n",
       "      <th>3</th>\n",
       "      <td>2010-10-04</td>\n",
       "      <td>111</td>\n",
       "      <td>KELP</td>\n",
       "      <td>MSLP</td>\n",
       "      <td>29</td>\n",
       "    </tr>\n",
       "    <tr>\n",
       "      <th>4</th>\n",
       "      <td>2010-10-05</td>\n",
       "      <td>113</td>\n",
       "      <td>KELP</td>\n",
       "      <td>KHRL</td>\n",
       "      <td>26</td>\n",
       "    </tr>\n",
       "    <tr>\n",
       "      <th>5</th>\n",
       "      <td>2010-10-05</td>\n",
       "      <td>114</td>\n",
       "      <td>KELP</td>\n",
       "      <td>KIWA</td>\n",
       "      <td>5</td>\n",
       "    </tr>\n",
       "    <tr>\n",
       "      <th>6</th>\n",
       "      <td>2010-10-05</td>\n",
       "      <td>114</td>\n",
       "      <td>KSAN</td>\n",
       "      <td>KELP</td>\n",
       "      <td>24</td>\n",
       "    </tr>\n",
       "    <tr>\n",
       "      <th>7</th>\n",
       "      <td>2010-10-05</td>\n",
       "      <td>115</td>\n",
       "      <td>KELP</td>\n",
       "      <td>MGGT</td>\n",
       "      <td>23</td>\n",
       "    </tr>\n",
       "    <tr>\n",
       "      <th>8</th>\n",
       "      <td>2010-10-06</td>\n",
       "      <td>117</td>\n",
       "      <td>KELP</td>\n",
       "      <td>KHRL</td>\n",
       "      <td>54</td>\n",
       "    </tr>\n",
       "    <tr>\n",
       "      <th>9</th>\n",
       "      <td>2010-10-06</td>\n",
       "      <td>118</td>\n",
       "      <td>KELP</td>\n",
       "      <td>KIWA</td>\n",
       "      <td>10</td>\n",
       "    </tr>\n",
       "    <tr>\n",
       "      <th>10</th>\n",
       "      <td>2010-10-06</td>\n",
       "      <td>118</td>\n",
       "      <td>KOAK</td>\n",
       "      <td>KELP</td>\n",
       "      <td>3</td>\n",
       "    </tr>\n",
       "    <tr>\n",
       "      <th>11</th>\n",
       "      <td>2010-10-06</td>\n",
       "      <td>118</td>\n",
       "      <td>KSAN</td>\n",
       "      <td>KELP</td>\n",
       "      <td>14</td>\n",
       "    </tr>\n",
       "    <tr>\n",
       "      <th>12</th>\n",
       "      <td>2010-10-07</td>\n",
       "      <td>121</td>\n",
       "      <td>KELP</td>\n",
       "      <td>KHRL</td>\n",
       "      <td>34</td>\n",
       "    </tr>\n",
       "    <tr>\n",
       "      <th>13</th>\n",
       "      <td>2010-10-07</td>\n",
       "      <td>122</td>\n",
       "      <td>KOAK</td>\n",
       "      <td>KELP</td>\n",
       "      <td>7</td>\n",
       "    </tr>\n",
       "    <tr>\n",
       "      <th>14</th>\n",
       "      <td>2010-10-07</td>\n",
       "      <td>122</td>\n",
       "      <td>KSAN</td>\n",
       "      <td>KELP</td>\n",
       "      <td>22</td>\n",
       "    </tr>\n",
       "    <tr>\n",
       "      <th>15</th>\n",
       "      <td>2010-10-08</td>\n",
       "      <td>124</td>\n",
       "      <td>KDEN</td>\n",
       "      <td>KELP</td>\n",
       "      <td>2</td>\n",
       "    </tr>\n",
       "    <tr>\n",
       "      <th>16</th>\n",
       "      <td>2010-10-08</td>\n",
       "      <td>124</td>\n",
       "      <td>KELP</td>\n",
       "      <td>KHRL</td>\n",
       "      <td>47</td>\n",
       "    </tr>\n",
       "    <tr>\n",
       "      <th>17</th>\n",
       "      <td>2010-10-12</td>\n",
       "      <td>163</td>\n",
       "      <td>KIWA</td>\n",
       "      <td>KELP</td>\n",
       "      <td>10</td>\n",
       "    </tr>\n",
       "    <tr>\n",
       "      <th>18</th>\n",
       "      <td>2010-10-12</td>\n",
       "      <td>163</td>\n",
       "      <td>KSAN</td>\n",
       "      <td>KELP</td>\n",
       "      <td>19</td>\n",
       "    </tr>\n",
       "    <tr>\n",
       "      <th>19</th>\n",
       "      <td>2010-10-12</td>\n",
       "      <td>167</td>\n",
       "      <td>KAEX</td>\n",
       "      <td>KELP</td>\n",
       "      <td>27</td>\n",
       "    </tr>\n",
       "    <tr>\n",
       "      <th>20</th>\n",
       "      <td>2010-10-13</td>\n",
       "      <td>171</td>\n",
       "      <td>KBFL</td>\n",
       "      <td>KELP</td>\n",
       "      <td>3</td>\n",
       "    </tr>\n",
       "    <tr>\n",
       "      <th>21</th>\n",
       "      <td>2010-10-13</td>\n",
       "      <td>171</td>\n",
       "      <td>KSAN</td>\n",
       "      <td>KELP</td>\n",
       "      <td>11</td>\n",
       "    </tr>\n",
       "    <tr>\n",
       "      <th>22</th>\n",
       "      <td>2010-10-13</td>\n",
       "      <td>172</td>\n",
       "      <td>KELP</td>\n",
       "      <td>KHRL</td>\n",
       "      <td>76</td>\n",
       "    </tr>\n",
       "    <tr>\n",
       "      <th>23</th>\n",
       "      <td>2010-10-13</td>\n",
       "      <td>175</td>\n",
       "      <td>KELP</td>\n",
       "      <td>KSAT</td>\n",
       "      <td>43</td>\n",
       "    </tr>\n",
       "    <tr>\n",
       "      <th>24</th>\n",
       "      <td>2010-10-13</td>\n",
       "      <td>175</td>\n",
       "      <td>KELP</td>\n",
       "      <td>MGGT</td>\n",
       "      <td>26</td>\n",
       "    </tr>\n",
       "    <tr>\n",
       "      <th>25</th>\n",
       "      <td>2010-10-13</td>\n",
       "      <td>176</td>\n",
       "      <td>KMDT</td>\n",
       "      <td>KELP</td>\n",
       "      <td>104</td>\n",
       "    </tr>\n",
       "    <tr>\n",
       "      <th>26</th>\n",
       "      <td>2010-10-14</td>\n",
       "      <td>179</td>\n",
       "      <td>KBFL</td>\n",
       "      <td>KELP</td>\n",
       "      <td>5</td>\n",
       "    </tr>\n",
       "    <tr>\n",
       "      <th>27</th>\n",
       "      <td>2010-10-14</td>\n",
       "      <td>179</td>\n",
       "      <td>KELP</td>\n",
       "      <td>KIWA</td>\n",
       "      <td>13</td>\n",
       "    </tr>\n",
       "    <tr>\n",
       "      <th>28</th>\n",
       "      <td>2010-10-14</td>\n",
       "      <td>179</td>\n",
       "      <td>KSAN</td>\n",
       "      <td>KELP</td>\n",
       "      <td>10</td>\n",
       "    </tr>\n",
       "    <tr>\n",
       "      <th>29</th>\n",
       "      <td>2010-10-14</td>\n",
       "      <td>180</td>\n",
       "      <td>KELP</td>\n",
       "      <td>KHRL</td>\n",
       "      <td>36</td>\n",
       "    </tr>\n",
       "    <tr>\n",
       "      <th>...</th>\n",
       "      <td>...</td>\n",
       "      <td>...</td>\n",
       "      <td>...</td>\n",
       "      <td>...</td>\n",
       "      <td>...</td>\n",
       "    </tr>\n",
       "    <tr>\n",
       "      <th>5630</th>\n",
       "      <td>2019-04-09</td>\n",
       "      <td>48173</td>\n",
       "      <td>KLAS</td>\n",
       "      <td>KELP</td>\n",
       "      <td>22</td>\n",
       "    </tr>\n",
       "    <tr>\n",
       "      <th>5631</th>\n",
       "      <td>2019-04-09</td>\n",
       "      <td>48175</td>\n",
       "      <td>KELP</td>\n",
       "      <td>KBFI</td>\n",
       "      <td>91</td>\n",
       "    </tr>\n",
       "    <tr>\n",
       "      <th>5632</th>\n",
       "      <td>2019-04-09</td>\n",
       "      <td>48178</td>\n",
       "      <td>KELP</td>\n",
       "      <td>MHLM</td>\n",
       "      <td>47</td>\n",
       "    </tr>\n",
       "    <tr>\n",
       "      <th>5633</th>\n",
       "      <td>2019-04-11</td>\n",
       "      <td>48194</td>\n",
       "      <td>KELP</td>\n",
       "      <td>MGGT</td>\n",
       "      <td>135</td>\n",
       "    </tr>\n",
       "    <tr>\n",
       "      <th>5634</th>\n",
       "      <td>2019-04-12</td>\n",
       "      <td>48203</td>\n",
       "      <td>KDEN</td>\n",
       "      <td>KELP</td>\n",
       "      <td>31</td>\n",
       "    </tr>\n",
       "    <tr>\n",
       "      <th>5635</th>\n",
       "      <td>2019-04-12</td>\n",
       "      <td>48203</td>\n",
       "      <td>KSLC</td>\n",
       "      <td>KELP</td>\n",
       "      <td>17</td>\n",
       "    </tr>\n",
       "    <tr>\n",
       "      <th>5636</th>\n",
       "      <td>2019-04-15</td>\n",
       "      <td>48219</td>\n",
       "      <td>KELP</td>\n",
       "      <td>MGGT</td>\n",
       "      <td>109</td>\n",
       "    </tr>\n",
       "    <tr>\n",
       "      <th>5637</th>\n",
       "      <td>2019-04-16</td>\n",
       "      <td>48226</td>\n",
       "      <td>KBFI</td>\n",
       "      <td>KELP</td>\n",
       "      <td>54</td>\n",
       "    </tr>\n",
       "    <tr>\n",
       "      <th>5638</th>\n",
       "      <td>2019-04-16</td>\n",
       "      <td>48226</td>\n",
       "      <td>KLAS</td>\n",
       "      <td>KELP</td>\n",
       "      <td>30</td>\n",
       "    </tr>\n",
       "    <tr>\n",
       "      <th>5639</th>\n",
       "      <td>2019-04-16</td>\n",
       "      <td>48227</td>\n",
       "      <td>KELP</td>\n",
       "      <td>KMEM</td>\n",
       "      <td>73</td>\n",
       "    </tr>\n",
       "    <tr>\n",
       "      <th>5640</th>\n",
       "      <td>2019-04-16</td>\n",
       "      <td>48228</td>\n",
       "      <td>KELP</td>\n",
       "      <td>MHLM</td>\n",
       "      <td>34</td>\n",
       "    </tr>\n",
       "    <tr>\n",
       "      <th>5641</th>\n",
       "      <td>2019-04-19</td>\n",
       "      <td>48238</td>\n",
       "      <td>KDEN</td>\n",
       "      <td>KELP</td>\n",
       "      <td>28</td>\n",
       "    </tr>\n",
       "    <tr>\n",
       "      <th>5642</th>\n",
       "      <td>2019-04-22</td>\n",
       "      <td>48242</td>\n",
       "      <td>KELP</td>\n",
       "      <td>KIWA</td>\n",
       "      <td>54</td>\n",
       "    </tr>\n",
       "    <tr>\n",
       "      <th>5643</th>\n",
       "      <td>2019-04-23</td>\n",
       "      <td>48249</td>\n",
       "      <td>KBFI</td>\n",
       "      <td>KELP</td>\n",
       "      <td>32</td>\n",
       "    </tr>\n",
       "    <tr>\n",
       "      <th>5644</th>\n",
       "      <td>2019-04-23</td>\n",
       "      <td>48249</td>\n",
       "      <td>KELP</td>\n",
       "      <td>KIWA</td>\n",
       "      <td>22</td>\n",
       "    </tr>\n",
       "    <tr>\n",
       "      <th>5645</th>\n",
       "      <td>2019-04-24</td>\n",
       "      <td>48258</td>\n",
       "      <td>KELP</td>\n",
       "      <td>MHLM</td>\n",
       "      <td>48</td>\n",
       "    </tr>\n",
       "    <tr>\n",
       "      <th>5646</th>\n",
       "      <td>2019-04-24</td>\n",
       "      <td>48259</td>\n",
       "      <td>KELP</td>\n",
       "      <td>MSLP</td>\n",
       "      <td>39</td>\n",
       "    </tr>\n",
       "    <tr>\n",
       "      <th>5647</th>\n",
       "      <td>2019-04-25</td>\n",
       "      <td>48269</td>\n",
       "      <td>KELP</td>\n",
       "      <td>MGGT</td>\n",
       "      <td>129</td>\n",
       "    </tr>\n",
       "    <tr>\n",
       "      <th>5648</th>\n",
       "      <td>2019-04-26</td>\n",
       "      <td>48278</td>\n",
       "      <td>KDEN</td>\n",
       "      <td>KELP</td>\n",
       "      <td>43</td>\n",
       "    </tr>\n",
       "    <tr>\n",
       "      <th>5649</th>\n",
       "      <td>2019-04-29</td>\n",
       "      <td>48291</td>\n",
       "      <td>KBFI</td>\n",
       "      <td>KELP</td>\n",
       "      <td>43</td>\n",
       "    </tr>\n",
       "    <tr>\n",
       "      <th>5650</th>\n",
       "      <td>2019-04-29</td>\n",
       "      <td>48291</td>\n",
       "      <td>KELP</td>\n",
       "      <td>KIWA</td>\n",
       "      <td>48</td>\n",
       "    </tr>\n",
       "    <tr>\n",
       "      <th>5651</th>\n",
       "      <td>2019-04-29</td>\n",
       "      <td>48298</td>\n",
       "      <td>KELP</td>\n",
       "      <td>KIAH</td>\n",
       "      <td>131</td>\n",
       "    </tr>\n",
       "    <tr>\n",
       "      <th>5652</th>\n",
       "      <td>2019-04-30</td>\n",
       "      <td>48308</td>\n",
       "      <td>KELP</td>\n",
       "      <td>KPVD</td>\n",
       "      <td>131</td>\n",
       "    </tr>\n",
       "    <tr>\n",
       "      <th>5653</th>\n",
       "      <td>2019-05-01</td>\n",
       "      <td>48310</td>\n",
       "      <td>KELP</td>\n",
       "      <td>KMEM</td>\n",
       "      <td>102</td>\n",
       "    </tr>\n",
       "    <tr>\n",
       "      <th>5654</th>\n",
       "      <td>2019-05-01</td>\n",
       "      <td>48311</td>\n",
       "      <td>KELP</td>\n",
       "      <td>KMSP</td>\n",
       "      <td>19</td>\n",
       "    </tr>\n",
       "    <tr>\n",
       "      <th>5655</th>\n",
       "      <td>2019-05-01</td>\n",
       "      <td>48311</td>\n",
       "      <td>KELP</td>\n",
       "      <td>KORD</td>\n",
       "      <td>22</td>\n",
       "    </tr>\n",
       "    <tr>\n",
       "      <th>5656</th>\n",
       "      <td>2019-05-01</td>\n",
       "      <td>48311</td>\n",
       "      <td>KELP</td>\n",
       "      <td>KYNG</td>\n",
       "      <td>25</td>\n",
       "    </tr>\n",
       "    <tr>\n",
       "      <th>5657</th>\n",
       "      <td>2019-05-02</td>\n",
       "      <td>48315</td>\n",
       "      <td>KELP</td>\n",
       "      <td>MGGT</td>\n",
       "      <td>80</td>\n",
       "    </tr>\n",
       "    <tr>\n",
       "      <th>5658</th>\n",
       "      <td>2019-05-03</td>\n",
       "      <td>48324</td>\n",
       "      <td>KDEN</td>\n",
       "      <td>KELP</td>\n",
       "      <td>49</td>\n",
       "    </tr>\n",
       "    <tr>\n",
       "      <th>5659</th>\n",
       "      <td>2019-05-03</td>\n",
       "      <td>48324</td>\n",
       "      <td>KELP</td>\n",
       "      <td>KIWA</td>\n",
       "      <td>1</td>\n",
       "    </tr>\n",
       "  </tbody>\n",
       "</table>\n",
       "<p>5660 rows × 5 columns</p>\n",
       "</div>"
      ],
      "text/plain": [
       "     MissionDate  MissionID PULOC DropLoc  Passengers\n",
       "0     2010-10-01       1695  KELP    KHRL          46\n",
       "1     2010-10-01       1695  KELP    KIWA           1\n",
       "2     2010-10-04        110  KSAN    KELP           4\n",
       "3     2010-10-04        111  KELP    MSLP          29\n",
       "4     2010-10-05        113  KELP    KHRL          26\n",
       "5     2010-10-05        114  KELP    KIWA           5\n",
       "6     2010-10-05        114  KSAN    KELP          24\n",
       "7     2010-10-05        115  KELP    MGGT          23\n",
       "8     2010-10-06        117  KELP    KHRL          54\n",
       "9     2010-10-06        118  KELP    KIWA          10\n",
       "10    2010-10-06        118  KOAK    KELP           3\n",
       "11    2010-10-06        118  KSAN    KELP          14\n",
       "12    2010-10-07        121  KELP    KHRL          34\n",
       "13    2010-10-07        122  KOAK    KELP           7\n",
       "14    2010-10-07        122  KSAN    KELP          22\n",
       "15    2010-10-08        124  KDEN    KELP           2\n",
       "16    2010-10-08        124  KELP    KHRL          47\n",
       "17    2010-10-12        163  KIWA    KELP          10\n",
       "18    2010-10-12        163  KSAN    KELP          19\n",
       "19    2010-10-12        167  KAEX    KELP          27\n",
       "20    2010-10-13        171  KBFL    KELP           3\n",
       "21    2010-10-13        171  KSAN    KELP          11\n",
       "22    2010-10-13        172  KELP    KHRL          76\n",
       "23    2010-10-13        175  KELP    KSAT          43\n",
       "24    2010-10-13        175  KELP    MGGT          26\n",
       "25    2010-10-13        176  KMDT    KELP         104\n",
       "26    2010-10-14        179  KBFL    KELP           5\n",
       "27    2010-10-14        179  KELP    KIWA          13\n",
       "28    2010-10-14        179  KSAN    KELP          10\n",
       "29    2010-10-14        180  KELP    KHRL          36\n",
       "...          ...        ...   ...     ...         ...\n",
       "5630  2019-04-09      48173  KLAS    KELP          22\n",
       "5631  2019-04-09      48175  KELP    KBFI          91\n",
       "5632  2019-04-09      48178  KELP    MHLM          47\n",
       "5633  2019-04-11      48194  KELP    MGGT         135\n",
       "5634  2019-04-12      48203  KDEN    KELP          31\n",
       "5635  2019-04-12      48203  KSLC    KELP          17\n",
       "5636  2019-04-15      48219  KELP    MGGT         109\n",
       "5637  2019-04-16      48226  KBFI    KELP          54\n",
       "5638  2019-04-16      48226  KLAS    KELP          30\n",
       "5639  2019-04-16      48227  KELP    KMEM          73\n",
       "5640  2019-04-16      48228  KELP    MHLM          34\n",
       "5641  2019-04-19      48238  KDEN    KELP          28\n",
       "5642  2019-04-22      48242  KELP    KIWA          54\n",
       "5643  2019-04-23      48249  KBFI    KELP          32\n",
       "5644  2019-04-23      48249  KELP    KIWA          22\n",
       "5645  2019-04-24      48258  KELP    MHLM          48\n",
       "5646  2019-04-24      48259  KELP    MSLP          39\n",
       "5647  2019-04-25      48269  KELP    MGGT         129\n",
       "5648  2019-04-26      48278  KDEN    KELP          43\n",
       "5649  2019-04-29      48291  KBFI    KELP          43\n",
       "5650  2019-04-29      48291  KELP    KIWA          48\n",
       "5651  2019-04-29      48298  KELP    KIAH         131\n",
       "5652  2019-04-30      48308  KELP    KPVD         131\n",
       "5653  2019-05-01      48310  KELP    KMEM         102\n",
       "5654  2019-05-01      48311  KELP    KMSP          19\n",
       "5655  2019-05-01      48311  KELP    KORD          22\n",
       "5656  2019-05-01      48311  KELP    KYNG          25\n",
       "5657  2019-05-02      48315  KELP    MGGT          80\n",
       "5658  2019-05-03      48324  KDEN    KELP          49\n",
       "5659  2019-05-03      48324  KELP    KIWA           1\n",
       "\n",
       "[5660 rows x 5 columns]"
      ]
     },
     "execution_count": 154,
     "metadata": {},
     "output_type": "execute_result"
    }
   ],
   "source": [
    "missions_df"
   ]
  },
  {
   "cell_type": "markdown",
   "metadata": {},
   "source": [
    "# Annual trends (by fiscal year)"
   ]
  },
  {
   "cell_type": "code",
   "execution_count": 155,
   "metadata": {},
   "outputs": [],
   "source": [
    "fy_index = pd.date_range(start='2010-10-01', end='2019-01-01', freq='AS-OCT')"
   ]
  },
  {
   "cell_type": "code",
   "execution_count": 156,
   "metadata": {},
   "outputs": [
    {
     "data": {
      "text/plain": [
       "MissionDate\n",
       "2010-10-01    431\n",
       "2011-10-01    440\n",
       "2012-10-01    386\n",
       "2013-10-01    450\n",
       "2014-10-01    344\n",
       "2015-10-01    367\n",
       "2016-10-01    301\n",
       "2017-10-01    290\n",
       "2018-10-01    135\n",
       "Freq: AS-OCT, Name: Total missions, dtype: int64"
      ]
     },
     "execution_count": 156,
     "metadata": {},
     "output_type": "execute_result"
    }
   ],
   "source": [
    "annual_pickups.rename('Total pickups', inplace=True)\n",
    "annual_dropoffs.rename('Total dropoffs', inplace=True)\n",
    "annual_removals.rename('Total removals', inplace=True)\n",
    "annual_transfers.rename('Total transfers', inplace=True)\n",
    "annual_total.rename('Total passengers', inplace=True)\n",
    "annual_pickup_missions.rename('Total pickup missions', inplace=True)\n",
    "annual_dropoff_missions.rename('Total dropoff missions', inplace=True)\n",
    "annual_total_missions.rename('Total missions', inplace=True)"
   ]
  },
  {
   "cell_type": "code",
   "execution_count": 157,
   "metadata": {},
   "outputs": [],
   "source": [
    "annual_summary = pd.DataFrame({'Annual Pickups': annual_pickups,\n",
    "              'Annual Pickup Missions': annual_pickup_missions,\n",
    "              'Annual Dropoffs': annual_dropoffs,\n",
    "              'Annual Dropoff Missions': annual_dropoff_missions,\n",
    "              'Annual Removals': annual_removals,\n",
    "              'Annual Transfers': annual_transfers,\n",
    "              'Annual Total Passengers': annual_total,\n",
    "              'Annual Total Missions': annual_total_missions}, index=fy_index)"
   ]
  },
  {
   "cell_type": "code",
   "execution_count": 158,
   "metadata": {},
   "outputs": [
    {
     "data": {
      "text/plain": [
       "MissionDate\n",
       "2010-10-01    431\n",
       "2011-10-01    440\n",
       "2012-10-01    386\n",
       "2013-10-01    450\n",
       "2014-10-01    344\n",
       "2015-10-01    367\n",
       "2016-10-01    301\n",
       "2017-10-01    290\n",
       "2018-10-01    135\n",
       "Freq: AS-OCT, Name: Total missions, dtype: int64"
      ]
     },
     "execution_count": 158,
     "metadata": {},
     "output_type": "execute_result"
    }
   ],
   "source": [
    "annual_total_missions"
   ]
  },
  {
   "cell_type": "code",
   "execution_count": 159,
   "metadata": {},
   "outputs": [],
   "source": [
    "annual_summary.index = annual_summary.index.year+1 \n",
    "annual_summary.index.name = 'Fiscal Year'"
   ]
  },
  {
   "cell_type": "code",
   "execution_count": 160,
   "metadata": {},
   "outputs": [],
   "source": [
    "annual_summary = annual_summary.rename({2019: '2019*'})"
   ]
  },
  {
   "cell_type": "code",
   "execution_count": 161,
   "metadata": {},
   "outputs": [],
   "source": [
    "flat_summary = annual_summary.unstack().to_frame().T "
   ]
  },
  {
   "cell_type": "code",
   "execution_count": 162,
   "metadata": {},
   "outputs": [],
   "source": [
    "flat_summary.index = [airport]"
   ]
  },
  {
   "cell_type": "code",
   "execution_count": 163,
   "metadata": {
    "scrolled": true
   },
   "outputs": [],
   "source": [
    "flat_summary.columns = flat_summary.columns.tolist()"
   ]
  },
  {
   "cell_type": "code",
   "execution_count": 234,
   "metadata": {},
   "outputs": [],
   "source": [
    "annual_summary.to_csv(f'../output/{airport}_annual_summary.csv')"
   ]
  },
  {
   "cell_type": "code",
   "execution_count": 165,
   "metadata": {},
   "outputs": [],
   "source": [
    "# annual_dropoffs.to_csv(f'../output/{airport}-dropoffs.csv')"
   ]
  },
  {
   "cell_type": "code",
   "execution_count": 235,
   "metadata": {},
   "outputs": [],
   "source": [
    "def bar_chart(data, airport=str, airport_name=str, filename=str, title=str):\n",
    "    fig, ax = plt.subplots()\n",
    "\n",
    "    data.plot(kind='bar',\n",
    "              ax=ax,\n",
    "              stacked=True,\n",
    "              title=f'{airport_name}',\n",
    "              rot=0,\n",
    "              grid=True,\n",
    "              figsize=(8,6),\n",
    "              fontsize=14)\n",
    "    ax.set_axisbelow(True)\n",
    "    ax.set_facecolor('#EEEEEE')\n",
    "    ax.grid(color='#FFFFFF')\n",
    "    ax.set_ylabel('Number of Passengers', fontsize=16)\n",
    "    ax.set_ylim(0)\n",
    "    ax.set_xlabel('Fiscal Year', fontsize=16)\n",
    "    ax.set_title(f'{title}', fontsize=18)\n",
    "    ax.tick_params(labelsize=14)\n",
    "    ax.legend(fontsize=14)\n",
    "    txt='*First 6 months\\n(Source: UWCHR, ICE Air ARTS database)'\n",
    "    plt.figtext(.9, 0, txt, wrap=True, horizontalalignment='right', fontsize=12)\n",
    "    \n",
    "    fig.set_size_inches(10, 8)\n",
    "    fig.savefig(f'../output/{airport}_{filename}.png')\n",
    "    plt.show()\n",
    "    plt.close()"
   ]
  },
  {
   "cell_type": "code",
   "execution_count": 236,
   "metadata": {},
   "outputs": [
    {
     "data": {
      "image/png": "[encoded data removed]",
      "text/plain": [
       "<Figure size 720x576 with 1 Axes>"
      ]
     },
     "metadata": {
      "needs_background": "light"
     },
     "output_type": "display_data"
    }
   ],
   "source": [
    "data = annual_summary[['Annual Pickups', 'Annual Dropoffs']]\n",
    "title = f'{airport_name} ({airport})\\nICE Air departures plus arrivals'\n",
    "bar_chart(data, airport, airport_name, 'pickup-dropoff', title)\n",
    "plt.show()"
   ]
  },
  {
   "cell_type": "code",
   "execution_count": 237,
   "metadata": {},
   "outputs": [
    {
     "data": {
      "image/png": "[encoded data removed]",
      "text/plain": [
       "<Figure size 720x576 with 1 Axes>"
      ]
     },
     "metadata": {
      "needs_background": "light"
     },
     "output_type": "display_data"
    }
   ],
   "source": [
    "data = annual_summary[['Annual Removals', 'Annual Transfers']]\n",
    "title = f'{airport_name} ({airport})\\nICE Air removals plus transfers'\n",
    "bar_chart(data, airport, airport_name, 'removal-transfer', title)\n",
    "plt.show()"
   ]
  },
  {
   "cell_type": "code",
   "execution_count": 169,
   "metadata": {},
   "outputs": [],
   "source": [
    "annual_summary[['Annual Pickups', 'Annual Dropoffs']].to_csv(f'../output/{airport}-AnnualDeparturesArrivals.csv')"
   ]
  },
  {
   "cell_type": "code",
   "execution_count": 170,
   "metadata": {},
   "outputs": [],
   "source": [
    "# all_df.to_csv(f'../output/{airport}-allpassengers.csv')"
   ]
  },
  {
   "cell_type": "markdown",
   "metadata": {},
   "source": [
    "# Annual pickup rate, by criminal conviction status"
   ]
  },
  {
   "cell_type": "markdown",
   "metadata": {},
   "source": [
    "WARNING: Criminal conviction data is not consistently recorded by ICE, especially in FY 11."
   ]
  },
  {
   "cell_type": "code",
   "execution_count": 171,
   "metadata": {},
   "outputs": [],
   "source": [
    "annual_non_criminal = pickup_df[['NonCriminal']].resample('AS-OCT').sum()"
   ]
  },
  {
   "cell_type": "code",
   "execution_count": 172,
   "metadata": {},
   "outputs": [],
   "source": [
    "annual_non_criminal['total'] = annual_pickups\n",
    "annual_non_criminal['percent'] = annual_non_criminal['NonCriminal']/annual_pickups*100"
   ]
  },
  {
   "cell_type": "code",
   "execution_count": 173,
   "metadata": {},
   "outputs": [
    {
     "data": {
      "image/png": "[encoded data removed]",
      "text/plain": [
       "<Figure size 720x576 with 2 Axes>"
      ]
     },
     "metadata": {
      "needs_background": "light"
     },
     "output_type": "display_data"
    }
   ],
   "source": [
    "annual_data = annual_non_criminal['2010':'2017']\n",
    "annual_data.index = [f'FY{str(x)[2:4]}' for x in range(2011,2019)]\n",
    "\n",
    "# plt.style.use([{'legend.frameon': True}])\n",
    "plt.rc(\"font\", family=\"Sans-Serif\")\n",
    "\n",
    "fig, ax1 = plt.subplots()\n",
    "\n",
    "ax2 = ax1.twinx()\n",
    "\n",
    "lns1 = ax1.plot(annual_data['total'], label='Total pickups')\n",
    "lns2 = ax1.plot(annual_data['NonCriminal'], label='Non-criminal pickups')\n",
    "ax1_max = annual_data['total'].max()\n",
    "ax1.set_ylim(0, (ax1_max * 1.1))\n",
    "ax1.set_ylabel(f'Annual {airport} pickups', fontsize=16)\n",
    "ax1.tick_params(axis='x', labelsize=14)\n",
    "ax1.tick_params(axis='y', labelsize=14)\n",
    "ax2.grid(None)\n",
    "\n",
    "lns3 = ax2.plot(annual_data['percent'], label='% non-criminal', linestyle=':', color='green')\n",
    "ax2_max = annual_data['percent'].max()\n",
    "ax2.set_ylim(0, (ax2_max * 1.25))\n",
    "ax2.set_ylabel('% non-criminal', fontsize=16)\n",
    "ax2.tick_params(axis='y', labelsize=14)\n",
    "ax2.grid(None)\n",
    "# ax2.set_xticklabels([f'FY{str(x)[2:4]}' for x in range(2011,2019)])\n",
    "\n",
    "lns = [lns1[0], lns2[0], lns3[0]]\n",
    "labs = [l.get_label() for l in lns]\n",
    "ax1.legend(lns, labs, loc=0, fontsize=14)\n",
    "\n",
    "ax1.set_title(f'ICE pickups at {airport_name}\\n% with no criminal conviction', fontsize=20)\n",
    "\n",
    "fig.set_size_inches(10, 8)\n",
    "\n",
    "plt.show()\n",
    "fig.savefig(f'../output/{airport}_NoCrim.png', dpi=100)"
   ]
  },
  {
   "cell_type": "markdown",
   "metadata": {},
   "source": [
    "# Monthly averages (by FY)"
   ]
  },
  {
   "cell_type": "markdown",
   "metadata": {},
   "source": [
    "Calculating average rates of pickups, dropoffs, and flights for each calendar year in the dataset."
   ]
  },
  {
   "cell_type": "code",
   "execution_count": 174,
   "metadata": {},
   "outputs": [],
   "source": [
    "monthly_means = pd.DataFrame()\n",
    "for year in range(2011, 2019):\n",
    "    mean_pickups = monthly_pickups[f'{year}'].mean()\n",
    "    mean_pickup_missions = monthly_pickup_missions[f'{year}'].mean()\n",
    "    mean_dropoffs = monthly_dropoffs[f'{year}'].mean()\n",
    "    mean_dropoff_missions = monthly_dropoff_missions[f'{year}'].mean()\n",
    "    monthly_means = monthly_means.append({'calendar_year':year,\n",
    "                                          'monthly_mean_pickups':mean_pickups,\n",
    "                                          'monthly_mean_dropoffs':mean_dropoffs,\n",
    "                                          'monthly_mean_pickup_missions':mean_pickup_missions,\n",
    "                                          'monthly_mean_dropoff_missions':mean_dropoff_missions,\n",
    "                                         }, ignore_index=True)\n",
    "monthly_means['calendar_year'] = monthly_means['calendar_year'].astype(int)\n",
    "monthly_means = monthly_means.set_index('calendar_year')"
   ]
  },
  {
   "cell_type": "code",
   "execution_count": 175,
   "metadata": {},
   "outputs": [
    {
     "data": {
      "text/html": [
       "<div>\n",
       "<style scoped>\n",
       "    .dataframe tbody tr th:only-of-type {\n",
       "        vertical-align: middle;\n",
       "    }\n",
       "\n",
       "    .dataframe tbody tr th {\n",
       "        vertical-align: top;\n",
       "    }\n",
       "\n",
       "    .dataframe thead th {\n",
       "        text-align: right;\n",
       "    }\n",
       "</style>\n",
       "<table border=\"1\" class=\"dataframe\">\n",
       "  <thead>\n",
       "    <tr style=\"text-align: right;\">\n",
       "      <th></th>\n",
       "      <th>monthly_mean_dropoff_missions</th>\n",
       "      <th>monthly_mean_dropoffs</th>\n",
       "      <th>monthly_mean_pickup_missions</th>\n",
       "      <th>monthly_mean_pickups</th>\n",
       "    </tr>\n",
       "    <tr>\n",
       "      <th>calendar_year</th>\n",
       "      <th></th>\n",
       "      <th></th>\n",
       "      <th></th>\n",
       "      <th></th>\n",
       "    </tr>\n",
       "  </thead>\n",
       "  <tbody>\n",
       "    <tr>\n",
       "      <th>2011</th>\n",
       "      <td>19.42</td>\n",
       "      <td>554.08</td>\n",
       "      <td>30.33</td>\n",
       "      <td>970.17</td>\n",
       "    </tr>\n",
       "    <tr>\n",
       "      <th>2012</th>\n",
       "      <td>28.83</td>\n",
       "      <td>1053.58</td>\n",
       "      <td>31.92</td>\n",
       "      <td>1601.75</td>\n",
       "    </tr>\n",
       "    <tr>\n",
       "      <th>2013</th>\n",
       "      <td>20.42</td>\n",
       "      <td>756.08</td>\n",
       "      <td>20.92</td>\n",
       "      <td>1216.17</td>\n",
       "    </tr>\n",
       "    <tr>\n",
       "      <th>2014</th>\n",
       "      <td>25.67</td>\n",
       "      <td>1205.08</td>\n",
       "      <td>21.25</td>\n",
       "      <td>1490.75</td>\n",
       "    </tr>\n",
       "    <tr>\n",
       "      <th>2015</th>\n",
       "      <td>19.67</td>\n",
       "      <td>1151.08</td>\n",
       "      <td>20.67</td>\n",
       "      <td>1409.83</td>\n",
       "    </tr>\n",
       "    <tr>\n",
       "      <th>2016</th>\n",
       "      <td>16.00</td>\n",
       "      <td>1011.17</td>\n",
       "      <td>25.83</td>\n",
       "      <td>1864.33</td>\n",
       "    </tr>\n",
       "    <tr>\n",
       "      <th>2017</th>\n",
       "      <td>13.83</td>\n",
       "      <td>745.50</td>\n",
       "      <td>19.17</td>\n",
       "      <td>1428.92</td>\n",
       "    </tr>\n",
       "    <tr>\n",
       "      <th>2018</th>\n",
       "      <td>13.17</td>\n",
       "      <td>747.75</td>\n",
       "      <td>16.92</td>\n",
       "      <td>1202.83</td>\n",
       "    </tr>\n",
       "  </tbody>\n",
       "</table>\n",
       "</div>"
      ],
      "text/plain": [
       "               monthly_mean_dropoff_missions  monthly_mean_dropoffs  \\\n",
       "calendar_year                                                         \n",
       "2011                                   19.42                 554.08   \n",
       "2012                                   28.83                1053.58   \n",
       "2013                                   20.42                 756.08   \n",
       "2014                                   25.67                1205.08   \n",
       "2015                                   19.67                1151.08   \n",
       "2016                                   16.00                1011.17   \n",
       "2017                                   13.83                 745.50   \n",
       "2018                                   13.17                 747.75   \n",
       "\n",
       "               monthly_mean_pickup_missions  monthly_mean_pickups  \n",
       "calendar_year                                                      \n",
       "2011                                  30.33                970.17  \n",
       "2012                                  31.92               1601.75  \n",
       "2013                                  20.92               1216.17  \n",
       "2014                                  21.25               1490.75  \n",
       "2015                                  20.67               1409.83  \n",
       "2016                                  25.83               1864.33  \n",
       "2017                                  19.17               1428.92  \n",
       "2018                                  16.92               1202.83  "
      ]
     },
     "execution_count": 175,
     "metadata": {},
     "output_type": "execute_result"
    }
   ],
   "source": [
    "monthly_means.round(2)"
   ]
  },
  {
   "cell_type": "code",
   "execution_count": 176,
   "metadata": {},
   "outputs": [],
   "source": [
    "# monthly_means.to_csv(f'../output/{airport}_monthly_means.csv')"
   ]
  },
  {
   "cell_type": "markdown",
   "metadata": {},
   "source": [
    "# Top nationalities"
   ]
  },
  {
   "cell_type": "code",
   "execution_count": 177,
   "metadata": {},
   "outputs": [
    {
     "data": {
      "text/plain": [
       "MissionDate\n",
       "2010-10-04    MSLP\n",
       "2010-10-04    MSLP\n",
       "2010-10-04    MSLP\n",
       "2010-10-04    MSLP\n",
       "2010-10-04    MSLP\n",
       "2010-10-04    MSLP\n",
       "2010-10-04    MSLP\n",
       "2010-10-04    MSLP\n",
       "2010-10-04    MSLP\n",
       "2010-10-04    MSLP\n",
       "2010-10-04    MSLP\n",
       "2010-10-04    MSLP\n",
       "2010-10-04    MSLP\n",
       "2010-10-04    MSLP\n",
       "2010-10-04    MSLP\n",
       "2010-10-04    MSLP\n",
       "2010-10-04    MSLP\n",
       "2010-10-04    MSLP\n",
       "2010-10-04    MSLP\n",
       "2010-10-04    MSLP\n",
       "2010-10-04    MSLP\n",
       "2010-10-04    MSLP\n",
       "2010-10-04    MSLP\n",
       "2010-10-04    MSLP\n",
       "2010-10-04    MSLP\n",
       "2010-10-04    MSLP\n",
       "2010-10-04    MSLP\n",
       "2010-10-04    MSLP\n",
       "2010-10-04    MSLP\n",
       "2010-10-25    MSLP\n",
       "              ... \n",
       "2019-04-24    MSLP\n",
       "2019-04-24    MSLP\n",
       "2019-04-24    MSLP\n",
       "2019-04-24    MSLP\n",
       "2019-04-24    MSLP\n",
       "2019-04-24    MSLP\n",
       "2019-04-24    MSLP\n",
       "2019-04-24    MSLP\n",
       "2019-04-24    MSLP\n",
       "2019-04-24    MSLP\n",
       "2019-04-24    MSLP\n",
       "2019-04-24    MSLP\n",
       "2019-04-24    MSLP\n",
       "2019-04-24    MSLP\n",
       "2019-04-24    MSLP\n",
       "2019-04-24    MSLP\n",
       "2019-04-24    MSLP\n",
       "2019-04-24    MSLP\n",
       "2019-04-24    MSLP\n",
       "2019-04-24    MSLP\n",
       "2019-04-24    MSLP\n",
       "2019-04-24    MSLP\n",
       "2019-04-24    MSLP\n",
       "2019-04-24    MSLP\n",
       "2019-04-24    MSLP\n",
       "2019-04-24    MSLP\n",
       "2019-04-24    MSLP\n",
       "2019-04-24    MSLP\n",
       "2019-04-24    MSLP\n",
       "2019-04-24    MSLP\n",
       "Name: DropLoc, Length: 7749, dtype: category\n",
       "Categories (211, object): [KAEX, KBFI, KBFL, KELP, ..., FNLU, KPVD, FEFF, FVRG]"
      ]
     },
     "execution_count": 177,
     "metadata": {},
     "output_type": "execute_result"
    }
   ],
   "source": [
    "removal_df[removal_df['CountryOfCitizenship'] == 'EL SALVADOR']['DropLoc']"
   ]
  },
  {
   "cell_type": "code",
   "execution_count": 178,
   "metadata": {},
   "outputs": [
    {
     "data": {
      "text/plain": [
       "MEXICO                90366\n",
       "GUATEMALA             20902\n",
       "EL SALVADOR           12056\n",
       "HONDURAS               9769\n",
       "NICARAGUA              2892\n",
       "ECUADOR                1201\n",
       "CUBA                    790\n",
       "COLOMBIA                495\n",
       "DOMINICAN REPUBLIC      342\n",
       "INDIA                   267\n",
       "Name: CountryOfCitizenship, dtype: int64"
      ]
     },
     "execution_count": 178,
     "metadata": {},
     "output_type": "execute_result"
    }
   ],
   "source": [
    "pickup_df.drop_duplicates(subset='AlienMasterID')['CountryOfCitizenship'].value_counts().head(10)"
   ]
  },
  {
   "cell_type": "code",
   "execution_count": 179,
   "metadata": {},
   "outputs": [
    {
     "data": {
      "text/plain": [
       "MEXICO         67224\n",
       "EL SALVADOR     6913\n",
       "GUATEMALA       5963\n",
       "HONDURAS        4070\n",
       "NICARAGUA       2177\n",
       "Name: CountryOfCitizenship, dtype: int64"
      ]
     },
     "execution_count": 179,
     "metadata": {},
     "output_type": "execute_result"
    }
   ],
   "source": [
    "dropoff_df.drop_duplicates(subset='AlienMasterID')['CountryOfCitizenship'].value_counts().head(5)"
   ]
  },
  {
   "cell_type": "code",
   "execution_count": 180,
   "metadata": {},
   "outputs": [
    {
     "data": {
      "text/plain": [
       "MEXICO         157590\n",
       "GUATEMALA       26725\n",
       "EL SALVADOR     18969\n",
       "HONDURAS        13744\n",
       "NICARAGUA        5060\n",
       "Name: CountryOfCitizenship, dtype: int64"
      ]
     },
     "execution_count": 180,
     "metadata": {},
     "output_type": "execute_result"
    }
   ],
   "source": [
    "all_df.drop_duplicates(subset='AlienMasterID')['CountryOfCitizenship'].value_counts().head(5)"
   ]
  },
  {
   "cell_type": "code",
   "execution_count": 181,
   "metadata": {},
   "outputs": [],
   "source": [
    "nat_percent = (df.groupby(['CountryOfCitizenship'])['AlienMasterID'].nunique() / len(df)).sort_values(ascending=False)"
   ]
  },
  {
   "cell_type": "code",
   "execution_count": 182,
   "metadata": {},
   "outputs": [],
   "source": [
    "airport_nat_percent = (all_df.groupby(['CountryOfCitizenship'])['AlienMasterID'].nunique() / len(all_df)).sort_values(ascending=False)"
   ]
  },
  {
   "cell_type": "code",
   "execution_count": 183,
   "metadata": {},
   "outputs": [],
   "source": [
    "pd.DataFrame({'Nationality as percent of dataset': nat_percent,\n",
    "              f'Nationality as percent of {airport}': airport_nat_percent}).to_csv(f'../output/{airport}_nationality_percent_comparison.csv')"
   ]
  },
  {
   "cell_type": "code",
   "execution_count": 184,
   "metadata": {},
   "outputs": [],
   "source": [
    "removal_nationalities = removal_df.groupby([pd.Grouper(freq='AS-OCT'), 'CountryOfCitizenship'])['AlienMasterID'].nunique().unstack()\n",
    "removal_nationalities.to_csv(f'../output/{airport}_removal_nationalities.csv')"
   ]
  },
  {
   "cell_type": "markdown",
   "metadata": {},
   "source": [
    "# Chart of top nationalities per year\n",
    "\n",
    "This chart shows the top five `CountryOfCitizenship` values for each fiscal year. It can be misleading because values are summed in \"ALL OTHERS\" for years in which a particular nationalitiy is not in the top 5, but it makes clear things like which years certain groups come into or leave the top 5.\n",
    "\n",
    "Charts can be generated for pickups, dropoffs, removals, transfers, or all records."
   ]
  },
  {
   "cell_type": "code",
   "execution_count": 185,
   "metadata": {},
   "outputs": [],
   "source": [
    "# Strangely, copying a DataFrame doesn't copy DataFrame.name\n",
    "# There's probably a better way to link dataframes to downstream chart labels, though\n",
    "df_to_analyze = pickup_df.copy()\n",
    "df_to_analyze.name = pickup_df.name"
   ]
  },
  {
   "cell_type": "code",
   "execution_count": 186,
   "metadata": {},
   "outputs": [],
   "source": [
    "g = df_to_analyze.groupby([pd.Grouper(freq='AS-OCT', sort=True), 'CountryOfCitizenship'])['AlienMasterID', 'MissionID'].nunique()\n",
    "country_of_citizenship_by_year = g.reset_index()\n",
    "country_of_citizenship_by_year.rename({'MissionDate': 'FY'}, axis='columns', inplace=True)\n",
    "country_of_citizenship_by_year.set_index('FY', inplace=True)\n",
    "country_of_citizenship_by_year.sort_values(by='AlienMasterID', ascending=False, inplace=True)\n",
    "\n",
    "# country_of_citizenship_by_year.to_csv(f'../output/{airport}_country_of_citizenship_by_year.csv', index=True)"
   ]
  },
  {
   "cell_type": "code",
   "execution_count": 187,
   "metadata": {},
   "outputs": [],
   "source": [
    "# Limiting to fiscal years with full data (FY2011-FY2018).\n",
    "country_of_citizenship_by_year = country_of_citizenship_by_year['2010':'2017']"
   ]
  },
  {
   "cell_type": "code",
   "execution_count": 188,
   "metadata": {},
   "outputs": [],
   "source": [
    "all_passenger_nationality_by_year = country_of_citizenship_by_year.groupby([pd.Grouper(freq='AS-OCT'),'CountryOfCitizenship'])[['AlienMasterID']].sum().dropna(how='all',axis=0).unstack()\n",
    "all_passenger_nationality_by_year.to_csv(f'../output/{airport}_all_passenger_nationality_by_year.csv')"
   ]
  },
  {
   "cell_type": "code",
   "execution_count": 189,
   "metadata": {},
   "outputs": [],
   "source": [
    "all_passenger_nationality_by_year.loc['2016':'2017'].T.dropna(how='all').to_csv('../output/kbfi_pickups_by_nationality.csv')"
   ]
  },
  {
   "cell_type": "code",
   "execution_count": 190,
   "metadata": {},
   "outputs": [],
   "source": [
    "top_5_df = pd.DataFrame()\n",
    "\n",
    "for year in country_of_citizenship_by_year.index.unique():\n",
    "    temp = country_of_citizenship_by_year.loc[f'{year}'][['CountryOfCitizenship', 'AlienMasterID']]\n",
    "    temp_top_5 = temp[0:5]\n",
    "    if len(temp) > 5:\n",
    "        all_other_count = sum(temp['AlienMasterID'][5:])\n",
    "    else:\n",
    "        all_other_count = 0\n",
    "    other_df = pd.DataFrame([['ALL OTHERS', all_other_count]], columns=['CountryOfCitizenship', 'AlienMasterID'], index=[year])\n",
    "    temp_top_5 = temp_top_5.append(other_df)\n",
    "    top_5_df = top_5_df.append(temp_top_5)\n",
    "    \n",
    "top_5_df.sort_index(inplace=True)\n",
    "top_5_df.index = [f'FY{str(x)[2:4]}' for x in top_5_df.index.year + 1]\n",
    "\n",
    "top_5_data = pd.pivot_table(data=top_5_df,\n",
    "                       index=top_5_df.index,\n",
    "                       columns='CountryOfCitizenship',\n",
    "                       values='AlienMasterID',\n",
    "                       aggfunc=np.sum,\n",
    "                       fill_value=0)\n",
    "\n",
    "top_5_data = top_5_data.reindex(top_5_data.sum().sort_values(ascending=False).index, axis=1)\n",
    "cols = list(top_5_data.columns)\n",
    "cols.remove('ALL OTHERS')\n",
    "cols.append('ALL OTHERS')\n",
    "top_5_data = top_5_data[cols]\n",
    "\n",
    "top_5_data.columns = top_5_data.columns.str.title()\n",
    "top_5_data.columns.name = 'Country of Citizenship'"
   ]
  },
  {
   "cell_type": "code",
   "execution_count": 191,
   "metadata": {},
   "outputs": [],
   "source": [
    "def country_of_citizenship_trend(data, title=str, filename=str, xlabel=str, ylabel=str):\n",
    "    \n",
    "    fig, ax = plt.subplots()\n",
    "    \n",
    "    data.plot(kind='bar', stacked=True, legend=True, ax=ax).legend(bbox_to_anchor=(1,1))\n",
    "\n",
    "    ax.set_axisbelow(True)\n",
    "    ax.set_facecolor('#EEEEEE')\n",
    "    ax.grid(color='#FFFFFF')\n",
    "    ax.set_ylabel(ylabel, fontsize=16)\n",
    "    ax.set_xlabel(xlabel, fontsize=16)\n",
    "    ax.set_title(title, fontsize=18)\n",
    "    ax.tick_params(labelsize=14)\n",
    "    plt.xticks(rotation=0)\n",
    "    txt='(Source: UWCHR, ICE Air ARTS database)'\n",
    "    txt=plt.figtext(0.7, -0.00, txt, wrap=True, horizontalalignment='center', fontsize=12)\n",
    "    lgd=plt.legend(fontsize=12)\n",
    "\n",
    "    fig.set_size_inches(10, 8)\n",
    "    fig.savefig(f'../output/{filename}.png', dpi=100, bbox_extra_artists=(lgd,txt), bbox_inches='tight')\n",
    "    return fig, ax"
   ]
  },
  {
   "cell_type": "code",
   "execution_count": 192,
   "metadata": {},
   "outputs": [
    {
     "data": {
      "image/png": "[encoded data removed]",
      "text/plain": [
       "<Figure size 720x576 with 1 Axes>"
      ]
     },
     "metadata": {
      "needs_background": "light"
     },
     "output_type": "display_data"
    }
   ],
   "source": [
    "country_of_citizenship_trend(top_5_data,\n",
    "                             title=f'{airport_name} \\n ICE Air {df_to_analyze.name} by Country of Citizenship \\n (Top 5 per year)',\n",
    "                             filename=f'{airport}_top5_nationalities',\n",
    "                             ylabel=f'Total {df_to_analyze.name}',\n",
    "                             xlabel='Fiscal Year');"
   ]
  },
  {
   "cell_type": "code",
   "execution_count": 193,
   "metadata": {},
   "outputs": [],
   "source": [
    "g = pickup_df.groupby(['PULOC', pd.Grouper(freq='AS-OCT', sort=True), 'air2_AirportName'])['AlienMasterID','MissionID'].nunique()\n",
    "drop_locs_by_year = g.reset_index()\n",
    "drop_locs_by_year.rename({'MissionDate': 'FY'}, axis='columns', inplace=True)\n",
    "\n",
    "# drop_locs_by_year.to_csv(f'../output/{airport}_drop_locs_by_year.csv', index=True)"
   ]
  },
  {
   "cell_type": "markdown",
   "metadata": {},
   "source": [
    "# Alternate plot of top nationalities"
   ]
  },
  {
   "cell_type": "markdown",
   "metadata": {},
   "source": [
    "Since selecting top 5 for each year is a bit counterintuitive, we can instead select here an aribtrary number of nationalities to display for all years, while summing others. This can be based on most common values or could be some other arbitrary list. (See also implementation in `global.ipynb` for plotting all values that break top 5 for any year.)"
   ]
  },
  {
   "cell_type": "code",
   "execution_count": 194,
   "metadata": {},
   "outputs": [],
   "source": [
    "annual = df_to_analyze.groupby([pd.Grouper(freq='AS-OCT', sort=True), 'CountryOfCitizenship'])['AlienMasterID'].nunique()"
   ]
  },
  {
   "cell_type": "code",
   "execution_count": 195,
   "metadata": {},
   "outputs": [],
   "source": [
    "# There is probably a better way to do this\n",
    "annual = annual.reset_index()\n",
    "annual.set_index('MissionDate', inplace=True)\n",
    "annual = annual['2010':'2017']"
   ]
  },
  {
   "cell_type": "code",
   "execution_count": 196,
   "metadata": {},
   "outputs": [],
   "source": [
    "# Select arbitrary number of top values to display here\n",
    "number_of_top_values = 5\n",
    "annual_sum = annual.groupby(['CountryOfCitizenship'])['AlienMasterID'].sum()\n",
    "top = list(annual_sum.sort_values(ascending=False).head(number_of_top_values).index)\n",
    "\n",
    "top_df = pd.DataFrame()\n",
    "top_df = top_df.append(annual[annual['CountryOfCitizenship'].isin(top)])\n",
    "top_df.index = top_df.index.year\n",
    "\n",
    "for year in annual.index.year.unique():\n",
    "    temp = annual[f'{year}']\n",
    "    temp2 = temp[~temp['CountryOfCitizenship'].isin(top)]\n",
    "    all_other_count = temp2['AlienMasterID'].sum()\n",
    "    other_df = pd.DataFrame([['ALL OTHERS', all_other_count]],\n",
    "                            columns=['CountryOfCitizenship',\n",
    "                                     'AlienMasterID'],\n",
    "                            index=[year])\n",
    "    top_df = top_df.append(other_df)\n",
    "\n",
    "top_df.sort_index(inplace=True)\n",
    "top_df.index = [f'FY{str(x)[2:4]}' for x in top_df.index + 1]\n",
    "\n",
    "top_df['CountryOfCitizenship'] = top_df['CountryOfCitizenship'].astype('category')\n",
    "\n",
    "top_data = pd.pivot_table(data=top_df,\n",
    "                       index=top_df.index,\n",
    "                       columns='CountryOfCitizenship',\n",
    "                       values='AlienMasterID',\n",
    "                       aggfunc=np.sum,\n",
    "                       fill_value=0)\n",
    "top_data = top_data.reindex(top_data.sum().sort_values(ascending=False).index, axis=1)\n",
    "cols = list(top_data.columns)\n",
    "cols.remove('ALL OTHERS')\n",
    "cols.append('ALL OTHERS')\n",
    "top_data = top_data[cols]\n",
    "top_data.columns = top_data.columns.astype(str)\n",
    "top_data.columns = top_data.columns.str.title()"
   ]
  },
  {
   "cell_type": "code",
   "execution_count": 197,
   "metadata": {},
   "outputs": [
    {
     "data": {
      "image/png": "[encoded data removed]",
      "text/plain": [
       "<Figure size 720x576 with 1 Axes>"
      ]
     },
     "metadata": {
      "needs_background": "light"
     },
     "output_type": "display_data"
    }
   ],
   "source": [
    "country_of_citizenship_trend(top_data,\n",
    "                             title=f'ICE Air Departures from {airport_name}\\nby Country of Citizenship (Top 5 overall)',\n",
    "                             filename=f'{airport}_pickup_nationalities',\n",
    "                             ylabel=f'Total {df_to_analyze.name}',\n",
    "                             xlabel='Fiscal Year');"
   ]
  },
  {
   "cell_type": "markdown",
   "metadata": {},
   "source": [
    "# Not top nationalities"
   ]
  },
  {
   "cell_type": "code",
   "execution_count": 198,
   "metadata": {},
   "outputs": [],
   "source": [
    "number_of_top_values = 5\n",
    "annual_sum = annual.groupby(['CountryOfCitizenship'])['AlienMasterID'].sum()\n",
    "top = list(annual_sum.sort_values(ascending=False).head(number_of_top_values).index)\n",
    "\n",
    "not_top_df = pd.DataFrame()\n",
    "not_top_df = not_top_df.append(annual[~annual['CountryOfCitizenship'].isin(top)])\n",
    "not_top_df.index = not_top_df.index.year"
   ]
  },
  {
   "cell_type": "code",
   "execution_count": 199,
   "metadata": {},
   "outputs": [],
   "source": [
    "not_top_data = pd.pivot_table(data=not_top_df,\n",
    "                       index=not_top_df.index,\n",
    "                       columns='CountryOfCitizenship',\n",
    "                       values='AlienMasterID',\n",
    "                       aggfunc=np.sum,\n",
    "                       fill_value=0)\n",
    "not_top_data = not_top_data.reindex(not_top_data.sum().sort_values(ascending=False).index, axis=1)\n",
    "# cols = list(not_top_data.columns)\n",
    "# cols.remove('ALL OTHERS')\n",
    "# cols.append('ALL OTHERS')\n",
    "# not_top_data = not_top_data[cols]\n",
    "# not_top_data.columns = not_top_data.columns.astype(str)\n",
    "# not_top_data.columns = not_top_data.columns.str.title()"
   ]
  },
  {
   "cell_type": "code",
   "execution_count": 200,
   "metadata": {},
   "outputs": [
    {
     "data": {
      "text/plain": [
       "CountryOfCitizenship\n",
       "ECUADOR               1000\n",
       "COLOMBIA               481\n",
       "DOMINICAN REPUBLIC     333\n",
       "HAITI                  228\n",
       "INDIA                  199\n",
       "CAMBODIA               188\n",
       "JAMAICA                178\n",
       "SOMALIA                149\n",
       "BRAZIL                 144\n",
       "PAKISTAN               120\n",
       "GUINEA                  84\n",
       "GHANA                   76\n",
       "BANGLADESH              76\n",
       "NIGERIA                 64\n",
       "CUBA                    58\n",
       "dtype: int64"
      ]
     },
     "execution_count": 200,
     "metadata": {},
     "output_type": "execute_result"
    }
   ],
   "source": [
    "not_top_data.sum().head(15)"
   ]
  },
  {
   "cell_type": "code",
   "execution_count": 201,
   "metadata": {},
   "outputs": [],
   "source": [
    "all_others = not_top_data.sum()[not_top_data.sum() < 50].index\n",
    "greater_than_x = not_top_data.sum()[not_top_data.sum() > 50].index\n",
    "to_plot = not_top_data[greater_than_x].copy()\n",
    "to_plot.columns = to_plot.columns.astype(str)\n",
    "to_plot['ALL OTHERS'] = not_top_data[all_others].sum(axis=1)\n",
    "to_plot.index = [f'FY{str(x)[2:4]}' for x in to_plot.index + 1]"
   ]
  },
  {
   "cell_type": "code",
   "execution_count": 202,
   "metadata": {},
   "outputs": [
    {
     "data": {
      "image/png": "[encoded data removed]",
      "text/plain": [
       "<Figure size 720x576 with 1 Axes>"
      ]
     },
     "metadata": {
      "needs_background": "light"
     },
     "output_type": "display_data"
    }
   ],
   "source": [
    "country_of_citizenship_trend(to_plot,\n",
    "                             title=f'ICE Air Departures from {airport_name}\\nby Country of Citizenship (Top 5 excluded)',\n",
    "                             filename=f'{airport}_pickup_nationalities_top_5_excluded',\n",
    "                             ylabel=f'Total {df_to_analyze.name}',\n",
    "                             xlabel='Fiscal Year');"
   ]
  },
  {
   "cell_type": "markdown",
   "metadata": {},
   "source": [
    "# Juveniles (by fiscal year)\n",
    "\n",
    "Table of just juveniles for pickups, dropoffs. Currently will fail if no juveniles."
   ]
  },
  {
   "cell_type": "code",
   "execution_count": 203,
   "metadata": {},
   "outputs": [],
   "source": [
    "assert sum(all_df['Juvenile']) > 0, f\"No juveniles in dataset for {airport}\""
   ]
  },
  {
   "cell_type": "code",
   "execution_count": 204,
   "metadata": {},
   "outputs": [
    {
     "data": {
      "text/html": [
       "<div>\n",
       "<style scoped>\n",
       "    .dataframe tbody tr th:only-of-type {\n",
       "        vertical-align: middle;\n",
       "    }\n",
       "\n",
       "    .dataframe tbody tr th {\n",
       "        vertical-align: top;\n",
       "    }\n",
       "\n",
       "    .dataframe thead th {\n",
       "        text-align: right;\n",
       "    }\n",
       "</style>\n",
       "<table border=\"1\" class=\"dataframe\">\n",
       "  <thead>\n",
       "    <tr style=\"text-align: right;\">\n",
       "      <th></th>\n",
       "      <th>Juvenile</th>\n",
       "      <th>False</th>\n",
       "      <th>True</th>\n",
       "      <th>percent</th>\n",
       "    </tr>\n",
       "    <tr>\n",
       "      <th>PULOC</th>\n",
       "      <th>MissionDate</th>\n",
       "      <th></th>\n",
       "      <th></th>\n",
       "      <th></th>\n",
       "    </tr>\n",
       "  </thead>\n",
       "  <tbody>\n",
       "    <tr>\n",
       "      <th rowspan=\"9\" valign=\"top\">KELP</th>\n",
       "      <th>2010-10-01</th>\n",
       "      <td>11778</td>\n",
       "      <td>45</td>\n",
       "      <td>0.382068</td>\n",
       "    </tr>\n",
       "    <tr>\n",
       "      <th>2011-10-01</th>\n",
       "      <td>15750</td>\n",
       "      <td>43</td>\n",
       "      <td>0.273016</td>\n",
       "    </tr>\n",
       "    <tr>\n",
       "      <th>2012-10-01</th>\n",
       "      <td>16509</td>\n",
       "      <td>11</td>\n",
       "      <td>0.066630</td>\n",
       "    </tr>\n",
       "    <tr>\n",
       "      <th>2013-10-01</th>\n",
       "      <td>17637</td>\n",
       "      <td>19</td>\n",
       "      <td>0.107728</td>\n",
       "    </tr>\n",
       "    <tr>\n",
       "      <th>2014-10-01</th>\n",
       "      <td>16825</td>\n",
       "      <td>96</td>\n",
       "      <td>0.570579</td>\n",
       "    </tr>\n",
       "    <tr>\n",
       "      <th>2015-10-01</th>\n",
       "      <td>20476</td>\n",
       "      <td>398</td>\n",
       "      <td>1.943739</td>\n",
       "    </tr>\n",
       "    <tr>\n",
       "      <th>2016-10-01</th>\n",
       "      <td>17194</td>\n",
       "      <td>833</td>\n",
       "      <td>4.844713</td>\n",
       "    </tr>\n",
       "    <tr>\n",
       "      <th>2017-10-01</th>\n",
       "      <td>16672</td>\n",
       "      <td>35</td>\n",
       "      <td>0.209933</td>\n",
       "    </tr>\n",
       "    <tr>\n",
       "      <th>2018-10-01</th>\n",
       "      <td>7000</td>\n",
       "      <td>26</td>\n",
       "      <td>0.371429</td>\n",
       "    </tr>\n",
       "  </tbody>\n",
       "</table>\n",
       "</div>"
      ],
      "text/plain": [
       "Juvenile           False  True   percent\n",
       "PULOC MissionDate                       \n",
       "KELP  2010-10-01   11778    45  0.382068\n",
       "      2011-10-01   15750    43  0.273016\n",
       "      2012-10-01   16509    11  0.066630\n",
       "      2013-10-01   17637    19  0.107728\n",
       "      2014-10-01   16825    96  0.570579\n",
       "      2015-10-01   20476   398  1.943739\n",
       "      2016-10-01   17194   833  4.844713\n",
       "      2017-10-01   16672    35  0.209933\n",
       "      2018-10-01    7000    26  0.371429"
      ]
     },
     "execution_count": 204,
     "metadata": {},
     "output_type": "execute_result"
    }
   ],
   "source": [
    "g = pickup_df.groupby(['PULOC', pd.Grouper(freq='AS-OCT', sort=True), 'Juvenile'])['AlienMasterID'].nunique()\n",
    "juvenile_pickups = g.unstack()\n",
    "juvenile_pickups['percent'] = juvenile_pickups[True] / juvenile_pickups[False] * 100\n",
    "juvenile_pickups"
   ]
  },
  {
   "cell_type": "code",
   "execution_count": 205,
   "metadata": {},
   "outputs": [],
   "source": [
    "g = dropoff_df.groupby(['DropLoc', pd.Grouper(freq='AS-OCT', sort=True), 'Juvenile'])['AlienMasterID'].nunique()\n",
    "juvenile_pickups = g.unstack()"
   ]
  },
  {
   "cell_type": "code",
   "execution_count": 206,
   "metadata": {},
   "outputs": [
    {
     "data": {
      "text/html": [
       "<div>\n",
       "<style scoped>\n",
       "    .dataframe tbody tr th:only-of-type {\n",
       "        vertical-align: middle;\n",
       "    }\n",
       "\n",
       "    .dataframe tbody tr th {\n",
       "        vertical-align: top;\n",
       "    }\n",
       "\n",
       "    .dataframe thead th {\n",
       "        text-align: right;\n",
       "    }\n",
       "</style>\n",
       "<table border=\"1\" class=\"dataframe\">\n",
       "  <thead>\n",
       "    <tr style=\"text-align: right;\">\n",
       "      <th></th>\n",
       "      <th>Juvenile</th>\n",
       "      <th>False</th>\n",
       "      <th>True</th>\n",
       "    </tr>\n",
       "    <tr>\n",
       "      <th>DropLoc</th>\n",
       "      <th>MissionDate</th>\n",
       "      <th></th>\n",
       "      <th></th>\n",
       "    </tr>\n",
       "  </thead>\n",
       "  <tbody>\n",
       "    <tr>\n",
       "      <th rowspan=\"9\" valign=\"top\">KELP</th>\n",
       "      <th>2010-10-01</th>\n",
       "      <td>6111.0</td>\n",
       "      <td>7.0</td>\n",
       "    </tr>\n",
       "    <tr>\n",
       "      <th>2011-10-01</th>\n",
       "      <td>10171.0</td>\n",
       "      <td>23.0</td>\n",
       "    </tr>\n",
       "    <tr>\n",
       "      <th>2012-10-01</th>\n",
       "      <td>9595.0</td>\n",
       "      <td>54.0</td>\n",
       "    </tr>\n",
       "    <tr>\n",
       "      <th>2013-10-01</th>\n",
       "      <td>12785.0</td>\n",
       "      <td>2459.0</td>\n",
       "    </tr>\n",
       "    <tr>\n",
       "      <th>2014-10-01</th>\n",
       "      <td>12140.0</td>\n",
       "      <td>444.0</td>\n",
       "    </tr>\n",
       "    <tr>\n",
       "      <th>2015-10-01</th>\n",
       "      <td>13738.0</td>\n",
       "      <td>NaN</td>\n",
       "    </tr>\n",
       "    <tr>\n",
       "      <th>2016-10-01</th>\n",
       "      <td>8342.0</td>\n",
       "      <td>NaN</td>\n",
       "    </tr>\n",
       "    <tr>\n",
       "      <th>2017-10-01</th>\n",
       "      <td>9794.0</td>\n",
       "      <td>3.0</td>\n",
       "    </tr>\n",
       "    <tr>\n",
       "      <th>2018-10-01</th>\n",
       "      <td>3735.0</td>\n",
       "      <td>1.0</td>\n",
       "    </tr>\n",
       "  </tbody>\n",
       "</table>\n",
       "</div>"
      ],
      "text/plain": [
       "Juvenile               False   True \n",
       "DropLoc MissionDate                 \n",
       "KELP    2010-10-01    6111.0     7.0\n",
       "        2011-10-01   10171.0    23.0\n",
       "        2012-10-01    9595.0    54.0\n",
       "        2013-10-01   12785.0  2459.0\n",
       "        2014-10-01   12140.0   444.0\n",
       "        2015-10-01   13738.0     NaN\n",
       "        2016-10-01    8342.0     NaN\n",
       "        2017-10-01    9794.0     3.0\n",
       "        2018-10-01    3735.0     1.0"
      ]
     },
     "execution_count": 206,
     "metadata": {},
     "output_type": "execute_result"
    }
   ],
   "source": [
    "juvenile_pickups"
   ]
  },
  {
   "cell_type": "code",
   "execution_count": 207,
   "metadata": {},
   "outputs": [
    {
     "data": {
      "text/html": [
       "<div>\n",
       "<style scoped>\n",
       "    .dataframe tbody tr th:only-of-type {\n",
       "        vertical-align: middle;\n",
       "    }\n",
       "\n",
       "    .dataframe tbody tr th {\n",
       "        vertical-align: top;\n",
       "    }\n",
       "\n",
       "    .dataframe thead th {\n",
       "        text-align: right;\n",
       "    }\n",
       "</style>\n",
       "<table border=\"1\" class=\"dataframe\">\n",
       "  <thead>\n",
       "    <tr style=\"text-align: right;\">\n",
       "      <th></th>\n",
       "      <th>Juvenile</th>\n",
       "      <th>False</th>\n",
       "      <th>True</th>\n",
       "      <th>percent</th>\n",
       "    </tr>\n",
       "    <tr>\n",
       "      <th>DropLoc</th>\n",
       "      <th>MissionDate</th>\n",
       "      <th></th>\n",
       "      <th></th>\n",
       "      <th></th>\n",
       "    </tr>\n",
       "  </thead>\n",
       "  <tbody>\n",
       "    <tr>\n",
       "      <th rowspan=\"9\" valign=\"top\">KELP</th>\n",
       "      <th>2010-10-01</th>\n",
       "      <td>6111.0</td>\n",
       "      <td>7.0</td>\n",
       "      <td>0.114548</td>\n",
       "    </tr>\n",
       "    <tr>\n",
       "      <th>2011-10-01</th>\n",
       "      <td>10171.0</td>\n",
       "      <td>23.0</td>\n",
       "      <td>0.226133</td>\n",
       "    </tr>\n",
       "    <tr>\n",
       "      <th>2012-10-01</th>\n",
       "      <td>9595.0</td>\n",
       "      <td>54.0</td>\n",
       "      <td>0.562793</td>\n",
       "    </tr>\n",
       "    <tr>\n",
       "      <th>2013-10-01</th>\n",
       "      <td>12785.0</td>\n",
       "      <td>2459.0</td>\n",
       "      <td>19.233477</td>\n",
       "    </tr>\n",
       "    <tr>\n",
       "      <th>2014-10-01</th>\n",
       "      <td>12140.0</td>\n",
       "      <td>444.0</td>\n",
       "      <td>3.657331</td>\n",
       "    </tr>\n",
       "    <tr>\n",
       "      <th>2015-10-01</th>\n",
       "      <td>13738.0</td>\n",
       "      <td>NaN</td>\n",
       "      <td>NaN</td>\n",
       "    </tr>\n",
       "    <tr>\n",
       "      <th>2016-10-01</th>\n",
       "      <td>8342.0</td>\n",
       "      <td>NaN</td>\n",
       "      <td>NaN</td>\n",
       "    </tr>\n",
       "    <tr>\n",
       "      <th>2017-10-01</th>\n",
       "      <td>9794.0</td>\n",
       "      <td>3.0</td>\n",
       "      <td>0.030631</td>\n",
       "    </tr>\n",
       "    <tr>\n",
       "      <th>2018-10-01</th>\n",
       "      <td>3735.0</td>\n",
       "      <td>1.0</td>\n",
       "      <td>0.026774</td>\n",
       "    </tr>\n",
       "  </tbody>\n",
       "</table>\n",
       "</div>"
      ],
      "text/plain": [
       "Juvenile               False    True    percent\n",
       "DropLoc MissionDate                            \n",
       "KELP    2010-10-01    6111.0     7.0   0.114548\n",
       "        2011-10-01   10171.0    23.0   0.226133\n",
       "        2012-10-01    9595.0    54.0   0.562793\n",
       "        2013-10-01   12785.0  2459.0  19.233477\n",
       "        2014-10-01   12140.0   444.0   3.657331\n",
       "        2015-10-01   13738.0     NaN        NaN\n",
       "        2016-10-01    8342.0     NaN        NaN\n",
       "        2017-10-01    9794.0     3.0   0.030631\n",
       "        2018-10-01    3735.0     1.0   0.026774"
      ]
     },
     "execution_count": 207,
     "metadata": {},
     "output_type": "execute_result"
    }
   ],
   "source": [
    "juvenile_pickups['percent'] = juvenile_pickups[True] / juvenile_pickups[False] * 100\n",
    "juvenile_pickups"
   ]
  },
  {
   "cell_type": "code",
   "execution_count": 208,
   "metadata": {},
   "outputs": [],
   "source": [
    "g = all_df.groupby(['R-T', pd.Grouper(freq='AS-OCT', sort=True), 'Juvenile'])['AlienMasterID'].nunique()"
   ]
  },
  {
   "cell_type": "code",
   "execution_count": 209,
   "metadata": {},
   "outputs": [
    {
     "data": {
      "text/html": [
       "<div>\n",
       "<style scoped>\n",
       "    .dataframe tbody tr th:only-of-type {\n",
       "        vertical-align: middle;\n",
       "    }\n",
       "\n",
       "    .dataframe tbody tr th {\n",
       "        vertical-align: top;\n",
       "    }\n",
       "\n",
       "    .dataframe thead th {\n",
       "        text-align: right;\n",
       "    }\n",
       "</style>\n",
       "<table border=\"1\" class=\"dataframe\">\n",
       "  <thead>\n",
       "    <tr style=\"text-align: right;\">\n",
       "      <th></th>\n",
       "      <th>Juvenile</th>\n",
       "      <th>False</th>\n",
       "      <th>True</th>\n",
       "    </tr>\n",
       "    <tr>\n",
       "      <th>R-T</th>\n",
       "      <th>MissionDate</th>\n",
       "      <th></th>\n",
       "      <th></th>\n",
       "    </tr>\n",
       "  </thead>\n",
       "  <tbody>\n",
       "    <tr>\n",
       "      <th rowspan=\"9\" valign=\"top\">R</th>\n",
       "      <th>2010-10-01</th>\n",
       "      <td>11447.0</td>\n",
       "      <td>36.0</td>\n",
       "    </tr>\n",
       "    <tr>\n",
       "      <th>2011-10-01</th>\n",
       "      <td>13371.0</td>\n",
       "      <td>9.0</td>\n",
       "    </tr>\n",
       "    <tr>\n",
       "      <th>2012-10-01</th>\n",
       "      <td>14798.0</td>\n",
       "      <td>8.0</td>\n",
       "    </tr>\n",
       "    <tr>\n",
       "      <th>2013-10-01</th>\n",
       "      <td>15600.0</td>\n",
       "      <td>9.0</td>\n",
       "    </tr>\n",
       "    <tr>\n",
       "      <th>2014-10-01</th>\n",
       "      <td>15735.0</td>\n",
       "      <td>22.0</td>\n",
       "    </tr>\n",
       "    <tr>\n",
       "      <th>2015-10-01</th>\n",
       "      <td>18276.0</td>\n",
       "      <td>8.0</td>\n",
       "    </tr>\n",
       "    <tr>\n",
       "      <th>2016-10-01</th>\n",
       "      <td>14449.0</td>\n",
       "      <td>18.0</td>\n",
       "    </tr>\n",
       "    <tr>\n",
       "      <th>2017-10-01</th>\n",
       "      <td>16545.0</td>\n",
       "      <td>38.0</td>\n",
       "    </tr>\n",
       "    <tr>\n",
       "      <th>2018-10-01</th>\n",
       "      <td>7096.0</td>\n",
       "      <td>27.0</td>\n",
       "    </tr>\n",
       "    <tr>\n",
       "      <th rowspan=\"9\" valign=\"top\">T</th>\n",
       "      <th>2010-10-01</th>\n",
       "      <td>6442.0</td>\n",
       "      <td>16.0</td>\n",
       "    </tr>\n",
       "    <tr>\n",
       "      <th>2011-10-01</th>\n",
       "      <td>12549.0</td>\n",
       "      <td>57.0</td>\n",
       "    </tr>\n",
       "    <tr>\n",
       "      <th>2012-10-01</th>\n",
       "      <td>11306.0</td>\n",
       "      <td>57.0</td>\n",
       "    </tr>\n",
       "    <tr>\n",
       "      <th>2013-10-01</th>\n",
       "      <td>14813.0</td>\n",
       "      <td>2469.0</td>\n",
       "    </tr>\n",
       "    <tr>\n",
       "      <th>2014-10-01</th>\n",
       "      <td>13230.0</td>\n",
       "      <td>518.0</td>\n",
       "    </tr>\n",
       "    <tr>\n",
       "      <th>2015-10-01</th>\n",
       "      <td>15938.0</td>\n",
       "      <td>390.0</td>\n",
       "    </tr>\n",
       "    <tr>\n",
       "      <th>2016-10-01</th>\n",
       "      <td>11087.0</td>\n",
       "      <td>815.0</td>\n",
       "    </tr>\n",
       "    <tr>\n",
       "      <th>2017-10-01</th>\n",
       "      <td>9921.0</td>\n",
       "      <td>NaN</td>\n",
       "    </tr>\n",
       "    <tr>\n",
       "      <th>2018-10-01</th>\n",
       "      <td>3405.0</td>\n",
       "      <td>NaN</td>\n",
       "    </tr>\n",
       "  </tbody>\n",
       "</table>\n",
       "</div>"
      ],
      "text/plain": [
       "Juvenile           False   True \n",
       "R-T MissionDate                 \n",
       "R   2010-10-01   11447.0    36.0\n",
       "    2011-10-01   13371.0     9.0\n",
       "    2012-10-01   14798.0     8.0\n",
       "    2013-10-01   15600.0     9.0\n",
       "    2014-10-01   15735.0    22.0\n",
       "    2015-10-01   18276.0     8.0\n",
       "    2016-10-01   14449.0    18.0\n",
       "    2017-10-01   16545.0    38.0\n",
       "    2018-10-01    7096.0    27.0\n",
       "T   2010-10-01    6442.0    16.0\n",
       "    2011-10-01   12549.0    57.0\n",
       "    2012-10-01   11306.0    57.0\n",
       "    2013-10-01   14813.0  2469.0\n",
       "    2014-10-01   13230.0   518.0\n",
       "    2015-10-01   15938.0   390.0\n",
       "    2016-10-01   11087.0   815.0\n",
       "    2017-10-01    9921.0     NaN\n",
       "    2018-10-01    3405.0     NaN"
      ]
     },
     "execution_count": 209,
     "metadata": {},
     "output_type": "execute_result"
    }
   ],
   "source": [
    "juvenile_removal_transfer = g.unstack()\n",
    "juvenile_removal_transfer"
   ]
  },
  {
   "cell_type": "markdown",
   "metadata": {},
   "source": [
    "# Detainee status"
   ]
  },
  {
   "cell_type": "code",
   "execution_count": 210,
   "metadata": {},
   "outputs": [],
   "source": [
    "status_count = removal_df.drop_duplicates(subset='AlienMasterID')['Status'].str.upper().value_counts(dropna=False)"
   ]
  },
  {
   "cell_type": "code",
   "execution_count": 211,
   "metadata": {},
   "outputs": [],
   "source": [
    "status = pd.read_csv('../../../share/resources/status.csv')\n",
    "\n",
    "valid_status_codes = list(status['Code'])\n",
    "\n",
    "status_dict = dict(zip(status['Code'], status['Status']))\n",
    "\n",
    "pending = ['2A', '2B', '8A', '8B', '8D']\n",
    "benefit = ['5C', '5D']\n",
    "expedited_admin_rein = ['8F', '8G', '8H', '8I', '11', '16']\n",
    "problematic = pending + benefit + expedited_admin_rein"
   ]
  },
  {
   "cell_type": "code",
   "execution_count": 212,
   "metadata": {},
   "outputs": [
    {
     "name": "stdout",
     "output_type": "stream",
     "text": [
      "KELP - El Paso International Airport\n",
      "\n",
      "ICE status codes for passengers on direct removal flights.\n",
      "(Statuses which may raise due process concerns starred)\n",
      "\n",
      "85616 valid values.\n",
      "41876 invalid values.\n",
      "\n",
      "[1A]: 1969 (Voluntary Departure – Un-Expired and Un-Extended Voluntary Departure.)\n",
      "[1B]: 101 (Voluntary Departure - Extended Departure Period)\n",
      "[1C]: 2 (Exipred Voluntary Departure Period - Referred to Investigation)\n",
      "[2A]: *263* (Deportable – Under Adjudication by IJ)\n",
      "[2B]: *9* (Deportable – Under Adjudication by BIA)\n",
      "[3]: 2634 (Deportable – Administratively Final Order)\n",
      "[5A]: 1 (Referred for Investigation - No Show for Hearing - No Final O...)\n",
      "[5B]: 23 (Removable – ICE Fugitive)\n",
      "[5C]: *2* (Relief Granted – Withholding of Deportation/Removal)\n",
      "[5D]: *14* (Final Order of Deportation/Removal – Deferred Action Granted.)\n",
      "[5E]: 7 (Relief Granted – Extended Voluntary Departure)\n",
      "[5F]: 14 (Unable to Obtain Travel Document)\n",
      "[8A]: *185* (Excludable/Inadmissible – Hearing Not Commenced)\n",
      "[8B]: *354* (Excludable/Inadmissible – Under Adjudication by an Immigration Judge.)\n",
      "[8C]: 17088 (Excludable/Inadmissible – Administrative Final Order Issued.)\n",
      "[8D]: *33* (Excludable/Inadmissible – Under Adjudication by BIA)\n",
      "[8E]: 211 (Inadmissible – ICE Fugitive)\n",
      "[8F]: *22215* (Expedited Removal)\n",
      "[8G]: *4351* (Expedited Removal – Credible Fear Referral)\n",
      "[8H]: *58* (Expedited Removal – Status Claim Referral)\n",
      "[8I]: *44* (Inadmissible – ICE Fugitive – Expedited Removal)\n",
      "[9]: 568 (VR Under Safeguards)\n",
      "[10]: 3 (Visa Waiver Deportation/Removal)\n",
      "[11]: *3522* (Administrative Deportation/Removal)\n",
      "[12]: 16 (Judicial Deportation / Removal)\n",
      "[13]: 0 (Section 250 Removal)\n",
      "[14]: 3 (Crewman, Stowaways, S-Visa Holders, 235 (c) cases)\n",
      "[15]: 4 (Terrorist Court Case (Title 5))\n",
      "[16]: *31922* (Reinstated Final Order)\n",
      "\n",
      "62972 problematic cases.\n",
      "844 with pending appeals.\n",
      "16 with benefit blocking deportation.\n",
      "62112 under expedited, administrative, reinstatement of removal.\n"
     ]
    }
   ],
   "source": [
    "problematic_count = 0\n",
    "valid = removal_df['Status'].str.upper().isin(valid_status_codes)\n",
    "valid_count = sum(valid)\n",
    "invalid = ~removal_df['Status'].str.upper().isin(valid_status_codes)\n",
    "invalid_count = sum(invalid)\n",
    "\n",
    "print(f'{airport} - {airport_name}')\n",
    "print()\n",
    "print(f'ICE status codes for passengers on direct removal flights.')\n",
    "print(f'(Statuses which may raise due process concerns starred)')\n",
    "print()\n",
    "print(f'{valid_count} valid values.')\n",
    "print(f'{invalid_count} invalid values.')\n",
    "print()\n",
    "for c in valid_status_codes:\n",
    "    \n",
    "    try:\n",
    "        count = status_count[c]\n",
    "    except KeyError:\n",
    "        count = 0\n",
    "    \n",
    "    if c in problematic:\n",
    "        problematic_count = problematic_count + count\n",
    "        print(f'[{c}]: *{count}* ({status_dict[c]})')\n",
    "    else:\n",
    "        print(f'[{c}]: {count} ({status_dict[c]})')\n",
    "print()\n",
    "print(f'{problematic_count} problematic cases.')\n",
    "print(f\"{sum(removal_df['Status'].isin(pending))} with pending appeals.\")\n",
    "print(f\"{sum(removal_df['Status'].isin(benefit))} with benefit blocking deportation.\")\n",
    "print(f\"{sum(removal_df['Status'].isin(expedited_admin_rein))} under expedited, administrative, reinstatement of removal.\")"
   ]
  },
  {
   "cell_type": "code",
   "execution_count": 213,
   "metadata": {},
   "outputs": [
    {
     "data": {
      "text/plain": [
       "62112"
      ]
     },
     "execution_count": 213,
     "metadata": {},
     "output_type": "execute_result"
    }
   ],
   "source": [
    "sum(removal_df['Status'].isin(expedited_admin_rein))"
   ]
  },
  {
   "cell_type": "code",
   "execution_count": 214,
   "metadata": {},
   "outputs": [
    {
     "data": {
      "text/plain": [
       "844"
      ]
     },
     "execution_count": 214,
     "metadata": {},
     "output_type": "execute_result"
    }
   ],
   "source": [
    "sum(removal_df['Status'].isin(pending))"
   ]
  },
  {
   "cell_type": "code",
   "execution_count": 215,
   "metadata": {},
   "outputs": [
    {
     "data": {
      "text/plain": [
       "16"
      ]
     },
     "execution_count": 215,
     "metadata": {},
     "output_type": "execute_result"
    }
   ],
   "source": [
    "sum(removal_df['Status'].isin(benefit))"
   ]
  },
  {
   "cell_type": "code",
   "execution_count": 216,
   "metadata": {},
   "outputs": [],
   "source": [
    "status_fy = removal_df.drop_duplicates(subset='AlienMasterID').resample('AS-OCT')['Status'].value_counts().unstack()\n",
    "status_fy_valid = status_fy[status_fy.columns[status_fy.columns.isin(valid_status_codes)]]\n",
    "\n",
    "total = removal_df.drop_duplicates(subset='AlienMasterID').resample('AS-OCT')['AlienMasterID'].nunique()\n",
    "\n",
    "status_fy_valid.T.to_csv(f'../output/{airport}_valid_status_by_year.csv')\n",
    "\n",
    "all_others = status_fy[status_fy.columns[~status_fy.columns.isin(valid_status_codes)]].sum(axis=1)\n",
    "all_others.name = 'all_others'\n",
    "\n",
    "status_table = pd.concat([status_fy_valid, all_others], axis=1).T\n",
    "\n",
    "status_table.to_csv(f'../output/{airport}_removal_status_by_year.csv')\n",
    "(status_table/total).to_csv(f'../output/{airport}_removal_status_by_year_percent.csv')"
   ]
  },
  {
   "cell_type": "code",
   "execution_count": 217,
   "metadata": {},
   "outputs": [
    {
     "data": {
      "text/plain": [
       "MissionDate\n",
       "2010-10-01    11483\n",
       "2011-10-01    13380\n",
       "2012-10-01    14806\n",
       "2013-10-01    15609\n",
       "2014-10-01    15757\n",
       "2015-10-01    18284\n",
       "2016-10-01    14467\n",
       "2017-10-01    16583\n",
       "2018-10-01     7123\n",
       "Freq: AS-OCT, Name: AlienMasterID, dtype: int64"
      ]
     },
     "execution_count": 217,
     "metadata": {},
     "output_type": "execute_result"
    }
   ],
   "source": [
    "total"
   ]
  },
  {
   "cell_type": "code",
   "execution_count": 218,
   "metadata": {},
   "outputs": [],
   "source": [
    "transfer_status = transfer_df['Status'].value_counts()"
   ]
  },
  {
   "cell_type": "code",
   "execution_count": 219,
   "metadata": {},
   "outputs": [
    {
     "data": {
      "text/plain": [
       "16                29475\n",
       "8C                17284\n",
       "8F                12896\n",
       "8G                 7597\n",
       "11                 4516\n",
       "NO STATUS          3375\n",
       "NTA                3017\n",
       "RM                 2898\n",
       "3                  2847\n",
       "1A                 2645\n",
       "REMOVAL            2434\n",
       "ER-TRANSFER        1998\n",
       "8A                 1636\n",
       "8B                 1069\n",
       "2A                 1009\n",
       "F/O - TRANSFER      982\n",
       "REINSTATE           820\n",
       "TRANSFER - NTA      782\n",
       "TRANSFER - F/O      724\n",
       "9                   711\n",
       "NTA - TRANSFER      669\n",
       "12                  576\n",
       "8E                  383\n",
       "NTA-TRANSFER        271\n",
       "RR-TRANSFER         201\n",
       "NTA-TRFD            192\n",
       "5B                  161\n",
       "NTA-NEW             152\n",
       "TRANSFER            136\n",
       "TRANSFER-NTA        135\n",
       "RE-INSTATE          123\n",
       "Name: Status, dtype: int64"
      ]
     },
     "execution_count": 219,
     "metadata": {},
     "output_type": "execute_result"
    }
   ],
   "source": [
    "transfer_status[transfer_status >= 100]"
   ]
  },
  {
   "cell_type": "code",
   "execution_count": 220,
   "metadata": {},
   "outputs": [],
   "source": [
    "pickup_transfer_status = pickup_df[pickup_df['R-T'] == 'T']['Status'].value_counts()"
   ]
  },
  {
   "cell_type": "code",
   "execution_count": 221,
   "metadata": {
    "scrolled": true
   },
   "outputs": [
    {
     "data": {
      "text/plain": [
       "16            5198\n",
       "8G            4817\n",
       "8F            3808\n",
       "RM            1696\n",
       "8C            1464\n",
       "8A            1259\n",
       "REMOVAL        597\n",
       "3              358\n",
       "8B             353\n",
       "NO STATUS      175\n",
       "2A             143\n",
       "RE-INSTATE     123\n",
       "1A             121\n",
       "11             111\n",
       "NTA            103\n",
       "Name: Status, dtype: int64"
      ]
     },
     "execution_count": 221,
     "metadata": {},
     "output_type": "execute_result"
    }
   ],
   "source": [
    "pickup_transfer_status[pickup_transfer_status > 100]"
   ]
  },
  {
   "cell_type": "code",
   "execution_count": 222,
   "metadata": {},
   "outputs": [
    {
     "data": {
      "text/plain": [
       "16                  26362\n",
       "8C                  18201\n",
       "8F                   9781\n",
       "11                   4608\n",
       "NO STATUS            3201\n",
       "8G                   3181\n",
       "NTA                  2919\n",
       "1A                   2892\n",
       "3                    2848\n",
       "ER-TRANSFER          2203\n",
       "REMOVAL              1916\n",
       "RM                   1336\n",
       "F/O - TRANSFER        982\n",
       "REINSTATE             961\n",
       "2A                    920\n",
       "8B                    835\n",
       "TRANSFER - NTA        763\n",
       "9                     707\n",
       "TRANSFER - F/O        687\n",
       "NTA - TRANSFER        669\n",
       "12                    579\n",
       "8A                    445\n",
       "8E                    422\n",
       "NTA-TRANSFER          265\n",
       "RR-TRANSFER           202\n",
       "NTA-TRFD              192\n",
       "5B                    153\n",
       "NTA-NEW               152\n",
       "TRANSFER-NTA          135\n",
       "8H                     79\n",
       "                    ...  \n",
       "FULL VR                 9\n",
       "5E                      9\n",
       "E/R C/R                 6\n",
       "B&B                     5\n",
       "M                       5\n",
       "FINAL ORDER             5\n",
       "NTA/NO BOND             4\n",
       "1                       4\n",
       "5A                      4\n",
       "1/10/1900               4\n",
       "IJVR                    4\n",
       "XFR                     4\n",
       "1/8/1900                3\n",
       "RETURN - F/O            3\n",
       "TRANSFER-REMOVAL        3\n",
       "T-REINSTATE             3\n",
       "14                      3\n",
       "RR-NEW                  3\n",
       "TRANS- NTA              3\n",
       "ROR                     2\n",
       "REMOVA                  2\n",
       "NTA/VR                  2\n",
       "F/O - RANSFER           2\n",
       "TRANSFER-ER             2\n",
       "1C                      2\n",
       "JUVI                    2\n",
       "REINSTATE/FEAR          2\n",
       "REIN/RF                 2\n",
       "1/2/1900                2\n",
       "REM                     2\n",
       "Name: Status, Length: 81, dtype: int64"
      ]
     },
     "execution_count": 222,
     "metadata": {},
     "output_type": "execute_result"
    }
   ],
   "source": [
    "dropoff_status = dropoff_df['Status'].value_counts()\n",
    "dropoff_status[dropoff_status > 1]"
   ]
  },
  {
   "cell_type": "markdown",
   "metadata": {},
   "source": [
    "## Finding most common day of week"
   ]
  },
  {
   "cell_type": "code",
   "execution_count": 223,
   "metadata": {},
   "outputs": [],
   "source": [
    "all_df['MissionWeekday'] = all_df.index.weekday"
   ]
  },
  {
   "cell_type": "code",
   "execution_count": 224,
   "metadata": {},
   "outputs": [],
   "source": [
    "index = range(0,7)"
   ]
  },
  {
   "cell_type": "code",
   "execution_count": 225,
   "metadata": {},
   "outputs": [],
   "source": [
    "weekdays_2018 = all_df.loc['2018'].groupby(['MissionWeekday'])['MissionID'].nunique()"
   ]
  },
  {
   "cell_type": "code",
   "execution_count": 226,
   "metadata": {},
   "outputs": [],
   "source": [
    "weekdays_2018 = weekdays_2018.reset_index()"
   ]
  },
  {
   "cell_type": "code",
   "execution_count": 227,
   "metadata": {},
   "outputs": [],
   "source": [
    "weekdays_2018 = weekdays_2018.set_index('MissionWeekday')"
   ]
  },
  {
   "cell_type": "code",
   "execution_count": 228,
   "metadata": {},
   "outputs": [],
   "source": [
    "weekdays_2018 = weekdays_2018.reindex(index=index)"
   ]
  },
  {
   "cell_type": "code",
   "execution_count": 229,
   "metadata": {},
   "outputs": [],
   "source": [
    "weekdays_2018 = weekdays_2018.rename({'MissionID': 'Flights'}, axis=1)"
   ]
  },
  {
   "cell_type": "code",
   "execution_count": 230,
   "metadata": {},
   "outputs": [],
   "source": [
    "weekdays_2018 = weekdays_2018.T\n",
    "weekdays_2018.columns = ['M', 'Tu', 'W', 'Th', 'F', 'Sa', 'Su']"
   ]
  },
  {
   "cell_type": "code",
   "execution_count": 231,
   "metadata": {},
   "outputs": [],
   "source": [
    "weekdays_2018.fillna(0, inplace=True)"
   ]
  },
  {
   "cell_type": "code",
   "execution_count": 232,
   "metadata": {},
   "outputs": [
    {
     "data": {
      "text/html": [
       "<div>\n",
       "<style scoped>\n",
       "    .dataframe tbody tr th:only-of-type {\n",
       "        vertical-align: middle;\n",
       "    }\n",
       "\n",
       "    .dataframe tbody tr th {\n",
       "        vertical-align: top;\n",
       "    }\n",
       "\n",
       "    .dataframe thead th {\n",
       "        text-align: right;\n",
       "    }\n",
       "</style>\n",
       "<table border=\"1\" class=\"dataframe\">\n",
       "  <thead>\n",
       "    <tr style=\"text-align: right;\">\n",
       "      <th></th>\n",
       "      <th>M</th>\n",
       "      <th>Tu</th>\n",
       "      <th>W</th>\n",
       "      <th>Th</th>\n",
       "      <th>F</th>\n",
       "      <th>Sa</th>\n",
       "      <th>Su</th>\n",
       "    </tr>\n",
       "  </thead>\n",
       "  <tbody>\n",
       "    <tr>\n",
       "      <th>Flights</th>\n",
       "      <td>24</td>\n",
       "      <td>96</td>\n",
       "      <td>26</td>\n",
       "      <td>63</td>\n",
       "      <td>52</td>\n",
       "      <td>1</td>\n",
       "      <td>1</td>\n",
       "    </tr>\n",
       "  </tbody>\n",
       "</table>\n",
       "</div>"
      ],
      "text/plain": [
       "          M  Tu   W  Th   F  Sa  Su\n",
       "Flights  24  96  26  63  52   1   1"
      ]
     },
     "execution_count": 232,
     "metadata": {},
     "output_type": "execute_result"
    }
   ],
   "source": [
    "weekdays_2018"
   ]
  },
  {
   "cell_type": "code",
   "execution_count": 233,
   "metadata": {},
   "outputs": [
    {
     "data": {
      "image/png": "[encoded data removed]",
      "text/plain": [
       "<Figure size 504x72 with 1 Axes>"
      ]
     },
     "metadata": {
      "needs_background": "light"
     },
     "output_type": "display_data"
    }
   ],
   "source": [
    "fig, ax = plt.subplots()\n",
    "fig.set_size_inches(7,1)\n",
    "ax = sns.heatmap(weekdays_2018, annot=True, annot_kws={\"size\": 20}, fmt='.0f', cmap=plt.cm.viridis, cbar=False)\n",
    "ax.tick_params(axis='x', labelsize=16)\n",
    "ax.tick_params(axis='y', labelsize=16, rotation=0)\n",
    "# ax.set_ylabel('Year', fontsize=14)\n",
    "# ax.set_xlabel('Weekday', fontsize=14)\n",
    "ax.set_title(f'Day of week of ICE Air flights at {airport_name} during 2018', fontsize=18, pad=10);\n",
    "# fig.savefig(f'../output/{airport}-weekdays.png', dpi=100,  bbox_inches='tight')"
   ]
  },
  {
   "cell_type": "code",
   "execution_count": null,
   "metadata": {},
   "outputs": [],
   "source": []
  }
 ],
 "metadata": {
  "kernelspec": {
   "display_name": "Python 3",
   "language": "python",
   "name": "python3"
  },
  "language_info": {
   "codemirror_mode": {
    "name": "ipython",
    "version": 3
   },
   "file_extension": ".py",
   "mimetype": "text/x-python",
   "name": "python",
   "nbconvert_exporter": "python",
   "pygments_lexer": "ipython3",
   "version": "3.7.1"
  }
 },
 "nbformat": 4,
 "nbformat_minor": 2
}
