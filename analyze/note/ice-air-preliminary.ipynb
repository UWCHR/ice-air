{
 "cells": [
  {
   "cell_type": "code",
   "execution_count": 1,
   "metadata": {},
   "outputs": [],
   "source": [
    "import pandas as pd\n",
    "import numpy as np"
   ]
  },
  {
   "cell_type": "code",
   "execution_count": 2,
   "metadata": {},
   "outputs": [],
   "source": [
    "read_csv_opts = {'sep': '|',\n",
    "                 'quotechar': '\"',\n",
    "                 'compression': 'gzip',\n",
    "                 'encoding': 'utf-8'}"
   ]
  },
  {
   "cell_type": "code",
   "execution_count": 6,
   "metadata": {},
   "outputs": [],
   "source": [
    "df = pd.read_csv('../input/iceair.csv.gz', **read_csv_opts, low_memory=False)"
   ]
  },
  {
   "cell_type": "code",
   "execution_count": 7,
   "metadata": {},
   "outputs": [
    {
     "name": "stdout",
     "output_type": "stream",
     "text": [
      "<class 'pandas.core.frame.DataFrame'>\n",
      "RangeIndex: 1763020 entries, 0 to 1763019\n",
      "Data columns (total 44 columns):\n",
      "Status                  object\n",
      "Sex                     object\n",
      "Convictions             object\n",
      "GangMember              object\n",
      "ClassLvl                float64\n",
      "Age                     float64\n",
      "MissionDate             object\n",
      "MissionNumber           int64\n",
      "PULOC                   object\n",
      "DropLoc                 object\n",
      "StrikeFromList          float64\n",
      "ReasonStruck            object\n",
      "R-T                     object\n",
      "Code                    object\n",
      "CountryOfCitizenship    object\n",
      "Juvenile                object\n",
      "MissionWeek             int64\n",
      "MissionQuarter          int64\n",
      "MissionYear             int64\n",
      "MissionMonth            int64\n",
      "Criminality             object\n",
      "FamilyUnitFlag          float64\n",
      "UnaccompaniedFlag       float64\n",
      "AlienMasterID           int64\n",
      "MissionID               int64\n",
      "air_AirportID           float64\n",
      "air_AirportName         object\n",
      "air_City                object\n",
      "st_StateID              float64\n",
      "st_StateAbbr            object\n",
      "AOR_AORID               float64\n",
      "AOR_AOR                 object\n",
      "AOR_AORName             object\n",
      "air_Country             object\n",
      "air2_AirportID          float64\n",
      "air2_AirportName        object\n",
      "air2_City               object\n",
      "st2_StateID             float64\n",
      "st2_StateAbbr           object\n",
      "aor2_AORID              float64\n",
      "aor2_AOR                object\n",
      "aor2_AORName            object\n",
      "air2_Country            object\n",
      "hashid                  object\n",
      "dtypes: float64(11), int64(7), object(26)\n",
      "memory usage: 591.8+ MB\n"
     ]
    }
   ],
   "source": [
    "df.info()"
   ]
  },
  {
   "cell_type": "code",
   "execution_count": 10,
   "metadata": {},
   "outputs": [
    {
     "data": {
      "text/plain": [
       "14973"
      ]
     },
     "execution_count": 10,
     "metadata": {},
     "output_type": "execute_result"
    }
   ],
   "source": [
    "# Unique \"Missions\"\n",
    "len(set(df['MissionID']))"
   ]
  },
  {
   "cell_type": "code",
   "execution_count": 11,
   "metadata": {},
   "outputs": [
    {
     "data": {
      "text/plain": [
       "1733555"
      ]
     },
     "execution_count": 11,
     "metadata": {},
     "output_type": "execute_result"
    }
   ],
   "source": [
    "#\"\n",
    "len(set(df['AlienMasterID']))"
   ]
  },
  {
   "cell_type": "code",
   "execution_count": 14,
   "metadata": {},
   "outputs": [
    {
     "data": {
      "text/plain": [
       "count    0.0\n",
       "mean     NaN\n",
       "std      NaN\n",
       "min      NaN\n",
       "25%      NaN\n",
       "50%      NaN\n",
       "75%      NaN\n",
       "max      NaN\n",
       "Name: FamilyUnitFlag, dtype: float64"
      ]
     },
     "execution_count": 14,
     "metadata": {},
     "output_type": "execute_result"
    }
   ],
   "source": [
    "df['FamilyUnitFlag'].describe()"
   ]
  },
  {
   "cell_type": "code",
   "execution_count": 15,
   "metadata": {},
   "outputs": [
    {
     "data": {
      "text/plain": [
       "count    0.0\n",
       "mean     NaN\n",
       "std      NaN\n",
       "min      NaN\n",
       "25%      NaN\n",
       "50%      NaN\n",
       "75%      NaN\n",
       "max      NaN\n",
       "Name: UnaccompaniedFlag, dtype: float64"
      ]
     },
     "execution_count": 15,
     "metadata": {},
     "output_type": "execute_result"
    }
   ],
   "source": [
    "df['UnaccompaniedFlag'].describe()"
   ]
  },
  {
   "cell_type": "code",
   "execution_count": null,
   "metadata": {},
   "outputs": [],
   "source": []
  }
 ],
 "metadata": {
  "kernelspec": {
   "display_name": "Python 3",
   "language": "python",
   "name": "python3"
  },
  "language_info": {
   "codemirror_mode": {
    "name": "ipython",
    "version": 3
   },
   "file_extension": ".py",
   "mimetype": "text/x-python",
   "name": "python",
   "nbconvert_exporter": "python",
   "pygments_lexer": "ipython3",
   "version": "3.7.1"
  }
 },
 "nbformat": 4,
 "nbformat_minor": 2
}
