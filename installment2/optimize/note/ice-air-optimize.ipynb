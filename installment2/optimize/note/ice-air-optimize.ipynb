{
 "cells": [
  {
   "cell_type": "code",
   "execution_count": 2,
   "metadata": {},
   "outputs": [],
   "source": [
    "import pandas as pd\n",
    "import numpy as np\n",
    "import yaml"
   ]
  },
  {
   "cell_type": "markdown",
   "metadata": {},
   "source": [
    "# Finding optimal data types\n",
    "\n",
    "https://www.dataquest.io/blog/pandas-big-data/"
   ]
  },
  {
   "cell_type": "code",
   "execution_count": 3,
   "metadata": {},
   "outputs": [],
   "source": [
    "read_csv_opts = {'sep': '|',\n",
    "                 'quotechar': '\"',\n",
    "                 'compression': 'gzip',\n",
    "                 'encoding': 'utf-8'}"
   ]
  },
  {
   "cell_type": "code",
   "execution_count": 4,
   "metadata": {},
   "outputs": [],
   "source": [
    "files = {'arts_fy11': '../input/ARTS_Passenger_Data_FY11.csv.gz',\n",
    "         'arts_fy12': '../input/ARTS_Passenger_Data_FY12.csv.gz',\n",
    "         'arts_fy13': '../input/ARTS_Passenger_Data_FY13.csv.gz',\n",
    "         'arts_fy14': '../input/ARTS_Passenger_Data_FY14.csv.gz',\n",
    "         'arts_fy15': '../input/ARTS_Passenger_Data_FY15.csv.gz',\n",
    "         'arts_fy16': '../input/ARTS_Passenger_Data_FY16.csv.gz',\n",
    "         'arts_fy17': '../input/ARTS_Passenger_Data_FY17.csv.gz',\n",
    "         'arts_fy18': '../input/ARTS_Passenger_Data_FY18.csv.gz',\n",
    "         'arts_fy19': '../input/ARTS_Passenger_Data_FY19.csv.gz'}"
   ]
  },
  {
   "cell_type": "code",
   "execution_count": 5,
   "metadata": {},
   "outputs": [
    {
     "name": "stderr",
     "output_type": "stream",
     "text": [
      "/Users/philneff/anaconda3/lib/python3.7/site-packages/IPython/core/interactiveshell.py:3020: DtypeWarning: Columns (11,20) have mixed types. Specify dtype option on import or set low_memory=False.\n",
      "  interactivity=interactivity, compiler=compiler, result=result)\n"
     ]
    }
   ],
   "source": [
    "df = pd.read_csv('../input/ARTS_Passenger_Data_FY11.csv.gz', **read_csv_opts)"
   ]
  },
  {
   "cell_type": "code",
   "execution_count": 6,
   "metadata": {},
   "outputs": [
    {
     "name": "stdout",
     "output_type": "stream",
     "text": [
      "<class 'pandas.core.frame.DataFrame'>\n",
      "RangeIndex: 233061 entries, 0 to 233060\n",
      "Data columns (total 43 columns):\n",
      "Status                  223252 non-null object\n",
      "Sex                     233059 non-null object\n",
      "Convictions             220107 non-null object\n",
      "GangMember              172469 non-null object\n",
      "ClassLvl                222996 non-null float64\n",
      "Age                     232582 non-null float64\n",
      "MissionDate             233061 non-null object\n",
      "MissionNumber           233061 non-null int64\n",
      "PULOC                   232537 non-null object\n",
      "DropLoc                 232606 non-null object\n",
      "StrikeFromList          0 non-null float64\n",
      "ReasonStruck            6 non-null object\n",
      "R-T                     233058 non-null object\n",
      "Code                    233041 non-null object\n",
      "CountryOfCitizenship    233027 non-null object\n",
      "Juvenile                232582 non-null object\n",
      "MissionWeek             233061 non-null int64\n",
      "MissionQuarter          233061 non-null int64\n",
      "MissionYear             233061 non-null int64\n",
      "MissionMonth            233061 non-null int64\n",
      "Criminality             212302 non-null object\n",
      "FamilyUnitFlag          0 non-null float64\n",
      "UnaccompaniedFlag       0 non-null float64\n",
      "AlienMasterID           233061 non-null int64\n",
      "MissionID               233061 non-null int64\n",
      "air_AirportID           232537 non-null float64\n",
      "air_AirportName         232537 non-null object\n",
      "air_City                232537 non-null object\n",
      "st_StateID              232535 non-null float64\n",
      "st_StateAbbr            232535 non-null object\n",
      "AOR_AORID               232535 non-null float64\n",
      "AOR_AOR                 232535 non-null object\n",
      "AOR_AORName             232535 non-null object\n",
      "air_Country             232537 non-null object\n",
      "air2_AirportID          232606 non-null float64\n",
      "air2_AirportName        232606 non-null object\n",
      "air2_City               232606 non-null object\n",
      "st2_StateID             149154 non-null float64\n",
      "st2_StateAbbr           149154 non-null object\n",
      "aor2_AORID              149154 non-null float64\n",
      "aor2_AOR                149154 non-null object\n",
      "aor2_AORName            149154 non-null object\n",
      "air2_Country            232606 non-null object\n",
      "dtypes: float64(11), int64(7), object(25)\n",
      "memory usage: 373.8 MB\n"
     ]
    }
   ],
   "source": [
    "df.info(memory_usage='deep')"
   ]
  },
  {
   "cell_type": "code",
   "execution_count": 7,
   "metadata": {},
   "outputs": [],
   "source": [
    "def mem_usage(pandas_obj):\n",
    "    if isinstance(pandas_obj, pd.DataFrame):\n",
    "        usage_b = pandas_obj.memory_usage(deep=True).sum()\n",
    "    else: # we assume if not a df it's a series\n",
    "        usage_b = pandas_obj.memory_usage(deep=True)\n",
    "    usage_mb = usage_b / 1024 ** 2 # convert bytes to megabytes\n",
    "    return \"{:03.2f} MB\".format(usage_mb)"
   ]
  },
  {
   "cell_type": "code",
   "execution_count": 8,
   "metadata": {},
   "outputs": [],
   "source": [
    "df_int = df.select_dtypes(include=['int'])\n",
    "converted_int = df_int.apply(pd.to_numeric,downcast='unsigned')"
   ]
  },
  {
   "cell_type": "code",
   "execution_count": 9,
   "metadata": {},
   "outputs": [],
   "source": [
    "df_float = df.select_dtypes(include=['float'])\n",
    "converted_float = df_float.apply(pd.to_numeric,downcast='float')"
   ]
  },
  {
   "cell_type": "code",
   "execution_count": 10,
   "metadata": {},
   "outputs": [
    {
     "name": "stdout",
     "output_type": "stream",
     "text": [
      "373.82 MB\n",
      "354.93 MB\n"
     ]
    }
   ],
   "source": [
    "optimized_df = df.copy()\n",
    "\n",
    "optimized_df[converted_int.columns] = converted_int\n",
    "optimized_df[converted_float.columns] = converted_float\n",
    "\n",
    "print(mem_usage(df))\n",
    "print(mem_usage(optimized_df))"
   ]
  },
  {
   "cell_type": "code",
   "execution_count": 11,
   "metadata": {},
   "outputs": [
    {
     "data": {
      "text/html": [
       "<div>\n",
       "<style scoped>\n",
       "    .dataframe tbody tr th:only-of-type {\n",
       "        vertical-align: middle;\n",
       "    }\n",
       "\n",
       "    .dataframe tbody tr th {\n",
       "        vertical-align: top;\n",
       "    }\n",
       "\n",
       "    .dataframe thead th {\n",
       "        text-align: right;\n",
       "    }\n",
       "</style>\n",
       "<table border=\"1\" class=\"dataframe\">\n",
       "  <thead>\n",
       "    <tr style=\"text-align: right;\">\n",
       "      <th></th>\n",
       "      <th>Status</th>\n",
       "      <th>Sex</th>\n",
       "      <th>Convictions</th>\n",
       "      <th>GangMember</th>\n",
       "      <th>MissionDate</th>\n",
       "      <th>PULOC</th>\n",
       "      <th>DropLoc</th>\n",
       "      <th>ReasonStruck</th>\n",
       "      <th>R-T</th>\n",
       "      <th>Code</th>\n",
       "      <th>...</th>\n",
       "      <th>st_StateAbbr</th>\n",
       "      <th>AOR_AOR</th>\n",
       "      <th>AOR_AORName</th>\n",
       "      <th>air_Country</th>\n",
       "      <th>air2_AirportName</th>\n",
       "      <th>air2_City</th>\n",
       "      <th>st2_StateAbbr</th>\n",
       "      <th>aor2_AOR</th>\n",
       "      <th>aor2_AORName</th>\n",
       "      <th>air2_Country</th>\n",
       "    </tr>\n",
       "  </thead>\n",
       "  <tbody>\n",
       "    <tr>\n",
       "      <th>count</th>\n",
       "      <td>223252</td>\n",
       "      <td>233059</td>\n",
       "      <td>220107</td>\n",
       "      <td>172469</td>\n",
       "      <td>233061</td>\n",
       "      <td>232537</td>\n",
       "      <td>232606</td>\n",
       "      <td>6</td>\n",
       "      <td>233058</td>\n",
       "      <td>233041</td>\n",
       "      <td>...</td>\n",
       "      <td>232535</td>\n",
       "      <td>232535</td>\n",
       "      <td>232535</td>\n",
       "      <td>232537</td>\n",
       "      <td>232606</td>\n",
       "      <td>232606</td>\n",
       "      <td>149154</td>\n",
       "      <td>149154</td>\n",
       "      <td>149154</td>\n",
       "      <td>232606</td>\n",
       "    </tr>\n",
       "    <tr>\n",
       "      <th>unique</th>\n",
       "      <td>551</td>\n",
       "      <td>3</td>\n",
       "      <td>7591</td>\n",
       "      <td>1470</td>\n",
       "      <td>321</td>\n",
       "      <td>77</td>\n",
       "      <td>99</td>\n",
       "      <td>1</td>\n",
       "      <td>8</td>\n",
       "      <td>7</td>\n",
       "      <td>...</td>\n",
       "      <td>22</td>\n",
       "      <td>21</td>\n",
       "      <td>21</td>\n",
       "      <td>2</td>\n",
       "      <td>69</td>\n",
       "      <td>70</td>\n",
       "      <td>18</td>\n",
       "      <td>19</td>\n",
       "      <td>19</td>\n",
       "      <td>35</td>\n",
       "    </tr>\n",
       "    <tr>\n",
       "      <th>top</th>\n",
       "      <td>Removal</td>\n",
       "      <td>MALE</td>\n",
       "      <td>Non-Criminal</td>\n",
       "      <td>No</td>\n",
       "      <td>7/14/2011</td>\n",
       "      <td>KAEX</td>\n",
       "      <td>KHRL</td>\n",
       "      <td>no show</td>\n",
       "      <td>Removal</td>\n",
       "      <td>CR</td>\n",
       "      <td>...</td>\n",
       "      <td>TX</td>\n",
       "      <td>PHO</td>\n",
       "      <td>Phoenix</td>\n",
       "      <td>USA</td>\n",
       "      <td>Valley International Airport</td>\n",
       "      <td>Harlingen</td>\n",
       "      <td>TX</td>\n",
       "      <td>SNA</td>\n",
       "      <td>San Antonio</td>\n",
       "      <td>USA</td>\n",
       "    </tr>\n",
       "    <tr>\n",
       "      <th>freq</th>\n",
       "      <td>100138</td>\n",
       "      <td>220259</td>\n",
       "      <td>43693</td>\n",
       "      <td>93686</td>\n",
       "      <td>1268</td>\n",
       "      <td>26279</td>\n",
       "      <td>38852</td>\n",
       "      <td>6</td>\n",
       "      <td>179984</td>\n",
       "      <td>60184</td>\n",
       "      <td>...</td>\n",
       "      <td>50183</td>\n",
       "      <td>32907</td>\n",
       "      <td>32907</td>\n",
       "      <td>232535</td>\n",
       "      <td>56572</td>\n",
       "      <td>56572</td>\n",
       "      <td>81173</td>\n",
       "      <td>73434</td>\n",
       "      <td>73434</td>\n",
       "      <td>149154</td>\n",
       "    </tr>\n",
       "  </tbody>\n",
       "</table>\n",
       "<p>4 rows × 25 columns</p>\n",
       "</div>"
      ],
      "text/plain": [
       "         Status     Sex   Convictions GangMember MissionDate   PULOC DropLoc  \\\n",
       "count    223252  233059        220107     172469      233061  232537  232606   \n",
       "unique      551       3          7591       1470         321      77      99   \n",
       "top     Removal    MALE  Non-Criminal         No   7/14/2011    KAEX    KHRL   \n",
       "freq     100138  220259         43693      93686        1268   26279   38852   \n",
       "\n",
       "       ReasonStruck      R-T    Code     ...      st_StateAbbr AOR_AOR  \\\n",
       "count             6   233058  233041     ...            232535  232535   \n",
       "unique            1        8       7     ...                22      21   \n",
       "top         no show  Removal      CR     ...                TX     PHO   \n",
       "freq              6   179984   60184     ...             50183   32907   \n",
       "\n",
       "       AOR_AORName air_Country              air2_AirportName  air2_City  \\\n",
       "count       232535      232537                        232606     232606   \n",
       "unique          21           2                            69         70   \n",
       "top        Phoenix         USA  Valley International Airport  Harlingen   \n",
       "freq         32907      232535                         56572      56572   \n",
       "\n",
       "       st2_StateAbbr aor2_AOR aor2_AORName air2_Country  \n",
       "count         149154   149154       149154       232606  \n",
       "unique            18       19           19           35  \n",
       "top               TX      SNA  San Antonio          USA  \n",
       "freq           81173    73434        73434       149154  \n",
       "\n",
       "[4 rows x 25 columns]"
      ]
     },
     "execution_count": 11,
     "metadata": {},
     "output_type": "execute_result"
    }
   ],
   "source": [
    "df_obj = df.select_dtypes(include=['object']).copy()\n",
    "df_obj.describe()"
   ]
  },
  {
   "cell_type": "code",
   "execution_count": 12,
   "metadata": {},
   "outputs": [],
   "source": [
    "converted_obj = pd.DataFrame()\n",
    "\n",
    "for col in df_obj.columns:\n",
    "    num_unique_values = len(df_obj[col].unique())\n",
    "    num_total_values = len(df_obj[col])\n",
    "    if num_unique_values / num_total_values < 0.5:\n",
    "        converted_obj.loc[:,col] = df_obj[col].astype('category')\n",
    "    else:\n",
    "        converted_obj.loc[:,col] = df_obj[col]"
   ]
  },
  {
   "cell_type": "code",
   "execution_count": 13,
   "metadata": {},
   "outputs": [
    {
     "name": "stdout",
     "output_type": "stream",
     "text": [
      "341.82 MB\n",
      "7.78 MB\n"
     ]
    }
   ],
   "source": [
    "print(mem_usage(df_obj))\n",
    "print(mem_usage(converted_obj))"
   ]
  },
  {
   "cell_type": "code",
   "execution_count": 14,
   "metadata": {},
   "outputs": [],
   "source": [
    "optimized_df[converted_obj.columns] = converted_obj"
   ]
  },
  {
   "cell_type": "code",
   "execution_count": 15,
   "metadata": {},
   "outputs": [
    {
     "data": {
      "text/plain": [
       "'20.90 MB'"
      ]
     },
     "execution_count": 15,
     "metadata": {},
     "output_type": "execute_result"
    }
   ],
   "source": [
    "mem_usage(optimized_df)"
   ]
  },
  {
   "cell_type": "code",
   "execution_count": 16,
   "metadata": {},
   "outputs": [
    {
     "name": "stdout",
     "output_type": "stream",
     "text": [
      "0.47 MB\n"
     ]
    },
    {
     "data": {
      "text/plain": [
       "0    10/1/2010\n",
       "1    10/1/2010\n",
       "2    10/1/2010\n",
       "3    10/1/2010\n",
       "4    10/1/2010\n",
       "Name: MissionDate, dtype: category\n",
       "Categories (321, object): [1/10/2011, 1/11/2011, 1/12/2011, 1/13/2011, ..., 9/6/2011, 9/7/2011, 9/8/2011, 9/9/2011]"
      ]
     },
     "execution_count": 16,
     "metadata": {},
     "output_type": "execute_result"
    }
   ],
   "source": [
    "date = optimized_df.MissionDate\n",
    "print(mem_usage(date))\n",
    "date.head()"
   ]
  },
  {
   "cell_type": "code",
   "execution_count": 17,
   "metadata": {},
   "outputs": [
    {
     "name": "stdout",
     "output_type": "stream",
     "text": [
      "22.20 MB\n"
     ]
    },
    {
     "data": {
      "text/plain": [
       "0   2010-10-01\n",
       "1   2010-10-01\n",
       "2   2010-10-01\n",
       "3   2010-10-01\n",
       "4   2010-10-01\n",
       "Name: MissionDate, dtype: datetime64[ns]"
      ]
     },
     "execution_count": 17,
     "metadata": {},
     "output_type": "execute_result"
    }
   ],
   "source": [
    "optimized_df['MissionDate'] = pd.to_datetime(date,format='%m/%d/%Y')\n",
    "\n",
    "print(mem_usage(optimized_df))\n",
    "optimized_df['MissionDate'].head()"
   ]
  },
  {
   "cell_type": "code",
   "execution_count": 18,
   "metadata": {},
   "outputs": [
    {
     "name": "stdout",
     "output_type": "stream",
     "text": [
      "<class 'pandas.core.frame.DataFrame'>\n",
      "RangeIndex: 233061 entries, 0 to 233060\n",
      "Data columns (total 43 columns):\n",
      "Status                  223252 non-null category\n",
      "Sex                     233059 non-null category\n",
      "Convictions             220107 non-null category\n",
      "GangMember              172469 non-null category\n",
      "ClassLvl                222996 non-null float32\n",
      "Age                     232582 non-null float32\n",
      "MissionDate             233061 non-null datetime64[ns]\n",
      "MissionNumber           233061 non-null uint32\n",
      "PULOC                   232537 non-null category\n",
      "DropLoc                 232606 non-null category\n",
      "StrikeFromList          0 non-null float32\n",
      "ReasonStruck            6 non-null category\n",
      "R-T                     233058 non-null category\n",
      "Code                    233041 non-null category\n",
      "CountryOfCitizenship    233027 non-null category\n",
      "Juvenile                232582 non-null category\n",
      "MissionWeek             233061 non-null uint8\n",
      "MissionQuarter          233061 non-null uint8\n",
      "MissionYear             233061 non-null uint16\n",
      "MissionMonth            233061 non-null uint8\n",
      "Criminality             212302 non-null category\n",
      "FamilyUnitFlag          0 non-null float32\n",
      "UnaccompaniedFlag       0 non-null float32\n",
      "AlienMasterID           233061 non-null uint32\n",
      "MissionID               233061 non-null uint16\n",
      "air_AirportID           232537 non-null float32\n",
      "air_AirportName         232537 non-null category\n",
      "air_City                232537 non-null category\n",
      "st_StateID              232535 non-null float32\n",
      "st_StateAbbr            232535 non-null category\n",
      "AOR_AORID               232535 non-null float32\n",
      "AOR_AOR                 232535 non-null category\n",
      "AOR_AORName             232535 non-null category\n",
      "air_Country             232537 non-null category\n",
      "air2_AirportID          232606 non-null float32\n",
      "air2_AirportName        232606 non-null category\n",
      "air2_City               232606 non-null category\n",
      "st2_StateID             149154 non-null float32\n",
      "st2_StateAbbr           149154 non-null category\n",
      "aor2_AORID              149154 non-null float32\n",
      "aor2_AOR                149154 non-null category\n",
      "aor2_AORName            149154 non-null category\n",
      "air2_Country            232606 non-null category\n",
      "dtypes: category(24), datetime64[ns](1), float32(11), uint16(2), uint32(2), uint8(3)\n",
      "memory usage: 22.2 MB\n"
     ]
    }
   ],
   "source": [
    "optimized_df.info(memory_usage='deep')"
   ]
  },
  {
   "cell_type": "code",
   "execution_count": 19,
   "metadata": {},
   "outputs": [],
   "source": [
    "assert df.columns.tolist() == optimized_df.columns.tolist()"
   ]
  },
  {
   "cell_type": "code",
   "execution_count": 20,
   "metadata": {},
   "outputs": [],
   "source": [
    "dtypes = optimized_df.drop('MissionDate',axis=1).dtypes\n",
    "\n",
    "dtypes_col = dtypes.index\n",
    "dtypes_type = [i.name for i in dtypes.values]\n",
    "\n",
    "column_types = dict(zip(dtypes_col, dtypes_type))"
   ]
  },
  {
   "cell_type": "code",
   "execution_count": 21,
   "metadata": {},
   "outputs": [
    {
     "data": {
      "text/plain": [
       "{'Status': 'category',\n",
       " 'Sex': 'category',\n",
       " 'Convictions': 'category',\n",
       " 'GangMember': 'category',\n",
       " 'ClassLvl': 'float32',\n",
       " 'Age': 'float32',\n",
       " 'MissionNumber': 'uint32',\n",
       " 'PULOC': 'category',\n",
       " 'DropLoc': 'category',\n",
       " 'StrikeFromList': 'float32',\n",
       " 'ReasonStruck': 'category',\n",
       " 'R-T': 'category',\n",
       " 'Code': 'category',\n",
       " 'CountryOfCitizenship': 'category',\n",
       " 'Juvenile': 'category',\n",
       " 'MissionWeek': 'uint8',\n",
       " 'MissionQuarter': 'uint8',\n",
       " 'MissionYear': 'uint16',\n",
       " 'MissionMonth': 'uint8',\n",
       " 'Criminality': 'category',\n",
       " 'FamilyUnitFlag': 'float32',\n",
       " 'UnaccompaniedFlag': 'float32',\n",
       " 'AlienMasterID': 'uint32',\n",
       " 'MissionID': 'uint16',\n",
       " 'air_AirportID': 'float32',\n",
       " 'air_AirportName': 'category',\n",
       " 'air_City': 'category',\n",
       " 'st_StateID': 'float32',\n",
       " 'st_StateAbbr': 'category',\n",
       " 'AOR_AORID': 'float32',\n",
       " 'AOR_AOR': 'category',\n",
       " 'AOR_AORName': 'category',\n",
       " 'air_Country': 'category',\n",
       " 'air2_AirportID': 'float32',\n",
       " 'air2_AirportName': 'category',\n",
       " 'air2_City': 'category',\n",
       " 'st2_StateID': 'float32',\n",
       " 'st2_StateAbbr': 'category',\n",
       " 'aor2_AORID': 'float32',\n",
       " 'aor2_AOR': 'category',\n",
       " 'aor2_AORName': 'category',\n",
       " 'air2_Country': 'category'}"
      ]
     },
     "execution_count": 21,
     "metadata": {},
     "output_type": "execute_result"
    }
   ],
   "source": [
    "column_types"
   ]
  },
  {
   "cell_type": "code",
   "execution_count": 24,
   "metadata": {},
   "outputs": [],
   "source": [
    "with open('../output/dtypes.yaml', 'w') as outfile:\n",
    "    yaml.dump(column_types, outfile, default_flow_style=False)"
   ]
  },
  {
   "cell_type": "code",
   "execution_count": 21,
   "metadata": {},
   "outputs": [
    {
     "name": "stdout",
     "output_type": "stream",
     "text": [
      "26.25 MB\n"
     ]
    },
    {
     "data": {
      "text/html": [
       "<div>\n",
       "<style scoped>\n",
       "    .dataframe tbody tr th:only-of-type {\n",
       "        vertical-align: middle;\n",
       "    }\n",
       "\n",
       "    .dataframe tbody tr th {\n",
       "        vertical-align: top;\n",
       "    }\n",
       "\n",
       "    .dataframe thead th {\n",
       "        text-align: right;\n",
       "    }\n",
       "</style>\n",
       "<table border=\"1\" class=\"dataframe\">\n",
       "  <thead>\n",
       "    <tr style=\"text-align: right;\">\n",
       "      <th></th>\n",
       "      <th>Status</th>\n",
       "      <th>Sex</th>\n",
       "      <th>Convictions</th>\n",
       "      <th>GangMember</th>\n",
       "      <th>ClassLvl</th>\n",
       "      <th>Age</th>\n",
       "      <th>MissionDate</th>\n",
       "      <th>MissionNumber</th>\n",
       "      <th>PULOC</th>\n",
       "      <th>DropLoc</th>\n",
       "      <th>...</th>\n",
       "      <th>air_Country</th>\n",
       "      <th>air2_AirportID</th>\n",
       "      <th>air2_AirportName</th>\n",
       "      <th>air2_City</th>\n",
       "      <th>st2_StateID</th>\n",
       "      <th>st2_StateAbbr</th>\n",
       "      <th>aor2_AORID</th>\n",
       "      <th>aor2_AOR</th>\n",
       "      <th>aor2_AORName</th>\n",
       "      <th>air2_Country</th>\n",
       "    </tr>\n",
       "  </thead>\n",
       "  <tbody>\n",
       "    <tr>\n",
       "      <th>0</th>\n",
       "      <td>TRANSFER</td>\n",
       "      <td>MALE</td>\n",
       "      <td>DUI</td>\n",
       "      <td>NaN</td>\n",
       "      <td>1.0</td>\n",
       "      <td>30.0</td>\n",
       "      <td>2011-10-01</td>\n",
       "      <td>120001</td>\n",
       "      <td>KIWA</td>\n",
       "      <td>KBFI</td>\n",
       "      <td>...</td>\n",
       "      <td>USA</td>\n",
       "      <td>39.0</td>\n",
       "      <td>Boeing Field King County International Airport</td>\n",
       "      <td>Seattle</td>\n",
       "      <td>51.0</td>\n",
       "      <td>WA</td>\n",
       "      <td>22.0</td>\n",
       "      <td>SEA</td>\n",
       "      <td>Seattle</td>\n",
       "      <td>USA</td>\n",
       "    </tr>\n",
       "    <tr>\n",
       "      <th>1</th>\n",
       "      <td>Removal</td>\n",
       "      <td>MALE</td>\n",
       "      <td>Traffic</td>\n",
       "      <td>No</td>\n",
       "      <td>1.0</td>\n",
       "      <td>27.0</td>\n",
       "      <td>2011-10-01</td>\n",
       "      <td>120001</td>\n",
       "      <td>KBFI</td>\n",
       "      <td>KSAN</td>\n",
       "      <td>...</td>\n",
       "      <td>USA</td>\n",
       "      <td>107.0</td>\n",
       "      <td>San Diego International Airport</td>\n",
       "      <td>San Diego</td>\n",
       "      <td>5.0</td>\n",
       "      <td>CA</td>\n",
       "      <td>20.0</td>\n",
       "      <td>SND</td>\n",
       "      <td>San Diego</td>\n",
       "      <td>USA</td>\n",
       "    </tr>\n",
       "    <tr>\n",
       "      <th>2</th>\n",
       "      <td>Removal</td>\n",
       "      <td>MALE</td>\n",
       "      <td>Assault</td>\n",
       "      <td>No</td>\n",
       "      <td>2.0</td>\n",
       "      <td>22.0</td>\n",
       "      <td>2011-10-01</td>\n",
       "      <td>120001</td>\n",
       "      <td>KBFI</td>\n",
       "      <td>KSAN</td>\n",
       "      <td>...</td>\n",
       "      <td>USA</td>\n",
       "      <td>107.0</td>\n",
       "      <td>San Diego International Airport</td>\n",
       "      <td>San Diego</td>\n",
       "      <td>5.0</td>\n",
       "      <td>CA</td>\n",
       "      <td>20.0</td>\n",
       "      <td>SND</td>\n",
       "      <td>San Diego</td>\n",
       "      <td>USA</td>\n",
       "    </tr>\n",
       "    <tr>\n",
       "      <th>3</th>\n",
       "      <td>Removal</td>\n",
       "      <td>MALE</td>\n",
       "      <td>DUI</td>\n",
       "      <td>No</td>\n",
       "      <td>1.0</td>\n",
       "      <td>24.0</td>\n",
       "      <td>2011-10-01</td>\n",
       "      <td>120001</td>\n",
       "      <td>KBFI</td>\n",
       "      <td>KSAN</td>\n",
       "      <td>...</td>\n",
       "      <td>USA</td>\n",
       "      <td>107.0</td>\n",
       "      <td>San Diego International Airport</td>\n",
       "      <td>San Diego</td>\n",
       "      <td>5.0</td>\n",
       "      <td>CA</td>\n",
       "      <td>20.0</td>\n",
       "      <td>SND</td>\n",
       "      <td>San Diego</td>\n",
       "      <td>USA</td>\n",
       "    </tr>\n",
       "    <tr>\n",
       "      <th>4</th>\n",
       "      <td>Removal</td>\n",
       "      <td>MALE</td>\n",
       "      <td>DUI</td>\n",
       "      <td>No</td>\n",
       "      <td>1.0</td>\n",
       "      <td>33.0</td>\n",
       "      <td>2011-10-01</td>\n",
       "      <td>120001</td>\n",
       "      <td>KBFI</td>\n",
       "      <td>KSAN</td>\n",
       "      <td>...</td>\n",
       "      <td>USA</td>\n",
       "      <td>107.0</td>\n",
       "      <td>San Diego International Airport</td>\n",
       "      <td>San Diego</td>\n",
       "      <td>5.0</td>\n",
       "      <td>CA</td>\n",
       "      <td>20.0</td>\n",
       "      <td>SND</td>\n",
       "      <td>San Diego</td>\n",
       "      <td>USA</td>\n",
       "    </tr>\n",
       "  </tbody>\n",
       "</table>\n",
       "<p>5 rows × 43 columns</p>\n",
       "</div>"
      ],
      "text/plain": [
       "     Status   Sex Convictions GangMember  ClassLvl   Age MissionDate  \\\n",
       "0  TRANSFER  MALE         DUI        NaN       1.0  30.0  2011-10-01   \n",
       "1   Removal  MALE     Traffic         No       1.0  27.0  2011-10-01   \n",
       "2   Removal  MALE     Assault         No       2.0  22.0  2011-10-01   \n",
       "3   Removal  MALE         DUI         No       1.0  24.0  2011-10-01   \n",
       "4   Removal  MALE         DUI         No       1.0  33.0  2011-10-01   \n",
       "\n",
       "   MissionNumber PULOC DropLoc      ...       air_Country air2_AirportID  \\\n",
       "0         120001  KIWA    KBFI      ...               USA           39.0   \n",
       "1         120001  KBFI    KSAN      ...               USA          107.0   \n",
       "2         120001  KBFI    KSAN      ...               USA          107.0   \n",
       "3         120001  KBFI    KSAN      ...               USA          107.0   \n",
       "4         120001  KBFI    KSAN      ...               USA          107.0   \n",
       "\n",
       "                                 air2_AirportName  air2_City st2_StateID  \\\n",
       "0  Boeing Field King County International Airport    Seattle        51.0   \n",
       "1                 San Diego International Airport  San Diego         5.0   \n",
       "2                 San Diego International Airport  San Diego         5.0   \n",
       "3                 San Diego International Airport  San Diego         5.0   \n",
       "4                 San Diego International Airport  San Diego         5.0   \n",
       "\n",
       "  st2_StateAbbr  aor2_AORID  aor2_AOR  aor2_AORName  air2_Country  \n",
       "0            WA        22.0       SEA       Seattle           USA  \n",
       "1            CA        20.0       SND     San Diego           USA  \n",
       "2            CA        20.0       SND     San Diego           USA  \n",
       "3            CA        20.0       SND     San Diego           USA  \n",
       "4            CA        20.0       SND     San Diego           USA  \n",
       "\n",
       "[5 rows x 43 columns]"
      ]
     },
     "execution_count": 21,
     "metadata": {},
     "output_type": "execute_result"
    }
   ],
   "source": [
    "read_and_optimized = pd.read_csv('../input/ARTS_Passenger_Data_FY12.csv.gz',dtype=column_types,parse_dates=['MissionDate'],infer_datetime_format=True,**read_csv_opts)\n",
    "\n",
    "print(mem_usage(read_and_optimized))\n",
    "read_and_optimized.head()"
   ]
  },
  {
   "cell_type": "code",
   "execution_count": null,
   "metadata": {},
   "outputs": [],
   "source": []
  }
 ],
 "metadata": {
  "kernelspec": {
   "display_name": "Python 3",
   "language": "python",
   "name": "python3"
  },
  "language_info": {
   "codemirror_mode": {
    "name": "ipython",
    "version": 3
   },
   "file_extension": ".py",
   "mimetype": "text/x-python",
   "name": "python",
   "nbconvert_exporter": "python",
   "pygments_lexer": "ipython3",
   "version": "3.7.1"
  }
 },
 "nbformat": 4,
 "nbformat_minor": 2
}
