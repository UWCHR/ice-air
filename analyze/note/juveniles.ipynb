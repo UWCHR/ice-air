{
 "cells": [
  {
   "cell_type": "code",
   "execution_count": 12,
   "metadata": {},
   "outputs": [],
   "source": [
    "import numpy as np\n",
    "import pandas as pd\n",
    "import yaml\n",
    "import matplotlib.pyplot as plt\n",
    "import matplotlib.mlab as mlab\n",
    "import seaborn as sns"
   ]
  },
  {
   "cell_type": "markdown",
   "metadata": {},
   "source": [
    "# Import\n",
    "\n",
    "First we open a file containing a dictionary of columns and associated data types generated in `../../optimize/`, then we read input file."
   ]
  },
  {
   "cell_type": "code",
   "execution_count": 13,
   "metadata": {},
   "outputs": [
    {
     "name": "stdout",
     "output_type": "stream",
     "text": [
      "<class 'pandas.core.frame.DataFrame'>\n",
      "RangeIndex: 1763020 entries, 0 to 1763019\n",
      "Data columns (total 44 columns):\n",
      "Status                  category\n",
      "Sex                     category\n",
      "Convictions             category\n",
      "GangMember              category\n",
      "ClassLvl                float32\n",
      "Age                     float32\n",
      "MissionDate             datetime64[ns]\n",
      "MissionNumber           uint32\n",
      "PULOC                   category\n",
      "DropLoc                 category\n",
      "StrikeFromList          float32\n",
      "ReasonStruck            category\n",
      "R-T                     category\n",
      "Code                    category\n",
      "CountryOfCitizenship    category\n",
      "Juvenile                bool\n",
      "MissionWeek             uint8\n",
      "MissionQuarter          uint8\n",
      "MissionYear             uint16\n",
      "MissionMonth            uint8\n",
      "Criminality             category\n",
      "FamilyUnitFlag          float32\n",
      "UnaccompaniedFlag       float32\n",
      "AlienMasterID           uint32\n",
      "MissionID               uint16\n",
      "air_AirportID           float32\n",
      "air_AirportName         category\n",
      "air_City                category\n",
      "st_StateID              float32\n",
      "st_StateAbbr            category\n",
      "AOR_AORID               float32\n",
      "AOR_AOR                 category\n",
      "AOR_AORName             category\n",
      "air_Country             category\n",
      "air2_AirportID          float32\n",
      "air2_AirportName        category\n",
      "air2_City               category\n",
      "st2_StateID             float32\n",
      "st2_StateAbbr           category\n",
      "aor2_AORID              float32\n",
      "aor2_AOR                category\n",
      "aor2_AORName            category\n",
      "air2_Country            category\n",
      "NonCriminal             bool\n",
      "dtypes: bool(2), category(23), datetime64[ns](1), float32(11), uint16(2), uint32(2), uint8(3)\n",
      "memory usage: 168.6 MB\n"
     ]
    }
   ],
   "source": [
    "with open('../input/dtypes.yaml', 'r') as yamlfile:\n",
    "    column_types = yaml.load(yamlfile)\n",
    "\n",
    "read_csv_opts = {'sep': '|',\n",
    "                 'quotechar': '\"',\n",
    "                 'compression': 'gzip',\n",
    "                 'encoding': 'utf-8',\n",
    "                 'dtype': column_types,\n",
    "                 'parse_dates': ['MissionDate'],\n",
    "                 'infer_datetime_format': True}\n",
    "\n",
    "df = pd.read_csv('../input/ice-air.csv.gz', **read_csv_opts)\n",
    "\n",
    "df.info(memory_usage='deep')"
   ]
  },
  {
   "cell_type": "markdown",
   "metadata": {},
   "source": [
    "# Grouping by flight and distinguishing adult/juvenile passengers"
   ]
  },
  {
   "cell_type": "code",
   "execution_count": 14,
   "metadata": {},
   "outputs": [
    {
     "data": {
      "text/html": [
       "<div>\n",
       "<style scoped>\n",
       "    .dataframe tbody tr th:only-of-type {\n",
       "        vertical-align: middle;\n",
       "    }\n",
       "\n",
       "    .dataframe tbody tr th {\n",
       "        vertical-align: top;\n",
       "    }\n",
       "\n",
       "    .dataframe thead th {\n",
       "        text-align: right;\n",
       "    }\n",
       "</style>\n",
       "<table border=\"1\" class=\"dataframe\">\n",
       "  <thead>\n",
       "    <tr style=\"text-align: right;\">\n",
       "      <th></th>\n",
       "      <th>FiscalYear</th>\n",
       "      <th>MissionID</th>\n",
       "      <th>R-T</th>\n",
       "      <th>PULOC</th>\n",
       "      <th>DropLoc</th>\n",
       "      <th>AdultCount</th>\n",
       "      <th>JuvCount</th>\n",
       "      <th>TotalCount</th>\n",
       "      <th>JuvPercent</th>\n",
       "    </tr>\n",
       "    <tr>\n",
       "      <th>MissionDate</th>\n",
       "      <th></th>\n",
       "      <th></th>\n",
       "      <th></th>\n",
       "      <th></th>\n",
       "      <th></th>\n",
       "      <th></th>\n",
       "      <th></th>\n",
       "      <th></th>\n",
       "      <th></th>\n",
       "    </tr>\n",
       "  </thead>\n",
       "  <tbody>\n",
       "    <tr>\n",
       "      <th>2010-10-01</th>\n",
       "      <td>2010-10-01</td>\n",
       "      <td>105</td>\n",
       "      <td>T</td>\n",
       "      <td>KMDT</td>\n",
       "      <td>KAEX</td>\n",
       "      <td>121.0</td>\n",
       "      <td>1.0</td>\n",
       "      <td>122.0</td>\n",
       "      <td>0.008197</td>\n",
       "    </tr>\n",
       "    <tr>\n",
       "      <th>2010-10-01</th>\n",
       "      <td>2010-10-01</td>\n",
       "      <td>106</td>\n",
       "      <td>R</td>\n",
       "      <td>KHRL</td>\n",
       "      <td>MGGT</td>\n",
       "      <td>67.0</td>\n",
       "      <td>0.0</td>\n",
       "      <td>67.0</td>\n",
       "      <td>0.000000</td>\n",
       "    </tr>\n",
       "    <tr>\n",
       "      <th>2010-10-01</th>\n",
       "      <td>2010-10-01</td>\n",
       "      <td>106</td>\n",
       "      <td>R</td>\n",
       "      <td>KSAT</td>\n",
       "      <td>MGGT</td>\n",
       "      <td>37.0</td>\n",
       "      <td>0.0</td>\n",
       "      <td>37.0</td>\n",
       "      <td>0.000000</td>\n",
       "    </tr>\n",
       "    <tr>\n",
       "      <th>2010-10-01</th>\n",
       "      <td>2010-10-01</td>\n",
       "      <td>107</td>\n",
       "      <td>R</td>\n",
       "      <td>KAEX</td>\n",
       "      <td>MHLM</td>\n",
       "      <td>97.0</td>\n",
       "      <td>0.0</td>\n",
       "      <td>97.0</td>\n",
       "      <td>0.000000</td>\n",
       "    </tr>\n",
       "    <tr>\n",
       "      <th>2010-10-01</th>\n",
       "      <td>2010-10-01</td>\n",
       "      <td>108</td>\n",
       "      <td>R</td>\n",
       "      <td>KMCI</td>\n",
       "      <td>KHRL</td>\n",
       "      <td>35.0</td>\n",
       "      <td>0.0</td>\n",
       "      <td>35.0</td>\n",
       "      <td>0.000000</td>\n",
       "    </tr>\n",
       "  </tbody>\n",
       "</table>\n",
       "</div>"
      ],
      "text/plain": [
       "            FiscalYear  MissionID R-T PULOC DropLoc  AdultCount  JuvCount  \\\n",
       "MissionDate                                                                 \n",
       "2010-10-01  2010-10-01        105   T  KMDT    KAEX       121.0       1.0   \n",
       "2010-10-01  2010-10-01        106   R  KHRL    MGGT        67.0       0.0   \n",
       "2010-10-01  2010-10-01        106   R  KSAT    MGGT        37.0       0.0   \n",
       "2010-10-01  2010-10-01        107   R  KAEX    MHLM        97.0       0.0   \n",
       "2010-10-01  2010-10-01        108   R  KMCI    KHRL        35.0       0.0   \n",
       "\n",
       "             TotalCount  JuvPercent  \n",
       "MissionDate                          \n",
       "2010-10-01        122.0    0.008197  \n",
       "2010-10-01         67.0    0.000000  \n",
       "2010-10-01         37.0    0.000000  \n",
       "2010-10-01         97.0    0.000000  \n",
       "2010-10-01         35.0    0.000000  "
      ]
     },
     "execution_count": 14,
     "metadata": {},
     "output_type": "execute_result"
    }
   ],
   "source": [
    "# There is probably a better way to do this step to include a FiscalYear and exact date.\n",
    "# Could add a FiscalYear column in `../../clean/`?\n",
    "\n",
    "df['FiscalYear'] = df['MissionDate'].copy()\n",
    "df.set_index('MissionDate', drop=False, inplace=True)\n",
    "df.index.name = 'FiscalYear'\n",
    "\n",
    "# Grouping records by exact date, fiscal year, MissionID,\n",
    "# removal or transfer status, unique pickup/dropoff, juvenile status.\n",
    "# Can't group by nationality here or it splits flights up and obscures trends\n",
    "g = df.groupby([pd.Grouper(freq='AS-OCT'), 'MissionDate', 'MissionID', 'R-T', 'PULOC', 'DropLoc', 'Juvenile'])\n",
    "\n",
    "t = g.agg({'AlienMasterID': pd.Series.nunique}) # Counting unique AlienMasterID values per flight\n",
    "\n",
    "t = t.unstack('Juvenile') # Splitting our count of unique AlienMasterIDs into categories by juvenile status\n",
    "t = t['AlienMasterID'].reset_index() # There's probably a better way of doing this than `reset_axis()`\n",
    "\n",
    "t.columns.name = None\n",
    "t = t.rename({False: 'AdultCount', True: 'JuvCount'}, axis=1)\n",
    "\n",
    "t[['AdultCount', 'JuvCount']] = t[['AdultCount', 'JuvCount']].fillna(0)\n",
    "t['TotalCount'] = t['AdultCount'] + t['JuvCount']\n",
    "t['JuvPercent'] = t['JuvCount'] / t['TotalCount']\n",
    "\n",
    "t.set_index('MissionDate', inplace=True)\n",
    "t.head()"
   ]
  },
  {
   "cell_type": "markdown",
   "metadata": {},
   "source": [
    "Now we make separate DataFrames for removal and transfer flights."
   ]
  },
  {
   "cell_type": "code",
   "execution_count": 15,
   "metadata": {},
   "outputs": [],
   "source": [
    "tr = t[t['R-T'] == 'R'].copy()\n",
    "tr.sort_index(inplace=True)\n",
    "tt = t[t['R-T'] == 'T'].copy()\n",
    "tt.sort_index(inplace=True)"
   ]
  },
  {
   "cell_type": "markdown",
   "metadata": {},
   "source": [
    "We can discern an increase in the percentage of juveniles on removal flights from 2015 on."
   ]
  },
  {
   "cell_type": "code",
   "execution_count": 16,
   "metadata": {},
   "outputs": [
    {
     "data": {
      "text/plain": [
       "<matplotlib.axes._subplots.AxesSubplot at 0x1a1cf2d9e8>"
      ]
     },
     "execution_count": 16,
     "metadata": {},
     "output_type": "execute_result"
    },
    {
     "data": {
      "image/png": "[encoded data removed]",
      "text/plain": [
       "<Figure size 432x288 with 1 Axes>"
      ]
     },
     "metadata": {
      "needs_background": "light"
     },
     "output_type": "display_data"
    }
   ],
   "source": [
    "tr['JuvPercent'].plot()"
   ]
  },
  {
   "cell_type": "markdown",
   "metadata": {},
   "source": [
    "The number of juveniles on a given flight, however, is low, with a few exceptions."
   ]
  },
  {
   "cell_type": "code",
   "execution_count": 17,
   "metadata": {},
   "outputs": [
    {
     "data": {
      "text/plain": [
       "<matplotlib.axes._subplots.AxesSubplot at 0x1a1a4d7240>"
      ]
     },
     "execution_count": 17,
     "metadata": {},
     "output_type": "execute_result"
    },
    {
     "data": {
      "image/png": "[encoded data removed]",
      "text/plain": [
       "<Figure size 432x288 with 1 Axes>"
      ]
     },
     "metadata": {
      "needs_background": "light"
     },
     "output_type": "display_data"
    }
   ],
   "source": [
    "tr['JuvCount'].plot()"
   ]
  },
  {
   "cell_type": "markdown",
   "metadata": {},
   "source": [
    "A cumulative plot of juvenile removals shows an abrupt bump in mid-2014, and an increasing trend since 2018.\n",
    "\n",
    "Does mid-2014 bump reflect a data issue?"
   ]
  },
  {
   "cell_type": "code",
   "execution_count": 18,
   "metadata": {},
   "outputs": [
    {
     "data": {
      "text/plain": [
       "<matplotlib.axes._subplots.AxesSubplot at 0x1a23f52710>"
      ]
     },
     "execution_count": 18,
     "metadata": {},
     "output_type": "execute_result"
    },
    {
     "data": {
      "image/png": "[encoded data removed]",
      "text/plain": [
       "<Figure size 432x288 with 1 Axes>"
      ]
     },
     "metadata": {
      "needs_background": "light"
     },
     "output_type": "display_data"
    }
   ],
   "source": [
    "tr['JuvCount'].cumsum().plot()"
   ]
  },
  {
   "cell_type": "markdown",
   "metadata": {},
   "source": [
    "Given the frequency of transfer flights, especially during 2012-2015, it's harder to discern trends in percentages of transfers of juveniles, but we note many fewer since 2015."
   ]
  },
  {
   "cell_type": "code",
   "execution_count": 19,
   "metadata": {},
   "outputs": [
    {
     "data": {
      "text/plain": [
       "<matplotlib.axes._subplots.AxesSubplot at 0x1a240093c8>"
      ]
     },
     "execution_count": 19,
     "metadata": {},
     "output_type": "execute_result"
    },
    {
     "data": {
      "image/png": "[encoded data removed]",
      "text/plain": [
       "<Figure size 432x288 with 1 Axes>"
      ]
     },
     "metadata": {
      "needs_background": "light"
     },
     "output_type": "display_data"
    }
   ],
   "source": [
    "tt['JuvPercent'].plot()"
   ]
  },
  {
   "cell_type": "markdown",
   "metadata": {},
   "source": [
    "Looking at a smaller segment of the above plot with individual flights marked as points shows that this plot obscures overall trends, because there are often multiple flights on a given day."
   ]
  },
  {
   "cell_type": "code",
   "execution_count": 20,
   "metadata": {},
   "outputs": [
    {
     "data": {
      "text/plain": [
       "<matplotlib.axes._subplots.AxesSubplot at 0x1a2402f470>"
      ]
     },
     "execution_count": 20,
     "metadata": {},
     "output_type": "execute_result"
    },
    {
     "data": {
      "image/png": "[encoded data removed]",
      "text/plain": [
       "<Figure size 432x288 with 1 Axes>"
      ]
     },
     "metadata": {
      "needs_background": "light"
     },
     "output_type": "display_data"
    }
   ],
   "source": [
    "tt['2013-01']['JuvPercent'].plot(style='o-')"
   ]
  },
  {
   "cell_type": "markdown",
   "metadata": {},
   "source": [
    "Plot of absolute number of juveniles on transfer flights is much clearer, showing a huge surge of transfers of juveniles from mid-2013 through 2014. What might be driving that?"
   ]
  },
  {
   "cell_type": "code",
   "execution_count": 21,
   "metadata": {},
   "outputs": [
    {
     "data": {
      "text/plain": [
       "<matplotlib.axes._subplots.AxesSubplot at 0x1a1a815470>"
      ]
     },
     "execution_count": 21,
     "metadata": {},
     "output_type": "execute_result"
    },
    {
     "data": {
      "image/png": "[encoded data removed]",
      "text/plain": [
       "<Figure size 432x288 with 1 Axes>"
      ]
     },
     "metadata": {
      "needs_background": "light"
     },
     "output_type": "display_data"
    }
   ],
   "source": [
    "tt['JuvCount'].plot()"
   ]
  },
  {
   "cell_type": "markdown",
   "metadata": {},
   "source": [
    "Cumulative plot of juvenile transfers is striking, but very strange. Huge rate of juveniles transfered during 2013-2015, almost none since?"
   ]
  },
  {
   "cell_type": "code",
   "execution_count": 22,
   "metadata": {},
   "outputs": [
    {
     "data": {
      "text/plain": [
       "<matplotlib.axes._subplots.AxesSubplot at 0x1a221f0358>"
      ]
     },
     "execution_count": 22,
     "metadata": {},
     "output_type": "execute_result"
    },
    {
     "data": {
      "image/png": "[encoded data removed]",
      "text/plain": [
       "<Figure size 432x288 with 1 Axes>"
      ]
     },
     "metadata": {
      "needs_background": "light"
     },
     "output_type": "display_data"
    }
   ],
   "source": [
    "tt['JuvCount'].cumsum().plot()"
   ]
  },
  {
   "cell_type": "markdown",
   "metadata": {},
   "source": [
    "Isolating flights with only juvenile passengers. Most are just 1 individual, max 3. Does this really mean a flight that is otherwise empty, or does it imply some other kind of transportation? Or are we classifying flights wrong somehow?"
   ]
  },
  {
   "cell_type": "code",
   "execution_count": 23,
   "metadata": {},
   "outputs": [],
   "source": [
    "all_juv_transfers = tt[tt['JuvPercent'] == 1]\n",
    "all_juv_removals = tr[tr['JuvPercent'] == 1]"
   ]
  },
  {
   "cell_type": "code",
   "execution_count": 24,
   "metadata": {},
   "outputs": [
    {
     "name": "stdout",
     "output_type": "stream",
     "text": [
      "Removal flights with juveniles only: 9\n",
      "Mean passengers on juvenile-only removal flights: 1.3333333333333333\n",
      "Median passengers on juvenile-only removal flights: 1.0\n",
      "Max passengers on juvenile-only removal flights: 3.0\n"
     ]
    }
   ],
   "source": [
    "print(f\"Removal flights with juveniles only: {len(all_juv_removals)}\")\n",
    "print(f\"Mean passengers on juvenile-only removal flights: {all_juv_removals['JuvCount'].mean()}\")\n",
    "print(f\"Median passengers on juvenile-only removal flights: {all_juv_removals['JuvCount'].median()}\")\n",
    "print(f\"Max passengers on juvenile-only removal flights: {all_juv_removals['JuvCount'].max()}\")"
   ]
  },
  {
   "cell_type": "code",
   "execution_count": 25,
   "metadata": {},
   "outputs": [
    {
     "name": "stdout",
     "output_type": "stream",
     "text": [
      "Transfer flights with juveniles only: 88\n",
      "Mean passengers on juvenile-only transfer flights: 17.53409090909091\n",
      "Median passengers on juvenile-only transfer flights: 13.0\n",
      "Max passengers on juvenile-only transfer flights: 73.0\n"
     ]
    }
   ],
   "source": [
    "print(f\"Transfer flights with juveniles only: {len(all_juv_transfers)}\")\n",
    "print(f\"Mean passengers on juvenile-only transfer flights: {all_juv_transfers['JuvCount'].mean()}\")\n",
    "print(f\"Median passengers on juvenile-only transfer flights: {all_juv_transfers['JuvCount'].median()}\")\n",
    "print(f\"Max passengers on juvenile-only transfer flights: {all_juv_transfers['JuvCount'].max()}\")"
   ]
  },
  {
   "cell_type": "code",
   "execution_count": 26,
   "metadata": {},
   "outputs": [
    {
     "data": {
      "text/html": [
       "<div>\n",
       "<style scoped>\n",
       "    .dataframe tbody tr th:only-of-type {\n",
       "        vertical-align: middle;\n",
       "    }\n",
       "\n",
       "    .dataframe tbody tr th {\n",
       "        vertical-align: top;\n",
       "    }\n",
       "\n",
       "    .dataframe thead th {\n",
       "        text-align: right;\n",
       "    }\n",
       "</style>\n",
       "<table border=\"1\" class=\"dataframe\">\n",
       "  <thead>\n",
       "    <tr style=\"text-align: right;\">\n",
       "      <th></th>\n",
       "      <th>FiscalYear</th>\n",
       "      <th>MissionID</th>\n",
       "      <th>R-T</th>\n",
       "      <th>PULOC</th>\n",
       "      <th>DropLoc</th>\n",
       "      <th>AdultCount</th>\n",
       "      <th>JuvCount</th>\n",
       "      <th>TotalCount</th>\n",
       "      <th>JuvPercent</th>\n",
       "    </tr>\n",
       "    <tr>\n",
       "      <th>MissionDate</th>\n",
       "      <th></th>\n",
       "      <th></th>\n",
       "      <th></th>\n",
       "      <th></th>\n",
       "      <th></th>\n",
       "      <th></th>\n",
       "      <th></th>\n",
       "      <th></th>\n",
       "      <th></th>\n",
       "    </tr>\n",
       "  </thead>\n",
       "  <tbody>\n",
       "    <tr>\n",
       "      <th>2012-09-20</th>\n",
       "      <td>2011-10-01</td>\n",
       "      <td>4634</td>\n",
       "      <td>R</td>\n",
       "      <td>KMIA</td>\n",
       "      <td>MGGT</td>\n",
       "      <td>0.0</td>\n",
       "      <td>1.0</td>\n",
       "      <td>1.0</td>\n",
       "      <td>1.0</td>\n",
       "    </tr>\n",
       "    <tr>\n",
       "      <th>2012-10-18</th>\n",
       "      <td>2012-10-01</td>\n",
       "      <td>4835</td>\n",
       "      <td>R</td>\n",
       "      <td>KMIA</td>\n",
       "      <td>MGGT</td>\n",
       "      <td>0.0</td>\n",
       "      <td>3.0</td>\n",
       "      <td>3.0</td>\n",
       "      <td>1.0</td>\n",
       "    </tr>\n",
       "    <tr>\n",
       "      <th>2014-08-12</th>\n",
       "      <td>2013-10-01</td>\n",
       "      <td>9212</td>\n",
       "      <td>R</td>\n",
       "      <td>KSAT</td>\n",
       "      <td>MGGT</td>\n",
       "      <td>0.0</td>\n",
       "      <td>1.0</td>\n",
       "      <td>1.0</td>\n",
       "      <td>1.0</td>\n",
       "    </tr>\n",
       "    <tr>\n",
       "      <th>2014-09-12</th>\n",
       "      <td>2013-10-01</td>\n",
       "      <td>9411</td>\n",
       "      <td>R</td>\n",
       "      <td>KSAT</td>\n",
       "      <td>MGGT</td>\n",
       "      <td>0.0</td>\n",
       "      <td>1.0</td>\n",
       "      <td>1.0</td>\n",
       "      <td>1.0</td>\n",
       "    </tr>\n",
       "    <tr>\n",
       "      <th>2015-10-14</th>\n",
       "      <td>2015-10-01</td>\n",
       "      <td>11365</td>\n",
       "      <td>R</td>\n",
       "      <td>KSAT</td>\n",
       "      <td>MGGT</td>\n",
       "      <td>0.0</td>\n",
       "      <td>1.0</td>\n",
       "      <td>1.0</td>\n",
       "      <td>1.0</td>\n",
       "    </tr>\n",
       "    <tr>\n",
       "      <th>2016-04-05</th>\n",
       "      <td>2015-10-01</td>\n",
       "      <td>12277</td>\n",
       "      <td>R</td>\n",
       "      <td>KLRD</td>\n",
       "      <td>MGGT</td>\n",
       "      <td>0.0</td>\n",
       "      <td>1.0</td>\n",
       "      <td>1.0</td>\n",
       "      <td>1.0</td>\n",
       "    </tr>\n",
       "    <tr>\n",
       "      <th>2017-06-08</th>\n",
       "      <td>2016-10-01</td>\n",
       "      <td>39135</td>\n",
       "      <td>R</td>\n",
       "      <td>KBRO</td>\n",
       "      <td>MGGT</td>\n",
       "      <td>0.0</td>\n",
       "      <td>2.0</td>\n",
       "      <td>2.0</td>\n",
       "      <td>1.0</td>\n",
       "    </tr>\n",
       "    <tr>\n",
       "      <th>2018-04-02</th>\n",
       "      <td>2017-10-01</td>\n",
       "      <td>46205</td>\n",
       "      <td>R</td>\n",
       "      <td>KSAT</td>\n",
       "      <td>MGGT</td>\n",
       "      <td>0.0</td>\n",
       "      <td>1.0</td>\n",
       "      <td>1.0</td>\n",
       "      <td>1.0</td>\n",
       "    </tr>\n",
       "    <tr>\n",
       "      <th>2018-07-13</th>\n",
       "      <td>2017-10-01</td>\n",
       "      <td>46720</td>\n",
       "      <td>R</td>\n",
       "      <td>KSAT</td>\n",
       "      <td>MGGT</td>\n",
       "      <td>0.0</td>\n",
       "      <td>1.0</td>\n",
       "      <td>1.0</td>\n",
       "      <td>1.0</td>\n",
       "    </tr>\n",
       "  </tbody>\n",
       "</table>\n",
       "</div>"
      ],
      "text/plain": [
       "            FiscalYear  MissionID R-T PULOC DropLoc  AdultCount  JuvCount  \\\n",
       "MissionDate                                                                 \n",
       "2012-09-20  2011-10-01       4634   R  KMIA    MGGT         0.0       1.0   \n",
       "2012-10-18  2012-10-01       4835   R  KMIA    MGGT         0.0       3.0   \n",
       "2014-08-12  2013-10-01       9212   R  KSAT    MGGT         0.0       1.0   \n",
       "2014-09-12  2013-10-01       9411   R  KSAT    MGGT         0.0       1.0   \n",
       "2015-10-14  2015-10-01      11365   R  KSAT    MGGT         0.0       1.0   \n",
       "2016-04-05  2015-10-01      12277   R  KLRD    MGGT         0.0       1.0   \n",
       "2017-06-08  2016-10-01      39135   R  KBRO    MGGT         0.0       2.0   \n",
       "2018-04-02  2017-10-01      46205   R  KSAT    MGGT         0.0       1.0   \n",
       "2018-07-13  2017-10-01      46720   R  KSAT    MGGT         0.0       1.0   \n",
       "\n",
       "             TotalCount  JuvPercent  \n",
       "MissionDate                          \n",
       "2012-09-20          1.0         1.0  \n",
       "2012-10-18          3.0         1.0  \n",
       "2014-08-12          1.0         1.0  \n",
       "2014-09-12          1.0         1.0  \n",
       "2015-10-14          1.0         1.0  \n",
       "2016-04-05          1.0         1.0  \n",
       "2017-06-08          2.0         1.0  \n",
       "2018-04-02          1.0         1.0  \n",
       "2018-07-13          1.0         1.0  "
      ]
     },
     "execution_count": 26,
     "metadata": {},
     "output_type": "execute_result"
    }
   ],
   "source": [
    "all_juv_removals"
   ]
  },
  {
   "cell_type": "code",
   "execution_count": 27,
   "metadata": {},
   "outputs": [
    {
     "data": {
      "text/plain": [
       "R             116\n",
       "No-show         0\n",
       "Ineligible      0\n",
       "T               0\n",
       "Name: R-T, dtype: int64"
      ]
     },
     "execution_count": 27,
     "metadata": {},
     "output_type": "execute_result"
    }
   ],
   "source": [
    "df[df['MissionID'] == 4634]['R-T'].value_counts()"
   ]
  },
  {
   "cell_type": "markdown",
   "metadata": {},
   "source": [
    "# Juveniles by specific nationality"
   ]
  },
  {
   "cell_type": "markdown",
   "metadata": {},
   "source": [
    "First we group records by CountryOfCitizenship, Fiscal Year and MissionDate, MissionID, Removal or Transfer status, Pickup/Dropoff Location, and juvenile status."
   ]
  },
  {
   "cell_type": "code",
   "execution_count": 28,
   "metadata": {},
   "outputs": [
    {
     "data": {
      "text/html": [
       "<div>\n",
       "<style scoped>\n",
       "    .dataframe tbody tr th:only-of-type {\n",
       "        vertical-align: middle;\n",
       "    }\n",
       "\n",
       "    .dataframe tbody tr th {\n",
       "        vertical-align: top;\n",
       "    }\n",
       "\n",
       "    .dataframe thead th {\n",
       "        text-align: right;\n",
       "    }\n",
       "</style>\n",
       "<table border=\"1\" class=\"dataframe\">\n",
       "  <thead>\n",
       "    <tr style=\"text-align: right;\">\n",
       "      <th></th>\n",
       "      <th>CountryOfCitizenship</th>\n",
       "      <th>FiscalYear</th>\n",
       "      <th>MissionID</th>\n",
       "      <th>R-T</th>\n",
       "      <th>PULOC</th>\n",
       "      <th>DropLoc</th>\n",
       "      <th>AdultCount</th>\n",
       "      <th>JuvCount</th>\n",
       "      <th>TotalCount</th>\n",
       "      <th>JuvPercent</th>\n",
       "    </tr>\n",
       "    <tr>\n",
       "      <th>MissionDate</th>\n",
       "      <th></th>\n",
       "      <th></th>\n",
       "      <th></th>\n",
       "      <th></th>\n",
       "      <th></th>\n",
       "      <th></th>\n",
       "      <th></th>\n",
       "      <th></th>\n",
       "      <th></th>\n",
       "      <th></th>\n",
       "    </tr>\n",
       "  </thead>\n",
       "  <tbody>\n",
       "    <tr>\n",
       "      <th>2010-10-14</th>\n",
       "      <td>ALGERIA</td>\n",
       "      <td>2010-10-01</td>\n",
       "      <td>182</td>\n",
       "      <td>T</td>\n",
       "      <td>KMDT</td>\n",
       "      <td>KHRL</td>\n",
       "      <td>1.0</td>\n",
       "      <td>0.0</td>\n",
       "      <td>1.0</td>\n",
       "      <td>0.0</td>\n",
       "    </tr>\n",
       "    <tr>\n",
       "      <th>2010-10-15</th>\n",
       "      <td>ALGERIA</td>\n",
       "      <td>2010-10-01</td>\n",
       "      <td>187</td>\n",
       "      <td>T</td>\n",
       "      <td>KBFL</td>\n",
       "      <td>KIWA</td>\n",
       "      <td>1.0</td>\n",
       "      <td>0.0</td>\n",
       "      <td>1.0</td>\n",
       "      <td>0.0</td>\n",
       "    </tr>\n",
       "    <tr>\n",
       "      <th>2011-01-31</th>\n",
       "      <td>ALGERIA</td>\n",
       "      <td>2010-10-01</td>\n",
       "      <td>769</td>\n",
       "      <td>T</td>\n",
       "      <td>KAEX</td>\n",
       "      <td>KMDT</td>\n",
       "      <td>1.0</td>\n",
       "      <td>0.0</td>\n",
       "      <td>1.0</td>\n",
       "      <td>0.0</td>\n",
       "    </tr>\n",
       "    <tr>\n",
       "      <th>2012-12-18</th>\n",
       "      <td>ALGERIA</td>\n",
       "      <td>2012-10-01</td>\n",
       "      <td>5297</td>\n",
       "      <td>T</td>\n",
       "      <td>KEWR</td>\n",
       "      <td>KAEX</td>\n",
       "      <td>1.0</td>\n",
       "      <td>0.0</td>\n",
       "      <td>1.0</td>\n",
       "      <td>0.0</td>\n",
       "    </tr>\n",
       "    <tr>\n",
       "      <th>2014-07-14</th>\n",
       "      <td>ALGERIA</td>\n",
       "      <td>2013-10-01</td>\n",
       "      <td>9022</td>\n",
       "      <td>T</td>\n",
       "      <td>KEWR</td>\n",
       "      <td>KAEX</td>\n",
       "      <td>1.0</td>\n",
       "      <td>0.0</td>\n",
       "      <td>1.0</td>\n",
       "      <td>0.0</td>\n",
       "    </tr>\n",
       "  </tbody>\n",
       "</table>\n",
       "</div>"
      ],
      "text/plain": [
       "            CountryOfCitizenship FiscalYear  MissionID R-T PULOC DropLoc  \\\n",
       "MissionDate                                                                \n",
       "2010-10-14               ALGERIA 2010-10-01        182   T  KMDT    KHRL   \n",
       "2010-10-15               ALGERIA 2010-10-01        187   T  KBFL    KIWA   \n",
       "2011-01-31               ALGERIA 2010-10-01        769   T  KAEX    KMDT   \n",
       "2012-12-18               ALGERIA 2012-10-01       5297   T  KEWR    KAEX   \n",
       "2014-07-14               ALGERIA 2013-10-01       9022   T  KEWR    KAEX   \n",
       "\n",
       "             AdultCount  JuvCount  TotalCount  JuvPercent  \n",
       "MissionDate                                                \n",
       "2010-10-14          1.0       0.0         1.0         0.0  \n",
       "2010-10-15          1.0       0.0         1.0         0.0  \n",
       "2011-01-31          1.0       0.0         1.0         0.0  \n",
       "2012-12-18          1.0       0.0         1.0         0.0  \n",
       "2014-07-14          1.0       0.0         1.0         0.0  "
      ]
     },
     "execution_count": 28,
     "metadata": {},
     "output_type": "execute_result"
    }
   ],
   "source": [
    "g_nat = df.groupby(['CountryOfCitizenship', pd.Grouper(freq='AS-OCT'), 'MissionDate', 'MissionID', 'R-T', 'PULOC', 'DropLoc', 'Juvenile'])\n",
    "t_nat = g_nat.agg({'AlienMasterID': pd.Series.nunique}) # Counting unique AlienMasterID values per flight\n",
    "\n",
    "t_nat = t_nat.unstack('Juvenile') # Splitting our count of unique AlienMasterIDs into categories by juvenile status\n",
    "t_nat = t_nat['AlienMasterID'].reset_index() # There's probably a better way of doing this than `reset_axis()`\n",
    "\n",
    "t_nat.columns.name = None\n",
    "t_nat = t_nat.rename({False: 'AdultCount', True: 'JuvCount'}, axis=1)\n",
    "\n",
    "t_nat[['AdultCount', 'JuvCount']] = t_nat[['AdultCount', 'JuvCount']].fillna(0)\n",
    "t_nat['TotalCount'] = t_nat['AdultCount'] + t_nat['JuvCount']\n",
    "t_nat['JuvPercent'] = t_nat['JuvCount'] / t_nat['TotalCount']\n",
    "\n",
    "t_nat.set_index('MissionDate', inplace=True)\n",
    "t_nat.head()"
   ]
  },
  {
   "cell_type": "code",
   "execution_count": 29,
   "metadata": {},
   "outputs": [],
   "source": [
    "tr_nat = t_nat[t_nat['R-T'] == 'R'].copy()\n",
    "tr_nat.sort_index(inplace=True)\n",
    "tt_nat = t_nat[t_nat['R-T'] == 'T'].copy()\n",
    "tt_nat.sort_index(inplace=True)"
   ]
  },
  {
   "cell_type": "markdown",
   "metadata": {},
   "source": [
    "Subsequent cells will retrieve data, primarily focusing on removals, for the target nationality. Remember only a small number of nationalities have a significant number of removals of juveniles."
   ]
  },
  {
   "cell_type": "code",
   "execution_count": 30,
   "metadata": {},
   "outputs": [],
   "source": [
    "nationality = 'GUATEMALA'"
   ]
  },
  {
   "cell_type": "code",
   "execution_count": 31,
   "metadata": {},
   "outputs": [],
   "source": [
    "if nationality.upper() in df['CountryOfCitizenship'].str.upper().unique():\n",
    "    pass\n",
    "else:\n",
    "    print(f'{nationality} not represented in dataset')"
   ]
  },
  {
   "cell_type": "code",
   "execution_count": 32,
   "metadata": {},
   "outputs": [],
   "source": [
    "nat_removals = tr_nat[tr_nat['CountryOfCitizenship'] == nationality.upper()].copy()\n",
    "nat_transfers = tt_nat[tt_nat['CountryOfCitizenship'] == nationality.upper()].copy()"
   ]
  },
  {
   "cell_type": "code",
   "execution_count": 33,
   "metadata": {},
   "outputs": [
    {
     "data": {
      "text/html": [
       "<div>\n",
       "<style scoped>\n",
       "    .dataframe tbody tr th:only-of-type {\n",
       "        vertical-align: middle;\n",
       "    }\n",
       "\n",
       "    .dataframe tbody tr th {\n",
       "        vertical-align: top;\n",
       "    }\n",
       "\n",
       "    .dataframe thead th {\n",
       "        text-align: right;\n",
       "    }\n",
       "</style>\n",
       "<table border=\"1\" class=\"dataframe\">\n",
       "  <thead>\n",
       "    <tr style=\"text-align: right;\">\n",
       "      <th></th>\n",
       "      <th>CountryOfCitizenship</th>\n",
       "      <th>FiscalYear</th>\n",
       "      <th>MissionID</th>\n",
       "      <th>R-T</th>\n",
       "      <th>PULOC</th>\n",
       "      <th>DropLoc</th>\n",
       "      <th>AdultCount</th>\n",
       "      <th>JuvCount</th>\n",
       "      <th>TotalCount</th>\n",
       "      <th>JuvPercent</th>\n",
       "    </tr>\n",
       "    <tr>\n",
       "      <th>MissionDate</th>\n",
       "      <th></th>\n",
       "      <th></th>\n",
       "      <th></th>\n",
       "      <th></th>\n",
       "      <th></th>\n",
       "      <th></th>\n",
       "      <th></th>\n",
       "      <th></th>\n",
       "      <th></th>\n",
       "      <th></th>\n",
       "    </tr>\n",
       "  </thead>\n",
       "  <tbody>\n",
       "    <tr>\n",
       "      <th>2010-10-01</th>\n",
       "      <td>GUATEMALA</td>\n",
       "      <td>2010-10-01</td>\n",
       "      <td>132</td>\n",
       "      <td>R</td>\n",
       "      <td>KIWA</td>\n",
       "      <td>MGGT</td>\n",
       "      <td>121.0</td>\n",
       "      <td>0.0</td>\n",
       "      <td>121.0</td>\n",
       "      <td>0.000000</td>\n",
       "    </tr>\n",
       "    <tr>\n",
       "      <th>2010-10-01</th>\n",
       "      <td>GUATEMALA</td>\n",
       "      <td>2010-10-01</td>\n",
       "      <td>106</td>\n",
       "      <td>R</td>\n",
       "      <td>KSAT</td>\n",
       "      <td>MGGT</td>\n",
       "      <td>37.0</td>\n",
       "      <td>0.0</td>\n",
       "      <td>37.0</td>\n",
       "      <td>0.000000</td>\n",
       "    </tr>\n",
       "    <tr>\n",
       "      <th>2010-10-01</th>\n",
       "      <td>GUATEMALA</td>\n",
       "      <td>2010-10-01</td>\n",
       "      <td>106</td>\n",
       "      <td>R</td>\n",
       "      <td>KHRL</td>\n",
       "      <td>MGGT</td>\n",
       "      <td>67.0</td>\n",
       "      <td>0.0</td>\n",
       "      <td>67.0</td>\n",
       "      <td>0.000000</td>\n",
       "    </tr>\n",
       "    <tr>\n",
       "      <th>2010-10-04</th>\n",
       "      <td>GUATEMALA</td>\n",
       "      <td>2010-10-01</td>\n",
       "      <td>112</td>\n",
       "      <td>R</td>\n",
       "      <td>KMIA</td>\n",
       "      <td>MGGT</td>\n",
       "      <td>42.0</td>\n",
       "      <td>4.0</td>\n",
       "      <td>46.0</td>\n",
       "      <td>0.086957</td>\n",
       "    </tr>\n",
       "    <tr>\n",
       "      <th>2010-10-05</th>\n",
       "      <td>GUATEMALA</td>\n",
       "      <td>2010-10-01</td>\n",
       "      <td>115</td>\n",
       "      <td>R</td>\n",
       "      <td>KELP</td>\n",
       "      <td>MGGT</td>\n",
       "      <td>23.0</td>\n",
       "      <td>0.0</td>\n",
       "      <td>23.0</td>\n",
       "      <td>0.000000</td>\n",
       "    </tr>\n",
       "  </tbody>\n",
       "</table>\n",
       "</div>"
      ],
      "text/plain": [
       "            CountryOfCitizenship FiscalYear  MissionID R-T PULOC DropLoc  \\\n",
       "MissionDate                                                                \n",
       "2010-10-01             GUATEMALA 2010-10-01        132   R  KIWA    MGGT   \n",
       "2010-10-01             GUATEMALA 2010-10-01        106   R  KSAT    MGGT   \n",
       "2010-10-01             GUATEMALA 2010-10-01        106   R  KHRL    MGGT   \n",
       "2010-10-04             GUATEMALA 2010-10-01        112   R  KMIA    MGGT   \n",
       "2010-10-05             GUATEMALA 2010-10-01        115   R  KELP    MGGT   \n",
       "\n",
       "             AdultCount  JuvCount  TotalCount  JuvPercent  \n",
       "MissionDate                                                \n",
       "2010-10-01        121.0       0.0       121.0    0.000000  \n",
       "2010-10-01         37.0       0.0        37.0    0.000000  \n",
       "2010-10-01         67.0       0.0        67.0    0.000000  \n",
       "2010-10-04         42.0       4.0        46.0    0.086957  \n",
       "2010-10-05         23.0       0.0        23.0    0.000000  "
      ]
     },
     "execution_count": 33,
     "metadata": {},
     "output_type": "execute_result"
    }
   ],
   "source": [
    "nat_removals.head()"
   ]
  },
  {
   "cell_type": "code",
   "execution_count": 34,
   "metadata": {},
   "outputs": [],
   "source": [
    "nat_annual = nat_removals.groupby(['FiscalYear', 'CountryOfCitizenship'])[['JuvCount', 'TotalCount']].sum().dropna()"
   ]
  },
  {
   "cell_type": "code",
   "execution_count": 35,
   "metadata": {},
   "outputs": [],
   "source": [
    "nat_annual['JuvPercent'] = nat_annual['JuvCount'] / nat_annual['TotalCount'] *100"
   ]
  },
  {
   "cell_type": "code",
   "execution_count": 36,
   "metadata": {},
   "outputs": [],
   "source": [
    "nat_annual = nat_annual.reset_index()\n",
    "nat_annual.set_index('FiscalYear', inplace=True)"
   ]
  },
  {
   "cell_type": "code",
   "execution_count": 37,
   "metadata": {},
   "outputs": [],
   "source": [
    "nat_annual.to_csv(f'../output/{nationality}_annual_juv_versus_total.csv')"
   ]
  },
  {
   "cell_type": "code",
   "execution_count": 38,
   "metadata": {
    "scrolled": true
   },
   "outputs": [
    {
     "data": {
      "text/plain": [
       "<matplotlib.axes._subplots.AxesSubplot at 0x1a22004208>"
      ]
     },
     "execution_count": 38,
     "metadata": {},
     "output_type": "execute_result"
    },
    {
     "data": {
      "image/png": "[encoded data removed]",
      "text/plain": [
       "<Figure size 432x288 with 1 Axes>"
      ]
     },
     "metadata": {
      "needs_background": "light"
     },
     "output_type": "display_data"
    }
   ],
   "source": [
    "nat_annual['JuvPercent'].plot()"
   ]
  },
  {
   "cell_type": "code",
   "execution_count": 39,
   "metadata": {},
   "outputs": [
    {
     "data": {
      "text/plain": [
       "<matplotlib.axes._subplots.AxesSubplot at 0x1a1a702240>"
      ]
     },
     "execution_count": 39,
     "metadata": {},
     "output_type": "execute_result"
    },
    {
     "data": {
      "image/png": "[encoded data removed]",
      "text/plain": [
       "<Figure size 432x288 with 1 Axes>"
      ]
     },
     "metadata": {
      "needs_background": "light"
     },
     "output_type": "display_data"
    }
   ],
   "source": [
    "nat_removals['JuvCount'].cumsum().plot()"
   ]
  },
  {
   "cell_type": "code",
   "execution_count": 40,
   "metadata": {},
   "outputs": [
    {
     "data": {
      "image/png": "[encoded data removed]",
      "text/plain": [
       "<Figure size 432x288 with 1 Axes>"
      ]
     },
     "metadata": {
      "needs_background": "light"
     },
     "output_type": "display_data"
    }
   ],
   "source": [
    "r_cum = nat_removals['TotalCount'].cumsum()\n",
    "t_cum = nat_removals['TotalCount'].cumsum()\n",
    "\n",
    "r_cum.plot();"
   ]
  },
  {
   "cell_type": "code",
   "execution_count": 41,
   "metadata": {},
   "outputs": [
    {
     "data": {
      "text/plain": [
       "<matplotlib.axes._subplots.AxesSubplot at 0x1a1a10a550>"
      ]
     },
     "execution_count": 41,
     "metadata": {},
     "output_type": "execute_result"
    },
    {
     "data": {
      "image/png": "[encoded data removed]",
      "text/plain": [
       "<Figure size 432x288 with 1 Axes>"
      ]
     },
     "metadata": {
      "needs_background": "light"
     },
     "output_type": "display_data"
    }
   ],
   "source": [
    "juv_r_cum = nat_removals['JuvCount'].cumsum()\n",
    "\n",
    "juv_r_cum.plot()"
   ]
  },
  {
   "cell_type": "code",
   "execution_count": 42,
   "metadata": {},
   "outputs": [
    {
     "data": {
      "text/plain": [
       "25.0"
      ]
     },
     "execution_count": 42,
     "metadata": {},
     "output_type": "execute_result"
    }
   ],
   "source": [
    "nat_removals['JuvCount'].max()"
   ]
  },
  {
   "cell_type": "code",
   "execution_count": 43,
   "metadata": {},
   "outputs": [
    {
     "data": {
      "image/png": "[encoded data removed]",
      "text/plain": [
       "<Figure size 432x288 with 1 Axes>"
      ]
     },
     "metadata": {
      "needs_background": "light"
     },
     "output_type": "display_data"
    }
   ],
   "source": [
    "nat_removals['JuvPercent'].plot();"
   ]
  },
  {
   "cell_type": "code",
   "execution_count": 44,
   "metadata": {},
   "outputs": [
    {
     "data": {
      "text/html": [
       "<div>\n",
       "<style scoped>\n",
       "    .dataframe tbody tr th:only-of-type {\n",
       "        vertical-align: middle;\n",
       "    }\n",
       "\n",
       "    .dataframe tbody tr th {\n",
       "        vertical-align: top;\n",
       "    }\n",
       "\n",
       "    .dataframe thead th {\n",
       "        text-align: right;\n",
       "    }\n",
       "</style>\n",
       "<table border=\"1\" class=\"dataframe\">\n",
       "  <thead>\n",
       "    <tr style=\"text-align: right;\">\n",
       "      <th></th>\n",
       "      <th>CountryOfCitizenship</th>\n",
       "      <th>FiscalYear</th>\n",
       "      <th>MissionID</th>\n",
       "      <th>R-T</th>\n",
       "      <th>PULOC</th>\n",
       "      <th>DropLoc</th>\n",
       "      <th>AdultCount</th>\n",
       "      <th>JuvCount</th>\n",
       "      <th>TotalCount</th>\n",
       "      <th>JuvPercent</th>\n",
       "    </tr>\n",
       "    <tr>\n",
       "      <th>MissionDate</th>\n",
       "      <th></th>\n",
       "      <th></th>\n",
       "      <th></th>\n",
       "      <th></th>\n",
       "      <th></th>\n",
       "      <th></th>\n",
       "      <th></th>\n",
       "      <th></th>\n",
       "      <th></th>\n",
       "      <th></th>\n",
       "    </tr>\n",
       "  </thead>\n",
       "  <tbody>\n",
       "    <tr>\n",
       "      <th>2012-09-20</th>\n",
       "      <td>GUATEMALA</td>\n",
       "      <td>2011-10-01</td>\n",
       "      <td>4634</td>\n",
       "      <td>R</td>\n",
       "      <td>KMIA</td>\n",
       "      <td>MGGT</td>\n",
       "      <td>0.0</td>\n",
       "      <td>1.0</td>\n",
       "      <td>1.0</td>\n",
       "      <td>1.0</td>\n",
       "    </tr>\n",
       "    <tr>\n",
       "      <th>2012-10-18</th>\n",
       "      <td>GUATEMALA</td>\n",
       "      <td>2012-10-01</td>\n",
       "      <td>4835</td>\n",
       "      <td>R</td>\n",
       "      <td>KMIA</td>\n",
       "      <td>MGGT</td>\n",
       "      <td>0.0</td>\n",
       "      <td>3.0</td>\n",
       "      <td>3.0</td>\n",
       "      <td>1.0</td>\n",
       "    </tr>\n",
       "    <tr>\n",
       "      <th>2014-08-12</th>\n",
       "      <td>GUATEMALA</td>\n",
       "      <td>2013-10-01</td>\n",
       "      <td>9212</td>\n",
       "      <td>R</td>\n",
       "      <td>KSAT</td>\n",
       "      <td>MGGT</td>\n",
       "      <td>0.0</td>\n",
       "      <td>1.0</td>\n",
       "      <td>1.0</td>\n",
       "      <td>1.0</td>\n",
       "    </tr>\n",
       "    <tr>\n",
       "      <th>2014-09-12</th>\n",
       "      <td>GUATEMALA</td>\n",
       "      <td>2013-10-01</td>\n",
       "      <td>9411</td>\n",
       "      <td>R</td>\n",
       "      <td>KSAT</td>\n",
       "      <td>MGGT</td>\n",
       "      <td>0.0</td>\n",
       "      <td>1.0</td>\n",
       "      <td>1.0</td>\n",
       "      <td>1.0</td>\n",
       "    </tr>\n",
       "    <tr>\n",
       "      <th>2015-10-14</th>\n",
       "      <td>GUATEMALA</td>\n",
       "      <td>2015-10-01</td>\n",
       "      <td>11365</td>\n",
       "      <td>R</td>\n",
       "      <td>KSAT</td>\n",
       "      <td>MGGT</td>\n",
       "      <td>0.0</td>\n",
       "      <td>1.0</td>\n",
       "      <td>1.0</td>\n",
       "      <td>1.0</td>\n",
       "    </tr>\n",
       "    <tr>\n",
       "      <th>2016-04-05</th>\n",
       "      <td>GUATEMALA</td>\n",
       "      <td>2015-10-01</td>\n",
       "      <td>12277</td>\n",
       "      <td>R</td>\n",
       "      <td>KLRD</td>\n",
       "      <td>MGGT</td>\n",
       "      <td>0.0</td>\n",
       "      <td>1.0</td>\n",
       "      <td>1.0</td>\n",
       "      <td>1.0</td>\n",
       "    </tr>\n",
       "    <tr>\n",
       "      <th>2017-06-08</th>\n",
       "      <td>GUATEMALA</td>\n",
       "      <td>2016-10-01</td>\n",
       "      <td>39135</td>\n",
       "      <td>R</td>\n",
       "      <td>KBRO</td>\n",
       "      <td>MGGT</td>\n",
       "      <td>0.0</td>\n",
       "      <td>2.0</td>\n",
       "      <td>2.0</td>\n",
       "      <td>1.0</td>\n",
       "    </tr>\n",
       "    <tr>\n",
       "      <th>2018-04-02</th>\n",
       "      <td>GUATEMALA</td>\n",
       "      <td>2017-10-01</td>\n",
       "      <td>46205</td>\n",
       "      <td>R</td>\n",
       "      <td>KSAT</td>\n",
       "      <td>MGGT</td>\n",
       "      <td>0.0</td>\n",
       "      <td>1.0</td>\n",
       "      <td>1.0</td>\n",
       "      <td>1.0</td>\n",
       "    </tr>\n",
       "    <tr>\n",
       "      <th>2018-07-13</th>\n",
       "      <td>GUATEMALA</td>\n",
       "      <td>2017-10-01</td>\n",
       "      <td>46720</td>\n",
       "      <td>R</td>\n",
       "      <td>KSAT</td>\n",
       "      <td>MGGT</td>\n",
       "      <td>0.0</td>\n",
       "      <td>1.0</td>\n",
       "      <td>1.0</td>\n",
       "      <td>1.0</td>\n",
       "    </tr>\n",
       "  </tbody>\n",
       "</table>\n",
       "</div>"
      ],
      "text/plain": [
       "            CountryOfCitizenship FiscalYear  MissionID R-T PULOC DropLoc  \\\n",
       "MissionDate                                                                \n",
       "2012-09-20             GUATEMALA 2011-10-01       4634   R  KMIA    MGGT   \n",
       "2012-10-18             GUATEMALA 2012-10-01       4835   R  KMIA    MGGT   \n",
       "2014-08-12             GUATEMALA 2013-10-01       9212   R  KSAT    MGGT   \n",
       "2014-09-12             GUATEMALA 2013-10-01       9411   R  KSAT    MGGT   \n",
       "2015-10-14             GUATEMALA 2015-10-01      11365   R  KSAT    MGGT   \n",
       "2016-04-05             GUATEMALA 2015-10-01      12277   R  KLRD    MGGT   \n",
       "2017-06-08             GUATEMALA 2016-10-01      39135   R  KBRO    MGGT   \n",
       "2018-04-02             GUATEMALA 2017-10-01      46205   R  KSAT    MGGT   \n",
       "2018-07-13             GUATEMALA 2017-10-01      46720   R  KSAT    MGGT   \n",
       "\n",
       "             AdultCount  JuvCount  TotalCount  JuvPercent  \n",
       "MissionDate                                                \n",
       "2012-09-20          0.0       1.0         1.0         1.0  \n",
       "2012-10-18          0.0       3.0         3.0         1.0  \n",
       "2014-08-12          0.0       1.0         1.0         1.0  \n",
       "2014-09-12          0.0       1.0         1.0         1.0  \n",
       "2015-10-14          0.0       1.0         1.0         1.0  \n",
       "2016-04-05          0.0       1.0         1.0         1.0  \n",
       "2017-06-08          0.0       2.0         2.0         1.0  \n",
       "2018-04-02          0.0       1.0         1.0         1.0  \n",
       "2018-07-13          0.0       1.0         1.0         1.0  "
      ]
     },
     "execution_count": 44,
     "metadata": {},
     "output_type": "execute_result"
    }
   ],
   "source": [
    "nat_removals[nat_removals['JuvPercent'] == 1]"
   ]
  },
  {
   "cell_type": "code",
   "execution_count": 45,
   "metadata": {},
   "outputs": [],
   "source": [
    "only_nat_juveniles = list(nat_removals[nat_removals['JuvPercent'] == 1]['MissionID'])"
   ]
  },
  {
   "cell_type": "code",
   "execution_count": 46,
   "metadata": {},
   "outputs": [
    {
     "data": {
      "text/plain": [
       "[4634, 4835, 9212, 9411, 11365, 12277, 39135, 46205, 46720]"
      ]
     },
     "execution_count": 46,
     "metadata": {},
     "output_type": "execute_result"
    }
   ],
   "source": [
    "only_nat_juveniles"
   ]
  },
  {
   "cell_type": "code",
   "execution_count": 47,
   "metadata": {
    "scrolled": true
   },
   "outputs": [
    {
     "data": {
      "text/html": [
       "<div>\n",
       "<style scoped>\n",
       "    .dataframe tbody tr th:only-of-type {\n",
       "        vertical-align: middle;\n",
       "    }\n",
       "\n",
       "    .dataframe tbody tr th {\n",
       "        vertical-align: top;\n",
       "    }\n",
       "\n",
       "    .dataframe thead th {\n",
       "        text-align: right;\n",
       "    }\n",
       "</style>\n",
       "<table border=\"1\" class=\"dataframe\">\n",
       "  <thead>\n",
       "    <tr style=\"text-align: right;\">\n",
       "      <th></th>\n",
       "      <th>FiscalYear</th>\n",
       "      <th>MissionID</th>\n",
       "      <th>R-T</th>\n",
       "      <th>PULOC</th>\n",
       "      <th>DropLoc</th>\n",
       "      <th>AdultCount</th>\n",
       "      <th>JuvCount</th>\n",
       "      <th>TotalCount</th>\n",
       "      <th>JuvPercent</th>\n",
       "    </tr>\n",
       "    <tr>\n",
       "      <th>MissionDate</th>\n",
       "      <th></th>\n",
       "      <th></th>\n",
       "      <th></th>\n",
       "      <th></th>\n",
       "      <th></th>\n",
       "      <th></th>\n",
       "      <th></th>\n",
       "      <th></th>\n",
       "      <th></th>\n",
       "    </tr>\n",
       "  </thead>\n",
       "  <tbody>\n",
       "    <tr>\n",
       "      <th>2012-09-20</th>\n",
       "      <td>2011-10-01</td>\n",
       "      <td>4634</td>\n",
       "      <td>R</td>\n",
       "      <td>KAEX</td>\n",
       "      <td>MGGT</td>\n",
       "      <td>115.0</td>\n",
       "      <td>0.0</td>\n",
       "      <td>115.0</td>\n",
       "      <td>0.000000</td>\n",
       "    </tr>\n",
       "    <tr>\n",
       "      <th>2012-09-20</th>\n",
       "      <td>2011-10-01</td>\n",
       "      <td>4634</td>\n",
       "      <td>R</td>\n",
       "      <td>KMIA</td>\n",
       "      <td>MGGT</td>\n",
       "      <td>0.0</td>\n",
       "      <td>1.0</td>\n",
       "      <td>1.0</td>\n",
       "      <td>1.000000</td>\n",
       "    </tr>\n",
       "    <tr>\n",
       "      <th>2012-10-18</th>\n",
       "      <td>2012-10-01</td>\n",
       "      <td>4835</td>\n",
       "      <td>R</td>\n",
       "      <td>KAEX</td>\n",
       "      <td>MGGT</td>\n",
       "      <td>123.0</td>\n",
       "      <td>0.0</td>\n",
       "      <td>123.0</td>\n",
       "      <td>0.000000</td>\n",
       "    </tr>\n",
       "    <tr>\n",
       "      <th>2012-10-18</th>\n",
       "      <td>2012-10-01</td>\n",
       "      <td>4835</td>\n",
       "      <td>R</td>\n",
       "      <td>KMIA</td>\n",
       "      <td>MGGT</td>\n",
       "      <td>0.0</td>\n",
       "      <td>3.0</td>\n",
       "      <td>3.0</td>\n",
       "      <td>1.000000</td>\n",
       "    </tr>\n",
       "    <tr>\n",
       "      <th>2012-10-18</th>\n",
       "      <td>2012-10-01</td>\n",
       "      <td>4835</td>\n",
       "      <td>T</td>\n",
       "      <td>KMIA</td>\n",
       "      <td>KAEX</td>\n",
       "      <td>1.0</td>\n",
       "      <td>0.0</td>\n",
       "      <td>1.0</td>\n",
       "      <td>0.000000</td>\n",
       "    </tr>\n",
       "    <tr>\n",
       "      <th>2014-08-12</th>\n",
       "      <td>2013-10-01</td>\n",
       "      <td>9212</td>\n",
       "      <td>R</td>\n",
       "      <td>KSAT</td>\n",
       "      <td>MGGT</td>\n",
       "      <td>0.0</td>\n",
       "      <td>1.0</td>\n",
       "      <td>1.0</td>\n",
       "      <td>1.000000</td>\n",
       "    </tr>\n",
       "    <tr>\n",
       "      <th>2014-08-12</th>\n",
       "      <td>2013-10-01</td>\n",
       "      <td>9212</td>\n",
       "      <td>R</td>\n",
       "      <td>KBRO</td>\n",
       "      <td>MGGT</td>\n",
       "      <td>121.0</td>\n",
       "      <td>1.0</td>\n",
       "      <td>122.0</td>\n",
       "      <td>0.008197</td>\n",
       "    </tr>\n",
       "    <tr>\n",
       "      <th>2014-09-12</th>\n",
       "      <td>2013-10-01</td>\n",
       "      <td>9411</td>\n",
       "      <td>R</td>\n",
       "      <td>KSAT</td>\n",
       "      <td>MGGT</td>\n",
       "      <td>0.0</td>\n",
       "      <td>1.0</td>\n",
       "      <td>1.0</td>\n",
       "      <td>1.000000</td>\n",
       "    </tr>\n",
       "    <tr>\n",
       "      <th>2014-09-12</th>\n",
       "      <td>2013-10-01</td>\n",
       "      <td>9411</td>\n",
       "      <td>R</td>\n",
       "      <td>KBRO</td>\n",
       "      <td>MGGT</td>\n",
       "      <td>134.0</td>\n",
       "      <td>0.0</td>\n",
       "      <td>134.0</td>\n",
       "      <td>0.000000</td>\n",
       "    </tr>\n",
       "    <tr>\n",
       "      <th>2015-10-14</th>\n",
       "      <td>2015-10-01</td>\n",
       "      <td>11365</td>\n",
       "      <td>R</td>\n",
       "      <td>KBRO</td>\n",
       "      <td>MGGT</td>\n",
       "      <td>129.0</td>\n",
       "      <td>0.0</td>\n",
       "      <td>129.0</td>\n",
       "      <td>0.000000</td>\n",
       "    </tr>\n",
       "    <tr>\n",
       "      <th>2015-10-14</th>\n",
       "      <td>2015-10-01</td>\n",
       "      <td>11365</td>\n",
       "      <td>R</td>\n",
       "      <td>KSAT</td>\n",
       "      <td>MGGT</td>\n",
       "      <td>0.0</td>\n",
       "      <td>1.0</td>\n",
       "      <td>1.0</td>\n",
       "      <td>1.000000</td>\n",
       "    </tr>\n",
       "    <tr>\n",
       "      <th>2016-04-05</th>\n",
       "      <td>2015-10-01</td>\n",
       "      <td>12277</td>\n",
       "      <td>R</td>\n",
       "      <td>KLRD</td>\n",
       "      <td>MGGT</td>\n",
       "      <td>0.0</td>\n",
       "      <td>1.0</td>\n",
       "      <td>1.0</td>\n",
       "      <td>1.000000</td>\n",
       "    </tr>\n",
       "    <tr>\n",
       "      <th>2016-04-05</th>\n",
       "      <td>2015-10-01</td>\n",
       "      <td>12277</td>\n",
       "      <td>R</td>\n",
       "      <td>KLRD</td>\n",
       "      <td>MSLP</td>\n",
       "      <td>76.0</td>\n",
       "      <td>2.0</td>\n",
       "      <td>78.0</td>\n",
       "      <td>0.025641</td>\n",
       "    </tr>\n",
       "    <tr>\n",
       "      <th>2016-04-05</th>\n",
       "      <td>2015-10-01</td>\n",
       "      <td>12277</td>\n",
       "      <td>R</td>\n",
       "      <td>KBRO</td>\n",
       "      <td>MGGT</td>\n",
       "      <td>49.0</td>\n",
       "      <td>0.0</td>\n",
       "      <td>49.0</td>\n",
       "      <td>0.000000</td>\n",
       "    </tr>\n",
       "    <tr>\n",
       "      <th>2017-06-08</th>\n",
       "      <td>2016-10-01</td>\n",
       "      <td>39135</td>\n",
       "      <td>R</td>\n",
       "      <td>KLRD</td>\n",
       "      <td>MGGT</td>\n",
       "      <td>34.0</td>\n",
       "      <td>0.0</td>\n",
       "      <td>34.0</td>\n",
       "      <td>0.000000</td>\n",
       "    </tr>\n",
       "    <tr>\n",
       "      <th>2017-06-08</th>\n",
       "      <td>2016-10-01</td>\n",
       "      <td>39135</td>\n",
       "      <td>R</td>\n",
       "      <td>KLRD</td>\n",
       "      <td>MSLP</td>\n",
       "      <td>96.0</td>\n",
       "      <td>2.0</td>\n",
       "      <td>98.0</td>\n",
       "      <td>0.020408</td>\n",
       "    </tr>\n",
       "    <tr>\n",
       "      <th>2017-06-08</th>\n",
       "      <td>2016-10-01</td>\n",
       "      <td>39135</td>\n",
       "      <td>R</td>\n",
       "      <td>KBRO</td>\n",
       "      <td>MGGT</td>\n",
       "      <td>0.0</td>\n",
       "      <td>2.0</td>\n",
       "      <td>2.0</td>\n",
       "      <td>1.000000</td>\n",
       "    </tr>\n",
       "    <tr>\n",
       "      <th>2018-04-02</th>\n",
       "      <td>2017-10-01</td>\n",
       "      <td>46205</td>\n",
       "      <td>R</td>\n",
       "      <td>KSAT</td>\n",
       "      <td>MGGT</td>\n",
       "      <td>0.0</td>\n",
       "      <td>1.0</td>\n",
       "      <td>1.0</td>\n",
       "      <td>1.000000</td>\n",
       "    </tr>\n",
       "    <tr>\n",
       "      <th>2018-04-02</th>\n",
       "      <td>2017-10-01</td>\n",
       "      <td>46205</td>\n",
       "      <td>R</td>\n",
       "      <td>KBRO</td>\n",
       "      <td>MGGT</td>\n",
       "      <td>134.0</td>\n",
       "      <td>0.0</td>\n",
       "      <td>134.0</td>\n",
       "      <td>0.000000</td>\n",
       "    </tr>\n",
       "    <tr>\n",
       "      <th>2018-07-13</th>\n",
       "      <td>2017-10-01</td>\n",
       "      <td>46720</td>\n",
       "      <td>R</td>\n",
       "      <td>KSAT</td>\n",
       "      <td>MGGT</td>\n",
       "      <td>0.0</td>\n",
       "      <td>1.0</td>\n",
       "      <td>1.0</td>\n",
       "      <td>1.000000</td>\n",
       "    </tr>\n",
       "    <tr>\n",
       "      <th>2018-07-13</th>\n",
       "      <td>2017-10-01</td>\n",
       "      <td>46720</td>\n",
       "      <td>R</td>\n",
       "      <td>KBRO</td>\n",
       "      <td>MGGT</td>\n",
       "      <td>104.0</td>\n",
       "      <td>1.0</td>\n",
       "      <td>105.0</td>\n",
       "      <td>0.009524</td>\n",
       "    </tr>\n",
       "  </tbody>\n",
       "</table>\n",
       "</div>"
      ],
      "text/plain": [
       "            FiscalYear  MissionID R-T PULOC DropLoc  AdultCount  JuvCount  \\\n",
       "MissionDate                                                                 \n",
       "2012-09-20  2011-10-01       4634   R  KAEX    MGGT       115.0       0.0   \n",
       "2012-09-20  2011-10-01       4634   R  KMIA    MGGT         0.0       1.0   \n",
       "2012-10-18  2012-10-01       4835   R  KAEX    MGGT       123.0       0.0   \n",
       "2012-10-18  2012-10-01       4835   R  KMIA    MGGT         0.0       3.0   \n",
       "2012-10-18  2012-10-01       4835   T  KMIA    KAEX         1.0       0.0   \n",
       "2014-08-12  2013-10-01       9212   R  KSAT    MGGT         0.0       1.0   \n",
       "2014-08-12  2013-10-01       9212   R  KBRO    MGGT       121.0       1.0   \n",
       "2014-09-12  2013-10-01       9411   R  KSAT    MGGT         0.0       1.0   \n",
       "2014-09-12  2013-10-01       9411   R  KBRO    MGGT       134.0       0.0   \n",
       "2015-10-14  2015-10-01      11365   R  KBRO    MGGT       129.0       0.0   \n",
       "2015-10-14  2015-10-01      11365   R  KSAT    MGGT         0.0       1.0   \n",
       "2016-04-05  2015-10-01      12277   R  KLRD    MGGT         0.0       1.0   \n",
       "2016-04-05  2015-10-01      12277   R  KLRD    MSLP        76.0       2.0   \n",
       "2016-04-05  2015-10-01      12277   R  KBRO    MGGT        49.0       0.0   \n",
       "2017-06-08  2016-10-01      39135   R  KLRD    MGGT        34.0       0.0   \n",
       "2017-06-08  2016-10-01      39135   R  KLRD    MSLP        96.0       2.0   \n",
       "2017-06-08  2016-10-01      39135   R  KBRO    MGGT         0.0       2.0   \n",
       "2018-04-02  2017-10-01      46205   R  KSAT    MGGT         0.0       1.0   \n",
       "2018-04-02  2017-10-01      46205   R  KBRO    MGGT       134.0       0.0   \n",
       "2018-07-13  2017-10-01      46720   R  KSAT    MGGT         0.0       1.0   \n",
       "2018-07-13  2017-10-01      46720   R  KBRO    MGGT       104.0       1.0   \n",
       "\n",
       "             TotalCount  JuvPercent  \n",
       "MissionDate                          \n",
       "2012-09-20        115.0    0.000000  \n",
       "2012-09-20          1.0    1.000000  \n",
       "2012-10-18        123.0    0.000000  \n",
       "2012-10-18          3.0    1.000000  \n",
       "2012-10-18          1.0    0.000000  \n",
       "2014-08-12          1.0    1.000000  \n",
       "2014-08-12        122.0    0.008197  \n",
       "2014-09-12          1.0    1.000000  \n",
       "2014-09-12        134.0    0.000000  \n",
       "2015-10-14        129.0    0.000000  \n",
       "2015-10-14          1.0    1.000000  \n",
       "2016-04-05          1.0    1.000000  \n",
       "2016-04-05         78.0    0.025641  \n",
       "2016-04-05         49.0    0.000000  \n",
       "2017-06-08         34.0    0.000000  \n",
       "2017-06-08         98.0    0.020408  \n",
       "2017-06-08          2.0    1.000000  \n",
       "2018-04-02          1.0    1.000000  \n",
       "2018-04-02        134.0    0.000000  \n",
       "2018-07-13          1.0    1.000000  \n",
       "2018-07-13        105.0    0.009524  "
      ]
     },
     "execution_count": 47,
     "metadata": {},
     "output_type": "execute_result"
    }
   ],
   "source": [
    "t[t['MissionID'].isin(only_nat_juveniles)].sort_values(by='MissionID')"
   ]
  },
  {
   "cell_type": "markdown",
   "metadata": {},
   "source": [
    "# Annual trends in juvenile removals by country"
   ]
  },
  {
   "cell_type": "markdown",
   "metadata": {},
   "source": [
    "Annual counts of removals of juveniles from all countries. Could make version that includes total removals."
   ]
  },
  {
   "cell_type": "code",
   "execution_count": 48,
   "metadata": {},
   "outputs": [],
   "source": [
    "annual = tr_nat.groupby(['FiscalYear', 'CountryOfCitizenship'])['JuvCount'].sum()"
   ]
  },
  {
   "cell_type": "code",
   "execution_count": 49,
   "metadata": {},
   "outputs": [],
   "source": [
    "annual = annual.reset_index()\n",
    "annual.set_index('FiscalYear', inplace=True)"
   ]
  },
  {
   "cell_type": "code",
   "execution_count": 50,
   "metadata": {},
   "outputs": [],
   "source": [
    "all_nationalities_annual = pd.pivot_table(data=annual,\n",
    "                       index=annual.index,\n",
    "                       columns='CountryOfCitizenship',\n",
    "                       values='JuvCount',\n",
    "                       aggfunc=np.sum,\n",
    "                       fill_value=0)"
   ]
  },
  {
   "cell_type": "code",
   "execution_count": 51,
   "metadata": {},
   "outputs": [],
   "source": [
    "# Dropping columns where all values are 0.\n",
    "all_nationalities_juvcount_annual = all_nationalities_annual.loc[:, (all_nationalities_annual != 0).any(axis=0)]"
   ]
  },
  {
   "cell_type": "code",
   "execution_count": 52,
   "metadata": {},
   "outputs": [
    {
     "data": {
      "text/html": [
       "<div>\n",
       "<style scoped>\n",
       "    .dataframe tbody tr th:only-of-type {\n",
       "        vertical-align: middle;\n",
       "    }\n",
       "\n",
       "    .dataframe tbody tr th {\n",
       "        vertical-align: top;\n",
       "    }\n",
       "\n",
       "    .dataframe thead th {\n",
       "        text-align: right;\n",
       "    }\n",
       "</style>\n",
       "<table border=\"1\" class=\"dataframe\">\n",
       "  <thead>\n",
       "    <tr style=\"text-align: right;\">\n",
       "      <th>CountryOfCitizenship</th>\n",
       "      <th>COLOMBIA</th>\n",
       "      <th>ECUADOR</th>\n",
       "      <th>EL SALVADOR</th>\n",
       "      <th>GUATEMALA</th>\n",
       "      <th>HAITI</th>\n",
       "      <th>HONDURAS</th>\n",
       "      <th>JAMAICA</th>\n",
       "      <th>MEXICO</th>\n",
       "      <th>NICARAGUA</th>\n",
       "      <th>UNKNOWN</th>\n",
       "      <th>UNITED STATES OF AMERICA</th>\n",
       "    </tr>\n",
       "    <tr>\n",
       "      <th>FiscalYear</th>\n",
       "      <th></th>\n",
       "      <th></th>\n",
       "      <th></th>\n",
       "      <th></th>\n",
       "      <th></th>\n",
       "      <th></th>\n",
       "      <th></th>\n",
       "      <th></th>\n",
       "      <th></th>\n",
       "      <th></th>\n",
       "      <th></th>\n",
       "    </tr>\n",
       "  </thead>\n",
       "  <tbody>\n",
       "    <tr>\n",
       "      <th>2010-10-01</th>\n",
       "      <td>1</td>\n",
       "      <td>7</td>\n",
       "      <td>44</td>\n",
       "      <td>330</td>\n",
       "      <td>0</td>\n",
       "      <td>43</td>\n",
       "      <td>1</td>\n",
       "      <td>422</td>\n",
       "      <td>6</td>\n",
       "      <td>0</td>\n",
       "      <td>0</td>\n",
       "    </tr>\n",
       "    <tr>\n",
       "      <th>2011-10-01</th>\n",
       "      <td>1</td>\n",
       "      <td>0</td>\n",
       "      <td>8</td>\n",
       "      <td>251</td>\n",
       "      <td>3</td>\n",
       "      <td>17</td>\n",
       "      <td>0</td>\n",
       "      <td>49</td>\n",
       "      <td>1</td>\n",
       "      <td>1</td>\n",
       "      <td>0</td>\n",
       "    </tr>\n",
       "    <tr>\n",
       "      <th>2012-10-01</th>\n",
       "      <td>0</td>\n",
       "      <td>0</td>\n",
       "      <td>4</td>\n",
       "      <td>229</td>\n",
       "      <td>0</td>\n",
       "      <td>7</td>\n",
       "      <td>0</td>\n",
       "      <td>19</td>\n",
       "      <td>0</td>\n",
       "      <td>0</td>\n",
       "      <td>0</td>\n",
       "    </tr>\n",
       "    <tr>\n",
       "      <th>2013-10-01</th>\n",
       "      <td>0</td>\n",
       "      <td>3</td>\n",
       "      <td>41</td>\n",
       "      <td>149</td>\n",
       "      <td>0</td>\n",
       "      <td>124</td>\n",
       "      <td>0</td>\n",
       "      <td>11</td>\n",
       "      <td>0</td>\n",
       "      <td>0</td>\n",
       "      <td>0</td>\n",
       "    </tr>\n",
       "    <tr>\n",
       "      <th>2014-10-01</th>\n",
       "      <td>0</td>\n",
       "      <td>0</td>\n",
       "      <td>71</td>\n",
       "      <td>92</td>\n",
       "      <td>0</td>\n",
       "      <td>29</td>\n",
       "      <td>0</td>\n",
       "      <td>27</td>\n",
       "      <td>0</td>\n",
       "      <td>0</td>\n",
       "      <td>0</td>\n",
       "    </tr>\n",
       "    <tr>\n",
       "      <th>2015-10-01</th>\n",
       "      <td>0</td>\n",
       "      <td>0</td>\n",
       "      <td>77</td>\n",
       "      <td>160</td>\n",
       "      <td>0</td>\n",
       "      <td>13</td>\n",
       "      <td>0</td>\n",
       "      <td>19</td>\n",
       "      <td>0</td>\n",
       "      <td>0</td>\n",
       "      <td>0</td>\n",
       "    </tr>\n",
       "    <tr>\n",
       "      <th>2016-10-01</th>\n",
       "      <td>0</td>\n",
       "      <td>0</td>\n",
       "      <td>89</td>\n",
       "      <td>226</td>\n",
       "      <td>14</td>\n",
       "      <td>0</td>\n",
       "      <td>0</td>\n",
       "      <td>0</td>\n",
       "      <td>0</td>\n",
       "      <td>0</td>\n",
       "      <td>0</td>\n",
       "    </tr>\n",
       "    <tr>\n",
       "      <th>2017-10-01</th>\n",
       "      <td>0</td>\n",
       "      <td>0</td>\n",
       "      <td>36</td>\n",
       "      <td>363</td>\n",
       "      <td>0</td>\n",
       "      <td>1</td>\n",
       "      <td>0</td>\n",
       "      <td>5</td>\n",
       "      <td>0</td>\n",
       "      <td>2</td>\n",
       "      <td>0</td>\n",
       "    </tr>\n",
       "    <tr>\n",
       "      <th>2018-10-01</th>\n",
       "      <td>0</td>\n",
       "      <td>0</td>\n",
       "      <td>2</td>\n",
       "      <td>133</td>\n",
       "      <td>0</td>\n",
       "      <td>0</td>\n",
       "      <td>0</td>\n",
       "      <td>0</td>\n",
       "      <td>0</td>\n",
       "      <td>1</td>\n",
       "      <td>1</td>\n",
       "    </tr>\n",
       "  </tbody>\n",
       "</table>\n",
       "</div>"
      ],
      "text/plain": [
       "CountryOfCitizenship  COLOMBIA  ECUADOR  EL SALVADOR  GUATEMALA  HAITI  \\\n",
       "FiscalYear                                                               \n",
       "2010-10-01                   1        7           44        330      0   \n",
       "2011-10-01                   1        0            8        251      3   \n",
       "2012-10-01                   0        0            4        229      0   \n",
       "2013-10-01                   0        3           41        149      0   \n",
       "2014-10-01                   0        0           71         92      0   \n",
       "2015-10-01                   0        0           77        160      0   \n",
       "2016-10-01                   0        0           89        226     14   \n",
       "2017-10-01                   0        0           36        363      0   \n",
       "2018-10-01                   0        0            2        133      0   \n",
       "\n",
       "CountryOfCitizenship  HONDURAS  JAMAICA  MEXICO  NICARAGUA  UNKNOWN  \\\n",
       "FiscalYear                                                            \n",
       "2010-10-01                  43        1     422          6        0   \n",
       "2011-10-01                  17        0      49          1        1   \n",
       "2012-10-01                   7        0      19          0        0   \n",
       "2013-10-01                 124        0      11          0        0   \n",
       "2014-10-01                  29        0      27          0        0   \n",
       "2015-10-01                  13        0      19          0        0   \n",
       "2016-10-01                   0        0       0          0        0   \n",
       "2017-10-01                   1        0       5          0        2   \n",
       "2018-10-01                   0        0       0          0        1   \n",
       "\n",
       "CountryOfCitizenship  UNITED STATES OF AMERICA  \n",
       "FiscalYear                                      \n",
       "2010-10-01                                   0  \n",
       "2011-10-01                                   0  \n",
       "2012-10-01                                   0  \n",
       "2013-10-01                                   0  \n",
       "2014-10-01                                   0  \n",
       "2015-10-01                                   0  \n",
       "2016-10-01                                   0  \n",
       "2017-10-01                                   0  \n",
       "2018-10-01                                   1  "
      ]
     },
     "execution_count": 52,
     "metadata": {},
     "output_type": "execute_result"
    }
   ],
   "source": [
    "all_nationalities_juvcount_annual"
   ]
  },
  {
   "cell_type": "code",
   "execution_count": 53,
   "metadata": {},
   "outputs": [],
   "source": [
    "all_nationalities_juvcount_annual.to_csv('../output/all_nationalities_juvcount_annual.csv')"
   ]
  },
  {
   "cell_type": "markdown",
   "metadata": {},
   "source": [
    "Only a few countries make up vast majority of removals of juveniles. Here we select top 5 countries overall, sum all others into separate category for nicer-looking charts."
   ]
  },
  {
   "cell_type": "code",
   "execution_count": 54,
   "metadata": {},
   "outputs": [],
   "source": [
    "top5 = list(annual.groupby(['CountryOfCitizenship'])['JuvCount'].sum().sort_values(ascending=False).head().index)"
   ]
  },
  {
   "cell_type": "code",
   "execution_count": 55,
   "metadata": {},
   "outputs": [],
   "source": [
    "top_5_df = pd.DataFrame()\n",
    "top_5_df = top_5_df.append(annual[annual['CountryOfCitizenship'].isin(top5)])\n",
    "top_5_df.index = top_5_df.index.year\n",
    "\n",
    "for year in annual.index.year.unique():\n",
    "    temp = annual[f'{year}']\n",
    "    temp2 = temp[~temp['CountryOfCitizenship'].isin(top5)]\n",
    "    all_other_count = temp2['JuvCount'].sum()\n",
    "    other_df = pd.DataFrame([['ALL OTHERS', all_other_count]],\n",
    "                            columns=['CountryOfCitizenship',\n",
    "                                     'JuvCount'],\n",
    "                            index=[year])\n",
    "    top_5_df = top_5_df.append(other_df)"
   ]
  },
  {
   "cell_type": "code",
   "execution_count": 56,
   "metadata": {},
   "outputs": [],
   "source": [
    "top_5_df.sort_index(inplace=True)\n",
    "top_5_df.index = [f'FY{str(x)[2:4]}' for x in top_5_df.index + 1]"
   ]
  },
  {
   "cell_type": "code",
   "execution_count": 57,
   "metadata": {},
   "outputs": [],
   "source": [
    "top_5_df['CountryOfCitizenship'] = top_5_df['CountryOfCitizenship'].astype('category')"
   ]
  },
  {
   "cell_type": "code",
   "execution_count": 58,
   "metadata": {},
   "outputs": [],
   "source": [
    "top_5_data = pd.pivot_table(data=top_5_df,\n",
    "                       index=top_5_df.index,\n",
    "                       columns='CountryOfCitizenship',\n",
    "                       values='JuvCount',\n",
    "                       aggfunc=np.sum,\n",
    "                       fill_value=0)"
   ]
  },
  {
   "cell_type": "code",
   "execution_count": 59,
   "metadata": {},
   "outputs": [
    {
     "data": {
      "text/html": [
       "<div>\n",
       "<style scoped>\n",
       "    .dataframe tbody tr th:only-of-type {\n",
       "        vertical-align: middle;\n",
       "    }\n",
       "\n",
       "    .dataframe tbody tr th {\n",
       "        vertical-align: top;\n",
       "    }\n",
       "\n",
       "    .dataframe thead th {\n",
       "        text-align: right;\n",
       "    }\n",
       "</style>\n",
       "<table border=\"1\" class=\"dataframe\">\n",
       "  <thead>\n",
       "    <tr style=\"text-align: right;\">\n",
       "      <th>CountryOfCitizenship</th>\n",
       "      <th>ALL OTHERS</th>\n",
       "      <th>EL SALVADOR</th>\n",
       "      <th>GUATEMALA</th>\n",
       "      <th>HAITI</th>\n",
       "      <th>HONDURAS</th>\n",
       "      <th>MEXICO</th>\n",
       "    </tr>\n",
       "  </thead>\n",
       "  <tbody>\n",
       "    <tr>\n",
       "      <th>FY11</th>\n",
       "      <td>15</td>\n",
       "      <td>44</td>\n",
       "      <td>330</td>\n",
       "      <td>0</td>\n",
       "      <td>43</td>\n",
       "      <td>422</td>\n",
       "    </tr>\n",
       "    <tr>\n",
       "      <th>FY12</th>\n",
       "      <td>3</td>\n",
       "      <td>8</td>\n",
       "      <td>251</td>\n",
       "      <td>3</td>\n",
       "      <td>17</td>\n",
       "      <td>49</td>\n",
       "    </tr>\n",
       "    <tr>\n",
       "      <th>FY13</th>\n",
       "      <td>0</td>\n",
       "      <td>4</td>\n",
       "      <td>229</td>\n",
       "      <td>0</td>\n",
       "      <td>7</td>\n",
       "      <td>19</td>\n",
       "    </tr>\n",
       "    <tr>\n",
       "      <th>FY14</th>\n",
       "      <td>3</td>\n",
       "      <td>41</td>\n",
       "      <td>149</td>\n",
       "      <td>0</td>\n",
       "      <td>124</td>\n",
       "      <td>11</td>\n",
       "    </tr>\n",
       "    <tr>\n",
       "      <th>FY15</th>\n",
       "      <td>0</td>\n",
       "      <td>71</td>\n",
       "      <td>92</td>\n",
       "      <td>0</td>\n",
       "      <td>29</td>\n",
       "      <td>27</td>\n",
       "    </tr>\n",
       "    <tr>\n",
       "      <th>FY16</th>\n",
       "      <td>0</td>\n",
       "      <td>77</td>\n",
       "      <td>160</td>\n",
       "      <td>0</td>\n",
       "      <td>13</td>\n",
       "      <td>19</td>\n",
       "    </tr>\n",
       "    <tr>\n",
       "      <th>FY17</th>\n",
       "      <td>0</td>\n",
       "      <td>89</td>\n",
       "      <td>226</td>\n",
       "      <td>14</td>\n",
       "      <td>0</td>\n",
       "      <td>0</td>\n",
       "    </tr>\n",
       "    <tr>\n",
       "      <th>FY18</th>\n",
       "      <td>2</td>\n",
       "      <td>36</td>\n",
       "      <td>363</td>\n",
       "      <td>0</td>\n",
       "      <td>1</td>\n",
       "      <td>5</td>\n",
       "    </tr>\n",
       "    <tr>\n",
       "      <th>FY19</th>\n",
       "      <td>2</td>\n",
       "      <td>2</td>\n",
       "      <td>133</td>\n",
       "      <td>0</td>\n",
       "      <td>0</td>\n",
       "      <td>0</td>\n",
       "    </tr>\n",
       "  </tbody>\n",
       "</table>\n",
       "</div>"
      ],
      "text/plain": [
       "CountryOfCitizenship  ALL OTHERS  EL SALVADOR  GUATEMALA  HAITI  HONDURAS  \\\n",
       "FY11                          15           44        330      0        43   \n",
       "FY12                           3            8        251      3        17   \n",
       "FY13                           0            4        229      0         7   \n",
       "FY14                           3           41        149      0       124   \n",
       "FY15                           0           71         92      0        29   \n",
       "FY16                           0           77        160      0        13   \n",
       "FY17                           0           89        226     14         0   \n",
       "FY18                           2           36        363      0         1   \n",
       "FY19                           2            2        133      0         0   \n",
       "\n",
       "CountryOfCitizenship  MEXICO  \n",
       "FY11                     422  \n",
       "FY12                      49  \n",
       "FY13                      19  \n",
       "FY14                      11  \n",
       "FY15                      27  \n",
       "FY16                      19  \n",
       "FY17                       0  \n",
       "FY18                       5  \n",
       "FY19                       0  "
      ]
     },
     "execution_count": 59,
     "metadata": {},
     "output_type": "execute_result"
    }
   ],
   "source": [
    "top_5_data"
   ]
  },
  {
   "cell_type": "code",
   "execution_count": 60,
   "metadata": {},
   "outputs": [],
   "source": [
    "top_5_data = top_5_data.reindex(top_5_data.sum().sort_values(ascending=False).index, axis=1)"
   ]
  },
  {
   "cell_type": "markdown",
   "metadata": {},
   "source": [
    "Massive decrease in removals of Mexican juveniles between FY11-12, possibly as result of implementation of DACA?"
   ]
  },
  {
   "cell_type": "code",
   "execution_count": 61,
   "metadata": {},
   "outputs": [
    {
     "data": {
      "text/plain": [
       "<matplotlib.axes._subplots.AxesSubplot at 0x1a23f78208>"
      ]
     },
     "execution_count": 61,
     "metadata": {},
     "output_type": "execute_result"
    },
    {
     "data": {
      "image/png": "[encoded data removed]",
      "text/plain": [
       "<Figure size 432x288 with 1 Axes>"
      ]
     },
     "metadata": {
      "needs_background": "light"
     },
     "output_type": "display_data"
    }
   ],
   "source": [
    "top_5_data.plot(kind='bar', stacked=True)"
   ]
  },
  {
   "cell_type": "markdown",
   "metadata": {},
   "source": [
    "Different ways of plotting cumulative removals, but a bit hard to interpret trends."
   ]
  },
  {
   "cell_type": "code",
   "execution_count": 62,
   "metadata": {},
   "outputs": [
    {
     "data": {
      "text/plain": [
       "<matplotlib.axes._subplots.AxesSubplot at 0x1a1ca28208>"
      ]
     },
     "execution_count": 62,
     "metadata": {},
     "output_type": "execute_result"
    },
    {
     "data": {
      "image/png": "[encoded data removed]",
      "text/plain": [
       "<Figure size 432x288 with 1 Axes>"
      ]
     },
     "metadata": {
      "needs_background": "light"
     },
     "output_type": "display_data"
    }
   ],
   "source": [
    "top_5_data.cumsum().plot(kind='bar', stacked=True)"
   ]
  },
  {
   "cell_type": "code",
   "execution_count": 63,
   "metadata": {},
   "outputs": [
    {
     "data": {
      "text/plain": [
       "<matplotlib.axes._subplots.AxesSubplot at 0x1a1a02bc88>"
      ]
     },
     "execution_count": 63,
     "metadata": {},
     "output_type": "execute_result"
    },
    {
     "data": {
      "image/png": "[encoded data removed]",
      "text/plain": [
       "<Figure size 432x288 with 1 Axes>"
      ]
     },
     "metadata": {
      "needs_background": "light"
     },
     "output_type": "display_data"
    }
   ],
   "source": [
    "top_5_data.cumsum().plot(kind='line', stacked=False)"
   ]
  },
  {
   "cell_type": "code",
   "execution_count": 64,
   "metadata": {
    "scrolled": true
   },
   "outputs": [
    {
     "data": {
      "text/plain": [
       "<matplotlib.axes._subplots.AxesSubplot at 0x1a199a15c0>"
      ]
     },
     "execution_count": 64,
     "metadata": {},
     "output_type": "execute_result"
    },
    {
     "data": {
      "image/png": "[encoded data removed]",
      "text/plain": [
       "<Figure size 432x288 with 1 Axes>"
      ]
     },
     "metadata": {
      "needs_background": "light"
     },
     "output_type": "display_data"
    }
   ],
   "source": [
    "top_5_data.cumsum().plot(kind='area', stacked=True)"
   ]
  }
 ],
 "metadata": {
  "kernelspec": {
   "display_name": "Python 3",
   "language": "python",
   "name": "python3"
  },
  "language_info": {
   "codemirror_mode": {
    "name": "ipython",
    "version": 3
   },
   "file_extension": ".py",
   "mimetype": "text/x-python",
   "name": "python",
   "nbconvert_exporter": "python",
   "pygments_lexer": "ipython3",
   "version": "3.7.1"
  }
 },
 "nbformat": 4,
 "nbformat_minor": 2
}
