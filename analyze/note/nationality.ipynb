{
 "cells": [
  {
   "cell_type": "code",
   "execution_count": 235,
   "metadata": {},
   "outputs": [],
   "source": [
    "import numpy as np\n",
    "import pandas as pd\n",
    "import yaml\n",
    "import matplotlib.pyplot as plt\n",
    "import matplotlib.mlab as mlab\n",
    "import seaborn as sns"
   ]
  },
  {
   "cell_type": "markdown",
   "metadata": {},
   "source": [
    "# Import\n",
    "\n",
    "First we open a file containing a dictionary of columns and associated data types generated in `../../optimize/`, then we read input file."
   ]
  },
  {
   "cell_type": "code",
   "execution_count": 236,
   "metadata": {},
   "outputs": [
    {
     "name": "stdout",
     "output_type": "stream",
     "text": [
      "<class 'pandas.core.frame.DataFrame'>\n",
      "RangeIndex: 1763020 entries, 0 to 1763019\n",
      "Data columns (total 44 columns):\n",
      "Status                  category\n",
      "Sex                     category\n",
      "Convictions             category\n",
      "GangMember              category\n",
      "ClassLvl                float32\n",
      "Age                     float32\n",
      "MissionDate             datetime64[ns]\n",
      "MissionNumber           uint32\n",
      "PULOC                   category\n",
      "DropLoc                 category\n",
      "StrikeFromList          float32\n",
      "ReasonStruck            category\n",
      "R-T                     category\n",
      "Code                    category\n",
      "CountryOfCitizenship    category\n",
      "Juvenile                bool\n",
      "MissionWeek             uint8\n",
      "MissionQuarter          uint8\n",
      "MissionYear             uint16\n",
      "MissionMonth            uint8\n",
      "Criminality             category\n",
      "FamilyUnitFlag          float32\n",
      "UnaccompaniedFlag       float32\n",
      "AlienMasterID           uint32\n",
      "MissionID               uint16\n",
      "air_AirportID           float32\n",
      "air_AirportName         category\n",
      "air_City                category\n",
      "st_StateID              float32\n",
      "st_StateAbbr            category\n",
      "AOR_AORID               float32\n",
      "AOR_AOR                 category\n",
      "AOR_AORName             category\n",
      "air_Country             category\n",
      "air2_AirportID          float32\n",
      "air2_AirportName        category\n",
      "air2_City               category\n",
      "st2_StateID             float32\n",
      "st2_StateAbbr           category\n",
      "aor2_AORID              float32\n",
      "aor2_AOR                category\n",
      "aor2_AORName            category\n",
      "air2_Country            category\n",
      "NonCriminal             bool\n",
      "dtypes: bool(2), category(23), datetime64[ns](1), float32(11), uint16(2), uint32(2), uint8(3)\n",
      "memory usage: 168.6 MB\n"
     ]
    }
   ],
   "source": [
    "with open('../input/dtypes.yaml', 'r') as yamlfile:\n",
    "    column_types = yaml.load(yamlfile)\n",
    "\n",
    "read_csv_opts = {'sep': '|',\n",
    "                 'quotechar': '\"',\n",
    "                 'compression': 'gzip',\n",
    "                 'encoding': 'utf-8',\n",
    "                 'dtype': column_types,\n",
    "                 'parse_dates': ['MissionDate'],\n",
    "                 'infer_datetime_format': True}\n",
    "\n",
    "df = pd.read_csv('../input/ice-air.csv.gz', **read_csv_opts)\n",
    "\n",
    "df.info(memory_usage='deep')"
   ]
  },
  {
   "cell_type": "markdown",
   "metadata": {},
   "source": [
    "# By country of citizenship"
   ]
  },
  {
   "cell_type": "markdown",
   "metadata": {},
   "source": [
    "Define target nationality, check if represented in dataset."
   ]
  },
  {
   "cell_type": "code",
   "execution_count": 237,
   "metadata": {},
   "outputs": [],
   "source": [
    "nationality = 'MEXICO'"
   ]
  },
  {
   "cell_type": "code",
   "execution_count": 238,
   "metadata": {},
   "outputs": [],
   "source": [
    "errormsg = f'{nationality} not represented in dataset'\n",
    "assert nationality.upper() in df['CountryOfCitizenship'].str.upper().unique(), errormsg"
   ]
  },
  {
   "cell_type": "markdown",
   "metadata": {},
   "source": [
    "Create DataFrames for removals and transfers, removing duplicate `AlienMasterID` values."
   ]
  },
  {
   "cell_type": "code",
   "execution_count": 239,
   "metadata": {},
   "outputs": [],
   "source": [
    "removal_df = df[df['R-T'] == 'R'].drop_duplicates(subset='AlienMasterID')\n",
    "transfer_df = df[df['R-T'] == 'T'].drop_duplicates(subset='AlienMasterID')"
   ]
  },
  {
   "cell_type": "markdown",
   "metadata": {},
   "source": [
    "Ranking total removals by `CountryOfCitizenship`. Should implement other comparative statistics."
   ]
  },
  {
   "cell_type": "code",
   "execution_count": 240,
   "metadata": {},
   "outputs": [
    {
     "name": "stdout",
     "output_type": "stream",
     "text": [
      "MEXICO: ranked 1 of 209 countries, with 466455 total removals.\n"
     ]
    }
   ],
   "source": [
    "all_nationalities = removal_df.groupby(['CountryOfCitizenship'])['AlienMasterID'].nunique()\n",
    "all_nationalities = all_nationalities.sort_values(ascending=False)\n",
    "all_nationalities = all_nationalities.reset_index().reset_index()\n",
    "all_nationalities['Rank'] = all_nationalities['index'] + 1\n",
    "all_nationalities.drop('index', axis=1, inplace=True)\n",
    "target = all_nationalities.loc[all_nationalities['CountryOfCitizenship'] == nationality]\n",
    "print(f\"{nationality}: ranked {target['Rank'][0]} of {len(all_nationalities)} countries, with {target['AlienMasterID'][0]} total removals.\")\n",
    "# Probably a better way to do this than with index"
   ]
  },
  {
   "cell_type": "markdown",
   "metadata": {},
   "source": [
    "Create a DataFrame filtered for target nationality only."
   ]
  },
  {
   "cell_type": "code",
   "execution_count": 241,
   "metadata": {},
   "outputs": [],
   "source": [
    "nationality_df = df[df['CountryOfCitizenship'] == nationality.upper()]"
   ]
  },
  {
   "cell_type": "code",
   "execution_count": 242,
   "metadata": {},
   "outputs": [
    {
     "data": {
      "text/plain": [
       "El Paso International Airport                     90303\n",
       "Valley International Airport                      86152\n",
       "Alexandria International Airport                  57558\n",
       "Columbus Metropolitan Airport                     49389\n",
       "Metropolitan Oakland International Airport        32938\n",
       "Harrisburg International Airport                  28315\n",
       "Boeing Field King County International Airport    25156\n",
       "San Diego International Airport                   23543\n",
       "Meadows Field                                     20494\n",
       "Miami International Airport                       20042\n",
       "Name: air_AirportName, dtype: int64"
      ]
     },
     "execution_count": 242,
     "metadata": {},
     "output_type": "execute_result"
    }
   ],
   "source": [
    "# Top pickup airports (removals and transfers)\n",
    "nationality_df['air_AirportName'].value_counts().head(10)"
   ]
  },
  {
   "cell_type": "code",
   "execution_count": 243,
   "metadata": {},
   "outputs": [
    {
     "data": {
      "text/plain": [
       "Valley International Airport                            146867\n",
       "Licenciado Benito Juarez International Airport           85584\n",
       "El Paso International Airport                            65239\n",
       "Brownsville South Padre Island International Airport     63458\n",
       "San Diego International Airport                          59678\n",
       "Yuma MCAS/Yuma International Airport                     58120\n",
       "Laredo International Airport                             46149\n",
       "El Centro Naf Airport                                    20356\n",
       "Phoenix-Mesa-Gateway Airport                             18186\n",
       "Alexandria International Airport                         16249\n",
       "Name: air2_AirportName, dtype: int64"
      ]
     },
     "execution_count": 243,
     "metadata": {},
     "output_type": "execute_result"
    }
   ],
   "source": [
    "# Top dropoff airports (removals and transfers)\n",
    "nationality_df['air2_AirportName'].value_counts().head(10)"
   ]
  },
  {
   "cell_type": "code",
   "execution_count": 244,
   "metadata": {},
   "outputs": [],
   "source": [
    "nationality_df.set_index('MissionDate', inplace=True)"
   ]
  },
  {
   "cell_type": "code",
   "execution_count": 245,
   "metadata": {},
   "outputs": [],
   "source": [
    "g = nationality_df.groupby(['CountryOfCitizenship', 'MissionDate', 'R-T', 'PULOC', 'DropLoc'])"
   ]
  },
  {
   "cell_type": "code",
   "execution_count": 246,
   "metadata": {},
   "outputs": [],
   "source": [
    "# We can improve construction of this table, look at other notebooks\n",
    "table = g['AlienMasterID'].nunique().reset_index(name='AlienMasterIDCount')\n",
    "table['MissionIDCount'] = g['MissionID'].nunique().reset_index(name='MissionIDCount')['MissionIDCount']\n",
    "table['JuvenileCount'] = g['Juvenile'].sum().reset_index(name='JuvenileCount')['JuvenileCount']\n",
    "table['JuvPercent'] = table['JuvenileCount'] / table['AlienMasterIDCount']\n",
    "table['NCCount'] = g['NonCriminal'].sum().reset_index(name='NCCount')['NCCount']\n",
    "table['NCPercent'] = table['NCCount'] / table['AlienMasterIDCount'] * 100"
   ]
  },
  {
   "cell_type": "code",
   "execution_count": 247,
   "metadata": {},
   "outputs": [],
   "source": [
    "removals = table[table['R-T'] == 'R'].copy()\n",
    "transfers = table[table['R-T'] == 'T'].copy()"
   ]
  },
  {
   "cell_type": "code",
   "execution_count": 248,
   "metadata": {},
   "outputs": [],
   "source": [
    "removals.set_index('MissionDate', inplace=True)\n",
    "transfers.set_index('MissionDate', inplace=True)"
   ]
  },
  {
   "cell_type": "code",
   "execution_count": 249,
   "metadata": {},
   "outputs": [
    {
     "data": {
      "text/plain": [
       "466107"
      ]
     },
     "execution_count": 249,
     "metadata": {},
     "output_type": "execute_result"
    }
   ],
   "source": [
    "# Total removals\n",
    "removals['AlienMasterIDCount'].sum()"
   ]
  },
  {
   "cell_type": "code",
   "execution_count": 250,
   "metadata": {},
   "outputs": [
    {
     "data": {
      "text/plain": [
       "10164"
      ]
     },
     "execution_count": 250,
     "metadata": {},
     "output_type": "execute_result"
    }
   ],
   "source": [
    "# Total removal missions\n",
    "removals['MissionIDCount'].sum()"
   ]
  },
  {
   "cell_type": "code",
   "execution_count": 251,
   "metadata": {},
   "outputs": [
    {
     "data": {
      "text/plain": [
       "101514"
      ]
     },
     "execution_count": 251,
     "metadata": {},
     "output_type": "execute_result"
    }
   ],
   "source": [
    "# Total transfers\n",
    "transfers['AlienMasterIDCount'].sum()"
   ]
  },
  {
   "cell_type": "code",
   "execution_count": 252,
   "metadata": {},
   "outputs": [],
   "source": [
    "weekly_removals = removals['AlienMasterIDCount'].resample('W').sum()\n",
    "weekly_transfers = transfers['AlienMasterIDCount'].resample('W').sum()\n",
    "monthly_removals = removals['AlienMasterIDCount'].resample('M').sum()\n",
    "monthly_transfers = transfers['AlienMasterIDCount'].resample('M').sum()\n",
    "monthly_removal_flights = removals['MissionIDCount'].resample('M').sum()\n",
    "monthly_transfers_flights = transfers['MissionIDCount'].resample('M').sum()\n",
    "annual_removals = removals['AlienMasterIDCount'].resample('AS-OCT').sum()\n",
    "annual_transfers = transfers['AlienMasterIDCount'].resample('AS-OCT').sum()\n",
    "annual_removal_flights = removals['MissionIDCount'].resample('AS-OCT').sum()\n",
    "annual_transfer_flights = transfers['MissionIDCount'].resample('AS-OCT').sum()\n",
    "annual_juvenile_removals = removals['JuvenileCount'].resample('AS-OCT').sum()"
   ]
  },
  {
   "cell_type": "code",
   "execution_count": 253,
   "metadata": {},
   "outputs": [
    {
     "data": {
      "text/plain": [
       "MissionDate\n",
       "2010-10-01    107781\n",
       "2011-10-01    110763\n",
       "2012-10-01     78650\n",
       "2013-10-01     39278\n",
       "2014-10-01     29461\n",
       "2015-10-01     27082\n",
       "2016-10-01     32967\n",
       "2017-10-01     34738\n",
       "2018-10-01      5387\n",
       "Freq: AS-OCT, Name: AlienMasterIDCount, dtype: int64"
      ]
     },
     "execution_count": 253,
     "metadata": {},
     "output_type": "execute_result"
    }
   ],
   "source": [
    "annual_removals"
   ]
  },
  {
   "cell_type": "code",
   "execution_count": 254,
   "metadata": {},
   "outputs": [
    {
     "data": {
      "text/plain": [
       "MissionDate\n",
       "2010-10-01     8947\n",
       "2011-10-01     9445\n",
       "2012-10-01     8368\n",
       "2013-10-01    12185\n",
       "2014-10-01    16048\n",
       "2015-10-01    19730\n",
       "2016-10-01    13896\n",
       "2017-10-01    12365\n",
       "2018-10-01      530\n",
       "Freq: AS-OCT, Name: AlienMasterIDCount, dtype: int64"
      ]
     },
     "execution_count": 254,
     "metadata": {},
     "output_type": "execute_result"
    }
   ],
   "source": [
    "annual_transfers"
   ]
  },
  {
   "cell_type": "code",
   "execution_count": 255,
   "metadata": {},
   "outputs": [
    {
     "data": {
      "text/plain": [
       "MissionDate\n",
       "2010-10-01    432.0\n",
       "2011-10-01     55.0\n",
       "2012-10-01     19.0\n",
       "2013-10-01     11.0\n",
       "2014-10-01     27.0\n",
       "2015-10-01     19.0\n",
       "2016-10-01      0.0\n",
       "2017-10-01      5.0\n",
       "2018-10-01      0.0\n",
       "Freq: AS-OCT, Name: JuvenileCount, dtype: float64"
      ]
     },
     "execution_count": 255,
     "metadata": {},
     "output_type": "execute_result"
    }
   ],
   "source": [
    "annual_juvenile_removals"
   ]
  },
  {
   "cell_type": "code",
   "execution_count": 256,
   "metadata": {},
   "outputs": [],
   "source": [
    "removals.reset_index(inplace=True, drop=False)\n",
    "transfers.reset_index(inplace=True, drop=False)"
   ]
  },
  {
   "cell_type": "code",
   "execution_count": 257,
   "metadata": {},
   "outputs": [
    {
     "data": {
      "text/html": [
       "<div>\n",
       "<style scoped>\n",
       "    .dataframe tbody tr th:only-of-type {\n",
       "        vertical-align: middle;\n",
       "    }\n",
       "\n",
       "    .dataframe tbody tr th {\n",
       "        vertical-align: top;\n",
       "    }\n",
       "\n",
       "    .dataframe thead th {\n",
       "        text-align: right;\n",
       "    }\n",
       "</style>\n",
       "<table border=\"1\" class=\"dataframe\">\n",
       "  <thead>\n",
       "    <tr style=\"text-align: right;\">\n",
       "      <th></th>\n",
       "      <th>MissionDate</th>\n",
       "      <th>CountryOfCitizenship</th>\n",
       "      <th>R-T</th>\n",
       "      <th>PULOC</th>\n",
       "      <th>DropLoc</th>\n",
       "      <th>AlienMasterIDCount</th>\n",
       "      <th>MissionIDCount</th>\n",
       "      <th>JuvenileCount</th>\n",
       "      <th>JuvPercent</th>\n",
       "      <th>NCCount</th>\n",
       "      <th>NCPercent</th>\n",
       "    </tr>\n",
       "  </thead>\n",
       "  <tbody>\n",
       "    <tr>\n",
       "      <th>10116</th>\n",
       "      <td>2018-11-28</td>\n",
       "      <td>MEXICO</td>\n",
       "      <td>R</td>\n",
       "      <td>KMSP</td>\n",
       "      <td>KBRO</td>\n",
       "      <td>15</td>\n",
       "      <td>1</td>\n",
       "      <td>0.0</td>\n",
       "      <td>0.0</td>\n",
       "      <td>1.0</td>\n",
       "      <td>6.666667</td>\n",
       "    </tr>\n",
       "    <tr>\n",
       "      <th>10117</th>\n",
       "      <td>2018-11-28</td>\n",
       "      <td>MEXICO</td>\n",
       "      <td>R</td>\n",
       "      <td>KOMA</td>\n",
       "      <td>KBRO</td>\n",
       "      <td>12</td>\n",
       "      <td>1</td>\n",
       "      <td>0.0</td>\n",
       "      <td>0.0</td>\n",
       "      <td>4.0</td>\n",
       "      <td>33.333333</td>\n",
       "    </tr>\n",
       "    <tr>\n",
       "      <th>10118</th>\n",
       "      <td>2018-11-29</td>\n",
       "      <td>MEXICO</td>\n",
       "      <td>R</td>\n",
       "      <td>KAEX</td>\n",
       "      <td>KBRO</td>\n",
       "      <td>1</td>\n",
       "      <td>1</td>\n",
       "      <td>0.0</td>\n",
       "      <td>0.0</td>\n",
       "      <td>1.0</td>\n",
       "      <td>100.000000</td>\n",
       "    </tr>\n",
       "    <tr>\n",
       "      <th>10119</th>\n",
       "      <td>2018-11-29</td>\n",
       "      <td>MEXICO</td>\n",
       "      <td>R</td>\n",
       "      <td>KATL</td>\n",
       "      <td>KBRO</td>\n",
       "      <td>56</td>\n",
       "      <td>1</td>\n",
       "      <td>0.0</td>\n",
       "      <td>0.0</td>\n",
       "      <td>10.0</td>\n",
       "      <td>17.857143</td>\n",
       "    </tr>\n",
       "    <tr>\n",
       "      <th>10120</th>\n",
       "      <td>2018-11-29</td>\n",
       "      <td>MEXICO</td>\n",
       "      <td>R</td>\n",
       "      <td>KMIA</td>\n",
       "      <td>KBRO</td>\n",
       "      <td>38</td>\n",
       "      <td>1</td>\n",
       "      <td>0.0</td>\n",
       "      <td>0.0</td>\n",
       "      <td>11.0</td>\n",
       "      <td>28.947368</td>\n",
       "    </tr>\n",
       "    <tr>\n",
       "      <th>10121</th>\n",
       "      <td>2018-11-30</td>\n",
       "      <td>MEXICO</td>\n",
       "      <td>R</td>\n",
       "      <td>KSLC</td>\n",
       "      <td>KELP</td>\n",
       "      <td>6</td>\n",
       "      <td>1</td>\n",
       "      <td>0.0</td>\n",
       "      <td>0.0</td>\n",
       "      <td>2.0</td>\n",
       "      <td>33.333333</td>\n",
       "    </tr>\n",
       "    <tr>\n",
       "      <th>10122</th>\n",
       "      <td>2018-11-30</td>\n",
       "      <td>MEXICO</td>\n",
       "      <td>R</td>\n",
       "      <td>KCOS</td>\n",
       "      <td>KELP</td>\n",
       "      <td>33</td>\n",
       "      <td>1</td>\n",
       "      <td>0.0</td>\n",
       "      <td>0.0</td>\n",
       "      <td>9.0</td>\n",
       "      <td>27.272727</td>\n",
       "    </tr>\n",
       "    <tr>\n",
       "      <th>10123</th>\n",
       "      <td>2018-11-30</td>\n",
       "      <td>MEXICO</td>\n",
       "      <td>R</td>\n",
       "      <td>KGYY</td>\n",
       "      <td>KBRO</td>\n",
       "      <td>45</td>\n",
       "      <td>1</td>\n",
       "      <td>0.0</td>\n",
       "      <td>0.0</td>\n",
       "      <td>6.0</td>\n",
       "      <td>13.333333</td>\n",
       "    </tr>\n",
       "    <tr>\n",
       "      <th>10124</th>\n",
       "      <td>2018-12-03</td>\n",
       "      <td>MEXICO</td>\n",
       "      <td>R</td>\n",
       "      <td>KAEX</td>\n",
       "      <td>KBRO</td>\n",
       "      <td>58</td>\n",
       "      <td>1</td>\n",
       "      <td>0.0</td>\n",
       "      <td>0.0</td>\n",
       "      <td>16.0</td>\n",
       "      <td>27.586207</td>\n",
       "    </tr>\n",
       "    <tr>\n",
       "      <th>10125</th>\n",
       "      <td>2018-12-03</td>\n",
       "      <td>MEXICO</td>\n",
       "      <td>R</td>\n",
       "      <td>KATL</td>\n",
       "      <td>KBRO</td>\n",
       "      <td>71</td>\n",
       "      <td>1</td>\n",
       "      <td>0.0</td>\n",
       "      <td>0.0</td>\n",
       "      <td>14.0</td>\n",
       "      <td>19.718310</td>\n",
       "    </tr>\n",
       "    <tr>\n",
       "      <th>10126</th>\n",
       "      <td>2018-12-03</td>\n",
       "      <td>MEXICO</td>\n",
       "      <td>R</td>\n",
       "      <td>KMDT</td>\n",
       "      <td>KBRO</td>\n",
       "      <td>37</td>\n",
       "      <td>1</td>\n",
       "      <td>0.0</td>\n",
       "      <td>0.0</td>\n",
       "      <td>12.0</td>\n",
       "      <td>32.432432</td>\n",
       "    </tr>\n",
       "    <tr>\n",
       "      <th>10127</th>\n",
       "      <td>2018-12-04</td>\n",
       "      <td>MEXICO</td>\n",
       "      <td>R</td>\n",
       "      <td>KBFI</td>\n",
       "      <td>KELP</td>\n",
       "      <td>47</td>\n",
       "      <td>1</td>\n",
       "      <td>0.0</td>\n",
       "      <td>0.0</td>\n",
       "      <td>16.0</td>\n",
       "      <td>34.042553</td>\n",
       "    </tr>\n",
       "    <tr>\n",
       "      <th>10128</th>\n",
       "      <td>2018-12-04</td>\n",
       "      <td>MEXICO</td>\n",
       "      <td>R</td>\n",
       "      <td>KLAS</td>\n",
       "      <td>KIWA</td>\n",
       "      <td>46</td>\n",
       "      <td>1</td>\n",
       "      <td>0.0</td>\n",
       "      <td>0.0</td>\n",
       "      <td>8.0</td>\n",
       "      <td>17.391304</td>\n",
       "    </tr>\n",
       "    <tr>\n",
       "      <th>10129</th>\n",
       "      <td>2018-12-04</td>\n",
       "      <td>MEXICO</td>\n",
       "      <td>R</td>\n",
       "      <td>KTOL</td>\n",
       "      <td>KBRO</td>\n",
       "      <td>29</td>\n",
       "      <td>1</td>\n",
       "      <td>0.0</td>\n",
       "      <td>0.0</td>\n",
       "      <td>13.0</td>\n",
       "      <td>44.827586</td>\n",
       "    </tr>\n",
       "    <tr>\n",
       "      <th>10130</th>\n",
       "      <td>2018-12-04</td>\n",
       "      <td>MEXICO</td>\n",
       "      <td>R</td>\n",
       "      <td>KEWR</td>\n",
       "      <td>KLRD</td>\n",
       "      <td>13</td>\n",
       "      <td>1</td>\n",
       "      <td>0.0</td>\n",
       "      <td>0.0</td>\n",
       "      <td>4.0</td>\n",
       "      <td>30.769231</td>\n",
       "    </tr>\n",
       "    <tr>\n",
       "      <th>10131</th>\n",
       "      <td>2018-12-04</td>\n",
       "      <td>MEXICO</td>\n",
       "      <td>R</td>\n",
       "      <td>KRIC</td>\n",
       "      <td>KBRO</td>\n",
       "      <td>15</td>\n",
       "      <td>1</td>\n",
       "      <td>0.0</td>\n",
       "      <td>0.0</td>\n",
       "      <td>3.0</td>\n",
       "      <td>20.000000</td>\n",
       "    </tr>\n",
       "    <tr>\n",
       "      <th>10132</th>\n",
       "      <td>2018-12-04</td>\n",
       "      <td>MEXICO</td>\n",
       "      <td>R</td>\n",
       "      <td>KPSM</td>\n",
       "      <td>KLRD</td>\n",
       "      <td>8</td>\n",
       "      <td>1</td>\n",
       "      <td>0.0</td>\n",
       "      <td>0.0</td>\n",
       "      <td>2.0</td>\n",
       "      <td>25.000000</td>\n",
       "    </tr>\n",
       "    <tr>\n",
       "      <th>10133</th>\n",
       "      <td>2018-12-05</td>\n",
       "      <td>MEXICO</td>\n",
       "      <td>R</td>\n",
       "      <td>KMCI</td>\n",
       "      <td>KBRO</td>\n",
       "      <td>16</td>\n",
       "      <td>1</td>\n",
       "      <td>0.0</td>\n",
       "      <td>0.0</td>\n",
       "      <td>2.0</td>\n",
       "      <td>12.500000</td>\n",
       "    </tr>\n",
       "    <tr>\n",
       "      <th>10134</th>\n",
       "      <td>2018-12-05</td>\n",
       "      <td>MEXICO</td>\n",
       "      <td>R</td>\n",
       "      <td>KMSP</td>\n",
       "      <td>KBRO</td>\n",
       "      <td>18</td>\n",
       "      <td>1</td>\n",
       "      <td>0.0</td>\n",
       "      <td>0.0</td>\n",
       "      <td>3.0</td>\n",
       "      <td>16.666667</td>\n",
       "    </tr>\n",
       "    <tr>\n",
       "      <th>10135</th>\n",
       "      <td>2018-12-05</td>\n",
       "      <td>MEXICO</td>\n",
       "      <td>R</td>\n",
       "      <td>KOMA</td>\n",
       "      <td>KBRO</td>\n",
       "      <td>12</td>\n",
       "      <td>1</td>\n",
       "      <td>0.0</td>\n",
       "      <td>0.0</td>\n",
       "      <td>3.0</td>\n",
       "      <td>25.000000</td>\n",
       "    </tr>\n",
       "  </tbody>\n",
       "</table>\n",
       "</div>"
      ],
      "text/plain": [
       "      MissionDate CountryOfCitizenship R-T PULOC DropLoc  AlienMasterIDCount  \\\n",
       "10116  2018-11-28               MEXICO   R  KMSP    KBRO                  15   \n",
       "10117  2018-11-28               MEXICO   R  KOMA    KBRO                  12   \n",
       "10118  2018-11-29               MEXICO   R  KAEX    KBRO                   1   \n",
       "10119  2018-11-29               MEXICO   R  KATL    KBRO                  56   \n",
       "10120  2018-11-29               MEXICO   R  KMIA    KBRO                  38   \n",
       "10121  2018-11-30               MEXICO   R  KSLC    KELP                   6   \n",
       "10122  2018-11-30               MEXICO   R  KCOS    KELP                  33   \n",
       "10123  2018-11-30               MEXICO   R  KGYY    KBRO                  45   \n",
       "10124  2018-12-03               MEXICO   R  KAEX    KBRO                  58   \n",
       "10125  2018-12-03               MEXICO   R  KATL    KBRO                  71   \n",
       "10126  2018-12-03               MEXICO   R  KMDT    KBRO                  37   \n",
       "10127  2018-12-04               MEXICO   R  KBFI    KELP                  47   \n",
       "10128  2018-12-04               MEXICO   R  KLAS    KIWA                  46   \n",
       "10129  2018-12-04               MEXICO   R  KTOL    KBRO                  29   \n",
       "10130  2018-12-04               MEXICO   R  KEWR    KLRD                  13   \n",
       "10131  2018-12-04               MEXICO   R  KRIC    KBRO                  15   \n",
       "10132  2018-12-04               MEXICO   R  KPSM    KLRD                   8   \n",
       "10133  2018-12-05               MEXICO   R  KMCI    KBRO                  16   \n",
       "10134  2018-12-05               MEXICO   R  KMSP    KBRO                  18   \n",
       "10135  2018-12-05               MEXICO   R  KOMA    KBRO                  12   \n",
       "\n",
       "       MissionIDCount  JuvenileCount  JuvPercent  NCCount   NCPercent  \n",
       "10116               1            0.0         0.0      1.0    6.666667  \n",
       "10117               1            0.0         0.0      4.0   33.333333  \n",
       "10118               1            0.0         0.0      1.0  100.000000  \n",
       "10119               1            0.0         0.0     10.0   17.857143  \n",
       "10120               1            0.0         0.0     11.0   28.947368  \n",
       "10121               1            0.0         0.0      2.0   33.333333  \n",
       "10122               1            0.0         0.0      9.0   27.272727  \n",
       "10123               1            0.0         0.0      6.0   13.333333  \n",
       "10124               1            0.0         0.0     16.0   27.586207  \n",
       "10125               1            0.0         0.0     14.0   19.718310  \n",
       "10126               1            0.0         0.0     12.0   32.432432  \n",
       "10127               1            0.0         0.0     16.0   34.042553  \n",
       "10128               1            0.0         0.0      8.0   17.391304  \n",
       "10129               1            0.0         0.0     13.0   44.827586  \n",
       "10130               1            0.0         0.0      4.0   30.769231  \n",
       "10131               1            0.0         0.0      3.0   20.000000  \n",
       "10132               1            0.0         0.0      2.0   25.000000  \n",
       "10133               1            0.0         0.0      2.0   12.500000  \n",
       "10134               1            0.0         0.0      3.0   16.666667  \n",
       "10135               1            0.0         0.0      3.0   25.000000  "
      ]
     },
     "execution_count": 257,
     "metadata": {},
     "output_type": "execute_result"
    }
   ],
   "source": [
    "removals.tail(20)"
   ]
  },
  {
   "cell_type": "code",
   "execution_count": 258,
   "metadata": {},
   "outputs": [],
   "source": [
    "removals.to_csv(f'../output/{nationality}_removal_flights.csv')"
   ]
  },
  {
   "cell_type": "code",
   "execution_count": 259,
   "metadata": {},
   "outputs": [
    {
     "data": {
      "text/html": [
       "<div>\n",
       "<style scoped>\n",
       "    .dataframe tbody tr th:only-of-type {\n",
       "        vertical-align: middle;\n",
       "    }\n",
       "\n",
       "    .dataframe tbody tr th {\n",
       "        vertical-align: top;\n",
       "    }\n",
       "\n",
       "    .dataframe thead th {\n",
       "        text-align: right;\n",
       "    }\n",
       "</style>\n",
       "<table border=\"1\" class=\"dataframe\">\n",
       "  <thead>\n",
       "    <tr style=\"text-align: right;\">\n",
       "      <th></th>\n",
       "      <th>MissionDate</th>\n",
       "      <th>CountryOfCitizenship</th>\n",
       "      <th>R-T</th>\n",
       "      <th>PULOC</th>\n",
       "      <th>DropLoc</th>\n",
       "      <th>AlienMasterIDCount</th>\n",
       "      <th>MissionIDCount</th>\n",
       "      <th>JuvenileCount</th>\n",
       "      <th>JuvPercent</th>\n",
       "      <th>NCCount</th>\n",
       "      <th>NCPercent</th>\n",
       "    </tr>\n",
       "  </thead>\n",
       "  <tbody>\n",
       "    <tr>\n",
       "      <th>0</th>\n",
       "      <td>2010-10-01</td>\n",
       "      <td>MEXICO</td>\n",
       "      <td>T</td>\n",
       "      <td>KBFL</td>\n",
       "      <td>KIWA</td>\n",
       "      <td>3</td>\n",
       "      <td>1</td>\n",
       "      <td>1.0</td>\n",
       "      <td>0.333333</td>\n",
       "      <td>0.0</td>\n",
       "      <td>0.0</td>\n",
       "    </tr>\n",
       "    <tr>\n",
       "      <th>1</th>\n",
       "      <td>2010-10-01</td>\n",
       "      <td>MEXICO</td>\n",
       "      <td>T</td>\n",
       "      <td>KBFL</td>\n",
       "      <td>KSAN</td>\n",
       "      <td>7</td>\n",
       "      <td>1</td>\n",
       "      <td>0.0</td>\n",
       "      <td>0.000000</td>\n",
       "      <td>0.0</td>\n",
       "      <td>0.0</td>\n",
       "    </tr>\n",
       "    <tr>\n",
       "      <th>2</th>\n",
       "      <td>2010-10-01</td>\n",
       "      <td>MEXICO</td>\n",
       "      <td>T</td>\n",
       "      <td>KMDT</td>\n",
       "      <td>KAEX</td>\n",
       "      <td>20</td>\n",
       "      <td>1</td>\n",
       "      <td>0.0</td>\n",
       "      <td>0.000000</td>\n",
       "      <td>0.0</td>\n",
       "      <td>0.0</td>\n",
       "    </tr>\n",
       "    <tr>\n",
       "      <th>3</th>\n",
       "      <td>2010-10-01</td>\n",
       "      <td>MEXICO</td>\n",
       "      <td>T</td>\n",
       "      <td>KOAK</td>\n",
       "      <td>KIWA</td>\n",
       "      <td>4</td>\n",
       "      <td>1</td>\n",
       "      <td>0.0</td>\n",
       "      <td>0.000000</td>\n",
       "      <td>0.0</td>\n",
       "      <td>0.0</td>\n",
       "    </tr>\n",
       "    <tr>\n",
       "      <th>4</th>\n",
       "      <td>2010-10-01</td>\n",
       "      <td>MEXICO</td>\n",
       "      <td>T</td>\n",
       "      <td>KOAK</td>\n",
       "      <td>KSAN</td>\n",
       "      <td>2</td>\n",
       "      <td>1</td>\n",
       "      <td>0.0</td>\n",
       "      <td>0.000000</td>\n",
       "      <td>0.0</td>\n",
       "      <td>0.0</td>\n",
       "    </tr>\n",
       "  </tbody>\n",
       "</table>\n",
       "</div>"
      ],
      "text/plain": [
       "  MissionDate CountryOfCitizenship R-T PULOC DropLoc  AlienMasterIDCount  \\\n",
       "0  2010-10-01               MEXICO   T  KBFL    KIWA                   3   \n",
       "1  2010-10-01               MEXICO   T  KBFL    KSAN                   7   \n",
       "2  2010-10-01               MEXICO   T  KMDT    KAEX                  20   \n",
       "3  2010-10-01               MEXICO   T  KOAK    KIWA                   4   \n",
       "4  2010-10-01               MEXICO   T  KOAK    KSAN                   2   \n",
       "\n",
       "   MissionIDCount  JuvenileCount  JuvPercent  NCCount  NCPercent  \n",
       "0               1            1.0    0.333333      0.0        0.0  \n",
       "1               1            0.0    0.000000      0.0        0.0  \n",
       "2               1            0.0    0.000000      0.0        0.0  \n",
       "3               1            0.0    0.000000      0.0        0.0  \n",
       "4               1            0.0    0.000000      0.0        0.0  "
      ]
     },
     "execution_count": 259,
     "metadata": {},
     "output_type": "execute_result"
    }
   ],
   "source": [
    "transfers.head()"
   ]
  },
  {
   "cell_type": "code",
   "execution_count": 260,
   "metadata": {},
   "outputs": [],
   "source": [
    "# transfers.to_csv(f'../output/{nationality.lower()}_transfers.csv.gz', compression='gzip', sep='|', index=False)\n",
    "# removals.to_csv(f'../output/{nationality.lower()}_repatriations.csv.gz', compression='gzip', sep='|', index=False)"
   ]
  },
  {
   "cell_type": "code",
   "execution_count": 261,
   "metadata": {},
   "outputs": [],
   "source": [
    "removals.set_index('MissionDate', inplace=True)"
   ]
  },
  {
   "cell_type": "code",
   "execution_count": 262,
   "metadata": {},
   "outputs": [],
   "source": [
    "transfers.set_index('MissionDate', inplace=True)"
   ]
  },
  {
   "cell_type": "code",
   "execution_count": 263,
   "metadata": {},
   "outputs": [],
   "source": [
    "r_cum = removals['AlienMasterIDCount'].cumsum()\n",
    "t_cum = transfers['AlienMasterIDCount'].cumsum()"
   ]
  },
  {
   "cell_type": "code",
   "execution_count": 264,
   "metadata": {},
   "outputs": [
    {
     "data": {
      "text/plain": [
       "<matplotlib.axes._subplots.AxesSubplot at 0x1a1d4b97b8>"
      ]
     },
     "execution_count": 264,
     "metadata": {},
     "output_type": "execute_result"
    },
    {
     "data": {
      "image/png": "[encoded data removed]",
      "text/plain": [
       "<Figure size 432x288 with 1 Axes>"
      ]
     },
     "metadata": {
      "needs_background": "light"
     },
     "output_type": "display_data"
    }
   ],
   "source": [
    "# Cumulative removals\n",
    "# Based on density of removals, decide whether to use points or line\n",
    "# r_cum.plot(style='o-')\n",
    "r_cum.plot(style='-')"
   ]
  },
  {
   "cell_type": "code",
   "execution_count": 265,
   "metadata": {},
   "outputs": [
    {
     "data": {
      "text/plain": [
       "<matplotlib.axes._subplots.AxesSubplot at 0x1a1d21ed30>"
      ]
     },
     "execution_count": 265,
     "metadata": {},
     "output_type": "execute_result"
    },
    {
     "data": {
      "image/png": "[encoded data removed]",
      "text/plain": [
       "<Figure size 432x288 with 1 Axes>"
      ]
     },
     "metadata": {
      "needs_background": "light"
     },
     "output_type": "display_data"
    }
   ],
   "source": [
    "# Cumulative transfers\n",
    "t_cum.plot()"
   ]
  },
  {
   "cell_type": "code",
   "execution_count": 266,
   "metadata": {},
   "outputs": [],
   "source": [
    "g = nationality_df.groupby([pd.Grouper(freq='AS-OCT', sort=True), 'R-T', 'air_AirportName', 'air2_AirportName', 'air2_Country'])[['AlienMasterID', 'MissionID']].nunique()\n",
    "g.reset_index(inplace=True)\n",
    "removal_dropoff_airports = g[g['R-T'] == 'R'].copy()\n",
    "transfer_dropoff_airports = g[g['R-T'] == 'T'].copy()"
   ]
  },
  {
   "cell_type": "code",
   "execution_count": 267,
   "metadata": {},
   "outputs": [],
   "source": [
    "removal_dropoff_airports.sort_values(by=['MissionDate', 'AlienMasterID'], ascending=[True, False], inplace=True)\n",
    "transfer_dropoff_airports.sort_values(by=['MissionDate', 'AlienMasterID'], ascending=[True, False], inplace=True)"
   ]
  },
  {
   "cell_type": "code",
   "execution_count": 268,
   "metadata": {},
   "outputs": [
    {
     "data": {
      "text/html": [
       "<div>\n",
       "<style scoped>\n",
       "    .dataframe tbody tr th:only-of-type {\n",
       "        vertical-align: middle;\n",
       "    }\n",
       "\n",
       "    .dataframe tbody tr th {\n",
       "        vertical-align: top;\n",
       "    }\n",
       "\n",
       "    .dataframe thead th {\n",
       "        text-align: right;\n",
       "    }\n",
       "</style>\n",
       "<table border=\"1\" class=\"dataframe\">\n",
       "  <thead>\n",
       "    <tr style=\"text-align: right;\">\n",
       "      <th></th>\n",
       "      <th>MissionDate</th>\n",
       "      <th>R-T</th>\n",
       "      <th>air_AirportName</th>\n",
       "      <th>air2_AirportName</th>\n",
       "      <th>air2_Country</th>\n",
       "      <th>AlienMasterID</th>\n",
       "      <th>MissionID</th>\n",
       "    </tr>\n",
       "  </thead>\n",
       "  <tbody>\n",
       "    <tr>\n",
       "      <th>76</th>\n",
       "      <td>2010-10-01</td>\n",
       "      <td>R</td>\n",
       "      <td>Tucson International Airport</td>\n",
       "      <td>Licenciado Benito Juarez International Airport</td>\n",
       "      <td>Mexico</td>\n",
       "      <td>8665</td>\n",
       "      <td>77</td>\n",
       "    </tr>\n",
       "    <tr>\n",
       "      <th>39</th>\n",
       "      <td>2010-10-01</td>\n",
       "      <td>R</td>\n",
       "      <td>Metropolitan Oakland International Airport</td>\n",
       "      <td>San Diego International Airport</td>\n",
       "      <td>USA</td>\n",
       "      <td>8457</td>\n",
       "      <td>224</td>\n",
       "    </tr>\n",
       "    <tr>\n",
       "      <th>2</th>\n",
       "      <td>2010-10-01</td>\n",
       "      <td>R</td>\n",
       "      <td>Alexandria International Airport</td>\n",
       "      <td>Valley International Airport</td>\n",
       "      <td>USA</td>\n",
       "      <td>8425</td>\n",
       "      <td>95</td>\n",
       "    </tr>\n",
       "    <tr>\n",
       "      <th>18</th>\n",
       "      <td>2010-10-01</td>\n",
       "      <td>R</td>\n",
       "      <td>El Paso International Airport</td>\n",
       "      <td>Valley International Airport</td>\n",
       "      <td>USA</td>\n",
       "      <td>7475</td>\n",
       "      <td>171</td>\n",
       "    </tr>\n",
       "    <tr>\n",
       "      <th>23</th>\n",
       "      <td>2010-10-01</td>\n",
       "      <td>R</td>\n",
       "      <td>Harrisburg International Airport</td>\n",
       "      <td>Valley International Airport</td>\n",
       "      <td>USA</td>\n",
       "      <td>6790</td>\n",
       "      <td>82</td>\n",
       "    </tr>\n",
       "  </tbody>\n",
       "</table>\n",
       "</div>"
      ],
      "text/plain": [
       "   MissionDate R-T                             air_AirportName  \\\n",
       "76  2010-10-01   R                Tucson International Airport   \n",
       "39  2010-10-01   R  Metropolitan Oakland International Airport   \n",
       "2   2010-10-01   R            Alexandria International Airport   \n",
       "18  2010-10-01   R               El Paso International Airport   \n",
       "23  2010-10-01   R            Harrisburg International Airport   \n",
       "\n",
       "                                  air2_AirportName air2_Country  \\\n",
       "76  Licenciado Benito Juarez International Airport       Mexico   \n",
       "39                 San Diego International Airport          USA   \n",
       "2                     Valley International Airport          USA   \n",
       "18                    Valley International Airport          USA   \n",
       "23                    Valley International Airport          USA   \n",
       "\n",
       "    AlienMasterID  MissionID  \n",
       "76           8665         77  \n",
       "39           8457        224  \n",
       "2            8425         95  \n",
       "18           7475        171  \n",
       "23           6790         82  "
      ]
     },
     "execution_count": 268,
     "metadata": {},
     "output_type": "execute_result"
    }
   ],
   "source": [
    "removal_dropoff_airports.head()"
   ]
  },
  {
   "cell_type": "code",
   "execution_count": 269,
   "metadata": {},
   "outputs": [
    {
     "data": {
      "text/html": [
       "<div>\n",
       "<style scoped>\n",
       "    .dataframe tbody tr th:only-of-type {\n",
       "        vertical-align: middle;\n",
       "    }\n",
       "\n",
       "    .dataframe tbody tr th {\n",
       "        vertical-align: top;\n",
       "    }\n",
       "\n",
       "    .dataframe thead th {\n",
       "        text-align: right;\n",
       "    }\n",
       "</style>\n",
       "<table border=\"1\" class=\"dataframe\">\n",
       "  <thead>\n",
       "    <tr style=\"text-align: right;\">\n",
       "      <th></th>\n",
       "      <th>MissionDate</th>\n",
       "      <th>R-T</th>\n",
       "      <th>air_AirportName</th>\n",
       "      <th>air2_AirportName</th>\n",
       "      <th>air2_Country</th>\n",
       "      <th>AlienMasterID</th>\n",
       "      <th>MissionID</th>\n",
       "    </tr>\n",
       "  </thead>\n",
       "  <tbody>\n",
       "    <tr>\n",
       "      <th>124</th>\n",
       "      <td>2010-10-01</td>\n",
       "      <td>T</td>\n",
       "      <td>Metropolitan Oakland International Airport</td>\n",
       "      <td>Phoenix-Mesa-Gateway Airport</td>\n",
       "      <td>USA</td>\n",
       "      <td>1621</td>\n",
       "      <td>217</td>\n",
       "    </tr>\n",
       "    <tr>\n",
       "      <th>117</th>\n",
       "      <td>2010-10-01</td>\n",
       "      <td>T</td>\n",
       "      <td>Meadows Field</td>\n",
       "      <td>Phoenix-Mesa-Gateway Airport</td>\n",
       "      <td>USA</td>\n",
       "      <td>1370</td>\n",
       "      <td>209</td>\n",
       "    </tr>\n",
       "    <tr>\n",
       "      <th>159</th>\n",
       "      <td>2010-10-01</td>\n",
       "      <td>T</td>\n",
       "      <td>San Diego International Airport</td>\n",
       "      <td>El Paso International Airport</td>\n",
       "      <td>USA</td>\n",
       "      <td>1172</td>\n",
       "      <td>91</td>\n",
       "    </tr>\n",
       "    <tr>\n",
       "      <th>100</th>\n",
       "      <td>2010-10-01</td>\n",
       "      <td>T</td>\n",
       "      <td>Harrisburg International Airport</td>\n",
       "      <td>Alexandria International Airport</td>\n",
       "      <td>USA</td>\n",
       "      <td>373</td>\n",
       "      <td>27</td>\n",
       "    </tr>\n",
       "    <tr>\n",
       "      <th>125</th>\n",
       "      <td>2010-10-01</td>\n",
       "      <td>T</td>\n",
       "      <td>Metropolitan Oakland International Airport</td>\n",
       "      <td>San Diego International Airport</td>\n",
       "      <td>USA</td>\n",
       "      <td>311</td>\n",
       "      <td>62</td>\n",
       "    </tr>\n",
       "    <tr>\n",
       "      <th>101</th>\n",
       "      <td>2010-10-01</td>\n",
       "      <td>T</td>\n",
       "      <td>Harrisburg International Airport</td>\n",
       "      <td>El Paso International Airport</td>\n",
       "      <td>USA</td>\n",
       "      <td>294</td>\n",
       "      <td>18</td>\n",
       "    </tr>\n",
       "    <tr>\n",
       "      <th>161</th>\n",
       "      <td>2010-10-01</td>\n",
       "      <td>T</td>\n",
       "      <td>San Diego International Airport</td>\n",
       "      <td>Phoenix-Mesa-Gateway Airport</td>\n",
       "      <td>USA</td>\n",
       "      <td>279</td>\n",
       "      <td>73</td>\n",
       "    </tr>\n",
       "    <tr>\n",
       "      <th>175</th>\n",
       "      <td>2010-10-01</td>\n",
       "      <td>T</td>\n",
       "      <td>Boise Air Terminal/Gowen field</td>\n",
       "      <td>Salt Lake City International Airport</td>\n",
       "      <td>USA</td>\n",
       "      <td>242</td>\n",
       "      <td>25</td>\n",
       "    </tr>\n",
       "    <tr>\n",
       "      <th>150</th>\n",
       "      <td>2010-10-01</td>\n",
       "      <td>T</td>\n",
       "      <td>Reno Tahoe International Airport</td>\n",
       "      <td>Phoenix-Mesa-Gateway Airport</td>\n",
       "      <td>USA</td>\n",
       "      <td>229</td>\n",
       "      <td>39</td>\n",
       "    </tr>\n",
       "    <tr>\n",
       "      <th>135</th>\n",
       "      <td>2010-10-01</td>\n",
       "      <td>T</td>\n",
       "      <td>Phoenix-Mesa-Gateway Airport</td>\n",
       "      <td>Boeing Field King County International Airport</td>\n",
       "      <td>USA</td>\n",
       "      <td>227</td>\n",
       "      <td>29</td>\n",
       "    </tr>\n",
       "  </tbody>\n",
       "</table>\n",
       "</div>"
      ],
      "text/plain": [
       "    MissionDate R-T                             air_AirportName  \\\n",
       "124  2010-10-01   T  Metropolitan Oakland International Airport   \n",
       "117  2010-10-01   T                               Meadows Field   \n",
       "159  2010-10-01   T             San Diego International Airport   \n",
       "100  2010-10-01   T            Harrisburg International Airport   \n",
       "125  2010-10-01   T  Metropolitan Oakland International Airport   \n",
       "101  2010-10-01   T            Harrisburg International Airport   \n",
       "161  2010-10-01   T             San Diego International Airport   \n",
       "175  2010-10-01   T              Boise Air Terminal/Gowen field   \n",
       "150  2010-10-01   T            Reno Tahoe International Airport   \n",
       "135  2010-10-01   T                Phoenix-Mesa-Gateway Airport   \n",
       "\n",
       "                                   air2_AirportName air2_Country  \\\n",
       "124                    Phoenix-Mesa-Gateway Airport          USA   \n",
       "117                    Phoenix-Mesa-Gateway Airport          USA   \n",
       "159                   El Paso International Airport          USA   \n",
       "100                Alexandria International Airport          USA   \n",
       "125                 San Diego International Airport          USA   \n",
       "101                   El Paso International Airport          USA   \n",
       "161                    Phoenix-Mesa-Gateway Airport          USA   \n",
       "175            Salt Lake City International Airport          USA   \n",
       "150                    Phoenix-Mesa-Gateway Airport          USA   \n",
       "135  Boeing Field King County International Airport          USA   \n",
       "\n",
       "     AlienMasterID  MissionID  \n",
       "124           1621        217  \n",
       "117           1370        209  \n",
       "159           1172         91  \n",
       "100            373         27  \n",
       "125            311         62  \n",
       "101            294         18  \n",
       "161            279         73  \n",
       "175            242         25  \n",
       "150            229         39  \n",
       "135            227         29  "
      ]
     },
     "execution_count": 269,
     "metadata": {},
     "output_type": "execute_result"
    }
   ],
   "source": [
    "transfer_dropoff_airports.head(10)"
   ]
  },
  {
   "cell_type": "code",
   "execution_count": 270,
   "metadata": {},
   "outputs": [],
   "source": [
    "# removal_dropoff_airports.to_csv(f'../output/{nationality}_repatriation_dropoff_airports.csv')\n",
    "# transfer_dropoff_airports.to_csv(f'../output/{nationality}_transfer_dropoff_airports.csv')"
   ]
  },
  {
   "cell_type": "code",
   "execution_count": 271,
   "metadata": {},
   "outputs": [],
   "source": [
    "removal_dropoff_airports = removal_dropoff_airports.set_index('MissionDate')"
   ]
  },
  {
   "cell_type": "code",
   "execution_count": 272,
   "metadata": {},
   "outputs": [],
   "source": [
    "removal_sum = removal_dropoff_airports.groupby([pd.Grouper(freq='AS-OCT'), 'air2_AirportName'])[['AlienMasterID']].sum()"
   ]
  },
  {
   "cell_type": "code",
   "execution_count": 273,
   "metadata": {},
   "outputs": [],
   "source": [
    "removal_sum.reset_index(inplace=True)\n",
    "removal_sum = removal_sum.sort_values(by=['MissionDate', 'AlienMasterID'], ascending=[True, False])"
   ]
  },
  {
   "cell_type": "code",
   "execution_count": 274,
   "metadata": {},
   "outputs": [],
   "source": [
    "removal_sum.set_index('MissionDate', inplace=True)"
   ]
  },
  {
   "cell_type": "code",
   "execution_count": 275,
   "metadata": {},
   "outputs": [],
   "source": [
    "removal_sum = removal_sum.dropna()"
   ]
  },
  {
   "cell_type": "code",
   "execution_count": 276,
   "metadata": {},
   "outputs": [],
   "source": [
    "top_5_df = pd.DataFrame()\n",
    "\n",
    "for year in removal_sum.index.unique():\n",
    "    temp = removal_sum.loc[f'{year}'][['air2_AirportName', 'AlienMasterID']]\n",
    "    temp_top_5 = temp[0:5]\n",
    "    if len(temp) > 5:\n",
    "        all_other_count = sum(temp['AlienMasterID'][5:])\n",
    "    else:\n",
    "        all_other_count = 0\n",
    "    other_df = pd.DataFrame([['ALL OTHERS', all_other_count]], columns=['air2_AirportName', 'AlienMasterID'], index=[year])\n",
    "    temp_top_5 = temp_top_5.append(other_df)\n",
    "    top_5_df = top_5_df.append(temp_top_5)"
   ]
  },
  {
   "cell_type": "code",
   "execution_count": 277,
   "metadata": {},
   "outputs": [
    {
     "data": {
      "image/png": "[encoded data removed]",
      "text/plain": [
       "<Figure size 720x576 with 1 Axes>"
      ]
     },
     "metadata": {
      "needs_background": "light"
     },
     "output_type": "display_data"
    }
   ],
   "source": [
    "pivot = pd.pivot_table(data=top_5_df,\n",
    "                       index=top_5_df.index,\n",
    "                       columns='air2_AirportName',\n",
    "                       values='AlienMasterID',\n",
    "                       aggfunc=np.sum,\n",
    "                       fill_value=0)\n",
    "\n",
    "pivot = pivot.reindex(pivot.sum().sort_values(ascending=False).index, axis=1)\n",
    "cols = list(pivot.columns)\n",
    "cols.remove('ALL OTHERS')\n",
    "cols.append('ALL OTHERS')\n",
    "pivot = pivot[cols]\n",
    "\n",
    "fig = pivot.plot(kind='bar', stacked=True, figsize=(10, 8))"
   ]
  },
  {
   "cell_type": "markdown",
   "metadata": {},
   "source": [
    "## Juveniles only"
   ]
  },
  {
   "cell_type": "code",
   "execution_count": 278,
   "metadata": {},
   "outputs": [],
   "source": [
    "juv_r_cum = removals['JuvenileCount'].cumsum()"
   ]
  },
  {
   "cell_type": "code",
   "execution_count": 279,
   "metadata": {},
   "outputs": [
    {
     "data": {
      "text/plain": [
       "<matplotlib.axes._subplots.AxesSubplot at 0x1a1bd53278>"
      ]
     },
     "execution_count": 279,
     "metadata": {},
     "output_type": "execute_result"
    },
    {
     "data": {
      "image/png": "[encoded data removed]",
      "text/plain": [
       "<Figure size 432x288 with 1 Axes>"
      ]
     },
     "metadata": {
      "needs_background": "light"
     },
     "output_type": "display_data"
    }
   ],
   "source": [
    "juv_r_cum.plot()"
   ]
  },
  {
   "cell_type": "code",
   "execution_count": 280,
   "metadata": {},
   "outputs": [
    {
     "data": {
      "text/html": [
       "<div>\n",
       "<style scoped>\n",
       "    .dataframe tbody tr th:only-of-type {\n",
       "        vertical-align: middle;\n",
       "    }\n",
       "\n",
       "    .dataframe tbody tr th {\n",
       "        vertical-align: top;\n",
       "    }\n",
       "\n",
       "    .dataframe thead th {\n",
       "        text-align: right;\n",
       "    }\n",
       "</style>\n",
       "<table border=\"1\" class=\"dataframe\">\n",
       "  <thead>\n",
       "    <tr style=\"text-align: right;\">\n",
       "      <th></th>\n",
       "      <th>CountryOfCitizenship</th>\n",
       "      <th>R-T</th>\n",
       "      <th>PULOC</th>\n",
       "      <th>DropLoc</th>\n",
       "      <th>AlienMasterIDCount</th>\n",
       "      <th>MissionIDCount</th>\n",
       "      <th>JuvenileCount</th>\n",
       "      <th>JuvPercent</th>\n",
       "      <th>NCCount</th>\n",
       "      <th>NCPercent</th>\n",
       "    </tr>\n",
       "    <tr>\n",
       "      <th>MissionDate</th>\n",
       "      <th></th>\n",
       "      <th></th>\n",
       "      <th></th>\n",
       "      <th></th>\n",
       "      <th></th>\n",
       "      <th></th>\n",
       "      <th></th>\n",
       "      <th></th>\n",
       "      <th></th>\n",
       "      <th></th>\n",
       "    </tr>\n",
       "  </thead>\n",
       "  <tbody>\n",
       "    <tr>\n",
       "      <th>2018-11-28</th>\n",
       "      <td>MEXICO</td>\n",
       "      <td>R</td>\n",
       "      <td>KMSP</td>\n",
       "      <td>KBRO</td>\n",
       "      <td>15</td>\n",
       "      <td>1</td>\n",
       "      <td>0.0</td>\n",
       "      <td>0.0</td>\n",
       "      <td>1.0</td>\n",
       "      <td>6.666667</td>\n",
       "    </tr>\n",
       "    <tr>\n",
       "      <th>2018-11-28</th>\n",
       "      <td>MEXICO</td>\n",
       "      <td>R</td>\n",
       "      <td>KOMA</td>\n",
       "      <td>KBRO</td>\n",
       "      <td>12</td>\n",
       "      <td>1</td>\n",
       "      <td>0.0</td>\n",
       "      <td>0.0</td>\n",
       "      <td>4.0</td>\n",
       "      <td>33.333333</td>\n",
       "    </tr>\n",
       "    <tr>\n",
       "      <th>2018-11-29</th>\n",
       "      <td>MEXICO</td>\n",
       "      <td>R</td>\n",
       "      <td>KAEX</td>\n",
       "      <td>KBRO</td>\n",
       "      <td>1</td>\n",
       "      <td>1</td>\n",
       "      <td>0.0</td>\n",
       "      <td>0.0</td>\n",
       "      <td>1.0</td>\n",
       "      <td>100.000000</td>\n",
       "    </tr>\n",
       "    <tr>\n",
       "      <th>2018-11-29</th>\n",
       "      <td>MEXICO</td>\n",
       "      <td>R</td>\n",
       "      <td>KATL</td>\n",
       "      <td>KBRO</td>\n",
       "      <td>56</td>\n",
       "      <td>1</td>\n",
       "      <td>0.0</td>\n",
       "      <td>0.0</td>\n",
       "      <td>10.0</td>\n",
       "      <td>17.857143</td>\n",
       "    </tr>\n",
       "    <tr>\n",
       "      <th>2018-11-29</th>\n",
       "      <td>MEXICO</td>\n",
       "      <td>R</td>\n",
       "      <td>KMIA</td>\n",
       "      <td>KBRO</td>\n",
       "      <td>38</td>\n",
       "      <td>1</td>\n",
       "      <td>0.0</td>\n",
       "      <td>0.0</td>\n",
       "      <td>11.0</td>\n",
       "      <td>28.947368</td>\n",
       "    </tr>\n",
       "    <tr>\n",
       "      <th>2018-11-30</th>\n",
       "      <td>MEXICO</td>\n",
       "      <td>R</td>\n",
       "      <td>KSLC</td>\n",
       "      <td>KELP</td>\n",
       "      <td>6</td>\n",
       "      <td>1</td>\n",
       "      <td>0.0</td>\n",
       "      <td>0.0</td>\n",
       "      <td>2.0</td>\n",
       "      <td>33.333333</td>\n",
       "    </tr>\n",
       "    <tr>\n",
       "      <th>2018-11-30</th>\n",
       "      <td>MEXICO</td>\n",
       "      <td>R</td>\n",
       "      <td>KCOS</td>\n",
       "      <td>KELP</td>\n",
       "      <td>33</td>\n",
       "      <td>1</td>\n",
       "      <td>0.0</td>\n",
       "      <td>0.0</td>\n",
       "      <td>9.0</td>\n",
       "      <td>27.272727</td>\n",
       "    </tr>\n",
       "    <tr>\n",
       "      <th>2018-11-30</th>\n",
       "      <td>MEXICO</td>\n",
       "      <td>R</td>\n",
       "      <td>KGYY</td>\n",
       "      <td>KBRO</td>\n",
       "      <td>45</td>\n",
       "      <td>1</td>\n",
       "      <td>0.0</td>\n",
       "      <td>0.0</td>\n",
       "      <td>6.0</td>\n",
       "      <td>13.333333</td>\n",
       "    </tr>\n",
       "    <tr>\n",
       "      <th>2018-12-03</th>\n",
       "      <td>MEXICO</td>\n",
       "      <td>R</td>\n",
       "      <td>KAEX</td>\n",
       "      <td>KBRO</td>\n",
       "      <td>58</td>\n",
       "      <td>1</td>\n",
       "      <td>0.0</td>\n",
       "      <td>0.0</td>\n",
       "      <td>16.0</td>\n",
       "      <td>27.586207</td>\n",
       "    </tr>\n",
       "    <tr>\n",
       "      <th>2018-12-03</th>\n",
       "      <td>MEXICO</td>\n",
       "      <td>R</td>\n",
       "      <td>KATL</td>\n",
       "      <td>KBRO</td>\n",
       "      <td>71</td>\n",
       "      <td>1</td>\n",
       "      <td>0.0</td>\n",
       "      <td>0.0</td>\n",
       "      <td>14.0</td>\n",
       "      <td>19.718310</td>\n",
       "    </tr>\n",
       "    <tr>\n",
       "      <th>2018-12-03</th>\n",
       "      <td>MEXICO</td>\n",
       "      <td>R</td>\n",
       "      <td>KMDT</td>\n",
       "      <td>KBRO</td>\n",
       "      <td>37</td>\n",
       "      <td>1</td>\n",
       "      <td>0.0</td>\n",
       "      <td>0.0</td>\n",
       "      <td>12.0</td>\n",
       "      <td>32.432432</td>\n",
       "    </tr>\n",
       "    <tr>\n",
       "      <th>2018-12-04</th>\n",
       "      <td>MEXICO</td>\n",
       "      <td>R</td>\n",
       "      <td>KBFI</td>\n",
       "      <td>KELP</td>\n",
       "      <td>47</td>\n",
       "      <td>1</td>\n",
       "      <td>0.0</td>\n",
       "      <td>0.0</td>\n",
       "      <td>16.0</td>\n",
       "      <td>34.042553</td>\n",
       "    </tr>\n",
       "    <tr>\n",
       "      <th>2018-12-04</th>\n",
       "      <td>MEXICO</td>\n",
       "      <td>R</td>\n",
       "      <td>KLAS</td>\n",
       "      <td>KIWA</td>\n",
       "      <td>46</td>\n",
       "      <td>1</td>\n",
       "      <td>0.0</td>\n",
       "      <td>0.0</td>\n",
       "      <td>8.0</td>\n",
       "      <td>17.391304</td>\n",
       "    </tr>\n",
       "    <tr>\n",
       "      <th>2018-12-04</th>\n",
       "      <td>MEXICO</td>\n",
       "      <td>R</td>\n",
       "      <td>KTOL</td>\n",
       "      <td>KBRO</td>\n",
       "      <td>29</td>\n",
       "      <td>1</td>\n",
       "      <td>0.0</td>\n",
       "      <td>0.0</td>\n",
       "      <td>13.0</td>\n",
       "      <td>44.827586</td>\n",
       "    </tr>\n",
       "    <tr>\n",
       "      <th>2018-12-04</th>\n",
       "      <td>MEXICO</td>\n",
       "      <td>R</td>\n",
       "      <td>KEWR</td>\n",
       "      <td>KLRD</td>\n",
       "      <td>13</td>\n",
       "      <td>1</td>\n",
       "      <td>0.0</td>\n",
       "      <td>0.0</td>\n",
       "      <td>4.0</td>\n",
       "      <td>30.769231</td>\n",
       "    </tr>\n",
       "    <tr>\n",
       "      <th>2018-12-04</th>\n",
       "      <td>MEXICO</td>\n",
       "      <td>R</td>\n",
       "      <td>KRIC</td>\n",
       "      <td>KBRO</td>\n",
       "      <td>15</td>\n",
       "      <td>1</td>\n",
       "      <td>0.0</td>\n",
       "      <td>0.0</td>\n",
       "      <td>3.0</td>\n",
       "      <td>20.000000</td>\n",
       "    </tr>\n",
       "    <tr>\n",
       "      <th>2018-12-04</th>\n",
       "      <td>MEXICO</td>\n",
       "      <td>R</td>\n",
       "      <td>KPSM</td>\n",
       "      <td>KLRD</td>\n",
       "      <td>8</td>\n",
       "      <td>1</td>\n",
       "      <td>0.0</td>\n",
       "      <td>0.0</td>\n",
       "      <td>2.0</td>\n",
       "      <td>25.000000</td>\n",
       "    </tr>\n",
       "    <tr>\n",
       "      <th>2018-12-05</th>\n",
       "      <td>MEXICO</td>\n",
       "      <td>R</td>\n",
       "      <td>KMCI</td>\n",
       "      <td>KBRO</td>\n",
       "      <td>16</td>\n",
       "      <td>1</td>\n",
       "      <td>0.0</td>\n",
       "      <td>0.0</td>\n",
       "      <td>2.0</td>\n",
       "      <td>12.500000</td>\n",
       "    </tr>\n",
       "    <tr>\n",
       "      <th>2018-12-05</th>\n",
       "      <td>MEXICO</td>\n",
       "      <td>R</td>\n",
       "      <td>KMSP</td>\n",
       "      <td>KBRO</td>\n",
       "      <td>18</td>\n",
       "      <td>1</td>\n",
       "      <td>0.0</td>\n",
       "      <td>0.0</td>\n",
       "      <td>3.0</td>\n",
       "      <td>16.666667</td>\n",
       "    </tr>\n",
       "    <tr>\n",
       "      <th>2018-12-05</th>\n",
       "      <td>MEXICO</td>\n",
       "      <td>R</td>\n",
       "      <td>KOMA</td>\n",
       "      <td>KBRO</td>\n",
       "      <td>12</td>\n",
       "      <td>1</td>\n",
       "      <td>0.0</td>\n",
       "      <td>0.0</td>\n",
       "      <td>3.0</td>\n",
       "      <td>25.000000</td>\n",
       "    </tr>\n",
       "  </tbody>\n",
       "</table>\n",
       "</div>"
      ],
      "text/plain": [
       "            CountryOfCitizenship R-T PULOC DropLoc  AlienMasterIDCount  \\\n",
       "MissionDate                                                              \n",
       "2018-11-28                MEXICO   R  KMSP    KBRO                  15   \n",
       "2018-11-28                MEXICO   R  KOMA    KBRO                  12   \n",
       "2018-11-29                MEXICO   R  KAEX    KBRO                   1   \n",
       "2018-11-29                MEXICO   R  KATL    KBRO                  56   \n",
       "2018-11-29                MEXICO   R  KMIA    KBRO                  38   \n",
       "2018-11-30                MEXICO   R  KSLC    KELP                   6   \n",
       "2018-11-30                MEXICO   R  KCOS    KELP                  33   \n",
       "2018-11-30                MEXICO   R  KGYY    KBRO                  45   \n",
       "2018-12-03                MEXICO   R  KAEX    KBRO                  58   \n",
       "2018-12-03                MEXICO   R  KATL    KBRO                  71   \n",
       "2018-12-03                MEXICO   R  KMDT    KBRO                  37   \n",
       "2018-12-04                MEXICO   R  KBFI    KELP                  47   \n",
       "2018-12-04                MEXICO   R  KLAS    KIWA                  46   \n",
       "2018-12-04                MEXICO   R  KTOL    KBRO                  29   \n",
       "2018-12-04                MEXICO   R  KEWR    KLRD                  13   \n",
       "2018-12-04                MEXICO   R  KRIC    KBRO                  15   \n",
       "2018-12-04                MEXICO   R  KPSM    KLRD                   8   \n",
       "2018-12-05                MEXICO   R  KMCI    KBRO                  16   \n",
       "2018-12-05                MEXICO   R  KMSP    KBRO                  18   \n",
       "2018-12-05                MEXICO   R  KOMA    KBRO                  12   \n",
       "\n",
       "             MissionIDCount  JuvenileCount  JuvPercent  NCCount   NCPercent  \n",
       "MissionDate                                                                  \n",
       "2018-11-28                1            0.0         0.0      1.0    6.666667  \n",
       "2018-11-28                1            0.0         0.0      4.0   33.333333  \n",
       "2018-11-29                1            0.0         0.0      1.0  100.000000  \n",
       "2018-11-29                1            0.0         0.0     10.0   17.857143  \n",
       "2018-11-29                1            0.0         0.0     11.0   28.947368  \n",
       "2018-11-30                1            0.0         0.0      2.0   33.333333  \n",
       "2018-11-30                1            0.0         0.0      9.0   27.272727  \n",
       "2018-11-30                1            0.0         0.0      6.0   13.333333  \n",
       "2018-12-03                1            0.0         0.0     16.0   27.586207  \n",
       "2018-12-03                1            0.0         0.0     14.0   19.718310  \n",
       "2018-12-03                1            0.0         0.0     12.0   32.432432  \n",
       "2018-12-04                1            0.0         0.0     16.0   34.042553  \n",
       "2018-12-04                1            0.0         0.0      8.0   17.391304  \n",
       "2018-12-04                1            0.0         0.0     13.0   44.827586  \n",
       "2018-12-04                1            0.0         0.0      4.0   30.769231  \n",
       "2018-12-04                1            0.0         0.0      3.0   20.000000  \n",
       "2018-12-04                1            0.0         0.0      2.0   25.000000  \n",
       "2018-12-05                1            0.0         0.0      2.0   12.500000  \n",
       "2018-12-05                1            0.0         0.0      3.0   16.666667  \n",
       "2018-12-05                1            0.0         0.0      3.0   25.000000  "
      ]
     },
     "execution_count": 280,
     "metadata": {},
     "output_type": "execute_result"
    }
   ],
   "source": [
    "removals.tail(20)"
   ]
  },
  {
   "cell_type": "code",
   "execution_count": 281,
   "metadata": {},
   "outputs": [
    {
     "data": {
      "image/png": "[encoded data removed]",
      "text/plain": [
       "<Figure size 432x288 with 1 Axes>"
      ]
     },
     "metadata": {
      "needs_background": "light"
     },
     "output_type": "display_data"
    }
   ],
   "source": [
    "removals['JuvPercent'].plot();"
   ]
  },
  {
   "cell_type": "code",
   "execution_count": 282,
   "metadata": {},
   "outputs": [
    {
     "ename": "KeyError",
     "evalue": "'JuvCount'",
     "output_type": "error",
     "traceback": [
      "\u001b[0;31m---------------------------------------------------------------------------\u001b[0m",
      "\u001b[0;31mKeyError\u001b[0m                                  Traceback (most recent call last)",
      "\u001b[0;32m~/anaconda3/lib/python3.7/site-packages/pandas/core/indexes/base.py\u001b[0m in \u001b[0;36mget_loc\u001b[0;34m(self, key, method, tolerance)\u001b[0m\n\u001b[1;32m   3077\u001b[0m             \u001b[0;32mtry\u001b[0m\u001b[0;34m:\u001b[0m\u001b[0;34m\u001b[0m\u001b[0;34m\u001b[0m\u001b[0m\n\u001b[0;32m-> 3078\u001b[0;31m                 \u001b[0;32mreturn\u001b[0m \u001b[0mself\u001b[0m\u001b[0;34m.\u001b[0m\u001b[0m_engine\u001b[0m\u001b[0;34m.\u001b[0m\u001b[0mget_loc\u001b[0m\u001b[0;34m(\u001b[0m\u001b[0mkey\u001b[0m\u001b[0;34m)\u001b[0m\u001b[0;34m\u001b[0m\u001b[0;34m\u001b[0m\u001b[0m\n\u001b[0m\u001b[1;32m   3079\u001b[0m             \u001b[0;32mexcept\u001b[0m \u001b[0mKeyError\u001b[0m\u001b[0;34m:\u001b[0m\u001b[0;34m\u001b[0m\u001b[0;34m\u001b[0m\u001b[0m\n",
      "\u001b[0;32mpandas/_libs/index.pyx\u001b[0m in \u001b[0;36mpandas._libs.index.IndexEngine.get_loc\u001b[0;34m()\u001b[0m\n",
      "\u001b[0;32mpandas/_libs/index.pyx\u001b[0m in \u001b[0;36mpandas._libs.index.IndexEngine.get_loc\u001b[0;34m()\u001b[0m\n",
      "\u001b[0;32mpandas/_libs/hashtable_class_helper.pxi\u001b[0m in \u001b[0;36mpandas._libs.hashtable.PyObjectHashTable.get_item\u001b[0;34m()\u001b[0m\n",
      "\u001b[0;32mpandas/_libs/hashtable_class_helper.pxi\u001b[0m in \u001b[0;36mpandas._libs.hashtable.PyObjectHashTable.get_item\u001b[0;34m()\u001b[0m\n",
      "\u001b[0;31mKeyError\u001b[0m: 'JuvCount'",
      "\nDuring handling of the above exception, another exception occurred:\n",
      "\u001b[0;31mKeyError\u001b[0m                                  Traceback (most recent call last)",
      "\u001b[0;32m<ipython-input-282-2d354812c8e6>\u001b[0m in \u001b[0;36m<module>\u001b[0;34m\u001b[0m\n\u001b[0;32m----> 1\u001b[0;31m \u001b[0mremovals\u001b[0m\u001b[0;34m[\u001b[0m\u001b[0;34m'JuvCount'\u001b[0m\u001b[0;34m]\u001b[0m\u001b[0;34m.\u001b[0m\u001b[0mplot\u001b[0m\u001b[0;34m(\u001b[0m\u001b[0;34m)\u001b[0m\u001b[0;34m;\u001b[0m\u001b[0;34m\u001b[0m\u001b[0;34m\u001b[0m\u001b[0m\n\u001b[0m",
      "\u001b[0;32m~/anaconda3/lib/python3.7/site-packages/pandas/core/frame.py\u001b[0m in \u001b[0;36m__getitem__\u001b[0;34m(self, key)\u001b[0m\n\u001b[1;32m   2686\u001b[0m             \u001b[0;32mreturn\u001b[0m \u001b[0mself\u001b[0m\u001b[0;34m.\u001b[0m\u001b[0m_getitem_multilevel\u001b[0m\u001b[0;34m(\u001b[0m\u001b[0mkey\u001b[0m\u001b[0;34m)\u001b[0m\u001b[0;34m\u001b[0m\u001b[0;34m\u001b[0m\u001b[0m\n\u001b[1;32m   2687\u001b[0m         \u001b[0;32melse\u001b[0m\u001b[0;34m:\u001b[0m\u001b[0;34m\u001b[0m\u001b[0;34m\u001b[0m\u001b[0m\n\u001b[0;32m-> 2688\u001b[0;31m             \u001b[0;32mreturn\u001b[0m \u001b[0mself\u001b[0m\u001b[0;34m.\u001b[0m\u001b[0m_getitem_column\u001b[0m\u001b[0;34m(\u001b[0m\u001b[0mkey\u001b[0m\u001b[0;34m)\u001b[0m\u001b[0;34m\u001b[0m\u001b[0;34m\u001b[0m\u001b[0m\n\u001b[0m\u001b[1;32m   2689\u001b[0m \u001b[0;34m\u001b[0m\u001b[0m\n\u001b[1;32m   2690\u001b[0m     \u001b[0;32mdef\u001b[0m \u001b[0m_getitem_column\u001b[0m\u001b[0;34m(\u001b[0m\u001b[0mself\u001b[0m\u001b[0;34m,\u001b[0m \u001b[0mkey\u001b[0m\u001b[0;34m)\u001b[0m\u001b[0;34m:\u001b[0m\u001b[0;34m\u001b[0m\u001b[0;34m\u001b[0m\u001b[0m\n",
      "\u001b[0;32m~/anaconda3/lib/python3.7/site-packages/pandas/core/frame.py\u001b[0m in \u001b[0;36m_getitem_column\u001b[0;34m(self, key)\u001b[0m\n\u001b[1;32m   2693\u001b[0m         \u001b[0;31m# get column\u001b[0m\u001b[0;34m\u001b[0m\u001b[0;34m\u001b[0m\u001b[0;34m\u001b[0m\u001b[0m\n\u001b[1;32m   2694\u001b[0m         \u001b[0;32mif\u001b[0m \u001b[0mself\u001b[0m\u001b[0;34m.\u001b[0m\u001b[0mcolumns\u001b[0m\u001b[0;34m.\u001b[0m\u001b[0mis_unique\u001b[0m\u001b[0;34m:\u001b[0m\u001b[0;34m\u001b[0m\u001b[0;34m\u001b[0m\u001b[0m\n\u001b[0;32m-> 2695\u001b[0;31m             \u001b[0;32mreturn\u001b[0m \u001b[0mself\u001b[0m\u001b[0;34m.\u001b[0m\u001b[0m_get_item_cache\u001b[0m\u001b[0;34m(\u001b[0m\u001b[0mkey\u001b[0m\u001b[0;34m)\u001b[0m\u001b[0;34m\u001b[0m\u001b[0;34m\u001b[0m\u001b[0m\n\u001b[0m\u001b[1;32m   2696\u001b[0m \u001b[0;34m\u001b[0m\u001b[0m\n\u001b[1;32m   2697\u001b[0m         \u001b[0;31m# duplicate columns & possible reduce dimensionality\u001b[0m\u001b[0;34m\u001b[0m\u001b[0;34m\u001b[0m\u001b[0;34m\u001b[0m\u001b[0m\n",
      "\u001b[0;32m~/anaconda3/lib/python3.7/site-packages/pandas/core/generic.py\u001b[0m in \u001b[0;36m_get_item_cache\u001b[0;34m(self, item)\u001b[0m\n\u001b[1;32m   2487\u001b[0m         \u001b[0mres\u001b[0m \u001b[0;34m=\u001b[0m \u001b[0mcache\u001b[0m\u001b[0;34m.\u001b[0m\u001b[0mget\u001b[0m\u001b[0;34m(\u001b[0m\u001b[0mitem\u001b[0m\u001b[0;34m)\u001b[0m\u001b[0;34m\u001b[0m\u001b[0;34m\u001b[0m\u001b[0m\n\u001b[1;32m   2488\u001b[0m         \u001b[0;32mif\u001b[0m \u001b[0mres\u001b[0m \u001b[0;32mis\u001b[0m \u001b[0;32mNone\u001b[0m\u001b[0;34m:\u001b[0m\u001b[0;34m\u001b[0m\u001b[0;34m\u001b[0m\u001b[0m\n\u001b[0;32m-> 2489\u001b[0;31m             \u001b[0mvalues\u001b[0m \u001b[0;34m=\u001b[0m \u001b[0mself\u001b[0m\u001b[0;34m.\u001b[0m\u001b[0m_data\u001b[0m\u001b[0;34m.\u001b[0m\u001b[0mget\u001b[0m\u001b[0;34m(\u001b[0m\u001b[0mitem\u001b[0m\u001b[0;34m)\u001b[0m\u001b[0;34m\u001b[0m\u001b[0;34m\u001b[0m\u001b[0m\n\u001b[0m\u001b[1;32m   2490\u001b[0m             \u001b[0mres\u001b[0m \u001b[0;34m=\u001b[0m \u001b[0mself\u001b[0m\u001b[0;34m.\u001b[0m\u001b[0m_box_item_values\u001b[0m\u001b[0;34m(\u001b[0m\u001b[0mitem\u001b[0m\u001b[0;34m,\u001b[0m \u001b[0mvalues\u001b[0m\u001b[0;34m)\u001b[0m\u001b[0;34m\u001b[0m\u001b[0;34m\u001b[0m\u001b[0m\n\u001b[1;32m   2491\u001b[0m             \u001b[0mcache\u001b[0m\u001b[0;34m[\u001b[0m\u001b[0mitem\u001b[0m\u001b[0;34m]\u001b[0m \u001b[0;34m=\u001b[0m \u001b[0mres\u001b[0m\u001b[0;34m\u001b[0m\u001b[0;34m\u001b[0m\u001b[0m\n",
      "\u001b[0;32m~/anaconda3/lib/python3.7/site-packages/pandas/core/internals.py\u001b[0m in \u001b[0;36mget\u001b[0;34m(self, item, fastpath)\u001b[0m\n\u001b[1;32m   4113\u001b[0m \u001b[0;34m\u001b[0m\u001b[0m\n\u001b[1;32m   4114\u001b[0m             \u001b[0;32mif\u001b[0m \u001b[0;32mnot\u001b[0m \u001b[0misna\u001b[0m\u001b[0;34m(\u001b[0m\u001b[0mitem\u001b[0m\u001b[0;34m)\u001b[0m\u001b[0;34m:\u001b[0m\u001b[0;34m\u001b[0m\u001b[0;34m\u001b[0m\u001b[0m\n\u001b[0;32m-> 4115\u001b[0;31m                 \u001b[0mloc\u001b[0m \u001b[0;34m=\u001b[0m \u001b[0mself\u001b[0m\u001b[0;34m.\u001b[0m\u001b[0mitems\u001b[0m\u001b[0;34m.\u001b[0m\u001b[0mget_loc\u001b[0m\u001b[0;34m(\u001b[0m\u001b[0mitem\u001b[0m\u001b[0;34m)\u001b[0m\u001b[0;34m\u001b[0m\u001b[0;34m\u001b[0m\u001b[0m\n\u001b[0m\u001b[1;32m   4116\u001b[0m             \u001b[0;32melse\u001b[0m\u001b[0;34m:\u001b[0m\u001b[0;34m\u001b[0m\u001b[0;34m\u001b[0m\u001b[0m\n\u001b[1;32m   4117\u001b[0m                 \u001b[0mindexer\u001b[0m \u001b[0;34m=\u001b[0m \u001b[0mnp\u001b[0m\u001b[0;34m.\u001b[0m\u001b[0marange\u001b[0m\u001b[0;34m(\u001b[0m\u001b[0mlen\u001b[0m\u001b[0;34m(\u001b[0m\u001b[0mself\u001b[0m\u001b[0;34m.\u001b[0m\u001b[0mitems\u001b[0m\u001b[0;34m)\u001b[0m\u001b[0;34m)\u001b[0m\u001b[0;34m[\u001b[0m\u001b[0misna\u001b[0m\u001b[0;34m(\u001b[0m\u001b[0mself\u001b[0m\u001b[0;34m.\u001b[0m\u001b[0mitems\u001b[0m\u001b[0;34m)\u001b[0m\u001b[0;34m]\u001b[0m\u001b[0;34m\u001b[0m\u001b[0;34m\u001b[0m\u001b[0m\n",
      "\u001b[0;32m~/anaconda3/lib/python3.7/site-packages/pandas/core/indexes/base.py\u001b[0m in \u001b[0;36mget_loc\u001b[0;34m(self, key, method, tolerance)\u001b[0m\n\u001b[1;32m   3078\u001b[0m                 \u001b[0;32mreturn\u001b[0m \u001b[0mself\u001b[0m\u001b[0;34m.\u001b[0m\u001b[0m_engine\u001b[0m\u001b[0;34m.\u001b[0m\u001b[0mget_loc\u001b[0m\u001b[0;34m(\u001b[0m\u001b[0mkey\u001b[0m\u001b[0;34m)\u001b[0m\u001b[0;34m\u001b[0m\u001b[0;34m\u001b[0m\u001b[0m\n\u001b[1;32m   3079\u001b[0m             \u001b[0;32mexcept\u001b[0m \u001b[0mKeyError\u001b[0m\u001b[0;34m:\u001b[0m\u001b[0;34m\u001b[0m\u001b[0;34m\u001b[0m\u001b[0m\n\u001b[0;32m-> 3080\u001b[0;31m                 \u001b[0;32mreturn\u001b[0m \u001b[0mself\u001b[0m\u001b[0;34m.\u001b[0m\u001b[0m_engine\u001b[0m\u001b[0;34m.\u001b[0m\u001b[0mget_loc\u001b[0m\u001b[0;34m(\u001b[0m\u001b[0mself\u001b[0m\u001b[0;34m.\u001b[0m\u001b[0m_maybe_cast_indexer\u001b[0m\u001b[0;34m(\u001b[0m\u001b[0mkey\u001b[0m\u001b[0;34m)\u001b[0m\u001b[0;34m)\u001b[0m\u001b[0;34m\u001b[0m\u001b[0;34m\u001b[0m\u001b[0m\n\u001b[0m\u001b[1;32m   3081\u001b[0m \u001b[0;34m\u001b[0m\u001b[0m\n\u001b[1;32m   3082\u001b[0m         \u001b[0mindexer\u001b[0m \u001b[0;34m=\u001b[0m \u001b[0mself\u001b[0m\u001b[0;34m.\u001b[0m\u001b[0mget_indexer\u001b[0m\u001b[0;34m(\u001b[0m\u001b[0;34m[\u001b[0m\u001b[0mkey\u001b[0m\u001b[0;34m]\u001b[0m\u001b[0;34m,\u001b[0m \u001b[0mmethod\u001b[0m\u001b[0;34m=\u001b[0m\u001b[0mmethod\u001b[0m\u001b[0;34m,\u001b[0m \u001b[0mtolerance\u001b[0m\u001b[0;34m=\u001b[0m\u001b[0mtolerance\u001b[0m\u001b[0;34m)\u001b[0m\u001b[0;34m\u001b[0m\u001b[0;34m\u001b[0m\u001b[0m\n",
      "\u001b[0;32mpandas/_libs/index.pyx\u001b[0m in \u001b[0;36mpandas._libs.index.IndexEngine.get_loc\u001b[0;34m()\u001b[0m\n",
      "\u001b[0;32mpandas/_libs/index.pyx\u001b[0m in \u001b[0;36mpandas._libs.index.IndexEngine.get_loc\u001b[0;34m()\u001b[0m\n",
      "\u001b[0;32mpandas/_libs/hashtable_class_helper.pxi\u001b[0m in \u001b[0;36mpandas._libs.hashtable.PyObjectHashTable.get_item\u001b[0;34m()\u001b[0m\n",
      "\u001b[0;32mpandas/_libs/hashtable_class_helper.pxi\u001b[0m in \u001b[0;36mpandas._libs.hashtable.PyObjectHashTable.get_item\u001b[0;34m()\u001b[0m\n",
      "\u001b[0;31mKeyError\u001b[0m: 'JuvCount'"
     ]
    }
   ],
   "source": [
    "removals['JuvCount'].plot();"
   ]
  },
  {
   "cell_type": "code",
   "execution_count": null,
   "metadata": {
    "scrolled": true
   },
   "outputs": [],
   "source": [
    "removals[removals['JuvPercent'] > .5]"
   ]
  },
  {
   "cell_type": "code",
   "execution_count": null,
   "metadata": {},
   "outputs": [],
   "source": [
    "transfers['JuvenileCount'].value_counts()"
   ]
  },
  {
   "cell_type": "code",
   "execution_count": null,
   "metadata": {},
   "outputs": [],
   "source": [
    "removals[removals['JuvenileCount'] > 20]"
   ]
  },
  {
   "cell_type": "markdown",
   "metadata": {},
   "source": [
    "# KBFI only"
   ]
  },
  {
   "cell_type": "code",
   "execution_count": null,
   "metadata": {},
   "outputs": [],
   "source": [
    "airport = 'KBFI'"
   ]
  },
  {
   "cell_type": "code",
   "execution_count": null,
   "metadata": {},
   "outputs": [],
   "source": [
    "airport_removals = pd.concat([removals[removals['PULOC'] == airport], removals[removals['DropLoc'] == airport]])"
   ]
  },
  {
   "cell_type": "code",
   "execution_count": null,
   "metadata": {},
   "outputs": [],
   "source": [
    "airport_removals"
   ]
  },
  {
   "cell_type": "code",
   "execution_count": null,
   "metadata": {},
   "outputs": [],
   "source": [
    "airport_transfers = pd.concat([transfers[transfers['PULOC'] == airport], transfers[transfers['DropLoc'] == airport]])"
   ]
  },
  {
   "cell_type": "code",
   "execution_count": null,
   "metadata": {},
   "outputs": [],
   "source": [
    "airport_transfers.to_csv(f'../output/{nationality}_transfers_tofrom_{airport}.csv')"
   ]
  },
  {
   "cell_type": "code",
   "execution_count": null,
   "metadata": {},
   "outputs": [],
   "source": [
    "airport_weekly_removals = airport_removals['AlienMasterIDCount'].resample('W').nunique()\n",
    "airport_weekly_transfers = airport_transfers['AlienMasterIDCount'].resample('W').nunique()\n",
    "airport_monthly_removals = airport_removals['AlienMasterIDCount'].resample('M').nunique()\n",
    "airport_monthly_transfers = airport_transfers['AlienMasterIDCount'].resample('M').nunique()\n",
    "airport_monthly_removal_flights = airport_removals['MissionIDCount'].resample('M').nunique()\n",
    "airport_monthly_transfers_flights = airport_transfers['MissionIDCount'].resample('M').nunique()\n",
    "airport_annual_removals = airport_removals['AlienMasterIDCount'].resample('AS-OCT').nunique()\n",
    "airport_annual_transfers = airport_transfers['AlienMasterIDCount'].resample('AS-OCT').nunique()\n",
    "airport_annual_removal_flights = airport_removals['MissionIDCount'].resample('AS-OCT').nunique()\n",
    "airport_annual_transfer_flights = airport_transfers['MissionIDCount'].resample('AS-OCT').nunique()\n",
    "airport_annual_juvenile_removals = airport_removals['JuvenileCount'].resample('AS-OCT').sum()\n",
    "airport_annual_juvenile_transfers = airport_transfers['JuvenileCount'].resample('AS-OCT').sum()"
   ]
  },
  {
   "cell_type": "code",
   "execution_count": null,
   "metadata": {},
   "outputs": [],
   "source": [
    "airport_annual_removals"
   ]
  },
  {
   "cell_type": "code",
   "execution_count": null,
   "metadata": {},
   "outputs": [],
   "source": [
    "airport_annual_removal_flights"
   ]
  },
  {
   "cell_type": "code",
   "execution_count": null,
   "metadata": {},
   "outputs": [],
   "source": [
    "airport_annual_juvenile_removals"
   ]
  },
  {
   "cell_type": "code",
   "execution_count": null,
   "metadata": {},
   "outputs": [],
   "source": [
    "airport_annual_transfers"
   ]
  },
  {
   "cell_type": "code",
   "execution_count": null,
   "metadata": {},
   "outputs": [],
   "source": [
    "airport_annual_transfer_flights"
   ]
  },
  {
   "cell_type": "code",
   "execution_count": null,
   "metadata": {},
   "outputs": [],
   "source": [
    "airport_annual_juvenile_transfers"
   ]
  },
  {
   "cell_type": "markdown",
   "metadata": {},
   "source": [
    "# Criminal status"
   ]
  },
  {
   "cell_type": "markdown",
   "metadata": {},
   "source": [
    " `Criminality` is not fully consistent with `Convictions`; especially in FY2010. "
   ]
  },
  {
   "cell_type": "code",
   "execution_count": null,
   "metadata": {},
   "outputs": [],
   "source": [
    "removals['NCPercent']"
   ]
  },
  {
   "cell_type": "code",
   "execution_count": null,
   "metadata": {},
   "outputs": [],
   "source": [
    "removals['NCCount'].resample('AS-OCT').sum()"
   ]
  },
  {
   "cell_type": "code",
   "execution_count": null,
   "metadata": {},
   "outputs": [],
   "source": [
    "removals['AlienMasterIDCount'].resample('AS-OCT').sum()"
   ]
  },
  {
   "cell_type": "code",
   "execution_count": null,
   "metadata": {},
   "outputs": [],
   "source": []
  }
 ],
 "metadata": {
  "kernelspec": {
   "display_name": "Python 3",
   "language": "python",
   "name": "python3"
  },
  "language_info": {
   "codemirror_mode": {
    "name": "ipython",
    "version": 3
   },
   "file_extension": ".py",
   "mimetype": "text/x-python",
   "name": "python",
   "nbconvert_exporter": "python",
   "pygments_lexer": "ipython3",
   "version": "3.7.1"
  }
 },
 "nbformat": 4,
 "nbformat_minor": 2
}
