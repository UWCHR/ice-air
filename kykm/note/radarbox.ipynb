{
 "cells": [
  {
   "cell_type": "code",
   "execution_count": 1,
   "metadata": {},
   "outputs": [],
   "source": [
    "import pandas as pd\n",
    "import numpy as np\n",
    "import matplotlib.pyplot as plt\n",
    "from matplotlib.pyplot import cm\n",
    "import seaborn as sns\n",
    "import datetime as dt\n",
    "import yaml\n",
    "from pandas.tseries import offsets\n",
    "from matplotlib.ticker import (MultipleLocator, FormatStrFormatter,\n",
    "                               AutoMinorLocator, NullLocator)\n",
    "import matplotlib.dates as mdates"
   ]
  },
  {
   "cell_type": "code",
   "execution_count": 11,
   "metadata": {},
   "outputs": [],
   "source": [
    "df = pd.read_csv('../input/RadarBox20200112-20200411.csv', sep='|', quotechar='\"')"
   ]
  },
  {
   "cell_type": "code",
   "execution_count": 12,
   "metadata": {},
   "outputs": [
    {
     "data": {
      "text/html": [
       "<div>\n",
       "<style scoped>\n",
       "    .dataframe tbody tr th:only-of-type {\n",
       "        vertical-align: middle;\n",
       "    }\n",
       "\n",
       "    .dataframe tbody tr th {\n",
       "        vertical-align: top;\n",
       "    }\n",
       "\n",
       "    .dataframe thead th {\n",
       "        text-align: right;\n",
       "    }\n",
       "</style>\n",
       "<table border=\"1\" class=\"dataframe\">\n",
       "  <thead>\n",
       "    <tr style=\"text-align: right;\">\n",
       "      <th></th>\n",
       "      <th>Date</th>\n",
       "      <th>Flight</th>\n",
       "      <th>Departure</th>\n",
       "      <th>STD</th>\n",
       "      <th>Arrival</th>\n",
       "      <th>STA</th>\n",
       "      <th>Aircraft</th>\n",
       "      <th>Status</th>\n",
       "      <th>Duration</th>\n",
       "      <th>Notes</th>\n",
       "      <th>Unnamed: 10</th>\n",
       "      <th>Unnamed: 11</th>\n",
       "    </tr>\n",
       "  </thead>\n",
       "  <tbody>\n",
       "    <tr>\n",
       "      <th>0</th>\n",
       "      <td>11-Apr</td>\n",
       "      <td>WQ3612</td>\n",
       "      <td>Dallas, TX (DAL/KDAL)</td>\n",
       "      <td>18:35 CDT</td>\n",
       "      <td>San Antonio, TX (SAT/KSAT)</td>\n",
       "      <td>-</td>\n",
       "      <td>B734 (N458UW)</td>\n",
       "      <td>Est. Arrival 19:43 CDT</td>\n",
       "      <td>00h52m</td>\n",
       "      <td>LIVE</td>\n",
       "      <td>NaN</td>\n",
       "      <td>NaN</td>\n",
       "    </tr>\n",
       "    <tr>\n",
       "      <th>1</th>\n",
       "      <td>11-Apr</td>\n",
       "      <td>WQ3611</td>\n",
       "      <td>Harrisburg, PA (MDT/KMDT)</td>\n",
       "      <td>15:05 EDT</td>\n",
       "      <td>Dallas, TX (DAL/KDAL)</td>\n",
       "      <td>-</td>\n",
       "      <td>B734 (N458UW)</td>\n",
       "      <td>Landed 17:30 CDT</td>\n",
       "      <td>03h16m</td>\n",
       "      <td>NaN</td>\n",
       "      <td>NaN</td>\n",
       "      <td>NaN</td>\n",
       "    </tr>\n",
       "    <tr>\n",
       "      <th>2</th>\n",
       "      <td>11-Apr</td>\n",
       "      <td>WQ3610</td>\n",
       "      <td>Buffalo, NY (BUF/KBUF)</td>\n",
       "      <td>13:15 EDT</td>\n",
       "      <td>Harrisburg, PA (MDT/KMDT)</td>\n",
       "      <td>-</td>\n",
       "      <td>B734 (N458UW)</td>\n",
       "      <td>Landed</td>\n",
       "      <td>00h38m</td>\n",
       "      <td>NaN</td>\n",
       "      <td>NaN</td>\n",
       "      <td>NaN</td>\n",
       "    </tr>\n",
       "    <tr>\n",
       "      <th>3</th>\n",
       "      <td>11-Apr</td>\n",
       "      <td>WQ3609</td>\n",
       "      <td>San Antonio, TX (SAT/KSAT)</td>\n",
       "      <td>08:00 CDT</td>\n",
       "      <td>Buffalo, NY (BUF/KBUF)</td>\n",
       "      <td>-</td>\n",
       "      <td>B734 (N458UW)</td>\n",
       "      <td>Landed 11:58 EDT</td>\n",
       "      <td>02h46m</td>\n",
       "      <td>NaN</td>\n",
       "      <td>NaN</td>\n",
       "      <td>NaN</td>\n",
       "    </tr>\n",
       "    <tr>\n",
       "      <th>4</th>\n",
       "      <td>10-Apr</td>\n",
       "      <td>WQ3538</td>\n",
       "      <td>Alexandria, LA (AEX/KAEX)</td>\n",
       "      <td>15:20 CDT</td>\n",
       "      <td>Brownsville, TX (BRO/KBRO)</td>\n",
       "      <td>-</td>\n",
       "      <td>B733 (N626SW)</td>\n",
       "      <td>Landed</td>\n",
       "      <td>01h17m</td>\n",
       "      <td>NaN</td>\n",
       "      <td>NaN</td>\n",
       "      <td>NaN</td>\n",
       "    </tr>\n",
       "  </tbody>\n",
       "</table>\n",
       "</div>"
      ],
      "text/plain": [
       "     Date  Flight                   Departure        STD  \\\n",
       "0  11-Apr  WQ3612       Dallas, TX (DAL/KDAL)  18:35 CDT   \n",
       "1  11-Apr  WQ3611   Harrisburg, PA (MDT/KMDT)  15:05 EDT   \n",
       "2  11-Apr  WQ3610      Buffalo, NY (BUF/KBUF)  13:15 EDT   \n",
       "3  11-Apr  WQ3609  San Antonio, TX (SAT/KSAT)  08:00 CDT   \n",
       "4  10-Apr  WQ3538   Alexandria, LA (AEX/KAEX)  15:20 CDT   \n",
       "\n",
       "                      Arrival STA       Aircraft                  Status  \\\n",
       "0  San Antonio, TX (SAT/KSAT)   -  B734 (N458UW)  Est. Arrival 19:43 CDT   \n",
       "1       Dallas, TX (DAL/KDAL)   -  B734 (N458UW)        Landed 17:30 CDT   \n",
       "2   Harrisburg, PA (MDT/KMDT)   -  B734 (N458UW)                  Landed   \n",
       "3      Buffalo, NY (BUF/KBUF)   -  B734 (N458UW)        Landed 11:58 EDT   \n",
       "4  Brownsville, TX (BRO/KBRO)   -  B733 (N626SW)                  Landed   \n",
       "\n",
       "  Duration  Notes Unnamed: 10 Unnamed: 11  \n",
       "0   00h52m   LIVE         NaN         NaN  \n",
       "1   03h16m    NaN         NaN         NaN  \n",
       "2   00h38m    NaN         NaN         NaN  \n",
       "3   02h46m    NaN         NaN         NaN  \n",
       "4   01h17m    NaN         NaN         NaN  "
      ]
     },
     "execution_count": 12,
     "metadata": {},
     "output_type": "execute_result"
    }
   ],
   "source": [
    "df.head()"
   ]
  },
  {
   "cell_type": "code",
   "execution_count": 13,
   "metadata": {},
   "outputs": [],
   "source": [
    "df['Date'] = [x+'-2020' for x in df['Date']]"
   ]
  },
  {
   "cell_type": "code",
   "execution_count": 14,
   "metadata": {},
   "outputs": [],
   "source": [
    "df['Date'] = pd.to_datetime(df['Date'])"
   ]
  },
  {
   "cell_type": "code",
   "execution_count": 15,
   "metadata": {},
   "outputs": [
    {
     "data": {
      "text/html": [
       "<div>\n",
       "<style scoped>\n",
       "    .dataframe tbody tr th:only-of-type {\n",
       "        vertical-align: middle;\n",
       "    }\n",
       "\n",
       "    .dataframe tbody tr th {\n",
       "        vertical-align: top;\n",
       "    }\n",
       "\n",
       "    .dataframe thead th {\n",
       "        text-align: right;\n",
       "    }\n",
       "</style>\n",
       "<table border=\"1\" class=\"dataframe\">\n",
       "  <thead>\n",
       "    <tr style=\"text-align: right;\">\n",
       "      <th></th>\n",
       "      <th>Date</th>\n",
       "      <th>Flight</th>\n",
       "      <th>Departure</th>\n",
       "      <th>STD</th>\n",
       "      <th>Arrival</th>\n",
       "      <th>STA</th>\n",
       "      <th>Aircraft</th>\n",
       "      <th>Status</th>\n",
       "      <th>Duration</th>\n",
       "      <th>Notes</th>\n",
       "      <th>Unnamed: 10</th>\n",
       "      <th>Unnamed: 11</th>\n",
       "    </tr>\n",
       "  </thead>\n",
       "  <tbody>\n",
       "    <tr>\n",
       "      <th>0</th>\n",
       "      <td>2020-04-11</td>\n",
       "      <td>WQ3612</td>\n",
       "      <td>Dallas, TX (DAL/KDAL)</td>\n",
       "      <td>18:35 CDT</td>\n",
       "      <td>San Antonio, TX (SAT/KSAT)</td>\n",
       "      <td>-</td>\n",
       "      <td>B734 (N458UW)</td>\n",
       "      <td>Est. Arrival 19:43 CDT</td>\n",
       "      <td>00h52m</td>\n",
       "      <td>LIVE</td>\n",
       "      <td>NaN</td>\n",
       "      <td>NaN</td>\n",
       "    </tr>\n",
       "    <tr>\n",
       "      <th>1</th>\n",
       "      <td>2020-04-11</td>\n",
       "      <td>WQ3611</td>\n",
       "      <td>Harrisburg, PA (MDT/KMDT)</td>\n",
       "      <td>15:05 EDT</td>\n",
       "      <td>Dallas, TX (DAL/KDAL)</td>\n",
       "      <td>-</td>\n",
       "      <td>B734 (N458UW)</td>\n",
       "      <td>Landed 17:30 CDT</td>\n",
       "      <td>03h16m</td>\n",
       "      <td>NaN</td>\n",
       "      <td>NaN</td>\n",
       "      <td>NaN</td>\n",
       "    </tr>\n",
       "    <tr>\n",
       "      <th>2</th>\n",
       "      <td>2020-04-11</td>\n",
       "      <td>WQ3610</td>\n",
       "      <td>Buffalo, NY (BUF/KBUF)</td>\n",
       "      <td>13:15 EDT</td>\n",
       "      <td>Harrisburg, PA (MDT/KMDT)</td>\n",
       "      <td>-</td>\n",
       "      <td>B734 (N458UW)</td>\n",
       "      <td>Landed</td>\n",
       "      <td>00h38m</td>\n",
       "      <td>NaN</td>\n",
       "      <td>NaN</td>\n",
       "      <td>NaN</td>\n",
       "    </tr>\n",
       "    <tr>\n",
       "      <th>3</th>\n",
       "      <td>2020-04-11</td>\n",
       "      <td>WQ3609</td>\n",
       "      <td>San Antonio, TX (SAT/KSAT)</td>\n",
       "      <td>08:00 CDT</td>\n",
       "      <td>Buffalo, NY (BUF/KBUF)</td>\n",
       "      <td>-</td>\n",
       "      <td>B734 (N458UW)</td>\n",
       "      <td>Landed 11:58 EDT</td>\n",
       "      <td>02h46m</td>\n",
       "      <td>NaN</td>\n",
       "      <td>NaN</td>\n",
       "      <td>NaN</td>\n",
       "    </tr>\n",
       "    <tr>\n",
       "      <th>4</th>\n",
       "      <td>2020-04-10</td>\n",
       "      <td>WQ3538</td>\n",
       "      <td>Alexandria, LA (AEX/KAEX)</td>\n",
       "      <td>15:20 CDT</td>\n",
       "      <td>Brownsville, TX (BRO/KBRO)</td>\n",
       "      <td>-</td>\n",
       "      <td>B733 (N626SW)</td>\n",
       "      <td>Landed</td>\n",
       "      <td>01h17m</td>\n",
       "      <td>NaN</td>\n",
       "      <td>NaN</td>\n",
       "      <td>NaN</td>\n",
       "    </tr>\n",
       "  </tbody>\n",
       "</table>\n",
       "</div>"
      ],
      "text/plain": [
       "        Date  Flight                   Departure        STD  \\\n",
       "0 2020-04-11  WQ3612       Dallas, TX (DAL/KDAL)  18:35 CDT   \n",
       "1 2020-04-11  WQ3611   Harrisburg, PA (MDT/KMDT)  15:05 EDT   \n",
       "2 2020-04-11  WQ3610      Buffalo, NY (BUF/KBUF)  13:15 EDT   \n",
       "3 2020-04-11  WQ3609  San Antonio, TX (SAT/KSAT)  08:00 CDT   \n",
       "4 2020-04-10  WQ3538   Alexandria, LA (AEX/KAEX)  15:20 CDT   \n",
       "\n",
       "                      Arrival STA       Aircraft                  Status  \\\n",
       "0  San Antonio, TX (SAT/KSAT)   -  B734 (N458UW)  Est. Arrival 19:43 CDT   \n",
       "1       Dallas, TX (DAL/KDAL)   -  B734 (N458UW)        Landed 17:30 CDT   \n",
       "2   Harrisburg, PA (MDT/KMDT)   -  B734 (N458UW)                  Landed   \n",
       "3      Buffalo, NY (BUF/KBUF)   -  B734 (N458UW)        Landed 11:58 EDT   \n",
       "4  Brownsville, TX (BRO/KBRO)   -  B733 (N626SW)                  Landed   \n",
       "\n",
       "  Duration  Notes Unnamed: 10 Unnamed: 11  \n",
       "0   00h52m   LIVE         NaN         NaN  \n",
       "1   03h16m    NaN         NaN         NaN  \n",
       "2   00h38m    NaN         NaN         NaN  \n",
       "3   02h46m    NaN         NaN         NaN  \n",
       "4   01h17m    NaN         NaN         NaN  "
      ]
     },
     "execution_count": 15,
     "metadata": {},
     "output_type": "execute_result"
    }
   ],
   "source": [
    "df.head()"
   ]
  },
  {
   "cell_type": "code",
   "execution_count": 25,
   "metadata": {},
   "outputs": [
    {
     "data": {
      "text/plain": [
       "Date\n",
       "2020-01-31    1330\n",
       "2020-02-29    2005\n",
       "2020-03-31    1492\n",
       "2020-04-30     130\n",
       "Freq: M, Name: Flight, dtype: int64"
      ]
     },
     "execution_count": 25,
     "metadata": {},
     "output_type": "execute_result"
    }
   ],
   "source": [
    "df.set_index('Date').groupby(pd.Grouper(freq='M'))['Flight'].count()"
   ]
  },
  {
   "cell_type": "code",
   "execution_count": 33,
   "metadata": {},
   "outputs": [
    {
     "data": {
      "text/plain": [
       "<matplotlib.axes._subplots.AxesSubplot at 0x7f41919d11d0>"
      ]
     },
     "execution_count": 33,
     "metadata": {},
     "output_type": "execute_result"
    },
    {
     "data": {
      "image/png": "[encoded data removed]",
      "text/plain": [
       "<Figure size 432x288 with 1 Axes>"
      ]
     },
     "metadata": {
      "needs_background": "light"
     },
     "output_type": "display_data"
    }
   ],
   "source": [
    "df.set_index('Date').groupby(pd.Grouper(freq='W'))['Flight'].count().plot()"
   ]
  },
  {
   "cell_type": "code",
   "execution_count": 36,
   "metadata": {},
   "outputs": [
    {
     "data": {
      "text/plain": [
       "Departure\n",
       "Miami, FL (MIA/KMIA)             952\n",
       "Havana (HAV/MUHA)                356\n",
       "-                                198\n",
       "Alexandria, LA (AEX/KAEX)        168\n",
       "Santo Domingo (SDQ/MDSD)         146\n",
       "Phoenix, AZ (AZA/KIWA)           140\n",
       "Brownsville, TX (BRO/KBRO)       137\n",
       "Santa Clara (SNU/MUSC)           118\n",
       "Holguin (HOG/MUHG)                82\n",
       "Wendover, UT (KENV)               76\n",
       "Camaguey (CMW/MUCM)               74\n",
       "Guatemala City (GUA/MGGT)         69\n",
       "Atlantic City, NJ (ACY/KACY)      66\n",
       "Newark, NJ (EWR/KEWR)             55\n",
       "El Paso, TX (ELP/KELP)            55\n",
       "Bullhead City, AZ (IFP/KIFP)      53\n",
       "Nashville, TN (BNA/KBNA)          52\n",
       "Greensboro, NC (GSO/KGSO)         51\n",
       "Raleigh/Durham, NC (RDU/KRDU)     47\n",
       "La Mesa (SAP/MHLM)                47\n",
       "Memphis, TN (MEM/KMEM)            45\n",
       "Santiago (SCU/MUCU)               37\n",
       "Philadelphia, PA (PHL/KPHL)       37\n",
       "San Antonio, TX (SAT/KSAT)        36\n",
       "Syracuse, NY (SYR/KSYR)           36\n",
       "Dallas, TX (DAL/KDAL)             35\n",
       "Baton Rouge, LA (BTR/KBTR)        34\n",
       "San Juan (SJU/TJSJ)               32\n",
       "Bedford, MA (BED/KBED)            31\n",
       "Indianapolis, IN (IND/KIND)       30\n",
       "Name: Flight, dtype: int64"
      ]
     },
     "execution_count": 36,
     "metadata": {},
     "output_type": "execute_result"
    }
   ],
   "source": [
    "df.groupby('Departure')['Flight'].count().sort_values(ascending=False).head(30)"
   ]
  },
  {
   "cell_type": "code",
   "execution_count": 77,
   "metadata": {
    "scrolled": true
   },
   "outputs": [
    {
     "data": {
      "text/plain": [
       "Departure                   Arrival                   \n",
       "Havana (HAV/MUHA)           Miami, FL (MIA/KMIA)          342\n",
       "Miami, FL (MIA/KMIA)        Havana (HAV/MUHA)             338\n",
       "Santo Domingo (SDQ/MDSD)    Miami, FL (MIA/KMIA)          139\n",
       "Miami, FL (MIA/KMIA)        Santo Domingo (SDQ/MDSD)      135\n",
       "                            Santa Clara (SNU/MUSC)        111\n",
       "Santa Clara (SNU/MUSC)      Miami, FL (MIA/KMIA)          108\n",
       "-                           -                              97\n",
       "Miami, FL (MIA/KMIA)        Holguin (HOG/MUHG)             76\n",
       "Holguin (HOG/MUHG)          Miami, FL (MIA/KMIA)           76\n",
       "Camaguey (CMW/MUCM)         Miami, FL (MIA/KMIA)           74\n",
       "Miami, FL (MIA/KMIA)        Camaguey (CMW/MUCM)            70\n",
       "Alexandria, LA (AEX/KAEX)   Brownsville, TX (BRO/KBRO)     38\n",
       "Santiago (SCU/MUCU)         Miami, FL (MIA/KMIA)           37\n",
       "Miami, FL (MIA/KMIA)        Santiago (SCU/MUCU)            37\n",
       "Guatemala City (GUA/MGGT)   Phoenix, AZ (AZA/KIWA)         30\n",
       "San Juan (SJU/TJSJ)         Miami, FL (MIA/KMIA)           29\n",
       "Brownsville, TX (BRO/KBRO)  Alexandria, LA (AEX/KAEX)      28\n",
       "Miami, FL (MIA/KMIA)        San Juan (SJU/TJSJ)            27\n",
       "-                           Miami, FL (MIA/KMIA)           26\n",
       "Varadero (VRA/MUVR)         Miami, FL (MIA/KMIA)           25\n",
       "Miami, FL (MIA/KMIA)        Varadero (VRA/MUVR)            24\n",
       "Phoenix, AZ (AZA/KIWA)      El Paso, TX (ELP/KELP)         24\n",
       "Brownsville, TX (BRO/KBRO)  La Mesa (SAP/MHLM)             23\n",
       "Phoenix, AZ (AZA/KIWA)      Guatemala City (GUA/MGGT)      21\n",
       "Miami, FL (MIA/KMIA)        -                              21\n",
       "Name: Flight, dtype: int64"
      ]
     },
     "execution_count": 77,
     "metadata": {},
     "output_type": "execute_result"
    }
   ],
   "source": [
    "df.groupby(['Departure', 'Arrival'])['Flight'].count().sort_values(ascending=False).head(25)"
   ]
  },
  {
   "cell_type": "code",
   "execution_count": 115,
   "metadata": {},
   "outputs": [],
   "source": [
    "ice_us = [\"Alexandria, LA (AEX/KAEX)\",\n",
    "            \"Phoenix, AZ (AZA/KIWA)\",\n",
    "            \"Brownsville, TX (BRO/KBRO)\",\n",
    "            \"El Paso, TX (ELP/KELP)\",\n",
    "            \"San Antonio, TX (SAT/KSAT)\",\n",
    "            \"Yakima, WA (YKM/KYKM)\"]"
   ]
  },
  {
   "cell_type": "code",
   "execution_count": 116,
   "metadata": {},
   "outputs": [
    {
     "data": {
      "text/plain": [
       "Date\n",
       "2020-01-31     4\n",
       "2020-02-29    14\n",
       "2020-03-31    23\n",
       "2020-04-30     8\n",
       "Freq: M, Name: Flight, dtype: int64"
      ]
     },
     "execution_count": 116,
     "metadata": {},
     "output_type": "execute_result"
    }
   ],
   "source": [
    "df[df['Departure'].isin(ice_us)].set_index('Date').groupby(pd.Grouper(freq='M'))['Flight'].count()"
   ]
  },
  {
   "cell_type": "code",
   "execution_count": 117,
   "metadata": {},
   "outputs": [],
   "source": [
    "df['Aircraft'] = df['Aircraft'].str.replace(u'\\xa0', ' ')"
   ]
  },
  {
   "cell_type": "code",
   "execution_count": 118,
   "metadata": {},
   "outputs": [
    {
     "data": {
      "text/plain": [
       "43"
      ]
     },
     "execution_count": 118,
     "metadata": {},
     "output_type": "execute_result"
    }
   ],
   "source": [
    "len(set(df['Aircraft']))"
   ]
  },
  {
   "cell_type": "code",
   "execution_count": 119,
   "metadata": {},
   "outputs": [
    {
     "data": {
      "text/plain": [
       "{'B733 (N626SW)', 'B734 (N458UW)'}"
      ]
     },
     "execution_count": 119,
     "metadata": {},
     "output_type": "execute_result"
    }
   ],
   "source": [
    "set(df['Aircraft'].head())"
   ]
  },
  {
   "cell_type": "code",
   "execution_count": 120,
   "metadata": {},
   "outputs": [],
   "source": [
    "ice_flights = set(df[df['Departure'].isin(ice_us)]['Aircraft'])"
   ]
  },
  {
   "cell_type": "code",
   "execution_count": 121,
   "metadata": {},
   "outputs": [],
   "source": [
    "ice_flights = ice_flights.union(set(df[df['Arrival'].isin(ice_us)]['Aircraft']))"
   ]
  },
  {
   "cell_type": "code",
   "execution_count": 122,
   "metadata": {},
   "outputs": [
    {
     "data": {
      "text/plain": [
       "Date\n",
       "2020-01-31    733\n",
       "2020-02-29    954\n",
       "2020-03-31    700\n",
       "2020-04-30     72\n",
       "Freq: M, Name: Aircraft, dtype: int64"
      ]
     },
     "execution_count": 122,
     "metadata": {},
     "output_type": "execute_result"
    }
   ],
   "source": [
    "df[df['Aircraft'].isin(ice_flights)].set_index('Date').groupby(pd.Grouper(freq='M'))['Aircraft'].count()"
   ]
  },
  {
   "cell_type": "code",
   "execution_count": 123,
   "metadata": {},
   "outputs": [
    {
     "data": {
      "text/plain": [
       "<matplotlib.axes._subplots.AxesSubplot at 0x7f419145e6a0>"
      ]
     },
     "execution_count": 123,
     "metadata": {},
     "output_type": "execute_result"
    },
    {
     "data": {
      "image/png": "[encoded data removed]",
      "text/plain": [
       "<Figure size 432x288 with 1 Axes>"
      ]
     },
     "metadata": {
      "needs_background": "light"
     },
     "output_type": "display_data"
    }
   ],
   "source": [
    "df[df['Aircraft'].isin(ice_flights)].set_index('Date').groupby(pd.Grouper(freq='W'))['Aircraft'].count().plot()"
   ]
  },
  {
   "cell_type": "code",
   "execution_count": null,
   "metadata": {},
   "outputs": [],
   "source": []
  },
  {
   "cell_type": "code",
   "execution_count": null,
   "metadata": {},
   "outputs": [],
   "source": []
  },
  {
   "cell_type": "code",
   "execution_count": null,
   "metadata": {},
   "outputs": [],
   "source": []
  }
 ],
 "metadata": {
  "kernelspec": {
   "display_name": "Python 3",
   "language": "python",
   "name": "python3"
  },
  "language_info": {
   "codemirror_mode": {
    "name": "ipython",
    "version": 3
   },
   "file_extension": ".py",
   "mimetype": "text/x-python",
   "name": "python",
   "nbconvert_exporter": "python",
   "pygments_lexer": "ipython3",
   "version": "3.7.2"
  }
 },
 "nbformat": 4,
 "nbformat_minor": 2
}
