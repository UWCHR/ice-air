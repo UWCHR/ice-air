{
 "cells": [
  {
   "cell_type": "code",
   "execution_count": 1,
   "metadata": {},
   "outputs": [],
   "source": [
    "import numpy as np\n",
    "import pandas as pd\n",
    "import yaml\n",
    "import matplotlib.pyplot as plt\n",
    "import matplotlib.mlab as mlab\n",
    "import seaborn as sns"
   ]
  },
  {
   "cell_type": "markdown",
   "metadata": {},
   "source": [
    "# Import\n",
    "\n",
    "First we open a file containing a dictionary of columns and associated data types generated in `../../optimize/`, then we read input file."
   ]
  },
  {
   "cell_type": "code",
   "execution_count": 2,
   "metadata": {},
   "outputs": [
    {
     "name": "stderr",
     "output_type": "stream",
     "text": [
      "/Users/philneff/anaconda3/lib/python3.7/site-packages/IPython/core/interactiveshell.py:3020: DtypeWarning: Columns (15) have mixed types. Specify dtype option on import or set low_memory=False.\n",
      "  interactivity=interactivity, compiler=compiler, result=result)\n"
     ]
    },
    {
     "name": "stdout",
     "output_type": "stream",
     "text": [
      "<class 'pandas.core.frame.DataFrame'>\n",
      "RangeIndex: 1763020 entries, 0 to 1763019\n",
      "Data columns (total 43 columns):\n",
      "Status                  category\n",
      "Sex                     category\n",
      "Convictions             category\n",
      "GangMember              category\n",
      "ClassLvl                float32\n",
      "Age                     float32\n",
      "MissionDate             datetime64[ns]\n",
      "MissionNumber           uint32\n",
      "PULOC                   category\n",
      "DropLoc                 category\n",
      "StrikeFromList          float32\n",
      "ReasonStruck            category\n",
      "R-T                     category\n",
      "Code                    category\n",
      "CountryOfCitizenship    category\n",
      "Juvenile                object\n",
      "MissionWeek             uint8\n",
      "MissionQuarter          uint8\n",
      "MissionYear             uint16\n",
      "MissionMonth            uint8\n",
      "Criminality             category\n",
      "FamilyUnitFlag          float32\n",
      "UnaccompaniedFlag       float32\n",
      "AlienMasterID           uint32\n",
      "MissionID               uint16\n",
      "air_AirportID           float32\n",
      "air_AirportName         category\n",
      "air_City                category\n",
      "st_StateID              float32\n",
      "st_StateAbbr            category\n",
      "AOR_AORID               float32\n",
      "AOR_AOR                 category\n",
      "AOR_AORName             category\n",
      "air_Country             category\n",
      "air2_AirportID          float32\n",
      "air2_AirportName        category\n",
      "air2_City               category\n",
      "st2_StateID             float32\n",
      "st2_StateAbbr           category\n",
      "aor2_AORID              float32\n",
      "aor2_AOR                category\n",
      "aor2_AORName            category\n",
      "air2_Country            category\n",
      "dtypes: category(23), datetime64[ns](1), float32(11), object(1), uint16(2), uint32(2), uint8(3)\n",
      "memory usage: 219.1 MB\n"
     ]
    }
   ],
   "source": [
    "with open('../input/dtypes.yaml', 'r') as yamlfile:\n",
    "    column_types = yaml.load(yamlfile)\n",
    "\n",
    "read_csv_opts = {'sep': '|',\n",
    "                 'quotechar': '\"',\n",
    "                 'compression': 'gzip',\n",
    "                 'encoding': 'utf-8',\n",
    "                 'dtype': column_types,\n",
    "                 'parse_dates': ['MissionDate'],\n",
    "                 'infer_datetime_format': True}\n",
    "\n",
    "df = pd.read_csv('../input/ice-air.csv.gz', **read_csv_opts)\n",
    "\n",
    "df.info(memory_usage='deep')"
   ]
  },
  {
   "cell_type": "code",
   "execution_count": 3,
   "metadata": {},
   "outputs": [
    {
     "data": {
      "text/plain": [
       "['GUATEMALA',\n",
       " 'BULGARIA',\n",
       " 'DOMINICAN REPUBLIC',\n",
       " 'ECUADOR',\n",
       " 'EL SALVADOR',\n",
       " 'HONDURAS',\n",
       " 'URUGUAY',\n",
       " 'BRAZIL',\n",
       " 'COLOMBIA',\n",
       " 'EGYPT',\n",
       " 'GHANA',\n",
       " 'GUYANA',\n",
       " 'INDIA',\n",
       " 'JAMAICA',\n",
       " 'MEXICO',\n",
       " 'MOZAMBIQUE',\n",
       " 'RUSSIA',\n",
       " 'SRI LANKA',\n",
       " 'TRINIDAD',\n",
       " 'PANAMA',\n",
       " 'PERU',\n",
       " 'BOLIVIA',\n",
       " 'PHILIPPINES',\n",
       " 'PAKISTAN',\n",
       " 'NICARAGUA',\n",
       " 'KUWAIT',\n",
       " 'CYPRUSS',\n",
       " 'CAMBODIA',\n",
       " 'JORDAN',\n",
       " 'SOMALIA',\n",
       " 'CANADA',\n",
       " 'ETHIOPIA',\n",
       " 'IRAQ',\n",
       " 'INDONESIA',\n",
       " 'CUBA',\n",
       " 'ERITREA',\n",
       " 'SOUTH KOREA',\n",
       " 'SLOVAKIA',\n",
       " 'PORTUGAL',\n",
       " 'UNKNOWN',\n",
       " 'KENYA',\n",
       " 'FRANCE',\n",
       " 'TAIWAN',\n",
       " 'THAILAND',\n",
       " 'MONGOLIA',\n",
       " 'ROMANIA',\n",
       " 'LIBERIA',\n",
       " 'SUDAN',\n",
       " 'CAMEROON',\n",
       " 'LAOS',\n",
       " 'SPAIN',\n",
       " 'VIETNAM',\n",
       " 'FIJI',\n",
       " 'POLAND',\n",
       " 'GERMANY',\n",
       " 'CZECH REPUBLIC',\n",
       " 'ALGERIA',\n",
       " 'ISRAEL',\n",
       " 'UKRAINE',\n",
       " 'BOSNIA',\n",
       " 'UZBEKISTAN',\n",
       " 'VENEZUELA',\n",
       " 'TURKEY',\n",
       " \"COTE D'IVORIE (IVORY COAST)\",\n",
       " 'ARMENIA',\n",
       " 'CHINA',\n",
       " 'SWEDEN',\n",
       " 'NEPAL',\n",
       " 'ITALY',\n",
       " 'NIGER',\n",
       " 'NIGERIA',\n",
       " 'BRITISH VIRGIN ISLANDS',\n",
       " 'CAPE VERDE',\n",
       " 'ARGENTINA',\n",
       " 'HAITI',\n",
       " 'SYRIA',\n",
       " 'TOGO',\n",
       " 'NEW ZEALAND',\n",
       " 'PARAGUAY',\n",
       " 'RWANDA',\n",
       " 'BANGLADESH',\n",
       " 'IVORY COAST',\n",
       " 'GUINEA',\n",
       " 'KAZAKSTAN',\n",
       " 'BARBADOS',\n",
       " 'GAMBIA',\n",
       " 'MALI',\n",
       " 'MALAYSIA',\n",
       " 'AZERBAIJAN',\n",
       " 'COSTA RICA',\n",
       " 'BELIZE',\n",
       " 'TANZANIA',\n",
       " 'YUGOSLAVIA',\n",
       " 'CHILE',\n",
       " 'NETHERLANDS',\n",
       " 'SENEGAL',\n",
       " 'LEBANON',\n",
       " 'NAMBIA',\n",
       " 'SERRA LEONE',\n",
       " 'BAHAMAS',\n",
       " 'TURKS & CAICOS ISLANDS',\n",
       " 'SAUDI ARABIA',\n",
       " 'IRAN',\n",
       " 'ESTONIA',\n",
       " 'MAURITANIA',\n",
       " 'YEMEN',\n",
       " 'MOROCCO',\n",
       " 'BURUNDI',\n",
       " 'UGANDA',\n",
       " 'AFGHANISTAN',\n",
       " 'UNITED KINGDOM',\n",
       " 'GREENLAND',\n",
       " 'CONGO',\n",
       " 'MICRONESIA',\n",
       " 'AMERICAN SAMOA',\n",
       " 'BERMUDA',\n",
       " 'DENMARK',\n",
       " 'IRELAND',\n",
       " 'ANGOLA',\n",
       " 'VIRGIN ISLANDS',\n",
       " 'ICELAND',\n",
       " 'El Salvador',\n",
       " 'SOUTH AFRICA',\n",
       " 'GREECE',\n",
       " 'ALBANIA',\n",
       " 'LITHUANIA',\n",
       " 'GEORGIA',\n",
       " 'HUNGARY',\n",
       " 'Guatemala',\n",
       " 'MARTINIQUE',\n",
       " 'BELARUS',\n",
       " 'SINGAPORE',\n",
       " 'NORWAY',\n",
       " 'CENTRAL AFRICAN REPUBLIC',\n",
       " 'GUAM',\n",
       " 'ST. VINCENT & THE GRENADINES',\n",
       " 'OMAN',\n",
       " 'AUSTRIA',\n",
       " 'JAPAN',\n",
       " 'QATAR',\n",
       " 'KYRGYSTAN',\n",
       " 'ZIMBABWE',\n",
       " 'CAYMAN ISLANDS',\n",
       " 'CHAD',\n",
       " 'MYANMAR',\n",
       " 'KOSOVO',\n",
       " 'MOLDOVA',\n",
       " 'SLOVENIA',\n",
       " 'HONG KONG',\n",
       " 'PALESTINE',\n",
       " 'MACAU',\n",
       " 'MACEDONIA',\n",
       " 'CROATIA',\n",
       " 'TAJIKISTAN',\n",
       " 'FINLAND',\n",
       " 'TUNISIA',\n",
       " 'LATVIA',\n",
       " 'LIBYA',\n",
       " 'ZAMBIA',\n",
       " 'LUXEMBURG',\n",
       " 'SERBIA',\n",
       " 'MONTENEGRO',\n",
       " 'St. Kitts-Nevis',\n",
       " 'St. Lucia',\n",
       " 'Democratic Republic of Congo',\n",
       " 'Mexico',\n",
       " 'UNITED STATES OF AMERICA',\n",
       " 'SIERRA LEONE',\n",
       " 'Ecuador',\n",
       " 'EAST TIMOR-INDONESIA',\n",
       " 'Fiji',\n",
       " 'PUERTO RICO',\n",
       " 'BOTSWANA',\n",
       " 'BAHRAIN',\n",
       " 'Mexic',\n",
       " 'El Sal',\n",
       " 'MADAGASCAR',\n",
       " 'Honduras',\n",
       " 'St Vincent',\n",
       " 'DOMINICA',\n",
       " 'GABON',\n",
       " 'MALAWI',\n",
       " 'GRENADA',\n",
       " 'BURKINA FASO',\n",
       " 'TRINIDAD & TOBAGO',\n",
       " 'SOUTH SUDAN',\n",
       " 'AUSTRALIA',\n",
       " 'ST. KITTS-NEVIS',\n",
       " 'PALAU',\n",
       " 'BENIN',\n",
       " 'ANTIGUA & BARBUDA',\n",
       " 'BURMA',\n",
       " 'ST. LUCIA',\n",
       " 'TONGA',\n",
       " 'MARSHAL ISLANDS',\n",
       " 'MARSHALL ISLANDS',\n",
       " 'Russia',\n",
       " 'ECUATORIAL GUINEA',\n",
       " 'EQUATORIAL GUINEA',\n",
       " 'KOREA',\n",
       " 'EAST TIMOR',\n",
       " 'MALTA',\n",
       " 'CYPRUS',\n",
       " 'EL Salvador',\n",
       " 'GUINEA BISSAU',\n",
       " 'DJIBOUTI',\n",
       " 'SAMOA',\n",
       " 'FEDERATED STATES OF MICRONESIA',\n",
       " 'STATELESS',\n",
       " 'Colombia',\n",
       " 'BHUTAN',\n",
       " 'SURINAME',\n",
       " 'BELGIUM',\n",
       " 'TURKMENISTAN',\n",
       " 'ARUBA',\n",
       " 'UNITED ARAB EMIRATES',\n",
       " 'PAPUA NEW GUINEA',\n",
       " 'Palestinian',\n",
       " 'NAMIBIA',\n",
       " 'GUADELOUPE']"
      ]
     },
     "execution_count": 3,
     "metadata": {},
     "output_type": "execute_result"
    }
   ],
   "source": [
    "list(df['CountryOfCitizenship'].unique())"
   ]
  },
  {
   "cell_type": "markdown",
   "metadata": {},
   "source": [
    "# Global variables"
   ]
  },
  {
   "cell_type": "code",
   "execution_count": 4,
   "metadata": {},
   "outputs": [
    {
     "name": "stdout",
     "output_type": "stream",
     "text": [
      "Number of records: 1763020\n"
     ]
    }
   ],
   "source": [
    "number_of_records = len(df)\n",
    "print(f'Number of records: {number_of_records}')"
   ]
  },
  {
   "cell_type": "markdown",
   "metadata": {},
   "source": [
    "No missing values in ID fields. IDs repeat."
   ]
  },
  {
   "cell_type": "code",
   "execution_count": 5,
   "metadata": {},
   "outputs": [
    {
     "name": "stdout",
     "output_type": "stream",
     "text": [
      "Unique MissionID values: 14973\n"
     ]
    }
   ],
   "source": [
    "unique_MissionID = len(set(df['MissionID']))\n",
    "assert sum(df['MissionID'].isnull()) == 0\n",
    "print(f\"Unique MissionID values: {unique_MissionID}\")"
   ]
  },
  {
   "cell_type": "code",
   "execution_count": 6,
   "metadata": {},
   "outputs": [
    {
     "name": "stdout",
     "output_type": "stream",
     "text": [
      "Unique MissionNumber values: 14973\n"
     ]
    }
   ],
   "source": [
    "unique_MissionNumber = len(set(df['MissionNumber']))\n",
    "assert sum(df['MissionNumber'].isnull()) == 0\n",
    "print(f\"Unique MissionNumber values: {unique_MissionNumber}\")"
   ]
  },
  {
   "cell_type": "markdown",
   "metadata": {},
   "source": [
    "One to one relationship of MissionID to MissionNumber. These fields seem to be equivalent."
   ]
  },
  {
   "cell_type": "code",
   "execution_count": 7,
   "metadata": {},
   "outputs": [],
   "source": [
    "assert sum(df.groupby(['MissionID', 'MissionNumber'])['MissionNumber'].nunique() > 1) == 0"
   ]
  },
  {
   "cell_type": "code",
   "execution_count": 8,
   "metadata": {},
   "outputs": [
    {
     "name": "stdout",
     "output_type": "stream",
     "text": [
      "Unique AlienMasterID values: 1733555\n"
     ]
    }
   ],
   "source": [
    "unique_AlienMasterID = len(set(df['AlienMasterID']))\n",
    "assert sum(df['AlienMasterID'].isnull()) == 0\n",
    "print(f\"Unique AlienMasterID values: {unique_AlienMasterID}\")"
   ]
  },
  {
   "cell_type": "code",
   "execution_count": 9,
   "metadata": {},
   "outputs": [
    {
     "name": "stdout",
     "output_type": "stream",
     "text": [
      "Earliest record: 2010-10-01 00:00:00\n"
     ]
    }
   ],
   "source": [
    "earliest_record = df['MissionDate'].min()\n",
    "print(f'Earliest record: {earliest_record}')"
   ]
  },
  {
   "cell_type": "code",
   "execution_count": 10,
   "metadata": {},
   "outputs": [
    {
     "name": "stdout",
     "output_type": "stream",
     "text": [
      "Earliest record: 2018-12-05 00:00:00\n"
     ]
    }
   ],
   "source": [
    "latest_record = df['MissionDate'].max()\n",
    "print(f'Earliest record: {latest_record}')"
   ]
  },
  {
   "cell_type": "code",
   "execution_count": 11,
   "metadata": {},
   "outputs": [
    {
     "name": "stdout",
     "output_type": "stream",
     "text": [
      "Number of pickup airports: 84\n",
      "Number of dropoff airports: 207\n"
     ]
    }
   ],
   "source": [
    "number_of_pickup_airports = len(set(df['PULOC']))\n",
    "number_of_dropoff_airports = len(set(df['DropLoc']))\n",
    "print(f'Number of pickup airports: {number_of_pickup_airports}')\n",
    "print(f'Number of dropoff airports: {number_of_dropoff_airports}')"
   ]
  },
  {
   "cell_type": "markdown",
   "metadata": {},
   "source": [
    "Some airport codes are missing full name and other details. Clean if necessary:"
   ]
  },
  {
   "cell_type": "code",
   "execution_count": 12,
   "metadata": {},
   "outputs": [
    {
     "name": "stdout",
     "output_type": "stream",
     "text": [
      "Pickup airports missing full name: ['KALB']\n"
     ]
    }
   ],
   "source": [
    "group = df.groupby(['air_AirportName', 'PULOC']).size().reset_index(name='count')\n",
    "s = group['PULOC'].value_counts()\n",
    "missing_air_AirportName = list(s[s != 1].index)\n",
    "print(f'Pickup airports missing full name: {missing_air_AirportName}')"
   ]
  },
  {
   "cell_type": "code",
   "execution_count": 13,
   "metadata": {},
   "outputs": [
    {
     "name": "stdout",
     "output_type": "stream",
     "text": [
      "Dropoff airports missing full name: ['FCBB', 'HBBA', 'FYWH', 'KMHR', 'KALB', 'NSFA', 'KMDW', 'SBCF']\n"
     ]
    }
   ],
   "source": [
    "group = df.groupby(['air2_AirportName', 'DropLoc']).size().reset_index(name='count')\n",
    "s = group['DropLoc'].value_counts()\n",
    "missing_air2_AirportName = list(s[s != 1].index)\n",
    "print(f'Dropoff airports missing full name: {missing_air2_AirportName}')"
   ]
  },
  {
   "cell_type": "code",
   "execution_count": 14,
   "metadata": {},
   "outputs": [
    {
     "data": {
      "text/plain": [
       "Alexandria International Airport                        239911\n",
       "Brownsville South Padre Island International Airport    204895\n",
       "Phoenix-Mesa-Gateway Airport                            196150\n",
       "Valley International Airport                            154138\n",
       "El Paso International Airport                           136127\n",
       "San Antonio International Airport                       107434\n",
       "Columbus Metropolitan Airport                            80797\n",
       "Harrisburg International Airport                         76348\n",
       "Laredo International Airport                             56409\n",
       "Miami International Airport                              55588\n",
       "Name: air_AirportName, dtype: int64"
      ]
     },
     "execution_count": 14,
     "metadata": {},
     "output_type": "execute_result"
    }
   ],
   "source": [
    "df['air_AirportName'].value_counts().head(10)"
   ]
  },
  {
   "cell_type": "code",
   "execution_count": 15,
   "metadata": {},
   "outputs": [
    {
     "data": {
      "text/plain": [
       "La Aurora Airport                                       327010\n",
       "Ramon Villeda Morales International Airport             202955\n",
       "Alexandria International Airport                        169316\n",
       "El Salvador International Airport                       157773\n",
       "Valley International Airport                            148700\n",
       "Phoenix-Mesa-Gateway Airport                             93892\n",
       "El Paso International Airport                            87408\n",
       "Licenciado Benito Juarez International Airport           85584\n",
       "Brownsville South Padre Island International Airport     66444\n",
       "San Diego International Airport                          62943\n",
       "Name: air2_AirportName, dtype: int64"
      ]
     },
     "execution_count": 15,
     "metadata": {},
     "output_type": "execute_result"
    }
   ],
   "source": [
    "df['air2_AirportName'].value_counts().head(10)"
   ]
  },
  {
   "cell_type": "code",
   "execution_count": 16,
   "metadata": {},
   "outputs": [
    {
     "name": "stdout",
     "output_type": "stream",
     "text": [
      "Number of pickup countries: 11\n"
     ]
    }
   ],
   "source": [
    "pickup_countries = set(df['air_Country'])\n",
    "print(f'Number of pickup countries: {len(pickup_countries)}')"
   ]
  },
  {
   "cell_type": "code",
   "execution_count": 17,
   "metadata": {},
   "outputs": [
    {
     "name": "stdout",
     "output_type": "stream",
     "text": [
      "Number of dropoff countries: 116\n"
     ]
    }
   ],
   "source": [
    "dropoff_countries = set(df['air2_Country'])\n",
    "print(f'Number of dropoff countries: {len(dropoff_countries)}')"
   ]
  },
  {
   "cell_type": "code",
   "execution_count": 18,
   "metadata": {},
   "outputs": [
    {
     "name": "stdout",
     "output_type": "stream",
     "text": [
      "Total countries in ICE Air network (including US): 116\n"
     ]
    }
   ],
   "source": [
    "all_countries = pickup_countries.union(dropoff_countries)\n",
    "print(f'Total countries in ICE Air network (including US): {len(dropoff_countries)}')"
   ]
  },
  {
   "cell_type": "code",
   "execution_count": 19,
   "metadata": {},
   "outputs": [
    {
     "data": {
      "text/plain": [
       "MEXICO                568038\n",
       "GUATEMALA             421400\n",
       "HONDURAS              304683\n",
       "EL SALVADOR           256825\n",
       "DOMINICAN REPUBLIC     31704\n",
       "ECUADOR                25686\n",
       "HAITI                  23308\n",
       "NICARAGUA              18679\n",
       "COLOMBIA               14519\n",
       "JAMAICA                12800\n",
       "INDIA                   8952\n",
       "CHINA                   4459\n",
       "CUBA                    3658\n",
       "BANGLADESH              2790\n",
       "SOMALIA                 2659\n",
       "Name: CountryOfCitizenship, dtype: int64"
      ]
     },
     "execution_count": 19,
     "metadata": {},
     "output_type": "execute_result"
    }
   ],
   "source": [
    "df.drop_duplicates(subset='AlienMasterID')['CountryOfCitizenship'].value_counts().head(15)"
   ]
  },
  {
   "cell_type": "code",
   "execution_count": 20,
   "metadata": {},
   "outputs": [],
   "source": [
    "pickup_names = df[['PULOC', 'air_AirportName']].drop_duplicates()\n",
    "pickup_names.set_index('PULOC', inplace=True)\n",
    "dropoff_names = df[['DropLoc', 'air2_AirportName']].drop_duplicates()\n",
    "dropoff_names.set_index('DropLoc', inplace=True)\n",
    "\n",
    "pickup_dict = pickup_names.to_dict()['air_AirportName']\n",
    "dropoff_dict = dropoff_names.to_dict()['air2_AirportName']\n",
    "\n",
    "airport_dict = {**pickup_dict, **dropoff_dict}"
   ]
  },
  {
   "cell_type": "markdown",
   "metadata": {},
   "source": [
    "# Finding repeat `AlienMasterID` values"
   ]
  },
  {
   "cell_type": "code",
   "execution_count": 21,
   "metadata": {},
   "outputs": [],
   "source": [
    "count = df.groupby(['AlienMasterID']).size().reset_index(name='count')\n",
    "\n",
    "count.set_index('AlienMasterID', inplace=True)\n",
    "\n",
    "df.set_index('AlienMasterID', inplace=True)\n",
    "\n",
    "df = df.join(count, how='left')\n",
    "\n",
    "more_than_one = df['count'] > 1\n",
    "\n",
    "multiple_alienID = df[more_than_one]\n",
    "\n",
    "multiple_alienID.to_csv('../output/multiple_alienID.csv.gz', compression='gzip', sep='|')"
   ]
  },
  {
   "cell_type": "code",
   "execution_count": null,
   "metadata": {},
   "outputs": [],
   "source": []
  }
 ],
 "metadata": {
  "kernelspec": {
   "display_name": "Python 3",
   "language": "python",
   "name": "python3"
  },
  "language_info": {
   "codemirror_mode": {
    "name": "ipython",
    "version": 3
   },
   "file_extension": ".py",
   "mimetype": "text/x-python",
   "name": "python",
   "nbconvert_exporter": "python",
   "pygments_lexer": "ipython3",
   "version": "3.7.1"
  }
 },
 "nbformat": 4,
 "nbformat_minor": 2
}
