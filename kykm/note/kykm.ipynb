{
 "cells": [
  {
   "cell_type": "code",
   "execution_count": 42,
   "metadata": {},
   "outputs": [],
   "source": [
    "import pandas as pd\n",
    "import numpy as np\n",
    "import yaml\n",
    "import matplotlib.pyplot as plt\n",
    "import matplotlib.ticker as ticker"
   ]
  },
  {
   "cell_type": "code",
   "execution_count": 43,
   "metadata": {},
   "outputs": [],
   "source": [
    "with open('../input/passenger-dtypes.yaml', 'r') as yamlfile:\n",
    "    column_types = yaml.load(yamlfile)\n",
    "\n",
    "read_csv_opts = {'sep': '|',\n",
    "                 'quotechar': '\"',\n",
    "                 'compression': 'gzip',\n",
    "                 'encoding': 'utf-8',\n",
    "                 'dtype': column_types,\n",
    "                 'parse_dates': ['MissionDate'],\n",
    "                 'infer_datetime_format': True}\n",
    "\n",
    "df = pd.read_csv('../input/ice-air-passengers.csv.gz', **read_csv_opts)"
   ]
  },
  {
   "cell_type": "code",
   "execution_count": 44,
   "metadata": {},
   "outputs": [],
   "source": [
    "pickups = df['PULOC'] == 'KBFI'\n",
    "dropoffs = df['DropLoc'] == 'KBFI'\n",
    "kbfi = df.loc[pickups | dropoffs]"
   ]
  },
  {
   "cell_type": "code",
   "execution_count": 45,
   "metadata": {},
   "outputs": [],
   "source": [
    "kbfi.set_index('MissionDate', inplace=True)"
   ]
  },
  {
   "cell_type": "code",
   "execution_count": 46,
   "metadata": {},
   "outputs": [],
   "source": [
    "kbfi = kbfi['2018-10-01':]"
   ]
  },
  {
   "cell_type": "code",
   "execution_count": 47,
   "metadata": {},
   "outputs": [],
   "source": [
    "del df"
   ]
  },
  {
   "cell_type": "code",
   "execution_count": 48,
   "metadata": {},
   "outputs": [],
   "source": [
    "# kykm = pd.read_csv('../input/ICEAirKYKM20191016.csv', header=1)\n",
    "# kykm = pd.read_csv('../input/ICEAirKYKM20191226.csv', header=1)\n",
    "# kykm = pd.read_csv('../input/ICEAirKYKM20191231.csv', header=1)\n",
    "# kykm = pd.read_csv('../input/ICEAirKYKM20200505.csv', header=1)\n",
    "kykm = pd.read_csv('../input/ICEAirKYKM20200727.csv', header=0)"
   ]
  },
  {
   "cell_type": "code",
   "execution_count": 49,
   "metadata": {},
   "outputs": [
    {
     "data": {
      "text/plain": [
       "Index(['Date', 'Flight count', 'Flight number', 'Tail number', 'Operator',\n",
       "       'Owner', 'Previous Airport', 'Next Airport',\n",
       "       'From NWDC - Boarded Plane', 'From Plane - Boarded Bus to NWDC',\n",
       "       'From NWDC - Boarded Plane.1', 'From Plane - Boarded Bus to NWDC.1',\n",
       "       'Snoq Pass', 'White Pass', '# Buses', 'Observations', 'Link'],\n",
       "      dtype='object')"
      ]
     },
     "execution_count": 49,
     "metadata": {},
     "output_type": "execute_result"
    }
   ],
   "source": [
    "kykm.columns"
   ]
  },
  {
   "cell_type": "code",
   "execution_count": 50,
   "metadata": {},
   "outputs": [
    {
     "data": {
      "text/html": [
       "<div>\n",
       "<style scoped>\n",
       "    .dataframe tbody tr th:only-of-type {\n",
       "        vertical-align: middle;\n",
       "    }\n",
       "\n",
       "    .dataframe tbody tr th {\n",
       "        vertical-align: top;\n",
       "    }\n",
       "\n",
       "    .dataframe thead th {\n",
       "        text-align: right;\n",
       "    }\n",
       "</style>\n",
       "<table border=\"1\" class=\"dataframe\">\n",
       "  <thead>\n",
       "    <tr style=\"text-align: right;\">\n",
       "      <th></th>\n",
       "      <th>Date</th>\n",
       "      <th>Flight count</th>\n",
       "      <th>Flight number</th>\n",
       "      <th>Tail number</th>\n",
       "      <th>Operator</th>\n",
       "      <th>Owner</th>\n",
       "      <th>Previous Airport</th>\n",
       "      <th>Next Airport</th>\n",
       "      <th>From NWDC - Boarded Plane</th>\n",
       "      <th>From Plane - Boarded Bus to NWDC</th>\n",
       "      <th>From NWDC - Boarded Plane.1</th>\n",
       "      <th>From Plane - Boarded Bus to NWDC.1</th>\n",
       "      <th>Snoq Pass</th>\n",
       "      <th>White Pass</th>\n",
       "      <th># Buses</th>\n",
       "      <th>Observations</th>\n",
       "      <th>Link</th>\n",
       "    </tr>\n",
       "  </thead>\n",
       "  <tbody>\n",
       "    <tr>\n",
       "      <th>0</th>\n",
       "      <td>Tuesday, May 7, 2019</td>\n",
       "      <td>1</td>\n",
       "      <td>RPN529</td>\n",
       "      <td>N529AU</td>\n",
       "      <td>US DHS ICE \"Repatriate\"</td>\n",
       "      <td>Swift Air LLC</td>\n",
       "      <td>KIWA</td>\n",
       "      <td>KELP</td>\n",
       "      <td>92.0</td>\n",
       "      <td>40.0</td>\n",
       "      <td>92.0</td>\n",
       "      <td>40.0</td>\n",
       "      <td>NaN</td>\n",
       "      <td>NaN</td>\n",
       "      <td>?</td>\n",
       "      <td>Only YKM flight under RPN call sign - they sto...</td>\n",
       "      <td>https://flightaware.com/live/flight/RPN529/his...</td>\n",
       "    </tr>\n",
       "    <tr>\n",
       "      <th>1</th>\n",
       "      <td>Sunday, May 12, 2019</td>\n",
       "      <td>2</td>\n",
       "      <td>SWQ3571</td>\n",
       "      <td>N441US</td>\n",
       "      <td>Swift Air \"Swiftflight\"</td>\n",
       "      <td>Swift Air LLC</td>\n",
       "      <td>KELP</td>\n",
       "      <td>KIWA</td>\n",
       "      <td>0.0</td>\n",
       "      <td>90.0</td>\n",
       "      <td>0.0</td>\n",
       "      <td>100.0</td>\n",
       "      <td>NaN</td>\n",
       "      <td>NaN</td>\n",
       "      <td>3</td>\n",
       "      <td>NaN</td>\n",
       "      <td>https://flightaware.com/live/flight/SWQ3571/hi...</td>\n",
       "    </tr>\n",
       "    <tr>\n",
       "      <th>2</th>\n",
       "      <td>Tuesday, May 14, 2019</td>\n",
       "      <td>3</td>\n",
       "      <td>SWQ3501</td>\n",
       "      <td>N529AU</td>\n",
       "      <td>Swift Air \"Swiftflight\"</td>\n",
       "      <td>Swift Air LLC</td>\n",
       "      <td>KIWA</td>\n",
       "      <td>KLAS</td>\n",
       "      <td>70.0</td>\n",
       "      <td>0.0</td>\n",
       "      <td>78.0</td>\n",
       "      <td>4.0</td>\n",
       "      <td>NaN</td>\n",
       "      <td>NaN</td>\n",
       "      <td>3</td>\n",
       "      <td>No female agents, so women weren't patted down</td>\n",
       "      <td>https://flightaware.com/live/flight/N529AU/his...</td>\n",
       "    </tr>\n",
       "    <tr>\n",
       "      <th>3</th>\n",
       "      <td>Saturday, May 18, 2019</td>\n",
       "      <td>4</td>\n",
       "      <td>SWQ3577</td>\n",
       "      <td>N625SW</td>\n",
       "      <td>Swift Air \"Swiftflight\"</td>\n",
       "      <td>Swift Air LLC</td>\n",
       "      <td>KDEN</td>\n",
       "      <td>KIWA</td>\n",
       "      <td>0.0</td>\n",
       "      <td>35.0</td>\n",
       "      <td>0.0</td>\n",
       "      <td>34.0</td>\n",
       "      <td>NaN</td>\n",
       "      <td>NaN</td>\n",
       "      <td>2</td>\n",
       "      <td>11 women, 24 men dropped off</td>\n",
       "      <td>https://flightaware.com/live/flight/SWQ3577/hi...</td>\n",
       "    </tr>\n",
       "    <tr>\n",
       "      <th>4</th>\n",
       "      <td>Tuesday, May 21, 2019</td>\n",
       "      <td>5</td>\n",
       "      <td>SWQ3500</td>\n",
       "      <td>N625SW</td>\n",
       "      <td>Swift Air \"Swiftflight\"</td>\n",
       "      <td>Swift Air LLC</td>\n",
       "      <td>KIWA</td>\n",
       "      <td>KLAS</td>\n",
       "      <td>61.0</td>\n",
       "      <td>40.0</td>\n",
       "      <td>61.0</td>\n",
       "      <td>40.0</td>\n",
       "      <td>NaN</td>\n",
       "      <td>NaN</td>\n",
       "      <td>3</td>\n",
       "      <td>Records received via Yakima Air Terminal inclu...</td>\n",
       "      <td>https://flightaware.com/live/flight/SWQ3500/hi...</td>\n",
       "    </tr>\n",
       "  </tbody>\n",
       "</table>\n",
       "</div>"
      ],
      "text/plain": [
       "                     Date Flight count Flight number Tail number  \\\n",
       "0    Tuesday, May 7, 2019            1        RPN529      N529AU   \n",
       "1    Sunday, May 12, 2019            2       SWQ3571      N441US   \n",
       "2   Tuesday, May 14, 2019            3       SWQ3501      N529AU   \n",
       "3  Saturday, May 18, 2019            4       SWQ3577      N625SW   \n",
       "4   Tuesday, May 21, 2019            5       SWQ3500      N625SW   \n",
       "\n",
       "                  Operator          Owner Previous Airport Next Airport  \\\n",
       "0  US DHS ICE \"Repatriate\"  Swift Air LLC             KIWA         KELP   \n",
       "1  Swift Air \"Swiftflight\"  Swift Air LLC             KELP         KIWA   \n",
       "2  Swift Air \"Swiftflight\"  Swift Air LLC             KIWA         KLAS   \n",
       "3  Swift Air \"Swiftflight\"  Swift Air LLC             KDEN         KIWA   \n",
       "4  Swift Air \"Swiftflight\"  Swift Air LLC             KIWA         KLAS   \n",
       "\n",
       "   From NWDC - Boarded Plane  From Plane - Boarded Bus to NWDC  \\\n",
       "0                       92.0                              40.0   \n",
       "1                        0.0                              90.0   \n",
       "2                       70.0                               0.0   \n",
       "3                        0.0                              35.0   \n",
       "4                       61.0                              40.0   \n",
       "\n",
       "   From NWDC - Boarded Plane.1  From Plane - Boarded Bus to NWDC.1 Snoq Pass  \\\n",
       "0                         92.0                                40.0       NaN   \n",
       "1                          0.0                               100.0       NaN   \n",
       "2                         78.0                                 4.0       NaN   \n",
       "3                          0.0                                34.0       NaN   \n",
       "4                         61.0                                40.0       NaN   \n",
       "\n",
       "  White Pass # Buses                                       Observations  \\\n",
       "0        NaN       ?  Only YKM flight under RPN call sign - they sto...   \n",
       "1        NaN       3                                                NaN   \n",
       "2        NaN       3     No female agents, so women weren't patted down   \n",
       "3        NaN       2                       11 women, 24 men dropped off   \n",
       "4        NaN       3  Records received via Yakima Air Terminal inclu...   \n",
       "\n",
       "                                                Link  \n",
       "0  https://flightaware.com/live/flight/RPN529/his...  \n",
       "1  https://flightaware.com/live/flight/SWQ3571/hi...  \n",
       "2  https://flightaware.com/live/flight/N529AU/his...  \n",
       "3  https://flightaware.com/live/flight/SWQ3577/hi...  \n",
       "4  https://flightaware.com/live/flight/SWQ3500/hi...  "
      ]
     },
     "execution_count": 50,
     "metadata": {},
     "output_type": "execute_result"
    }
   ],
   "source": [
    "kykm.head()"
   ]
  },
  {
   "cell_type": "code",
   "execution_count": 51,
   "metadata": {},
   "outputs": [],
   "source": [
    "kykm = kykm.drop(['From NWDC - Boarded Plane.1', 'From Plane - Boarded Bus to NWDC.1'], axis=1)"
   ]
  },
  {
   "cell_type": "code",
   "execution_count": 52,
   "metadata": {},
   "outputs": [],
   "source": [
    "kykm = kykm.rename({'From NWDC - Boarded Plane': 'Pickups', 'From Plane - Boarded Bus to NWDC': 'Dropoffs'}, axis=1)"
   ]
  },
  {
   "cell_type": "code",
   "execution_count": 53,
   "metadata": {},
   "outputs": [],
   "source": [
    "# kykm = kykm.drop(range(63, len(kykm)))"
   ]
  },
  {
   "cell_type": "code",
   "execution_count": 54,
   "metadata": {},
   "outputs": [],
   "source": [
    "kykm['Date'] = pd.to_datetime(kykm['Date'])"
   ]
  },
  {
   "cell_type": "code",
   "execution_count": 55,
   "metadata": {},
   "outputs": [],
   "source": [
    "kykm.set_index('Date', inplace=True)"
   ]
  },
  {
   "cell_type": "code",
   "execution_count": 56,
   "metadata": {},
   "outputs": [],
   "source": [
    "kykm = kykm[['Pickups', 'Dropoffs']]"
   ]
  },
  {
   "cell_type": "code",
   "execution_count": 57,
   "metadata": {},
   "outputs": [],
   "source": [
    "kykm['Airport'] = 'KYKM'"
   ]
  },
  {
   "cell_type": "code",
   "execution_count": 58,
   "metadata": {},
   "outputs": [],
   "source": [
    "kykm.loc[:,['Pickups', 'Dropoffs']] = kykm[['Pickups', 'Dropoffs']].replace('-', np.nan)"
   ]
  },
  {
   "cell_type": "code",
   "execution_count": 59,
   "metadata": {},
   "outputs": [],
   "source": [
    "kykm.loc[:,['Pickups', 'Dropoffs']] = kykm.loc[:,['Pickups', 'Dropoffs']].astype(float)"
   ]
  },
  {
   "cell_type": "code",
   "execution_count": 60,
   "metadata": {},
   "outputs": [
    {
     "data": {
      "image/png": "[encoded data removed]",
      "text/plain": [
       "<Figure size 432x288 with 1 Axes>"
      ]
     },
     "metadata": {
      "needs_background": "light"
     },
     "output_type": "display_data"
    }
   ],
   "source": [
    "kykm.resample('M')[['Pickups', 'Dropoffs']].sum().plot(kind='bar', stacked=True);"
   ]
  },
  {
   "cell_type": "code",
   "execution_count": 61,
   "metadata": {
    "scrolled": false
   },
   "outputs": [
    {
     "data": {
      "image/png": "[encoded data removed]",
      "text/plain": [
       "<Figure size 432x288 with 1 Axes>"
      ]
     },
     "metadata": {
      "needs_background": "light"
     },
     "output_type": "display_data"
    }
   ],
   "source": [
    "kykm.resample('M')[['Pickups', 'Dropoffs']].sum().plot(kind='bar', stacked=True);"
   ]
  },
  {
   "cell_type": "code",
   "execution_count": 62,
   "metadata": {},
   "outputs": [],
   "source": [
    "pickups = kbfi['PULOC'] == 'KBFI'\n",
    "dropoffs = kbfi['DropLoc'] == 'KBFI'"
   ]
  },
  {
   "cell_type": "code",
   "execution_count": 63,
   "metadata": {},
   "outputs": [],
   "source": [
    "d = {'Pickups': kbfi[pickups].resample('D').size(), 'Dropoffs': kbfi[dropoffs].resample('D').size()}"
   ]
  },
  {
   "cell_type": "code",
   "execution_count": 64,
   "metadata": {},
   "outputs": [],
   "source": [
    "kbfi = pd.DataFrame(d)\n",
    "kbfi = kbfi[(kbfi.T != 0).any()]"
   ]
  },
  {
   "cell_type": "code",
   "execution_count": 65,
   "metadata": {},
   "outputs": [],
   "source": [
    "kbfi['Airport'] = 'KBFI'"
   ]
  },
  {
   "cell_type": "code",
   "execution_count": 66,
   "metadata": {},
   "outputs": [
    {
     "data": {
      "image/png": "[encoded data removed]",
      "text/plain": [
       "<Figure size 432x288 with 1 Axes>"
      ]
     },
     "metadata": {
      "needs_background": "light"
     },
     "output_type": "display_data"
    }
   ],
   "source": [
    "kbfi.resample('W')[['Pickups', 'Dropoffs']].sum().plot(kind='bar', stacked=True);"
   ]
  },
  {
   "cell_type": "code",
   "execution_count": 67,
   "metadata": {},
   "outputs": [
    {
     "data": {
      "text/html": [
       "<div>\n",
       "<style scoped>\n",
       "    .dataframe tbody tr th:only-of-type {\n",
       "        vertical-align: middle;\n",
       "    }\n",
       "\n",
       "    .dataframe tbody tr th {\n",
       "        vertical-align: top;\n",
       "    }\n",
       "\n",
       "    .dataframe thead th {\n",
       "        text-align: right;\n",
       "    }\n",
       "</style>\n",
       "<table border=\"1\" class=\"dataframe\">\n",
       "  <thead>\n",
       "    <tr style=\"text-align: right;\">\n",
       "      <th></th>\n",
       "      <th>Pickups</th>\n",
       "      <th>Dropoffs</th>\n",
       "    </tr>\n",
       "    <tr>\n",
       "      <th>MissionDate</th>\n",
       "      <th></th>\n",
       "      <th></th>\n",
       "    </tr>\n",
       "  </thead>\n",
       "  <tbody>\n",
       "    <tr>\n",
       "      <th>2019-01-31</th>\n",
       "      <td>369</td>\n",
       "      <td>315</td>\n",
       "    </tr>\n",
       "    <tr>\n",
       "      <th>2019-02-28</th>\n",
       "      <td>246</td>\n",
       "      <td>171</td>\n",
       "    </tr>\n",
       "    <tr>\n",
       "      <th>2019-03-31</th>\n",
       "      <td>346</td>\n",
       "      <td>235</td>\n",
       "    </tr>\n",
       "    <tr>\n",
       "      <th>2019-04-30</th>\n",
       "      <td>398</td>\n",
       "      <td>365</td>\n",
       "    </tr>\n",
       "  </tbody>\n",
       "</table>\n",
       "</div>"
      ],
      "text/plain": [
       "             Pickups  Dropoffs\n",
       "MissionDate                   \n",
       "2019-01-31       369       315\n",
       "2019-02-28       246       171\n",
       "2019-03-31       346       235\n",
       "2019-04-30       398       365"
      ]
     },
     "execution_count": 67,
     "metadata": {},
     "output_type": "execute_result"
    }
   ],
   "source": [
    "kbfi.loc['2019'].resample('M')[['Pickups', 'Dropoffs']].sum()"
   ]
  },
  {
   "cell_type": "code",
   "execution_count": 68,
   "metadata": {},
   "outputs": [],
   "source": [
    "temp = pd.concat([kbfi, kykm])"
   ]
  },
  {
   "cell_type": "code",
   "execution_count": 69,
   "metadata": {},
   "outputs": [],
   "source": [
    "temp = temp.fillna(0)"
   ]
  },
  {
   "cell_type": "code",
   "execution_count": 70,
   "metadata": {},
   "outputs": [],
   "source": [
    "temp = temp['2019-1-01':]"
   ]
  },
  {
   "cell_type": "code",
   "execution_count": 71,
   "metadata": {},
   "outputs": [
    {
     "data": {
      "image/png": "[encoded data removed]",
      "text/plain": [
       "<Figure size 432x288 with 1 Axes>"
      ]
     },
     "metadata": {
      "needs_background": "light"
     },
     "output_type": "display_data"
    }
   ],
   "source": [
    "temp.resample('W')[['Pickups', 'Dropoffs']].sum().plot(kind='bar', stacked=True);"
   ]
  },
  {
   "cell_type": "code",
   "execution_count": 72,
   "metadata": {},
   "outputs": [],
   "source": [
    "data = temp[temp['Airport'] == 'KYKM'].resample('M')[['Pickups', 'Dropoffs']].sum()"
   ]
  },
  {
   "cell_type": "code",
   "execution_count": 73,
   "metadata": {},
   "outputs": [],
   "source": [
    "data.index = data.index.month_name().str[0:3]"
   ]
  },
  {
   "cell_type": "code",
   "execution_count": 74,
   "metadata": {},
   "outputs": [],
   "source": [
    "# temp.groupby(['Airport', pd.Grouper(freq='MS')]).sum().to_csv('ICEAirKBFIKYKM2019.csv')"
   ]
  },
  {
   "cell_type": "code",
   "execution_count": 75,
   "metadata": {},
   "outputs": [],
   "source": [
    "def bar_chart(data, airport=str, airport_name=str, filename=str, title=str):\n",
    "    fig, ax = plt.subplots()\n",
    "    \n",
    "    # FY shading\n",
    "#     ax.axvspan(-2, 6.5, facecolor='g', alpha=0.1)\n",
    "#     ax.axvspan(6.5, 14, facecolor='y', alpha=0.1)\n",
    "    \n",
    "    # CY shading\n",
    "#     ax.axvspan(-2, 3.5, facecolor='g', alpha=0.1)\n",
    "#     ax.axvspan(3.5, 14, facecolor='y', alpha=0.1)\n",
    "    \n",
    "    data.plot(kind='bar',\n",
    "              ax=ax,\n",
    "              stacked=True,\n",
    "              title=f'{airport_name}',\n",
    "              grid=True,\n",
    "              figsize=(8,6),\n",
    "              fontsize=14,\n",
    "#               color=['g','y'],\n",
    "              alpha=1)\n",
    "    ax.set_axisbelow(True)\n",
    "    ax.set_facecolor('#EEEEEE')\n",
    "    ax.grid(color='#FFFFFF')\n",
    "    ax.set_ylabel('Number of Passengers', fontsize=16)\n",
    "    ax.set_ylim(0)\n",
    "#     ax.set_xlabel('Month, FY19', fontsize=16)\n",
    "\n",
    "    ax.set_title(f'{title}', fontsize=18)\n",
    "    ax.tick_params(labelsize=14, labelrotation=0)\n",
    "    \n",
    "\n",
    "    \n",
    "    ax.legend(bbox_to_anchor=(1.25, 1), loc='upper right', fontsize=14)\n",
    "    \n",
    "#     plt.figtext(.225, .825, 'KBFI (ICE data)', horizontalalignment='center', fontsize=16)\n",
    "#     plt.figtext(.75, .825, 'KYKM (YIRN obs.)', horizontalalignment='center', fontsize=16)\n",
    "    \n",
    "    txt='UW Center for Human Rights, Yakima Immigrant Response Network \\n(Observations missing for 1 flight in Sep. 2019)'\n",
    "    plt.figtext(1, 0, txt, wrap=True, horizontalalignment='right', fontsize=12)\n",
    "    \n",
    "#     plt.tight_layout()\n",
    "    \n",
    "    fig.set_size_inches(10, 8)\n",
    "    fig.savefig(f'../output/KYKM_2020.png', bbox_inches='tight')\n",
    "    plt.show()\n",
    "    plt.close()"
   ]
  },
  {
   "cell_type": "code",
   "execution_count": 86,
   "metadata": {},
   "outputs": [
    {
     "data": {
      "image/png": "[encoded data removed]",
      "text/plain": [
       "<Figure size 720x576 with 1 Axes>"
      ]
     },
     "metadata": {
      "needs_background": "light"
     },
     "output_type": "display_data"
    }
   ],
   "source": [
    "title = 'ICE Air passenger totals, May 2019 - July 27 2020\\nYakima Air Terminal (KYKM)'\n",
    "bar_chart(data, title=title)"
   ]
  },
  {
   "cell_type": "code",
   "execution_count": 83,
   "metadata": {},
   "outputs": [
    {
     "data": {
      "text/plain": [
       "<matplotlib.axes._subplots.AxesSubplot at 0x7fa4bc99c358>"
      ]
     },
     "execution_count": 83,
     "metadata": {},
     "output_type": "execute_result"
    },
    {
     "data": {
      "image/png": "[encoded data removed]",
      "text/plain": [
       "<Figure size 432x288 with 1 Axes>"
      ]
     },
     "metadata": {
      "needs_background": "light"
     },
     "output_type": "display_data"
    }
   ],
   "source": [
    "kykm.groupby([pd.Grouper(freq='M')]).mean().plot(kind='bar')"
   ]
  },
  {
   "cell_type": "code",
   "execution_count": 80,
   "metadata": {},
   "outputs": [
    {
     "data": {
      "text/html": [
       "<div>\n",
       "<style scoped>\n",
       "    .dataframe tbody tr th:only-of-type {\n",
       "        vertical-align: middle;\n",
       "    }\n",
       "\n",
       "    .dataframe tbody tr th {\n",
       "        vertical-align: top;\n",
       "    }\n",
       "\n",
       "    .dataframe thead th {\n",
       "        text-align: right;\n",
       "    }\n",
       "</style>\n",
       "<table border=\"1\" class=\"dataframe\">\n",
       "  <thead>\n",
       "    <tr style=\"text-align: right;\">\n",
       "      <th></th>\n",
       "      <th>Pickups</th>\n",
       "      <th>Dropoffs</th>\n",
       "    </tr>\n",
       "    <tr>\n",
       "      <th>Date</th>\n",
       "      <th></th>\n",
       "      <th></th>\n",
       "    </tr>\n",
       "  </thead>\n",
       "  <tbody>\n",
       "    <tr>\n",
       "      <th>2019-05-01</th>\n",
       "      <td>40.428571</td>\n",
       "      <td>36.571429</td>\n",
       "    </tr>\n",
       "    <tr>\n",
       "      <th>2019-06-01</th>\n",
       "      <td>45.500000</td>\n",
       "      <td>45.833333</td>\n",
       "    </tr>\n",
       "    <tr>\n",
       "      <th>2019-07-01</th>\n",
       "      <td>57.000000</td>\n",
       "      <td>36.166667</td>\n",
       "    </tr>\n",
       "    <tr>\n",
       "      <th>2019-08-01</th>\n",
       "      <td>40.142857</td>\n",
       "      <td>32.142857</td>\n",
       "    </tr>\n",
       "    <tr>\n",
       "      <th>2019-09-01</th>\n",
       "      <td>47.600000</td>\n",
       "      <td>15.800000</td>\n",
       "    </tr>\n",
       "    <tr>\n",
       "      <th>2019-10-01</th>\n",
       "      <td>59.250000</td>\n",
       "      <td>14.000000</td>\n",
       "    </tr>\n",
       "    <tr>\n",
       "      <th>2019-11-01</th>\n",
       "      <td>58.500000</td>\n",
       "      <td>1.500000</td>\n",
       "    </tr>\n",
       "    <tr>\n",
       "      <th>2019-12-01</th>\n",
       "      <td>38.400000</td>\n",
       "      <td>1.000000</td>\n",
       "    </tr>\n",
       "    <tr>\n",
       "      <th>2020-01-01</th>\n",
       "      <td>55.000000</td>\n",
       "      <td>5.333333</td>\n",
       "    </tr>\n",
       "    <tr>\n",
       "      <th>2020-02-01</th>\n",
       "      <td>46.250000</td>\n",
       "      <td>0.500000</td>\n",
       "    </tr>\n",
       "    <tr>\n",
       "      <th>2020-03-01</th>\n",
       "      <td>38.333333</td>\n",
       "      <td>23.000000</td>\n",
       "    </tr>\n",
       "    <tr>\n",
       "      <th>2020-04-01</th>\n",
       "      <td>45.333333</td>\n",
       "      <td>0.666667</td>\n",
       "    </tr>\n",
       "    <tr>\n",
       "      <th>2020-05-01</th>\n",
       "      <td>31.000000</td>\n",
       "      <td>2.000000</td>\n",
       "    </tr>\n",
       "    <tr>\n",
       "      <th>2020-06-01</th>\n",
       "      <td>20.800000</td>\n",
       "      <td>0.400000</td>\n",
       "    </tr>\n",
       "    <tr>\n",
       "      <th>2020-07-01</th>\n",
       "      <td>21.250000</td>\n",
       "      <td>0.250000</td>\n",
       "    </tr>\n",
       "  </tbody>\n",
       "</table>\n",
       "</div>"
      ],
      "text/plain": [
       "              Pickups   Dropoffs\n",
       "Date                            \n",
       "2019-05-01  40.428571  36.571429\n",
       "2019-06-01  45.500000  45.833333\n",
       "2019-07-01  57.000000  36.166667\n",
       "2019-08-01  40.142857  32.142857\n",
       "2019-09-01  47.600000  15.800000\n",
       "2019-10-01  59.250000  14.000000\n",
       "2019-11-01  58.500000   1.500000\n",
       "2019-12-01  38.400000   1.000000\n",
       "2020-01-01  55.000000   5.333333\n",
       "2020-02-01  46.250000   0.500000\n",
       "2020-03-01  38.333333  23.000000\n",
       "2020-04-01  45.333333   0.666667\n",
       "2020-05-01  31.000000   2.000000\n",
       "2020-06-01  20.800000   0.400000\n",
       "2020-07-01  21.250000   0.250000"
      ]
     },
     "execution_count": 80,
     "metadata": {},
     "output_type": "execute_result"
    }
   ],
   "source": [
    "kykm.groupby([pd.Grouper(freq='MS')]).mean()"
   ]
  },
  {
   "cell_type": "code",
   "execution_count": null,
   "metadata": {},
   "outputs": [],
   "source": []
  }
 ],
 "metadata": {
  "kernelspec": {
   "display_name": "Python 3",
   "language": "python",
   "name": "python3"
  },
  "language_info": {
   "codemirror_mode": {
    "name": "ipython",
    "version": 3
   },
   "file_extension": ".py",
   "mimetype": "text/x-python",
   "name": "python",
   "nbconvert_exporter": "python",
   "pygments_lexer": "ipython3",
   "version": "3.7.2"
  }
 },
 "nbformat": 4,
 "nbformat_minor": 2
}
