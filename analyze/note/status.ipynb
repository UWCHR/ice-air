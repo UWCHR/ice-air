{
 "cells": [
  {
   "cell_type": "code",
   "execution_count": 1,
   "metadata": {},
   "outputs": [],
   "source": [
    "import numpy as np\n",
    "import pandas as pd\n",
    "import yaml\n",
    "import matplotlib.pyplot as plt\n",
    "import matplotlib.mlab as mlab\n",
    "import seaborn as sns\n",
    "\n",
    "# plt.style.use('ggplot')"
   ]
  },
  {
   "cell_type": "markdown",
   "metadata": {},
   "source": [
    "# Import\n",
    "\n",
    "First we open a file containing a dictionary of columns and associated data types generated in `../../optimize/`, then we read input file."
   ]
  },
  {
   "cell_type": "code",
   "execution_count": 2,
   "metadata": {},
   "outputs": [
    {
     "name": "stdout",
     "output_type": "stream",
     "text": [
      "<class 'pandas.core.frame.DataFrame'>\n",
      "RangeIndex: 1732625 entries, 0 to 1732624\n",
      "Data columns (total 48 columns):\n",
      "Status                          category\n",
      "Sex                             category\n",
      "Convictions                     category\n",
      "GangMember                      category\n",
      "ClassLvl                        float32\n",
      "Age                             float32\n",
      "MissionDate                     datetime64[ns]\n",
      "MissionNumber                   uint32\n",
      "PULOC                           category\n",
      "DropLoc                         category\n",
      "StrikeFromList                  float32\n",
      "ReasonStruck                    category\n",
      "R-T                             category\n",
      "Code                            category\n",
      "CountryOfCitizenship            category\n",
      "Juvenile                        bool\n",
      "MissionWeek                     uint8\n",
      "MissionQuarter                  uint8\n",
      "MissionYear                     uint16\n",
      "MissionMonth                    uint8\n",
      "Criminality                     category\n",
      "FamilyUnitFlag                  float32\n",
      "UnaccompaniedFlag               float32\n",
      "AlienMasterID                   uint32\n",
      "MissionID                       uint16\n",
      "air_AirportID                   float32\n",
      "air_AirportName                 category\n",
      "air_City                        category\n",
      "st_StateID                      float32\n",
      "st_StateAbbr                    category\n",
      "AOR_AORID                       float32\n",
      "AOR_AOR                         category\n",
      "AOR_AORName                     category\n",
      "air_Country                     category\n",
      "air2_AirportID                  float32\n",
      "air2_AirportName                category\n",
      "air2_City                       category\n",
      "st2_StateID                     float32\n",
      "st2_StateAbbr                   category\n",
      "aor2_AORID                      float32\n",
      "aor2_AOR                        category\n",
      "aor2_AORName                    category\n",
      "air2_Country                    category\n",
      "air_LatitudeDecimalDegrees      float64\n",
      "air_LongitudeDecimalDegrees     float64\n",
      "air2_LatitudeDecimalDegrees     float64\n",
      "air2_LongitudeDecimalDegrees    float64\n",
      "NonCriminal                     bool\n",
      "dtypes: bool(2), category(23), datetime64[ns](1), float32(11), float64(4), uint16(2), uint32(2), uint8(3)\n",
      "memory usage: 218.4 MB\n"
     ]
    }
   ],
   "source": [
    "with open('../input/dtypes.yaml', 'r') as yamlfile:\n",
    "    column_types = yaml.load(yamlfile)\n",
    "\n",
    "read_csv_opts = {'sep': '|',\n",
    "                 'quotechar': '\"',\n",
    "                 'compression': 'gzip',\n",
    "                 'encoding': 'utf-8',\n",
    "                 'dtype': column_types,\n",
    "                 'parse_dates': ['MissionDate'],\n",
    "                 'infer_datetime_format': True}\n",
    "\n",
    "df = pd.read_csv('../input/ice-air.csv.gz', **read_csv_opts)\n",
    "\n",
    "df.info(memory_usage='deep')"
   ]
  },
  {
   "cell_type": "code",
   "execution_count": 3,
   "metadata": {},
   "outputs": [],
   "source": [
    "with open('../input/airport_dict.yaml', 'r') as yamlfile:\n",
    "    airport_dict = yaml.load(yamlfile)"
   ]
  },
  {
   "cell_type": "markdown",
   "metadata": {},
   "source": [
    "# Status"
   ]
  },
  {
   "cell_type": "code",
   "execution_count": 4,
   "metadata": {},
   "outputs": [],
   "source": [
    "removals = df['R-T'] == 'R'\n",
    "transfers = df['R-T'] == 'T'"
   ]
  },
  {
   "cell_type": "code",
   "execution_count": 5,
   "metadata": {},
   "outputs": [],
   "source": [
    "status_count = df[removals].drop_duplicates(subset='AlienMasterID')['Status'].str.upper().value_counts(dropna=False)"
   ]
  },
  {
   "cell_type": "code",
   "execution_count": 6,
   "metadata": {},
   "outputs": [],
   "source": [
    "status = pd.read_csv('../../share/resources/status.csv')"
   ]
  },
  {
   "cell_type": "code",
   "execution_count": 7,
   "metadata": {},
   "outputs": [],
   "source": [
    "valid_status_codes = list(status['Code'])"
   ]
  },
  {
   "cell_type": "code",
   "execution_count": 8,
   "metadata": {},
   "outputs": [],
   "source": [
    "status_dict = dict(zip(status['Code'], status['Status']))"
   ]
  },
  {
   "cell_type": "code",
   "execution_count": 9,
   "metadata": {},
   "outputs": [],
   "source": [
    "pending = ['2A', '2B', '8A', '8B', '8D']\n",
    "benefit = ['5C', '5D']\n",
    "expedited_admin_rein = ['8F', '8G', '8H', '8I', '11', '16']\n",
    "problematic = pending + benefit + expedited_admin_rein"
   ]
  },
  {
   "cell_type": "code",
   "execution_count": 10,
   "metadata": {},
   "outputs": [
    {
     "name": "stdout",
     "output_type": "stream",
     "text": [
      "ICE Air - All removals\n",
      "\n",
      "ICE status codes for passengers on direct removal flights.\n",
      "(Statuses which may raise due process concerns starred)\n",
      "\n",
      "839344 valid values.\n",
      "394568 invalid values.\n",
      "\n",
      "[1A]: 55104 (Voluntary Departure – Un-Expired and Un-Extended Voluntary Departure.)\n",
      "[1B]: 284 (Voluntary Departure - Extended Departure Period)\n",
      "[1C]: 8 (Exipred Voluntary Departure Period - Referred to Investigation)\n",
      "[2A]: *2223* (Deportable – Under Adjudication by IJ)\n",
      "[2B]: *96* (Deportable – Under Adjudication by BIA)\n",
      "[3]: 20572 (Deportable – Administratively Final Order)\n",
      "[5A]: 14 (Referred for Investigation - No Show for Hearing - No Final O...)\n",
      "[5B]: 797 (Removable – ICE Fugitive)\n",
      "[5C]: *16* (Relief Granted – Withholding of Deportation/Removal)\n",
      "[5D]: *86* (Final Order of Deportation/Removal – Deferred Action Granted.)\n",
      "[5E]: 32 (Relief Granted – Extended Voluntary Departure)\n",
      "[5F]: 57 (Unable to Obtain Travel Document)\n",
      "[8A]: *1489* (Excludable/Inadmissible – Hearing Not Commenced)\n",
      "[8B]: *4080* (Excludable/Inadmissible – Under Adjudication by an Immigration Judge.)\n",
      "[8C]: 116844 (Excludable/Inadmissible – Administrative Final Order Issued.)\n",
      "[8D]: *190* (Excludable/Inadmissible – Under Adjudication by BIA)\n",
      "[8E]: 3842 (Inadmissible – ICE Fugitive)\n",
      "[8F]: *265234* (Expedited Removal)\n",
      "[8G]: *45643* (Expedited Removal – Credible Fear Referral)\n",
      "[8H]: *2131* (Expedited Removal – Status Claim Referral)\n",
      "[8I]: *781* (Inadmissible – ICE Fugitive – Expedited Removal)\n",
      "[9]: 2599 (VR Under Safeguards)\n",
      "[10]: 105 (Visa Waiver Deportation/Removal)\n",
      "[11]: *19109* (Administrative Deportation/Removal)\n",
      "[12]: 3038 (Judicial Deportation / Removal)\n",
      "[13]: 18 (Section 250 Removal)\n",
      "[14]: 71 (Crewman, Stowaways, S-Visa Holders, 235 (c) cases)\n",
      "[15]: 85 (Terrorist Court Case (Title 5))\n",
      "[16]: *294796* (Reinstated Final Order)\n",
      "\n",
      "635874 total problematic cases.\n",
      "8078 with pending appeals.\n",
      "102 with benefit blocking deportation.\n",
      "627694 under expedited, administrative, reinstatement of removal.\n"
     ]
    }
   ],
   "source": [
    "problematic_count = 0\n",
    "valid = df[removals]['Status'].str.upper().isin(valid_status_codes)\n",
    "valid_count = sum(valid)\n",
    "invalid = ~df[removals]['Status'].str.upper().isin(valid_status_codes)\n",
    "invalid_count = sum(invalid)\n",
    "\n",
    "print(f'ICE Air - All removals')\n",
    "print()\n",
    "print(f'ICE status codes for passengers on direct removal flights.')\n",
    "print(f'(Statuses which may raise due process concerns starred)')\n",
    "print()\n",
    "print(f'{valid_count} valid values.')\n",
    "print(f'{invalid_count} invalid values.')\n",
    "print()\n",
    "for c in valid_status_codes:\n",
    "    \n",
    "    try:\n",
    "        count = status_count[c]\n",
    "    except KeyError:\n",
    "        count = 0\n",
    "    \n",
    "    if c in problematic:\n",
    "        problematic_count = problematic_count + count\n",
    "        print(f'[{c}]: *{count}* ({status_dict[c]})')\n",
    "    else:\n",
    "        print(f'[{c}]: {count} ({status_dict[c]})')\n",
    "        \n",
    "assert sum(df[removals]['Status'].isin(problematic)) == problematic_count\n",
    "print()\n",
    "print(f'{problematic_count} total problematic cases.')\n",
    "print(f\"{sum(df.loc[removals, 'Status'].isin(pending))} with pending appeals.\")\n",
    "print(f\"{sum(df.loc[removals, 'Status'].isin(benefit))} with benefit blocking deportation.\")\n",
    "print(f\"{sum(df.loc[removals, 'Status'].isin(expedited_admin_rein))} under expedited, administrative, reinstatement of removal.\")"
   ]
  },
  {
   "cell_type": "code",
   "execution_count": 11,
   "metadata": {},
   "outputs": [
    {
     "data": {
      "text/plain": [
       "627694"
      ]
     },
     "execution_count": 11,
     "metadata": {},
     "output_type": "execute_result"
    }
   ],
   "source": [
    "sum(df[removals]['Status'].isin(expedited_admin_rein))"
   ]
  },
  {
   "cell_type": "code",
   "execution_count": 12,
   "metadata": {},
   "outputs": [],
   "source": [
    "invalid_status = df[~df['Status'].isin(valid_status_codes)]\n",
    "invalid_status_counts = invalid_status['Status'].value_counts()\n",
    "# bad_statuses = list(status_counts[status_counts > 0].index)"
   ]
  },
  {
   "cell_type": "code",
   "execution_count": 13,
   "metadata": {},
   "outputs": [
    {
     "data": {
      "text/plain": [
       "REMOVAL           231309\n",
       "RM                164378\n",
       "NO STATUS          50831\n",
       "NTA                20931\n",
       "TRANSFER - F/O     19507\n",
       "TRANSFER - NTA      9795\n",
       "REINSTATE           6819\n",
       "ER-TRANSFER         5917\n",
       "STAGER              4771\n",
       "NTA - TRANSFER      3036\n",
       "F/O - TRANSFER      2620\n",
       "TRANSFER            2174\n",
       "REINST              1800\n",
       "TRANSFER-NTA        1468\n",
       "WD                  1030\n",
       "FINAL ORDER          909\n",
       "JUVI                 845\n",
       "1/15/1900            747\n",
       "NTA-TRANSFER         680\n",
       "WA/NTA               666\n",
       "NTA-TRFD             663\n",
       "V/R                  635\n",
       "DEPORT               584\n",
       "REIN                 569\n",
       "RE-INSTATE           484\n",
       "Name: Status, dtype: int64"
      ]
     },
     "execution_count": 13,
     "metadata": {},
     "output_type": "execute_result"
    }
   ],
   "source": [
    "invalid_status_counts.head(25)"
   ]
  },
  {
   "cell_type": "markdown",
   "metadata": {},
   "source": [
    "## Status by FY for removals & transfers"
   ]
  },
  {
   "cell_type": "code",
   "execution_count": 14,
   "metadata": {},
   "outputs": [],
   "source": [
    "status_fy = df[removals].drop_duplicates(subset='AlienMasterID').resample('AS-OCT', on='MissionDate')['Status'].value_counts().unstack()"
   ]
  },
  {
   "cell_type": "code",
   "execution_count": 15,
   "metadata": {},
   "outputs": [],
   "source": [
    "total = df[removals].drop_duplicates(subset='AlienMasterID').resample('AS-OCT', on='MissionDate')['AlienMasterID'].nunique()"
   ]
  },
  {
   "cell_type": "code",
   "execution_count": 16,
   "metadata": {},
   "outputs": [
    {
     "data": {
      "text/html": [
       "<div>\n",
       "<style scoped>\n",
       "    .dataframe tbody tr th:only-of-type {\n",
       "        vertical-align: middle;\n",
       "    }\n",
       "\n",
       "    .dataframe tbody tr th {\n",
       "        vertical-align: top;\n",
       "    }\n",
       "\n",
       "    .dataframe thead th {\n",
       "        text-align: right;\n",
       "    }\n",
       "</style>\n",
       "<table border=\"1\" class=\"dataframe\">\n",
       "  <thead>\n",
       "    <tr style=\"text-align: right;\">\n",
       "      <th>Status</th>\n",
       "      <th>8F</th>\n",
       "      <th>8G</th>\n",
       "      <th>8H</th>\n",
       "      <th>8I</th>\n",
       "      <th>11</th>\n",
       "      <th>16</th>\n",
       "    </tr>\n",
       "    <tr>\n",
       "      <th>MissionDate</th>\n",
       "      <th></th>\n",
       "      <th></th>\n",
       "      <th></th>\n",
       "      <th></th>\n",
       "      <th></th>\n",
       "      <th></th>\n",
       "    </tr>\n",
       "  </thead>\n",
       "  <tbody>\n",
       "    <tr>\n",
       "      <th>2010-10-01</th>\n",
       "      <td>9899.0</td>\n",
       "      <td>1.0</td>\n",
       "      <td>NaN</td>\n",
       "      <td>NaN</td>\n",
       "      <td>174.0</td>\n",
       "      <td>6484.0</td>\n",
       "    </tr>\n",
       "    <tr>\n",
       "      <th>2011-10-01</th>\n",
       "      <td>22038.0</td>\n",
       "      <td>NaN</td>\n",
       "      <td>NaN</td>\n",
       "      <td>NaN</td>\n",
       "      <td>92.0</td>\n",
       "      <td>13747.0</td>\n",
       "    </tr>\n",
       "    <tr>\n",
       "      <th>2012-10-01</th>\n",
       "      <td>52132.0</td>\n",
       "      <td>462.0</td>\n",
       "      <td>9.0</td>\n",
       "      <td>5.0</td>\n",
       "      <td>2298.0</td>\n",
       "      <td>45536.0</td>\n",
       "    </tr>\n",
       "    <tr>\n",
       "      <th>2013-10-01</th>\n",
       "      <td>53894.0</td>\n",
       "      <td>2556.0</td>\n",
       "      <td>164.0</td>\n",
       "      <td>33.0</td>\n",
       "      <td>3008.0</td>\n",
       "      <td>50542.0</td>\n",
       "    </tr>\n",
       "    <tr>\n",
       "      <th>2014-10-01</th>\n",
       "      <td>32056.0</td>\n",
       "      <td>4049.0</td>\n",
       "      <td>61.0</td>\n",
       "      <td>80.0</td>\n",
       "      <td>3832.0</td>\n",
       "      <td>40019.0</td>\n",
       "    </tr>\n",
       "    <tr>\n",
       "      <th>2015-10-01</th>\n",
       "      <td>29940.0</td>\n",
       "      <td>10335.0</td>\n",
       "      <td>246.0</td>\n",
       "      <td>128.0</td>\n",
       "      <td>3741.0</td>\n",
       "      <td>42121.0</td>\n",
       "    </tr>\n",
       "    <tr>\n",
       "      <th>2016-10-01</th>\n",
       "      <td>26146.0</td>\n",
       "      <td>13062.0</td>\n",
       "      <td>1264.0</td>\n",
       "      <td>214.0</td>\n",
       "      <td>2913.0</td>\n",
       "      <td>41956.0</td>\n",
       "    </tr>\n",
       "    <tr>\n",
       "      <th>2017-10-01</th>\n",
       "      <td>32839.0</td>\n",
       "      <td>12492.0</td>\n",
       "      <td>349.0</td>\n",
       "      <td>276.0</td>\n",
       "      <td>2652.0</td>\n",
       "      <td>45714.0</td>\n",
       "    </tr>\n",
       "    <tr>\n",
       "      <th>2018-10-01</th>\n",
       "      <td>6290.0</td>\n",
       "      <td>2686.0</td>\n",
       "      <td>38.0</td>\n",
       "      <td>45.0</td>\n",
       "      <td>399.0</td>\n",
       "      <td>8677.0</td>\n",
       "    </tr>\n",
       "  </tbody>\n",
       "</table>\n",
       "</div>"
      ],
      "text/plain": [
       "Status            8F       8G      8H     8I      11       16\n",
       "MissionDate                                                  \n",
       "2010-10-01    9899.0      1.0     NaN    NaN   174.0   6484.0\n",
       "2011-10-01   22038.0      NaN     NaN    NaN    92.0  13747.0\n",
       "2012-10-01   52132.0    462.0     9.0    5.0  2298.0  45536.0\n",
       "2013-10-01   53894.0   2556.0   164.0   33.0  3008.0  50542.0\n",
       "2014-10-01   32056.0   4049.0    61.0   80.0  3832.0  40019.0\n",
       "2015-10-01   29940.0  10335.0   246.0  128.0  3741.0  42121.0\n",
       "2016-10-01   26146.0  13062.0  1264.0  214.0  2913.0  41956.0\n",
       "2017-10-01   32839.0  12492.0   349.0  276.0  2652.0  45714.0\n",
       "2018-10-01    6290.0   2686.0    38.0   45.0   399.0   8677.0"
      ]
     },
     "execution_count": 16,
     "metadata": {},
     "output_type": "execute_result"
    }
   ],
   "source": [
    "status_fy[expedited_admin_rein]"
   ]
  },
  {
   "cell_type": "code",
   "execution_count": 17,
   "metadata": {},
   "outputs": [],
   "source": [
    "# status_fy[valid_status_codes].to_csv('../output/valid_status_by_year.csv')"
   ]
  },
  {
   "cell_type": "code",
   "execution_count": 18,
   "metadata": {},
   "outputs": [],
   "source": [
    "all_others = status_fy[status_fy.columns[~status_fy.columns.isin(valid_status_codes)]].sum(axis=1)\n",
    "all_others.name = 'all_others'"
   ]
  },
  {
   "cell_type": "code",
   "execution_count": 19,
   "metadata": {},
   "outputs": [],
   "source": [
    "status_table = pd.concat([status_fy[valid_status_codes], all_others], axis=1).T"
   ]
  },
  {
   "cell_type": "code",
   "execution_count": 20,
   "metadata": {},
   "outputs": [
    {
     "data": {
      "text/html": [
       "<div>\n",
       "<style scoped>\n",
       "    .dataframe tbody tr th:only-of-type {\n",
       "        vertical-align: middle;\n",
       "    }\n",
       "\n",
       "    .dataframe tbody tr th {\n",
       "        vertical-align: top;\n",
       "    }\n",
       "\n",
       "    .dataframe thead th {\n",
       "        text-align: right;\n",
       "    }\n",
       "</style>\n",
       "<table border=\"1\" class=\"dataframe\">\n",
       "  <thead>\n",
       "    <tr style=\"text-align: right;\">\n",
       "      <th>MissionDate</th>\n",
       "      <th>2010-10-01 00:00:00</th>\n",
       "      <th>2011-10-01 00:00:00</th>\n",
       "      <th>2012-10-01 00:00:00</th>\n",
       "      <th>2013-10-01 00:00:00</th>\n",
       "      <th>2014-10-01 00:00:00</th>\n",
       "      <th>2015-10-01 00:00:00</th>\n",
       "      <th>2016-10-01 00:00:00</th>\n",
       "      <th>2017-10-01 00:00:00</th>\n",
       "      <th>2018-10-01 00:00:00</th>\n",
       "    </tr>\n",
       "  </thead>\n",
       "  <tbody>\n",
       "    <tr>\n",
       "      <th>1A</th>\n",
       "      <td>22425.0</td>\n",
       "      <td>22071.0</td>\n",
       "      <td>9738.0</td>\n",
       "      <td>513.0</td>\n",
       "      <td>264.0</td>\n",
       "      <td>36.0</td>\n",
       "      <td>23.0</td>\n",
       "      <td>27.0</td>\n",
       "      <td>7.0</td>\n",
       "    </tr>\n",
       "    <tr>\n",
       "      <th>1B</th>\n",
       "      <td>NaN</td>\n",
       "      <td>NaN</td>\n",
       "      <td>112.0</td>\n",
       "      <td>93.0</td>\n",
       "      <td>72.0</td>\n",
       "      <td>1.0</td>\n",
       "      <td>1.0</td>\n",
       "      <td>4.0</td>\n",
       "      <td>1.0</td>\n",
       "    </tr>\n",
       "    <tr>\n",
       "      <th>1C</th>\n",
       "      <td>NaN</td>\n",
       "      <td>NaN</td>\n",
       "      <td>3.0</td>\n",
       "      <td>5.0</td>\n",
       "      <td>NaN</td>\n",
       "      <td>NaN</td>\n",
       "      <td>NaN</td>\n",
       "      <td>NaN</td>\n",
       "      <td>NaN</td>\n",
       "    </tr>\n",
       "    <tr>\n",
       "      <th>2A</th>\n",
       "      <td>NaN</td>\n",
       "      <td>NaN</td>\n",
       "      <td>994.0</td>\n",
       "      <td>233.0</td>\n",
       "      <td>301.0</td>\n",
       "      <td>106.0</td>\n",
       "      <td>217.0</td>\n",
       "      <td>325.0</td>\n",
       "      <td>47.0</td>\n",
       "    </tr>\n",
       "    <tr>\n",
       "      <th>2B</th>\n",
       "      <td>NaN</td>\n",
       "      <td>NaN</td>\n",
       "      <td>15.0</td>\n",
       "      <td>13.0</td>\n",
       "      <td>11.0</td>\n",
       "      <td>15.0</td>\n",
       "      <td>24.0</td>\n",
       "      <td>15.0</td>\n",
       "      <td>3.0</td>\n",
       "    </tr>\n",
       "    <tr>\n",
       "      <th>3</th>\n",
       "      <td>1149.0</td>\n",
       "      <td>555.0</td>\n",
       "      <td>1281.0</td>\n",
       "      <td>1737.0</td>\n",
       "      <td>2645.0</td>\n",
       "      <td>3354.0</td>\n",
       "      <td>4033.0</td>\n",
       "      <td>4953.0</td>\n",
       "      <td>865.0</td>\n",
       "    </tr>\n",
       "    <tr>\n",
       "      <th>5A</th>\n",
       "      <td>NaN</td>\n",
       "      <td>NaN</td>\n",
       "      <td>2.0</td>\n",
       "      <td>4.0</td>\n",
       "      <td>3.0</td>\n",
       "      <td>NaN</td>\n",
       "      <td>2.0</td>\n",
       "      <td>2.0</td>\n",
       "      <td>1.0</td>\n",
       "    </tr>\n",
       "    <tr>\n",
       "      <th>5B</th>\n",
       "      <td>NaN</td>\n",
       "      <td>NaN</td>\n",
       "      <td>68.0</td>\n",
       "      <td>241.0</td>\n",
       "      <td>141.0</td>\n",
       "      <td>65.0</td>\n",
       "      <td>133.0</td>\n",
       "      <td>137.0</td>\n",
       "      <td>12.0</td>\n",
       "    </tr>\n",
       "    <tr>\n",
       "      <th>5C</th>\n",
       "      <td>NaN</td>\n",
       "      <td>NaN</td>\n",
       "      <td>1.0</td>\n",
       "      <td>4.0</td>\n",
       "      <td>4.0</td>\n",
       "      <td>1.0</td>\n",
       "      <td>2.0</td>\n",
       "      <td>3.0</td>\n",
       "      <td>1.0</td>\n",
       "    </tr>\n",
       "    <tr>\n",
       "      <th>5D</th>\n",
       "      <td>NaN</td>\n",
       "      <td>NaN</td>\n",
       "      <td>16.0</td>\n",
       "      <td>18.0</td>\n",
       "      <td>8.0</td>\n",
       "      <td>4.0</td>\n",
       "      <td>19.0</td>\n",
       "      <td>17.0</td>\n",
       "      <td>4.0</td>\n",
       "    </tr>\n",
       "    <tr>\n",
       "      <th>5E</th>\n",
       "      <td>NaN</td>\n",
       "      <td>NaN</td>\n",
       "      <td>1.0</td>\n",
       "      <td>1.0</td>\n",
       "      <td>4.0</td>\n",
       "      <td>NaN</td>\n",
       "      <td>8.0</td>\n",
       "      <td>13.0</td>\n",
       "      <td>5.0</td>\n",
       "    </tr>\n",
       "    <tr>\n",
       "      <th>5F</th>\n",
       "      <td>NaN</td>\n",
       "      <td>NaN</td>\n",
       "      <td>6.0</td>\n",
       "      <td>5.0</td>\n",
       "      <td>2.0</td>\n",
       "      <td>2.0</td>\n",
       "      <td>12.0</td>\n",
       "      <td>28.0</td>\n",
       "      <td>2.0</td>\n",
       "    </tr>\n",
       "    <tr>\n",
       "      <th>8A</th>\n",
       "      <td>NaN</td>\n",
       "      <td>NaN</td>\n",
       "      <td>61.0</td>\n",
       "      <td>202.0</td>\n",
       "      <td>134.0</td>\n",
       "      <td>169.0</td>\n",
       "      <td>338.0</td>\n",
       "      <td>464.0</td>\n",
       "      <td>121.0</td>\n",
       "    </tr>\n",
       "    <tr>\n",
       "      <th>8B</th>\n",
       "      <td>NaN</td>\n",
       "      <td>NaN</td>\n",
       "      <td>419.0</td>\n",
       "      <td>245.0</td>\n",
       "      <td>370.0</td>\n",
       "      <td>444.0</td>\n",
       "      <td>1075.0</td>\n",
       "      <td>1286.0</td>\n",
       "      <td>241.0</td>\n",
       "    </tr>\n",
       "    <tr>\n",
       "      <th>8C</th>\n",
       "      <td>NaN</td>\n",
       "      <td>NaN</td>\n",
       "      <td>10497.0</td>\n",
       "      <td>16409.0</td>\n",
       "      <td>15302.0</td>\n",
       "      <td>15286.0</td>\n",
       "      <td>23502.0</td>\n",
       "      <td>30256.0</td>\n",
       "      <td>5592.0</td>\n",
       "    </tr>\n",
       "    <tr>\n",
       "      <th>8D</th>\n",
       "      <td>NaN</td>\n",
       "      <td>NaN</td>\n",
       "      <td>10.0</td>\n",
       "      <td>13.0</td>\n",
       "      <td>22.0</td>\n",
       "      <td>26.0</td>\n",
       "      <td>42.0</td>\n",
       "      <td>59.0</td>\n",
       "      <td>18.0</td>\n",
       "    </tr>\n",
       "    <tr>\n",
       "      <th>8E</th>\n",
       "      <td>NaN</td>\n",
       "      <td>NaN</td>\n",
       "      <td>116.0</td>\n",
       "      <td>375.0</td>\n",
       "      <td>472.0</td>\n",
       "      <td>626.0</td>\n",
       "      <td>988.0</td>\n",
       "      <td>1120.0</td>\n",
       "      <td>145.0</td>\n",
       "    </tr>\n",
       "    <tr>\n",
       "      <th>8F</th>\n",
       "      <td>9899.0</td>\n",
       "      <td>22038.0</td>\n",
       "      <td>52132.0</td>\n",
       "      <td>53894.0</td>\n",
       "      <td>32056.0</td>\n",
       "      <td>29940.0</td>\n",
       "      <td>26146.0</td>\n",
       "      <td>32839.0</td>\n",
       "      <td>6290.0</td>\n",
       "    </tr>\n",
       "    <tr>\n",
       "      <th>8G</th>\n",
       "      <td>1.0</td>\n",
       "      <td>NaN</td>\n",
       "      <td>462.0</td>\n",
       "      <td>2556.0</td>\n",
       "      <td>4049.0</td>\n",
       "      <td>10335.0</td>\n",
       "      <td>13062.0</td>\n",
       "      <td>12492.0</td>\n",
       "      <td>2686.0</td>\n",
       "    </tr>\n",
       "    <tr>\n",
       "      <th>8H</th>\n",
       "      <td>NaN</td>\n",
       "      <td>NaN</td>\n",
       "      <td>9.0</td>\n",
       "      <td>164.0</td>\n",
       "      <td>61.0</td>\n",
       "      <td>246.0</td>\n",
       "      <td>1264.0</td>\n",
       "      <td>349.0</td>\n",
       "      <td>38.0</td>\n",
       "    </tr>\n",
       "    <tr>\n",
       "      <th>8I</th>\n",
       "      <td>NaN</td>\n",
       "      <td>NaN</td>\n",
       "      <td>5.0</td>\n",
       "      <td>33.0</td>\n",
       "      <td>80.0</td>\n",
       "      <td>128.0</td>\n",
       "      <td>214.0</td>\n",
       "      <td>276.0</td>\n",
       "      <td>45.0</td>\n",
       "    </tr>\n",
       "    <tr>\n",
       "      <th>9</th>\n",
       "      <td>NaN</td>\n",
       "      <td>NaN</td>\n",
       "      <td>1160.0</td>\n",
       "      <td>624.0</td>\n",
       "      <td>365.0</td>\n",
       "      <td>183.0</td>\n",
       "      <td>149.0</td>\n",
       "      <td>107.0</td>\n",
       "      <td>11.0</td>\n",
       "    </tr>\n",
       "    <tr>\n",
       "      <th>10</th>\n",
       "      <td>NaN</td>\n",
       "      <td>NaN</td>\n",
       "      <td>9.0</td>\n",
       "      <td>11.0</td>\n",
       "      <td>10.0</td>\n",
       "      <td>10.0</td>\n",
       "      <td>30.0</td>\n",
       "      <td>28.0</td>\n",
       "      <td>7.0</td>\n",
       "    </tr>\n",
       "    <tr>\n",
       "      <th>11</th>\n",
       "      <td>174.0</td>\n",
       "      <td>92.0</td>\n",
       "      <td>2298.0</td>\n",
       "      <td>3008.0</td>\n",
       "      <td>3832.0</td>\n",
       "      <td>3741.0</td>\n",
       "      <td>2913.0</td>\n",
       "      <td>2652.0</td>\n",
       "      <td>399.0</td>\n",
       "    </tr>\n",
       "    <tr>\n",
       "      <th>12</th>\n",
       "      <td>NaN</td>\n",
       "      <td>NaN</td>\n",
       "      <td>2855.0</td>\n",
       "      <td>72.0</td>\n",
       "      <td>41.0</td>\n",
       "      <td>14.0</td>\n",
       "      <td>28.0</td>\n",
       "      <td>25.0</td>\n",
       "      <td>3.0</td>\n",
       "    </tr>\n",
       "    <tr>\n",
       "      <th>13</th>\n",
       "      <td>NaN</td>\n",
       "      <td>NaN</td>\n",
       "      <td>8.0</td>\n",
       "      <td>1.0</td>\n",
       "      <td>NaN</td>\n",
       "      <td>2.0</td>\n",
       "      <td>3.0</td>\n",
       "      <td>1.0</td>\n",
       "      <td>3.0</td>\n",
       "    </tr>\n",
       "    <tr>\n",
       "      <th>14</th>\n",
       "      <td>NaN</td>\n",
       "      <td>NaN</td>\n",
       "      <td>6.0</td>\n",
       "      <td>17.0</td>\n",
       "      <td>7.0</td>\n",
       "      <td>13.0</td>\n",
       "      <td>13.0</td>\n",
       "      <td>14.0</td>\n",
       "      <td>1.0</td>\n",
       "    </tr>\n",
       "    <tr>\n",
       "      <th>15</th>\n",
       "      <td>NaN</td>\n",
       "      <td>NaN</td>\n",
       "      <td>13.0</td>\n",
       "      <td>36.0</td>\n",
       "      <td>20.0</td>\n",
       "      <td>6.0</td>\n",
       "      <td>7.0</td>\n",
       "      <td>3.0</td>\n",
       "      <td>NaN</td>\n",
       "    </tr>\n",
       "    <tr>\n",
       "      <th>16</th>\n",
       "      <td>6484.0</td>\n",
       "      <td>13747.0</td>\n",
       "      <td>45536.0</td>\n",
       "      <td>50542.0</td>\n",
       "      <td>40019.0</td>\n",
       "      <td>42121.0</td>\n",
       "      <td>41956.0</td>\n",
       "      <td>45714.0</td>\n",
       "      <td>8677.0</td>\n",
       "    </tr>\n",
       "    <tr>\n",
       "      <th>all_others</th>\n",
       "      <td>142315.0</td>\n",
       "      <td>147311.0</td>\n",
       "      <td>61426.0</td>\n",
       "      <td>35135.0</td>\n",
       "      <td>8259.0</td>\n",
       "      <td>8.0</td>\n",
       "      <td>25.0</td>\n",
       "      <td>80.0</td>\n",
       "      <td>7.0</td>\n",
       "    </tr>\n",
       "  </tbody>\n",
       "</table>\n",
       "</div>"
      ],
      "text/plain": [
       "MissionDate  2010-10-01  2011-10-01  2012-10-01  2013-10-01  2014-10-01  \\\n",
       "1A              22425.0     22071.0      9738.0       513.0       264.0   \n",
       "1B                  NaN         NaN       112.0        93.0        72.0   \n",
       "1C                  NaN         NaN         3.0         5.0         NaN   \n",
       "2A                  NaN         NaN       994.0       233.0       301.0   \n",
       "2B                  NaN         NaN        15.0        13.0        11.0   \n",
       "3                1149.0       555.0      1281.0      1737.0      2645.0   \n",
       "5A                  NaN         NaN         2.0         4.0         3.0   \n",
       "5B                  NaN         NaN        68.0       241.0       141.0   \n",
       "5C                  NaN         NaN         1.0         4.0         4.0   \n",
       "5D                  NaN         NaN        16.0        18.0         8.0   \n",
       "5E                  NaN         NaN         1.0         1.0         4.0   \n",
       "5F                  NaN         NaN         6.0         5.0         2.0   \n",
       "8A                  NaN         NaN        61.0       202.0       134.0   \n",
       "8B                  NaN         NaN       419.0       245.0       370.0   \n",
       "8C                  NaN         NaN     10497.0     16409.0     15302.0   \n",
       "8D                  NaN         NaN        10.0        13.0        22.0   \n",
       "8E                  NaN         NaN       116.0       375.0       472.0   \n",
       "8F               9899.0     22038.0     52132.0     53894.0     32056.0   \n",
       "8G                  1.0         NaN       462.0      2556.0      4049.0   \n",
       "8H                  NaN         NaN         9.0       164.0        61.0   \n",
       "8I                  NaN         NaN         5.0        33.0        80.0   \n",
       "9                   NaN         NaN      1160.0       624.0       365.0   \n",
       "10                  NaN         NaN         9.0        11.0        10.0   \n",
       "11                174.0        92.0      2298.0      3008.0      3832.0   \n",
       "12                  NaN         NaN      2855.0        72.0        41.0   \n",
       "13                  NaN         NaN         8.0         1.0         NaN   \n",
       "14                  NaN         NaN         6.0        17.0         7.0   \n",
       "15                  NaN         NaN        13.0        36.0        20.0   \n",
       "16               6484.0     13747.0     45536.0     50542.0     40019.0   \n",
       "all_others     142315.0    147311.0     61426.0     35135.0      8259.0   \n",
       "\n",
       "MissionDate  2015-10-01  2016-10-01  2017-10-01  2018-10-01  \n",
       "1A                 36.0        23.0        27.0         7.0  \n",
       "1B                  1.0         1.0         4.0         1.0  \n",
       "1C                  NaN         NaN         NaN         NaN  \n",
       "2A                106.0       217.0       325.0        47.0  \n",
       "2B                 15.0        24.0        15.0         3.0  \n",
       "3                3354.0      4033.0      4953.0       865.0  \n",
       "5A                  NaN         2.0         2.0         1.0  \n",
       "5B                 65.0       133.0       137.0        12.0  \n",
       "5C                  1.0         2.0         3.0         1.0  \n",
       "5D                  4.0        19.0        17.0         4.0  \n",
       "5E                  NaN         8.0        13.0         5.0  \n",
       "5F                  2.0        12.0        28.0         2.0  \n",
       "8A                169.0       338.0       464.0       121.0  \n",
       "8B                444.0      1075.0      1286.0       241.0  \n",
       "8C              15286.0     23502.0     30256.0      5592.0  \n",
       "8D                 26.0        42.0        59.0        18.0  \n",
       "8E                626.0       988.0      1120.0       145.0  \n",
       "8F              29940.0     26146.0     32839.0      6290.0  \n",
       "8G              10335.0     13062.0     12492.0      2686.0  \n",
       "8H                246.0      1264.0       349.0        38.0  \n",
       "8I                128.0       214.0       276.0        45.0  \n",
       "9                 183.0       149.0       107.0        11.0  \n",
       "10                 10.0        30.0        28.0         7.0  \n",
       "11               3741.0      2913.0      2652.0       399.0  \n",
       "12                 14.0        28.0        25.0         3.0  \n",
       "13                  2.0         3.0         1.0         3.0  \n",
       "14                 13.0        13.0        14.0         1.0  \n",
       "15                  6.0         7.0         3.0         NaN  \n",
       "16              42121.0     41956.0     45714.0      8677.0  \n",
       "all_others          8.0        25.0        80.0         7.0  "
      ]
     },
     "execution_count": 20,
     "metadata": {},
     "output_type": "execute_result"
    }
   ],
   "source": [
    "status_table"
   ]
  },
  {
   "cell_type": "code",
   "execution_count": 21,
   "metadata": {},
   "outputs": [],
   "source": [
    "# status_table.to_csv('../output/removal_status_by_year.csv')\n",
    "# (status_table/total).to_csv('../output/removal_status_by_year_percent.csv')"
   ]
  },
  {
   "cell_type": "markdown",
   "metadata": {},
   "source": [
    "## Status for specific airport"
   ]
  },
  {
   "cell_type": "code",
   "execution_count": 90,
   "metadata": {},
   "outputs": [],
   "source": [
    "airport = 'KBFI'"
   ]
  },
  {
   "cell_type": "code",
   "execution_count": 91,
   "metadata": {},
   "outputs": [],
   "source": [
    "airport_name = airport_dict[airport]\n",
    "pickups = df['PULOC'] == airport\n",
    "dropoffs = df['DropLoc'] == airport\n",
    "airport_df = df[pickups|dropoffs]"
   ]
  },
  {
   "cell_type": "code",
   "execution_count": 92,
   "metadata": {},
   "outputs": [],
   "source": [
    "removals = airport_df['R-T'] == 'R'\n",
    "transfers = airport_df['R-T'] == 'T'"
   ]
  },
  {
   "cell_type": "code",
   "execution_count": 93,
   "metadata": {},
   "outputs": [
    {
     "name": "stdout",
     "output_type": "stream",
     "text": [
      "ICE Air - KBFI removals\n",
      "\n",
      "ICE status codes for passengers on direct removal flights.\n",
      "(Statuses which may raise due process concerns starred)\n",
      "\n",
      "7528 valid values.\n",
      "8541 invalid values.\n",
      "\n",
      "[1A]: 2446 (Voluntary Departure – Un-Expired and Un-Extended Voluntary Departure.)\n",
      "[1B]: 20 (Voluntary Departure - Extended Departure Period)\n",
      "[1C]: 0 (Exipred Voluntary Departure Period - Referred to Investigation)\n",
      "[2A]: *32* (Deportable – Under Adjudication by IJ)\n",
      "[2B]: *1* (Deportable – Under Adjudication by BIA)\n",
      "[3]: 161 (Deportable – Administratively Final Order)\n",
      "[5A]: 1 (Referred for Investigation - No Show for Hearing - No Final O...)\n",
      "[5B]: 20 (Removable – ICE Fugitive)\n",
      "[5C]: *1* (Relief Granted – Withholding of Deportation/Removal)\n",
      "[5D]: *1* (Final Order of Deportation/Removal – Deferred Action Granted.)\n",
      "[5E]: 1 (Relief Granted – Extended Voluntary Departure)\n",
      "[5F]: 0 (Unable to Obtain Travel Document)\n",
      "[8A]: *31* (Excludable/Inadmissible – Hearing Not Commenced)\n",
      "[8B]: *86* (Excludable/Inadmissible – Under Adjudication by an Immigration Judge.)\n",
      "[8C]: 1077 (Excludable/Inadmissible – Administrative Final Order Issued.)\n",
      "[8D]: *7* (Excludable/Inadmissible – Under Adjudication by BIA)\n",
      "[8E]: 28 (Inadmissible – ICE Fugitive)\n",
      "[8F]: *243* (Expedited Removal)\n",
      "[8G]: *272* (Expedited Removal – Credible Fear Referral)\n",
      "[8H]: *2* (Expedited Removal – Status Claim Referral)\n",
      "[8I]: *28* (Inadmissible – ICE Fugitive – Expedited Removal)\n",
      "[9]: 214 (VR Under Safeguards)\n",
      "[10]: 0 (Visa Waiver Deportation/Removal)\n",
      "[11]: *289* (Administrative Deportation/Removal)\n",
      "[12]: 786 (Judicial Deportation / Removal)\n",
      "[13]: 0 (Section 250 Removal)\n",
      "[14]: 0 (Crewman, Stowaways, S-Visa Holders, 235 (c) cases)\n",
      "[15]: 0 (Terrorist Court Case (Title 5))\n",
      "[16]: *1781* (Reinstated Final Order)\n",
      "\n",
      "2774 total problematic cases.\n",
      "157 with pending appeals.\n",
      "2 with benefit blocking deportation.\n",
      "2615 under expedited, administrative, reinstatement of removal.\n"
     ]
    }
   ],
   "source": [
    "status_count = airport_df[removals].drop_duplicates(subset='AlienMasterID')['Status'].str.upper().value_counts(dropna=False)\n",
    "count = 0\n",
    "problematic_count = 0\n",
    "valid = airport_df[removals]['Status'].str.upper().isin(valid_status_codes)\n",
    "valid_count = sum(valid)\n",
    "invalid = ~airport_df[removals]['Status'].str.upper().isin(valid_status_codes)\n",
    "invalid_count = sum(invalid)\n",
    "\n",
    "print(f'ICE Air - {airport} removals')\n",
    "print()\n",
    "print(f'ICE status codes for passengers on direct removal flights.')\n",
    "print(f'(Statuses which may raise due process concerns starred)')\n",
    "print()\n",
    "print(f'{valid_count} valid values.')\n",
    "print(f'{invalid_count} invalid values.')\n",
    "print()\n",
    "for c in valid_status_codes:\n",
    "    \n",
    "    try:\n",
    "        count = status_count[c]\n",
    "    except KeyError:\n",
    "        count = 0\n",
    "    \n",
    "    if c in problematic:\n",
    "        problematic_count = problematic_count + count\n",
    "        print(f'[{c}]: *{count}* ({status_dict[c]})')\n",
    "    else:\n",
    "        print(f'[{c}]: {count} ({status_dict[c]})')\n",
    "        \n",
    "assert sum(airport_df[removals]['Status'].isin(problematic)) == problematic_count\n",
    "print()\n",
    "print(f'{problematic_count} total problematic cases.')\n",
    "print(f\"{sum(airport_df.loc[removals, 'Status'].isin(pending))} with pending appeals.\")\n",
    "print(f\"{sum(airport_df.loc[removals, 'Status'].isin(benefit))} with benefit blocking deportation.\")\n",
    "print(f\"{sum(airport_df.loc[removals, 'Status'].isin(expedited_admin_rein))} under expedited, administrative, reinstatement of removal.\")"
   ]
  },
  {
   "cell_type": "code",
   "execution_count": 99,
   "metadata": {},
   "outputs": [
    {
     "data": {
      "text/plain": [
       "1A    2446\n",
       "16    1781\n",
       "8C    1077\n",
       "12     786\n",
       "11     289\n",
       "8G     272\n",
       "8F     243\n",
       "9      214\n",
       "3      161\n",
       "8B      86\n",
       "2A      32\n",
       "8A      31\n",
       "8I      28\n",
       "8E      28\n",
       "1B      20\n",
       "5B      20\n",
       "8D       7\n",
       "8H       2\n",
       "5A       1\n",
       "5D       1\n",
       "5E       1\n",
       "5C       1\n",
       "2B       1\n",
       "Name: Status, dtype: int64"
      ]
     },
     "execution_count": 99,
     "metadata": {},
     "output_type": "execute_result"
    }
   ],
   "source": [
    "airport_df[removals][valid]['Status'].value_counts().head(23)"
   ]
  },
  {
   "cell_type": "markdown",
   "metadata": {},
   "source": [
    "# Status for specific nationality"
   ]
  },
  {
   "cell_type": "code",
   "execution_count": 24,
   "metadata": {},
   "outputs": [],
   "source": [
    "nationality = 'CAMBODIA'\n",
    "\n",
    "errormsg = f'{nationality} not represented in dataset'\n",
    "assert nationality.upper() in df['CountryOfCitizenship'].str.upper().unique(), errormsg\n",
    "\n",
    "nationality_df = df[df['CountryOfCitizenship'] == nationality.upper()]\n",
    "\n",
    "removals = nationality_df['R-T'] == 'R'\n",
    "transfers = nationality_df['R-T'] == 'T'"
   ]
  },
  {
   "cell_type": "code",
   "execution_count": 25,
   "metadata": {},
   "outputs": [
    {
     "name": "stdout",
     "output_type": "stream",
     "text": [
      "ICE Air - CAMBODIA removals\n",
      "\n",
      "ICE status codes for passengers on direct removal flights.\n",
      "(Statuses which may raise due process concerns starred)\n",
      "\n",
      "120 valid values.\n",
      "0 invalid values.\n",
      "\n",
      "[1A]: 0 (Voluntary Departure – Un-Expired and Un-Extended Voluntary Departure.)\n",
      "[1B]: 0 (Voluntary Departure - Extended Departure Period)\n",
      "[1C]: 0 (Exipred Voluntary Departure Period - Referred to Investigation)\n",
      "[2A]: *0* (Deportable – Under Adjudication by IJ)\n",
      "[2B]: *0* (Deportable – Under Adjudication by BIA)\n",
      "[3]: 105 (Deportable – Administratively Final Order)\n",
      "[5A]: 0 (Referred for Investigation - No Show for Hearing - No Final O...)\n",
      "[5B]: 2 (Removable – ICE Fugitive)\n",
      "[5C]: *0* (Relief Granted – Withholding of Deportation/Removal)\n",
      "[5D]: *0* (Final Order of Deportation/Removal – Deferred Action Granted.)\n",
      "[5E]: 0 (Relief Granted – Extended Voluntary Departure)\n",
      "[5F]: 5 (Unable to Obtain Travel Document)\n",
      "[8A]: *0* (Excludable/Inadmissible – Hearing Not Commenced)\n",
      "[8B]: *0* (Excludable/Inadmissible – Under Adjudication by an Immigration Judge.)\n",
      "[8C]: 7 (Excludable/Inadmissible – Administrative Final Order Issued.)\n",
      "[8D]: *0* (Excludable/Inadmissible – Under Adjudication by BIA)\n",
      "[8E]: 0 (Inadmissible – ICE Fugitive)\n",
      "[8F]: *0* (Expedited Removal)\n",
      "[8G]: *0* (Expedited Removal – Credible Fear Referral)\n",
      "[8H]: *0* (Expedited Removal – Status Claim Referral)\n",
      "[8I]: *0* (Inadmissible – ICE Fugitive – Expedited Removal)\n",
      "[9]: 0 (VR Under Safeguards)\n",
      "[10]: 0 (Visa Waiver Deportation/Removal)\n",
      "[11]: *1* (Administrative Deportation/Removal)\n",
      "[12]: 0 (Judicial Deportation / Removal)\n",
      "[13]: 0 (Section 250 Removal)\n",
      "[14]: 0 (Crewman, Stowaways, S-Visa Holders, 235 (c) cases)\n",
      "[15]: 0 (Terrorist Court Case (Title 5))\n",
      "[16]: *0* (Reinstated Final Order)\n",
      "\n",
      "1 total problematic cases.\n",
      "0 with pending appeals.\n",
      "0 with benefit blocking deportation.\n",
      "1 under expedited, administrative, reinstatement of removal.\n"
     ]
    }
   ],
   "source": [
    "status_count = nationality_df[removals].drop_duplicates(subset='AlienMasterID')['Status'].str.upper().value_counts(dropna=False)\n",
    "count = 0\n",
    "problematic_count = 0\n",
    "valid = nationality_df[removals]['Status'].str.upper().isin(valid_status_codes)\n",
    "valid_count = sum(valid)\n",
    "invalid = ~nationality_df[removals]['Status'].str.upper().isin(valid_status_codes)\n",
    "invalid_count = sum(invalid)\n",
    "\n",
    "print(f'ICE Air - {nationality} removals')\n",
    "print()\n",
    "print(f'ICE status codes for passengers on direct removal flights.')\n",
    "print(f'(Statuses which may raise due process concerns starred)')\n",
    "print()\n",
    "print(f'{valid_count} valid values.')\n",
    "print(f'{invalid_count} invalid values.')\n",
    "print()\n",
    "for c in valid_status_codes:\n",
    "    \n",
    "    try:\n",
    "        count = status_count[c]\n",
    "    except KeyError:\n",
    "        count = 0\n",
    "    \n",
    "    if c in problematic:\n",
    "        problematic_count = problematic_count + count\n",
    "        print(f'[{c}]: *{count}* ({status_dict[c]})')\n",
    "    else:\n",
    "        print(f'[{c}]: {count} ({status_dict[c]})')\n",
    "        \n",
    "assert sum(nationality_df[removals]['Status'].isin(problematic)) == problematic_count\n",
    "print()\n",
    "print(f'{problematic_count} total problematic cases.')\n",
    "print(f\"{sum(nationality_df.loc[removals, 'Status'].isin(pending))} with pending appeals.\")\n",
    "print(f\"{sum(nationality_df.loc[removals, 'Status'].isin(benefit))} with benefit blocking deportation.\")\n",
    "print(f\"{sum(nationality_df.loc[removals, 'Status'].isin(expedited_admin_rein))} under expedited, administrative, reinstatement of removal.\")"
   ]
  },
  {
   "cell_type": "code",
   "execution_count": 26,
   "metadata": {},
   "outputs": [],
   "source": [
    "pending = ['2A', '2B', '8A', '8B', '8D']\n",
    "benefit = ['5C', '5D']\n",
    "expedited_admin_rein = ['8F', '8G', '8H', '8I', '11', '16']"
   ]
  },
  {
   "cell_type": "code",
   "execution_count": 27,
   "metadata": {
    "scrolled": true
   },
   "outputs": [
    {
     "data": {
      "text/plain": [
       "0"
      ]
     },
     "execution_count": 27,
     "metadata": {},
     "output_type": "execute_result"
    }
   ],
   "source": [
    "sum(nationality_df.loc[removals, 'Status'].isin(pending))"
   ]
  },
  {
   "cell_type": "code",
   "execution_count": 28,
   "metadata": {},
   "outputs": [
    {
     "data": {
      "text/plain": [
       "0"
      ]
     },
     "execution_count": 28,
     "metadata": {},
     "output_type": "execute_result"
    }
   ],
   "source": [
    "sum(nationality_df.loc[removals, 'Status'].isin(benefit))"
   ]
  },
  {
   "cell_type": "code",
   "execution_count": 29,
   "metadata": {
    "scrolled": true
   },
   "outputs": [
    {
     "data": {
      "text/plain": [
       "1"
      ]
     },
     "execution_count": 29,
     "metadata": {},
     "output_type": "execute_result"
    }
   ],
   "source": [
    "sum(nationality_df.loc[removals, 'Status'].isin(expedited_admin_rein))"
   ]
  },
  {
   "cell_type": "code",
   "execution_count": 30,
   "metadata": {},
   "outputs": [],
   "source": [
    "invalid_status = nationality_df[~nationality_df['Status'].isin(valid_status_codes)]\n",
    "invalid_status_counts = invalid_status['Status'].value_counts()\n",
    "# bad_statuses = list(status_counts[status_counts > 0].index)"
   ]
  },
  {
   "cell_type": "code",
   "execution_count": 31,
   "metadata": {},
   "outputs": [
    {
     "data": {
      "text/plain": [
       "TRANSFER - F/O    143\n",
       "TRANSFER           67\n",
       "TRANSFER - NTA     40\n",
       "NO STATUS          39\n",
       "REMOVAL            33\n",
       "NTA                10\n",
       "F/O - TRANSFER      7\n",
       "STAGING             4\n",
       "INTERVIEW           2\n",
       "RR - TRANSFER       2\n",
       "Name: Status, dtype: int64"
      ]
     },
     "execution_count": 31,
     "metadata": {},
     "output_type": "execute_result"
    }
   ],
   "source": [
    "invalid_status_counts.head(10)"
   ]
  },
  {
   "cell_type": "markdown",
   "metadata": {},
   "source": [
    "# Status by AOR"
   ]
  },
  {
   "cell_type": "code",
   "execution_count": 32,
   "metadata": {},
   "outputs": [
    {
     "data": {
      "text/plain": [
       "Index(['Status', 'Sex', 'Convictions', 'GangMember', 'ClassLvl', 'Age',\n",
       "       'MissionDate', 'MissionNumber', 'PULOC', 'DropLoc', 'StrikeFromList',\n",
       "       'ReasonStruck', 'R-T', 'Code', 'CountryOfCitizenship', 'Juvenile',\n",
       "       'MissionWeek', 'MissionQuarter', 'MissionYear', 'MissionMonth',\n",
       "       'Criminality', 'FamilyUnitFlag', 'UnaccompaniedFlag', 'AlienMasterID',\n",
       "       'MissionID', 'air_AirportID', 'air_AirportName', 'air_City',\n",
       "       'st_StateID', 'st_StateAbbr', 'AOR_AORID', 'AOR_AOR', 'AOR_AORName',\n",
       "       'air_Country', 'air2_AirportID', 'air2_AirportName', 'air2_City',\n",
       "       'st2_StateID', 'st2_StateAbbr', 'aor2_AORID', 'aor2_AOR',\n",
       "       'aor2_AORName', 'air2_Country', 'air_LatitudeDecimalDegrees',\n",
       "       'air_LongitudeDecimalDegrees', 'air2_LatitudeDecimalDegrees',\n",
       "       'air2_LongitudeDecimalDegrees', 'NonCriminal'],\n",
       "      dtype='object')"
      ]
     },
     "execution_count": 32,
     "metadata": {},
     "output_type": "execute_result"
    }
   ],
   "source": [
    "df.columns"
   ]
  },
  {
   "cell_type": "code",
   "execution_count": 48,
   "metadata": {},
   "outputs": [],
   "source": [
    "removals = df['R-T'] == 'R'\n",
    "transfers = df['R-T'] == 'T'"
   ]
  },
  {
   "cell_type": "code",
   "execution_count": 101,
   "metadata": {},
   "outputs": [
    {
     "name": "stderr",
     "output_type": "stream",
     "text": [
      "/Users/philneff/anaconda3/lib/python3.7/site-packages/ipykernel_launcher.py:1: UserWarning: Boolean Series key will be reindexed to match DataFrame index.\n",
      "  \"\"\"Entry point for launching an IPython kernel.\n"
     ]
    },
    {
     "ename": "IndexingError",
     "evalue": "Unalignable boolean Series provided as indexer (index of the boolean Series and of the indexed object do not match",
     "output_type": "error",
     "traceback": [
      "\u001b[0;31m---------------------------------------------------------------------------\u001b[0m",
      "\u001b[0;31mIndexingError\u001b[0m                             Traceback (most recent call last)",
      "\u001b[0;32m<ipython-input-101-dc2566cb22f7>\u001b[0m in \u001b[0;36m<module>\u001b[0;34m\u001b[0m\n\u001b[0;32m----> 1\u001b[0;31m \u001b[0mdf\u001b[0m\u001b[0;34m[\u001b[0m\u001b[0mremovals\u001b[0m\u001b[0;34m]\u001b[0m\u001b[0;34m.\u001b[0m\u001b[0mgroupby\u001b[0m\u001b[0;34m(\u001b[0m\u001b[0;34m[\u001b[0m\u001b[0;34m'AOR_AORID'\u001b[0m\u001b[0;34m]\u001b[0m\u001b[0;34m)\u001b[0m\u001b[0;34m[\u001b[0m\u001b[0;34m'Status'\u001b[0m\u001b[0;34m]\u001b[0m\u001b[0;34m.\u001b[0m\u001b[0mvalue_counts\u001b[0m\u001b[0;34m(\u001b[0m\u001b[0;34m)\u001b[0m\u001b[0;34m\u001b[0m\u001b[0;34m\u001b[0m\u001b[0m\n\u001b[0m",
      "\u001b[0;32m~/anaconda3/lib/python3.7/site-packages/pandas/core/frame.py\u001b[0m in \u001b[0;36m__getitem__\u001b[0;34m(self, key)\u001b[0m\n\u001b[1;32m   2680\u001b[0m         \u001b[0;32mif\u001b[0m \u001b[0misinstance\u001b[0m\u001b[0;34m(\u001b[0m\u001b[0mkey\u001b[0m\u001b[0;34m,\u001b[0m \u001b[0;34m(\u001b[0m\u001b[0mSeries\u001b[0m\u001b[0;34m,\u001b[0m \u001b[0mnp\u001b[0m\u001b[0;34m.\u001b[0m\u001b[0mndarray\u001b[0m\u001b[0;34m,\u001b[0m \u001b[0mIndex\u001b[0m\u001b[0;34m,\u001b[0m \u001b[0mlist\u001b[0m\u001b[0;34m)\u001b[0m\u001b[0;34m)\u001b[0m\u001b[0;34m:\u001b[0m\u001b[0;34m\u001b[0m\u001b[0;34m\u001b[0m\u001b[0m\n\u001b[1;32m   2681\u001b[0m             \u001b[0;31m# either boolean or fancy integer index\u001b[0m\u001b[0;34m\u001b[0m\u001b[0;34m\u001b[0m\u001b[0;34m\u001b[0m\u001b[0m\n\u001b[0;32m-> 2682\u001b[0;31m             \u001b[0;32mreturn\u001b[0m \u001b[0mself\u001b[0m\u001b[0;34m.\u001b[0m\u001b[0m_getitem_array\u001b[0m\u001b[0;34m(\u001b[0m\u001b[0mkey\u001b[0m\u001b[0;34m)\u001b[0m\u001b[0;34m\u001b[0m\u001b[0;34m\u001b[0m\u001b[0m\n\u001b[0m\u001b[1;32m   2683\u001b[0m         \u001b[0;32melif\u001b[0m \u001b[0misinstance\u001b[0m\u001b[0;34m(\u001b[0m\u001b[0mkey\u001b[0m\u001b[0;34m,\u001b[0m \u001b[0mDataFrame\u001b[0m\u001b[0;34m)\u001b[0m\u001b[0;34m:\u001b[0m\u001b[0;34m\u001b[0m\u001b[0;34m\u001b[0m\u001b[0m\n\u001b[1;32m   2684\u001b[0m             \u001b[0;32mreturn\u001b[0m \u001b[0mself\u001b[0m\u001b[0;34m.\u001b[0m\u001b[0m_getitem_frame\u001b[0m\u001b[0;34m(\u001b[0m\u001b[0mkey\u001b[0m\u001b[0;34m)\u001b[0m\u001b[0;34m\u001b[0m\u001b[0;34m\u001b[0m\u001b[0m\n",
      "\u001b[0;32m~/anaconda3/lib/python3.7/site-packages/pandas/core/frame.py\u001b[0m in \u001b[0;36m_getitem_array\u001b[0;34m(self, key)\u001b[0m\n\u001b[1;32m   2720\u001b[0m             \u001b[0;31m# check_bool_indexer will throw exception if Series key cannot\u001b[0m\u001b[0;34m\u001b[0m\u001b[0;34m\u001b[0m\u001b[0;34m\u001b[0m\u001b[0m\n\u001b[1;32m   2721\u001b[0m             \u001b[0;31m# be reindexed to match DataFrame rows\u001b[0m\u001b[0;34m\u001b[0m\u001b[0;34m\u001b[0m\u001b[0;34m\u001b[0m\u001b[0m\n\u001b[0;32m-> 2722\u001b[0;31m             \u001b[0mkey\u001b[0m \u001b[0;34m=\u001b[0m \u001b[0mcheck_bool_indexer\u001b[0m\u001b[0;34m(\u001b[0m\u001b[0mself\u001b[0m\u001b[0;34m.\u001b[0m\u001b[0mindex\u001b[0m\u001b[0;34m,\u001b[0m \u001b[0mkey\u001b[0m\u001b[0;34m)\u001b[0m\u001b[0;34m\u001b[0m\u001b[0;34m\u001b[0m\u001b[0m\n\u001b[0m\u001b[1;32m   2723\u001b[0m             \u001b[0mindexer\u001b[0m \u001b[0;34m=\u001b[0m \u001b[0mkey\u001b[0m\u001b[0;34m.\u001b[0m\u001b[0mnonzero\u001b[0m\u001b[0;34m(\u001b[0m\u001b[0;34m)\u001b[0m\u001b[0;34m[\u001b[0m\u001b[0;36m0\u001b[0m\u001b[0;34m]\u001b[0m\u001b[0;34m\u001b[0m\u001b[0;34m\u001b[0m\u001b[0m\n\u001b[1;32m   2724\u001b[0m             \u001b[0;32mreturn\u001b[0m \u001b[0mself\u001b[0m\u001b[0;34m.\u001b[0m\u001b[0m_take\u001b[0m\u001b[0;34m(\u001b[0m\u001b[0mindexer\u001b[0m\u001b[0;34m,\u001b[0m \u001b[0maxis\u001b[0m\u001b[0;34m=\u001b[0m\u001b[0;36m0\u001b[0m\u001b[0;34m)\u001b[0m\u001b[0;34m\u001b[0m\u001b[0;34m\u001b[0m\u001b[0m\n",
      "\u001b[0;32m~/anaconda3/lib/python3.7/site-packages/pandas/core/indexing.py\u001b[0m in \u001b[0;36mcheck_bool_indexer\u001b[0;34m(ax, key)\u001b[0m\n\u001b[1;32m   2354\u001b[0m         \u001b[0mmask\u001b[0m \u001b[0;34m=\u001b[0m \u001b[0misna\u001b[0m\u001b[0;34m(\u001b[0m\u001b[0mresult\u001b[0m\u001b[0;34m.\u001b[0m\u001b[0m_values\u001b[0m\u001b[0;34m)\u001b[0m\u001b[0;34m\u001b[0m\u001b[0;34m\u001b[0m\u001b[0m\n\u001b[1;32m   2355\u001b[0m         \u001b[0;32mif\u001b[0m \u001b[0mmask\u001b[0m\u001b[0;34m.\u001b[0m\u001b[0many\u001b[0m\u001b[0;34m(\u001b[0m\u001b[0;34m)\u001b[0m\u001b[0;34m:\u001b[0m\u001b[0;34m\u001b[0m\u001b[0;34m\u001b[0m\u001b[0m\n\u001b[0;32m-> 2356\u001b[0;31m             raise IndexingError('Unalignable boolean Series provided as '\n\u001b[0m\u001b[1;32m   2357\u001b[0m                                 \u001b[0;34m'indexer (index of the boolean Series and of '\u001b[0m\u001b[0;34m\u001b[0m\u001b[0;34m\u001b[0m\u001b[0m\n\u001b[1;32m   2358\u001b[0m                                 'the indexed object do not match')\n",
      "\u001b[0;31mIndexingError\u001b[0m: Unalignable boolean Series provided as indexer (index of the boolean Series and of the indexed object do not match"
     ]
    }
   ],
   "source": [
    "df[removals].groupby(['AOR_AORID'])['Status'].value_counts()"
   ]
  },
  {
   "cell_type": "code",
   "execution_count": 102,
   "metadata": {},
   "outputs": [],
   "source": [
    "aor = 22"
   ]
  },
  {
   "cell_type": "code",
   "execution_count": 103,
   "metadata": {},
   "outputs": [],
   "source": [
    "aor_df = df[df['AOR_AORID'] == aor]"
   ]
  },
  {
   "cell_type": "code",
   "execution_count": 104,
   "metadata": {},
   "outputs": [
    {
     "data": {
      "text/plain": [
       "REMOVAL           8206\n",
       "16                6846\n",
       "8C                4762\n",
       "1A                2810\n",
       "8F                2398\n",
       "TRANSFER - F/O    2031\n",
       "8G                1730\n",
       "12                1363\n",
       "11                1278\n",
       "RM                 744\n",
       "Name: Status, dtype: int64"
      ]
     },
     "execution_count": 104,
     "metadata": {},
     "output_type": "execute_result"
    }
   ],
   "source": [
    "aor_df['Status'].value_counts().head(10)"
   ]
  },
  {
   "cell_type": "code",
   "execution_count": 105,
   "metadata": {},
   "outputs": [
    {
     "name": "stdout",
     "output_type": "stream",
     "text": [
      "ICE Air - AOR 22 removals\n",
      "\n",
      "ICE status codes for passengers on direct removal flights.\n",
      "(Statuses which may raise due process concerns starred)\n",
      "\n",
      "23445 valid values.\n",
      "11317 invalid values.\n",
      "\n",
      "[1A]: 2810 (Voluntary Departure – Un-Expired and Un-Extended Voluntary Departure.)\n",
      "[1B]: 100 (Voluntary Departure - Extended Departure Period)\n",
      "[1C]: 0 (Exipred Voluntary Departure Period - Referred to Investigation)\n",
      "[2A]: *335* (Deportable – Under Adjudication by IJ)\n",
      "[2B]: *12* (Deportable – Under Adjudication by BIA)\n",
      "[3]: 633 (Deportable – Administratively Final Order)\n",
      "[5A]: 29 (Referred for Investigation - No Show for Hearing - No Final O...)\n",
      "[5B]: 93 (Removable – ICE Fugitive)\n",
      "[5C]: *3* (Relief Granted – Withholding of Deportation/Removal)\n",
      "[5D]: *2* (Final Order of Deportation/Removal – Deferred Action Granted.)\n",
      "[5E]: 2 (Relief Granted – Extended Voluntary Departure)\n",
      "[5F]: 13 (Unable to Obtain Travel Document)\n",
      "[8A]: *102* (Excludable/Inadmissible – Hearing Not Commenced)\n",
      "[8B]: *283* (Excludable/Inadmissible – Under Adjudication by an Immigration Judge.)\n",
      "[8C]: 4762 (Excludable/Inadmissible – Administrative Final Order Issued.)\n",
      "[8D]: *27* (Excludable/Inadmissible – Under Adjudication by BIA)\n",
      "[8E]: 175 (Inadmissible – ICE Fugitive)\n",
      "[8F]: *2398* (Expedited Removal)\n",
      "[8G]: *1730* (Expedited Removal – Credible Fear Referral)\n",
      "[8H]: *19* (Expedited Removal – Status Claim Referral)\n",
      "[8I]: *70* (Inadmissible – ICE Fugitive – Expedited Removal)\n",
      "[9]: 351 (VR Under Safeguards)\n",
      "[10]: 6 (Visa Waiver Deportation/Removal)\n",
      "[11]: *1278* (Administrative Deportation/Removal)\n",
      "[12]: 1363 (Judicial Deportation / Removal)\n",
      "[13]: 1 (Section 250 Removal)\n",
      "[14]: 1 (Crewman, Stowaways, S-Visa Holders, 235 (c) cases)\n",
      "[15]: 1 (Terrorist Court Case (Title 5))\n",
      "[16]: *6846* (Reinstated Final Order)\n",
      "\n",
      "13105 total problematic cases.\n",
      "759 with pending appeals.\n",
      "5 with benefit blocking deportation.\n",
      "12341 under expedited, administrative, reinstatement of removal.\n"
     ]
    }
   ],
   "source": [
    "status_count = aor_df.drop_duplicates(subset='AlienMasterID')['Status'].str.upper().value_counts(dropna=False)\n",
    "count = 0\n",
    "problematic_count = 0\n",
    "valid = aor_df['Status'].str.upper().isin(valid_status_codes)\n",
    "valid_count = sum(valid)\n",
    "invalid = ~aor_df['Status'].str.upper().isin(valid_status_codes)\n",
    "invalid_count = sum(invalid)\n",
    "\n",
    "print(f'ICE Air - AOR {aor} removals')\n",
    "print()\n",
    "print(f'ICE status codes for passengers on direct removal flights.')\n",
    "print(f'(Statuses which may raise due process concerns starred)')\n",
    "print()\n",
    "print(f'{valid_count} valid values.')\n",
    "print(f'{invalid_count} invalid values.')\n",
    "print()\n",
    "for c in valid_status_codes:\n",
    "    \n",
    "    try:\n",
    "        count = status_count[c]\n",
    "    except KeyError:\n",
    "        count = 0\n",
    "    \n",
    "    if c in problematic:\n",
    "        problematic_count = problematic_count + count\n",
    "        print(f'[{c}]: *{count}* ({status_dict[c]})')\n",
    "    else:\n",
    "        print(f'[{c}]: {count} ({status_dict[c]})')\n",
    "        \n",
    "assert sum(aor_df.loc[:, 'Status'].isin(problematic)) == problematic_count\n",
    "print()\n",
    "print(f'{problematic_count} total problematic cases.')\n",
    "print(f\"{sum(aor_df.loc[:, 'Status'].isin(pending))} with pending appeals.\")\n",
    "print(f\"{sum(aor_df.loc[:, 'Status'].isin(benefit))} with benefit blocking deportation.\")\n",
    "print(f\"{sum(aor_df.loc[:, 'Status'].isin(expedited_admin_rein))} under expedited, administrative, reinstatement of removal.\") "
   ]
  },
  {
   "cell_type": "code",
   "execution_count": 111,
   "metadata": {},
   "outputs": [
    {
     "data": {
      "text/plain": [
       "16    6846\n",
       "8C    4762\n",
       "1A    2810\n",
       "8F    2398\n",
       "8G    1730\n",
       "12    1363\n",
       "11    1278\n",
       "3      633\n",
       "9      351\n",
       "2A     335\n",
       "8B     283\n",
       "8E     175\n",
       "8A     102\n",
       "1B     100\n",
       "5B      93\n",
       "8I      70\n",
       "5A      29\n",
       "8D      27\n",
       "8H      19\n",
       "5F      13\n",
       "2B      12\n",
       "10       6\n",
       "5C       3\n",
       "5D       2\n",
       "5E       2\n",
       "13       1\n",
       "14       1\n",
       "15       1\n",
       "Name: Status, dtype: int64"
      ]
     },
     "execution_count": 111,
     "metadata": {},
     "output_type": "execute_result"
    }
   ],
   "source": [
    "aor_df[valid]['Status'].value_counts().head(28)"
   ]
  },
  {
   "cell_type": "code",
   "execution_count": 124,
   "metadata": {},
   "outputs": [],
   "source": [
    "arts_count = aor_df[valid]['Status'].value_counts().head(28)"
   ]
  },
  {
   "cell_type": "markdown",
   "metadata": {},
   "source": [
    "# ICE Seattle AOR removals"
   ]
  },
  {
   "cell_type": "code",
   "execution_count": 68,
   "metadata": {},
   "outputs": [],
   "source": [
    "seattle_er = pd.read_csv('../frozen/SeattleAORExpeditedRemovals.csv', header=6)\n",
    "seattle_or = pd.read_csv('../frozen/SeattleAOROtherRemovals.csv', header=6)"
   ]
  },
  {
   "cell_type": "code",
   "execution_count": 71,
   "metadata": {},
   "outputs": [
    {
     "data": {
      "text/html": [
       "<div>\n",
       "<style scoped>\n",
       "    .dataframe tbody tr th:only-of-type {\n",
       "        vertical-align: middle;\n",
       "    }\n",
       "\n",
       "    .dataframe tbody tr th {\n",
       "        vertical-align: top;\n",
       "    }\n",
       "\n",
       "    .dataframe thead th {\n",
       "        text-align: right;\n",
       "    }\n",
       "</style>\n",
       "<table border=\"1\" class=\"dataframe\">\n",
       "  <thead>\n",
       "    <tr style=\"text-align: right;\">\n",
       "      <th></th>\n",
       "      <th>Departed Date</th>\n",
       "      <th>Date of Birth</th>\n",
       "      <th>Gender</th>\n",
       "      <th>Country of Citizenship</th>\n",
       "      <th>Event Number</th>\n",
       "      <th>Most Serious Conviction</th>\n",
       "      <th>Case Category</th>\n",
       "    </tr>\n",
       "  </thead>\n",
       "  <tbody>\n",
       "    <tr>\n",
       "      <th>0</th>\n",
       "      <td>1/3/2012</td>\n",
       "      <td>(b)(6),(b)(7)(c )</td>\n",
       "      <td>Male</td>\n",
       "      <td>FRANCE</td>\n",
       "      <td>(b)(7)(E )</td>\n",
       "      <td>NaN</td>\n",
       "      <td>[8F] Expedited Removal</td>\n",
       "    </tr>\n",
       "    <tr>\n",
       "      <th>1</th>\n",
       "      <td>1/5/2012</td>\n",
       "      <td>(b)(6),(b)(7)(c )</td>\n",
       "      <td>Female</td>\n",
       "      <td>EL SALVADOR</td>\n",
       "      <td>(b)(7)(E )</td>\n",
       "      <td>NaN</td>\n",
       "      <td>[8G] Expedited Removal - Credible Fear Referral</td>\n",
       "    </tr>\n",
       "    <tr>\n",
       "      <th>2</th>\n",
       "      <td>1/6/2012</td>\n",
       "      <td>(b)(6),(b)(7)(c )</td>\n",
       "      <td>Female</td>\n",
       "      <td>BELIZE</td>\n",
       "      <td>(b)(7)(E )</td>\n",
       "      <td>NaN</td>\n",
       "      <td>[8F] Expedited Removal</td>\n",
       "    </tr>\n",
       "    <tr>\n",
       "      <th>3</th>\n",
       "      <td>1/11/2012</td>\n",
       "      <td>(b)(6),(b)(7)(c )</td>\n",
       "      <td>Female</td>\n",
       "      <td>EL SALVADOR</td>\n",
       "      <td>(b)(7)(E )</td>\n",
       "      <td>NaN</td>\n",
       "      <td>[8G] Expedited Removal - Credible Fear Referral</td>\n",
       "    </tr>\n",
       "    <tr>\n",
       "      <th>4</th>\n",
       "      <td>1/11/2012</td>\n",
       "      <td>(b)(6),(b)(7)(c )</td>\n",
       "      <td>Female</td>\n",
       "      <td>EL SALVADOR</td>\n",
       "      <td>(b)(7)(E )</td>\n",
       "      <td>NaN</td>\n",
       "      <td>[8F] Expedited Removal</td>\n",
       "    </tr>\n",
       "  </tbody>\n",
       "</table>\n",
       "</div>"
      ],
      "text/plain": [
       "  Departed Date      Date of Birth  Gender Country of Citizenship  \\\n",
       "0      1/3/2012  (b)(6),(b)(7)(c )    Male                 FRANCE   \n",
       "1      1/5/2012  (b)(6),(b)(7)(c )  Female            EL SALVADOR   \n",
       "2      1/6/2012  (b)(6),(b)(7)(c )  Female                 BELIZE   \n",
       "3     1/11/2012  (b)(6),(b)(7)(c )  Female            EL SALVADOR   \n",
       "4     1/11/2012  (b)(6),(b)(7)(c )  Female            EL SALVADOR   \n",
       "\n",
       "  Event Number Most Serious Conviction  \\\n",
       "0   (b)(7)(E )                     NaN   \n",
       "1   (b)(7)(E )                     NaN   \n",
       "2   (b)(7)(E )                     NaN   \n",
       "3   (b)(7)(E )                     NaN   \n",
       "4   (b)(7)(E )                     NaN   \n",
       "\n",
       "                                     Case Category  \n",
       "0                           [8F] Expedited Removal  \n",
       "1  [8G] Expedited Removal - Credible Fear Referral  \n",
       "2                           [8F] Expedited Removal  \n",
       "3  [8G] Expedited Removal - Credible Fear Referral  \n",
       "4                           [8F] Expedited Removal  "
      ]
     },
     "execution_count": 71,
     "metadata": {},
     "output_type": "execute_result"
    }
   ],
   "source": [
    "seattle_er.head()"
   ]
  },
  {
   "cell_type": "code",
   "execution_count": 72,
   "metadata": {},
   "outputs": [
    {
     "data": {
      "text/html": [
       "<div>\n",
       "<style scoped>\n",
       "    .dataframe tbody tr th:only-of-type {\n",
       "        vertical-align: middle;\n",
       "    }\n",
       "\n",
       "    .dataframe tbody tr th {\n",
       "        vertical-align: top;\n",
       "    }\n",
       "\n",
       "    .dataframe thead th {\n",
       "        text-align: right;\n",
       "    }\n",
       "</style>\n",
       "<table border=\"1\" class=\"dataframe\">\n",
       "  <thead>\n",
       "    <tr style=\"text-align: right;\">\n",
       "      <th></th>\n",
       "      <th>Departed Date</th>\n",
       "      <th>Date of Birth</th>\n",
       "      <th>Gender</th>\n",
       "      <th>Country of Citizenship</th>\n",
       "      <th>Event Number</th>\n",
       "      <th>Most Serious Conviction</th>\n",
       "      <th>Case Category</th>\n",
       "    </tr>\n",
       "  </thead>\n",
       "  <tbody>\n",
       "    <tr>\n",
       "      <th>0</th>\n",
       "      <td>1/3/2012</td>\n",
       "      <td>(b)(6),(b)(7)(c )</td>\n",
       "      <td>Male</td>\n",
       "      <td>MEXICO</td>\n",
       "      <td>(b)(7)(E )</td>\n",
       "      <td>NaN</td>\n",
       "      <td>[8C] Excludable / Inadmissible - Administrativ...</td>\n",
       "    </tr>\n",
       "    <tr>\n",
       "      <th>1</th>\n",
       "      <td>1/3/2012</td>\n",
       "      <td>(b)(6),(b)(7)(c )</td>\n",
       "      <td>Female</td>\n",
       "      <td>MEXICO</td>\n",
       "      <td>(b)(7)(E )</td>\n",
       "      <td>NaN</td>\n",
       "      <td>[3] Deportable - Administratively Final Order</td>\n",
       "    </tr>\n",
       "    <tr>\n",
       "      <th>2</th>\n",
       "      <td>1/4/2012</td>\n",
       "      <td>(b)(6),(b)(7)(c )</td>\n",
       "      <td>Male</td>\n",
       "      <td>MEXICO</td>\n",
       "      <td>(b)(7)(E )</td>\n",
       "      <td>NaN</td>\n",
       "      <td>[8C] Excludable / Inadmissible - Administrativ...</td>\n",
       "    </tr>\n",
       "    <tr>\n",
       "      <th>3</th>\n",
       "      <td>1/4/2012</td>\n",
       "      <td>(b)(6),(b)(7)(c )</td>\n",
       "      <td>Male</td>\n",
       "      <td>MEXICO</td>\n",
       "      <td>(b)(7)(E )</td>\n",
       "      <td>NaN</td>\n",
       "      <td>[16] Reinstated Final Order</td>\n",
       "    </tr>\n",
       "    <tr>\n",
       "      <th>4</th>\n",
       "      <td>1/4/2012</td>\n",
       "      <td>(b)(6),(b)(7)(c )</td>\n",
       "      <td>Male</td>\n",
       "      <td>MEXICO</td>\n",
       "      <td>(b)(7)(E )</td>\n",
       "      <td>NaN</td>\n",
       "      <td>[16] Reinstated Final Order</td>\n",
       "    </tr>\n",
       "  </tbody>\n",
       "</table>\n",
       "</div>"
      ],
      "text/plain": [
       "  Departed Date      Date of Birth  Gender Country of Citizenship  \\\n",
       "0      1/3/2012  (b)(6),(b)(7)(c )    Male                 MEXICO   \n",
       "1      1/3/2012  (b)(6),(b)(7)(c )  Female                 MEXICO   \n",
       "2      1/4/2012  (b)(6),(b)(7)(c )    Male                 MEXICO   \n",
       "3      1/4/2012  (b)(6),(b)(7)(c )    Male                 MEXICO   \n",
       "4      1/4/2012  (b)(6),(b)(7)(c )    Male                 MEXICO   \n",
       "\n",
       "  Event Number Most Serious Conviction  \\\n",
       "0   (b)(7)(E )                     NaN   \n",
       "1   (b)(7)(E )                     NaN   \n",
       "2   (b)(7)(E )                     NaN   \n",
       "3   (b)(7)(E )                     NaN   \n",
       "4   (b)(7)(E )                     NaN   \n",
       "\n",
       "                                       Case Category  \n",
       "0  [8C] Excludable / Inadmissible - Administrativ...  \n",
       "1      [3] Deportable - Administratively Final Order  \n",
       "2  [8C] Excludable / Inadmissible - Administrativ...  \n",
       "3                        [16] Reinstated Final Order  \n",
       "4                        [16] Reinstated Final Order  "
      ]
     },
     "execution_count": 72,
     "metadata": {},
     "output_type": "execute_result"
    }
   ],
   "source": [
    "seattle_or.head()"
   ]
  },
  {
   "cell_type": "code",
   "execution_count": 76,
   "metadata": {},
   "outputs": [],
   "source": [
    "seattle_aor = pd.concat([seattle_er, seattle_or])"
   ]
  },
  {
   "cell_type": "code",
   "execution_count": 80,
   "metadata": {},
   "outputs": [
    {
     "data": {
      "text/plain": [
       "[8C] Excludable / Inadmissible - Administrative Final Order Issued        9535\n",
       "[16] Reinstated Final Order                                               6866\n",
       "[8F] Expedited Removal                                                    3602\n",
       "[8G] Expedited Removal - Credible Fear Referral                           2865\n",
       "[3] Deportable - Administratively Final Order                             1871\n",
       "[11] Administrative Deportation / Removal                                  932\n",
       "[9] VR Under Safeguards                                                    539\n",
       "[8E] Inadmissible - ICE Fugitive                                           206\n",
       "[10] Visa Waiver Deportation / Removal                                     140\n",
       "[8A] Excludable / Inadmissible - Hearing Not Commenced                      86\n",
       "[2A] Deportable - Under Adjudication by IJ                                  64\n",
       "[5B] Removable - ICE Fugitive                                               53\n",
       "[14] Crewmen, Stowaways, S-Visa Holders, 235(c) Cases                       43\n",
       "[8I] Inadmissible - ICE Fugitive - Expedited Removal                        40\n",
       "[8H] Expedited Removal - Status Claim Referral                              22\n",
       "[1A] Voluntary Departure - Un-Expired and Un-Extended Departure Period      13\n",
       "[5E] Relief Granted - Extended Voluntary Departure                          11\n",
       "[8B] Excludable / Inadmissible - Under Adjudication by IJ                   10\n",
       "[2B] Deportable - Under Adjudication by BIA                                  4\n",
       "[5C] Relief Granted - Withholding of Deportation / Removal                   3\n",
       "[12] Judicial Deportation / Removal                                          3\n",
       "[5D] Final Order of Deportation / Removal - Deferred Action Granted          2\n",
       "[5F] Unable to Obtain Travel Document                                        2\n",
       "[1B] Voluntary Departure - Extended Departure Period                         1\n",
       "Name: Case Category, dtype: int64"
      ]
     },
     "execution_count": 80,
     "metadata": {},
     "output_type": "execute_result"
    }
   ],
   "source": [
    "seattle_aor['Case Category'].value_counts()"
   ]
  },
  {
   "cell_type": "code",
   "execution_count": 81,
   "metadata": {},
   "outputs": [],
   "source": [
    "seattle_aor['Departed Date'] = pd.to_datetime(seattle_aor['Departed Date'])"
   ]
  },
  {
   "cell_type": "code",
   "execution_count": 84,
   "metadata": {},
   "outputs": [
    {
     "data": {
      "text/plain": [
       "count                   26913\n",
       "unique                   2195\n",
       "top       2013-01-09 00:00:00\n",
       "freq                      150\n",
       "first     2011-11-30 00:00:00\n",
       "last      2019-07-02 00:00:00\n",
       "Name: Departed Date, dtype: object"
      ]
     },
     "execution_count": 84,
     "metadata": {},
     "output_type": "execute_result"
    }
   ],
   "source": [
    "seattle_aor['Departed Date'].describe()"
   ]
  },
  {
   "cell_type": "code",
   "execution_count": 117,
   "metadata": {},
   "outputs": [],
   "source": [
    "temp = pd.read_csv('../frozen/SeattleAORtemp.csv')"
   ]
  },
  {
   "cell_type": "code",
   "execution_count": 125,
   "metadata": {},
   "outputs": [],
   "source": [
    "ero_count = temp.set_index('Status')"
   ]
  },
  {
   "cell_type": "code",
   "execution_count": 141,
   "metadata": {},
   "outputs": [],
   "source": [
    "ero_count = ero_count.rename({'Count': 'ERO-LESA count'}, axis=1)"
   ]
  },
  {
   "cell_type": "code",
   "execution_count": 134,
   "metadata": {},
   "outputs": [],
   "source": [
    "arts_count = arts_count.reset_index().set_index('index')"
   ]
  },
  {
   "cell_type": "code",
   "execution_count": 147,
   "metadata": {},
   "outputs": [],
   "source": [
    "arts_count = arts_count.rename({'Status': 'ARTS count'}, axis=1)"
   ]
  },
  {
   "cell_type": "code",
   "execution_count": 152,
   "metadata": {},
   "outputs": [],
   "source": [
    "compare = arts_count.join(ero_count)"
   ]
  },
  {
   "cell_type": "code",
   "execution_count": 153,
   "metadata": {},
   "outputs": [],
   "source": [
    "compare.index.name = 'Status'"
   ]
  },
  {
   "cell_type": "code",
   "execution_count": 156,
   "metadata": {},
   "outputs": [],
   "source": [
    "compare = compare.fillna(0)"
   ]
  },
  {
   "cell_type": "code",
   "execution_count": 158,
   "metadata": {},
   "outputs": [],
   "source": [
    "compare['ERO-LESA count'] = compare['ERO-LESA count'].astype(int)"
   ]
  },
  {
   "cell_type": "code",
   "execution_count": 159,
   "metadata": {},
   "outputs": [
    {
     "name": "stdout",
     "output_type": "stream",
     "text": [
      "        ARTS-count  ERO-LESA count\n",
      "Status                            \n",
      "16            6846            6866\n",
      "8C            4762            9535\n",
      "1A            2810              13\n",
      "8F            2398            3602\n",
      "8G            1730            2865\n",
      "12            1363               3\n",
      "11            1278             932\n",
      "3              633            1871\n",
      "9              351             539\n",
      "2A             335              64\n",
      "8B             283              10\n",
      "8E             175             206\n",
      "8A             102              86\n",
      "1B             100               1\n",
      "5B              93              53\n",
      "8I              70              40\n",
      "5A              29               0\n",
      "8D              27               0\n",
      "8H              19              22\n",
      "5F              13               2\n",
      "2B              12               4\n",
      "10               6             140\n",
      "5C               3               3\n",
      "5D               2               2\n",
      "5E               2              11\n",
      "13               1               0\n",
      "14               1              43\n",
      "15               1               0\n"
     ]
    }
   ],
   "source": [
    "print(compare)"
   ]
  },
  {
   "cell_type": "code",
   "execution_count": null,
   "metadata": {},
   "outputs": [],
   "source": []
  }
 ],
 "metadata": {
  "kernelspec": {
   "display_name": "Python 3",
   "language": "python",
   "name": "python3"
  },
  "language_info": {
   "codemirror_mode": {
    "name": "ipython",
    "version": 3
   },
   "file_extension": ".py",
   "mimetype": "text/x-python",
   "name": "python",
   "nbconvert_exporter": "python",
   "pygments_lexer": "ipython3",
   "version": "3.7.1"
  }
 },
 "nbformat": 4,
 "nbformat_minor": 2
}
