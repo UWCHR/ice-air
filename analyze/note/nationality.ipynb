{
 "cells": [
  {
   "cell_type": "code",
   "execution_count": 185,
   "metadata": {},
   "outputs": [],
   "source": [
    "import numpy as np\n",
    "import pandas as pd\n",
    "import yaml\n",
    "import matplotlib.pyplot as plt\n",
    "import matplotlib.mlab as mlab\n",
    "import seaborn as sns"
   ]
  },
  {
   "cell_type": "markdown",
   "metadata": {},
   "source": [
    "# Import\n",
    "\n",
    "First we open a file containing a dictionary of columns and associated data types generated in `../../optimize/`, then we read input file."
   ]
  },
  {
   "cell_type": "code",
   "execution_count": 186,
   "metadata": {},
   "outputs": [
    {
     "name": "stdout",
     "output_type": "stream",
     "text": [
      "<class 'pandas.core.frame.DataFrame'>\n",
      "RangeIndex: 1763020 entries, 0 to 1763019\n",
      "Data columns (total 43 columns):\n",
      "Status                  category\n",
      "Sex                     category\n",
      "Convictions             category\n",
      "GangMember              category\n",
      "ClassLvl                float32\n",
      "Age                     float32\n",
      "MissionDate             datetime64[ns]\n",
      "MissionNumber           uint32\n",
      "PULOC                   category\n",
      "DropLoc                 category\n",
      "StrikeFromList          float32\n",
      "ReasonStruck            category\n",
      "R-T                     category\n",
      "Code                    category\n",
      "CountryOfCitizenship    category\n",
      "Juvenile                bool\n",
      "MissionWeek             uint8\n",
      "MissionQuarter          uint8\n",
      "MissionYear             uint16\n",
      "MissionMonth            uint8\n",
      "Criminality             category\n",
      "FamilyUnitFlag          float32\n",
      "UnaccompaniedFlag       float32\n",
      "AlienMasterID           uint32\n",
      "MissionID               uint16\n",
      "air_AirportID           float32\n",
      "air_AirportName         category\n",
      "air_City                category\n",
      "st_StateID              float32\n",
      "st_StateAbbr            category\n",
      "AOR_AORID               float32\n",
      "AOR_AOR                 category\n",
      "AOR_AORName             category\n",
      "air_Country             category\n",
      "air2_AirportID          float32\n",
      "air2_AirportName        category\n",
      "air2_City               category\n",
      "st2_StateID             float32\n",
      "st2_StateAbbr           category\n",
      "aor2_AORID              float32\n",
      "aor2_AOR                category\n",
      "aor2_AORName            category\n",
      "air2_Country            category\n",
      "dtypes: bool(1), category(23), datetime64[ns](1), float32(11), uint16(2), uint32(2), uint8(3)\n",
      "memory usage: 166.9 MB\n"
     ]
    }
   ],
   "source": [
    "with open('../input/dtypes.yaml', 'r') as yamlfile:\n",
    "    column_types = yaml.load(yamlfile)\n",
    "\n",
    "read_csv_opts = {'sep': '|',\n",
    "                 'quotechar': '\"',\n",
    "                 'compression': 'gzip',\n",
    "                 'encoding': 'utf-8',\n",
    "                 'dtype': column_types,\n",
    "                 'parse_dates': ['MissionDate'],\n",
    "                 'infer_datetime_format': True}\n",
    "\n",
    "df = pd.read_csv('../input/ice-air.csv.gz', **read_csv_opts)\n",
    "\n",
    "df.info(memory_usage='deep')"
   ]
  },
  {
   "cell_type": "markdown",
   "metadata": {},
   "source": [
    "# By country of citizenship"
   ]
  },
  {
   "cell_type": "code",
   "execution_count": 187,
   "metadata": {},
   "outputs": [],
   "source": [
    "nationality = 'CAMBODIA'"
   ]
  },
  {
   "cell_type": "code",
   "execution_count": 188,
   "metadata": {},
   "outputs": [],
   "source": [
    "nationality_df = df[df['CountryOfCitizenship'] == nationality.upper()]"
   ]
  },
  {
   "cell_type": "code",
   "execution_count": 189,
   "metadata": {},
   "outputs": [
    {
     "data": {
      "text/plain": [
       "Phoenix-Mesa-Gateway Airport                      711\n",
       "Alexandria International Airport                  600\n",
       "El Paso International Airport                     188\n",
       "Harrisburg International Airport                  153\n",
       "San Diego International Airport                   136\n",
       "Boeing Field King County International Airport    109\n",
       "Metropolitan Oakland International Airport         95\n",
       "Miami International Airport                        60\n",
       "Southern California Logistics Airport              57\n",
       "Newark Liberty International Airport               35\n",
       "Name: air_AirportName, dtype: int64"
      ]
     },
     "execution_count": 189,
     "metadata": {},
     "output_type": "execute_result"
    }
   ],
   "source": [
    "nationality_df['air_AirportName'].value_counts().head(10)"
   ]
  },
  {
   "cell_type": "code",
   "execution_count": 190,
   "metadata": {},
   "outputs": [
    {
     "data": {
      "text/plain": [
       "Phoenix-Mesa-Gateway Airport                      707\n",
       "Alexandria International Airport                  626\n",
       "San Diego International Airport                   188\n",
       "El Paso International Airport                     171\n",
       "Harrisburg International Airport                  125\n",
       "Phnom Penh International Airport                  120\n",
       "Boeing Field King County International Airport    117\n",
       "Metropolitan Oakland International Airport         73\n",
       "Miami International Airport                        58\n",
       "Newark Liberty International Airport               30\n",
       "Name: air2_AirportName, dtype: int64"
      ]
     },
     "execution_count": 190,
     "metadata": {},
     "output_type": "execute_result"
    }
   ],
   "source": [
    "nationality_df['air2_AirportName'].value_counts().head(10)"
   ]
  },
  {
   "cell_type": "code",
   "execution_count": 191,
   "metadata": {},
   "outputs": [],
   "source": [
    "nationality_df.set_index('MissionDate', inplace=True)"
   ]
  },
  {
   "cell_type": "code",
   "execution_count": 192,
   "metadata": {},
   "outputs": [],
   "source": [
    "groupby = nationality_df.groupby(['CountryOfCitizenship', 'MissionDate', 'R-T', 'PULOC', 'DropLoc'])"
   ]
  },
  {
   "cell_type": "code",
   "execution_count": 193,
   "metadata": {},
   "outputs": [],
   "source": [
    "table = groupby['AlienMasterID'].nunique().reset_index(name='AlienMasterIDCount')\n",
    "table['MissionIDCount'] = groupby['MissionID'].nunique().reset_index(name='MissionIDCount')['MissionIDCount']"
   ]
  },
  {
   "cell_type": "code",
   "execution_count": 194,
   "metadata": {},
   "outputs": [],
   "source": [
    "removals = table[table['R-T'] == 'R'].copy()\n",
    "transfers = table[table['R-T'] == 'T'].copy()"
   ]
  },
  {
   "cell_type": "code",
   "execution_count": 195,
   "metadata": {},
   "outputs": [],
   "source": [
    "removals.set_index('MissionDate', inplace=True)\n",
    "transfers.set_index('MissionDate', inplace=True)"
   ]
  },
  {
   "cell_type": "code",
   "execution_count": 196,
   "metadata": {},
   "outputs": [],
   "source": [
    "weekly_removals = removals['AlienMasterIDCount'].resample('W').sum()\n",
    "weekly_transfers = transfers['AlienMasterIDCount'].resample('W').sum()\n",
    "monthly_removals = removals['AlienMasterIDCount'].resample('M').sum()\n",
    "monthly_transfers = transfers['AlienMasterIDCount'].resample('M').sum()\n",
    "monthly_removal_flights = removals['MissionIDCount'].resample('M').sum()\n",
    "monthly_transfers_flights = transfers['MissionIDCount'].resample('M').sum()\n",
    "annual_removals = removals['AlienMasterIDCount'].resample('AS-OCT').sum()\n",
    "annual_transfers = transfers['AlienMasterIDCount'].resample('AS-OCT').sum()\n",
    "annual_removal_flights = removals['MissionIDCount'].resample('AS-OCT').sum()\n",
    "annual_transfer_flights = transfers['MissionIDCount'].resample('AS-OCT').sum()"
   ]
  },
  {
   "cell_type": "code",
   "execution_count": 197,
   "metadata": {},
   "outputs": [
    {
     "data": {
      "text/plain": [
       "MissionDate\n",
       "2015-10-01     2\n",
       "2016-10-01    28\n",
       "2017-10-01    90\n",
       "Freq: AS-OCT, Name: AlienMasterIDCount, dtype: int64"
      ]
     },
     "execution_count": 197,
     "metadata": {},
     "output_type": "execute_result"
    }
   ],
   "source": [
    "annual_removals"
   ]
  },
  {
   "cell_type": "code",
   "execution_count": 198,
   "metadata": {},
   "outputs": [],
   "source": [
    "removals.reset_index(inplace=True, drop=False)\n",
    "transfers.reset_index(inplace=True, drop=False)"
   ]
  },
  {
   "cell_type": "code",
   "execution_count": 199,
   "metadata": {},
   "outputs": [
    {
     "data": {
      "text/html": [
       "<div>\n",
       "<style scoped>\n",
       "    .dataframe tbody tr th:only-of-type {\n",
       "        vertical-align: middle;\n",
       "    }\n",
       "\n",
       "    .dataframe tbody tr th {\n",
       "        vertical-align: top;\n",
       "    }\n",
       "\n",
       "    .dataframe thead th {\n",
       "        text-align: right;\n",
       "    }\n",
       "</style>\n",
       "<table border=\"1\" class=\"dataframe\">\n",
       "  <thead>\n",
       "    <tr style=\"text-align: right;\">\n",
       "      <th></th>\n",
       "      <th>MissionDate</th>\n",
       "      <th>CountryOfCitizenship</th>\n",
       "      <th>R-T</th>\n",
       "      <th>PULOC</th>\n",
       "      <th>DropLoc</th>\n",
       "      <th>AlienMasterIDCount</th>\n",
       "      <th>MissionIDCount</th>\n",
       "    </tr>\n",
       "  </thead>\n",
       "  <tbody>\n",
       "    <tr>\n",
       "      <th>0</th>\n",
       "      <td>2016-01-05</td>\n",
       "      <td>CAMBODIA</td>\n",
       "      <td>R</td>\n",
       "      <td>KIWA</td>\n",
       "      <td>VDPP</td>\n",
       "      <td>2</td>\n",
       "      <td>1</td>\n",
       "    </tr>\n",
       "    <tr>\n",
       "      <th>1</th>\n",
       "      <td>2017-03-28</td>\n",
       "      <td>CAMBODIA</td>\n",
       "      <td>R</td>\n",
       "      <td>KAEX</td>\n",
       "      <td>VDPP</td>\n",
       "      <td>5</td>\n",
       "      <td>1</td>\n",
       "    </tr>\n",
       "    <tr>\n",
       "      <th>2</th>\n",
       "      <td>2017-04-18</td>\n",
       "      <td>CAMBODIA</td>\n",
       "      <td>R</td>\n",
       "      <td>KIWA</td>\n",
       "      <td>VDPP</td>\n",
       "      <td>8</td>\n",
       "      <td>1</td>\n",
       "    </tr>\n",
       "    <tr>\n",
       "      <th>3</th>\n",
       "      <td>2017-05-02</td>\n",
       "      <td>CAMBODIA</td>\n",
       "      <td>R</td>\n",
       "      <td>KIWA</td>\n",
       "      <td>VDPP</td>\n",
       "      <td>8</td>\n",
       "      <td>1</td>\n",
       "    </tr>\n",
       "    <tr>\n",
       "      <th>4</th>\n",
       "      <td>2017-05-15</td>\n",
       "      <td>CAMBODIA</td>\n",
       "      <td>R</td>\n",
       "      <td>KIWA</td>\n",
       "      <td>VDPP</td>\n",
       "      <td>7</td>\n",
       "      <td>1</td>\n",
       "    </tr>\n",
       "    <tr>\n",
       "      <th>5</th>\n",
       "      <td>2017-12-18</td>\n",
       "      <td>CAMBODIA</td>\n",
       "      <td>R</td>\n",
       "      <td>KELP</td>\n",
       "      <td>VDPP</td>\n",
       "      <td>9</td>\n",
       "      <td>1</td>\n",
       "    </tr>\n",
       "    <tr>\n",
       "      <th>6</th>\n",
       "      <td>2018-02-28</td>\n",
       "      <td>CAMBODIA</td>\n",
       "      <td>R</td>\n",
       "      <td>KIWA</td>\n",
       "      <td>VDPP</td>\n",
       "      <td>8</td>\n",
       "      <td>1</td>\n",
       "    </tr>\n",
       "    <tr>\n",
       "      <th>7</th>\n",
       "      <td>2018-04-03</td>\n",
       "      <td>CAMBODIA</td>\n",
       "      <td>R</td>\n",
       "      <td>KELP</td>\n",
       "      <td>VDPP</td>\n",
       "      <td>43</td>\n",
       "      <td>1</td>\n",
       "    </tr>\n",
       "    <tr>\n",
       "      <th>8</th>\n",
       "      <td>2018-08-20</td>\n",
       "      <td>CAMBODIA</td>\n",
       "      <td>R</td>\n",
       "      <td>KELP</td>\n",
       "      <td>VDPP</td>\n",
       "      <td>30</td>\n",
       "      <td>1</td>\n",
       "    </tr>\n",
       "  </tbody>\n",
       "</table>\n",
       "</div>"
      ],
      "text/plain": [
       "  MissionDate CountryOfCitizenship R-T PULOC DropLoc  AlienMasterIDCount  \\\n",
       "0  2016-01-05             CAMBODIA   R  KIWA    VDPP                   2   \n",
       "1  2017-03-28             CAMBODIA   R  KAEX    VDPP                   5   \n",
       "2  2017-04-18             CAMBODIA   R  KIWA    VDPP                   8   \n",
       "3  2017-05-02             CAMBODIA   R  KIWA    VDPP                   8   \n",
       "4  2017-05-15             CAMBODIA   R  KIWA    VDPP                   7   \n",
       "5  2017-12-18             CAMBODIA   R  KELP    VDPP                   9   \n",
       "6  2018-02-28             CAMBODIA   R  KIWA    VDPP                   8   \n",
       "7  2018-04-03             CAMBODIA   R  KELP    VDPP                  43   \n",
       "8  2018-08-20             CAMBODIA   R  KELP    VDPP                  30   \n",
       "\n",
       "   MissionIDCount  \n",
       "0               1  \n",
       "1               1  \n",
       "2               1  \n",
       "3               1  \n",
       "4               1  \n",
       "5               1  \n",
       "6               1  \n",
       "7               1  \n",
       "8               1  "
      ]
     },
     "execution_count": 199,
     "metadata": {},
     "output_type": "execute_result"
    }
   ],
   "source": [
    "removals.head(10)"
   ]
  },
  {
   "cell_type": "code",
   "execution_count": 200,
   "metadata": {},
   "outputs": [
    {
     "data": {
      "text/html": [
       "<div>\n",
       "<style scoped>\n",
       "    .dataframe tbody tr th:only-of-type {\n",
       "        vertical-align: middle;\n",
       "    }\n",
       "\n",
       "    .dataframe tbody tr th {\n",
       "        vertical-align: top;\n",
       "    }\n",
       "\n",
       "    .dataframe thead th {\n",
       "        text-align: right;\n",
       "    }\n",
       "</style>\n",
       "<table border=\"1\" class=\"dataframe\">\n",
       "  <thead>\n",
       "    <tr style=\"text-align: right;\">\n",
       "      <th></th>\n",
       "      <th>MissionDate</th>\n",
       "      <th>CountryOfCitizenship</th>\n",
       "      <th>R-T</th>\n",
       "      <th>PULOC</th>\n",
       "      <th>DropLoc</th>\n",
       "      <th>AlienMasterIDCount</th>\n",
       "      <th>MissionIDCount</th>\n",
       "    </tr>\n",
       "  </thead>\n",
       "  <tbody>\n",
       "    <tr>\n",
       "      <th>0</th>\n",
       "      <td>2010-10-04</td>\n",
       "      <td>CAMBODIA</td>\n",
       "      <td>T</td>\n",
       "      <td>KMDT</td>\n",
       "      <td>KAEX</td>\n",
       "      <td>1</td>\n",
       "      <td>1</td>\n",
       "    </tr>\n",
       "    <tr>\n",
       "      <th>1</th>\n",
       "      <td>2010-10-12</td>\n",
       "      <td>CAMBODIA</td>\n",
       "      <td>T</td>\n",
       "      <td>KMDT</td>\n",
       "      <td>KAEX</td>\n",
       "      <td>3</td>\n",
       "      <td>1</td>\n",
       "    </tr>\n",
       "    <tr>\n",
       "      <th>2</th>\n",
       "      <td>2010-10-15</td>\n",
       "      <td>CAMBODIA</td>\n",
       "      <td>T</td>\n",
       "      <td>KBFL</td>\n",
       "      <td>KIWA</td>\n",
       "      <td>1</td>\n",
       "      <td>1</td>\n",
       "    </tr>\n",
       "    <tr>\n",
       "      <th>3</th>\n",
       "      <td>2010-10-15</td>\n",
       "      <td>CAMBODIA</td>\n",
       "      <td>T</td>\n",
       "      <td>KOAK</td>\n",
       "      <td>KIWA</td>\n",
       "      <td>2</td>\n",
       "      <td>1</td>\n",
       "    </tr>\n",
       "    <tr>\n",
       "      <th>4</th>\n",
       "      <td>2010-10-16</td>\n",
       "      <td>CAMBODIA</td>\n",
       "      <td>T</td>\n",
       "      <td>KIWA</td>\n",
       "      <td>KBFI</td>\n",
       "      <td>2</td>\n",
       "      <td>1</td>\n",
       "    </tr>\n",
       "  </tbody>\n",
       "</table>\n",
       "</div>"
      ],
      "text/plain": [
       "  MissionDate CountryOfCitizenship R-T PULOC DropLoc  AlienMasterIDCount  \\\n",
       "0  2010-10-04             CAMBODIA   T  KMDT    KAEX                   1   \n",
       "1  2010-10-12             CAMBODIA   T  KMDT    KAEX                   3   \n",
       "2  2010-10-15             CAMBODIA   T  KBFL    KIWA                   1   \n",
       "3  2010-10-15             CAMBODIA   T  KOAK    KIWA                   2   \n",
       "4  2010-10-16             CAMBODIA   T  KIWA    KBFI                   2   \n",
       "\n",
       "   MissionIDCount  \n",
       "0               1  \n",
       "1               1  \n",
       "2               1  \n",
       "3               1  \n",
       "4               1  "
      ]
     },
     "execution_count": 200,
     "metadata": {},
     "output_type": "execute_result"
    }
   ],
   "source": [
    "transfers.head()"
   ]
  },
  {
   "cell_type": "code",
   "execution_count": 201,
   "metadata": {},
   "outputs": [],
   "source": [
    "# transfers.to_csv(f'../output/{nationality.lower()}_transfers.csv.gz', compression='gzip', sep='|', index=False)\n",
    "# removals.to_csv(f'../output/{nationality.lower()}_repatriations.csv.gz', compression='gzip', sep='|', index=False)"
   ]
  },
  {
   "cell_type": "code",
   "execution_count": 202,
   "metadata": {},
   "outputs": [],
   "source": [
    "removals.set_index('MissionDate', inplace=True)"
   ]
  },
  {
   "cell_type": "code",
   "execution_count": 203,
   "metadata": {},
   "outputs": [],
   "source": [
    "transfers.set_index('MissionDate', inplace=True)"
   ]
  },
  {
   "cell_type": "code",
   "execution_count": 204,
   "metadata": {},
   "outputs": [],
   "source": [
    "r_cum = removals['AlienMasterIDCount'].cumsum()\n",
    "t_cum = transfers['AlienMasterIDCount'].cumsum()"
   ]
  },
  {
   "cell_type": "code",
   "execution_count": 205,
   "metadata": {},
   "outputs": [
    {
     "data": {
      "image/png": "[encoded data removed]",
      "text/plain": [
       "<Figure size 432x288 with 1 Axes>"
      ]
     },
     "metadata": {
      "needs_background": "light"
     },
     "output_type": "display_data"
    }
   ],
   "source": [
    "r_cum.plot();\n"
   ]
  },
  {
   "cell_type": "code",
   "execution_count": 206,
   "metadata": {},
   "outputs": [
    {
     "data": {
      "image/png": "[encoded data removed]",
      "text/plain": [
       "<Figure size 432x288 with 1 Axes>"
      ]
     },
     "metadata": {
      "needs_background": "light"
     },
     "output_type": "display_data"
    }
   ],
   "source": [
    "t_cum.plot();"
   ]
  },
  {
   "cell_type": "code",
   "execution_count": 207,
   "metadata": {},
   "outputs": [],
   "source": [
    "g = nationality_df.groupby([pd.Grouper(freq='AS-OCT', sort=True), 'R-T', 'air_AirportName', 'air2_AirportName', 'air2_Country'])[['AlienMasterID', 'MissionID']].nunique()\n",
    "g.reset_index(inplace=True)\n",
    "removal_dropoff_airports = g[g['R-T'] == 'R'].copy()\n",
    "transfer_dropoff_airports = g[g['R-T'] == 'T'].copy()"
   ]
  },
  {
   "cell_type": "code",
   "execution_count": 208,
   "metadata": {},
   "outputs": [],
   "source": [
    "removal_dropoff_airports.sort_values(by=['MissionDate', 'AlienMasterID'], ascending=[True, False], inplace=True)\n",
    "transfer_dropoff_airports.sort_values(by=['MissionDate', 'AlienMasterID'], ascending=[True, False], inplace=True)"
   ]
  },
  {
   "cell_type": "code",
   "execution_count": 209,
   "metadata": {},
   "outputs": [
    {
     "data": {
      "text/html": [
       "<div>\n",
       "<style scoped>\n",
       "    .dataframe tbody tr th:only-of-type {\n",
       "        vertical-align: middle;\n",
       "    }\n",
       "\n",
       "    .dataframe tbody tr th {\n",
       "        vertical-align: top;\n",
       "    }\n",
       "\n",
       "    .dataframe thead th {\n",
       "        text-align: right;\n",
       "    }\n",
       "</style>\n",
       "<table border=\"1\" class=\"dataframe\">\n",
       "  <thead>\n",
       "    <tr style=\"text-align: right;\">\n",
       "      <th></th>\n",
       "      <th>MissionDate</th>\n",
       "      <th>R-T</th>\n",
       "      <th>air_AirportName</th>\n",
       "      <th>air2_AirportName</th>\n",
       "      <th>air2_Country</th>\n",
       "      <th>AlienMasterID</th>\n",
       "      <th>MissionID</th>\n",
       "    </tr>\n",
       "  </thead>\n",
       "  <tbody>\n",
       "    <tr>\n",
       "      <th>108</th>\n",
       "      <td>2015-10-01</td>\n",
       "      <td>R</td>\n",
       "      <td>Phoenix-Mesa-Gateway Airport</td>\n",
       "      <td>Phnom Penh International Airport</td>\n",
       "      <td>Cambodia</td>\n",
       "      <td>2</td>\n",
       "      <td>1</td>\n",
       "    </tr>\n",
       "    <tr>\n",
       "      <th>145</th>\n",
       "      <td>2016-10-01</td>\n",
       "      <td>R</td>\n",
       "      <td>Phoenix-Mesa-Gateway Airport</td>\n",
       "      <td>Phnom Penh International Airport</td>\n",
       "      <td>Cambodia</td>\n",
       "      <td>23</td>\n",
       "      <td>3</td>\n",
       "    </tr>\n",
       "    <tr>\n",
       "      <th>144</th>\n",
       "      <td>2016-10-01</td>\n",
       "      <td>R</td>\n",
       "      <td>Alexandria International Airport</td>\n",
       "      <td>Phnom Penh International Airport</td>\n",
       "      <td>Cambodia</td>\n",
       "      <td>5</td>\n",
       "      <td>1</td>\n",
       "    </tr>\n",
       "    <tr>\n",
       "      <th>170</th>\n",
       "      <td>2017-10-01</td>\n",
       "      <td>R</td>\n",
       "      <td>El Paso International Airport</td>\n",
       "      <td>Phnom Penh International Airport</td>\n",
       "      <td>Cambodia</td>\n",
       "      <td>82</td>\n",
       "      <td>3</td>\n",
       "    </tr>\n",
       "    <tr>\n",
       "      <th>171</th>\n",
       "      <td>2017-10-01</td>\n",
       "      <td>R</td>\n",
       "      <td>Phoenix-Mesa-Gateway Airport</td>\n",
       "      <td>Phnom Penh International Airport</td>\n",
       "      <td>Cambodia</td>\n",
       "      <td>8</td>\n",
       "      <td>1</td>\n",
       "    </tr>\n",
       "  </tbody>\n",
       "</table>\n",
       "</div>"
      ],
      "text/plain": [
       "    MissionDate R-T                   air_AirportName  \\\n",
       "108  2015-10-01   R      Phoenix-Mesa-Gateway Airport   \n",
       "145  2016-10-01   R      Phoenix-Mesa-Gateway Airport   \n",
       "144  2016-10-01   R  Alexandria International Airport   \n",
       "170  2017-10-01   R     El Paso International Airport   \n",
       "171  2017-10-01   R      Phoenix-Mesa-Gateway Airport   \n",
       "\n",
       "                     air2_AirportName air2_Country  AlienMasterID  MissionID  \n",
       "108  Phnom Penh International Airport     Cambodia              2          1  \n",
       "145  Phnom Penh International Airport     Cambodia             23          3  \n",
       "144  Phnom Penh International Airport     Cambodia              5          1  \n",
       "170  Phnom Penh International Airport     Cambodia             82          3  \n",
       "171  Phnom Penh International Airport     Cambodia              8          1  "
      ]
     },
     "execution_count": 209,
     "metadata": {},
     "output_type": "execute_result"
    }
   ],
   "source": [
    "removal_dropoff_airports.head(10)"
   ]
  },
  {
   "cell_type": "code",
   "execution_count": 210,
   "metadata": {},
   "outputs": [
    {
     "data": {
      "text/html": [
       "<div>\n",
       "<style scoped>\n",
       "    .dataframe tbody tr th:only-of-type {\n",
       "        vertical-align: middle;\n",
       "    }\n",
       "\n",
       "    .dataframe tbody tr th {\n",
       "        vertical-align: top;\n",
       "    }\n",
       "\n",
       "    .dataframe thead th {\n",
       "        text-align: right;\n",
       "    }\n",
       "</style>\n",
       "<table border=\"1\" class=\"dataframe\">\n",
       "  <thead>\n",
       "    <tr style=\"text-align: right;\">\n",
       "      <th></th>\n",
       "      <th>MissionDate</th>\n",
       "      <th>R-T</th>\n",
       "      <th>air_AirportName</th>\n",
       "      <th>air2_AirportName</th>\n",
       "      <th>air2_Country</th>\n",
       "      <th>AlienMasterID</th>\n",
       "      <th>MissionID</th>\n",
       "    </tr>\n",
       "  </thead>\n",
       "  <tbody>\n",
       "    <tr>\n",
       "      <th>23</th>\n",
       "      <td>2010-10-01</td>\n",
       "      <td>T</td>\n",
       "      <td>San Diego International Airport</td>\n",
       "      <td>Phoenix-Mesa-Gateway Airport</td>\n",
       "      <td>USA</td>\n",
       "      <td>40</td>\n",
       "      <td>7</td>\n",
       "    </tr>\n",
       "    <tr>\n",
       "      <th>21</th>\n",
       "      <td>2010-10-01</td>\n",
       "      <td>T</td>\n",
       "      <td>Phoenix-Mesa-Gateway Airport</td>\n",
       "      <td>San Diego International Airport</td>\n",
       "      <td>USA</td>\n",
       "      <td>29</td>\n",
       "      <td>6</td>\n",
       "    </tr>\n",
       "    <tr>\n",
       "      <th>14</th>\n",
       "      <td>2010-10-01</td>\n",
       "      <td>T</td>\n",
       "      <td>Metropolitan Oakland International Airport</td>\n",
       "      <td>Phoenix-Mesa-Gateway Airport</td>\n",
       "      <td>USA</td>\n",
       "      <td>9</td>\n",
       "      <td>8</td>\n",
       "    </tr>\n",
       "    <tr>\n",
       "      <th>19</th>\n",
       "      <td>2010-10-01</td>\n",
       "      <td>T</td>\n",
       "      <td>Phoenix-Mesa-Gateway Airport</td>\n",
       "      <td>Boeing Field King County International Airport</td>\n",
       "      <td>USA</td>\n",
       "      <td>9</td>\n",
       "      <td>6</td>\n",
       "    </tr>\n",
       "    <tr>\n",
       "      <th>20</th>\n",
       "      <td>2010-10-01</td>\n",
       "      <td>T</td>\n",
       "      <td>Phoenix-Mesa-Gateway Airport</td>\n",
       "      <td>Metropolitan Oakland International Airport</td>\n",
       "      <td>USA</td>\n",
       "      <td>9</td>\n",
       "      <td>4</td>\n",
       "    </tr>\n",
       "    <tr>\n",
       "      <th>24</th>\n",
       "      <td>2010-10-01</td>\n",
       "      <td>T</td>\n",
       "      <td>Valley International Airport</td>\n",
       "      <td>Phoenix-Mesa-Gateway Airport</td>\n",
       "      <td>USA</td>\n",
       "      <td>9</td>\n",
       "      <td>3</td>\n",
       "    </tr>\n",
       "    <tr>\n",
       "      <th>1</th>\n",
       "      <td>2010-10-01</td>\n",
       "      <td>T</td>\n",
       "      <td>Alexandria International Airport</td>\n",
       "      <td>Phoenix-Mesa-Gateway Airport</td>\n",
       "      <td>USA</td>\n",
       "      <td>8</td>\n",
       "      <td>1</td>\n",
       "    </tr>\n",
       "    <tr>\n",
       "      <th>6</th>\n",
       "      <td>2010-10-01</td>\n",
       "      <td>T</td>\n",
       "      <td>Harrisburg International Airport</td>\n",
       "      <td>Alexandria International Airport</td>\n",
       "      <td>USA</td>\n",
       "      <td>8</td>\n",
       "      <td>4</td>\n",
       "    </tr>\n",
       "    <tr>\n",
       "      <th>7</th>\n",
       "      <td>2010-10-01</td>\n",
       "      <td>T</td>\n",
       "      <td>Harrisburg International Airport</td>\n",
       "      <td>Valley International Airport</td>\n",
       "      <td>USA</td>\n",
       "      <td>6</td>\n",
       "      <td>1</td>\n",
       "    </tr>\n",
       "    <tr>\n",
       "      <th>11</th>\n",
       "      <td>2010-10-01</td>\n",
       "      <td>T</td>\n",
       "      <td>Meadows Field</td>\n",
       "      <td>Phoenix-Mesa-Gateway Airport</td>\n",
       "      <td>USA</td>\n",
       "      <td>6</td>\n",
       "      <td>6</td>\n",
       "    </tr>\n",
       "  </tbody>\n",
       "</table>\n",
       "</div>"
      ],
      "text/plain": [
       "   MissionDate R-T                             air_AirportName  \\\n",
       "23  2010-10-01   T             San Diego International Airport   \n",
       "21  2010-10-01   T                Phoenix-Mesa-Gateway Airport   \n",
       "14  2010-10-01   T  Metropolitan Oakland International Airport   \n",
       "19  2010-10-01   T                Phoenix-Mesa-Gateway Airport   \n",
       "20  2010-10-01   T                Phoenix-Mesa-Gateway Airport   \n",
       "24  2010-10-01   T                Valley International Airport   \n",
       "1   2010-10-01   T            Alexandria International Airport   \n",
       "6   2010-10-01   T            Harrisburg International Airport   \n",
       "7   2010-10-01   T            Harrisburg International Airport   \n",
       "11  2010-10-01   T                               Meadows Field   \n",
       "\n",
       "                                  air2_AirportName air2_Country  \\\n",
       "23                    Phoenix-Mesa-Gateway Airport          USA   \n",
       "21                 San Diego International Airport          USA   \n",
       "14                    Phoenix-Mesa-Gateway Airport          USA   \n",
       "19  Boeing Field King County International Airport          USA   \n",
       "20      Metropolitan Oakland International Airport          USA   \n",
       "24                    Phoenix-Mesa-Gateway Airport          USA   \n",
       "1                     Phoenix-Mesa-Gateway Airport          USA   \n",
       "6                 Alexandria International Airport          USA   \n",
       "7                     Valley International Airport          USA   \n",
       "11                    Phoenix-Mesa-Gateway Airport          USA   \n",
       "\n",
       "    AlienMasterID  MissionID  \n",
       "23             40          7  \n",
       "21             29          6  \n",
       "14              9          8  \n",
       "19              9          6  \n",
       "20              9          4  \n",
       "24              9          3  \n",
       "1               8          1  \n",
       "6               8          4  \n",
       "7               6          1  \n",
       "11              6          6  "
      ]
     },
     "execution_count": 210,
     "metadata": {},
     "output_type": "execute_result"
    }
   ],
   "source": [
    "transfer_dropoff_airports.head(10)"
   ]
  },
  {
   "cell_type": "code",
   "execution_count": 211,
   "metadata": {},
   "outputs": [],
   "source": [
    "# removal_dropoff_airports.to_csv(f'../output/{nationality}_repatriation_dropoff_airports.csv')\n",
    "# transfer_dropoff_airports.to_csv(f'../output/{nationality}_transfer_dropoff_airports.csv')"
   ]
  },
  {
   "cell_type": "code",
   "execution_count": 212,
   "metadata": {},
   "outputs": [],
   "source": [
    "pivot = pd.pivot_table(data=removal_dropoff_airports,\n",
    "                       index='MissionDate',\n",
    "                       columns='air2_Country',\n",
    "                       values='MissionID',\n",
    "                       aggfunc=np.sum,\n",
    "                       fill_value=0)"
   ]
  },
  {
   "cell_type": "code",
   "execution_count": 213,
   "metadata": {},
   "outputs": [],
   "source": [
    "pivot = pivot.reindex(pivot.sum().sort_values(ascending=False).index, axis=1)"
   ]
  },
  {
   "cell_type": "code",
   "execution_count": 214,
   "metadata": {},
   "outputs": [
    {
     "data": {
      "image/png": "[encoded data removed]",
      "text/plain": [
       "<Figure size 720x576 with 1 Axes>"
      ]
     },
     "metadata": {
      "needs_background": "light"
     },
     "output_type": "display_data"
    }
   ],
   "source": [
    "title = f\"Top removal airport countries for country of citizenship {nationality.title()}\"\n",
    "fig = pivot.plot(kind='bar', stacked=True, figsize=(10, 8), title=title)"
   ]
  },
  {
   "cell_type": "markdown",
   "metadata": {},
   "source": [
    "## Juveniles only"
   ]
  },
  {
   "cell_type": "code",
   "execution_count": 215,
   "metadata": {},
   "outputs": [],
   "source": [
    "# Uses same groupby as above\n",
    "juv_table = groupby['Juvenile'].sum().reset_index(name='Juveniles')"
   ]
  },
  {
   "cell_type": "code",
   "execution_count": 216,
   "metadata": {},
   "outputs": [],
   "source": [
    "juv_removals = juv_table[juv_table['R-T'] == 'R'].copy()\n",
    "juv_transfers = juv_table[juv_table['R-T'] == 'T'].copy()"
   ]
  },
  {
   "cell_type": "code",
   "execution_count": 217,
   "metadata": {},
   "outputs": [],
   "source": [
    "juv_removals.set_index('MissionDate', inplace=True)"
   ]
  },
  {
   "cell_type": "code",
   "execution_count": 218,
   "metadata": {},
   "outputs": [],
   "source": [
    "juv_r_cum = juv_removals['Juveniles'].cumsum()"
   ]
  },
  {
   "cell_type": "code",
   "execution_count": null,
   "metadata": {},
   "outputs": [],
   "source": []
  },
  {
   "cell_type": "code",
   "execution_count": 219,
   "metadata": {},
   "outputs": [
    {
     "data": {
      "text/plain": [
       "<matplotlib.axes._subplots.AxesSubplot at 0x7f6ca3f8f908>"
      ]
     },
     "execution_count": 219,
     "metadata": {},
     "output_type": "execute_result"
    },
    {
     "data": {
      "image/png": "[encoded data removed]",
      "text/plain": [
       "<Figure size 432x288 with 1 Axes>"
      ]
     },
     "metadata": {
      "needs_background": "light"
     },
     "output_type": "display_data"
    }
   ],
   "source": [
    "juv_r_cum.plot()"
   ]
  },
  {
   "cell_type": "code",
   "execution_count": 220,
   "metadata": {},
   "outputs": [],
   "source": [
    "removals['Juveniles'] = juv_removals['Juveniles']"
   ]
  },
  {
   "cell_type": "code",
   "execution_count": 221,
   "metadata": {},
   "outputs": [],
   "source": [
    "removals['JuvPercent'] = juv_removals['Juveniles'] / removals['AlienMasterIDCount']"
   ]
  },
  {
   "cell_type": "code",
   "execution_count": 222,
   "metadata": {},
   "outputs": [
    {
     "data": {
      "text/html": [
       "<div>\n",
       "<style scoped>\n",
       "    .dataframe tbody tr th:only-of-type {\n",
       "        vertical-align: middle;\n",
       "    }\n",
       "\n",
       "    .dataframe tbody tr th {\n",
       "        vertical-align: top;\n",
       "    }\n",
       "\n",
       "    .dataframe thead th {\n",
       "        text-align: right;\n",
       "    }\n",
       "</style>\n",
       "<table border=\"1\" class=\"dataframe\">\n",
       "  <thead>\n",
       "    <tr style=\"text-align: right;\">\n",
       "      <th></th>\n",
       "      <th>CountryOfCitizenship</th>\n",
       "      <th>R-T</th>\n",
       "      <th>PULOC</th>\n",
       "      <th>DropLoc</th>\n",
       "      <th>AlienMasterIDCount</th>\n",
       "      <th>MissionIDCount</th>\n",
       "      <th>Juveniles</th>\n",
       "      <th>JuvPercent</th>\n",
       "    </tr>\n",
       "    <tr>\n",
       "      <th>MissionDate</th>\n",
       "      <th></th>\n",
       "      <th></th>\n",
       "      <th></th>\n",
       "      <th></th>\n",
       "      <th></th>\n",
       "      <th></th>\n",
       "      <th></th>\n",
       "      <th></th>\n",
       "    </tr>\n",
       "  </thead>\n",
       "  <tbody>\n",
       "    <tr>\n",
       "      <th>2016-01-05</th>\n",
       "      <td>CAMBODIA</td>\n",
       "      <td>R</td>\n",
       "      <td>KIWA</td>\n",
       "      <td>VDPP</td>\n",
       "      <td>2</td>\n",
       "      <td>1</td>\n",
       "      <td>False</td>\n",
       "      <td>0.0</td>\n",
       "    </tr>\n",
       "    <tr>\n",
       "      <th>2017-03-28</th>\n",
       "      <td>CAMBODIA</td>\n",
       "      <td>R</td>\n",
       "      <td>KAEX</td>\n",
       "      <td>VDPP</td>\n",
       "      <td>5</td>\n",
       "      <td>1</td>\n",
       "      <td>False</td>\n",
       "      <td>0.0</td>\n",
       "    </tr>\n",
       "    <tr>\n",
       "      <th>2017-04-18</th>\n",
       "      <td>CAMBODIA</td>\n",
       "      <td>R</td>\n",
       "      <td>KIWA</td>\n",
       "      <td>VDPP</td>\n",
       "      <td>8</td>\n",
       "      <td>1</td>\n",
       "      <td>False</td>\n",
       "      <td>0.0</td>\n",
       "    </tr>\n",
       "    <tr>\n",
       "      <th>2017-05-02</th>\n",
       "      <td>CAMBODIA</td>\n",
       "      <td>R</td>\n",
       "      <td>KIWA</td>\n",
       "      <td>VDPP</td>\n",
       "      <td>8</td>\n",
       "      <td>1</td>\n",
       "      <td>False</td>\n",
       "      <td>0.0</td>\n",
       "    </tr>\n",
       "    <tr>\n",
       "      <th>2017-05-15</th>\n",
       "      <td>CAMBODIA</td>\n",
       "      <td>R</td>\n",
       "      <td>KIWA</td>\n",
       "      <td>VDPP</td>\n",
       "      <td>7</td>\n",
       "      <td>1</td>\n",
       "      <td>False</td>\n",
       "      <td>0.0</td>\n",
       "    </tr>\n",
       "    <tr>\n",
       "      <th>2017-12-18</th>\n",
       "      <td>CAMBODIA</td>\n",
       "      <td>R</td>\n",
       "      <td>KELP</td>\n",
       "      <td>VDPP</td>\n",
       "      <td>9</td>\n",
       "      <td>1</td>\n",
       "      <td>False</td>\n",
       "      <td>0.0</td>\n",
       "    </tr>\n",
       "    <tr>\n",
       "      <th>2018-02-28</th>\n",
       "      <td>CAMBODIA</td>\n",
       "      <td>R</td>\n",
       "      <td>KIWA</td>\n",
       "      <td>VDPP</td>\n",
       "      <td>8</td>\n",
       "      <td>1</td>\n",
       "      <td>False</td>\n",
       "      <td>0.0</td>\n",
       "    </tr>\n",
       "    <tr>\n",
       "      <th>2018-04-03</th>\n",
       "      <td>CAMBODIA</td>\n",
       "      <td>R</td>\n",
       "      <td>KELP</td>\n",
       "      <td>VDPP</td>\n",
       "      <td>43</td>\n",
       "      <td>1</td>\n",
       "      <td>False</td>\n",
       "      <td>0.0</td>\n",
       "    </tr>\n",
       "    <tr>\n",
       "      <th>2018-08-20</th>\n",
       "      <td>CAMBODIA</td>\n",
       "      <td>R</td>\n",
       "      <td>KELP</td>\n",
       "      <td>VDPP</td>\n",
       "      <td>30</td>\n",
       "      <td>1</td>\n",
       "      <td>False</td>\n",
       "      <td>0.0</td>\n",
       "    </tr>\n",
       "  </tbody>\n",
       "</table>\n",
       "</div>"
      ],
      "text/plain": [
       "            CountryOfCitizenship R-T PULOC DropLoc  AlienMasterIDCount  \\\n",
       "MissionDate                                                              \n",
       "2016-01-05              CAMBODIA   R  KIWA    VDPP                   2   \n",
       "2017-03-28              CAMBODIA   R  KAEX    VDPP                   5   \n",
       "2017-04-18              CAMBODIA   R  KIWA    VDPP                   8   \n",
       "2017-05-02              CAMBODIA   R  KIWA    VDPP                   8   \n",
       "2017-05-15              CAMBODIA   R  KIWA    VDPP                   7   \n",
       "2017-12-18              CAMBODIA   R  KELP    VDPP                   9   \n",
       "2018-02-28              CAMBODIA   R  KIWA    VDPP                   8   \n",
       "2018-04-03              CAMBODIA   R  KELP    VDPP                  43   \n",
       "2018-08-20              CAMBODIA   R  KELP    VDPP                  30   \n",
       "\n",
       "             MissionIDCount  Juveniles  JuvPercent  \n",
       "MissionDate                                         \n",
       "2016-01-05                1      False         0.0  \n",
       "2017-03-28                1      False         0.0  \n",
       "2017-04-18                1      False         0.0  \n",
       "2017-05-02                1      False         0.0  \n",
       "2017-05-15                1      False         0.0  \n",
       "2017-12-18                1      False         0.0  \n",
       "2018-02-28                1      False         0.0  \n",
       "2018-04-03                1      False         0.0  \n",
       "2018-08-20                1      False         0.0  "
      ]
     },
     "execution_count": 222,
     "metadata": {},
     "output_type": "execute_result"
    }
   ],
   "source": [
    "removals.tail(20)"
   ]
  },
  {
   "cell_type": "code",
   "execution_count": 223,
   "metadata": {},
   "outputs": [
    {
     "data": {
      "image/png": "[encoded data removed]",
      "text/plain": [
       "<Figure size 432x288 with 1 Axes>"
      ]
     },
     "metadata": {
      "needs_background": "light"
     },
     "output_type": "display_data"
    }
   ],
   "source": [
    "removals['JuvPercent'].plot();"
   ]
  },
  {
   "cell_type": "code",
   "execution_count": 224,
   "metadata": {
    "scrolled": true
   },
   "outputs": [
    {
     "data": {
      "text/html": [
       "<div>\n",
       "<style scoped>\n",
       "    .dataframe tbody tr th:only-of-type {\n",
       "        vertical-align: middle;\n",
       "    }\n",
       "\n",
       "    .dataframe tbody tr th {\n",
       "        vertical-align: top;\n",
       "    }\n",
       "\n",
       "    .dataframe thead th {\n",
       "        text-align: right;\n",
       "    }\n",
       "</style>\n",
       "<table border=\"1\" class=\"dataframe\">\n",
       "  <thead>\n",
       "    <tr style=\"text-align: right;\">\n",
       "      <th></th>\n",
       "      <th>CountryOfCitizenship</th>\n",
       "      <th>R-T</th>\n",
       "      <th>PULOC</th>\n",
       "      <th>DropLoc</th>\n",
       "      <th>AlienMasterIDCount</th>\n",
       "      <th>MissionIDCount</th>\n",
       "      <th>Juveniles</th>\n",
       "      <th>JuvPercent</th>\n",
       "    </tr>\n",
       "    <tr>\n",
       "      <th>MissionDate</th>\n",
       "      <th></th>\n",
       "      <th></th>\n",
       "      <th></th>\n",
       "      <th></th>\n",
       "      <th></th>\n",
       "      <th></th>\n",
       "      <th></th>\n",
       "      <th></th>\n",
       "    </tr>\n",
       "  </thead>\n",
       "  <tbody>\n",
       "  </tbody>\n",
       "</table>\n",
       "</div>"
      ],
      "text/plain": [
       "Empty DataFrame\n",
       "Columns: [CountryOfCitizenship, R-T, PULOC, DropLoc, AlienMasterIDCount, MissionIDCount, Juveniles, JuvPercent]\n",
       "Index: []"
      ]
     },
     "execution_count": 224,
     "metadata": {},
     "output_type": "execute_result"
    }
   ],
   "source": [
    "removals[removals['JuvPercent'] > .5]"
   ]
  },
  {
   "cell_type": "code",
   "execution_count": 225,
   "metadata": {},
   "outputs": [
    {
     "data": {
      "text/plain": [
       "False"
      ]
     },
     "execution_count": 225,
     "metadata": {},
     "output_type": "execute_result"
    }
   ],
   "source": [
    "removals['Juveniles'].max()"
   ]
  },
  {
   "cell_type": "code",
   "execution_count": 226,
   "metadata": {},
   "outputs": [
    {
     "data": {
      "text/html": [
       "<div>\n",
       "<style scoped>\n",
       "    .dataframe tbody tr th:only-of-type {\n",
       "        vertical-align: middle;\n",
       "    }\n",
       "\n",
       "    .dataframe tbody tr th {\n",
       "        vertical-align: top;\n",
       "    }\n",
       "\n",
       "    .dataframe thead th {\n",
       "        text-align: right;\n",
       "    }\n",
       "</style>\n",
       "<table border=\"1\" class=\"dataframe\">\n",
       "  <thead>\n",
       "    <tr style=\"text-align: right;\">\n",
       "      <th></th>\n",
       "      <th>CountryOfCitizenship</th>\n",
       "      <th>R-T</th>\n",
       "      <th>PULOC</th>\n",
       "      <th>DropLoc</th>\n",
       "      <th>AlienMasterIDCount</th>\n",
       "      <th>MissionIDCount</th>\n",
       "      <th>Juveniles</th>\n",
       "      <th>JuvPercent</th>\n",
       "    </tr>\n",
       "    <tr>\n",
       "      <th>MissionDate</th>\n",
       "      <th></th>\n",
       "      <th></th>\n",
       "      <th></th>\n",
       "      <th></th>\n",
       "      <th></th>\n",
       "      <th></th>\n",
       "      <th></th>\n",
       "      <th></th>\n",
       "    </tr>\n",
       "  </thead>\n",
       "  <tbody>\n",
       "  </tbody>\n",
       "</table>\n",
       "</div>"
      ],
      "text/plain": [
       "Empty DataFrame\n",
       "Columns: [CountryOfCitizenship, R-T, PULOC, DropLoc, AlienMasterIDCount, MissionIDCount, Juveniles, JuvPercent]\n",
       "Index: []"
      ]
     },
     "execution_count": 226,
     "metadata": {},
     "output_type": "execute_result"
    }
   ],
   "source": [
    "removals[removals['Juveniles'] > 20]"
   ]
  },
  {
   "cell_type": "markdown",
   "metadata": {},
   "source": [
    "# KBFI only"
   ]
  },
  {
   "cell_type": "code",
   "execution_count": 227,
   "metadata": {},
   "outputs": [],
   "source": [
    "airport = 'KBFI'"
   ]
  },
  {
   "cell_type": "code",
   "execution_count": 228,
   "metadata": {},
   "outputs": [],
   "source": [
    "airport_removals = removals[removals['PULOC'] == airport]"
   ]
  },
  {
   "cell_type": "code",
   "execution_count": 229,
   "metadata": {},
   "outputs": [],
   "source": [
    "airport_transfers = transfers[transfers['PULOC'] == airport]"
   ]
  },
  {
   "cell_type": "code",
   "execution_count": 230,
   "metadata": {},
   "outputs": [],
   "source": [
    "airport_weekly_removals = airport_removals['AlienMasterIDCount'].resample('W').nunique()\n",
    "airport_weekly_transfers = airport_transfers['AlienMasterIDCount'].resample('W').nunique()\n",
    "airport_monthly_removals = airport_removals['AlienMasterIDCount'].resample('M').nunique()\n",
    "airport_monthly_transfers = airport_transfers['AlienMasterIDCount'].resample('M').nunique()\n",
    "airport_monthly_removal_flights = airport_removals['MissionIDCount'].resample('M').nunique()\n",
    "airport_monthly_transfers_flights = airport_transfers['MissionIDCount'].resample('M').nunique()\n",
    "airport_annual_removals = airport_removals['AlienMasterIDCount'].resample('AS-OCT').nunique()\n",
    "airport_annual_transfers = airport_transfers['AlienMasterIDCount'].resample('AS-OCT').nunique()\n",
    "airport_annual_removal_flights = airport_removals['MissionIDCount'].resample('AS-OCT').nunique()\n",
    "airport_annual_transfer_flights = airport_transfers['MissionIDCount'].resample('AS-OCT').nunique()"
   ]
  },
  {
   "cell_type": "code",
   "execution_count": 231,
   "metadata": {},
   "outputs": [
    {
     "data": {
      "text/plain": [
       "Series([], Freq: AS-OCT, Name: AlienMasterIDCount, dtype: int64)"
      ]
     },
     "execution_count": 231,
     "metadata": {},
     "output_type": "execute_result"
    }
   ],
   "source": [
    "airport_annual_removals"
   ]
  },
  {
   "cell_type": "code",
   "execution_count": 232,
   "metadata": {},
   "outputs": [
    {
     "data": {
      "text/plain": [
       "MissionDate\n",
       "2010-10-01    1\n",
       "2011-10-01    0\n",
       "2012-10-01    1\n",
       "2013-10-01    2\n",
       "2014-10-01    1\n",
       "2015-10-01    2\n",
       "2016-10-01    1\n",
       "2017-10-01    5\n",
       "Freq: AS-OCT, Name: AlienMasterIDCount, dtype: int64"
      ]
     },
     "execution_count": 232,
     "metadata": {},
     "output_type": "execute_result"
    }
   ],
   "source": [
    "airport_annual_transfers"
   ]
  },
  {
   "cell_type": "code",
   "execution_count": null,
   "metadata": {},
   "outputs": [],
   "source": []
  },
  {
   "cell_type": "code",
   "execution_count": null,
   "metadata": {},
   "outputs": [],
   "source": []
  }
 ],
 "metadata": {
  "kernelspec": {
   "display_name": "Python 3",
   "language": "python",
   "name": "python3"
  },
  "language_info": {
   "codemirror_mode": {
    "name": "ipython",
    "version": 3
   },
   "file_extension": ".py",
   "mimetype": "text/x-python",
   "name": "python",
   "nbconvert_exporter": "python",
   "pygments_lexer": "ipython3",
   "version": "3.7.2"
  }
 },
 "nbformat": 4,
 "nbformat_minor": 2
}
