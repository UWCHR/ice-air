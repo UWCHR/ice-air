{
 "cells": [
  {
   "cell_type": "code",
   "execution_count": 1,
   "metadata": {},
   "outputs": [],
   "source": [
    "import pandas as pd\n",
    "import numpy as np\n",
    "import yaml"
   ]
  },
  {
   "cell_type": "code",
   "execution_count": 2,
   "metadata": {},
   "outputs": [],
   "source": [
    "with open('../input/dtypes.yaml', 'r') as yamlfile:\n",
    "    column_types = yaml.load(yamlfile)"
   ]
  },
  {
   "cell_type": "code",
   "execution_count": 3,
   "metadata": {},
   "outputs": [],
   "source": [
    "read_csv_opts = {'sep': '|',\n",
    "                 'quotechar': '\"',\n",
    "                 'compression': 'gzip',\n",
    "                 'encoding': 'utf-8',\n",
    "                 'dtype': column_types,\n",
    "                 'parse_dates': ['MissionDate'],\n",
    "                 'infer_datetime_format': True}"
   ]
  },
  {
   "cell_type": "code",
   "execution_count": 4,
   "metadata": {},
   "outputs": [],
   "source": [
    "arts_fy11 = pd.read_csv('../input/ARTS_Passenger_Data_FY11.csv.gz', **read_csv_opts)\n",
    "arts_fy12 = pd.read_csv('../input/ARTS_Passenger_Data_FY12.csv.gz', **read_csv_opts)\n",
    "arts_fy13 = pd.read_csv('../input/ARTS_Passenger_Data_FY13.csv.gz', **read_csv_opts)\n",
    "arts_fy14 = pd.read_csv('../input/ARTS_Passenger_Data_FY14.csv.gz', **read_csv_opts)\n",
    "arts_fy15 = pd.read_csv('../input/ARTS_Passenger_Data_FY15.csv.gz', **read_csv_opts)\n",
    "arts_fy16 = pd.read_csv('../input/ARTS_Passenger_Data_FY16.csv.gz', **read_csv_opts)\n",
    "arts_fy17 = pd.read_csv('../input/ARTS_Passenger_Data_FY17.csv.gz', **read_csv_opts)\n",
    "arts_fy18 = pd.read_csv('../input/ARTS_Passenger_Data_FY17.csv.gz', **read_csv_opts)\n",
    "arts_fy19 = pd.read_csv('../input/ARTS_Passenger_Data_FY17.csv.gz', **read_csv_opts)"
   ]
  },
  {
   "cell_type": "code",
   "execution_count": 5,
   "metadata": {},
   "outputs": [],
   "source": [
    "files = [arts_fy11,\n",
    "         arts_fy12,\n",
    "         arts_fy13,\n",
    "         arts_fy14,\n",
    "         arts_fy15,\n",
    "         arts_fy16,\n",
    "         arts_fy17,\n",
    "         arts_fy18,\n",
    "         arts_fy19]"
   ]
  },
  {
   "cell_type": "code",
   "execution_count": null,
   "metadata": {},
   "outputs": [],
   "source": []
  },
  {
   "cell_type": "code",
   "execution_count": 6,
   "metadata": {},
   "outputs": [
    {
     "name": "stdout",
     "output_type": "stream",
     "text": [
      "Index(['Status', 'Sex', 'Convictions', 'GangMember', 'ClassLvl', 'Age',\n",
      "       'MissionDate', 'MissionNumber', 'PULOC', 'DropLoc', 'StrikeFromList',\n",
      "       'ReasonStruck', 'R-T', 'Code', 'CountryOfCitizenship', 'Juvenile',\n",
      "       'MissionWeek', 'MissionQuarter', 'MissionYear', 'MissionMonth',\n",
      "       'Criminality', 'FamilyUnitFlag', 'UnaccompaniedFlag', 'AlienMasterID',\n",
      "       'MissionID', 'air_AirportID', 'air_AirportName', 'air_City',\n",
      "       'st_StateID', 'st_StateAbbr', 'AOR_AORID', 'AOR_AOR', 'AOR_AORName',\n",
      "       'air_Country', 'air2_AirportID', 'air2_AirportName', 'air2_City',\n",
      "       'st2_StateID', 'st2_StateAbbr', 'aor2_AORID', 'aor2_AOR',\n",
      "       'aor2_AORName', 'air2_Country'],\n",
      "      dtype='object')\n",
      "Index(['Status', 'Sex', 'Convictions', 'GangMember', 'ClassLvl', 'Age',\n",
      "       'MissionDate', 'MissionNumber', 'PULOC', 'DropLoc', 'StrikeFromList',\n",
      "       'ReasonStruck', 'R-T', 'Code', 'CountryOfCitizenship', 'Juvenile',\n",
      "       'MissionWeek', 'MissionQuarter', 'MissionYear', 'MissionMonth',\n",
      "       'Criminality', 'FamilyUnitFlag', 'UnaccompaniedFlag', 'AlienMasterID',\n",
      "       'MissionID', 'air_AirportID', 'air_AirportName', 'air_City',\n",
      "       'st_StateID', 'st_StateAbbr', 'AOR_AORID', 'AOR_AOR', 'AOR_AORName',\n",
      "       'air_Country', 'air2_AirportID', 'air2_AirportName', 'air2_City',\n",
      "       'st2_StateID', 'st2_StateAbbr', 'aor2_AORID', 'aor2_AOR',\n",
      "       'aor2_AORName', 'air2_Country'],\n",
      "      dtype='object')\n",
      "Index(['Status', 'Sex', 'Convictions', 'GangMember', 'ClassLvl', 'Age',\n",
      "       'MissionDate', 'MissionNumber', 'PULOC', 'DropLoc', 'StrikeFromList',\n",
      "       'ReasonStruck', 'R-T', 'Code', 'CountryOfCitizenship', 'Juvenile',\n",
      "       'MissionWeek', 'MissionQuarter', 'MissionYear', 'MissionMonth',\n",
      "       'Criminality', 'FamilyUnitFlag', 'UnaccompaniedFlag', 'AlienMasterID',\n",
      "       'MissionID', 'air_AirportID', 'air_AirportName', 'air_City',\n",
      "       'st_StateID', 'st_StateAbbr', 'AOR_AORID', 'AOR_AOR', 'AOR_AORName',\n",
      "       'air_Country', 'air2_AirportID', 'air2_AirportName', 'air2_City',\n",
      "       'st2_StateID', 'st2_StateAbbr', 'aor2_AORID', 'aor2_AOR',\n",
      "       'aor2_AORName', 'air2_Country'],\n",
      "      dtype='object')\n",
      "Index(['Status', 'Sex', 'Convictions', 'GangMember', 'ClassLvl', 'Age',\n",
      "       'MissionDate', 'MissionNumber', 'PULOC', 'DropLoc', 'StrikeFromList',\n",
      "       'ReasonStruck', 'R-T', 'Code', 'CountryOfCitizenship', 'Juvenile',\n",
      "       'MissionWeek', 'MissionQuarter', 'MissionYear', 'MissionMonth',\n",
      "       'Criminality', 'FamilyUnitFlag', 'UnaccompaniedFlag', 'AlienMasterID',\n",
      "       'MissionID', 'air_AirportID', 'air_AirportName', 'air_City',\n",
      "       'st_StateID', 'st_StateAbbr', 'AOR_AORID', 'AOR_AOR', 'AOR_AORName',\n",
      "       'air_Country', 'air2_AirportID', 'air2_AirportName', 'air2_City',\n",
      "       'st2_StateID', 'st2_StateAbbr', 'aor2_AORID', 'aor2_AOR',\n",
      "       'aor2_AORName', 'air2_Country'],\n",
      "      dtype='object')\n",
      "Index(['Status', 'Sex', 'Convictions', 'GangMember', 'ClassLvl', 'Age',\n",
      "       'MissionDate', 'MissionNumber', 'PULOC', 'DropLoc', 'StrikeFromList',\n",
      "       'ReasonStruck', 'R-T', 'Code', 'CountryOfCitizenship', 'Juvenile',\n",
      "       'MissionWeek', 'MissionQuarter', 'MissionYear', 'MissionMonth',\n",
      "       'Criminality', 'FamilyUnitFlag', 'UnaccompaniedFlag', 'AlienMasterID',\n",
      "       'MissionID', 'air_AirportID', 'air_AirportName', 'air_City',\n",
      "       'st_StateID', 'st_StateAbbr', 'AOR_AORID', 'AOR_AOR', 'AOR_AORName',\n",
      "       'air_Country', 'air2_AirportID', 'air2_AirportName', 'air2_City',\n",
      "       'st2_StateID', 'st2_StateAbbr', 'aor2_AORID', 'aor2_AOR',\n",
      "       'aor2_AORName', 'air2_Country'],\n",
      "      dtype='object')\n",
      "Index(['Status', 'Sex', 'Convictions', 'GangMember', 'ClassLvl', 'Age',\n",
      "       'MissionDate', 'MissionNumber', 'PULOC', 'DropLoc', 'StrikeFromList',\n",
      "       'ReasonStruck', 'R-T', 'Code', 'CountryOfCitizenship', 'Juvenile',\n",
      "       'MissionWeek', 'MissionQuarter', 'MissionYear', 'MissionMonth',\n",
      "       'Criminality', 'FamilyUnitFlag', 'UnaccompaniedFlag', 'AlienMasterID',\n",
      "       'MissionID', 'air_AirportID', 'air_AirportName', 'air_City',\n",
      "       'st_StateID', 'st_StateAbbr', 'AOR_AORID', 'AOR_AOR', 'AOR_AORName',\n",
      "       'air_Country', 'air2_AirportID', 'air2_AirportName', 'air2_City',\n",
      "       'st2_StateID', 'st2_StateAbbr', 'aor2_AORID', 'aor2_AOR',\n",
      "       'aor2_AORName', 'air2_Country'],\n",
      "      dtype='object')\n",
      "Index(['Status', 'Sex', 'Convictions', 'GangMember', 'ClassLvl', 'Age',\n",
      "       'MissionDate', 'MissionNumber', 'PULOC', 'DropLoc', 'StrikeFromList',\n",
      "       'ReasonStruck', 'R-T', 'Code', 'CountryOfCitizenship', 'Juvenile',\n",
      "       'MissionWeek', 'MissionQuarter', 'MissionYear', 'MissionMonth',\n",
      "       'Criminality', 'FamilyUnitFlag', 'UnaccompaniedFlag', 'AlienMasterID',\n",
      "       'MissionID', 'air_AirportID', 'air_AirportName', 'air_City',\n",
      "       'st_StateID', 'st_StateAbbr', 'AOR_AORID', 'AOR_AOR', 'AOR_AORName',\n",
      "       'air_Country', 'air2_AirportID', 'air2_AirportName', 'air2_City',\n",
      "       'st2_StateID', 'st2_StateAbbr', 'aor2_AORID', 'aor2_AOR',\n",
      "       'aor2_AORName', 'air2_Country'],\n",
      "      dtype='object')\n",
      "Index(['Status', 'Sex', 'Convictions', 'GangMember', 'ClassLvl', 'Age',\n",
      "       'MissionDate', 'MissionNumber', 'PULOC', 'DropLoc', 'StrikeFromList',\n",
      "       'ReasonStruck', 'R-T', 'Code', 'CountryOfCitizenship', 'Juvenile',\n",
      "       'MissionWeek', 'MissionQuarter', 'MissionYear', 'MissionMonth',\n",
      "       'Criminality', 'FamilyUnitFlag', 'UnaccompaniedFlag', 'AlienMasterID',\n",
      "       'MissionID', 'air_AirportID', 'air_AirportName', 'air_City',\n",
      "       'st_StateID', 'st_StateAbbr', 'AOR_AORID', 'AOR_AOR', 'AOR_AORName',\n",
      "       'air_Country', 'air2_AirportID', 'air2_AirportName', 'air2_City',\n",
      "       'st2_StateID', 'st2_StateAbbr', 'aor2_AORID', 'aor2_AOR',\n",
      "       'aor2_AORName', 'air2_Country'],\n",
      "      dtype='object')\n",
      "Index(['Status', 'Sex', 'Convictions', 'GangMember', 'ClassLvl', 'Age',\n",
      "       'MissionDate', 'MissionNumber', 'PULOC', 'DropLoc', 'StrikeFromList',\n",
      "       'ReasonStruck', 'R-T', 'Code', 'CountryOfCitizenship', 'Juvenile',\n",
      "       'MissionWeek', 'MissionQuarter', 'MissionYear', 'MissionMonth',\n",
      "       'Criminality', 'FamilyUnitFlag', 'UnaccompaniedFlag', 'AlienMasterID',\n",
      "       'MissionID', 'air_AirportID', 'air_AirportName', 'air_City',\n",
      "       'st_StateID', 'st_StateAbbr', 'AOR_AORID', 'AOR_AOR', 'AOR_AORName',\n",
      "       'air_Country', 'air2_AirportID', 'air2_AirportName', 'air2_City',\n",
      "       'st2_StateID', 'st2_StateAbbr', 'aor2_AORID', 'aor2_AOR',\n",
      "       'aor2_AORName', 'air2_Country'],\n",
      "      dtype='object')\n"
     ]
    }
   ],
   "source": [
    "for file in files:\n",
    "    print(file.columns)"
   ]
  },
  {
   "cell_type": "code",
   "execution_count": 7,
   "metadata": {},
   "outputs": [],
   "source": [
    "# Concatenating DataFrames converts 'category' columns back to 'object' when new values introduced\n",
    "df = pd.concat(files)"
   ]
  },
  {
   "cell_type": "code",
   "execution_count": 8,
   "metadata": {},
   "outputs": [],
   "source": [
    "df_obj = df.select_dtypes(include=['object']).copy()"
   ]
  },
  {
   "cell_type": "code",
   "execution_count": 9,
   "metadata": {},
   "outputs": [],
   "source": [
    "converted_obj = pd.DataFrame()\n",
    "\n",
    "for col in df_obj.columns:\n",
    "    num_unique_values = len(df_obj[col].unique())\n",
    "    num_total_values = len(df_obj[col])\n",
    "    if num_unique_values / num_total_values < 0.5:\n",
    "        converted_obj.loc[:,col] = df_obj[col].astype('category')\n",
    "    else:\n",
    "        converted_obj.loc[:,col] = df_obj[col]"
   ]
  },
  {
   "cell_type": "code",
   "execution_count": 10,
   "metadata": {},
   "outputs": [],
   "source": [
    "df[converted_obj.columns] = converted_obj"
   ]
  },
  {
   "cell_type": "code",
   "execution_count": 11,
   "metadata": {},
   "outputs": [
    {
     "name": "stdout",
     "output_type": "stream",
     "text": [
      "<class 'pandas.core.frame.DataFrame'>\n",
      "Int64Index: 1894881 entries, 0 to 180383\n",
      "Data columns (total 43 columns):\n",
      "Status                  category\n",
      "Sex                     category\n",
      "Convictions             category\n",
      "GangMember              category\n",
      "ClassLvl                float32\n",
      "Age                     float32\n",
      "MissionDate             datetime64[ns]\n",
      "MissionNumber           uint32\n",
      "PULOC                   category\n",
      "DropLoc                 category\n",
      "StrikeFromList          float32\n",
      "ReasonStruck            category\n",
      "R-T                     category\n",
      "Code                    category\n",
      "CountryOfCitizenship    category\n",
      "Juvenile                category\n",
      "MissionWeek             uint8\n",
      "MissionQuarter          uint8\n",
      "MissionYear             uint16\n",
      "MissionMonth            uint8\n",
      "Criminality             category\n",
      "FamilyUnitFlag          float32\n",
      "UnaccompaniedFlag       float32\n",
      "AlienMasterID           uint32\n",
      "MissionID               uint16\n",
      "air_AirportID           float32\n",
      "air_AirportName         category\n",
      "air_City                category\n",
      "st_StateID              float32\n",
      "st_StateAbbr            category\n",
      "AOR_AORID               float32\n",
      "AOR_AOR                 category\n",
      "AOR_AORName             category\n",
      "air_Country             category\n",
      "air2_AirportID          float32\n",
      "air2_AirportName        category\n",
      "air2_City               category\n",
      "st2_StateID             float32\n",
      "st2_StateAbbr           category\n",
      "aor2_AORID              float32\n",
      "aor2_AOR                category\n",
      "aor2_AORName            category\n",
      "air2_Country            category\n",
      "dtypes: category(24), datetime64[ns](1), float32(11), uint16(2), uint32(2), uint8(3)\n",
      "memory usage: 195.5 MB\n"
     ]
    }
   ],
   "source": [
    "# We can convert columns back to 'category' type but resulting DataFrame is bigger than sum of FY DataFrames.\n",
    "# May be better to work on each FY separately?\n",
    "df.info(memory_usage='deep')"
   ]
  },
  {
   "cell_type": "code",
   "execution_count": 12,
   "metadata": {},
   "outputs": [
    {
     "data": {
      "text/plain": [
       "13037"
      ]
     },
     "execution_count": 12,
     "metadata": {},
     "output_type": "execute_result"
    }
   ],
   "source": [
    "len(set(df['MissionID']))"
   ]
  },
  {
   "cell_type": "code",
   "execution_count": 13,
   "metadata": {},
   "outputs": [
    {
     "data": {
      "text/plain": [
       "1504659"
      ]
     },
     "execution_count": 13,
     "metadata": {},
     "output_type": "execute_result"
    }
   ],
   "source": [
    "len(set(df['AlienMasterID']))"
   ]
  },
  {
   "cell_type": "code",
   "execution_count": 14,
   "metadata": {},
   "outputs": [
    {
     "data": {
      "text/plain": [
       "Timestamp('2010-10-01 00:00:00')"
      ]
     },
     "execution_count": 14,
     "metadata": {},
     "output_type": "execute_result"
    }
   ],
   "source": [
    "df['MissionDate'].min()"
   ]
  },
  {
   "cell_type": "code",
   "execution_count": 15,
   "metadata": {},
   "outputs": [
    {
     "data": {
      "text/plain": [
       "Timestamp('2017-09-29 00:00:00')"
      ]
     },
     "execution_count": 15,
     "metadata": {},
     "output_type": "execute_result"
    }
   ],
   "source": [
    "df['MissionDate'].max()"
   ]
  },
  {
   "cell_type": "code",
   "execution_count": 16,
   "metadata": {},
   "outputs": [
    {
     "data": {
      "text/plain": [
       "Alexandria International Airport                        269981\n",
       "Brownsville South Padre Island International Airport    215152\n",
       "Phoenix-Mesa-Gateway Airport                            203974\n",
       "Valley International Airport                            154138\n",
       "El Paso International Airport                           153668\n",
       "San Antonio International Airport                       109871\n",
       "Columbus Metropolitan Airport                            92299\n",
       "Harrisburg International Airport                         83513\n",
       "Laredo International Airport                             67748\n",
       "Miami International Airport                              61954\n",
       "Name: air_AirportName, dtype: int64"
      ]
     },
     "execution_count": 16,
     "metadata": {},
     "output_type": "execute_result"
    }
   ],
   "source": [
    "df['air_AirportName'].value_counts().head(10)"
   ]
  },
  {
   "cell_type": "code",
   "execution_count": 17,
   "metadata": {},
   "outputs": [
    {
     "data": {
      "text/plain": [
       "La Aurora Airport                                       333482\n",
       "Ramon Villeda Morales International Airport             211282\n",
       "Alexandria International Airport                        197005\n",
       "El Salvador International Airport                       176221\n",
       "Valley International Airport                            148700\n",
       "Licenciado Benito Juarez International Airport          105593\n",
       "Phoenix-Mesa-Gateway Airport                            101036\n",
       "El Paso International Airport                            92775\n",
       "Brownsville South Padre Island International Airport     72871\n",
       "San Diego International Airport                          65693\n",
       "Name: air2_AirportName, dtype: int64"
      ]
     },
     "execution_count": 17,
     "metadata": {},
     "output_type": "execute_result"
    }
   ],
   "source": [
    "df['air2_AirportName'].value_counts().head(10)"
   ]
  },
  {
   "cell_type": "code",
   "execution_count": 18,
   "metadata": {},
   "outputs": [],
   "source": [
    "with open('../../share/hand/clean.yaml', 'r') as yamlfile:\n",
    "    clean = yaml.load(yamlfile)"
   ]
  },
  {
   "cell_type": "code",
   "execution_count": 19,
   "metadata": {},
   "outputs": [],
   "source": [
    "df['R-T'] = df['R-T'].replace(clean['R-T'])\n",
    "df['R-T'] = df['R-T'].astype('category')"
   ]
  },
  {
   "cell_type": "code",
   "execution_count": 20,
   "metadata": {},
   "outputs": [],
   "source": [
    "df['Sex'] = df['Sex'].replace(clean['Sex'])\n",
    "df['Sex'] = df['Sex'].astype('category')"
   ]
  },
  {
   "cell_type": "code",
   "execution_count": 21,
   "metadata": {},
   "outputs": [
    {
     "data": {
      "text/plain": [
       "R             1337592\n",
       "T              557270\n",
       "Ineligible          2\n",
       "No-show             1\n",
       "Name: R-T, dtype: int64"
      ]
     },
     "execution_count": 21,
     "metadata": {},
     "output_type": "execute_result"
    }
   ],
   "source": [
    "df['R-T'].value_counts()"
   ]
  },
  {
   "cell_type": "code",
   "execution_count": 22,
   "metadata": {
    "scrolled": true
   },
   "outputs": [
    {
     "data": {
      "text/plain": [
       "M    1734008\n",
       "F     160713\n",
       "U        156\n",
       "Name: Sex, dtype: int64"
      ]
     },
     "execution_count": 22,
     "metadata": {},
     "output_type": "execute_result"
    }
   ],
   "source": [
    "df['Sex'].value_counts()"
   ]
  },
  {
   "cell_type": "code",
   "execution_count": 30,
   "metadata": {},
   "outputs": [],
   "source": [
    "# This column had a bunch of random-seeming numeric strings, replace removes any string that's just numbers\n",
    "# I checked and there were no '13' or '15' or '18' values before replace\n",
    "# Numeric strings didn't seem to be result of data shifted into column but need to investigate more\n",
    "df['GangMember'] = df['GangMember'].str.replace('^[0-9]*$', '')\n",
    "df['GangMember'].value_counts()\n",
    "df['GangMember'] = df['GangMember'].astype('category')"
   ]
  },
  {
   "cell_type": "code",
   "execution_count": 32,
   "metadata": {},
   "outputs": [
    {
     "data": {
      "text/plain": [
       "NC                                        576804\n",
       "Non-Criminal                               97397\n",
       "DUI                                        94815\n",
       "IE                                         86593\n",
       "NON CRIMINAL                               76709\n",
       "DRUGS                                      65542\n",
       "Illegal Entry                              56147\n",
       "IV                                         48642\n",
       "Other - Non-Violent                        39155\n",
       "Assault                                    37172\n",
       "ASSLT                                      36954\n",
       "Driving Under Influence Liquor             36248\n",
       "Drugs                                      32436\n",
       "NONE                                       25154\n",
       "Non-Crim                                   22835\n",
       "Traffic Offense                            10789\n",
       "Aggravated Assault                         10489\n",
       "FRAUD                                      10371\n",
       "Robbery                                    10019\n",
       "Assault / Robbery                           9531\n",
       "Felony Drug Sale, Smuggle, Manufacture      9129\n",
       "Cocaine - Sell                              9006\n",
       "THEFT                                       8893\n",
       "Domestic Violence                           8439\n",
       "NON-CRIM                                    8120\n",
       "BRGL                                        7981\n",
       "Dangerous Drugs                             7897\n",
       "Burglary                                    7897\n",
       "Theft                                       7824\n",
       "Fraud                                       7304\n",
       "                                           ...  \n",
       "INF CORP SP                                    1\n",
       "INF CORP INJURY                                1\n",
       "INF CORP INJ SPOUSE                            1\n",
       "INF CORP INJ                                   1\n",
       "INDUCING ILLEGAL ALIENS                        1\n",
       "INDICENT LIBERTIES W/MINOR                     1\n",
       "INDICENT EXPOSRE                               1\n",
       "INDICENT EXP                                   1\n",
       "INDENCY/W CHILD                                1\n",
       "INDENCY W CHILD                                1\n",
       "INDECT EXP.                                    1\n",
       "INFL. CORP. INJURY                             1\n",
       "INFLICT CORP INJ                               1\n",
       "child endang                                   1\n",
       "INJRY CHLD                                     1\n",
       "INJURY TO CHILD/ELDERLY                        1\n",
       "child abuse/reentry                            1\n",
       "INJURY PROP OF ANTH                            1\n",
       "INJURY CHILD                                   1\n",
       "INJURY BY VEHICLE                              1\n",
       "INJURING A CHILD                               1\n",
       "INJ TO PERSON                                  1\n",
       "INFLICT CORPORAL INJRY                         1\n",
       "INJ CHILD/ELD                                  1\n",
       "INJ CHILD                                      1\n",
       "INFLICTING INJURIES                            1\n",
       "INFLICT IJURY SPOU                             1\n",
       "child abuse/theft                              1\n",
       "INFLICT CORPORAL INJUERY                       1\n",
       "#REF!                                          1\n",
       "Name: Convictions, Length: 14695, dtype: int64"
      ]
     },
     "execution_count": 32,
     "metadata": {},
     "output_type": "execute_result"
    }
   ],
   "source": [
    "df['Convictions'].value_counts()"
   ]
  },
  {
   "cell_type": "code",
   "execution_count": null,
   "metadata": {},
   "outputs": [],
   "source": []
  }
 ],
 "metadata": {
  "kernelspec": {
   "display_name": "Python 3",
   "language": "python",
   "name": "python3"
  },
  "language_info": {
   "codemirror_mode": {
    "name": "ipython",
    "version": 3
   },
   "file_extension": ".py",
   "mimetype": "text/x-python",
   "name": "python",
   "nbconvert_exporter": "python",
   "pygments_lexer": "ipython3",
   "version": "3.7.1"
  }
 },
 "nbformat": 4,
 "nbformat_minor": 2
}
