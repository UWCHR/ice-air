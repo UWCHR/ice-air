{
 "cells": [
  {
   "cell_type": "code",
   "execution_count": 1,
   "metadata": {},
   "outputs": [],
   "source": [
    "import pandas as pd\n",
    "import numpy as np\n",
    "import yaml\n",
    "import matplotlib.pyplot as plt\n",
    "import matplotlib.ticker as ticker\n",
    "\n",
    "from collections import Counter"
   ]
  },
  {
   "cell_type": "code",
   "execution_count": 2,
   "metadata": {},
   "outputs": [],
   "source": [
    "path = '../input/'\n",
    "\n",
    "with open(f'{path}mission-dtypes.yaml', 'r') as yamlfile:\n",
    "    mission_dtypes = yaml.load(yamlfile)"
   ]
  },
  {
   "cell_type": "code",
   "execution_count": 3,
   "metadata": {},
   "outputs": [],
   "source": [
    "read_csv_opts = {'sep': '|',\n",
    "                 'quotechar': '\"',\n",
    "                 'compression': 'gzip',\n",
    "                 'encoding': 'utf-8',\n",
    "#                  'dtype': dtypes,\n",
    "                 'parse_dates': ['MissionDate'],\n",
    "                 'infer_datetime_format': True}"
   ]
  },
  {
   "cell_type": "code",
   "execution_count": 5,
   "metadata": {},
   "outputs": [
    {
     "name": "stderr",
     "output_type": "stream",
     "text": [
      "/Users/philneff/anaconda3/lib/python3.7/site-packages/IPython/core/interactiveshell.py:3267: DtypeWarning: Columns (14,15,17) have mixed types.Specify dtype option on import or set low_memory=False.\n",
      "  exec(code_obj, self.user_global_ns, self.user_ns)\n"
     ]
    }
   ],
   "source": [
    "df2 = pd.read_csv(f'{path}ice-air-missions-2.csv.gz', **read_csv_opts)"
   ]
  },
  {
   "cell_type": "code",
   "execution_count": 6,
   "metadata": {},
   "outputs": [
    {
     "name": "stdout",
     "output_type": "stream",
     "text": [
      "<class 'pandas.core.frame.DataFrame'>\n",
      "RangeIndex: 16967 entries, 0 to 16966\n",
      "Data columns (total 39 columns):\n",
      " #   Column                     Non-Null Count  Dtype         \n",
      "---  ------                     --------------  -----         \n",
      " 0   MissionID                  16967 non-null  int64         \n",
      " 1   MissionNumber              16967 non-null  int64         \n",
      " 2   MsnTailNumber              16966 non-null  object        \n",
      " 3   MissionDate                16967 non-null  datetime64[ns]\n",
      " 4   MissionFY                  16967 non-null  int64         \n",
      " 5   MissionMonth               16967 non-null  int64         \n",
      " 6   MissionWeek                16967 non-null  int64         \n",
      " 7   MsnStart                   16967 non-null  object        \n",
      " 8   MsnStpOne                  16838 non-null  object        \n",
      " 9   MsnStpTwo                  12421 non-null  object        \n",
      " 10  MsnStpThree                5375 non-null   object        \n",
      " 11  MsnStpFour                 1662 non-null   object        \n",
      " 12  MsnStpFive                 179 non-null    object        \n",
      " 13  MsnStpSix                  39 non-null     object        \n",
      " 14  MsnStpSeven                21 non-null     object        \n",
      " 15  MsnStpEight                9 non-null      object        \n",
      " 16  MsnEnd                     16960 non-null  object        \n",
      " 17  msnDelayReason             121 non-null    object        \n",
      " 18  msnCancelReason            1054 non-null   object        \n",
      " 19  msnFlightODCCost           16965 non-null  float64       \n",
      " 20  msnProposedFines           16967 non-null  float64       \n",
      " 21  msnEnforcedFines           16964 non-null  float64       \n",
      " 22  msnGeneralFlightCost       16965 non-null  object        \n",
      " 23  msnFlightHoursPlanned      16958 non-null  float64       \n",
      " 24  msnFlightHoursActual       16954 non-null  float64       \n",
      " 25  msnCharterDesignation      16962 non-null  object        \n",
      " 26  Status                     0 non-null      float64       \n",
      " 27  msnVendor                  10202 non-null  object        \n",
      " 28  msnInvoiceNumber           13800 non-null  object        \n",
      " 29  MissionQuarter             16967 non-null  int64         \n",
      " 30  MissionYear                16967 non-null  int64         \n",
      " 31  MissionTotalCost           16960 non-null  float64       \n",
      " 32  MissionPassengers          16967 non-null  int64         \n",
      " 33  LegPassengers              0 non-null      float64       \n",
      " 34  MissionUtilization         1122 non-null   float64       \n",
      " 35  LegUtilization             0 non-null      float64       \n",
      " 36  ManifestedPassengers       1122 non-null   float64       \n",
      " 37  StruckPassengers           1122 non-null   float64       \n",
      " 38  PlannedMissionUtilization  1122 non-null   float64       \n",
      "dtypes: datetime64[ns](1), float64(13), int64(8), object(17)\n",
      "memory usage: 5.0+ MB\n"
     ]
    }
   ],
   "source": [
    "df2.info()"
   ]
  },
  {
   "cell_type": "code",
   "execution_count": 7,
   "metadata": {},
   "outputs": [],
   "source": [
    "df3 = pd.read_csv(f'{path}ice-air-missions-3.csv.gz', **read_csv_opts)"
   ]
  },
  {
   "cell_type": "code",
   "execution_count": 8,
   "metadata": {},
   "outputs": [
    {
     "data": {
      "text/plain": [
       "count     16967.000000\n",
       "mean     146064.724878\n",
       "std       24745.565132\n",
       "min      110001.000000\n",
       "25%      122091.500000\n",
       "50%      141670.000000\n",
       "75%      170253.500000\n",
       "max      191228.000000\n",
       "Name: MissionNumber, dtype: float64"
      ]
     },
     "execution_count": 8,
     "metadata": {},
     "output_type": "execute_result"
    }
   ],
   "source": [
    "df2['MissionNumber'].describe()"
   ]
  },
  {
   "cell_type": "code",
   "execution_count": 9,
   "metadata": {},
   "outputs": [
    {
     "data": {
      "text/plain": [
       "count      3182.000000\n",
       "mean     194487.619736\n",
       "std        4598.797028\n",
       "min      190001.000000\n",
       "25%      190835.250000\n",
       "50%      191701.500000\n",
       "75%      200368.750000\n",
       "max      201272.000000\n",
       "Name: MissionNumber, dtype: float64"
      ]
     },
     "execution_count": 9,
     "metadata": {},
     "output_type": "execute_result"
    }
   ],
   "source": [
    "df3['MissionNumber'].describe()"
   ]
  },
  {
   "cell_type": "code",
   "execution_count": 12,
   "metadata": {},
   "outputs": [],
   "source": [
    "df2 = df2.loc[df2['MissionNumber'] < df3['MissionNumber'].min()]"
   ]
  },
  {
   "cell_type": "code",
   "execution_count": 13,
   "metadata": {},
   "outputs": [],
   "source": [
    "df = pd.concat([df2, df3])"
   ]
  },
  {
   "cell_type": "code",
   "execution_count": 24,
   "metadata": {},
   "outputs": [
    {
     "name": "stdout",
     "output_type": "stream",
     "text": [
      "<class 'pandas.core.frame.DataFrame'>\n",
      "Int64Index: 19079 entries, 0 to 3233\n",
      "Data columns (total 49 columns):\n",
      " #   Column                     Non-Null Count  Dtype         \n",
      "---  ------                     --------------  -----         \n",
      " 0   MissionID                  19079 non-null  int64         \n",
      " 1   MissionNumber              19027 non-null  float64       \n",
      " 2   MsnTailNumber              19026 non-null  object        \n",
      " 3   MissionDate                19027 non-null  datetime64[ns]\n",
      " 4   MissionFY                  19027 non-null  float64       \n",
      " 5   MissionMonth               19027 non-null  float64       \n",
      " 6   MissionWeek                19027 non-null  float64       \n",
      " 7   MsnStart                   19027 non-null  object        \n",
      " 8   MsnStpOne                  18878 non-null  object        \n",
      " 9   MsnStpTwo                  13869 non-null  object        \n",
      " 10  MsnStpThree                5889 non-null   object        \n",
      " 11  MsnStpFour                 1758 non-null   object        \n",
      " 12  MsnStpFive                 213 non-null    object        \n",
      " 13  MsnStpSix                  57 non-null     object        \n",
      " 14  MsnStpSeven                32 non-null     object        \n",
      " 15  MsnStpEight                13 non-null     object        \n",
      " 16  MsnEnd                     19020 non-null  object        \n",
      " 17  msnDelayReason             125 non-null    object        \n",
      " 18  msnCancelReason            1212 non-null   object        \n",
      " 19  msnFlightODCCost           19025 non-null  object        \n",
      " 20  msnProposedFines           19027 non-null  float64       \n",
      " 21  msnEnforcedFines           19024 non-null  object        \n",
      " 22  msnGeneralFlightCost       19025 non-null  object        \n",
      " 23  msnFlightHoursPlanned      19001 non-null  float64       \n",
      " 24  msnFlightHoursActual       19014 non-null  float64       \n",
      " 25  msnCharterDesignation      19022 non-null  object        \n",
      " 26  Status                     0 non-null      float64       \n",
      " 27  msnVendor                  12143 non-null  object        \n",
      " 28  msnInvoiceNumber           15741 non-null  object        \n",
      " 29  MissionQuarter             19027 non-null  float64       \n",
      " 30  MissionYear                19027 non-null  float64       \n",
      " 31  MissionTotalCost           19020 non-null  object        \n",
      " 32  MissionPassengers          19027 non-null  float64       \n",
      " 33  LegPassengers              0 non-null      float64       \n",
      " 34  MissionUtilization         3182 non-null   float64       \n",
      " 35  LegUtilization             0 non-null      float64       \n",
      " 36  ManifestedPassengers       3182 non-null   float64       \n",
      " 37  StruckPassengers           3182 non-null   float64       \n",
      " 38  PlannedMissionUtilization  3182 non-null   float64       \n",
      " 39  puloc_1                    2965 non-null   object        \n",
      " 40  puloc_2                    1774 non-null   object        \n",
      " 41  puloc_3                    776 non-null    object        \n",
      " 42  puloc_4                    296 non-null    object        \n",
      " 43  puloc_5                    21 non-null     object        \n",
      " 44  droploc_1                  2964 non-null   object        \n",
      " 45  droploc_2                  1228 non-null   object        \n",
      " 46  droploc_3                  654 non-null    object        \n",
      " 47  droploc_4                  212 non-null    object        \n",
      " 48  droploc_5                  1 non-null      object        \n",
      "dtypes: datetime64[ns](1), float64(17), int64(1), object(30)\n",
      "memory usage: 7.3+ MB\n"
     ]
    }
   ],
   "source": [
    "df.info()"
   ]
  },
  {
   "cell_type": "code",
   "execution_count": 14,
   "metadata": {},
   "outputs": [
    {
     "data": {
      "text/plain": [
       "19079"
      ]
     },
     "execution_count": 14,
     "metadata": {},
     "output_type": "execute_result"
    }
   ],
   "source": [
    "len(df['MissionNumber'])"
   ]
  },
  {
   "cell_type": "code",
   "execution_count": 17,
   "metadata": {},
   "outputs": [
    {
     "data": {
      "text/plain": [
       "19079"
      ]
     },
     "execution_count": 17,
     "metadata": {},
     "output_type": "execute_result"
    }
   ],
   "source": [
    "len(set(df['MissionNumber']))"
   ]
  },
  {
   "cell_type": "code",
   "execution_count": 16,
   "metadata": {},
   "outputs": [
    {
     "name": "stderr",
     "output_type": "stream",
     "text": [
      "/Users/philneff/anaconda3/lib/python3.7/site-packages/ipykernel_launcher.py:1: FutureWarning: Treating datetime data as categorical rather than numeric in `.describe` is deprecated and will be removed in a future version of pandas. Specify `datetime_is_numeric=True` to silence this warning and adopt the future behavior now.\n",
      "  \"\"\"Entry point for launching an IPython kernel.\n"
     ]
    },
    {
     "data": {
      "text/plain": [
       "count                   19027\n",
       "unique                   2882\n",
       "top       2012-06-28 00:00:00\n",
       "freq                       13\n",
       "first     2010-10-01 00:00:00\n",
       "last      2020-05-08 00:00:00\n",
       "Name: MissionDate, dtype: object"
      ]
     },
     "execution_count": 16,
     "metadata": {},
     "output_type": "execute_result"
    }
   ],
   "source": [
    "df['MissionDate'].describe()"
   ]
  },
  {
   "cell_type": "code",
   "execution_count": 27,
   "metadata": {},
   "outputs": [],
   "source": [
    "df['msnProposedFines'] = df['msnProposedFines'].astype(float)"
   ]
  },
  {
   "cell_type": "code",
   "execution_count": 31,
   "metadata": {},
   "outputs": [],
   "source": [
    "df['msnEnforcedFines'] = df['msnEnforcedFines'].str.replace(',', '')"
   ]
  },
  {
   "cell_type": "code",
   "execution_count": 32,
   "metadata": {},
   "outputs": [],
   "source": [
    "df['msnEnforcedFines'] = df['msnEnforcedFines'].astype(float)"
   ]
  },
  {
   "cell_type": "code",
   "execution_count": 33,
   "metadata": {},
   "outputs": [
    {
     "data": {
      "text/plain": [
       "<matplotlib.axes._subplots.AxesSubplot at 0x12304a400>"
      ]
     },
     "execution_count": 33,
     "metadata": {},
     "output_type": "execute_result"
    },
    {
     "data": {
      "image/png": "[encoded data removed]",
      "text/plain": [
       "<Figure size 432x288 with 1 Axes>"
      ]
     },
     "metadata": {
      "needs_background": "light"
     },
     "output_type": "display_data"
    }
   ],
   "source": [
    "df.set_index('MissionDate')['msnProposedFines'].plot()"
   ]
  },
  {
   "cell_type": "code",
   "execution_count": 34,
   "metadata": {},
   "outputs": [
    {
     "data": {
      "text/plain": [
       "<matplotlib.axes._subplots.AxesSubplot at 0x1221f8780>"
      ]
     },
     "execution_count": 34,
     "metadata": {},
     "output_type": "execute_result"
    },
    {
     "data": {
      "image/png": "[encoded data removed]",
      "text/plain": [
       "<Figure size 432x288 with 1 Axes>"
      ]
     },
     "metadata": {
      "needs_background": "light"
     },
     "output_type": "display_data"
    }
   ],
   "source": [
    "df.set_index('MissionDate')['msnEnforcedFines'].plot()"
   ]
  },
  {
   "cell_type": "code",
   "execution_count": 37,
   "metadata": {},
   "outputs": [
    {
     "data": {
      "text/plain": [
       "42"
      ]
     },
     "execution_count": 37,
     "metadata": {},
     "output_type": "execute_result"
    }
   ],
   "source": [
    "len(df.loc[df['msnEnforcedFines'] > 0])"
   ]
  },
  {
   "cell_type": "code",
   "execution_count": 36,
   "metadata": {},
   "outputs": [],
   "source": [
    "df.loc[df['msnEnforcedFines'] > 0].to_csv('../output/enforcedfines.csv')"
   ]
  },
  {
   "cell_type": "code",
   "execution_count": null,
   "metadata": {},
   "outputs": [],
   "source": []
  }
 ],
 "metadata": {
  "kernelspec": {
   "display_name": "Python 3",
   "language": "python",
   "name": "python3"
  },
  "language_info": {
   "codemirror_mode": {
    "name": "ipython",
    "version": 3
   },
   "file_extension": ".py",
   "mimetype": "text/x-python",
   "name": "python",
   "nbconvert_exporter": "python",
   "pygments_lexer": "ipython3",
   "version": "3.7.1"
  }
 },
 "nbformat": 4,
 "nbformat_minor": 2
}
